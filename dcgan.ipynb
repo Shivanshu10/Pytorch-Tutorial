{
 "cells": [
  {
   "cell_type": "code",
   "execution_count": 1,
   "id": "c2e5a71d",
   "metadata": {
    "_cell_guid": "b1076dfc-b9ad-4769-8c92-a6c4dae69d19",
    "_uuid": "8f2839f25d086af736a60e9eeb907d3b93b6e0e5",
    "execution": {
     "iopub.execute_input": "2025-03-07T16:10:52.157453Z",
     "iopub.status.busy": "2025-03-07T16:10:52.157180Z",
     "iopub.status.idle": "2025-03-07T16:10:59.168700Z",
     "shell.execute_reply": "2025-03-07T16:10:59.167991Z"
    },
    "papermill": {
     "duration": 7.018142,
     "end_time": "2025-03-07T16:10:59.170220",
     "exception": false,
     "start_time": "2025-03-07T16:10:52.152078",
     "status": "completed"
    },
    "tags": []
   },
   "outputs": [],
   "source": [
    "import torch\n",
    "import torch.nn as nn\n",
    "import torch.nn.functional as F\n",
    "import torchvision\n",
    "from torchvision import transforms"
   ]
  },
  {
   "cell_type": "code",
   "execution_count": 2,
   "id": "6cef08d2",
   "metadata": {
    "execution": {
     "iopub.execute_input": "2025-03-07T16:10:59.178619Z",
     "iopub.status.busy": "2025-03-07T16:10:59.178239Z",
     "iopub.status.idle": "2025-03-07T16:10:59.182178Z",
     "shell.execute_reply": "2025-03-07T16:10:59.181345Z"
    },
    "papermill": {
     "duration": 0.009237,
     "end_time": "2025-03-07T16:10:59.183378",
     "exception": false,
     "start_time": "2025-03-07T16:10:59.174141",
     "status": "completed"
    },
    "tags": []
   },
   "outputs": [],
   "source": [
    "mnist_transform = transforms.Compose([\n",
    "    transforms.ToTensor(),\n",
    "    transforms.Normalize((0.5,), (0.5,))\n",
    "])"
   ]
  },
  {
   "cell_type": "code",
   "execution_count": 3,
   "id": "0c19c91c",
   "metadata": {
    "execution": {
     "iopub.execute_input": "2025-03-07T16:10:59.190989Z",
     "iopub.status.busy": "2025-03-07T16:10:59.190790Z",
     "iopub.status.idle": "2025-03-07T16:11:03.264081Z",
     "shell.execute_reply": "2025-03-07T16:11:03.262951Z"
    },
    "papermill": {
     "duration": 4.078652,
     "end_time": "2025-03-07T16:11:03.265500",
     "exception": false,
     "start_time": "2025-03-07T16:10:59.186848",
     "status": "completed"
    },
    "tags": []
   },
   "outputs": [
    {
     "name": "stdout",
     "output_type": "stream",
     "text": [
      "Downloading http://yann.lecun.com/exdb/mnist/train-images-idx3-ubyte.gz\n",
      "Failed to download (trying next):\n",
      "HTTP Error 404: Not Found\n",
      "\n",
      "Downloading https://ossci-datasets.s3.amazonaws.com/mnist/train-images-idx3-ubyte.gz\n",
      "Downloading https://ossci-datasets.s3.amazonaws.com/mnist/train-images-idx3-ubyte.gz to ./MNIST/raw/train-images-idx3-ubyte.gz\n"
     ]
    },
    {
     "name": "stderr",
     "output_type": "stream",
     "text": [
      "100%|██████████| 9.91M/9.91M [00:00<00:00, 16.1MB/s]\n"
     ]
    },
    {
     "name": "stdout",
     "output_type": "stream",
     "text": [
      "Extracting ./MNIST/raw/train-images-idx3-ubyte.gz to ./MNIST/raw\n",
      "\n",
      "Downloading http://yann.lecun.com/exdb/mnist/train-labels-idx1-ubyte.gz\n",
      "Failed to download (trying next):\n",
      "HTTP Error 404: Not Found\n",
      "\n",
      "Downloading https://ossci-datasets.s3.amazonaws.com/mnist/train-labels-idx1-ubyte.gz\n",
      "Downloading https://ossci-datasets.s3.amazonaws.com/mnist/train-labels-idx1-ubyte.gz to ./MNIST/raw/train-labels-idx1-ubyte.gz\n"
     ]
    },
    {
     "name": "stderr",
     "output_type": "stream",
     "text": [
      "100%|██████████| 28.9k/28.9k [00:00<00:00, 459kB/s]\n"
     ]
    },
    {
     "name": "stdout",
     "output_type": "stream",
     "text": [
      "Extracting ./MNIST/raw/train-labels-idx1-ubyte.gz to ./MNIST/raw\n",
      "\n",
      "Downloading http://yann.lecun.com/exdb/mnist/t10k-images-idx3-ubyte.gz\n",
      "Failed to download (trying next):\n",
      "HTTP Error 404: Not Found\n",
      "\n",
      "Downloading https://ossci-datasets.s3.amazonaws.com/mnist/t10k-images-idx3-ubyte.gz\n",
      "Downloading https://ossci-datasets.s3.amazonaws.com/mnist/t10k-images-idx3-ubyte.gz to ./MNIST/raw/t10k-images-idx3-ubyte.gz\n"
     ]
    },
    {
     "name": "stderr",
     "output_type": "stream",
     "text": [
      "100%|██████████| 1.65M/1.65M [00:00<00:00, 4.28MB/s]\n"
     ]
    },
    {
     "name": "stdout",
     "output_type": "stream",
     "text": [
      "Extracting ./MNIST/raw/t10k-images-idx3-ubyte.gz to ./MNIST/raw\n",
      "\n",
      "Downloading http://yann.lecun.com/exdb/mnist/t10k-labels-idx1-ubyte.gz\n",
      "Failed to download (trying next):\n",
      "HTTP Error 404: Not Found\n",
      "\n",
      "Downloading https://ossci-datasets.s3.amazonaws.com/mnist/t10k-labels-idx1-ubyte.gz\n",
      "Downloading https://ossci-datasets.s3.amazonaws.com/mnist/t10k-labels-idx1-ubyte.gz to ./MNIST/raw/t10k-labels-idx1-ubyte.gz\n"
     ]
    },
    {
     "name": "stderr",
     "output_type": "stream",
     "text": [
      "100%|██████████| 4.54k/4.54k [00:00<00:00, 6.22MB/s]"
     ]
    },
    {
     "name": "stdout",
     "output_type": "stream",
     "text": [
      "Extracting ./MNIST/raw/t10k-labels-idx1-ubyte.gz to ./MNIST/raw\n",
      "\n"
     ]
    },
    {
     "name": "stderr",
     "output_type": "stream",
     "text": [
      "\n"
     ]
    }
   ],
   "source": [
    "mnist_train = torchvision.datasets.MNIST(\".\", train=True, download=True, transform=mnist_transform)\n",
    "mnist_test = torchvision.datasets.MNIST(\".\", train=False, download=True, transform=mnist_transform)"
   ]
  },
  {
   "cell_type": "code",
   "execution_count": 4,
   "id": "38be3198",
   "metadata": {
    "execution": {
     "iopub.execute_input": "2025-03-07T16:11:03.276241Z",
     "iopub.status.busy": "2025-03-07T16:11:03.276005Z",
     "iopub.status.idle": "2025-03-07T16:11:03.279039Z",
     "shell.execute_reply": "2025-03-07T16:11:03.278456Z"
    },
    "papermill": {
     "duration": 0.00944,
     "end_time": "2025-03-07T16:11:03.280102",
     "exception": false,
     "start_time": "2025-03-07T16:11:03.270662",
     "status": "completed"
    },
    "tags": []
   },
   "outputs": [],
   "source": [
    "from torch.utils.data import random_split"
   ]
  },
  {
   "cell_type": "code",
   "execution_count": 5,
   "id": "85476430",
   "metadata": {
    "execution": {
     "iopub.execute_input": "2025-03-07T16:11:03.290728Z",
     "iopub.status.busy": "2025-03-07T16:11:03.290486Z",
     "iopub.status.idle": "2025-03-07T16:11:03.309914Z",
     "shell.execute_reply": "2025-03-07T16:11:03.309101Z"
    },
    "papermill": {
     "duration": 0.025978,
     "end_time": "2025-03-07T16:11:03.311154",
     "exception": false,
     "start_time": "2025-03-07T16:11:03.285176",
     "status": "completed"
    },
    "tags": []
   },
   "outputs": [],
   "source": [
    "# Define split ratios\n",
    "train_size = int(0.8 * len(mnist_train))\n",
    "val_size = int(0.2 * len(mnist_train))\n",
    "\n",
    "# Split dataset\n",
    "train_dataset, val_dataset = random_split(mnist_train, [train_size, val_size])"
   ]
  },
  {
   "cell_type": "code",
   "execution_count": 6,
   "id": "cf43a534",
   "metadata": {
    "execution": {
     "iopub.execute_input": "2025-03-07T16:11:03.322800Z",
     "iopub.status.busy": "2025-03-07T16:11:03.322543Z",
     "iopub.status.idle": "2025-03-07T16:11:03.325814Z",
     "shell.execute_reply": "2025-03-07T16:11:03.325036Z"
    },
    "papermill": {
     "duration": 0.009886,
     "end_time": "2025-03-07T16:11:03.327055",
     "exception": false,
     "start_time": "2025-03-07T16:11:03.317169",
     "status": "completed"
    },
    "tags": []
   },
   "outputs": [],
   "source": [
    "from torch.utils.data import DataLoader"
   ]
  },
  {
   "cell_type": "code",
   "execution_count": 7,
   "id": "b9c63f8e",
   "metadata": {
    "execution": {
     "iopub.execute_input": "2025-03-07T16:11:03.337693Z",
     "iopub.status.busy": "2025-03-07T16:11:03.337485Z",
     "iopub.status.idle": "2025-03-07T16:11:03.341194Z",
     "shell.execute_reply": "2025-03-07T16:11:03.340573Z"
    },
    "papermill": {
     "duration": 0.010464,
     "end_time": "2025-03-07T16:11:03.342418",
     "exception": false,
     "start_time": "2025-03-07T16:11:03.331954",
     "status": "completed"
    },
    "tags": []
   },
   "outputs": [],
   "source": [
    "batch_size = 16\n",
    "\n",
    "train_loader = DataLoader(train_dataset, batch_size=batch_size, shuffle=True)\n",
    "val_loader = DataLoader(val_dataset, batch_size=batch_size, shuffle=True)\n",
    "\n",
    "pred_loader = DataLoader(mnist_test, batch_size=batch_size, shuffle=True)"
   ]
  },
  {
   "cell_type": "code",
   "execution_count": 8,
   "id": "3271a95e",
   "metadata": {
    "execution": {
     "iopub.execute_input": "2025-03-07T16:11:03.353078Z",
     "iopub.status.busy": "2025-03-07T16:11:03.352854Z",
     "iopub.status.idle": "2025-03-07T16:11:03.429978Z",
     "shell.execute_reply": "2025-03-07T16:11:03.429241Z"
    },
    "papermill": {
     "duration": 0.083912,
     "end_time": "2025-03-07T16:11:03.431218",
     "exception": false,
     "start_time": "2025-03-07T16:11:03.347306",
     "status": "completed"
    },
    "tags": []
   },
   "outputs": [
    {
     "name": "stdout",
     "output_type": "stream",
     "text": [
      "Using device: cuda\n"
     ]
    }
   ],
   "source": [
    "device = torch.device(\"cuda\" if torch.cuda.is_available() else \"cpu\")\n",
    "print(f\"Using device: {device}\")"
   ]
  },
  {
   "cell_type": "code",
   "execution_count": 9,
   "id": "4dfefea2",
   "metadata": {
    "execution": {
     "iopub.execute_input": "2025-03-07T16:11:03.442362Z",
     "iopub.status.busy": "2025-03-07T16:11:03.442127Z",
     "iopub.status.idle": "2025-03-07T16:11:03.446083Z",
     "shell.execute_reply": "2025-03-07T16:11:03.445448Z"
    },
    "papermill": {
     "duration": 0.01064,
     "end_time": "2025-03-07T16:11:03.447137",
     "exception": false,
     "start_time": "2025-03-07T16:11:03.436497",
     "status": "completed"
    },
    "tags": []
   },
   "outputs": [],
   "source": [
    "def _weights_init(m):\n",
    "    classname = m.__class__.__name__\n",
    "    if classname.find('Conv') != -1:\n",
    "        nn.init.normal_(m.weight.data, 0.0, 0.02)\n",
    "    elif classname.find('BatchNorm') != -1:\n",
    "        nn.init.normal_(m.weight.data, 1.0, 0.02)\n",
    "        nn.init.constant_(m.bias.data, 0)"
   ]
  },
  {
   "cell_type": "code",
   "execution_count": 10,
   "id": "ab6ba8f8",
   "metadata": {
    "execution": {
     "iopub.execute_input": "2025-03-07T16:11:03.457856Z",
     "iopub.status.busy": "2025-03-07T16:11:03.457653Z",
     "iopub.status.idle": "2025-03-07T16:11:03.462657Z",
     "shell.execute_reply": "2025-03-07T16:11:03.461997Z"
    },
    "papermill": {
     "duration": 0.01156,
     "end_time": "2025-03-07T16:11:03.463753",
     "exception": false,
     "start_time": "2025-03-07T16:11:03.452193",
     "status": "completed"
    },
    "tags": []
   },
   "outputs": [],
   "source": [
    "class Generator(nn.Module):\n",
    "    def __init__(self):\n",
    "        super().__init__()\n",
    "        self.layers = nn.ModuleList([\n",
    "            nn.ConvTranspose2d(100, 1024, 3, 1, 0, bias=False),\n",
    "            nn.BatchNorm2d(1024),\n",
    "            nn.ReLU(True),\n",
    "\n",
    "            nn.ConvTranspose2d(1024, 512, 3, 2, 0, bias=False),\n",
    "            nn.BatchNorm2d(512),\n",
    "            nn.ReLU(True),\n",
    "\n",
    "            nn.ConvTranspose2d(512, 256, 4, 2, 1, bias=False),\n",
    "            nn.BatchNorm2d(256),\n",
    "            nn.ReLU(True),\n",
    "\n",
    "            nn.ConvTranspose2d(256, 1, 4, 2, 1, bias=False),\n",
    "            nn.Tanh()\n",
    "        ])\n",
    "\n",
    "        self.apply(_weights_init)\n",
    "\n",
    "    def forward(self, x):\n",
    "        x = x.unsqueeze(-1).unsqueeze(-1) # [batch_size, 100] => [batch_size, 100, 1, 1]\n",
    "        for layer in self.layers:\n",
    "            x = layer(x)\n",
    "        return x"
   ]
  },
  {
   "cell_type": "code",
   "execution_count": 11,
   "id": "5881c2b5",
   "metadata": {
    "execution": {
     "iopub.execute_input": "2025-03-07T16:11:03.474139Z",
     "iopub.status.busy": "2025-03-07T16:11:03.473942Z",
     "iopub.status.idle": "2025-03-07T16:11:03.607688Z",
     "shell.execute_reply": "2025-03-07T16:11:03.607012Z"
    },
    "papermill": {
     "duration": 0.14052,
     "end_time": "2025-03-07T16:11:03.609144",
     "exception": false,
     "start_time": "2025-03-07T16:11:03.468624",
     "status": "completed"
    },
    "tags": []
   },
   "outputs": [],
   "source": [
    "generator = Generator()"
   ]
  },
  {
   "cell_type": "code",
   "execution_count": 12,
   "id": "9ef71a03",
   "metadata": {
    "execution": {
     "iopub.execute_input": "2025-03-07T16:11:03.620237Z",
     "iopub.status.busy": "2025-03-07T16:11:03.620016Z",
     "iopub.status.idle": "2025-03-07T16:11:03.625148Z",
     "shell.execute_reply": "2025-03-07T16:11:03.624475Z"
    },
    "papermill": {
     "duration": 0.012189,
     "end_time": "2025-03-07T16:11:03.626611",
     "exception": false,
     "start_time": "2025-03-07T16:11:03.614422",
     "status": "completed"
    },
    "tags": []
   },
   "outputs": [],
   "source": [
    "class Discrimiator(nn.Module):\n",
    "    def __init__(self):\n",
    "        super().__init__()\n",
    "        self.layers = nn.ModuleList([\n",
    "            nn.Conv2d(1, 256, 4, 2, 1, bias=False),\n",
    "            nn.LeakyReLU(0.2, inplace=True),\n",
    "\n",
    "            nn.Conv2d(256, 512, 4, 2, 1, bias=False),\n",
    "            nn.BatchNorm2d(512),\n",
    "            nn.LeakyReLU(0.2, inplace=True),\n",
    "\n",
    "            nn.Conv2d(512, 1024, 3, 2, 0, bias=False),\n",
    "            nn.BatchNorm2d(1024),\n",
    "            nn.LeakyReLU(0.2, inplace=True),\n",
    "\n",
    "            nn.Conv2d(1024, 1, 3, 1, 0, bias=False),\n",
    "        ])\n",
    "\n",
    "        self.apply(_weights_init)\n",
    "\n",
    "    def forward(self, x):\n",
    "        for layer in self.layers:\n",
    "            x = layer(x)\n",
    "        return x.view(x.shape[0], -1)"
   ]
  },
  {
   "cell_type": "code",
   "execution_count": 13,
   "id": "850fd9bf",
   "metadata": {
    "execution": {
     "iopub.execute_input": "2025-03-07T16:11:03.637711Z",
     "iopub.status.busy": "2025-03-07T16:11:03.637482Z",
     "iopub.status.idle": "2025-03-07T16:11:03.744781Z",
     "shell.execute_reply": "2025-03-07T16:11:03.744078Z"
    },
    "papermill": {
     "duration": 0.114528,
     "end_time": "2025-03-07T16:11:03.746300",
     "exception": false,
     "start_time": "2025-03-07T16:11:03.631772",
     "status": "completed"
    },
    "tags": []
   },
   "outputs": [],
   "source": [
    "adv = Discrimiator()"
   ]
  },
  {
   "cell_type": "code",
   "execution_count": 14,
   "id": "885b6447",
   "metadata": {
    "execution": {
     "iopub.execute_input": "2025-03-07T16:11:03.757377Z",
     "iopub.status.busy": "2025-03-07T16:11:03.757126Z",
     "iopub.status.idle": "2025-03-07T16:11:03.760900Z",
     "shell.execute_reply": "2025-03-07T16:11:03.760268Z"
    },
    "papermill": {
     "duration": 0.010375,
     "end_time": "2025-03-07T16:11:03.762097",
     "exception": false,
     "start_time": "2025-03-07T16:11:03.751722",
     "status": "completed"
    },
    "tags": []
   },
   "outputs": [],
   "source": [
    "import torch.nn.functional as F\n",
    "\n",
    "def adversarialLoss(d_x, d_g_z, gp, lambda_gp):\n",
    "    return -d_x.mean() + d_g_z.mean() + lambda_gp * gp\n",
    "\n",
    "def generatorLoss(d_g_z):\n",
    "    return -d_g_z.mean()"
   ]
  },
  {
   "cell_type": "code",
   "execution_count": 15,
   "id": "beb7a508",
   "metadata": {
    "execution": {
     "iopub.execute_input": "2025-03-07T16:11:03.772930Z",
     "iopub.status.busy": "2025-03-07T16:11:03.772726Z",
     "iopub.status.idle": "2025-03-07T16:11:03.777238Z",
     "shell.execute_reply": "2025-03-07T16:11:03.776623Z"
    },
    "papermill": {
     "duration": 0.011261,
     "end_time": "2025-03-07T16:11:03.778406",
     "exception": false,
     "start_time": "2025-03-07T16:11:03.767145",
     "status": "completed"
    },
    "tags": []
   },
   "outputs": [],
   "source": [
    "def gradientPenalty(real_data, gen_data, adv):\n",
    "    epsilon = torch.randn((batch_size, 1, 1, 1)).repeat(1, 1, 28, 28).to(device)\n",
    "        \n",
    "    interpolated_img = epsilon * real_data + (1 - epsilon) * gen_data\n",
    "    # print(f\"gen_data: {noise}\")\n",
    "    # print(f\"gen_data.shape: {gen_data.shape}\")\n",
    "    \n",
    "    pred_interpolated_data = adv(interpolated_img)\n",
    "    # print(f\"pred_gen_data: {pred_gen_data}\")\n",
    "    # print(f\"pred_gen_data.shape: {pred_gen_data.shape}\")\n",
    "\n",
    "    # loss\n",
    "    gradient = torch.autograd.grad(\n",
    "        inputs = interpolated_img,\n",
    "        outputs = pred_interpolated_data,\n",
    "        grad_outputs = torch.ones_like(pred_interpolated_data),\n",
    "        create_graph = True,\n",
    "        retain_graph = True\n",
    "    )[0] # d(pred_interpolated_data) / d(interpolated_img)\n",
    "\n",
    "    gradient = gradient.view(gradient.shape[0], -1) # flatten with graident.shape[0] being num of examples\n",
    "    gradient_norm = gradient.norm(2, dim=1) # dim is 1 with data\n",
    "    gradient_penalty = torch.mean((gradient_norm - 1) ** 2)\n",
    "\n",
    "    return gradient_penalty"
   ]
  },
  {
   "cell_type": "code",
   "execution_count": 16,
   "id": "29674185",
   "metadata": {
    "execution": {
     "iopub.execute_input": "2025-03-07T16:11:03.789069Z",
     "iopub.status.busy": "2025-03-07T16:11:03.788872Z",
     "iopub.status.idle": "2025-03-07T16:11:03.791584Z",
     "shell.execute_reply": "2025-03-07T16:11:03.790932Z"
    },
    "papermill": {
     "duration": 0.009378,
     "end_time": "2025-03-07T16:11:03.792818",
     "exception": false,
     "start_time": "2025-03-07T16:11:03.783440",
     "status": "completed"
    },
    "tags": []
   },
   "outputs": [],
   "source": [
    "import math\n",
    "import itertools"
   ]
  },
  {
   "cell_type": "code",
   "execution_count": 17,
   "id": "0e56b8b6",
   "metadata": {
    "execution": {
     "iopub.execute_input": "2025-03-07T16:11:03.803555Z",
     "iopub.status.busy": "2025-03-07T16:11:03.803307Z",
     "iopub.status.idle": "2025-03-07T17:49:43.296716Z",
     "shell.execute_reply": "2025-03-07T17:49:43.295794Z"
    },
    "papermill": {
     "duration": 5919.512729,
     "end_time": "2025-03-07T17:49:43.310452",
     "exception": false,
     "start_time": "2025-03-07T16:11:03.797723",
     "status": "completed"
    },
    "tags": []
   },
   "outputs": [
    {
     "name": "stdout",
     "output_type": "stream",
     "text": [
      "Epoch 100/20000, Adversial Loss: -0.6698, Generator Loss: 0.0057\n",
      "Epoch 200/20000, Adversial Loss: 1.2770, Generator Loss: -0.2190\n",
      "Epoch 300/20000, Adversial Loss: -1.2626, Generator Loss: 0.2243\n",
      "Epoch 400/20000, Adversial Loss: 3.5745, Generator Loss: 0.6120\n",
      "Epoch 500/20000, Adversial Loss: -1.2486, Generator Loss: 0.1296\n",
      "Epoch 600/20000, Adversial Loss: -0.5625, Generator Loss: 0.0064\n",
      "Epoch 700/20000, Adversial Loss: -0.0942, Generator Loss: 0.0041\n",
      "Epoch 800/20000, Adversial Loss: -0.0492, Generator Loss: 0.5138\n",
      "Epoch 900/20000, Adversial Loss: -0.1870, Generator Loss: -0.1212\n",
      "Epoch 1000/20000, Adversial Loss: -0.9389, Generator Loss: 0.1844\n",
      "Epoch 1100/20000, Adversial Loss: 0.5264, Generator Loss: 0.6141\n",
      "Epoch 1200/20000, Adversial Loss: 0.1015, Generator Loss: 0.2064\n",
      "Epoch 1300/20000, Adversial Loss: -0.3514, Generator Loss: 0.4737\n",
      "Epoch 1400/20000, Adversial Loss: -1.1307, Generator Loss: -0.0754\n",
      "Epoch 1500/20000, Adversial Loss: -1.0296, Generator Loss: 0.0880\n",
      "Epoch 1600/20000, Adversial Loss: -0.7664, Generator Loss: 0.3127\n",
      "Epoch 1700/20000, Adversial Loss: -0.5959, Generator Loss: 0.2884\n",
      "Epoch 1800/20000, Adversial Loss: 1.5696, Generator Loss: 0.4103\n",
      "Epoch 1900/20000, Adversial Loss: -0.9377, Generator Loss: 0.2820\n",
      "Epoch 2000/20000, Adversial Loss: -0.5211, Generator Loss: -0.0269\n",
      "Epoch 2100/20000, Adversial Loss: -0.5732, Generator Loss: 0.2394\n",
      "Epoch 2200/20000, Adversial Loss: -0.3149, Generator Loss: 0.2220\n",
      "Epoch 2300/20000, Adversial Loss: -1.2191, Generator Loss: 0.1992\n",
      "Epoch 2400/20000, Adversial Loss: -0.7549, Generator Loss: -0.1779\n",
      "Epoch 2500/20000, Adversial Loss: -0.7937, Generator Loss: 0.2125\n",
      "Epoch 2600/20000, Adversial Loss: -1.0044, Generator Loss: 0.0253\n",
      "Epoch 2700/20000, Adversial Loss: -1.3708, Generator Loss: 0.1470\n",
      "Epoch 2800/20000, Adversial Loss: -0.8514, Generator Loss: -0.0758\n",
      "Epoch 2900/20000, Adversial Loss: -1.1190, Generator Loss: 0.2392\n",
      "Epoch 3000/20000, Adversial Loss: -1.1919, Generator Loss: -0.0468\n",
      "Epoch 3100/20000, Adversial Loss: -0.5175, Generator Loss: 0.2888\n",
      "Epoch 3200/20000, Adversial Loss: -0.8626, Generator Loss: 0.3004\n",
      "Epoch 3300/20000, Adversial Loss: 0.1300, Generator Loss: 0.4161\n",
      "Epoch 3400/20000, Adversial Loss: -1.1277, Generator Loss: 0.0445\n",
      "Epoch 3500/20000, Adversial Loss: -1.2979, Generator Loss: 0.1070\n",
      "Epoch 3600/20000, Adversial Loss: -0.3298, Generator Loss: 0.1272\n",
      "Epoch 3700/20000, Adversial Loss: -1.4106, Generator Loss: 0.3283\n",
      "Epoch 3800/20000, Adversial Loss: -0.9295, Generator Loss: 0.3707\n",
      "Epoch 3900/20000, Adversial Loss: -0.7743, Generator Loss: 0.1882\n",
      "Epoch 4000/20000, Adversial Loss: -0.9151, Generator Loss: 0.1297\n",
      "Epoch 4100/20000, Adversial Loss: 0.6740, Generator Loss: 0.1243\n",
      "Epoch 4200/20000, Adversial Loss: -0.4146, Generator Loss: 0.0969\n",
      "Epoch 4300/20000, Adversial Loss: -1.1785, Generator Loss: 0.0982\n",
      "Epoch 4400/20000, Adversial Loss: -0.3862, Generator Loss: 0.0139\n",
      "Epoch 4500/20000, Adversial Loss: -0.8893, Generator Loss: -0.0571\n",
      "Epoch 4600/20000, Adversial Loss: 4.3261, Generator Loss: 0.2315\n",
      "Epoch 4700/20000, Adversial Loss: -1.1070, Generator Loss: 0.1014\n",
      "Epoch 4800/20000, Adversial Loss: -0.8891, Generator Loss: 0.2563\n",
      "Epoch 4900/20000, Adversial Loss: -0.4949, Generator Loss: -0.0121\n",
      "Epoch 5000/20000, Adversial Loss: 2.2200, Generator Loss: -0.3454\n",
      "Epoch 5100/20000, Adversial Loss: -1.2408, Generator Loss: 0.0529\n",
      "Epoch 5200/20000, Adversial Loss: -0.1644, Generator Loss: 0.1292\n",
      "Epoch 5300/20000, Adversial Loss: -0.1450, Generator Loss: -0.2772\n",
      "Epoch 5400/20000, Adversial Loss: -0.5940, Generator Loss: 0.2054\n",
      "Epoch 5500/20000, Adversial Loss: -1.3030, Generator Loss: 0.0902\n",
      "Epoch 5600/20000, Adversial Loss: 0.0864, Generator Loss: 0.1373\n",
      "Epoch 5700/20000, Adversial Loss: -0.2255, Generator Loss: 0.0357\n",
      "Epoch 5800/20000, Adversial Loss: -0.3394, Generator Loss: -0.0214\n",
      "Epoch 5900/20000, Adversial Loss: -0.8478, Generator Loss: 0.0284\n",
      "Epoch 6000/20000, Adversial Loss: -1.0216, Generator Loss: 0.2484\n",
      "Epoch 6100/20000, Adversial Loss: 0.2833, Generator Loss: 0.2268\n",
      "Epoch 6200/20000, Adversial Loss: -0.6239, Generator Loss: 0.0507\n",
      "Epoch 6300/20000, Adversial Loss: -1.1334, Generator Loss: 0.0218\n",
      "Epoch 6400/20000, Adversial Loss: -0.8725, Generator Loss: -0.0489\n",
      "Epoch 6500/20000, Adversial Loss: -0.7584, Generator Loss: 0.0085\n",
      "Epoch 6600/20000, Adversial Loss: -0.0128, Generator Loss: -0.1415\n",
      "Epoch 6700/20000, Adversial Loss: -0.3525, Generator Loss: 0.1469\n",
      "Epoch 6800/20000, Adversial Loss: -0.4146, Generator Loss: 0.1281\n",
      "Epoch 6900/20000, Adversial Loss: 0.6741, Generator Loss: 0.4750\n",
      "Epoch 7000/20000, Adversial Loss: -0.1897, Generator Loss: 0.0383\n",
      "Epoch 7100/20000, Adversial Loss: -0.5874, Generator Loss: 0.0495\n",
      "Epoch 7200/20000, Adversial Loss: 1.0356, Generator Loss: 0.3813\n",
      "Epoch 7300/20000, Adversial Loss: -0.0241, Generator Loss: 0.0814\n",
      "Epoch 7400/20000, Adversial Loss: -1.4212, Generator Loss: 0.1170\n",
      "Epoch 7500/20000, Adversial Loss: 2.1416, Generator Loss: 0.5553\n",
      "Epoch 7600/20000, Adversial Loss: -0.8834, Generator Loss: 0.3587\n",
      "Epoch 7700/20000, Adversial Loss: -0.1436, Generator Loss: 0.0453\n",
      "Epoch 7800/20000, Adversial Loss: -1.2367, Generator Loss: -0.0565\n",
      "Epoch 7900/20000, Adversial Loss: -0.2297, Generator Loss: 0.1687\n",
      "Epoch 8000/20000, Adversial Loss: -0.9636, Generator Loss: -0.0080\n",
      "Epoch 8100/20000, Adversial Loss: -1.1023, Generator Loss: 0.0976\n",
      "Epoch 8200/20000, Adversial Loss: 0.3140, Generator Loss: 0.0945\n",
      "Epoch 8300/20000, Adversial Loss: -0.5000, Generator Loss: -0.0390\n",
      "Epoch 8400/20000, Adversial Loss: -1.2623, Generator Loss: 0.1856\n",
      "Epoch 8500/20000, Adversial Loss: -1.3274, Generator Loss: 0.0048\n",
      "Epoch 8600/20000, Adversial Loss: -0.9965, Generator Loss: -0.1231\n",
      "Epoch 8700/20000, Adversial Loss: -1.1616, Generator Loss: 0.0257\n",
      "Epoch 8800/20000, Adversial Loss: -1.1865, Generator Loss: -0.0045\n",
      "Epoch 8900/20000, Adversial Loss: -0.7899, Generator Loss: 0.0891\n",
      "Epoch 9000/20000, Adversial Loss: -0.9723, Generator Loss: 0.1091\n",
      "Epoch 9100/20000, Adversial Loss: -0.8590, Generator Loss: 0.0453\n",
      "Epoch 9200/20000, Adversial Loss: -1.1364, Generator Loss: -0.0240\n",
      "Epoch 9300/20000, Adversial Loss: -0.9302, Generator Loss: -0.0432\n",
      "Epoch 9400/20000, Adversial Loss: -1.0506, Generator Loss: 0.1235\n",
      "Epoch 9500/20000, Adversial Loss: 0.1414, Generator Loss: 0.1753\n",
      "Epoch 9600/20000, Adversial Loss: -0.9648, Generator Loss: 0.0249\n",
      "Epoch 9700/20000, Adversial Loss: -0.6265, Generator Loss: 0.0744\n",
      "Epoch 9800/20000, Adversial Loss: -1.0095, Generator Loss: 0.1030\n",
      "Epoch 9900/20000, Adversial Loss: -0.5987, Generator Loss: -0.0790\n",
      "Epoch 10000/20000, Adversial Loss: -0.3801, Generator Loss: 0.1632\n",
      "Epoch 10100/20000, Adversial Loss: 0.2570, Generator Loss: -0.2435\n",
      "Epoch 10200/20000, Adversial Loss: -0.8089, Generator Loss: 0.1112\n",
      "Epoch 10300/20000, Adversial Loss: -1.0342, Generator Loss: -0.0396\n",
      "Epoch 10400/20000, Adversial Loss: -0.9916, Generator Loss: 0.2099\n",
      "Epoch 10500/20000, Adversial Loss: -1.0076, Generator Loss: 0.1749\n",
      "Epoch 10600/20000, Adversial Loss: 1.8590, Generator Loss: 0.0862\n",
      "Epoch 10700/20000, Adversial Loss: -1.3766, Generator Loss: 0.2398\n",
      "Epoch 10800/20000, Adversial Loss: -0.7296, Generator Loss: 0.0902\n",
      "Epoch 10900/20000, Adversial Loss: -1.0490, Generator Loss: 0.1156\n",
      "Epoch 11000/20000, Adversial Loss: -1.1171, Generator Loss: -0.0124\n",
      "Epoch 11100/20000, Adversial Loss: -1.2286, Generator Loss: 0.0324\n",
      "Epoch 11200/20000, Adversial Loss: -0.9230, Generator Loss: 0.4013\n",
      "Epoch 11300/20000, Adversial Loss: -1.3045, Generator Loss: 0.2501\n",
      "Epoch 11400/20000, Adversial Loss: -0.8677, Generator Loss: 0.1777\n",
      "Epoch 11500/20000, Adversial Loss: -0.9697, Generator Loss: 0.0847\n",
      "Epoch 11600/20000, Adversial Loss: -1.1069, Generator Loss: 0.1420\n",
      "Epoch 11700/20000, Adversial Loss: -0.2549, Generator Loss: 0.0239\n",
      "Epoch 11800/20000, Adversial Loss: 0.5137, Generator Loss: 0.2383\n",
      "Epoch 11900/20000, Adversial Loss: -1.2036, Generator Loss: 0.1046\n",
      "Epoch 12000/20000, Adversial Loss: -1.4456, Generator Loss: 0.2212\n",
      "Epoch 12100/20000, Adversial Loss: -1.0696, Generator Loss: 0.2328\n",
      "Epoch 12200/20000, Adversial Loss: -0.3319, Generator Loss: 0.1924\n",
      "Epoch 12300/20000, Adversial Loss: -0.1341, Generator Loss: 0.1667\n",
      "Epoch 12400/20000, Adversial Loss: -0.6787, Generator Loss: 0.0292\n",
      "Epoch 12500/20000, Adversial Loss: -0.5672, Generator Loss: 0.1365\n",
      "Epoch 12600/20000, Adversial Loss: -0.3294, Generator Loss: -0.1835\n",
      "Epoch 12700/20000, Adversial Loss: -0.2896, Generator Loss: 0.3136\n",
      "Epoch 12800/20000, Adversial Loss: -0.9582, Generator Loss: 0.0333\n",
      "Epoch 12900/20000, Adversial Loss: -0.1073, Generator Loss: 0.3854\n",
      "Epoch 13000/20000, Adversial Loss: -1.0895, Generator Loss: 0.2965\n",
      "Epoch 13100/20000, Adversial Loss: -1.2351, Generator Loss: 0.1921\n",
      "Epoch 13200/20000, Adversial Loss: 0.8032, Generator Loss: 0.1552\n",
      "Epoch 13300/20000, Adversial Loss: 0.3408, Generator Loss: 0.0591\n",
      "Epoch 13400/20000, Adversial Loss: -1.3079, Generator Loss: 0.1274\n",
      "Epoch 13500/20000, Adversial Loss: -1.3425, Generator Loss: 0.1880\n",
      "Epoch 13600/20000, Adversial Loss: -0.8523, Generator Loss: 0.4665\n",
      "Epoch 13700/20000, Adversial Loss: -1.2482, Generator Loss: 0.1596\n",
      "Epoch 13800/20000, Adversial Loss: -1.1167, Generator Loss: 0.1820\n",
      "Epoch 13900/20000, Adversial Loss: -1.1091, Generator Loss: 0.2396\n",
      "Epoch 14000/20000, Adversial Loss: -0.7674, Generator Loss: 0.0808\n",
      "Epoch 14100/20000, Adversial Loss: -1.2566, Generator Loss: 0.2314\n",
      "Epoch 14200/20000, Adversial Loss: -1.2941, Generator Loss: 0.1770\n",
      "Epoch 14300/20000, Adversial Loss: -0.9676, Generator Loss: 0.1904\n",
      "Epoch 14400/20000, Adversial Loss: -1.4579, Generator Loss: 0.1773\n",
      "Epoch 14500/20000, Adversial Loss: -0.9494, Generator Loss: 0.2719\n",
      "Epoch 14600/20000, Adversial Loss: -0.7781, Generator Loss: 0.1581\n",
      "Epoch 14700/20000, Adversial Loss: -1.3268, Generator Loss: 0.0597\n",
      "Epoch 14800/20000, Adversial Loss: -1.3878, Generator Loss: 0.0747\n",
      "Epoch 14900/20000, Adversial Loss: -1.3114, Generator Loss: 0.1801\n",
      "Epoch 15000/20000, Adversial Loss: -0.9652, Generator Loss: 0.1564\n",
      "Epoch 15100/20000, Adversial Loss: 0.1515, Generator Loss: 0.0652\n",
      "Epoch 15200/20000, Adversial Loss: -0.8705, Generator Loss: -0.0857\n",
      "Epoch 15300/20000, Adversial Loss: -0.6500, Generator Loss: 0.0921\n",
      "Epoch 15400/20000, Adversial Loss: -1.0142, Generator Loss: 0.1492\n",
      "Epoch 15500/20000, Adversial Loss: -1.2886, Generator Loss: 0.0924\n",
      "Epoch 15600/20000, Adversial Loss: -1.0406, Generator Loss: 0.0719\n",
      "Epoch 15700/20000, Adversial Loss: -0.0912, Generator Loss: 0.0904\n",
      "Epoch 15800/20000, Adversial Loss: -1.0244, Generator Loss: 0.2116\n",
      "Epoch 15900/20000, Adversial Loss: -0.2534, Generator Loss: 0.2684\n",
      "Epoch 16000/20000, Adversial Loss: -1.3836, Generator Loss: 0.2252\n",
      "Epoch 16100/20000, Adversial Loss: 1.3156, Generator Loss: 0.4650\n",
      "Epoch 16200/20000, Adversial Loss: -0.8900, Generator Loss: -0.0037\n",
      "Epoch 16300/20000, Adversial Loss: -1.1604, Generator Loss: 0.1952\n",
      "Epoch 16400/20000, Adversial Loss: -1.0955, Generator Loss: 0.0768\n",
      "Epoch 16500/20000, Adversial Loss: -0.9334, Generator Loss: 0.0367\n",
      "Epoch 16600/20000, Adversial Loss: 1.3360, Generator Loss: 0.2171\n",
      "Epoch 16700/20000, Adversial Loss: -0.7189, Generator Loss: 0.2975\n",
      "Epoch 16800/20000, Adversial Loss: -0.8332, Generator Loss: 0.3657\n",
      "Epoch 16900/20000, Adversial Loss: -1.2015, Generator Loss: 0.2723\n",
      "Epoch 17000/20000, Adversial Loss: -0.1054, Generator Loss: 0.1199\n",
      "Epoch 17100/20000, Adversial Loss: -0.3363, Generator Loss: 0.2731\n",
      "Epoch 17200/20000, Adversial Loss: -1.2248, Generator Loss: 0.2019\n",
      "Epoch 17300/20000, Adversial Loss: -0.5438, Generator Loss: 0.0760\n",
      "Epoch 17400/20000, Adversial Loss: -0.9141, Generator Loss: 0.2296\n",
      "Epoch 17500/20000, Adversial Loss: 0.1023, Generator Loss: 0.5561\n",
      "Epoch 17600/20000, Adversial Loss: -0.7876, Generator Loss: 0.0502\n",
      "Epoch 17700/20000, Adversial Loss: -0.9373, Generator Loss: 0.2308\n",
      "Epoch 17800/20000, Adversial Loss: 0.1795, Generator Loss: 0.3036\n",
      "Epoch 17900/20000, Adversial Loss: -1.0519, Generator Loss: 0.1284\n",
      "Epoch 18000/20000, Adversial Loss: 1.3850, Generator Loss: 0.2112\n",
      "Epoch 18100/20000, Adversial Loss: -0.1768, Generator Loss: 0.1310\n",
      "Epoch 18200/20000, Adversial Loss: 1.6825, Generator Loss: 0.0497\n",
      "Epoch 18300/20000, Adversial Loss: -1.3254, Generator Loss: 0.1189\n",
      "Epoch 18400/20000, Adversial Loss: 0.6172, Generator Loss: 0.0863\n",
      "Epoch 18500/20000, Adversial Loss: 2.0264, Generator Loss: 0.1077\n",
      "Epoch 18600/20000, Adversial Loss: -1.1349, Generator Loss: 0.0941\n",
      "Epoch 18700/20000, Adversial Loss: -1.1532, Generator Loss: 0.2888\n",
      "Epoch 18800/20000, Adversial Loss: -0.8241, Generator Loss: 0.1559\n",
      "Epoch 18900/20000, Adversial Loss: -1.3857, Generator Loss: 0.2478\n",
      "Epoch 19000/20000, Adversial Loss: -0.8401, Generator Loss: 0.0909\n",
      "Epoch 19100/20000, Adversial Loss: -1.4043, Generator Loss: 0.1069\n",
      "Epoch 19200/20000, Adversial Loss: -1.1026, Generator Loss: 0.1744\n",
      "Epoch 19300/20000, Adversial Loss: -1.1147, Generator Loss: 0.2197\n",
      "Epoch 19400/20000, Adversial Loss: -0.8660, Generator Loss: 0.1085\n",
      "Epoch 19500/20000, Adversial Loss: -1.0211, Generator Loss: 0.0374\n",
      "Epoch 19600/20000, Adversial Loss: -1.2130, Generator Loss: -0.0685\n",
      "Epoch 19700/20000, Adversial Loss: -1.2920, Generator Loss: 0.0430\n",
      "Epoch 19800/20000, Adversial Loss: 0.5232, Generator Loss: 0.0640\n",
      "Epoch 19900/20000, Adversial Loss: -0.9397, Generator Loss: 0.1485\n",
      "Epoch 20000/20000, Adversial Loss: -0.8634, Generator Loss: 0.0564\n"
     ]
    }
   ],
   "source": [
    "learning_rate = 2e-4\n",
    "k = 5\n",
    "c = 0.01\n",
    "lambda_gp = 10\n",
    "\n",
    "# less epoch as can easily overfit\n",
    "num_epoch = 20000\n",
    "\n",
    "lossi_gen = []\n",
    "lossi_adv = []\n",
    "\n",
    "total_samples = len(train_loader)\n",
    "\n",
    "advOptimizer = torch.optim.AdamW(adv.parameters(), lr=learning_rate, betas=(0.5, 0.999))\n",
    "generatorOptimizer = torch.optim.AdamW(generator.parameters(), lr=learning_rate, betas=(0.5, 0.999))\n",
    "\n",
    "generator = generator.to(device)\n",
    "adv = adv.to(device)\n",
    "\n",
    "train_loader_iter_adv_training = itertools.cycle(iter(train_loader))\n",
    "\n",
    "for epoch in range(num_epoch):\n",
    "    adv.train()\n",
    "    generator.eval()\n",
    "    \n",
    "    for _ in range(k):\n",
    "        advOptimizer.zero_grad()\n",
    "        \n",
    "        feature, _ = next(train_loader_iter_adv_training)\n",
    "        feature = feature.to(device)\n",
    "        # print(f\"feature: {feature}\")\n",
    "        # print(f\"feature.shape: {feature.shape}\")\n",
    "\n",
    "        pred_data = adv(feature)\n",
    "        # print(f\"pred_data: {pred_data}\")\n",
    "        # print(f\"pred_data.shape: {pred_data.shape}\")\n",
    "\n",
    "        noise = torch.randn(batch_size, 100)\n",
    "        noise = noise.to(device)\n",
    "        # print(f\"noise: {noise}\")\n",
    "        # print(f\"noise.shape: {noise.shape}\")\n",
    "    \n",
    "        gen_data = generator(noise)\n",
    "        # print(f\"gen_data: {noise}\")\n",
    "        # print(f\"gen_data.shape: {gen_data.shape}\")\n",
    "        \n",
    "        pred_gen_data = adv(gen_data)\n",
    "        # print(f\"pred_gen_data: {pred_gen_data}\")\n",
    "        # print(f\"pred_gen_data.shape: {pred_gen_data.shape}\")\n",
    "\n",
    "        # loss\n",
    "        gp = gradientPenalty(feature, gen_data, adv)\n",
    "        advLoss = adversarialLoss(pred_data, pred_gen_data, gp, lambda_gp)\n",
    "\n",
    "        advLoss.backward()\n",
    "        advOptimizer.step()\n",
    "\n",
    "        for p in adv.parameters():\n",
    "            p.data.clamp_(-c, c)\n",
    "\n",
    "        lossi_adv.append(advLoss.detach().cpu())\n",
    "\n",
    "        # raise Exception(\"Error\")\n",
    "\n",
    "    generatorOptimizer.zero_grad()\n",
    "\n",
    "    adv.eval()\n",
    "    generator.train()\n",
    "\n",
    "    noise = torch.randn(batch_size, 100)\n",
    "    noise = noise.to(device)\n",
    "    # print(f\"noise: {noise}\")\n",
    "    # print(f\"noise.shape: {noise.shape}\")\n",
    "\n",
    "    gen_data = generator(noise)\n",
    "    # print(f\"gen_data: {noise}\")\n",
    "    # print(f\"gen_data.shape: {gen_data.shape}\")\n",
    "\n",
    "    pred_gen_data = adv(gen_data)\n",
    "    # print(f\"pred_gen_data: {pred_gen_data}\")\n",
    "    # print(f\"pred_gen_data.shape: {pred_gen_data.shape}\")\n",
    "    \n",
    "    # loss\n",
    "    genLoss = generatorLoss(pred_gen_data)\n",
    "\n",
    "    genLoss.backward()\n",
    "    generatorOptimizer.step()\n",
    "\n",
    "    lossi_gen.append(genLoss.detach().cpu())\n",
    "\n",
    "    if ((epoch+1)%100==0):\n",
    "        print(f\"Epoch {epoch+1}/{num_epoch}, Adversial Loss: {advLoss.item():.4f}, Generator Loss: {genLoss.item():.4f}\")"
   ]
  },
  {
   "cell_type": "code",
   "execution_count": 18,
   "id": "19c393b6",
   "metadata": {
    "execution": {
     "iopub.execute_input": "2025-03-07T17:49:43.338352Z",
     "iopub.status.busy": "2025-03-07T17:49:43.338110Z",
     "iopub.status.idle": "2025-03-07T17:49:43.341219Z",
     "shell.execute_reply": "2025-03-07T17:49:43.340668Z"
    },
    "papermill": {
     "duration": 0.018607,
     "end_time": "2025-03-07T17:49:43.342448",
     "exception": false,
     "start_time": "2025-03-07T17:49:43.323841",
     "status": "completed"
    },
    "tags": []
   },
   "outputs": [],
   "source": [
    "import matplotlib.pyplot as plt"
   ]
  },
  {
   "cell_type": "code",
   "execution_count": 19,
   "id": "d863fa76",
   "metadata": {
    "execution": {
     "iopub.execute_input": "2025-03-07T17:49:43.369859Z",
     "iopub.status.busy": "2025-03-07T17:49:43.369656Z",
     "iopub.status.idle": "2025-03-07T17:49:44.604536Z",
     "shell.execute_reply": "2025-03-07T17:49:44.603623Z"
    },
    "papermill": {
     "duration": 1.250194,
     "end_time": "2025-03-07T17:49:44.606006",
     "exception": false,
     "start_time": "2025-03-07T17:49:43.355812",
     "status": "completed"
    },
    "tags": []
   },
   "outputs": [
    {
     "data": {
      "text/plain": [
       "[<matplotlib.lines.Line2D at 0x7fc9f8891cf0>]"
      ]
     },
     "execution_count": 19,
     "metadata": {},
     "output_type": "execute_result"
    },
    {
     "data": {
      "image/png": "[encoded data removed]",
      "text/plain": [
       "<Figure size 640x480 with 1 Axes>"
      ]
     },
     "metadata": {},
     "output_type": "display_data"
    }
   ],
   "source": [
    "plt.plot(lossi_adv, c=\"red\")\n",
    "plt.plot(lossi_gen, c=\"blue\")"
   ]
  },
  {
   "cell_type": "code",
   "execution_count": 20,
   "id": "470a9252",
   "metadata": {
    "execution": {
     "iopub.execute_input": "2025-03-07T17:49:44.635029Z",
     "iopub.status.busy": "2025-03-07T17:49:44.634792Z",
     "iopub.status.idle": "2025-03-07T17:49:44.784975Z",
     "shell.execute_reply": "2025-03-07T17:49:44.784164Z"
    },
    "papermill": {
     "duration": 0.165885,
     "end_time": "2025-03-07T17:49:44.786212",
     "exception": false,
     "start_time": "2025-03-07T17:49:44.620327",
     "status": "completed"
    },
    "tags": []
   },
   "outputs": [
    {
     "name": "stdout",
     "output_type": "stream",
     "text": [
      "torch.Size([1, 1, 28, 28])\n"
     ]
    },
    {
     "data": {
      "image/png": "[encoded data removed]",
      "text/plain": [
       "<Figure size 640x480 with 1 Axes>"
      ]
     },
     "metadata": {},
     "output_type": "display_data"
    }
   ],
   "source": [
    "generator.eval()\n",
    "\n",
    "with torch.no_grad():\n",
    "    noise = torch.randn(1,100)\n",
    "    noise = noise.to(device)\n",
    "    \n",
    "    gen_img = generator(noise)\n",
    "    print(gen_img.shape)\n",
    "    img = gen_img.view(1, 28, 28)\n",
    "    \n",
    "    plt.imshow(img.squeeze().cpu(), cmap=\"gray\")\n",
    "    plt.show()"
   ]
  },
  {
   "cell_type": "code",
   "execution_count": null,
   "id": "743679ff",
   "metadata": {
    "papermill": {
     "duration": 0.014,
     "end_time": "2025-03-07T17:49:44.814624",
     "exception": false,
     "start_time": "2025-03-07T17:49:44.800624",
     "status": "completed"
    },
    "tags": []
   },
   "outputs": [],
   "source": []
  }
 ],
 "metadata": {
  "kaggle": {
   "accelerator": "nvidiaTeslaT4",
   "dataSources": [],
   "dockerImageVersionId": 30918,
   "isGpuEnabled": true,
   "isInternetEnabled": true,
   "language": "python",
   "sourceType": "notebook"
  },
  "kernelspec": {
   "display_name": "Python 3",
   "language": "python",
   "name": "python3"
  },
  "language_info": {
   "codemirror_mode": {
    "name": "ipython",
    "version": 3
   },
   "file_extension": ".py",
   "mimetype": "text/x-python",
   "name": "python",
   "nbconvert_exporter": "python",
   "pygments_lexer": "ipython3",
   "version": "3.10.12"
  },
  "papermill": {
   "default_parameters": {},
   "duration": 5936.940278,
   "end_time": "2025-03-07T17:49:46.455370",
   "environment_variables": {},
   "exception": null,
   "input_path": "__notebook__.ipynb",
   "output_path": "__notebook__.ipynb",
   "parameters": {},
   "start_time": "2025-03-07T16:10:49.515092",
   "version": "2.6.0"
  }
 },
 "nbformat": 4,
 "nbformat_minor": 5
}
