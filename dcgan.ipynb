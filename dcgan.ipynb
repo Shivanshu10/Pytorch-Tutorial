{
 "cells": [
  {
   "cell_type": "code",
   "execution_count": 1,
   "id": "ec1a960f",
   "metadata": {
    "_cell_guid": "b1076dfc-b9ad-4769-8c92-a6c4dae69d19",
    "_uuid": "8f2839f25d086af736a60e9eeb907d3b93b6e0e5",
    "execution": {
     "iopub.execute_input": "2025-03-07T21:37:15.494584Z",
     "iopub.status.busy": "2025-03-07T21:37:15.494357Z",
     "iopub.status.idle": "2025-03-07T21:37:25.333109Z",
     "shell.execute_reply": "2025-03-07T21:37:25.332387Z"
    },
    "papermill": {
     "duration": 9.845352,
     "end_time": "2025-03-07T21:37:25.334673",
     "exception": false,
     "start_time": "2025-03-07T21:37:15.489321",
     "status": "completed"
    },
    "tags": []
   },
   "outputs": [],
   "source": [
    "import torch\n",
    "import torch.nn as nn\n",
    "import torch.nn.functional as F\n",
    "import torchvision\n",
    "from torchvision import transforms"
   ]
  },
  {
   "cell_type": "code",
   "execution_count": 2,
   "id": "734cc5a5",
   "metadata": {
    "execution": {
     "iopub.execute_input": "2025-03-07T21:37:25.343428Z",
     "iopub.status.busy": "2025-03-07T21:37:25.343103Z",
     "iopub.status.idle": "2025-03-07T21:37:25.346682Z",
     "shell.execute_reply": "2025-03-07T21:37:25.345921Z"
    },
    "papermill": {
     "duration": 0.009215,
     "end_time": "2025-03-07T21:37:25.347929",
     "exception": false,
     "start_time": "2025-03-07T21:37:25.338714",
     "status": "completed"
    },
    "tags": []
   },
   "outputs": [],
   "source": [
    "mnist_transform = transforms.Compose([\n",
    "    transforms.ToTensor(),\n",
    "    transforms.Normalize((0.5,), (0.5,))\n",
    "])"
   ]
  },
  {
   "cell_type": "code",
   "execution_count": 3,
   "id": "ac75998a",
   "metadata": {
    "execution": {
     "iopub.execute_input": "2025-03-07T21:37:25.355537Z",
     "iopub.status.busy": "2025-03-07T21:37:25.355328Z",
     "iopub.status.idle": "2025-03-07T21:37:27.593680Z",
     "shell.execute_reply": "2025-03-07T21:37:27.592726Z"
    },
    "papermill": {
     "duration": 2.243761,
     "end_time": "2025-03-07T21:37:27.595115",
     "exception": false,
     "start_time": "2025-03-07T21:37:25.351354",
     "status": "completed"
    },
    "tags": []
   },
   "outputs": [
    {
     "name": "stdout",
     "output_type": "stream",
     "text": [
      "Downloading http://yann.lecun.com/exdb/mnist/train-images-idx3-ubyte.gz\n",
      "Failed to download (trying next):\n",
      "HTTP Error 404: Not Found\n",
      "\n",
      "Downloading https://ossci-datasets.s3.amazonaws.com/mnist/train-images-idx3-ubyte.gz\n",
      "Downloading https://ossci-datasets.s3.amazonaws.com/mnist/train-images-idx3-ubyte.gz to ./MNIST/raw/train-images-idx3-ubyte.gz\n"
     ]
    },
    {
     "name": "stderr",
     "output_type": "stream",
     "text": [
      "100%|██████████| 9.91M/9.91M [00:00<00:00, 42.5MB/s]\n"
     ]
    },
    {
     "name": "stdout",
     "output_type": "stream",
     "text": [
      "Extracting ./MNIST/raw/train-images-idx3-ubyte.gz to ./MNIST/raw\n",
      "\n",
      "Downloading http://yann.lecun.com/exdb/mnist/train-labels-idx1-ubyte.gz\n",
      "Failed to download (trying next):\n",
      "HTTP Error 404: Not Found\n",
      "\n",
      "Downloading https://ossci-datasets.s3.amazonaws.com/mnist/train-labels-idx1-ubyte.gz\n",
      "Downloading https://ossci-datasets.s3.amazonaws.com/mnist/train-labels-idx1-ubyte.gz to ./MNIST/raw/train-labels-idx1-ubyte.gz\n"
     ]
    },
    {
     "name": "stderr",
     "output_type": "stream",
     "text": [
      "100%|██████████| 28.9k/28.9k [00:00<00:00, 1.17MB/s]\n"
     ]
    },
    {
     "name": "stdout",
     "output_type": "stream",
     "text": [
      "Extracting ./MNIST/raw/train-labels-idx1-ubyte.gz to ./MNIST/raw\n",
      "\n",
      "Downloading http://yann.lecun.com/exdb/mnist/t10k-images-idx3-ubyte.gz\n",
      "Failed to download (trying next):\n",
      "HTTP Error 404: Not Found\n",
      "\n",
      "Downloading https://ossci-datasets.s3.amazonaws.com/mnist/t10k-images-idx3-ubyte.gz\n",
      "Downloading https://ossci-datasets.s3.amazonaws.com/mnist/t10k-images-idx3-ubyte.gz to ./MNIST/raw/t10k-images-idx3-ubyte.gz\n"
     ]
    },
    {
     "name": "stderr",
     "output_type": "stream",
     "text": [
      "100%|██████████| 1.65M/1.65M [00:00<00:00, 10.9MB/s]\n"
     ]
    },
    {
     "name": "stdout",
     "output_type": "stream",
     "text": [
      "Extracting ./MNIST/raw/t10k-images-idx3-ubyte.gz to ./MNIST/raw\n",
      "\n",
      "Downloading http://yann.lecun.com/exdb/mnist/t10k-labels-idx1-ubyte.gz\n",
      "Failed to download (trying next):\n",
      "HTTP Error 404: Not Found\n",
      "\n",
      "Downloading https://ossci-datasets.s3.amazonaws.com/mnist/t10k-labels-idx1-ubyte.gz\n",
      "Downloading https://ossci-datasets.s3.amazonaws.com/mnist/t10k-labels-idx1-ubyte.gz to ./MNIST/raw/t10k-labels-idx1-ubyte.gz\n"
     ]
    },
    {
     "name": "stderr",
     "output_type": "stream",
     "text": [
      "100%|██████████| 4.54k/4.54k [00:00<00:00, 6.71MB/s]"
     ]
    },
    {
     "name": "stdout",
     "output_type": "stream",
     "text": [
      "Extracting ./MNIST/raw/t10k-labels-idx1-ubyte.gz to ./MNIST/raw\n",
      "\n"
     ]
    },
    {
     "name": "stderr",
     "output_type": "stream",
     "text": [
      "\n"
     ]
    }
   ],
   "source": [
    "mnist_train = torchvision.datasets.MNIST(\".\", train=True, download=True, transform=mnist_transform)\n",
    "mnist_test = torchvision.datasets.MNIST(\".\", train=False, download=True, transform=mnist_transform)"
   ]
  },
  {
   "cell_type": "code",
   "execution_count": 4,
   "id": "7872e752",
   "metadata": {
    "execution": {
     "iopub.execute_input": "2025-03-07T21:37:27.605613Z",
     "iopub.status.busy": "2025-03-07T21:37:27.605377Z",
     "iopub.status.idle": "2025-03-07T21:37:27.608671Z",
     "shell.execute_reply": "2025-03-07T21:37:27.608046Z"
    },
    "papermill": {
     "duration": 0.009673,
     "end_time": "2025-03-07T21:37:27.609822",
     "exception": false,
     "start_time": "2025-03-07T21:37:27.600149",
     "status": "completed"
    },
    "tags": []
   },
   "outputs": [],
   "source": [
    "from torch.utils.data import random_split"
   ]
  },
  {
   "cell_type": "code",
   "execution_count": 5,
   "id": "67bbd0e8",
   "metadata": {
    "execution": {
     "iopub.execute_input": "2025-03-07T21:37:27.620131Z",
     "iopub.status.busy": "2025-03-07T21:37:27.619912Z",
     "iopub.status.idle": "2025-03-07T21:37:27.649136Z",
     "shell.execute_reply": "2025-03-07T21:37:27.648508Z"
    },
    "papermill": {
     "duration": 0.035744,
     "end_time": "2025-03-07T21:37:27.650403",
     "exception": false,
     "start_time": "2025-03-07T21:37:27.614659",
     "status": "completed"
    },
    "tags": []
   },
   "outputs": [],
   "source": [
    "# Define split ratios\n",
    "train_size = int(0.8 * len(mnist_train))\n",
    "val_size = int(0.2 * len(mnist_train))\n",
    "\n",
    "# Split dataset\n",
    "train_dataset, val_dataset = random_split(mnist_train, [train_size, val_size])"
   ]
  },
  {
   "cell_type": "code",
   "execution_count": 6,
   "id": "d40aad50",
   "metadata": {
    "execution": {
     "iopub.execute_input": "2025-03-07T21:37:27.660488Z",
     "iopub.status.busy": "2025-03-07T21:37:27.660248Z",
     "iopub.status.idle": "2025-03-07T21:37:27.663565Z",
     "shell.execute_reply": "2025-03-07T21:37:27.662741Z"
    },
    "papermill": {
     "duration": 0.009752,
     "end_time": "2025-03-07T21:37:27.664945",
     "exception": false,
     "start_time": "2025-03-07T21:37:27.655193",
     "status": "completed"
    },
    "tags": []
   },
   "outputs": [],
   "source": [
    "from torch.utils.data import DataLoader"
   ]
  },
  {
   "cell_type": "code",
   "execution_count": 7,
   "id": "847ba7cc",
   "metadata": {
    "execution": {
     "iopub.execute_input": "2025-03-07T21:37:27.674921Z",
     "iopub.status.busy": "2025-03-07T21:37:27.674667Z",
     "iopub.status.idle": "2025-03-07T21:37:27.678597Z",
     "shell.execute_reply": "2025-03-07T21:37:27.677785Z"
    },
    "papermill": {
     "duration": 0.010164,
     "end_time": "2025-03-07T21:37:27.679757",
     "exception": false,
     "start_time": "2025-03-07T21:37:27.669593",
     "status": "completed"
    },
    "tags": []
   },
   "outputs": [],
   "source": [
    "batch_size = 16\n",
    "\n",
    "train_loader = DataLoader(train_dataset, batch_size=batch_size, shuffle=True)\n",
    "val_loader = DataLoader(val_dataset, batch_size=batch_size, shuffle=True)\n",
    "\n",
    "pred_loader = DataLoader(mnist_test, batch_size=batch_size, shuffle=True)"
   ]
  },
  {
   "cell_type": "code",
   "execution_count": 8,
   "id": "2f966813",
   "metadata": {
    "execution": {
     "iopub.execute_input": "2025-03-07T21:37:27.689770Z",
     "iopub.status.busy": "2025-03-07T21:37:27.689569Z",
     "iopub.status.idle": "2025-03-07T21:37:27.774033Z",
     "shell.execute_reply": "2025-03-07T21:37:27.773269Z"
    },
    "papermill": {
     "duration": 0.091058,
     "end_time": "2025-03-07T21:37:27.775400",
     "exception": false,
     "start_time": "2025-03-07T21:37:27.684342",
     "status": "completed"
    },
    "tags": []
   },
   "outputs": [
    {
     "name": "stdout",
     "output_type": "stream",
     "text": [
      "Using device: cuda\n"
     ]
    }
   ],
   "source": [
    "device = torch.device(\"cuda\" if torch.cuda.is_available() else \"cpu\")\n",
    "print(f\"Using device: {device}\")"
   ]
  },
  {
   "cell_type": "code",
   "execution_count": 9,
   "id": "9c034ab7",
   "metadata": {
    "execution": {
     "iopub.execute_input": "2025-03-07T21:37:27.785815Z",
     "iopub.status.busy": "2025-03-07T21:37:27.785572Z",
     "iopub.status.idle": "2025-03-07T21:37:27.789685Z",
     "shell.execute_reply": "2025-03-07T21:37:27.788885Z"
    },
    "papermill": {
     "duration": 0.01069,
     "end_time": "2025-03-07T21:37:27.790994",
     "exception": false,
     "start_time": "2025-03-07T21:37:27.780304",
     "status": "completed"
    },
    "tags": []
   },
   "outputs": [],
   "source": [
    "def _weights_init(m):\n",
    "    classname = m.__class__.__name__\n",
    "    if classname.find('Conv') != -1:\n",
    "        nn.init.normal_(m.weight.data, 0.0, 0.02)\n",
    "    elif classname.find('BatchNorm') != -1:\n",
    "        nn.init.normal_(m.weight.data, 1.0, 0.02)\n",
    "        nn.init.constant_(m.bias.data, 0)"
   ]
  },
  {
   "cell_type": "code",
   "execution_count": 10,
   "id": "8fae288c",
   "metadata": {
    "execution": {
     "iopub.execute_input": "2025-03-07T21:37:27.801174Z",
     "iopub.status.busy": "2025-03-07T21:37:27.800931Z",
     "iopub.status.idle": "2025-03-07T21:37:27.806145Z",
     "shell.execute_reply": "2025-03-07T21:37:27.805347Z"
    },
    "papermill": {
     "duration": 0.011509,
     "end_time": "2025-03-07T21:37:27.807470",
     "exception": false,
     "start_time": "2025-03-07T21:37:27.795961",
     "status": "completed"
    },
    "tags": []
   },
   "outputs": [],
   "source": [
    "class Generator(nn.Module):\n",
    "    def __init__(self):\n",
    "        super().__init__()\n",
    "        self.layers = nn.ModuleList([\n",
    "            nn.ConvTranspose2d(100, 1024, 3, 1, 0, bias=False),\n",
    "            nn.BatchNorm2d(1024),\n",
    "            nn.ReLU(True),\n",
    "\n",
    "            nn.ConvTranspose2d(1024, 512, 3, 2, 0, bias=False),\n",
    "            nn.BatchNorm2d(512),\n",
    "            nn.ReLU(True),\n",
    "\n",
    "            nn.ConvTranspose2d(512, 256, 4, 2, 1, bias=False),\n",
    "            nn.BatchNorm2d(256),\n",
    "            nn.ReLU(True),\n",
    "\n",
    "            nn.ConvTranspose2d(256, 1, 4, 2, 1, bias=False),\n",
    "            nn.Tanh()\n",
    "        ])\n",
    "\n",
    "        self.apply(_weights_init)\n",
    "\n",
    "    def forward(self, x):\n",
    "        x = x.unsqueeze(-1).unsqueeze(-1) # [batch_size, 100] => [batch_size, 100, 1, 1]\n",
    "        for layer in self.layers:\n",
    "            x = layer(x)\n",
    "        return x"
   ]
  },
  {
   "cell_type": "code",
   "execution_count": 11,
   "id": "1f621b42",
   "metadata": {
    "execution": {
     "iopub.execute_input": "2025-03-07T21:37:27.817446Z",
     "iopub.status.busy": "2025-03-07T21:37:27.817220Z",
     "iopub.status.idle": "2025-03-07T21:37:27.961217Z",
     "shell.execute_reply": "2025-03-07T21:37:27.960223Z"
    },
    "papermill": {
     "duration": 0.151006,
     "end_time": "2025-03-07T21:37:27.963032",
     "exception": false,
     "start_time": "2025-03-07T21:37:27.812026",
     "status": "completed"
    },
    "tags": []
   },
   "outputs": [],
   "source": [
    "generator = Generator()"
   ]
  },
  {
   "cell_type": "code",
   "execution_count": 12,
   "id": "de891e20",
   "metadata": {
    "execution": {
     "iopub.execute_input": "2025-03-07T21:37:27.974078Z",
     "iopub.status.busy": "2025-03-07T21:37:27.973790Z",
     "iopub.status.idle": "2025-03-07T21:37:27.979169Z",
     "shell.execute_reply": "2025-03-07T21:37:27.978468Z"
    },
    "papermill": {
     "duration": 0.012186,
     "end_time": "2025-03-07T21:37:27.980423",
     "exception": false,
     "start_time": "2025-03-07T21:37:27.968237",
     "status": "completed"
    },
    "tags": []
   },
   "outputs": [],
   "source": [
    "class Discrimiator(nn.Module):\n",
    "    def __init__(self):\n",
    "        super().__init__()\n",
    "        self.layers = nn.ModuleList([\n",
    "            nn.Conv2d(1, 256, 4, 2, 1, bias=False),\n",
    "            nn.LeakyReLU(0.2, inplace=True),\n",
    "\n",
    "            nn.Conv2d(256, 512, 4, 2, 1, bias=False),\n",
    "            nn.BatchNorm2d(512),\n",
    "            nn.LeakyReLU(0.2, inplace=True),\n",
    "\n",
    "            nn.Conv2d(512, 1024, 3, 2, 0, bias=False),\n",
    "            nn.BatchNorm2d(1024),\n",
    "            nn.LeakyReLU(0.2, inplace=True),\n",
    "\n",
    "            nn.Conv2d(1024, 1, 3, 1, 0, bias=False),\n",
    "        ])\n",
    "\n",
    "        self.apply(_weights_init)\n",
    "\n",
    "    def forward(self, x):\n",
    "        for layer in self.layers:\n",
    "            x = layer(x)\n",
    "        return x.view(x.shape[0], -1)"
   ]
  },
  {
   "cell_type": "code",
   "execution_count": 13,
   "id": "0c96da38",
   "metadata": {
    "execution": {
     "iopub.execute_input": "2025-03-07T21:37:27.990528Z",
     "iopub.status.busy": "2025-03-07T21:37:27.990331Z",
     "iopub.status.idle": "2025-03-07T21:37:28.091726Z",
     "shell.execute_reply": "2025-03-07T21:37:28.091120Z"
    },
    "papermill": {
     "duration": 0.10785,
     "end_time": "2025-03-07T21:37:28.093059",
     "exception": false,
     "start_time": "2025-03-07T21:37:27.985209",
     "status": "completed"
    },
    "tags": []
   },
   "outputs": [],
   "source": [
    "adv = Discrimiator()"
   ]
  },
  {
   "cell_type": "code",
   "execution_count": 14,
   "id": "39048f43",
   "metadata": {
    "execution": {
     "iopub.execute_input": "2025-03-07T21:37:28.103599Z",
     "iopub.status.busy": "2025-03-07T21:37:28.103361Z",
     "iopub.status.idle": "2025-03-07T21:37:28.106894Z",
     "shell.execute_reply": "2025-03-07T21:37:28.106338Z"
    },
    "papermill": {
     "duration": 0.009987,
     "end_time": "2025-03-07T21:37:28.108157",
     "exception": false,
     "start_time": "2025-03-07T21:37:28.098170",
     "status": "completed"
    },
    "tags": []
   },
   "outputs": [],
   "source": [
    "import torch.nn.functional as F\n",
    "\n",
    "def adversarialLoss(d_x, d_g_z, gp, lambda_gp):\n",
    "    return -d_x.mean() + d_g_z.mean() + lambda_gp * gp\n",
    "\n",
    "def generatorLoss(d_g_z):\n",
    "    return -d_g_z.mean()"
   ]
  },
  {
   "cell_type": "code",
   "execution_count": 15,
   "id": "0ccf7d03",
   "metadata": {
    "execution": {
     "iopub.execute_input": "2025-03-07T21:37:28.118584Z",
     "iopub.status.busy": "2025-03-07T21:37:28.118366Z",
     "iopub.status.idle": "2025-03-07T21:37:28.122931Z",
     "shell.execute_reply": "2025-03-07T21:37:28.122287Z"
    },
    "papermill": {
     "duration": 0.011292,
     "end_time": "2025-03-07T21:37:28.124240",
     "exception": false,
     "start_time": "2025-03-07T21:37:28.112948",
     "status": "completed"
    },
    "tags": []
   },
   "outputs": [],
   "source": [
    "def gradientPenalty(real_data, gen_data, adv):\n",
    "    epsilon = torch.randn((batch_size, 1, 1, 1)).repeat(1, 1, 28, 28).to(device)\n",
    "        \n",
    "    interpolated_img = epsilon * real_data + (1 - epsilon) * gen_data\n",
    "    # print(f\"gen_data: {noise}\")\n",
    "    # print(f\"gen_data.shape: {gen_data.shape}\")\n",
    "    \n",
    "    pred_interpolated_data = adv(interpolated_img)\n",
    "    # print(f\"pred_gen_data: {pred_gen_data}\")\n",
    "    # print(f\"pred_gen_data.shape: {pred_gen_data.shape}\")\n",
    "\n",
    "    # loss\n",
    "    gradient = torch.autograd.grad(\n",
    "        inputs = interpolated_img,\n",
    "        outputs = pred_interpolated_data,\n",
    "        grad_outputs = torch.ones_like(pred_interpolated_data),\n",
    "        create_graph = True,\n",
    "        retain_graph = True\n",
    "    )[0] # d(pred_interpolated_data) / d(interpolated_img)\n",
    "\n",
    "    gradient = gradient.view(gradient.shape[0], -1) # flatten with graident.shape[0] being num of examples\n",
    "    gradient_norm = gradient.norm(2, dim=1) # dim is 1 with data\n",
    "    gradient_penalty = torch.mean((gradient_norm - 1) ** 2)\n",
    "\n",
    "    return gradient_penalty"
   ]
  },
  {
   "cell_type": "code",
   "execution_count": 16,
   "id": "43ccaa02",
   "metadata": {
    "execution": {
     "iopub.execute_input": "2025-03-07T21:37:28.134125Z",
     "iopub.status.busy": "2025-03-07T21:37:28.133886Z",
     "iopub.status.idle": "2025-03-07T21:37:28.136936Z",
     "shell.execute_reply": "2025-03-07T21:37:28.136264Z"
    },
    "papermill": {
     "duration": 0.009328,
     "end_time": "2025-03-07T21:37:28.138217",
     "exception": false,
     "start_time": "2025-03-07T21:37:28.128889",
     "status": "completed"
    },
    "tags": []
   },
   "outputs": [],
   "source": [
    "import math\n",
    "import itertools"
   ]
  },
  {
   "cell_type": "code",
   "execution_count": 17,
   "id": "ec842430",
   "metadata": {
    "execution": {
     "iopub.execute_input": "2025-03-07T21:37:28.148550Z",
     "iopub.status.busy": "2025-03-07T21:37:28.148351Z",
     "iopub.status.idle": "2025-03-07T22:24:46.498053Z",
     "shell.execute_reply": "2025-03-07T22:24:46.496999Z"
    },
    "papermill": {
     "duration": 2838.365607,
     "end_time": "2025-03-07T22:24:46.508571",
     "exception": false,
     "start_time": "2025-03-07T21:37:28.142964",
     "status": "completed"
    },
    "tags": []
   },
   "outputs": [
    {
     "name": "stdout",
     "output_type": "stream",
     "text": [
      "Epoch 100/10000, Adversial Loss: 1.8274, Generator Loss: 0.1737\n",
      "Epoch 200/10000, Adversial Loss: -0.1889, Generator Loss: 0.1612\n",
      "Epoch 300/10000, Adversial Loss: -0.5810, Generator Loss: 0.0946\n",
      "Epoch 400/10000, Adversial Loss: -1.1781, Generator Loss: 0.1517\n",
      "Epoch 500/10000, Adversial Loss: -1.1895, Generator Loss: 0.1812\n",
      "Epoch 600/10000, Adversial Loss: 0.3049, Generator Loss: 0.2072\n",
      "Epoch 700/10000, Adversial Loss: -1.0238, Generator Loss: 0.0302\n",
      "Epoch 800/10000, Adversial Loss: 0.5493, Generator Loss: 0.1704\n",
      "Epoch 900/10000, Adversial Loss: -0.8941, Generator Loss: -0.0795\n",
      "Epoch 1000/10000, Adversial Loss: -1.1920, Generator Loss: -0.0087\n",
      "Epoch 1100/10000, Adversial Loss: -1.2898, Generator Loss: 0.1008\n",
      "Epoch 1200/10000, Adversial Loss: -0.7422, Generator Loss: 0.2460\n",
      "Epoch 1300/10000, Adversial Loss: -0.6786, Generator Loss: 0.4238\n",
      "Epoch 1400/10000, Adversial Loss: 0.1445, Generator Loss: -0.2783\n",
      "Epoch 1500/10000, Adversial Loss: -1.3648, Generator Loss: 0.2008\n",
      "Epoch 1600/10000, Adversial Loss: -0.8045, Generator Loss: 0.1758\n",
      "Epoch 1700/10000, Adversial Loss: -1.2859, Generator Loss: 0.2948\n",
      "Epoch 1800/10000, Adversial Loss: 0.2072, Generator Loss: 0.1660\n",
      "Epoch 1900/10000, Adversial Loss: -0.5168, Generator Loss: 0.0622\n",
      "Epoch 2000/10000, Adversial Loss: -1.0805, Generator Loss: 0.2250\n",
      "Epoch 2100/10000, Adversial Loss: -0.7784, Generator Loss: 0.2196\n",
      "Epoch 2200/10000, Adversial Loss: 0.0251, Generator Loss: -0.2360\n",
      "Epoch 2300/10000, Adversial Loss: 0.1578, Generator Loss: 0.2385\n",
      "Epoch 2400/10000, Adversial Loss: -0.0298, Generator Loss: 0.1195\n",
      "Epoch 2500/10000, Adversial Loss: -1.1430, Generator Loss: 0.2322\n",
      "Epoch 2600/10000, Adversial Loss: 1.2227, Generator Loss: 0.2031\n",
      "Epoch 2700/10000, Adversial Loss: -0.9789, Generator Loss: 0.1316\n",
      "Epoch 2800/10000, Adversial Loss: -0.4362, Generator Loss: -0.1324\n",
      "Epoch 2900/10000, Adversial Loss: -0.7733, Generator Loss: 0.0319\n",
      "Epoch 3000/10000, Adversial Loss: -0.0665, Generator Loss: 0.0862\n",
      "Epoch 3100/10000, Adversial Loss: -0.9981, Generator Loss: 0.1647\n",
      "Epoch 3200/10000, Adversial Loss: -0.2686, Generator Loss: 0.0818\n",
      "Epoch 3300/10000, Adversial Loss: -0.9882, Generator Loss: 0.0561\n",
      "Epoch 3400/10000, Adversial Loss: -0.1971, Generator Loss: 0.1259\n",
      "Epoch 3500/10000, Adversial Loss: -1.0014, Generator Loss: 0.2271\n",
      "Epoch 3600/10000, Adversial Loss: -0.0956, Generator Loss: 0.2151\n",
      "Epoch 3700/10000, Adversial Loss: 0.5421, Generator Loss: 0.0914\n",
      "Epoch 3800/10000, Adversial Loss: 0.9882, Generator Loss: 0.1466\n",
      "Epoch 3900/10000, Adversial Loss: -0.9566, Generator Loss: 0.1290\n",
      "Epoch 4000/10000, Adversial Loss: -0.8020, Generator Loss: 0.1224\n",
      "Epoch 4100/10000, Adversial Loss: -0.5935, Generator Loss: 0.1098\n",
      "Epoch 4200/10000, Adversial Loss: -0.2588, Generator Loss: 0.0276\n",
      "Epoch 4300/10000, Adversial Loss: -0.4486, Generator Loss: 0.0468\n",
      "Epoch 4400/10000, Adversial Loss: -0.3326, Generator Loss: 0.0622\n",
      "Epoch 4500/10000, Adversial Loss: -0.7876, Generator Loss: -0.0920\n",
      "Epoch 4600/10000, Adversial Loss: -0.7741, Generator Loss: 0.0806\n",
      "Epoch 4700/10000, Adversial Loss: -0.7799, Generator Loss: 0.0882\n",
      "Epoch 4800/10000, Adversial Loss: -0.4517, Generator Loss: 0.1291\n",
      "Epoch 4900/10000, Adversial Loss: 0.6802, Generator Loss: 0.1469\n",
      "Epoch 5000/10000, Adversial Loss: -0.8826, Generator Loss: -0.0969\n",
      "Epoch 5100/10000, Adversial Loss: -0.4435, Generator Loss: 0.1035\n",
      "Epoch 5200/10000, Adversial Loss: -0.8965, Generator Loss: 0.0448\n",
      "Epoch 5300/10000, Adversial Loss: -0.3514, Generator Loss: 0.0016\n",
      "Epoch 5400/10000, Adversial Loss: -1.0041, Generator Loss: 0.1054\n",
      "Epoch 5500/10000, Adversial Loss: -0.6073, Generator Loss: 0.0523\n",
      "Epoch 5600/10000, Adversial Loss: -0.7047, Generator Loss: 0.0217\n",
      "Epoch 5700/10000, Adversial Loss: -0.9214, Generator Loss: 0.0763\n",
      "Epoch 5800/10000, Adversial Loss: 0.1730, Generator Loss: -0.0142\n",
      "Epoch 5900/10000, Adversial Loss: -0.4683, Generator Loss: -0.1202\n",
      "Epoch 6000/10000, Adversial Loss: -0.3587, Generator Loss: 0.0601\n",
      "Epoch 6100/10000, Adversial Loss: -0.7760, Generator Loss: 0.0678\n",
      "Epoch 6200/10000, Adversial Loss: -0.5736, Generator Loss: -0.1857\n",
      "Epoch 6300/10000, Adversial Loss: -0.8660, Generator Loss: 0.0688\n",
      "Epoch 6400/10000, Adversial Loss: -0.9500, Generator Loss: 0.0483\n",
      "Epoch 6500/10000, Adversial Loss: -0.0957, Generator Loss: 0.1388\n",
      "Epoch 6600/10000, Adversial Loss: 2.8085, Generator Loss: 0.3591\n",
      "Epoch 6700/10000, Adversial Loss: -0.9310, Generator Loss: 0.0936\n",
      "Epoch 6800/10000, Adversial Loss: 0.7022, Generator Loss: 0.0813\n",
      "Epoch 6900/10000, Adversial Loss: -0.7293, Generator Loss: 0.0508\n",
      "Epoch 7000/10000, Adversial Loss: -0.6946, Generator Loss: 0.0356\n",
      "Epoch 7100/10000, Adversial Loss: -0.6388, Generator Loss: 0.0025\n",
      "Epoch 7200/10000, Adversial Loss: -0.6212, Generator Loss: -0.0973\n",
      "Epoch 7300/10000, Adversial Loss: -0.2883, Generator Loss: 0.1215\n",
      "Epoch 7400/10000, Adversial Loss: -0.6197, Generator Loss: -0.0113\n",
      "Epoch 7500/10000, Adversial Loss: -0.3012, Generator Loss: 0.0374\n",
      "Epoch 7600/10000, Adversial Loss: -0.5877, Generator Loss: -0.2415\n",
      "Epoch 7700/10000, Adversial Loss: -0.8499, Generator Loss: -0.0595\n",
      "Epoch 7800/10000, Adversial Loss: -0.7127, Generator Loss: 0.1282\n",
      "Epoch 7900/10000, Adversial Loss: -0.5389, Generator Loss: 0.0986\n",
      "Epoch 8000/10000, Adversial Loss: -0.8721, Generator Loss: -0.0633\n",
      "Epoch 8100/10000, Adversial Loss: -1.0491, Generator Loss: -0.0212\n",
      "Epoch 8200/10000, Adversial Loss: -0.6254, Generator Loss: -0.0715\n",
      "Epoch 8300/10000, Adversial Loss: -0.2454, Generator Loss: 0.1339\n",
      "Epoch 8400/10000, Adversial Loss: -0.2944, Generator Loss: -0.0773\n",
      "Epoch 8500/10000, Adversial Loss: -0.7744, Generator Loss: -0.0745\n",
      "Epoch 8600/10000, Adversial Loss: -0.7938, Generator Loss: 0.0455\n",
      "Epoch 8700/10000, Adversial Loss: -1.0123, Generator Loss: 0.2029\n",
      "Epoch 8800/10000, Adversial Loss: -0.1783, Generator Loss: -0.0225\n",
      "Epoch 8900/10000, Adversial Loss: 0.5825, Generator Loss: -0.1853\n",
      "Epoch 9000/10000, Adversial Loss: -0.0324, Generator Loss: 0.0363\n",
      "Epoch 9100/10000, Adversial Loss: 0.8289, Generator Loss: -0.1048\n",
      "Epoch 9200/10000, Adversial Loss: 0.8884, Generator Loss: -0.0484\n",
      "Epoch 9300/10000, Adversial Loss: -0.5042, Generator Loss: 0.0539\n",
      "Epoch 9400/10000, Adversial Loss: -0.2901, Generator Loss: -0.1309\n",
      "Epoch 9500/10000, Adversial Loss: -0.7427, Generator Loss: -0.2910\n",
      "Epoch 9600/10000, Adversial Loss: -0.2176, Generator Loss: -0.1808\n",
      "Epoch 9700/10000, Adversial Loss: -0.7458, Generator Loss: -0.0014\n",
      "Epoch 9800/10000, Adversial Loss: -0.6812, Generator Loss: 0.0176\n",
      "Epoch 9900/10000, Adversial Loss: 4.0612, Generator Loss: 0.3429\n",
      "Epoch 10000/10000, Adversial Loss: -0.1260, Generator Loss: 0.1078\n"
     ]
    }
   ],
   "source": [
    "learning_rate = 2e-4\n",
    "k = 5\n",
    "c = 0.01\n",
    "lambda_gp = 10\n",
    "\n",
    "# less epoch as can easily overfit\n",
    "num_epoch = 10000\n",
    "\n",
    "lossi_gen = []\n",
    "lossi_adv = []\n",
    "\n",
    "total_samples = len(train_loader)\n",
    "\n",
    "advOptimizer = torch.optim.AdamW(adv.parameters(), lr=learning_rate, betas=(0.5, 0.999))\n",
    "generatorOptimizer = torch.optim.AdamW(generator.parameters(), lr=learning_rate, betas=(0.5, 0.999))\n",
    "\n",
    "generator = generator.to(device)\n",
    "adv = adv.to(device)\n",
    "\n",
    "train_loader_iter_adv_training = itertools.cycle(iter(train_loader))\n",
    "\n",
    "for epoch in range(num_epoch):\n",
    "    adv.train()\n",
    "    generator.eval()\n",
    "    \n",
    "    for _ in range(k):\n",
    "        advOptimizer.zero_grad()\n",
    "        \n",
    "        feature, _ = next(train_loader_iter_adv_training)\n",
    "        feature = feature.to(device)\n",
    "        # print(f\"feature: {feature}\")\n",
    "        # print(f\"feature.shape: {feature.shape}\")\n",
    "\n",
    "        pred_data = adv(feature)\n",
    "        # print(f\"pred_data: {pred_data}\")\n",
    "        # print(f\"pred_data.shape: {pred_data.shape}\")\n",
    "\n",
    "        noise = torch.randn(batch_size, 100)\n",
    "        noise = noise.to(device)\n",
    "        # print(f\"noise: {noise}\")\n",
    "        # print(f\"noise.shape: {noise.shape}\")\n",
    "    \n",
    "        gen_data = generator(noise)\n",
    "        # print(f\"gen_data: {noise}\")\n",
    "        # print(f\"gen_data.shape: {gen_data.shape}\")\n",
    "        \n",
    "        pred_gen_data = adv(gen_data)\n",
    "        # print(f\"pred_gen_data: {pred_gen_data}\")\n",
    "        # print(f\"pred_gen_data.shape: {pred_gen_data.shape}\")\n",
    "\n",
    "        # loss\n",
    "        gp = gradientPenalty(feature, gen_data, adv)\n",
    "        advLoss = adversarialLoss(pred_data, pred_gen_data, gp, lambda_gp)\n",
    "\n",
    "        advLoss.backward()\n",
    "        advOptimizer.step()\n",
    "\n",
    "        for p in adv.parameters():\n",
    "            p.data.clamp_(-c, c)\n",
    "\n",
    "        lossi_adv.append(advLoss.detach().cpu())\n",
    "\n",
    "        # raise Exception(\"Error\")\n",
    "\n",
    "    generatorOptimizer.zero_grad()\n",
    "\n",
    "    adv.eval()\n",
    "    generator.train()\n",
    "\n",
    "    noise = torch.randn(batch_size, 100)\n",
    "    noise = noise.to(device)\n",
    "    # print(f\"noise: {noise}\")\n",
    "    # print(f\"noise.shape: {noise.shape}\")\n",
    "\n",
    "    gen_data = generator(noise)\n",
    "    # print(f\"gen_data: {noise}\")\n",
    "    # print(f\"gen_data.shape: {gen_data.shape}\")\n",
    "\n",
    "    pred_gen_data = adv(gen_data)\n",
    "    # print(f\"pred_gen_data: {pred_gen_data}\")\n",
    "    # print(f\"pred_gen_data.shape: {pred_gen_data.shape}\")\n",
    "    \n",
    "    # loss\n",
    "    genLoss = generatorLoss(pred_gen_data)\n",
    "\n",
    "    genLoss.backward()\n",
    "    generatorOptimizer.step()\n",
    "\n",
    "    lossi_gen.append(genLoss.detach().cpu())\n",
    "\n",
    "    if ((epoch+1)%100==0):\n",
    "        print(f\"Epoch {epoch+1}/{num_epoch}, Adversial Loss: {advLoss.item():.4f}, Generator Loss: {genLoss.item():.4f}\")"
   ]
  },
  {
   "cell_type": "code",
   "execution_count": 18,
   "id": "50e01430",
   "metadata": {
    "execution": {
     "iopub.execute_input": "2025-03-07T22:24:46.527487Z",
     "iopub.status.busy": "2025-03-07T22:24:46.527247Z",
     "iopub.status.idle": "2025-03-07T22:24:46.530408Z",
     "shell.execute_reply": "2025-03-07T22:24:46.529736Z"
    },
    "papermill": {
     "duration": 0.014083,
     "end_time": "2025-03-07T22:24:46.531516",
     "exception": false,
     "start_time": "2025-03-07T22:24:46.517433",
     "status": "completed"
    },
    "tags": []
   },
   "outputs": [],
   "source": [
    "import matplotlib.pyplot as plt"
   ]
  },
  {
   "cell_type": "code",
   "execution_count": 19,
   "id": "a727a9d7",
   "metadata": {
    "execution": {
     "iopub.execute_input": "2025-03-07T22:24:46.551099Z",
     "iopub.status.busy": "2025-03-07T22:24:46.550820Z",
     "iopub.status.idle": "2025-03-07T22:24:47.335006Z",
     "shell.execute_reply": "2025-03-07T22:24:47.334224Z"
    },
    "papermill": {
     "duration": 0.795836,
     "end_time": "2025-03-07T22:24:47.336528",
     "exception": false,
     "start_time": "2025-03-07T22:24:46.540692",
     "status": "completed"
    },
    "tags": []
   },
   "outputs": [
    {
     "data": {
      "text/plain": [
       "[<matplotlib.lines.Line2D at 0x7eafc5b14850>]"
      ]
     },
     "execution_count": 19,
     "metadata": {},
     "output_type": "execute_result"
    },
    {
     "data": {
      "image/png": "[encoded data removed]",
      "text/plain": [
       "<Figure size 640x480 with 1 Axes>"
      ]
     },
     "metadata": {},
     "output_type": "display_data"
    }
   ],
   "source": [
    "plt.plot(lossi_adv, c=\"red\")\n",
    "plt.plot(lossi_gen, c=\"blue\")"
   ]
  },
  {
   "cell_type": "code",
   "execution_count": 20,
   "id": "98efcced",
   "metadata": {
    "execution": {
     "iopub.execute_input": "2025-03-07T22:24:47.356665Z",
     "iopub.status.busy": "2025-03-07T22:24:47.356439Z",
     "iopub.status.idle": "2025-03-07T22:24:47.567146Z",
     "shell.execute_reply": "2025-03-07T22:24:47.566419Z"
    },
    "papermill": {
     "duration": 0.222141,
     "end_time": "2025-03-07T22:24:47.568691",
     "exception": false,
     "start_time": "2025-03-07T22:24:47.346550",
     "status": "completed"
    },
    "tags": []
   },
   "outputs": [
    {
     "name": "stdout",
     "output_type": "stream",
     "text": [
      "torch.Size([1, 1, 28, 28])\n"
     ]
    },
    {
     "data": {
      "image/png": "[encoded data removed]",
      "text/plain": [
       "<Figure size 640x480 with 1 Axes>"
      ]
     },
     "metadata": {},
     "output_type": "display_data"
    }
   ],
   "source": [
    "generator.eval()\n",
    "\n",
    "with torch.no_grad():\n",
    "    noise = torch.randn(1,100)\n",
    "    noise = noise.to(device)\n",
    "    \n",
    "    gen_img = generator(noise)\n",
    "    print(gen_img.shape)\n",
    "    img = gen_img.view(1, 28, 28)\n",
    "    \n",
    "    plt.imshow(img.squeeze().cpu(), cmap=\"gray\")\n",
    "    plt.show()"
   ]
  },
  {
   "cell_type": "code",
   "execution_count": null,
   "id": "53709d99",
   "metadata": {
    "papermill": {
     "duration": 0.010072,
     "end_time": "2025-03-07T22:24:47.589632",
     "exception": false,
     "start_time": "2025-03-07T22:24:47.579560",
     "status": "completed"
    },
    "tags": []
   },
   "outputs": [],
   "source": []
  }
 ],
 "metadata": {
  "kaggle": {
   "accelerator": "nvidiaTeslaT4",
   "dataSources": [],
   "dockerImageVersionId": 30918,
   "isGpuEnabled": true,
   "isInternetEnabled": true,
   "language": "python",
   "sourceType": "notebook"
  },
  "kernelspec": {
   "display_name": "Python 3",
   "language": "python",
   "name": "python3"
  },
  "language_info": {
   "codemirror_mode": {
    "name": "ipython",
    "version": 3
   },
   "file_extension": ".py",
   "mimetype": "text/x-python",
   "name": "python",
   "nbconvert_exporter": "python",
   "pygments_lexer": "ipython3",
   "version": "3.10.12"
  },
  "papermill": {
   "default_parameters": {},
   "duration": 2858.384701,
   "end_time": "2025-03-07T22:24:50.374619",
   "environment_variables": {},
   "exception": null,
   "input_path": "__notebook__.ipynb",
   "output_path": "__notebook__.ipynb",
   "parameters": {},
   "start_time": "2025-03-07T21:37:11.989918",
   "version": "2.6.0"
  }
 },
 "nbformat": 4,
 "nbformat_minor": 5
}
