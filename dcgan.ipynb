{
 "cells": [
  {
   "cell_type": "code",
   "execution_count": 1,
   "id": "f1c697d5",
   "metadata": {
    "_cell_guid": "b1076dfc-b9ad-4769-8c92-a6c4dae69d19",
    "_uuid": "8f2839f25d086af736a60e9eeb907d3b93b6e0e5",
    "execution": {
     "iopub.execute_input": "2025-03-07T17:57:35.210159Z",
     "iopub.status.busy": "2025-03-07T17:57:35.209841Z",
     "iopub.status.idle": "2025-03-07T17:57:42.664700Z",
     "shell.execute_reply": "2025-03-07T17:57:42.663981Z"
    },
    "papermill": {
     "duration": 7.461652,
     "end_time": "2025-03-07T17:57:42.666167",
     "exception": false,
     "start_time": "2025-03-07T17:57:35.204515",
     "status": "completed"
    },
    "tags": []
   },
   "outputs": [],
   "source": [
    "import torch\n",
    "import torch.nn as nn\n",
    "import torch.nn.functional as F\n",
    "import torchvision\n",
    "from torchvision import transforms"
   ]
  },
  {
   "cell_type": "code",
   "execution_count": 2,
   "id": "a486d70c",
   "metadata": {
    "execution": {
     "iopub.execute_input": "2025-03-07T17:57:42.674894Z",
     "iopub.status.busy": "2025-03-07T17:57:42.674589Z",
     "iopub.status.idle": "2025-03-07T17:57:42.677893Z",
     "shell.execute_reply": "2025-03-07T17:57:42.677288Z"
    },
    "papermill": {
     "duration": 0.008721,
     "end_time": "2025-03-07T17:57:42.679039",
     "exception": false,
     "start_time": "2025-03-07T17:57:42.670318",
     "status": "completed"
    },
    "tags": []
   },
   "outputs": [],
   "source": [
    "mnist_transform = transforms.Compose([\n",
    "    transforms.ToTensor(),\n",
    "    transforms.Normalize((0.5,), (0.5,))\n",
    "])"
   ]
  },
  {
   "cell_type": "code",
   "execution_count": 3,
   "id": "ffa4ea48",
   "metadata": {
    "execution": {
     "iopub.execute_input": "2025-03-07T17:57:42.686742Z",
     "iopub.status.busy": "2025-03-07T17:57:42.686541Z",
     "iopub.status.idle": "2025-03-07T17:57:46.826648Z",
     "shell.execute_reply": "2025-03-07T17:57:46.825560Z"
    },
    "papermill": {
     "duration": 4.145555,
     "end_time": "2025-03-07T17:57:46.828134",
     "exception": false,
     "start_time": "2025-03-07T17:57:42.682579",
     "status": "completed"
    },
    "tags": []
   },
   "outputs": [
    {
     "name": "stdout",
     "output_type": "stream",
     "text": [
      "Downloading http://yann.lecun.com/exdb/mnist/train-images-idx3-ubyte.gz\n",
      "Failed to download (trying next):\n",
      "HTTP Error 404: Not Found\n",
      "\n",
      "Downloading https://ossci-datasets.s3.amazonaws.com/mnist/train-images-idx3-ubyte.gz\n",
      "Downloading https://ossci-datasets.s3.amazonaws.com/mnist/train-images-idx3-ubyte.gz to ./MNIST/raw/train-images-idx3-ubyte.gz\n"
     ]
    },
    {
     "name": "stderr",
     "output_type": "stream",
     "text": [
      "100%|██████████| 9.91M/9.91M [00:00<00:00, 17.1MB/s]\n"
     ]
    },
    {
     "name": "stdout",
     "output_type": "stream",
     "text": [
      "Extracting ./MNIST/raw/train-images-idx3-ubyte.gz to ./MNIST/raw\n",
      "\n",
      "Downloading http://yann.lecun.com/exdb/mnist/train-labels-idx1-ubyte.gz\n",
      "Failed to download (trying next):\n",
      "HTTP Error 404: Not Found\n",
      "\n",
      "Downloading https://ossci-datasets.s3.amazonaws.com/mnist/train-labels-idx1-ubyte.gz\n",
      "Downloading https://ossci-datasets.s3.amazonaws.com/mnist/train-labels-idx1-ubyte.gz to ./MNIST/raw/train-labels-idx1-ubyte.gz\n"
     ]
    },
    {
     "name": "stderr",
     "output_type": "stream",
     "text": [
      "100%|██████████| 28.9k/28.9k [00:00<00:00, 454kB/s]\n"
     ]
    },
    {
     "name": "stdout",
     "output_type": "stream",
     "text": [
      "Extracting ./MNIST/raw/train-labels-idx1-ubyte.gz to ./MNIST/raw\n",
      "\n",
      "Downloading http://yann.lecun.com/exdb/mnist/t10k-images-idx3-ubyte.gz\n",
      "Failed to download (trying next):\n",
      "HTTP Error 404: Not Found\n",
      "\n",
      "Downloading https://ossci-datasets.s3.amazonaws.com/mnist/t10k-images-idx3-ubyte.gz\n",
      "Downloading https://ossci-datasets.s3.amazonaws.com/mnist/t10k-images-idx3-ubyte.gz to ./MNIST/raw/t10k-images-idx3-ubyte.gz\n"
     ]
    },
    {
     "name": "stderr",
     "output_type": "stream",
     "text": [
      "100%|██████████| 1.65M/1.65M [00:00<00:00, 4.20MB/s]\n"
     ]
    },
    {
     "name": "stdout",
     "output_type": "stream",
     "text": [
      "Extracting ./MNIST/raw/t10k-images-idx3-ubyte.gz to ./MNIST/raw\n",
      "\n",
      "Downloading http://yann.lecun.com/exdb/mnist/t10k-labels-idx1-ubyte.gz\n",
      "Failed to download (trying next):\n",
      "HTTP Error 404: Not Found\n",
      "\n",
      "Downloading https://ossci-datasets.s3.amazonaws.com/mnist/t10k-labels-idx1-ubyte.gz\n",
      "Downloading https://ossci-datasets.s3.amazonaws.com/mnist/t10k-labels-idx1-ubyte.gz to ./MNIST/raw/t10k-labels-idx1-ubyte.gz\n"
     ]
    },
    {
     "name": "stderr",
     "output_type": "stream",
     "text": [
      "100%|██████████| 4.54k/4.54k [00:00<00:00, 5.99MB/s]"
     ]
    },
    {
     "name": "stdout",
     "output_type": "stream",
     "text": [
      "Extracting ./MNIST/raw/t10k-labels-idx1-ubyte.gz to ./MNIST/raw\n",
      "\n"
     ]
    },
    {
     "name": "stderr",
     "output_type": "stream",
     "text": [
      "\n"
     ]
    }
   ],
   "source": [
    "mnist_train = torchvision.datasets.MNIST(\".\", train=True, download=True, transform=mnist_transform)\n",
    "mnist_test = torchvision.datasets.MNIST(\".\", train=False, download=True, transform=mnist_transform)"
   ]
  },
  {
   "cell_type": "code",
   "execution_count": 4,
   "id": "63dfa4be",
   "metadata": {
    "execution": {
     "iopub.execute_input": "2025-03-07T17:57:46.839187Z",
     "iopub.status.busy": "2025-03-07T17:57:46.838949Z",
     "iopub.status.idle": "2025-03-07T17:57:46.841981Z",
     "shell.execute_reply": "2025-03-07T17:57:46.841438Z"
    },
    "papermill": {
     "duration": 0.009609,
     "end_time": "2025-03-07T17:57:46.843105",
     "exception": false,
     "start_time": "2025-03-07T17:57:46.833496",
     "status": "completed"
    },
    "tags": []
   },
   "outputs": [],
   "source": [
    "from torch.utils.data import random_split"
   ]
  },
  {
   "cell_type": "code",
   "execution_count": 5,
   "id": "946f6b2a",
   "metadata": {
    "execution": {
     "iopub.execute_input": "2025-03-07T17:57:46.853923Z",
     "iopub.status.busy": "2025-03-07T17:57:46.853712Z",
     "iopub.status.idle": "2025-03-07T17:57:46.874127Z",
     "shell.execute_reply": "2025-03-07T17:57:46.873490Z"
    },
    "papermill": {
     "duration": 0.027427,
     "end_time": "2025-03-07T17:57:46.875560",
     "exception": false,
     "start_time": "2025-03-07T17:57:46.848133",
     "status": "completed"
    },
    "tags": []
   },
   "outputs": [],
   "source": [
    "# Define split ratios\n",
    "train_size = int(0.8 * len(mnist_train))\n",
    "val_size = int(0.2 * len(mnist_train))\n",
    "\n",
    "# Split dataset\n",
    "train_dataset, val_dataset = random_split(mnist_train, [train_size, val_size])"
   ]
  },
  {
   "cell_type": "code",
   "execution_count": 6,
   "id": "719a49df",
   "metadata": {
    "execution": {
     "iopub.execute_input": "2025-03-07T17:57:46.886258Z",
     "iopub.status.busy": "2025-03-07T17:57:46.886019Z",
     "iopub.status.idle": "2025-03-07T17:57:46.888879Z",
     "shell.execute_reply": "2025-03-07T17:57:46.888306Z"
    },
    "papermill": {
     "duration": 0.009359,
     "end_time": "2025-03-07T17:57:46.889949",
     "exception": false,
     "start_time": "2025-03-07T17:57:46.880590",
     "status": "completed"
    },
    "tags": []
   },
   "outputs": [],
   "source": [
    "from torch.utils.data import DataLoader"
   ]
  },
  {
   "cell_type": "code",
   "execution_count": 7,
   "id": "a845eada",
   "metadata": {
    "execution": {
     "iopub.execute_input": "2025-03-07T17:57:46.900343Z",
     "iopub.status.busy": "2025-03-07T17:57:46.900068Z",
     "iopub.status.idle": "2025-03-07T17:57:46.904266Z",
     "shell.execute_reply": "2025-03-07T17:57:46.903445Z"
    },
    "papermill": {
     "duration": 0.010571,
     "end_time": "2025-03-07T17:57:46.905410",
     "exception": false,
     "start_time": "2025-03-07T17:57:46.894839",
     "status": "completed"
    },
    "tags": []
   },
   "outputs": [],
   "source": [
    "batch_size = 16\n",
    "\n",
    "train_loader = DataLoader(train_dataset, batch_size=batch_size, shuffle=True)\n",
    "val_loader = DataLoader(val_dataset, batch_size=batch_size, shuffle=True)\n",
    "\n",
    "pred_loader = DataLoader(mnist_test, batch_size=batch_size, shuffle=True)"
   ]
  },
  {
   "cell_type": "code",
   "execution_count": 8,
   "id": "919d2b6e",
   "metadata": {
    "execution": {
     "iopub.execute_input": "2025-03-07T17:57:46.915791Z",
     "iopub.status.busy": "2025-03-07T17:57:46.915566Z",
     "iopub.status.idle": "2025-03-07T17:57:46.992445Z",
     "shell.execute_reply": "2025-03-07T17:57:46.991534Z"
    },
    "papermill": {
     "duration": 0.083633,
     "end_time": "2025-03-07T17:57:46.993799",
     "exception": false,
     "start_time": "2025-03-07T17:57:46.910166",
     "status": "completed"
    },
    "tags": []
   },
   "outputs": [
    {
     "name": "stdout",
     "output_type": "stream",
     "text": [
      "Using device: cuda\n"
     ]
    }
   ],
   "source": [
    "device = torch.device(\"cuda\" if torch.cuda.is_available() else \"cpu\")\n",
    "print(f\"Using device: {device}\")"
   ]
  },
  {
   "cell_type": "code",
   "execution_count": 9,
   "id": "3ac7b249",
   "metadata": {
    "execution": {
     "iopub.execute_input": "2025-03-07T17:57:47.004749Z",
     "iopub.status.busy": "2025-03-07T17:57:47.004515Z",
     "iopub.status.idle": "2025-03-07T17:57:47.008387Z",
     "shell.execute_reply": "2025-03-07T17:57:47.007712Z"
    },
    "papermill": {
     "duration": 0.01049,
     "end_time": "2025-03-07T17:57:47.009527",
     "exception": false,
     "start_time": "2025-03-07T17:57:46.999037",
     "status": "completed"
    },
    "tags": []
   },
   "outputs": [],
   "source": [
    "def _weights_init(m):\n",
    "    classname = m.__class__.__name__\n",
    "    if classname.find('Conv') != -1:\n",
    "        nn.init.normal_(m.weight.data, 0.0, 0.02)\n",
    "    elif classname.find('BatchNorm') != -1:\n",
    "        nn.init.normal_(m.weight.data, 1.0, 0.02)\n",
    "        nn.init.constant_(m.bias.data, 0)"
   ]
  },
  {
   "cell_type": "code",
   "execution_count": 10,
   "id": "0c37b860",
   "metadata": {
    "execution": {
     "iopub.execute_input": "2025-03-07T17:57:47.020092Z",
     "iopub.status.busy": "2025-03-07T17:57:47.019889Z",
     "iopub.status.idle": "2025-03-07T17:57:47.025060Z",
     "shell.execute_reply": "2025-03-07T17:57:47.024461Z"
    },
    "papermill": {
     "duration": 0.01148,
     "end_time": "2025-03-07T17:57:47.026093",
     "exception": false,
     "start_time": "2025-03-07T17:57:47.014613",
     "status": "completed"
    },
    "tags": []
   },
   "outputs": [],
   "source": [
    "class Generator(nn.Module):\n",
    "    def __init__(self):\n",
    "        super().__init__()\n",
    "        self.layers = nn.ModuleList([\n",
    "            nn.ConvTranspose2d(100, 1024, 3, 1, 0, bias=False),\n",
    "            nn.BatchNorm2d(1024),\n",
    "            nn.ReLU(True),\n",
    "\n",
    "            nn.ConvTranspose2d(1024, 512, 3, 2, 0, bias=False),\n",
    "            nn.BatchNorm2d(512),\n",
    "            nn.ReLU(True),\n",
    "\n",
    "            nn.ConvTranspose2d(512, 256, 4, 2, 1, bias=False),\n",
    "            nn.BatchNorm2d(256),\n",
    "            nn.ReLU(True),\n",
    "\n",
    "            nn.ConvTranspose2d(256, 1, 4, 2, 1, bias=False),\n",
    "            nn.Tanh()\n",
    "        ])\n",
    "\n",
    "        self.apply(_weights_init)\n",
    "\n",
    "    def forward(self, x):\n",
    "        x = x.unsqueeze(-1).unsqueeze(-1) # [batch_size, 100] => [batch_size, 100, 1, 1]\n",
    "        for layer in self.layers:\n",
    "            x = layer(x)\n",
    "        return x"
   ]
  },
  {
   "cell_type": "code",
   "execution_count": 11,
   "id": "29d34aa2",
   "metadata": {
    "execution": {
     "iopub.execute_input": "2025-03-07T17:57:47.036789Z",
     "iopub.status.busy": "2025-03-07T17:57:47.036570Z",
     "iopub.status.idle": "2025-03-07T17:57:47.166487Z",
     "shell.execute_reply": "2025-03-07T17:57:47.165560Z"
    },
    "papermill": {
     "duration": 0.136802,
     "end_time": "2025-03-07T17:57:47.168057",
     "exception": false,
     "start_time": "2025-03-07T17:57:47.031255",
     "status": "completed"
    },
    "tags": []
   },
   "outputs": [],
   "source": [
    "generator = Generator()"
   ]
  },
  {
   "cell_type": "code",
   "execution_count": 12,
   "id": "f1e8ca47",
   "metadata": {
    "execution": {
     "iopub.execute_input": "2025-03-07T17:57:47.179401Z",
     "iopub.status.busy": "2025-03-07T17:57:47.179124Z",
     "iopub.status.idle": "2025-03-07T17:57:47.184430Z",
     "shell.execute_reply": "2025-03-07T17:57:47.183668Z"
    },
    "papermill": {
     "duration": 0.012227,
     "end_time": "2025-03-07T17:57:47.185717",
     "exception": false,
     "start_time": "2025-03-07T17:57:47.173490",
     "status": "completed"
    },
    "tags": []
   },
   "outputs": [],
   "source": [
    "class Discrimiator(nn.Module):\n",
    "    def __init__(self):\n",
    "        super().__init__()\n",
    "        self.layers = nn.ModuleList([\n",
    "            nn.Conv2d(1, 256, 4, 2, 1, bias=False),\n",
    "            nn.LeakyReLU(0.2, inplace=True),\n",
    "\n",
    "            nn.Conv2d(256, 512, 4, 2, 1, bias=False),\n",
    "            nn.BatchNorm2d(512),\n",
    "            nn.LeakyReLU(0.2, inplace=True),\n",
    "\n",
    "            nn.Conv2d(512, 1024, 3, 2, 0, bias=False),\n",
    "            nn.BatchNorm2d(1024),\n",
    "            nn.LeakyReLU(0.2, inplace=True),\n",
    "\n",
    "            nn.Conv2d(1024, 1, 3, 1, 0, bias=False),\n",
    "        ])\n",
    "\n",
    "        self.apply(_weights_init)\n",
    "\n",
    "    def forward(self, x):\n",
    "        for layer in self.layers:\n",
    "            x = layer(x)\n",
    "        return x.view(x.shape[0], -1)"
   ]
  },
  {
   "cell_type": "code",
   "execution_count": 13,
   "id": "293a4b56",
   "metadata": {
    "execution": {
     "iopub.execute_input": "2025-03-07T17:57:47.196317Z",
     "iopub.status.busy": "2025-03-07T17:57:47.196052Z",
     "iopub.status.idle": "2025-03-07T17:57:47.298699Z",
     "shell.execute_reply": "2025-03-07T17:57:47.297779Z"
    },
    "papermill": {
     "duration": 0.109748,
     "end_time": "2025-03-07T17:57:47.300421",
     "exception": false,
     "start_time": "2025-03-07T17:57:47.190673",
     "status": "completed"
    },
    "tags": []
   },
   "outputs": [],
   "source": [
    "adv = Discrimiator()"
   ]
  },
  {
   "cell_type": "code",
   "execution_count": 14,
   "id": "b911f467",
   "metadata": {
    "execution": {
     "iopub.execute_input": "2025-03-07T17:57:47.311690Z",
     "iopub.status.busy": "2025-03-07T17:57:47.311451Z",
     "iopub.status.idle": "2025-03-07T17:57:47.315312Z",
     "shell.execute_reply": "2025-03-07T17:57:47.314516Z"
    },
    "papermill": {
     "duration": 0.010801,
     "end_time": "2025-03-07T17:57:47.316584",
     "exception": false,
     "start_time": "2025-03-07T17:57:47.305783",
     "status": "completed"
    },
    "tags": []
   },
   "outputs": [],
   "source": [
    "import torch.nn.functional as F\n",
    "\n",
    "def adversarialLoss(d_x, d_g_z, gp, lambda_gp):\n",
    "    return -d_x.mean() + d_g_z.mean() + lambda_gp * gp\n",
    "\n",
    "def generatorLoss(d_g_z):\n",
    "    return -d_g_z.mean()"
   ]
  },
  {
   "cell_type": "code",
   "execution_count": 15,
   "id": "464dceac",
   "metadata": {
    "execution": {
     "iopub.execute_input": "2025-03-07T17:57:47.327083Z",
     "iopub.status.busy": "2025-03-07T17:57:47.326868Z",
     "iopub.status.idle": "2025-03-07T17:57:47.331633Z",
     "shell.execute_reply": "2025-03-07T17:57:47.330859Z"
    },
    "papermill": {
     "duration": 0.011312,
     "end_time": "2025-03-07T17:57:47.332835",
     "exception": false,
     "start_time": "2025-03-07T17:57:47.321523",
     "status": "completed"
    },
    "tags": []
   },
   "outputs": [],
   "source": [
    "def gradientPenalty(real_data, gen_data, adv):\n",
    "    epsilon = torch.randn((batch_size, 1, 1, 1)).repeat(1, 1, 28, 28).to(device)\n",
    "        \n",
    "    interpolated_img = epsilon * real_data + (1 - epsilon) * gen_data\n",
    "    # print(f\"gen_data: {noise}\")\n",
    "    # print(f\"gen_data.shape: {gen_data.shape}\")\n",
    "    \n",
    "    pred_interpolated_data = adv(interpolated_img)\n",
    "    # print(f\"pred_gen_data: {pred_gen_data}\")\n",
    "    # print(f\"pred_gen_data.shape: {pred_gen_data.shape}\")\n",
    "\n",
    "    # loss\n",
    "    gradient = torch.autograd.grad(\n",
    "        inputs = interpolated_img,\n",
    "        outputs = pred_interpolated_data,\n",
    "        grad_outputs = torch.ones_like(pred_interpolated_data),\n",
    "        create_graph = True,\n",
    "        retain_graph = True\n",
    "    )[0] # d(pred_interpolated_data) / d(interpolated_img)\n",
    "\n",
    "    gradient = gradient.view(gradient.shape[0], -1) # flatten with graident.shape[0] being num of examples\n",
    "    gradient_norm = gradient.norm(2, dim=1) # dim is 1 with data\n",
    "    gradient_penalty = torch.mean((gradient_norm - 1) ** 2)\n",
    "\n",
    "    return gradient_penalty"
   ]
  },
  {
   "cell_type": "code",
   "execution_count": 16,
   "id": "d0b9766c",
   "metadata": {
    "execution": {
     "iopub.execute_input": "2025-03-07T17:57:47.343402Z",
     "iopub.status.busy": "2025-03-07T17:57:47.343153Z",
     "iopub.status.idle": "2025-03-07T17:57:47.345872Z",
     "shell.execute_reply": "2025-03-07T17:57:47.345320Z"
    },
    "papermill": {
     "duration": 0.009223,
     "end_time": "2025-03-07T17:57:47.347012",
     "exception": false,
     "start_time": "2025-03-07T17:57:47.337789",
     "status": "completed"
    },
    "tags": []
   },
   "outputs": [],
   "source": [
    "import math\n",
    "import itertools"
   ]
  },
  {
   "cell_type": "code",
   "execution_count": 17,
   "id": "70c47172",
   "metadata": {
    "execution": {
     "iopub.execute_input": "2025-03-07T17:57:47.357863Z",
     "iopub.status.busy": "2025-03-07T17:57:47.357668Z",
     "iopub.status.idle": "2025-03-07T19:35:51.167129Z",
     "shell.execute_reply": "2025-03-07T19:35:51.166324Z"
    },
    "papermill": {
     "duration": 5883.830356,
     "end_time": "2025-03-07T19:35:51.182425",
     "exception": false,
     "start_time": "2025-03-07T17:57:47.352069",
     "status": "completed"
    },
    "tags": []
   },
   "outputs": [
    {
     "name": "stdout",
     "output_type": "stream",
     "text": [
      "Epoch 100/20000, Adversial Loss: 0.8010, Generator Loss: 0.1895\n",
      "Epoch 200/20000, Adversial Loss: -0.4600, Generator Loss: -0.0320\n",
      "Epoch 300/20000, Adversial Loss: -1.2133, Generator Loss: 0.1472\n",
      "Epoch 400/20000, Adversial Loss: -0.1712, Generator Loss: 0.2349\n",
      "Epoch 500/20000, Adversial Loss: 4.0822, Generator Loss: -0.4796\n",
      "Epoch 600/20000, Adversial Loss: 0.6371, Generator Loss: 0.0213\n",
      "Epoch 700/20000, Adversial Loss: -0.8428, Generator Loss: -0.0331\n",
      "Epoch 800/20000, Adversial Loss: -1.0366, Generator Loss: 0.0419\n",
      "Epoch 900/20000, Adversial Loss: -1.0144, Generator Loss: 0.2413\n",
      "Epoch 1000/20000, Adversial Loss: -1.3280, Generator Loss: 0.0783\n",
      "Epoch 1100/20000, Adversial Loss: -1.0516, Generator Loss: 0.2378\n",
      "Epoch 1200/20000, Adversial Loss: 2.2505, Generator Loss: 0.4347\n",
      "Epoch 1300/20000, Adversial Loss: -1.3790, Generator Loss: 0.2853\n",
      "Epoch 1400/20000, Adversial Loss: -1.1231, Generator Loss: 0.1165\n",
      "Epoch 1500/20000, Adversial Loss: -0.4381, Generator Loss: 0.1435\n",
      "Epoch 1600/20000, Adversial Loss: -1.3997, Generator Loss: -0.0522\n",
      "Epoch 1700/20000, Adversial Loss: -1.2395, Generator Loss: 0.4454\n",
      "Epoch 1800/20000, Adversial Loss: 2.2323, Generator Loss: 0.1038\n",
      "Epoch 1900/20000, Adversial Loss: 0.0341, Generator Loss: -0.5022\n",
      "Epoch 2000/20000, Adversial Loss: -1.0105, Generator Loss: 0.2252\n",
      "Epoch 2100/20000, Adversial Loss: -1.3768, Generator Loss: 0.2245\n",
      "Epoch 2200/20000, Adversial Loss: -1.4104, Generator Loss: 0.1944\n",
      "Epoch 2300/20000, Adversial Loss: -1.4635, Generator Loss: 0.1357\n",
      "Epoch 2400/20000, Adversial Loss: -0.0463, Generator Loss: -0.2775\n",
      "Epoch 2500/20000, Adversial Loss: -1.3538, Generator Loss: 0.1412\n",
      "Epoch 2600/20000, Adversial Loss: -1.2751, Generator Loss: 0.3230\n",
      "Epoch 2700/20000, Adversial Loss: 0.3590, Generator Loss: 0.2067\n",
      "Epoch 2800/20000, Adversial Loss: -1.1542, Generator Loss: 0.3088\n",
      "Epoch 2900/20000, Adversial Loss: -1.1502, Generator Loss: 0.1465\n",
      "Epoch 3000/20000, Adversial Loss: 2.5360, Generator Loss: 0.0474\n",
      "Epoch 3100/20000, Adversial Loss: 1.8088, Generator Loss: -0.0500\n",
      "Epoch 3200/20000, Adversial Loss: -0.6653, Generator Loss: -0.0858\n",
      "Epoch 3300/20000, Adversial Loss: -0.9635, Generator Loss: -0.1741\n",
      "Epoch 3400/20000, Adversial Loss: -1.1721, Generator Loss: 0.1436\n",
      "Epoch 3500/20000, Adversial Loss: 0.1368, Generator Loss: 0.3760\n",
      "Epoch 3600/20000, Adversial Loss: -0.6957, Generator Loss: 0.0885\n",
      "Epoch 3700/20000, Adversial Loss: -1.1429, Generator Loss: 0.3373\n",
      "Epoch 3800/20000, Adversial Loss: -0.6413, Generator Loss: 0.2549\n",
      "Epoch 3900/20000, Adversial Loss: -1.2621, Generator Loss: 0.3383\n",
      "Epoch 4000/20000, Adversial Loss: -0.8081, Generator Loss: 0.3645\n",
      "Epoch 4100/20000, Adversial Loss: -1.1222, Generator Loss: 0.2299\n",
      "Epoch 4200/20000, Adversial Loss: -1.3433, Generator Loss: 0.1623\n",
      "Epoch 4300/20000, Adversial Loss: 0.3188, Generator Loss: 0.4401\n",
      "Epoch 4400/20000, Adversial Loss: -0.8214, Generator Loss: -0.1057\n",
      "Epoch 4500/20000, Adversial Loss: -0.9982, Generator Loss: 0.1527\n",
      "Epoch 4600/20000, Adversial Loss: -1.0683, Generator Loss: 0.2141\n",
      "Epoch 4700/20000, Adversial Loss: -1.0303, Generator Loss: 0.3594\n",
      "Epoch 4800/20000, Adversial Loss: -0.4635, Generator Loss: 0.2616\n",
      "Epoch 4900/20000, Adversial Loss: -1.0910, Generator Loss: 0.4175\n",
      "Epoch 5000/20000, Adversial Loss: -0.6144, Generator Loss: 0.0998\n",
      "Epoch 5100/20000, Adversial Loss: -0.6920, Generator Loss: 0.2469\n",
      "Epoch 5200/20000, Adversial Loss: 0.8846, Generator Loss: 0.1864\n",
      "Epoch 5300/20000, Adversial Loss: -1.4578, Generator Loss: 0.2335\n",
      "Epoch 5400/20000, Adversial Loss: -0.3638, Generator Loss: -0.0415\n",
      "Epoch 5500/20000, Adversial Loss: -1.2046, Generator Loss: 0.1968\n",
      "Epoch 5600/20000, Adversial Loss: -1.0825, Generator Loss: 0.2198\n",
      "Epoch 5700/20000, Adversial Loss: 1.0982, Generator Loss: 0.0505\n",
      "Epoch 5800/20000, Adversial Loss: -1.2312, Generator Loss: 0.0497\n",
      "Epoch 5900/20000, Adversial Loss: 2.9100, Generator Loss: 0.1068\n",
      "Epoch 6000/20000, Adversial Loss: -0.0104, Generator Loss: -0.0359\n",
      "Epoch 6100/20000, Adversial Loss: -1.2181, Generator Loss: 0.3875\n",
      "Epoch 6200/20000, Adversial Loss: -1.3846, Generator Loss: 0.3276\n",
      "Epoch 6300/20000, Adversial Loss: -0.7410, Generator Loss: 0.0920\n",
      "Epoch 6400/20000, Adversial Loss: -0.8314, Generator Loss: 0.1692\n",
      "Epoch 6500/20000, Adversial Loss: -0.4631, Generator Loss: 0.0903\n",
      "Epoch 6600/20000, Adversial Loss: -1.0464, Generator Loss: 0.1157\n",
      "Epoch 6700/20000, Adversial Loss: -1.1019, Generator Loss: 0.2268\n",
      "Epoch 6800/20000, Adversial Loss: -0.9050, Generator Loss: 0.1048\n",
      "Epoch 6900/20000, Adversial Loss: -1.2481, Generator Loss: 0.1917\n",
      "Epoch 7000/20000, Adversial Loss: 0.0964, Generator Loss: 0.0212\n",
      "Epoch 7100/20000, Adversial Loss: -0.9904, Generator Loss: 0.2728\n",
      "Epoch 7200/20000, Adversial Loss: -0.4555, Generator Loss: 0.1297\n",
      "Epoch 7300/20000, Adversial Loss: 0.9244, Generator Loss: 0.1152\n",
      "Epoch 7400/20000, Adversial Loss: -1.1905, Generator Loss: 0.1285\n",
      "Epoch 7500/20000, Adversial Loss: -0.7788, Generator Loss: 0.2526\n",
      "Epoch 7600/20000, Adversial Loss: -1.0315, Generator Loss: 0.1190\n",
      "Epoch 7700/20000, Adversial Loss: -0.4931, Generator Loss: -0.1473\n",
      "Epoch 7800/20000, Adversial Loss: -1.2215, Generator Loss: 0.2328\n",
      "Epoch 7900/20000, Adversial Loss: -0.4859, Generator Loss: 0.4585\n",
      "Epoch 8000/20000, Adversial Loss: 0.3327, Generator Loss: 0.1689\n",
      "Epoch 8100/20000, Adversial Loss: -0.6126, Generator Loss: 0.2997\n",
      "Epoch 8200/20000, Adversial Loss: -1.1055, Generator Loss: 0.1098\n",
      "Epoch 8300/20000, Adversial Loss: -1.0524, Generator Loss: 0.2805\n",
      "Epoch 8400/20000, Adversial Loss: -0.7630, Generator Loss: 0.1640\n",
      "Epoch 8500/20000, Adversial Loss: -0.7685, Generator Loss: 0.2912\n",
      "Epoch 8600/20000, Adversial Loss: -0.1473, Generator Loss: 0.0268\n",
      "Epoch 8700/20000, Adversial Loss: -0.7790, Generator Loss: 0.1813\n",
      "Epoch 8800/20000, Adversial Loss: -1.2563, Generator Loss: 0.1036\n",
      "Epoch 8900/20000, Adversial Loss: -0.6273, Generator Loss: 0.1302\n",
      "Epoch 9000/20000, Adversial Loss: 0.5665, Generator Loss: 0.2556\n",
      "Epoch 9100/20000, Adversial Loss: -0.9680, Generator Loss: -0.0233\n",
      "Epoch 9200/20000, Adversial Loss: -0.5556, Generator Loss: 0.0336\n",
      "Epoch 9300/20000, Adversial Loss: -1.3205, Generator Loss: 0.1793\n",
      "Epoch 9400/20000, Adversial Loss: -1.1359, Generator Loss: 0.2888\n",
      "Epoch 9500/20000, Adversial Loss: -1.1874, Generator Loss: 0.1363\n",
      "Epoch 9600/20000, Adversial Loss: 0.2519, Generator Loss: 0.1574\n",
      "Epoch 9700/20000, Adversial Loss: -0.0052, Generator Loss: 0.0632\n",
      "Epoch 9800/20000, Adversial Loss: -0.3602, Generator Loss: 0.1427\n",
      "Epoch 9900/20000, Adversial Loss: -0.3424, Generator Loss: 0.0425\n",
      "Epoch 10000/20000, Adversial Loss: -1.1924, Generator Loss: 0.0409\n",
      "Epoch 10100/20000, Adversial Loss: 1.4508, Generator Loss: 0.2588\n",
      "Epoch 10200/20000, Adversial Loss: -1.2749, Generator Loss: 0.0941\n",
      "Epoch 10300/20000, Adversial Loss: -1.3745, Generator Loss: 0.0678\n",
      "Epoch 10400/20000, Adversial Loss: -0.7914, Generator Loss: 0.0498\n",
      "Epoch 10500/20000, Adversial Loss: 0.5315, Generator Loss: -0.0542\n",
      "Epoch 10600/20000, Adversial Loss: -1.1904, Generator Loss: 0.1111\n",
      "Epoch 10700/20000, Adversial Loss: -1.2784, Generator Loss: 0.0457\n",
      "Epoch 10800/20000, Adversial Loss: -0.9196, Generator Loss: 0.0385\n",
      "Epoch 10900/20000, Adversial Loss: -0.7225, Generator Loss: 0.0407\n",
      "Epoch 11000/20000, Adversial Loss: -1.2132, Generator Loss: -0.1672\n",
      "Epoch 11100/20000, Adversial Loss: -0.6871, Generator Loss: 0.0511\n",
      "Epoch 11200/20000, Adversial Loss: -0.8518, Generator Loss: 0.0948\n",
      "Epoch 11300/20000, Adversial Loss: -1.2723, Generator Loss: 0.2278\n",
      "Epoch 11400/20000, Adversial Loss: -0.8868, Generator Loss: 0.2493\n",
      "Epoch 11500/20000, Adversial Loss: -1.0202, Generator Loss: 0.2944\n",
      "Epoch 11600/20000, Adversial Loss: -1.0995, Generator Loss: 0.1673\n",
      "Epoch 11700/20000, Adversial Loss: -0.7271, Generator Loss: 0.0392\n",
      "Epoch 11800/20000, Adversial Loss: -0.3088, Generator Loss: 0.1366\n",
      "Epoch 11900/20000, Adversial Loss: -1.3821, Generator Loss: 0.0630\n",
      "Epoch 12000/20000, Adversial Loss: 0.5650, Generator Loss: 0.2078\n",
      "Epoch 12100/20000, Adversial Loss: -1.2033, Generator Loss: 0.1940\n",
      "Epoch 12200/20000, Adversial Loss: 0.8891, Generator Loss: 0.0201\n",
      "Epoch 12300/20000, Adversial Loss: -0.8189, Generator Loss: 0.1865\n",
      "Epoch 12400/20000, Adversial Loss: -1.1050, Generator Loss: 0.1494\n",
      "Epoch 12500/20000, Adversial Loss: -1.2718, Generator Loss: 0.3139\n",
      "Epoch 12600/20000, Adversial Loss: 0.6831, Generator Loss: 0.0603\n",
      "Epoch 12700/20000, Adversial Loss: -1.2577, Generator Loss: 0.1141\n",
      "Epoch 12800/20000, Adversial Loss: -0.6224, Generator Loss: 0.3425\n",
      "Epoch 12900/20000, Adversial Loss: -1.2767, Generator Loss: 0.2930\n",
      "Epoch 13000/20000, Adversial Loss: -0.1753, Generator Loss: 0.0998\n",
      "Epoch 13100/20000, Adversial Loss: -1.1857, Generator Loss: 0.0960\n",
      "Epoch 13200/20000, Adversial Loss: -0.5169, Generator Loss: -0.0302\n",
      "Epoch 13300/20000, Adversial Loss: -1.0011, Generator Loss: 0.1055\n",
      "Epoch 13400/20000, Adversial Loss: -0.3656, Generator Loss: 0.1511\n",
      "Epoch 13500/20000, Adversial Loss: -0.2242, Generator Loss: 0.0243\n",
      "Epoch 13600/20000, Adversial Loss: 0.0351, Generator Loss: 0.0919\n",
      "Epoch 13700/20000, Adversial Loss: -0.4899, Generator Loss: 0.0370\n",
      "Epoch 13800/20000, Adversial Loss: -1.0752, Generator Loss: 0.2588\n",
      "Epoch 13900/20000, Adversial Loss: -1.1291, Generator Loss: 0.2168\n",
      "Epoch 14000/20000, Adversial Loss: -0.9451, Generator Loss: 0.0023\n",
      "Epoch 14100/20000, Adversial Loss: -0.5175, Generator Loss: 0.0969\n",
      "Epoch 14200/20000, Adversial Loss: -1.4261, Generator Loss: 0.1789\n",
      "Epoch 14300/20000, Adversial Loss: -1.0037, Generator Loss: -0.0130\n",
      "Epoch 14400/20000, Adversial Loss: -0.7180, Generator Loss: 0.1048\n",
      "Epoch 14500/20000, Adversial Loss: 0.1069, Generator Loss: 0.0375\n",
      "Epoch 14600/20000, Adversial Loss: -1.2610, Generator Loss: 0.0293\n",
      "Epoch 14700/20000, Adversial Loss: -0.9025, Generator Loss: -0.0559\n",
      "Epoch 14800/20000, Adversial Loss: -1.1886, Generator Loss: -0.0835\n",
      "Epoch 14900/20000, Adversial Loss: -1.1266, Generator Loss: -0.0021\n",
      "Epoch 15000/20000, Adversial Loss: -0.7269, Generator Loss: 0.2760\n",
      "Epoch 15100/20000, Adversial Loss: -0.9512, Generator Loss: 0.0716\n",
      "Epoch 15200/20000, Adversial Loss: -0.8896, Generator Loss: -0.1004\n",
      "Epoch 15300/20000, Adversial Loss: -0.8701, Generator Loss: 0.3992\n",
      "Epoch 15400/20000, Adversial Loss: -1.3119, Generator Loss: -0.1389\n",
      "Epoch 15500/20000, Adversial Loss: -0.4500, Generator Loss: 0.0608\n",
      "Epoch 15600/20000, Adversial Loss: -0.7122, Generator Loss: 0.1868\n",
      "Epoch 15700/20000, Adversial Loss: -0.7081, Generator Loss: 0.1107\n",
      "Epoch 15800/20000, Adversial Loss: -0.2211, Generator Loss: -0.1692\n",
      "Epoch 15900/20000, Adversial Loss: -0.7982, Generator Loss: 0.1168\n",
      "Epoch 16000/20000, Adversial Loss: -0.0213, Generator Loss: 0.0543\n",
      "Epoch 16100/20000, Adversial Loss: 6.0014, Generator Loss: -0.1191\n",
      "Epoch 16200/20000, Adversial Loss: -1.3270, Generator Loss: 0.2271\n",
      "Epoch 16300/20000, Adversial Loss: -1.3336, Generator Loss: 0.1628\n",
      "Epoch 16400/20000, Adversial Loss: -1.2718, Generator Loss: 0.0862\n",
      "Epoch 16500/20000, Adversial Loss: -1.3702, Generator Loss: 0.2195\n",
      "Epoch 16600/20000, Adversial Loss: 0.0768, Generator Loss: -0.0903\n",
      "Epoch 16700/20000, Adversial Loss: -1.1353, Generator Loss: 0.2790\n",
      "Epoch 16800/20000, Adversial Loss: -0.8480, Generator Loss: 0.2503\n",
      "Epoch 16900/20000, Adversial Loss: -0.9376, Generator Loss: 0.2278\n",
      "Epoch 17000/20000, Adversial Loss: -0.2246, Generator Loss: -0.0987\n",
      "Epoch 17100/20000, Adversial Loss: -1.0641, Generator Loss: 0.2137\n",
      "Epoch 17200/20000, Adversial Loss: -1.0716, Generator Loss: 0.0574\n",
      "Epoch 17300/20000, Adversial Loss: -0.2918, Generator Loss: -0.0791\n",
      "Epoch 17400/20000, Adversial Loss: -1.0231, Generator Loss: 0.2866\n",
      "Epoch 17500/20000, Adversial Loss: -1.1715, Generator Loss: 0.0102\n",
      "Epoch 17600/20000, Adversial Loss: -1.0025, Generator Loss: 0.4141\n",
      "Epoch 17700/20000, Adversial Loss: -1.3157, Generator Loss: 0.0758\n",
      "Epoch 17800/20000, Adversial Loss: -1.4190, Generator Loss: -0.0400\n",
      "Epoch 17900/20000, Adversial Loss: -1.3249, Generator Loss: 0.2375\n",
      "Epoch 18000/20000, Adversial Loss: -1.1811, Generator Loss: 0.2855\n",
      "Epoch 18100/20000, Adversial Loss: -1.1209, Generator Loss: 0.0042\n",
      "Epoch 18200/20000, Adversial Loss: -0.4976, Generator Loss: 0.0874\n",
      "Epoch 18300/20000, Adversial Loss: -0.7320, Generator Loss: -0.0491\n",
      "Epoch 18400/20000, Adversial Loss: -1.2035, Generator Loss: 0.1857\n",
      "Epoch 18500/20000, Adversial Loss: -1.1191, Generator Loss: 0.2014\n",
      "Epoch 18600/20000, Adversial Loss: -0.9654, Generator Loss: 0.2494\n",
      "Epoch 18700/20000, Adversial Loss: -1.2482, Generator Loss: 0.1337\n",
      "Epoch 18800/20000, Adversial Loss: -1.0668, Generator Loss: 0.1147\n",
      "Epoch 18900/20000, Adversial Loss: 1.0498, Generator Loss: 0.1232\n",
      "Epoch 19000/20000, Adversial Loss: -1.3285, Generator Loss: 0.1643\n",
      "Epoch 19100/20000, Adversial Loss: -0.9430, Generator Loss: 0.1235\n",
      "Epoch 19200/20000, Adversial Loss: -1.0352, Generator Loss: 0.0735\n",
      "Epoch 19300/20000, Adversial Loss: -1.0790, Generator Loss: -0.0439\n",
      "Epoch 19400/20000, Adversial Loss: -1.1575, Generator Loss: -0.0726\n",
      "Epoch 19500/20000, Adversial Loss: -0.1828, Generator Loss: 0.0626\n",
      "Epoch 19600/20000, Adversial Loss: -0.4008, Generator Loss: -0.0840\n",
      "Epoch 19700/20000, Adversial Loss: -1.1593, Generator Loss: -0.0280\n",
      "Epoch 19800/20000, Adversial Loss: -1.1651, Generator Loss: -0.0213\n",
      "Epoch 19900/20000, Adversial Loss: -0.5587, Generator Loss: 0.1493\n",
      "Epoch 20000/20000, Adversial Loss: -0.7858, Generator Loss: 0.1099\n"
     ]
    }
   ],
   "source": [
    "learning_rate = 2e-4\n",
    "k = 5\n",
    "c = 0.01\n",
    "lambda_gp = 10\n",
    "\n",
    "# less epoch as can easily overfit\n",
    "num_epoch = 20000\n",
    "\n",
    "lossi_gen = []\n",
    "lossi_adv = []\n",
    "\n",
    "total_samples = len(train_loader)\n",
    "\n",
    "advOptimizer = torch.optim.AdamW(adv.parameters(), lr=learning_rate, betas=(0.5, 0.999))\n",
    "generatorOptimizer = torch.optim.AdamW(generator.parameters(), lr=learning_rate, betas=(0.5, 0.999))\n",
    "\n",
    "generator = generator.to(device)\n",
    "adv = adv.to(device)\n",
    "\n",
    "train_loader_iter_adv_training = itertools.cycle(iter(train_loader))\n",
    "\n",
    "for epoch in range(num_epoch):\n",
    "    adv.train()\n",
    "    generator.eval()\n",
    "    \n",
    "    for _ in range(k):\n",
    "        advOptimizer.zero_grad()\n",
    "        \n",
    "        feature, _ = next(train_loader_iter_adv_training)\n",
    "        feature = feature.to(device)\n",
    "        # print(f\"feature: {feature}\")\n",
    "        # print(f\"feature.shape: {feature.shape}\")\n",
    "\n",
    "        pred_data = adv(feature)\n",
    "        # print(f\"pred_data: {pred_data}\")\n",
    "        # print(f\"pred_data.shape: {pred_data.shape}\")\n",
    "\n",
    "        noise = torch.randn(batch_size, 100)\n",
    "        noise = noise.to(device)\n",
    "        # print(f\"noise: {noise}\")\n",
    "        # print(f\"noise.shape: {noise.shape}\")\n",
    "    \n",
    "        gen_data = generator(noise)\n",
    "        # print(f\"gen_data: {noise}\")\n",
    "        # print(f\"gen_data.shape: {gen_data.shape}\")\n",
    "        \n",
    "        pred_gen_data = adv(gen_data)\n",
    "        # print(f\"pred_gen_data: {pred_gen_data}\")\n",
    "        # print(f\"pred_gen_data.shape: {pred_gen_data.shape}\")\n",
    "\n",
    "        # loss\n",
    "        gp = gradientPenalty(feature, gen_data, adv)\n",
    "        advLoss = adversarialLoss(pred_data, pred_gen_data, gp, lambda_gp)\n",
    "\n",
    "        advLoss.backward()\n",
    "        advOptimizer.step()\n",
    "\n",
    "        for p in adv.parameters():\n",
    "            p.data.clamp_(-c, c)\n",
    "\n",
    "        lossi_adv.append(advLoss.detach().cpu())\n",
    "\n",
    "        # raise Exception(\"Error\")\n",
    "\n",
    "    generatorOptimizer.zero_grad()\n",
    "\n",
    "    adv.eval()\n",
    "    generator.train()\n",
    "\n",
    "    noise = torch.randn(batch_size, 100)\n",
    "    noise = noise.to(device)\n",
    "    # print(f\"noise: {noise}\")\n",
    "    # print(f\"noise.shape: {noise.shape}\")\n",
    "\n",
    "    gen_data = generator(noise)\n",
    "    # print(f\"gen_data: {noise}\")\n",
    "    # print(f\"gen_data.shape: {gen_data.shape}\")\n",
    "\n",
    "    pred_gen_data = adv(gen_data)\n",
    "    # print(f\"pred_gen_data: {pred_gen_data}\")\n",
    "    # print(f\"pred_gen_data.shape: {pred_gen_data.shape}\")\n",
    "    \n",
    "    # loss\n",
    "    genLoss = generatorLoss(pred_gen_data)\n",
    "\n",
    "    genLoss.backward()\n",
    "    generatorOptimizer.step()\n",
    "\n",
    "    lossi_gen.append(genLoss.detach().cpu())\n",
    "\n",
    "    if ((epoch+1)%100==0):\n",
    "        print(f\"Epoch {epoch+1}/{num_epoch}, Adversial Loss: {advLoss.item():.4f}, Generator Loss: {genLoss.item():.4f}\")"
   ]
  },
  {
   "cell_type": "code",
   "execution_count": 18,
   "id": "cc9573ff",
   "metadata": {
    "execution": {
     "iopub.execute_input": "2025-03-07T19:35:51.210693Z",
     "iopub.status.busy": "2025-03-07T19:35:51.210424Z",
     "iopub.status.idle": "2025-03-07T19:35:51.213663Z",
     "shell.execute_reply": "2025-03-07T19:35:51.213036Z"
    },
    "papermill": {
     "duration": 0.018836,
     "end_time": "2025-03-07T19:35:51.214758",
     "exception": false,
     "start_time": "2025-03-07T19:35:51.195922",
     "status": "completed"
    },
    "tags": []
   },
   "outputs": [],
   "source": [
    "import matplotlib.pyplot as plt"
   ]
  },
  {
   "cell_type": "code",
   "execution_count": 19,
   "id": "d0a1fcde",
   "metadata": {
    "execution": {
     "iopub.execute_input": "2025-03-07T19:35:51.242670Z",
     "iopub.status.busy": "2025-03-07T19:35:51.242393Z",
     "iopub.status.idle": "2025-03-07T19:35:52.528029Z",
     "shell.execute_reply": "2025-03-07T19:35:52.527143Z"
    },
    "papermill": {
     "duration": 1.30112,
     "end_time": "2025-03-07T19:35:52.529305",
     "exception": false,
     "start_time": "2025-03-07T19:35:51.228185",
     "status": "completed"
    },
    "tags": []
   },
   "outputs": [
    {
     "data": {
      "text/plain": [
       "[<matplotlib.lines.Line2D at 0x7895a232feb0>]"
      ]
     },
     "execution_count": 19,
     "metadata": {},
     "output_type": "execute_result"
    },
    {
     "data": {
      "image/png": "[encoded data removed]",
      "text/plain": [
       "<Figure size 640x480 with 1 Axes>"
      ]
     },
     "metadata": {},
     "output_type": "display_data"
    }
   ],
   "source": [
    "plt.plot(lossi_adv, c=\"red\")\n",
    "plt.plot(lossi_gen, c=\"blue\")"
   ]
  },
  {
   "cell_type": "code",
   "execution_count": 20,
   "id": "edce63b7",
   "metadata": {
    "execution": {
     "iopub.execute_input": "2025-03-07T19:35:52.558722Z",
     "iopub.status.busy": "2025-03-07T19:35:52.558476Z",
     "iopub.status.idle": "2025-03-07T19:35:52.707042Z",
     "shell.execute_reply": "2025-03-07T19:35:52.706173Z"
    },
    "papermill": {
     "duration": 0.164783,
     "end_time": "2025-03-07T19:35:52.708467",
     "exception": false,
     "start_time": "2025-03-07T19:35:52.543684",
     "status": "completed"
    },
    "tags": []
   },
   "outputs": [
    {
     "name": "stdout",
     "output_type": "stream",
     "text": [
      "torch.Size([1, 1, 28, 28])\n"
     ]
    },
    {
     "data": {
      "image/png": "[encoded data removed]",
      "text/plain": [
       "<Figure size 640x480 with 1 Axes>"
      ]
     },
     "metadata": {},
     "output_type": "display_data"
    }
   ],
   "source": [
    "generator.eval()\n",
    "\n",
    "with torch.no_grad():\n",
    "    noise = torch.randn(1,100)\n",
    "    noise = noise.to(device)\n",
    "    \n",
    "    gen_img = generator(noise)\n",
    "    print(gen_img.shape)\n",
    "    img = gen_img.view(1, 28, 28)\n",
    "    \n",
    "    plt.imshow(img.squeeze().cpu(), cmap=\"gray\")\n",
    "    plt.show()"
   ]
  },
  {
   "cell_type": "code",
   "execution_count": null,
   "id": "3adeefb9",
   "metadata": {
    "papermill": {
     "duration": 0.014199,
     "end_time": "2025-03-07T19:35:52.737712",
     "exception": false,
     "start_time": "2025-03-07T19:35:52.723513",
     "status": "completed"
    },
    "tags": []
   },
   "outputs": [],
   "source": []
  }
 ],
 "metadata": {
  "kaggle": {
   "accelerator": "nvidiaTeslaT4",
   "dataSources": [],
   "dockerImageVersionId": 30918,
   "isGpuEnabled": true,
   "isInternetEnabled": true,
   "language": "python",
   "sourceType": "notebook"
  },
  "kernelspec": {
   "display_name": "Python 3",
   "language": "python",
   "name": "python3"
  },
  "language_info": {
   "codemirror_mode": {
    "name": "ipython",
    "version": 3
   },
   "file_extension": ".py",
   "mimetype": "text/x-python",
   "name": "python",
   "nbconvert_exporter": "python",
   "pygments_lexer": "ipython3",
   "version": "3.10.12"
  },
  "papermill": {
   "default_parameters": {},
   "duration": 5901.893656,
   "end_time": "2025-03-07T19:35:54.482108",
   "environment_variables": {},
   "exception": null,
   "input_path": "__notebook__.ipynb",
   "output_path": "__notebook__.ipynb",
   "parameters": {},
   "start_time": "2025-03-07T17:57:32.588452",
   "version": "2.6.0"
  }
 },
 "nbformat": 4,
 "nbformat_minor": 5
}
