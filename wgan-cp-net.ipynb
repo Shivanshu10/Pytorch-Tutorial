{
 "cells": [
  {
   "cell_type": "code",
   "execution_count": 1,
   "id": "8d44a04d",
   "metadata": {
    "_cell_guid": "b1076dfc-b9ad-4769-8c92-a6c4dae69d19",
    "_uuid": "8f2839f25d086af736a60e9eeb907d3b93b6e0e5",
    "execution": {
     "iopub.execute_input": "2025-03-04T04:13:17.221542Z",
     "iopub.status.busy": "2025-03-04T04:13:17.221330Z",
     "iopub.status.idle": "2025-03-04T04:13:24.424737Z",
     "shell.execute_reply": "2025-03-04T04:13:24.423861Z"
    },
    "papermill": {
     "duration": 7.209942,
     "end_time": "2025-03-04T04:13:24.426334",
     "exception": false,
     "start_time": "2025-03-04T04:13:17.216392",
     "status": "completed"
    },
    "tags": []
   },
   "outputs": [],
   "source": [
    "import torch\n",
    "import torch.nn as nn\n",
    "import torchvision\n",
    "from torchvision import transforms"
   ]
  },
  {
   "cell_type": "code",
   "execution_count": 2,
   "id": "ab91a465",
   "metadata": {
    "execution": {
     "iopub.execute_input": "2025-03-04T04:13:24.435473Z",
     "iopub.status.busy": "2025-03-04T04:13:24.435119Z",
     "iopub.status.idle": "2025-03-04T04:13:24.438455Z",
     "shell.execute_reply": "2025-03-04T04:13:24.437789Z"
    },
    "papermill": {
     "duration": 0.008784,
     "end_time": "2025-03-04T04:13:24.439585",
     "exception": false,
     "start_time": "2025-03-04T04:13:24.430801",
     "status": "completed"
    },
    "tags": []
   },
   "outputs": [],
   "source": [
    "mnist_transform = transforms.Compose([\n",
    "    transforms.ToTensor(),\n",
    "])"
   ]
  },
  {
   "cell_type": "code",
   "execution_count": 3,
   "id": "227445a7",
   "metadata": {
    "execution": {
     "iopub.execute_input": "2025-03-04T04:13:24.447460Z",
     "iopub.status.busy": "2025-03-04T04:13:24.447255Z",
     "iopub.status.idle": "2025-03-04T04:13:28.396702Z",
     "shell.execute_reply": "2025-03-04T04:13:28.395665Z"
    },
    "papermill": {
     "duration": 3.954918,
     "end_time": "2025-03-04T04:13:28.398189",
     "exception": false,
     "start_time": "2025-03-04T04:13:24.443271",
     "status": "completed"
    },
    "tags": []
   },
   "outputs": [
    {
     "name": "stdout",
     "output_type": "stream",
     "text": [
      "Downloading http://yann.lecun.com/exdb/mnist/train-images-idx3-ubyte.gz\n",
      "Failed to download (trying next):\n",
      "HTTP Error 404: Not Found\n",
      "\n",
      "Downloading https://ossci-datasets.s3.amazonaws.com/mnist/train-images-idx3-ubyte.gz\n",
      "Downloading https://ossci-datasets.s3.amazonaws.com/mnist/train-images-idx3-ubyte.gz to ./MNIST/raw/train-images-idx3-ubyte.gz\n"
     ]
    },
    {
     "name": "stderr",
     "output_type": "stream",
     "text": [
      "100%|██████████| 9.91M/9.91M [00:00<00:00, 17.8MB/s]\n"
     ]
    },
    {
     "name": "stdout",
     "output_type": "stream",
     "text": [
      "Extracting ./MNIST/raw/train-images-idx3-ubyte.gz to ./MNIST/raw\n",
      "\n",
      "Downloading http://yann.lecun.com/exdb/mnist/train-labels-idx1-ubyte.gz\n",
      "Failed to download (trying next):\n",
      "HTTP Error 404: Not Found\n",
      "\n",
      "Downloading https://ossci-datasets.s3.amazonaws.com/mnist/train-labels-idx1-ubyte.gz\n",
      "Downloading https://ossci-datasets.s3.amazonaws.com/mnist/train-labels-idx1-ubyte.gz to ./MNIST/raw/train-labels-idx1-ubyte.gz\n"
     ]
    },
    {
     "name": "stderr",
     "output_type": "stream",
     "text": [
      "100%|██████████| 28.9k/28.9k [00:00<00:00, 477kB/s]\n"
     ]
    },
    {
     "name": "stdout",
     "output_type": "stream",
     "text": [
      "Extracting ./MNIST/raw/train-labels-idx1-ubyte.gz to ./MNIST/raw\n",
      "\n",
      "Downloading http://yann.lecun.com/exdb/mnist/t10k-images-idx3-ubyte.gz\n",
      "Failed to download (trying next):\n",
      "HTTP Error 404: Not Found\n",
      "\n",
      "Downloading https://ossci-datasets.s3.amazonaws.com/mnist/t10k-images-idx3-ubyte.gz\n",
      "Downloading https://ossci-datasets.s3.amazonaws.com/mnist/t10k-images-idx3-ubyte.gz to ./MNIST/raw/t10k-images-idx3-ubyte.gz\n"
     ]
    },
    {
     "name": "stderr",
     "output_type": "stream",
     "text": [
      "100%|██████████| 1.65M/1.65M [00:00<00:00, 4.47MB/s]\n"
     ]
    },
    {
     "name": "stdout",
     "output_type": "stream",
     "text": [
      "Extracting ./MNIST/raw/t10k-images-idx3-ubyte.gz to ./MNIST/raw\n",
      "\n",
      "Downloading http://yann.lecun.com/exdb/mnist/t10k-labels-idx1-ubyte.gz\n",
      "Failed to download (trying next):\n",
      "HTTP Error 404: Not Found\n",
      "\n",
      "Downloading https://ossci-datasets.s3.amazonaws.com/mnist/t10k-labels-idx1-ubyte.gz\n",
      "Downloading https://ossci-datasets.s3.amazonaws.com/mnist/t10k-labels-idx1-ubyte.gz to ./MNIST/raw/t10k-labels-idx1-ubyte.gz\n"
     ]
    },
    {
     "name": "stderr",
     "output_type": "stream",
     "text": [
      "100%|██████████| 4.54k/4.54k [00:00<00:00, 6.15MB/s]"
     ]
    },
    {
     "name": "stdout",
     "output_type": "stream",
     "text": [
      "Extracting ./MNIST/raw/t10k-labels-idx1-ubyte.gz to ./MNIST/raw\n",
      "\n"
     ]
    },
    {
     "name": "stderr",
     "output_type": "stream",
     "text": [
      "\n"
     ]
    }
   ],
   "source": [
    "mnist_train = torchvision.datasets.MNIST(\".\", train=True, download=True, transform=mnist_transform)\n",
    "mnist_test = torchvision.datasets.MNIST(\".\", train=False, download=True, transform=mnist_transform)"
   ]
  },
  {
   "cell_type": "code",
   "execution_count": 4,
   "id": "262f4c51",
   "metadata": {
    "execution": {
     "iopub.execute_input": "2025-03-04T04:13:28.409218Z",
     "iopub.status.busy": "2025-03-04T04:13:28.408949Z",
     "iopub.status.idle": "2025-03-04T04:13:28.412333Z",
     "shell.execute_reply": "2025-03-04T04:13:28.411534Z"
    },
    "papermill": {
     "duration": 0.010222,
     "end_time": "2025-03-04T04:13:28.413680",
     "exception": false,
     "start_time": "2025-03-04T04:13:28.403458",
     "status": "completed"
    },
    "tags": []
   },
   "outputs": [],
   "source": [
    "from torch.utils.data import random_split"
   ]
  },
  {
   "cell_type": "code",
   "execution_count": 5,
   "id": "610b9c8c",
   "metadata": {
    "execution": {
     "iopub.execute_input": "2025-03-04T04:13:28.424271Z",
     "iopub.status.busy": "2025-03-04T04:13:28.424019Z",
     "iopub.status.idle": "2025-03-04T04:13:28.441641Z",
     "shell.execute_reply": "2025-03-04T04:13:28.440900Z"
    },
    "papermill": {
     "duration": 0.024146,
     "end_time": "2025-03-04T04:13:28.442836",
     "exception": false,
     "start_time": "2025-03-04T04:13:28.418690",
     "status": "completed"
    },
    "tags": []
   },
   "outputs": [],
   "source": [
    "# Define split ratios\n",
    "train_size = int(0.8 * len(mnist_train))\n",
    "val_size = int(0.2 * len(mnist_train))\n",
    "\n",
    "# Split dataset\n",
    "train_dataset, val_dataset = random_split(mnist_train, [train_size, val_size])"
   ]
  },
  {
   "cell_type": "code",
   "execution_count": 6,
   "id": "ef77b41f",
   "metadata": {
    "execution": {
     "iopub.execute_input": "2025-03-04T04:13:28.453458Z",
     "iopub.status.busy": "2025-03-04T04:13:28.453263Z",
     "iopub.status.idle": "2025-03-04T04:13:28.455933Z",
     "shell.execute_reply": "2025-03-04T04:13:28.455371Z"
    },
    "papermill": {
     "duration": 0.009407,
     "end_time": "2025-03-04T04:13:28.457215",
     "exception": false,
     "start_time": "2025-03-04T04:13:28.447808",
     "status": "completed"
    },
    "tags": []
   },
   "outputs": [],
   "source": [
    "from torch.utils.data import DataLoader"
   ]
  },
  {
   "cell_type": "code",
   "execution_count": 7,
   "id": "04c77286",
   "metadata": {
    "execution": {
     "iopub.execute_input": "2025-03-04T04:13:28.467849Z",
     "iopub.status.busy": "2025-03-04T04:13:28.467652Z",
     "iopub.status.idle": "2025-03-04T04:13:28.471358Z",
     "shell.execute_reply": "2025-03-04T04:13:28.470728Z"
    },
    "papermill": {
     "duration": 0.010233,
     "end_time": "2025-03-04T04:13:28.472530",
     "exception": false,
     "start_time": "2025-03-04T04:13:28.462297",
     "status": "completed"
    },
    "tags": []
   },
   "outputs": [],
   "source": [
    "batch_size = 32\n",
    "\n",
    "train_loader = DataLoader(train_dataset, batch_size=batch_size, shuffle=True)\n",
    "val_loader = DataLoader(val_dataset, batch_size=batch_size, shuffle=True)\n",
    "\n",
    "pred_loader = DataLoader(mnist_test, batch_size=batch_size, shuffle=True)"
   ]
  },
  {
   "cell_type": "code",
   "execution_count": 8,
   "id": "d0ed7770",
   "metadata": {
    "execution": {
     "iopub.execute_input": "2025-03-04T04:13:28.483282Z",
     "iopub.status.busy": "2025-03-04T04:13:28.483056Z",
     "iopub.status.idle": "2025-03-04T04:13:28.537970Z",
     "shell.execute_reply": "2025-03-04T04:13:28.537243Z"
    },
    "papermill": {
     "duration": 0.061309,
     "end_time": "2025-03-04T04:13:28.539073",
     "exception": false,
     "start_time": "2025-03-04T04:13:28.477764",
     "status": "completed"
    },
    "tags": []
   },
   "outputs": [
    {
     "name": "stdout",
     "output_type": "stream",
     "text": [
      "Using device: cuda\n"
     ]
    }
   ],
   "source": [
    "device = torch.device(\"cuda\" if torch.cuda.is_available() else \"cpu\")\n",
    "print(f\"Using device: {device}\")"
   ]
  },
  {
   "cell_type": "code",
   "execution_count": 9,
   "id": "69937948",
   "metadata": {
    "execution": {
     "iopub.execute_input": "2025-03-04T04:13:28.549739Z",
     "iopub.status.busy": "2025-03-04T04:13:28.549532Z",
     "iopub.status.idle": "2025-03-04T04:13:28.553606Z",
     "shell.execute_reply": "2025-03-04T04:13:28.553010Z"
    },
    "papermill": {
     "duration": 0.010497,
     "end_time": "2025-03-04T04:13:28.554693",
     "exception": false,
     "start_time": "2025-03-04T04:13:28.544196",
     "status": "completed"
    },
    "tags": []
   },
   "outputs": [],
   "source": [
    "class Generator(nn.Module):\n",
    "    def __init__(self, dropout_prob=0.1):\n",
    "        super().__init__()\n",
    "\n",
    "        self.layers = nn.ModuleList([\n",
    "            nn.Flatten(),\n",
    "            \n",
    "            nn.Linear(28*28, 1200),\n",
    "            nn.ReLU(),\n",
    "            nn.Dropout(dropout_prob),\n",
    "\n",
    "            nn.Linear(1200, 1200),\n",
    "            nn.ReLU(),\n",
    "            nn.Dropout(dropout_prob),\n",
    "\n",
    "            nn.Linear(1200, 28*28)\n",
    "        ])\n",
    "\n",
    "    def forward(self, x):\n",
    "        for layer in self.layers:\n",
    "            x = layer(x)\n",
    "        return x"
   ]
  },
  {
   "cell_type": "code",
   "execution_count": 10,
   "id": "53a6eef4",
   "metadata": {
    "execution": {
     "iopub.execute_input": "2025-03-04T04:13:28.565582Z",
     "iopub.status.busy": "2025-03-04T04:13:28.565387Z",
     "iopub.status.idle": "2025-03-04T04:13:28.599228Z",
     "shell.execute_reply": "2025-03-04T04:13:28.598656Z"
    },
    "papermill": {
     "duration": 0.040662,
     "end_time": "2025-03-04T04:13:28.600454",
     "exception": false,
     "start_time": "2025-03-04T04:13:28.559792",
     "status": "completed"
    },
    "tags": []
   },
   "outputs": [],
   "source": [
    "generator = Generator(dropout_prob=0.1)"
   ]
  },
  {
   "cell_type": "code",
   "execution_count": 11,
   "id": "196580d6",
   "metadata": {
    "execution": {
     "iopub.execute_input": "2025-03-04T04:13:28.611061Z",
     "iopub.status.busy": "2025-03-04T04:13:28.610863Z",
     "iopub.status.idle": "2025-03-04T04:13:28.615216Z",
     "shell.execute_reply": "2025-03-04T04:13:28.614561Z"
    },
    "papermill": {
     "duration": 0.011128,
     "end_time": "2025-03-04T04:13:28.616566",
     "exception": false,
     "start_time": "2025-03-04T04:13:28.605438",
     "status": "completed"
    },
    "tags": []
   },
   "outputs": [],
   "source": [
    "class Adversial(nn.Module):\n",
    "    def __init__(self, dropout_prob=0.1):\n",
    "        super().__init__()\n",
    "\n",
    "        self.layers = nn.ModuleList([\n",
    "            nn.Flatten(),\n",
    "            \n",
    "            nn.Linear(28*28, 600),\n",
    "            nn.ReLU(),\n",
    "            nn.Dropout(dropout_prob),\n",
    "\n",
    "            nn.Linear(600, 600),\n",
    "            nn.ReLU(),\n",
    "            nn.Dropout(dropout_prob),\n",
    "\n",
    "            nn.Linear(600, 1)\n",
    "        ])\n",
    "\n",
    "    def forward(self, x):\n",
    "        for layer in self.layers:\n",
    "            x = layer(x)\n",
    "        return x"
   ]
  },
  {
   "cell_type": "code",
   "execution_count": 12,
   "id": "53c402a4",
   "metadata": {
    "execution": {
     "iopub.execute_input": "2025-03-04T04:13:28.627083Z",
     "iopub.status.busy": "2025-03-04T04:13:28.626886Z",
     "iopub.status.idle": "2025-03-04T04:13:28.635766Z",
     "shell.execute_reply": "2025-03-04T04:13:28.635214Z"
    },
    "papermill": {
     "duration": 0.015344,
     "end_time": "2025-03-04T04:13:28.636881",
     "exception": false,
     "start_time": "2025-03-04T04:13:28.621537",
     "status": "completed"
    },
    "tags": []
   },
   "outputs": [],
   "source": [
    "adv = Adversial(dropout_prob=0.1)"
   ]
  },
  {
   "cell_type": "code",
   "execution_count": 13,
   "id": "eb7de069",
   "metadata": {
    "execution": {
     "iopub.execute_input": "2025-03-04T04:13:28.647453Z",
     "iopub.status.busy": "2025-03-04T04:13:28.647257Z",
     "iopub.status.idle": "2025-03-04T04:13:28.651911Z",
     "shell.execute_reply": "2025-03-04T04:13:28.651294Z"
    },
    "papermill": {
     "duration": 0.011178,
     "end_time": "2025-03-04T04:13:28.653015",
     "exception": false,
     "start_time": "2025-03-04T04:13:28.641837",
     "status": "completed"
    },
    "tags": []
   },
   "outputs": [
    {
     "data": {
      "text/plain": [
       "1500"
      ]
     },
     "execution_count": 13,
     "metadata": {},
     "output_type": "execute_result"
    }
   ],
   "source": [
    "num_batches = len(train_loader)\n",
    "num_batches"
   ]
  },
  {
   "cell_type": "code",
   "execution_count": 14,
   "id": "ede5a083",
   "metadata": {
    "execution": {
     "iopub.execute_input": "2025-03-04T04:13:28.663620Z",
     "iopub.status.busy": "2025-03-04T04:13:28.663415Z",
     "iopub.status.idle": "2025-03-04T04:13:28.666242Z",
     "shell.execute_reply": "2025-03-04T04:13:28.665613Z"
    },
    "papermill": {
     "duration": 0.009388,
     "end_time": "2025-03-04T04:13:28.667437",
     "exception": false,
     "start_time": "2025-03-04T04:13:28.658049",
     "status": "completed"
    },
    "tags": []
   },
   "outputs": [],
   "source": [
    "import itertools"
   ]
  },
  {
   "cell_type": "code",
   "execution_count": 15,
   "id": "da97b7d5",
   "metadata": {
    "execution": {
     "iopub.execute_input": "2025-03-04T04:13:28.678227Z",
     "iopub.status.busy": "2025-03-04T04:13:28.678002Z",
     "iopub.status.idle": "2025-03-04T04:13:28.681153Z",
     "shell.execute_reply": "2025-03-04T04:13:28.680606Z"
    },
    "papermill": {
     "duration": 0.009912,
     "end_time": "2025-03-04T04:13:28.682431",
     "exception": false,
     "start_time": "2025-03-04T04:13:28.672519",
     "status": "completed"
    },
    "tags": []
   },
   "outputs": [],
   "source": [
    "import torch.nn.functional as F\n",
    "\n",
    "def adversarialLoss(d_x, d_g_z):\n",
    "    return -d_x.mean() + d_g_z.mean()\n",
    "\n",
    "def generatorLoss(d_g_z):\n",
    "    return -d_g_z.mean()"
   ]
  },
  {
   "cell_type": "code",
   "execution_count": 16,
   "id": "d8b2779f",
   "metadata": {
    "execution": {
     "iopub.execute_input": "2025-03-04T04:13:28.693370Z",
     "iopub.status.busy": "2025-03-04T04:13:28.693126Z",
     "iopub.status.idle": "2025-03-04T04:13:28.695783Z",
     "shell.execute_reply": "2025-03-04T04:13:28.695220Z"
    },
    "papermill": {
     "duration": 0.00923,
     "end_time": "2025-03-04T04:13:28.696837",
     "exception": false,
     "start_time": "2025-03-04T04:13:28.687607",
     "status": "completed"
    },
    "tags": []
   },
   "outputs": [],
   "source": [
    "import math"
   ]
  },
  {
   "cell_type": "code",
   "execution_count": 17,
   "id": "8f9fba90",
   "metadata": {
    "execution": {
     "iopub.execute_input": "2025-03-04T04:13:28.707950Z",
     "iopub.status.busy": "2025-03-04T04:13:28.707746Z",
     "iopub.status.idle": "2025-03-04T04:19:13.868660Z",
     "shell.execute_reply": "2025-03-04T04:19:13.867695Z"
    },
    "papermill": {
     "duration": 345.173625,
     "end_time": "2025-03-04T04:19:13.875535",
     "exception": false,
     "start_time": "2025-03-04T04:13:28.701910",
     "status": "completed"
    },
    "tags": []
   },
   "outputs": [
    {
     "name": "stdout",
     "output_type": "stream",
     "text": [
      "Epoch 1000/20000, Adversial Loss: -0.9207, Generator Loss: -0.4716\n",
      "Epoch 2000/20000, Adversial Loss: -0.2848, Generator Loss: 0.2016\n",
      "Epoch 3000/20000, Adversial Loss: -0.5684, Generator Loss: 0.8277\n",
      "Epoch 4000/20000, Adversial Loss: -0.2993, Generator Loss: 1.8416\n",
      "Epoch 5000/20000, Adversial Loss: -0.2654, Generator Loss: -0.2086\n",
      "Epoch 6000/20000, Adversial Loss: -0.2511, Generator Loss: -0.4116\n",
      "Epoch 7000/20000, Adversial Loss: -0.1171, Generator Loss: 0.6011\n",
      "Epoch 8000/20000, Adversial Loss: -0.0490, Generator Loss: 0.1393\n",
      "Epoch 9000/20000, Adversial Loss: -0.0234, Generator Loss: 0.0053\n",
      "Epoch 10000/20000, Adversial Loss: -0.0260, Generator Loss: -0.1296\n",
      "Epoch 11000/20000, Adversial Loss: -0.0505, Generator Loss: -0.0558\n",
      "Epoch 12000/20000, Adversial Loss: 0.0057, Generator Loss: -0.0002\n",
      "Epoch 13000/20000, Adversial Loss: -0.0357, Generator Loss: 0.0608\n",
      "Epoch 14000/20000, Adversial Loss: -0.0391, Generator Loss: -0.0178\n",
      "Epoch 15000/20000, Adversial Loss: -0.0359, Generator Loss: 0.0036\n",
      "Epoch 16000/20000, Adversial Loss: -0.0310, Generator Loss: 0.0646\n",
      "Epoch 17000/20000, Adversial Loss: -0.0349, Generator Loss: 0.0912\n",
      "Epoch 18000/20000, Adversial Loss: -0.0172, Generator Loss: 0.0906\n",
      "Epoch 19000/20000, Adversial Loss: -0.0468, Generator Loss: 0.1338\n",
      "Epoch 20000/20000, Adversial Loss: -0.0001, Generator Loss: 0.0308\n"
     ]
    }
   ],
   "source": [
    "learning_rate = 1e-3\n",
    "k = 5\n",
    "c = 0.01\n",
    "\n",
    "# less epoch as can easily overfit\n",
    "num_epoch = 20000\n",
    "\n",
    "lossi_gen = []\n",
    "lossi_adv = []\n",
    "\n",
    "total_samples = len(train_loader)\n",
    "\n",
    "advOptimizer = torch.optim.RMSprop(adv.parameters(), lr=learning_rate)\n",
    "generatorOptimizer = torch.optim.RMSprop(generator.parameters(), lr=learning_rate)\n",
    "\n",
    "generator = generator.to(device)\n",
    "adv = adv.to(device)\n",
    "\n",
    "train_loader_iter_adv_training = itertools.cycle(iter(train_loader))\n",
    "\n",
    "for epoch in range(num_epoch):\n",
    "    adv.train()\n",
    "    generator.eval()\n",
    "    \n",
    "    for _ in range(k):\n",
    "        advOptimizer.zero_grad()\n",
    "        \n",
    "        feature, _ = next(train_loader_iter_adv_training)\n",
    "        feature = feature.to(device)\n",
    "        # print(f\"feature: {feature}\")\n",
    "        # print(f\"feature.shape: {feature.shape}\")\n",
    "\n",
    "        pred_data = adv(feature)\n",
    "        # print(f\"pred_data: {pred_data}\")\n",
    "        # print(f\"pred_data.shape: {pred_data.shape}\")\n",
    "\n",
    "        noise = torch.randn(batch_size, 1, 28, 28)\n",
    "        noise = noise.to(device)\n",
    "        # print(f\"noise: {noise}\")\n",
    "        # print(f\"noise.shape: {noise.shape}\")\n",
    "    \n",
    "        gen_data = generator(noise)\n",
    "        # print(f\"gen_data: {noise}\")\n",
    "        # print(f\"gen_data.shape: {gen_data.shape}\")\n",
    "        \n",
    "        pred_gen_data = adv(gen_data)\n",
    "        # print(f\"pred_gen_data: {pred_gen_data}\")\n",
    "        # print(f\"pred_gen_data.shape: {pred_gen_data.shape}\")\n",
    "\n",
    "        # loss\n",
    "        advLoss = adversarialLoss(pred_data, pred_gen_data)\n",
    "\n",
    "        advLoss.backward()\n",
    "        advOptimizer.step()\n",
    "\n",
    "        for p in adv.parameters():\n",
    "            p.data.clamp_(-c, c)\n",
    "\n",
    "        lossi_adv.append(advLoss.detach().cpu())\n",
    "\n",
    "    generatorOptimizer.zero_grad()\n",
    "\n",
    "    adv.eval()\n",
    "    generator.train()\n",
    "\n",
    "    noise = torch.randn(batch_size, 1, 28, 28)\n",
    "    noise = noise.to(device)\n",
    "    # print(f\"noise: {noise}\")\n",
    "    # print(f\"noise.shape: {noise.shape}\")\n",
    "\n",
    "    gen_data = generator(noise)\n",
    "    # print(f\"gen_data: {noise}\")\n",
    "    # print(f\"gen_data.shape: {gen_data.shape}\")\n",
    "\n",
    "    pred_gen_data = adv(gen_data)\n",
    "    # print(f\"pred_gen_data: {pred_gen_data}\")\n",
    "    # print(f\"pred_gen_data.shape: {pred_gen_data.shape}\")\n",
    "    \n",
    "    # loss\n",
    "    genLoss = generatorLoss(pred_gen_data)\n",
    "\n",
    "    genLoss.backward()\n",
    "    generatorOptimizer.step()\n",
    "\n",
    "    lossi_gen.append(genLoss.detach().cpu())\n",
    "\n",
    "    if ((epoch+1)%1000==0):\n",
    "        print(f\"Epoch {epoch+1}/{num_epoch}, Adversial Loss: {advLoss.item():.4f}, Generator Loss: {genLoss.item():.4f}\")"
   ]
  },
  {
   "cell_type": "code",
   "execution_count": 18,
   "id": "df10e24e",
   "metadata": {
    "execution": {
     "iopub.execute_input": "2025-03-04T04:19:13.888207Z",
     "iopub.status.busy": "2025-03-04T04:19:13.887949Z",
     "iopub.status.idle": "2025-03-04T04:19:13.891102Z",
     "shell.execute_reply": "2025-03-04T04:19:13.890464Z"
    },
    "papermill": {
     "duration": 0.010802,
     "end_time": "2025-03-04T04:19:13.892270",
     "exception": false,
     "start_time": "2025-03-04T04:19:13.881468",
     "status": "completed"
    },
    "tags": []
   },
   "outputs": [],
   "source": [
    "import matplotlib.pyplot as plt"
   ]
  },
  {
   "cell_type": "code",
   "execution_count": 19,
   "id": "9987f08a",
   "metadata": {
    "execution": {
     "iopub.execute_input": "2025-03-04T04:19:13.904624Z",
     "iopub.status.busy": "2025-03-04T04:19:13.904425Z",
     "iopub.status.idle": "2025-03-04T04:19:14.888208Z",
     "shell.execute_reply": "2025-03-04T04:19:14.887387Z"
    },
    "papermill": {
     "duration": 0.991565,
     "end_time": "2025-03-04T04:19:14.889676",
     "exception": false,
     "start_time": "2025-03-04T04:19:13.898111",
     "status": "completed"
    },
    "tags": []
   },
   "outputs": [
    {
     "data": {
      "text/plain": [
       "[<matplotlib.lines.Line2D at 0x7ed29c256230>]"
      ]
     },
     "execution_count": 19,
     "metadata": {},
     "output_type": "execute_result"
    },
    {
     "data": {
      "image/png": "[encoded data removed]",
      "text/plain": [
       "<Figure size 640x480 with 1 Axes>"
      ]
     },
     "metadata": {},
     "output_type": "display_data"
    }
   ],
   "source": [
    "plt.plot(lossi_adv, c=\"red\")\n",
    "plt.plot(lossi_gen, c=\"blue\")"
   ]
  },
  {
   "cell_type": "code",
   "execution_count": 20,
   "id": "d14c07a9",
   "metadata": {
    "execution": {
     "iopub.execute_input": "2025-03-04T04:19:14.903326Z",
     "iopub.status.busy": "2025-03-04T04:19:14.903059Z",
     "iopub.status.idle": "2025-03-04T04:19:15.033929Z",
     "shell.execute_reply": "2025-03-04T04:19:15.032656Z"
    },
    "papermill": {
     "duration": 0.139372,
     "end_time": "2025-03-04T04:19:15.035489",
     "exception": false,
     "start_time": "2025-03-04T04:19:14.896117",
     "status": "completed"
    },
    "tags": []
   },
   "outputs": [
    {
     "data": {
      "image/png": "[encoded data removed]",
      "text/plain": [
       "<Figure size 640x480 with 1 Axes>"
      ]
     },
     "metadata": {},
     "output_type": "display_data"
    }
   ],
   "source": [
    "generator.eval()\n",
    "\n",
    "with torch.no_grad():\n",
    "    noise = torch.randn(1, 1, 28, 28)\n",
    "    noise = noise.to(device)\n",
    "    \n",
    "    gen_img = generator(noise)\n",
    "    img = gen_img.view(1, 28, 28)\n",
    "    \n",
    "    plt.imshow(img.squeeze().cpu(), cmap=\"gray\")\n",
    "    plt.show()"
   ]
  },
  {
   "cell_type": "code",
   "execution_count": null,
   "id": "73d24c6b",
   "metadata": {
    "papermill": {
     "duration": 0.006495,
     "end_time": "2025-03-04T04:19:15.048854",
     "exception": false,
     "start_time": "2025-03-04T04:19:15.042359",
     "status": "completed"
    },
    "tags": []
   },
   "outputs": [],
   "source": []
  },
  {
   "cell_type": "code",
   "execution_count": null,
   "id": "48c2853d",
   "metadata": {
    "papermill": {
     "duration": 0.006204,
     "end_time": "2025-03-04T04:19:15.061575",
     "exception": false,
     "start_time": "2025-03-04T04:19:15.055371",
     "status": "completed"
    },
    "tags": []
   },
   "outputs": [],
   "source": []
  }
 ],
 "metadata": {
  "kaggle": {
   "accelerator": "gpu",
   "dataSources": [],
   "dockerImageVersionId": 30919,
   "isGpuEnabled": true,
   "isInternetEnabled": true,
   "language": "python",
   "sourceType": "notebook"
  },
  "kernelspec": {
   "display_name": "Python 3",
   "language": "python",
   "name": "python3"
  },
  "language_info": {
   "codemirror_mode": {
    "name": "ipython",
    "version": 3
   },
   "file_extension": ".py",
   "mimetype": "text/x-python",
   "name": "python",
   "nbconvert_exporter": "python",
   "pygments_lexer": "ipython3",
   "version": "3.10.12"
  },
  "papermill": {
   "default_parameters": {},
   "duration": 362.894298,
   "end_time": "2025-03-04T04:19:17.569946",
   "environment_variables": {},
   "exception": null,
   "input_path": "__notebook__.ipynb",
   "output_path": "__notebook__.ipynb",
   "parameters": {},
   "start_time": "2025-03-04T04:13:14.675648",
   "version": "2.6.0"
  }
 },
 "nbformat": 4,
 "nbformat_minor": 5
}
