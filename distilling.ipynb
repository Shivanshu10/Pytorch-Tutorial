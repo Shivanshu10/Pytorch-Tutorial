{
 "cells": [
  {
   "cell_type": "code",
   "execution_count": 1,
   "id": "dae33cc2",
   "metadata": {
    "_cell_guid": "b1076dfc-b9ad-4769-8c92-a6c4dae69d19",
    "_uuid": "8f2839f25d086af736a60e9eeb907d3b93b6e0e5",
    "execution": {
     "iopub.execute_input": "2025-02-25T10:12:34.759418Z",
     "iopub.status.busy": "2025-02-25T10:12:34.759202Z",
     "iopub.status.idle": "2025-02-25T10:12:41.815321Z",
     "shell.execute_reply": "2025-02-25T10:12:41.814645Z"
    },
    "papermill": {
     "duration": 7.062958,
     "end_time": "2025-02-25T10:12:41.816944",
     "exception": false,
     "start_time": "2025-02-25T10:12:34.753986",
     "status": "completed"
    },
    "tags": []
   },
   "outputs": [],
   "source": [
    "import torch\n",
    "import torch.nn as nn\n",
    "import torchvision\n",
    "from torchvision import transforms"
   ]
  },
  {
   "cell_type": "code",
   "execution_count": 2,
   "id": "2e429407",
   "metadata": {
    "execution": {
     "iopub.execute_input": "2025-02-25T10:12:41.826128Z",
     "iopub.status.busy": "2025-02-25T10:12:41.825813Z",
     "iopub.status.idle": "2025-02-25T10:12:41.828855Z",
     "shell.execute_reply": "2025-02-25T10:12:41.828250Z"
    },
    "papermill": {
     "duration": 0.00878,
     "end_time": "2025-02-25T10:12:41.830061",
     "exception": false,
     "start_time": "2025-02-25T10:12:41.821281",
     "status": "completed"
    },
    "tags": []
   },
   "outputs": [],
   "source": [
    "mnist_transform = transforms.Compose([\n",
    "    transforms.ToTensor(),\n",
    "])"
   ]
  },
  {
   "cell_type": "code",
   "execution_count": 3,
   "id": "ad12887d",
   "metadata": {
    "execution": {
     "iopub.execute_input": "2025-02-25T10:12:41.838395Z",
     "iopub.status.busy": "2025-02-25T10:12:41.838166Z",
     "iopub.status.idle": "2025-02-25T10:12:45.832161Z",
     "shell.execute_reply": "2025-02-25T10:12:45.831179Z"
    },
    "papermill": {
     "duration": 3.999955,
     "end_time": "2025-02-25T10:12:45.833781",
     "exception": false,
     "start_time": "2025-02-25T10:12:41.833826",
     "status": "completed"
    },
    "tags": []
   },
   "outputs": [
    {
     "name": "stdout",
     "output_type": "stream",
     "text": [
      "Downloading http://yann.lecun.com/exdb/mnist/train-images-idx3-ubyte.gz\n",
      "Failed to download (trying next):\n",
      "HTTP Error 404: Not Found\n",
      "\n",
      "Downloading https://ossci-datasets.s3.amazonaws.com/mnist/train-images-idx3-ubyte.gz\n",
      "Downloading https://ossci-datasets.s3.amazonaws.com/mnist/train-images-idx3-ubyte.gz to ./MNIST/raw/train-images-idx3-ubyte.gz\n"
     ]
    },
    {
     "name": "stderr",
     "output_type": "stream",
     "text": [
      "100%|██████████| 9.91M/9.91M [00:00<00:00, 16.0MB/s]\n"
     ]
    },
    {
     "name": "stdout",
     "output_type": "stream",
     "text": [
      "Extracting ./MNIST/raw/train-images-idx3-ubyte.gz to ./MNIST/raw\n",
      "\n",
      "Downloading http://yann.lecun.com/exdb/mnist/train-labels-idx1-ubyte.gz\n",
      "Failed to download (trying next):\n",
      "HTTP Error 404: Not Found\n",
      "\n",
      "Downloading https://ossci-datasets.s3.amazonaws.com/mnist/train-labels-idx1-ubyte.gz\n",
      "Downloading https://ossci-datasets.s3.amazonaws.com/mnist/train-labels-idx1-ubyte.gz to ./MNIST/raw/train-labels-idx1-ubyte.gz\n"
     ]
    },
    {
     "name": "stderr",
     "output_type": "stream",
     "text": [
      "100%|██████████| 28.9k/28.9k [00:00<00:00, 477kB/s]\n"
     ]
    },
    {
     "name": "stdout",
     "output_type": "stream",
     "text": [
      "Extracting ./MNIST/raw/train-labels-idx1-ubyte.gz to ./MNIST/raw\n",
      "\n",
      "Downloading http://yann.lecun.com/exdb/mnist/t10k-images-idx3-ubyte.gz\n",
      "Failed to download (trying next):\n",
      "HTTP Error 404: Not Found\n",
      "\n",
      "Downloading https://ossci-datasets.s3.amazonaws.com/mnist/t10k-images-idx3-ubyte.gz\n",
      "Downloading https://ossci-datasets.s3.amazonaws.com/mnist/t10k-images-idx3-ubyte.gz to ./MNIST/raw/t10k-images-idx3-ubyte.gz\n"
     ]
    },
    {
     "name": "stderr",
     "output_type": "stream",
     "text": [
      "100%|██████████| 1.65M/1.65M [00:00<00:00, 4.47MB/s]\n"
     ]
    },
    {
     "name": "stdout",
     "output_type": "stream",
     "text": [
      "Extracting ./MNIST/raw/t10k-images-idx3-ubyte.gz to ./MNIST/raw\n",
      "\n",
      "Downloading http://yann.lecun.com/exdb/mnist/t10k-labels-idx1-ubyte.gz\n",
      "Failed to download (trying next):\n",
      "HTTP Error 404: Not Found\n",
      "\n",
      "Downloading https://ossci-datasets.s3.amazonaws.com/mnist/t10k-labels-idx1-ubyte.gz\n",
      "Downloading https://ossci-datasets.s3.amazonaws.com/mnist/t10k-labels-idx1-ubyte.gz to ./MNIST/raw/t10k-labels-idx1-ubyte.gz\n"
     ]
    },
    {
     "name": "stderr",
     "output_type": "stream",
     "text": [
      "100%|██████████| 4.54k/4.54k [00:00<00:00, 7.94MB/s]"
     ]
    },
    {
     "name": "stdout",
     "output_type": "stream",
     "text": [
      "Extracting ./MNIST/raw/t10k-labels-idx1-ubyte.gz to ./MNIST/raw\n",
      "\n"
     ]
    },
    {
     "name": "stderr",
     "output_type": "stream",
     "text": [
      "\n"
     ]
    }
   ],
   "source": [
    "mnist_train = torchvision.datasets.MNIST(\".\", train=True, download=True, transform=mnist_transform)\n",
    "mnist_test = torchvision.datasets.MNIST(\".\", train=False, download=True, transform=mnist_transform)"
   ]
  },
  {
   "cell_type": "code",
   "execution_count": 4,
   "id": "3f4365ad",
   "metadata": {
    "execution": {
     "iopub.execute_input": "2025-02-25T10:12:45.845323Z",
     "iopub.status.busy": "2025-02-25T10:12:45.845089Z",
     "iopub.status.idle": "2025-02-25T10:12:45.849943Z",
     "shell.execute_reply": "2025-02-25T10:12:45.849305Z"
    },
    "papermill": {
     "duration": 0.011728,
     "end_time": "2025-02-25T10:12:45.851045",
     "exception": false,
     "start_time": "2025-02-25T10:12:45.839317",
     "status": "completed"
    },
    "tags": []
   },
   "outputs": [],
   "source": [
    "class LargeMNIST(nn.Module):\n",
    "    def __init__(self, dropout_prob: int = 0.1):\n",
    "        super().__init__()\n",
    "        \n",
    "        self.layers = nn.ModuleList ([\n",
    "            nn.Flatten(),\n",
    "            \n",
    "            nn.Linear(28*28, 1200),\n",
    "            nn.ReLU(),\n",
    "            nn.Dropout(dropout_prob),\n",
    "\n",
    "            nn.Linear(1200, 1200),\n",
    "            nn.ReLU(),\n",
    "            nn.Dropout(dropout_prob),\n",
    "\n",
    "            nn.Linear(1200, 10)\n",
    "        ])\n",
    "\n",
    "    def forward(self, x: torch.Tensor):\n",
    "        for layer in self.layers:\n",
    "            x = layer(x)\n",
    "        return x"
   ]
  },
  {
   "cell_type": "code",
   "execution_count": 5,
   "id": "5de3c396",
   "metadata": {
    "execution": {
     "iopub.execute_input": "2025-02-25T10:12:45.863388Z",
     "iopub.status.busy": "2025-02-25T10:12:45.863171Z",
     "iopub.status.idle": "2025-02-25T10:12:45.891734Z",
     "shell.execute_reply": "2025-02-25T10:12:45.891027Z"
    },
    "papermill": {
     "duration": 0.035354,
     "end_time": "2025-02-25T10:12:45.892932",
     "exception": false,
     "start_time": "2025-02-25T10:12:45.857578",
     "status": "completed"
    },
    "tags": []
   },
   "outputs": [],
   "source": [
    "large_model = LargeMNIST()"
   ]
  },
  {
   "cell_type": "code",
   "execution_count": 6,
   "id": "4c9c77c4",
   "metadata": {
    "execution": {
     "iopub.execute_input": "2025-02-25T10:12:45.904034Z",
     "iopub.status.busy": "2025-02-25T10:12:45.903828Z",
     "iopub.status.idle": "2025-02-25T10:12:45.921592Z",
     "shell.execute_reply": "2025-02-25T10:12:45.921038Z"
    },
    "papermill": {
     "duration": 0.024583,
     "end_time": "2025-02-25T10:12:45.922796",
     "exception": false,
     "start_time": "2025-02-25T10:12:45.898213",
     "status": "completed"
    },
    "tags": []
   },
   "outputs": [],
   "source": [
    "from torchinfo import summary"
   ]
  },
  {
   "cell_type": "code",
   "execution_count": 7,
   "id": "fd95b8e4",
   "metadata": {
    "execution": {
     "iopub.execute_input": "2025-02-25T10:12:45.933851Z",
     "iopub.status.busy": "2025-02-25T10:12:45.933645Z",
     "iopub.status.idle": "2025-02-25T10:12:46.348676Z",
     "shell.execute_reply": "2025-02-25T10:12:46.347786Z"
    },
    "papermill": {
     "duration": 0.421989,
     "end_time": "2025-02-25T10:12:46.349997",
     "exception": false,
     "start_time": "2025-02-25T10:12:45.928008",
     "status": "completed"
    },
    "tags": []
   },
   "outputs": [
    {
     "data": {
      "text/plain": [
       "==========================================================================================\n",
       "Layer (type:depth-idx)                   Output Shape              Param #\n",
       "==========================================================================================\n",
       "LargeMNIST                               [1, 10]                   --\n",
       "├─ModuleList: 1-1                        --                        --\n",
       "│    └─Flatten: 2-1                      [1, 784]                  --\n",
       "│    └─Linear: 2-2                       [1, 1200]                 942,000\n",
       "│    └─ReLU: 2-3                         [1, 1200]                 --\n",
       "│    └─Dropout: 2-4                      [1, 1200]                 --\n",
       "│    └─Linear: 2-5                       [1, 1200]                 1,441,200\n",
       "│    └─ReLU: 2-6                         [1, 1200]                 --\n",
       "│    └─Dropout: 2-7                      [1, 1200]                 --\n",
       "│    └─Linear: 2-8                       [1, 10]                   12,010\n",
       "==========================================================================================\n",
       "Total params: 2,395,210\n",
       "Trainable params: 2,395,210\n",
       "Non-trainable params: 0\n",
       "Total mult-adds (M): 2.40\n",
       "==========================================================================================\n",
       "Input size (MB): 0.00\n",
       "Forward/backward pass size (MB): 0.02\n",
       "Params size (MB): 9.58\n",
       "Estimated Total Size (MB): 9.60\n",
       "=========================================================================================="
      ]
     },
     "execution_count": 7,
     "metadata": {},
     "output_type": "execute_result"
    }
   ],
   "source": [
    "summary(large_model, input_size=(1, 1, 28, 28))"
   ]
  },
  {
   "cell_type": "code",
   "execution_count": 8,
   "id": "3787f691",
   "metadata": {
    "execution": {
     "iopub.execute_input": "2025-02-25T10:12:46.361855Z",
     "iopub.status.busy": "2025-02-25T10:12:46.361601Z",
     "iopub.status.idle": "2025-02-25T10:12:46.364782Z",
     "shell.execute_reply": "2025-02-25T10:12:46.364114Z"
    },
    "papermill": {
     "duration": 0.010182,
     "end_time": "2025-02-25T10:12:46.365948",
     "exception": false,
     "start_time": "2025-02-25T10:12:46.355766",
     "status": "completed"
    },
    "tags": []
   },
   "outputs": [],
   "source": [
    "from torch.utils.data import random_split"
   ]
  },
  {
   "cell_type": "code",
   "execution_count": 9,
   "id": "bbdc58e1",
   "metadata": {
    "execution": {
     "iopub.execute_input": "2025-02-25T10:12:46.377149Z",
     "iopub.status.busy": "2025-02-25T10:12:46.376953Z",
     "iopub.status.idle": "2025-02-25T10:12:46.389407Z",
     "shell.execute_reply": "2025-02-25T10:12:46.388666Z"
    },
    "papermill": {
     "duration": 0.019443,
     "end_time": "2025-02-25T10:12:46.390751",
     "exception": false,
     "start_time": "2025-02-25T10:12:46.371308",
     "status": "completed"
    },
    "tags": []
   },
   "outputs": [],
   "source": [
    "# Define split ratios\n",
    "train_size = int(0.8 * len(mnist_train))\n",
    "val_size = int(0.2 * len(mnist_train))\n",
    "\n",
    "# Split dataset\n",
    "train_dataset, val_dataset = random_split(mnist_train, [train_size, val_size])"
   ]
  },
  {
   "cell_type": "code",
   "execution_count": 10,
   "id": "fdbdee4a",
   "metadata": {
    "execution": {
     "iopub.execute_input": "2025-02-25T10:12:46.401968Z",
     "iopub.status.busy": "2025-02-25T10:12:46.401768Z",
     "iopub.status.idle": "2025-02-25T10:12:46.404429Z",
     "shell.execute_reply": "2025-02-25T10:12:46.403872Z"
    },
    "papermill": {
     "duration": 0.009735,
     "end_time": "2025-02-25T10:12:46.405754",
     "exception": false,
     "start_time": "2025-02-25T10:12:46.396019",
     "status": "completed"
    },
    "tags": []
   },
   "outputs": [],
   "source": [
    "from torch.utils.data import DataLoader"
   ]
  },
  {
   "cell_type": "code",
   "execution_count": 11,
   "id": "105df30b",
   "metadata": {
    "execution": {
     "iopub.execute_input": "2025-02-25T10:12:46.416867Z",
     "iopub.status.busy": "2025-02-25T10:12:46.416670Z",
     "iopub.status.idle": "2025-02-25T10:12:46.420644Z",
     "shell.execute_reply": "2025-02-25T10:12:46.420032Z"
    },
    "papermill": {
     "duration": 0.010827,
     "end_time": "2025-02-25T10:12:46.421906",
     "exception": false,
     "start_time": "2025-02-25T10:12:46.411079",
     "status": "completed"
    },
    "tags": []
   },
   "outputs": [],
   "source": [
    "batch_size = 32\n",
    "\n",
    "train_loader = DataLoader(train_dataset, batch_size=batch_size, shuffle=True)\n",
    "val_loader = DataLoader(val_dataset, batch_size=batch_size, shuffle=True)\n",
    "\n",
    "pred_loader = DataLoader(mnist_test, batch_size=batch_size, shuffle=True)"
   ]
  },
  {
   "cell_type": "code",
   "execution_count": 12,
   "id": "8b1a0e23",
   "metadata": {
    "execution": {
     "iopub.execute_input": "2025-02-25T10:12:46.433025Z",
     "iopub.status.busy": "2025-02-25T10:12:46.432827Z",
     "iopub.status.idle": "2025-02-25T10:12:46.436790Z",
     "shell.execute_reply": "2025-02-25T10:12:46.436001Z"
    },
    "papermill": {
     "duration": 0.010811,
     "end_time": "2025-02-25T10:12:46.437953",
     "exception": false,
     "start_time": "2025-02-25T10:12:46.427142",
     "status": "completed"
    },
    "tags": []
   },
   "outputs": [
    {
     "name": "stdout",
     "output_type": "stream",
     "text": [
      "Using device: cuda\n"
     ]
    }
   ],
   "source": [
    "device = torch.device(\"cuda\" if torch.cuda.is_available() else \"cpu\")\n",
    "print(f\"Using device: {device}\")"
   ]
  },
  {
   "cell_type": "code",
   "execution_count": 13,
   "id": "e8ebef3f",
   "metadata": {
    "execution": {
     "iopub.execute_input": "2025-02-25T10:12:46.449173Z",
     "iopub.status.busy": "2025-02-25T10:12:46.448954Z",
     "iopub.status.idle": "2025-02-25T10:12:46.451933Z",
     "shell.execute_reply": "2025-02-25T10:12:46.451153Z"
    },
    "papermill": {
     "duration": 0.009831,
     "end_time": "2025-02-25T10:12:46.453058",
     "exception": false,
     "start_time": "2025-02-25T10:12:46.443227",
     "status": "completed"
    },
    "tags": []
   },
   "outputs": [],
   "source": [
    "import math"
   ]
  },
  {
   "cell_type": "code",
   "execution_count": 14,
   "id": "7b49c5a5",
   "metadata": {
    "execution": {
     "iopub.execute_input": "2025-02-25T10:12:46.464402Z",
     "iopub.status.busy": "2025-02-25T10:12:46.464186Z",
     "iopub.status.idle": "2025-02-25T10:14:21.622032Z",
     "shell.execute_reply": "2025-02-25T10:14:21.621000Z"
    },
    "papermill": {
     "duration": 95.165114,
     "end_time": "2025-02-25T10:14:21.623403",
     "exception": false,
     "start_time": "2025-02-25T10:12:46.458289",
     "status": "completed"
    },
    "tags": []
   },
   "outputs": [
    {
     "name": "stdout",
     "output_type": "stream",
     "text": [
      "Epoch 1/10, Train Loss: -0.8417, Val Loss: -1.1522, Val Metric: 0.9646\n",
      "Epoch 2/10, Train Loss: -1.2300, Val Loss: -1.1677, Val Metric: 0.9663\n",
      "Epoch 3/10, Train Loss: -1.4659, Val Loss: -1.2587, Val Metric: 0.9663\n",
      "Epoch 4/10, Train Loss: -1.6565, Val Loss: -1.3916, Val Metric: 0.9724\n",
      "Epoch 5/10, Train Loss: -1.8257, Val Loss: -1.5411, Val Metric: 0.9772\n",
      "Epoch 6/10, Train Loss: -2.0261, Val Loss: -1.6450, Val Metric: 0.9780\n",
      "Epoch 7/10, Train Loss: -2.1690, Val Loss: -1.7625, Val Metric: 0.9777\n",
      "Epoch 8/10, Train Loss: -2.2466, Val Loss: -1.7931, Val Metric: 0.9774\n",
      "Epoch 9/10, Train Loss: -2.4019, Val Loss: -2.0202, Val Metric: 0.9825\n",
      "Epoch 10/10, Train Loss: -2.6109, Val Loss: -2.0576, Val Metric: 0.9818\n"
     ]
    }
   ],
   "source": [
    "learning_rate = 1e-3\n",
    "weight_decay = 1e-4\n",
    "\n",
    "# less epoch as can easily overfit\n",
    "num_epoch = 10\n",
    "\n",
    "lossi_train = []\n",
    "lossi_val = []\n",
    "metric_val = []\n",
    "\n",
    "total_samples = len(train_loader)\n",
    "n_iter = math.ceil(total_samples / batch_size)\n",
    "\n",
    "optimizer = torch.optim.AdamW(large_model.parameters(), lr=learning_rate, weight_decay=weight_decay)\n",
    "ce_loss = nn.CrossEntropyLoss()\n",
    "output_grads = []\n",
    "\n",
    "large_model = large_model.to(device)\n",
    "\n",
    "for epoch in range(num_epoch):\n",
    "    large_model.train()\n",
    "    \n",
    "    train_loss = 0    \n",
    "    for i, (inputs, labels) in enumerate(train_loader):\n",
    "        optimizer.zero_grad()\n",
    "        \n",
    "        # print(f\"inputs: {inputs}\")\n",
    "        # print(f\"labels: {labels}\")\n",
    "        inputs = inputs.to(device)\n",
    "        labels = labels.to(device)\n",
    "\n",
    "        # print(f\"inputs device: {inputs.device}, labels device: {labels.device}, model device: {[param.device for param in model.parameters()]}\")\n",
    "        \n",
    "        pred = large_model(inputs)\n",
    "        # print(f\"pred: {pred}\")\n",
    "\n",
    "        loss = ce_loss(pred, labels)\n",
    "        \n",
    "        loss.backward()\n",
    "        optimizer.step()\n",
    "        loss = loss.log10()\n",
    "        train_loss += loss.item()\n",
    "\n",
    "    train_loss /= len(train_loader)\n",
    "    lossi_train.append(train_loss)\n",
    "\n",
    "    large_model.eval()\n",
    "    \n",
    "    correct = 0\n",
    "    total = 0\n",
    "    val_loss = 0\n",
    "    with torch.no_grad():   \n",
    "        for inputs, labels in val_loader:\n",
    "            inputs = inputs.to(device)\n",
    "            labels = labels.to(device)\n",
    "            \n",
    "            pred = large_model(inputs)\n",
    "            predictions = nn.functional.softmax(pred, dim=-1)\n",
    "            \n",
    "            y_pred_labels = torch.argmax(predictions, dim=1)        \n",
    "            correct += (y_pred_labels == labels).sum().item()\n",
    "            total += labels.size(0)\n",
    "            \n",
    "            loss = ce_loss(pred, labels)\n",
    "            loss = loss.log10()\n",
    "            val_loss += loss.item()\n",
    "        \n",
    "        val_accuracy = correct / total\n",
    "        metric_val.append(val_accuracy)\n",
    "        val_loss /= len(val_loader)\n",
    "        lossi_val.append(val_loss)\n",
    "\n",
    "    if ((epoch+1)%1==0):\n",
    "        print(f\"Epoch {epoch+1}/{num_epoch}, Train Loss: {train_loss:.4f}, Val Loss: {val_loss:.4f}, Val Metric: {val_accuracy:.4f}\")"
   ]
  },
  {
   "cell_type": "code",
   "execution_count": 15,
   "id": "1bf86b49",
   "metadata": {
    "execution": {
     "iopub.execute_input": "2025-02-25T10:14:21.636567Z",
     "iopub.status.busy": "2025-02-25T10:14:21.636276Z",
     "iopub.status.idle": "2025-02-25T10:14:21.639375Z",
     "shell.execute_reply": "2025-02-25T10:14:21.638765Z"
    },
    "papermill": {
     "duration": 0.010958,
     "end_time": "2025-02-25T10:14:21.640590",
     "exception": false,
     "start_time": "2025-02-25T10:14:21.629632",
     "status": "completed"
    },
    "tags": []
   },
   "outputs": [],
   "source": [
    "import matplotlib.pyplot as plt"
   ]
  },
  {
   "cell_type": "code",
   "execution_count": 16,
   "id": "3bddabd1",
   "metadata": {
    "execution": {
     "iopub.execute_input": "2025-02-25T10:14:21.652854Z",
     "iopub.status.busy": "2025-02-25T10:14:21.652646Z",
     "iopub.status.idle": "2025-02-25T10:14:21.893256Z",
     "shell.execute_reply": "2025-02-25T10:14:21.892437Z"
    },
    "papermill": {
     "duration": 0.24815,
     "end_time": "2025-02-25T10:14:21.894539",
     "exception": false,
     "start_time": "2025-02-25T10:14:21.646389",
     "status": "completed"
    },
    "tags": []
   },
   "outputs": [
    {
     "data": {
      "text/plain": [
       "[<matplotlib.lines.Line2D at 0x7e54c8fa13c0>]"
      ]
     },
     "execution_count": 16,
     "metadata": {},
     "output_type": "execute_result"
    },
    {
     "data": {
      "image/png": "[encoded data removed]",
      "text/plain": [
       "<Figure size 640x480 with 1 Axes>"
      ]
     },
     "metadata": {},
     "output_type": "display_data"
    }
   ],
   "source": [
    "plt.plot(lossi_train, c=\"red\")\n",
    "plt.plot(lossi_val, c=\"blue\")"
   ]
  },
  {
   "cell_type": "code",
   "execution_count": 17,
   "id": "ba5bd64e",
   "metadata": {
    "execution": {
     "iopub.execute_input": "2025-02-25T10:14:21.908104Z",
     "iopub.status.busy": "2025-02-25T10:14:21.907888Z",
     "iopub.status.idle": "2025-02-25T10:14:22.051176Z",
     "shell.execute_reply": "2025-02-25T10:14:22.050490Z"
    },
    "papermill": {
     "duration": 0.151377,
     "end_time": "2025-02-25T10:14:22.052348",
     "exception": false,
     "start_time": "2025-02-25T10:14:21.900971",
     "status": "completed"
    },
    "tags": []
   },
   "outputs": [
    {
     "data": {
      "text/plain": [
       "[<matplotlib.lines.Line2D at 0x7e54c8fe59c0>]"
      ]
     },
     "execution_count": 17,
     "metadata": {},
     "output_type": "execute_result"
    },
    {
     "data": {
      "image/png": "[encoded data removed]",
      "text/plain": [
       "<Figure size 640x480 with 1 Axes>"
      ]
     },
     "metadata": {},
     "output_type": "display_data"
    }
   ],
   "source": [
    "plt.plot(metric_val)"
   ]
  },
  {
   "cell_type": "code",
   "execution_count": 18,
   "id": "64374b5b",
   "metadata": {
    "execution": {
     "iopub.execute_input": "2025-02-25T10:14:22.067119Z",
     "iopub.status.busy": "2025-02-25T10:14:22.066908Z",
     "iopub.status.idle": "2025-02-25T10:14:22.071103Z",
     "shell.execute_reply": "2025-02-25T10:14:22.070514Z"
    },
    "papermill": {
     "duration": 0.012744,
     "end_time": "2025-02-25T10:14:22.072146",
     "exception": false,
     "start_time": "2025-02-25T10:14:22.059402",
     "status": "completed"
    },
    "tags": []
   },
   "outputs": [],
   "source": [
    "class SmallMNIST(nn.Module):\n",
    "    def __init__(self):\n",
    "        super().__init__()\n",
    "        \n",
    "        self.layers = nn.ModuleList ([\n",
    "            nn.Flatten(),\n",
    "            \n",
    "            nn.Linear(28*28, 300),\n",
    "            nn.ReLU(),\n",
    "\n",
    "            nn.Linear(300, 300),\n",
    "            nn.ReLU(),\n",
    "\n",
    "            nn.Linear(300, 10)\n",
    "        ])\n",
    "\n",
    "    def forward(self, x: torch.Tensor):\n",
    "        for layer in self.layers:\n",
    "            x = layer(x)\n",
    "        return x"
   ]
  },
  {
   "cell_type": "code",
   "execution_count": 19,
   "id": "2bd798bc",
   "metadata": {
    "execution": {
     "iopub.execute_input": "2025-02-25T10:14:22.086438Z",
     "iopub.status.busy": "2025-02-25T10:14:22.086230Z",
     "iopub.status.idle": "2025-02-25T10:14:22.091351Z",
     "shell.execute_reply": "2025-02-25T10:14:22.090798Z"
    },
    "papermill": {
     "duration": 0.013823,
     "end_time": "2025-02-25T10:14:22.092905",
     "exception": false,
     "start_time": "2025-02-25T10:14:22.079082",
     "status": "completed"
    },
    "tags": []
   },
   "outputs": [],
   "source": [
    "small_model = SmallMNIST()"
   ]
  },
  {
   "cell_type": "code",
   "execution_count": 20,
   "id": "83fe760b",
   "metadata": {
    "execution": {
     "iopub.execute_input": "2025-02-25T10:14:22.109396Z",
     "iopub.status.busy": "2025-02-25T10:14:22.109162Z",
     "iopub.status.idle": "2025-02-25T10:14:22.126217Z",
     "shell.execute_reply": "2025-02-25T10:14:22.125553Z"
    },
    "papermill": {
     "duration": 0.026142,
     "end_time": "2025-02-25T10:14:22.127394",
     "exception": false,
     "start_time": "2025-02-25T10:14:22.101252",
     "status": "completed"
    },
    "tags": []
   },
   "outputs": [
    {
     "data": {
      "text/plain": [
       "==========================================================================================\n",
       "Layer (type:depth-idx)                   Output Shape              Param #\n",
       "==========================================================================================\n",
       "SmallMNIST                               [1, 10]                   --\n",
       "├─ModuleList: 1-1                        --                        --\n",
       "│    └─Flatten: 2-1                      [1, 784]                  --\n",
       "│    └─Linear: 2-2                       [1, 300]                  235,500\n",
       "│    └─ReLU: 2-3                         [1, 300]                  --\n",
       "│    └─Linear: 2-4                       [1, 300]                  90,300\n",
       "│    └─ReLU: 2-5                         [1, 300]                  --\n",
       "│    └─Linear: 2-6                       [1, 10]                   3,010\n",
       "==========================================================================================\n",
       "Total params: 328,810\n",
       "Trainable params: 328,810\n",
       "Non-trainable params: 0\n",
       "Total mult-adds (M): 0.33\n",
       "==========================================================================================\n",
       "Input size (MB): 0.00\n",
       "Forward/backward pass size (MB): 0.00\n",
       "Params size (MB): 1.32\n",
       "Estimated Total Size (MB): 1.32\n",
       "=========================================================================================="
      ]
     },
     "execution_count": 20,
     "metadata": {},
     "output_type": "execute_result"
    }
   ],
   "source": [
    "summary(small_model, input_size=(1, 1, 28, 28))"
   ]
  },
  {
   "cell_type": "code",
   "execution_count": 21,
   "id": "b786faef",
   "metadata": {
    "execution": {
     "iopub.execute_input": "2025-02-25T10:14:22.142806Z",
     "iopub.status.busy": "2025-02-25T10:14:22.142580Z",
     "iopub.status.idle": "2025-02-25T10:15:56.237370Z",
     "shell.execute_reply": "2025-02-25T10:15:56.236564Z"
    },
    "papermill": {
     "duration": 94.104492,
     "end_time": "2025-02-25T10:15:56.238800",
     "exception": false,
     "start_time": "2025-02-25T10:14:22.134308",
     "status": "completed"
    },
    "tags": []
   },
   "outputs": [
    {
     "name": "stderr",
     "output_type": "stream",
     "text": [
      "/usr/local/lib/python3.10/dist-packages/torch/nn/functional.py:3369: UserWarning: reduction: 'mean' divides the total loss by both the batch size and the support size.'batchmean' divides only by the batch size, and aligns with the KL div math definition.'mean' will be changed to behave the same as 'batchmean' in the next major release.\n",
      "  warnings.warn(\n"
     ]
    },
    {
     "name": "stdout",
     "output_type": "stream",
     "text": [
      "Epoch 1/10, Train Loss: 0.2713, Val Loss: -1.1728, Val Metric: 0.9605\n",
      "Epoch 2/10, Train Loss: -0.1848, Val Loss: -1.5388, Val Metric: 0.9718\n",
      "Epoch 3/10, Train Loss: -0.4133, Val Loss: -1.6273, Val Metric: 0.9753\n",
      "Epoch 4/10, Train Loss: -0.5892, Val Loss: -1.7101, Val Metric: 0.9758\n",
      "Epoch 5/10, Train Loss: -0.6962, Val Loss: -1.6687, Val Metric: 0.9768\n",
      "Epoch 6/10, Train Loss: -0.7961, Val Loss: -1.8097, Val Metric: 0.9765\n",
      "Epoch 7/10, Train Loss: -0.8441, Val Loss: -1.8185, Val Metric: 0.9777\n",
      "Epoch 8/10, Train Loss: -0.9160, Val Loss: -1.9515, Val Metric: 0.9788\n",
      "Epoch 9/10, Train Loss: -0.9372, Val Loss: -1.9178, Val Metric: 0.9788\n",
      "Epoch 10/10, Train Loss: -0.9698, Val Loss: -1.9839, Val Metric: 0.9800\n"
     ]
    }
   ],
   "source": [
    "learning_rate = 1e-3\n",
    "weight_decay = 1e-4\n",
    "\n",
    "soft_target_weight = 100\n",
    "label_loss_weight = 0.5\n",
    "temperature = 2.5\n",
    "\n",
    "\n",
    "# less epoch as can easily overfit\n",
    "num_epoch = 10\n",
    "\n",
    "lossi_train = []\n",
    "lossi_val = []\n",
    "metric_val = []\n",
    "\n",
    "total_samples = len(train_loader)\n",
    "n_iter = math.ceil(total_samples / batch_size)\n",
    "\n",
    "optimizer = torch.optim.AdamW(small_model.parameters(), lr=learning_rate)\n",
    "ce_loss = nn.CrossEntropyLoss()\n",
    "kl_loss = nn.KLDivLoss(log_target=True)\n",
    "\n",
    "output_grads = []\n",
    "\n",
    "large_model = large_model.to(device)\n",
    "large_model.eval()\n",
    "\n",
    "small_model = small_model.to(device)\n",
    "\n",
    "for epoch in range(num_epoch):\n",
    "    small_model.train()\n",
    "    \n",
    "    train_loss = 0    \n",
    "    for i, (inputs, labels) in enumerate(train_loader):\n",
    "        optimizer.zero_grad()\n",
    "        \n",
    "        # print(f\"inputs: {inputs}\")\n",
    "        # print(f\"labels: {labels}\")\n",
    "        inputs = inputs.to(device)\n",
    "        labels = labels.to(device)\n",
    "\n",
    "        # print(f\"inputs device: {inputs.device}, labels device: {labels.device}, model device: {[param.device for param in model.parameters()]}\")\n",
    "\n",
    "        with torch.no_grad():\n",
    "            logits_large_model = large_model(inputs)\n",
    "        logits_small_model = small_model(inputs)\n",
    "        \n",
    "        # print(f\"pred: {pred}\")\n",
    "        large_soft_prob = nn.functional.log_softmax(logits_large_model / temperature, dim=-1)\n",
    "        small_soft_prob = nn.functional.log_softmax(logits_small_model / temperature, dim=-1)\n",
    "        \n",
    "        loss = (label_loss_weight * ce_loss(logits_small_model, labels)) + (soft_target_weight * kl_loss(small_soft_prob, large_soft_prob))\n",
    "        \n",
    "        loss.backward()\n",
    "        optimizer.step()\n",
    "        loss = loss.log10()\n",
    "        train_loss += loss.item()\n",
    "\n",
    "    train_loss /= len(train_loader)\n",
    "    lossi_train.append(train_loss)\n",
    "\n",
    "    small_model.eval()\n",
    "    \n",
    "    correct = 0\n",
    "    total = 0\n",
    "    val_loss = 0\n",
    "    with torch.no_grad():   \n",
    "        for inputs, labels in val_loader:\n",
    "            inputs = inputs.to(device)\n",
    "            labels = labels.to(device)\n",
    "            \n",
    "            pred = small_model(inputs)\n",
    "            predictions = nn.functional.softmax(pred, dim=-1)  # Apply sigmoid for binary classification\n",
    "            \n",
    "            y_pred_labels = torch.argmax(predictions, dim=1)        \n",
    "            correct += (y_pred_labels == labels).sum().item()\n",
    "            total += labels.size(0)\n",
    "            \n",
    "            loss = ce_loss(pred, labels)\n",
    "            loss = loss.log10()\n",
    "            val_loss += loss.item()\n",
    "        \n",
    "        val_accuracy = correct / total\n",
    "        metric_val.append(val_accuracy)\n",
    "        val_loss /= len(val_loader)\n",
    "        lossi_val.append(val_loss)\n",
    "\n",
    "    if ((epoch+1)%1==0):\n",
    "        print(f\"Epoch {epoch+1}/{num_epoch}, Train Loss: {train_loss:.4f}, Val Loss: {val_loss:.4f}, Val Metric: {val_accuracy:.4f}\")"
   ]
  },
  {
   "cell_type": "code",
   "execution_count": 22,
   "id": "3fdd36a0",
   "metadata": {
    "execution": {
     "iopub.execute_input": "2025-02-25T10:15:56.254932Z",
     "iopub.status.busy": "2025-02-25T10:15:56.254709Z",
     "iopub.status.idle": "2025-02-25T10:15:56.390696Z",
     "shell.execute_reply": "2025-02-25T10:15:56.389884Z"
    },
    "papermill": {
     "duration": 0.14525,
     "end_time": "2025-02-25T10:15:56.391946",
     "exception": false,
     "start_time": "2025-02-25T10:15:56.246696",
     "status": "completed"
    },
    "tags": []
   },
   "outputs": [
    {
     "data": {
      "text/plain": [
       "[<matplotlib.lines.Line2D at 0x7e54c16230a0>]"
      ]
     },
     "execution_count": 22,
     "metadata": {},
     "output_type": "execute_result"
    },
    {
     "data": {
      "image/png": "[encoded data removed]",
      "text/plain": [
       "<Figure size 640x480 with 1 Axes>"
      ]
     },
     "metadata": {},
     "output_type": "display_data"
    }
   ],
   "source": [
    "plt.plot(lossi_train, c=\"red\")\n",
    "plt.plot(lossi_val, c=\"blue\")"
   ]
  },
  {
   "cell_type": "code",
   "execution_count": 23,
   "id": "77649824",
   "metadata": {
    "execution": {
     "iopub.execute_input": "2025-02-25T10:15:56.408951Z",
     "iopub.status.busy": "2025-02-25T10:15:56.408733Z",
     "iopub.status.idle": "2025-02-25T10:15:56.576316Z",
     "shell.execute_reply": "2025-02-25T10:15:56.575447Z"
    },
    "papermill": {
     "duration": 0.177715,
     "end_time": "2025-02-25T10:15:56.577607",
     "exception": false,
     "start_time": "2025-02-25T10:15:56.399892",
     "status": "completed"
    },
    "tags": []
   },
   "outputs": [
    {
     "data": {
      "text/plain": [
       "[<matplotlib.lines.Line2D at 0x7e54c90621d0>]"
      ]
     },
     "execution_count": 23,
     "metadata": {},
     "output_type": "execute_result"
    },
    {
     "data": {
      "image/png": "[encoded data removed]",
      "text/plain": [
       "<Figure size 640x480 with 1 Axes>"
      ]
     },
     "metadata": {},
     "output_type": "display_data"
    }
   ],
   "source": [
    "plt.plot(metric_val)"
   ]
  }
 ],
 "metadata": {
  "kaggle": {
   "accelerator": "nvidiaTeslaT4",
   "dataSources": [],
   "dockerImageVersionId": 30919,
   "isGpuEnabled": true,
   "isInternetEnabled": true,
   "language": "python",
   "sourceType": "notebook"
  },
  "kernelspec": {
   "display_name": "Python 3",
   "language": "python",
   "name": "python3"
  },
  "language_info": {
   "codemirror_mode": {
    "name": "ipython",
    "version": 3
   },
   "file_extension": ".py",
   "mimetype": "text/x-python",
   "name": "python",
   "nbconvert_exporter": "python",
   "pygments_lexer": "ipython3",
   "version": "3.10.12"
  },
  "papermill": {
   "default_parameters": {},
   "duration": 205.681647,
   "end_time": "2025-02-25T10:15:57.908175",
   "environment_variables": {},
   "exception": null,
   "input_path": "__notebook__.ipynb",
   "output_path": "__notebook__.ipynb",
   "parameters": {},
   "start_time": "2025-02-25T10:12:32.226528",
   "version": "2.6.0"
  }
 },
 "nbformat": 4,
 "nbformat_minor": 5
}
