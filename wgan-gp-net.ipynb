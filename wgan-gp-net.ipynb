{
 "cells": [
  {
   "cell_type": "code",
   "execution_count": 1,
   "id": "d1ecc393",
   "metadata": {
    "_cell_guid": "b1076dfc-b9ad-4769-8c92-a6c4dae69d19",
    "_uuid": "8f2839f25d086af736a60e9eeb907d3b93b6e0e5",
    "execution": {
     "iopub.execute_input": "2025-03-04T16:05:18.357810Z",
     "iopub.status.busy": "2025-03-04T16:05:18.357574Z",
     "iopub.status.idle": "2025-03-04T16:05:25.452948Z",
     "shell.execute_reply": "2025-03-04T16:05:25.452238Z"
    },
    "papermill": {
     "duration": 7.101868,
     "end_time": "2025-03-04T16:05:25.454451",
     "exception": false,
     "start_time": "2025-03-04T16:05:18.352583",
     "status": "completed"
    },
    "tags": []
   },
   "outputs": [],
   "source": [
    "import torch\n",
    "import torch.nn as nn\n",
    "import torchvision\n",
    "from torchvision import transforms"
   ]
  },
  {
   "cell_type": "code",
   "execution_count": 2,
   "id": "baa1a552",
   "metadata": {
    "execution": {
     "iopub.execute_input": "2025-03-04T16:05:25.463220Z",
     "iopub.status.busy": "2025-03-04T16:05:25.462912Z",
     "iopub.status.idle": "2025-03-04T16:05:25.466035Z",
     "shell.execute_reply": "2025-03-04T16:05:25.465427Z"
    },
    "papermill": {
     "duration": 0.008602,
     "end_time": "2025-03-04T16:05:25.467187",
     "exception": false,
     "start_time": "2025-03-04T16:05:25.458585",
     "status": "completed"
    },
    "tags": []
   },
   "outputs": [],
   "source": [
    "mnist_transform = transforms.Compose([\n",
    "    transforms.ToTensor(),\n",
    "])"
   ]
  },
  {
   "cell_type": "code",
   "execution_count": 3,
   "id": "b5d0eab3",
   "metadata": {
    "execution": {
     "iopub.execute_input": "2025-03-04T16:05:25.475196Z",
     "iopub.status.busy": "2025-03-04T16:05:25.474997Z",
     "iopub.status.idle": "2025-03-04T16:05:29.733436Z",
     "shell.execute_reply": "2025-03-04T16:05:29.732318Z"
    },
    "papermill": {
     "duration": 4.263998,
     "end_time": "2025-03-04T16:05:29.734863",
     "exception": false,
     "start_time": "2025-03-04T16:05:25.470865",
     "status": "completed"
    },
    "tags": []
   },
   "outputs": [
    {
     "name": "stdout",
     "output_type": "stream",
     "text": [
      "Downloading http://yann.lecun.com/exdb/mnist/train-images-idx3-ubyte.gz\n",
      "Failed to download (trying next):\n",
      "HTTP Error 404: Not Found\n",
      "\n",
      "Downloading https://ossci-datasets.s3.amazonaws.com/mnist/train-images-idx3-ubyte.gz\n",
      "Downloading https://ossci-datasets.s3.amazonaws.com/mnist/train-images-idx3-ubyte.gz to ./MNIST/raw/train-images-idx3-ubyte.gz\n"
     ]
    },
    {
     "name": "stderr",
     "output_type": "stream",
     "text": [
      "100%|██████████| 9.91M/9.91M [00:00<00:00, 16.0MB/s]\n"
     ]
    },
    {
     "name": "stdout",
     "output_type": "stream",
     "text": [
      "Extracting ./MNIST/raw/train-images-idx3-ubyte.gz to ./MNIST/raw\n",
      "\n",
      "Downloading http://yann.lecun.com/exdb/mnist/train-labels-idx1-ubyte.gz\n",
      "Failed to download (trying next):\n",
      "HTTP Error 404: Not Found\n",
      "\n",
      "Downloading https://ossci-datasets.s3.amazonaws.com/mnist/train-labels-idx1-ubyte.gz\n",
      "Downloading https://ossci-datasets.s3.amazonaws.com/mnist/train-labels-idx1-ubyte.gz to ./MNIST/raw/train-labels-idx1-ubyte.gz\n"
     ]
    },
    {
     "name": "stderr",
     "output_type": "stream",
     "text": [
      "100%|██████████| 28.9k/28.9k [00:00<00:00, 431kB/s]\n"
     ]
    },
    {
     "name": "stdout",
     "output_type": "stream",
     "text": [
      "Extracting ./MNIST/raw/train-labels-idx1-ubyte.gz to ./MNIST/raw\n",
      "\n",
      "Downloading http://yann.lecun.com/exdb/mnist/t10k-images-idx3-ubyte.gz\n",
      "Failed to download (trying next):\n",
      "HTTP Error 404: Not Found\n",
      "\n",
      "Downloading https://ossci-datasets.s3.amazonaws.com/mnist/t10k-images-idx3-ubyte.gz\n",
      "Downloading https://ossci-datasets.s3.amazonaws.com/mnist/t10k-images-idx3-ubyte.gz to ./MNIST/raw/t10k-images-idx3-ubyte.gz\n"
     ]
    },
    {
     "name": "stderr",
     "output_type": "stream",
     "text": [
      "100%|██████████| 1.65M/1.65M [00:00<00:00, 4.00MB/s]\n"
     ]
    },
    {
     "name": "stdout",
     "output_type": "stream",
     "text": [
      "Extracting ./MNIST/raw/t10k-images-idx3-ubyte.gz to ./MNIST/raw\n",
      "\n",
      "Downloading http://yann.lecun.com/exdb/mnist/t10k-labels-idx1-ubyte.gz\n",
      "Failed to download (trying next):\n",
      "HTTP Error 404: Not Found\n",
      "\n",
      "Downloading https://ossci-datasets.s3.amazonaws.com/mnist/t10k-labels-idx1-ubyte.gz\n",
      "Downloading https://ossci-datasets.s3.amazonaws.com/mnist/t10k-labels-idx1-ubyte.gz to ./MNIST/raw/t10k-labels-idx1-ubyte.gz\n"
     ]
    },
    {
     "name": "stderr",
     "output_type": "stream",
     "text": [
      "100%|██████████| 4.54k/4.54k [00:00<00:00, 7.43MB/s]"
     ]
    },
    {
     "name": "stdout",
     "output_type": "stream",
     "text": [
      "Extracting ./MNIST/raw/t10k-labels-idx1-ubyte.gz to ./MNIST/raw\n",
      "\n"
     ]
    },
    {
     "name": "stderr",
     "output_type": "stream",
     "text": [
      "\n"
     ]
    }
   ],
   "source": [
    "mnist_train = torchvision.datasets.MNIST(\".\", train=True, download=True, transform=mnist_transform)\n",
    "mnist_test = torchvision.datasets.MNIST(\".\", train=False, download=True, transform=mnist_transform)"
   ]
  },
  {
   "cell_type": "code",
   "execution_count": 4,
   "id": "5db6ed99",
   "metadata": {
    "execution": {
     "iopub.execute_input": "2025-03-04T16:05:29.746342Z",
     "iopub.status.busy": "2025-03-04T16:05:29.746103Z",
     "iopub.status.idle": "2025-03-04T16:05:29.749484Z",
     "shell.execute_reply": "2025-03-04T16:05:29.748678Z"
    },
    "papermill": {
     "duration": 0.010493,
     "end_time": "2025-03-04T16:05:29.750730",
     "exception": false,
     "start_time": "2025-03-04T16:05:29.740237",
     "status": "completed"
    },
    "tags": []
   },
   "outputs": [],
   "source": [
    "from torch.utils.data import random_split"
   ]
  },
  {
   "cell_type": "code",
   "execution_count": 5,
   "id": "a8d5c0d2",
   "metadata": {
    "execution": {
     "iopub.execute_input": "2025-03-04T16:05:29.761485Z",
     "iopub.status.busy": "2025-03-04T16:05:29.761218Z",
     "iopub.status.idle": "2025-03-04T16:05:29.780617Z",
     "shell.execute_reply": "2025-03-04T16:05:29.779815Z"
    },
    "papermill": {
     "duration": 0.026175,
     "end_time": "2025-03-04T16:05:29.781991",
     "exception": false,
     "start_time": "2025-03-04T16:05:29.755816",
     "status": "completed"
    },
    "tags": []
   },
   "outputs": [],
   "source": [
    "# Define split ratios\n",
    "train_size = int(0.8 * len(mnist_train))\n",
    "val_size = int(0.2 * len(mnist_train))\n",
    "\n",
    "# Split dataset\n",
    "train_dataset, val_dataset = random_split(mnist_train, [train_size, val_size])"
   ]
  },
  {
   "cell_type": "code",
   "execution_count": 6,
   "id": "f0373d99",
   "metadata": {
    "execution": {
     "iopub.execute_input": "2025-03-04T16:05:29.793077Z",
     "iopub.status.busy": "2025-03-04T16:05:29.792855Z",
     "iopub.status.idle": "2025-03-04T16:05:29.795885Z",
     "shell.execute_reply": "2025-03-04T16:05:29.795214Z"
    },
    "papermill": {
     "duration": 0.009797,
     "end_time": "2025-03-04T16:05:29.797006",
     "exception": false,
     "start_time": "2025-03-04T16:05:29.787209",
     "status": "completed"
    },
    "tags": []
   },
   "outputs": [],
   "source": [
    "from torch.utils.data import DataLoader"
   ]
  },
  {
   "cell_type": "code",
   "execution_count": 7,
   "id": "9f5c5193",
   "metadata": {
    "execution": {
     "iopub.execute_input": "2025-03-04T16:05:29.807986Z",
     "iopub.status.busy": "2025-03-04T16:05:29.807778Z",
     "iopub.status.idle": "2025-03-04T16:05:29.811566Z",
     "shell.execute_reply": "2025-03-04T16:05:29.810923Z"
    },
    "papermill": {
     "duration": 0.010677,
     "end_time": "2025-03-04T16:05:29.812787",
     "exception": false,
     "start_time": "2025-03-04T16:05:29.802110",
     "status": "completed"
    },
    "tags": []
   },
   "outputs": [],
   "source": [
    "batch_size = 32\n",
    "\n",
    "train_loader = DataLoader(train_dataset, batch_size=batch_size, shuffle=True)\n",
    "val_loader = DataLoader(val_dataset, batch_size=batch_size, shuffle=True)\n",
    "\n",
    "pred_loader = DataLoader(mnist_test, batch_size=batch_size, shuffle=True)"
   ]
  },
  {
   "cell_type": "code",
   "execution_count": 8,
   "id": "081cf65e",
   "metadata": {
    "execution": {
     "iopub.execute_input": "2025-03-04T16:05:29.823774Z",
     "iopub.status.busy": "2025-03-04T16:05:29.823559Z",
     "iopub.status.idle": "2025-03-04T16:05:29.934360Z",
     "shell.execute_reply": "2025-03-04T16:05:29.933469Z"
    },
    "papermill": {
     "duration": 0.117727,
     "end_time": "2025-03-04T16:05:29.935745",
     "exception": false,
     "start_time": "2025-03-04T16:05:29.818018",
     "status": "completed"
    },
    "tags": []
   },
   "outputs": [
    {
     "name": "stdout",
     "output_type": "stream",
     "text": [
      "Using device: cuda\n"
     ]
    }
   ],
   "source": [
    "device = torch.device(\"cuda\" if torch.cuda.is_available() else \"cpu\")\n",
    "print(f\"Using device: {device}\")"
   ]
  },
  {
   "cell_type": "code",
   "execution_count": 9,
   "id": "1d1a7d26",
   "metadata": {
    "execution": {
     "iopub.execute_input": "2025-03-04T16:05:29.948197Z",
     "iopub.status.busy": "2025-03-04T16:05:29.947945Z",
     "iopub.status.idle": "2025-03-04T16:05:29.952588Z",
     "shell.execute_reply": "2025-03-04T16:05:29.951982Z"
    },
    "papermill": {
     "duration": 0.01261,
     "end_time": "2025-03-04T16:05:29.953826",
     "exception": false,
     "start_time": "2025-03-04T16:05:29.941216",
     "status": "completed"
    },
    "tags": []
   },
   "outputs": [],
   "source": [
    "class Generator(nn.Module):\n",
    "    def __init__(self, dropout_prob=0.1):\n",
    "        super().__init__()\n",
    "\n",
    "        self.layers = nn.ModuleList([\n",
    "            nn.Flatten(),\n",
    "            \n",
    "            nn.Linear(28*28, 1200),\n",
    "            nn.ReLU(),\n",
    "            nn.Dropout(dropout_prob),\n",
    "\n",
    "            nn.Linear(1200, 1200),\n",
    "            nn.ReLU(),\n",
    "            nn.Dropout(dropout_prob),\n",
    "\n",
    "            nn.Linear(1200, 28*28)\n",
    "        ])\n",
    "\n",
    "    def forward(self, x):\n",
    "        for layer in self.layers:\n",
    "            x = layer(x)\n",
    "        x = x.view(x.shape[0], 1, 28, 28)\n",
    "        return x"
   ]
  },
  {
   "cell_type": "code",
   "execution_count": 10,
   "id": "79a82da7",
   "metadata": {
    "execution": {
     "iopub.execute_input": "2025-03-04T16:05:29.964694Z",
     "iopub.status.busy": "2025-03-04T16:05:29.964454Z",
     "iopub.status.idle": "2025-03-04T16:05:29.999803Z",
     "shell.execute_reply": "2025-03-04T16:05:29.998946Z"
    },
    "papermill": {
     "duration": 0.042271,
     "end_time": "2025-03-04T16:05:30.001207",
     "exception": false,
     "start_time": "2025-03-04T16:05:29.958936",
     "status": "completed"
    },
    "tags": []
   },
   "outputs": [],
   "source": [
    "generator = Generator(dropout_prob=0.1)"
   ]
  },
  {
   "cell_type": "code",
   "execution_count": 11,
   "id": "81e13fb5",
   "metadata": {
    "execution": {
     "iopub.execute_input": "2025-03-04T16:05:30.012455Z",
     "iopub.status.busy": "2025-03-04T16:05:30.012230Z",
     "iopub.status.idle": "2025-03-04T16:05:30.016736Z",
     "shell.execute_reply": "2025-03-04T16:05:30.016035Z"
    },
    "papermill": {
     "duration": 0.011306,
     "end_time": "2025-03-04T16:05:30.017893",
     "exception": false,
     "start_time": "2025-03-04T16:05:30.006587",
     "status": "completed"
    },
    "tags": []
   },
   "outputs": [],
   "source": [
    "class Adversial(nn.Module):\n",
    "    def __init__(self, dropout_prob=0.1):\n",
    "        super().__init__()\n",
    "\n",
    "        self.layers = nn.ModuleList([\n",
    "            nn.Flatten(),\n",
    "            \n",
    "            nn.Linear(28*28, 600),\n",
    "            nn.ReLU(),\n",
    "            nn.Dropout(dropout_prob),\n",
    "\n",
    "            nn.Linear(600, 600),\n",
    "            nn.ReLU(),\n",
    "            nn.Dropout(dropout_prob),\n",
    "\n",
    "            nn.Linear(600, 1)\n",
    "        ])\n",
    "\n",
    "    def forward(self, x):\n",
    "        for layer in self.layers:\n",
    "            x = layer(x)\n",
    "        return x"
   ]
  },
  {
   "cell_type": "code",
   "execution_count": 12,
   "id": "dc8d6834",
   "metadata": {
    "execution": {
     "iopub.execute_input": "2025-03-04T16:05:30.029255Z",
     "iopub.status.busy": "2025-03-04T16:05:30.029014Z",
     "iopub.status.idle": "2025-03-04T16:05:30.039213Z",
     "shell.execute_reply": "2025-03-04T16:05:30.038447Z"
    },
    "papermill": {
     "duration": 0.017279,
     "end_time": "2025-03-04T16:05:30.040594",
     "exception": false,
     "start_time": "2025-03-04T16:05:30.023315",
     "status": "completed"
    },
    "tags": []
   },
   "outputs": [],
   "source": [
    "adv = Adversial(dropout_prob=0.1)"
   ]
  },
  {
   "cell_type": "code",
   "execution_count": 13,
   "id": "66daaa0c",
   "metadata": {
    "execution": {
     "iopub.execute_input": "2025-03-04T16:05:30.051721Z",
     "iopub.status.busy": "2025-03-04T16:05:30.051482Z",
     "iopub.status.idle": "2025-03-04T16:05:30.056470Z",
     "shell.execute_reply": "2025-03-04T16:05:30.055685Z"
    },
    "papermill": {
     "duration": 0.011675,
     "end_time": "2025-03-04T16:05:30.057643",
     "exception": false,
     "start_time": "2025-03-04T16:05:30.045968",
     "status": "completed"
    },
    "tags": []
   },
   "outputs": [
    {
     "data": {
      "text/plain": [
       "1500"
      ]
     },
     "execution_count": 13,
     "metadata": {},
     "output_type": "execute_result"
    }
   ],
   "source": [
    "num_batches = len(train_loader)\n",
    "num_batches"
   ]
  },
  {
   "cell_type": "code",
   "execution_count": 14,
   "id": "f636e58c",
   "metadata": {
    "execution": {
     "iopub.execute_input": "2025-03-04T16:05:30.068767Z",
     "iopub.status.busy": "2025-03-04T16:05:30.068542Z",
     "iopub.status.idle": "2025-03-04T16:05:30.071586Z",
     "shell.execute_reply": "2025-03-04T16:05:30.070791Z"
    },
    "papermill": {
     "duration": 0.010032,
     "end_time": "2025-03-04T16:05:30.072869",
     "exception": false,
     "start_time": "2025-03-04T16:05:30.062837",
     "status": "completed"
    },
    "tags": []
   },
   "outputs": [],
   "source": [
    "import itertools"
   ]
  },
  {
   "cell_type": "code",
   "execution_count": 15,
   "id": "46123082",
   "metadata": {
    "execution": {
     "iopub.execute_input": "2025-03-04T16:05:30.084011Z",
     "iopub.status.busy": "2025-03-04T16:05:30.083779Z",
     "iopub.status.idle": "2025-03-04T16:05:30.087328Z",
     "shell.execute_reply": "2025-03-04T16:05:30.086694Z"
    },
    "papermill": {
     "duration": 0.010176,
     "end_time": "2025-03-04T16:05:30.088408",
     "exception": false,
     "start_time": "2025-03-04T16:05:30.078232",
     "status": "completed"
    },
    "tags": []
   },
   "outputs": [],
   "source": [
    "import torch.nn.functional as F\n",
    "\n",
    "def adversarialLoss(d_x, d_g_z, gp, lambda_gp):\n",
    "    return -d_x.mean() + d_g_z.mean() + lambda_gp * gp\n",
    "\n",
    "def generatorLoss(d_g_z):\n",
    "    return -d_g_z.mean()"
   ]
  },
  {
   "cell_type": "code",
   "execution_count": 16,
   "id": "b976f223",
   "metadata": {
    "execution": {
     "iopub.execute_input": "2025-03-04T16:05:30.100085Z",
     "iopub.status.busy": "2025-03-04T16:05:30.099885Z",
     "iopub.status.idle": "2025-03-04T16:05:30.105218Z",
     "shell.execute_reply": "2025-03-04T16:05:30.104564Z"
    },
    "papermill": {
     "duration": 0.012498,
     "end_time": "2025-03-04T16:05:30.106323",
     "exception": false,
     "start_time": "2025-03-04T16:05:30.093825",
     "status": "completed"
    },
    "tags": []
   },
   "outputs": [],
   "source": [
    "def gradientPenalty(real_data, gen_data, adv):\n",
    "    epsilon = torch.randn((batch_size, 1, 1, 1)).repeat(1, 1, 28, 28).to(device)\n",
    "        \n",
    "    interpolated_img = epsilon * real_data + (1 - epsilon) * gen_data\n",
    "    # print(f\"gen_data: {noise}\")\n",
    "    # print(f\"gen_data.shape: {gen_data.shape}\")\n",
    "    \n",
    "    pred_interpolated_data = adv(interpolated_img)\n",
    "    # print(f\"pred_gen_data: {pred_gen_data}\")\n",
    "    # print(f\"pred_gen_data.shape: {pred_gen_data.shape}\")\n",
    "\n",
    "    # loss\n",
    "    gradient = torch.autograd.grad(\n",
    "        inputs = interpolated_img,\n",
    "        outputs = pred_interpolated_data,\n",
    "        grad_outputs = torch.ones_like(pred_interpolated_data),\n",
    "        create_graph = True,\n",
    "        retain_graph = True\n",
    "    )[0] # d(pred_interpolated_data) / d(interpolated_img)\n",
    "\n",
    "    gradient = gradient.view(gradient.shape[0], -1) # flatten with graident.shape[0] being num of examples\n",
    "    gradient_norm = gradient.norm(2, dim=1) # dim is 1 with data\n",
    "    gradient_penalty = torch.mean((gradient_norm - 1) ** 2)\n",
    "\n",
    "    return gradient_penalty"
   ]
  },
  {
   "cell_type": "code",
   "execution_count": 17,
   "id": "c487e06f",
   "metadata": {
    "execution": {
     "iopub.execute_input": "2025-03-04T16:05:30.117481Z",
     "iopub.status.busy": "2025-03-04T16:05:30.117249Z",
     "iopub.status.idle": "2025-03-04T16:05:30.120202Z",
     "shell.execute_reply": "2025-03-04T16:05:30.119458Z"
    },
    "papermill": {
     "duration": 0.00987,
     "end_time": "2025-03-04T16:05:30.121546",
     "exception": false,
     "start_time": "2025-03-04T16:05:30.111676",
     "status": "completed"
    },
    "tags": []
   },
   "outputs": [],
   "source": [
    "import math"
   ]
  },
  {
   "cell_type": "code",
   "execution_count": 18,
   "id": "be100ebb",
   "metadata": {
    "execution": {
     "iopub.execute_input": "2025-03-04T16:05:30.132613Z",
     "iopub.status.busy": "2025-03-04T16:05:30.132344Z",
     "iopub.status.idle": "2025-03-04T16:19:54.591101Z",
     "shell.execute_reply": "2025-03-04T16:19:54.590207Z"
    },
    "papermill": {
     "duration": 864.472123,
     "end_time": "2025-03-04T16:19:54.598812",
     "exception": false,
     "start_time": "2025-03-04T16:05:30.126689",
     "status": "completed"
    },
    "tags": []
   },
   "outputs": [
    {
     "name": "stderr",
     "output_type": "stream",
     "text": [
      "/usr/local/lib/python3.10/dist-packages/torch/autograd/graph.py:825: UserWarning: Attempting to run cuBLAS, but there was no current CUDA context! Attempting to set the primary context... (Triggered internally at ../aten/src/ATen/cuda/CublasHandlePool.cpp:135.)\n",
      "  return Variable._execution_engine.run_backward(  # Calls into the C++ engine to run the backward pass\n"
     ]
    },
    {
     "name": "stdout",
     "output_type": "stream",
     "text": [
      "Epoch 1000/20000, Adversial Loss: -2.0252, Generator Loss: 2.6708\n",
      "Epoch 2000/20000, Adversial Loss: -2.0016, Generator Loss: 1.1474\n",
      "Epoch 3000/20000, Adversial Loss: -1.5643, Generator Loss: 1.5168\n",
      "Epoch 4000/20000, Adversial Loss: -1.8659, Generator Loss: 1.9263\n",
      "Epoch 5000/20000, Adversial Loss: -1.7475, Generator Loss: 3.0886\n",
      "Epoch 6000/20000, Adversial Loss: -2.2339, Generator Loss: 0.4045\n",
      "Epoch 7000/20000, Adversial Loss: -2.6551, Generator Loss: 0.8305\n",
      "Epoch 8000/20000, Adversial Loss: -2.2138, Generator Loss: 2.6050\n",
      "Epoch 9000/20000, Adversial Loss: -1.4668, Generator Loss: 2.7027\n",
      "Epoch 10000/20000, Adversial Loss: -2.1565, Generator Loss: 3.6096\n",
      "Epoch 11000/20000, Adversial Loss: -2.4561, Generator Loss: 1.1183\n",
      "Epoch 12000/20000, Adversial Loss: -2.6131, Generator Loss: 3.0908\n",
      "Epoch 13000/20000, Adversial Loss: -2.6466, Generator Loss: 1.9404\n",
      "Epoch 14000/20000, Adversial Loss: -2.5593, Generator Loss: 3.8677\n",
      "Epoch 15000/20000, Adversial Loss: -1.6489, Generator Loss: 4.1042\n",
      "Epoch 16000/20000, Adversial Loss: -2.7755, Generator Loss: 4.9872\n",
      "Epoch 17000/20000, Adversial Loss: -1.7466, Generator Loss: 3.3818\n",
      "Epoch 18000/20000, Adversial Loss: -2.5671, Generator Loss: 4.8290\n",
      "Epoch 19000/20000, Adversial Loss: -1.9238, Generator Loss: 2.9383\n",
      "Epoch 20000/20000, Adversial Loss: -2.6292, Generator Loss: 1.4883\n"
     ]
    }
   ],
   "source": [
    "learning_rate = 1e-3\n",
    "k = 5\n",
    "c = 0.01\n",
    "lambda_gp = 10\n",
    "\n",
    "# less epoch as can easily overfit\n",
    "num_epoch = 20000\n",
    "\n",
    "lossi_gen = []\n",
    "lossi_adv = []\n",
    "\n",
    "total_samples = len(train_loader)\n",
    "\n",
    "advOptimizer = torch.optim.Adam(adv.parameters(), lr=learning_rate, betas=(0.0, 0.9))\n",
    "generatorOptimizer = torch.optim.Adam(generator.parameters(), lr=learning_rate, betas=(0.0, 0.9))\n",
    "\n",
    "generator = generator.to(device)\n",
    "adv = adv.to(device)\n",
    "\n",
    "train_loader_iter_adv_training = itertools.cycle(iter(train_loader))\n",
    "\n",
    "for epoch in range(num_epoch):\n",
    "    adv.train()\n",
    "    generator.eval()\n",
    "    \n",
    "    for _ in range(k):\n",
    "        advOptimizer.zero_grad()\n",
    "        \n",
    "        feature, _ = next(train_loader_iter_adv_training)\n",
    "        feature = feature.to(device)\n",
    "        # print(f\"feature: {feature}\")\n",
    "        # print(f\"feature.shape: {feature.shape}\")\n",
    "\n",
    "        pred_data = adv(feature)\n",
    "        # print(f\"pred_data: {pred_data}\")\n",
    "        # print(f\"pred_data.shape: {pred_data.shape}\")\n",
    "\n",
    "        noise = torch.randn(batch_size, 1, 28, 28)\n",
    "        noise = noise.to(device)\n",
    "        # print(f\"noise: {noise}\")\n",
    "        # print(f\"noise.shape: {noise.shape}\")\n",
    "    \n",
    "        gen_data = generator(noise)\n",
    "\n",
    "        pred_gen_data = adv(gen_data)\n",
    "        # print(f\"pred_gen_data: {pred_gen_data}\")\n",
    "        # print(f\"pred_gen_data.shape: {pred_gen_data.shape}\")\n",
    "\n",
    "        gp = gradientPenalty(feature, gen_data, adv)\n",
    "        advLoss = adversarialLoss(pred_data, pred_gen_data, gp, lambda_gp)\n",
    "\n",
    "        advLoss.backward()\n",
    "        advOptimizer.step()\n",
    "\n",
    "        lossi_adv.append(advLoss.detach().cpu())\n",
    "\n",
    "    generatorOptimizer.zero_grad()\n",
    "\n",
    "    adv.eval()\n",
    "    generator.train()\n",
    "\n",
    "    noise = torch.randn(batch_size, 1, 28, 28)\n",
    "    noise = noise.to(device)\n",
    "    # print(f\"noise: {noise}\")\n",
    "    # print(f\"noise.shape: {noise.shape}\")\n",
    "\n",
    "    gen_data = generator(noise)\n",
    "    # print(f\"gen_data: {noise}\")\n",
    "    # print(f\"gen_data.shape: {gen_data.shape}\")\n",
    "\n",
    "    pred_gen_data = adv(gen_data)\n",
    "    # print(f\"pred_gen_data: {pred_gen_data}\")\n",
    "    # print(f\"pred_gen_data.shape: {pred_gen_data.shape}\")\n",
    "    \n",
    "    # loss\n",
    "    genLoss = generatorLoss(pred_gen_data)\n",
    "\n",
    "    genLoss.backward()\n",
    "    generatorOptimizer.step()\n",
    "\n",
    "    lossi_gen.append(genLoss.detach().cpu())\n",
    "\n",
    "    if ((epoch+1)%1000==0):\n",
    "        print(f\"Epoch {epoch+1}/{num_epoch}, Adversial Loss: {advLoss.item():.4f}, Generator Loss: {genLoss.item():.4f}\")"
   ]
  },
  {
   "cell_type": "code",
   "execution_count": 19,
   "id": "b32568cf",
   "metadata": {
    "execution": {
     "iopub.execute_input": "2025-03-04T16:19:54.612553Z",
     "iopub.status.busy": "2025-03-04T16:19:54.612164Z",
     "iopub.status.idle": "2025-03-04T16:19:54.616556Z",
     "shell.execute_reply": "2025-03-04T16:19:54.615831Z"
    },
    "papermill": {
     "duration": 0.012681,
     "end_time": "2025-03-04T16:19:54.617923",
     "exception": false,
     "start_time": "2025-03-04T16:19:54.605242",
     "status": "completed"
    },
    "tags": []
   },
   "outputs": [],
   "source": [
    "import matplotlib.pyplot as plt"
   ]
  },
  {
   "cell_type": "code",
   "execution_count": 20,
   "id": "a4b95ce0",
   "metadata": {
    "execution": {
     "iopub.execute_input": "2025-03-04T16:19:54.631511Z",
     "iopub.status.busy": "2025-03-04T16:19:54.631240Z",
     "iopub.status.idle": "2025-03-04T16:19:55.863447Z",
     "shell.execute_reply": "2025-03-04T16:19:55.862552Z"
    },
    "papermill": {
     "duration": 1.24037,
     "end_time": "2025-03-04T16:19:55.864801",
     "exception": false,
     "start_time": "2025-03-04T16:19:54.624431",
     "status": "completed"
    },
    "tags": []
   },
   "outputs": [
    {
     "data": {
      "text/plain": [
       "[<matplotlib.lines.Line2D at 0x79aa01d45cf0>]"
      ]
     },
     "execution_count": 20,
     "metadata": {},
     "output_type": "execute_result"
    },
    {
     "data": {
      "image/png": "[encoded data removed]",
      "text/plain": [
       "<Figure size 640x480 with 1 Axes>"
      ]
     },
     "metadata": {},
     "output_type": "display_data"
    }
   ],
   "source": [
    "plt.plot(lossi_adv, c=\"red\")\n",
    "plt.plot(lossi_gen, c=\"blue\")"
   ]
  },
  {
   "cell_type": "code",
   "execution_count": 21,
   "id": "f1d87df0",
   "metadata": {
    "execution": {
     "iopub.execute_input": "2025-03-04T16:19:55.879015Z",
     "iopub.status.busy": "2025-03-04T16:19:55.878757Z",
     "iopub.status.idle": "2025-03-04T16:19:56.021919Z",
     "shell.execute_reply": "2025-03-04T16:19:56.020838Z"
    },
    "papermill": {
     "duration": 0.152106,
     "end_time": "2025-03-04T16:19:56.023683",
     "exception": false,
     "start_time": "2025-03-04T16:19:55.871577",
     "status": "completed"
    },
    "tags": []
   },
   "outputs": [
    {
     "data": {
      "image/png": "[encoded data removed]",
      "text/plain": [
       "<Figure size 640x480 with 1 Axes>"
      ]
     },
     "metadata": {},
     "output_type": "display_data"
    }
   ],
   "source": [
    "generator.eval()\n",
    "\n",
    "with torch.no_grad():\n",
    "    noise = torch.randn(1, 1, 28, 28)\n",
    "    noise = noise.to(device)\n",
    "    \n",
    "    gen_img = generator(noise)\n",
    "    img = gen_img.view(1, 28, 28)\n",
    "    \n",
    "    plt.imshow(img.squeeze().cpu(), cmap=\"gray\")\n",
    "    plt.show()"
   ]
  },
  {
   "cell_type": "code",
   "execution_count": null,
   "id": "b998150f",
   "metadata": {
    "papermill": {
     "duration": 0.00776,
     "end_time": "2025-03-04T16:19:56.040196",
     "exception": false,
     "start_time": "2025-03-04T16:19:56.032436",
     "status": "completed"
    },
    "tags": []
   },
   "outputs": [],
   "source": []
  },
  {
   "cell_type": "code",
   "execution_count": null,
   "id": "3f8f60f4",
   "metadata": {
    "papermill": {
     "duration": 0.007087,
     "end_time": "2025-03-04T16:19:56.054878",
     "exception": false,
     "start_time": "2025-03-04T16:19:56.047791",
     "status": "completed"
    },
    "tags": []
   },
   "outputs": [],
   "source": []
  }
 ],
 "metadata": {
  "kaggle": {
   "accelerator": "nvidiaTeslaT4",
   "dataSources": [],
   "dockerImageVersionId": 30919,
   "isGpuEnabled": true,
   "isInternetEnabled": true,
   "language": "python",
   "sourceType": "notebook"
  },
  "kernelspec": {
   "display_name": "Python 3",
   "language": "python",
   "name": "python3"
  },
  "language_info": {
   "codemirror_mode": {
    "name": "ipython",
    "version": 3
   },
   "file_extension": ".py",
   "mimetype": "text/x-python",
   "name": "python",
   "nbconvert_exporter": "python",
   "pygments_lexer": "ipython3",
   "version": "3.10.12"
  },
  "papermill": {
   "default_parameters": {},
   "duration": 882.06619,
   "end_time": "2025-03-04T16:19:57.784823",
   "environment_variables": {},
   "exception": null,
   "input_path": "__notebook__.ipynb",
   "output_path": "__notebook__.ipynb",
   "parameters": {},
   "start_time": "2025-03-04T16:05:15.718633",
   "version": "2.6.0"
  }
 },
 "nbformat": 4,
 "nbformat_minor": 5
}
