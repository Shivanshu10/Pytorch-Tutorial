{
 "cells": [
  {
   "cell_type": "code",
   "execution_count": 1,
   "id": "f455676f",
   "metadata": {
    "_cell_guid": "b1076dfc-b9ad-4769-8c92-a6c4dae69d19",
    "_uuid": "8f2839f25d086af736a60e9eeb907d3b93b6e0e5",
    "execution": {
     "iopub.execute_input": "2025-03-04T17:12:29.394557Z",
     "iopub.status.busy": "2025-03-04T17:12:29.394253Z",
     "iopub.status.idle": "2025-03-04T17:12:39.770842Z",
     "shell.execute_reply": "2025-03-04T17:12:39.770068Z"
    },
    "papermill": {
     "duration": 10.384318,
     "end_time": "2025-03-04T17:12:39.772625",
     "exception": false,
     "start_time": "2025-03-04T17:12:29.388307",
     "status": "completed"
    },
    "tags": []
   },
   "outputs": [],
   "source": [
    "import torch\n",
    "import torch.nn as nn\n",
    "import torchvision\n",
    "from torchvision import transforms"
   ]
  },
  {
   "cell_type": "code",
   "execution_count": 2,
   "id": "10db1b3d",
   "metadata": {
    "execution": {
     "iopub.execute_input": "2025-03-04T17:12:39.782652Z",
     "iopub.status.busy": "2025-03-04T17:12:39.782238Z",
     "iopub.status.idle": "2025-03-04T17:12:39.786088Z",
     "shell.execute_reply": "2025-03-04T17:12:39.785166Z"
    },
    "papermill": {
     "duration": 0.010098,
     "end_time": "2025-03-04T17:12:39.787546",
     "exception": false,
     "start_time": "2025-03-04T17:12:39.777448",
     "status": "completed"
    },
    "tags": []
   },
   "outputs": [],
   "source": [
    "mnist_transform = transforms.Compose([\n",
    "    transforms.ToTensor(),\n",
    "])"
   ]
  },
  {
   "cell_type": "code",
   "execution_count": 3,
   "id": "41012acb",
   "metadata": {
    "execution": {
     "iopub.execute_input": "2025-03-04T17:12:39.796901Z",
     "iopub.status.busy": "2025-03-04T17:12:39.796651Z",
     "iopub.status.idle": "2025-03-04T17:12:42.799728Z",
     "shell.execute_reply": "2025-03-04T17:12:42.798556Z"
    },
    "papermill": {
     "duration": 3.009403,
     "end_time": "2025-03-04T17:12:42.801227",
     "exception": false,
     "start_time": "2025-03-04T17:12:39.791824",
     "status": "completed"
    },
    "tags": []
   },
   "outputs": [
    {
     "name": "stdout",
     "output_type": "stream",
     "text": [
      "Downloading http://yann.lecun.com/exdb/mnist/train-images-idx3-ubyte.gz\n",
      "Failed to download (trying next):\n",
      "HTTP Error 404: Not Found\n",
      "\n",
      "Downloading https://ossci-datasets.s3.amazonaws.com/mnist/train-images-idx3-ubyte.gz\n",
      "Downloading https://ossci-datasets.s3.amazonaws.com/mnist/train-images-idx3-ubyte.gz to ./MNIST/raw/train-images-idx3-ubyte.gz\n"
     ]
    },
    {
     "name": "stderr",
     "output_type": "stream",
     "text": [
      "100%|██████████| 9.91M/9.91M [00:00<00:00, 31.0MB/s]\n"
     ]
    },
    {
     "name": "stdout",
     "output_type": "stream",
     "text": [
      "Extracting ./MNIST/raw/train-images-idx3-ubyte.gz to ./MNIST/raw\n",
      "\n",
      "Downloading http://yann.lecun.com/exdb/mnist/train-labels-idx1-ubyte.gz\n",
      "Failed to download (trying next):\n",
      "HTTP Error 404: Not Found\n",
      "\n",
      "Downloading https://ossci-datasets.s3.amazonaws.com/mnist/train-labels-idx1-ubyte.gz\n",
      "Downloading https://ossci-datasets.s3.amazonaws.com/mnist/train-labels-idx1-ubyte.gz to ./MNIST/raw/train-labels-idx1-ubyte.gz\n"
     ]
    },
    {
     "name": "stderr",
     "output_type": "stream",
     "text": [
      "100%|██████████| 28.9k/28.9k [00:00<00:00, 839kB/s]"
     ]
    },
    {
     "name": "stdout",
     "output_type": "stream",
     "text": [
      "Extracting ./MNIST/raw/train-labels-idx1-ubyte.gz to ./MNIST/raw\n",
      "\n",
      "Downloading http://yann.lecun.com/exdb/mnist/t10k-images-idx3-ubyte.gz\n"
     ]
    },
    {
     "name": "stderr",
     "output_type": "stream",
     "text": [
      "\n"
     ]
    },
    {
     "name": "stdout",
     "output_type": "stream",
     "text": [
      "Failed to download (trying next):\n",
      "HTTP Error 404: Not Found\n",
      "\n",
      "Downloading https://ossci-datasets.s3.amazonaws.com/mnist/t10k-images-idx3-ubyte.gz\n",
      "Downloading https://ossci-datasets.s3.amazonaws.com/mnist/t10k-images-idx3-ubyte.gz to ./MNIST/raw/t10k-images-idx3-ubyte.gz\n"
     ]
    },
    {
     "name": "stderr",
     "output_type": "stream",
     "text": [
      "100%|██████████| 1.65M/1.65M [00:00<00:00, 7.71MB/s]\n"
     ]
    },
    {
     "name": "stdout",
     "output_type": "stream",
     "text": [
      "Extracting ./MNIST/raw/t10k-images-idx3-ubyte.gz to ./MNIST/raw\n",
      "\n",
      "Downloading http://yann.lecun.com/exdb/mnist/t10k-labels-idx1-ubyte.gz\n",
      "Failed to download (trying next):\n",
      "HTTP Error 404: Not Found\n",
      "\n",
      "Downloading https://ossci-datasets.s3.amazonaws.com/mnist/t10k-labels-idx1-ubyte.gz\n",
      "Downloading https://ossci-datasets.s3.amazonaws.com/mnist/t10k-labels-idx1-ubyte.gz to ./MNIST/raw/t10k-labels-idx1-ubyte.gz\n"
     ]
    },
    {
     "name": "stderr",
     "output_type": "stream",
     "text": [
      "100%|██████████| 4.54k/4.54k [00:00<00:00, 7.57MB/s]"
     ]
    },
    {
     "name": "stdout",
     "output_type": "stream",
     "text": [
      "Extracting ./MNIST/raw/t10k-labels-idx1-ubyte.gz to ./MNIST/raw\n",
      "\n"
     ]
    },
    {
     "name": "stderr",
     "output_type": "stream",
     "text": [
      "\n"
     ]
    }
   ],
   "source": [
    "mnist_train = torchvision.datasets.MNIST(\".\", train=True, download=True, transform=mnist_transform)\n",
    "mnist_test = torchvision.datasets.MNIST(\".\", train=False, download=True, transform=mnist_transform)"
   ]
  },
  {
   "cell_type": "code",
   "execution_count": 4,
   "id": "947ca48b",
   "metadata": {
    "execution": {
     "iopub.execute_input": "2025-03-04T17:12:42.814055Z",
     "iopub.status.busy": "2025-03-04T17:12:42.813723Z",
     "iopub.status.idle": "2025-03-04T17:12:42.817678Z",
     "shell.execute_reply": "2025-03-04T17:12:42.816738Z"
    },
    "papermill": {
     "duration": 0.011774,
     "end_time": "2025-03-04T17:12:42.819138",
     "exception": false,
     "start_time": "2025-03-04T17:12:42.807364",
     "status": "completed"
    },
    "tags": []
   },
   "outputs": [],
   "source": [
    "from torch.utils.data import random_split"
   ]
  },
  {
   "cell_type": "code",
   "execution_count": 5,
   "id": "758631f1",
   "metadata": {
    "execution": {
     "iopub.execute_input": "2025-03-04T17:12:42.831593Z",
     "iopub.status.busy": "2025-03-04T17:12:42.831356Z",
     "iopub.status.idle": "2025-03-04T17:12:42.861169Z",
     "shell.execute_reply": "2025-03-04T17:12:42.860231Z"
    },
    "papermill": {
     "duration": 0.037597,
     "end_time": "2025-03-04T17:12:42.862710",
     "exception": false,
     "start_time": "2025-03-04T17:12:42.825113",
     "status": "completed"
    },
    "tags": []
   },
   "outputs": [],
   "source": [
    "# Define split ratios\n",
    "train_size = int(0.8 * len(mnist_train))\n",
    "val_size = int(0.2 * len(mnist_train))\n",
    "\n",
    "# Split dataset\n",
    "train_dataset, val_dataset = random_split(mnist_train, [train_size, val_size])"
   ]
  },
  {
   "cell_type": "code",
   "execution_count": 6,
   "id": "594ca5d6",
   "metadata": {
    "execution": {
     "iopub.execute_input": "2025-03-04T17:12:42.877121Z",
     "iopub.status.busy": "2025-03-04T17:12:42.876796Z",
     "iopub.status.idle": "2025-03-04T17:12:42.880448Z",
     "shell.execute_reply": "2025-03-04T17:12:42.879582Z"
    },
    "papermill": {
     "duration": 0.012017,
     "end_time": "2025-03-04T17:12:42.881881",
     "exception": false,
     "start_time": "2025-03-04T17:12:42.869864",
     "status": "completed"
    },
    "tags": []
   },
   "outputs": [],
   "source": [
    "from torch.utils.data import DataLoader"
   ]
  },
  {
   "cell_type": "code",
   "execution_count": 7,
   "id": "191fe51c",
   "metadata": {
    "execution": {
     "iopub.execute_input": "2025-03-04T17:12:42.894329Z",
     "iopub.status.busy": "2025-03-04T17:12:42.894088Z",
     "iopub.status.idle": "2025-03-04T17:12:42.898307Z",
     "shell.execute_reply": "2025-03-04T17:12:42.897619Z"
    },
    "papermill": {
     "duration": 0.011824,
     "end_time": "2025-03-04T17:12:42.899608",
     "exception": false,
     "start_time": "2025-03-04T17:12:42.887784",
     "status": "completed"
    },
    "tags": []
   },
   "outputs": [],
   "source": [
    "batch_size = 32\n",
    "\n",
    "train_loader = DataLoader(train_dataset, batch_size=batch_size, shuffle=True)\n",
    "val_loader = DataLoader(val_dataset, batch_size=batch_size, shuffle=True)\n",
    "\n",
    "pred_loader = DataLoader(mnist_test, batch_size=batch_size, shuffle=True)"
   ]
  },
  {
   "cell_type": "code",
   "execution_count": 8,
   "id": "85f88886",
   "metadata": {
    "execution": {
     "iopub.execute_input": "2025-03-04T17:12:42.911820Z",
     "iopub.status.busy": "2025-03-04T17:12:42.911572Z",
     "iopub.status.idle": "2025-03-04T17:12:42.998718Z",
     "shell.execute_reply": "2025-03-04T17:12:42.997750Z"
    },
    "papermill": {
     "duration": 0.094556,
     "end_time": "2025-03-04T17:12:43.000064",
     "exception": false,
     "start_time": "2025-03-04T17:12:42.905508",
     "status": "completed"
    },
    "tags": []
   },
   "outputs": [
    {
     "name": "stdout",
     "output_type": "stream",
     "text": [
      "Using device: cuda\n"
     ]
    }
   ],
   "source": [
    "device = torch.device(\"cuda\" if torch.cuda.is_available() else \"cpu\")\n",
    "print(f\"Using device: {device}\")"
   ]
  },
  {
   "cell_type": "code",
   "execution_count": 9,
   "id": "3124abda",
   "metadata": {
    "execution": {
     "iopub.execute_input": "2025-03-04T17:12:43.013241Z",
     "iopub.status.busy": "2025-03-04T17:12:43.012924Z",
     "iopub.status.idle": "2025-03-04T17:12:43.017948Z",
     "shell.execute_reply": "2025-03-04T17:12:43.017264Z"
    },
    "papermill": {
     "duration": 0.013023,
     "end_time": "2025-03-04T17:12:43.019346",
     "exception": false,
     "start_time": "2025-03-04T17:12:43.006323",
     "status": "completed"
    },
    "tags": []
   },
   "outputs": [],
   "source": [
    "class Generator(nn.Module):\n",
    "    def __init__(self, dropout_prob=0.1):\n",
    "        super().__init__()\n",
    "\n",
    "        self.layers = nn.ModuleList([\n",
    "            nn.Flatten(),\n",
    "            \n",
    "            nn.Linear(28*28, 1200),\n",
    "            nn.ReLU(),\n",
    "            nn.Dropout(dropout_prob),\n",
    "\n",
    "            nn.Linear(1200, 1200),\n",
    "            nn.ReLU(),\n",
    "            nn.Dropout(dropout_prob),\n",
    "\n",
    "            nn.Linear(1200, 28*28)\n",
    "        ])\n",
    "\n",
    "    def forward(self, x):\n",
    "        for layer in self.layers:\n",
    "            x = layer(x)\n",
    "        x = x.view(x.shape[0], 1, 28, 28)\n",
    "        return x"
   ]
  },
  {
   "cell_type": "code",
   "execution_count": 10,
   "id": "1c8ab058",
   "metadata": {
    "execution": {
     "iopub.execute_input": "2025-03-04T17:12:43.031799Z",
     "iopub.status.busy": "2025-03-04T17:12:43.031561Z",
     "iopub.status.idle": "2025-03-04T17:12:43.076820Z",
     "shell.execute_reply": "2025-03-04T17:12:43.076007Z"
    },
    "papermill": {
     "duration": 0.053331,
     "end_time": "2025-03-04T17:12:43.078508",
     "exception": false,
     "start_time": "2025-03-04T17:12:43.025177",
     "status": "completed"
    },
    "tags": []
   },
   "outputs": [],
   "source": [
    "generator = Generator(dropout_prob=0.1)"
   ]
  },
  {
   "cell_type": "code",
   "execution_count": 11,
   "id": "454d9e49",
   "metadata": {
    "execution": {
     "iopub.execute_input": "2025-03-04T17:12:43.091470Z",
     "iopub.status.busy": "2025-03-04T17:12:43.091191Z",
     "iopub.status.idle": "2025-03-04T17:12:43.096311Z",
     "shell.execute_reply": "2025-03-04T17:12:43.095522Z"
    },
    "papermill": {
     "duration": 0.013037,
     "end_time": "2025-03-04T17:12:43.097733",
     "exception": false,
     "start_time": "2025-03-04T17:12:43.084696",
     "status": "completed"
    },
    "tags": []
   },
   "outputs": [],
   "source": [
    "class Adversial(nn.Module):\n",
    "    def __init__(self, dropout_prob=0.1):\n",
    "        super().__init__()\n",
    "\n",
    "        self.layers = nn.ModuleList([\n",
    "            nn.Flatten(),\n",
    "            \n",
    "            nn.Linear(28*28, 600),\n",
    "            nn.ReLU(),\n",
    "            nn.Dropout(dropout_prob),\n",
    "\n",
    "            nn.Linear(600, 600),\n",
    "            nn.ReLU(),\n",
    "            nn.Dropout(dropout_prob),\n",
    "\n",
    "            nn.Linear(600, 1)\n",
    "        ])\n",
    "\n",
    "    def forward(self, x):\n",
    "        for layer in self.layers:\n",
    "            x = layer(x)\n",
    "        return x"
   ]
  },
  {
   "cell_type": "code",
   "execution_count": 12,
   "id": "4bdced84",
   "metadata": {
    "execution": {
     "iopub.execute_input": "2025-03-04T17:12:43.110766Z",
     "iopub.status.busy": "2025-03-04T17:12:43.110468Z",
     "iopub.status.idle": "2025-03-04T17:12:43.121912Z",
     "shell.execute_reply": "2025-03-04T17:12:43.121003Z"
    },
    "papermill": {
     "duration": 0.01956,
     "end_time": "2025-03-04T17:12:43.123343",
     "exception": false,
     "start_time": "2025-03-04T17:12:43.103783",
     "status": "completed"
    },
    "tags": []
   },
   "outputs": [],
   "source": [
    "adv = Adversial(dropout_prob=0.1)"
   ]
  },
  {
   "cell_type": "code",
   "execution_count": 13,
   "id": "74911eb5",
   "metadata": {
    "execution": {
     "iopub.execute_input": "2025-03-04T17:12:43.136390Z",
     "iopub.status.busy": "2025-03-04T17:12:43.136116Z",
     "iopub.status.idle": "2025-03-04T17:12:43.141764Z",
     "shell.execute_reply": "2025-03-04T17:12:43.140811Z"
    },
    "papermill": {
     "duration": 0.01363,
     "end_time": "2025-03-04T17:12:43.143203",
     "exception": false,
     "start_time": "2025-03-04T17:12:43.129573",
     "status": "completed"
    },
    "tags": []
   },
   "outputs": [
    {
     "data": {
      "text/plain": [
       "1500"
      ]
     },
     "execution_count": 13,
     "metadata": {},
     "output_type": "execute_result"
    }
   ],
   "source": [
    "num_batches = len(train_loader)\n",
    "num_batches"
   ]
  },
  {
   "cell_type": "code",
   "execution_count": 14,
   "id": "88f99d34",
   "metadata": {
    "execution": {
     "iopub.execute_input": "2025-03-04T17:12:43.155746Z",
     "iopub.status.busy": "2025-03-04T17:12:43.155523Z",
     "iopub.status.idle": "2025-03-04T17:12:43.158837Z",
     "shell.execute_reply": "2025-03-04T17:12:43.158150Z"
    },
    "papermill": {
     "duration": 0.011003,
     "end_time": "2025-03-04T17:12:43.160218",
     "exception": false,
     "start_time": "2025-03-04T17:12:43.149215",
     "status": "completed"
    },
    "tags": []
   },
   "outputs": [],
   "source": [
    "import itertools"
   ]
  },
  {
   "cell_type": "code",
   "execution_count": 15,
   "id": "dac79a9a",
   "metadata": {
    "execution": {
     "iopub.execute_input": "2025-03-04T17:12:43.172808Z",
     "iopub.status.busy": "2025-03-04T17:12:43.172585Z",
     "iopub.status.idle": "2025-03-04T17:12:43.176665Z",
     "shell.execute_reply": "2025-03-04T17:12:43.175801Z"
    },
    "papermill": {
     "duration": 0.011808,
     "end_time": "2025-03-04T17:12:43.178038",
     "exception": false,
     "start_time": "2025-03-04T17:12:43.166230",
     "status": "completed"
    },
    "tags": []
   },
   "outputs": [],
   "source": [
    "import torch.nn.functional as F\n",
    "\n",
    "def adversarialLoss(d_x, d_g_z, gp, lambda_gp):\n",
    "    return -d_x.mean() + d_g_z.mean() + lambda_gp * gp\n",
    "\n",
    "def generatorLoss(d_g_z):\n",
    "    return -d_g_z.mean()"
   ]
  },
  {
   "cell_type": "code",
   "execution_count": 16,
   "id": "ae5032df",
   "metadata": {
    "execution": {
     "iopub.execute_input": "2025-03-04T17:12:43.190678Z",
     "iopub.status.busy": "2025-03-04T17:12:43.190402Z",
     "iopub.status.idle": "2025-03-04T17:12:43.196208Z",
     "shell.execute_reply": "2025-03-04T17:12:43.195438Z"
    },
    "papermill": {
     "duration": 0.013697,
     "end_time": "2025-03-04T17:12:43.197564",
     "exception": false,
     "start_time": "2025-03-04T17:12:43.183867",
     "status": "completed"
    },
    "tags": []
   },
   "outputs": [],
   "source": [
    "def gradientPenalty(real_data, gen_data, adv):\n",
    "    epsilon = torch.randn((batch_size, 1, 1, 1)).repeat(1, 1, 28, 28).to(device)\n",
    "        \n",
    "    interpolated_img = epsilon * real_data + (1 - epsilon) * gen_data\n",
    "    # print(f\"gen_data: {noise}\")\n",
    "    # print(f\"gen_data.shape: {gen_data.shape}\")\n",
    "    \n",
    "    pred_interpolated_data = adv(interpolated_img)\n",
    "    # print(f\"pred_gen_data: {pred_gen_data}\")\n",
    "    # print(f\"pred_gen_data.shape: {pred_gen_data.shape}\")\n",
    "\n",
    "    # loss\n",
    "    gradient = torch.autograd.grad(\n",
    "        inputs = interpolated_img,\n",
    "        outputs = pred_interpolated_data,\n",
    "        grad_outputs = torch.ones_like(pred_interpolated_data),\n",
    "        create_graph = True,\n",
    "        retain_graph = True\n",
    "    )[0] # d(pred_interpolated_data) / d(interpolated_img)\n",
    "\n",
    "    gradient = gradient.view(gradient.shape[0], -1) # flatten with graident.shape[0] being num of examples\n",
    "    gradient_norm = gradient.norm(2, dim=1) # dim is 1 with data\n",
    "    gradient_penalty = torch.mean((gradient_norm - 1) ** 2)\n",
    "\n",
    "    return gradient_penalty"
   ]
  },
  {
   "cell_type": "code",
   "execution_count": 17,
   "id": "dc4ba057",
   "metadata": {
    "execution": {
     "iopub.execute_input": "2025-03-04T17:12:43.210320Z",
     "iopub.status.busy": "2025-03-04T17:12:43.210086Z",
     "iopub.status.idle": "2025-03-04T17:12:43.213101Z",
     "shell.execute_reply": "2025-03-04T17:12:43.212390Z"
    },
    "papermill": {
     "duration": 0.010766,
     "end_time": "2025-03-04T17:12:43.214446",
     "exception": false,
     "start_time": "2025-03-04T17:12:43.203680",
     "status": "completed"
    },
    "tags": []
   },
   "outputs": [],
   "source": [
    "import math"
   ]
  },
  {
   "cell_type": "code",
   "execution_count": 18,
   "id": "5a9d595c",
   "metadata": {
    "execution": {
     "iopub.execute_input": "2025-03-04T17:12:43.226999Z",
     "iopub.status.busy": "2025-03-04T17:12:43.226727Z",
     "iopub.status.idle": "2025-03-04T17:23:23.791817Z",
     "shell.execute_reply": "2025-03-04T17:23:23.790916Z"
    },
    "papermill": {
     "duration": 640.579292,
     "end_time": "2025-03-04T17:23:23.799631",
     "exception": false,
     "start_time": "2025-03-04T17:12:43.220339",
     "status": "completed"
    },
    "tags": []
   },
   "outputs": [
    {
     "name": "stderr",
     "output_type": "stream",
     "text": [
      "/usr/local/lib/python3.10/dist-packages/torch/autograd/graph.py:825: UserWarning: Attempting to run cuBLAS, but there was no current CUDA context! Attempting to set the primary context... (Triggered internally at ../aten/src/ATen/cuda/CublasHandlePool.cpp:135.)\n",
      "  return Variable._execution_engine.run_backward(  # Calls into the C++ engine to run the backward pass\n"
     ]
    },
    {
     "name": "stdout",
     "output_type": "stream",
     "text": [
      "Epoch 1000/20000, Adversial Loss: -2.0257, Generator Loss: 1.6873\n",
      "Epoch 2000/20000, Adversial Loss: -1.8510, Generator Loss: 0.6660\n",
      "Epoch 3000/20000, Adversial Loss: -1.9065, Generator Loss: 1.0896\n",
      "Epoch 4000/20000, Adversial Loss: -2.1374, Generator Loss: 0.1388\n",
      "Epoch 5000/20000, Adversial Loss: -2.1047, Generator Loss: 3.0820\n",
      "Epoch 6000/20000, Adversial Loss: -2.5232, Generator Loss: 2.3654\n",
      "Epoch 7000/20000, Adversial Loss: -1.9953, Generator Loss: 0.5935\n",
      "Epoch 8000/20000, Adversial Loss: -2.3456, Generator Loss: 3.2181\n",
      "Epoch 9000/20000, Adversial Loss: -1.8020, Generator Loss: 0.8146\n",
      "Epoch 10000/20000, Adversial Loss: -2.1950, Generator Loss: 2.0505\n",
      "Epoch 11000/20000, Adversial Loss: -2.5097, Generator Loss: 1.2561\n",
      "Epoch 12000/20000, Adversial Loss: -2.6862, Generator Loss: 1.0901\n",
      "Epoch 13000/20000, Adversial Loss: -2.8692, Generator Loss: 3.0003\n",
      "Epoch 14000/20000, Adversial Loss: -2.4091, Generator Loss: 4.3637\n",
      "Epoch 15000/20000, Adversial Loss: -1.0258, Generator Loss: 3.4743\n",
      "Epoch 16000/20000, Adversial Loss: -2.8468, Generator Loss: 4.4628\n",
      "Epoch 17000/20000, Adversial Loss: -2.9321, Generator Loss: 4.7274\n",
      "Epoch 18000/20000, Adversial Loss: -2.9067, Generator Loss: 5.8501\n",
      "Epoch 19000/20000, Adversial Loss: -2.9593, Generator Loss: 3.7440\n",
      "Epoch 20000/20000, Adversial Loss: -2.7703, Generator Loss: 5.9622\n"
     ]
    }
   ],
   "source": [
    "learning_rate = 1e-3\n",
    "k = 5\n",
    "c = 0.01\n",
    "lambda_gp = 10\n",
    "\n",
    "# less epoch as can easily overfit\n",
    "num_epoch = 20000\n",
    "\n",
    "lossi_gen = []\n",
    "lossi_adv = []\n",
    "\n",
    "total_samples = len(train_loader)\n",
    "\n",
    "advOptimizer = torch.optim.Adam(adv.parameters(), lr=learning_rate, betas=(0.0, 0.9))\n",
    "generatorOptimizer = torch.optim.Adam(generator.parameters(), lr=learning_rate, betas=(0.0, 0.9))\n",
    "\n",
    "generator = generator.to(device)\n",
    "adv = adv.to(device)\n",
    "\n",
    "train_loader_iter_adv_training = itertools.cycle(iter(train_loader))\n",
    "\n",
    "for epoch in range(num_epoch):\n",
    "    adv.train()\n",
    "    generator.eval()\n",
    "    \n",
    "    for _ in range(k):\n",
    "        advOptimizer.zero_grad()\n",
    "        \n",
    "        feature, _ = next(train_loader_iter_adv_training)\n",
    "        feature = feature.to(device)\n",
    "        # print(f\"feature: {feature}\")\n",
    "        # print(f\"feature.shape: {feature.shape}\")\n",
    "\n",
    "        pred_data = adv(feature)\n",
    "        # print(f\"pred_data: {pred_data}\")\n",
    "        # print(f\"pred_data.shape: {pred_data.shape}\")\n",
    "\n",
    "        noise = torch.randn(batch_size, 1, 28, 28)\n",
    "        noise = noise.to(device)\n",
    "        # print(f\"noise: {noise}\")\n",
    "        # print(f\"noise.shape: {noise.shape}\")\n",
    "    \n",
    "        gen_data = generator(noise)\n",
    "\n",
    "        pred_gen_data = adv(gen_data)\n",
    "        # print(f\"pred_gen_data: {pred_gen_data}\")\n",
    "        # print(f\"pred_gen_data.shape: {pred_gen_data.shape}\")\n",
    "\n",
    "        gp = gradientPenalty(feature, gen_data, adv)\n",
    "        advLoss = adversarialLoss(pred_data, pred_gen_data, gp, lambda_gp)\n",
    "\n",
    "        advLoss.backward()\n",
    "        advOptimizer.step()\n",
    "\n",
    "        lossi_adv.append(advLoss.detach().cpu())\n",
    "\n",
    "    generatorOptimizer.zero_grad()\n",
    "\n",
    "    adv.eval()\n",
    "    generator.train()\n",
    "\n",
    "    noise = torch.randn(batch_size, 1, 28, 28)\n",
    "    noise = noise.to(device)\n",
    "    # print(f\"noise: {noise}\")\n",
    "    # print(f\"noise.shape: {noise.shape}\")\n",
    "\n",
    "    gen_data = generator(noise)\n",
    "    # print(f\"gen_data: {noise}\")\n",
    "    # print(f\"gen_data.shape: {gen_data.shape}\")\n",
    "\n",
    "    pred_gen_data = adv(gen_data)\n",
    "    # print(f\"pred_gen_data: {pred_gen_data}\")\n",
    "    # print(f\"pred_gen_data.shape: {pred_gen_data.shape}\")\n",
    "    \n",
    "    # loss\n",
    "    genLoss = generatorLoss(pred_gen_data)\n",
    "\n",
    "    genLoss.backward()\n",
    "    generatorOptimizer.step()\n",
    "\n",
    "    lossi_gen.append(genLoss.detach().cpu())\n",
    "\n",
    "    if ((epoch+1)%1000==0):\n",
    "        print(f\"Epoch {epoch+1}/{num_epoch}, Adversial Loss: {advLoss.item():.4f}, Generator Loss: {genLoss.item():.4f}\")"
   ]
  },
  {
   "cell_type": "code",
   "execution_count": 19,
   "id": "4dce6caa",
   "metadata": {
    "execution": {
     "iopub.execute_input": "2025-03-04T17:23:23.813679Z",
     "iopub.status.busy": "2025-03-04T17:23:23.813422Z",
     "iopub.status.idle": "2025-03-04T17:23:23.816677Z",
     "shell.execute_reply": "2025-03-04T17:23:23.816018Z"
    },
    "papermill": {
     "duration": 0.011938,
     "end_time": "2025-03-04T17:23:23.818013",
     "exception": false,
     "start_time": "2025-03-04T17:23:23.806075",
     "status": "completed"
    },
    "tags": []
   },
   "outputs": [],
   "source": [
    "import matplotlib.pyplot as plt"
   ]
  },
  {
   "cell_type": "code",
   "execution_count": 20,
   "id": "bc689bc0",
   "metadata": {
    "execution": {
     "iopub.execute_input": "2025-03-04T17:23:23.831988Z",
     "iopub.status.busy": "2025-03-04T17:23:23.831697Z",
     "iopub.status.idle": "2025-03-04T17:23:25.255829Z",
     "shell.execute_reply": "2025-03-04T17:23:25.254876Z"
    },
    "papermill": {
     "duration": 1.432469,
     "end_time": "2025-03-04T17:23:25.257247",
     "exception": false,
     "start_time": "2025-03-04T17:23:23.824778",
     "status": "completed"
    },
    "tags": []
   },
   "outputs": [
    {
     "data": {
      "text/plain": [
       "[<matplotlib.lines.Line2D at 0x7da7aa59fb20>]"
      ]
     },
     "execution_count": 20,
     "metadata": {},
     "output_type": "execute_result"
    },
    {
     "data": {
      "image/png": "[encoded data removed]",
      "text/plain": [
       "<Figure size 640x480 with 1 Axes>"
      ]
     },
     "metadata": {},
     "output_type": "display_data"
    }
   ],
   "source": [
    "plt.plot(lossi_adv, c=\"red\")\n",
    "plt.plot(lossi_gen, c=\"blue\")"
   ]
  },
  {
   "cell_type": "code",
   "execution_count": 21,
   "id": "796c95f6",
   "metadata": {
    "execution": {
     "iopub.execute_input": "2025-03-04T17:23:25.272420Z",
     "iopub.status.busy": "2025-03-04T17:23:25.272141Z",
     "iopub.status.idle": "2025-03-04T17:23:25.476994Z",
     "shell.execute_reply": "2025-03-04T17:23:25.475892Z"
    },
    "papermill": {
     "duration": 0.21412,
     "end_time": "2025-03-04T17:23:25.478647",
     "exception": false,
     "start_time": "2025-03-04T17:23:25.264527",
     "status": "completed"
    },
    "tags": []
   },
   "outputs": [
    {
     "data": {
      "image/png": "[encoded data removed]",
      "text/plain": [
       "<Figure size 640x480 with 1 Axes>"
      ]
     },
     "metadata": {},
     "output_type": "display_data"
    }
   ],
   "source": [
    "generator.eval()\n",
    "\n",
    "with torch.no_grad():\n",
    "    noise = torch.randn(1, 1, 28, 28)\n",
    "    noise = noise.to(device)\n",
    "    \n",
    "    gen_img = generator(noise)\n",
    "    img = gen_img.view(1, 28, 28)\n",
    "    \n",
    "    plt.imshow(img.squeeze().cpu(), cmap=\"gray\")\n",
    "    plt.show()"
   ]
  },
  {
   "cell_type": "code",
   "execution_count": null,
   "id": "6f2e9779",
   "metadata": {
    "papermill": {
     "duration": 0.007079,
     "end_time": "2025-03-04T17:23:25.494659",
     "exception": false,
     "start_time": "2025-03-04T17:23:25.487580",
     "status": "completed"
    },
    "tags": []
   },
   "outputs": [],
   "source": []
  },
  {
   "cell_type": "code",
   "execution_count": null,
   "id": "336bf4dd",
   "metadata": {
    "papermill": {
     "duration": 0.006826,
     "end_time": "2025-03-04T17:23:25.508431",
     "exception": false,
     "start_time": "2025-03-04T17:23:25.501605",
     "status": "completed"
    },
    "tags": []
   },
   "outputs": [],
   "source": []
  }
 ],
 "metadata": {
  "kaggle": {
   "accelerator": "nvidiaTeslaT4",
   "dataSources": [],
   "dockerImageVersionId": 30919,
   "isGpuEnabled": true,
   "isInternetEnabled": true,
   "language": "python",
   "sourceType": "notebook"
  },
  "kernelspec": {
   "display_name": "Python 3",
   "language": "python",
   "name": "python3"
  },
  "language_info": {
   "codemirror_mode": {
    "name": "ipython",
    "version": 3
   },
   "file_extension": ".py",
   "mimetype": "text/x-python",
   "name": "python",
   "nbconvert_exporter": "python",
   "pygments_lexer": "ipython3",
   "version": "3.10.12"
  },
  "papermill": {
   "default_parameters": {},
   "duration": 662.54314,
   "end_time": "2025-03-04T17:23:28.237876",
   "environment_variables": {},
   "exception": null,
   "input_path": "__notebook__.ipynb",
   "output_path": "__notebook__.ipynb",
   "parameters": {},
   "start_time": "2025-03-04T17:12:25.694736",
   "version": "2.6.0"
  }
 },
 "nbformat": 4,
 "nbformat_minor": 5
}
