{
 "cells": [
  {
   "cell_type": "code",
   "execution_count": 1,
   "id": "89b4b4dd",
   "metadata": {
    "_cell_guid": "4b8e388b-e7d2-42a6-9ef2-4ab6336077dd",
    "_uuid": "b04ad4b0-4735-47b0-aff9-aa678d15bb61",
    "collapsed": false,
    "execution": {
     "iopub.execute_input": "2025-02-17T08:24:56.133745Z",
     "iopub.status.busy": "2025-02-17T08:24:56.133413Z",
     "iopub.status.idle": "2025-02-17T08:24:58.207649Z",
     "shell.execute_reply": "2025-02-17T08:24:58.206915Z"
    },
    "jupyter": {
     "outputs_hidden": false
    },
    "papermill": {
     "duration": 2.087762,
     "end_time": "2025-02-17T08:24:58.209183",
     "exception": false,
     "start_time": "2025-02-17T08:24:56.121421",
     "status": "completed"
    },
    "tags": []
   },
   "outputs": [],
   "source": [
    "import pandas as pd\n",
    "import matplotlib.pyplot as plt\n",
    "import seaborn as sns\n",
    "import re"
   ]
  },
  {
   "cell_type": "code",
   "execution_count": 2,
   "id": "a9897d11",
   "metadata": {
    "_cell_guid": "3eb2e9d0-f2a6-45ff-811c-d79e510c565d",
    "_uuid": "1337b499-bd84-4e1c-8511-891a54202ab1",
    "collapsed": false,
    "execution": {
     "iopub.execute_input": "2025-02-17T08:24:58.230708Z",
     "iopub.status.busy": "2025-02-17T08:24:58.230288Z",
     "iopub.status.idle": "2025-02-17T08:25:01.826615Z",
     "shell.execute_reply": "2025-02-17T08:25:01.825715Z"
    },
    "jupyter": {
     "outputs_hidden": false
    },
    "papermill": {
     "duration": 3.60829,
     "end_time": "2025-02-17T08:25:01.828035",
     "exception": false,
     "start_time": "2025-02-17T08:24:58.219745",
     "status": "completed"
    },
    "tags": []
   },
   "outputs": [
    {
     "data": {
      "text/html": [
       "<div>\n",
       "<style scoped>\n",
       "    .dataframe tbody tr th:only-of-type {\n",
       "        vertical-align: middle;\n",
       "    }\n",
       "\n",
       "    .dataframe tbody tr th {\n",
       "        vertical-align: top;\n",
       "    }\n",
       "\n",
       "    .dataframe thead th {\n",
       "        text-align: right;\n",
       "    }\n",
       "</style>\n",
       "<table border=\"1\" class=\"dataframe\">\n",
       "  <thead>\n",
       "    <tr style=\"text-align: right;\">\n",
       "      <th></th>\n",
       "      <th>id</th>\n",
       "      <th>model_a</th>\n",
       "      <th>model_b</th>\n",
       "      <th>prompt</th>\n",
       "      <th>response_a</th>\n",
       "      <th>response_b</th>\n",
       "      <th>winner_model_a</th>\n",
       "      <th>winner_model_b</th>\n",
       "      <th>winner_tie</th>\n",
       "    </tr>\n",
       "  </thead>\n",
       "  <tbody>\n",
       "    <tr>\n",
       "      <th>0</th>\n",
       "      <td>30192</td>\n",
       "      <td>gpt-4-1106-preview</td>\n",
       "      <td>gpt-4-0613</td>\n",
       "      <td>[\"Is it morally right to try to have a certain...</td>\n",
       "      <td>[\"The question of whether it is morally right ...</td>\n",
       "      <td>[\"As an AI, I don't have personal beliefs or o...</td>\n",
       "      <td>1</td>\n",
       "      <td>0</td>\n",
       "      <td>0</td>\n",
       "    </tr>\n",
       "    <tr>\n",
       "      <th>1</th>\n",
       "      <td>53567</td>\n",
       "      <td>koala-13b</td>\n",
       "      <td>gpt-4-0613</td>\n",
       "      <td>[\"What is the difference between marriage lice...</td>\n",
       "      <td>[\"A marriage license is a legal document that ...</td>\n",
       "      <td>[\"A marriage license and a marriage certificat...</td>\n",
       "      <td>0</td>\n",
       "      <td>1</td>\n",
       "      <td>0</td>\n",
       "    </tr>\n",
       "    <tr>\n",
       "      <th>2</th>\n",
       "      <td>65089</td>\n",
       "      <td>gpt-3.5-turbo-0613</td>\n",
       "      <td>mistral-medium</td>\n",
       "      <td>[\"explain function calling. how would you call...</td>\n",
       "      <td>[\"Function calling is the process of invoking ...</td>\n",
       "      <td>[\"Function calling is the process of invoking ...</td>\n",
       "      <td>0</td>\n",
       "      <td>0</td>\n",
       "      <td>1</td>\n",
       "    </tr>\n",
       "    <tr>\n",
       "      <th>3</th>\n",
       "      <td>96401</td>\n",
       "      <td>llama-2-13b-chat</td>\n",
       "      <td>mistral-7b-instruct</td>\n",
       "      <td>[\"How can I create a test set for a very rare ...</td>\n",
       "      <td>[\"Creating a test set for a very rare category...</td>\n",
       "      <td>[\"When building a classifier for a very rare c...</td>\n",
       "      <td>1</td>\n",
       "      <td>0</td>\n",
       "      <td>0</td>\n",
       "    </tr>\n",
       "    <tr>\n",
       "      <th>4</th>\n",
       "      <td>198779</td>\n",
       "      <td>koala-13b</td>\n",
       "      <td>gpt-3.5-turbo-0314</td>\n",
       "      <td>[\"What is the best way to travel from Tel-Aviv...</td>\n",
       "      <td>[\"The best way to travel from Tel Aviv to Jeru...</td>\n",
       "      <td>[\"The best way to travel from Tel-Aviv to Jeru...</td>\n",
       "      <td>0</td>\n",
       "      <td>1</td>\n",
       "      <td>0</td>\n",
       "    </tr>\n",
       "  </tbody>\n",
       "</table>\n",
       "</div>"
      ],
      "text/plain": [
       "       id             model_a              model_b  \\\n",
       "0   30192  gpt-4-1106-preview           gpt-4-0613   \n",
       "1   53567           koala-13b           gpt-4-0613   \n",
       "2   65089  gpt-3.5-turbo-0613       mistral-medium   \n",
       "3   96401    llama-2-13b-chat  mistral-7b-instruct   \n",
       "4  198779           koala-13b   gpt-3.5-turbo-0314   \n",
       "\n",
       "                                              prompt  \\\n",
       "0  [\"Is it morally right to try to have a certain...   \n",
       "1  [\"What is the difference between marriage lice...   \n",
       "2  [\"explain function calling. how would you call...   \n",
       "3  [\"How can I create a test set for a very rare ...   \n",
       "4  [\"What is the best way to travel from Tel-Aviv...   \n",
       "\n",
       "                                          response_a  \\\n",
       "0  [\"The question of whether it is morally right ...   \n",
       "1  [\"A marriage license is a legal document that ...   \n",
       "2  [\"Function calling is the process of invoking ...   \n",
       "3  [\"Creating a test set for a very rare category...   \n",
       "4  [\"The best way to travel from Tel Aviv to Jeru...   \n",
       "\n",
       "                                          response_b  winner_model_a  \\\n",
       "0  [\"As an AI, I don't have personal beliefs or o...               1   \n",
       "1  [\"A marriage license and a marriage certificat...               0   \n",
       "2  [\"Function calling is the process of invoking ...               0   \n",
       "3  [\"When building a classifier for a very rare c...               1   \n",
       "4  [\"The best way to travel from Tel-Aviv to Jeru...               0   \n",
       "\n",
       "   winner_model_b  winner_tie  \n",
       "0               0           0  \n",
       "1               1           0  \n",
       "2               0           1  \n",
       "3               0           0  \n",
       "4               1           0  "
      ]
     },
     "execution_count": 2,
     "metadata": {},
     "output_type": "execute_result"
    }
   ],
   "source": [
    "df = pd.read_csv(\"/kaggle/input/llm-classification-finetuning/train.csv\")\n",
    "df.head()"
   ]
  },
  {
   "cell_type": "code",
   "execution_count": 3,
   "id": "f903be6e",
   "metadata": {
    "_cell_guid": "33427abc-6c50-4831-aeb2-591857cc2575",
    "_uuid": "578798ee-31b6-46ee-9732-dc4c08666750",
    "collapsed": false,
    "execution": {
     "iopub.execute_input": "2025-02-17T08:25:01.849568Z",
     "iopub.status.busy": "2025-02-17T08:25:01.849248Z",
     "iopub.status.idle": "2025-02-17T08:25:01.861099Z",
     "shell.execute_reply": "2025-02-17T08:25:01.860418Z"
    },
    "jupyter": {
     "outputs_hidden": false
    },
    "papermill": {
     "duration": 0.023861,
     "end_time": "2025-02-17T08:25:01.862336",
     "exception": false,
     "start_time": "2025-02-17T08:25:01.838475",
     "status": "completed"
    },
    "tags": []
   },
   "outputs": [
    {
     "data": {
      "text/html": [
       "<div>\n",
       "<style scoped>\n",
       "    .dataframe tbody tr th:only-of-type {\n",
       "        vertical-align: middle;\n",
       "    }\n",
       "\n",
       "    .dataframe tbody tr th {\n",
       "        vertical-align: top;\n",
       "    }\n",
       "\n",
       "    .dataframe thead th {\n",
       "        text-align: right;\n",
       "    }\n",
       "</style>\n",
       "<table border=\"1\" class=\"dataframe\">\n",
       "  <thead>\n",
       "    <tr style=\"text-align: right;\">\n",
       "      <th></th>\n",
       "      <th>id</th>\n",
       "      <th>prompt</th>\n",
       "      <th>response_a</th>\n",
       "      <th>response_b</th>\n",
       "    </tr>\n",
       "  </thead>\n",
       "  <tbody>\n",
       "    <tr>\n",
       "      <th>0</th>\n",
       "      <td>136060</td>\n",
       "      <td>[\"I have three oranges today, I ate an orange ...</td>\n",
       "      <td>[\"You have two oranges today.\"]</td>\n",
       "      <td>[\"You still have three oranges. Eating an oran...</td>\n",
       "    </tr>\n",
       "    <tr>\n",
       "      <th>1</th>\n",
       "      <td>211333</td>\n",
       "      <td>[\"You are a mediator in a heated political deb...</td>\n",
       "      <td>[\"Thank you for sharing the details of the sit...</td>\n",
       "      <td>[\"Mr Reddy and Ms Blue both have valid points ...</td>\n",
       "    </tr>\n",
       "    <tr>\n",
       "      <th>2</th>\n",
       "      <td>1233961</td>\n",
       "      <td>[\"How to initialize the classification head wh...</td>\n",
       "      <td>[\"When you want to initialize the classificati...</td>\n",
       "      <td>[\"To initialize the classification head when p...</td>\n",
       "    </tr>\n",
       "  </tbody>\n",
       "</table>\n",
       "</div>"
      ],
      "text/plain": [
       "        id                                             prompt  \\\n",
       "0   136060  [\"I have three oranges today, I ate an orange ...   \n",
       "1   211333  [\"You are a mediator in a heated political deb...   \n",
       "2  1233961  [\"How to initialize the classification head wh...   \n",
       "\n",
       "                                          response_a  \\\n",
       "0                    [\"You have two oranges today.\"]   \n",
       "1  [\"Thank you for sharing the details of the sit...   \n",
       "2  [\"When you want to initialize the classificati...   \n",
       "\n",
       "                                          response_b  \n",
       "0  [\"You still have three oranges. Eating an oran...  \n",
       "1  [\"Mr Reddy and Ms Blue both have valid points ...  \n",
       "2  [\"To initialize the classification head when p...  "
      ]
     },
     "execution_count": 3,
     "metadata": {},
     "output_type": "execute_result"
    }
   ],
   "source": [
    "df_test = pd.read_csv(\"/kaggle/input/llm-classification-finetuning/test.csv\")\n",
    "df_test.head()"
   ]
  },
  {
   "cell_type": "code",
   "execution_count": 4,
   "id": "6fae77a1",
   "metadata": {
    "_cell_guid": "30209c17-5b26-4b20-9f3e-f1fc3271daca",
    "_uuid": "ed799055-48d1-4305-9a42-d261a3e4e152",
    "collapsed": false,
    "execution": {
     "iopub.execute_input": "2025-02-17T08:25:01.884234Z",
     "iopub.status.busy": "2025-02-17T08:25:01.883988Z",
     "iopub.status.idle": "2025-02-17T08:25:01.888318Z",
     "shell.execute_reply": "2025-02-17T08:25:01.887525Z"
    },
    "jupyter": {
     "outputs_hidden": false
    },
    "papermill": {
     "duration": 0.01658,
     "end_time": "2025-02-17T08:25:01.889560",
     "exception": false,
     "start_time": "2025-02-17T08:25:01.872980",
     "status": "completed"
    },
    "tags": []
   },
   "outputs": [
    {
     "data": {
      "text/plain": [
       "57477"
      ]
     },
     "execution_count": 4,
     "metadata": {},
     "output_type": "execute_result"
    }
   ],
   "source": [
    "len(df)"
   ]
  },
  {
   "cell_type": "code",
   "execution_count": 5,
   "id": "607f3636",
   "metadata": {
    "_cell_guid": "c1d63cf1-feb5-431c-b74c-34c4eb383f33",
    "_uuid": "e2c08ea4-23d8-4fde-af59-a50212c4f702",
    "collapsed": false,
    "execution": {
     "iopub.execute_input": "2025-02-17T08:25:01.910929Z",
     "iopub.status.busy": "2025-02-17T08:25:01.910684Z",
     "iopub.status.idle": "2025-02-17T08:25:01.914770Z",
     "shell.execute_reply": "2025-02-17T08:25:01.914135Z"
    },
    "jupyter": {
     "outputs_hidden": false
    },
    "papermill": {
     "duration": 0.015998,
     "end_time": "2025-02-17T08:25:01.915954",
     "exception": false,
     "start_time": "2025-02-17T08:25:01.899956",
     "status": "completed"
    },
    "tags": []
   },
   "outputs": [
    {
     "data": {
      "text/plain": [
       "3"
      ]
     },
     "execution_count": 5,
     "metadata": {},
     "output_type": "execute_result"
    }
   ],
   "source": [
    "len(df_test)"
   ]
  },
  {
   "cell_type": "code",
   "execution_count": 6,
   "id": "9d63034b",
   "metadata": {
    "_cell_guid": "060638a3-0fd1-4df5-953d-f6baa05ae567",
    "_uuid": "c84afd0a-c952-4f86-93f8-3db2da5aa7ab",
    "collapsed": false,
    "execution": {
     "iopub.execute_input": "2025-02-17T08:25:01.937663Z",
     "iopub.status.busy": "2025-02-17T08:25:01.937371Z",
     "iopub.status.idle": "2025-02-17T08:25:01.963492Z",
     "shell.execute_reply": "2025-02-17T08:25:01.962628Z"
    },
    "jupyter": {
     "outputs_hidden": false
    },
    "papermill": {
     "duration": 0.038263,
     "end_time": "2025-02-17T08:25:01.964819",
     "exception": false,
     "start_time": "2025-02-17T08:25:01.926556",
     "status": "completed"
    },
    "tags": []
   },
   "outputs": [
    {
     "data": {
      "text/html": [
       "<div>\n",
       "<style scoped>\n",
       "    .dataframe tbody tr th:only-of-type {\n",
       "        vertical-align: middle;\n",
       "    }\n",
       "\n",
       "    .dataframe tbody tr th {\n",
       "        vertical-align: top;\n",
       "    }\n",
       "\n",
       "    .dataframe thead th {\n",
       "        text-align: right;\n",
       "    }\n",
       "</style>\n",
       "<table border=\"1\" class=\"dataframe\">\n",
       "  <thead>\n",
       "    <tr style=\"text-align: right;\">\n",
       "      <th></th>\n",
       "      <th>id</th>\n",
       "      <th>winner_model_a</th>\n",
       "      <th>winner_model_b</th>\n",
       "      <th>winner_tie</th>\n",
       "    </tr>\n",
       "  </thead>\n",
       "  <tbody>\n",
       "    <tr>\n",
       "      <th>count</th>\n",
       "      <td>5.747700e+04</td>\n",
       "      <td>57477.000000</td>\n",
       "      <td>57477.000000</td>\n",
       "      <td>57477.000000</td>\n",
       "    </tr>\n",
       "    <tr>\n",
       "      <th>mean</th>\n",
       "      <td>2.142564e+09</td>\n",
       "      <td>0.349079</td>\n",
       "      <td>0.341911</td>\n",
       "      <td>0.309011</td>\n",
       "    </tr>\n",
       "    <tr>\n",
       "      <th>std</th>\n",
       "      <td>1.238327e+09</td>\n",
       "      <td>0.476683</td>\n",
       "      <td>0.474354</td>\n",
       "      <td>0.462090</td>\n",
       "    </tr>\n",
       "    <tr>\n",
       "      <th>min</th>\n",
       "      <td>3.019200e+04</td>\n",
       "      <td>0.000000</td>\n",
       "      <td>0.000000</td>\n",
       "      <td>0.000000</td>\n",
       "    </tr>\n",
       "    <tr>\n",
       "      <th>25%</th>\n",
       "      <td>1.071821e+09</td>\n",
       "      <td>0.000000</td>\n",
       "      <td>0.000000</td>\n",
       "      <td>0.000000</td>\n",
       "    </tr>\n",
       "    <tr>\n",
       "      <th>50%</th>\n",
       "      <td>2.133658e+09</td>\n",
       "      <td>0.000000</td>\n",
       "      <td>0.000000</td>\n",
       "      <td>0.000000</td>\n",
       "    </tr>\n",
       "    <tr>\n",
       "      <th>75%</th>\n",
       "      <td>3.211645e+09</td>\n",
       "      <td>1.000000</td>\n",
       "      <td>1.000000</td>\n",
       "      <td>1.000000</td>\n",
       "    </tr>\n",
       "    <tr>\n",
       "      <th>max</th>\n",
       "      <td>4.294947e+09</td>\n",
       "      <td>1.000000</td>\n",
       "      <td>1.000000</td>\n",
       "      <td>1.000000</td>\n",
       "    </tr>\n",
       "  </tbody>\n",
       "</table>\n",
       "</div>"
      ],
      "text/plain": [
       "                 id  winner_model_a  winner_model_b    winner_tie\n",
       "count  5.747700e+04    57477.000000    57477.000000  57477.000000\n",
       "mean   2.142564e+09        0.349079        0.341911      0.309011\n",
       "std    1.238327e+09        0.476683        0.474354      0.462090\n",
       "min    3.019200e+04        0.000000        0.000000      0.000000\n",
       "25%    1.071821e+09        0.000000        0.000000      0.000000\n",
       "50%    2.133658e+09        0.000000        0.000000      0.000000\n",
       "75%    3.211645e+09        1.000000        1.000000      1.000000\n",
       "max    4.294947e+09        1.000000        1.000000      1.000000"
      ]
     },
     "execution_count": 6,
     "metadata": {},
     "output_type": "execute_result"
    }
   ],
   "source": [
    "df.describe()"
   ]
  },
  {
   "cell_type": "code",
   "execution_count": 7,
   "id": "ae046667",
   "metadata": {
    "_cell_guid": "f6586fea-3a15-4c37-8d68-86190a1d3803",
    "_uuid": "92a50ef8-1d44-46af-8c03-81baf33aeaa5",
    "collapsed": false,
    "execution": {
     "iopub.execute_input": "2025-02-17T08:25:01.986908Z",
     "iopub.status.busy": "2025-02-17T08:25:01.986646Z",
     "iopub.status.idle": "2025-02-17T08:25:01.995881Z",
     "shell.execute_reply": "2025-02-17T08:25:01.995085Z"
    },
    "jupyter": {
     "outputs_hidden": false
    },
    "papermill": {
     "duration": 0.021608,
     "end_time": "2025-02-17T08:25:01.997050",
     "exception": false,
     "start_time": "2025-02-17T08:25:01.975442",
     "status": "completed"
    },
    "tags": []
   },
   "outputs": [
    {
     "data": {
      "text/html": [
       "<div>\n",
       "<style scoped>\n",
       "    .dataframe tbody tr th:only-of-type {\n",
       "        vertical-align: middle;\n",
       "    }\n",
       "\n",
       "    .dataframe tbody tr th {\n",
       "        vertical-align: top;\n",
       "    }\n",
       "\n",
       "    .dataframe thead th {\n",
       "        text-align: right;\n",
       "    }\n",
       "</style>\n",
       "<table border=\"1\" class=\"dataframe\">\n",
       "  <thead>\n",
       "    <tr style=\"text-align: right;\">\n",
       "      <th></th>\n",
       "      <th>id</th>\n",
       "    </tr>\n",
       "  </thead>\n",
       "  <tbody>\n",
       "    <tr>\n",
       "      <th>count</th>\n",
       "      <td>3.000000e+00</td>\n",
       "    </tr>\n",
       "    <tr>\n",
       "      <th>mean</th>\n",
       "      <td>5.271180e+05</td>\n",
       "    </tr>\n",
       "    <tr>\n",
       "      <th>std</th>\n",
       "      <td>6.132999e+05</td>\n",
       "    </tr>\n",
       "    <tr>\n",
       "      <th>min</th>\n",
       "      <td>1.360600e+05</td>\n",
       "    </tr>\n",
       "    <tr>\n",
       "      <th>25%</th>\n",
       "      <td>1.736965e+05</td>\n",
       "    </tr>\n",
       "    <tr>\n",
       "      <th>50%</th>\n",
       "      <td>2.113330e+05</td>\n",
       "    </tr>\n",
       "    <tr>\n",
       "      <th>75%</th>\n",
       "      <td>7.226470e+05</td>\n",
       "    </tr>\n",
       "    <tr>\n",
       "      <th>max</th>\n",
       "      <td>1.233961e+06</td>\n",
       "    </tr>\n",
       "  </tbody>\n",
       "</table>\n",
       "</div>"
      ],
      "text/plain": [
       "                 id\n",
       "count  3.000000e+00\n",
       "mean   5.271180e+05\n",
       "std    6.132999e+05\n",
       "min    1.360600e+05\n",
       "25%    1.736965e+05\n",
       "50%    2.113330e+05\n",
       "75%    7.226470e+05\n",
       "max    1.233961e+06"
      ]
     },
     "execution_count": 7,
     "metadata": {},
     "output_type": "execute_result"
    }
   ],
   "source": [
    "df_test.describe()"
   ]
  },
  {
   "cell_type": "code",
   "execution_count": 8,
   "id": "7a2b20d8",
   "metadata": {
    "_cell_guid": "cf976a80-d977-4df7-bb13-a206ea767978",
    "_uuid": "e816bdc7-2d47-4e58-b4c8-a30275682644",
    "collapsed": false,
    "execution": {
     "iopub.execute_input": "2025-02-17T08:25:02.019292Z",
     "iopub.status.busy": "2025-02-17T08:25:02.019059Z",
     "iopub.status.idle": "2025-02-17T08:25:02.052031Z",
     "shell.execute_reply": "2025-02-17T08:25:02.051258Z"
    },
    "jupyter": {
     "outputs_hidden": false
    },
    "papermill": {
     "duration": 0.045266,
     "end_time": "2025-02-17T08:25:02.053194",
     "exception": false,
     "start_time": "2025-02-17T08:25:02.007928",
     "status": "completed"
    },
    "tags": []
   },
   "outputs": [
    {
     "data": {
      "text/plain": [
       "id                0\n",
       "model_a           0\n",
       "model_b           0\n",
       "prompt            0\n",
       "response_a        0\n",
       "response_b        0\n",
       "winner_model_a    0\n",
       "winner_model_b    0\n",
       "winner_tie        0\n",
       "dtype: int64"
      ]
     },
     "execution_count": 8,
     "metadata": {},
     "output_type": "execute_result"
    }
   ],
   "source": [
    "df.isna().sum()"
   ]
  },
  {
   "cell_type": "code",
   "execution_count": 9,
   "id": "2c6e1719",
   "metadata": {
    "_cell_guid": "5e8c2957-7157-4f68-92fb-a44c1d2173b2",
    "_uuid": "e30cb5e9-3565-4d10-87d8-efacc03d769a",
    "collapsed": false,
    "execution": {
     "iopub.execute_input": "2025-02-17T08:25:02.076032Z",
     "iopub.status.busy": "2025-02-17T08:25:02.075763Z",
     "iopub.status.idle": "2025-02-17T08:25:02.081357Z",
     "shell.execute_reply": "2025-02-17T08:25:02.080696Z"
    },
    "jupyter": {
     "outputs_hidden": false
    },
    "papermill": {
     "duration": 0.018227,
     "end_time": "2025-02-17T08:25:02.082543",
     "exception": false,
     "start_time": "2025-02-17T08:25:02.064316",
     "status": "completed"
    },
    "tags": []
   },
   "outputs": [
    {
     "data": {
      "text/plain": [
       "id            0\n",
       "prompt        0\n",
       "response_a    0\n",
       "response_b    0\n",
       "dtype: int64"
      ]
     },
     "execution_count": 9,
     "metadata": {},
     "output_type": "execute_result"
    }
   ],
   "source": [
    "df_test.isna().sum()"
   ]
  },
  {
   "cell_type": "code",
   "execution_count": 10,
   "id": "cdc90e31",
   "metadata": {
    "_cell_guid": "ae4b764b-f976-4651-91cd-4c54fd9fea18",
    "_uuid": "cacbc44e-83bb-46b2-93cb-f5e495f34834",
    "collapsed": false,
    "execution": {
     "iopub.execute_input": "2025-02-17T08:25:02.105045Z",
     "iopub.status.busy": "2025-02-17T08:25:02.104771Z",
     "iopub.status.idle": "2025-02-17T08:25:02.109148Z",
     "shell.execute_reply": "2025-02-17T08:25:02.108292Z"
    },
    "jupyter": {
     "outputs_hidden": false
    },
    "papermill": {
     "duration": 0.016925,
     "end_time": "2025-02-17T08:25:02.110299",
     "exception": false,
     "start_time": "2025-02-17T08:25:02.093374",
     "status": "completed"
    },
    "tags": []
   },
   "outputs": [
    {
     "name": "stdout",
     "output_type": "stream",
     "text": [
      "[\"Is it morally right to try to have a certain percentage of females on managerial positions?\",\"OK, does pineapple belong on a pizza? Relax and give me fun answer.\"]\n"
     ]
    }
   ],
   "source": [
    "print(df[\"prompt\"].iloc[0])"
   ]
  },
  {
   "cell_type": "code",
   "execution_count": 11,
   "id": "d7c0b401",
   "metadata": {
    "_cell_guid": "ee1bbab7-1daa-41f5-abb8-e5bcb0093c48",
    "_uuid": "609c57c8-d27e-427f-a323-e6e5d4913ea1",
    "collapsed": false,
    "execution": {
     "iopub.execute_input": "2025-02-17T08:25:02.133422Z",
     "iopub.status.busy": "2025-02-17T08:25:02.133115Z",
     "iopub.status.idle": "2025-02-17T08:25:02.138272Z",
     "shell.execute_reply": "2025-02-17T08:25:02.137433Z"
    },
    "jupyter": {
     "outputs_hidden": false
    },
    "papermill": {
     "duration": 0.017954,
     "end_time": "2025-02-17T08:25:02.139520",
     "exception": false,
     "start_time": "2025-02-17T08:25:02.121566",
     "status": "completed"
    },
    "tags": []
   },
   "outputs": [
    {
     "data": {
      "text/plain": [
       "str"
      ]
     },
     "execution_count": 11,
     "metadata": {},
     "output_type": "execute_result"
    }
   ],
   "source": [
    "type(df[\"prompt\"].iloc[0])"
   ]
  },
  {
   "cell_type": "code",
   "execution_count": 12,
   "id": "35638fc4",
   "metadata": {
    "_cell_guid": "c1240919-2b15-4359-bc67-c9713fafaedf",
    "_uuid": "ef0fd9b2-b525-438f-b2cb-423af43ea0d5",
    "collapsed": false,
    "execution": {
     "iopub.execute_input": "2025-02-17T08:25:02.162488Z",
     "iopub.status.busy": "2025-02-17T08:25:02.162177Z",
     "iopub.status.idle": "2025-02-17T08:25:02.166601Z",
     "shell.execute_reply": "2025-02-17T08:25:02.165821Z"
    },
    "jupyter": {
     "outputs_hidden": false
    },
    "papermill": {
     "duration": 0.01723,
     "end_time": "2025-02-17T08:25:02.167765",
     "exception": false,
     "start_time": "2025-02-17T08:25:02.150535",
     "status": "completed"
    },
    "tags": []
   },
   "outputs": [
    {
     "name": "stdout",
     "output_type": "stream",
     "text": [
      "[\"The question of whether it is morally right to aim for a certain percentage of females in managerial positions is a complex ethical issue that involves considerations of fairness, equality, diversity, and discrimination.\\n\\nHere are some arguments in favor of and against such policies:\\n\\n**Arguments in favor:**\\n\\n1. **Correcting Historical Inequities:** Women have historically been underrepresented in leadership roles due to various cultural, institutional, and social barriers. Aiming for a specific percentage can be seen as a corrective measure to address past and ongoing discrimination.\\n\\n2. **Promoting Diversity:** Diverse leadership teams can enhance decision-making and represent a broader range of perspectives. This can lead to better outcomes for organizations and society as a whole.\\n\\n3. **Equality of Opportunity:** Setting targets for female representation in management can help ensure that women have equal opportunities to advance in their careers.\\n\\n4. **Role Modeling:** Increased visibility of female leaders can inspire and encourage other women and girls to pursue leadership roles.\\n\\n**Arguments against:**\\n\\n1. **Reverse Discrimination:** Setting a quota for female representation might lead to the perception or reality of reverse discrimination, where men might be overlooked for positions despite being qualified, simply to meet the gender target.\\n\\n2. **Meritocracy Concerns:** Critics argue that employment and promotion should be based solely on merit and qualifications, not gender. They fear that quotas could compromise the quality of leadership if less qualified individuals are promoted to meet gender targets.\\n\\n3. **Tokenism:** There is a risk that women appointed to meet quotas might be seen as \\\"tokens,\\\" undermining their legitimacy and potentially leading to resentment among colleagues.\\n\\n4. **Oversimplification of Diversity:** Focusing only on gender might overlook other important aspects of diversity, such as race, ethnicity, socioeconomic background, or sexual orientation.\\n\\nUltimately, the morality of aiming for a certain percentage of females in managerial positions depends on one's ethical framework and the context in which such policies are implemented. Proponents of gender diversity targets often argue that these measures are necessary as a transitional mechanism to create a level playing field, while opponents may argue for a \\\"color-blind\\\" or \\\"gender-blind\\\" approach to hiring and promotions.\\n\\nOrganizations and societies must carefully consider the implications of these strategies and strive to implement policies that promote fairness and equality while minimizing negative consequences. It is also important to address the root causes of gender inequality, such as unconscious bias, work-life balance challenges, and lack of supportive policies, to create an environment where everyone has the opportunity to succeed based on their capabilities and contributions.\",\"Ah, the age-old culinary conundrum that has divided nations and dinner tables: does pineapple belong on a pizza? The tropical twist of pineapple on pizza, known as Hawaiian pizza, is a hotly debated topic where taste buds battle and pizza purists protest.\\n\\nLet's slice into the debate with a zest of fun:\\n\\n**Team Pineapple:** \\\"Absolutely, yes! Pineapple on pizza is like a beach party in your mouth. The sweet juiciness of pineapple chunks frolicking with savory ham or bacon creates a flavor wave that surfs across the cheesy ocean of deliciousness. It's the Mardi Gras of pizzas, where sweet meets savory in a jubilant jamboree!\\\"\\n\\n**Team No-Pineapple:** \\\"No way, not in a million pizzas! Pineapple is a fruit that should be sunbathing on a tropical fruit platter, not freeloading on a sacred slice of pizza. The thought of warm, melty cheese conspiring with pineapple's sugary mischief is enough to make Italian ancestors turn in their tomato patches. Keep the pineapple in the fruit salad where it belongs!\\\"\\n\\nAt the end of the day, whether pineapple belongs on pizza is a matter of personal taste. Some say it's a match made in heaven, others say it's a culinary crime. But let's face it, in the world of pizza toppings, where you can find everything from anchovies to zucchini, there's room for a little pineapple pizzazz. So, if your taste buds crave that sweet and tangy twist, go ahead and let your pineapple flag fly atop that glorious cheese-covered dough. Bon app\\u00e9tit, or as they say in pineapple paradise, \\\"Aloha-ppetite!\\\" \\ud83c\\udf4d\\ud83c\\udf55\"]\n"
     ]
    }
   ],
   "source": [
    "print(df[\"response_a\"].iloc[0])"
   ]
  },
  {
   "cell_type": "code",
   "execution_count": 13,
   "id": "3ac9aebd",
   "metadata": {
    "_cell_guid": "173d825d-8706-461d-a579-421013f024b6",
    "_uuid": "b536e6d3-cf2a-480d-98ae-2170791447f0",
    "collapsed": false,
    "execution": {
     "iopub.execute_input": "2025-02-17T08:25:02.190815Z",
     "iopub.status.busy": "2025-02-17T08:25:02.190515Z",
     "iopub.status.idle": "2025-02-17T08:25:02.195176Z",
     "shell.execute_reply": "2025-02-17T08:25:02.194528Z"
    },
    "jupyter": {
     "outputs_hidden": false
    },
    "papermill": {
     "duration": 0.017542,
     "end_time": "2025-02-17T08:25:02.196422",
     "exception": false,
     "start_time": "2025-02-17T08:25:02.178880",
     "status": "completed"
    },
    "tags": []
   },
   "outputs": [
    {
     "data": {
      "text/plain": [
       "str"
      ]
     },
     "execution_count": 13,
     "metadata": {},
     "output_type": "execute_result"
    }
   ],
   "source": [
    "type(df[\"response_a\"].iloc[0])"
   ]
  },
  {
   "cell_type": "code",
   "execution_count": 14,
   "id": "d0a006b6",
   "metadata": {
    "_cell_guid": "6af13f66-d455-4608-a4c0-2920bcbb9a38",
    "_uuid": "28d27504-d549-401e-9027-c9e32d440629",
    "collapsed": false,
    "execution": {
     "iopub.execute_input": "2025-02-17T08:25:02.219423Z",
     "iopub.status.busy": "2025-02-17T08:25:02.219157Z",
     "iopub.status.idle": "2025-02-17T08:25:02.223568Z",
     "shell.execute_reply": "2025-02-17T08:25:02.222688Z"
    },
    "jupyter": {
     "outputs_hidden": false
    },
    "papermill": {
     "duration": 0.017444,
     "end_time": "2025-02-17T08:25:02.224969",
     "exception": false,
     "start_time": "2025-02-17T08:25:02.207525",
     "status": "completed"
    },
    "tags": []
   },
   "outputs": [
    {
     "name": "stdout",
     "output_type": "stream",
     "text": [
      "[\"As an AI, I don't have personal beliefs or opinions. However, I can tell you that the question of gender quotas in managerial positions is a complex one and positions can vary. Advocates argue that such measures can help correct historical imbalances, promote diversity, and may lead to better decision-making. Critics may argue that positions should be based purely on merit, and that quotas could potentially lead to tokenism or unqualified candidates being promoted. Morality can be subjective and differs from person to person based on their personal beliefs, cultural background, and values. It's a topic with valid arguments on both sides, and it's up to each individual or organization to decide what they believe is right.\",\"As an AI, I don't eat, so I don't have personal preferences. But, in the world of pizza, the pineapple topping is a hotly debated topic! Some people love the sweet and savory mix it brings to a pizza, a flavor combination made famous by the Hawaiian pizza. Others firmly believe that the sweetness of the fruit has no place on a pizza. It's a pizza puzzle that might never be solved. So, whether pineapple belongs on a pizza or not, it truly depends on your taste buds!\"]\n"
     ]
    }
   ],
   "source": [
    "print(df[\"response_b\"].iloc[0])"
   ]
  },
  {
   "cell_type": "code",
   "execution_count": 15,
   "id": "f99859a2",
   "metadata": {
    "_cell_guid": "07a1d5c0-da7c-44dd-993a-5acfc50690f8",
    "_uuid": "d1ef3be8-1104-4b87-b2ec-60a6ddb01dda",
    "collapsed": false,
    "execution": {
     "iopub.execute_input": "2025-02-17T08:25:02.248817Z",
     "iopub.status.busy": "2025-02-17T08:25:02.248444Z",
     "iopub.status.idle": "2025-02-17T08:25:02.253342Z",
     "shell.execute_reply": "2025-02-17T08:25:02.252525Z"
    },
    "jupyter": {
     "outputs_hidden": false
    },
    "papermill": {
     "duration": 0.018544,
     "end_time": "2025-02-17T08:25:02.254684",
     "exception": false,
     "start_time": "2025-02-17T08:25:02.236140",
     "status": "completed"
    },
    "tags": []
   },
   "outputs": [
    {
     "data": {
      "text/plain": [
       "str"
      ]
     },
     "execution_count": 15,
     "metadata": {},
     "output_type": "execute_result"
    }
   ],
   "source": [
    "type(df[\"response_b\"].iloc[0])"
   ]
  },
  {
   "cell_type": "code",
   "execution_count": 16,
   "id": "1ad8f162",
   "metadata": {
    "_cell_guid": "eef8ccef-d6a1-45fc-8ec2-185e5cfccbca",
    "_uuid": "06b451a9-1e54-4534-acaa-84c4f99de82c",
    "collapsed": false,
    "execution": {
     "iopub.execute_input": "2025-02-17T08:25:02.278826Z",
     "iopub.status.busy": "2025-02-17T08:25:02.278509Z",
     "iopub.status.idle": "2025-02-17T08:25:02.514689Z",
     "shell.execute_reply": "2025-02-17T08:25:02.514003Z"
    },
    "jupyter": {
     "outputs_hidden": false
    },
    "papermill": {
     "duration": 0.249633,
     "end_time": "2025-02-17T08:25:02.516156",
     "exception": false,
     "start_time": "2025-02-17T08:25:02.266523",
     "status": "completed"
    },
    "tags": []
   },
   "outputs": [],
   "source": [
    "df['response_a'] = df['prompt'] + ' ' + df['response_a']\n",
    "df['response_b'] = df['prompt'] + ' ' + df['response_b']"
   ]
  },
  {
   "cell_type": "code",
   "execution_count": 17,
   "id": "bbbf8164",
   "metadata": {
    "_cell_guid": "622a068c-cedc-4239-8668-ddb222bfc3bc",
    "_uuid": "96bde9e6-0560-4062-a320-ad18bc81c982",
    "collapsed": false,
    "execution": {
     "iopub.execute_input": "2025-02-17T08:25:02.539646Z",
     "iopub.status.busy": "2025-02-17T08:25:02.539341Z",
     "iopub.status.idle": "2025-02-17T08:25:02.543873Z",
     "shell.execute_reply": "2025-02-17T08:25:02.543190Z"
    },
    "jupyter": {
     "outputs_hidden": false
    },
    "papermill": {
     "duration": 0.017505,
     "end_time": "2025-02-17T08:25:02.545082",
     "exception": false,
     "start_time": "2025-02-17T08:25:02.527577",
     "status": "completed"
    },
    "tags": []
   },
   "outputs": [],
   "source": [
    "df_test['response_a'] = df_test['prompt'] + ' ' + df_test['response_a']\n",
    "df_test['response_b'] = df_test['prompt'] + ' ' + df_test['response_b']"
   ]
  },
  {
   "cell_type": "code",
   "execution_count": 18,
   "id": "6d0edc87",
   "metadata": {
    "_cell_guid": "1c466c43-2885-41c7-879c-47d91d77f1cb",
    "_uuid": "bf7e774d-79ca-4c57-9c2a-97d10b56ba33",
    "collapsed": false,
    "execution": {
     "iopub.execute_input": "2025-02-17T08:25:02.568348Z",
     "iopub.status.busy": "2025-02-17T08:25:02.568098Z",
     "iopub.status.idle": "2025-02-17T08:25:08.147981Z",
     "shell.execute_reply": "2025-02-17T08:25:08.147262Z"
    },
    "jupyter": {
     "outputs_hidden": false
    },
    "papermill": {
     "duration": 5.593193,
     "end_time": "2025-02-17T08:25:08.149487",
     "exception": false,
     "start_time": "2025-02-17T08:25:02.556294",
     "status": "completed"
    },
    "tags": []
   },
   "outputs": [],
   "source": [
    "def removeSpecialChars(text):\n",
    "    text = text.replace(\"\\\\n\", \" \")\n",
    "    text = re.sub(r'\\\\u[0-9a-fA-F]{4}', '', text)\n",
    "    return re.sub(r'[^\\w\\s]', '', text)  # Replaces non-word characters with space\n",
    "\n",
    "df['response_a'] = df['response_a'].apply(removeSpecialChars)\n",
    "df['response_b'] = df['response_b'].apply(removeSpecialChars)\n",
    "\n",
    "df_test['response_a'] = df_test['response_a'].apply(removeSpecialChars)\n",
    "df_test['response_b'] = df_test['response_b'].apply(removeSpecialChars)"
   ]
  },
  {
   "cell_type": "code",
   "execution_count": 19,
   "id": "420fe07f",
   "metadata": {
    "_cell_guid": "b963799b-585b-438e-b4e2-7eab1eb45e24",
    "_uuid": "b3559d95-de2e-40a7-8c46-f2ac5f3509fb",
    "collapsed": false,
    "execution": {
     "iopub.execute_input": "2025-02-17T08:25:08.173788Z",
     "iopub.status.busy": "2025-02-17T08:25:08.173487Z",
     "iopub.status.idle": "2025-02-17T08:25:08.187591Z",
     "shell.execute_reply": "2025-02-17T08:25:08.186960Z"
    },
    "jupyter": {
     "outputs_hidden": false
    },
    "papermill": {
     "duration": 0.027254,
     "end_time": "2025-02-17T08:25:08.188851",
     "exception": false,
     "start_time": "2025-02-17T08:25:08.161597",
     "status": "completed"
    },
    "tags": []
   },
   "outputs": [],
   "source": [
    "df.drop(['prompt', 'id', \"model_a\", \"model_b\"], axis=1, inplace=True)"
   ]
  },
  {
   "cell_type": "code",
   "execution_count": 20,
   "id": "0e171dbb",
   "metadata": {
    "_cell_guid": "41b3c2e6-bcc4-400b-9495-2715b61ead17",
    "_uuid": "44419535-232e-4689-ae3c-60314def30b4",
    "collapsed": false,
    "execution": {
     "iopub.execute_input": "2025-02-17T08:25:08.212152Z",
     "iopub.status.busy": "2025-02-17T08:25:08.211913Z",
     "iopub.status.idle": "2025-02-17T08:25:08.216347Z",
     "shell.execute_reply": "2025-02-17T08:25:08.215623Z"
    },
    "jupyter": {
     "outputs_hidden": false
    },
    "papermill": {
     "duration": 0.017547,
     "end_time": "2025-02-17T08:25:08.217567",
     "exception": false,
     "start_time": "2025-02-17T08:25:08.200020",
     "status": "completed"
    },
    "tags": []
   },
   "outputs": [
    {
     "name": "stdout",
     "output_type": "stream",
     "text": [
      "Is it morally right to try to have a certain percentage of females on managerial positionsOK does pineapple belong on a pizza Relax and give me fun answer The question of whether it is morally right to aim for a certain percentage of females in managerial positions is a complex ethical issue that involves considerations of fairness equality diversity and discrimination  Here are some arguments in favor of and against such policies  Arguments in favor  1 Correcting Historical Inequities Women have historically been underrepresented in leadership roles due to various cultural institutional and social barriers Aiming for a specific percentage can be seen as a corrective measure to address past and ongoing discrimination  2 Promoting Diversity Diverse leadership teams can enhance decisionmaking and represent a broader range of perspectives This can lead to better outcomes for organizations and society as a whole  3 Equality of Opportunity Setting targets for female representation in management can help ensure that women have equal opportunities to advance in their careers  4 Role Modeling Increased visibility of female leaders can inspire and encourage other women and girls to pursue leadership roles  Arguments against  1 Reverse Discrimination Setting a quota for female representation might lead to the perception or reality of reverse discrimination where men might be overlooked for positions despite being qualified simply to meet the gender target  2 Meritocracy Concerns Critics argue that employment and promotion should be based solely on merit and qualifications not gender They fear that quotas could compromise the quality of leadership if less qualified individuals are promoted to meet gender targets  3 Tokenism There is a risk that women appointed to meet quotas might be seen as tokens undermining their legitimacy and potentially leading to resentment among colleagues  4 Oversimplification of Diversity Focusing only on gender might overlook other important aspects of diversity such as race ethnicity socioeconomic background or sexual orientation  Ultimately the morality of aiming for a certain percentage of females in managerial positions depends on ones ethical framework and the context in which such policies are implemented Proponents of gender diversity targets often argue that these measures are necessary as a transitional mechanism to create a level playing field while opponents may argue for a colorblind or genderblind approach to hiring and promotions  Organizations and societies must carefully consider the implications of these strategies and strive to implement policies that promote fairness and equality while minimizing negative consequences It is also important to address the root causes of gender inequality such as unconscious bias worklife balance challenges and lack of supportive policies to create an environment where everyone has the opportunity to succeed based on their capabilities and contributionsAh the ageold culinary conundrum that has divided nations and dinner tables does pineapple belong on a pizza The tropical twist of pineapple on pizza known as Hawaiian pizza is a hotly debated topic where taste buds battle and pizza purists protest  Lets slice into the debate with a zest of fun  Team Pineapple Absolutely yes Pineapple on pizza is like a beach party in your mouth The sweet juiciness of pineapple chunks frolicking with savory ham or bacon creates a flavor wave that surfs across the cheesy ocean of deliciousness Its the Mardi Gras of pizzas where sweet meets savory in a jubilant jamboree  Team NoPineapple No way not in a million pizzas Pineapple is a fruit that should be sunbathing on a tropical fruit platter not freeloading on a sacred slice of pizza The thought of warm melty cheese conspiring with pineapples sugary mischief is enough to make Italian ancestors turn in their tomato patches Keep the pineapple in the fruit salad where it belongs  At the end of the day whether pineapple belongs on pizza is a matter of personal taste Some say its a match made in heaven others say its a culinary crime But lets face it in the world of pizza toppings where you can find everything from anchovies to zucchini theres room for a little pineapple pizzazz So if your taste buds crave that sweet and tangy twist go ahead and let your pineapple flag fly atop that glorious cheesecovered dough Bon apptit or as they say in pineapple paradise Alohappetite \n"
     ]
    }
   ],
   "source": [
    "print(df[\"response_a\"].iloc[0])"
   ]
  },
  {
   "cell_type": "code",
   "execution_count": 21,
   "id": "b6811d31",
   "metadata": {
    "_cell_guid": "e775f930-9358-4bd5-8d12-343b6130370b",
    "_uuid": "7a4416b2-dee6-42be-a410-5360c26c99cb",
    "collapsed": false,
    "execution": {
     "iopub.execute_input": "2025-02-17T08:25:08.240559Z",
     "iopub.status.busy": "2025-02-17T08:25:08.240285Z",
     "iopub.status.idle": "2025-02-17T08:25:13.537967Z",
     "shell.execute_reply": "2025-02-17T08:25:13.537074Z"
    },
    "jupyter": {
     "outputs_hidden": false
    },
    "papermill": {
     "duration": 5.310849,
     "end_time": "2025-02-17T08:25:13.539519",
     "exception": false,
     "start_time": "2025-02-17T08:25:08.228670",
     "status": "completed"
    },
    "tags": []
   },
   "outputs": [
    {
     "name": "stdout",
     "output_type": "stream",
     "text": [
      "Collecting lightning\r\n",
      "  Downloading lightning-2.5.0.post0-py3-none-any.whl.metadata (40 kB)\r\n",
      "\u001b[2K     \u001b[90m━━━━━━━━━━━━━━━━━━━━━━━━━━━━━━━━━━━━━━━━\u001b[0m \u001b[32m40.4/40.4 kB\u001b[0m \u001b[31m2.0 MB/s\u001b[0m eta \u001b[36m0:00:00\u001b[0m\r\n",
      "\u001b[?25hRequirement already satisfied: PyYAML<8.0,>=5.4 in /usr/local/lib/python3.10/dist-packages (from lightning) (6.0.2)\r\n",
      "Requirement already satisfied: fsspec<2026.0,>=2022.5.0 in /usr/local/lib/python3.10/dist-packages (from fsspec[http]<2026.0,>=2022.5.0->lightning) (2024.9.0)\r\n",
      "Requirement already satisfied: lightning-utilities<2.0,>=0.10.0 in /usr/local/lib/python3.10/dist-packages (from lightning) (0.12.0)\r\n",
      "Requirement already satisfied: packaging<25.0,>=20.0 in /usr/local/lib/python3.10/dist-packages (from lightning) (24.2)\r\n",
      "Requirement already satisfied: torch<4.0,>=2.1.0 in /usr/local/lib/python3.10/dist-packages (from lightning) (2.5.1+cu121)\r\n",
      "Requirement already satisfied: torchmetrics<3.0,>=0.7.0 in /usr/local/lib/python3.10/dist-packages (from lightning) (1.6.1)\r\n",
      "Requirement already satisfied: tqdm<6.0,>=4.57.0 in /usr/local/lib/python3.10/dist-packages (from lightning) (4.67.1)\r\n",
      "Requirement already satisfied: typing-extensions<6.0,>=4.4.0 in /usr/local/lib/python3.10/dist-packages (from lightning) (4.12.2)\r\n",
      "Requirement already satisfied: pytorch-lightning in /usr/local/lib/python3.10/dist-packages (from lightning) (2.5.0.post0)\r\n",
      "Requirement already satisfied: aiohttp!=4.0.0a0,!=4.0.0a1 in /usr/local/lib/python3.10/dist-packages (from fsspec[http]<2026.0,>=2022.5.0->lightning) (3.11.11)\r\n",
      "Requirement already satisfied: setuptools in /usr/local/lib/python3.10/dist-packages (from lightning-utilities<2.0,>=0.10.0->lightning) (75.1.0)\r\n",
      "Requirement already satisfied: filelock in /usr/local/lib/python3.10/dist-packages (from torch<4.0,>=2.1.0->lightning) (3.17.0)\r\n",
      "Requirement already satisfied: networkx in /usr/local/lib/python3.10/dist-packages (from torch<4.0,>=2.1.0->lightning) (3.4.2)\r\n",
      "Requirement already satisfied: jinja2 in /usr/local/lib/python3.10/dist-packages (from torch<4.0,>=2.1.0->lightning) (3.1.4)\r\n",
      "Requirement already satisfied: sympy==1.13.1 in /usr/local/lib/python3.10/dist-packages (from torch<4.0,>=2.1.0->lightning) (1.13.1)\r\n",
      "Requirement already satisfied: mpmath<1.4,>=1.1.0 in /usr/local/lib/python3.10/dist-packages (from sympy==1.13.1->torch<4.0,>=2.1.0->lightning) (1.3.0)\r\n",
      "Requirement already satisfied: numpy>1.20.0 in /usr/local/lib/python3.10/dist-packages (from torchmetrics<3.0,>=0.7.0->lightning) (1.26.4)\r\n",
      "Requirement already satisfied: aiohappyeyeballs>=2.3.0 in /usr/local/lib/python3.10/dist-packages (from aiohttp!=4.0.0a0,!=4.0.0a1->fsspec[http]<2026.0,>=2022.5.0->lightning) (2.4.4)\r\n",
      "Requirement already satisfied: aiosignal>=1.1.2 in /usr/local/lib/python3.10/dist-packages (from aiohttp!=4.0.0a0,!=4.0.0a1->fsspec[http]<2026.0,>=2022.5.0->lightning) (1.3.2)\r\n",
      "Requirement already satisfied: async-timeout<6.0,>=4.0 in /usr/local/lib/python3.10/dist-packages (from aiohttp!=4.0.0a0,!=4.0.0a1->fsspec[http]<2026.0,>=2022.5.0->lightning) (5.0.1)\r\n",
      "Requirement already satisfied: attrs>=17.3.0 in /usr/local/lib/python3.10/dist-packages (from aiohttp!=4.0.0a0,!=4.0.0a1->fsspec[http]<2026.0,>=2022.5.0->lightning) (25.1.0)\r\n",
      "Requirement already satisfied: frozenlist>=1.1.1 in /usr/local/lib/python3.10/dist-packages (from aiohttp!=4.0.0a0,!=4.0.0a1->fsspec[http]<2026.0,>=2022.5.0->lightning) (1.5.0)\r\n",
      "Requirement already satisfied: multidict<7.0,>=4.5 in /usr/local/lib/python3.10/dist-packages (from aiohttp!=4.0.0a0,!=4.0.0a1->fsspec[http]<2026.0,>=2022.5.0->lightning) (6.1.0)\r\n",
      "Requirement already satisfied: propcache>=0.2.0 in /usr/local/lib/python3.10/dist-packages (from aiohttp!=4.0.0a0,!=4.0.0a1->fsspec[http]<2026.0,>=2022.5.0->lightning) (0.2.1)\r\n",
      "Requirement already satisfied: yarl<2.0,>=1.17.0 in /usr/local/lib/python3.10/dist-packages (from aiohttp!=4.0.0a0,!=4.0.0a1->fsspec[http]<2026.0,>=2022.5.0->lightning) (1.18.3)\r\n",
      "Requirement already satisfied: mkl_fft in /usr/local/lib/python3.10/dist-packages (from numpy>1.20.0->torchmetrics<3.0,>=0.7.0->lightning) (1.3.8)\r\n",
      "Requirement already satisfied: mkl_random in /usr/local/lib/python3.10/dist-packages (from numpy>1.20.0->torchmetrics<3.0,>=0.7.0->lightning) (1.2.4)\r\n",
      "Requirement already satisfied: mkl_umath in /usr/local/lib/python3.10/dist-packages (from numpy>1.20.0->torchmetrics<3.0,>=0.7.0->lightning) (0.1.1)\r\n",
      "Requirement already satisfied: mkl in /usr/local/lib/python3.10/dist-packages (from numpy>1.20.0->torchmetrics<3.0,>=0.7.0->lightning) (2025.0.1)\r\n",
      "Requirement already satisfied: tbb4py in /usr/local/lib/python3.10/dist-packages (from numpy>1.20.0->torchmetrics<3.0,>=0.7.0->lightning) (2022.0.0)\r\n",
      "Requirement already satisfied: mkl-service in /usr/local/lib/python3.10/dist-packages (from numpy>1.20.0->torchmetrics<3.0,>=0.7.0->lightning) (2.4.1)\r\n",
      "Requirement already satisfied: MarkupSafe>=2.0 in /usr/local/lib/python3.10/dist-packages (from jinja2->torch<4.0,>=2.1.0->lightning) (3.0.2)\r\n",
      "Requirement already satisfied: idna>=2.0 in /usr/local/lib/python3.10/dist-packages (from yarl<2.0,>=1.17.0->aiohttp!=4.0.0a0,!=4.0.0a1->fsspec[http]<2026.0,>=2022.5.0->lightning) (3.10)\r\n",
      "Requirement already satisfied: intel-openmp>=2024 in /usr/local/lib/python3.10/dist-packages (from mkl->numpy>1.20.0->torchmetrics<3.0,>=0.7.0->lightning) (2024.2.0)\r\n",
      "Requirement already satisfied: tbb==2022.* in /usr/local/lib/python3.10/dist-packages (from mkl->numpy>1.20.0->torchmetrics<3.0,>=0.7.0->lightning) (2022.0.0)\r\n",
      "Requirement already satisfied: tcmlib==1.* in /usr/local/lib/python3.10/dist-packages (from tbb==2022.*->mkl->numpy>1.20.0->torchmetrics<3.0,>=0.7.0->lightning) (1.2.0)\r\n",
      "Requirement already satisfied: intel-cmplr-lib-rt in /usr/local/lib/python3.10/dist-packages (from mkl_umath->numpy>1.20.0->torchmetrics<3.0,>=0.7.0->lightning) (2024.2.0)\r\n",
      "Requirement already satisfied: intel-cmplr-lib-ur==2024.2.0 in /usr/local/lib/python3.10/dist-packages (from intel-openmp>=2024->mkl->numpy>1.20.0->torchmetrics<3.0,>=0.7.0->lightning) (2024.2.0)\r\n",
      "Downloading lightning-2.5.0.post0-py3-none-any.whl (815 kB)\r\n",
      "\u001b[2K   \u001b[90m━━━━━━━━━━━━━━━━━━━━━━━━━━━━━━━━━━━━━━━━\u001b[0m \u001b[32m815.2/815.2 kB\u001b[0m \u001b[31m15.1 MB/s\u001b[0m eta \u001b[36m0:00:00\u001b[0m\r\n",
      "\u001b[?25hInstalling collected packages: lightning\r\n",
      "Successfully installed lightning-2.5.0.post0\r\n"
     ]
    }
   ],
   "source": [
    "!pip install lightning"
   ]
  },
  {
   "cell_type": "code",
   "execution_count": 22,
   "id": "7f45f60f",
   "metadata": {
    "_cell_guid": "0cf7c1ef-da42-4cb0-9138-98ad94012632",
    "_uuid": "5f697fdb-9ce3-4996-ac0b-480a808db542",
    "collapsed": false,
    "execution": {
     "iopub.execute_input": "2025-02-17T08:25:13.567316Z",
     "iopub.status.busy": "2025-02-17T08:25:13.566991Z",
     "iopub.status.idle": "2025-02-17T08:25:20.587822Z",
     "shell.execute_reply": "2025-02-17T08:25:20.586761Z"
    },
    "jupyter": {
     "outputs_hidden": false
    },
    "papermill": {
     "duration": 7.036193,
     "end_time": "2025-02-17T08:25:20.589337",
     "exception": false,
     "start_time": "2025-02-17T08:25:13.553144",
     "status": "completed"
    },
    "tags": []
   },
   "outputs": [
    {
     "name": "stdout",
     "output_type": "stream",
     "text": [
      "Collecting lightning-flash\r\n",
      "  Downloading lightning_flash-0.8.2-py3-none-any.whl.metadata (27 kB)\r\n",
      "Requirement already satisfied: packaging in /usr/local/lib/python3.10/dist-packages (from lightning-flash) (24.2)\r\n",
      "Requirement already satisfied: setuptools in /usr/local/lib/python3.10/dist-packages (from lightning-flash) (75.1.0)\r\n",
      "Requirement already satisfied: numpy in /usr/local/lib/python3.10/dist-packages (from lightning-flash) (1.26.4)\r\n",
      "Requirement already satisfied: torch>1.7.0 in /usr/local/lib/python3.10/dist-packages (from lightning-flash) (2.5.1+cu121)\r\n",
      "Collecting torchmetrics<0.11.0,>0.7.0 (from lightning-flash)\r\n",
      "  Downloading torchmetrics-0.10.3-py3-none-any.whl.metadata (15 kB)\r\n",
      "Collecting pytorch-lightning<2.0.0,>1.8.0 (from lightning-flash)\r\n",
      "  Downloading pytorch_lightning-1.9.5-py3-none-any.whl.metadata (23 kB)\r\n",
      "Collecting pyDeprecate>0.2.0 (from lightning-flash)\r\n",
      "  Downloading pyDeprecate-0.3.2-py3-none-any.whl.metadata (10 kB)\r\n",
      "Requirement already satisfied: pandas>1.1.0 in /usr/local/lib/python3.10/dist-packages (from lightning-flash) (2.2.3)\r\n",
      "Collecting jsonargparse>=4.22.0 (from jsonargparse[signatures]>=4.22.0->lightning-flash)\r\n",
      "  Downloading jsonargparse-4.37.0-py3-none-any.whl.metadata (12 kB)\r\n",
      "Requirement already satisfied: click>=7.1.2 in /usr/local/lib/python3.10/dist-packages (from lightning-flash) (8.1.7)\r\n",
      "Requirement already satisfied: protobuf in /usr/local/lib/python3.10/dist-packages (from lightning-flash) (3.20.3)\r\n",
      "Requirement already satisfied: fsspec>=2022.5.0 in /usr/local/lib/python3.10/dist-packages (from fsspec[http]>=2022.5.0->lightning-flash) (2024.9.0)\r\n",
      "Requirement already satisfied: lightning-utilities>=0.4.1 in /usr/local/lib/python3.10/dist-packages (from lightning-flash) (0.12.0)\r\n",
      "Requirement already satisfied: aiohttp!=4.0.0a0,!=4.0.0a1 in /usr/local/lib/python3.10/dist-packages (from fsspec[http]>=2022.5.0->lightning-flash) (3.11.11)\r\n",
      "Requirement already satisfied: PyYAML>=3.13 in /usr/local/lib/python3.10/dist-packages (from jsonargparse>=4.22.0->jsonargparse[signatures]>=4.22.0->lightning-flash) (6.0.2)\r\n",
      "Requirement already satisfied: docstring-parser>=0.15 in /usr/local/lib/python3.10/dist-packages (from jsonargparse[signatures]>=4.22.0->lightning-flash) (0.16)\r\n",
      "Collecting typeshed-client>=2.1.0 (from jsonargparse[signatures]>=4.22.0->lightning-flash)\r\n",
      "  Downloading typeshed_client-2.7.0-py3-none-any.whl.metadata (7.9 kB)\r\n",
      "Requirement already satisfied: typing_extensions in /usr/local/lib/python3.10/dist-packages (from lightning-utilities>=0.4.1->lightning-flash) (4.12.2)\r\n",
      "Requirement already satisfied: python-dateutil>=2.8.2 in /usr/local/lib/python3.10/dist-packages (from pandas>1.1.0->lightning-flash) (2.9.0.post0)\r\n",
      "Requirement already satisfied: pytz>=2020.1 in /usr/local/lib/python3.10/dist-packages (from pandas>1.1.0->lightning-flash) (2025.1)\r\n",
      "Requirement already satisfied: tzdata>=2022.7 in /usr/local/lib/python3.10/dist-packages (from pandas>1.1.0->lightning-flash) (2025.1)\r\n",
      "Requirement already satisfied: mkl_fft in /usr/local/lib/python3.10/dist-packages (from numpy->lightning-flash) (1.3.8)\r\n",
      "Requirement already satisfied: mkl_random in /usr/local/lib/python3.10/dist-packages (from numpy->lightning-flash) (1.2.4)\r\n",
      "Requirement already satisfied: mkl_umath in /usr/local/lib/python3.10/dist-packages (from numpy->lightning-flash) (0.1.1)\r\n",
      "Requirement already satisfied: mkl in /usr/local/lib/python3.10/dist-packages (from numpy->lightning-flash) (2025.0.1)\r\n",
      "Requirement already satisfied: tbb4py in /usr/local/lib/python3.10/dist-packages (from numpy->lightning-flash) (2022.0.0)\r\n",
      "Requirement already satisfied: mkl-service in /usr/local/lib/python3.10/dist-packages (from numpy->lightning-flash) (2.4.1)\r\n",
      "Requirement already satisfied: tqdm>=4.57.0 in /usr/local/lib/python3.10/dist-packages (from pytorch-lightning<2.0.0,>1.8.0->lightning-flash) (4.67.1)\r\n",
      "Requirement already satisfied: filelock in /usr/local/lib/python3.10/dist-packages (from torch>1.7.0->lightning-flash) (3.17.0)\r\n",
      "Requirement already satisfied: networkx in /usr/local/lib/python3.10/dist-packages (from torch>1.7.0->lightning-flash) (3.4.2)\r\n",
      "Requirement already satisfied: jinja2 in /usr/local/lib/python3.10/dist-packages (from torch>1.7.0->lightning-flash) (3.1.4)\r\n",
      "Requirement already satisfied: sympy==1.13.1 in /usr/local/lib/python3.10/dist-packages (from torch>1.7.0->lightning-flash) (1.13.1)\r\n",
      "Requirement already satisfied: mpmath<1.4,>=1.1.0 in /usr/local/lib/python3.10/dist-packages (from sympy==1.13.1->torch>1.7.0->lightning-flash) (1.3.0)\r\n",
      "Requirement already satisfied: aiohappyeyeballs>=2.3.0 in /usr/local/lib/python3.10/dist-packages (from aiohttp!=4.0.0a0,!=4.0.0a1->fsspec[http]>=2022.5.0->lightning-flash) (2.4.4)\r\n",
      "Requirement already satisfied: aiosignal>=1.1.2 in /usr/local/lib/python3.10/dist-packages (from aiohttp!=4.0.0a0,!=4.0.0a1->fsspec[http]>=2022.5.0->lightning-flash) (1.3.2)\r\n",
      "Requirement already satisfied: async-timeout<6.0,>=4.0 in /usr/local/lib/python3.10/dist-packages (from aiohttp!=4.0.0a0,!=4.0.0a1->fsspec[http]>=2022.5.0->lightning-flash) (5.0.1)\r\n",
      "Requirement already satisfied: attrs>=17.3.0 in /usr/local/lib/python3.10/dist-packages (from aiohttp!=4.0.0a0,!=4.0.0a1->fsspec[http]>=2022.5.0->lightning-flash) (25.1.0)\r\n",
      "Requirement already satisfied: frozenlist>=1.1.1 in /usr/local/lib/python3.10/dist-packages (from aiohttp!=4.0.0a0,!=4.0.0a1->fsspec[http]>=2022.5.0->lightning-flash) (1.5.0)\r\n",
      "Requirement already satisfied: multidict<7.0,>=4.5 in /usr/local/lib/python3.10/dist-packages (from aiohttp!=4.0.0a0,!=4.0.0a1->fsspec[http]>=2022.5.0->lightning-flash) (6.1.0)\r\n",
      "Requirement already satisfied: propcache>=0.2.0 in /usr/local/lib/python3.10/dist-packages (from aiohttp!=4.0.0a0,!=4.0.0a1->fsspec[http]>=2022.5.0->lightning-flash) (0.2.1)\r\n",
      "Requirement already satisfied: yarl<2.0,>=1.17.0 in /usr/local/lib/python3.10/dist-packages (from aiohttp!=4.0.0a0,!=4.0.0a1->fsspec[http]>=2022.5.0->lightning-flash) (1.18.3)\r\n",
      "Requirement already satisfied: six>=1.5 in /usr/local/lib/python3.10/dist-packages (from python-dateutil>=2.8.2->pandas>1.1.0->lightning-flash) (1.17.0)\r\n",
      "Requirement already satisfied: importlib-resources>=1.4.0 in /usr/local/lib/python3.10/dist-packages (from typeshed-client>=2.1.0->jsonargparse[signatures]>=4.22.0->lightning-flash) (5.13.0)\r\n",
      "Requirement already satisfied: MarkupSafe>=2.0 in /usr/local/lib/python3.10/dist-packages (from jinja2->torch>1.7.0->lightning-flash) (3.0.2)\r\n",
      "Requirement already satisfied: intel-openmp>=2024 in /usr/local/lib/python3.10/dist-packages (from mkl->numpy->lightning-flash) (2024.2.0)\r\n",
      "Requirement already satisfied: tbb==2022.* in /usr/local/lib/python3.10/dist-packages (from mkl->numpy->lightning-flash) (2022.0.0)\r\n",
      "Requirement already satisfied: tcmlib==1.* in /usr/local/lib/python3.10/dist-packages (from tbb==2022.*->mkl->numpy->lightning-flash) (1.2.0)\r\n",
      "Requirement already satisfied: intel-cmplr-lib-rt in /usr/local/lib/python3.10/dist-packages (from mkl_umath->numpy->lightning-flash) (2024.2.0)\r\n",
      "Requirement already satisfied: intel-cmplr-lib-ur==2024.2.0 in /usr/local/lib/python3.10/dist-packages (from intel-openmp>=2024->mkl->numpy->lightning-flash) (2024.2.0)\r\n",
      "Requirement already satisfied: idna>=2.0 in /usr/local/lib/python3.10/dist-packages (from yarl<2.0,>=1.17.0->aiohttp!=4.0.0a0,!=4.0.0a1->fsspec[http]>=2022.5.0->lightning-flash) (3.10)\r\n",
      "Downloading lightning_flash-0.8.2-py3-none-any.whl (1.2 MB)\r\n",
      "\u001b[2K   \u001b[90m━━━━━━━━━━━━━━━━━━━━━━━━━━━━━━━━━━━━━━━━\u001b[0m \u001b[32m1.2/1.2 MB\u001b[0m \u001b[31m18.9 MB/s\u001b[0m eta \u001b[36m0:00:00\u001b[0m\r\n",
      "\u001b[?25hDownloading jsonargparse-4.37.0-py3-none-any.whl (216 kB)\r\n",
      "\u001b[2K   \u001b[90m━━━━━━━━━━━━━━━━━━━━━━━━━━━━━━━━━━━━━━━━\u001b[0m \u001b[32m216.3/216.3 kB\u001b[0m \u001b[31m13.2 MB/s\u001b[0m eta \u001b[36m0:00:00\u001b[0m\r\n",
      "\u001b[?25hDownloading pyDeprecate-0.3.2-py3-none-any.whl (10 kB)\r\n",
      "Downloading pytorch_lightning-1.9.5-py3-none-any.whl (829 kB)\r\n",
      "\u001b[2K   \u001b[90m━━━━━━━━━━━━━━━━━━━━━━━━━━━━━━━━━━━━━━━━\u001b[0m \u001b[32m829.5/829.5 kB\u001b[0m \u001b[31m32.5 MB/s\u001b[0m eta \u001b[36m0:00:00\u001b[0m\r\n",
      "\u001b[?25hDownloading torchmetrics-0.10.3-py3-none-any.whl (529 kB)\r\n",
      "\u001b[2K   \u001b[90m━━━━━━━━━━━━━━━━━━━━━━━━━━━━━━━━━━━━━━━━\u001b[0m \u001b[32m529.7/529.7 kB\u001b[0m \u001b[31m28.8 MB/s\u001b[0m eta \u001b[36m0:00:00\u001b[0m\r\n",
      "\u001b[?25hDownloading typeshed_client-2.7.0-py3-none-any.whl (624 kB)\r\n",
      "\u001b[2K   \u001b[90m━━━━━━━━━━━━━━━━━━━━━━━━━━━━━━━━━━━━━━━━\u001b[0m \u001b[32m624.4/624.4 kB\u001b[0m \u001b[31m32.4 MB/s\u001b[0m eta \u001b[36m0:00:00\u001b[0m\r\n",
      "\u001b[?25hInstalling collected packages: typeshed-client, pyDeprecate, jsonargparse, torchmetrics, pytorch-lightning, lightning-flash\r\n",
      "  Attempting uninstall: torchmetrics\r\n",
      "    Found existing installation: torchmetrics 1.6.1\r\n",
      "    Uninstalling torchmetrics-1.6.1:\r\n",
      "      Successfully uninstalled torchmetrics-1.6.1\r\n",
      "  Attempting uninstall: pytorch-lightning\r\n",
      "    Found existing installation: pytorch-lightning 2.5.0.post0\r\n",
      "    Uninstalling pytorch-lightning-2.5.0.post0:\r\n",
      "      Successfully uninstalled pytorch-lightning-2.5.0.post0\r\n",
      "Successfully installed jsonargparse-4.37.0 lightning-flash-0.8.2 pyDeprecate-0.3.2 pytorch-lightning-1.9.5 torchmetrics-0.10.3 typeshed-client-2.7.0\r\n"
     ]
    }
   ],
   "source": [
    "!pip install \"lightning-flash\""
   ]
  },
  {
   "cell_type": "code",
   "execution_count": 23,
   "id": "aff417bb",
   "metadata": {
    "_cell_guid": "4bd7f3f9-3bab-42d3-9931-63553ec670eb",
    "_uuid": "98833d5b-bf45-42dd-817a-4817719d744e",
    "collapsed": false,
    "execution": {
     "iopub.execute_input": "2025-02-17T08:25:20.618353Z",
     "iopub.status.busy": "2025-02-17T08:25:20.618055Z",
     "iopub.status.idle": "2025-02-17T08:25:52.077591Z",
     "shell.execute_reply": "2025-02-17T08:25:52.076803Z"
    },
    "jupyter": {
     "outputs_hidden": false
    },
    "papermill": {
     "duration": 31.47598,
     "end_time": "2025-02-17T08:25:52.079341",
     "exception": false,
     "start_time": "2025-02-17T08:25:20.603361",
     "status": "completed"
    },
    "tags": []
   },
   "outputs": [
    {
     "name": "stderr",
     "output_type": "stream",
     "text": [
      "/usr/local/lib/python3.10/dist-packages/flash/__init__.py:21: FutureWarning: In the future `np.object` will be defined as the corresponding NumPy scalar.\n",
      "  if not hasattr(numpy, tp_name):\n",
      "/usr/local/lib/python3.10/dist-packages/flash/__init__.py:21: FutureWarning: In the future `np.bool` will be defined as the corresponding NumPy scalar.\n",
      "  if not hasattr(numpy, tp_name):\n",
      "/usr/local/lib/python3.10/dist-packages/albumentations/__init__.py:24: UserWarning: A new version of Albumentations is available: 2.0.4 (you have 1.4.20). Upgrade using: pip install -U albumentations. To disable automatic update checks, set the environment variable NO_ALBUMENTATIONS_UPDATE to 1.\n",
      "  check_for_updates()\n"
     ]
    }
   ],
   "source": [
    "import numpy as np\n",
    "import flash\n",
    "from flash.text import TextEmbedder, TextClassificationData\n",
    "import torch"
   ]
  },
  {
   "cell_type": "code",
   "execution_count": 24,
   "id": "d2e18050",
   "metadata": {
    "_cell_guid": "e232a094-5f22-47a8-a05a-2832dadad7e6",
    "_uuid": "d095ca98-8ca1-41eb-b295-29f7cba5c68f",
    "collapsed": false,
    "execution": {
     "iopub.execute_input": "2025-02-17T08:25:52.109595Z",
     "iopub.status.busy": "2025-02-17T08:25:52.108570Z",
     "iopub.status.idle": "2025-02-17T08:27:04.630550Z",
     "shell.execute_reply": "2025-02-17T08:27:04.629547Z"
    },
    "jupyter": {
     "outputs_hidden": false
    },
    "papermill": {
     "duration": 72.538574,
     "end_time": "2025-02-17T08:27:04.632202",
     "exception": false,
     "start_time": "2025-02-17T08:25:52.093628",
     "status": "completed"
    },
    "tags": []
   },
   "outputs": [
    {
     "data": {
      "application/vnd.jupyter.widget-view+json": {
       "model_id": "cf868b9951fe4a4c9ab28a65d1dca42c",
       "version_major": 2,
       "version_minor": 0
      },
      "text/plain": [
       "tokenizer_config.json:   0%|          | 0.00/350 [00:00<?, ?B/s]"
      ]
     },
     "metadata": {},
     "output_type": "display_data"
    },
    {
     "data": {
      "application/vnd.jupyter.widget-view+json": {
       "model_id": "4d77574b34e74ba891e5736e6002d691",
       "version_major": 2,
       "version_minor": 0
      },
      "text/plain": [
       "vocab.txt:   0%|          | 0.00/232k [00:00<?, ?B/s]"
      ]
     },
     "metadata": {},
     "output_type": "display_data"
    },
    {
     "data": {
      "application/vnd.jupyter.widget-view+json": {
       "model_id": "26320c71b6e44f1aaabd88fbc4417647",
       "version_major": 2,
       "version_minor": 0
      },
      "text/plain": [
       "tokenizer.json:   0%|          | 0.00/466k [00:00<?, ?B/s]"
      ]
     },
     "metadata": {},
     "output_type": "display_data"
    },
    {
     "data": {
      "application/vnd.jupyter.widget-view+json": {
       "model_id": "b09083c58d9047bdb745ea38b760be99",
       "version_major": 2,
       "version_minor": 0
      },
      "text/plain": [
       "special_tokens_map.json:   0%|          | 0.00/112 [00:00<?, ?B/s]"
      ]
     },
     "metadata": {},
     "output_type": "display_data"
    },
    {
     "data": {
      "application/vnd.jupyter.widget-view+json": {
       "model_id": "ecc41ff0597b42d2906baf0ba82f1c05",
       "version_major": 2,
       "version_minor": 0
      },
      "text/plain": [
       "config.json:   0%|          | 0.00/612 [00:00<?, ?B/s]"
      ]
     },
     "metadata": {},
     "output_type": "display_data"
    },
    {
     "data": {
      "application/vnd.jupyter.widget-view+json": {
       "model_id": "f7d11d0bf02648a48431d719b18de1db",
       "version_major": 2,
       "version_minor": 0
      },
      "text/plain": [
       "model.safetensors:   0%|          | 0.00/90.9M [00:00<?, ?B/s]"
      ]
     },
     "metadata": {},
     "output_type": "display_data"
    },
    {
     "data": {
      "application/vnd.jupyter.widget-view+json": {
       "model_id": "a5d627ab84bf46a78d3c7f149135a77e",
       "version_major": 2,
       "version_minor": 0
      },
      "text/plain": [
       "Predicting: 0it [00:00, ?it/s]"
      ]
     },
     "metadata": {},
     "output_type": "display_data"
    }
   ],
   "source": [
    "model_a_strs = list(df[\"response_a\"])\n",
    "\n",
    "model = TextEmbedder(backbone=\"sentence-transformers/all-MiniLM-L6-v2\")\n",
    "\n",
    "datamodule = TextClassificationData.from_lists(\n",
    "    predict_data=model_a_strs,\n",
    "    batch_size = 32,\n",
    ")\n",
    "trainer = flash.Trainer(gpus=torch.cuda.device_count())\n",
    "\n",
    "model_a_strs_enc = trainer.predict(model, datamodule=datamodule)"
   ]
  },
  {
   "cell_type": "code",
   "execution_count": 25,
   "id": "263d9ae7",
   "metadata": {
    "_cell_guid": "bada7eaf-ca7b-445e-a327-25e0bc478336",
    "_uuid": "69c39c33-2637-48ec-a4ee-9b9b8bf67699",
    "collapsed": false,
    "execution": {
     "iopub.execute_input": "2025-02-17T08:27:04.663657Z",
     "iopub.status.busy": "2025-02-17T08:27:04.663298Z",
     "iopub.status.idle": "2025-02-17T08:28:13.937263Z",
     "shell.execute_reply": "2025-02-17T08:28:13.936509Z"
    },
    "jupyter": {
     "outputs_hidden": false
    },
    "papermill": {
     "duration": 69.291417,
     "end_time": "2025-02-17T08:28:13.938829",
     "exception": false,
     "start_time": "2025-02-17T08:27:04.647412",
     "status": "completed"
    },
    "tags": []
   },
   "outputs": [
    {
     "data": {
      "application/vnd.jupyter.widget-view+json": {
       "model_id": "14bb6bfd0572401c9bc3f3ad36863d21",
       "version_major": 2,
       "version_minor": 0
      },
      "text/plain": [
       "Predicting: 0it [00:00, ?it/s]"
      ]
     },
     "metadata": {},
     "output_type": "display_data"
    }
   ],
   "source": [
    "model_a_strs = list(df[\"response_b\"])\n",
    "\n",
    "model = TextEmbedder(backbone=\"sentence-transformers/all-MiniLM-L6-v2\")\n",
    "\n",
    "datamodule = TextClassificationData.from_lists(\n",
    "    predict_data=model_a_strs,\n",
    "    batch_size = 32,\n",
    ")\n",
    "trainer = flash.Trainer(gpus=torch.cuda.device_count())\n",
    "\n",
    "model_b_strs_enc = trainer.predict(model, datamodule=datamodule)"
   ]
  },
  {
   "cell_type": "code",
   "execution_count": 26,
   "id": "34b6cc7f",
   "metadata": {
    "_cell_guid": "380acd9a-db98-494f-a2ce-5526b009b442",
    "_uuid": "302b8295-7e2d-47bf-b281-6c0418965fb8",
    "collapsed": false,
    "execution": {
     "iopub.execute_input": "2025-02-17T08:28:13.969896Z",
     "iopub.status.busy": "2025-02-17T08:28:13.969591Z",
     "iopub.status.idle": "2025-02-17T08:28:14.341828Z",
     "shell.execute_reply": "2025-02-17T08:28:14.340852Z"
    },
    "jupyter": {
     "outputs_hidden": false
    },
    "papermill": {
     "duration": 0.389562,
     "end_time": "2025-02-17T08:28:14.343345",
     "exception": false,
     "start_time": "2025-02-17T08:28:13.953783",
     "status": "completed"
    },
    "tags": []
   },
   "outputs": [
    {
     "data": {
      "application/vnd.jupyter.widget-view+json": {
       "model_id": "810d5ec7bdc14a7c9497788ac1700993",
       "version_major": 2,
       "version_minor": 0
      },
      "text/plain": [
       "Predicting: 0it [00:00, ?it/s]"
      ]
     },
     "metadata": {},
     "output_type": "display_data"
    }
   ],
   "source": [
    "model_a_strs = list(df_test[\"response_a\"])\n",
    "\n",
    "model = TextEmbedder(backbone=\"sentence-transformers/all-MiniLM-L6-v2\")\n",
    "\n",
    "datamodule = TextClassificationData.from_lists(\n",
    "    predict_data=model_a_strs,\n",
    "    batch_size = 32,\n",
    ")\n",
    "trainer = flash.Trainer(gpus=torch.cuda.device_count())\n",
    "\n",
    "model_a_strs_enc_test = trainer.predict(model, datamodule=datamodule)"
   ]
  },
  {
   "cell_type": "code",
   "execution_count": 27,
   "id": "c619322e",
   "metadata": {
    "_cell_guid": "dc438b33-16eb-4b7d-8c77-438f0bbea61e",
    "_uuid": "a92dd3e1-e61d-4f6d-a390-815fff9cec86",
    "collapsed": false,
    "execution": {
     "iopub.execute_input": "2025-02-17T08:28:14.418306Z",
     "iopub.status.busy": "2025-02-17T08:28:14.418009Z",
     "iopub.status.idle": "2025-02-17T08:28:14.801178Z",
     "shell.execute_reply": "2025-02-17T08:28:14.798924Z"
    },
    "jupyter": {
     "outputs_hidden": false
    },
    "papermill": {
     "duration": 0.44455,
     "end_time": "2025-02-17T08:28:14.802905",
     "exception": false,
     "start_time": "2025-02-17T08:28:14.358355",
     "status": "completed"
    },
    "tags": []
   },
   "outputs": [
    {
     "data": {
      "application/vnd.jupyter.widget-view+json": {
       "model_id": "fe3e2183ea7c4eb3bde2e4cb28a209ab",
       "version_major": 2,
       "version_minor": 0
      },
      "text/plain": [
       "Predicting: 0it [00:00, ?it/s]"
      ]
     },
     "metadata": {},
     "output_type": "display_data"
    }
   ],
   "source": [
    "model_a_strs = list(df_test[\"response_b\"])\n",
    "\n",
    "model = TextEmbedder(backbone=\"sentence-transformers/all-MiniLM-L6-v2\")\n",
    "\n",
    "datamodule = TextClassificationData.from_lists(\n",
    "    predict_data=model_a_strs,\n",
    "    batch_size = 32,\n",
    ")\n",
    "trainer = flash.Trainer(gpus=torch.cuda.device_count())\n",
    "\n",
    "model_b_strs_enc_test = trainer.predict(model, datamodule=datamodule)"
   ]
  },
  {
   "cell_type": "code",
   "execution_count": 28,
   "id": "14d8a63f",
   "metadata": {
    "_cell_guid": "6fc1ca82-af21-4480-9b21-697303624ea8",
    "_uuid": "f0d53829-02a5-4c58-b603-cd7f6e56c896",
    "collapsed": false,
    "execution": {
     "iopub.execute_input": "2025-02-17T08:28:14.835171Z",
     "iopub.status.busy": "2025-02-17T08:28:14.834741Z",
     "iopub.status.idle": "2025-02-17T08:28:14.840333Z",
     "shell.execute_reply": "2025-02-17T08:28:14.839552Z"
    },
    "jupyter": {
     "outputs_hidden": false
    },
    "papermill": {
     "duration": 0.022933,
     "end_time": "2025-02-17T08:28:14.841738",
     "exception": false,
     "start_time": "2025-02-17T08:28:14.818805",
     "status": "completed"
    },
    "tags": []
   },
   "outputs": [
    {
     "data": {
      "text/plain": [
       "1797"
      ]
     },
     "execution_count": 28,
     "metadata": {},
     "output_type": "execute_result"
    }
   ],
   "source": [
    "len(model_a_strs_enc)"
   ]
  },
  {
   "cell_type": "code",
   "execution_count": 29,
   "id": "ea634a18",
   "metadata": {
    "_cell_guid": "a8f86fda-89f7-415c-a1c1-4c02797c593d",
    "_uuid": "77ebc3a0-9ec8-4fdc-b8a2-4544a48ba448",
    "collapsed": false,
    "execution": {
     "iopub.execute_input": "2025-02-17T08:28:14.876499Z",
     "iopub.status.busy": "2025-02-17T08:28:14.876004Z",
     "iopub.status.idle": "2025-02-17T08:28:14.887853Z",
     "shell.execute_reply": "2025-02-17T08:28:14.886873Z"
    },
    "jupyter": {
     "outputs_hidden": false
    },
    "papermill": {
     "duration": 0.031454,
     "end_time": "2025-02-17T08:28:14.889333",
     "exception": false,
     "start_time": "2025-02-17T08:28:14.857879",
     "status": "completed"
    },
    "tags": []
   },
   "outputs": [],
   "source": [
    "import itertools\n",
    "\n",
    "# Concatenate all sublists\n",
    "model_a_strs_enc = list(itertools.chain(*model_a_strs_enc))\n",
    "model_b_strs_enc = list(itertools.chain(*model_b_strs_enc))\n",
    "\n",
    "model_a_strs_enc_test = list(itertools.chain(*model_a_strs_enc_test))\n",
    "model_b_strs_enc_test = list(itertools.chain(*model_b_strs_enc_test))"
   ]
  },
  {
   "cell_type": "code",
   "execution_count": 30,
   "id": "56316bde",
   "metadata": {
    "_cell_guid": "71ea7bc1-e9b3-4cef-a249-44da5a19eb7f",
    "_uuid": "3758bd78-5453-432d-a196-2e862ecb1278",
    "collapsed": false,
    "execution": {
     "iopub.execute_input": "2025-02-17T08:28:14.923508Z",
     "iopub.status.busy": "2025-02-17T08:28:14.923077Z",
     "iopub.status.idle": "2025-02-17T08:28:14.928854Z",
     "shell.execute_reply": "2025-02-17T08:28:14.927940Z"
    },
    "jupyter": {
     "outputs_hidden": false
    },
    "papermill": {
     "duration": 0.024179,
     "end_time": "2025-02-17T08:28:14.930500",
     "exception": false,
     "start_time": "2025-02-17T08:28:14.906321",
     "status": "completed"
    },
    "tags": []
   },
   "outputs": [
    {
     "data": {
      "text/plain": [
       "57477"
      ]
     },
     "execution_count": 30,
     "metadata": {},
     "output_type": "execute_result"
    }
   ],
   "source": [
    "len(model_a_strs_enc)"
   ]
  },
  {
   "cell_type": "code",
   "execution_count": 31,
   "id": "1390d145",
   "metadata": {
    "_cell_guid": "cb2ff802-32f6-4f76-828d-7da15ce4ef1b",
    "_uuid": "10b9a138-770e-4542-97c4-f134d3d4e075",
    "collapsed": false,
    "execution": {
     "iopub.execute_input": "2025-02-17T08:28:14.974150Z",
     "iopub.status.busy": "2025-02-17T08:28:14.973819Z",
     "iopub.status.idle": "2025-02-17T08:28:14.978913Z",
     "shell.execute_reply": "2025-02-17T08:28:14.978039Z"
    },
    "jupyter": {
     "outputs_hidden": false
    },
    "papermill": {
     "duration": 0.02881,
     "end_time": "2025-02-17T08:28:14.980489",
     "exception": false,
     "start_time": "2025-02-17T08:28:14.951679",
     "status": "completed"
    },
    "tags": []
   },
   "outputs": [
    {
     "data": {
      "text/plain": [
       "list"
      ]
     },
     "execution_count": 31,
     "metadata": {},
     "output_type": "execute_result"
    }
   ],
   "source": [
    "type(model_a_strs_enc)"
   ]
  },
  {
   "cell_type": "code",
   "execution_count": 32,
   "id": "f7b48a51",
   "metadata": {
    "_cell_guid": "7f2b35a8-b990-4443-b819-e5e63765c159",
    "_uuid": "564d84e6-a5b3-4852-a55f-7a75a3b46f79",
    "collapsed": false,
    "execution": {
     "iopub.execute_input": "2025-02-17T08:28:15.018809Z",
     "iopub.status.busy": "2025-02-17T08:28:15.018468Z",
     "iopub.status.idle": "2025-02-17T08:28:15.023566Z",
     "shell.execute_reply": "2025-02-17T08:28:15.022745Z"
    },
    "jupyter": {
     "outputs_hidden": false
    },
    "papermill": {
     "duration": 0.022677,
     "end_time": "2025-02-17T08:28:15.024973",
     "exception": false,
     "start_time": "2025-02-17T08:28:15.002296",
     "status": "completed"
    },
    "tags": []
   },
   "outputs": [
    {
     "data": {
      "text/plain": [
       "384"
      ]
     },
     "execution_count": 32,
     "metadata": {},
     "output_type": "execute_result"
    }
   ],
   "source": [
    "len(model_a_strs_enc[0])"
   ]
  },
  {
   "cell_type": "code",
   "execution_count": 33,
   "id": "ffba489c",
   "metadata": {
    "_cell_guid": "e4251bbe-edba-4a35-8b77-f6e130bb1b80",
    "_uuid": "c11a17d8-f78a-4fab-b7cb-005a4faaef29",
    "collapsed": false,
    "execution": {
     "iopub.execute_input": "2025-02-17T08:28:15.061934Z",
     "iopub.status.busy": "2025-02-17T08:28:15.061559Z",
     "iopub.status.idle": "2025-02-17T08:28:15.066604Z",
     "shell.execute_reply": "2025-02-17T08:28:15.065772Z"
    },
    "jupyter": {
     "outputs_hidden": false
    },
    "papermill": {
     "duration": 0.02718,
     "end_time": "2025-02-17T08:28:15.068181",
     "exception": false,
     "start_time": "2025-02-17T08:28:15.041001",
     "status": "completed"
    },
    "tags": []
   },
   "outputs": [
    {
     "data": {
      "text/plain": [
       "768"
      ]
     },
     "execution_count": 33,
     "metadata": {},
     "output_type": "execute_result"
    }
   ],
   "source": [
    "384*2"
   ]
  },
  {
   "cell_type": "code",
   "execution_count": 34,
   "id": "7bd7f926",
   "metadata": {
    "_cell_guid": "99c20b00-d76f-452b-b95a-6d4a21dddc5a",
    "_uuid": "36a08de3-29c9-4baa-b389-adab54df9b7b",
    "collapsed": false,
    "execution": {
     "iopub.execute_input": "2025-02-17T08:28:15.108668Z",
     "iopub.status.busy": "2025-02-17T08:28:15.108315Z",
     "iopub.status.idle": "2025-02-17T08:28:16.363621Z",
     "shell.execute_reply": "2025-02-17T08:28:16.362600Z"
    },
    "jupyter": {
     "outputs_hidden": false
    },
    "papermill": {
     "duration": 1.278012,
     "end_time": "2025-02-17T08:28:16.365255",
     "exception": false,
     "start_time": "2025-02-17T08:28:15.087243",
     "status": "completed"
    },
    "tags": []
   },
   "outputs": [
    {
     "data": {
      "text/html": [
       "<div>\n",
       "<style scoped>\n",
       "    .dataframe tbody tr th:only-of-type {\n",
       "        vertical-align: middle;\n",
       "    }\n",
       "\n",
       "    .dataframe tbody tr th {\n",
       "        vertical-align: top;\n",
       "    }\n",
       "\n",
       "    .dataframe thead th {\n",
       "        text-align: right;\n",
       "    }\n",
       "</style>\n",
       "<table border=\"1\" class=\"dataframe\">\n",
       "  <thead>\n",
       "    <tr style=\"text-align: right;\">\n",
       "      <th></th>\n",
       "      <th>0</th>\n",
       "      <th>1</th>\n",
       "      <th>2</th>\n",
       "      <th>3</th>\n",
       "      <th>4</th>\n",
       "      <th>5</th>\n",
       "      <th>6</th>\n",
       "      <th>7</th>\n",
       "      <th>8</th>\n",
       "      <th>9</th>\n",
       "      <th>...</th>\n",
       "      <th>761</th>\n",
       "      <th>762</th>\n",
       "      <th>763</th>\n",
       "      <th>764</th>\n",
       "      <th>765</th>\n",
       "      <th>766</th>\n",
       "      <th>767</th>\n",
       "      <th>winner_model_a</th>\n",
       "      <th>winner_model_b</th>\n",
       "      <th>winner_tie</th>\n",
       "    </tr>\n",
       "  </thead>\n",
       "  <tbody>\n",
       "    <tr>\n",
       "      <th>0</th>\n",
       "      <td>0.131235</td>\n",
       "      <td>-0.054543</td>\n",
       "      <td>-0.130504</td>\n",
       "      <td>0.017482</td>\n",
       "      <td>-0.149093</td>\n",
       "      <td>0.095146</td>\n",
       "      <td>-0.023111</td>\n",
       "      <td>-0.165479</td>\n",
       "      <td>-0.073908</td>\n",
       "      <td>-0.041559</td>\n",
       "      <td>...</td>\n",
       "      <td>-0.018549</td>\n",
       "      <td>-0.149010</td>\n",
       "      <td>0.043844</td>\n",
       "      <td>-0.008546</td>\n",
       "      <td>0.003918</td>\n",
       "      <td>-0.042496</td>\n",
       "      <td>-0.093202</td>\n",
       "      <td>1</td>\n",
       "      <td>0</td>\n",
       "      <td>0</td>\n",
       "    </tr>\n",
       "    <tr>\n",
       "      <th>1</th>\n",
       "      <td>-0.085787</td>\n",
       "      <td>0.131469</td>\n",
       "      <td>-0.028411</td>\n",
       "      <td>0.091437</td>\n",
       "      <td>-0.089436</td>\n",
       "      <td>0.204165</td>\n",
       "      <td>-0.099387</td>\n",
       "      <td>-0.043212</td>\n",
       "      <td>0.355010</td>\n",
       "      <td>-0.159094</td>\n",
       "      <td>...</td>\n",
       "      <td>-0.027511</td>\n",
       "      <td>0.136710</td>\n",
       "      <td>0.190595</td>\n",
       "      <td>-0.177043</td>\n",
       "      <td>0.171569</td>\n",
       "      <td>0.265447</td>\n",
       "      <td>-0.077561</td>\n",
       "      <td>0</td>\n",
       "      <td>1</td>\n",
       "      <td>0</td>\n",
       "    </tr>\n",
       "    <tr>\n",
       "      <th>2</th>\n",
       "      <td>-0.136979</td>\n",
       "      <td>0.169454</td>\n",
       "      <td>-0.032959</td>\n",
       "      <td>0.048018</td>\n",
       "      <td>-0.318429</td>\n",
       "      <td>-0.235493</td>\n",
       "      <td>0.102406</td>\n",
       "      <td>0.162459</td>\n",
       "      <td>0.037970</td>\n",
       "      <td>-0.141701</td>\n",
       "      <td>...</td>\n",
       "      <td>-0.200298</td>\n",
       "      <td>0.124478</td>\n",
       "      <td>0.136977</td>\n",
       "      <td>-0.190136</td>\n",
       "      <td>0.209155</td>\n",
       "      <td>0.287344</td>\n",
       "      <td>-0.137151</td>\n",
       "      <td>0</td>\n",
       "      <td>0</td>\n",
       "      <td>1</td>\n",
       "    </tr>\n",
       "    <tr>\n",
       "      <th>3</th>\n",
       "      <td>-0.051413</td>\n",
       "      <td>-0.116617</td>\n",
       "      <td>-0.101456</td>\n",
       "      <td>0.058421</td>\n",
       "      <td>-0.016138</td>\n",
       "      <td>-0.081363</td>\n",
       "      <td>-0.177559</td>\n",
       "      <td>-0.057218</td>\n",
       "      <td>-0.083032</td>\n",
       "      <td>-0.190820</td>\n",
       "      <td>...</td>\n",
       "      <td>0.087181</td>\n",
       "      <td>-0.084028</td>\n",
       "      <td>-0.071217</td>\n",
       "      <td>0.414084</td>\n",
       "      <td>-0.104385</td>\n",
       "      <td>-0.210490</td>\n",
       "      <td>0.096430</td>\n",
       "      <td>1</td>\n",
       "      <td>0</td>\n",
       "      <td>0</td>\n",
       "    </tr>\n",
       "    <tr>\n",
       "      <th>4</th>\n",
       "      <td>0.257375</td>\n",
       "      <td>0.299219</td>\n",
       "      <td>0.077587</td>\n",
       "      <td>-0.115158</td>\n",
       "      <td>-0.277214</td>\n",
       "      <td>0.106918</td>\n",
       "      <td>0.122540</td>\n",
       "      <td>0.173604</td>\n",
       "      <td>-0.073776</td>\n",
       "      <td>0.191223</td>\n",
       "      <td>...</td>\n",
       "      <td>-0.213780</td>\n",
       "      <td>-0.043434</td>\n",
       "      <td>0.287647</td>\n",
       "      <td>0.068254</td>\n",
       "      <td>0.128801</td>\n",
       "      <td>-0.100429</td>\n",
       "      <td>-0.041366</td>\n",
       "      <td>0</td>\n",
       "      <td>1</td>\n",
       "      <td>0</td>\n",
       "    </tr>\n",
       "  </tbody>\n",
       "</table>\n",
       "<p>5 rows × 771 columns</p>\n",
       "</div>"
      ],
      "text/plain": [
       "          0         1         2         3         4         5         6  \\\n",
       "0  0.131235 -0.054543 -0.130504  0.017482 -0.149093  0.095146 -0.023111   \n",
       "1 -0.085787  0.131469 -0.028411  0.091437 -0.089436  0.204165 -0.099387   \n",
       "2 -0.136979  0.169454 -0.032959  0.048018 -0.318429 -0.235493  0.102406   \n",
       "3 -0.051413 -0.116617 -0.101456  0.058421 -0.016138 -0.081363 -0.177559   \n",
       "4  0.257375  0.299219  0.077587 -0.115158 -0.277214  0.106918  0.122540   \n",
       "\n",
       "          7         8         9  ...       761       762       763       764  \\\n",
       "0 -0.165479 -0.073908 -0.041559  ... -0.018549 -0.149010  0.043844 -0.008546   \n",
       "1 -0.043212  0.355010 -0.159094  ... -0.027511  0.136710  0.190595 -0.177043   \n",
       "2  0.162459  0.037970 -0.141701  ... -0.200298  0.124478  0.136977 -0.190136   \n",
       "3 -0.057218 -0.083032 -0.190820  ...  0.087181 -0.084028 -0.071217  0.414084   \n",
       "4  0.173604 -0.073776  0.191223  ... -0.213780 -0.043434  0.287647  0.068254   \n",
       "\n",
       "        765       766       767  winner_model_a  winner_model_b  winner_tie  \n",
       "0  0.003918 -0.042496 -0.093202               1               0           0  \n",
       "1  0.171569  0.265447 -0.077561               0               1           0  \n",
       "2  0.209155  0.287344 -0.137151               0               0           1  \n",
       "3 -0.104385 -0.210490  0.096430               1               0           0  \n",
       "4  0.128801 -0.100429 -0.041366               0               1           0  \n",
       "\n",
       "[5 rows x 771 columns]"
      ]
     },
     "execution_count": 34,
     "metadata": {},
     "output_type": "execute_result"
    }
   ],
   "source": [
    "features = np.hstack([\n",
    "    np.stack([t.numpy() for t in model_a_strs_enc]), \n",
    "    np.stack([t.numpy() for t in model_b_strs_enc])\n",
    "])\n",
    "\n",
    "df_preprocess = pd.DataFrame(features)\n",
    "df_preprocess[\"winner_model_a\"] = df[\"winner_model_a\"]\n",
    "df_preprocess[\"winner_model_b\"] = df[\"winner_model_b\"]\n",
    "df_preprocess[\"winner_tie\"] = df[\"winner_tie\"]\n",
    "\n",
    "df_preprocess.head()"
   ]
  },
  {
   "cell_type": "code",
   "execution_count": 35,
   "id": "f39ca1da",
   "metadata": {
    "_cell_guid": "6863803d-494c-46c6-8b27-bceb960a3466",
    "_uuid": "b61ca4d0-dd4e-4d1a-8244-0158e72d1d89",
    "collapsed": false,
    "execution": {
     "iopub.execute_input": "2025-02-17T08:28:16.402120Z",
     "iopub.status.busy": "2025-02-17T08:28:16.401812Z",
     "iopub.status.idle": "2025-02-17T08:28:16.420673Z",
     "shell.execute_reply": "2025-02-17T08:28:16.419840Z"
    },
    "jupyter": {
     "outputs_hidden": false
    },
    "papermill": {
     "duration": 0.038813,
     "end_time": "2025-02-17T08:28:16.422217",
     "exception": false,
     "start_time": "2025-02-17T08:28:16.383404",
     "status": "completed"
    },
    "tags": []
   },
   "outputs": [
    {
     "data": {
      "text/html": [
       "<div>\n",
       "<style scoped>\n",
       "    .dataframe tbody tr th:only-of-type {\n",
       "        vertical-align: middle;\n",
       "    }\n",
       "\n",
       "    .dataframe tbody tr th {\n",
       "        vertical-align: top;\n",
       "    }\n",
       "\n",
       "    .dataframe thead th {\n",
       "        text-align: right;\n",
       "    }\n",
       "</style>\n",
       "<table border=\"1\" class=\"dataframe\">\n",
       "  <thead>\n",
       "    <tr style=\"text-align: right;\">\n",
       "      <th></th>\n",
       "      <th>0</th>\n",
       "      <th>1</th>\n",
       "      <th>2</th>\n",
       "      <th>3</th>\n",
       "      <th>4</th>\n",
       "      <th>5</th>\n",
       "      <th>6</th>\n",
       "      <th>7</th>\n",
       "      <th>8</th>\n",
       "      <th>9</th>\n",
       "      <th>...</th>\n",
       "      <th>758</th>\n",
       "      <th>759</th>\n",
       "      <th>760</th>\n",
       "      <th>761</th>\n",
       "      <th>762</th>\n",
       "      <th>763</th>\n",
       "      <th>764</th>\n",
       "      <th>765</th>\n",
       "      <th>766</th>\n",
       "      <th>767</th>\n",
       "    </tr>\n",
       "  </thead>\n",
       "  <tbody>\n",
       "    <tr>\n",
       "      <th>0</th>\n",
       "      <td>0.059305</td>\n",
       "      <td>0.029303</td>\n",
       "      <td>-0.053479</td>\n",
       "      <td>0.120430</td>\n",
       "      <td>-0.146398</td>\n",
       "      <td>0.013463</td>\n",
       "      <td>0.630602</td>\n",
       "      <td>-0.091257</td>\n",
       "      <td>0.108056</td>\n",
       "      <td>-0.326834</td>\n",
       "      <td>...</td>\n",
       "      <td>-0.147034</td>\n",
       "      <td>-0.076241</td>\n",
       "      <td>0.194592</td>\n",
       "      <td>-0.113716</td>\n",
       "      <td>-0.046879</td>\n",
       "      <td>0.117487</td>\n",
       "      <td>0.147900</td>\n",
       "      <td>0.115188</td>\n",
       "      <td>-0.432466</td>\n",
       "      <td>-0.147944</td>\n",
       "    </tr>\n",
       "    <tr>\n",
       "      <th>1</th>\n",
       "      <td>0.052158</td>\n",
       "      <td>-0.028894</td>\n",
       "      <td>-0.093248</td>\n",
       "      <td>-0.063710</td>\n",
       "      <td>0.063195</td>\n",
       "      <td>0.162291</td>\n",
       "      <td>0.220621</td>\n",
       "      <td>-0.084055</td>\n",
       "      <td>-0.038307</td>\n",
       "      <td>0.078622</td>\n",
       "      <td>...</td>\n",
       "      <td>0.104028</td>\n",
       "      <td>0.002135</td>\n",
       "      <td>-0.133224</td>\n",
       "      <td>0.033780</td>\n",
       "      <td>0.006552</td>\n",
       "      <td>-0.017356</td>\n",
       "      <td>0.052880</td>\n",
       "      <td>-0.070155</td>\n",
       "      <td>0.088742</td>\n",
       "      <td>-0.109615</td>\n",
       "    </tr>\n",
       "    <tr>\n",
       "      <th>2</th>\n",
       "      <td>-0.100144</td>\n",
       "      <td>-0.261730</td>\n",
       "      <td>-0.005354</td>\n",
       "      <td>0.041648</td>\n",
       "      <td>0.077749</td>\n",
       "      <td>0.143295</td>\n",
       "      <td>-0.042204</td>\n",
       "      <td>-0.023259</td>\n",
       "      <td>-0.170217</td>\n",
       "      <td>-0.180731</td>\n",
       "      <td>...</td>\n",
       "      <td>0.021357</td>\n",
       "      <td>-0.074727</td>\n",
       "      <td>0.120702</td>\n",
       "      <td>-0.251179</td>\n",
       "      <td>-0.100237</td>\n",
       "      <td>0.133131</td>\n",
       "      <td>-0.013291</td>\n",
       "      <td>0.112273</td>\n",
       "      <td>0.014849</td>\n",
       "      <td>-0.093523</td>\n",
       "    </tr>\n",
       "  </tbody>\n",
       "</table>\n",
       "<p>3 rows × 768 columns</p>\n",
       "</div>"
      ],
      "text/plain": [
       "        0         1         2         3         4         5         6    \\\n",
       "0  0.059305  0.029303 -0.053479  0.120430 -0.146398  0.013463  0.630602   \n",
       "1  0.052158 -0.028894 -0.093248 -0.063710  0.063195  0.162291  0.220621   \n",
       "2 -0.100144 -0.261730 -0.005354  0.041648  0.077749  0.143295 -0.042204   \n",
       "\n",
       "        7         8         9    ...       758       759       760       761  \\\n",
       "0 -0.091257  0.108056 -0.326834  ... -0.147034 -0.076241  0.194592 -0.113716   \n",
       "1 -0.084055 -0.038307  0.078622  ...  0.104028  0.002135 -0.133224  0.033780   \n",
       "2 -0.023259 -0.170217 -0.180731  ...  0.021357 -0.074727  0.120702 -0.251179   \n",
       "\n",
       "        762       763       764       765       766       767  \n",
       "0 -0.046879  0.117487  0.147900  0.115188 -0.432466 -0.147944  \n",
       "1  0.006552 -0.017356  0.052880 -0.070155  0.088742 -0.109615  \n",
       "2 -0.100237  0.133131 -0.013291  0.112273  0.014849 -0.093523  \n",
       "\n",
       "[3 rows x 768 columns]"
      ]
     },
     "execution_count": 35,
     "metadata": {},
     "output_type": "execute_result"
    }
   ],
   "source": [
    "features = np.hstack([\n",
    "    np.stack([t.numpy() for t in model_a_strs_enc_test]), \n",
    "    np.stack([t.numpy() for t in model_b_strs_enc_test])\n",
    "])\n",
    "\n",
    "df_preprocess_test = pd.DataFrame(features)\n",
    "df_preprocess_test.head()"
   ]
  },
  {
   "cell_type": "code",
   "execution_count": 36,
   "id": "a737a740",
   "metadata": {
    "_cell_guid": "2e9433f1-367c-441c-873c-6cda0b88cb40",
    "_uuid": "b32fbfd9-b65a-46ed-ac97-532d6b20001c",
    "collapsed": false,
    "execution": {
     "iopub.execute_input": "2025-02-17T08:28:16.457377Z",
     "iopub.status.busy": "2025-02-17T08:28:16.457047Z",
     "iopub.status.idle": "2025-02-17T08:28:56.163350Z",
     "shell.execute_reply": "2025-02-17T08:28:56.162677Z"
    },
    "jupyter": {
     "outputs_hidden": false
    },
    "papermill": {
     "duration": 39.724792,
     "end_time": "2025-02-17T08:28:56.164979",
     "exception": false,
     "start_time": "2025-02-17T08:28:16.440187",
     "status": "completed"
    },
    "tags": []
   },
   "outputs": [],
   "source": [
    "df_preprocess.to_csv(\"preprocess_train.csv\", index=False)\n",
    "df_preprocess_test.to_csv(\"preprocess_test.csv\", index=False)"
   ]
  },
  {
   "cell_type": "code",
   "execution_count": 37,
   "id": "955d95c1",
   "metadata": {
    "_cell_guid": "5767c5e7-e1ff-4437-a1ba-decb2e2c554e",
    "_uuid": "ec1e4d9c-04ef-4c81-9762-55eaf1c07f3d",
    "collapsed": false,
    "execution": {
     "iopub.execute_input": "2025-02-17T08:28:56.197252Z",
     "iopub.status.busy": "2025-02-17T08:28:56.196960Z",
     "iopub.status.idle": "2025-02-17T08:28:56.200600Z",
     "shell.execute_reply": "2025-02-17T08:28:56.199808Z"
    },
    "jupyter": {
     "outputs_hidden": false
    },
    "papermill": {
     "duration": 0.02077,
     "end_time": "2025-02-17T08:28:56.201888",
     "exception": false,
     "start_time": "2025-02-17T08:28:56.181118",
     "status": "completed"
    },
    "tags": []
   },
   "outputs": [],
   "source": [
    "import pytorch_lightning as L\n",
    "import torch\n",
    "import torch.nn as nn\n",
    "from torch.utils.data import random_split\n",
    "from torch.utils.data import Dataset, random_split, DataLoader"
   ]
  },
  {
   "cell_type": "code",
   "execution_count": 38,
   "id": "40d4c75b",
   "metadata": {
    "_cell_guid": "1a610fe6-9d97-4204-8ceb-57d6c6b42c3b",
    "_uuid": "7ef2a4fd-d0bd-41d7-94fc-4f193dec4a74",
    "collapsed": false,
    "execution": {
     "iopub.execute_input": "2025-02-17T08:28:56.232684Z",
     "iopub.status.busy": "2025-02-17T08:28:56.232423Z",
     "iopub.status.idle": "2025-02-17T08:28:56.237391Z",
     "shell.execute_reply": "2025-02-17T08:28:56.236762Z"
    },
    "jupyter": {
     "outputs_hidden": false
    },
    "papermill": {
     "duration": 0.021536,
     "end_time": "2025-02-17T08:28:56.238586",
     "exception": false,
     "start_time": "2025-02-17T08:28:56.217050",
     "status": "completed"
    },
    "tags": []
   },
   "outputs": [],
   "source": [
    "class CSVDataset(Dataset):\n",
    "    def __init__(self, csv_file, labelCols, isTest=False):\n",
    "        self.data = pd.read_csv(csv_file)\n",
    "        self.isTest = isTest\n",
    "\n",
    "        features_col = [col for col in self.data.columns if col not in labelCols]\n",
    "        self.features = torch.tensor(self.data[features_col].values, dtype=torch.float32)\n",
    "        \n",
    "        if (isTest==False):\n",
    "            self.labels = torch.tensor(self.data[labelCols].values, dtype=torch.float32)\n",
    "\n",
    "    def __len__(self):\n",
    "        return len(self.data)\n",
    "\n",
    "    def __getitem__(self, idx):\n",
    "        if (self.isTest):\n",
    "            return self.features[idx]\n",
    "        \n",
    "        return self.features[idx], self.labels[idx]"
   ]
  },
  {
   "cell_type": "code",
   "execution_count": 39,
   "id": "9a700d89",
   "metadata": {
    "_cell_guid": "68448b2e-2250-4def-bda2-fe7e5e9b41b3",
    "_uuid": "7d840706-8c15-4bbf-9269-86926077c904",
    "collapsed": false,
    "execution": {
     "iopub.execute_input": "2025-02-17T08:28:56.269966Z",
     "iopub.status.busy": "2025-02-17T08:28:56.269691Z",
     "iopub.status.idle": "2025-02-17T08:28:56.272925Z",
     "shell.execute_reply": "2025-02-17T08:28:56.272253Z"
    },
    "jupyter": {
     "outputs_hidden": false
    },
    "papermill": {
     "duration": 0.020254,
     "end_time": "2025-02-17T08:28:56.274080",
     "exception": false,
     "start_time": "2025-02-17T08:28:56.253826",
     "status": "completed"
    },
    "tags": []
   },
   "outputs": [],
   "source": [
    "labelCols = [\"winner_model_a\", \"winner_model_b\", \"winner_tie\"]"
   ]
  },
  {
   "cell_type": "code",
   "execution_count": 40,
   "id": "21818878",
   "metadata": {
    "_cell_guid": "3fcf8b75-e4bf-45e7-bae1-0926af4ac555",
    "_uuid": "57433007-3c89-4687-9f75-ed6a098ddf70",
    "collapsed": false,
    "execution": {
     "iopub.execute_input": "2025-02-17T08:28:56.305368Z",
     "iopub.status.busy": "2025-02-17T08:28:56.305096Z",
     "iopub.status.idle": "2025-02-17T08:29:04.375631Z",
     "shell.execute_reply": "2025-02-17T08:29:04.374852Z"
    },
    "jupyter": {
     "outputs_hidden": false
    },
    "papermill": {
     "duration": 8.088275,
     "end_time": "2025-02-17T08:29:04.377568",
     "exception": false,
     "start_time": "2025-02-17T08:28:56.289293",
     "status": "completed"
    },
    "tags": []
   },
   "outputs": [],
   "source": [
    "train_dataset = CSVDataset(\"preprocess_train.csv\", labelCols)\n",
    "\n",
    "# Split dataset\n",
    "train_size = int(0.8 * len(train_dataset))\n",
    "val_size = int(0.1 * len(train_dataset))\n",
    "test_size = len(train_dataset) - train_size - val_size\n",
    "\n",
    "seed = torch.Generator().manual_seed(42)\n",
    "train_data, val_data, test_data = random_split(train_dataset, [train_size, val_size, test_size], generator=seed)\n",
    "\n",
    "pred_dataset = CSVDataset(\"preprocess_test.csv\", labelCols, isTest=True)"
   ]
  },
  {
   "cell_type": "code",
   "execution_count": 41,
   "id": "d61584a5",
   "metadata": {
    "_cell_guid": "dea68051-9c0b-4cae-a342-ec66a29c023d",
    "_uuid": "a0b1a6c6-4870-41c7-880e-fe0ace0d9c7a",
    "collapsed": false,
    "execution": {
     "iopub.execute_input": "2025-02-17T08:29:04.410420Z",
     "iopub.status.busy": "2025-02-17T08:29:04.410122Z",
     "iopub.status.idle": "2025-02-17T08:29:04.414731Z",
     "shell.execute_reply": "2025-02-17T08:29:04.413971Z"
    },
    "jupyter": {
     "outputs_hidden": false
    },
    "papermill": {
     "duration": 0.022217,
     "end_time": "2025-02-17T08:29:04.416061",
     "exception": false,
     "start_time": "2025-02-17T08:29:04.393844",
     "status": "completed"
    },
    "tags": []
   },
   "outputs": [],
   "source": [
    "# Define batch size\n",
    "# since we have less data\n",
    "batch_size = 32\n",
    "\n",
    "# Create DataLoaders\n",
    "train_loader = DataLoader(train_data, batch_size=batch_size, shuffle=True)\n",
    "val_loader = DataLoader(val_data, batch_size=batch_size, shuffle=True)\n",
    "test_loader = DataLoader(test_data, batch_size=batch_size, shuffle=True)\n",
    "\n",
    "pred_loader = DataLoader(pred_dataset, shuffle=True)"
   ]
  },
  {
   "cell_type": "code",
   "execution_count": 42,
   "id": "3aeec799",
   "metadata": {
    "_cell_guid": "ee212a7d-d6a2-47c8-a3ef-85c35610ff42",
    "_uuid": "050f6727-590f-49c3-9829-77171974c0dc",
    "collapsed": false,
    "execution": {
     "iopub.execute_input": "2025-02-17T08:29:04.449242Z",
     "iopub.status.busy": "2025-02-17T08:29:04.448947Z",
     "iopub.status.idle": "2025-02-17T08:29:04.453044Z",
     "shell.execute_reply": "2025-02-17T08:29:04.452097Z"
    },
    "jupyter": {
     "outputs_hidden": false
    },
    "papermill": {
     "duration": 0.022496,
     "end_time": "2025-02-17T08:29:04.454326",
     "exception": false,
     "start_time": "2025-02-17T08:29:04.431830",
     "status": "completed"
    },
    "tags": []
   },
   "outputs": [
    {
     "name": "stdout",
     "output_type": "stream",
     "text": [
      "Using device: cuda\n"
     ]
    }
   ],
   "source": [
    "device = torch.device(\"cuda\" if torch.cuda.is_available() else \"cpu\")\n",
    "print(f\"Using device: {device}\")"
   ]
  },
  {
   "cell_type": "code",
   "execution_count": 43,
   "id": "6579af95",
   "metadata": {
    "_cell_guid": "5ae996d6-8f4f-4017-acd6-0fce9e26c6b7",
    "_uuid": "4ca6a12f-713b-49a3-ba41-ef513583048c",
    "collapsed": false,
    "execution": {
     "iopub.execute_input": "2025-02-17T08:29:04.487052Z",
     "iopub.status.busy": "2025-02-17T08:29:04.486721Z",
     "iopub.status.idle": "2025-02-17T08:29:04.513732Z",
     "shell.execute_reply": "2025-02-17T08:29:04.512796Z"
    },
    "jupyter": {
     "outputs_hidden": false
    },
    "papermill": {
     "duration": 0.044935,
     "end_time": "2025-02-17T08:29:04.515238",
     "exception": false,
     "start_time": "2025-02-17T08:29:04.470303",
     "status": "completed"
    },
    "tags": []
   },
   "outputs": [],
   "source": [
    "debug = True\n",
    "\n",
    "input_dim = len(next(iter(train_loader))[0][0])\n",
    "output_dim = len(next(iter(train_loader))[1][0])\n",
    "\n",
    "class LinearLayer(nn.Linear):\n",
    "    def __init__(self, *args, **kwargs):\n",
    "        # Call the parent constructor to initialize the Linear layer\n",
    "        super().__init__(*args, **kwargs)\n",
    "        \n",
    "    def forward(self, x):\n",
    "        self.output = super().forward(x)\n",
    "        return self.output\n",
    "\n",
    "class LeakyReluLayer(nn.LeakyReLU):\n",
    "    def __init__(self, *args, **kwargs):\n",
    "        # Call the parent constructor to initialize the Linear layer\n",
    "        super().__init__(*args, **kwargs)\n",
    "        \n",
    "    def forward(self, x):\n",
    "        self.output = super().forward(x)\n",
    "        return self.output\n",
    "\n",
    "class BatchNorm1dLayer(nn.BatchNorm1d):\n",
    "    def __init__(self, *args, **kwargs):\n",
    "        # Call the parent constructor to initialize the Linear layer\n",
    "        super().__init__(*args, **kwargs)\n",
    "        \n",
    "    def forward(self, x):\n",
    "        self.output = super().forward(x)\n",
    "        return self.output\n",
    "\n",
    "class DropoutLayer(nn.Dropout):\n",
    "    def __init__(self, *args, **kwargs):\n",
    "        # Call the parent constructor to initialize the Linear layer\n",
    "        super().__init__(*args, **kwargs)\n",
    "        \n",
    "    def forward(self, x):\n",
    "        self.output = super().forward(x)\n",
    "        return self.output\n",
    "\n",
    "class Model(nn.Module):\n",
    "    def __init__(self):\n",
    "        super().__init__()\n",
    "\n",
    "        # define layers\n",
    "        self.layers = nn.ModuleList([\n",
    "            LinearLayer(input_dim, 512),\n",
    "            BatchNorm1dLayer(512),\n",
    "            LeakyReluLayer(),\n",
    "            DropoutLayer(0.3),\n",
    "            \n",
    "            LinearLayer(512, 256),\n",
    "            BatchNorm1dLayer(256),\n",
    "            LeakyReluLayer(),\n",
    "            DropoutLayer(0.3),\n",
    "\n",
    "            LinearLayer(256, 128),\n",
    "            BatchNorm1dLayer(128),\n",
    "            LeakyReluLayer(),\n",
    "            DropoutLayer(0.3),\n",
    "\n",
    "            LinearLayer(128, 32),\n",
    "            BatchNorm1dLayer(32),\n",
    "            LeakyReluLayer(),\n",
    "            DropoutLayer(0.3),\n",
    "\n",
    "            LinearLayer(32, 8),\n",
    "            BatchNorm1dLayer(8),\n",
    "            LeakyReluLayer(),\n",
    "            DropoutLayer(0.3),\n",
    "                        \n",
    "            LinearLayer(8, output_dim),\n",
    "        ])\n",
    "        \n",
    "    def forward(self, x):\n",
    "        for layer in self.layers:\n",
    "            x = layer(x)\n",
    "        return x\n",
    "\n",
    "    def parameters(self):\n",
    "        return [p for layer in self.layers for p in layer.parameters()]\n",
    "\n",
    "model = Model()"
   ]
  },
  {
   "cell_type": "code",
   "execution_count": 44,
   "id": "7d481f71",
   "metadata": {
    "_cell_guid": "871972e1-cf1e-42d6-aa48-147fe31c52de",
    "_uuid": "2dc2f8f7-1404-40f1-a423-43c71671d56c",
    "collapsed": false,
    "execution": {
     "iopub.execute_input": "2025-02-17T08:29:04.548316Z",
     "iopub.status.busy": "2025-02-17T08:29:04.547989Z",
     "iopub.status.idle": "2025-02-17T08:29:04.551391Z",
     "shell.execute_reply": "2025-02-17T08:29:04.550705Z"
    },
    "jupyter": {
     "outputs_hidden": false
    },
    "papermill": {
     "duration": 0.021166,
     "end_time": "2025-02-17T08:29:04.552688",
     "exception": false,
     "start_time": "2025-02-17T08:29:04.531522",
     "status": "completed"
    },
    "tags": []
   },
   "outputs": [],
   "source": [
    "activation_layers = [\"LeakyReluLayer\"]"
   ]
  },
  {
   "cell_type": "code",
   "execution_count": 45,
   "id": "91ee23e8",
   "metadata": {
    "_cell_guid": "b8712d70-5c93-4218-a043-38c322dcf49b",
    "_uuid": "be74163e-83e6-465f-baa8-902d444c3aab",
    "collapsed": false,
    "execution": {
     "iopub.execute_input": "2025-02-17T08:29:04.584870Z",
     "iopub.status.busy": "2025-02-17T08:29:04.584567Z",
     "iopub.status.idle": "2025-02-17T08:29:04.593320Z",
     "shell.execute_reply": "2025-02-17T08:29:04.592696Z"
    },
    "jupyter": {
     "outputs_hidden": false
    },
    "papermill": {
     "duration": 0.026225,
     "end_time": "2025-02-17T08:29:04.594618",
     "exception": false,
     "start_time": "2025-02-17T08:29:04.568393",
     "status": "completed"
    },
    "tags": []
   },
   "outputs": [],
   "source": [
    "@torch.no_grad()\n",
    "def initParam(model):\n",
    "    # Initialize weights using Xavier Normal\n",
    "    for i, layer in enumerate(model.layers):\n",
    "        if (isinstance(layer, LinearLayer)):\n",
    "            if (i<len(model.layers)-1):\n",
    "                nn.init.xavier_normal_(model.layers[i].weight, gain=torch.nn.init.calculate_gain(\"leaky_relu\"))\n",
    "            else:\n",
    "                nn.init.xavier_normal_(model.layers[i].weight, gain=torch.nn.init.calculate_gain(\"sigmoid\"))\n",
    "            if layer.bias is not None:\n",
    "                nn.init.zeros_(model.layers[i].bias)\n",
    "\n",
    "initParam(model)"
   ]
  },
  {
   "cell_type": "code",
   "execution_count": 46,
   "id": "13c8480d",
   "metadata": {
    "_cell_guid": "7c6e3a35-e61d-4acb-be86-7ac7ca2ecec2",
    "_uuid": "2a284d6f-0930-4a9b-83cf-1ff20e2925a5",
    "collapsed": false,
    "execution": {
     "iopub.execute_input": "2025-02-17T08:29:04.626695Z",
     "iopub.status.busy": "2025-02-17T08:29:04.626342Z",
     "iopub.status.idle": "2025-02-17T08:29:07.708756Z",
     "shell.execute_reply": "2025-02-17T08:29:07.707803Z"
    },
    "jupyter": {
     "outputs_hidden": false
    },
    "papermill": {
     "duration": 3.099957,
     "end_time": "2025-02-17T08:29:07.710136",
     "exception": false,
     "start_time": "2025-02-17T08:29:04.610179",
     "status": "completed"
    },
    "tags": []
   },
   "outputs": [
    {
     "name": "stdout",
     "output_type": "stream",
     "text": [
      "init loss: 1.2589975766780563\n"
     ]
    }
   ],
   "source": [
    "init_loss = 0\n",
    "model = model.to(device)\n",
    "criterion = nn.CrossEntropyLoss()\n",
    "\n",
    "with torch.no_grad():\n",
    "    for i, (inputs, labels) in enumerate(train_loader):\n",
    "        inputs = inputs.to(device)\n",
    "        labels = labels.to(device)\n",
    "        \n",
    "        pred = model(inputs)        \n",
    "        loss = criterion(pred, labels)\n",
    "\n",
    "        init_loss += loss.item()\n",
    "\n",
    "init_loss /= len(train_loader)\n",
    "print(f\"init loss: {init_loss}\")"
   ]
  },
  {
   "cell_type": "code",
   "execution_count": 47,
   "id": "ac64fb48",
   "metadata": {
    "_cell_guid": "3bf62e69-8d64-46d2-986a-944f6b549adb",
    "_uuid": "0623d091-b5af-44bf-81e8-e1da4b4b3af7",
    "collapsed": false,
    "execution": {
     "iopub.execute_input": "2025-02-17T08:29:07.742433Z",
     "iopub.status.busy": "2025-02-17T08:29:07.742143Z",
     "iopub.status.idle": "2025-02-17T08:29:07.745602Z",
     "shell.execute_reply": "2025-02-17T08:29:07.744762Z"
    },
    "jupyter": {
     "outputs_hidden": false
    },
    "papermill": {
     "duration": 0.02113,
     "end_time": "2025-02-17T08:29:07.746925",
     "exception": false,
     "start_time": "2025-02-17T08:29:07.725795",
     "status": "completed"
    },
    "tags": []
   },
   "outputs": [],
   "source": [
    "import math"
   ]
  },
  {
   "cell_type": "code",
   "execution_count": 48,
   "id": "b5ad48d3",
   "metadata": {
    "_cell_guid": "733cf95e-59c2-41a4-a3dc-c5e884b0be90",
    "_uuid": "c4ac5de1-ecf6-4285-8576-11b6d2833fe5",
    "collapsed": false,
    "execution": {
     "iopub.execute_input": "2025-02-17T08:29:07.778183Z",
     "iopub.status.busy": "2025-02-17T08:29:07.777934Z",
     "iopub.status.idle": "2025-02-17T08:30:19.217474Z",
     "shell.execute_reply": "2025-02-17T08:30:19.216573Z"
    },
    "jupyter": {
     "outputs_hidden": false
    },
    "papermill": {
     "duration": 71.47275,
     "end_time": "2025-02-17T08:30:19.234768",
     "exception": false,
     "start_time": "2025-02-17T08:29:07.762018",
     "status": "completed"
    },
    "tags": []
   },
   "outputs": [
    {
     "name": "stdout",
     "output_type": "stream",
     "text": [
      "Epoch 1/10, Train Loss: 0.0397, Train Metric: 0.3792, Val Loss: 0.0374,  Val Metric: 0.3792\n",
      "Epoch 2/10, Train Loss: 0.0380, Train Metric: 0.3661, Val Loss: 0.0379,  Val Metric: 0.3661\n",
      "Epoch 3/10, Train Loss: 0.0377, Train Metric: 0.3797, Val Loss: 0.0358,  Val Metric: 0.3797\n",
      "Epoch 4/10, Train Loss: 0.0373, Train Metric: 0.3741, Val Loss: 0.0365,  Val Metric: 0.3741\n",
      "Epoch 5/10, Train Loss: 0.0369, Train Metric: 0.3765, Val Loss: 0.0372,  Val Metric: 0.3765\n",
      "Epoch 6/10, Train Loss: 0.0361, Train Metric: 0.3656, Val Loss: 0.0361,  Val Metric: 0.3656\n",
      "Epoch 7/10, Train Loss: 0.0355, Train Metric: 0.3652, Val Loss: 0.0369,  Val Metric: 0.3652\n",
      "Epoch 8/10, Train Loss: 0.0346, Train Metric: 0.3605, Val Loss: 0.0364,  Val Metric: 0.3605\n",
      "Epoch 9/10, Train Loss: 0.0339, Train Metric: 0.3675, Val Loss: 0.0364,  Val Metric: 0.3675\n",
      "Epoch 10/10, Train Loss: 0.0325, Train Metric: 0.3738, Val Loss: 0.0357,  Val Metric: 0.3738\n"
     ]
    }
   ],
   "source": [
    "# less lr rate since can overfit easily\n",
    "learning_rate = 1e-2\n",
    "# less epoch as can easily overfit\n",
    "num_epoch = 10\n",
    "\n",
    "lossi_train = []\n",
    "lossi_val = []\n",
    "\n",
    "metric_train = []\n",
    "metric_val = []\n",
    "\n",
    "ud = []\n",
    "output_grads = []\n",
    "\n",
    "total_samples = len(train_dataset)\n",
    "n_iter = math.ceil(total_samples / batch_size)\n",
    "\n",
    "optimizer = torch.optim.AdamW(model.parameters(), lr=learning_rate)\n",
    "criterion = nn.CrossEntropyLoss()\n",
    "\n",
    "model = model.to(device)\n",
    "\n",
    "for epoch in range(num_epoch):\n",
    "    # reset to train mode\n",
    "    model.train()\n",
    "\n",
    "    # Accuracy calculation\n",
    "    correct = 0\n",
    "    total = 0\n",
    "    accuracy = 0\n",
    "    \n",
    "    train_loss = 0    \n",
    "    for i, (inputs, labels) in enumerate(train_loader):\n",
    "        # reset grad\n",
    "        optimizer.zero_grad()\n",
    "        \n",
    "        # forward pass\n",
    "        # print(f\"inputs: {inputs}\")\n",
    "        # print(f\"labels: {labels}\")\n",
    "        inputs = inputs.to(device)\n",
    "        labels = labels.to(device)\n",
    "        labels = labels.argmax(dim=1)\n",
    "        # print(f\"labels: {labels}\")\n",
    "\n",
    "\n",
    "        # print(f\"inputs device: {inputs.device}, labels device: {labels.device}, model device: {[param.device for param in model.parameters()]}\")\n",
    "        \n",
    "        pred = model(inputs)\n",
    "        predictions = torch.softmax(pred, dim=-1).argmax(1)\n",
    "        # print(f\"pred: {pred}\")\n",
    "        # print(f\"predictions: {predictions}\")\n",
    "\n",
    "        # calc loss\n",
    "        loss = criterion(pred, labels)\n",
    "        # print(f\"loss: {loss}\")\n",
    "        correct += (predictions == labels).sum().item()\n",
    "        total += labels.size(0)\n",
    "\n",
    "        if (debug):\n",
    "            for layer in model.layers:\n",
    "                layer.output.retain_grad() # save gradients of non leaf tensors also\n",
    "        \n",
    "        # backward pass\n",
    "        loss.backward()\n",
    "        optimizer.step()\n",
    "        loss = loss.log10()\n",
    "        train_loss += loss.item()\n",
    "\n",
    "    # copied it to array since running with no grad will set grad to None\n",
    "    if (debug):\n",
    "        curr_grads = {}\n",
    "        for i, layer in enumerate(model.layers):\n",
    "            curr_grads[f\"{layer.__class__.__name__}: {i}\"] = layer.output.grad.clone()\n",
    "\n",
    "        output_grads.append(curr_grads)\n",
    "    \n",
    "    train_loss /= len(train_loader)\n",
    "    accuracy = correct / total\n",
    "    metric_train.append(accuracy)\n",
    "    lossi_train.append(train_loss)\n",
    "\n",
    "    # validation phase\n",
    "    model.eval()\n",
    "    \n",
    "    # Accuracy calculation\n",
    "    correct = 0\n",
    "    total = 0\n",
    "    accuracy = 0\n",
    "    \n",
    "    val_loss = 0\n",
    "    with torch.no_grad():  # Disable gradient computation for validation\n",
    "        ud.append([((learning_rate*p.grad.std() / p.data.std()).log10().item() if p.ndim == 2 else 0) for p in model.parameters()])\n",
    "        \n",
    "        for inputs, labels in val_loader:\n",
    "            inputs = inputs.to(device)\n",
    "            labels = labels.to(device)\n",
    "            labels = labels.argmax(dim=1)\n",
    "            \n",
    "            pred = model(inputs)\n",
    "            predictions = torch.softmax(pred, dim=-1).argmax(1)\n",
    "            correct += (predictions == labels).sum().item()\n",
    "            total += labels.size(0)\n",
    "            \n",
    "            loss = criterion(pred, labels)\n",
    "            loss = loss.log10()\n",
    "            val_loss += loss.item()\n",
    "        \n",
    "        accuracy = correct / total\n",
    "        metric_val.append(accuracy)\n",
    "        val_loss /= len(val_loader)\n",
    "        lossi_val.append(val_loss)\n",
    "\n",
    "    if ((epoch+1)%1==0):\n",
    "        print(f\"Epoch {epoch+1}/{num_epoch}, Train Loss: {train_loss:.4f}, Train Metric: {accuracy:.4f}, Val Loss: {val_loss:.4f},  Val Metric: {accuracy:.4f}\")\n",
    "\n",
    "        # if (debug):\n",
    "        #     break"
   ]
  },
  {
   "cell_type": "code",
   "execution_count": 49,
   "id": "24389418",
   "metadata": {
    "_cell_guid": "66ee472e-bf77-4d91-b013-ac30863dea37",
    "_uuid": "75ce7de7-1cb9-48ba-b59b-1ef57df6559a",
    "collapsed": false,
    "execution": {
     "iopub.execute_input": "2025-02-17T08:30:19.267117Z",
     "iopub.status.busy": "2025-02-17T08:30:19.266836Z",
     "iopub.status.idle": "2025-02-17T08:30:19.534237Z",
     "shell.execute_reply": "2025-02-17T08:30:19.533414Z"
    },
    "jupyter": {
     "outputs_hidden": false
    },
    "papermill": {
     "duration": 0.285173,
     "end_time": "2025-02-17T08:30:19.535532",
     "exception": false,
     "start_time": "2025-02-17T08:30:19.250359",
     "status": "completed"
    },
    "tags": []
   },
   "outputs": [
    {
     "data": {
      "text/plain": [
       "[<matplotlib.lines.Line2D at 0x7e670fb97760>]"
      ]
     },
     "execution_count": 49,
     "metadata": {},
     "output_type": "execute_result"
    },
    {
     "data": {
      "image/png": "[encoded data removed]",
      "text/plain": [
       "<Figure size 640x480 with 1 Axes>"
      ]
     },
     "metadata": {},
     "output_type": "display_data"
    }
   ],
   "source": [
    "plt.plot(lossi_train)\n",
    "plt.plot(lossi_val)"
   ]
  },
  {
   "cell_type": "code",
   "execution_count": 50,
   "id": "a67aae18",
   "metadata": {
    "_cell_guid": "390a53be-756b-4803-97cf-fd14669e0058",
    "_uuid": "961d5e75-c4e3-4ff6-b49d-5a4e831546d8",
    "collapsed": false,
    "execution": {
     "iopub.execute_input": "2025-02-17T08:30:19.572547Z",
     "iopub.status.busy": "2025-02-17T08:30:19.572180Z",
     "iopub.status.idle": "2025-02-17T08:30:19.759703Z",
     "shell.execute_reply": "2025-02-17T08:30:19.758676Z"
    },
    "jupyter": {
     "outputs_hidden": false
    },
    "papermill": {
     "duration": 0.20766,
     "end_time": "2025-02-17T08:30:19.761177",
     "exception": false,
     "start_time": "2025-02-17T08:30:19.553517",
     "status": "completed"
    },
    "tags": []
   },
   "outputs": [
    {
     "data": {
      "text/plain": [
       "[<matplotlib.lines.Line2D at 0x7e66f091a470>]"
      ]
     },
     "execution_count": 50,
     "metadata": {},
     "output_type": "execute_result"
    },
    {
     "data": {
      "image/png": "[encoded data removed]",
      "text/plain": [
       "<Figure size 640x480 with 1 Axes>"
      ]
     },
     "metadata": {},
     "output_type": "display_data"
    }
   ],
   "source": [
    "plt.plot(metric_val)\n",
    "plt.plot(metric_train)"
   ]
  },
  {
   "cell_type": "code",
   "execution_count": 51,
   "id": "3a7a0ddb",
   "metadata": {
    "_cell_guid": "98504882-d8b5-4883-9def-5b0012cfe4ac",
    "_uuid": "dd9a9335-8946-4c31-8f44-e144797f3b01",
    "collapsed": false,
    "execution": {
     "iopub.execute_input": "2025-02-17T08:30:19.798392Z",
     "iopub.status.busy": "2025-02-17T08:30:19.798091Z",
     "iopub.status.idle": "2025-02-17T08:30:20.125798Z",
     "shell.execute_reply": "2025-02-17T08:30:20.124879Z"
    },
    "jupyter": {
     "outputs_hidden": false
    },
    "papermill": {
     "duration": 0.348028,
     "end_time": "2025-02-17T08:30:20.127292",
     "exception": false,
     "start_time": "2025-02-17T08:30:19.779264",
     "status": "completed"
    },
    "tags": []
   },
   "outputs": [
    {
     "name": "stdout",
     "output_type": "stream",
     "text": [
      "layer 2 (LeakyReluLayer): mean +0.12, std 0.40\n",
      "layer 6 (LeakyReluLayer): mean +0.30, std 0.64\n",
      "layer 10 (LeakyReluLayer): mean +0.34, std 0.78\n",
      "layer 14 (LeakyReluLayer): mean +0.66, std 1.12\n",
      "layer 18 (LeakyReluLayer): mean +0.03, std 0.13\n"
     ]
    },
    {
     "data": {
      "image/png": "[encoded data removed]",
      "text/plain": [
       "<Figure size 2000x400 with 1 Axes>"
      ]
     },
     "metadata": {},
     "output_type": "display_data"
    }
   ],
   "source": [
    "# visualize activations\n",
    "plt.figure(figsize=(20, 4))\n",
    "legends = []\n",
    "\n",
    "if (len(model.layers) > 1):\n",
    "    for i, layer in enumerate(model.layers): # exclude output layer\n",
    "        layer_name = layer.__class__.__name__\n",
    "        for activation_layer in activation_layers:\n",
    "            if (activation_layer in layer_name):\n",
    "                t = layer.output.cpu()\n",
    "                print('layer %d (%10s): mean %+.2f, std %.2f' % (i, layer.__class__.__name__, t.mean(), t.std()))\n",
    "                hy, hx = torch.histogram(t, density=True)\n",
    "                plt.plot(hx[:-1].detach(), hy.detach())\n",
    "                legends.append(f'layer {i} ({layer.__class__.__name__})')\n",
    "    \n",
    "    plt.legend(legends)\n",
    "    plt.title(\"activation distribution\")"
   ]
  },
  {
   "cell_type": "code",
   "execution_count": 52,
   "id": "9e9a2e4f",
   "metadata": {
    "_cell_guid": "35b58ee7-49c3-4903-a1b5-8ffaf183df7d",
    "_uuid": "cffd2cb3-91d4-4414-a218-b78aa80303af",
    "collapsed": false,
    "execution": {
     "iopub.execute_input": "2025-02-17T08:30:20.166953Z",
     "iopub.status.busy": "2025-02-17T08:30:20.166635Z",
     "iopub.status.idle": "2025-02-17T08:30:20.478709Z",
     "shell.execute_reply": "2025-02-17T08:30:20.477791Z"
    },
    "jupyter": {
     "outputs_hidden": false
    },
    "papermill": {
     "duration": 0.332991,
     "end_time": "2025-02-17T08:30:20.480134",
     "exception": false,
     "start_time": "2025-02-17T08:30:20.147143",
     "status": "completed"
    },
    "tags": []
   },
   "outputs": [
    {
     "name": "stdout",
     "output_type": "stream",
     "text": [
      "layer (LeakyReluLayer: 2): mean -0.000001, std 2.230234e-04\n",
      "layer (LeakyReluLayer: 6): mean -0.000001, std 7.732764e-05\n",
      "layer (LeakyReluLayer: 10): mean +0.000001, std 1.097831e-04\n",
      "layer (LeakyReluLayer: 14): mean -0.000005, std 4.968663e-04\n",
      "layer (LeakyReluLayer: 18): mean +0.005394, std 4.603374e-02\n"
     ]
    },
    {
     "data": {
      "image/png": "[encoded data removed]",
      "text/plain": [
       "<Figure size 2000x400 with 1 Axes>"
      ]
     },
     "metadata": {},
     "output_type": "display_data"
    }
   ],
   "source": [
    "# visualize histograms\n",
    "plt.figure(figsize=(20, 4)) # width and height of the plot\n",
    "legends = []\n",
    "\n",
    "if (len(model.layers) > 1):\n",
    "    for layer_name, layer_grad in output_grads[-1].items(): # note: exclude the output\n",
    "        for activation_layer in activation_layers:\n",
    "            if (activation_layer in layer_name):\n",
    "                t = layer_grad.cpu()\n",
    "                print('layer (%10s): mean %+f, std %e' % (layer_name, t.mean(), t.std()))\n",
    "                hy, hx = torch.histogram(t, density=True)\n",
    "                plt.plot(hx[:-1].detach(), hy.detach())\n",
    "                legends.append(f'{layer_name}')\n",
    "    \n",
    "        plt.legend(legends);\n",
    "        plt.title('gradient distribution')"
   ]
  },
  {
   "cell_type": "code",
   "execution_count": 53,
   "id": "334a1fb6",
   "metadata": {
    "_cell_guid": "f78ae914-a05f-4802-a91f-80da568b4c68",
    "_uuid": "7ead9569-862f-4f00-bdbc-53e7394a5935",
    "collapsed": false,
    "execution": {
     "iopub.execute_input": "2025-02-17T08:30:20.520196Z",
     "iopub.status.busy": "2025-02-17T08:30:20.519911Z",
     "iopub.status.idle": "2025-02-17T08:30:20.814842Z",
     "shell.execute_reply": "2025-02-17T08:30:20.813992Z"
    },
    "jupyter": {
     "outputs_hidden": false
    },
    "papermill": {
     "duration": 0.316513,
     "end_time": "2025-02-17T08:30:20.816307",
     "exception": false,
     "start_time": "2025-02-17T08:30:20.499794",
     "status": "completed"
    },
    "tags": []
   },
   "outputs": [
    {
     "name": "stdout",
     "output_type": "stream",
     "text": [
      "weight (512, 768) | mean +0.000000 | std 2.339601e-05 | grad:data ratio 4.339953e-05\n",
      "weight (256, 512) | mean +0.000001 | std 1.274045e-05 | grad:data ratio 2.873743e-05\n",
      "weight (128, 256) | mean +0.000000 | std 9.087927e-06 | grad:data ratio 2.237787e-05\n",
      "weight  (32, 128) | mean +0.000000 | std 3.825538e-05 | grad:data ratio 7.777773e-05\n",
      "weight    (8, 32) | mean -0.000027 | std 3.001504e-04 | grad:data ratio 4.835785e-04\n",
      "weight     (3, 8) | mean +0.000000 | std 1.461982e-02 | grad:data ratio 1.336007e-02\n"
     ]
    },
    {
     "data": {
      "image/png": "[encoded data removed]",
      "text/plain": [
       "<Figure size 2000x400 with 1 Axes>"
      ]
     },
     "metadata": {},
     "output_type": "display_data"
    }
   ],
   "source": [
    "# visualize histograms\n",
    "plt.figure(figsize=(20, 4)) # width and height of the plot\n",
    "legends = []\n",
    "for i,p in enumerate(model.parameters()):\n",
    "  if p.ndim == 2: # limit to weights only\n",
    "    t = p.grad.cpu()\n",
    "    print('weight %10s | mean %+f | std %e | grad:data ratio %e' % (tuple(p.shape), t.mean(), t.std(), t.std() / p.std()))\n",
    "    hy, hx = torch.histogram(t, density=True)\n",
    "    plt.plot(hx[:-1].detach(), hy.detach())\n",
    "    legends.append(f'{i} {tuple(p.shape)}')\n",
    "plt.legend(legends)\n",
    "plt.title('weights gradient distribution');\n",
    "\n",
    "# gradient to data ratio should be less"
   ]
  },
  {
   "cell_type": "code",
   "execution_count": 54,
   "id": "62bda67f",
   "metadata": {
    "_cell_guid": "5f642427-6f45-43a8-bf62-b2051b4a9125",
    "_uuid": "0b14071b-2e8f-4898-8702-7e8a190e4fef",
    "collapsed": false,
    "execution": {
     "iopub.execute_input": "2025-02-17T08:30:20.857154Z",
     "iopub.status.busy": "2025-02-17T08:30:20.856878Z",
     "iopub.status.idle": "2025-02-17T08:30:21.111559Z",
     "shell.execute_reply": "2025-02-17T08:30:21.110375Z"
    },
    "jupyter": {
     "outputs_hidden": false
    },
    "papermill": {
     "duration": 0.276521,
     "end_time": "2025-02-17T08:30:21.113640",
     "exception": false,
     "start_time": "2025-02-17T08:30:20.837119",
     "status": "completed"
    },
    "tags": []
   },
   "outputs": [
    {
     "data": {
      "text/plain": [
       "<matplotlib.legend.Legend at 0x7e66f0be2710>"
      ]
     },
     "execution_count": 54,
     "metadata": {},
     "output_type": "execute_result"
    },
    {
     "data": {
      "image/png": "[encoded data removed]",
      "text/plain": [
       "<Figure size 2000x400 with 1 Axes>"
      ]
     },
     "metadata": {},
     "output_type": "display_data"
    }
   ],
   "source": [
    "# plot update to data ratio\n",
    "plt.figure(figsize=(20, 4))\n",
    "legends = []\n",
    "for i,p in enumerate(model.parameters()):\n",
    "  if p.ndim == 2:\n",
    "    plt.plot([ud[j][i] for j in range(len(ud))])\n",
    "    legends.append('param %d' % i)\n",
    "plt.plot([0, len(ud)], [-3, -3], 'k') # these ratios should be ~1e-3, indicate on plot\n",
    "# less than 1e-3 means learning to slow\n",
    "plt.legend(legends)"
   ]
  },
  {
   "cell_type": "code",
   "execution_count": 55,
   "id": "fd7f478f",
   "metadata": {
    "_cell_guid": "b822265a-2362-4362-b5c5-222136c0a46f",
    "_uuid": "d3d81a82-260c-4501-94ef-666de43f6943",
    "collapsed": false,
    "execution": {
     "iopub.execute_input": "2025-02-17T08:30:21.176343Z",
     "iopub.status.busy": "2025-02-17T08:30:21.175897Z",
     "iopub.status.idle": "2025-02-17T08:30:21.547180Z",
     "shell.execute_reply": "2025-02-17T08:30:21.546219Z"
    },
    "jupyter": {
     "outputs_hidden": false
    },
    "papermill": {
     "duration": 0.407903,
     "end_time": "2025-02-17T08:30:21.548909",
     "exception": false,
     "start_time": "2025-02-17T08:30:21.141006",
     "status": "completed"
    },
    "tags": []
   },
   "outputs": [
    {
     "name": "stdout",
     "output_type": "stream",
     "text": [
      "Test Accuracy: 37.83%\n"
     ]
    }
   ],
   "source": [
    "model.eval()  # Set model to evaluation mode\n",
    "\n",
    "# Accuracy calculation\n",
    "correct = 0\n",
    "total = 0\n",
    "\n",
    "with torch.no_grad():  # Disable gradient calculation\n",
    "    for inputs, labels in test_loader:\n",
    "        inputs = inputs.to(device)\n",
    "        labels = labels.to(device)\n",
    "        labels = labels.argmax(dim=1)\n",
    "        \n",
    "        outputs = model(inputs)\n",
    "        predictions = torch.softmax(outputs, dim=-1).argmax(1)\n",
    "        correct += (predictions == labels).sum().item()\n",
    "        total += labels.size(0)\n",
    "\n",
    "accuracy = correct / total\n",
    "print(f\"Test Accuracy: {accuracy * 100:.2f}%\")"
   ]
  },
  {
   "cell_type": "code",
   "execution_count": 56,
   "id": "007de53a",
   "metadata": {
    "execution": {
     "iopub.execute_input": "2025-02-17T08:30:21.593758Z",
     "iopub.status.busy": "2025-02-17T08:30:21.593325Z",
     "iopub.status.idle": "2025-02-17T08:30:21.617728Z",
     "shell.execute_reply": "2025-02-17T08:30:21.616801Z"
    },
    "papermill": {
     "duration": 0.048637,
     "end_time": "2025-02-17T08:30:21.619287",
     "exception": false,
     "start_time": "2025-02-17T08:30:21.570650",
     "status": "completed"
    },
    "tags": []
   },
   "outputs": [],
   "source": [
    "pred = []\n",
    "with torch.no_grad():  # Disable gradient calculation\n",
    "    for inputs in pred_loader:\n",
    "        inputs = inputs.to(device)\n",
    "    \n",
    "        outputs = model(inputs)\n",
    "        predictions = torch.softmax(outputs, dim=-1)\n",
    "        pred.append(predictions.cpu().squeeze())"
   ]
  },
  {
   "cell_type": "code",
   "execution_count": 57,
   "id": "35eca58d",
   "metadata": {
    "execution": {
     "iopub.execute_input": "2025-02-17T08:30:21.664981Z",
     "iopub.status.busy": "2025-02-17T08:30:21.664570Z",
     "iopub.status.idle": "2025-02-17T08:30:21.680919Z",
     "shell.execute_reply": "2025-02-17T08:30:21.680045Z"
    },
    "papermill": {
     "duration": 0.041112,
     "end_time": "2025-02-17T08:30:21.682391",
     "exception": false,
     "start_time": "2025-02-17T08:30:21.641279",
     "status": "completed"
    },
    "tags": []
   },
   "outputs": [
    {
     "data": {
      "text/html": [
       "<div>\n",
       "<style scoped>\n",
       "    .dataframe tbody tr th:only-of-type {\n",
       "        vertical-align: middle;\n",
       "    }\n",
       "\n",
       "    .dataframe tbody tr th {\n",
       "        vertical-align: top;\n",
       "    }\n",
       "\n",
       "    .dataframe thead th {\n",
       "        text-align: right;\n",
       "    }\n",
       "</style>\n",
       "<table border=\"1\" class=\"dataframe\">\n",
       "  <thead>\n",
       "    <tr style=\"text-align: right;\">\n",
       "      <th></th>\n",
       "      <th>id</th>\n",
       "      <th>prompt</th>\n",
       "      <th>response_a</th>\n",
       "      <th>response_b</th>\n",
       "    </tr>\n",
       "  </thead>\n",
       "  <tbody>\n",
       "    <tr>\n",
       "      <th>0</th>\n",
       "      <td>136060</td>\n",
       "      <td>[\"I have three oranges today, I ate an orange ...</td>\n",
       "      <td>[\"You have two oranges today.\"]</td>\n",
       "      <td>[\"You still have three oranges. Eating an oran...</td>\n",
       "    </tr>\n",
       "    <tr>\n",
       "      <th>1</th>\n",
       "      <td>211333</td>\n",
       "      <td>[\"You are a mediator in a heated political deb...</td>\n",
       "      <td>[\"Thank you for sharing the details of the sit...</td>\n",
       "      <td>[\"Mr Reddy and Ms Blue both have valid points ...</td>\n",
       "    </tr>\n",
       "    <tr>\n",
       "      <th>2</th>\n",
       "      <td>1233961</td>\n",
       "      <td>[\"How to initialize the classification head wh...</td>\n",
       "      <td>[\"When you want to initialize the classificati...</td>\n",
       "      <td>[\"To initialize the classification head when p...</td>\n",
       "    </tr>\n",
       "  </tbody>\n",
       "</table>\n",
       "</div>"
      ],
      "text/plain": [
       "        id                                             prompt  \\\n",
       "0   136060  [\"I have three oranges today, I ate an orange ...   \n",
       "1   211333  [\"You are a mediator in a heated political deb...   \n",
       "2  1233961  [\"How to initialize the classification head wh...   \n",
       "\n",
       "                                          response_a  \\\n",
       "0                    [\"You have two oranges today.\"]   \n",
       "1  [\"Thank you for sharing the details of the sit...   \n",
       "2  [\"When you want to initialize the classificati...   \n",
       "\n",
       "                                          response_b  \n",
       "0  [\"You still have three oranges. Eating an oran...  \n",
       "1  [\"Mr Reddy and Ms Blue both have valid points ...  \n",
       "2  [\"To initialize the classification head when p...  "
      ]
     },
     "execution_count": 57,
     "metadata": {},
     "output_type": "execute_result"
    }
   ],
   "source": [
    "df_test = pd.read_csv(\"/kaggle/input/llm-classification-finetuning/test.csv\")\n",
    "df_test.head()"
   ]
  },
  {
   "cell_type": "code",
   "execution_count": 58,
   "id": "076b7a6f",
   "metadata": {
    "execution": {
     "iopub.execute_input": "2025-02-17T08:30:21.728179Z",
     "iopub.status.busy": "2025-02-17T08:30:21.727755Z",
     "iopub.status.idle": "2025-02-17T08:30:21.760845Z",
     "shell.execute_reply": "2025-02-17T08:30:21.759952Z"
    },
    "papermill": {
     "duration": 0.057435,
     "end_time": "2025-02-17T08:30:21.762352",
     "exception": false,
     "start_time": "2025-02-17T08:30:21.704917",
     "status": "completed"
    },
    "tags": []
   },
   "outputs": [
    {
     "data": {
      "text/html": [
       "<div>\n",
       "<style scoped>\n",
       "    .dataframe tbody tr th:only-of-type {\n",
       "        vertical-align: middle;\n",
       "    }\n",
       "\n",
       "    .dataframe tbody tr th {\n",
       "        vertical-align: top;\n",
       "    }\n",
       "\n",
       "    .dataframe thead th {\n",
       "        text-align: right;\n",
       "    }\n",
       "</style>\n",
       "<table border=\"1\" class=\"dataframe\">\n",
       "  <thead>\n",
       "    <tr style=\"text-align: right;\">\n",
       "      <th></th>\n",
       "      <th>winner_model_a</th>\n",
       "      <th>winner_model_b</th>\n",
       "      <th>winner_tie</th>\n",
       "    </tr>\n",
       "  </thead>\n",
       "  <tbody>\n",
       "    <tr>\n",
       "      <th>0</th>\n",
       "      <td>tensor(0.2452)</td>\n",
       "      <td>tensor(0.2228)</td>\n",
       "      <td>tensor(0.5320)</td>\n",
       "    </tr>\n",
       "    <tr>\n",
       "      <th>1</th>\n",
       "      <td>tensor(0.3534)</td>\n",
       "      <td>tensor(0.3545)</td>\n",
       "      <td>tensor(0.2920)</td>\n",
       "    </tr>\n",
       "    <tr>\n",
       "      <th>2</th>\n",
       "      <td>tensor(0.3694)</td>\n",
       "      <td>tensor(0.3620)</td>\n",
       "      <td>tensor(0.2686)</td>\n",
       "    </tr>\n",
       "  </tbody>\n",
       "</table>\n",
       "</div>"
      ],
      "text/plain": [
       "   winner_model_a  winner_model_b      winner_tie\n",
       "0  tensor(0.2452)  tensor(0.2228)  tensor(0.5320)\n",
       "1  tensor(0.3534)  tensor(0.3545)  tensor(0.2920)\n",
       "2  tensor(0.3694)  tensor(0.3620)  tensor(0.2686)"
      ]
     },
     "execution_count": 58,
     "metadata": {},
     "output_type": "execute_result"
    }
   ],
   "source": [
    "df_pred = pd.DataFrame(pred, columns=[\"winner_model_a\", \"winner_model_b\", \"winner_tie\"])\n",
    "df_pred.head()"
   ]
  },
  {
   "cell_type": "code",
   "execution_count": 59,
   "id": "94121d35",
   "metadata": {
    "execution": {
     "iopub.execute_input": "2025-02-17T08:30:21.807544Z",
     "iopub.status.busy": "2025-02-17T08:30:21.807117Z",
     "iopub.status.idle": "2025-02-17T08:30:21.827604Z",
     "shell.execute_reply": "2025-02-17T08:30:21.826744Z"
    },
    "papermill": {
     "duration": 0.044772,
     "end_time": "2025-02-17T08:30:21.829024",
     "exception": false,
     "start_time": "2025-02-17T08:30:21.784252",
     "status": "completed"
    },
    "tags": []
   },
   "outputs": [
    {
     "data": {
      "text/html": [
       "<div>\n",
       "<style scoped>\n",
       "    .dataframe tbody tr th:only-of-type {\n",
       "        vertical-align: middle;\n",
       "    }\n",
       "\n",
       "    .dataframe tbody tr th {\n",
       "        vertical-align: top;\n",
       "    }\n",
       "\n",
       "    .dataframe thead th {\n",
       "        text-align: right;\n",
       "    }\n",
       "</style>\n",
       "<table border=\"1\" class=\"dataframe\">\n",
       "  <thead>\n",
       "    <tr style=\"text-align: right;\">\n",
       "      <th></th>\n",
       "      <th>id</th>\n",
       "      <th>prompt</th>\n",
       "      <th>response_a</th>\n",
       "      <th>response_b</th>\n",
       "      <th>winner_model_a</th>\n",
       "      <th>winner_model_b</th>\n",
       "      <th>winner_tie</th>\n",
       "    </tr>\n",
       "  </thead>\n",
       "  <tbody>\n",
       "    <tr>\n",
       "      <th>0</th>\n",
       "      <td>136060</td>\n",
       "      <td>[\"I have three oranges today, I ate an orange ...</td>\n",
       "      <td>[\"You have two oranges today.\"]</td>\n",
       "      <td>[\"You still have three oranges. Eating an oran...</td>\n",
       "      <td>tensor(0.2452)</td>\n",
       "      <td>tensor(0.2228)</td>\n",
       "      <td>tensor(0.5320)</td>\n",
       "    </tr>\n",
       "    <tr>\n",
       "      <th>1</th>\n",
       "      <td>211333</td>\n",
       "      <td>[\"You are a mediator in a heated political deb...</td>\n",
       "      <td>[\"Thank you for sharing the details of the sit...</td>\n",
       "      <td>[\"Mr Reddy and Ms Blue both have valid points ...</td>\n",
       "      <td>tensor(0.3534)</td>\n",
       "      <td>tensor(0.3545)</td>\n",
       "      <td>tensor(0.2920)</td>\n",
       "    </tr>\n",
       "    <tr>\n",
       "      <th>2</th>\n",
       "      <td>1233961</td>\n",
       "      <td>[\"How to initialize the classification head wh...</td>\n",
       "      <td>[\"When you want to initialize the classificati...</td>\n",
       "      <td>[\"To initialize the classification head when p...</td>\n",
       "      <td>tensor(0.3694)</td>\n",
       "      <td>tensor(0.3620)</td>\n",
       "      <td>tensor(0.2686)</td>\n",
       "    </tr>\n",
       "  </tbody>\n",
       "</table>\n",
       "</div>"
      ],
      "text/plain": [
       "        id                                             prompt  \\\n",
       "0   136060  [\"I have three oranges today, I ate an orange ...   \n",
       "1   211333  [\"You are a mediator in a heated political deb...   \n",
       "2  1233961  [\"How to initialize the classification head wh...   \n",
       "\n",
       "                                          response_a  \\\n",
       "0                    [\"You have two oranges today.\"]   \n",
       "1  [\"Thank you for sharing the details of the sit...   \n",
       "2  [\"When you want to initialize the classificati...   \n",
       "\n",
       "                                          response_b  winner_model_a  \\\n",
       "0  [\"You still have three oranges. Eating an oran...  tensor(0.2452)   \n",
       "1  [\"Mr Reddy and Ms Blue both have valid points ...  tensor(0.3534)   \n",
       "2  [\"To initialize the classification head when p...  tensor(0.3694)   \n",
       "\n",
       "   winner_model_b      winner_tie  \n",
       "0  tensor(0.2228)  tensor(0.5320)  \n",
       "1  tensor(0.3545)  tensor(0.2920)  \n",
       "2  tensor(0.3620)  tensor(0.2686)  "
      ]
     },
     "execution_count": 59,
     "metadata": {},
     "output_type": "execute_result"
    }
   ],
   "source": [
    "res = pd.concat([df_test, df_pred], axis=1)\n",
    "res.head()"
   ]
  },
  {
   "cell_type": "code",
   "execution_count": 60,
   "id": "1bb47373",
   "metadata": {
    "execution": {
     "iopub.execute_input": "2025-02-17T08:30:21.875144Z",
     "iopub.status.busy": "2025-02-17T08:30:21.874750Z",
     "iopub.status.idle": "2025-02-17T08:30:21.884354Z",
     "shell.execute_reply": "2025-02-17T08:30:21.883491Z"
    },
    "papermill": {
     "duration": 0.033963,
     "end_time": "2025-02-17T08:30:21.885763",
     "exception": false,
     "start_time": "2025-02-17T08:30:21.851800",
     "status": "completed"
    },
    "tags": []
   },
   "outputs": [],
   "source": [
    "res.to_csv(\"pred.csv\")"
   ]
  }
 ],
 "metadata": {
  "kaggle": {
   "accelerator": "gpu",
   "dataSources": [
    {
     "databundleVersionId": 9809560,
     "sourceId": 86518,
     "sourceType": "competition"
    }
   ],
   "dockerImageVersionId": 30886,
   "isGpuEnabled": true,
   "isInternetEnabled": true,
   "language": "python",
   "sourceType": "notebook"
  },
  "kernelspec": {
   "display_name": "Python 3",
   "language": "python",
   "name": "python3"
  },
  "language_info": {
   "codemirror_mode": {
    "name": "ipython",
    "version": 3
   },
   "file_extension": ".py",
   "mimetype": "text/x-python",
   "name": "python",
   "nbconvert_exporter": "python",
   "pygments_lexer": "ipython3",
   "version": "3.10.12"
  },
  "papermill": {
   "default_parameters": {},
   "duration": 331.99602,
   "end_time": "2025-02-17T08:30:25.482795",
   "environment_variables": {},
   "exception": null,
   "input_path": "__notebook__.ipynb",
   "output_path": "__notebook__.ipynb",
   "parameters": {},
   "start_time": "2025-02-17T08:24:53.486775",
   "version": "2.6.0"
  },
  "widgets": {
   "application/vnd.jupyter.widget-state+json": {
    "state": {
     "0264b43d9ba34cffb8b19e9ce704408b": {
      "model_module": "@jupyter-widgets/controls",
      "model_module_version": "2.0.0",
      "model_name": "HTMLModel",
      "state": {
       "_dom_classes": [],
       "_model_module": "@jupyter-widgets/controls",
       "_model_module_version": "2.0.0",
       "_model_name": "HTMLModel",
       "_view_count": null,
       "_view_module": "@jupyter-widgets/controls",
       "_view_module_version": "2.0.0",
       "_view_name": "HTMLView",
       "description": "",
       "description_allow_html": false,
       "layout": "IPY_MODEL_6dd8d391a85b4d0a8a063c721bdbadd0",
       "placeholder": "​",
       "style": "IPY_MODEL_53cfc89e0b1c4c7091796351b40e076b",
       "tabbable": null,
       "tooltip": null,
       "value": " 350/350 [00:00&lt;00:00, 29.9kB/s]"
      }
     },
     "07fc13aeeea145fa9d1ebefe96d42941": {
      "model_module": "@jupyter-widgets/base",
      "model_module_version": "2.0.0",
      "model_name": "LayoutModel",
      "state": {
       "_model_module": "@jupyter-widgets/base",
       "_model_module_version": "2.0.0",
       "_model_name": "LayoutModel",
       "_view_count": null,
       "_view_module": "@jupyter-widgets/base",
       "_view_module_version": "2.0.0",
       "_view_name": "LayoutView",
       "align_content": null,
       "align_items": null,
       "align_self": null,
       "border_bottom": null,
       "border_left": null,
       "border_right": null,
       "border_top": null,
       "bottom": null,
       "display": null,
       "flex": "2",
       "flex_flow": null,
       "grid_area": null,
       "grid_auto_columns": null,
       "grid_auto_flow": null,
       "grid_auto_rows": null,
       "grid_column": null,
       "grid_gap": null,
       "grid_row": null,
       "grid_template_areas": null,
       "grid_template_columns": null,
       "grid_template_rows": null,
       "height": null,
       "justify_content": null,
       "justify_items": null,
       "left": null,
       "margin": null,
       "max_height": null,
       "max_width": null,
       "min_height": null,
       "min_width": null,
       "object_fit": null,
       "object_position": null,
       "order": null,
       "overflow": null,
       "padding": null,
       "right": null,
       "top": null,
       "visibility": null,
       "width": null
      }
     },
     "08162454fdbc4ce0957722bd14a281ee": {
      "model_module": "@jupyter-widgets/controls",
      "model_module_version": "2.0.0",
      "model_name": "HTMLStyleModel",
      "state": {
       "_model_module": "@jupyter-widgets/controls",
       "_model_module_version": "2.0.0",
       "_model_name": "HTMLStyleModel",
       "_view_count": null,
       "_view_module": "@jupyter-widgets/base",
       "_view_module_version": "2.0.0",
       "_view_name": "StyleView",
       "background": null,
       "description_width": "",
       "font_size": null,
       "text_color": null
      }
     },
     "085cc8bacc604a9583095285030ce2a5": {
      "model_module": "@jupyter-widgets/base",
      "model_module_version": "2.0.0",
      "model_name": "LayoutModel",
      "state": {
       "_model_module": "@jupyter-widgets/base",
       "_model_module_version": "2.0.0",
       "_model_name": "LayoutModel",
       "_view_count": null,
       "_view_module": "@jupyter-widgets/base",
       "_view_module_version": "2.0.0",
       "_view_name": "LayoutView",
       "align_content": null,
       "align_items": null,
       "align_self": null,
       "border_bottom": null,
       "border_left": null,
       "border_right": null,
       "border_top": null,
       "bottom": null,
       "display": null,
       "flex": null,
       "flex_flow": null,
       "grid_area": null,
       "grid_auto_columns": null,
       "grid_auto_flow": null,
       "grid_auto_rows": null,
       "grid_column": null,
       "grid_gap": null,
       "grid_row": null,
       "grid_template_areas": null,
       "grid_template_columns": null,
       "grid_template_rows": null,
       "height": null,
       "justify_content": null,
       "justify_items": null,
       "left": null,
       "margin": null,
       "max_height": null,
       "max_width": null,
       "min_height": null,
       "min_width": null,
       "object_fit": null,
       "object_position": null,
       "order": null,
       "overflow": null,
       "padding": null,
       "right": null,
       "top": null,
       "visibility": null,
       "width": null
      }
     },
     "0ac93402102442789a7c2d3e81e46142": {
      "model_module": "@jupyter-widgets/controls",
      "model_module_version": "2.0.0",
      "model_name": "FloatProgressModel",
      "state": {
       "_dom_classes": [],
       "_model_module": "@jupyter-widgets/controls",
       "_model_module_version": "2.0.0",
       "_model_name": "FloatProgressModel",
       "_view_count": null,
       "_view_module": "@jupyter-widgets/controls",
       "_view_module_version": "2.0.0",
       "_view_name": "ProgressView",
       "bar_style": "success",
       "description": "",
       "description_allow_html": false,
       "layout": "IPY_MODEL_a43c96f93721494baf6fe2c96a8e0494",
       "max": 350.0,
       "min": 0.0,
       "orientation": "horizontal",
       "style": "IPY_MODEL_c485f82346334e969491dd230663e241",
       "tabbable": null,
       "tooltip": null,
       "value": 350.0
      }
     },
     "0bf108a1d95b4fc4b205514ec4e05474": {
      "model_module": "@jupyter-widgets/base",
      "model_module_version": "2.0.0",
      "model_name": "LayoutModel",
      "state": {
       "_model_module": "@jupyter-widgets/base",
       "_model_module_version": "2.0.0",
       "_model_name": "LayoutModel",
       "_view_count": null,
       "_view_module": "@jupyter-widgets/base",
       "_view_module_version": "2.0.0",
       "_view_name": "LayoutView",
       "align_content": null,
       "align_items": null,
       "align_self": null,
       "border_bottom": null,
       "border_left": null,
       "border_right": null,
       "border_top": null,
       "bottom": null,
       "display": null,
       "flex": null,
       "flex_flow": null,
       "grid_area": null,
       "grid_auto_columns": null,
       "grid_auto_flow": null,
       "grid_auto_rows": null,
       "grid_column": null,
       "grid_gap": null,
       "grid_row": null,
       "grid_template_areas": null,
       "grid_template_columns": null,
       "grid_template_rows": null,
       "height": null,
       "justify_content": null,
       "justify_items": null,
       "left": null,
       "margin": null,
       "max_height": null,
       "max_width": null,
       "min_height": null,
       "min_width": null,
       "object_fit": null,
       "object_position": null,
       "order": null,
       "overflow": null,
       "padding": null,
       "right": null,
       "top": null,
       "visibility": null,
       "width": null
      }
     },
     "0c815548a28b4804a6e827a0b8eaa431": {
      "model_module": "@jupyter-widgets/controls",
      "model_module_version": "2.0.0",
      "model_name": "HTMLModel",
      "state": {
       "_dom_classes": [],
       "_model_module": "@jupyter-widgets/controls",
       "_model_module_version": "2.0.0",
       "_model_name": "HTMLModel",
       "_view_count": null,
       "_view_module": "@jupyter-widgets/controls",
       "_view_module_version": "2.0.0",
       "_view_name": "HTMLView",
       "description": "",
       "description_allow_html": false,
       "layout": "IPY_MODEL_28183c457e144be68f7e71230eafb2ae",
       "placeholder": "​",
       "style": "IPY_MODEL_21be1acdc91b423daf9132ec54b6bd18",
       "tabbable": null,
       "tooltip": null,
       "value": " 112/112 [00:00&lt;00:00, 11.6kB/s]"
      }
     },
     "0ca8138aca9544f0b96a2846bac1359d": {
      "model_module": "@jupyter-widgets/controls",
      "model_module_version": "2.0.0",
      "model_name": "HTMLModel",
      "state": {
       "_dom_classes": [],
       "_model_module": "@jupyter-widgets/controls",
       "_model_module_version": "2.0.0",
       "_model_name": "HTMLModel",
       "_view_count": null,
       "_view_module": "@jupyter-widgets/controls",
       "_view_module_version": "2.0.0",
       "_view_name": "HTMLView",
       "description": "",
       "description_allow_html": false,
       "layout": "IPY_MODEL_f9a0f25948354321afab62e7e9225f7c",
       "placeholder": "​",
       "style": "IPY_MODEL_95e7e5e3632649d18541dafc89374be2",
       "tabbable": null,
       "tooltip": null,
       "value": "model.safetensors: 100%"
      }
     },
     "0fba0b6e59bd4c66ae800bf462ea93b9": {
      "model_module": "@jupyter-widgets/base",
      "model_module_version": "2.0.0",
      "model_name": "LayoutModel",
      "state": {
       "_model_module": "@jupyter-widgets/base",
       "_model_module_version": "2.0.0",
       "_model_name": "LayoutModel",
       "_view_count": null,
       "_view_module": "@jupyter-widgets/base",
       "_view_module_version": "2.0.0",
       "_view_name": "LayoutView",
       "align_content": null,
       "align_items": null,
       "align_self": null,
       "border_bottom": null,
       "border_left": null,
       "border_right": null,
       "border_top": null,
       "bottom": null,
       "display": null,
       "flex": null,
       "flex_flow": null,
       "grid_area": null,
       "grid_auto_columns": null,
       "grid_auto_flow": null,
       "grid_auto_rows": null,
       "grid_column": null,
       "grid_gap": null,
       "grid_row": null,
       "grid_template_areas": null,
       "grid_template_columns": null,
       "grid_template_rows": null,
       "height": null,
       "justify_content": null,
       "justify_items": null,
       "left": null,
       "margin": null,
       "max_height": null,
       "max_width": null,
       "min_height": null,
       "min_width": null,
       "object_fit": null,
       "object_position": null,
       "order": null,
       "overflow": null,
       "padding": null,
       "right": null,
       "top": null,
       "visibility": null,
       "width": null
      }
     },
     "0fec543cfb494e84bd87b1ac7fc15d89": {
      "model_module": "@jupyter-widgets/controls",
      "model_module_version": "2.0.0",
      "model_name": "HTMLModel",
      "state": {
       "_dom_classes": [],
       "_model_module": "@jupyter-widgets/controls",
       "_model_module_version": "2.0.0",
       "_model_name": "HTMLModel",
       "_view_count": null,
       "_view_module": "@jupyter-widgets/controls",
       "_view_module_version": "2.0.0",
       "_view_name": "HTMLView",
       "description": "",
       "description_allow_html": false,
       "layout": "IPY_MODEL_f97aef5795a948f0a7b1d4a37aa3aeb4",
       "placeholder": "​",
       "style": "IPY_MODEL_16820b9a3821400fa9b5ed441dfef8d1",
       "tabbable": null,
       "tooltip": null,
       "value": " 1/1 [00:00&lt;00:00, 118.08it/s]"
      }
     },
     "11c247036ff843289304dfd85900d3c0": {
      "model_module": "@jupyter-widgets/base",
      "model_module_version": "2.0.0",
      "model_name": "LayoutModel",
      "state": {
       "_model_module": "@jupyter-widgets/base",
       "_model_module_version": "2.0.0",
       "_model_name": "LayoutModel",
       "_view_count": null,
       "_view_module": "@jupyter-widgets/base",
       "_view_module_version": "2.0.0",
       "_view_name": "LayoutView",
       "align_content": null,
       "align_items": null,
       "align_self": null,
       "border_bottom": null,
       "border_left": null,
       "border_right": null,
       "border_top": null,
       "bottom": null,
       "display": null,
       "flex": null,
       "flex_flow": null,
       "grid_area": null,
       "grid_auto_columns": null,
       "grid_auto_flow": null,
       "grid_auto_rows": null,
       "grid_column": null,
       "grid_gap": null,
       "grid_row": null,
       "grid_template_areas": null,
       "grid_template_columns": null,
       "grid_template_rows": null,
       "height": null,
       "justify_content": null,
       "justify_items": null,
       "left": null,
       "margin": null,
       "max_height": null,
       "max_width": null,
       "min_height": null,
       "min_width": null,
       "object_fit": null,
       "object_position": null,
       "order": null,
       "overflow": null,
       "padding": null,
       "right": null,
       "top": null,
       "visibility": null,
       "width": null
      }
     },
     "14bb6bfd0572401c9bc3f3ad36863d21": {
      "model_module": "@jupyter-widgets/controls",
      "model_module_version": "2.0.0",
      "model_name": "HBoxModel",
      "state": {
       "_dom_classes": [],
       "_model_module": "@jupyter-widgets/controls",
       "_model_module_version": "2.0.0",
       "_model_name": "HBoxModel",
       "_view_count": null,
       "_view_module": "@jupyter-widgets/controls",
       "_view_module_version": "2.0.0",
       "_view_name": "HBoxView",
       "box_style": "",
       "children": [
        "IPY_MODEL_eaa5f9a87a094f69a5f4c08e3b172827",
        "IPY_MODEL_d4fdb814f2094a85b5fa450744516a5b",
        "IPY_MODEL_baf4addb40584eeaa4fd801002178d11"
       ],
       "layout": "IPY_MODEL_a24e897965ea4898ae85ad0913d1af13",
       "tabbable": null,
       "tooltip": null
      }
     },
     "1536237ea1e04260bc32273f3bb1cf83": {
      "model_module": "@jupyter-widgets/controls",
      "model_module_version": "2.0.0",
      "model_name": "ProgressStyleModel",
      "state": {
       "_model_module": "@jupyter-widgets/controls",
       "_model_module_version": "2.0.0",
       "_model_name": "ProgressStyleModel",
       "_view_count": null,
       "_view_module": "@jupyter-widgets/base",
       "_view_module_version": "2.0.0",
       "_view_name": "StyleView",
       "bar_color": null,
       "description_width": ""
      }
     },
     "16820b9a3821400fa9b5ed441dfef8d1": {
      "model_module": "@jupyter-widgets/controls",
      "model_module_version": "2.0.0",
      "model_name": "HTMLStyleModel",
      "state": {
       "_model_module": "@jupyter-widgets/controls",
       "_model_module_version": "2.0.0",
       "_model_name": "HTMLStyleModel",
       "_view_count": null,
       "_view_module": "@jupyter-widgets/base",
       "_view_module_version": "2.0.0",
       "_view_name": "StyleView",
       "background": null,
       "description_width": "",
       "font_size": null,
       "text_color": null
      }
     },
     "185693c85ec649e2b13fd478cfe2cbbc": {
      "model_module": "@jupyter-widgets/base",
      "model_module_version": "2.0.0",
      "model_name": "LayoutModel",
      "state": {
       "_model_module": "@jupyter-widgets/base",
       "_model_module_version": "2.0.0",
       "_model_name": "LayoutModel",
       "_view_count": null,
       "_view_module": "@jupyter-widgets/base",
       "_view_module_version": "2.0.0",
       "_view_name": "LayoutView",
       "align_content": null,
       "align_items": null,
       "align_self": null,
       "border_bottom": null,
       "border_left": null,
       "border_right": null,
       "border_top": null,
       "bottom": null,
       "display": null,
       "flex": null,
       "flex_flow": null,
       "grid_area": null,
       "grid_auto_columns": null,
       "grid_auto_flow": null,
       "grid_auto_rows": null,
       "grid_column": null,
       "grid_gap": null,
       "grid_row": null,
       "grid_template_areas": null,
       "grid_template_columns": null,
       "grid_template_rows": null,
       "height": null,
       "justify_content": null,
       "justify_items": null,
       "left": null,
       "margin": null,
       "max_height": null,
       "max_width": null,
       "min_height": null,
       "min_width": null,
       "object_fit": null,
       "object_position": null,
       "order": null,
       "overflow": null,
       "padding": null,
       "right": null,
       "top": null,
       "visibility": null,
       "width": null
      }
     },
     "21be1acdc91b423daf9132ec54b6bd18": {
      "model_module": "@jupyter-widgets/controls",
      "model_module_version": "2.0.0",
      "model_name": "HTMLStyleModel",
      "state": {
       "_model_module": "@jupyter-widgets/controls",
       "_model_module_version": "2.0.0",
       "_model_name": "HTMLStyleModel",
       "_view_count": null,
       "_view_module": "@jupyter-widgets/base",
       "_view_module_version": "2.0.0",
       "_view_name": "StyleView",
       "background": null,
       "description_width": "",
       "font_size": null,
       "text_color": null
      }
     },
     "220703689d934eeb96cad2729e157cf4": {
      "model_module": "@jupyter-widgets/controls",
      "model_module_version": "2.0.0",
      "model_name": "FloatProgressModel",
      "state": {
       "_dom_classes": [],
       "_model_module": "@jupyter-widgets/controls",
       "_model_module_version": "2.0.0",
       "_model_name": "FloatProgressModel",
       "_view_count": null,
       "_view_module": "@jupyter-widgets/controls",
       "_view_module_version": "2.0.0",
       "_view_name": "ProgressView",
       "bar_style": "success",
       "description": "",
       "description_allow_html": false,
       "layout": "IPY_MODEL_07fc13aeeea145fa9d1ebefe96d42941",
       "max": 1.0,
       "min": 0.0,
       "orientation": "horizontal",
       "style": "IPY_MODEL_23907ae336cd4e46a38a551fb1781db7",
       "tabbable": null,
       "tooltip": null,
       "value": 1.0
      }
     },
     "22d7e3185d284221a69b90caa3bf758f": {
      "model_module": "@jupyter-widgets/base",
      "model_module_version": "2.0.0",
      "model_name": "LayoutModel",
      "state": {
       "_model_module": "@jupyter-widgets/base",
       "_model_module_version": "2.0.0",
       "_model_name": "LayoutModel",
       "_view_count": null,
       "_view_module": "@jupyter-widgets/base",
       "_view_module_version": "2.0.0",
       "_view_name": "LayoutView",
       "align_content": null,
       "align_items": null,
       "align_self": null,
       "border_bottom": null,
       "border_left": null,
       "border_right": null,
       "border_top": null,
       "bottom": null,
       "display": null,
       "flex": null,
       "flex_flow": null,
       "grid_area": null,
       "grid_auto_columns": null,
       "grid_auto_flow": null,
       "grid_auto_rows": null,
       "grid_column": null,
       "grid_gap": null,
       "grid_row": null,
       "grid_template_areas": null,
       "grid_template_columns": null,
       "grid_template_rows": null,
       "height": null,
       "justify_content": null,
       "justify_items": null,
       "left": null,
       "margin": null,
       "max_height": null,
       "max_width": null,
       "min_height": null,
       "min_width": null,
       "object_fit": null,
       "object_position": null,
       "order": null,
       "overflow": null,
       "padding": null,
       "right": null,
       "top": null,
       "visibility": null,
       "width": null
      }
     },
     "23907ae336cd4e46a38a551fb1781db7": {
      "model_module": "@jupyter-widgets/controls",
      "model_module_version": "2.0.0",
      "model_name": "ProgressStyleModel",
      "state": {
       "_model_module": "@jupyter-widgets/controls",
       "_model_module_version": "2.0.0",
       "_model_name": "ProgressStyleModel",
       "_view_count": null,
       "_view_module": "@jupyter-widgets/base",
       "_view_module_version": "2.0.0",
       "_view_name": "StyleView",
       "bar_color": null,
       "description_width": ""
      }
     },
     "26320c71b6e44f1aaabd88fbc4417647": {
      "model_module": "@jupyter-widgets/controls",
      "model_module_version": "2.0.0",
      "model_name": "HBoxModel",
      "state": {
       "_dom_classes": [],
       "_model_module": "@jupyter-widgets/controls",
       "_model_module_version": "2.0.0",
       "_model_name": "HBoxModel",
       "_view_count": null,
       "_view_module": "@jupyter-widgets/controls",
       "_view_module_version": "2.0.0",
       "_view_name": "HBoxView",
       "box_style": "",
       "children": [
        "IPY_MODEL_9710a32223ca41e695c2c10fecfeaafb",
        "IPY_MODEL_c73eb82e10484566ba2410afc35f7517",
        "IPY_MODEL_50c59b2e8afc4b1cbac8b23ec83f034f"
       ],
       "layout": "IPY_MODEL_0bf108a1d95b4fc4b205514ec4e05474",
       "tabbable": null,
       "tooltip": null
      }
     },
     "26a1f32e840a4ab38eec7a06b6af516b": {
      "model_module": "@jupyter-widgets/controls",
      "model_module_version": "2.0.0",
      "model_name": "ProgressStyleModel",
      "state": {
       "_model_module": "@jupyter-widgets/controls",
       "_model_module_version": "2.0.0",
       "_model_name": "ProgressStyleModel",
       "_view_count": null,
       "_view_module": "@jupyter-widgets/base",
       "_view_module_version": "2.0.0",
       "_view_name": "StyleView",
       "bar_color": null,
       "description_width": ""
      }
     },
     "28183c457e144be68f7e71230eafb2ae": {
      "model_module": "@jupyter-widgets/base",
      "model_module_version": "2.0.0",
      "model_name": "LayoutModel",
      "state": {
       "_model_module": "@jupyter-widgets/base",
       "_model_module_version": "2.0.0",
       "_model_name": "LayoutModel",
       "_view_count": null,
       "_view_module": "@jupyter-widgets/base",
       "_view_module_version": "2.0.0",
       "_view_name": "LayoutView",
       "align_content": null,
       "align_items": null,
       "align_self": null,
       "border_bottom": null,
       "border_left": null,
       "border_right": null,
       "border_top": null,
       "bottom": null,
       "display": null,
       "flex": null,
       "flex_flow": null,
       "grid_area": null,
       "grid_auto_columns": null,
       "grid_auto_flow": null,
       "grid_auto_rows": null,
       "grid_column": null,
       "grid_gap": null,
       "grid_row": null,
       "grid_template_areas": null,
       "grid_template_columns": null,
       "grid_template_rows": null,
       "height": null,
       "justify_content": null,
       "justify_items": null,
       "left": null,
       "margin": null,
       "max_height": null,
       "max_width": null,
       "min_height": null,
       "min_width": null,
       "object_fit": null,
       "object_position": null,
       "order": null,
       "overflow": null,
       "padding": null,
       "right": null,
       "top": null,
       "visibility": null,
       "width": null
      }
     },
     "2b2c5d7f21194762a6b6f3328d285974": {
      "model_module": "@jupyter-widgets/controls",
      "model_module_version": "2.0.0",
      "model_name": "HTMLStyleModel",
      "state": {
       "_model_module": "@jupyter-widgets/controls",
       "_model_module_version": "2.0.0",
       "_model_name": "HTMLStyleModel",
       "_view_count": null,
       "_view_module": "@jupyter-widgets/base",
       "_view_module_version": "2.0.0",
       "_view_name": "StyleView",
       "background": null,
       "description_width": "",
       "font_size": null,
       "text_color": null
      }
     },
     "2c919bfdaed54033a075df38df119e8c": {
      "model_module": "@jupyter-widgets/controls",
      "model_module_version": "2.0.0",
      "model_name": "HTMLModel",
      "state": {
       "_dom_classes": [],
       "_model_module": "@jupyter-widgets/controls",
       "_model_module_version": "2.0.0",
       "_model_name": "HTMLModel",
       "_view_count": null,
       "_view_module": "@jupyter-widgets/controls",
       "_view_module_version": "2.0.0",
       "_view_name": "HTMLView",
       "description": "",
       "description_allow_html": false,
       "layout": "IPY_MODEL_b575e9d495ff4516a0e19bb3eda9e875",
       "placeholder": "​",
       "style": "IPY_MODEL_5be9df7a83bb4f24a913c4606cecce71",
       "tabbable": null,
       "tooltip": null,
       "value": " 612/612 [00:00&lt;00:00, 64.8kB/s]"
      }
     },
     "2f1b49678b8b48949182418e50138d5a": {
      "model_module": "@jupyter-widgets/controls",
      "model_module_version": "2.0.0",
      "model_name": "HTMLStyleModel",
      "state": {
       "_model_module": "@jupyter-widgets/controls",
       "_model_module_version": "2.0.0",
       "_model_name": "HTMLStyleModel",
       "_view_count": null,
       "_view_module": "@jupyter-widgets/base",
       "_view_module_version": "2.0.0",
       "_view_name": "StyleView",
       "background": null,
       "description_width": "",
       "font_size": null,
       "text_color": null
      }
     },
     "3067623016064aba94213ec3c4dd5a00": {
      "model_module": "@jupyter-widgets/base",
      "model_module_version": "2.0.0",
      "model_name": "LayoutModel",
      "state": {
       "_model_module": "@jupyter-widgets/base",
       "_model_module_version": "2.0.0",
       "_model_name": "LayoutModel",
       "_view_count": null,
       "_view_module": "@jupyter-widgets/base",
       "_view_module_version": "2.0.0",
       "_view_name": "LayoutView",
       "align_content": null,
       "align_items": null,
       "align_self": null,
       "border_bottom": null,
       "border_left": null,
       "border_right": null,
       "border_top": null,
       "bottom": null,
       "display": null,
       "flex": null,
       "flex_flow": null,
       "grid_area": null,
       "grid_auto_columns": null,
       "grid_auto_flow": null,
       "grid_auto_rows": null,
       "grid_column": null,
       "grid_gap": null,
       "grid_row": null,
       "grid_template_areas": null,
       "grid_template_columns": null,
       "grid_template_rows": null,
       "height": null,
       "justify_content": null,
       "justify_items": null,
       "left": null,
       "margin": null,
       "max_height": null,
       "max_width": null,
       "min_height": null,
       "min_width": null,
       "object_fit": null,
       "object_position": null,
       "order": null,
       "overflow": null,
       "padding": null,
       "right": null,
       "top": null,
       "visibility": null,
       "width": null
      }
     },
     "3069815399f6490b98058f95063b05a2": {
      "model_module": "@jupyter-widgets/base",
      "model_module_version": "2.0.0",
      "model_name": "LayoutModel",
      "state": {
       "_model_module": "@jupyter-widgets/base",
       "_model_module_version": "2.0.0",
       "_model_name": "LayoutModel",
       "_view_count": null,
       "_view_module": "@jupyter-widgets/base",
       "_view_module_version": "2.0.0",
       "_view_name": "LayoutView",
       "align_content": null,
       "align_items": null,
       "align_self": null,
       "border_bottom": null,
       "border_left": null,
       "border_right": null,
       "border_top": null,
       "bottom": null,
       "display": null,
       "flex": null,
       "flex_flow": null,
       "grid_area": null,
       "grid_auto_columns": null,
       "grid_auto_flow": null,
       "grid_auto_rows": null,
       "grid_column": null,
       "grid_gap": null,
       "grid_row": null,
       "grid_template_areas": null,
       "grid_template_columns": null,
       "grid_template_rows": null,
       "height": null,
       "justify_content": null,
       "justify_items": null,
       "left": null,
       "margin": null,
       "max_height": null,
       "max_width": null,
       "min_height": null,
       "min_width": null,
       "object_fit": null,
       "object_position": null,
       "order": null,
       "overflow": null,
       "padding": null,
       "right": null,
       "top": null,
       "visibility": null,
       "width": null
      }
     },
     "34ca825dbfe84335a3233321b7c270d5": {
      "model_module": "@jupyter-widgets/base",
      "model_module_version": "2.0.0",
      "model_name": "LayoutModel",
      "state": {
       "_model_module": "@jupyter-widgets/base",
       "_model_module_version": "2.0.0",
       "_model_name": "LayoutModel",
       "_view_count": null,
       "_view_module": "@jupyter-widgets/base",
       "_view_module_version": "2.0.0",
       "_view_name": "LayoutView",
       "align_content": null,
       "align_items": null,
       "align_self": null,
       "border_bottom": null,
       "border_left": null,
       "border_right": null,
       "border_top": null,
       "bottom": null,
       "display": null,
       "flex": null,
       "flex_flow": null,
       "grid_area": null,
       "grid_auto_columns": null,
       "grid_auto_flow": null,
       "grid_auto_rows": null,
       "grid_column": null,
       "grid_gap": null,
       "grid_row": null,
       "grid_template_areas": null,
       "grid_template_columns": null,
       "grid_template_rows": null,
       "height": null,
       "justify_content": null,
       "justify_items": null,
       "left": null,
       "margin": null,
       "max_height": null,
       "max_width": null,
       "min_height": null,
       "min_width": null,
       "object_fit": null,
       "object_position": null,
       "order": null,
       "overflow": null,
       "padding": null,
       "right": null,
       "top": null,
       "visibility": null,
       "width": null
      }
     },
     "35bd2c73e73d44e2ac62577efb12595c": {
      "model_module": "@jupyter-widgets/base",
      "model_module_version": "2.0.0",
      "model_name": "LayoutModel",
      "state": {
       "_model_module": "@jupyter-widgets/base",
       "_model_module_version": "2.0.0",
       "_model_name": "LayoutModel",
       "_view_count": null,
       "_view_module": "@jupyter-widgets/base",
       "_view_module_version": "2.0.0",
       "_view_name": "LayoutView",
       "align_content": null,
       "align_items": null,
       "align_self": null,
       "border_bottom": null,
       "border_left": null,
       "border_right": null,
       "border_top": null,
       "bottom": null,
       "display": "inline-flex",
       "flex": null,
       "flex_flow": "row wrap",
       "grid_area": null,
       "grid_auto_columns": null,
       "grid_auto_flow": null,
       "grid_auto_rows": null,
       "grid_column": null,
       "grid_gap": null,
       "grid_row": null,
       "grid_template_areas": null,
       "grid_template_columns": null,
       "grid_template_rows": null,
       "height": null,
       "justify_content": null,
       "justify_items": null,
       "left": null,
       "margin": null,
       "max_height": null,
       "max_width": null,
       "min_height": null,
       "min_width": null,
       "object_fit": null,
       "object_position": null,
       "order": null,
       "overflow": null,
       "padding": null,
       "right": null,
       "top": null,
       "visibility": null,
       "width": "100%"
      }
     },
     "381dcde4433942d8b2c44231eaaa0b5d": {
      "model_module": "@jupyter-widgets/controls",
      "model_module_version": "2.0.0",
      "model_name": "HTMLModel",
      "state": {
       "_dom_classes": [],
       "_model_module": "@jupyter-widgets/controls",
       "_model_module_version": "2.0.0",
       "_model_name": "HTMLModel",
       "_view_count": null,
       "_view_module": "@jupyter-widgets/controls",
       "_view_module_version": "2.0.0",
       "_view_name": "HTMLView",
       "description": "",
       "description_allow_html": false,
       "layout": "IPY_MODEL_4660d7ee4c384393936371a186ca0b61",
       "placeholder": "​",
       "style": "IPY_MODEL_3a7c930dd1dc4d309d39a236b4dd6327",
       "tabbable": null,
       "tooltip": null,
       "value": "vocab.txt: 100%"
      }
     },
     "3a51a43bd17d442481a695e659390f9e": {
      "model_module": "@jupyter-widgets/controls",
      "model_module_version": "2.0.0",
      "model_name": "HTMLModel",
      "state": {
       "_dom_classes": [],
       "_model_module": "@jupyter-widgets/controls",
       "_model_module_version": "2.0.0",
       "_model_name": "HTMLModel",
       "_view_count": null,
       "_view_module": "@jupyter-widgets/controls",
       "_view_module_version": "2.0.0",
       "_view_name": "HTMLView",
       "description": "",
       "description_allow_html": false,
       "layout": "IPY_MODEL_a8200249c2bc4d7a8b9f501451ce0436",
       "placeholder": "​",
       "style": "IPY_MODEL_2b2c5d7f21194762a6b6f3328d285974",
       "tabbable": null,
       "tooltip": null,
       "value": "Predicting DataLoader 0: 100%"
      }
     },
     "3a7c930dd1dc4d309d39a236b4dd6327": {
      "model_module": "@jupyter-widgets/controls",
      "model_module_version": "2.0.0",
      "model_name": "HTMLStyleModel",
      "state": {
       "_model_module": "@jupyter-widgets/controls",
       "_model_module_version": "2.0.0",
       "_model_name": "HTMLStyleModel",
       "_view_count": null,
       "_view_module": "@jupyter-widgets/base",
       "_view_module_version": "2.0.0",
       "_view_name": "StyleView",
       "background": null,
       "description_width": "",
       "font_size": null,
       "text_color": null
      }
     },
     "3b510863b03d4f6687acd76684e6b501": {
      "model_module": "@jupyter-widgets/controls",
      "model_module_version": "2.0.0",
      "model_name": "HTMLStyleModel",
      "state": {
       "_model_module": "@jupyter-widgets/controls",
       "_model_module_version": "2.0.0",
       "_model_name": "HTMLStyleModel",
       "_view_count": null,
       "_view_module": "@jupyter-widgets/base",
       "_view_module_version": "2.0.0",
       "_view_name": "StyleView",
       "background": null,
       "description_width": "",
       "font_size": null,
       "text_color": null
      }
     },
     "42a02c65beec4aeda1f434440fcf53ae": {
      "model_module": "@jupyter-widgets/controls",
      "model_module_version": "2.0.0",
      "model_name": "HTMLStyleModel",
      "state": {
       "_model_module": "@jupyter-widgets/controls",
       "_model_module_version": "2.0.0",
       "_model_name": "HTMLStyleModel",
       "_view_count": null,
       "_view_module": "@jupyter-widgets/base",
       "_view_module_version": "2.0.0",
       "_view_name": "StyleView",
       "background": null,
       "description_width": "",
       "font_size": null,
       "text_color": null
      }
     },
     "44bc1f92cb524a11aaa0c7a5e0d41b48": {
      "model_module": "@jupyter-widgets/base",
      "model_module_version": "2.0.0",
      "model_name": "LayoutModel",
      "state": {
       "_model_module": "@jupyter-widgets/base",
       "_model_module_version": "2.0.0",
       "_model_name": "LayoutModel",
       "_view_count": null,
       "_view_module": "@jupyter-widgets/base",
       "_view_module_version": "2.0.0",
       "_view_name": "LayoutView",
       "align_content": null,
       "align_items": null,
       "align_self": null,
       "border_bottom": null,
       "border_left": null,
       "border_right": null,
       "border_top": null,
       "bottom": null,
       "display": null,
       "flex": null,
       "flex_flow": null,
       "grid_area": null,
       "grid_auto_columns": null,
       "grid_auto_flow": null,
       "grid_auto_rows": null,
       "grid_column": null,
       "grid_gap": null,
       "grid_row": null,
       "grid_template_areas": null,
       "grid_template_columns": null,
       "grid_template_rows": null,
       "height": null,
       "justify_content": null,
       "justify_items": null,
       "left": null,
       "margin": null,
       "max_height": null,
       "max_width": null,
       "min_height": null,
       "min_width": null,
       "object_fit": null,
       "object_position": null,
       "order": null,
       "overflow": null,
       "padding": null,
       "right": null,
       "top": null,
       "visibility": null,
       "width": null
      }
     },
     "4660d7ee4c384393936371a186ca0b61": {
      "model_module": "@jupyter-widgets/base",
      "model_module_version": "2.0.0",
      "model_name": "LayoutModel",
      "state": {
       "_model_module": "@jupyter-widgets/base",
       "_model_module_version": "2.0.0",
       "_model_name": "LayoutModel",
       "_view_count": null,
       "_view_module": "@jupyter-widgets/base",
       "_view_module_version": "2.0.0",
       "_view_name": "LayoutView",
       "align_content": null,
       "align_items": null,
       "align_self": null,
       "border_bottom": null,
       "border_left": null,
       "border_right": null,
       "border_top": null,
       "bottom": null,
       "display": null,
       "flex": null,
       "flex_flow": null,
       "grid_area": null,
       "grid_auto_columns": null,
       "grid_auto_flow": null,
       "grid_auto_rows": null,
       "grid_column": null,
       "grid_gap": null,
       "grid_row": null,
       "grid_template_areas": null,
       "grid_template_columns": null,
       "grid_template_rows": null,
       "height": null,
       "justify_content": null,
       "justify_items": null,
       "left": null,
       "margin": null,
       "max_height": null,
       "max_width": null,
       "min_height": null,
       "min_width": null,
       "object_fit": null,
       "object_position": null,
       "order": null,
       "overflow": null,
       "padding": null,
       "right": null,
       "top": null,
       "visibility": null,
       "width": null
      }
     },
     "47c21c4ecae34caaac9830b9f29e2173": {
      "model_module": "@jupyter-widgets/controls",
      "model_module_version": "2.0.0",
      "model_name": "HTMLModel",
      "state": {
       "_dom_classes": [],
       "_model_module": "@jupyter-widgets/controls",
       "_model_module_version": "2.0.0",
       "_model_name": "HTMLModel",
       "_view_count": null,
       "_view_module": "@jupyter-widgets/controls",
       "_view_module_version": "2.0.0",
       "_view_name": "HTMLView",
       "description": "",
       "description_allow_html": false,
       "layout": "IPY_MODEL_d7ff3da0bc1a415a9f51406907e05453",
       "placeholder": "​",
       "style": "IPY_MODEL_fd0cc0174e494c26a1009f94f701185e",
       "tabbable": null,
       "tooltip": null,
       "value": " 232k/232k [00:00&lt;00:00, 5.11MB/s]"
      }
     },
     "48a34172c81246dfaeb9bfd452a51c22": {
      "model_module": "@jupyter-widgets/controls",
      "model_module_version": "2.0.0",
      "model_name": "ProgressStyleModel",
      "state": {
       "_model_module": "@jupyter-widgets/controls",
       "_model_module_version": "2.0.0",
       "_model_name": "ProgressStyleModel",
       "_view_count": null,
       "_view_module": "@jupyter-widgets/base",
       "_view_module_version": "2.0.0",
       "_view_name": "StyleView",
       "bar_color": null,
       "description_width": ""
      }
     },
     "4b8f9a1f915644af94e4b84a70bd9a98": {
      "model_module": "@jupyter-widgets/base",
      "model_module_version": "2.0.0",
      "model_name": "LayoutModel",
      "state": {
       "_model_module": "@jupyter-widgets/base",
       "_model_module_version": "2.0.0",
       "_model_name": "LayoutModel",
       "_view_count": null,
       "_view_module": "@jupyter-widgets/base",
       "_view_module_version": "2.0.0",
       "_view_name": "LayoutView",
       "align_content": null,
       "align_items": null,
       "align_self": null,
       "border_bottom": null,
       "border_left": null,
       "border_right": null,
       "border_top": null,
       "bottom": null,
       "display": null,
       "flex": null,
       "flex_flow": null,
       "grid_area": null,
       "grid_auto_columns": null,
       "grid_auto_flow": null,
       "grid_auto_rows": null,
       "grid_column": null,
       "grid_gap": null,
       "grid_row": null,
       "grid_template_areas": null,
       "grid_template_columns": null,
       "grid_template_rows": null,
       "height": null,
       "justify_content": null,
       "justify_items": null,
       "left": null,
       "margin": null,
       "max_height": null,
       "max_width": null,
       "min_height": null,
       "min_width": null,
       "object_fit": null,
       "object_position": null,
       "order": null,
       "overflow": null,
       "padding": null,
       "right": null,
       "top": null,
       "visibility": null,
       "width": null
      }
     },
     "4d77574b34e74ba891e5736e6002d691": {
      "model_module": "@jupyter-widgets/controls",
      "model_module_version": "2.0.0",
      "model_name": "HBoxModel",
      "state": {
       "_dom_classes": [],
       "_model_module": "@jupyter-widgets/controls",
       "_model_module_version": "2.0.0",
       "_model_name": "HBoxModel",
       "_view_count": null,
       "_view_module": "@jupyter-widgets/controls",
       "_view_module_version": "2.0.0",
       "_view_name": "HBoxView",
       "box_style": "",
       "children": [
        "IPY_MODEL_381dcde4433942d8b2c44231eaaa0b5d",
        "IPY_MODEL_7f62a7d0398e43b9aa11068fdc950183",
        "IPY_MODEL_47c21c4ecae34caaac9830b9f29e2173"
       ],
       "layout": "IPY_MODEL_185693c85ec649e2b13fd478cfe2cbbc",
       "tabbable": null,
       "tooltip": null
      }
     },
     "50c59b2e8afc4b1cbac8b23ec83f034f": {
      "model_module": "@jupyter-widgets/controls",
      "model_module_version": "2.0.0",
      "model_name": "HTMLModel",
      "state": {
       "_dom_classes": [],
       "_model_module": "@jupyter-widgets/controls",
       "_model_module_version": "2.0.0",
       "_model_name": "HTMLModel",
       "_view_count": null,
       "_view_module": "@jupyter-widgets/controls",
       "_view_module_version": "2.0.0",
       "_view_name": "HTMLView",
       "description": "",
       "description_allow_html": false,
       "layout": "IPY_MODEL_511d58cf53404b26b4a02970e3b9d170",
       "placeholder": "​",
       "style": "IPY_MODEL_e316148527b04a90903a7dc8513ba2bb",
       "tabbable": null,
       "tooltip": null,
       "value": " 466k/466k [00:00&lt;00:00, 13.6MB/s]"
      }
     },
     "511d58cf53404b26b4a02970e3b9d170": {
      "model_module": "@jupyter-widgets/base",
      "model_module_version": "2.0.0",
      "model_name": "LayoutModel",
      "state": {
       "_model_module": "@jupyter-widgets/base",
       "_model_module_version": "2.0.0",
       "_model_name": "LayoutModel",
       "_view_count": null,
       "_view_module": "@jupyter-widgets/base",
       "_view_module_version": "2.0.0",
       "_view_name": "LayoutView",
       "align_content": null,
       "align_items": null,
       "align_self": null,
       "border_bottom": null,
       "border_left": null,
       "border_right": null,
       "border_top": null,
       "bottom": null,
       "display": null,
       "flex": null,
       "flex_flow": null,
       "grid_area": null,
       "grid_auto_columns": null,
       "grid_auto_flow": null,
       "grid_auto_rows": null,
       "grid_column": null,
       "grid_gap": null,
       "grid_row": null,
       "grid_template_areas": null,
       "grid_template_columns": null,
       "grid_template_rows": null,
       "height": null,
       "justify_content": null,
       "justify_items": null,
       "left": null,
       "margin": null,
       "max_height": null,
       "max_width": null,
       "min_height": null,
       "min_width": null,
       "object_fit": null,
       "object_position": null,
       "order": null,
       "overflow": null,
       "padding": null,
       "right": null,
       "top": null,
       "visibility": null,
       "width": null
      }
     },
     "53cfc89e0b1c4c7091796351b40e076b": {
      "model_module": "@jupyter-widgets/controls",
      "model_module_version": "2.0.0",
      "model_name": "HTMLStyleModel",
      "state": {
       "_model_module": "@jupyter-widgets/controls",
       "_model_module_version": "2.0.0",
       "_model_name": "HTMLStyleModel",
       "_view_count": null,
       "_view_module": "@jupyter-widgets/base",
       "_view_module_version": "2.0.0",
       "_view_name": "StyleView",
       "background": null,
       "description_width": "",
       "font_size": null,
       "text_color": null
      }
     },
     "5846314fe90f40e29f3eefefeb5eb6bb": {
      "model_module": "@jupyter-widgets/controls",
      "model_module_version": "2.0.0",
      "model_name": "ProgressStyleModel",
      "state": {
       "_model_module": "@jupyter-widgets/controls",
       "_model_module_version": "2.0.0",
       "_model_name": "ProgressStyleModel",
       "_view_count": null,
       "_view_module": "@jupyter-widgets/base",
       "_view_module_version": "2.0.0",
       "_view_name": "StyleView",
       "bar_color": null,
       "description_width": ""
      }
     },
     "5be35b8248f147398e179e2ab7a8e2f4": {
      "model_module": "@jupyter-widgets/controls",
      "model_module_version": "2.0.0",
      "model_name": "FloatProgressModel",
      "state": {
       "_dom_classes": [],
       "_model_module": "@jupyter-widgets/controls",
       "_model_module_version": "2.0.0",
       "_model_name": "FloatProgressModel",
       "_view_count": null,
       "_view_module": "@jupyter-widgets/controls",
       "_view_module_version": "2.0.0",
       "_view_name": "ProgressView",
       "bar_style": "success",
       "description": "",
       "description_allow_html": false,
       "layout": "IPY_MODEL_a42d84e529ee44c580ad3ea13f159e30",
       "max": 112.0,
       "min": 0.0,
       "orientation": "horizontal",
       "style": "IPY_MODEL_e13903c5b00b4a3295a117d478b1215f",
       "tabbable": null,
       "tooltip": null,
       "value": 112.0
      }
     },
     "5be9df7a83bb4f24a913c4606cecce71": {
      "model_module": "@jupyter-widgets/controls",
      "model_module_version": "2.0.0",
      "model_name": "HTMLStyleModel",
      "state": {
       "_model_module": "@jupyter-widgets/controls",
       "_model_module_version": "2.0.0",
       "_model_name": "HTMLStyleModel",
       "_view_count": null,
       "_view_module": "@jupyter-widgets/base",
       "_view_module_version": "2.0.0",
       "_view_name": "StyleView",
       "background": null,
       "description_width": "",
       "font_size": null,
       "text_color": null
      }
     },
     "5c3afa46f53a416ea3a2cca56c4d24bf": {
      "model_module": "@jupyter-widgets/base",
      "model_module_version": "2.0.0",
      "model_name": "LayoutModel",
      "state": {
       "_model_module": "@jupyter-widgets/base",
       "_model_module_version": "2.0.0",
       "_model_name": "LayoutModel",
       "_view_count": null,
       "_view_module": "@jupyter-widgets/base",
       "_view_module_version": "2.0.0",
       "_view_name": "LayoutView",
       "align_content": null,
       "align_items": null,
       "align_self": null,
       "border_bottom": null,
       "border_left": null,
       "border_right": null,
       "border_top": null,
       "bottom": null,
       "display": null,
       "flex": "2",
       "flex_flow": null,
       "grid_area": null,
       "grid_auto_columns": null,
       "grid_auto_flow": null,
       "grid_auto_rows": null,
       "grid_column": null,
       "grid_gap": null,
       "grid_row": null,
       "grid_template_areas": null,
       "grid_template_columns": null,
       "grid_template_rows": null,
       "height": null,
       "justify_content": null,
       "justify_items": null,
       "left": null,
       "margin": null,
       "max_height": null,
       "max_width": null,
       "min_height": null,
       "min_width": null,
       "object_fit": null,
       "object_position": null,
       "order": null,
       "overflow": null,
       "padding": null,
       "right": null,
       "top": null,
       "visibility": null,
       "width": null
      }
     },
     "6115ac1073c649f5b748d23adcfd41df": {
      "model_module": "@jupyter-widgets/base",
      "model_module_version": "2.0.0",
      "model_name": "LayoutModel",
      "state": {
       "_model_module": "@jupyter-widgets/base",
       "_model_module_version": "2.0.0",
       "_model_name": "LayoutModel",
       "_view_count": null,
       "_view_module": "@jupyter-widgets/base",
       "_view_module_version": "2.0.0",
       "_view_name": "LayoutView",
       "align_content": null,
       "align_items": null,
       "align_self": null,
       "border_bottom": null,
       "border_left": null,
       "border_right": null,
       "border_top": null,
       "bottom": null,
       "display": null,
       "flex": null,
       "flex_flow": null,
       "grid_area": null,
       "grid_auto_columns": null,
       "grid_auto_flow": null,
       "grid_auto_rows": null,
       "grid_column": null,
       "grid_gap": null,
       "grid_row": null,
       "grid_template_areas": null,
       "grid_template_columns": null,
       "grid_template_rows": null,
       "height": null,
       "justify_content": null,
       "justify_items": null,
       "left": null,
       "margin": null,
       "max_height": null,
       "max_width": null,
       "min_height": null,
       "min_width": null,
       "object_fit": null,
       "object_position": null,
       "order": null,
       "overflow": null,
       "padding": null,
       "right": null,
       "top": null,
       "visibility": null,
       "width": null
      }
     },
     "6412fcd30b5b4c94ac3ccc9c842904c1": {
      "model_module": "@jupyter-widgets/controls",
      "model_module_version": "2.0.0",
      "model_name": "HTMLModel",
      "state": {
       "_dom_classes": [],
       "_model_module": "@jupyter-widgets/controls",
       "_model_module_version": "2.0.0",
       "_model_name": "HTMLModel",
       "_view_count": null,
       "_view_module": "@jupyter-widgets/controls",
       "_view_module_version": "2.0.0",
       "_view_name": "HTMLView",
       "description": "",
       "description_allow_html": false,
       "layout": "IPY_MODEL_0fba0b6e59bd4c66ae800bf462ea93b9",
       "placeholder": "​",
       "style": "IPY_MODEL_3b510863b03d4f6687acd76684e6b501",
       "tabbable": null,
       "tooltip": null,
       "value": "Predicting DataLoader 0: 100%"
      }
     },
     "646cf2a9200845619a038f61f39d976e": {
      "model_module": "@jupyter-widgets/base",
      "model_module_version": "2.0.0",
      "model_name": "LayoutModel",
      "state": {
       "_model_module": "@jupyter-widgets/base",
       "_model_module_version": "2.0.0",
       "_model_name": "LayoutModel",
       "_view_count": null,
       "_view_module": "@jupyter-widgets/base",
       "_view_module_version": "2.0.0",
       "_view_name": "LayoutView",
       "align_content": null,
       "align_items": null,
       "align_self": null,
       "border_bottom": null,
       "border_left": null,
       "border_right": null,
       "border_top": null,
       "bottom": null,
       "display": "inline-flex",
       "flex": null,
       "flex_flow": "row wrap",
       "grid_area": null,
       "grid_auto_columns": null,
       "grid_auto_flow": null,
       "grid_auto_rows": null,
       "grid_column": null,
       "grid_gap": null,
       "grid_row": null,
       "grid_template_areas": null,
       "grid_template_columns": null,
       "grid_template_rows": null,
       "height": null,
       "justify_content": null,
       "justify_items": null,
       "left": null,
       "margin": null,
       "max_height": null,
       "max_width": null,
       "min_height": null,
       "min_width": null,
       "object_fit": null,
       "object_position": null,
       "order": null,
       "overflow": null,
       "padding": null,
       "right": null,
       "top": null,
       "visibility": null,
       "width": "100%"
      }
     },
     "68abbd6f8dee4682a262e13f3d989507": {
      "model_module": "@jupyter-widgets/base",
      "model_module_version": "2.0.0",
      "model_name": "LayoutModel",
      "state": {
       "_model_module": "@jupyter-widgets/base",
       "_model_module_version": "2.0.0",
       "_model_name": "LayoutModel",
       "_view_count": null,
       "_view_module": "@jupyter-widgets/base",
       "_view_module_version": "2.0.0",
       "_view_name": "LayoutView",
       "align_content": null,
       "align_items": null,
       "align_self": null,
       "border_bottom": null,
       "border_left": null,
       "border_right": null,
       "border_top": null,
       "bottom": null,
       "display": null,
       "flex": "2",
       "flex_flow": null,
       "grid_area": null,
       "grid_auto_columns": null,
       "grid_auto_flow": null,
       "grid_auto_rows": null,
       "grid_column": null,
       "grid_gap": null,
       "grid_row": null,
       "grid_template_areas": null,
       "grid_template_columns": null,
       "grid_template_rows": null,
       "height": null,
       "justify_content": null,
       "justify_items": null,
       "left": null,
       "margin": null,
       "max_height": null,
       "max_width": null,
       "min_height": null,
       "min_width": null,
       "object_fit": null,
       "object_position": null,
       "order": null,
       "overflow": null,
       "padding": null,
       "right": null,
       "top": null,
       "visibility": null,
       "width": null
      }
     },
     "6acabf10824a4417ae8e4cbf75ab9ec3": {
      "model_module": "@jupyter-widgets/base",
      "model_module_version": "2.0.0",
      "model_name": "LayoutModel",
      "state": {
       "_model_module": "@jupyter-widgets/base",
       "_model_module_version": "2.0.0",
       "_model_name": "LayoutModel",
       "_view_count": null,
       "_view_module": "@jupyter-widgets/base",
       "_view_module_version": "2.0.0",
       "_view_name": "LayoutView",
       "align_content": null,
       "align_items": null,
       "align_self": null,
       "border_bottom": null,
       "border_left": null,
       "border_right": null,
       "border_top": null,
       "bottom": null,
       "display": null,
       "flex": null,
       "flex_flow": null,
       "grid_area": null,
       "grid_auto_columns": null,
       "grid_auto_flow": null,
       "grid_auto_rows": null,
       "grid_column": null,
       "grid_gap": null,
       "grid_row": null,
       "grid_template_areas": null,
       "grid_template_columns": null,
       "grid_template_rows": null,
       "height": null,
       "justify_content": null,
       "justify_items": null,
       "left": null,
       "margin": null,
       "max_height": null,
       "max_width": null,
       "min_height": null,
       "min_width": null,
       "object_fit": null,
       "object_position": null,
       "order": null,
       "overflow": null,
       "padding": null,
       "right": null,
       "top": null,
       "visibility": null,
       "width": null
      }
     },
     "6dd8d391a85b4d0a8a063c721bdbadd0": {
      "model_module": "@jupyter-widgets/base",
      "model_module_version": "2.0.0",
      "model_name": "LayoutModel",
      "state": {
       "_model_module": "@jupyter-widgets/base",
       "_model_module_version": "2.0.0",
       "_model_name": "LayoutModel",
       "_view_count": null,
       "_view_module": "@jupyter-widgets/base",
       "_view_module_version": "2.0.0",
       "_view_name": "LayoutView",
       "align_content": null,
       "align_items": null,
       "align_self": null,
       "border_bottom": null,
       "border_left": null,
       "border_right": null,
       "border_top": null,
       "bottom": null,
       "display": null,
       "flex": null,
       "flex_flow": null,
       "grid_area": null,
       "grid_auto_columns": null,
       "grid_auto_flow": null,
       "grid_auto_rows": null,
       "grid_column": null,
       "grid_gap": null,
       "grid_row": null,
       "grid_template_areas": null,
       "grid_template_columns": null,
       "grid_template_rows": null,
       "height": null,
       "justify_content": null,
       "justify_items": null,
       "left": null,
       "margin": null,
       "max_height": null,
       "max_width": null,
       "min_height": null,
       "min_width": null,
       "object_fit": null,
       "object_position": null,
       "order": null,
       "overflow": null,
       "padding": null,
       "right": null,
       "top": null,
       "visibility": null,
       "width": null
      }
     },
     "6e49c697cf13434991baf698afa24d7e": {
      "model_module": "@jupyter-widgets/controls",
      "model_module_version": "2.0.0",
      "model_name": "HTMLStyleModel",
      "state": {
       "_model_module": "@jupyter-widgets/controls",
       "_model_module_version": "2.0.0",
       "_model_name": "HTMLStyleModel",
       "_view_count": null,
       "_view_module": "@jupyter-widgets/base",
       "_view_module_version": "2.0.0",
       "_view_name": "StyleView",
       "background": null,
       "description_width": "",
       "font_size": null,
       "text_color": null
      }
     },
     "79e5cbc09518442aaf7a60030f359129": {
      "model_module": "@jupyter-widgets/controls",
      "model_module_version": "2.0.0",
      "model_name": "FloatProgressModel",
      "state": {
       "_dom_classes": [],
       "_model_module": "@jupyter-widgets/controls",
       "_model_module_version": "2.0.0",
       "_model_name": "FloatProgressModel",
       "_view_count": null,
       "_view_module": "@jupyter-widgets/controls",
       "_view_module_version": "2.0.0",
       "_view_name": "ProgressView",
       "bar_style": "success",
       "description": "",
       "description_allow_html": false,
       "layout": "IPY_MODEL_b28ca614aa8f49949e318e4925c9f92c",
       "max": 612.0,
       "min": 0.0,
       "orientation": "horizontal",
       "style": "IPY_MODEL_48a34172c81246dfaeb9bfd452a51c22",
       "tabbable": null,
       "tooltip": null,
       "value": 612.0
      }
     },
     "7ed0f1f552464056b19488511105b324": {
      "model_module": "@jupyter-widgets/controls",
      "model_module_version": "2.0.0",
      "model_name": "FloatProgressModel",
      "state": {
       "_dom_classes": [],
       "_model_module": "@jupyter-widgets/controls",
       "_model_module_version": "2.0.0",
       "_model_name": "FloatProgressModel",
       "_view_count": null,
       "_view_module": "@jupyter-widgets/controls",
       "_view_module_version": "2.0.0",
       "_view_name": "ProgressView",
       "bar_style": "success",
       "description": "",
       "description_allow_html": false,
       "layout": "IPY_MODEL_6115ac1073c649f5b748d23adcfd41df",
       "max": 90868376.0,
       "min": 0.0,
       "orientation": "horizontal",
       "style": "IPY_MODEL_9ca6232ca02546b79fa2af387d37a017",
       "tabbable": null,
       "tooltip": null,
       "value": 90868376.0
      }
     },
     "7f62a7d0398e43b9aa11068fdc950183": {
      "model_module": "@jupyter-widgets/controls",
      "model_module_version": "2.0.0",
      "model_name": "FloatProgressModel",
      "state": {
       "_dom_classes": [],
       "_model_module": "@jupyter-widgets/controls",
       "_model_module_version": "2.0.0",
       "_model_name": "FloatProgressModel",
       "_view_count": null,
       "_view_module": "@jupyter-widgets/controls",
       "_view_module_version": "2.0.0",
       "_view_name": "ProgressView",
       "bar_style": "success",
       "description": "",
       "description_allow_html": false,
       "layout": "IPY_MODEL_d09c56b1f1ea4b0e8e2d2285464ad07a",
       "max": 231508.0,
       "min": 0.0,
       "orientation": "horizontal",
       "style": "IPY_MODEL_c04960775cb04a3e9d7265b74ec7e993",
       "tabbable": null,
       "tooltip": null,
       "value": 231508.0
      }
     },
     "810d5ec7bdc14a7c9497788ac1700993": {
      "model_module": "@jupyter-widgets/controls",
      "model_module_version": "2.0.0",
      "model_name": "HBoxModel",
      "state": {
       "_dom_classes": [],
       "_model_module": "@jupyter-widgets/controls",
       "_model_module_version": "2.0.0",
       "_model_name": "HBoxModel",
       "_view_count": null,
       "_view_module": "@jupyter-widgets/controls",
       "_view_module_version": "2.0.0",
       "_view_name": "HBoxView",
       "box_style": "",
       "children": [
        "IPY_MODEL_b40a9026f2e44572898199156d2212a6",
        "IPY_MODEL_e8bb0e28321b4f2da06db8cd6aabf978",
        "IPY_MODEL_0fec543cfb494e84bd87b1ac7fc15d89"
       ],
       "layout": "IPY_MODEL_35bd2c73e73d44e2ac62577efb12595c",
       "tabbable": null,
       "tooltip": null
      }
     },
     "839f07a7f21b49e9854dc55e2a18b2c1": {
      "model_module": "@jupyter-widgets/controls",
      "model_module_version": "2.0.0",
      "model_name": "HTMLModel",
      "state": {
       "_dom_classes": [],
       "_model_module": "@jupyter-widgets/controls",
       "_model_module_version": "2.0.0",
       "_model_name": "HTMLModel",
       "_view_count": null,
       "_view_module": "@jupyter-widgets/controls",
       "_view_module_version": "2.0.0",
       "_view_name": "HTMLView",
       "description": "",
       "description_allow_html": false,
       "layout": "IPY_MODEL_3067623016064aba94213ec3c4dd5a00",
       "placeholder": "​",
       "style": "IPY_MODEL_c02f31eda7644ce7917190a7eaff9c20",
       "tabbable": null,
       "tooltip": null,
       "value": "special_tokens_map.json: 100%"
      }
     },
     "8a0b6f6b7a6c4f1cb05aa4595f35bca2": {
      "model_module": "@jupyter-widgets/controls",
      "model_module_version": "2.0.0",
      "model_name": "ProgressStyleModel",
      "state": {
       "_model_module": "@jupyter-widgets/controls",
       "_model_module_version": "2.0.0",
       "_model_name": "ProgressStyleModel",
       "_view_count": null,
       "_view_module": "@jupyter-widgets/base",
       "_view_module_version": "2.0.0",
       "_view_name": "StyleView",
       "bar_color": null,
       "description_width": ""
      }
     },
     "8f55f1c8d4eb4e528361ba4fa5fb8025": {
      "model_module": "@jupyter-widgets/base",
      "model_module_version": "2.0.0",
      "model_name": "LayoutModel",
      "state": {
       "_model_module": "@jupyter-widgets/base",
       "_model_module_version": "2.0.0",
       "_model_name": "LayoutModel",
       "_view_count": null,
       "_view_module": "@jupyter-widgets/base",
       "_view_module_version": "2.0.0",
       "_view_name": "LayoutView",
       "align_content": null,
       "align_items": null,
       "align_self": null,
       "border_bottom": null,
       "border_left": null,
       "border_right": null,
       "border_top": null,
       "bottom": null,
       "display": null,
       "flex": null,
       "flex_flow": null,
       "grid_area": null,
       "grid_auto_columns": null,
       "grid_auto_flow": null,
       "grid_auto_rows": null,
       "grid_column": null,
       "grid_gap": null,
       "grid_row": null,
       "grid_template_areas": null,
       "grid_template_columns": null,
       "grid_template_rows": null,
       "height": null,
       "justify_content": null,
       "justify_items": null,
       "left": null,
       "margin": null,
       "max_height": null,
       "max_width": null,
       "min_height": null,
       "min_width": null,
       "object_fit": null,
       "object_position": null,
       "order": null,
       "overflow": null,
       "padding": null,
       "right": null,
       "top": null,
       "visibility": null,
       "width": null
      }
     },
     "9303de3dd9384aa099bd450677d0118f": {
      "model_module": "@jupyter-widgets/controls",
      "model_module_version": "2.0.0",
      "model_name": "HTMLStyleModel",
      "state": {
       "_model_module": "@jupyter-widgets/controls",
       "_model_module_version": "2.0.0",
       "_model_name": "HTMLStyleModel",
       "_view_count": null,
       "_view_module": "@jupyter-widgets/base",
       "_view_module_version": "2.0.0",
       "_view_name": "StyleView",
       "background": null,
       "description_width": "",
       "font_size": null,
       "text_color": null
      }
     },
     "95e7e5e3632649d18541dafc89374be2": {
      "model_module": "@jupyter-widgets/controls",
      "model_module_version": "2.0.0",
      "model_name": "HTMLStyleModel",
      "state": {
       "_model_module": "@jupyter-widgets/controls",
       "_model_module_version": "2.0.0",
       "_model_name": "HTMLStyleModel",
       "_view_count": null,
       "_view_module": "@jupyter-widgets/base",
       "_view_module_version": "2.0.0",
       "_view_name": "StyleView",
       "background": null,
       "description_width": "",
       "font_size": null,
       "text_color": null
      }
     },
     "96d1c23c81ab4da2a82bde44b087df31": {
      "model_module": "@jupyter-widgets/controls",
      "model_module_version": "2.0.0",
      "model_name": "HTMLModel",
      "state": {
       "_dom_classes": [],
       "_model_module": "@jupyter-widgets/controls",
       "_model_module_version": "2.0.0",
       "_model_name": "HTMLModel",
       "_view_count": null,
       "_view_module": "@jupyter-widgets/controls",
       "_view_module_version": "2.0.0",
       "_view_name": "HTMLView",
       "description": "",
       "description_allow_html": false,
       "layout": "IPY_MODEL_34ca825dbfe84335a3233321b7c270d5",
       "placeholder": "​",
       "style": "IPY_MODEL_42a02c65beec4aeda1f434440fcf53ae",
       "tabbable": null,
       "tooltip": null,
       "value": " 1/1 [00:00&lt;00:00, 77.85it/s]"
      }
     },
     "9710a32223ca41e695c2c10fecfeaafb": {
      "model_module": "@jupyter-widgets/controls",
      "model_module_version": "2.0.0",
      "model_name": "HTMLModel",
      "state": {
       "_dom_classes": [],
       "_model_module": "@jupyter-widgets/controls",
       "_model_module_version": "2.0.0",
       "_model_name": "HTMLModel",
       "_view_count": null,
       "_view_module": "@jupyter-widgets/controls",
       "_view_module_version": "2.0.0",
       "_view_name": "HTMLView",
       "description": "",
       "description_allow_html": false,
       "layout": "IPY_MODEL_3069815399f6490b98058f95063b05a2",
       "placeholder": "​",
       "style": "IPY_MODEL_b11fbc5f49b6419090800d81caf58eff",
       "tabbable": null,
       "tooltip": null,
       "value": "tokenizer.json: 100%"
      }
     },
     "9ca6232ca02546b79fa2af387d37a017": {
      "model_module": "@jupyter-widgets/controls",
      "model_module_version": "2.0.0",
      "model_name": "ProgressStyleModel",
      "state": {
       "_model_module": "@jupyter-widgets/controls",
       "_model_module_version": "2.0.0",
       "_model_name": "ProgressStyleModel",
       "_view_count": null,
       "_view_module": "@jupyter-widgets/base",
       "_view_module_version": "2.0.0",
       "_view_name": "StyleView",
       "bar_color": null,
       "description_width": ""
      }
     },
     "a24e897965ea4898ae85ad0913d1af13": {
      "model_module": "@jupyter-widgets/base",
      "model_module_version": "2.0.0",
      "model_name": "LayoutModel",
      "state": {
       "_model_module": "@jupyter-widgets/base",
       "_model_module_version": "2.0.0",
       "_model_name": "LayoutModel",
       "_view_count": null,
       "_view_module": "@jupyter-widgets/base",
       "_view_module_version": "2.0.0",
       "_view_name": "LayoutView",
       "align_content": null,
       "align_items": null,
       "align_self": null,
       "border_bottom": null,
       "border_left": null,
       "border_right": null,
       "border_top": null,
       "bottom": null,
       "display": "inline-flex",
       "flex": null,
       "flex_flow": "row wrap",
       "grid_area": null,
       "grid_auto_columns": null,
       "grid_auto_flow": null,
       "grid_auto_rows": null,
       "grid_column": null,
       "grid_gap": null,
       "grid_row": null,
       "grid_template_areas": null,
       "grid_template_columns": null,
       "grid_template_rows": null,
       "height": null,
       "justify_content": null,
       "justify_items": null,
       "left": null,
       "margin": null,
       "max_height": null,
       "max_width": null,
       "min_height": null,
       "min_width": null,
       "object_fit": null,
       "object_position": null,
       "order": null,
       "overflow": null,
       "padding": null,
       "right": null,
       "top": null,
       "visibility": null,
       "width": "100%"
      }
     },
     "a42d84e529ee44c580ad3ea13f159e30": {
      "model_module": "@jupyter-widgets/base",
      "model_module_version": "2.0.0",
      "model_name": "LayoutModel",
      "state": {
       "_model_module": "@jupyter-widgets/base",
       "_model_module_version": "2.0.0",
       "_model_name": "LayoutModel",
       "_view_count": null,
       "_view_module": "@jupyter-widgets/base",
       "_view_module_version": "2.0.0",
       "_view_name": "LayoutView",
       "align_content": null,
       "align_items": null,
       "align_self": null,
       "border_bottom": null,
       "border_left": null,
       "border_right": null,
       "border_top": null,
       "bottom": null,
       "display": null,
       "flex": null,
       "flex_flow": null,
       "grid_area": null,
       "grid_auto_columns": null,
       "grid_auto_flow": null,
       "grid_auto_rows": null,
       "grid_column": null,
       "grid_gap": null,
       "grid_row": null,
       "grid_template_areas": null,
       "grid_template_columns": null,
       "grid_template_rows": null,
       "height": null,
       "justify_content": null,
       "justify_items": null,
       "left": null,
       "margin": null,
       "max_height": null,
       "max_width": null,
       "min_height": null,
       "min_width": null,
       "object_fit": null,
       "object_position": null,
       "order": null,
       "overflow": null,
       "padding": null,
       "right": null,
       "top": null,
       "visibility": null,
       "width": null
      }
     },
     "a43c96f93721494baf6fe2c96a8e0494": {
      "model_module": "@jupyter-widgets/base",
      "model_module_version": "2.0.0",
      "model_name": "LayoutModel",
      "state": {
       "_model_module": "@jupyter-widgets/base",
       "_model_module_version": "2.0.0",
       "_model_name": "LayoutModel",
       "_view_count": null,
       "_view_module": "@jupyter-widgets/base",
       "_view_module_version": "2.0.0",
       "_view_name": "LayoutView",
       "align_content": null,
       "align_items": null,
       "align_self": null,
       "border_bottom": null,
       "border_left": null,
       "border_right": null,
       "border_top": null,
       "bottom": null,
       "display": null,
       "flex": null,
       "flex_flow": null,
       "grid_area": null,
       "grid_auto_columns": null,
       "grid_auto_flow": null,
       "grid_auto_rows": null,
       "grid_column": null,
       "grid_gap": null,
       "grid_row": null,
       "grid_template_areas": null,
       "grid_template_columns": null,
       "grid_template_rows": null,
       "height": null,
       "justify_content": null,
       "justify_items": null,
       "left": null,
       "margin": null,
       "max_height": null,
       "max_width": null,
       "min_height": null,
       "min_width": null,
       "object_fit": null,
       "object_position": null,
       "order": null,
       "overflow": null,
       "padding": null,
       "right": null,
       "top": null,
       "visibility": null,
       "width": null
      }
     },
     "a5d627ab84bf46a78d3c7f149135a77e": {
      "model_module": "@jupyter-widgets/controls",
      "model_module_version": "2.0.0",
      "model_name": "HBoxModel",
      "state": {
       "_dom_classes": [],
       "_model_module": "@jupyter-widgets/controls",
       "_model_module_version": "2.0.0",
       "_model_name": "HBoxModel",
       "_view_count": null,
       "_view_module": "@jupyter-widgets/controls",
       "_view_module_version": "2.0.0",
       "_view_name": "HBoxView",
       "box_style": "",
       "children": [
        "IPY_MODEL_6412fcd30b5b4c94ac3ccc9c842904c1",
        "IPY_MODEL_f2a8e848587349babb40d71caaa5fd5a",
        "IPY_MODEL_c30eff6733f44639adc77e6dc513dcb9"
       ],
       "layout": "IPY_MODEL_eb257699b4654d4a8473126b58d88b41",
       "tabbable": null,
       "tooltip": null
      }
     },
     "a8200249c2bc4d7a8b9f501451ce0436": {
      "model_module": "@jupyter-widgets/base",
      "model_module_version": "2.0.0",
      "model_name": "LayoutModel",
      "state": {
       "_model_module": "@jupyter-widgets/base",
       "_model_module_version": "2.0.0",
       "_model_name": "LayoutModel",
       "_view_count": null,
       "_view_module": "@jupyter-widgets/base",
       "_view_module_version": "2.0.0",
       "_view_name": "LayoutView",
       "align_content": null,
       "align_items": null,
       "align_self": null,
       "border_bottom": null,
       "border_left": null,
       "border_right": null,
       "border_top": null,
       "bottom": null,
       "display": null,
       "flex": null,
       "flex_flow": null,
       "grid_area": null,
       "grid_auto_columns": null,
       "grid_auto_flow": null,
       "grid_auto_rows": null,
       "grid_column": null,
       "grid_gap": null,
       "grid_row": null,
       "grid_template_areas": null,
       "grid_template_columns": null,
       "grid_template_rows": null,
       "height": null,
       "justify_content": null,
       "justify_items": null,
       "left": null,
       "margin": null,
       "max_height": null,
       "max_width": null,
       "min_height": null,
       "min_width": null,
       "object_fit": null,
       "object_position": null,
       "order": null,
       "overflow": null,
       "padding": null,
       "right": null,
       "top": null,
       "visibility": null,
       "width": null
      }
     },
     "aaf789a7b92b4bf2867262e670fc127f": {
      "model_module": "@jupyter-widgets/base",
      "model_module_version": "2.0.0",
      "model_name": "LayoutModel",
      "state": {
       "_model_module": "@jupyter-widgets/base",
       "_model_module_version": "2.0.0",
       "_model_name": "LayoutModel",
       "_view_count": null,
       "_view_module": "@jupyter-widgets/base",
       "_view_module_version": "2.0.0",
       "_view_name": "LayoutView",
       "align_content": null,
       "align_items": null,
       "align_self": null,
       "border_bottom": null,
       "border_left": null,
       "border_right": null,
       "border_top": null,
       "bottom": null,
       "display": null,
       "flex": "2",
       "flex_flow": null,
       "grid_area": null,
       "grid_auto_columns": null,
       "grid_auto_flow": null,
       "grid_auto_rows": null,
       "grid_column": null,
       "grid_gap": null,
       "grid_row": null,
       "grid_template_areas": null,
       "grid_template_columns": null,
       "grid_template_rows": null,
       "height": null,
       "justify_content": null,
       "justify_items": null,
       "left": null,
       "margin": null,
       "max_height": null,
       "max_width": null,
       "min_height": null,
       "min_width": null,
       "object_fit": null,
       "object_position": null,
       "order": null,
       "overflow": null,
       "padding": null,
       "right": null,
       "top": null,
       "visibility": null,
       "width": null
      }
     },
     "b09083c58d9047bdb745ea38b760be99": {
      "model_module": "@jupyter-widgets/controls",
      "model_module_version": "2.0.0",
      "model_name": "HBoxModel",
      "state": {
       "_dom_classes": [],
       "_model_module": "@jupyter-widgets/controls",
       "_model_module_version": "2.0.0",
       "_model_name": "HBoxModel",
       "_view_count": null,
       "_view_module": "@jupyter-widgets/controls",
       "_view_module_version": "2.0.0",
       "_view_name": "HBoxView",
       "box_style": "",
       "children": [
        "IPY_MODEL_839f07a7f21b49e9854dc55e2a18b2c1",
        "IPY_MODEL_5be35b8248f147398e179e2ab7a8e2f4",
        "IPY_MODEL_0c815548a28b4804a6e827a0b8eaa431"
       ],
       "layout": "IPY_MODEL_b3595cbb62394ebe95e7efe79b946238",
       "tabbable": null,
       "tooltip": null
      }
     },
     "b11fbc5f49b6419090800d81caf58eff": {
      "model_module": "@jupyter-widgets/controls",
      "model_module_version": "2.0.0",
      "model_name": "HTMLStyleModel",
      "state": {
       "_model_module": "@jupyter-widgets/controls",
       "_model_module_version": "2.0.0",
       "_model_name": "HTMLStyleModel",
       "_view_count": null,
       "_view_module": "@jupyter-widgets/base",
       "_view_module_version": "2.0.0",
       "_view_name": "StyleView",
       "background": null,
       "description_width": "",
       "font_size": null,
       "text_color": null
      }
     },
     "b28ca614aa8f49949e318e4925c9f92c": {
      "model_module": "@jupyter-widgets/base",
      "model_module_version": "2.0.0",
      "model_name": "LayoutModel",
      "state": {
       "_model_module": "@jupyter-widgets/base",
       "_model_module_version": "2.0.0",
       "_model_name": "LayoutModel",
       "_view_count": null,
       "_view_module": "@jupyter-widgets/base",
       "_view_module_version": "2.0.0",
       "_view_name": "LayoutView",
       "align_content": null,
       "align_items": null,
       "align_self": null,
       "border_bottom": null,
       "border_left": null,
       "border_right": null,
       "border_top": null,
       "bottom": null,
       "display": null,
       "flex": null,
       "flex_flow": null,
       "grid_area": null,
       "grid_auto_columns": null,
       "grid_auto_flow": null,
       "grid_auto_rows": null,
       "grid_column": null,
       "grid_gap": null,
       "grid_row": null,
       "grid_template_areas": null,
       "grid_template_columns": null,
       "grid_template_rows": null,
       "height": null,
       "justify_content": null,
       "justify_items": null,
       "left": null,
       "margin": null,
       "max_height": null,
       "max_width": null,
       "min_height": null,
       "min_width": null,
       "object_fit": null,
       "object_position": null,
       "order": null,
       "overflow": null,
       "padding": null,
       "right": null,
       "top": null,
       "visibility": null,
       "width": null
      }
     },
     "b3595cbb62394ebe95e7efe79b946238": {
      "model_module": "@jupyter-widgets/base",
      "model_module_version": "2.0.0",
      "model_name": "LayoutModel",
      "state": {
       "_model_module": "@jupyter-widgets/base",
       "_model_module_version": "2.0.0",
       "_model_name": "LayoutModel",
       "_view_count": null,
       "_view_module": "@jupyter-widgets/base",
       "_view_module_version": "2.0.0",
       "_view_name": "LayoutView",
       "align_content": null,
       "align_items": null,
       "align_self": null,
       "border_bottom": null,
       "border_left": null,
       "border_right": null,
       "border_top": null,
       "bottom": null,
       "display": null,
       "flex": null,
       "flex_flow": null,
       "grid_area": null,
       "grid_auto_columns": null,
       "grid_auto_flow": null,
       "grid_auto_rows": null,
       "grid_column": null,
       "grid_gap": null,
       "grid_row": null,
       "grid_template_areas": null,
       "grid_template_columns": null,
       "grid_template_rows": null,
       "height": null,
       "justify_content": null,
       "justify_items": null,
       "left": null,
       "margin": null,
       "max_height": null,
       "max_width": null,
       "min_height": null,
       "min_width": null,
       "object_fit": null,
       "object_position": null,
       "order": null,
       "overflow": null,
       "padding": null,
       "right": null,
       "top": null,
       "visibility": null,
       "width": null
      }
     },
     "b40a9026f2e44572898199156d2212a6": {
      "model_module": "@jupyter-widgets/controls",
      "model_module_version": "2.0.0",
      "model_name": "HTMLModel",
      "state": {
       "_dom_classes": [],
       "_model_module": "@jupyter-widgets/controls",
       "_model_module_version": "2.0.0",
       "_model_name": "HTMLModel",
       "_view_count": null,
       "_view_module": "@jupyter-widgets/controls",
       "_view_module_version": "2.0.0",
       "_view_name": "HTMLView",
       "description": "",
       "description_allow_html": false,
       "layout": "IPY_MODEL_b71a7bd35bfd4353b5fa7dabf4aabc75",
       "placeholder": "​",
       "style": "IPY_MODEL_9303de3dd9384aa099bd450677d0118f",
       "tabbable": null,
       "tooltip": null,
       "value": "Predicting DataLoader 0: 100%"
      }
     },
     "b575e9d495ff4516a0e19bb3eda9e875": {
      "model_module": "@jupyter-widgets/base",
      "model_module_version": "2.0.0",
      "model_name": "LayoutModel",
      "state": {
       "_model_module": "@jupyter-widgets/base",
       "_model_module_version": "2.0.0",
       "_model_name": "LayoutModel",
       "_view_count": null,
       "_view_module": "@jupyter-widgets/base",
       "_view_module_version": "2.0.0",
       "_view_name": "LayoutView",
       "align_content": null,
       "align_items": null,
       "align_self": null,
       "border_bottom": null,
       "border_left": null,
       "border_right": null,
       "border_top": null,
       "bottom": null,
       "display": null,
       "flex": null,
       "flex_flow": null,
       "grid_area": null,
       "grid_auto_columns": null,
       "grid_auto_flow": null,
       "grid_auto_rows": null,
       "grid_column": null,
       "grid_gap": null,
       "grid_row": null,
       "grid_template_areas": null,
       "grid_template_columns": null,
       "grid_template_rows": null,
       "height": null,
       "justify_content": null,
       "justify_items": null,
       "left": null,
       "margin": null,
       "max_height": null,
       "max_width": null,
       "min_height": null,
       "min_width": null,
       "object_fit": null,
       "object_position": null,
       "order": null,
       "overflow": null,
       "padding": null,
       "right": null,
       "top": null,
       "visibility": null,
       "width": null
      }
     },
     "b71a7bd35bfd4353b5fa7dabf4aabc75": {
      "model_module": "@jupyter-widgets/base",
      "model_module_version": "2.0.0",
      "model_name": "LayoutModel",
      "state": {
       "_model_module": "@jupyter-widgets/base",
       "_model_module_version": "2.0.0",
       "_model_name": "LayoutModel",
       "_view_count": null,
       "_view_module": "@jupyter-widgets/base",
       "_view_module_version": "2.0.0",
       "_view_name": "LayoutView",
       "align_content": null,
       "align_items": null,
       "align_self": null,
       "border_bottom": null,
       "border_left": null,
       "border_right": null,
       "border_top": null,
       "bottom": null,
       "display": null,
       "flex": null,
       "flex_flow": null,
       "grid_area": null,
       "grid_auto_columns": null,
       "grid_auto_flow": null,
       "grid_auto_rows": null,
       "grid_column": null,
       "grid_gap": null,
       "grid_row": null,
       "grid_template_areas": null,
       "grid_template_columns": null,
       "grid_template_rows": null,
       "height": null,
       "justify_content": null,
       "justify_items": null,
       "left": null,
       "margin": null,
       "max_height": null,
       "max_width": null,
       "min_height": null,
       "min_width": null,
       "object_fit": null,
       "object_position": null,
       "order": null,
       "overflow": null,
       "padding": null,
       "right": null,
       "top": null,
       "visibility": null,
       "width": null
      }
     },
     "b9808c7c4f5b46ec92d68f9d93dc2f64": {
      "model_module": "@jupyter-widgets/controls",
      "model_module_version": "2.0.0",
      "model_name": "HTMLStyleModel",
      "state": {
       "_model_module": "@jupyter-widgets/controls",
       "_model_module_version": "2.0.0",
       "_model_name": "HTMLStyleModel",
       "_view_count": null,
       "_view_module": "@jupyter-widgets/base",
       "_view_module_version": "2.0.0",
       "_view_name": "StyleView",
       "background": null,
       "description_width": "",
       "font_size": null,
       "text_color": null
      }
     },
     "baf4addb40584eeaa4fd801002178d11": {
      "model_module": "@jupyter-widgets/controls",
      "model_module_version": "2.0.0",
      "model_name": "HTMLModel",
      "state": {
       "_dom_classes": [],
       "_model_module": "@jupyter-widgets/controls",
       "_model_module_version": "2.0.0",
       "_model_name": "HTMLModel",
       "_view_count": null,
       "_view_module": "@jupyter-widgets/controls",
       "_view_module_version": "2.0.0",
       "_view_name": "HTMLView",
       "description": "",
       "description_allow_html": false,
       "layout": "IPY_MODEL_085cc8bacc604a9583095285030ce2a5",
       "placeholder": "​",
       "style": "IPY_MODEL_2f1b49678b8b48949182418e50138d5a",
       "tabbable": null,
       "tooltip": null,
       "value": " 1797/1797 [01:07&lt;00:00, 26.51it/s]"
      }
     },
     "c02f31eda7644ce7917190a7eaff9c20": {
      "model_module": "@jupyter-widgets/controls",
      "model_module_version": "2.0.0",
      "model_name": "HTMLStyleModel",
      "state": {
       "_model_module": "@jupyter-widgets/controls",
       "_model_module_version": "2.0.0",
       "_model_name": "HTMLStyleModel",
       "_view_count": null,
       "_view_module": "@jupyter-widgets/base",
       "_view_module_version": "2.0.0",
       "_view_name": "StyleView",
       "background": null,
       "description_width": "",
       "font_size": null,
       "text_color": null
      }
     },
     "c04960775cb04a3e9d7265b74ec7e993": {
      "model_module": "@jupyter-widgets/controls",
      "model_module_version": "2.0.0",
      "model_name": "ProgressStyleModel",
      "state": {
       "_model_module": "@jupyter-widgets/controls",
       "_model_module_version": "2.0.0",
       "_model_name": "ProgressStyleModel",
       "_view_count": null,
       "_view_module": "@jupyter-widgets/base",
       "_view_module_version": "2.0.0",
       "_view_name": "StyleView",
       "bar_color": null,
       "description_width": ""
      }
     },
     "c30eff6733f44639adc77e6dc513dcb9": {
      "model_module": "@jupyter-widgets/controls",
      "model_module_version": "2.0.0",
      "model_name": "HTMLModel",
      "state": {
       "_dom_classes": [],
       "_model_module": "@jupyter-widgets/controls",
       "_model_module_version": "2.0.0",
       "_model_name": "HTMLModel",
       "_view_count": null,
       "_view_module": "@jupyter-widgets/controls",
       "_view_module_version": "2.0.0",
       "_view_name": "HTMLView",
       "description": "",
       "description_allow_html": false,
       "layout": "IPY_MODEL_22d7e3185d284221a69b90caa3bf758f",
       "placeholder": "​",
       "style": "IPY_MODEL_08162454fdbc4ce0957722bd14a281ee",
       "tabbable": null,
       "tooltip": null,
       "value": " 1797/1797 [01:08&lt;00:00, 26.14it/s]"
      }
     },
     "c485f82346334e969491dd230663e241": {
      "model_module": "@jupyter-widgets/controls",
      "model_module_version": "2.0.0",
      "model_name": "ProgressStyleModel",
      "state": {
       "_model_module": "@jupyter-widgets/controls",
       "_model_module_version": "2.0.0",
       "_model_name": "ProgressStyleModel",
       "_view_count": null,
       "_view_module": "@jupyter-widgets/base",
       "_view_module_version": "2.0.0",
       "_view_name": "StyleView",
       "bar_color": null,
       "description_width": ""
      }
     },
     "c62d68546c4045f0b2fdadcde31734e5": {
      "model_module": "@jupyter-widgets/base",
      "model_module_version": "2.0.0",
      "model_name": "LayoutModel",
      "state": {
       "_model_module": "@jupyter-widgets/base",
       "_model_module_version": "2.0.0",
       "_model_name": "LayoutModel",
       "_view_count": null,
       "_view_module": "@jupyter-widgets/base",
       "_view_module_version": "2.0.0",
       "_view_name": "LayoutView",
       "align_content": null,
       "align_items": null,
       "align_self": null,
       "border_bottom": null,
       "border_left": null,
       "border_right": null,
       "border_top": null,
       "bottom": null,
       "display": null,
       "flex": null,
       "flex_flow": null,
       "grid_area": null,
       "grid_auto_columns": null,
       "grid_auto_flow": null,
       "grid_auto_rows": null,
       "grid_column": null,
       "grid_gap": null,
       "grid_row": null,
       "grid_template_areas": null,
       "grid_template_columns": null,
       "grid_template_rows": null,
       "height": null,
       "justify_content": null,
       "justify_items": null,
       "left": null,
       "margin": null,
       "max_height": null,
       "max_width": null,
       "min_height": null,
       "min_width": null,
       "object_fit": null,
       "object_position": null,
       "order": null,
       "overflow": null,
       "padding": null,
       "right": null,
       "top": null,
       "visibility": null,
       "width": null
      }
     },
     "c73eb82e10484566ba2410afc35f7517": {
      "model_module": "@jupyter-widgets/controls",
      "model_module_version": "2.0.0",
      "model_name": "FloatProgressModel",
      "state": {
       "_dom_classes": [],
       "_model_module": "@jupyter-widgets/controls",
       "_model_module_version": "2.0.0",
       "_model_name": "FloatProgressModel",
       "_view_count": null,
       "_view_module": "@jupyter-widgets/controls",
       "_view_module_version": "2.0.0",
       "_view_name": "ProgressView",
       "bar_style": "success",
       "description": "",
       "description_allow_html": false,
       "layout": "IPY_MODEL_8f55f1c8d4eb4e528361ba4fa5fb8025",
       "max": 466247.0,
       "min": 0.0,
       "orientation": "horizontal",
       "style": "IPY_MODEL_8a0b6f6b7a6c4f1cb05aa4595f35bca2",
       "tabbable": null,
       "tooltip": null,
       "value": 466247.0
      }
     },
     "ce9e249d18984503ae0e1bc4e4aa9f73": {
      "model_module": "@jupyter-widgets/controls",
      "model_module_version": "2.0.0",
      "model_name": "HTMLModel",
      "state": {
       "_dom_classes": [],
       "_model_module": "@jupyter-widgets/controls",
       "_model_module_version": "2.0.0",
       "_model_name": "HTMLModel",
       "_view_count": null,
       "_view_module": "@jupyter-widgets/controls",
       "_view_module_version": "2.0.0",
       "_view_name": "HTMLView",
       "description": "",
       "description_allow_html": false,
       "layout": "IPY_MODEL_fbaa008346c045ae8896d96d98c1c3ac",
       "placeholder": "​",
       "style": "IPY_MODEL_ebf341551c564f2b87a029ad46a7d1d7",
       "tabbable": null,
       "tooltip": null,
       "value": "tokenizer_config.json: 100%"
      }
     },
     "cf868b9951fe4a4c9ab28a65d1dca42c": {
      "model_module": "@jupyter-widgets/controls",
      "model_module_version": "2.0.0",
      "model_name": "HBoxModel",
      "state": {
       "_dom_classes": [],
       "_model_module": "@jupyter-widgets/controls",
       "_model_module_version": "2.0.0",
       "_model_name": "HBoxModel",
       "_view_count": null,
       "_view_module": "@jupyter-widgets/controls",
       "_view_module_version": "2.0.0",
       "_view_name": "HBoxView",
       "box_style": "",
       "children": [
        "IPY_MODEL_ce9e249d18984503ae0e1bc4e4aa9f73",
        "IPY_MODEL_0ac93402102442789a7c2d3e81e46142",
        "IPY_MODEL_0264b43d9ba34cffb8b19e9ce704408b"
       ],
       "layout": "IPY_MODEL_ecb611f16adc432a942e9939a09dc601",
       "tabbable": null,
       "tooltip": null
      }
     },
     "d09c56b1f1ea4b0e8e2d2285464ad07a": {
      "model_module": "@jupyter-widgets/base",
      "model_module_version": "2.0.0",
      "model_name": "LayoutModel",
      "state": {
       "_model_module": "@jupyter-widgets/base",
       "_model_module_version": "2.0.0",
       "_model_name": "LayoutModel",
       "_view_count": null,
       "_view_module": "@jupyter-widgets/base",
       "_view_module_version": "2.0.0",
       "_view_name": "LayoutView",
       "align_content": null,
       "align_items": null,
       "align_self": null,
       "border_bottom": null,
       "border_left": null,
       "border_right": null,
       "border_top": null,
       "bottom": null,
       "display": null,
       "flex": null,
       "flex_flow": null,
       "grid_area": null,
       "grid_auto_columns": null,
       "grid_auto_flow": null,
       "grid_auto_rows": null,
       "grid_column": null,
       "grid_gap": null,
       "grid_row": null,
       "grid_template_areas": null,
       "grid_template_columns": null,
       "grid_template_rows": null,
       "height": null,
       "justify_content": null,
       "justify_items": null,
       "left": null,
       "margin": null,
       "max_height": null,
       "max_width": null,
       "min_height": null,
       "min_width": null,
       "object_fit": null,
       "object_position": null,
       "order": null,
       "overflow": null,
       "padding": null,
       "right": null,
       "top": null,
       "visibility": null,
       "width": null
      }
     },
     "d4fdb814f2094a85b5fa450744516a5b": {
      "model_module": "@jupyter-widgets/controls",
      "model_module_version": "2.0.0",
      "model_name": "FloatProgressModel",
      "state": {
       "_dom_classes": [],
       "_model_module": "@jupyter-widgets/controls",
       "_model_module_version": "2.0.0",
       "_model_name": "FloatProgressModel",
       "_view_count": null,
       "_view_module": "@jupyter-widgets/controls",
       "_view_module_version": "2.0.0",
       "_view_name": "ProgressView",
       "bar_style": "success",
       "description": "",
       "description_allow_html": false,
       "layout": "IPY_MODEL_5c3afa46f53a416ea3a2cca56c4d24bf",
       "max": 1797.0,
       "min": 0.0,
       "orientation": "horizontal",
       "style": "IPY_MODEL_1536237ea1e04260bc32273f3bb1cf83",
       "tabbable": null,
       "tooltip": null,
       "value": 1797.0
      }
     },
     "d7ff3da0bc1a415a9f51406907e05453": {
      "model_module": "@jupyter-widgets/base",
      "model_module_version": "2.0.0",
      "model_name": "LayoutModel",
      "state": {
       "_model_module": "@jupyter-widgets/base",
       "_model_module_version": "2.0.0",
       "_model_name": "LayoutModel",
       "_view_count": null,
       "_view_module": "@jupyter-widgets/base",
       "_view_module_version": "2.0.0",
       "_view_name": "LayoutView",
       "align_content": null,
       "align_items": null,
       "align_self": null,
       "border_bottom": null,
       "border_left": null,
       "border_right": null,
       "border_top": null,
       "bottom": null,
       "display": null,
       "flex": null,
       "flex_flow": null,
       "grid_area": null,
       "grid_auto_columns": null,
       "grid_auto_flow": null,
       "grid_auto_rows": null,
       "grid_column": null,
       "grid_gap": null,
       "grid_row": null,
       "grid_template_areas": null,
       "grid_template_columns": null,
       "grid_template_rows": null,
       "height": null,
       "justify_content": null,
       "justify_items": null,
       "left": null,
       "margin": null,
       "max_height": null,
       "max_width": null,
       "min_height": null,
       "min_width": null,
       "object_fit": null,
       "object_position": null,
       "order": null,
       "overflow": null,
       "padding": null,
       "right": null,
       "top": null,
       "visibility": null,
       "width": null
      }
     },
     "e13903c5b00b4a3295a117d478b1215f": {
      "model_module": "@jupyter-widgets/controls",
      "model_module_version": "2.0.0",
      "model_name": "ProgressStyleModel",
      "state": {
       "_model_module": "@jupyter-widgets/controls",
       "_model_module_version": "2.0.0",
       "_model_name": "ProgressStyleModel",
       "_view_count": null,
       "_view_module": "@jupyter-widgets/base",
       "_view_module_version": "2.0.0",
       "_view_name": "StyleView",
       "bar_color": null,
       "description_width": ""
      }
     },
     "e316148527b04a90903a7dc8513ba2bb": {
      "model_module": "@jupyter-widgets/controls",
      "model_module_version": "2.0.0",
      "model_name": "HTMLStyleModel",
      "state": {
       "_model_module": "@jupyter-widgets/controls",
       "_model_module_version": "2.0.0",
       "_model_name": "HTMLStyleModel",
       "_view_count": null,
       "_view_module": "@jupyter-widgets/base",
       "_view_module_version": "2.0.0",
       "_view_name": "StyleView",
       "background": null,
       "description_width": "",
       "font_size": null,
       "text_color": null
      }
     },
     "e8bb0e28321b4f2da06db8cd6aabf978": {
      "model_module": "@jupyter-widgets/controls",
      "model_module_version": "2.0.0",
      "model_name": "FloatProgressModel",
      "state": {
       "_dom_classes": [],
       "_model_module": "@jupyter-widgets/controls",
       "_model_module_version": "2.0.0",
       "_model_name": "FloatProgressModel",
       "_view_count": null,
       "_view_module": "@jupyter-widgets/controls",
       "_view_module_version": "2.0.0",
       "_view_name": "ProgressView",
       "bar_style": "success",
       "description": "",
       "description_allow_html": false,
       "layout": "IPY_MODEL_aaf789a7b92b4bf2867262e670fc127f",
       "max": 1.0,
       "min": 0.0,
       "orientation": "horizontal",
       "style": "IPY_MODEL_26a1f32e840a4ab38eec7a06b6af516b",
       "tabbable": null,
       "tooltip": null,
       "value": 1.0
      }
     },
     "eaa5f9a87a094f69a5f4c08e3b172827": {
      "model_module": "@jupyter-widgets/controls",
      "model_module_version": "2.0.0",
      "model_name": "HTMLModel",
      "state": {
       "_dom_classes": [],
       "_model_module": "@jupyter-widgets/controls",
       "_model_module_version": "2.0.0",
       "_model_name": "HTMLModel",
       "_view_count": null,
       "_view_module": "@jupyter-widgets/controls",
       "_view_module_version": "2.0.0",
       "_view_name": "HTMLView",
       "description": "",
       "description_allow_html": false,
       "layout": "IPY_MODEL_c62d68546c4045f0b2fdadcde31734e5",
       "placeholder": "​",
       "style": "IPY_MODEL_b9808c7c4f5b46ec92d68f9d93dc2f64",
       "tabbable": null,
       "tooltip": null,
       "value": "Predicting DataLoader 0: 100%"
      }
     },
     "eb257699b4654d4a8473126b58d88b41": {
      "model_module": "@jupyter-widgets/base",
      "model_module_version": "2.0.0",
      "model_name": "LayoutModel",
      "state": {
       "_model_module": "@jupyter-widgets/base",
       "_model_module_version": "2.0.0",
       "_model_name": "LayoutModel",
       "_view_count": null,
       "_view_module": "@jupyter-widgets/base",
       "_view_module_version": "2.0.0",
       "_view_name": "LayoutView",
       "align_content": null,
       "align_items": null,
       "align_self": null,
       "border_bottom": null,
       "border_left": null,
       "border_right": null,
       "border_top": null,
       "bottom": null,
       "display": "inline-flex",
       "flex": null,
       "flex_flow": "row wrap",
       "grid_area": null,
       "grid_auto_columns": null,
       "grid_auto_flow": null,
       "grid_auto_rows": null,
       "grid_column": null,
       "grid_gap": null,
       "grid_row": null,
       "grid_template_areas": null,
       "grid_template_columns": null,
       "grid_template_rows": null,
       "height": null,
       "justify_content": null,
       "justify_items": null,
       "left": null,
       "margin": null,
       "max_height": null,
       "max_width": null,
       "min_height": null,
       "min_width": null,
       "object_fit": null,
       "object_position": null,
       "order": null,
       "overflow": null,
       "padding": null,
       "right": null,
       "top": null,
       "visibility": null,
       "width": "100%"
      }
     },
     "ebf341551c564f2b87a029ad46a7d1d7": {
      "model_module": "@jupyter-widgets/controls",
      "model_module_version": "2.0.0",
      "model_name": "HTMLStyleModel",
      "state": {
       "_model_module": "@jupyter-widgets/controls",
       "_model_module_version": "2.0.0",
       "_model_name": "HTMLStyleModel",
       "_view_count": null,
       "_view_module": "@jupyter-widgets/base",
       "_view_module_version": "2.0.0",
       "_view_name": "StyleView",
       "background": null,
       "description_width": "",
       "font_size": null,
       "text_color": null
      }
     },
     "ecb611f16adc432a942e9939a09dc601": {
      "model_module": "@jupyter-widgets/base",
      "model_module_version": "2.0.0",
      "model_name": "LayoutModel",
      "state": {
       "_model_module": "@jupyter-widgets/base",
       "_model_module_version": "2.0.0",
       "_model_name": "LayoutModel",
       "_view_count": null,
       "_view_module": "@jupyter-widgets/base",
       "_view_module_version": "2.0.0",
       "_view_name": "LayoutView",
       "align_content": null,
       "align_items": null,
       "align_self": null,
       "border_bottom": null,
       "border_left": null,
       "border_right": null,
       "border_top": null,
       "bottom": null,
       "display": null,
       "flex": null,
       "flex_flow": null,
       "grid_area": null,
       "grid_auto_columns": null,
       "grid_auto_flow": null,
       "grid_auto_rows": null,
       "grid_column": null,
       "grid_gap": null,
       "grid_row": null,
       "grid_template_areas": null,
       "grid_template_columns": null,
       "grid_template_rows": null,
       "height": null,
       "justify_content": null,
       "justify_items": null,
       "left": null,
       "margin": null,
       "max_height": null,
       "max_width": null,
       "min_height": null,
       "min_width": null,
       "object_fit": null,
       "object_position": null,
       "order": null,
       "overflow": null,
       "padding": null,
       "right": null,
       "top": null,
       "visibility": null,
       "width": null
      }
     },
     "ecc41ff0597b42d2906baf0ba82f1c05": {
      "model_module": "@jupyter-widgets/controls",
      "model_module_version": "2.0.0",
      "model_name": "HBoxModel",
      "state": {
       "_dom_classes": [],
       "_model_module": "@jupyter-widgets/controls",
       "_model_module_version": "2.0.0",
       "_model_name": "HBoxModel",
       "_view_count": null,
       "_view_module": "@jupyter-widgets/controls",
       "_view_module_version": "2.0.0",
       "_view_name": "HBoxView",
       "box_style": "",
       "children": [
        "IPY_MODEL_fa5f3e57929f4e75a8d57548f0161865",
        "IPY_MODEL_79e5cbc09518442aaf7a60030f359129",
        "IPY_MODEL_2c919bfdaed54033a075df38df119e8c"
       ],
       "layout": "IPY_MODEL_6acabf10824a4417ae8e4cbf75ab9ec3",
       "tabbable": null,
       "tooltip": null
      }
     },
     "f1de28a3126f4a9ea41cb52417cddb7b": {
      "model_module": "@jupyter-widgets/controls",
      "model_module_version": "2.0.0",
      "model_name": "HTMLStyleModel",
      "state": {
       "_model_module": "@jupyter-widgets/controls",
       "_model_module_version": "2.0.0",
       "_model_name": "HTMLStyleModel",
       "_view_count": null,
       "_view_module": "@jupyter-widgets/base",
       "_view_module_version": "2.0.0",
       "_view_name": "StyleView",
       "background": null,
       "description_width": "",
       "font_size": null,
       "text_color": null
      }
     },
     "f2939ed32270484f95bed68f6ce7a7e6": {
      "model_module": "@jupyter-widgets/controls",
      "model_module_version": "2.0.0",
      "model_name": "HTMLModel",
      "state": {
       "_dom_classes": [],
       "_model_module": "@jupyter-widgets/controls",
       "_model_module_version": "2.0.0",
       "_model_name": "HTMLModel",
       "_view_count": null,
       "_view_module": "@jupyter-widgets/controls",
       "_view_module_version": "2.0.0",
       "_view_name": "HTMLView",
       "description": "",
       "description_allow_html": false,
       "layout": "IPY_MODEL_11c247036ff843289304dfd85900d3c0",
       "placeholder": "​",
       "style": "IPY_MODEL_6e49c697cf13434991baf698afa24d7e",
       "tabbable": null,
       "tooltip": null,
       "value": " 90.9M/90.9M [00:00&lt;00:00, 227MB/s]"
      }
     },
     "f2a8e848587349babb40d71caaa5fd5a": {
      "model_module": "@jupyter-widgets/controls",
      "model_module_version": "2.0.0",
      "model_name": "FloatProgressModel",
      "state": {
       "_dom_classes": [],
       "_model_module": "@jupyter-widgets/controls",
       "_model_module_version": "2.0.0",
       "_model_name": "FloatProgressModel",
       "_view_count": null,
       "_view_module": "@jupyter-widgets/controls",
       "_view_module_version": "2.0.0",
       "_view_name": "ProgressView",
       "bar_style": "success",
       "description": "",
       "description_allow_html": false,
       "layout": "IPY_MODEL_68abbd6f8dee4682a262e13f3d989507",
       "max": 1797.0,
       "min": 0.0,
       "orientation": "horizontal",
       "style": "IPY_MODEL_5846314fe90f40e29f3eefefeb5eb6bb",
       "tabbable": null,
       "tooltip": null,
       "value": 1797.0
      }
     },
     "f7d11d0bf02648a48431d719b18de1db": {
      "model_module": "@jupyter-widgets/controls",
      "model_module_version": "2.0.0",
      "model_name": "HBoxModel",
      "state": {
       "_dom_classes": [],
       "_model_module": "@jupyter-widgets/controls",
       "_model_module_version": "2.0.0",
       "_model_name": "HBoxModel",
       "_view_count": null,
       "_view_module": "@jupyter-widgets/controls",
       "_view_module_version": "2.0.0",
       "_view_name": "HBoxView",
       "box_style": "",
       "children": [
        "IPY_MODEL_0ca8138aca9544f0b96a2846bac1359d",
        "IPY_MODEL_7ed0f1f552464056b19488511105b324",
        "IPY_MODEL_f2939ed32270484f95bed68f6ce7a7e6"
       ],
       "layout": "IPY_MODEL_44bc1f92cb524a11aaa0c7a5e0d41b48",
       "tabbable": null,
       "tooltip": null
      }
     },
     "f97aef5795a948f0a7b1d4a37aa3aeb4": {
      "model_module": "@jupyter-widgets/base",
      "model_module_version": "2.0.0",
      "model_name": "LayoutModel",
      "state": {
       "_model_module": "@jupyter-widgets/base",
       "_model_module_version": "2.0.0",
       "_model_name": "LayoutModel",
       "_view_count": null,
       "_view_module": "@jupyter-widgets/base",
       "_view_module_version": "2.0.0",
       "_view_name": "LayoutView",
       "align_content": null,
       "align_items": null,
       "align_self": null,
       "border_bottom": null,
       "border_left": null,
       "border_right": null,
       "border_top": null,
       "bottom": null,
       "display": null,
       "flex": null,
       "flex_flow": null,
       "grid_area": null,
       "grid_auto_columns": null,
       "grid_auto_flow": null,
       "grid_auto_rows": null,
       "grid_column": null,
       "grid_gap": null,
       "grid_row": null,
       "grid_template_areas": null,
       "grid_template_columns": null,
       "grid_template_rows": null,
       "height": null,
       "justify_content": null,
       "justify_items": null,
       "left": null,
       "margin": null,
       "max_height": null,
       "max_width": null,
       "min_height": null,
       "min_width": null,
       "object_fit": null,
       "object_position": null,
       "order": null,
       "overflow": null,
       "padding": null,
       "right": null,
       "top": null,
       "visibility": null,
       "width": null
      }
     },
     "f9a0f25948354321afab62e7e9225f7c": {
      "model_module": "@jupyter-widgets/base",
      "model_module_version": "2.0.0",
      "model_name": "LayoutModel",
      "state": {
       "_model_module": "@jupyter-widgets/base",
       "_model_module_version": "2.0.0",
       "_model_name": "LayoutModel",
       "_view_count": null,
       "_view_module": "@jupyter-widgets/base",
       "_view_module_version": "2.0.0",
       "_view_name": "LayoutView",
       "align_content": null,
       "align_items": null,
       "align_self": null,
       "border_bottom": null,
       "border_left": null,
       "border_right": null,
       "border_top": null,
       "bottom": null,
       "display": null,
       "flex": null,
       "flex_flow": null,
       "grid_area": null,
       "grid_auto_columns": null,
       "grid_auto_flow": null,
       "grid_auto_rows": null,
       "grid_column": null,
       "grid_gap": null,
       "grid_row": null,
       "grid_template_areas": null,
       "grid_template_columns": null,
       "grid_template_rows": null,
       "height": null,
       "justify_content": null,
       "justify_items": null,
       "left": null,
       "margin": null,
       "max_height": null,
       "max_width": null,
       "min_height": null,
       "min_width": null,
       "object_fit": null,
       "object_position": null,
       "order": null,
       "overflow": null,
       "padding": null,
       "right": null,
       "top": null,
       "visibility": null,
       "width": null
      }
     },
     "fa5f3e57929f4e75a8d57548f0161865": {
      "model_module": "@jupyter-widgets/controls",
      "model_module_version": "2.0.0",
      "model_name": "HTMLModel",
      "state": {
       "_dom_classes": [],
       "_model_module": "@jupyter-widgets/controls",
       "_model_module_version": "2.0.0",
       "_model_name": "HTMLModel",
       "_view_count": null,
       "_view_module": "@jupyter-widgets/controls",
       "_view_module_version": "2.0.0",
       "_view_name": "HTMLView",
       "description": "",
       "description_allow_html": false,
       "layout": "IPY_MODEL_4b8f9a1f915644af94e4b84a70bd9a98",
       "placeholder": "​",
       "style": "IPY_MODEL_f1de28a3126f4a9ea41cb52417cddb7b",
       "tabbable": null,
       "tooltip": null,
       "value": "config.json: 100%"
      }
     },
     "fbaa008346c045ae8896d96d98c1c3ac": {
      "model_module": "@jupyter-widgets/base",
      "model_module_version": "2.0.0",
      "model_name": "LayoutModel",
      "state": {
       "_model_module": "@jupyter-widgets/base",
       "_model_module_version": "2.0.0",
       "_model_name": "LayoutModel",
       "_view_count": null,
       "_view_module": "@jupyter-widgets/base",
       "_view_module_version": "2.0.0",
       "_view_name": "LayoutView",
       "align_content": null,
       "align_items": null,
       "align_self": null,
       "border_bottom": null,
       "border_left": null,
       "border_right": null,
       "border_top": null,
       "bottom": null,
       "display": null,
       "flex": null,
       "flex_flow": null,
       "grid_area": null,
       "grid_auto_columns": null,
       "grid_auto_flow": null,
       "grid_auto_rows": null,
       "grid_column": null,
       "grid_gap": null,
       "grid_row": null,
       "grid_template_areas": null,
       "grid_template_columns": null,
       "grid_template_rows": null,
       "height": null,
       "justify_content": null,
       "justify_items": null,
       "left": null,
       "margin": null,
       "max_height": null,
       "max_width": null,
       "min_height": null,
       "min_width": null,
       "object_fit": null,
       "object_position": null,
       "order": null,
       "overflow": null,
       "padding": null,
       "right": null,
       "top": null,
       "visibility": null,
       "width": null
      }
     },
     "fd0cc0174e494c26a1009f94f701185e": {
      "model_module": "@jupyter-widgets/controls",
      "model_module_version": "2.0.0",
      "model_name": "HTMLStyleModel",
      "state": {
       "_model_module": "@jupyter-widgets/controls",
       "_model_module_version": "2.0.0",
       "_model_name": "HTMLStyleModel",
       "_view_count": null,
       "_view_module": "@jupyter-widgets/base",
       "_view_module_version": "2.0.0",
       "_view_name": "StyleView",
       "background": null,
       "description_width": "",
       "font_size": null,
       "text_color": null
      }
     },
     "fe3e2183ea7c4eb3bde2e4cb28a209ab": {
      "model_module": "@jupyter-widgets/controls",
      "model_module_version": "2.0.0",
      "model_name": "HBoxModel",
      "state": {
       "_dom_classes": [],
       "_model_module": "@jupyter-widgets/controls",
       "_model_module_version": "2.0.0",
       "_model_name": "HBoxModel",
       "_view_count": null,
       "_view_module": "@jupyter-widgets/controls",
       "_view_module_version": "2.0.0",
       "_view_name": "HBoxView",
       "box_style": "",
       "children": [
        "IPY_MODEL_3a51a43bd17d442481a695e659390f9e",
        "IPY_MODEL_220703689d934eeb96cad2729e157cf4",
        "IPY_MODEL_96d1c23c81ab4da2a82bde44b087df31"
       ],
       "layout": "IPY_MODEL_646cf2a9200845619a038f61f39d976e",
       "tabbable": null,
       "tooltip": null
      }
     }
    },
    "version_major": 2,
    "version_minor": 0
   }
  }
 },
 "nbformat": 4,
 "nbformat_minor": 5
}
