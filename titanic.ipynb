{
 "cells": [
  {
   "cell_type": "code",
   "execution_count": 1,
   "id": "114fe2ce",
   "metadata": {
    "_cell_guid": "b1076dfc-b9ad-4769-8c92-a6c4dae69d19",
    "_uuid": "8f2839f25d086af736a60e9eeb907d3b93b6e0e5",
    "execution": {
     "iopub.execute_input": "2025-01-28T08:59:01.099046Z",
     "iopub.status.busy": "2025-01-28T08:59:01.098815Z",
     "iopub.status.idle": "2025-01-28T08:59:02.924472Z",
     "shell.execute_reply": "2025-01-28T08:59:02.923577Z"
    },
    "papermill": {
     "duration": 1.836203,
     "end_time": "2025-01-28T08:59:02.925836",
     "exception": false,
     "start_time": "2025-01-28T08:59:01.089633",
     "status": "completed"
    },
    "tags": []
   },
   "outputs": [
    {
     "name": "stdout",
     "output_type": "stream",
     "text": [
      "/kaggle/input/titanic/train.csv\n",
      "/kaggle/input/titanic/test.csv\n",
      "/kaggle/input/titanic/gender_submission.csv\n"
     ]
    }
   ],
   "source": [
    "import numpy as np\n",
    "import pandas as pd\n",
    "import seaborn as sns\n",
    "import matplotlib.pyplot as plt\n",
    "import os\n",
    "for dirname, _, filenames in os.walk('/kaggle/input'):\n",
    "    for filename in filenames:\n",
    "        print(os.path.join(dirname, filename))"
   ]
  },
  {
   "cell_type": "markdown",
   "id": "e60c7c63",
   "metadata": {
    "papermill": {
     "duration": 0.007663,
     "end_time": "2025-01-28T08:59:02.941789",
     "exception": false,
     "start_time": "2025-01-28T08:59:02.934126",
     "status": "completed"
    },
    "tags": []
   },
   "source": [
    "## Load Data"
   ]
  },
  {
   "cell_type": "code",
   "execution_count": 2,
   "id": "7e045609",
   "metadata": {
    "execution": {
     "iopub.execute_input": "2025-01-28T08:59:02.958001Z",
     "iopub.status.busy": "2025-01-28T08:59:02.957695Z",
     "iopub.status.idle": "2025-01-28T08:59:02.999127Z",
     "shell.execute_reply": "2025-01-28T08:59:02.998284Z"
    },
    "papermill": {
     "duration": 0.05093,
     "end_time": "2025-01-28T08:59:03.000378",
     "exception": false,
     "start_time": "2025-01-28T08:59:02.949448",
     "status": "completed"
    },
    "tags": []
   },
   "outputs": [
    {
     "data": {
      "text/html": [
       "<div>\n",
       "<style scoped>\n",
       "    .dataframe tbody tr th:only-of-type {\n",
       "        vertical-align: middle;\n",
       "    }\n",
       "\n",
       "    .dataframe tbody tr th {\n",
       "        vertical-align: top;\n",
       "    }\n",
       "\n",
       "    .dataframe thead th {\n",
       "        text-align: right;\n",
       "    }\n",
       "</style>\n",
       "<table border=\"1\" class=\"dataframe\">\n",
       "  <thead>\n",
       "    <tr style=\"text-align: right;\">\n",
       "      <th></th>\n",
       "      <th>Survived</th>\n",
       "      <th>Pclass</th>\n",
       "      <th>Name</th>\n",
       "      <th>Sex</th>\n",
       "      <th>Age</th>\n",
       "      <th>SibSp</th>\n",
       "      <th>Parch</th>\n",
       "      <th>Ticket</th>\n",
       "      <th>Fare</th>\n",
       "      <th>Cabin</th>\n",
       "      <th>Embarked</th>\n",
       "    </tr>\n",
       "    <tr>\n",
       "      <th>PassengerId</th>\n",
       "      <th></th>\n",
       "      <th></th>\n",
       "      <th></th>\n",
       "      <th></th>\n",
       "      <th></th>\n",
       "      <th></th>\n",
       "      <th></th>\n",
       "      <th></th>\n",
       "      <th></th>\n",
       "      <th></th>\n",
       "      <th></th>\n",
       "    </tr>\n",
       "  </thead>\n",
       "  <tbody>\n",
       "    <tr>\n",
       "      <th>1</th>\n",
       "      <td>0</td>\n",
       "      <td>3</td>\n",
       "      <td>Braund, Mr. Owen Harris</td>\n",
       "      <td>male</td>\n",
       "      <td>22.0</td>\n",
       "      <td>1</td>\n",
       "      <td>0</td>\n",
       "      <td>A/5 21171</td>\n",
       "      <td>7.2500</td>\n",
       "      <td>NaN</td>\n",
       "      <td>S</td>\n",
       "    </tr>\n",
       "    <tr>\n",
       "      <th>2</th>\n",
       "      <td>1</td>\n",
       "      <td>1</td>\n",
       "      <td>Cumings, Mrs. John Bradley (Florence Briggs Th...</td>\n",
       "      <td>female</td>\n",
       "      <td>38.0</td>\n",
       "      <td>1</td>\n",
       "      <td>0</td>\n",
       "      <td>PC 17599</td>\n",
       "      <td>71.2833</td>\n",
       "      <td>C85</td>\n",
       "      <td>C</td>\n",
       "    </tr>\n",
       "    <tr>\n",
       "      <th>3</th>\n",
       "      <td>1</td>\n",
       "      <td>3</td>\n",
       "      <td>Heikkinen, Miss. Laina</td>\n",
       "      <td>female</td>\n",
       "      <td>26.0</td>\n",
       "      <td>0</td>\n",
       "      <td>0</td>\n",
       "      <td>STON/O2. 3101282</td>\n",
       "      <td>7.9250</td>\n",
       "      <td>NaN</td>\n",
       "      <td>S</td>\n",
       "    </tr>\n",
       "    <tr>\n",
       "      <th>4</th>\n",
       "      <td>1</td>\n",
       "      <td>1</td>\n",
       "      <td>Futrelle, Mrs. Jacques Heath (Lily May Peel)</td>\n",
       "      <td>female</td>\n",
       "      <td>35.0</td>\n",
       "      <td>1</td>\n",
       "      <td>0</td>\n",
       "      <td>113803</td>\n",
       "      <td>53.1000</td>\n",
       "      <td>C123</td>\n",
       "      <td>S</td>\n",
       "    </tr>\n",
       "    <tr>\n",
       "      <th>5</th>\n",
       "      <td>0</td>\n",
       "      <td>3</td>\n",
       "      <td>Allen, Mr. William Henry</td>\n",
       "      <td>male</td>\n",
       "      <td>35.0</td>\n",
       "      <td>0</td>\n",
       "      <td>0</td>\n",
       "      <td>373450</td>\n",
       "      <td>8.0500</td>\n",
       "      <td>NaN</td>\n",
       "      <td>S</td>\n",
       "    </tr>\n",
       "    <tr>\n",
       "      <th>6</th>\n",
       "      <td>0</td>\n",
       "      <td>3</td>\n",
       "      <td>Moran, Mr. James</td>\n",
       "      <td>male</td>\n",
       "      <td>NaN</td>\n",
       "      <td>0</td>\n",
       "      <td>0</td>\n",
       "      <td>330877</td>\n",
       "      <td>8.4583</td>\n",
       "      <td>NaN</td>\n",
       "      <td>Q</td>\n",
       "    </tr>\n",
       "    <tr>\n",
       "      <th>7</th>\n",
       "      <td>0</td>\n",
       "      <td>1</td>\n",
       "      <td>McCarthy, Mr. Timothy J</td>\n",
       "      <td>male</td>\n",
       "      <td>54.0</td>\n",
       "      <td>0</td>\n",
       "      <td>0</td>\n",
       "      <td>17463</td>\n",
       "      <td>51.8625</td>\n",
       "      <td>E46</td>\n",
       "      <td>S</td>\n",
       "    </tr>\n",
       "    <tr>\n",
       "      <th>8</th>\n",
       "      <td>0</td>\n",
       "      <td>3</td>\n",
       "      <td>Palsson, Master. Gosta Leonard</td>\n",
       "      <td>male</td>\n",
       "      <td>2.0</td>\n",
       "      <td>3</td>\n",
       "      <td>1</td>\n",
       "      <td>349909</td>\n",
       "      <td>21.0750</td>\n",
       "      <td>NaN</td>\n",
       "      <td>S</td>\n",
       "    </tr>\n",
       "    <tr>\n",
       "      <th>9</th>\n",
       "      <td>1</td>\n",
       "      <td>3</td>\n",
       "      <td>Johnson, Mrs. Oscar W (Elisabeth Vilhelmina Berg)</td>\n",
       "      <td>female</td>\n",
       "      <td>27.0</td>\n",
       "      <td>0</td>\n",
       "      <td>2</td>\n",
       "      <td>347742</td>\n",
       "      <td>11.1333</td>\n",
       "      <td>NaN</td>\n",
       "      <td>S</td>\n",
       "    </tr>\n",
       "    <tr>\n",
       "      <th>10</th>\n",
       "      <td>1</td>\n",
       "      <td>2</td>\n",
       "      <td>Nasser, Mrs. Nicholas (Adele Achem)</td>\n",
       "      <td>female</td>\n",
       "      <td>14.0</td>\n",
       "      <td>1</td>\n",
       "      <td>0</td>\n",
       "      <td>237736</td>\n",
       "      <td>30.0708</td>\n",
       "      <td>NaN</td>\n",
       "      <td>C</td>\n",
       "    </tr>\n",
       "  </tbody>\n",
       "</table>\n",
       "</div>"
      ],
      "text/plain": [
       "             Survived  Pclass  \\\n",
       "PassengerId                     \n",
       "1                   0       3   \n",
       "2                   1       1   \n",
       "3                   1       3   \n",
       "4                   1       1   \n",
       "5                   0       3   \n",
       "6                   0       3   \n",
       "7                   0       1   \n",
       "8                   0       3   \n",
       "9                   1       3   \n",
       "10                  1       2   \n",
       "\n",
       "                                                          Name     Sex   Age  \\\n",
       "PassengerId                                                                    \n",
       "1                                      Braund, Mr. Owen Harris    male  22.0   \n",
       "2            Cumings, Mrs. John Bradley (Florence Briggs Th...  female  38.0   \n",
       "3                                       Heikkinen, Miss. Laina  female  26.0   \n",
       "4                 Futrelle, Mrs. Jacques Heath (Lily May Peel)  female  35.0   \n",
       "5                                     Allen, Mr. William Henry    male  35.0   \n",
       "6                                             Moran, Mr. James    male   NaN   \n",
       "7                                      McCarthy, Mr. Timothy J    male  54.0   \n",
       "8                               Palsson, Master. Gosta Leonard    male   2.0   \n",
       "9            Johnson, Mrs. Oscar W (Elisabeth Vilhelmina Berg)  female  27.0   \n",
       "10                         Nasser, Mrs. Nicholas (Adele Achem)  female  14.0   \n",
       "\n",
       "             SibSp  Parch            Ticket     Fare Cabin Embarked  \n",
       "PassengerId                                                          \n",
       "1                1      0         A/5 21171   7.2500   NaN        S  \n",
       "2                1      0          PC 17599  71.2833   C85        C  \n",
       "3                0      0  STON/O2. 3101282   7.9250   NaN        S  \n",
       "4                1      0            113803  53.1000  C123        S  \n",
       "5                0      0            373450   8.0500   NaN        S  \n",
       "6                0      0            330877   8.4583   NaN        Q  \n",
       "7                0      0             17463  51.8625   E46        S  \n",
       "8                3      1            349909  21.0750   NaN        S  \n",
       "9                0      2            347742  11.1333   NaN        S  \n",
       "10               1      0            237736  30.0708   NaN        C  "
      ]
     },
     "execution_count": 2,
     "metadata": {},
     "output_type": "execute_result"
    }
   ],
   "source": [
    "train_df = pd.read_csv(\"/kaggle/input/titanic/train.csv\", index_col=0)\n",
    "train_df.head(10)"
   ]
  },
  {
   "cell_type": "code",
   "execution_count": 3,
   "id": "f0a1e06b",
   "metadata": {
    "execution": {
     "iopub.execute_input": "2025-01-28T08:59:03.017357Z",
     "iopub.status.busy": "2025-01-28T08:59:03.017127Z",
     "iopub.status.idle": "2025-01-28T08:59:03.021540Z",
     "shell.execute_reply": "2025-01-28T08:59:03.020710Z"
    },
    "papermill": {
     "duration": 0.014157,
     "end_time": "2025-01-28T08:59:03.022826",
     "exception": false,
     "start_time": "2025-01-28T08:59:03.008669",
     "status": "completed"
    },
    "tags": []
   },
   "outputs": [
    {
     "data": {
      "text/plain": [
       "891"
      ]
     },
     "execution_count": 3,
     "metadata": {},
     "output_type": "execute_result"
    }
   ],
   "source": [
    "len(train_df)"
   ]
  },
  {
   "cell_type": "markdown",
   "id": "01db67ba",
   "metadata": {
    "papermill": {
     "duration": 0.007933,
     "end_time": "2025-01-28T08:59:03.038808",
     "exception": false,
     "start_time": "2025-01-28T08:59:03.030875",
     "status": "completed"
    },
    "tags": []
   },
   "source": [
    "## Explore Data"
   ]
  },
  {
   "attachments": {
    "32b3126c-ecdb-46fc-86b2-f22ddf6e6809.png": {
     "image/png": "[encoded data removed]"
    }
   },
   "cell_type": "markdown",
   "id": "58973c0d",
   "metadata": {
    "papermill": {
     "duration": 0.007864,
     "end_time": "2025-01-28T08:59:03.054937",
     "exception": false,
     "start_time": "2025-01-28T08:59:03.047073",
     "status": "completed"
    },
    "tags": []
   },
   "source": [
    "![image.png](attachment:32b3126c-ecdb-46fc-86b2-f22ddf6e6809.png)"
   ]
  },
  {
   "cell_type": "code",
   "execution_count": 4,
   "id": "6dd0bbc0",
   "metadata": {
    "execution": {
     "iopub.execute_input": "2025-01-28T08:59:03.071971Z",
     "iopub.status.busy": "2025-01-28T08:59:03.071745Z",
     "iopub.status.idle": "2025-01-28T08:59:03.075943Z",
     "shell.execute_reply": "2025-01-28T08:59:03.075274Z"
    },
    "papermill": {
     "duration": 0.014341,
     "end_time": "2025-01-28T08:59:03.077261",
     "exception": false,
     "start_time": "2025-01-28T08:59:03.062920",
     "status": "completed"
    },
    "tags": []
   },
   "outputs": [
    {
     "data": {
      "text/plain": [
       "891"
      ]
     },
     "execution_count": 4,
     "metadata": {},
     "output_type": "execute_result"
    }
   ],
   "source": [
    "len(train_df)"
   ]
  },
  {
   "cell_type": "code",
   "execution_count": 5,
   "id": "d97068eb",
   "metadata": {
    "execution": {
     "iopub.execute_input": "2025-01-28T08:59:03.094134Z",
     "iopub.status.busy": "2025-01-28T08:59:03.093934Z",
     "iopub.status.idle": "2025-01-28T08:59:03.114276Z",
     "shell.execute_reply": "2025-01-28T08:59:03.113532Z"
    },
    "papermill": {
     "duration": 0.030202,
     "end_time": "2025-01-28T08:59:03.115573",
     "exception": false,
     "start_time": "2025-01-28T08:59:03.085371",
     "status": "completed"
    },
    "tags": []
   },
   "outputs": [
    {
     "data": {
      "text/html": [
       "<div>\n",
       "<style scoped>\n",
       "    .dataframe tbody tr th:only-of-type {\n",
       "        vertical-align: middle;\n",
       "    }\n",
       "\n",
       "    .dataframe tbody tr th {\n",
       "        vertical-align: top;\n",
       "    }\n",
       "\n",
       "    .dataframe thead th {\n",
       "        text-align: right;\n",
       "    }\n",
       "</style>\n",
       "<table border=\"1\" class=\"dataframe\">\n",
       "  <thead>\n",
       "    <tr style=\"text-align: right;\">\n",
       "      <th></th>\n",
       "      <th>Survived</th>\n",
       "      <th>Pclass</th>\n",
       "      <th>Age</th>\n",
       "      <th>SibSp</th>\n",
       "      <th>Parch</th>\n",
       "      <th>Fare</th>\n",
       "    </tr>\n",
       "  </thead>\n",
       "  <tbody>\n",
       "    <tr>\n",
       "      <th>count</th>\n",
       "      <td>891.000000</td>\n",
       "      <td>891.000000</td>\n",
       "      <td>714.000000</td>\n",
       "      <td>891.000000</td>\n",
       "      <td>891.000000</td>\n",
       "      <td>891.000000</td>\n",
       "    </tr>\n",
       "    <tr>\n",
       "      <th>mean</th>\n",
       "      <td>0.383838</td>\n",
       "      <td>2.308642</td>\n",
       "      <td>29.699118</td>\n",
       "      <td>0.523008</td>\n",
       "      <td>0.381594</td>\n",
       "      <td>32.204208</td>\n",
       "    </tr>\n",
       "    <tr>\n",
       "      <th>std</th>\n",
       "      <td>0.486592</td>\n",
       "      <td>0.836071</td>\n",
       "      <td>14.526497</td>\n",
       "      <td>1.102743</td>\n",
       "      <td>0.806057</td>\n",
       "      <td>49.693429</td>\n",
       "    </tr>\n",
       "    <tr>\n",
       "      <th>min</th>\n",
       "      <td>0.000000</td>\n",
       "      <td>1.000000</td>\n",
       "      <td>0.420000</td>\n",
       "      <td>0.000000</td>\n",
       "      <td>0.000000</td>\n",
       "      <td>0.000000</td>\n",
       "    </tr>\n",
       "    <tr>\n",
       "      <th>25%</th>\n",
       "      <td>0.000000</td>\n",
       "      <td>2.000000</td>\n",
       "      <td>20.125000</td>\n",
       "      <td>0.000000</td>\n",
       "      <td>0.000000</td>\n",
       "      <td>7.910400</td>\n",
       "    </tr>\n",
       "    <tr>\n",
       "      <th>50%</th>\n",
       "      <td>0.000000</td>\n",
       "      <td>3.000000</td>\n",
       "      <td>28.000000</td>\n",
       "      <td>0.000000</td>\n",
       "      <td>0.000000</td>\n",
       "      <td>14.454200</td>\n",
       "    </tr>\n",
       "    <tr>\n",
       "      <th>75%</th>\n",
       "      <td>1.000000</td>\n",
       "      <td>3.000000</td>\n",
       "      <td>38.000000</td>\n",
       "      <td>1.000000</td>\n",
       "      <td>0.000000</td>\n",
       "      <td>31.000000</td>\n",
       "    </tr>\n",
       "    <tr>\n",
       "      <th>max</th>\n",
       "      <td>1.000000</td>\n",
       "      <td>3.000000</td>\n",
       "      <td>80.000000</td>\n",
       "      <td>8.000000</td>\n",
       "      <td>6.000000</td>\n",
       "      <td>512.329200</td>\n",
       "    </tr>\n",
       "  </tbody>\n",
       "</table>\n",
       "</div>"
      ],
      "text/plain": [
       "         Survived      Pclass         Age       SibSp       Parch        Fare\n",
       "count  891.000000  891.000000  714.000000  891.000000  891.000000  891.000000\n",
       "mean     0.383838    2.308642   29.699118    0.523008    0.381594   32.204208\n",
       "std      0.486592    0.836071   14.526497    1.102743    0.806057   49.693429\n",
       "min      0.000000    1.000000    0.420000    0.000000    0.000000    0.000000\n",
       "25%      0.000000    2.000000   20.125000    0.000000    0.000000    7.910400\n",
       "50%      0.000000    3.000000   28.000000    0.000000    0.000000   14.454200\n",
       "75%      1.000000    3.000000   38.000000    1.000000    0.000000   31.000000\n",
       "max      1.000000    3.000000   80.000000    8.000000    6.000000  512.329200"
      ]
     },
     "execution_count": 5,
     "metadata": {},
     "output_type": "execute_result"
    }
   ],
   "source": [
    "train_df.describe()"
   ]
  },
  {
   "cell_type": "code",
   "execution_count": 6,
   "id": "c2e57ec1",
   "metadata": {
    "execution": {
     "iopub.execute_input": "2025-01-28T08:59:03.133427Z",
     "iopub.status.busy": "2025-01-28T08:59:03.133216Z",
     "iopub.status.idle": "2025-01-28T08:59:03.137343Z",
     "shell.execute_reply": "2025-01-28T08:59:03.136513Z"
    },
    "papermill": {
     "duration": 0.01405,
     "end_time": "2025-01-28T08:59:03.138627",
     "exception": false,
     "start_time": "2025-01-28T08:59:03.124577",
     "status": "completed"
    },
    "tags": []
   },
   "outputs": [
    {
     "name": "stdout",
     "output_type": "stream",
     "text": [
      "count of items to be dropped 177\n",
      "count of items left 714\n"
     ]
    }
   ],
   "source": [
    "# age has some null value\n",
    "# should we try dropping them for now?\n",
    "\n",
    "# count of rows that will be dropped\n",
    "print(f\"count of items to be dropped {len(train_df) - 714}\")\n",
    "\n",
    "# rows lefr\n",
    "print(f\"count of items left {len(train_df) - len(train_df) + 714}\")"
   ]
  },
  {
   "cell_type": "code",
   "execution_count": 7,
   "id": "f5ef7641",
   "metadata": {
    "execution": {
     "iopub.execute_input": "2025-01-28T08:59:03.155995Z",
     "iopub.status.busy": "2025-01-28T08:59:03.155748Z",
     "iopub.status.idle": "2025-01-28T08:59:03.160776Z",
     "shell.execute_reply": "2025-01-28T08:59:03.160145Z"
    },
    "papermill": {
     "duration": 0.01501,
     "end_time": "2025-01-28T08:59:03.162015",
     "exception": false,
     "start_time": "2025-01-28T08:59:03.147005",
     "status": "completed"
    },
    "tags": []
   },
   "outputs": [
    {
     "data": {
      "text/plain": [
       "Survived      0\n",
       "Pclass        0\n",
       "Name          0\n",
       "Sex           0\n",
       "Age         177\n",
       "SibSp         0\n",
       "Parch         0\n",
       "Ticket        0\n",
       "Fare          0\n",
       "Cabin       687\n",
       "Embarked      2\n",
       "dtype: int64"
      ]
     },
     "execution_count": 7,
     "metadata": {},
     "output_type": "execute_result"
    }
   ],
   "source": [
    "train_df.isna().sum()"
   ]
  },
  {
   "cell_type": "code",
   "execution_count": 8,
   "id": "bf2c5506",
   "metadata": {
    "execution": {
     "iopub.execute_input": "2025-01-28T08:59:03.179756Z",
     "iopub.status.busy": "2025-01-28T08:59:03.179559Z",
     "iopub.status.idle": "2025-01-28T08:59:03.182219Z",
     "shell.execute_reply": "2025-01-28T08:59:03.181576Z"
    },
    "papermill": {
     "duration": 0.012929,
     "end_time": "2025-01-28T08:59:03.183434",
     "exception": false,
     "start_time": "2025-01-28T08:59:03.170505",
     "status": "completed"
    },
    "tags": []
   },
   "outputs": [],
   "source": [
    "# cabin has 687 nulls, i dont think we can learn anything using it though"
   ]
  },
  {
   "cell_type": "code",
   "execution_count": 9,
   "id": "bce01511",
   "metadata": {
    "execution": {
     "iopub.execute_input": "2025-01-28T08:59:03.200722Z",
     "iopub.status.busy": "2025-01-28T08:59:03.200497Z",
     "iopub.status.idle": "2025-01-28T08:59:03.206809Z",
     "shell.execute_reply": "2025-01-28T08:59:03.206176Z"
    },
    "papermill": {
     "duration": 0.016313,
     "end_time": "2025-01-28T08:59:03.208107",
     "exception": false,
     "start_time": "2025-01-28T08:59:03.191794",
     "status": "completed"
    },
    "tags": []
   },
   "outputs": [
    {
     "data": {
      "text/plain": [
       "Survived\n",
       "0    549\n",
       "1    342\n",
       "Name: count, dtype: int64"
      ]
     },
     "execution_count": 9,
     "metadata": {},
     "output_type": "execute_result"
    }
   ],
   "source": [
    "# lets check balance now\n",
    "train_df[\"Survived\"].value_counts()"
   ]
  },
  {
   "cell_type": "code",
   "execution_count": 10,
   "id": "c39f3aff",
   "metadata": {
    "execution": {
     "iopub.execute_input": "2025-01-28T08:59:03.225900Z",
     "iopub.status.busy": "2025-01-28T08:59:03.225667Z",
     "iopub.status.idle": "2025-01-28T08:59:03.231454Z",
     "shell.execute_reply": "2025-01-28T08:59:03.230539Z"
    },
    "papermill": {
     "duration": 0.016625,
     "end_time": "2025-01-28T08:59:03.233285",
     "exception": false,
     "start_time": "2025-01-28T08:59:03.216660",
     "status": "completed"
    },
    "tags": []
   },
   "outputs": [
    {
     "name": "stdout",
     "output_type": "stream",
     "text": [
      "Survived\n",
      "0    61.616162\n",
      "1    38.383838\n",
      "Name: proportion, dtype: float64\n",
      "The dataset is balanced.\n"
     ]
    }
   ],
   "source": [
    "class_percentages = train_df[\"Survived\"].value_counts(normalize=True) * 100\n",
    "\n",
    "print(class_percentages)\n",
    "\n",
    "threshold = 70  # Adjust this as needed\n",
    "is_balanced = all(class_percentages < threshold)\n",
    "\n",
    "if is_balanced:\n",
    "    print(\"The dataset is balanced.\")\n",
    "else:\n",
    "    print(\"The dataset is imbalanced.\")"
   ]
  },
  {
   "cell_type": "code",
   "execution_count": 11,
   "id": "14cb466b",
   "metadata": {
    "execution": {
     "iopub.execute_input": "2025-01-28T08:59:03.251406Z",
     "iopub.status.busy": "2025-01-28T08:59:03.251169Z",
     "iopub.status.idle": "2025-01-28T08:59:03.254034Z",
     "shell.execute_reply": "2025-01-28T08:59:03.253237Z"
    },
    "papermill": {
     "duration": 0.012929,
     "end_time": "2025-01-28T08:59:03.255261",
     "exception": false,
     "start_time": "2025-01-28T08:59:03.242332",
     "status": "completed"
    },
    "tags": []
   },
   "outputs": [],
   "source": [
    "# so model can easily get 61% accuracy if it always predics 0\n",
    "# so this will be our basepoint"
   ]
  },
  {
   "cell_type": "code",
   "execution_count": 12,
   "id": "70bfb63a",
   "metadata": {
    "execution": {
     "iopub.execute_input": "2025-01-28T08:59:03.273330Z",
     "iopub.status.busy": "2025-01-28T08:59:03.273126Z",
     "iopub.status.idle": "2025-01-28T08:59:03.292974Z",
     "shell.execute_reply": "2025-01-28T08:59:03.292182Z"
    },
    "papermill": {
     "duration": 0.03017,
     "end_time": "2025-01-28T08:59:03.294286",
     "exception": false,
     "start_time": "2025-01-28T08:59:03.264116",
     "status": "completed"
    },
    "tags": []
   },
   "outputs": [
    {
     "name": "stdout",
     "output_type": "stream",
     "text": [
      "Column: Survived\n",
      "Outliers: 0\n",
      "Column: Pclass\n",
      "Outliers: 0\n",
      "Column: Age\n",
      "Outliers: 11\n",
      "Column: SibSp\n",
      "Outliers: 46\n",
      "Column: Parch\n",
      "Outliers: 213\n",
      "Column: Fare\n",
      "Outliers: 116\n"
     ]
    }
   ],
   "source": [
    "# check outliers\n",
    "# Identify outliers for each column\n",
    "for column in train_df.select_dtypes(include=[np.number]):  # Only numerical columns\n",
    "    Q1 = train_df[column].quantile(0.25)  # First quartile (25th percentile)\n",
    "    Q3 = train_df[column].quantile(0.75)  # Third quartile (75th percentile)\n",
    "    IQR = Q3 - Q1  # Interquartile range\n",
    "    lower_bound = Q1 - 1.5 * IQR\n",
    "    upper_bound = Q3 + 1.5 * IQR\n",
    "\n",
    "    print(f\"Column: {column}\")\n",
    "    print(f\"Outliers: {len(train_df[(train_df[column] < lower_bound) | (train_df[column] > upper_bound)][column].tolist())}\")"
   ]
  },
  {
   "cell_type": "markdown",
   "id": "1b62fcca",
   "metadata": {
    "papermill": {
     "duration": 0.008347,
     "end_time": "2025-01-28T08:59:03.311608",
     "exception": false,
     "start_time": "2025-01-28T08:59:03.303261",
     "status": "completed"
    },
    "tags": []
   },
   "source": [
    "## Create Dataset Class"
   ]
  },
  {
   "cell_type": "code",
   "execution_count": 13,
   "id": "8c165325",
   "metadata": {
    "execution": {
     "iopub.execute_input": "2025-01-28T08:59:03.329529Z",
     "iopub.status.busy": "2025-01-28T08:59:03.329305Z",
     "iopub.status.idle": "2025-01-28T08:59:03.586079Z",
     "shell.execute_reply": "2025-01-28T08:59:03.585303Z"
    },
    "papermill": {
     "duration": 0.267083,
     "end_time": "2025-01-28T08:59:03.587298",
     "exception": false,
     "start_time": "2025-01-28T08:59:03.320215",
     "status": "completed"
    },
    "tags": []
   },
   "outputs": [
    {
     "data": {
      "image/png": "[encoded data removed]",
      "text/plain": [
       "<Figure size 640x480 with 1 Axes>"
      ]
     },
     "metadata": {},
     "output_type": "display_data"
    }
   ],
   "source": [
    "sns.countplot(x='Sex', hue='Survived', data=train_df)\n",
    "\n",
    "total = len(train_df)\n",
    "\n",
    "# Add percentage annotations\n",
    "\n",
    "for p in plt.gca().patches:\n",
    "    height = p.get_height()\n",
    "    width = p.get_width()\n",
    "    x, y = p.get_xy()  # Get position of each bar\n",
    "    percentage = height / total * 100\n",
    "    plt.text(x + width / 2, y + height + 5, f'{percentage:.1f}%', ha='center')\n",
    "\n",
    "plt.title('Count of Survived vs. Not Survived by Gender')\n",
    "plt.xlabel('Gender')\n",
    "plt.ylabel('Count')\n",
    "plt.show()"
   ]
  },
  {
   "cell_type": "code",
   "execution_count": 14,
   "id": "c06e2d45",
   "metadata": {
    "execution": {
     "iopub.execute_input": "2025-01-28T08:59:03.606298Z",
     "iopub.status.busy": "2025-01-28T08:59:03.606066Z",
     "iopub.status.idle": "2025-01-28T08:59:03.932053Z",
     "shell.execute_reply": "2025-01-28T08:59:03.931139Z"
    },
    "papermill": {
     "duration": 0.337153,
     "end_time": "2025-01-28T08:59:03.933373",
     "exception": false,
     "start_time": "2025-01-28T08:59:03.596220",
     "status": "completed"
    },
    "tags": []
   },
   "outputs": [
    {
     "name": "stderr",
     "output_type": "stream",
     "text": [
      "/usr/local/lib/python3.10/dist-packages/seaborn/_oldcore.py:1119: FutureWarning: use_inf_as_na option is deprecated and will be removed in a future version. Convert inf values to NaN before operating instead.\n",
      "  with pd.option_context('mode.use_inf_as_na', True):\n"
     ]
    },
    {
     "data": {
      "image/png": "[encoded data removed]",
      "text/plain": [
       "<Figure size 640x480 with 1 Axes>"
      ]
     },
     "metadata": {},
     "output_type": "display_data"
    }
   ],
   "source": [
    "sns.histplot(x='Age', hue='Survived', data=train_df)\n",
    "plt.title('Count of Survived vs. Not Survived by Age')\n",
    "plt.xlabel('Age')\n",
    "plt.ylabel('Count')\n",
    "plt.show()"
   ]
  },
  {
   "cell_type": "code",
   "execution_count": 15,
   "id": "6c4becbe",
   "metadata": {
    "execution": {
     "iopub.execute_input": "2025-01-28T08:59:03.953500Z",
     "iopub.status.busy": "2025-01-28T08:59:03.953279Z",
     "iopub.status.idle": "2025-01-28T08:59:03.958632Z",
     "shell.execute_reply": "2025-01-28T08:59:03.957849Z"
    },
    "papermill": {
     "duration": 0.016697,
     "end_time": "2025-01-28T08:59:03.959851",
     "exception": false,
     "start_time": "2025-01-28T08:59:03.943154",
     "status": "completed"
    },
    "tags": []
   },
   "outputs": [
    {
     "data": {
      "text/plain": [
       "Survived\n",
       "0    549\n",
       "1    342\n",
       "Name: count, dtype: int64"
      ]
     },
     "execution_count": 15,
     "metadata": {},
     "output_type": "execute_result"
    }
   ],
   "source": [
    "train_df[\"Survived\"].value_counts()"
   ]
  },
  {
   "cell_type": "code",
   "execution_count": 16,
   "id": "e4e58d71",
   "metadata": {
    "execution": {
     "iopub.execute_input": "2025-01-28T08:59:03.980000Z",
     "iopub.status.busy": "2025-01-28T08:59:03.979739Z",
     "iopub.status.idle": "2025-01-28T08:59:08.727194Z",
     "shell.execute_reply": "2025-01-28T08:59:08.725903Z"
    },
    "papermill": {
     "duration": 4.75946,
     "end_time": "2025-01-28T08:59:08.728808",
     "exception": false,
     "start_time": "2025-01-28T08:59:03.969348",
     "status": "completed"
    },
    "tags": []
   },
   "outputs": [
    {
     "name": "stdout",
     "output_type": "stream",
     "text": [
      "Collecting torchviz\r\n",
      "  Downloading torchviz-0.0.3-py3-none-any.whl.metadata (2.1 kB)\r\n",
      "Requirement already satisfied: torch in /usr/local/lib/python3.10/dist-packages (from torchviz) (2.4.1+cu121)\r\n",
      "Requirement already satisfied: graphviz in /usr/local/lib/python3.10/dist-packages (from torchviz) (0.20.3)\r\n",
      "Requirement already satisfied: filelock in /usr/local/lib/python3.10/dist-packages (from torch->torchviz) (3.16.1)\r\n",
      "Requirement already satisfied: typing-extensions>=4.8.0 in /usr/local/lib/python3.10/dist-packages (from torch->torchviz) (4.12.2)\r\n",
      "Requirement already satisfied: sympy in /usr/local/lib/python3.10/dist-packages (from torch->torchviz) (1.13.3)\r\n",
      "Requirement already satisfied: networkx in /usr/local/lib/python3.10/dist-packages (from torch->torchviz) (3.3)\r\n",
      "Requirement already satisfied: jinja2 in /usr/local/lib/python3.10/dist-packages (from torch->torchviz) (3.1.4)\r\n",
      "Requirement already satisfied: fsspec in /usr/local/lib/python3.10/dist-packages (from torch->torchviz) (2024.6.1)\r\n",
      "Requirement already satisfied: MarkupSafe>=2.0 in /usr/local/lib/python3.10/dist-packages (from jinja2->torch->torchviz) (2.1.5)\r\n",
      "Requirement already satisfied: mpmath<1.4,>=1.1.0 in /usr/local/lib/python3.10/dist-packages (from sympy->torch->torchviz) (1.3.0)\r\n",
      "Downloading torchviz-0.0.3-py3-none-any.whl (5.7 kB)\r\n",
      "Installing collected packages: torchviz\r\n",
      "Successfully installed torchviz-0.0.3\r\n"
     ]
    }
   ],
   "source": [
    "!pip install torchviz"
   ]
  },
  {
   "cell_type": "code",
   "execution_count": 17,
   "id": "0e3a9ed2",
   "metadata": {
    "execution": {
     "iopub.execute_input": "2025-01-28T08:59:08.750173Z",
     "iopub.status.busy": "2025-01-28T08:59:08.749874Z",
     "iopub.status.idle": "2025-01-28T08:59:13.608596Z",
     "shell.execute_reply": "2025-01-28T08:59:13.607833Z"
    },
    "papermill": {
     "duration": 4.870976,
     "end_time": "2025-01-28T08:59:13.610198",
     "exception": false,
     "start_time": "2025-01-28T08:59:08.739222",
     "status": "completed"
    },
    "tags": []
   },
   "outputs": [],
   "source": [
    "import torch\n",
    "from torch.utils.data import Dataset, DataLoader\n",
    "import torchvision\n",
    "import torch.nn as nn \n",
    "from torch.utils.data import random_split\n",
    "import math\n",
    "from torchviz import make_dot\n",
    "from IPython.display import Image"
   ]
  },
  {
   "cell_type": "code",
   "execution_count": 18,
   "id": "f4c6aa44",
   "metadata": {
    "execution": {
     "iopub.execute_input": "2025-01-28T08:59:13.632160Z",
     "iopub.status.busy": "2025-01-28T08:59:13.631737Z",
     "iopub.status.idle": "2025-01-28T08:59:13.640324Z",
     "shell.execute_reply": "2025-01-28T08:59:13.639717Z"
    },
    "papermill": {
     "duration": 0.020745,
     "end_time": "2025-01-28T08:59:13.641569",
     "exception": false,
     "start_time": "2025-01-28T08:59:13.620824",
     "status": "completed"
    },
    "tags": []
   },
   "outputs": [],
   "source": [
    "torch.manual_seed(42); # seed rng for reproducibility"
   ]
  },
  {
   "cell_type": "code",
   "execution_count": 19,
   "id": "628cc025",
   "metadata": {
    "execution": {
     "iopub.execute_input": "2025-01-28T08:59:13.663099Z",
     "iopub.status.busy": "2025-01-28T08:59:13.662683Z",
     "iopub.status.idle": "2025-01-28T08:59:13.668089Z",
     "shell.execute_reply": "2025-01-28T08:59:13.667273Z"
    },
    "papermill": {
     "duration": 0.017343,
     "end_time": "2025-01-28T08:59:13.669295",
     "exception": false,
     "start_time": "2025-01-28T08:59:13.651952",
     "status": "completed"
    },
    "tags": []
   },
   "outputs": [],
   "source": [
    "class CSVDataset(Dataset):\n",
    "    def __init__(self, csv_path, features_col_list, target_col_list, transform=None, dropNa=False):\n",
    "        # data loading\n",
    "        self.features_col_list = features_col_list\n",
    "        self.target_col_list = target_col_list\n",
    "        self.data = pd.read_csv(csv_path, index_col=0)\n",
    "        self.transform = transform\n",
    "\n",
    "        if (dropNa):\n",
    "            self.data.fillna(0, inplace=True)\n",
    "\n",
    "    def __getitem__(self, index):\n",
    "        x = self.data.iloc[index][self.features_col_list]  # Features}\n",
    "        y = self.data.iloc[index][self.target_col_list]  # Target\n",
    "\n",
    "        # Apply transformations if specified\n",
    "        if self.transform:\n",
    "            x, y = self.transform((x,y))\n",
    "\n",
    "        return torch.tensor(x, dtype=torch.float32), torch.tensor(y, dtype=torch.float32)\n",
    "\n",
    "    def __len__(self):\n",
    "        # allow us to use len(dataset)\n",
    "        return len(self.data)"
   ]
  },
  {
   "cell_type": "code",
   "execution_count": 20,
   "id": "63deffb4",
   "metadata": {
    "execution": {
     "iopub.execute_input": "2025-01-28T08:59:13.690196Z",
     "iopub.status.busy": "2025-01-28T08:59:13.689987Z",
     "iopub.status.idle": "2025-01-28T08:59:13.694149Z",
     "shell.execute_reply": "2025-01-28T08:59:13.693355Z"
    },
    "papermill": {
     "duration": 0.016073,
     "end_time": "2025-01-28T08:59:13.695360",
     "exception": false,
     "start_time": "2025-01-28T08:59:13.679287",
     "status": "completed"
    },
    "tags": []
   },
   "outputs": [],
   "source": [
    "class SexToNum():\n",
    "    def __call__(self, sample):\n",
    "        inputs, targets = sample\n",
    "\n",
    "        if (inputs[\"Sex\"] == \"male\"):\n",
    "            inputs[\"Sex\"] = 0\n",
    "        else:\n",
    "            inputs[\"Sex\"] = 1\n",
    "\n",
    "        return (inputs, targets)\n",
    "\n",
    "class ConvertNumpyArrToFloat32():\n",
    "    def __call__(self, sample):\n",
    "        inputs, targets = sample\n",
    "        inputs = (inputs.values).astype(np.float32)\n",
    "        targets = (targets.values).astype(np.float32)\n",
    "        return (inputs, targets)"
   ]
  },
  {
   "cell_type": "code",
   "execution_count": 21,
   "id": "fb01c493",
   "metadata": {
    "execution": {
     "iopub.execute_input": "2025-01-28T08:59:13.716174Z",
     "iopub.status.busy": "2025-01-28T08:59:13.715966Z",
     "iopub.status.idle": "2025-01-28T08:59:13.807961Z",
     "shell.execute_reply": "2025-01-28T08:59:13.807258Z"
    },
    "papermill": {
     "duration": 0.103581,
     "end_time": "2025-01-28T08:59:13.809206",
     "exception": false,
     "start_time": "2025-01-28T08:59:13.705625",
     "status": "completed"
    },
    "tags": []
   },
   "outputs": [
    {
     "data": {
      "text/plain": [
       "(tensor([ 0., 22.]), tensor([0.]))"
      ]
     },
     "execution_count": 21,
     "metadata": {},
     "output_type": "execute_result"
    }
   ],
   "source": [
    "csv_file = \"/kaggle/input/titanic/train.csv\"\n",
    "features_col_list = [\"Sex\", \"Age\"]\n",
    "target_col_list = [\"Survived\"]\n",
    "\n",
    "transforms = torchvision.transforms.Compose([SexToNum(), ConvertNumpyArrToFloat32()])\n",
    "\n",
    "dataset = CSVDataset(csv_file, features_col_list, target_col_list, transform=transforms, dropNa=True)\n",
    "dataset[0]"
   ]
  },
  {
   "cell_type": "code",
   "execution_count": 22,
   "id": "f006280a",
   "metadata": {
    "execution": {
     "iopub.execute_input": "2025-01-28T08:59:13.831568Z",
     "iopub.status.busy": "2025-01-28T08:59:13.831320Z",
     "iopub.status.idle": "2025-01-28T08:59:13.835628Z",
     "shell.execute_reply": "2025-01-28T08:59:13.834828Z"
    },
    "papermill": {
     "duration": 0.017428,
     "end_time": "2025-01-28T08:59:13.836791",
     "exception": false,
     "start_time": "2025-01-28T08:59:13.819363",
     "status": "completed"
    },
    "tags": []
   },
   "outputs": [
    {
     "data": {
      "text/plain": [
       "891"
      ]
     },
     "execution_count": 22,
     "metadata": {},
     "output_type": "execute_result"
    }
   ],
   "source": [
    "len(dataset)"
   ]
  },
  {
   "cell_type": "code",
   "execution_count": 23,
   "id": "2657f5e6",
   "metadata": {
    "execution": {
     "iopub.execute_input": "2025-01-28T08:59:13.857886Z",
     "iopub.status.busy": "2025-01-28T08:59:13.857636Z",
     "iopub.status.idle": "2025-01-28T08:59:13.866616Z",
     "shell.execute_reply": "2025-01-28T08:59:13.865828Z"
    },
    "papermill": {
     "duration": 0.020804,
     "end_time": "2025-01-28T08:59:13.867823",
     "exception": false,
     "start_time": "2025-01-28T08:59:13.847019",
     "status": "completed"
    },
    "tags": []
   },
   "outputs": [],
   "source": [
    "# Define split ratios\n",
    "train_size = int(0.8 * len(dataset))  # 80% for training\n",
    "val_size = int(0.1 * len(dataset))    # 10% for validation\n",
    "test_size = len(dataset) - train_size - val_size  # Remaining for testing\n",
    "\n",
    "# Split dataset\n",
    "train_dataset, val_dataset, test_dataset = random_split(dataset, [train_size, val_size, test_size])"
   ]
  },
  {
   "cell_type": "code",
   "execution_count": 24,
   "id": "4c9f35fb",
   "metadata": {
    "execution": {
     "iopub.execute_input": "2025-01-28T08:59:13.888876Z",
     "iopub.status.busy": "2025-01-28T08:59:13.888611Z",
     "iopub.status.idle": "2025-01-28T08:59:13.892539Z",
     "shell.execute_reply": "2025-01-28T08:59:13.891718Z"
    },
    "papermill": {
     "duration": 0.015813,
     "end_time": "2025-01-28T08:59:13.893656",
     "exception": false,
     "start_time": "2025-01-28T08:59:13.877843",
     "status": "completed"
    },
    "tags": []
   },
   "outputs": [],
   "source": [
    "# Define batch size\n",
    "# since we have less data\n",
    "batch_size = 16\n",
    "\n",
    "# Create DataLoaders\n",
    "train_loader = DataLoader(train_dataset, batch_size=batch_size, shuffle=False)\n",
    "val_loader = DataLoader(val_dataset, batch_size=batch_size, shuffle=False)\n",
    "test_loader = DataLoader(test_dataset, batch_size=batch_size, shuffle=False)"
   ]
  },
  {
   "cell_type": "code",
   "execution_count": 25,
   "id": "ccf88948",
   "metadata": {
    "execution": {
     "iopub.execute_input": "2025-01-28T08:59:13.914576Z",
     "iopub.status.busy": "2025-01-28T08:59:13.914340Z",
     "iopub.status.idle": "2025-01-28T08:59:13.988499Z",
     "shell.execute_reply": "2025-01-28T08:59:13.987517Z"
    },
    "papermill": {
     "duration": 0.085906,
     "end_time": "2025-01-28T08:59:13.989730",
     "exception": false,
     "start_time": "2025-01-28T08:59:13.903824",
     "status": "completed"
    },
    "tags": []
   },
   "outputs": [
    {
     "name": "stdout",
     "output_type": "stream",
     "text": [
      "Using device: cuda\n"
     ]
    }
   ],
   "source": [
    "device = torch.device(\"cuda\" if torch.cuda.is_available() else \"cpu\")\n",
    "print(f\"Using device: {device}\")"
   ]
  },
  {
   "cell_type": "code",
   "execution_count": 26,
   "id": "8a99310d",
   "metadata": {
    "execution": {
     "iopub.execute_input": "2025-01-28T08:59:14.011302Z",
     "iopub.status.busy": "2025-01-28T08:59:14.011052Z",
     "iopub.status.idle": "2025-01-28T08:59:14.021343Z",
     "shell.execute_reply": "2025-01-28T08:59:14.020538Z"
    },
    "papermill": {
     "duration": 0.022518,
     "end_time": "2025-01-28T08:59:14.022653",
     "exception": false,
     "start_time": "2025-01-28T08:59:14.000135",
     "status": "completed"
    },
    "tags": []
   },
   "outputs": [],
   "source": [
    "# not correctly init\n",
    "hidden_neuron = 128\n",
    "debug = True\n",
    "\n",
    "class LinearLayer(nn.Linear):\n",
    "    def __init__(self, *args, **kwargs):\n",
    "        # Call the parent constructor to initialize the Linear layer\n",
    "        super().__init__(*args, **kwargs)\n",
    "        \n",
    "    def forward(self, x):\n",
    "        self.output = super().forward(x)\n",
    "        return self.output\n",
    "\n",
    "class ReLuLayer(nn.ReLU):\n",
    "    def __init__(self, *args, **kwargs):\n",
    "        # Call the parent constructor to initialize the Linear layer\n",
    "        super().__init__(*args, **kwargs)\n",
    "        \n",
    "    def forward(self, x):\n",
    "        self.output = super().forward(x)\n",
    "        return self.output\n",
    "\n",
    "class TitanicSurvivalPredictor(nn.Module):\n",
    "    def __init__(self, hidden_neuron):\n",
    "        super().__init__()\n",
    "\n",
    "        # define layers\n",
    "        self.layers = nn.ModuleList([\n",
    "            LinearLayer(2, hidden_neuron),\n",
    "            ReLuLayer(),\n",
    "            LinearLayer(hidden_neuron, 1),\n",
    "        ])\n",
    "        \n",
    "    def forward(self, x):\n",
    "        for layer in self.layers:\n",
    "            x = layer(x)\n",
    "        return x\n",
    "\n",
    "    def parameters(self):\n",
    "        return [p for layer in self.layers for p in layer.parameters()]\n",
    "\n",
    "model = TitanicSurvivalPredictor(hidden_neuron)"
   ]
  },
  {
   "cell_type": "code",
   "execution_count": 27,
   "id": "cbfca494",
   "metadata": {
    "execution": {
     "iopub.execute_input": "2025-01-28T08:59:14.043733Z",
     "iopub.status.busy": "2025-01-28T08:59:14.043527Z",
     "iopub.status.idle": "2025-01-28T08:59:14.067313Z",
     "shell.execute_reply": "2025-01-28T08:59:14.066711Z"
    },
    "papermill": {
     "duration": 0.035787,
     "end_time": "2025-01-28T08:59:14.068538",
     "exception": false,
     "start_time": "2025-01-28T08:59:14.032751",
     "status": "completed"
    },
    "tags": []
   },
   "outputs": [],
   "source": [
    "bce_loss = nn.BCEWithLogitsLoss()\n",
    "\n",
    "first_batch_input = None\n",
    "first_batch_label = None\n",
    "for inputs, labels in train_loader:\n",
    "    first_batch_input = inputs\n",
    "    first_batch_label = labels\n",
    "    break"
   ]
  },
  {
   "cell_type": "code",
   "execution_count": 28,
   "id": "9048a4a6",
   "metadata": {
    "execution": {
     "iopub.execute_input": "2025-01-28T08:59:14.089647Z",
     "iopub.status.busy": "2025-01-28T08:59:14.089416Z",
     "iopub.status.idle": "2025-01-28T08:59:14.125923Z",
     "shell.execute_reply": "2025-01-28T08:59:14.124923Z"
    },
    "papermill": {
     "duration": 0.048846,
     "end_time": "2025-01-28T08:59:14.127414",
     "exception": false,
     "start_time": "2025-01-28T08:59:14.078568",
     "status": "completed"
    },
    "tags": []
   },
   "outputs": [
    {
     "name": "stdout",
     "output_type": "stream",
     "text": [
      "init loss: 0.7273672223091125\n"
     ]
    }
   ],
   "source": [
    "first_batch_pred_logits = model(first_batch_input)\n",
    "first_batch_pred_prob = torch.sigmoid(first_batch_pred_logits)  # Apply sigmoid for binary classification\n",
    "loss = bce_loss(first_batch_pred_prob, first_batch_label)\n",
    "print(f\"init loss: {loss.item()}\")"
   ]
  },
  {
   "cell_type": "code",
   "execution_count": 29,
   "id": "01714d12",
   "metadata": {
    "execution": {
     "iopub.execute_input": "2025-01-28T08:59:14.153561Z",
     "iopub.status.busy": "2025-01-28T08:59:14.153256Z",
     "iopub.status.idle": "2025-01-28T08:59:14.160144Z",
     "shell.execute_reply": "2025-01-28T08:59:14.159122Z"
    },
    "papermill": {
     "duration": 0.02034,
     "end_time": "2025-01-28T08:59:14.161540",
     "exception": false,
     "start_time": "2025-01-28T08:59:14.141200",
     "status": "completed"
    },
    "tags": []
   },
   "outputs": [],
   "source": [
    "def initParam(model):\n",
    "    # Initialize weights using Xavier Normal\n",
    "    for i, layer in enumerate(model.layers):\n",
    "        if (isinstance(layer, LinearLayer)):\n",
    "            if (i<len(model.layers)-1):\n",
    "                nn.init.xavier_normal_(model.layers[i].weight, torch.nn.init.calculate_gain(\"relu\")) \n",
    "            else:\n",
    "                nn.init.xavier_normal_(model.layers[i].weight, torch.nn.init.calculate_gain(\"sigmoid\")) * 0.001\n",
    "            if layer.bias is not None:\n",
    "                nn.init.zeros_(model.layers[i].bias)\n",
    "\n",
    "initParam(model)"
   ]
  },
  {
   "cell_type": "code",
   "execution_count": 30,
   "id": "18769523",
   "metadata": {
    "execution": {
     "iopub.execute_input": "2025-01-28T08:59:14.186269Z",
     "iopub.status.busy": "2025-01-28T08:59:14.185989Z",
     "iopub.status.idle": "2025-01-28T08:59:14.193860Z",
     "shell.execute_reply": "2025-01-28T08:59:14.192968Z"
    },
    "papermill": {
     "duration": 0.021901,
     "end_time": "2025-01-28T08:59:14.195452",
     "exception": false,
     "start_time": "2025-01-28T08:59:14.173551",
     "status": "completed"
    },
    "tags": []
   },
   "outputs": [
    {
     "name": "stdout",
     "output_type": "stream",
     "text": [
      "init loss: 0.7014036178588867\n"
     ]
    }
   ],
   "source": [
    "first_batch_pred_logits = model(first_batch_input)\n",
    "first_batch_pred_prob = torch.sigmoid(first_batch_pred_logits)  # Apply sigmoid for binary classification\n",
    "loss = bce_loss(first_batch_pred_prob, first_batch_label)\n",
    "print(f\"init loss: {loss.item()}\")"
   ]
  },
  {
   "cell_type": "code",
   "execution_count": 31,
   "id": "1e314e92",
   "metadata": {
    "execution": {
     "iopub.execute_input": "2025-01-28T08:59:14.222048Z",
     "iopub.status.busy": "2025-01-28T08:59:14.221723Z",
     "iopub.status.idle": "2025-01-28T09:00:46.509228Z",
     "shell.execute_reply": "2025-01-28T09:00:46.508064Z"
    },
    "papermill": {
     "duration": 92.301651,
     "end_time": "2025-01-28T09:00:46.510680",
     "exception": false,
     "start_time": "2025-01-28T08:59:14.209029",
     "status": "completed"
    },
    "tags": []
   },
   "outputs": [
    {
     "name": "stdout",
     "output_type": "stream",
     "text": [
      "Epoch 100/1000, Train Loss: -0.0054, Val Loss: -0.1715\n",
      "Epoch 200/1000, Train Loss: -0.0070, Val Loss: -0.2105\n",
      "Epoch 300/1000, Train Loss: -0.0076, Val Loss: -0.1843\n",
      "Epoch 400/1000, Train Loss: -0.0077, Val Loss: -0.1558\n",
      "Epoch 500/1000, Train Loss: -0.0078, Val Loss: -0.1344\n",
      "Epoch 600/1000, Train Loss: -0.0079, Val Loss: -0.1184\n",
      "Epoch 700/1000, Train Loss: -0.0079, Val Loss: -0.1079\n",
      "Epoch 800/1000, Train Loss: -0.0079, Val Loss: -0.0933\n",
      "Epoch 900/1000, Train Loss: -0.0080, Val Loss: -0.0790\n",
      "Epoch 1000/1000, Train Loss: -0.0080, Val Loss: -0.0718\n"
     ]
    }
   ],
   "source": [
    "# less lr rate since can overfit easily\n",
    "learning_rate = 1e-3\n",
    "# less epoch as can easily overfit\n",
    "num_epoch = 1000\n",
    "\n",
    "lossi_train = []\n",
    "lossi_val = []\n",
    "\n",
    "total_samples = len(train_dataset)\n",
    "n_iter = math.ceil(total_samples / batch_size)\n",
    "\n",
    "optimizer = torch.optim.AdamW(model.parameters(), lr=learning_rate)\n",
    "bce_loss = nn.BCEWithLogitsLoss()\n",
    "output_grads = []\n",
    "\n",
    "model = model.to(device)\n",
    "\n",
    "runFirstBatch = False\n",
    "for epoch in range(num_epoch):\n",
    "    train_loss = 0    \n",
    "    for i, (inputs, labels) in enumerate(train_loader):        \n",
    "        # forward pass\n",
    "        # print(f\"inputs: {inputs}\")\n",
    "        # print(f\"labels: {labels}\")\n",
    "        inputs = inputs.to(device)\n",
    "        labels = labels.to(device)\n",
    "\n",
    "        # print(f\"inputs device: {inputs.device}, labels device: {labels.device}, model device: {[param.device for param in model.parameters()]}\")\n",
    "\n",
    "        # reset grad\n",
    "        optimizer.zero_grad()\n",
    "        \n",
    "        pred = model(inputs)\n",
    "        # print(f\"pred: {pred}\")\n",
    "\n",
    "        # calc loss\n",
    "        loss = bce_loss(pred, labels)\n",
    "\n",
    "        if (debug):\n",
    "            for layer in model.layers:\n",
    "                layer.output.retain_grad() # save gradients of non leaf tensors also\n",
    "        \n",
    "        # backward pass\n",
    "        loss.backward()\n",
    "        optimizer.step()\n",
    "\n",
    "        loss = loss.log10()\n",
    "        train_loss += loss.item()\n",
    "\n",
    "        if (debug):\n",
    "             break\n",
    "\n",
    "    # copied it to array since running with no grad will set grad to None\n",
    "    if (debug):\n",
    "        curr_grads = {}\n",
    "        for i, layer in enumerate(model.layers):\n",
    "            curr_grads[f\"{layer.__class__.__name__}: {i}\"] = layer.output.grad.clone()\n",
    "\n",
    "        output_grads.append(curr_grads)\n",
    "    \n",
    "    train_loss /= len(train_loader)\n",
    "    lossi_train.append(train_loss)\n",
    "\n",
    "    # validation phase\n",
    "    model.eval()\n",
    "    with torch.no_grad():  # Disable gradient computation for validation\n",
    "        val_loss = 0\n",
    "        \n",
    "        for inputs, labels in val_loader:\n",
    "            inputs = inputs.to(device)\n",
    "            labels = labels.to(device)\n",
    "            \n",
    "            pred = model(inputs)\n",
    "            \n",
    "            loss = bce_loss(pred, labels)\n",
    "            loss = loss.log10()\n",
    "            val_loss += loss.item()\n",
    "        \n",
    "        val_loss /= len(val_loader)\n",
    "        lossi_val.append(val_loss)\n",
    "        \n",
    "\n",
    "    # reset to train mode\n",
    "    model.train()\n",
    "\n",
    "    if ((epoch+1)%100==0):\n",
    "        print(f\"Epoch {epoch+1}/{num_epoch}, Train Loss: {train_loss:.4f}, Val Loss: {val_loss:.4f}\")\n",
    "\n",
    "    # if (debug):\n",
    "        # break"
   ]
  },
  {
   "cell_type": "code",
   "execution_count": 32,
   "id": "6b63c2a3",
   "metadata": {
    "execution": {
     "iopub.execute_input": "2025-01-28T09:00:46.534233Z",
     "iopub.status.busy": "2025-01-28T09:00:46.533988Z",
     "iopub.status.idle": "2025-01-28T09:00:46.754347Z",
     "shell.execute_reply": "2025-01-28T09:00:46.753678Z"
    },
    "papermill": {
     "duration": 0.233523,
     "end_time": "2025-01-28T09:00:46.755677",
     "exception": false,
     "start_time": "2025-01-28T09:00:46.522154",
     "status": "completed"
    },
    "tags": []
   },
   "outputs": [
    {
     "data": {
      "text/plain": [
       "[<matplotlib.lines.Line2D at 0x7d2f68208e50>]"
      ]
     },
     "execution_count": 32,
     "metadata": {},
     "output_type": "execute_result"
    },
    {
     "data": {
      "image/png": "[encoded data removed]",
      "text/plain": [
       "<Figure size 640x480 with 1 Axes>"
      ]
     },
     "metadata": {},
     "output_type": "display_data"
    }
   ],
   "source": [
    "plt.plot(lossi_train, color=\"blue\")\n",
    "plt.plot(lossi_val, color=\"red\")"
   ]
  },
  {
   "cell_type": "code",
   "execution_count": 33,
   "id": "47251a80",
   "metadata": {
    "execution": {
     "iopub.execute_input": "2025-01-28T09:00:46.778741Z",
     "iopub.status.busy": "2025-01-28T09:00:46.778525Z",
     "iopub.status.idle": "2025-01-28T09:00:47.095991Z",
     "shell.execute_reply": "2025-01-28T09:00:47.095280Z"
    },
    "papermill": {
     "duration": 0.330305,
     "end_time": "2025-01-28T09:00:47.097359",
     "exception": false,
     "start_time": "2025-01-28T09:00:46.767054",
     "status": "completed"
    },
    "tags": []
   },
   "outputs": [
    {
     "name": "stdout",
     "output_type": "stream",
     "text": [
      "layer 0 (LinearLayer): mean -0.40, std 3.50, saturated: 55.38%\n",
      "layer 1 ( ReLuLayer): mean +0.96, std 1.82, saturated: 26.22%\n",
      "layer 2 (LinearLayer): mean +0.97, std 3.05, saturated: 22.22%\n"
     ]
    },
    {
     "data": {
      "image/png": "[encoded data removed]",
      "text/plain": [
       "<Figure size 2000x400 with 1 Axes>"
      ]
     },
     "metadata": {},
     "output_type": "display_data"
    }
   ],
   "source": [
    "# visualize activations\n",
    "plt.figure(figsize=(20, 4))\n",
    "legends = []\n",
    "\n",
    "if (len(model.layers) > 1):\n",
    "    for i, layer in enumerate(model.layers): # exclude output layer\n",
    "        t = layer.output.cpu()\n",
    "        print('layer %d (%10s): mean %+.2f, std %.2f, saturated: %.2f%%' % (i, layer.__class__.__name__, t.mean(), t.std(), (t.abs() > 0.97).float().mean()*100))\n",
    "        hy, hx = torch.histogram(t, density=True)\n",
    "        plt.plot(hx[:-1].detach(), hy.detach())\n",
    "        legends.append(f'layer {i} ({layer.__class__.__name__})')\n",
    "    \n",
    "    plt.legend(legends)\n",
    "    plt.title(\"activation distribution\")"
   ]
  },
  {
   "cell_type": "code",
   "execution_count": 34,
   "id": "a2883615",
   "metadata": {
    "execution": {
     "iopub.execute_input": "2025-01-28T09:00:47.122006Z",
     "iopub.status.busy": "2025-01-28T09:00:47.121741Z",
     "iopub.status.idle": "2025-01-28T09:00:47.450908Z",
     "shell.execute_reply": "2025-01-28T09:00:47.450105Z"
    },
    "papermill": {
     "duration": 0.342577,
     "end_time": "2025-01-28T09:00:47.452070",
     "exception": false,
     "start_time": "2025-01-28T09:00:47.109493",
     "status": "completed"
    },
    "tags": []
   },
   "outputs": [
    {
     "name": "stdout",
     "output_type": "stream",
     "text": [
      "layer (LinearLayer: 0): mean +0.000005, std 5.450215e-03\n",
      "layer (ReLuLayer: 1): mean +0.000000, std 6.415553e-03\n",
      "layer (LinearLayer: 2): mean +0.000002, std 2.522504e-02\n"
     ]
    },
    {
     "data": {
      "image/png": "[encoded data removed]",
      "text/plain": [
       "<Figure size 2000x400 with 1 Axes>"
      ]
     },
     "metadata": {},
     "output_type": "display_data"
    }
   ],
   "source": [
    "# visualize histograms\n",
    "plt.figure(figsize=(20, 4)) # width and height of the plot\n",
    "legends = []\n",
    "\n",
    "if (len(model.layers) > 1):\n",
    "    for layer_name, layer_grad in output_grads[-1].items(): # note: exclude the output layer\n",
    "        t = layer_grad.cpu()\n",
    "        print('layer (%10s): mean %+f, std %e' % (layer_name, t.mean(), t.std()))\n",
    "        hy, hx = torch.histogram(t, density=True)\n",
    "        plt.plot(hx[:-1].detach(), hy.detach())\n",
    "        legends.append(f'{layer_name}')\n",
    "\n",
    "    plt.legend(legends);\n",
    "    plt.title('gradient distribution')"
   ]
  },
  {
   "cell_type": "code",
   "execution_count": 35,
   "id": "788a16d8",
   "metadata": {
    "execution": {
     "iopub.execute_input": "2025-01-28T09:00:47.478020Z",
     "iopub.status.busy": "2025-01-28T09:00:47.477747Z",
     "iopub.status.idle": "2025-01-28T09:00:47.606108Z",
     "shell.execute_reply": "2025-01-28T09:00:47.605348Z"
    },
    "papermill": {
     "duration": 0.142722,
     "end_time": "2025-01-28T09:00:47.607387",
     "exception": false,
     "start_time": "2025-01-28T09:00:47.464665",
     "status": "completed"
    },
    "tags": []
   },
   "outputs": [
    {
     "name": "stdout",
     "output_type": "stream",
     "text": [
      "Test Accuracy: 76.67%\n"
     ]
    }
   ],
   "source": [
    "model.eval()  # Set model to evaluation mode\n",
    "\n",
    "# Accuracy calculation\n",
    "correct = 0\n",
    "total = 0\n",
    "\n",
    "with torch.no_grad():  # Disable gradient calculation\n",
    "    for inputs, labels in test_loader:\n",
    "        inputs = inputs.to(device)\n",
    "        labels = labels.to(device)\n",
    "        \n",
    "        outputs = model(inputs)\n",
    "        predictions = torch.sigmoid(outputs)  # Apply sigmoid for binary classification\n",
    "        predicted_classes = (predictions > 0.5).float()  # Convert to binary (0 or 1)\n",
    "        correct += (predicted_classes == labels).sum().item()\n",
    "        total += labels.size(0)\n",
    "\n",
    "accuracy = correct / total\n",
    "print(f\"Test Accuracy: {accuracy * 100:.2f}%\")"
   ]
  },
  {
   "cell_type": "code",
   "execution_count": 36,
   "id": "1a20689b",
   "metadata": {
    "execution": {
     "iopub.execute_input": "2025-01-28T09:00:47.633406Z",
     "iopub.status.busy": "2025-01-28T09:00:47.633182Z",
     "iopub.status.idle": "2025-01-28T09:00:48.244732Z",
     "shell.execute_reply": "2025-01-28T09:00:48.243872Z"
    },
    "papermill": {
     "duration": 0.625913,
     "end_time": "2025-01-28T09:00:48.246010",
     "exception": false,
     "start_time": "2025-01-28T09:00:47.620097",
     "status": "completed"
    },
    "tags": []
   },
   "outputs": [
    {
     "name": "stdout",
     "output_type": "stream",
     "text": [
      "Train Accuracy: 75.14%\n"
     ]
    }
   ],
   "source": [
    "model.eval()  # Set model to evaluation mode\n",
    "\n",
    "# Accuracy calculation\n",
    "correct = 0\n",
    "total = 0\n",
    "\n",
    "with torch.no_grad():  # Disable gradient calculation\n",
    "    for inputs, labels in train_loader:\n",
    "        inputs = inputs.to(device)\n",
    "        labels = labels.to(device)\n",
    "        \n",
    "        outputs = model(inputs)\n",
    "        predictions = torch.sigmoid(outputs)  # Apply sigmoid for binary classification\n",
    "        predicted_classes = (predictions > 0.5).float()  # Convert to binary (0 or 1)\n",
    "        correct += (predicted_classes == labels).sum().item()\n",
    "        total += labels.size(0)\n",
    "\n",
    "accuracy = correct / total\n",
    "print(f\"Train Accuracy: {accuracy * 100:.2f}%\")"
   ]
  },
  {
   "cell_type": "markdown",
   "id": "446b6476",
   "metadata": {
    "papermill": {
     "duration": 0.012267,
     "end_time": "2025-01-28T09:00:48.270876",
     "exception": false,
     "start_time": "2025-01-28T09:00:48.258609",
     "status": "completed"
    },
    "tags": []
   },
   "source": [
    "## Test"
   ]
  },
  {
   "cell_type": "code",
   "execution_count": 37,
   "id": "dc8920c9",
   "metadata": {
    "execution": {
     "iopub.execute_input": "2025-01-28T09:00:48.296537Z",
     "iopub.status.busy": "2025-01-28T09:00:48.296326Z",
     "iopub.status.idle": "2025-01-28T09:00:48.313873Z",
     "shell.execute_reply": "2025-01-28T09:00:48.313119Z"
    },
    "papermill": {
     "duration": 0.031756,
     "end_time": "2025-01-28T09:00:48.314977",
     "exception": false,
     "start_time": "2025-01-28T09:00:48.283221",
     "status": "completed"
    },
    "tags": []
   },
   "outputs": [
    {
     "data": {
      "text/html": [
       "<div>\n",
       "<style scoped>\n",
       "    .dataframe tbody tr th:only-of-type {\n",
       "        vertical-align: middle;\n",
       "    }\n",
       "\n",
       "    .dataframe tbody tr th {\n",
       "        vertical-align: top;\n",
       "    }\n",
       "\n",
       "    .dataframe thead th {\n",
       "        text-align: right;\n",
       "    }\n",
       "</style>\n",
       "<table border=\"1\" class=\"dataframe\">\n",
       "  <thead>\n",
       "    <tr style=\"text-align: right;\">\n",
       "      <th></th>\n",
       "      <th>PassengerId</th>\n",
       "      <th>Pclass</th>\n",
       "      <th>Name</th>\n",
       "      <th>Sex</th>\n",
       "      <th>Age</th>\n",
       "      <th>SibSp</th>\n",
       "      <th>Parch</th>\n",
       "      <th>Ticket</th>\n",
       "      <th>Fare</th>\n",
       "      <th>Cabin</th>\n",
       "      <th>Embarked</th>\n",
       "    </tr>\n",
       "  </thead>\n",
       "  <tbody>\n",
       "    <tr>\n",
       "      <th>0</th>\n",
       "      <td>892</td>\n",
       "      <td>3</td>\n",
       "      <td>Kelly, Mr. James</td>\n",
       "      <td>male</td>\n",
       "      <td>34.5</td>\n",
       "      <td>0</td>\n",
       "      <td>0</td>\n",
       "      <td>330911</td>\n",
       "      <td>7.8292</td>\n",
       "      <td>NaN</td>\n",
       "      <td>Q</td>\n",
       "    </tr>\n",
       "    <tr>\n",
       "      <th>1</th>\n",
       "      <td>893</td>\n",
       "      <td>3</td>\n",
       "      <td>Wilkes, Mrs. James (Ellen Needs)</td>\n",
       "      <td>female</td>\n",
       "      <td>47.0</td>\n",
       "      <td>1</td>\n",
       "      <td>0</td>\n",
       "      <td>363272</td>\n",
       "      <td>7.0000</td>\n",
       "      <td>NaN</td>\n",
       "      <td>S</td>\n",
       "    </tr>\n",
       "    <tr>\n",
       "      <th>2</th>\n",
       "      <td>894</td>\n",
       "      <td>2</td>\n",
       "      <td>Myles, Mr. Thomas Francis</td>\n",
       "      <td>male</td>\n",
       "      <td>62.0</td>\n",
       "      <td>0</td>\n",
       "      <td>0</td>\n",
       "      <td>240276</td>\n",
       "      <td>9.6875</td>\n",
       "      <td>NaN</td>\n",
       "      <td>Q</td>\n",
       "    </tr>\n",
       "    <tr>\n",
       "      <th>3</th>\n",
       "      <td>895</td>\n",
       "      <td>3</td>\n",
       "      <td>Wirz, Mr. Albert</td>\n",
       "      <td>male</td>\n",
       "      <td>27.0</td>\n",
       "      <td>0</td>\n",
       "      <td>0</td>\n",
       "      <td>315154</td>\n",
       "      <td>8.6625</td>\n",
       "      <td>NaN</td>\n",
       "      <td>S</td>\n",
       "    </tr>\n",
       "    <tr>\n",
       "      <th>4</th>\n",
       "      <td>896</td>\n",
       "      <td>3</td>\n",
       "      <td>Hirvonen, Mrs. Alexander (Helga E Lindqvist)</td>\n",
       "      <td>female</td>\n",
       "      <td>22.0</td>\n",
       "      <td>1</td>\n",
       "      <td>1</td>\n",
       "      <td>3101298</td>\n",
       "      <td>12.2875</td>\n",
       "      <td>NaN</td>\n",
       "      <td>S</td>\n",
       "    </tr>\n",
       "    <tr>\n",
       "      <th>5</th>\n",
       "      <td>897</td>\n",
       "      <td>3</td>\n",
       "      <td>Svensson, Mr. Johan Cervin</td>\n",
       "      <td>male</td>\n",
       "      <td>14.0</td>\n",
       "      <td>0</td>\n",
       "      <td>0</td>\n",
       "      <td>7538</td>\n",
       "      <td>9.2250</td>\n",
       "      <td>NaN</td>\n",
       "      <td>S</td>\n",
       "    </tr>\n",
       "    <tr>\n",
       "      <th>6</th>\n",
       "      <td>898</td>\n",
       "      <td>3</td>\n",
       "      <td>Connolly, Miss. Kate</td>\n",
       "      <td>female</td>\n",
       "      <td>30.0</td>\n",
       "      <td>0</td>\n",
       "      <td>0</td>\n",
       "      <td>330972</td>\n",
       "      <td>7.6292</td>\n",
       "      <td>NaN</td>\n",
       "      <td>Q</td>\n",
       "    </tr>\n",
       "    <tr>\n",
       "      <th>7</th>\n",
       "      <td>899</td>\n",
       "      <td>2</td>\n",
       "      <td>Caldwell, Mr. Albert Francis</td>\n",
       "      <td>male</td>\n",
       "      <td>26.0</td>\n",
       "      <td>1</td>\n",
       "      <td>1</td>\n",
       "      <td>248738</td>\n",
       "      <td>29.0000</td>\n",
       "      <td>NaN</td>\n",
       "      <td>S</td>\n",
       "    </tr>\n",
       "    <tr>\n",
       "      <th>8</th>\n",
       "      <td>900</td>\n",
       "      <td>3</td>\n",
       "      <td>Abrahim, Mrs. Joseph (Sophie Halaut Easu)</td>\n",
       "      <td>female</td>\n",
       "      <td>18.0</td>\n",
       "      <td>0</td>\n",
       "      <td>0</td>\n",
       "      <td>2657</td>\n",
       "      <td>7.2292</td>\n",
       "      <td>NaN</td>\n",
       "      <td>C</td>\n",
       "    </tr>\n",
       "    <tr>\n",
       "      <th>9</th>\n",
       "      <td>901</td>\n",
       "      <td>3</td>\n",
       "      <td>Davies, Mr. John Samuel</td>\n",
       "      <td>male</td>\n",
       "      <td>21.0</td>\n",
       "      <td>2</td>\n",
       "      <td>0</td>\n",
       "      <td>A/4 48871</td>\n",
       "      <td>24.1500</td>\n",
       "      <td>NaN</td>\n",
       "      <td>S</td>\n",
       "    </tr>\n",
       "  </tbody>\n",
       "</table>\n",
       "</div>"
      ],
      "text/plain": [
       "   PassengerId  Pclass                                          Name     Sex  \\\n",
       "0          892       3                              Kelly, Mr. James    male   \n",
       "1          893       3              Wilkes, Mrs. James (Ellen Needs)  female   \n",
       "2          894       2                     Myles, Mr. Thomas Francis    male   \n",
       "3          895       3                              Wirz, Mr. Albert    male   \n",
       "4          896       3  Hirvonen, Mrs. Alexander (Helga E Lindqvist)  female   \n",
       "5          897       3                    Svensson, Mr. Johan Cervin    male   \n",
       "6          898       3                          Connolly, Miss. Kate  female   \n",
       "7          899       2                  Caldwell, Mr. Albert Francis    male   \n",
       "8          900       3     Abrahim, Mrs. Joseph (Sophie Halaut Easu)  female   \n",
       "9          901       3                       Davies, Mr. John Samuel    male   \n",
       "\n",
       "    Age  SibSp  Parch     Ticket     Fare Cabin Embarked  \n",
       "0  34.5      0      0     330911   7.8292   NaN        Q  \n",
       "1  47.0      1      0     363272   7.0000   NaN        S  \n",
       "2  62.0      0      0     240276   9.6875   NaN        Q  \n",
       "3  27.0      0      0     315154   8.6625   NaN        S  \n",
       "4  22.0      1      1    3101298  12.2875   NaN        S  \n",
       "5  14.0      0      0       7538   9.2250   NaN        S  \n",
       "6  30.0      0      0     330972   7.6292   NaN        Q  \n",
       "7  26.0      1      1     248738  29.0000   NaN        S  \n",
       "8  18.0      0      0       2657   7.2292   NaN        C  \n",
       "9  21.0      2      0  A/4 48871  24.1500   NaN        S  "
      ]
     },
     "execution_count": 37,
     "metadata": {},
     "output_type": "execute_result"
    }
   ],
   "source": [
    "test_df = pd.read_csv(\"/kaggle/input/titanic/test.csv\")\n",
    "test_df.head(10)"
   ]
  },
  {
   "cell_type": "code",
   "execution_count": 38,
   "id": "29505434",
   "metadata": {
    "execution": {
     "iopub.execute_input": "2025-01-28T09:00:48.340680Z",
     "iopub.status.busy": "2025-01-28T09:00:48.340447Z",
     "iopub.status.idle": "2025-01-28T09:00:48.344726Z",
     "shell.execute_reply": "2025-01-28T09:00:48.344076Z"
    },
    "papermill": {
     "duration": 0.018443,
     "end_time": "2025-01-28T09:00:48.345873",
     "exception": false,
     "start_time": "2025-01-28T09:00:48.327430",
     "status": "completed"
    },
    "tags": []
   },
   "outputs": [
    {
     "data": {
      "text/plain": [
       "418"
      ]
     },
     "execution_count": 38,
     "metadata": {},
     "output_type": "execute_result"
    }
   ],
   "source": [
    "len(test_df)"
   ]
  },
  {
   "cell_type": "code",
   "execution_count": 39,
   "id": "2236d97a",
   "metadata": {
    "execution": {
     "iopub.execute_input": "2025-01-28T09:00:48.372159Z",
     "iopub.status.busy": "2025-01-28T09:00:48.371957Z",
     "iopub.status.idle": "2025-01-28T09:00:48.382053Z",
     "shell.execute_reply": "2025-01-28T09:00:48.381333Z"
    },
    "papermill": {
     "duration": 0.024627,
     "end_time": "2025-01-28T09:00:48.383288",
     "exception": false,
     "start_time": "2025-01-28T09:00:48.358661",
     "status": "completed"
    },
    "tags": []
   },
   "outputs": [
    {
     "data": {
      "text/plain": [
       "(tensor([ 0.0000, 34.5000]), tensor([]))"
      ]
     },
     "execution_count": 39,
     "metadata": {},
     "output_type": "execute_result"
    }
   ],
   "source": [
    "csv_file = \"/kaggle/input/titanic/test.csv\"\n",
    "target_col_list = []\n",
    "\n",
    "transforms = torchvision.transforms.Compose([SexToNum(), ConvertNumpyArrToFloat32()])\n",
    "\n",
    "final_test_dataset = CSVDataset(csv_file, features_col_list, target_col_list, transform=transforms, dropNa=True)\n",
    "final_test_dataset[0]"
   ]
  },
  {
   "cell_type": "code",
   "execution_count": 40,
   "id": "ade63458",
   "metadata": {
    "execution": {
     "iopub.execute_input": "2025-01-28T09:00:48.409630Z",
     "iopub.status.busy": "2025-01-28T09:00:48.409403Z",
     "iopub.status.idle": "2025-01-28T09:00:48.413521Z",
     "shell.execute_reply": "2025-01-28T09:00:48.412712Z"
    },
    "papermill": {
     "duration": 0.018595,
     "end_time": "2025-01-28T09:00:48.414650",
     "exception": false,
     "start_time": "2025-01-28T09:00:48.396055",
     "status": "completed"
    },
    "tags": []
   },
   "outputs": [
    {
     "data": {
      "text/plain": [
       "418"
      ]
     },
     "execution_count": 40,
     "metadata": {},
     "output_type": "execute_result"
    }
   ],
   "source": [
    "len(final_test_dataset)"
   ]
  },
  {
   "cell_type": "code",
   "execution_count": 41,
   "id": "8cc48656",
   "metadata": {
    "execution": {
     "iopub.execute_input": "2025-01-28T09:00:48.441018Z",
     "iopub.status.busy": "2025-01-28T09:00:48.440808Z",
     "iopub.status.idle": "2025-01-28T09:00:48.930637Z",
     "shell.execute_reply": "2025-01-28T09:00:48.929933Z"
    },
    "papermill": {
     "duration": 0.504537,
     "end_time": "2025-01-28T09:00:48.932007",
     "exception": false,
     "start_time": "2025-01-28T09:00:48.427470",
     "status": "completed"
    },
    "tags": []
   },
   "outputs": [],
   "source": [
    "final_test_loader = DataLoader(final_test_dataset, shuffle=False)\n",
    "\n",
    "pred = []\n",
    "with torch.no_grad():  # Disable gradient calculation\n",
    "    for inputs, labels in final_test_loader:\n",
    "        inputs = inputs.to(device)\n",
    "    \n",
    "        outputs = model(inputs)\n",
    "        predictions = torch.sigmoid(outputs)  # Apply sigmoid for binary classification\n",
    "        predicted_classes = (predictions > 0.5).float()  # Convert to binary (0 or 1)\n",
    "\n",
    "        pred.append(int(predicted_classes.item()))"
   ]
  },
  {
   "cell_type": "code",
   "execution_count": 42,
   "id": "483c6035",
   "metadata": {
    "execution": {
     "iopub.execute_input": "2025-01-28T09:00:48.958776Z",
     "iopub.status.busy": "2025-01-28T09:00:48.958541Z",
     "iopub.status.idle": "2025-01-28T09:00:48.962827Z",
     "shell.execute_reply": "2025-01-28T09:00:48.962013Z"
    },
    "papermill": {
     "duration": 0.018967,
     "end_time": "2025-01-28T09:00:48.964067",
     "exception": false,
     "start_time": "2025-01-28T09:00:48.945100",
     "status": "completed"
    },
    "tags": []
   },
   "outputs": [
    {
     "data": {
      "text/plain": [
       "418"
      ]
     },
     "execution_count": 42,
     "metadata": {},
     "output_type": "execute_result"
    }
   ],
   "source": [
    "len(final_test_loader)"
   ]
  },
  {
   "cell_type": "code",
   "execution_count": 43,
   "id": "3aa0ad76",
   "metadata": {
    "execution": {
     "iopub.execute_input": "2025-01-28T09:00:48.990299Z",
     "iopub.status.busy": "2025-01-28T09:00:48.990089Z",
     "iopub.status.idle": "2025-01-28T09:00:48.996550Z",
     "shell.execute_reply": "2025-01-28T09:00:48.996002Z"
    },
    "papermill": {
     "duration": 0.020973,
     "end_time": "2025-01-28T09:00:48.997818",
     "exception": false,
     "start_time": "2025-01-28T09:00:48.976845",
     "status": "completed"
    },
    "tags": []
   },
   "outputs": [],
   "source": [
    "pred_df = pd.DataFrame(pred, columns=[\"Survived\"])\n",
    "pred_df[\"PassengerId\"] = test_df[\"PassengerId\"]\n",
    "pred_df.to_csv(\"pred.csv\", index=False)"
   ]
  },
  {
   "cell_type": "code",
   "execution_count": 44,
   "id": "a0e93d97",
   "metadata": {
    "execution": {
     "iopub.execute_input": "2025-01-28T09:00:49.024124Z",
     "iopub.status.busy": "2025-01-28T09:00:49.023915Z",
     "iopub.status.idle": "2025-01-28T09:00:49.029811Z",
     "shell.execute_reply": "2025-01-28T09:00:49.028999Z"
    },
    "papermill": {
     "duration": 0.020504,
     "end_time": "2025-01-28T09:00:49.031152",
     "exception": false,
     "start_time": "2025-01-28T09:00:49.010648",
     "status": "completed"
    },
    "tags": []
   },
   "outputs": [
    {
     "data": {
      "text/html": [
       "<div>\n",
       "<style scoped>\n",
       "    .dataframe tbody tr th:only-of-type {\n",
       "        vertical-align: middle;\n",
       "    }\n",
       "\n",
       "    .dataframe tbody tr th {\n",
       "        vertical-align: top;\n",
       "    }\n",
       "\n",
       "    .dataframe thead th {\n",
       "        text-align: right;\n",
       "    }\n",
       "</style>\n",
       "<table border=\"1\" class=\"dataframe\">\n",
       "  <thead>\n",
       "    <tr style=\"text-align: right;\">\n",
       "      <th></th>\n",
       "      <th>Survived</th>\n",
       "      <th>PassengerId</th>\n",
       "    </tr>\n",
       "  </thead>\n",
       "  <tbody>\n",
       "    <tr>\n",
       "      <th>0</th>\n",
       "      <td>0</td>\n",
       "      <td>892</td>\n",
       "    </tr>\n",
       "    <tr>\n",
       "      <th>1</th>\n",
       "      <td>1</td>\n",
       "      <td>893</td>\n",
       "    </tr>\n",
       "    <tr>\n",
       "      <th>2</th>\n",
       "      <td>1</td>\n",
       "      <td>894</td>\n",
       "    </tr>\n",
       "    <tr>\n",
       "      <th>3</th>\n",
       "      <td>0</td>\n",
       "      <td>895</td>\n",
       "    </tr>\n",
       "    <tr>\n",
       "      <th>4</th>\n",
       "      <td>1</td>\n",
       "      <td>896</td>\n",
       "    </tr>\n",
       "  </tbody>\n",
       "</table>\n",
       "</div>"
      ],
      "text/plain": [
       "   Survived  PassengerId\n",
       "0         0          892\n",
       "1         1          893\n",
       "2         1          894\n",
       "3         0          895\n",
       "4         1          896"
      ]
     },
     "execution_count": 44,
     "metadata": {},
     "output_type": "execute_result"
    }
   ],
   "source": [
    "pred_df.head()"
   ]
  }
 ],
 "metadata": {
  "kaggle": {
   "accelerator": "nvidiaTeslaT4",
   "dataSources": [
    {
     "databundleVersionId": 26502,
     "sourceId": 3136,
     "sourceType": "competition"
    }
   ],
   "dockerImageVersionId": 30822,
   "isGpuEnabled": true,
   "isInternetEnabled": true,
   "language": "python",
   "sourceType": "notebook"
  },
  "kernelspec": {
   "display_name": "Python 3",
   "language": "python",
   "name": "python3"
  },
  "language_info": {
   "codemirror_mode": {
    "name": "ipython",
    "version": 3
   },
   "file_extension": ".py",
   "mimetype": "text/x-python",
   "name": "python",
   "nbconvert_exporter": "python",
   "pygments_lexer": "ipython3",
   "version": "3.10.12"
  },
  "papermill": {
   "default_parameters": {},
   "duration": 111.724916,
   "end_time": "2025-01-28T09:00:50.465613",
   "environment_variables": {},
   "exception": null,
   "input_path": "__notebook__.ipynb",
   "output_path": "__notebook__.ipynb",
   "parameters": {},
   "start_time": "2025-01-28T08:58:58.740697",
   "version": "2.6.0"
  }
 },
 "nbformat": 4,
 "nbformat_minor": 5
}
