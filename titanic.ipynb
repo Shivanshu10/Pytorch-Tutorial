{
 "cells": [
  {
   "cell_type": "code",
   "execution_count": 1,
   "id": "783ab85c",
   "metadata": {
    "_cell_guid": "b1076dfc-b9ad-4769-8c92-a6c4dae69d19",
    "_uuid": "8f2839f25d086af736a60e9eeb907d3b93b6e0e5",
    "execution": {
     "iopub.execute_input": "2025-01-29T05:57:41.575279Z",
     "iopub.status.busy": "2025-01-29T05:57:41.574879Z",
     "iopub.status.idle": "2025-01-29T05:57:43.386813Z",
     "shell.execute_reply": "2025-01-29T05:57:43.386040Z"
    },
    "papermill": {
     "duration": 1.823207,
     "end_time": "2025-01-29T05:57:43.388026",
     "exception": false,
     "start_time": "2025-01-29T05:57:41.564819",
     "status": "completed"
    },
    "tags": []
   },
   "outputs": [
    {
     "name": "stdout",
     "output_type": "stream",
     "text": [
      "/kaggle/input/titanic/train.csv\n",
      "/kaggle/input/titanic/test.csv\n",
      "/kaggle/input/titanic/gender_submission.csv\n"
     ]
    }
   ],
   "source": [
    "import numpy as np\n",
    "import pandas as pd\n",
    "import seaborn as sns\n",
    "import matplotlib.pyplot as plt\n",
    "import os\n",
    "for dirname, _, filenames in os.walk('/kaggle/input'):\n",
    "    for filename in filenames:\n",
    "        print(os.path.join(dirname, filename))"
   ]
  },
  {
   "cell_type": "markdown",
   "id": "7d41db6a",
   "metadata": {
    "papermill": {
     "duration": 0.007729,
     "end_time": "2025-01-29T05:57:43.404456",
     "exception": false,
     "start_time": "2025-01-29T05:57:43.396727",
     "status": "completed"
    },
    "tags": []
   },
   "source": [
    "## Load Data"
   ]
  },
  {
   "cell_type": "code",
   "execution_count": 2,
   "id": "bb476cca",
   "metadata": {
    "execution": {
     "iopub.execute_input": "2025-01-29T05:57:43.421044Z",
     "iopub.status.busy": "2025-01-29T05:57:43.420692Z",
     "iopub.status.idle": "2025-01-29T05:57:43.461905Z",
     "shell.execute_reply": "2025-01-29T05:57:43.461091Z"
    },
    "papermill": {
     "duration": 0.050954,
     "end_time": "2025-01-29T05:57:43.463246",
     "exception": false,
     "start_time": "2025-01-29T05:57:43.412292",
     "status": "completed"
    },
    "tags": []
   },
   "outputs": [
    {
     "data": {
      "text/html": [
       "<div>\n",
       "<style scoped>\n",
       "    .dataframe tbody tr th:only-of-type {\n",
       "        vertical-align: middle;\n",
       "    }\n",
       "\n",
       "    .dataframe tbody tr th {\n",
       "        vertical-align: top;\n",
       "    }\n",
       "\n",
       "    .dataframe thead th {\n",
       "        text-align: right;\n",
       "    }\n",
       "</style>\n",
       "<table border=\"1\" class=\"dataframe\">\n",
       "  <thead>\n",
       "    <tr style=\"text-align: right;\">\n",
       "      <th></th>\n",
       "      <th>Survived</th>\n",
       "      <th>Pclass</th>\n",
       "      <th>Name</th>\n",
       "      <th>Sex</th>\n",
       "      <th>Age</th>\n",
       "      <th>SibSp</th>\n",
       "      <th>Parch</th>\n",
       "      <th>Ticket</th>\n",
       "      <th>Fare</th>\n",
       "      <th>Cabin</th>\n",
       "      <th>Embarked</th>\n",
       "    </tr>\n",
       "    <tr>\n",
       "      <th>PassengerId</th>\n",
       "      <th></th>\n",
       "      <th></th>\n",
       "      <th></th>\n",
       "      <th></th>\n",
       "      <th></th>\n",
       "      <th></th>\n",
       "      <th></th>\n",
       "      <th></th>\n",
       "      <th></th>\n",
       "      <th></th>\n",
       "      <th></th>\n",
       "    </tr>\n",
       "  </thead>\n",
       "  <tbody>\n",
       "    <tr>\n",
       "      <th>1</th>\n",
       "      <td>0</td>\n",
       "      <td>3</td>\n",
       "      <td>Braund, Mr. Owen Harris</td>\n",
       "      <td>male</td>\n",
       "      <td>22.0</td>\n",
       "      <td>1</td>\n",
       "      <td>0</td>\n",
       "      <td>A/5 21171</td>\n",
       "      <td>7.2500</td>\n",
       "      <td>NaN</td>\n",
       "      <td>S</td>\n",
       "    </tr>\n",
       "    <tr>\n",
       "      <th>2</th>\n",
       "      <td>1</td>\n",
       "      <td>1</td>\n",
       "      <td>Cumings, Mrs. John Bradley (Florence Briggs Th...</td>\n",
       "      <td>female</td>\n",
       "      <td>38.0</td>\n",
       "      <td>1</td>\n",
       "      <td>0</td>\n",
       "      <td>PC 17599</td>\n",
       "      <td>71.2833</td>\n",
       "      <td>C85</td>\n",
       "      <td>C</td>\n",
       "    </tr>\n",
       "    <tr>\n",
       "      <th>3</th>\n",
       "      <td>1</td>\n",
       "      <td>3</td>\n",
       "      <td>Heikkinen, Miss. Laina</td>\n",
       "      <td>female</td>\n",
       "      <td>26.0</td>\n",
       "      <td>0</td>\n",
       "      <td>0</td>\n",
       "      <td>STON/O2. 3101282</td>\n",
       "      <td>7.9250</td>\n",
       "      <td>NaN</td>\n",
       "      <td>S</td>\n",
       "    </tr>\n",
       "    <tr>\n",
       "      <th>4</th>\n",
       "      <td>1</td>\n",
       "      <td>1</td>\n",
       "      <td>Futrelle, Mrs. Jacques Heath (Lily May Peel)</td>\n",
       "      <td>female</td>\n",
       "      <td>35.0</td>\n",
       "      <td>1</td>\n",
       "      <td>0</td>\n",
       "      <td>113803</td>\n",
       "      <td>53.1000</td>\n",
       "      <td>C123</td>\n",
       "      <td>S</td>\n",
       "    </tr>\n",
       "    <tr>\n",
       "      <th>5</th>\n",
       "      <td>0</td>\n",
       "      <td>3</td>\n",
       "      <td>Allen, Mr. William Henry</td>\n",
       "      <td>male</td>\n",
       "      <td>35.0</td>\n",
       "      <td>0</td>\n",
       "      <td>0</td>\n",
       "      <td>373450</td>\n",
       "      <td>8.0500</td>\n",
       "      <td>NaN</td>\n",
       "      <td>S</td>\n",
       "    </tr>\n",
       "    <tr>\n",
       "      <th>6</th>\n",
       "      <td>0</td>\n",
       "      <td>3</td>\n",
       "      <td>Moran, Mr. James</td>\n",
       "      <td>male</td>\n",
       "      <td>NaN</td>\n",
       "      <td>0</td>\n",
       "      <td>0</td>\n",
       "      <td>330877</td>\n",
       "      <td>8.4583</td>\n",
       "      <td>NaN</td>\n",
       "      <td>Q</td>\n",
       "    </tr>\n",
       "    <tr>\n",
       "      <th>7</th>\n",
       "      <td>0</td>\n",
       "      <td>1</td>\n",
       "      <td>McCarthy, Mr. Timothy J</td>\n",
       "      <td>male</td>\n",
       "      <td>54.0</td>\n",
       "      <td>0</td>\n",
       "      <td>0</td>\n",
       "      <td>17463</td>\n",
       "      <td>51.8625</td>\n",
       "      <td>E46</td>\n",
       "      <td>S</td>\n",
       "    </tr>\n",
       "    <tr>\n",
       "      <th>8</th>\n",
       "      <td>0</td>\n",
       "      <td>3</td>\n",
       "      <td>Palsson, Master. Gosta Leonard</td>\n",
       "      <td>male</td>\n",
       "      <td>2.0</td>\n",
       "      <td>3</td>\n",
       "      <td>1</td>\n",
       "      <td>349909</td>\n",
       "      <td>21.0750</td>\n",
       "      <td>NaN</td>\n",
       "      <td>S</td>\n",
       "    </tr>\n",
       "    <tr>\n",
       "      <th>9</th>\n",
       "      <td>1</td>\n",
       "      <td>3</td>\n",
       "      <td>Johnson, Mrs. Oscar W (Elisabeth Vilhelmina Berg)</td>\n",
       "      <td>female</td>\n",
       "      <td>27.0</td>\n",
       "      <td>0</td>\n",
       "      <td>2</td>\n",
       "      <td>347742</td>\n",
       "      <td>11.1333</td>\n",
       "      <td>NaN</td>\n",
       "      <td>S</td>\n",
       "    </tr>\n",
       "    <tr>\n",
       "      <th>10</th>\n",
       "      <td>1</td>\n",
       "      <td>2</td>\n",
       "      <td>Nasser, Mrs. Nicholas (Adele Achem)</td>\n",
       "      <td>female</td>\n",
       "      <td>14.0</td>\n",
       "      <td>1</td>\n",
       "      <td>0</td>\n",
       "      <td>237736</td>\n",
       "      <td>30.0708</td>\n",
       "      <td>NaN</td>\n",
       "      <td>C</td>\n",
       "    </tr>\n",
       "  </tbody>\n",
       "</table>\n",
       "</div>"
      ],
      "text/plain": [
       "             Survived  Pclass  \\\n",
       "PassengerId                     \n",
       "1                   0       3   \n",
       "2                   1       1   \n",
       "3                   1       3   \n",
       "4                   1       1   \n",
       "5                   0       3   \n",
       "6                   0       3   \n",
       "7                   0       1   \n",
       "8                   0       3   \n",
       "9                   1       3   \n",
       "10                  1       2   \n",
       "\n",
       "                                                          Name     Sex   Age  \\\n",
       "PassengerId                                                                    \n",
       "1                                      Braund, Mr. Owen Harris    male  22.0   \n",
       "2            Cumings, Mrs. John Bradley (Florence Briggs Th...  female  38.0   \n",
       "3                                       Heikkinen, Miss. Laina  female  26.0   \n",
       "4                 Futrelle, Mrs. Jacques Heath (Lily May Peel)  female  35.0   \n",
       "5                                     Allen, Mr. William Henry    male  35.0   \n",
       "6                                             Moran, Mr. James    male   NaN   \n",
       "7                                      McCarthy, Mr. Timothy J    male  54.0   \n",
       "8                               Palsson, Master. Gosta Leonard    male   2.0   \n",
       "9            Johnson, Mrs. Oscar W (Elisabeth Vilhelmina Berg)  female  27.0   \n",
       "10                         Nasser, Mrs. Nicholas (Adele Achem)  female  14.0   \n",
       "\n",
       "             SibSp  Parch            Ticket     Fare Cabin Embarked  \n",
       "PassengerId                                                          \n",
       "1                1      0         A/5 21171   7.2500   NaN        S  \n",
       "2                1      0          PC 17599  71.2833   C85        C  \n",
       "3                0      0  STON/O2. 3101282   7.9250   NaN        S  \n",
       "4                1      0            113803  53.1000  C123        S  \n",
       "5                0      0            373450   8.0500   NaN        S  \n",
       "6                0      0            330877   8.4583   NaN        Q  \n",
       "7                0      0             17463  51.8625   E46        S  \n",
       "8                3      1            349909  21.0750   NaN        S  \n",
       "9                0      2            347742  11.1333   NaN        S  \n",
       "10               1      0            237736  30.0708   NaN        C  "
      ]
     },
     "execution_count": 2,
     "metadata": {},
     "output_type": "execute_result"
    }
   ],
   "source": [
    "train_df = pd.read_csv(\"/kaggle/input/titanic/train.csv\", index_col=0)\n",
    "train_df.head(10)"
   ]
  },
  {
   "cell_type": "code",
   "execution_count": 3,
   "id": "93bab2f5",
   "metadata": {
    "execution": {
     "iopub.execute_input": "2025-01-29T05:57:43.481819Z",
     "iopub.status.busy": "2025-01-29T05:57:43.481571Z",
     "iopub.status.idle": "2025-01-29T05:57:43.485866Z",
     "shell.execute_reply": "2025-01-29T05:57:43.485200Z"
    },
    "papermill": {
     "duration": 0.015442,
     "end_time": "2025-01-29T05:57:43.487070",
     "exception": false,
     "start_time": "2025-01-29T05:57:43.471628",
     "status": "completed"
    },
    "tags": []
   },
   "outputs": [
    {
     "data": {
      "text/plain": [
       "891"
      ]
     },
     "execution_count": 3,
     "metadata": {},
     "output_type": "execute_result"
    }
   ],
   "source": [
    "len(train_df)"
   ]
  },
  {
   "cell_type": "markdown",
   "id": "10cbf8f0",
   "metadata": {
    "papermill": {
     "duration": 0.007979,
     "end_time": "2025-01-29T05:57:43.503456",
     "exception": false,
     "start_time": "2025-01-29T05:57:43.495477",
     "status": "completed"
    },
    "tags": []
   },
   "source": [
    "## Explore Data"
   ]
  },
  {
   "attachments": {
    "32b3126c-ecdb-46fc-86b2-f22ddf6e6809.png": {
     "image/png": "[encoded data removed]"
    }
   },
   "cell_type": "markdown",
   "id": "f9977696",
   "metadata": {
    "papermill": {
     "duration": 0.007834,
     "end_time": "2025-01-29T05:57:43.519686",
     "exception": false,
     "start_time": "2025-01-29T05:57:43.511852",
     "status": "completed"
    },
    "tags": []
   },
   "source": [
    "![image.png](attachment:32b3126c-ecdb-46fc-86b2-f22ddf6e6809.png)"
   ]
  },
  {
   "cell_type": "code",
   "execution_count": 4,
   "id": "9a15ea8c",
   "metadata": {
    "execution": {
     "iopub.execute_input": "2025-01-29T05:57:43.536817Z",
     "iopub.status.busy": "2025-01-29T05:57:43.536548Z",
     "iopub.status.idle": "2025-01-29T05:57:43.540838Z",
     "shell.execute_reply": "2025-01-29T05:57:43.540210Z"
    },
    "papermill": {
     "duration": 0.014393,
     "end_time": "2025-01-29T05:57:43.542194",
     "exception": false,
     "start_time": "2025-01-29T05:57:43.527801",
     "status": "completed"
    },
    "tags": []
   },
   "outputs": [
    {
     "data": {
      "text/plain": [
       "891"
      ]
     },
     "execution_count": 4,
     "metadata": {},
     "output_type": "execute_result"
    }
   ],
   "source": [
    "len(train_df)"
   ]
  },
  {
   "cell_type": "code",
   "execution_count": 5,
   "id": "6342070b",
   "metadata": {
    "execution": {
     "iopub.execute_input": "2025-01-29T05:57:43.559948Z",
     "iopub.status.busy": "2025-01-29T05:57:43.559569Z",
     "iopub.status.idle": "2025-01-29T05:57:43.580236Z",
     "shell.execute_reply": "2025-01-29T05:57:43.579573Z"
    },
    "papermill": {
     "duration": 0.031219,
     "end_time": "2025-01-29T05:57:43.581531",
     "exception": false,
     "start_time": "2025-01-29T05:57:43.550312",
     "status": "completed"
    },
    "tags": []
   },
   "outputs": [
    {
     "data": {
      "text/html": [
       "<div>\n",
       "<style scoped>\n",
       "    .dataframe tbody tr th:only-of-type {\n",
       "        vertical-align: middle;\n",
       "    }\n",
       "\n",
       "    .dataframe tbody tr th {\n",
       "        vertical-align: top;\n",
       "    }\n",
       "\n",
       "    .dataframe thead th {\n",
       "        text-align: right;\n",
       "    }\n",
       "</style>\n",
       "<table border=\"1\" class=\"dataframe\">\n",
       "  <thead>\n",
       "    <tr style=\"text-align: right;\">\n",
       "      <th></th>\n",
       "      <th>Survived</th>\n",
       "      <th>Pclass</th>\n",
       "      <th>Age</th>\n",
       "      <th>SibSp</th>\n",
       "      <th>Parch</th>\n",
       "      <th>Fare</th>\n",
       "    </tr>\n",
       "  </thead>\n",
       "  <tbody>\n",
       "    <tr>\n",
       "      <th>count</th>\n",
       "      <td>891.000000</td>\n",
       "      <td>891.000000</td>\n",
       "      <td>714.000000</td>\n",
       "      <td>891.000000</td>\n",
       "      <td>891.000000</td>\n",
       "      <td>891.000000</td>\n",
       "    </tr>\n",
       "    <tr>\n",
       "      <th>mean</th>\n",
       "      <td>0.383838</td>\n",
       "      <td>2.308642</td>\n",
       "      <td>29.699118</td>\n",
       "      <td>0.523008</td>\n",
       "      <td>0.381594</td>\n",
       "      <td>32.204208</td>\n",
       "    </tr>\n",
       "    <tr>\n",
       "      <th>std</th>\n",
       "      <td>0.486592</td>\n",
       "      <td>0.836071</td>\n",
       "      <td>14.526497</td>\n",
       "      <td>1.102743</td>\n",
       "      <td>0.806057</td>\n",
       "      <td>49.693429</td>\n",
       "    </tr>\n",
       "    <tr>\n",
       "      <th>min</th>\n",
       "      <td>0.000000</td>\n",
       "      <td>1.000000</td>\n",
       "      <td>0.420000</td>\n",
       "      <td>0.000000</td>\n",
       "      <td>0.000000</td>\n",
       "      <td>0.000000</td>\n",
       "    </tr>\n",
       "    <tr>\n",
       "      <th>25%</th>\n",
       "      <td>0.000000</td>\n",
       "      <td>2.000000</td>\n",
       "      <td>20.125000</td>\n",
       "      <td>0.000000</td>\n",
       "      <td>0.000000</td>\n",
       "      <td>7.910400</td>\n",
       "    </tr>\n",
       "    <tr>\n",
       "      <th>50%</th>\n",
       "      <td>0.000000</td>\n",
       "      <td>3.000000</td>\n",
       "      <td>28.000000</td>\n",
       "      <td>0.000000</td>\n",
       "      <td>0.000000</td>\n",
       "      <td>14.454200</td>\n",
       "    </tr>\n",
       "    <tr>\n",
       "      <th>75%</th>\n",
       "      <td>1.000000</td>\n",
       "      <td>3.000000</td>\n",
       "      <td>38.000000</td>\n",
       "      <td>1.000000</td>\n",
       "      <td>0.000000</td>\n",
       "      <td>31.000000</td>\n",
       "    </tr>\n",
       "    <tr>\n",
       "      <th>max</th>\n",
       "      <td>1.000000</td>\n",
       "      <td>3.000000</td>\n",
       "      <td>80.000000</td>\n",
       "      <td>8.000000</td>\n",
       "      <td>6.000000</td>\n",
       "      <td>512.329200</td>\n",
       "    </tr>\n",
       "  </tbody>\n",
       "</table>\n",
       "</div>"
      ],
      "text/plain": [
       "         Survived      Pclass         Age       SibSp       Parch        Fare\n",
       "count  891.000000  891.000000  714.000000  891.000000  891.000000  891.000000\n",
       "mean     0.383838    2.308642   29.699118    0.523008    0.381594   32.204208\n",
       "std      0.486592    0.836071   14.526497    1.102743    0.806057   49.693429\n",
       "min      0.000000    1.000000    0.420000    0.000000    0.000000    0.000000\n",
       "25%      0.000000    2.000000   20.125000    0.000000    0.000000    7.910400\n",
       "50%      0.000000    3.000000   28.000000    0.000000    0.000000   14.454200\n",
       "75%      1.000000    3.000000   38.000000    1.000000    0.000000   31.000000\n",
       "max      1.000000    3.000000   80.000000    8.000000    6.000000  512.329200"
      ]
     },
     "execution_count": 5,
     "metadata": {},
     "output_type": "execute_result"
    }
   ],
   "source": [
    "train_df.describe()"
   ]
  },
  {
   "cell_type": "code",
   "execution_count": 6,
   "id": "bd7071dc",
   "metadata": {
    "execution": {
     "iopub.execute_input": "2025-01-29T05:57:43.599346Z",
     "iopub.status.busy": "2025-01-29T05:57:43.599098Z",
     "iopub.status.idle": "2025-01-29T05:57:43.603470Z",
     "shell.execute_reply": "2025-01-29T05:57:43.602580Z"
    },
    "papermill": {
     "duration": 0.014493,
     "end_time": "2025-01-29T05:57:43.604769",
     "exception": false,
     "start_time": "2025-01-29T05:57:43.590276",
     "status": "completed"
    },
    "tags": []
   },
   "outputs": [
    {
     "name": "stdout",
     "output_type": "stream",
     "text": [
      "count of items to be dropped 177\n",
      "count of items left 714\n"
     ]
    }
   ],
   "source": [
    "# age has some null value\n",
    "# should we try dropping them for now?\n",
    "\n",
    "# count of rows that will be dropped\n",
    "print(f\"count of items to be dropped {len(train_df) - 714}\")\n",
    "\n",
    "# rows lefr\n",
    "print(f\"count of items left {len(train_df) - len(train_df) + 714}\")"
   ]
  },
  {
   "cell_type": "code",
   "execution_count": 7,
   "id": "ba72ad94",
   "metadata": {
    "execution": {
     "iopub.execute_input": "2025-01-29T05:57:43.622744Z",
     "iopub.status.busy": "2025-01-29T05:57:43.622491Z",
     "iopub.status.idle": "2025-01-29T05:57:43.628453Z",
     "shell.execute_reply": "2025-01-29T05:57:43.627685Z"
    },
    "papermill": {
     "duration": 0.016283,
     "end_time": "2025-01-29T05:57:43.629619",
     "exception": false,
     "start_time": "2025-01-29T05:57:43.613336",
     "status": "completed"
    },
    "tags": []
   },
   "outputs": [
    {
     "data": {
      "text/plain": [
       "Survived      0\n",
       "Pclass        0\n",
       "Name          0\n",
       "Sex           0\n",
       "Age         177\n",
       "SibSp         0\n",
       "Parch         0\n",
       "Ticket        0\n",
       "Fare          0\n",
       "Cabin       687\n",
       "Embarked      2\n",
       "dtype: int64"
      ]
     },
     "execution_count": 7,
     "metadata": {},
     "output_type": "execute_result"
    }
   ],
   "source": [
    "train_df.isna().sum()"
   ]
  },
  {
   "cell_type": "code",
   "execution_count": 8,
   "id": "370be2e2",
   "metadata": {
    "execution": {
     "iopub.execute_input": "2025-01-29T05:57:43.647110Z",
     "iopub.status.busy": "2025-01-29T05:57:43.646894Z",
     "iopub.status.idle": "2025-01-29T05:57:43.649813Z",
     "shell.execute_reply": "2025-01-29T05:57:43.649180Z"
    },
    "papermill": {
     "duration": 0.01291,
     "end_time": "2025-01-29T05:57:43.650901",
     "exception": false,
     "start_time": "2025-01-29T05:57:43.637991",
     "status": "completed"
    },
    "tags": []
   },
   "outputs": [],
   "source": [
    "# cabin has 687 nulls, i dont think we can learn anything using it though"
   ]
  },
  {
   "cell_type": "code",
   "execution_count": 9,
   "id": "a2632baf",
   "metadata": {
    "execution": {
     "iopub.execute_input": "2025-01-29T05:57:43.668554Z",
     "iopub.status.busy": "2025-01-29T05:57:43.668333Z",
     "iopub.status.idle": "2025-01-29T05:57:43.675507Z",
     "shell.execute_reply": "2025-01-29T05:57:43.674729Z"
    },
    "papermill": {
     "duration": 0.017347,
     "end_time": "2025-01-29T05:57:43.676687",
     "exception": false,
     "start_time": "2025-01-29T05:57:43.659340",
     "status": "completed"
    },
    "tags": []
   },
   "outputs": [
    {
     "data": {
      "text/plain": [
       "Survived\n",
       "0    549\n",
       "1    342\n",
       "Name: count, dtype: int64"
      ]
     },
     "execution_count": 9,
     "metadata": {},
     "output_type": "execute_result"
    }
   ],
   "source": [
    "# lets check balance now\n",
    "train_df[\"Survived\"].value_counts()"
   ]
  },
  {
   "cell_type": "code",
   "execution_count": 10,
   "id": "ea7adde8",
   "metadata": {
    "execution": {
     "iopub.execute_input": "2025-01-29T05:57:43.694479Z",
     "iopub.status.busy": "2025-01-29T05:57:43.694253Z",
     "iopub.status.idle": "2025-01-29T05:57:43.700272Z",
     "shell.execute_reply": "2025-01-29T05:57:43.699528Z"
    },
    "papermill": {
     "duration": 0.016398,
     "end_time": "2025-01-29T05:57:43.701562",
     "exception": false,
     "start_time": "2025-01-29T05:57:43.685164",
     "status": "completed"
    },
    "tags": []
   },
   "outputs": [
    {
     "name": "stdout",
     "output_type": "stream",
     "text": [
      "Survived\n",
      "0    61.616162\n",
      "1    38.383838\n",
      "Name: proportion, dtype: float64\n",
      "The dataset is balanced.\n"
     ]
    }
   ],
   "source": [
    "class_percentages = train_df[\"Survived\"].value_counts(normalize=True) * 100\n",
    "\n",
    "print(class_percentages)\n",
    "\n",
    "threshold = 70  # Adjust this as needed\n",
    "is_balanced = all(class_percentages < threshold)\n",
    "\n",
    "if is_balanced:\n",
    "    print(\"The dataset is balanced.\")\n",
    "else:\n",
    "    print(\"The dataset is imbalanced.\")"
   ]
  },
  {
   "cell_type": "code",
   "execution_count": 11,
   "id": "52ba56cf",
   "metadata": {
    "execution": {
     "iopub.execute_input": "2025-01-29T05:57:43.719524Z",
     "iopub.status.busy": "2025-01-29T05:57:43.719302Z",
     "iopub.status.idle": "2025-01-29T05:57:43.721995Z",
     "shell.execute_reply": "2025-01-29T05:57:43.721390Z"
    },
    "papermill": {
     "duration": 0.012907,
     "end_time": "2025-01-29T05:57:43.723114",
     "exception": false,
     "start_time": "2025-01-29T05:57:43.710207",
     "status": "completed"
    },
    "tags": []
   },
   "outputs": [],
   "source": [
    "# so model can easily get 61% accuracy if it always predics 0\n",
    "# so this will be our basepoint"
   ]
  },
  {
   "cell_type": "code",
   "execution_count": 12,
   "id": "5ceb90c8",
   "metadata": {
    "execution": {
     "iopub.execute_input": "2025-01-29T05:57:43.741918Z",
     "iopub.status.busy": "2025-01-29T05:57:43.741693Z",
     "iopub.status.idle": "2025-01-29T05:57:43.759391Z",
     "shell.execute_reply": "2025-01-29T05:57:43.758482Z"
    },
    "papermill": {
     "duration": 0.028792,
     "end_time": "2025-01-29T05:57:43.760711",
     "exception": false,
     "start_time": "2025-01-29T05:57:43.731919",
     "status": "completed"
    },
    "tags": []
   },
   "outputs": [
    {
     "name": "stdout",
     "output_type": "stream",
     "text": [
      "Column: Survived\n",
      "Outliers: 0\n",
      "Column: Pclass\n",
      "Outliers: 0\n",
      "Column: Age\n",
      "Outliers: 11\n",
      "Column: SibSp\n",
      "Outliers: 46\n",
      "Column: Parch\n",
      "Outliers: 213\n",
      "Column: Fare\n",
      "Outliers: 116\n"
     ]
    }
   ],
   "source": [
    "# check outliers\n",
    "# Identify outliers for each column\n",
    "for column in train_df.select_dtypes(include=[np.number]):  # Only numerical columns\n",
    "    Q1 = train_df[column].quantile(0.25)  # First quartile (25th percentile)\n",
    "    Q3 = train_df[column].quantile(0.75)  # Third quartile (75th percentile)\n",
    "    IQR = Q3 - Q1  # Interquartile range\n",
    "    lower_bound = Q1 - 1.5 * IQR\n",
    "    upper_bound = Q3 + 1.5 * IQR\n",
    "\n",
    "    print(f\"Column: {column}\")\n",
    "    print(f\"Outliers: {len(train_df[(train_df[column] < lower_bound) | (train_df[column] > upper_bound)][column].tolist())}\")"
   ]
  },
  {
   "cell_type": "markdown",
   "id": "1c9581a5",
   "metadata": {
    "papermill": {
     "duration": 0.008642,
     "end_time": "2025-01-29T05:57:43.779017",
     "exception": false,
     "start_time": "2025-01-29T05:57:43.770375",
     "status": "completed"
    },
    "tags": []
   },
   "source": [
    "## Create Dataset Class"
   ]
  },
  {
   "cell_type": "code",
   "execution_count": 13,
   "id": "9a22b360",
   "metadata": {
    "execution": {
     "iopub.execute_input": "2025-01-29T05:57:43.797237Z",
     "iopub.status.busy": "2025-01-29T05:57:43.796951Z",
     "iopub.status.idle": "2025-01-29T05:57:44.062173Z",
     "shell.execute_reply": "2025-01-29T05:57:44.061411Z"
    },
    "papermill": {
     "duration": 0.275969,
     "end_time": "2025-01-29T05:57:44.063604",
     "exception": false,
     "start_time": "2025-01-29T05:57:43.787635",
     "status": "completed"
    },
    "tags": []
   },
   "outputs": [
    {
     "data": {
      "image/png": "[encoded data removed]",
      "text/plain": [
       "<Figure size 640x480 with 1 Axes>"
      ]
     },
     "metadata": {},
     "output_type": "display_data"
    }
   ],
   "source": [
    "sns.countplot(x='Sex', hue='Survived', data=train_df)\n",
    "\n",
    "total = len(train_df)\n",
    "\n",
    "# Add percentage annotations\n",
    "\n",
    "for p in plt.gca().patches:\n",
    "    height = p.get_height()\n",
    "    width = p.get_width()\n",
    "    x, y = p.get_xy()  # Get position of each bar\n",
    "    percentage = height / total * 100\n",
    "    plt.text(x + width / 2, y + height + 5, f'{percentage:.1f}%', ha='center')\n",
    "\n",
    "plt.title('Count of Survived vs. Not Survived by Gender')\n",
    "plt.xlabel('Gender')\n",
    "plt.ylabel('Count')\n",
    "plt.show()"
   ]
  },
  {
   "cell_type": "code",
   "execution_count": 14,
   "id": "c0eed505",
   "metadata": {
    "execution": {
     "iopub.execute_input": "2025-01-29T05:57:44.082917Z",
     "iopub.status.busy": "2025-01-29T05:57:44.082676Z",
     "iopub.status.idle": "2025-01-29T05:57:44.423956Z",
     "shell.execute_reply": "2025-01-29T05:57:44.423034Z"
    },
    "papermill": {
     "duration": 0.352344,
     "end_time": "2025-01-29T05:57:44.425251",
     "exception": false,
     "start_time": "2025-01-29T05:57:44.072907",
     "status": "completed"
    },
    "tags": []
   },
   "outputs": [
    {
     "name": "stderr",
     "output_type": "stream",
     "text": [
      "/usr/local/lib/python3.10/dist-packages/seaborn/_oldcore.py:1119: FutureWarning: use_inf_as_na option is deprecated and will be removed in a future version. Convert inf values to NaN before operating instead.\n",
      "  with pd.option_context('mode.use_inf_as_na', True):\n"
     ]
    },
    {
     "data": {
      "image/png": "[encoded data removed]",
      "text/plain": [
       "<Figure size 640x480 with 1 Axes>"
      ]
     },
     "metadata": {},
     "output_type": "display_data"
    }
   ],
   "source": [
    "sns.histplot(x='Age', hue='Survived', data=train_df)\n",
    "plt.title('Count of Survived vs. Not Survived by Age')\n",
    "plt.xlabel('Age')\n",
    "plt.ylabel('Count')\n",
    "plt.show()"
   ]
  },
  {
   "cell_type": "code",
   "execution_count": 15,
   "id": "12c81adb",
   "metadata": {
    "execution": {
     "iopub.execute_input": "2025-01-29T05:57:44.445998Z",
     "iopub.status.busy": "2025-01-29T05:57:44.445752Z",
     "iopub.status.idle": "2025-01-29T05:57:44.451363Z",
     "shell.execute_reply": "2025-01-29T05:57:44.450709Z"
    },
    "papermill": {
     "duration": 0.017073,
     "end_time": "2025-01-29T05:57:44.452530",
     "exception": false,
     "start_time": "2025-01-29T05:57:44.435457",
     "status": "completed"
    },
    "tags": []
   },
   "outputs": [
    {
     "data": {
      "text/plain": [
       "Survived\n",
       "0    549\n",
       "1    342\n",
       "Name: count, dtype: int64"
      ]
     },
     "execution_count": 15,
     "metadata": {},
     "output_type": "execute_result"
    }
   ],
   "source": [
    "train_df[\"Survived\"].value_counts()"
   ]
  },
  {
   "cell_type": "code",
   "execution_count": 16,
   "id": "f36b5be8",
   "metadata": {
    "execution": {
     "iopub.execute_input": "2025-01-29T05:57:44.472616Z",
     "iopub.status.busy": "2025-01-29T05:57:44.472392Z",
     "iopub.status.idle": "2025-01-29T05:57:49.141543Z",
     "shell.execute_reply": "2025-01-29T05:57:49.140465Z"
    },
    "papermill": {
     "duration": 4.68135,
     "end_time": "2025-01-29T05:57:49.143502",
     "exception": false,
     "start_time": "2025-01-29T05:57:44.462152",
     "status": "completed"
    },
    "tags": []
   },
   "outputs": [
    {
     "name": "stdout",
     "output_type": "stream",
     "text": [
      "Collecting torchviz\r\n",
      "  Downloading torchviz-0.0.3-py3-none-any.whl.metadata (2.1 kB)\r\n",
      "Requirement already satisfied: torch in /usr/local/lib/python3.10/dist-packages (from torchviz) (2.4.1+cu121)\r\n",
      "Requirement already satisfied: graphviz in /usr/local/lib/python3.10/dist-packages (from torchviz) (0.20.3)\r\n",
      "Requirement already satisfied: filelock in /usr/local/lib/python3.10/dist-packages (from torch->torchviz) (3.16.1)\r\n",
      "Requirement already satisfied: typing-extensions>=4.8.0 in /usr/local/lib/python3.10/dist-packages (from torch->torchviz) (4.12.2)\r\n",
      "Requirement already satisfied: sympy in /usr/local/lib/python3.10/dist-packages (from torch->torchviz) (1.13.3)\r\n",
      "Requirement already satisfied: networkx in /usr/local/lib/python3.10/dist-packages (from torch->torchviz) (3.3)\r\n",
      "Requirement already satisfied: jinja2 in /usr/local/lib/python3.10/dist-packages (from torch->torchviz) (3.1.4)\r\n",
      "Requirement already satisfied: fsspec in /usr/local/lib/python3.10/dist-packages (from torch->torchviz) (2024.6.1)\r\n",
      "Requirement already satisfied: MarkupSafe>=2.0 in /usr/local/lib/python3.10/dist-packages (from jinja2->torch->torchviz) (2.1.5)\r\n",
      "Requirement already satisfied: mpmath<1.4,>=1.1.0 in /usr/local/lib/python3.10/dist-packages (from sympy->torch->torchviz) (1.3.0)\r\n",
      "Downloading torchviz-0.0.3-py3-none-any.whl (5.7 kB)\r\n",
      "Installing collected packages: torchviz\r\n",
      "Successfully installed torchviz-0.0.3\r\n"
     ]
    }
   ],
   "source": [
    "!pip install torchviz"
   ]
  },
  {
   "cell_type": "code",
   "execution_count": 17,
   "id": "921ddd94",
   "metadata": {
    "execution": {
     "iopub.execute_input": "2025-01-29T05:57:49.164957Z",
     "iopub.status.busy": "2025-01-29T05:57:49.164707Z",
     "iopub.status.idle": "2025-01-29T05:57:53.834068Z",
     "shell.execute_reply": "2025-01-29T05:57:53.833122Z"
    },
    "papermill": {
     "duration": 4.681812,
     "end_time": "2025-01-29T05:57:53.835737",
     "exception": false,
     "start_time": "2025-01-29T05:57:49.153925",
     "status": "completed"
    },
    "tags": []
   },
   "outputs": [],
   "source": [
    "import torch\n",
    "from torch.utils.data import Dataset, DataLoader\n",
    "import torchvision\n",
    "import torch.nn as nn \n",
    "from torch.utils.data import random_split\n",
    "import math\n",
    "from torchviz import make_dot\n",
    "from IPython.display import Image"
   ]
  },
  {
   "cell_type": "code",
   "execution_count": 18,
   "id": "c688b5d1",
   "metadata": {
    "execution": {
     "iopub.execute_input": "2025-01-29T05:57:53.857674Z",
     "iopub.status.busy": "2025-01-29T05:57:53.857217Z",
     "iopub.status.idle": "2025-01-29T05:57:53.866622Z",
     "shell.execute_reply": "2025-01-29T05:57:53.865803Z"
    },
    "papermill": {
     "duration": 0.021912,
     "end_time": "2025-01-29T05:57:53.868164",
     "exception": false,
     "start_time": "2025-01-29T05:57:53.846252",
     "status": "completed"
    },
    "tags": []
   },
   "outputs": [],
   "source": [
    "torch.manual_seed(42); # seed rng for reproducibility"
   ]
  },
  {
   "cell_type": "code",
   "execution_count": 19,
   "id": "ac92d8d9",
   "metadata": {
    "execution": {
     "iopub.execute_input": "2025-01-29T05:57:53.889554Z",
     "iopub.status.busy": "2025-01-29T05:57:53.889289Z",
     "iopub.status.idle": "2025-01-29T05:57:53.894417Z",
     "shell.execute_reply": "2025-01-29T05:57:53.893753Z"
    },
    "papermill": {
     "duration": 0.017177,
     "end_time": "2025-01-29T05:57:53.895644",
     "exception": false,
     "start_time": "2025-01-29T05:57:53.878467",
     "status": "completed"
    },
    "tags": []
   },
   "outputs": [],
   "source": [
    "class CSVDataset(Dataset):\n",
    "    def __init__(self, csv_path, features_col_list, target_col_list, transform=None, dropNa=False):\n",
    "        # data loading\n",
    "        self.features_col_list = features_col_list\n",
    "        self.target_col_list = target_col_list\n",
    "        self.data = pd.read_csv(csv_path, index_col=0)\n",
    "        self.transform = transform\n",
    "\n",
    "        if (dropNa):\n",
    "            self.data.fillna(-1, inplace=True)\n",
    "\n",
    "    def __getitem__(self, index):\n",
    "        x = self.data.iloc[index][self.features_col_list]  # Features}\n",
    "        y = self.data.iloc[index][self.target_col_list]  # Target\n",
    "\n",
    "        # Apply transformations if specified\n",
    "        if self.transform:\n",
    "            x, y = self.transform((x,y))\n",
    "\n",
    "        return torch.tensor(x, dtype=torch.float32), torch.tensor(y, dtype=torch.float32)\n",
    "\n",
    "    def __len__(self):\n",
    "        # allow us to use len(dataset)\n",
    "        return len(self.data)"
   ]
  },
  {
   "cell_type": "code",
   "execution_count": 20,
   "id": "d4210625",
   "metadata": {
    "execution": {
     "iopub.execute_input": "2025-01-29T05:57:53.916772Z",
     "iopub.status.busy": "2025-01-29T05:57:53.916541Z",
     "iopub.status.idle": "2025-01-29T05:57:54.000596Z",
     "shell.execute_reply": "2025-01-29T05:57:53.999608Z"
    },
    "papermill": {
     "duration": 0.095969,
     "end_time": "2025-01-29T05:57:54.001936",
     "exception": false,
     "start_time": "2025-01-29T05:57:53.905967",
     "status": "completed"
    },
    "tags": []
   },
   "outputs": [
    {
     "name": "stdout",
     "output_type": "stream",
     "text": [
      "tensor([-1.2649, -0.6325,  0.0000,  0.6325,  1.2649])\n"
     ]
    }
   ],
   "source": [
    "# Example tensor\n",
    "tensor = torch.tensor([1.0, 2.0, 3.0, 4.0, 5.0])\n",
    "\n",
    "# Compute mean and std\n",
    "mean = tensor.mean()\n",
    "std = tensor.std()\n",
    "\n",
    "# Normalize\n",
    "normalized_tensor = (tensor - mean) / std\n",
    "print(normalized_tensor)"
   ]
  },
  {
   "cell_type": "code",
   "execution_count": 21,
   "id": "a6ad7e41",
   "metadata": {
    "execution": {
     "iopub.execute_input": "2025-01-29T05:57:54.023883Z",
     "iopub.status.busy": "2025-01-29T05:57:54.023616Z",
     "iopub.status.idle": "2025-01-29T05:57:54.030740Z",
     "shell.execute_reply": "2025-01-29T05:57:54.030076Z"
    },
    "papermill": {
     "duration": 0.019451,
     "end_time": "2025-01-29T05:57:54.031975",
     "exception": false,
     "start_time": "2025-01-29T05:57:54.012524",
     "status": "completed"
    },
    "tags": []
   },
   "outputs": [],
   "source": [
    "class SexToNum():\n",
    "    def __call__(self, sample):\n",
    "        inputs, targets = sample\n",
    "\n",
    "        if (inputs[\"Sex\"] == \"male\"):\n",
    "            inputs[\"Sex\"] = 0\n",
    "        else:\n",
    "            inputs[\"Sex\"] = 1\n",
    "\n",
    "        return (inputs, targets)\n",
    "\n",
    "class NormalizeAge():\n",
    "    def __init__(self, minVal, maxVal):\n",
    "        self.minVal = minVal\n",
    "        self.maxVal = maxVal\n",
    "    \n",
    "    def __call__(self, sample):\n",
    "        inputs, targets = sample\n",
    "        inputs[\"Age\"] = (inputs[\"Age\"] - self.minVal) / (self.maxVal - self.minVal)\n",
    "        return (inputs, targets)\n",
    "\n",
    "class ConvertNumpyArrToFloat32():\n",
    "    def __call__(self, sample):\n",
    "        inputs, targets = sample\n",
    "        inputs = (inputs.values).astype(np.float32)\n",
    "        targets = (targets.values).astype(np.float32)\n",
    "        return (inputs, targets)"
   ]
  },
  {
   "cell_type": "code",
   "execution_count": 22,
   "id": "ed5bdf1f",
   "metadata": {
    "execution": {
     "iopub.execute_input": "2025-01-29T05:57:54.052681Z",
     "iopub.status.busy": "2025-01-29T05:57:54.052456Z",
     "iopub.status.idle": "2025-01-29T05:57:54.069260Z",
     "shell.execute_reply": "2025-01-29T05:57:54.068439Z"
    },
    "papermill": {
     "duration": 0.028507,
     "end_time": "2025-01-29T05:57:54.070527",
     "exception": false,
     "start_time": "2025-01-29T05:57:54.042020",
     "status": "completed"
    },
    "tags": []
   },
   "outputs": [
    {
     "data": {
      "text/plain": [
       "(tensor([0.0000, 0.1467]), tensor([0.]))"
      ]
     },
     "execution_count": 22,
     "metadata": {},
     "output_type": "execute_result"
    }
   ],
   "source": [
    "csv_file = \"/kaggle/input/titanic/train.csv\"\n",
    "features_col_list = [\"Sex\", \"Age\"]\n",
    "target_col_list = [\"Survived\"]\n",
    "\n",
    "minAge = 0\n",
    "maxAge = 150\n",
    "transforms = torchvision.transforms.Compose([SexToNum(), NormalizeAge(minAge, maxAge), ConvertNumpyArrToFloat32()])\n",
    "\n",
    "dataset = CSVDataset(csv_file, features_col_list, target_col_list, transform=transforms, dropNa=True)\n",
    "dataset[0]"
   ]
  },
  {
   "cell_type": "code",
   "execution_count": 23,
   "id": "baf18902",
   "metadata": {
    "execution": {
     "iopub.execute_input": "2025-01-29T05:57:54.091345Z",
     "iopub.status.busy": "2025-01-29T05:57:54.091060Z",
     "iopub.status.idle": "2025-01-29T05:57:54.095887Z",
     "shell.execute_reply": "2025-01-29T05:57:54.095089Z"
    },
    "papermill": {
     "duration": 0.016411,
     "end_time": "2025-01-29T05:57:54.097075",
     "exception": false,
     "start_time": "2025-01-29T05:57:54.080664",
     "status": "completed"
    },
    "tags": []
   },
   "outputs": [
    {
     "data": {
      "text/plain": [
       "891"
      ]
     },
     "execution_count": 23,
     "metadata": {},
     "output_type": "execute_result"
    }
   ],
   "source": [
    "len(dataset)"
   ]
  },
  {
   "cell_type": "code",
   "execution_count": 24,
   "id": "5eb9b5df",
   "metadata": {
    "execution": {
     "iopub.execute_input": "2025-01-29T05:57:54.118359Z",
     "iopub.status.busy": "2025-01-29T05:57:54.118094Z",
     "iopub.status.idle": "2025-01-29T05:57:54.123863Z",
     "shell.execute_reply": "2025-01-29T05:57:54.123054Z"
    },
    "papermill": {
     "duration": 0.017567,
     "end_time": "2025-01-29T05:57:54.125031",
     "exception": false,
     "start_time": "2025-01-29T05:57:54.107464",
     "status": "completed"
    },
    "tags": []
   },
   "outputs": [],
   "source": [
    "# Define split ratios\n",
    "train_size = int(0.8 * len(dataset))  # 80% for training\n",
    "val_size = int(0.1 * len(dataset))    # 10% for validation\n",
    "test_size = len(dataset) - train_size - val_size  # Remaining for testing\n",
    "\n",
    "# Split dataset\n",
    "train_dataset, val_dataset, test_dataset = random_split(dataset, [train_size, val_size, test_size])"
   ]
  },
  {
   "cell_type": "code",
   "execution_count": 25,
   "id": "dc628b20",
   "metadata": {
    "execution": {
     "iopub.execute_input": "2025-01-29T05:57:54.146261Z",
     "iopub.status.busy": "2025-01-29T05:57:54.145981Z",
     "iopub.status.idle": "2025-01-29T05:57:54.149945Z",
     "shell.execute_reply": "2025-01-29T05:57:54.149168Z"
    },
    "papermill": {
     "duration": 0.016017,
     "end_time": "2025-01-29T05:57:54.151170",
     "exception": false,
     "start_time": "2025-01-29T05:57:54.135153",
     "status": "completed"
    },
    "tags": []
   },
   "outputs": [],
   "source": [
    "# Define batch size\n",
    "# since we have less data\n",
    "batch_size = 16\n",
    "\n",
    "# Create DataLoaders\n",
    "train_loader = DataLoader(train_dataset, batch_size=batch_size, shuffle=False)\n",
    "val_loader = DataLoader(val_dataset, batch_size=batch_size, shuffle=False)\n",
    "test_loader = DataLoader(test_dataset, batch_size=batch_size, shuffle=False)"
   ]
  },
  {
   "cell_type": "code",
   "execution_count": 26,
   "id": "1ba89410",
   "metadata": {
    "execution": {
     "iopub.execute_input": "2025-01-29T05:57:54.173247Z",
     "iopub.status.busy": "2025-01-29T05:57:54.172945Z",
     "iopub.status.idle": "2025-01-29T05:57:54.247215Z",
     "shell.execute_reply": "2025-01-29T05:57:54.246297Z"
    },
    "papermill": {
     "duration": 0.087054,
     "end_time": "2025-01-29T05:57:54.248638",
     "exception": false,
     "start_time": "2025-01-29T05:57:54.161584",
     "status": "completed"
    },
    "tags": []
   },
   "outputs": [
    {
     "name": "stdout",
     "output_type": "stream",
     "text": [
      "Using device: cuda\n"
     ]
    }
   ],
   "source": [
    "device = torch.device(\"cuda\" if torch.cuda.is_available() else \"cpu\")\n",
    "print(f\"Using device: {device}\")"
   ]
  },
  {
   "cell_type": "code",
   "execution_count": 27,
   "id": "39582a40",
   "metadata": {
    "execution": {
     "iopub.execute_input": "2025-01-29T05:57:54.270542Z",
     "iopub.status.busy": "2025-01-29T05:57:54.270286Z",
     "iopub.status.idle": "2025-01-29T05:57:54.280661Z",
     "shell.execute_reply": "2025-01-29T05:57:54.280054Z"
    },
    "papermill": {
     "duration": 0.02265,
     "end_time": "2025-01-29T05:57:54.281926",
     "exception": false,
     "start_time": "2025-01-29T05:57:54.259276",
     "status": "completed"
    },
    "tags": []
   },
   "outputs": [],
   "source": [
    "# not correctly init\n",
    "hidden_neuron = 128\n",
    "debug = True\n",
    "\n",
    "class LinearLayer(nn.Linear):\n",
    "    def __init__(self, *args, **kwargs):\n",
    "        # Call the parent constructor to initialize the Linear layer\n",
    "        super().__init__(*args, **kwargs)\n",
    "        \n",
    "    def forward(self, x):\n",
    "        self.output = super().forward(x)\n",
    "        return self.output\n",
    "\n",
    "class LeakyReluLayer(nn.LeakyReLU):\n",
    "    def __init__(self, *args, **kwargs):\n",
    "        # Call the parent constructor to initialize the Linear layer\n",
    "        super().__init__(*args, **kwargs)\n",
    "        \n",
    "    def forward(self, x):\n",
    "        self.output = super().forward(x)\n",
    "        return self.output\n",
    "\n",
    "class TitanicSurvivalPredictor(nn.Module):\n",
    "    def __init__(self, hidden_neuron):\n",
    "        super().__init__()\n",
    "\n",
    "        # define layers\n",
    "        self.layers = nn.ModuleList([\n",
    "            LinearLayer(2, hidden_neuron),\n",
    "            LeakyReluLayer(),\n",
    "            LinearLayer(hidden_neuron, hidden_neuron),\n",
    "            LeakyReluLayer(),\n",
    "            LinearLayer(hidden_neuron, 1),\n",
    "        ])\n",
    "        \n",
    "    def forward(self, x):\n",
    "        for layer in self.layers:\n",
    "            x = layer(x)\n",
    "        return x\n",
    "\n",
    "    def parameters(self):\n",
    "        return [p for layer in self.layers for p in layer.parameters()]\n",
    "\n",
    "model = TitanicSurvivalPredictor(hidden_neuron)"
   ]
  },
  {
   "cell_type": "code",
   "execution_count": 28,
   "id": "832a6266",
   "metadata": {
    "execution": {
     "iopub.execute_input": "2025-01-29T05:57:54.302717Z",
     "iopub.status.busy": "2025-01-29T05:57:54.302508Z",
     "iopub.status.idle": "2025-01-29T05:57:54.324736Z",
     "shell.execute_reply": "2025-01-29T05:57:54.324114Z"
    },
    "papermill": {
     "duration": 0.033748,
     "end_time": "2025-01-29T05:57:54.325929",
     "exception": false,
     "start_time": "2025-01-29T05:57:54.292181",
     "status": "completed"
    },
    "tags": []
   },
   "outputs": [],
   "source": [
    "bce_loss = nn.BCEWithLogitsLoss()\n",
    "\n",
    "first_batch_input = None\n",
    "first_batch_label = None\n",
    "for inputs, labels in train_loader:\n",
    "    first_batch_input = inputs\n",
    "    first_batch_label = labels\n",
    "    break"
   ]
  },
  {
   "cell_type": "code",
   "execution_count": 29,
   "id": "4e496930",
   "metadata": {
    "execution": {
     "iopub.execute_input": "2025-01-29T05:57:54.346896Z",
     "iopub.status.busy": "2025-01-29T05:57:54.346672Z",
     "iopub.status.idle": "2025-01-29T05:57:54.377083Z",
     "shell.execute_reply": "2025-01-29T05:57:54.375955Z"
    },
    "papermill": {
     "duration": 0.042848,
     "end_time": "2025-01-29T05:57:54.378708",
     "exception": false,
     "start_time": "2025-01-29T05:57:54.335860",
     "status": "completed"
    },
    "tags": []
   },
   "outputs": [
    {
     "name": "stdout",
     "output_type": "stream",
     "text": [
      "init loss: 0.6945266723632812\n"
     ]
    }
   ],
   "source": [
    "first_batch_pred_logits = model(first_batch_input)\n",
    "first_batch_pred_prob = torch.sigmoid(first_batch_pred_logits)  # Apply sigmoid for binary classification\n",
    "loss = bce_loss(first_batch_pred_prob, first_batch_label)\n",
    "print(f\"init loss: {loss.item()}\")"
   ]
  },
  {
   "cell_type": "code",
   "execution_count": 30,
   "id": "f144b3c7",
   "metadata": {
    "execution": {
     "iopub.execute_input": "2025-01-29T05:57:54.401182Z",
     "iopub.status.busy": "2025-01-29T05:57:54.400880Z",
     "iopub.status.idle": "2025-01-29T05:57:54.407485Z",
     "shell.execute_reply": "2025-01-29T05:57:54.406670Z"
    },
    "papermill": {
     "duration": 0.018847,
     "end_time": "2025-01-29T05:57:54.408790",
     "exception": false,
     "start_time": "2025-01-29T05:57:54.389943",
     "status": "completed"
    },
    "tags": []
   },
   "outputs": [],
   "source": [
    "def initParam(model):\n",
    "    # Initialize weights using Xavier Normal\n",
    "    for i, layer in enumerate(model.layers):\n",
    "        if (isinstance(layer, LinearLayer)):\n",
    "            if (i<len(model.layers)-1):\n",
    "                nn.init.xavier_normal_(model.layers[i].weight, torch.nn.init.calculate_gain(\"relu\")) \n",
    "            else:\n",
    "                nn.init.xavier_normal_(model.layers[i].weight, torch.nn.init.calculate_gain(\"sigmoid\")) * 0.001\n",
    "            if layer.bias is not None:\n",
    "                nn.init.zeros_(model.layers[i].bias)\n",
    "\n",
    "initParam(model)"
   ]
  },
  {
   "cell_type": "code",
   "execution_count": 31,
   "id": "c851278c",
   "metadata": {
    "execution": {
     "iopub.execute_input": "2025-01-29T05:57:54.430262Z",
     "iopub.status.busy": "2025-01-29T05:57:54.429970Z",
     "iopub.status.idle": "2025-01-29T05:57:54.436907Z",
     "shell.execute_reply": "2025-01-29T05:57:54.436046Z"
    },
    "papermill": {
     "duration": 0.019194,
     "end_time": "2025-01-29T05:57:54.438221",
     "exception": false,
     "start_time": "2025-01-29T05:57:54.419027",
     "status": "completed"
    },
    "tags": []
   },
   "outputs": [
    {
     "name": "stdout",
     "output_type": "stream",
     "text": [
      "init loss: 0.7016406059265137\n"
     ]
    }
   ],
   "source": [
    "first_batch_pred_logits = model(first_batch_input)\n",
    "first_batch_pred_prob = torch.sigmoid(first_batch_pred_logits)  # Apply sigmoid for binary classification\n",
    "loss = bce_loss(first_batch_pred_prob, first_batch_label)\n",
    "print(f\"init loss: {loss.item()}\")"
   ]
  },
  {
   "cell_type": "code",
   "execution_count": 32,
   "id": "736dbdb9",
   "metadata": {
    "execution": {
     "iopub.execute_input": "2025-01-29T05:57:54.459706Z",
     "iopub.status.busy": "2025-01-29T05:57:54.459485Z",
     "iopub.status.idle": "2025-01-29T06:04:07.114378Z",
     "shell.execute_reply": "2025-01-29T06:04:07.113465Z"
    },
    "papermill": {
     "duration": 372.683799,
     "end_time": "2025-01-29T06:04:07.132539",
     "exception": false,
     "start_time": "2025-01-29T05:57:54.448740",
     "status": "completed"
    },
    "tags": []
   },
   "outputs": [
    {
     "name": "stdout",
     "output_type": "stream",
     "text": [
      "Epoch 100/500, Train Loss: -0.3064, Val Loss: -0.4281\n",
      "Epoch 200/500, Train Loss: -0.3128, Val Loss: -0.4343\n",
      "Epoch 300/500, Train Loss: -0.3147, Val Loss: -0.4343\n",
      "Epoch 400/500, Train Loss: -0.3166, Val Loss: -0.4366\n",
      "Epoch 500/500, Train Loss: -0.3180, Val Loss: -0.4365\n"
     ]
    }
   ],
   "source": [
    "# less lr rate since can overfit easily\n",
    "learning_rate = 1e-3\n",
    "# less epoch as can easily overfit\n",
    "num_epoch = 500\n",
    "\n",
    "lossi_train = []\n",
    "lossi_val = []\n",
    "\n",
    "total_samples = len(train_dataset)\n",
    "n_iter = math.ceil(total_samples / batch_size)\n",
    "\n",
    "optimizer = torch.optim.AdamW(model.parameters(), lr=learning_rate)\n",
    "bce_loss = nn.BCEWithLogitsLoss()\n",
    "output_grads = []\n",
    "\n",
    "model = model.to(device)\n",
    "\n",
    "runFirstBatch = False\n",
    "for epoch in range(num_epoch):\n",
    "    train_loss = 0    \n",
    "    for i, (inputs, labels) in enumerate(train_loader):        \n",
    "        # forward pass\n",
    "        # print(f\"inputs: {inputs}\")\n",
    "        # print(f\"labels: {labels}\")\n",
    "        inputs = inputs.to(device)\n",
    "        labels = labels.to(device)\n",
    "\n",
    "        # print(f\"inputs device: {inputs.device}, labels device: {labels.device}, model device: {[param.device for param in model.parameters()]}\")\n",
    "\n",
    "        # reset grad\n",
    "        optimizer.zero_grad()\n",
    "        \n",
    "        pred = model(inputs)\n",
    "        # print(f\"pred: {pred}\")\n",
    "\n",
    "        # calc loss\n",
    "        loss = bce_loss(pred, labels)\n",
    "\n",
    "        if (debug):\n",
    "            for layer in model.layers:\n",
    "                layer.output.retain_grad() # save gradients of non leaf tensors also\n",
    "        \n",
    "        # backward pass\n",
    "        loss.backward()\n",
    "        optimizer.step()\n",
    "\n",
    "        loss = loss.log10()\n",
    "        train_loss += loss.item()\n",
    "\n",
    "        # if (debug):\n",
    "             # break\n",
    "\n",
    "    # copied it to array since running with no grad will set grad to None\n",
    "    if (debug):\n",
    "        curr_grads = {}\n",
    "        for i, layer in enumerate(model.layers):\n",
    "            curr_grads[f\"{layer.__class__.__name__}: {i}\"] = layer.output.grad.clone()\n",
    "\n",
    "        output_grads.append(curr_grads)\n",
    "    \n",
    "    train_loss /= len(train_loader)\n",
    "    lossi_train.append(train_loss)\n",
    "\n",
    "    # validation phase\n",
    "    model.eval()\n",
    "    with torch.no_grad():  # Disable gradient computation for validation\n",
    "        val_loss = 0\n",
    "        \n",
    "        for inputs, labels in val_loader:\n",
    "            inputs = inputs.to(device)\n",
    "            labels = labels.to(device)\n",
    "            \n",
    "            pred = model(inputs)\n",
    "            \n",
    "            loss = bce_loss(pred, labels)\n",
    "            loss = loss.log10()\n",
    "            val_loss += loss.item()\n",
    "        \n",
    "        val_loss /= len(val_loader)\n",
    "        lossi_val.append(val_loss)\n",
    "        \n",
    "\n",
    "    # reset to train mode\n",
    "    model.train()\n",
    "\n",
    "    if ((epoch+1)%100==0):\n",
    "        print(f\"Epoch {epoch+1}/{num_epoch}, Train Loss: {train_loss:.4f}, Val Loss: {val_loss:.4f}\")\n",
    "\n",
    "    # if (debug):\n",
    "        # break"
   ]
  },
  {
   "cell_type": "code",
   "execution_count": 33,
   "id": "d27787f6",
   "metadata": {
    "execution": {
     "iopub.execute_input": "2025-01-29T06:04:07.154721Z",
     "iopub.status.busy": "2025-01-29T06:04:07.154354Z",
     "iopub.status.idle": "2025-01-29T06:04:07.406034Z",
     "shell.execute_reply": "2025-01-29T06:04:07.405080Z"
    },
    "papermill": {
     "duration": 0.264462,
     "end_time": "2025-01-29T06:04:07.407533",
     "exception": false,
     "start_time": "2025-01-29T06:04:07.143071",
     "status": "completed"
    },
    "tags": []
   },
   "outputs": [
    {
     "data": {
      "text/plain": [
       "[<matplotlib.lines.Line2D at 0x7f53c3f9cf70>]"
      ]
     },
     "execution_count": 33,
     "metadata": {},
     "output_type": "execute_result"
    },
    {
     "data": {
      "image/png": "[encoded data removed]",
      "text/plain": [
       "<Figure size 640x480 with 1 Axes>"
      ]
     },
     "metadata": {},
     "output_type": "display_data"
    }
   ],
   "source": [
    "plt.plot(lossi_train, color=\"blue\")\n",
    "plt.plot(lossi_val, color=\"red\")"
   ]
  },
  {
   "cell_type": "code",
   "execution_count": 34,
   "id": "6e9eb8a4",
   "metadata": {
    "execution": {
     "iopub.execute_input": "2025-01-29T06:04:07.430307Z",
     "iopub.status.busy": "2025-01-29T06:04:07.430045Z",
     "iopub.status.idle": "2025-01-29T06:04:07.783008Z",
     "shell.execute_reply": "2025-01-29T06:04:07.782001Z"
    },
    "papermill": {
     "duration": 0.366132,
     "end_time": "2025-01-29T06:04:07.784777",
     "exception": false,
     "start_time": "2025-01-29T06:04:07.418645",
     "status": "completed"
    },
    "tags": []
   },
   "outputs": [
    {
     "name": "stdout",
     "output_type": "stream",
     "text": [
      "layer 0 (LinearLayer): mean -0.03, std 0.11, saturated: 0.00%\n",
      "layer 1 (LeakyReluLayer): mean +0.02, std 0.03, saturated: 0.00%\n",
      "layer 2 (LinearLayer): mean +0.01, std 0.19, saturated: 0.09%\n",
      "layer 3 (LeakyReluLayer): mean +0.08, std 0.10, saturated: 0.00%\n",
      "layer 4 (LinearLayer): mean -1.05, std 1.21, saturated: 88.89%\n"
     ]
    },
    {
     "data": {
      "image/png": "[encoded data removed]",
      "text/plain": [
       "<Figure size 2000x400 with 1 Axes>"
      ]
     },
     "metadata": {},
     "output_type": "display_data"
    }
   ],
   "source": [
    "# visualize activations\n",
    "plt.figure(figsize=(20, 4))\n",
    "legends = []\n",
    "\n",
    "if (len(model.layers) > 1):\n",
    "    for i, layer in enumerate(model.layers): # exclude output layer\n",
    "        t = layer.output.cpu()\n",
    "        print('layer %d (%10s): mean %+.2f, std %.2f, saturated: %.2f%%' % (i, layer.__class__.__name__, t.mean(), t.std(), (t.abs() > 0.97).float().mean()*100))\n",
    "        hy, hx = torch.histogram(t, density=True)\n",
    "        plt.plot(hx[:-1].detach(), hy.detach())\n",
    "        legends.append(f'layer {i} ({layer.__class__.__name__})')\n",
    "    \n",
    "    plt.legend(legends)\n",
    "    plt.title(\"activation distribution\")"
   ]
  },
  {
   "cell_type": "code",
   "execution_count": 35,
   "id": "38bf67b6",
   "metadata": {
    "execution": {
     "iopub.execute_input": "2025-01-29T06:04:07.816111Z",
     "iopub.status.busy": "2025-01-29T06:04:07.815762Z",
     "iopub.status.idle": "2025-01-29T06:04:08.166160Z",
     "shell.execute_reply": "2025-01-29T06:04:08.165098Z"
    },
    "papermill": {
     "duration": 0.364392,
     "end_time": "2025-01-29T06:04:08.167880",
     "exception": false,
     "start_time": "2025-01-29T06:04:07.803488",
     "status": "completed"
    },
    "tags": []
   },
   "outputs": [
    {
     "name": "stdout",
     "output_type": "stream",
     "text": [
      "layer (LinearLayer: 0): mean -0.003527, std 2.702803e-02\n",
      "layer (LeakyReluLayer: 1): mean +0.001921, std 7.987926e-02\n",
      "layer (LinearLayer: 2): mean -0.001639, std 4.139561e-03\n",
      "layer (LeakyReluLayer: 3): mean -0.000169, std 7.338527e-03\n",
      "layer (LinearLayer: 4): mean +0.009920, std 2.642361e-02\n"
     ]
    },
    {
     "data": {
      "image/png": "[encoded data removed]",
      "text/plain": [
       "<Figure size 2000x400 with 1 Axes>"
      ]
     },
     "metadata": {},
     "output_type": "display_data"
    }
   ],
   "source": [
    "# visualize histograms\n",
    "plt.figure(figsize=(20, 4)) # width and height of the plot\n",
    "legends = []\n",
    "\n",
    "if (len(model.layers) > 1):\n",
    "    for layer_name, layer_grad in output_grads[-1].items(): # note: exclude the output layer\n",
    "        t = layer_grad.cpu()\n",
    "        print('layer (%10s): mean %+f, std %e' % (layer_name, t.mean(), t.std()))\n",
    "        hy, hx = torch.histogram(t, density=True)\n",
    "        plt.plot(hx[:-1].detach(), hy.detach())\n",
    "        legends.append(f'{layer_name}')\n",
    "\n",
    "    plt.legend(legends);\n",
    "    plt.title('gradient distribution')"
   ]
  },
  {
   "cell_type": "code",
   "execution_count": 36,
   "id": "f31259ec",
   "metadata": {
    "execution": {
     "iopub.execute_input": "2025-01-29T06:04:08.194839Z",
     "iopub.status.busy": "2025-01-29T06:04:08.194523Z",
     "iopub.status.idle": "2025-01-29T06:04:08.316798Z",
     "shell.execute_reply": "2025-01-29T06:04:08.315813Z"
    },
    "papermill": {
     "duration": 0.136733,
     "end_time": "2025-01-29T06:04:08.318074",
     "exception": false,
     "start_time": "2025-01-29T06:04:08.181341",
     "status": "completed"
    },
    "tags": []
   },
   "outputs": [
    {
     "name": "stdout",
     "output_type": "stream",
     "text": [
      "Test Accuracy: 78.89%\n"
     ]
    }
   ],
   "source": [
    "model.eval()  # Set model to evaluation mode\n",
    "\n",
    "# Accuracy calculation\n",
    "correct = 0\n",
    "total = 0\n",
    "\n",
    "with torch.no_grad():  # Disable gradient calculation\n",
    "    for inputs, labels in test_loader:\n",
    "        inputs = inputs.to(device)\n",
    "        labels = labels.to(device)\n",
    "        \n",
    "        outputs = model(inputs)\n",
    "        predictions = torch.sigmoid(outputs)  # Apply sigmoid for binary classification\n",
    "        predicted_classes = (predictions > 0.5).float()  # Convert to binary (0 or 1)\n",
    "        correct += (predicted_classes == labels).sum().item()\n",
    "        total += labels.size(0)\n",
    "\n",
    "accuracy = correct / total\n",
    "print(f\"Test Accuracy: {accuracy * 100:.2f}%\")"
   ]
  },
  {
   "cell_type": "code",
   "execution_count": 37,
   "id": "4d033f94",
   "metadata": {
    "execution": {
     "iopub.execute_input": "2025-01-29T06:04:08.344632Z",
     "iopub.status.busy": "2025-01-29T06:04:08.344366Z",
     "iopub.status.idle": "2025-01-29T06:04:08.964547Z",
     "shell.execute_reply": "2025-01-29T06:04:08.963638Z"
    },
    "papermill": {
     "duration": 0.634311,
     "end_time": "2025-01-29T06:04:08.965935",
     "exception": false,
     "start_time": "2025-01-29T06:04:08.331624",
     "status": "completed"
    },
    "tags": []
   },
   "outputs": [
    {
     "name": "stdout",
     "output_type": "stream",
     "text": [
      "Train Accuracy: 78.65%\n"
     ]
    }
   ],
   "source": [
    "model.eval()  # Set model to evaluation mode\n",
    "\n",
    "# Accuracy calculation\n",
    "correct = 0\n",
    "total = 0\n",
    "\n",
    "with torch.no_grad():  # Disable gradient calculation\n",
    "    for inputs, labels in train_loader:\n",
    "        inputs = inputs.to(device)\n",
    "        labels = labels.to(device)\n",
    "        \n",
    "        outputs = model(inputs)\n",
    "        predictions = torch.sigmoid(outputs)  # Apply sigmoid for binary classification\n",
    "        predicted_classes = (predictions > 0.5).float()  # Convert to binary (0 or 1)\n",
    "        correct += (predicted_classes == labels).sum().item()\n",
    "        total += labels.size(0)\n",
    "\n",
    "accuracy = correct / total\n",
    "print(f\"Train Accuracy: {accuracy * 100:.2f}%\")"
   ]
  },
  {
   "cell_type": "markdown",
   "id": "52c3ada0",
   "metadata": {
    "papermill": {
     "duration": 0.012303,
     "end_time": "2025-01-29T06:04:08.990983",
     "exception": false,
     "start_time": "2025-01-29T06:04:08.978680",
     "status": "completed"
    },
    "tags": []
   },
   "source": [
    "## Test"
   ]
  },
  {
   "cell_type": "code",
   "execution_count": 38,
   "id": "f3d328ef",
   "metadata": {
    "execution": {
     "iopub.execute_input": "2025-01-29T06:04:09.016334Z",
     "iopub.status.busy": "2025-01-29T06:04:09.016038Z",
     "iopub.status.idle": "2025-01-29T06:04:09.055057Z",
     "shell.execute_reply": "2025-01-29T06:04:09.054346Z"
    },
    "papermill": {
     "duration": 0.053036,
     "end_time": "2025-01-29T06:04:09.056328",
     "exception": false,
     "start_time": "2025-01-29T06:04:09.003292",
     "status": "completed"
    },
    "tags": []
   },
   "outputs": [
    {
     "data": {
      "text/html": [
       "<div>\n",
       "<style scoped>\n",
       "    .dataframe tbody tr th:only-of-type {\n",
       "        vertical-align: middle;\n",
       "    }\n",
       "\n",
       "    .dataframe tbody tr th {\n",
       "        vertical-align: top;\n",
       "    }\n",
       "\n",
       "    .dataframe thead th {\n",
       "        text-align: right;\n",
       "    }\n",
       "</style>\n",
       "<table border=\"1\" class=\"dataframe\">\n",
       "  <thead>\n",
       "    <tr style=\"text-align: right;\">\n",
       "      <th></th>\n",
       "      <th>PassengerId</th>\n",
       "      <th>Pclass</th>\n",
       "      <th>Name</th>\n",
       "      <th>Sex</th>\n",
       "      <th>Age</th>\n",
       "      <th>SibSp</th>\n",
       "      <th>Parch</th>\n",
       "      <th>Ticket</th>\n",
       "      <th>Fare</th>\n",
       "      <th>Cabin</th>\n",
       "      <th>Embarked</th>\n",
       "    </tr>\n",
       "  </thead>\n",
       "  <tbody>\n",
       "    <tr>\n",
       "      <th>0</th>\n",
       "      <td>892</td>\n",
       "      <td>3</td>\n",
       "      <td>Kelly, Mr. James</td>\n",
       "      <td>male</td>\n",
       "      <td>34.5</td>\n",
       "      <td>0</td>\n",
       "      <td>0</td>\n",
       "      <td>330911</td>\n",
       "      <td>7.8292</td>\n",
       "      <td>NaN</td>\n",
       "      <td>Q</td>\n",
       "    </tr>\n",
       "    <tr>\n",
       "      <th>1</th>\n",
       "      <td>893</td>\n",
       "      <td>3</td>\n",
       "      <td>Wilkes, Mrs. James (Ellen Needs)</td>\n",
       "      <td>female</td>\n",
       "      <td>47.0</td>\n",
       "      <td>1</td>\n",
       "      <td>0</td>\n",
       "      <td>363272</td>\n",
       "      <td>7.0000</td>\n",
       "      <td>NaN</td>\n",
       "      <td>S</td>\n",
       "    </tr>\n",
       "    <tr>\n",
       "      <th>2</th>\n",
       "      <td>894</td>\n",
       "      <td>2</td>\n",
       "      <td>Myles, Mr. Thomas Francis</td>\n",
       "      <td>male</td>\n",
       "      <td>62.0</td>\n",
       "      <td>0</td>\n",
       "      <td>0</td>\n",
       "      <td>240276</td>\n",
       "      <td>9.6875</td>\n",
       "      <td>NaN</td>\n",
       "      <td>Q</td>\n",
       "    </tr>\n",
       "    <tr>\n",
       "      <th>3</th>\n",
       "      <td>895</td>\n",
       "      <td>3</td>\n",
       "      <td>Wirz, Mr. Albert</td>\n",
       "      <td>male</td>\n",
       "      <td>27.0</td>\n",
       "      <td>0</td>\n",
       "      <td>0</td>\n",
       "      <td>315154</td>\n",
       "      <td>8.6625</td>\n",
       "      <td>NaN</td>\n",
       "      <td>S</td>\n",
       "    </tr>\n",
       "    <tr>\n",
       "      <th>4</th>\n",
       "      <td>896</td>\n",
       "      <td>3</td>\n",
       "      <td>Hirvonen, Mrs. Alexander (Helga E Lindqvist)</td>\n",
       "      <td>female</td>\n",
       "      <td>22.0</td>\n",
       "      <td>1</td>\n",
       "      <td>1</td>\n",
       "      <td>3101298</td>\n",
       "      <td>12.2875</td>\n",
       "      <td>NaN</td>\n",
       "      <td>S</td>\n",
       "    </tr>\n",
       "    <tr>\n",
       "      <th>5</th>\n",
       "      <td>897</td>\n",
       "      <td>3</td>\n",
       "      <td>Svensson, Mr. Johan Cervin</td>\n",
       "      <td>male</td>\n",
       "      <td>14.0</td>\n",
       "      <td>0</td>\n",
       "      <td>0</td>\n",
       "      <td>7538</td>\n",
       "      <td>9.2250</td>\n",
       "      <td>NaN</td>\n",
       "      <td>S</td>\n",
       "    </tr>\n",
       "    <tr>\n",
       "      <th>6</th>\n",
       "      <td>898</td>\n",
       "      <td>3</td>\n",
       "      <td>Connolly, Miss. Kate</td>\n",
       "      <td>female</td>\n",
       "      <td>30.0</td>\n",
       "      <td>0</td>\n",
       "      <td>0</td>\n",
       "      <td>330972</td>\n",
       "      <td>7.6292</td>\n",
       "      <td>NaN</td>\n",
       "      <td>Q</td>\n",
       "    </tr>\n",
       "    <tr>\n",
       "      <th>7</th>\n",
       "      <td>899</td>\n",
       "      <td>2</td>\n",
       "      <td>Caldwell, Mr. Albert Francis</td>\n",
       "      <td>male</td>\n",
       "      <td>26.0</td>\n",
       "      <td>1</td>\n",
       "      <td>1</td>\n",
       "      <td>248738</td>\n",
       "      <td>29.0000</td>\n",
       "      <td>NaN</td>\n",
       "      <td>S</td>\n",
       "    </tr>\n",
       "    <tr>\n",
       "      <th>8</th>\n",
       "      <td>900</td>\n",
       "      <td>3</td>\n",
       "      <td>Abrahim, Mrs. Joseph (Sophie Halaut Easu)</td>\n",
       "      <td>female</td>\n",
       "      <td>18.0</td>\n",
       "      <td>0</td>\n",
       "      <td>0</td>\n",
       "      <td>2657</td>\n",
       "      <td>7.2292</td>\n",
       "      <td>NaN</td>\n",
       "      <td>C</td>\n",
       "    </tr>\n",
       "    <tr>\n",
       "      <th>9</th>\n",
       "      <td>901</td>\n",
       "      <td>3</td>\n",
       "      <td>Davies, Mr. John Samuel</td>\n",
       "      <td>male</td>\n",
       "      <td>21.0</td>\n",
       "      <td>2</td>\n",
       "      <td>0</td>\n",
       "      <td>A/4 48871</td>\n",
       "      <td>24.1500</td>\n",
       "      <td>NaN</td>\n",
       "      <td>S</td>\n",
       "    </tr>\n",
       "  </tbody>\n",
       "</table>\n",
       "</div>"
      ],
      "text/plain": [
       "   PassengerId  Pclass                                          Name     Sex  \\\n",
       "0          892       3                              Kelly, Mr. James    male   \n",
       "1          893       3              Wilkes, Mrs. James (Ellen Needs)  female   \n",
       "2          894       2                     Myles, Mr. Thomas Francis    male   \n",
       "3          895       3                              Wirz, Mr. Albert    male   \n",
       "4          896       3  Hirvonen, Mrs. Alexander (Helga E Lindqvist)  female   \n",
       "5          897       3                    Svensson, Mr. Johan Cervin    male   \n",
       "6          898       3                          Connolly, Miss. Kate  female   \n",
       "7          899       2                  Caldwell, Mr. Albert Francis    male   \n",
       "8          900       3     Abrahim, Mrs. Joseph (Sophie Halaut Easu)  female   \n",
       "9          901       3                       Davies, Mr. John Samuel    male   \n",
       "\n",
       "    Age  SibSp  Parch     Ticket     Fare Cabin Embarked  \n",
       "0  34.5      0      0     330911   7.8292   NaN        Q  \n",
       "1  47.0      1      0     363272   7.0000   NaN        S  \n",
       "2  62.0      0      0     240276   9.6875   NaN        Q  \n",
       "3  27.0      0      0     315154   8.6625   NaN        S  \n",
       "4  22.0      1      1    3101298  12.2875   NaN        S  \n",
       "5  14.0      0      0       7538   9.2250   NaN        S  \n",
       "6  30.0      0      0     330972   7.6292   NaN        Q  \n",
       "7  26.0      1      1     248738  29.0000   NaN        S  \n",
       "8  18.0      0      0       2657   7.2292   NaN        C  \n",
       "9  21.0      2      0  A/4 48871  24.1500   NaN        S  "
      ]
     },
     "execution_count": 38,
     "metadata": {},
     "output_type": "execute_result"
    }
   ],
   "source": [
    "test_df = pd.read_csv(\"/kaggle/input/titanic/test.csv\")\n",
    "test_df.head(10)"
   ]
  },
  {
   "cell_type": "code",
   "execution_count": 39,
   "id": "de27a2ed",
   "metadata": {
    "execution": {
     "iopub.execute_input": "2025-01-29T06:04:09.082117Z",
     "iopub.status.busy": "2025-01-29T06:04:09.081897Z",
     "iopub.status.idle": "2025-01-29T06:04:09.086181Z",
     "shell.execute_reply": "2025-01-29T06:04:09.085370Z"
    },
    "papermill": {
     "duration": 0.018496,
     "end_time": "2025-01-29T06:04:09.087346",
     "exception": false,
     "start_time": "2025-01-29T06:04:09.068850",
     "status": "completed"
    },
    "tags": []
   },
   "outputs": [
    {
     "data": {
      "text/plain": [
       "418"
      ]
     },
     "execution_count": 39,
     "metadata": {},
     "output_type": "execute_result"
    }
   ],
   "source": [
    "len(test_df)"
   ]
  },
  {
   "cell_type": "code",
   "execution_count": 40,
   "id": "ef02c1a5",
   "metadata": {
    "execution": {
     "iopub.execute_input": "2025-01-29T06:04:09.113110Z",
     "iopub.status.busy": "2025-01-29T06:04:09.112877Z",
     "iopub.status.idle": "2025-01-29T06:04:09.126012Z",
     "shell.execute_reply": "2025-01-29T06:04:09.125161Z"
    },
    "papermill": {
     "duration": 0.027544,
     "end_time": "2025-01-29T06:04:09.127214",
     "exception": false,
     "start_time": "2025-01-29T06:04:09.099670",
     "status": "completed"
    },
    "tags": []
   },
   "outputs": [
    {
     "data": {
      "text/plain": [
       "(tensor([0.0000, 0.2300]), tensor([]))"
      ]
     },
     "execution_count": 40,
     "metadata": {},
     "output_type": "execute_result"
    }
   ],
   "source": [
    "csv_file = \"/kaggle/input/titanic/test.csv\"\n",
    "target_col_list = []\n",
    "\n",
    "transforms = torchvision.transforms.Compose([SexToNum(), NormalizeAge(minAge, maxAge), ConvertNumpyArrToFloat32()])\n",
    "\n",
    "final_test_dataset = CSVDataset(csv_file, features_col_list, target_col_list, transform=transforms, dropNa=True)\n",
    "final_test_dataset[0]"
   ]
  },
  {
   "cell_type": "code",
   "execution_count": 41,
   "id": "212ceac2",
   "metadata": {
    "execution": {
     "iopub.execute_input": "2025-01-29T06:04:09.153267Z",
     "iopub.status.busy": "2025-01-29T06:04:09.153029Z",
     "iopub.status.idle": "2025-01-29T06:04:09.157197Z",
     "shell.execute_reply": "2025-01-29T06:04:09.156445Z"
    },
    "papermill": {
     "duration": 0.018818,
     "end_time": "2025-01-29T06:04:09.158597",
     "exception": false,
     "start_time": "2025-01-29T06:04:09.139779",
     "status": "completed"
    },
    "tags": []
   },
   "outputs": [
    {
     "data": {
      "text/plain": [
       "418"
      ]
     },
     "execution_count": 41,
     "metadata": {},
     "output_type": "execute_result"
    }
   ],
   "source": [
    "len(final_test_dataset)"
   ]
  },
  {
   "cell_type": "code",
   "execution_count": 42,
   "id": "bae0124f",
   "metadata": {
    "execution": {
     "iopub.execute_input": "2025-01-29T06:04:09.185123Z",
     "iopub.status.busy": "2025-01-29T06:04:09.184916Z",
     "iopub.status.idle": "2025-01-29T06:04:09.682836Z",
     "shell.execute_reply": "2025-01-29T06:04:09.682207Z"
    },
    "papermill": {
     "duration": 0.512653,
     "end_time": "2025-01-29T06:04:09.684223",
     "exception": false,
     "start_time": "2025-01-29T06:04:09.171570",
     "status": "completed"
    },
    "tags": []
   },
   "outputs": [],
   "source": [
    "final_test_loader = DataLoader(final_test_dataset, shuffle=False)\n",
    "\n",
    "pred = []\n",
    "with torch.no_grad():  # Disable gradient calculation\n",
    "    for inputs, labels in final_test_loader:\n",
    "        inputs = inputs.to(device)\n",
    "    \n",
    "        outputs = model(inputs)\n",
    "        predictions = torch.sigmoid(outputs)  # Apply sigmoid for binary classification\n",
    "        predicted_classes = (predictions > 0.5).float()  # Convert to binary (0 or 1)\n",
    "\n",
    "        pred.append(int(predicted_classes.item()))"
   ]
  },
  {
   "cell_type": "code",
   "execution_count": 43,
   "id": "5c5203cf",
   "metadata": {
    "execution": {
     "iopub.execute_input": "2025-01-29T06:04:09.711163Z",
     "iopub.status.busy": "2025-01-29T06:04:09.710901Z",
     "iopub.status.idle": "2025-01-29T06:04:09.715176Z",
     "shell.execute_reply": "2025-01-29T06:04:09.714431Z"
    },
    "papermill": {
     "duration": 0.018928,
     "end_time": "2025-01-29T06:04:09.716385",
     "exception": false,
     "start_time": "2025-01-29T06:04:09.697457",
     "status": "completed"
    },
    "tags": []
   },
   "outputs": [
    {
     "data": {
      "text/plain": [
       "418"
      ]
     },
     "execution_count": 43,
     "metadata": {},
     "output_type": "execute_result"
    }
   ],
   "source": [
    "len(final_test_loader)"
   ]
  },
  {
   "cell_type": "code",
   "execution_count": 44,
   "id": "f8ffdbed",
   "metadata": {
    "execution": {
     "iopub.execute_input": "2025-01-29T06:04:09.742619Z",
     "iopub.status.busy": "2025-01-29T06:04:09.742423Z",
     "iopub.status.idle": "2025-01-29T06:04:09.749277Z",
     "shell.execute_reply": "2025-01-29T06:04:09.748533Z"
    },
    "papermill": {
     "duration": 0.021352,
     "end_time": "2025-01-29T06:04:09.750411",
     "exception": false,
     "start_time": "2025-01-29T06:04:09.729059",
     "status": "completed"
    },
    "tags": []
   },
   "outputs": [],
   "source": [
    "pred_df = pd.DataFrame(pred, columns=[\"Survived\"])\n",
    "pred_df[\"PassengerId\"] = test_df[\"PassengerId\"]\n",
    "pred_df.to_csv(\"pred.csv\", index=False)"
   ]
  },
  {
   "cell_type": "code",
   "execution_count": 45,
   "id": "8692fb67",
   "metadata": {
    "execution": {
     "iopub.execute_input": "2025-01-29T06:04:09.776727Z",
     "iopub.status.busy": "2025-01-29T06:04:09.776534Z",
     "iopub.status.idle": "2025-01-29T06:04:09.782370Z",
     "shell.execute_reply": "2025-01-29T06:04:09.781666Z"
    },
    "papermill": {
     "duration": 0.020254,
     "end_time": "2025-01-29T06:04:09.783545",
     "exception": false,
     "start_time": "2025-01-29T06:04:09.763291",
     "status": "completed"
    },
    "tags": []
   },
   "outputs": [
    {
     "data": {
      "text/html": [
       "<div>\n",
       "<style scoped>\n",
       "    .dataframe tbody tr th:only-of-type {\n",
       "        vertical-align: middle;\n",
       "    }\n",
       "\n",
       "    .dataframe tbody tr th {\n",
       "        vertical-align: top;\n",
       "    }\n",
       "\n",
       "    .dataframe thead th {\n",
       "        text-align: right;\n",
       "    }\n",
       "</style>\n",
       "<table border=\"1\" class=\"dataframe\">\n",
       "  <thead>\n",
       "    <tr style=\"text-align: right;\">\n",
       "      <th></th>\n",
       "      <th>Survived</th>\n",
       "      <th>PassengerId</th>\n",
       "    </tr>\n",
       "  </thead>\n",
       "  <tbody>\n",
       "    <tr>\n",
       "      <th>0</th>\n",
       "      <td>0</td>\n",
       "      <td>892</td>\n",
       "    </tr>\n",
       "    <tr>\n",
       "      <th>1</th>\n",
       "      <td>1</td>\n",
       "      <td>893</td>\n",
       "    </tr>\n",
       "    <tr>\n",
       "      <th>2</th>\n",
       "      <td>0</td>\n",
       "      <td>894</td>\n",
       "    </tr>\n",
       "    <tr>\n",
       "      <th>3</th>\n",
       "      <td>0</td>\n",
       "      <td>895</td>\n",
       "    </tr>\n",
       "    <tr>\n",
       "      <th>4</th>\n",
       "      <td>1</td>\n",
       "      <td>896</td>\n",
       "    </tr>\n",
       "  </tbody>\n",
       "</table>\n",
       "</div>"
      ],
      "text/plain": [
       "   Survived  PassengerId\n",
       "0         0          892\n",
       "1         1          893\n",
       "2         0          894\n",
       "3         0          895\n",
       "4         1          896"
      ]
     },
     "execution_count": 45,
     "metadata": {},
     "output_type": "execute_result"
    }
   ],
   "source": [
    "pred_df.head()"
   ]
  }
 ],
 "metadata": {
  "kaggle": {
   "accelerator": "nvidiaTeslaT4",
   "dataSources": [
    {
     "databundleVersionId": 26502,
     "sourceId": 3136,
     "sourceType": "competition"
    }
   ],
   "dockerImageVersionId": 30822,
   "isGpuEnabled": true,
   "isInternetEnabled": true,
   "language": "python",
   "sourceType": "notebook"
  },
  "kernelspec": {
   "display_name": "Python 3",
   "language": "python",
   "name": "python3"
  },
  "language_info": {
   "codemirror_mode": {
    "name": "ipython",
    "version": 3
   },
   "file_extension": ".py",
   "mimetype": "text/x-python",
   "name": "python",
   "nbconvert_exporter": "python",
   "pygments_lexer": "ipython3",
   "version": "3.10.12"
  },
  "papermill": {
   "default_parameters": {},
   "duration": 392.915706,
   "end_time": "2025-01-29T06:04:12.211999",
   "environment_variables": {},
   "exception": null,
   "input_path": "__notebook__.ipynb",
   "output_path": "__notebook__.ipynb",
   "parameters": {},
   "start_time": "2025-01-29T05:57:39.296293",
   "version": "2.6.0"
  }
 },
 "nbformat": 4,
 "nbformat_minor": 5
}
