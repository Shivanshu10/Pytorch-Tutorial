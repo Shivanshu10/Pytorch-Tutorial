{
 "cells": [
  {
   "cell_type": "code",
   "execution_count": 1,
   "id": "f420dd48",
   "metadata": {
    "_cell_guid": "b1076dfc-b9ad-4769-8c92-a6c4dae69d19",
    "_uuid": "8f2839f25d086af736a60e9eeb907d3b93b6e0e5",
    "execution": {
     "iopub.execute_input": "2025-01-29T06:06:09.978999Z",
     "iopub.status.busy": "2025-01-29T06:06:09.978740Z",
     "iopub.status.idle": "2025-01-29T06:06:11.772306Z",
     "shell.execute_reply": "2025-01-29T06:06:11.771192Z"
    },
    "papermill": {
     "duration": 1.804965,
     "end_time": "2025-01-29T06:06:11.773772",
     "exception": false,
     "start_time": "2025-01-29T06:06:09.968807",
     "status": "completed"
    },
    "tags": []
   },
   "outputs": [
    {
     "name": "stdout",
     "output_type": "stream",
     "text": [
      "/kaggle/input/titanic/train.csv\n",
      "/kaggle/input/titanic/test.csv\n",
      "/kaggle/input/titanic/gender_submission.csv\n"
     ]
    }
   ],
   "source": [
    "import numpy as np\n",
    "import pandas as pd\n",
    "import seaborn as sns\n",
    "import matplotlib.pyplot as plt\n",
    "import os\n",
    "for dirname, _, filenames in os.walk('/kaggle/input'):\n",
    "    for filename in filenames:\n",
    "        print(os.path.join(dirname, filename))"
   ]
  },
  {
   "cell_type": "markdown",
   "id": "2b0f1860",
   "metadata": {
    "papermill": {
     "duration": 0.007571,
     "end_time": "2025-01-29T06:06:11.789815",
     "exception": false,
     "start_time": "2025-01-29T06:06:11.782244",
     "status": "completed"
    },
    "tags": []
   },
   "source": [
    "## Load Data"
   ]
  },
  {
   "cell_type": "code",
   "execution_count": 2,
   "id": "c82559a9",
   "metadata": {
    "execution": {
     "iopub.execute_input": "2025-01-29T06:06:11.805718Z",
     "iopub.status.busy": "2025-01-29T06:06:11.805401Z",
     "iopub.status.idle": "2025-01-29T06:06:11.846984Z",
     "shell.execute_reply": "2025-01-29T06:06:11.846081Z"
    },
    "papermill": {
     "duration": 0.050876,
     "end_time": "2025-01-29T06:06:11.848228",
     "exception": false,
     "start_time": "2025-01-29T06:06:11.797352",
     "status": "completed"
    },
    "tags": []
   },
   "outputs": [
    {
     "data": {
      "text/html": [
       "<div>\n",
       "<style scoped>\n",
       "    .dataframe tbody tr th:only-of-type {\n",
       "        vertical-align: middle;\n",
       "    }\n",
       "\n",
       "    .dataframe tbody tr th {\n",
       "        vertical-align: top;\n",
       "    }\n",
       "\n",
       "    .dataframe thead th {\n",
       "        text-align: right;\n",
       "    }\n",
       "</style>\n",
       "<table border=\"1\" class=\"dataframe\">\n",
       "  <thead>\n",
       "    <tr style=\"text-align: right;\">\n",
       "      <th></th>\n",
       "      <th>Survived</th>\n",
       "      <th>Pclass</th>\n",
       "      <th>Name</th>\n",
       "      <th>Sex</th>\n",
       "      <th>Age</th>\n",
       "      <th>SibSp</th>\n",
       "      <th>Parch</th>\n",
       "      <th>Ticket</th>\n",
       "      <th>Fare</th>\n",
       "      <th>Cabin</th>\n",
       "      <th>Embarked</th>\n",
       "    </tr>\n",
       "    <tr>\n",
       "      <th>PassengerId</th>\n",
       "      <th></th>\n",
       "      <th></th>\n",
       "      <th></th>\n",
       "      <th></th>\n",
       "      <th></th>\n",
       "      <th></th>\n",
       "      <th></th>\n",
       "      <th></th>\n",
       "      <th></th>\n",
       "      <th></th>\n",
       "      <th></th>\n",
       "    </tr>\n",
       "  </thead>\n",
       "  <tbody>\n",
       "    <tr>\n",
       "      <th>1</th>\n",
       "      <td>0</td>\n",
       "      <td>3</td>\n",
       "      <td>Braund, Mr. Owen Harris</td>\n",
       "      <td>male</td>\n",
       "      <td>22.0</td>\n",
       "      <td>1</td>\n",
       "      <td>0</td>\n",
       "      <td>A/5 21171</td>\n",
       "      <td>7.2500</td>\n",
       "      <td>NaN</td>\n",
       "      <td>S</td>\n",
       "    </tr>\n",
       "    <tr>\n",
       "      <th>2</th>\n",
       "      <td>1</td>\n",
       "      <td>1</td>\n",
       "      <td>Cumings, Mrs. John Bradley (Florence Briggs Th...</td>\n",
       "      <td>female</td>\n",
       "      <td>38.0</td>\n",
       "      <td>1</td>\n",
       "      <td>0</td>\n",
       "      <td>PC 17599</td>\n",
       "      <td>71.2833</td>\n",
       "      <td>C85</td>\n",
       "      <td>C</td>\n",
       "    </tr>\n",
       "    <tr>\n",
       "      <th>3</th>\n",
       "      <td>1</td>\n",
       "      <td>3</td>\n",
       "      <td>Heikkinen, Miss. Laina</td>\n",
       "      <td>female</td>\n",
       "      <td>26.0</td>\n",
       "      <td>0</td>\n",
       "      <td>0</td>\n",
       "      <td>STON/O2. 3101282</td>\n",
       "      <td>7.9250</td>\n",
       "      <td>NaN</td>\n",
       "      <td>S</td>\n",
       "    </tr>\n",
       "    <tr>\n",
       "      <th>4</th>\n",
       "      <td>1</td>\n",
       "      <td>1</td>\n",
       "      <td>Futrelle, Mrs. Jacques Heath (Lily May Peel)</td>\n",
       "      <td>female</td>\n",
       "      <td>35.0</td>\n",
       "      <td>1</td>\n",
       "      <td>0</td>\n",
       "      <td>113803</td>\n",
       "      <td>53.1000</td>\n",
       "      <td>C123</td>\n",
       "      <td>S</td>\n",
       "    </tr>\n",
       "    <tr>\n",
       "      <th>5</th>\n",
       "      <td>0</td>\n",
       "      <td>3</td>\n",
       "      <td>Allen, Mr. William Henry</td>\n",
       "      <td>male</td>\n",
       "      <td>35.0</td>\n",
       "      <td>0</td>\n",
       "      <td>0</td>\n",
       "      <td>373450</td>\n",
       "      <td>8.0500</td>\n",
       "      <td>NaN</td>\n",
       "      <td>S</td>\n",
       "    </tr>\n",
       "    <tr>\n",
       "      <th>6</th>\n",
       "      <td>0</td>\n",
       "      <td>3</td>\n",
       "      <td>Moran, Mr. James</td>\n",
       "      <td>male</td>\n",
       "      <td>NaN</td>\n",
       "      <td>0</td>\n",
       "      <td>0</td>\n",
       "      <td>330877</td>\n",
       "      <td>8.4583</td>\n",
       "      <td>NaN</td>\n",
       "      <td>Q</td>\n",
       "    </tr>\n",
       "    <tr>\n",
       "      <th>7</th>\n",
       "      <td>0</td>\n",
       "      <td>1</td>\n",
       "      <td>McCarthy, Mr. Timothy J</td>\n",
       "      <td>male</td>\n",
       "      <td>54.0</td>\n",
       "      <td>0</td>\n",
       "      <td>0</td>\n",
       "      <td>17463</td>\n",
       "      <td>51.8625</td>\n",
       "      <td>E46</td>\n",
       "      <td>S</td>\n",
       "    </tr>\n",
       "    <tr>\n",
       "      <th>8</th>\n",
       "      <td>0</td>\n",
       "      <td>3</td>\n",
       "      <td>Palsson, Master. Gosta Leonard</td>\n",
       "      <td>male</td>\n",
       "      <td>2.0</td>\n",
       "      <td>3</td>\n",
       "      <td>1</td>\n",
       "      <td>349909</td>\n",
       "      <td>21.0750</td>\n",
       "      <td>NaN</td>\n",
       "      <td>S</td>\n",
       "    </tr>\n",
       "    <tr>\n",
       "      <th>9</th>\n",
       "      <td>1</td>\n",
       "      <td>3</td>\n",
       "      <td>Johnson, Mrs. Oscar W (Elisabeth Vilhelmina Berg)</td>\n",
       "      <td>female</td>\n",
       "      <td>27.0</td>\n",
       "      <td>0</td>\n",
       "      <td>2</td>\n",
       "      <td>347742</td>\n",
       "      <td>11.1333</td>\n",
       "      <td>NaN</td>\n",
       "      <td>S</td>\n",
       "    </tr>\n",
       "    <tr>\n",
       "      <th>10</th>\n",
       "      <td>1</td>\n",
       "      <td>2</td>\n",
       "      <td>Nasser, Mrs. Nicholas (Adele Achem)</td>\n",
       "      <td>female</td>\n",
       "      <td>14.0</td>\n",
       "      <td>1</td>\n",
       "      <td>0</td>\n",
       "      <td>237736</td>\n",
       "      <td>30.0708</td>\n",
       "      <td>NaN</td>\n",
       "      <td>C</td>\n",
       "    </tr>\n",
       "  </tbody>\n",
       "</table>\n",
       "</div>"
      ],
      "text/plain": [
       "             Survived  Pclass  \\\n",
       "PassengerId                     \n",
       "1                   0       3   \n",
       "2                   1       1   \n",
       "3                   1       3   \n",
       "4                   1       1   \n",
       "5                   0       3   \n",
       "6                   0       3   \n",
       "7                   0       1   \n",
       "8                   0       3   \n",
       "9                   1       3   \n",
       "10                  1       2   \n",
       "\n",
       "                                                          Name     Sex   Age  \\\n",
       "PassengerId                                                                    \n",
       "1                                      Braund, Mr. Owen Harris    male  22.0   \n",
       "2            Cumings, Mrs. John Bradley (Florence Briggs Th...  female  38.0   \n",
       "3                                       Heikkinen, Miss. Laina  female  26.0   \n",
       "4                 Futrelle, Mrs. Jacques Heath (Lily May Peel)  female  35.0   \n",
       "5                                     Allen, Mr. William Henry    male  35.0   \n",
       "6                                             Moran, Mr. James    male   NaN   \n",
       "7                                      McCarthy, Mr. Timothy J    male  54.0   \n",
       "8                               Palsson, Master. Gosta Leonard    male   2.0   \n",
       "9            Johnson, Mrs. Oscar W (Elisabeth Vilhelmina Berg)  female  27.0   \n",
       "10                         Nasser, Mrs. Nicholas (Adele Achem)  female  14.0   \n",
       "\n",
       "             SibSp  Parch            Ticket     Fare Cabin Embarked  \n",
       "PassengerId                                                          \n",
       "1                1      0         A/5 21171   7.2500   NaN        S  \n",
       "2                1      0          PC 17599  71.2833   C85        C  \n",
       "3                0      0  STON/O2. 3101282   7.9250   NaN        S  \n",
       "4                1      0            113803  53.1000  C123        S  \n",
       "5                0      0            373450   8.0500   NaN        S  \n",
       "6                0      0            330877   8.4583   NaN        Q  \n",
       "7                0      0             17463  51.8625   E46        S  \n",
       "8                3      1            349909  21.0750   NaN        S  \n",
       "9                0      2            347742  11.1333   NaN        S  \n",
       "10               1      0            237736  30.0708   NaN        C  "
      ]
     },
     "execution_count": 2,
     "metadata": {},
     "output_type": "execute_result"
    }
   ],
   "source": [
    "train_df = pd.read_csv(\"/kaggle/input/titanic/train.csv\", index_col=0)\n",
    "train_df.head(10)"
   ]
  },
  {
   "cell_type": "code",
   "execution_count": 3,
   "id": "2acdfd47",
   "metadata": {
    "execution": {
     "iopub.execute_input": "2025-01-29T06:06:11.864886Z",
     "iopub.status.busy": "2025-01-29T06:06:11.864626Z",
     "iopub.status.idle": "2025-01-29T06:06:11.868927Z",
     "shell.execute_reply": "2025-01-29T06:06:11.868157Z"
    },
    "papermill": {
     "duration": 0.013772,
     "end_time": "2025-01-29T06:06:11.870020",
     "exception": false,
     "start_time": "2025-01-29T06:06:11.856248",
     "status": "completed"
    },
    "tags": []
   },
   "outputs": [
    {
     "data": {
      "text/plain": [
       "891"
      ]
     },
     "execution_count": 3,
     "metadata": {},
     "output_type": "execute_result"
    }
   ],
   "source": [
    "len(train_df)"
   ]
  },
  {
   "cell_type": "markdown",
   "id": "88b8ca7f",
   "metadata": {
    "papermill": {
     "duration": 0.008334,
     "end_time": "2025-01-29T06:06:11.886469",
     "exception": false,
     "start_time": "2025-01-29T06:06:11.878135",
     "status": "completed"
    },
    "tags": []
   },
   "source": [
    "## Explore Data"
   ]
  },
  {
   "attachments": {
    "32b3126c-ecdb-46fc-86b2-f22ddf6e6809.png": {
     "image/png": "[encoded data removed]"
    }
   },
   "cell_type": "markdown",
   "id": "3864b210",
   "metadata": {
    "papermill": {
     "duration": 0.007767,
     "end_time": "2025-01-29T06:06:11.902536",
     "exception": false,
     "start_time": "2025-01-29T06:06:11.894769",
     "status": "completed"
    },
    "tags": []
   },
   "source": [
    "![image.png](attachment:32b3126c-ecdb-46fc-86b2-f22ddf6e6809.png)"
   ]
  },
  {
   "cell_type": "code",
   "execution_count": 4,
   "id": "d06562cf",
   "metadata": {
    "execution": {
     "iopub.execute_input": "2025-01-29T06:06:11.919139Z",
     "iopub.status.busy": "2025-01-29T06:06:11.918923Z",
     "iopub.status.idle": "2025-01-29T06:06:11.922949Z",
     "shell.execute_reply": "2025-01-29T06:06:11.922164Z"
    },
    "papermill": {
     "duration": 0.013759,
     "end_time": "2025-01-29T06:06:11.924249",
     "exception": false,
     "start_time": "2025-01-29T06:06:11.910490",
     "status": "completed"
    },
    "tags": []
   },
   "outputs": [
    {
     "data": {
      "text/plain": [
       "891"
      ]
     },
     "execution_count": 4,
     "metadata": {},
     "output_type": "execute_result"
    }
   ],
   "source": [
    "len(train_df)"
   ]
  },
  {
   "cell_type": "code",
   "execution_count": 5,
   "id": "61623f48",
   "metadata": {
    "execution": {
     "iopub.execute_input": "2025-01-29T06:06:11.941124Z",
     "iopub.status.busy": "2025-01-29T06:06:11.940893Z",
     "iopub.status.idle": "2025-01-29T06:06:11.961309Z",
     "shell.execute_reply": "2025-01-29T06:06:11.960685Z"
    },
    "papermill": {
     "duration": 0.030001,
     "end_time": "2025-01-29T06:06:11.962402",
     "exception": false,
     "start_time": "2025-01-29T06:06:11.932401",
     "status": "completed"
    },
    "tags": []
   },
   "outputs": [
    {
     "data": {
      "text/html": [
       "<div>\n",
       "<style scoped>\n",
       "    .dataframe tbody tr th:only-of-type {\n",
       "        vertical-align: middle;\n",
       "    }\n",
       "\n",
       "    .dataframe tbody tr th {\n",
       "        vertical-align: top;\n",
       "    }\n",
       "\n",
       "    .dataframe thead th {\n",
       "        text-align: right;\n",
       "    }\n",
       "</style>\n",
       "<table border=\"1\" class=\"dataframe\">\n",
       "  <thead>\n",
       "    <tr style=\"text-align: right;\">\n",
       "      <th></th>\n",
       "      <th>Survived</th>\n",
       "      <th>Pclass</th>\n",
       "      <th>Age</th>\n",
       "      <th>SibSp</th>\n",
       "      <th>Parch</th>\n",
       "      <th>Fare</th>\n",
       "    </tr>\n",
       "  </thead>\n",
       "  <tbody>\n",
       "    <tr>\n",
       "      <th>count</th>\n",
       "      <td>891.000000</td>\n",
       "      <td>891.000000</td>\n",
       "      <td>714.000000</td>\n",
       "      <td>891.000000</td>\n",
       "      <td>891.000000</td>\n",
       "      <td>891.000000</td>\n",
       "    </tr>\n",
       "    <tr>\n",
       "      <th>mean</th>\n",
       "      <td>0.383838</td>\n",
       "      <td>2.308642</td>\n",
       "      <td>29.699118</td>\n",
       "      <td>0.523008</td>\n",
       "      <td>0.381594</td>\n",
       "      <td>32.204208</td>\n",
       "    </tr>\n",
       "    <tr>\n",
       "      <th>std</th>\n",
       "      <td>0.486592</td>\n",
       "      <td>0.836071</td>\n",
       "      <td>14.526497</td>\n",
       "      <td>1.102743</td>\n",
       "      <td>0.806057</td>\n",
       "      <td>49.693429</td>\n",
       "    </tr>\n",
       "    <tr>\n",
       "      <th>min</th>\n",
       "      <td>0.000000</td>\n",
       "      <td>1.000000</td>\n",
       "      <td>0.420000</td>\n",
       "      <td>0.000000</td>\n",
       "      <td>0.000000</td>\n",
       "      <td>0.000000</td>\n",
       "    </tr>\n",
       "    <tr>\n",
       "      <th>25%</th>\n",
       "      <td>0.000000</td>\n",
       "      <td>2.000000</td>\n",
       "      <td>20.125000</td>\n",
       "      <td>0.000000</td>\n",
       "      <td>0.000000</td>\n",
       "      <td>7.910400</td>\n",
       "    </tr>\n",
       "    <tr>\n",
       "      <th>50%</th>\n",
       "      <td>0.000000</td>\n",
       "      <td>3.000000</td>\n",
       "      <td>28.000000</td>\n",
       "      <td>0.000000</td>\n",
       "      <td>0.000000</td>\n",
       "      <td>14.454200</td>\n",
       "    </tr>\n",
       "    <tr>\n",
       "      <th>75%</th>\n",
       "      <td>1.000000</td>\n",
       "      <td>3.000000</td>\n",
       "      <td>38.000000</td>\n",
       "      <td>1.000000</td>\n",
       "      <td>0.000000</td>\n",
       "      <td>31.000000</td>\n",
       "    </tr>\n",
       "    <tr>\n",
       "      <th>max</th>\n",
       "      <td>1.000000</td>\n",
       "      <td>3.000000</td>\n",
       "      <td>80.000000</td>\n",
       "      <td>8.000000</td>\n",
       "      <td>6.000000</td>\n",
       "      <td>512.329200</td>\n",
       "    </tr>\n",
       "  </tbody>\n",
       "</table>\n",
       "</div>"
      ],
      "text/plain": [
       "         Survived      Pclass         Age       SibSp       Parch        Fare\n",
       "count  891.000000  891.000000  714.000000  891.000000  891.000000  891.000000\n",
       "mean     0.383838    2.308642   29.699118    0.523008    0.381594   32.204208\n",
       "std      0.486592    0.836071   14.526497    1.102743    0.806057   49.693429\n",
       "min      0.000000    1.000000    0.420000    0.000000    0.000000    0.000000\n",
       "25%      0.000000    2.000000   20.125000    0.000000    0.000000    7.910400\n",
       "50%      0.000000    3.000000   28.000000    0.000000    0.000000   14.454200\n",
       "75%      1.000000    3.000000   38.000000    1.000000    0.000000   31.000000\n",
       "max      1.000000    3.000000   80.000000    8.000000    6.000000  512.329200"
      ]
     },
     "execution_count": 5,
     "metadata": {},
     "output_type": "execute_result"
    }
   ],
   "source": [
    "train_df.describe()"
   ]
  },
  {
   "cell_type": "code",
   "execution_count": 6,
   "id": "3289f035",
   "metadata": {
    "execution": {
     "iopub.execute_input": "2025-01-29T06:06:11.979270Z",
     "iopub.status.busy": "2025-01-29T06:06:11.979059Z",
     "iopub.status.idle": "2025-01-29T06:06:11.983092Z",
     "shell.execute_reply": "2025-01-29T06:06:11.982403Z"
    },
    "papermill": {
     "duration": 0.013643,
     "end_time": "2025-01-29T06:06:11.984245",
     "exception": false,
     "start_time": "2025-01-29T06:06:11.970602",
     "status": "completed"
    },
    "tags": []
   },
   "outputs": [
    {
     "name": "stdout",
     "output_type": "stream",
     "text": [
      "count of items to be dropped 177\n",
      "count of items left 714\n"
     ]
    }
   ],
   "source": [
    "# age has some null value\n",
    "# should we try dropping them for now?\n",
    "\n",
    "# count of rows that will be dropped\n",
    "print(f\"count of items to be dropped {len(train_df) - 714}\")\n",
    "\n",
    "# rows lefr\n",
    "print(f\"count of items left {len(train_df) - len(train_df) + 714}\")"
   ]
  },
  {
   "cell_type": "code",
   "execution_count": 7,
   "id": "b6b21bdc",
   "metadata": {
    "execution": {
     "iopub.execute_input": "2025-01-29T06:06:12.001386Z",
     "iopub.status.busy": "2025-01-29T06:06:12.001189Z",
     "iopub.status.idle": "2025-01-29T06:06:12.006531Z",
     "shell.execute_reply": "2025-01-29T06:06:12.005769Z"
    },
    "papermill": {
     "duration": 0.01518,
     "end_time": "2025-01-29T06:06:12.007761",
     "exception": false,
     "start_time": "2025-01-29T06:06:11.992581",
     "status": "completed"
    },
    "tags": []
   },
   "outputs": [
    {
     "data": {
      "text/plain": [
       "Survived      0\n",
       "Pclass        0\n",
       "Name          0\n",
       "Sex           0\n",
       "Age         177\n",
       "SibSp         0\n",
       "Parch         0\n",
       "Ticket        0\n",
       "Fare          0\n",
       "Cabin       687\n",
       "Embarked      2\n",
       "dtype: int64"
      ]
     },
     "execution_count": 7,
     "metadata": {},
     "output_type": "execute_result"
    }
   ],
   "source": [
    "train_df.isna().sum()"
   ]
  },
  {
   "cell_type": "code",
   "execution_count": 8,
   "id": "b50d92a2",
   "metadata": {
    "execution": {
     "iopub.execute_input": "2025-01-29T06:06:12.025073Z",
     "iopub.status.busy": "2025-01-29T06:06:12.024876Z",
     "iopub.status.idle": "2025-01-29T06:06:12.027384Z",
     "shell.execute_reply": "2025-01-29T06:06:12.026830Z"
    },
    "papermill": {
     "duration": 0.012474,
     "end_time": "2025-01-29T06:06:12.028525",
     "exception": false,
     "start_time": "2025-01-29T06:06:12.016051",
     "status": "completed"
    },
    "tags": []
   },
   "outputs": [],
   "source": [
    "# cabin has 687 nulls, i dont think we can learn anything using it though"
   ]
  },
  {
   "cell_type": "code",
   "execution_count": 9,
   "id": "7ff8f67f",
   "metadata": {
    "execution": {
     "iopub.execute_input": "2025-01-29T06:06:12.046065Z",
     "iopub.status.busy": "2025-01-29T06:06:12.045838Z",
     "iopub.status.idle": "2025-01-29T06:06:12.052118Z",
     "shell.execute_reply": "2025-01-29T06:06:12.051274Z"
    },
    "papermill": {
     "duration": 0.016161,
     "end_time": "2025-01-29T06:06:12.053294",
     "exception": false,
     "start_time": "2025-01-29T06:06:12.037133",
     "status": "completed"
    },
    "tags": []
   },
   "outputs": [
    {
     "data": {
      "text/plain": [
       "Survived\n",
       "0    549\n",
       "1    342\n",
       "Name: count, dtype: int64"
      ]
     },
     "execution_count": 9,
     "metadata": {},
     "output_type": "execute_result"
    }
   ],
   "source": [
    "# lets check balance now\n",
    "train_df[\"Survived\"].value_counts()"
   ]
  },
  {
   "cell_type": "code",
   "execution_count": 10,
   "id": "72446ac0",
   "metadata": {
    "execution": {
     "iopub.execute_input": "2025-01-29T06:06:12.070615Z",
     "iopub.status.busy": "2025-01-29T06:06:12.070397Z",
     "iopub.status.idle": "2025-01-29T06:06:12.076287Z",
     "shell.execute_reply": "2025-01-29T06:06:12.075433Z"
    },
    "papermill": {
     "duration": 0.015923,
     "end_time": "2025-01-29T06:06:12.077556",
     "exception": false,
     "start_time": "2025-01-29T06:06:12.061633",
     "status": "completed"
    },
    "tags": []
   },
   "outputs": [
    {
     "name": "stdout",
     "output_type": "stream",
     "text": [
      "Survived\n",
      "0    61.616162\n",
      "1    38.383838\n",
      "Name: proportion, dtype: float64\n",
      "The dataset is balanced.\n"
     ]
    }
   ],
   "source": [
    "class_percentages = train_df[\"Survived\"].value_counts(normalize=True) * 100\n",
    "\n",
    "print(class_percentages)\n",
    "\n",
    "threshold = 70  # Adjust this as needed\n",
    "is_balanced = all(class_percentages < threshold)\n",
    "\n",
    "if is_balanced:\n",
    "    print(\"The dataset is balanced.\")\n",
    "else:\n",
    "    print(\"The dataset is imbalanced.\")"
   ]
  },
  {
   "cell_type": "code",
   "execution_count": 11,
   "id": "11a69ed6",
   "metadata": {
    "execution": {
     "iopub.execute_input": "2025-01-29T06:06:12.095156Z",
     "iopub.status.busy": "2025-01-29T06:06:12.094933Z",
     "iopub.status.idle": "2025-01-29T06:06:12.097766Z",
     "shell.execute_reply": "2025-01-29T06:06:12.096976Z"
    },
    "papermill": {
     "duration": 0.012994,
     "end_time": "2025-01-29T06:06:12.099020",
     "exception": false,
     "start_time": "2025-01-29T06:06:12.086026",
     "status": "completed"
    },
    "tags": []
   },
   "outputs": [],
   "source": [
    "# so model can easily get 61% accuracy if it always predics 0\n",
    "# so this will be our basepoint"
   ]
  },
  {
   "cell_type": "code",
   "execution_count": 12,
   "id": "6728f1c9",
   "metadata": {
    "execution": {
     "iopub.execute_input": "2025-01-29T06:06:12.116356Z",
     "iopub.status.busy": "2025-01-29T06:06:12.116069Z",
     "iopub.status.idle": "2025-01-29T06:06:12.134920Z",
     "shell.execute_reply": "2025-01-29T06:06:12.134034Z"
    },
    "papermill": {
     "duration": 0.029025,
     "end_time": "2025-01-29T06:06:12.136386",
     "exception": false,
     "start_time": "2025-01-29T06:06:12.107361",
     "status": "completed"
    },
    "tags": []
   },
   "outputs": [
    {
     "name": "stdout",
     "output_type": "stream",
     "text": [
      "Column: Survived\n",
      "Outliers: 0\n",
      "Column: Pclass\n",
      "Outliers: 0\n",
      "Column: Age\n",
      "Outliers: 11\n",
      "Column: SibSp\n",
      "Outliers: 46\n",
      "Column: Parch\n",
      "Outliers: 213\n",
      "Column: Fare\n",
      "Outliers: 116\n"
     ]
    }
   ],
   "source": [
    "# check outliers\n",
    "# Identify outliers for each column\n",
    "for column in train_df.select_dtypes(include=[np.number]):  # Only numerical columns\n",
    "    Q1 = train_df[column].quantile(0.25)  # First quartile (25th percentile)\n",
    "    Q3 = train_df[column].quantile(0.75)  # Third quartile (75th percentile)\n",
    "    IQR = Q3 - Q1  # Interquartile range\n",
    "    lower_bound = Q1 - 1.5 * IQR\n",
    "    upper_bound = Q3 + 1.5 * IQR\n",
    "\n",
    "    print(f\"Column: {column}\")\n",
    "    print(f\"Outliers: {len(train_df[(train_df[column] < lower_bound) | (train_df[column] > upper_bound)][column].tolist())}\")"
   ]
  },
  {
   "cell_type": "markdown",
   "id": "2570ea69",
   "metadata": {
    "papermill": {
     "duration": 0.008366,
     "end_time": "2025-01-29T06:06:12.153965",
     "exception": false,
     "start_time": "2025-01-29T06:06:12.145599",
     "status": "completed"
    },
    "tags": []
   },
   "source": [
    "## Create Dataset Class"
   ]
  },
  {
   "cell_type": "code",
   "execution_count": 13,
   "id": "ca70242b",
   "metadata": {
    "execution": {
     "iopub.execute_input": "2025-01-29T06:06:12.171508Z",
     "iopub.status.busy": "2025-01-29T06:06:12.171289Z",
     "iopub.status.idle": "2025-01-29T06:06:12.435913Z",
     "shell.execute_reply": "2025-01-29T06:06:12.435078Z"
    },
    "papermill": {
     "duration": 0.274806,
     "end_time": "2025-01-29T06:06:12.437162",
     "exception": false,
     "start_time": "2025-01-29T06:06:12.162356",
     "status": "completed"
    },
    "tags": []
   },
   "outputs": [
    {
     "data": {
      "image/png": "[encoded data removed]",
      "text/plain": [
       "<Figure size 640x480 with 1 Axes>"
      ]
     },
     "metadata": {},
     "output_type": "display_data"
    }
   ],
   "source": [
    "sns.countplot(x='Sex', hue='Survived', data=train_df)\n",
    "\n",
    "total = len(train_df)\n",
    "\n",
    "# Add percentage annotations\n",
    "\n",
    "for p in plt.gca().patches:\n",
    "    height = p.get_height()\n",
    "    width = p.get_width()\n",
    "    x, y = p.get_xy()  # Get position of each bar\n",
    "    percentage = height / total * 100\n",
    "    plt.text(x + width / 2, y + height + 5, f'{percentage:.1f}%', ha='center')\n",
    "\n",
    "plt.title('Count of Survived vs. Not Survived by Gender')\n",
    "plt.xlabel('Gender')\n",
    "plt.ylabel('Count')\n",
    "plt.show()"
   ]
  },
  {
   "cell_type": "code",
   "execution_count": 14,
   "id": "eaf827f2",
   "metadata": {
    "execution": {
     "iopub.execute_input": "2025-01-29T06:06:12.456232Z",
     "iopub.status.busy": "2025-01-29T06:06:12.455985Z",
     "iopub.status.idle": "2025-01-29T06:06:12.787767Z",
     "shell.execute_reply": "2025-01-29T06:06:12.786797Z"
    },
    "papermill": {
     "duration": 0.342851,
     "end_time": "2025-01-29T06:06:12.789225",
     "exception": false,
     "start_time": "2025-01-29T06:06:12.446374",
     "status": "completed"
    },
    "tags": []
   },
   "outputs": [
    {
     "name": "stderr",
     "output_type": "stream",
     "text": [
      "/usr/local/lib/python3.10/dist-packages/seaborn/_oldcore.py:1119: FutureWarning: use_inf_as_na option is deprecated and will be removed in a future version. Convert inf values to NaN before operating instead.\n",
      "  with pd.option_context('mode.use_inf_as_na', True):\n"
     ]
    },
    {
     "data": {
      "image/png": "[encoded data removed]",
      "text/plain": [
       "<Figure size 640x480 with 1 Axes>"
      ]
     },
     "metadata": {},
     "output_type": "display_data"
    }
   ],
   "source": [
    "sns.histplot(x='Age', hue='Survived', data=train_df)\n",
    "plt.title('Count of Survived vs. Not Survived by Age')\n",
    "plt.xlabel('Age')\n",
    "plt.ylabel('Count')\n",
    "plt.show()"
   ]
  },
  {
   "cell_type": "code",
   "execution_count": 15,
   "id": "c0488994",
   "metadata": {
    "execution": {
     "iopub.execute_input": "2025-01-29T06:06:12.809898Z",
     "iopub.status.busy": "2025-01-29T06:06:12.809565Z",
     "iopub.status.idle": "2025-01-29T06:06:12.815493Z",
     "shell.execute_reply": "2025-01-29T06:06:12.814715Z"
    },
    "papermill": {
     "duration": 0.017721,
     "end_time": "2025-01-29T06:06:12.816796",
     "exception": false,
     "start_time": "2025-01-29T06:06:12.799075",
     "status": "completed"
    },
    "tags": []
   },
   "outputs": [
    {
     "data": {
      "text/plain": [
       "Survived\n",
       "0    549\n",
       "1    342\n",
       "Name: count, dtype: int64"
      ]
     },
     "execution_count": 15,
     "metadata": {},
     "output_type": "execute_result"
    }
   ],
   "source": [
    "train_df[\"Survived\"].value_counts()"
   ]
  },
  {
   "cell_type": "code",
   "execution_count": 16,
   "id": "4c58c907",
   "metadata": {
    "execution": {
     "iopub.execute_input": "2025-01-29T06:06:12.837112Z",
     "iopub.status.busy": "2025-01-29T06:06:12.836824Z",
     "iopub.status.idle": "2025-01-29T06:06:17.519985Z",
     "shell.execute_reply": "2025-01-29T06:06:17.519115Z"
    },
    "papermill": {
     "duration": 4.694825,
     "end_time": "2025-01-29T06:06:17.521360",
     "exception": false,
     "start_time": "2025-01-29T06:06:12.826535",
     "status": "completed"
    },
    "tags": []
   },
   "outputs": [
    {
     "name": "stdout",
     "output_type": "stream",
     "text": [
      "Collecting torchviz\r\n",
      "  Downloading torchviz-0.0.3-py3-none-any.whl.metadata (2.1 kB)\r\n",
      "Requirement already satisfied: torch in /usr/local/lib/python3.10/dist-packages (from torchviz) (2.4.1+cu121)\r\n",
      "Requirement already satisfied: graphviz in /usr/local/lib/python3.10/dist-packages (from torchviz) (0.20.3)\r\n",
      "Requirement already satisfied: filelock in /usr/local/lib/python3.10/dist-packages (from torch->torchviz) (3.16.1)\r\n",
      "Requirement already satisfied: typing-extensions>=4.8.0 in /usr/local/lib/python3.10/dist-packages (from torch->torchviz) (4.12.2)\r\n",
      "Requirement already satisfied: sympy in /usr/local/lib/python3.10/dist-packages (from torch->torchviz) (1.13.3)\r\n",
      "Requirement already satisfied: networkx in /usr/local/lib/python3.10/dist-packages (from torch->torchviz) (3.3)\r\n",
      "Requirement already satisfied: jinja2 in /usr/local/lib/python3.10/dist-packages (from torch->torchviz) (3.1.4)\r\n",
      "Requirement already satisfied: fsspec in /usr/local/lib/python3.10/dist-packages (from torch->torchviz) (2024.6.1)\r\n",
      "Requirement already satisfied: MarkupSafe>=2.0 in /usr/local/lib/python3.10/dist-packages (from jinja2->torch->torchviz) (2.1.5)\r\n",
      "Requirement already satisfied: mpmath<1.4,>=1.1.0 in /usr/local/lib/python3.10/dist-packages (from sympy->torch->torchviz) (1.3.0)\r\n",
      "Downloading torchviz-0.0.3-py3-none-any.whl (5.7 kB)\r\n",
      "Installing collected packages: torchviz\r\n",
      "Successfully installed torchviz-0.0.3\r\n"
     ]
    }
   ],
   "source": [
    "!pip install torchviz"
   ]
  },
  {
   "cell_type": "code",
   "execution_count": 17,
   "id": "63e0f402",
   "metadata": {
    "execution": {
     "iopub.execute_input": "2025-01-29T06:06:17.542569Z",
     "iopub.status.busy": "2025-01-29T06:06:17.542287Z",
     "iopub.status.idle": "2025-01-29T06:06:22.113908Z",
     "shell.execute_reply": "2025-01-29T06:06:22.113203Z"
    },
    "papermill": {
     "duration": 4.583731,
     "end_time": "2025-01-29T06:06:22.115448",
     "exception": false,
     "start_time": "2025-01-29T06:06:17.531717",
     "status": "completed"
    },
    "tags": []
   },
   "outputs": [],
   "source": [
    "import torch\n",
    "from torch.utils.data import Dataset, DataLoader\n",
    "import torchvision\n",
    "import torch.nn as nn \n",
    "from torch.utils.data import random_split\n",
    "import math\n",
    "from torchviz import make_dot\n",
    "from IPython.display import Image"
   ]
  },
  {
   "cell_type": "code",
   "execution_count": 18,
   "id": "f3d18d5e",
   "metadata": {
    "execution": {
     "iopub.execute_input": "2025-01-29T06:06:22.136853Z",
     "iopub.status.busy": "2025-01-29T06:06:22.136443Z",
     "iopub.status.idle": "2025-01-29T06:06:22.145478Z",
     "shell.execute_reply": "2025-01-29T06:06:22.144703Z"
    },
    "papermill": {
     "duration": 0.020676,
     "end_time": "2025-01-29T06:06:22.146667",
     "exception": false,
     "start_time": "2025-01-29T06:06:22.125991",
     "status": "completed"
    },
    "tags": []
   },
   "outputs": [],
   "source": [
    "torch.manual_seed(42); # seed rng for reproducibility"
   ]
  },
  {
   "cell_type": "code",
   "execution_count": 19,
   "id": "59cbaf10",
   "metadata": {
    "execution": {
     "iopub.execute_input": "2025-01-29T06:06:22.168472Z",
     "iopub.status.busy": "2025-01-29T06:06:22.168247Z",
     "iopub.status.idle": "2025-01-29T06:06:22.173393Z",
     "shell.execute_reply": "2025-01-29T06:06:22.172798Z"
    },
    "papermill": {
     "duration": 0.016809,
     "end_time": "2025-01-29T06:06:22.174489",
     "exception": false,
     "start_time": "2025-01-29T06:06:22.157680",
     "status": "completed"
    },
    "tags": []
   },
   "outputs": [],
   "source": [
    "class CSVDataset(Dataset):\n",
    "    def __init__(self, csv_path, features_col_list, target_col_list, transform=None, dropNa=False):\n",
    "        # data loading\n",
    "        self.features_col_list = features_col_list\n",
    "        self.target_col_list = target_col_list\n",
    "        self.data = pd.read_csv(csv_path, index_col=0)\n",
    "        self.transform = transform\n",
    "\n",
    "        if (dropNa):\n",
    "            self.data.fillna(-1, inplace=True)\n",
    "\n",
    "    def __getitem__(self, index):\n",
    "        x = self.data.iloc[index][self.features_col_list]  # Features}\n",
    "        y = self.data.iloc[index][self.target_col_list]  # Target\n",
    "\n",
    "        # Apply transformations if specified\n",
    "        if self.transform:\n",
    "            x, y = self.transform((x,y))\n",
    "\n",
    "        return torch.tensor(x, dtype=torch.float32), torch.tensor(y, dtype=torch.float32)\n",
    "\n",
    "    def __len__(self):\n",
    "        # allow us to use len(dataset)\n",
    "        return len(self.data)"
   ]
  },
  {
   "cell_type": "code",
   "execution_count": 20,
   "id": "641f7e34",
   "metadata": {
    "execution": {
     "iopub.execute_input": "2025-01-29T06:06:22.194708Z",
     "iopub.status.busy": "2025-01-29T06:06:22.194472Z",
     "iopub.status.idle": "2025-01-29T06:06:22.274287Z",
     "shell.execute_reply": "2025-01-29T06:06:22.273573Z"
    },
    "papermill": {
     "duration": 0.091275,
     "end_time": "2025-01-29T06:06:22.275515",
     "exception": false,
     "start_time": "2025-01-29T06:06:22.184240",
     "status": "completed"
    },
    "tags": []
   },
   "outputs": [
    {
     "name": "stdout",
     "output_type": "stream",
     "text": [
      "tensor([-1.2649, -0.6325,  0.0000,  0.6325,  1.2649])\n"
     ]
    }
   ],
   "source": [
    "# Example tensor\n",
    "tensor = torch.tensor([1.0, 2.0, 3.0, 4.0, 5.0])\n",
    "\n",
    "# Compute mean and std\n",
    "mean = tensor.mean()\n",
    "std = tensor.std()\n",
    "\n",
    "# Normalize\n",
    "normalized_tensor = (tensor - mean) / std\n",
    "print(normalized_tensor)"
   ]
  },
  {
   "cell_type": "code",
   "execution_count": 21,
   "id": "65e84d5b",
   "metadata": {
    "execution": {
     "iopub.execute_input": "2025-01-29T06:06:22.296181Z",
     "iopub.status.busy": "2025-01-29T06:06:22.295942Z",
     "iopub.status.idle": "2025-01-29T06:06:22.302469Z",
     "shell.execute_reply": "2025-01-29T06:06:22.301672Z"
    },
    "papermill": {
     "duration": 0.018182,
     "end_time": "2025-01-29T06:06:22.303738",
     "exception": false,
     "start_time": "2025-01-29T06:06:22.285556",
     "status": "completed"
    },
    "tags": []
   },
   "outputs": [],
   "source": [
    "class SexToNum():\n",
    "    def __call__(self, sample):\n",
    "        inputs, targets = sample\n",
    "\n",
    "        if (inputs[\"Sex\"] == \"male\"):\n",
    "            inputs[\"Sex\"] = 0\n",
    "        else:\n",
    "            inputs[\"Sex\"] = 1\n",
    "\n",
    "        return (inputs, targets)\n",
    "\n",
    "class NormalizeAge():\n",
    "    def __init__(self, minVal, maxVal):\n",
    "        self.minVal = minVal\n",
    "        self.maxVal = maxVal\n",
    "    \n",
    "    def __call__(self, sample):\n",
    "        inputs, targets = sample\n",
    "        inputs[\"Age\"] = (inputs[\"Age\"] - self.minVal) / (self.maxVal - self.minVal)\n",
    "        return (inputs, targets)\n",
    "\n",
    "class ConvertNumpyArrToFloat32():\n",
    "    def __call__(self, sample):\n",
    "        inputs, targets = sample\n",
    "        inputs = (inputs.values).astype(np.float32)\n",
    "        targets = (targets.values).astype(np.float32)\n",
    "        return (inputs, targets)"
   ]
  },
  {
   "cell_type": "code",
   "execution_count": 22,
   "id": "a526f8c1",
   "metadata": {
    "execution": {
     "iopub.execute_input": "2025-01-29T06:06:22.324248Z",
     "iopub.status.busy": "2025-01-29T06:06:22.324007Z",
     "iopub.status.idle": "2025-01-29T06:06:22.339730Z",
     "shell.execute_reply": "2025-01-29T06:06:22.338941Z"
    },
    "papermill": {
     "duration": 0.027627,
     "end_time": "2025-01-29T06:06:22.341053",
     "exception": false,
     "start_time": "2025-01-29T06:06:22.313426",
     "status": "completed"
    },
    "tags": []
   },
   "outputs": [
    {
     "data": {
      "text/plain": [
       "(tensor([0.0000, 0.1467]), tensor([0.]))"
      ]
     },
     "execution_count": 22,
     "metadata": {},
     "output_type": "execute_result"
    }
   ],
   "source": [
    "csv_file = \"/kaggle/input/titanic/train.csv\"\n",
    "features_col_list = [\"Sex\", \"Age\"]\n",
    "target_col_list = [\"Survived\"]\n",
    "\n",
    "minAge = 0\n",
    "maxAge = 150\n",
    "transforms = torchvision.transforms.Compose([SexToNum(), NormalizeAge(minAge, maxAge), ConvertNumpyArrToFloat32()])\n",
    "\n",
    "dataset = CSVDataset(csv_file, features_col_list, target_col_list, transform=transforms, dropNa=True)\n",
    "dataset[0]"
   ]
  },
  {
   "cell_type": "code",
   "execution_count": 23,
   "id": "daa4085c",
   "metadata": {
    "execution": {
     "iopub.execute_input": "2025-01-29T06:06:22.361451Z",
     "iopub.status.busy": "2025-01-29T06:06:22.361249Z",
     "iopub.status.idle": "2025-01-29T06:06:22.365528Z",
     "shell.execute_reply": "2025-01-29T06:06:22.364708Z"
    },
    "papermill": {
     "duration": 0.015903,
     "end_time": "2025-01-29T06:06:22.366755",
     "exception": false,
     "start_time": "2025-01-29T06:06:22.350852",
     "status": "completed"
    },
    "tags": []
   },
   "outputs": [
    {
     "data": {
      "text/plain": [
       "891"
      ]
     },
     "execution_count": 23,
     "metadata": {},
     "output_type": "execute_result"
    }
   ],
   "source": [
    "len(dataset)"
   ]
  },
  {
   "cell_type": "code",
   "execution_count": 24,
   "id": "c277c998",
   "metadata": {
    "execution": {
     "iopub.execute_input": "2025-01-29T06:06:22.387669Z",
     "iopub.status.busy": "2025-01-29T06:06:22.387412Z",
     "iopub.status.idle": "2025-01-29T06:06:22.392747Z",
     "shell.execute_reply": "2025-01-29T06:06:22.391979Z"
    },
    "papermill": {
     "duration": 0.017334,
     "end_time": "2025-01-29T06:06:22.394042",
     "exception": false,
     "start_time": "2025-01-29T06:06:22.376708",
     "status": "completed"
    },
    "tags": []
   },
   "outputs": [],
   "source": [
    "# Define split ratios\n",
    "train_size = int(0.8 * len(dataset))  # 80% for training\n",
    "val_size = int(0.1 * len(dataset))    # 10% for validation\n",
    "test_size = len(dataset) - train_size - val_size  # Remaining for testing\n",
    "\n",
    "# Split dataset\n",
    "train_dataset, val_dataset, test_dataset = random_split(dataset, [train_size, val_size, test_size])"
   ]
  },
  {
   "cell_type": "code",
   "execution_count": 25,
   "id": "6ca33cae",
   "metadata": {
    "execution": {
     "iopub.execute_input": "2025-01-29T06:06:22.414749Z",
     "iopub.status.busy": "2025-01-29T06:06:22.414513Z",
     "iopub.status.idle": "2025-01-29T06:06:22.418238Z",
     "shell.execute_reply": "2025-01-29T06:06:22.417444Z"
    },
    "papermill": {
     "duration": 0.01543,
     "end_time": "2025-01-29T06:06:22.419400",
     "exception": false,
     "start_time": "2025-01-29T06:06:22.403970",
     "status": "completed"
    },
    "tags": []
   },
   "outputs": [],
   "source": [
    "# Define batch size\n",
    "# since we have less data\n",
    "batch_size = 16\n",
    "\n",
    "# Create DataLoaders\n",
    "train_loader = DataLoader(train_dataset, batch_size=batch_size, shuffle=False)\n",
    "val_loader = DataLoader(val_dataset, batch_size=batch_size, shuffle=False)\n",
    "test_loader = DataLoader(test_dataset, batch_size=batch_size, shuffle=False)"
   ]
  },
  {
   "cell_type": "code",
   "execution_count": 26,
   "id": "a186cadd",
   "metadata": {
    "execution": {
     "iopub.execute_input": "2025-01-29T06:06:22.440110Z",
     "iopub.status.busy": "2025-01-29T06:06:22.439911Z",
     "iopub.status.idle": "2025-01-29T06:06:22.510257Z",
     "shell.execute_reply": "2025-01-29T06:06:22.509281Z"
    },
    "papermill": {
     "duration": 0.082174,
     "end_time": "2025-01-29T06:06:22.511611",
     "exception": false,
     "start_time": "2025-01-29T06:06:22.429437",
     "status": "completed"
    },
    "tags": []
   },
   "outputs": [
    {
     "name": "stdout",
     "output_type": "stream",
     "text": [
      "Using device: cuda\n"
     ]
    }
   ],
   "source": [
    "device = torch.device(\"cuda\" if torch.cuda.is_available() else \"cpu\")\n",
    "print(f\"Using device: {device}\")"
   ]
  },
  {
   "cell_type": "code",
   "execution_count": 27,
   "id": "0d58b962",
   "metadata": {
    "execution": {
     "iopub.execute_input": "2025-01-29T06:06:22.533575Z",
     "iopub.status.busy": "2025-01-29T06:06:22.533308Z",
     "iopub.status.idle": "2025-01-29T06:06:22.544733Z",
     "shell.execute_reply": "2025-01-29T06:06:22.544153Z"
    },
    "papermill": {
     "duration": 0.023893,
     "end_time": "2025-01-29T06:06:22.545959",
     "exception": false,
     "start_time": "2025-01-29T06:06:22.522066",
     "status": "completed"
    },
    "tags": []
   },
   "outputs": [],
   "source": [
    "# not correctly init\n",
    "hidden_neuron = 128\n",
    "debug = True\n",
    "\n",
    "class LinearLayer(nn.Linear):\n",
    "    def __init__(self, *args, **kwargs):\n",
    "        # Call the parent constructor to initialize the Linear layer\n",
    "        super().__init__(*args, **kwargs)\n",
    "        \n",
    "    def forward(self, x):\n",
    "        self.output = super().forward(x)\n",
    "        return self.output\n",
    "\n",
    "class LeakyReluLayer(nn.LeakyReLU):\n",
    "    def __init__(self, *args, **kwargs):\n",
    "        # Call the parent constructor to initialize the Linear layer\n",
    "        super().__init__(*args, **kwargs)\n",
    "        \n",
    "    def forward(self, x):\n",
    "        self.output = super().forward(x)\n",
    "        return self.output\n",
    "\n",
    "class TitanicSurvivalPredictor(nn.Module):\n",
    "    def __init__(self, hidden_neuron):\n",
    "        super().__init__()\n",
    "\n",
    "        # define layers\n",
    "        self.layers = nn.ModuleList([\n",
    "            LinearLayer(2, hidden_neuron),\n",
    "            LeakyReluLayer(),\n",
    "            LinearLayer(hidden_neuron, hidden_neuron),\n",
    "            LeakyReluLayer(),\n",
    "            LinearLayer(hidden_neuron, hidden_neuron),\n",
    "            LeakyReluLayer(),\n",
    "            LinearLayer(hidden_neuron, 1),\n",
    "        ])\n",
    "        \n",
    "    def forward(self, x):\n",
    "        for layer in self.layers:\n",
    "            x = layer(x)\n",
    "        return x\n",
    "\n",
    "    def parameters(self):\n",
    "        return [p for layer in self.layers for p in layer.parameters()]\n",
    "\n",
    "model = TitanicSurvivalPredictor(hidden_neuron)"
   ]
  },
  {
   "cell_type": "code",
   "execution_count": 28,
   "id": "e4ea3b3b",
   "metadata": {
    "execution": {
     "iopub.execute_input": "2025-01-29T06:06:22.566806Z",
     "iopub.status.busy": "2025-01-29T06:06:22.566553Z",
     "iopub.status.idle": "2025-01-29T06:06:22.589408Z",
     "shell.execute_reply": "2025-01-29T06:06:22.588807Z"
    },
    "papermill": {
     "duration": 0.034704,
     "end_time": "2025-01-29T06:06:22.590795",
     "exception": false,
     "start_time": "2025-01-29T06:06:22.556091",
     "status": "completed"
    },
    "tags": []
   },
   "outputs": [],
   "source": [
    "bce_loss = nn.BCEWithLogitsLoss()\n",
    "\n",
    "first_batch_input = None\n",
    "first_batch_label = None\n",
    "for inputs, labels in train_loader:\n",
    "    first_batch_input = inputs\n",
    "    first_batch_label = labels\n",
    "    break"
   ]
  },
  {
   "cell_type": "code",
   "execution_count": 29,
   "id": "abf7f68e",
   "metadata": {
    "execution": {
     "iopub.execute_input": "2025-01-29T06:06:22.611797Z",
     "iopub.status.busy": "2025-01-29T06:06:22.611542Z",
     "iopub.status.idle": "2025-01-29T06:06:22.640231Z",
     "shell.execute_reply": "2025-01-29T06:06:22.639244Z"
    },
    "papermill": {
     "duration": 0.040679,
     "end_time": "2025-01-29T06:06:22.641605",
     "exception": false,
     "start_time": "2025-01-29T06:06:22.600926",
     "status": "completed"
    },
    "tags": []
   },
   "outputs": [
    {
     "name": "stdout",
     "output_type": "stream",
     "text": [
      "init loss: 0.6937193274497986\n"
     ]
    }
   ],
   "source": [
    "first_batch_pred_logits = model(first_batch_input)\n",
    "first_batch_pred_prob = torch.sigmoid(first_batch_pred_logits)  # Apply sigmoid for binary classification\n",
    "loss = bce_loss(first_batch_pred_prob, first_batch_label)\n",
    "print(f\"init loss: {loss.item()}\")"
   ]
  },
  {
   "cell_type": "code",
   "execution_count": 30,
   "id": "0fe29896",
   "metadata": {
    "execution": {
     "iopub.execute_input": "2025-01-29T06:06:22.663532Z",
     "iopub.status.busy": "2025-01-29T06:06:22.663246Z",
     "iopub.status.idle": "2025-01-29T06:06:22.669979Z",
     "shell.execute_reply": "2025-01-29T06:06:22.669306Z"
    },
    "papermill": {
     "duration": 0.01901,
     "end_time": "2025-01-29T06:06:22.671265",
     "exception": false,
     "start_time": "2025-01-29T06:06:22.652255",
     "status": "completed"
    },
    "tags": []
   },
   "outputs": [],
   "source": [
    "def initParam(model):\n",
    "    # Initialize weights using Xavier Normal\n",
    "    for i, layer in enumerate(model.layers):\n",
    "        if (isinstance(layer, LinearLayer)):\n",
    "            if (i<len(model.layers)-1):\n",
    "                nn.init.xavier_normal_(model.layers[i].weight, torch.nn.init.calculate_gain(\"relu\")) \n",
    "            else:\n",
    "                nn.init.xavier_normal_(model.layers[i].weight, torch.nn.init.calculate_gain(\"sigmoid\")) * 0.001\n",
    "            if layer.bias is not None:\n",
    "                nn.init.zeros_(model.layers[i].bias)\n",
    "\n",
    "initParam(model)"
   ]
  },
  {
   "cell_type": "code",
   "execution_count": 31,
   "id": "bd15a19e",
   "metadata": {
    "execution": {
     "iopub.execute_input": "2025-01-29T06:06:22.693408Z",
     "iopub.status.busy": "2025-01-29T06:06:22.693116Z",
     "iopub.status.idle": "2025-01-29T06:06:22.700493Z",
     "shell.execute_reply": "2025-01-29T06:06:22.699735Z"
    },
    "papermill": {
     "duration": 0.019646,
     "end_time": "2025-01-29T06:06:22.701708",
     "exception": false,
     "start_time": "2025-01-29T06:06:22.682062",
     "status": "completed"
    },
    "tags": []
   },
   "outputs": [
    {
     "name": "stdout",
     "output_type": "stream",
     "text": [
      "init loss: 0.695378839969635\n"
     ]
    }
   ],
   "source": [
    "first_batch_pred_logits = model(first_batch_input)\n",
    "first_batch_pred_prob = torch.sigmoid(first_batch_pred_logits)  # Apply sigmoid for binary classification\n",
    "loss = bce_loss(first_batch_pred_prob, first_batch_label)\n",
    "print(f\"init loss: {loss.item()}\")"
   ]
  },
  {
   "cell_type": "code",
   "execution_count": 32,
   "id": "db118f00",
   "metadata": {
    "execution": {
     "iopub.execute_input": "2025-01-29T06:06:22.723366Z",
     "iopub.status.busy": "2025-01-29T06:06:22.723126Z",
     "iopub.status.idle": "2025-01-29T06:12:40.244942Z",
     "shell.execute_reply": "2025-01-29T06:12:40.244015Z"
    },
    "papermill": {
     "duration": 377.544105,
     "end_time": "2025-01-29T06:12:40.256421",
     "exception": false,
     "start_time": "2025-01-29T06:06:22.712316",
     "status": "completed"
    },
    "tags": []
   },
   "outputs": [
    {
     "name": "stdout",
     "output_type": "stream",
     "text": [
      "Epoch 100/500, Train Loss: -0.3115, Val Loss: -0.4207\n",
      "Epoch 200/500, Train Loss: -0.3155, Val Loss: -0.4290\n",
      "Epoch 300/500, Train Loss: -0.3201, Val Loss: -0.4381\n",
      "Epoch 400/500, Train Loss: -0.3226, Val Loss: -0.4416\n",
      "Epoch 500/500, Train Loss: -0.3261, Val Loss: -0.4442\n"
     ]
    }
   ],
   "source": [
    "# less lr rate since can overfit easily\n",
    "learning_rate = 1e-3\n",
    "# less epoch as can easily overfit\n",
    "num_epoch = 500\n",
    "\n",
    "lossi_train = []\n",
    "lossi_val = []\n",
    "\n",
    "total_samples = len(train_dataset)\n",
    "n_iter = math.ceil(total_samples / batch_size)\n",
    "\n",
    "optimizer = torch.optim.AdamW(model.parameters(), lr=learning_rate)\n",
    "bce_loss = nn.BCEWithLogitsLoss()\n",
    "output_grads = []\n",
    "\n",
    "model = model.to(device)\n",
    "\n",
    "runFirstBatch = False\n",
    "for epoch in range(num_epoch):\n",
    "    train_loss = 0    \n",
    "    for i, (inputs, labels) in enumerate(train_loader):        \n",
    "        # forward pass\n",
    "        # print(f\"inputs: {inputs}\")\n",
    "        # print(f\"labels: {labels}\")\n",
    "        inputs = inputs.to(device)\n",
    "        labels = labels.to(device)\n",
    "\n",
    "        # print(f\"inputs device: {inputs.device}, labels device: {labels.device}, model device: {[param.device for param in model.parameters()]}\")\n",
    "\n",
    "        # reset grad\n",
    "        optimizer.zero_grad()\n",
    "        \n",
    "        pred = model(inputs)\n",
    "        # print(f\"pred: {pred}\")\n",
    "\n",
    "        # calc loss\n",
    "        loss = bce_loss(pred, labels)\n",
    "\n",
    "        if (debug):\n",
    "            for layer in model.layers:\n",
    "                layer.output.retain_grad() # save gradients of non leaf tensors also\n",
    "        \n",
    "        # backward pass\n",
    "        loss.backward()\n",
    "        optimizer.step()\n",
    "\n",
    "        loss = loss.log10()\n",
    "        train_loss += loss.item()\n",
    "\n",
    "        # if (debug):\n",
    "             # break\n",
    "\n",
    "    # copied it to array since running with no grad will set grad to None\n",
    "    if (debug):\n",
    "        curr_grads = {}\n",
    "        for i, layer in enumerate(model.layers):\n",
    "            curr_grads[f\"{layer.__class__.__name__}: {i}\"] = layer.output.grad.clone()\n",
    "\n",
    "        output_grads.append(curr_grads)\n",
    "    \n",
    "    train_loss /= len(train_loader)\n",
    "    lossi_train.append(train_loss)\n",
    "\n",
    "    # validation phase\n",
    "    model.eval()\n",
    "    with torch.no_grad():  # Disable gradient computation for validation\n",
    "        val_loss = 0\n",
    "        \n",
    "        for inputs, labels in val_loader:\n",
    "            inputs = inputs.to(device)\n",
    "            labels = labels.to(device)\n",
    "            \n",
    "            pred = model(inputs)\n",
    "            \n",
    "            loss = bce_loss(pred, labels)\n",
    "            loss = loss.log10()\n",
    "            val_loss += loss.item()\n",
    "        \n",
    "        val_loss /= len(val_loader)\n",
    "        lossi_val.append(val_loss)\n",
    "        \n",
    "\n",
    "    # reset to train mode\n",
    "    model.train()\n",
    "\n",
    "    if ((epoch+1)%100==0):\n",
    "        print(f\"Epoch {epoch+1}/{num_epoch}, Train Loss: {train_loss:.4f}, Val Loss: {val_loss:.4f}\")\n",
    "\n",
    "    # if (debug):\n",
    "        # break"
   ]
  },
  {
   "cell_type": "code",
   "execution_count": 33,
   "id": "bd076467",
   "metadata": {
    "execution": {
     "iopub.execute_input": "2025-01-29T06:12:40.278596Z",
     "iopub.status.busy": "2025-01-29T06:12:40.278315Z",
     "iopub.status.idle": "2025-01-29T06:12:40.526369Z",
     "shell.execute_reply": "2025-01-29T06:12:40.525403Z"
    },
    "papermill": {
     "duration": 0.26089,
     "end_time": "2025-01-29T06:12:40.527869",
     "exception": false,
     "start_time": "2025-01-29T06:12:40.266979",
     "status": "completed"
    },
    "tags": []
   },
   "outputs": [
    {
     "data": {
      "text/plain": [
       "[<matplotlib.lines.Line2D at 0x7e12cbb4d000>]"
      ]
     },
     "execution_count": 33,
     "metadata": {},
     "output_type": "execute_result"
    },
    {
     "data": {
      "image/png": "[encoded data removed]",
      "text/plain": [
       "<Figure size 640x480 with 1 Axes>"
      ]
     },
     "metadata": {},
     "output_type": "display_data"
    }
   ],
   "source": [
    "plt.plot(lossi_train, color=\"blue\")\n",
    "plt.plot(lossi_val, color=\"red\")"
   ]
  },
  {
   "cell_type": "code",
   "execution_count": 34,
   "id": "1ac4dc05",
   "metadata": {
    "execution": {
     "iopub.execute_input": "2025-01-29T06:12:40.551567Z",
     "iopub.status.busy": "2025-01-29T06:12:40.551248Z",
     "iopub.status.idle": "2025-01-29T06:12:40.937970Z",
     "shell.execute_reply": "2025-01-29T06:12:40.937069Z"
    },
    "papermill": {
     "duration": 0.400079,
     "end_time": "2025-01-29T06:12:40.939596",
     "exception": false,
     "start_time": "2025-01-29T06:12:40.539517",
     "status": "completed"
    },
    "tags": []
   },
   "outputs": [
    {
     "name": "stdout",
     "output_type": "stream",
     "text": [
      "layer 0 (LinearLayer): mean -0.04, std 0.11, saturated: 0.00%\n",
      "layer 1 (LeakyReluLayer): mean +0.01, std 0.03, saturated: 0.00%\n",
      "layer 2 (LinearLayer): mean -0.05, std 0.17, saturated: 0.09%\n",
      "layer 3 (LeakyReluLayer): mean +0.03, std 0.07, saturated: 0.00%\n",
      "layer 4 (LinearLayer): mean -0.07, std 0.33, saturated: 1.48%\n",
      "layer 5 (LeakyReluLayer): mean +0.07, std 0.14, saturated: 0.00%\n",
      "layer 6 (LinearLayer): mean -1.06, std 1.23, saturated: 100.00%\n"
     ]
    },
    {
     "data": {
      "image/png": "[encoded data removed]",
      "text/plain": [
       "<Figure size 2000x400 with 1 Axes>"
      ]
     },
     "metadata": {},
     "output_type": "display_data"
    }
   ],
   "source": [
    "# visualize activations\n",
    "plt.figure(figsize=(20, 4))\n",
    "legends = []\n",
    "\n",
    "if (len(model.layers) > 1):\n",
    "    for i, layer in enumerate(model.layers): # exclude output layer\n",
    "        t = layer.output.cpu()\n",
    "        print('layer %d (%10s): mean %+.2f, std %.2f, saturated: %.2f%%' % (i, layer.__class__.__name__, t.mean(), t.std(), (t.abs() > 0.97).float().mean()*100))\n",
    "        hy, hx = torch.histogram(t, density=True)\n",
    "        plt.plot(hx[:-1].detach(), hy.detach())\n",
    "        legends.append(f'layer {i} ({layer.__class__.__name__})')\n",
    "    \n",
    "    plt.legend(legends)\n",
    "    plt.title(\"activation distribution\")"
   ]
  },
  {
   "cell_type": "code",
   "execution_count": 35,
   "id": "f8c0ca0d",
   "metadata": {
    "execution": {
     "iopub.execute_input": "2025-01-29T06:12:40.964987Z",
     "iopub.status.busy": "2025-01-29T06:12:40.964733Z",
     "iopub.status.idle": "2025-01-29T06:12:41.323826Z",
     "shell.execute_reply": "2025-01-29T06:12:41.322966Z"
    },
    "papermill": {
     "duration": 0.373312,
     "end_time": "2025-01-29T06:12:41.325385",
     "exception": false,
     "start_time": "2025-01-29T06:12:40.952073",
     "status": "completed"
    },
    "tags": []
   },
   "outputs": [
    {
     "name": "stdout",
     "output_type": "stream",
     "text": [
      "layer (LinearLayer: 0): mean -0.002859, std 1.783833e-02\n",
      "layer (LeakyReluLayer: 1): mean +0.007355, std 4.441822e-02\n",
      "layer (LinearLayer: 2): mean -0.000761, std 5.993942e-03\n",
      "layer (LeakyReluLayer: 3): mean +0.004990, std 2.148758e-02\n",
      "layer (LinearLayer: 4): mean -0.000817, std 2.373854e-03\n",
      "layer (LeakyReluLayer: 5): mean -0.000204, std 6.267867e-03\n",
      "layer (LinearLayer: 6): mean +0.009653, std 2.709214e-02\n"
     ]
    },
    {
     "data": {
      "image/png": "[encoded data removed]",
      "text/plain": [
       "<Figure size 2000x400 with 1 Axes>"
      ]
     },
     "metadata": {},
     "output_type": "display_data"
    }
   ],
   "source": [
    "# visualize histograms\n",
    "plt.figure(figsize=(20, 4)) # width and height of the plot\n",
    "legends = []\n",
    "\n",
    "if (len(model.layers) > 1):\n",
    "    for layer_name, layer_grad in output_grads[-1].items(): # note: exclude the output layer\n",
    "        t = layer_grad.cpu()\n",
    "        print('layer (%10s): mean %+f, std %e' % (layer_name, t.mean(), t.std()))\n",
    "        hy, hx = torch.histogram(t, density=True)\n",
    "        plt.plot(hx[:-1].detach(), hy.detach())\n",
    "        legends.append(f'{layer_name}')\n",
    "\n",
    "    plt.legend(legends);\n",
    "    plt.title('gradient distribution')"
   ]
  },
  {
   "cell_type": "code",
   "execution_count": 36,
   "id": "634c4ccf",
   "metadata": {
    "execution": {
     "iopub.execute_input": "2025-01-29T06:12:41.352379Z",
     "iopub.status.busy": "2025-01-29T06:12:41.352142Z",
     "iopub.status.idle": "2025-01-29T06:12:41.474903Z",
     "shell.execute_reply": "2025-01-29T06:12:41.474057Z"
    },
    "papermill": {
     "duration": 0.137545,
     "end_time": "2025-01-29T06:12:41.476087",
     "exception": false,
     "start_time": "2025-01-29T06:12:41.338542",
     "status": "completed"
    },
    "tags": []
   },
   "outputs": [
    {
     "name": "stdout",
     "output_type": "stream",
     "text": [
      "Test Accuracy: 77.78%\n"
     ]
    }
   ],
   "source": [
    "model.eval()  # Set model to evaluation mode\n",
    "\n",
    "# Accuracy calculation\n",
    "correct = 0\n",
    "total = 0\n",
    "\n",
    "with torch.no_grad():  # Disable gradient calculation\n",
    "    for inputs, labels in test_loader:\n",
    "        inputs = inputs.to(device)\n",
    "        labels = labels.to(device)\n",
    "        \n",
    "        outputs = model(inputs)\n",
    "        predictions = torch.sigmoid(outputs)  # Apply sigmoid for binary classification\n",
    "        predicted_classes = (predictions > 0.5).float()  # Convert to binary (0 or 1)\n",
    "        correct += (predicted_classes == labels).sum().item()\n",
    "        total += labels.size(0)\n",
    "\n",
    "accuracy = correct / total\n",
    "print(f\"Test Accuracy: {accuracy * 100:.2f}%\")"
   ]
  },
  {
   "cell_type": "code",
   "execution_count": 37,
   "id": "64c91422",
   "metadata": {
    "execution": {
     "iopub.execute_input": "2025-01-29T06:12:41.502807Z",
     "iopub.status.busy": "2025-01-29T06:12:41.502534Z",
     "iopub.status.idle": "2025-01-29T06:12:42.121935Z",
     "shell.execute_reply": "2025-01-29T06:12:42.121035Z"
    },
    "papermill": {
     "duration": 0.634056,
     "end_time": "2025-01-29T06:12:42.123276",
     "exception": false,
     "start_time": "2025-01-29T06:12:41.489220",
     "status": "completed"
    },
    "tags": []
   },
   "outputs": [
    {
     "name": "stdout",
     "output_type": "stream",
     "text": [
      "Train Accuracy: 79.21%\n"
     ]
    }
   ],
   "source": [
    "model.eval()  # Set model to evaluation mode\n",
    "\n",
    "# Accuracy calculation\n",
    "correct = 0\n",
    "total = 0\n",
    "\n",
    "with torch.no_grad():  # Disable gradient calculation\n",
    "    for inputs, labels in train_loader:\n",
    "        inputs = inputs.to(device)\n",
    "        labels = labels.to(device)\n",
    "        \n",
    "        outputs = model(inputs)\n",
    "        predictions = torch.sigmoid(outputs)  # Apply sigmoid for binary classification\n",
    "        predicted_classes = (predictions > 0.5).float()  # Convert to binary (0 or 1)\n",
    "        correct += (predicted_classes == labels).sum().item()\n",
    "        total += labels.size(0)\n",
    "\n",
    "accuracy = correct / total\n",
    "print(f\"Train Accuracy: {accuracy * 100:.2f}%\")"
   ]
  },
  {
   "cell_type": "markdown",
   "id": "05e8f24c",
   "metadata": {
    "papermill": {
     "duration": 0.012796,
     "end_time": "2025-01-29T06:12:42.150630",
     "exception": false,
     "start_time": "2025-01-29T06:12:42.137834",
     "status": "completed"
    },
    "tags": []
   },
   "source": [
    "## Test"
   ]
  },
  {
   "cell_type": "code",
   "execution_count": 38,
   "id": "6b192963",
   "metadata": {
    "execution": {
     "iopub.execute_input": "2025-01-29T06:12:42.177308Z",
     "iopub.status.busy": "2025-01-29T06:12:42.177058Z",
     "iopub.status.idle": "2025-01-29T06:12:42.202877Z",
     "shell.execute_reply": "2025-01-29T06:12:42.202141Z"
    },
    "papermill": {
     "duration": 0.040524,
     "end_time": "2025-01-29T06:12:42.204218",
     "exception": false,
     "start_time": "2025-01-29T06:12:42.163694",
     "status": "completed"
    },
    "tags": []
   },
   "outputs": [
    {
     "data": {
      "text/html": [
       "<div>\n",
       "<style scoped>\n",
       "    .dataframe tbody tr th:only-of-type {\n",
       "        vertical-align: middle;\n",
       "    }\n",
       "\n",
       "    .dataframe tbody tr th {\n",
       "        vertical-align: top;\n",
       "    }\n",
       "\n",
       "    .dataframe thead th {\n",
       "        text-align: right;\n",
       "    }\n",
       "</style>\n",
       "<table border=\"1\" class=\"dataframe\">\n",
       "  <thead>\n",
       "    <tr style=\"text-align: right;\">\n",
       "      <th></th>\n",
       "      <th>PassengerId</th>\n",
       "      <th>Pclass</th>\n",
       "      <th>Name</th>\n",
       "      <th>Sex</th>\n",
       "      <th>Age</th>\n",
       "      <th>SibSp</th>\n",
       "      <th>Parch</th>\n",
       "      <th>Ticket</th>\n",
       "      <th>Fare</th>\n",
       "      <th>Cabin</th>\n",
       "      <th>Embarked</th>\n",
       "    </tr>\n",
       "  </thead>\n",
       "  <tbody>\n",
       "    <tr>\n",
       "      <th>0</th>\n",
       "      <td>892</td>\n",
       "      <td>3</td>\n",
       "      <td>Kelly, Mr. James</td>\n",
       "      <td>male</td>\n",
       "      <td>34.5</td>\n",
       "      <td>0</td>\n",
       "      <td>0</td>\n",
       "      <td>330911</td>\n",
       "      <td>7.8292</td>\n",
       "      <td>NaN</td>\n",
       "      <td>Q</td>\n",
       "    </tr>\n",
       "    <tr>\n",
       "      <th>1</th>\n",
       "      <td>893</td>\n",
       "      <td>3</td>\n",
       "      <td>Wilkes, Mrs. James (Ellen Needs)</td>\n",
       "      <td>female</td>\n",
       "      <td>47.0</td>\n",
       "      <td>1</td>\n",
       "      <td>0</td>\n",
       "      <td>363272</td>\n",
       "      <td>7.0000</td>\n",
       "      <td>NaN</td>\n",
       "      <td>S</td>\n",
       "    </tr>\n",
       "    <tr>\n",
       "      <th>2</th>\n",
       "      <td>894</td>\n",
       "      <td>2</td>\n",
       "      <td>Myles, Mr. Thomas Francis</td>\n",
       "      <td>male</td>\n",
       "      <td>62.0</td>\n",
       "      <td>0</td>\n",
       "      <td>0</td>\n",
       "      <td>240276</td>\n",
       "      <td>9.6875</td>\n",
       "      <td>NaN</td>\n",
       "      <td>Q</td>\n",
       "    </tr>\n",
       "    <tr>\n",
       "      <th>3</th>\n",
       "      <td>895</td>\n",
       "      <td>3</td>\n",
       "      <td>Wirz, Mr. Albert</td>\n",
       "      <td>male</td>\n",
       "      <td>27.0</td>\n",
       "      <td>0</td>\n",
       "      <td>0</td>\n",
       "      <td>315154</td>\n",
       "      <td>8.6625</td>\n",
       "      <td>NaN</td>\n",
       "      <td>S</td>\n",
       "    </tr>\n",
       "    <tr>\n",
       "      <th>4</th>\n",
       "      <td>896</td>\n",
       "      <td>3</td>\n",
       "      <td>Hirvonen, Mrs. Alexander (Helga E Lindqvist)</td>\n",
       "      <td>female</td>\n",
       "      <td>22.0</td>\n",
       "      <td>1</td>\n",
       "      <td>1</td>\n",
       "      <td>3101298</td>\n",
       "      <td>12.2875</td>\n",
       "      <td>NaN</td>\n",
       "      <td>S</td>\n",
       "    </tr>\n",
       "    <tr>\n",
       "      <th>5</th>\n",
       "      <td>897</td>\n",
       "      <td>3</td>\n",
       "      <td>Svensson, Mr. Johan Cervin</td>\n",
       "      <td>male</td>\n",
       "      <td>14.0</td>\n",
       "      <td>0</td>\n",
       "      <td>0</td>\n",
       "      <td>7538</td>\n",
       "      <td>9.2250</td>\n",
       "      <td>NaN</td>\n",
       "      <td>S</td>\n",
       "    </tr>\n",
       "    <tr>\n",
       "      <th>6</th>\n",
       "      <td>898</td>\n",
       "      <td>3</td>\n",
       "      <td>Connolly, Miss. Kate</td>\n",
       "      <td>female</td>\n",
       "      <td>30.0</td>\n",
       "      <td>0</td>\n",
       "      <td>0</td>\n",
       "      <td>330972</td>\n",
       "      <td>7.6292</td>\n",
       "      <td>NaN</td>\n",
       "      <td>Q</td>\n",
       "    </tr>\n",
       "    <tr>\n",
       "      <th>7</th>\n",
       "      <td>899</td>\n",
       "      <td>2</td>\n",
       "      <td>Caldwell, Mr. Albert Francis</td>\n",
       "      <td>male</td>\n",
       "      <td>26.0</td>\n",
       "      <td>1</td>\n",
       "      <td>1</td>\n",
       "      <td>248738</td>\n",
       "      <td>29.0000</td>\n",
       "      <td>NaN</td>\n",
       "      <td>S</td>\n",
       "    </tr>\n",
       "    <tr>\n",
       "      <th>8</th>\n",
       "      <td>900</td>\n",
       "      <td>3</td>\n",
       "      <td>Abrahim, Mrs. Joseph (Sophie Halaut Easu)</td>\n",
       "      <td>female</td>\n",
       "      <td>18.0</td>\n",
       "      <td>0</td>\n",
       "      <td>0</td>\n",
       "      <td>2657</td>\n",
       "      <td>7.2292</td>\n",
       "      <td>NaN</td>\n",
       "      <td>C</td>\n",
       "    </tr>\n",
       "    <tr>\n",
       "      <th>9</th>\n",
       "      <td>901</td>\n",
       "      <td>3</td>\n",
       "      <td>Davies, Mr. John Samuel</td>\n",
       "      <td>male</td>\n",
       "      <td>21.0</td>\n",
       "      <td>2</td>\n",
       "      <td>0</td>\n",
       "      <td>A/4 48871</td>\n",
       "      <td>24.1500</td>\n",
       "      <td>NaN</td>\n",
       "      <td>S</td>\n",
       "    </tr>\n",
       "  </tbody>\n",
       "</table>\n",
       "</div>"
      ],
      "text/plain": [
       "   PassengerId  Pclass                                          Name     Sex  \\\n",
       "0          892       3                              Kelly, Mr. James    male   \n",
       "1          893       3              Wilkes, Mrs. James (Ellen Needs)  female   \n",
       "2          894       2                     Myles, Mr. Thomas Francis    male   \n",
       "3          895       3                              Wirz, Mr. Albert    male   \n",
       "4          896       3  Hirvonen, Mrs. Alexander (Helga E Lindqvist)  female   \n",
       "5          897       3                    Svensson, Mr. Johan Cervin    male   \n",
       "6          898       3                          Connolly, Miss. Kate  female   \n",
       "7          899       2                  Caldwell, Mr. Albert Francis    male   \n",
       "8          900       3     Abrahim, Mrs. Joseph (Sophie Halaut Easu)  female   \n",
       "9          901       3                       Davies, Mr. John Samuel    male   \n",
       "\n",
       "    Age  SibSp  Parch     Ticket     Fare Cabin Embarked  \n",
       "0  34.5      0      0     330911   7.8292   NaN        Q  \n",
       "1  47.0      1      0     363272   7.0000   NaN        S  \n",
       "2  62.0      0      0     240276   9.6875   NaN        Q  \n",
       "3  27.0      0      0     315154   8.6625   NaN        S  \n",
       "4  22.0      1      1    3101298  12.2875   NaN        S  \n",
       "5  14.0      0      0       7538   9.2250   NaN        S  \n",
       "6  30.0      0      0     330972   7.6292   NaN        Q  \n",
       "7  26.0      1      1     248738  29.0000   NaN        S  \n",
       "8  18.0      0      0       2657   7.2292   NaN        C  \n",
       "9  21.0      2      0  A/4 48871  24.1500   NaN        S  "
      ]
     },
     "execution_count": 38,
     "metadata": {},
     "output_type": "execute_result"
    }
   ],
   "source": [
    "test_df = pd.read_csv(\"/kaggle/input/titanic/test.csv\")\n",
    "test_df.head(10)"
   ]
  },
  {
   "cell_type": "code",
   "execution_count": 39,
   "id": "c3867781",
   "metadata": {
    "execution": {
     "iopub.execute_input": "2025-01-29T06:12:42.231740Z",
     "iopub.status.busy": "2025-01-29T06:12:42.231478Z",
     "iopub.status.idle": "2025-01-29T06:12:42.235712Z",
     "shell.execute_reply": "2025-01-29T06:12:42.235096Z"
    },
    "papermill": {
     "duration": 0.018946,
     "end_time": "2025-01-29T06:12:42.236947",
     "exception": false,
     "start_time": "2025-01-29T06:12:42.218001",
     "status": "completed"
    },
    "tags": []
   },
   "outputs": [
    {
     "data": {
      "text/plain": [
       "418"
      ]
     },
     "execution_count": 39,
     "metadata": {},
     "output_type": "execute_result"
    }
   ],
   "source": [
    "len(test_df)"
   ]
  },
  {
   "cell_type": "code",
   "execution_count": 40,
   "id": "7d9b388b",
   "metadata": {
    "execution": {
     "iopub.execute_input": "2025-01-29T06:12:42.263558Z",
     "iopub.status.busy": "2025-01-29T06:12:42.263316Z",
     "iopub.status.idle": "2025-01-29T06:12:42.274731Z",
     "shell.execute_reply": "2025-01-29T06:12:42.273814Z"
    },
    "papermill": {
     "duration": 0.026011,
     "end_time": "2025-01-29T06:12:42.276057",
     "exception": false,
     "start_time": "2025-01-29T06:12:42.250046",
     "status": "completed"
    },
    "tags": []
   },
   "outputs": [
    {
     "data": {
      "text/plain": [
       "(tensor([0.0000, 0.2300]), tensor([]))"
      ]
     },
     "execution_count": 40,
     "metadata": {},
     "output_type": "execute_result"
    }
   ],
   "source": [
    "csv_file = \"/kaggle/input/titanic/test.csv\"\n",
    "target_col_list = []\n",
    "\n",
    "transforms = torchvision.transforms.Compose([SexToNum(), NormalizeAge(minAge, maxAge), ConvertNumpyArrToFloat32()])\n",
    "\n",
    "final_test_dataset = CSVDataset(csv_file, features_col_list, target_col_list, transform=transforms, dropNa=True)\n",
    "final_test_dataset[0]"
   ]
  },
  {
   "cell_type": "code",
   "execution_count": 41,
   "id": "84febf46",
   "metadata": {
    "execution": {
     "iopub.execute_input": "2025-01-29T06:12:42.303163Z",
     "iopub.status.busy": "2025-01-29T06:12:42.302908Z",
     "iopub.status.idle": "2025-01-29T06:12:42.307399Z",
     "shell.execute_reply": "2025-01-29T06:12:42.306587Z"
    },
    "papermill": {
     "duration": 0.019315,
     "end_time": "2025-01-29T06:12:42.308555",
     "exception": false,
     "start_time": "2025-01-29T06:12:42.289240",
     "status": "completed"
    },
    "tags": []
   },
   "outputs": [
    {
     "data": {
      "text/plain": [
       "418"
      ]
     },
     "execution_count": 41,
     "metadata": {},
     "output_type": "execute_result"
    }
   ],
   "source": [
    "len(final_test_dataset)"
   ]
  },
  {
   "cell_type": "code",
   "execution_count": 42,
   "id": "f575c2b9",
   "metadata": {
    "execution": {
     "iopub.execute_input": "2025-01-29T06:12:42.336218Z",
     "iopub.status.busy": "2025-01-29T06:12:42.335944Z",
     "iopub.status.idle": "2025-01-29T06:12:42.857276Z",
     "shell.execute_reply": "2025-01-29T06:12:42.856320Z"
    },
    "papermill": {
     "duration": 0.536849,
     "end_time": "2025-01-29T06:12:42.858892",
     "exception": false,
     "start_time": "2025-01-29T06:12:42.322043",
     "status": "completed"
    },
    "tags": []
   },
   "outputs": [],
   "source": [
    "final_test_loader = DataLoader(final_test_dataset, shuffle=False)\n",
    "\n",
    "pred = []\n",
    "with torch.no_grad():  # Disable gradient calculation\n",
    "    for inputs, labels in final_test_loader:\n",
    "        inputs = inputs.to(device)\n",
    "    \n",
    "        outputs = model(inputs)\n",
    "        predictions = torch.sigmoid(outputs)  # Apply sigmoid for binary classification\n",
    "        predicted_classes = (predictions > 0.5).float()  # Convert to binary (0 or 1)\n",
    "\n",
    "        pred.append(int(predicted_classes.item()))"
   ]
  },
  {
   "cell_type": "code",
   "execution_count": 43,
   "id": "7de28e91",
   "metadata": {
    "execution": {
     "iopub.execute_input": "2025-01-29T06:12:42.886490Z",
     "iopub.status.busy": "2025-01-29T06:12:42.886227Z",
     "iopub.status.idle": "2025-01-29T06:12:42.890668Z",
     "shell.execute_reply": "2025-01-29T06:12:42.889876Z"
    },
    "papermill": {
     "duration": 0.019306,
     "end_time": "2025-01-29T06:12:42.891859",
     "exception": false,
     "start_time": "2025-01-29T06:12:42.872553",
     "status": "completed"
    },
    "tags": []
   },
   "outputs": [
    {
     "data": {
      "text/plain": [
       "418"
      ]
     },
     "execution_count": 43,
     "metadata": {},
     "output_type": "execute_result"
    }
   ],
   "source": [
    "len(final_test_loader)"
   ]
  },
  {
   "cell_type": "code",
   "execution_count": 44,
   "id": "6ed0bb7a",
   "metadata": {
    "execution": {
     "iopub.execute_input": "2025-01-29T06:12:42.918935Z",
     "iopub.status.busy": "2025-01-29T06:12:42.918705Z",
     "iopub.status.idle": "2025-01-29T06:12:42.925161Z",
     "shell.execute_reply": "2025-01-29T06:12:42.924573Z"
    },
    "papermill": {
     "duration": 0.021602,
     "end_time": "2025-01-29T06:12:42.926553",
     "exception": false,
     "start_time": "2025-01-29T06:12:42.904951",
     "status": "completed"
    },
    "tags": []
   },
   "outputs": [],
   "source": [
    "pred_df = pd.DataFrame(pred, columns=[\"Survived\"])\n",
    "pred_df[\"PassengerId\"] = test_df[\"PassengerId\"]\n",
    "pred_df.to_csv(\"pred.csv\", index=False)"
   ]
  },
  {
   "cell_type": "code",
   "execution_count": 45,
   "id": "9a6c2e7f",
   "metadata": {
    "execution": {
     "iopub.execute_input": "2025-01-29T06:12:42.954052Z",
     "iopub.status.busy": "2025-01-29T06:12:42.953810Z",
     "iopub.status.idle": "2025-01-29T06:12:42.960372Z",
     "shell.execute_reply": "2025-01-29T06:12:42.959479Z"
    },
    "papermill": {
     "duration": 0.021569,
     "end_time": "2025-01-29T06:12:42.961728",
     "exception": false,
     "start_time": "2025-01-29T06:12:42.940159",
     "status": "completed"
    },
    "tags": []
   },
   "outputs": [
    {
     "data": {
      "text/html": [
       "<div>\n",
       "<style scoped>\n",
       "    .dataframe tbody tr th:only-of-type {\n",
       "        vertical-align: middle;\n",
       "    }\n",
       "\n",
       "    .dataframe tbody tr th {\n",
       "        vertical-align: top;\n",
       "    }\n",
       "\n",
       "    .dataframe thead th {\n",
       "        text-align: right;\n",
       "    }\n",
       "</style>\n",
       "<table border=\"1\" class=\"dataframe\">\n",
       "  <thead>\n",
       "    <tr style=\"text-align: right;\">\n",
       "      <th></th>\n",
       "      <th>Survived</th>\n",
       "      <th>PassengerId</th>\n",
       "    </tr>\n",
       "  </thead>\n",
       "  <tbody>\n",
       "    <tr>\n",
       "      <th>0</th>\n",
       "      <td>0</td>\n",
       "      <td>892</td>\n",
       "    </tr>\n",
       "    <tr>\n",
       "      <th>1</th>\n",
       "      <td>1</td>\n",
       "      <td>893</td>\n",
       "    </tr>\n",
       "    <tr>\n",
       "      <th>2</th>\n",
       "      <td>0</td>\n",
       "      <td>894</td>\n",
       "    </tr>\n",
       "    <tr>\n",
       "      <th>3</th>\n",
       "      <td>0</td>\n",
       "      <td>895</td>\n",
       "    </tr>\n",
       "    <tr>\n",
       "      <th>4</th>\n",
       "      <td>1</td>\n",
       "      <td>896</td>\n",
       "    </tr>\n",
       "  </tbody>\n",
       "</table>\n",
       "</div>"
      ],
      "text/plain": [
       "   Survived  PassengerId\n",
       "0         0          892\n",
       "1         1          893\n",
       "2         0          894\n",
       "3         0          895\n",
       "4         1          896"
      ]
     },
     "execution_count": 45,
     "metadata": {},
     "output_type": "execute_result"
    }
   ],
   "source": [
    "pred_df.head()"
   ]
  }
 ],
 "metadata": {
  "kaggle": {
   "accelerator": "nvidiaTeslaT4",
   "dataSources": [
    {
     "databundleVersionId": 26502,
     "sourceId": 3136,
     "sourceType": "competition"
    }
   ],
   "dockerImageVersionId": 30822,
   "isGpuEnabled": true,
   "isInternetEnabled": true,
   "language": "python",
   "sourceType": "notebook"
  },
  "kernelspec": {
   "display_name": "Python 3",
   "language": "python",
   "name": "python3"
  },
  "language_info": {
   "codemirror_mode": {
    "name": "ipython",
    "version": 3
   },
   "file_extension": ".py",
   "mimetype": "text/x-python",
   "name": "python",
   "nbconvert_exporter": "python",
   "pygments_lexer": "ipython3",
   "version": "3.10.12"
  },
  "papermill": {
   "default_parameters": {},
   "duration": 396.759685,
   "end_time": "2025-01-29T06:12:44.497434",
   "environment_variables": {},
   "exception": null,
   "input_path": "__notebook__.ipynb",
   "output_path": "__notebook__.ipynb",
   "parameters": {},
   "start_time": "2025-01-29T06:06:07.737749",
   "version": "2.6.0"
  }
 },
 "nbformat": 4,
 "nbformat_minor": 5
}
