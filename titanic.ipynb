{
 "cells": [
  {
   "cell_type": "code",
   "execution_count": 1,
   "id": "95160a2e",
   "metadata": {
    "_cell_guid": "b1076dfc-b9ad-4769-8c92-a6c4dae69d19",
    "_uuid": "8f2839f25d086af736a60e9eeb907d3b93b6e0e5",
    "execution": {
     "iopub.execute_input": "2025-01-26T15:10:47.427972Z",
     "iopub.status.busy": "2025-01-26T15:10:47.427542Z",
     "iopub.status.idle": "2025-01-26T15:10:50.649499Z",
     "shell.execute_reply": "2025-01-26T15:10:50.648482Z"
    },
    "papermill": {
     "duration": 3.235204,
     "end_time": "2025-01-26T15:10:50.650870",
     "exception": false,
     "start_time": "2025-01-26T15:10:47.415666",
     "status": "completed"
    },
    "tags": []
   },
   "outputs": [
    {
     "name": "stdout",
     "output_type": "stream",
     "text": [
      "/kaggle/input/titanic/train.csv\n",
      "/kaggle/input/titanic/test.csv\n",
      "/kaggle/input/titanic/gender_submission.csv\n"
     ]
    }
   ],
   "source": [
    "import numpy as np\n",
    "import pandas as pd\n",
    "import seaborn as sns\n",
    "import matplotlib.pyplot as plt\n",
    "import os\n",
    "for dirname, _, filenames in os.walk('/kaggle/input'):\n",
    "    for filename in filenames:\n",
    "        print(os.path.join(dirname, filename))"
   ]
  },
  {
   "cell_type": "markdown",
   "id": "aacd9c65",
   "metadata": {
    "papermill": {
     "duration": 0.007894,
     "end_time": "2025-01-26T15:10:50.667476",
     "exception": false,
     "start_time": "2025-01-26T15:10:50.659582",
     "status": "completed"
    },
    "tags": []
   },
   "source": [
    "## Load Data"
   ]
  },
  {
   "cell_type": "code",
   "execution_count": 2,
   "id": "0b527304",
   "metadata": {
    "execution": {
     "iopub.execute_input": "2025-01-26T15:10:50.684158Z",
     "iopub.status.busy": "2025-01-26T15:10:50.683834Z",
     "iopub.status.idle": "2025-01-26T15:10:50.750001Z",
     "shell.execute_reply": "2025-01-26T15:10:50.749239Z"
    },
    "papermill": {
     "duration": 0.075804,
     "end_time": "2025-01-26T15:10:50.751144",
     "exception": false,
     "start_time": "2025-01-26T15:10:50.675340",
     "status": "completed"
    },
    "tags": []
   },
   "outputs": [
    {
     "data": {
      "text/html": [
       "<div>\n",
       "<style scoped>\n",
       "    .dataframe tbody tr th:only-of-type {\n",
       "        vertical-align: middle;\n",
       "    }\n",
       "\n",
       "    .dataframe tbody tr th {\n",
       "        vertical-align: top;\n",
       "    }\n",
       "\n",
       "    .dataframe thead th {\n",
       "        text-align: right;\n",
       "    }\n",
       "</style>\n",
       "<table border=\"1\" class=\"dataframe\">\n",
       "  <thead>\n",
       "    <tr style=\"text-align: right;\">\n",
       "      <th></th>\n",
       "      <th>Survived</th>\n",
       "      <th>Pclass</th>\n",
       "      <th>Name</th>\n",
       "      <th>Sex</th>\n",
       "      <th>Age</th>\n",
       "      <th>SibSp</th>\n",
       "      <th>Parch</th>\n",
       "      <th>Ticket</th>\n",
       "      <th>Fare</th>\n",
       "      <th>Cabin</th>\n",
       "      <th>Embarked</th>\n",
       "    </tr>\n",
       "    <tr>\n",
       "      <th>PassengerId</th>\n",
       "      <th></th>\n",
       "      <th></th>\n",
       "      <th></th>\n",
       "      <th></th>\n",
       "      <th></th>\n",
       "      <th></th>\n",
       "      <th></th>\n",
       "      <th></th>\n",
       "      <th></th>\n",
       "      <th></th>\n",
       "      <th></th>\n",
       "    </tr>\n",
       "  </thead>\n",
       "  <tbody>\n",
       "    <tr>\n",
       "      <th>1</th>\n",
       "      <td>0</td>\n",
       "      <td>3</td>\n",
       "      <td>Braund, Mr. Owen Harris</td>\n",
       "      <td>male</td>\n",
       "      <td>22.0</td>\n",
       "      <td>1</td>\n",
       "      <td>0</td>\n",
       "      <td>A/5 21171</td>\n",
       "      <td>7.2500</td>\n",
       "      <td>NaN</td>\n",
       "      <td>S</td>\n",
       "    </tr>\n",
       "    <tr>\n",
       "      <th>2</th>\n",
       "      <td>1</td>\n",
       "      <td>1</td>\n",
       "      <td>Cumings, Mrs. John Bradley (Florence Briggs Th...</td>\n",
       "      <td>female</td>\n",
       "      <td>38.0</td>\n",
       "      <td>1</td>\n",
       "      <td>0</td>\n",
       "      <td>PC 17599</td>\n",
       "      <td>71.2833</td>\n",
       "      <td>C85</td>\n",
       "      <td>C</td>\n",
       "    </tr>\n",
       "    <tr>\n",
       "      <th>3</th>\n",
       "      <td>1</td>\n",
       "      <td>3</td>\n",
       "      <td>Heikkinen, Miss. Laina</td>\n",
       "      <td>female</td>\n",
       "      <td>26.0</td>\n",
       "      <td>0</td>\n",
       "      <td>0</td>\n",
       "      <td>STON/O2. 3101282</td>\n",
       "      <td>7.9250</td>\n",
       "      <td>NaN</td>\n",
       "      <td>S</td>\n",
       "    </tr>\n",
       "    <tr>\n",
       "      <th>4</th>\n",
       "      <td>1</td>\n",
       "      <td>1</td>\n",
       "      <td>Futrelle, Mrs. Jacques Heath (Lily May Peel)</td>\n",
       "      <td>female</td>\n",
       "      <td>35.0</td>\n",
       "      <td>1</td>\n",
       "      <td>0</td>\n",
       "      <td>113803</td>\n",
       "      <td>53.1000</td>\n",
       "      <td>C123</td>\n",
       "      <td>S</td>\n",
       "    </tr>\n",
       "    <tr>\n",
       "      <th>5</th>\n",
       "      <td>0</td>\n",
       "      <td>3</td>\n",
       "      <td>Allen, Mr. William Henry</td>\n",
       "      <td>male</td>\n",
       "      <td>35.0</td>\n",
       "      <td>0</td>\n",
       "      <td>0</td>\n",
       "      <td>373450</td>\n",
       "      <td>8.0500</td>\n",
       "      <td>NaN</td>\n",
       "      <td>S</td>\n",
       "    </tr>\n",
       "    <tr>\n",
       "      <th>6</th>\n",
       "      <td>0</td>\n",
       "      <td>3</td>\n",
       "      <td>Moran, Mr. James</td>\n",
       "      <td>male</td>\n",
       "      <td>NaN</td>\n",
       "      <td>0</td>\n",
       "      <td>0</td>\n",
       "      <td>330877</td>\n",
       "      <td>8.4583</td>\n",
       "      <td>NaN</td>\n",
       "      <td>Q</td>\n",
       "    </tr>\n",
       "    <tr>\n",
       "      <th>7</th>\n",
       "      <td>0</td>\n",
       "      <td>1</td>\n",
       "      <td>McCarthy, Mr. Timothy J</td>\n",
       "      <td>male</td>\n",
       "      <td>54.0</td>\n",
       "      <td>0</td>\n",
       "      <td>0</td>\n",
       "      <td>17463</td>\n",
       "      <td>51.8625</td>\n",
       "      <td>E46</td>\n",
       "      <td>S</td>\n",
       "    </tr>\n",
       "    <tr>\n",
       "      <th>8</th>\n",
       "      <td>0</td>\n",
       "      <td>3</td>\n",
       "      <td>Palsson, Master. Gosta Leonard</td>\n",
       "      <td>male</td>\n",
       "      <td>2.0</td>\n",
       "      <td>3</td>\n",
       "      <td>1</td>\n",
       "      <td>349909</td>\n",
       "      <td>21.0750</td>\n",
       "      <td>NaN</td>\n",
       "      <td>S</td>\n",
       "    </tr>\n",
       "    <tr>\n",
       "      <th>9</th>\n",
       "      <td>1</td>\n",
       "      <td>3</td>\n",
       "      <td>Johnson, Mrs. Oscar W (Elisabeth Vilhelmina Berg)</td>\n",
       "      <td>female</td>\n",
       "      <td>27.0</td>\n",
       "      <td>0</td>\n",
       "      <td>2</td>\n",
       "      <td>347742</td>\n",
       "      <td>11.1333</td>\n",
       "      <td>NaN</td>\n",
       "      <td>S</td>\n",
       "    </tr>\n",
       "    <tr>\n",
       "      <th>10</th>\n",
       "      <td>1</td>\n",
       "      <td>2</td>\n",
       "      <td>Nasser, Mrs. Nicholas (Adele Achem)</td>\n",
       "      <td>female</td>\n",
       "      <td>14.0</td>\n",
       "      <td>1</td>\n",
       "      <td>0</td>\n",
       "      <td>237736</td>\n",
       "      <td>30.0708</td>\n",
       "      <td>NaN</td>\n",
       "      <td>C</td>\n",
       "    </tr>\n",
       "  </tbody>\n",
       "</table>\n",
       "</div>"
      ],
      "text/plain": [
       "             Survived  Pclass  \\\n",
       "PassengerId                     \n",
       "1                   0       3   \n",
       "2                   1       1   \n",
       "3                   1       3   \n",
       "4                   1       1   \n",
       "5                   0       3   \n",
       "6                   0       3   \n",
       "7                   0       1   \n",
       "8                   0       3   \n",
       "9                   1       3   \n",
       "10                  1       2   \n",
       "\n",
       "                                                          Name     Sex   Age  \\\n",
       "PassengerId                                                                    \n",
       "1                                      Braund, Mr. Owen Harris    male  22.0   \n",
       "2            Cumings, Mrs. John Bradley (Florence Briggs Th...  female  38.0   \n",
       "3                                       Heikkinen, Miss. Laina  female  26.0   \n",
       "4                 Futrelle, Mrs. Jacques Heath (Lily May Peel)  female  35.0   \n",
       "5                                     Allen, Mr. William Henry    male  35.0   \n",
       "6                                             Moran, Mr. James    male   NaN   \n",
       "7                                      McCarthy, Mr. Timothy J    male  54.0   \n",
       "8                               Palsson, Master. Gosta Leonard    male   2.0   \n",
       "9            Johnson, Mrs. Oscar W (Elisabeth Vilhelmina Berg)  female  27.0   \n",
       "10                         Nasser, Mrs. Nicholas (Adele Achem)  female  14.0   \n",
       "\n",
       "             SibSp  Parch            Ticket     Fare Cabin Embarked  \n",
       "PassengerId                                                          \n",
       "1                1      0         A/5 21171   7.2500   NaN        S  \n",
       "2                1      0          PC 17599  71.2833   C85        C  \n",
       "3                0      0  STON/O2. 3101282   7.9250   NaN        S  \n",
       "4                1      0            113803  53.1000  C123        S  \n",
       "5                0      0            373450   8.0500   NaN        S  \n",
       "6                0      0            330877   8.4583   NaN        Q  \n",
       "7                0      0             17463  51.8625   E46        S  \n",
       "8                3      1            349909  21.0750   NaN        S  \n",
       "9                0      2            347742  11.1333   NaN        S  \n",
       "10               1      0            237736  30.0708   NaN        C  "
      ]
     },
     "execution_count": 2,
     "metadata": {},
     "output_type": "execute_result"
    }
   ],
   "source": [
    "train_df = pd.read_csv(\"/kaggle/input/titanic/train.csv\", index_col=0)\n",
    "train_df.head(10)"
   ]
  },
  {
   "cell_type": "code",
   "execution_count": 3,
   "id": "cb1861ec",
   "metadata": {
    "execution": {
     "iopub.execute_input": "2025-01-26T15:10:50.769376Z",
     "iopub.status.busy": "2025-01-26T15:10:50.769114Z",
     "iopub.status.idle": "2025-01-26T15:10:50.773424Z",
     "shell.execute_reply": "2025-01-26T15:10:50.772645Z"
    },
    "papermill": {
     "duration": 0.014929,
     "end_time": "2025-01-26T15:10:50.774765",
     "exception": false,
     "start_time": "2025-01-26T15:10:50.759836",
     "status": "completed"
    },
    "tags": []
   },
   "outputs": [
    {
     "data": {
      "text/plain": [
       "891"
      ]
     },
     "execution_count": 3,
     "metadata": {},
     "output_type": "execute_result"
    }
   ],
   "source": [
    "len(train_df)"
   ]
  },
  {
   "cell_type": "markdown",
   "id": "677f092d",
   "metadata": {
    "papermill": {
     "duration": 0.008266,
     "end_time": "2025-01-26T15:10:50.791452",
     "exception": false,
     "start_time": "2025-01-26T15:10:50.783186",
     "status": "completed"
    },
    "tags": []
   },
   "source": [
    "## Explore Data"
   ]
  },
  {
   "attachments": {
    "32b3126c-ecdb-46fc-86b2-f22ddf6e6809.png": {
     "image/png": "[encoded data removed]"
    }
   },
   "cell_type": "markdown",
   "id": "b4cdc1cc",
   "metadata": {
    "papermill": {
     "duration": 0.007932,
     "end_time": "2025-01-26T15:10:50.807449",
     "exception": false,
     "start_time": "2025-01-26T15:10:50.799517",
     "status": "completed"
    },
    "tags": []
   },
   "source": [
    "![image.png](attachment:32b3126c-ecdb-46fc-86b2-f22ddf6e6809.png)"
   ]
  },
  {
   "cell_type": "code",
   "execution_count": 4,
   "id": "853e34c6",
   "metadata": {
    "execution": {
     "iopub.execute_input": "2025-01-26T15:10:50.824242Z",
     "iopub.status.busy": "2025-01-26T15:10:50.824035Z",
     "iopub.status.idle": "2025-01-26T15:10:50.828118Z",
     "shell.execute_reply": "2025-01-26T15:10:50.827455Z"
    },
    "papermill": {
     "duration": 0.013982,
     "end_time": "2025-01-26T15:10:50.829391",
     "exception": false,
     "start_time": "2025-01-26T15:10:50.815409",
     "status": "completed"
    },
    "tags": []
   },
   "outputs": [
    {
     "data": {
      "text/plain": [
       "891"
      ]
     },
     "execution_count": 4,
     "metadata": {},
     "output_type": "execute_result"
    }
   ],
   "source": [
    "len(train_df)"
   ]
  },
  {
   "cell_type": "code",
   "execution_count": 5,
   "id": "03d86e9d",
   "metadata": {
    "execution": {
     "iopub.execute_input": "2025-01-26T15:10:50.846364Z",
     "iopub.status.busy": "2025-01-26T15:10:50.846121Z",
     "iopub.status.idle": "2025-01-26T15:10:50.869794Z",
     "shell.execute_reply": "2025-01-26T15:10:50.869035Z"
    },
    "papermill": {
     "duration": 0.033476,
     "end_time": "2025-01-26T15:10:50.871001",
     "exception": false,
     "start_time": "2025-01-26T15:10:50.837525",
     "status": "completed"
    },
    "tags": []
   },
   "outputs": [
    {
     "data": {
      "text/html": [
       "<div>\n",
       "<style scoped>\n",
       "    .dataframe tbody tr th:only-of-type {\n",
       "        vertical-align: middle;\n",
       "    }\n",
       "\n",
       "    .dataframe tbody tr th {\n",
       "        vertical-align: top;\n",
       "    }\n",
       "\n",
       "    .dataframe thead th {\n",
       "        text-align: right;\n",
       "    }\n",
       "</style>\n",
       "<table border=\"1\" class=\"dataframe\">\n",
       "  <thead>\n",
       "    <tr style=\"text-align: right;\">\n",
       "      <th></th>\n",
       "      <th>Survived</th>\n",
       "      <th>Pclass</th>\n",
       "      <th>Age</th>\n",
       "      <th>SibSp</th>\n",
       "      <th>Parch</th>\n",
       "      <th>Fare</th>\n",
       "    </tr>\n",
       "  </thead>\n",
       "  <tbody>\n",
       "    <tr>\n",
       "      <th>count</th>\n",
       "      <td>891.000000</td>\n",
       "      <td>891.000000</td>\n",
       "      <td>714.000000</td>\n",
       "      <td>891.000000</td>\n",
       "      <td>891.000000</td>\n",
       "      <td>891.000000</td>\n",
       "    </tr>\n",
       "    <tr>\n",
       "      <th>mean</th>\n",
       "      <td>0.383838</td>\n",
       "      <td>2.308642</td>\n",
       "      <td>29.699118</td>\n",
       "      <td>0.523008</td>\n",
       "      <td>0.381594</td>\n",
       "      <td>32.204208</td>\n",
       "    </tr>\n",
       "    <tr>\n",
       "      <th>std</th>\n",
       "      <td>0.486592</td>\n",
       "      <td>0.836071</td>\n",
       "      <td>14.526497</td>\n",
       "      <td>1.102743</td>\n",
       "      <td>0.806057</td>\n",
       "      <td>49.693429</td>\n",
       "    </tr>\n",
       "    <tr>\n",
       "      <th>min</th>\n",
       "      <td>0.000000</td>\n",
       "      <td>1.000000</td>\n",
       "      <td>0.420000</td>\n",
       "      <td>0.000000</td>\n",
       "      <td>0.000000</td>\n",
       "      <td>0.000000</td>\n",
       "    </tr>\n",
       "    <tr>\n",
       "      <th>25%</th>\n",
       "      <td>0.000000</td>\n",
       "      <td>2.000000</td>\n",
       "      <td>20.125000</td>\n",
       "      <td>0.000000</td>\n",
       "      <td>0.000000</td>\n",
       "      <td>7.910400</td>\n",
       "    </tr>\n",
       "    <tr>\n",
       "      <th>50%</th>\n",
       "      <td>0.000000</td>\n",
       "      <td>3.000000</td>\n",
       "      <td>28.000000</td>\n",
       "      <td>0.000000</td>\n",
       "      <td>0.000000</td>\n",
       "      <td>14.454200</td>\n",
       "    </tr>\n",
       "    <tr>\n",
       "      <th>75%</th>\n",
       "      <td>1.000000</td>\n",
       "      <td>3.000000</td>\n",
       "      <td>38.000000</td>\n",
       "      <td>1.000000</td>\n",
       "      <td>0.000000</td>\n",
       "      <td>31.000000</td>\n",
       "    </tr>\n",
       "    <tr>\n",
       "      <th>max</th>\n",
       "      <td>1.000000</td>\n",
       "      <td>3.000000</td>\n",
       "      <td>80.000000</td>\n",
       "      <td>8.000000</td>\n",
       "      <td>6.000000</td>\n",
       "      <td>512.329200</td>\n",
       "    </tr>\n",
       "  </tbody>\n",
       "</table>\n",
       "</div>"
      ],
      "text/plain": [
       "         Survived      Pclass         Age       SibSp       Parch        Fare\n",
       "count  891.000000  891.000000  714.000000  891.000000  891.000000  891.000000\n",
       "mean     0.383838    2.308642   29.699118    0.523008    0.381594   32.204208\n",
       "std      0.486592    0.836071   14.526497    1.102743    0.806057   49.693429\n",
       "min      0.000000    1.000000    0.420000    0.000000    0.000000    0.000000\n",
       "25%      0.000000    2.000000   20.125000    0.000000    0.000000    7.910400\n",
       "50%      0.000000    3.000000   28.000000    0.000000    0.000000   14.454200\n",
       "75%      1.000000    3.000000   38.000000    1.000000    0.000000   31.000000\n",
       "max      1.000000    3.000000   80.000000    8.000000    6.000000  512.329200"
      ]
     },
     "execution_count": 5,
     "metadata": {},
     "output_type": "execute_result"
    }
   ],
   "source": [
    "train_df.describe()"
   ]
  },
  {
   "cell_type": "code",
   "execution_count": 6,
   "id": "d33e6c94",
   "metadata": {
    "execution": {
     "iopub.execute_input": "2025-01-26T15:10:50.889201Z",
     "iopub.status.busy": "2025-01-26T15:10:50.889000Z",
     "iopub.status.idle": "2025-01-26T15:10:50.892949Z",
     "shell.execute_reply": "2025-01-26T15:10:50.892252Z"
    },
    "papermill": {
     "duration": 0.014678,
     "end_time": "2025-01-26T15:10:50.894135",
     "exception": false,
     "start_time": "2025-01-26T15:10:50.879457",
     "status": "completed"
    },
    "tags": []
   },
   "outputs": [
    {
     "name": "stdout",
     "output_type": "stream",
     "text": [
      "count of items to be dropped 177\n",
      "count of items left 714\n"
     ]
    }
   ],
   "source": [
    "# age has some null value\n",
    "# should we try dropping them for now?\n",
    "\n",
    "# count of rows that will be dropped\n",
    "print(f\"count of items to be dropped {len(train_df) - 714}\")\n",
    "\n",
    "# rows lefr\n",
    "print(f\"count of items left {len(train_df) - len(train_df) + 714}\")"
   ]
  },
  {
   "cell_type": "code",
   "execution_count": 7,
   "id": "70427dae",
   "metadata": {
    "execution": {
     "iopub.execute_input": "2025-01-26T15:10:50.912284Z",
     "iopub.status.busy": "2025-01-26T15:10:50.912063Z",
     "iopub.status.idle": "2025-01-26T15:10:50.917463Z",
     "shell.execute_reply": "2025-01-26T15:10:50.916700Z"
    },
    "papermill": {
     "duration": 0.016016,
     "end_time": "2025-01-26T15:10:50.918769",
     "exception": false,
     "start_time": "2025-01-26T15:10:50.902753",
     "status": "completed"
    },
    "tags": []
   },
   "outputs": [
    {
     "data": {
      "text/plain": [
       "Survived      0\n",
       "Pclass        0\n",
       "Name          0\n",
       "Sex           0\n",
       "Age         177\n",
       "SibSp         0\n",
       "Parch         0\n",
       "Ticket        0\n",
       "Fare          0\n",
       "Cabin       687\n",
       "Embarked      2\n",
       "dtype: int64"
      ]
     },
     "execution_count": 7,
     "metadata": {},
     "output_type": "execute_result"
    }
   ],
   "source": [
    "train_df.isna().sum()"
   ]
  },
  {
   "cell_type": "code",
   "execution_count": 8,
   "id": "6afb7e44",
   "metadata": {
    "execution": {
     "iopub.execute_input": "2025-01-26T15:10:50.936376Z",
     "iopub.status.busy": "2025-01-26T15:10:50.936141Z",
     "iopub.status.idle": "2025-01-26T15:10:50.938750Z",
     "shell.execute_reply": "2025-01-26T15:10:50.938173Z"
    },
    "papermill": {
     "duration": 0.012756,
     "end_time": "2025-01-26T15:10:50.940000",
     "exception": false,
     "start_time": "2025-01-26T15:10:50.927244",
     "status": "completed"
    },
    "tags": []
   },
   "outputs": [],
   "source": [
    "# cabin has 687 nulls, i dont think we can learn anything using it though"
   ]
  },
  {
   "cell_type": "code",
   "execution_count": 9,
   "id": "8a25b108",
   "metadata": {
    "execution": {
     "iopub.execute_input": "2025-01-26T15:10:50.957496Z",
     "iopub.status.busy": "2025-01-26T15:10:50.957223Z",
     "iopub.status.idle": "2025-01-26T15:10:50.965002Z",
     "shell.execute_reply": "2025-01-26T15:10:50.964228Z"
    },
    "papermill": {
     "duration": 0.01764,
     "end_time": "2025-01-26T15:10:50.966144",
     "exception": false,
     "start_time": "2025-01-26T15:10:50.948504",
     "status": "completed"
    },
    "tags": []
   },
   "outputs": [
    {
     "data": {
      "text/plain": [
       "Survived\n",
       "0    549\n",
       "1    342\n",
       "Name: count, dtype: int64"
      ]
     },
     "execution_count": 9,
     "metadata": {},
     "output_type": "execute_result"
    }
   ],
   "source": [
    "# lets check balance now\n",
    "train_df[\"Survived\"].value_counts()"
   ]
  },
  {
   "cell_type": "code",
   "execution_count": 10,
   "id": "1d40a55d",
   "metadata": {
    "execution": {
     "iopub.execute_input": "2025-01-26T15:10:50.984177Z",
     "iopub.status.busy": "2025-01-26T15:10:50.983980Z",
     "iopub.status.idle": "2025-01-26T15:10:50.989941Z",
     "shell.execute_reply": "2025-01-26T15:10:50.989098Z"
    },
    "papermill": {
     "duration": 0.016162,
     "end_time": "2025-01-26T15:10:50.991206",
     "exception": false,
     "start_time": "2025-01-26T15:10:50.975044",
     "status": "completed"
    },
    "tags": []
   },
   "outputs": [
    {
     "name": "stdout",
     "output_type": "stream",
     "text": [
      "Survived\n",
      "0    61.616162\n",
      "1    38.383838\n",
      "Name: proportion, dtype: float64\n",
      "The dataset is balanced.\n"
     ]
    }
   ],
   "source": [
    "class_percentages = train_df[\"Survived\"].value_counts(normalize=True) * 100\n",
    "\n",
    "print(class_percentages)\n",
    "\n",
    "threshold = 70  # Adjust this as needed\n",
    "is_balanced = all(class_percentages < threshold)\n",
    "\n",
    "if is_balanced:\n",
    "    print(\"The dataset is balanced.\")\n",
    "else:\n",
    "    print(\"The dataset is imbalanced.\")"
   ]
  },
  {
   "cell_type": "code",
   "execution_count": 11,
   "id": "eab6d93e",
   "metadata": {
    "execution": {
     "iopub.execute_input": "2025-01-26T15:10:51.009700Z",
     "iopub.status.busy": "2025-01-26T15:10:51.009472Z",
     "iopub.status.idle": "2025-01-26T15:10:51.012227Z",
     "shell.execute_reply": "2025-01-26T15:10:51.011512Z"
    },
    "papermill": {
     "duration": 0.013436,
     "end_time": "2025-01-26T15:10:51.013598",
     "exception": false,
     "start_time": "2025-01-26T15:10:51.000162",
     "status": "completed"
    },
    "tags": []
   },
   "outputs": [],
   "source": [
    "# so model can easily get 61% accuracy if it always predics 0\n",
    "# so this will be our basepoint"
   ]
  },
  {
   "cell_type": "code",
   "execution_count": 12,
   "id": "db6afb80",
   "metadata": {
    "execution": {
     "iopub.execute_input": "2025-01-26T15:10:51.031995Z",
     "iopub.status.busy": "2025-01-26T15:10:51.031795Z",
     "iopub.status.idle": "2025-01-26T15:10:51.049097Z",
     "shell.execute_reply": "2025-01-26T15:10:51.048153Z"
    },
    "papermill": {
     "duration": 0.028149,
     "end_time": "2025-01-26T15:10:51.050498",
     "exception": false,
     "start_time": "2025-01-26T15:10:51.022349",
     "status": "completed"
    },
    "tags": []
   },
   "outputs": [
    {
     "name": "stdout",
     "output_type": "stream",
     "text": [
      "Column: Survived\n",
      "Outliers: 0\n",
      "Column: Pclass\n",
      "Outliers: 0\n",
      "Column: Age\n",
      "Outliers: 11\n",
      "Column: SibSp\n",
      "Outliers: 46\n",
      "Column: Parch\n",
      "Outliers: 213\n",
      "Column: Fare\n",
      "Outliers: 116\n"
     ]
    }
   ],
   "source": [
    "# check outliers\n",
    "# Identify outliers for each column\n",
    "for column in train_df.select_dtypes(include=[np.number]):  # Only numerical columns\n",
    "    Q1 = train_df[column].quantile(0.25)  # First quartile (25th percentile)\n",
    "    Q3 = train_df[column].quantile(0.75)  # Third quartile (75th percentile)\n",
    "    IQR = Q3 - Q1  # Interquartile range\n",
    "    lower_bound = Q1 - 1.5 * IQR\n",
    "    upper_bound = Q3 + 1.5 * IQR\n",
    "\n",
    "    print(f\"Column: {column}\")\n",
    "    print(f\"Outliers: {len(train_df[(train_df[column] < lower_bound) | (train_df[column] > upper_bound)][column].tolist())}\")"
   ]
  },
  {
   "cell_type": "markdown",
   "id": "d7965b06",
   "metadata": {
    "papermill": {
     "duration": 0.00892,
     "end_time": "2025-01-26T15:10:51.069025",
     "exception": false,
     "start_time": "2025-01-26T15:10:51.060105",
     "status": "completed"
    },
    "tags": []
   },
   "source": [
    "## Create Dataset Class"
   ]
  },
  {
   "cell_type": "code",
   "execution_count": 13,
   "id": "bad3b063",
   "metadata": {
    "execution": {
     "iopub.execute_input": "2025-01-26T15:10:51.088065Z",
     "iopub.status.busy": "2025-01-26T15:10:51.087850Z",
     "iopub.status.idle": "2025-01-26T15:10:51.371038Z",
     "shell.execute_reply": "2025-01-26T15:10:51.370093Z"
    },
    "papermill": {
     "duration": 0.294312,
     "end_time": "2025-01-26T15:10:51.372332",
     "exception": false,
     "start_time": "2025-01-26T15:10:51.078020",
     "status": "completed"
    },
    "tags": []
   },
   "outputs": [
    {
     "data": {
      "image/png": "[encoded data removed]",
      "text/plain": [
       "<Figure size 640x480 with 1 Axes>"
      ]
     },
     "metadata": {},
     "output_type": "display_data"
    }
   ],
   "source": [
    "sns.countplot(x='Sex', hue='Survived', data=train_df)\n",
    "\n",
    "total = len(train_df)\n",
    "\n",
    "# Add percentage annotations\n",
    "\n",
    "for p in plt.gca().patches:\n",
    "    height = p.get_height()\n",
    "    width = p.get_width()\n",
    "    x, y = p.get_xy()  # Get position of each bar\n",
    "    percentage = height / total * 100\n",
    "    plt.text(x + width / 2, y + height + 5, f'{percentage:.1f}%', ha='center')\n",
    "\n",
    "plt.title('Count of Survived vs. Not Survived by Gender')\n",
    "plt.xlabel('Gender')\n",
    "plt.ylabel('Count')\n",
    "plt.show()"
   ]
  },
  {
   "cell_type": "code",
   "execution_count": 14,
   "id": "100424d3",
   "metadata": {
    "execution": {
     "iopub.execute_input": "2025-01-26T15:10:51.392038Z",
     "iopub.status.busy": "2025-01-26T15:10:51.391799Z",
     "iopub.status.idle": "2025-01-26T15:10:51.669830Z",
     "shell.execute_reply": "2025-01-26T15:10:51.668976Z"
    },
    "papermill": {
     "duration": 0.289316,
     "end_time": "2025-01-26T15:10:51.671109",
     "exception": false,
     "start_time": "2025-01-26T15:10:51.381793",
     "status": "completed"
    },
    "tags": []
   },
   "outputs": [
    {
     "name": "stderr",
     "output_type": "stream",
     "text": [
      "/usr/local/lib/python3.10/dist-packages/seaborn/_oldcore.py:1119: FutureWarning: use_inf_as_na option is deprecated and will be removed in a future version. Convert inf values to NaN before operating instead.\n",
      "  with pd.option_context('mode.use_inf_as_na', True):\n"
     ]
    },
    {
     "data": {
      "image/png": "[encoded data removed]",
      "text/plain": [
       "<Figure size 640x480 with 1 Axes>"
      ]
     },
     "metadata": {},
     "output_type": "display_data"
    }
   ],
   "source": [
    "sns.histplot(x='Age', hue='Survived', data=train_df)\n",
    "plt.title('Count of Survived vs. Not Survived by Age')\n",
    "plt.xlabel('Age')\n",
    "plt.ylabel('Count')\n",
    "plt.show()"
   ]
  },
  {
   "cell_type": "code",
   "execution_count": 15,
   "id": "1e00e674",
   "metadata": {
    "execution": {
     "iopub.execute_input": "2025-01-26T15:10:51.692578Z",
     "iopub.status.busy": "2025-01-26T15:10:51.692350Z",
     "iopub.status.idle": "2025-01-26T15:10:51.697723Z",
     "shell.execute_reply": "2025-01-26T15:10:51.696897Z"
    },
    "papermill": {
     "duration": 0.017719,
     "end_time": "2025-01-26T15:10:51.698908",
     "exception": false,
     "start_time": "2025-01-26T15:10:51.681189",
     "status": "completed"
    },
    "tags": []
   },
   "outputs": [
    {
     "data": {
      "text/plain": [
       "Survived\n",
       "0    549\n",
       "1    342\n",
       "Name: count, dtype: int64"
      ]
     },
     "execution_count": 15,
     "metadata": {},
     "output_type": "execute_result"
    }
   ],
   "source": [
    "train_df[\"Survived\"].value_counts()"
   ]
  },
  {
   "cell_type": "code",
   "execution_count": 16,
   "id": "7c569318",
   "metadata": {
    "execution": {
     "iopub.execute_input": "2025-01-26T15:10:51.719652Z",
     "iopub.status.busy": "2025-01-26T15:10:51.719394Z",
     "iopub.status.idle": "2025-01-26T15:10:58.144617Z",
     "shell.execute_reply": "2025-01-26T15:10:58.143569Z"
    },
    "papermill": {
     "duration": 6.437311,
     "end_time": "2025-01-26T15:10:58.146151",
     "exception": false,
     "start_time": "2025-01-26T15:10:51.708840",
     "status": "completed"
    },
    "tags": []
   },
   "outputs": [
    {
     "name": "stdout",
     "output_type": "stream",
     "text": [
      "Collecting torchviz\r\n",
      "  Downloading torchviz-0.0.3-py3-none-any.whl.metadata (2.1 kB)\r\n",
      "Requirement already satisfied: torch in /usr/local/lib/python3.10/dist-packages (from torchviz) (2.4.1+cu121)\r\n",
      "Requirement already satisfied: graphviz in /usr/local/lib/python3.10/dist-packages (from torchviz) (0.20.3)\r\n",
      "Requirement already satisfied: filelock in /usr/local/lib/python3.10/dist-packages (from torch->torchviz) (3.16.1)\r\n",
      "Requirement already satisfied: typing-extensions>=4.8.0 in /usr/local/lib/python3.10/dist-packages (from torch->torchviz) (4.12.2)\r\n",
      "Requirement already satisfied: sympy in /usr/local/lib/python3.10/dist-packages (from torch->torchviz) (1.13.3)\r\n",
      "Requirement already satisfied: networkx in /usr/local/lib/python3.10/dist-packages (from torch->torchviz) (3.3)\r\n",
      "Requirement already satisfied: jinja2 in /usr/local/lib/python3.10/dist-packages (from torch->torchviz) (3.1.4)\r\n",
      "Requirement already satisfied: fsspec in /usr/local/lib/python3.10/dist-packages (from torch->torchviz) (2024.6.1)\r\n",
      "Requirement already satisfied: MarkupSafe>=2.0 in /usr/local/lib/python3.10/dist-packages (from jinja2->torch->torchviz) (2.1.5)\r\n",
      "Requirement already satisfied: mpmath<1.4,>=1.1.0 in /usr/local/lib/python3.10/dist-packages (from sympy->torch->torchviz) (1.3.0)\r\n",
      "Downloading torchviz-0.0.3-py3-none-any.whl (5.7 kB)\r\n",
      "Installing collected packages: torchviz\r\n",
      "Successfully installed torchviz-0.0.3\r\n"
     ]
    }
   ],
   "source": [
    "!pip install torchviz"
   ]
  },
  {
   "cell_type": "code",
   "execution_count": 17,
   "id": "5b5c31f9",
   "metadata": {
    "execution": {
     "iopub.execute_input": "2025-01-26T15:10:58.167734Z",
     "iopub.status.busy": "2025-01-26T15:10:58.167430Z",
     "iopub.status.idle": "2025-01-26T15:11:06.203986Z",
     "shell.execute_reply": "2025-01-26T15:11:06.203095Z"
    },
    "papermill": {
     "duration": 8.048781,
     "end_time": "2025-01-26T15:11:06.205569",
     "exception": false,
     "start_time": "2025-01-26T15:10:58.156788",
     "status": "completed"
    },
    "tags": []
   },
   "outputs": [],
   "source": [
    "import torch\n",
    "from torch.utils.data import Dataset, DataLoader\n",
    "import torchvision\n",
    "import torch.nn as nn \n",
    "from torch.utils.data import random_split\n",
    "import math\n",
    "from torchviz import make_dot\n",
    "from IPython.display import Image"
   ]
  },
  {
   "cell_type": "code",
   "execution_count": 18,
   "id": "7cfc6358",
   "metadata": {
    "execution": {
     "iopub.execute_input": "2025-01-26T15:11:06.227151Z",
     "iopub.status.busy": "2025-01-26T15:11:06.226775Z",
     "iopub.status.idle": "2025-01-26T15:11:06.242695Z",
     "shell.execute_reply": "2025-01-26T15:11:06.242077Z"
    },
    "papermill": {
     "duration": 0.027946,
     "end_time": "2025-01-26T15:11:06.243969",
     "exception": false,
     "start_time": "2025-01-26T15:11:06.216023",
     "status": "completed"
    },
    "tags": []
   },
   "outputs": [],
   "source": [
    "torch.manual_seed(42); # seed rng for reproducibility"
   ]
  },
  {
   "cell_type": "code",
   "execution_count": 19,
   "id": "86d11071",
   "metadata": {
    "execution": {
     "iopub.execute_input": "2025-01-26T15:11:06.264658Z",
     "iopub.status.busy": "2025-01-26T15:11:06.264441Z",
     "iopub.status.idle": "2025-01-26T15:11:06.269156Z",
     "shell.execute_reply": "2025-01-26T15:11:06.268579Z"
    },
    "papermill": {
     "duration": 0.016208,
     "end_time": "2025-01-26T15:11:06.270209",
     "exception": false,
     "start_time": "2025-01-26T15:11:06.254001",
     "status": "completed"
    },
    "tags": []
   },
   "outputs": [],
   "source": [
    "class CSVDataset(Dataset):\n",
    "    def __init__(self, csv_path, features_col_list, target_col_list, transform=None, dropNa=False):\n",
    "        # data loading\n",
    "        self.features_col_list = features_col_list\n",
    "        self.target_col_list = target_col_list\n",
    "        self.data = pd.read_csv(csv_path, index_col=0)\n",
    "        self.transform = transform\n",
    "\n",
    "        if (dropNa):\n",
    "            self.data = self.data.dropna(subset=features_col_list)\n",
    "\n",
    "    def __getitem__(self, index):\n",
    "        x = self.data.iloc[index][self.features_col_list]  # Features}\n",
    "        y = self.data.iloc[index][self.target_col_list]  # Target\n",
    "\n",
    "        # Apply transformations if specified\n",
    "        if self.transform:\n",
    "            x, y = self.transform((x,y))\n",
    "\n",
    "        return torch.tensor(x, dtype=torch.float32), torch.tensor(y, dtype=torch.float32)\n",
    "\n",
    "    def __len__(self):\n",
    "        # allow us to use len(dataset)\n",
    "        return len(self.data)"
   ]
  },
  {
   "cell_type": "code",
   "execution_count": 20,
   "id": "bdc4985c",
   "metadata": {
    "execution": {
     "iopub.execute_input": "2025-01-26T15:11:06.290763Z",
     "iopub.status.busy": "2025-01-26T15:11:06.290530Z",
     "iopub.status.idle": "2025-01-26T15:11:06.294811Z",
     "shell.execute_reply": "2025-01-26T15:11:06.294045Z"
    },
    "papermill": {
     "duration": 0.01602,
     "end_time": "2025-01-26T15:11:06.296105",
     "exception": false,
     "start_time": "2025-01-26T15:11:06.280085",
     "status": "completed"
    },
    "tags": []
   },
   "outputs": [],
   "source": [
    "class SexToNum():\n",
    "    def __call__(self, sample):\n",
    "        inputs, targets = sample\n",
    "\n",
    "        if (inputs[\"Sex\"] == \"male\"):\n",
    "            inputs[\"Sex\"] = 0\n",
    "        else:\n",
    "            inputs[\"Sex\"] = 1\n",
    "\n",
    "        return (inputs, targets)\n",
    "\n",
    "class ConvertNumpyArrToFloat32():\n",
    "    def __call__(self, sample):\n",
    "        inputs, targets = sample\n",
    "        inputs = (inputs.values).astype(np.float32)\n",
    "        targets = (targets.values).astype(np.float32)\n",
    "        return (inputs, targets)"
   ]
  },
  {
   "cell_type": "code",
   "execution_count": 21,
   "id": "ca1baefd",
   "metadata": {
    "execution": {
     "iopub.execute_input": "2025-01-26T15:11:06.317386Z",
     "iopub.status.busy": "2025-01-26T15:11:06.317100Z",
     "iopub.status.idle": "2025-01-26T15:11:06.461615Z",
     "shell.execute_reply": "2025-01-26T15:11:06.460789Z"
    },
    "papermill": {
     "duration": 0.156848,
     "end_time": "2025-01-26T15:11:06.462945",
     "exception": false,
     "start_time": "2025-01-26T15:11:06.306097",
     "status": "completed"
    },
    "tags": []
   },
   "outputs": [
    {
     "data": {
      "text/plain": [
       "(tensor([0.]), tensor([0.]))"
      ]
     },
     "execution_count": 21,
     "metadata": {},
     "output_type": "execute_result"
    }
   ],
   "source": [
    "csv_file = \"/kaggle/input/titanic/train.csv\"\n",
    "features_col_list = [\"Sex\"]\n",
    "target_col_list = [\"Survived\"]\n",
    "\n",
    "transforms = torchvision.transforms.Compose([SexToNum(), ConvertNumpyArrToFloat32()])\n",
    "\n",
    "dataset = CSVDataset(csv_file, features_col_list, target_col_list, transform=transforms, dropNa=True)\n",
    "dataset[0]"
   ]
  },
  {
   "cell_type": "code",
   "execution_count": 22,
   "id": "b441b362",
   "metadata": {
    "execution": {
     "iopub.execute_input": "2025-01-26T15:11:06.484417Z",
     "iopub.status.busy": "2025-01-26T15:11:06.484162Z",
     "iopub.status.idle": "2025-01-26T15:11:06.488438Z",
     "shell.execute_reply": "2025-01-26T15:11:06.487658Z"
    },
    "papermill": {
     "duration": 0.016329,
     "end_time": "2025-01-26T15:11:06.489660",
     "exception": false,
     "start_time": "2025-01-26T15:11:06.473331",
     "status": "completed"
    },
    "tags": []
   },
   "outputs": [
    {
     "data": {
      "text/plain": [
       "891"
      ]
     },
     "execution_count": 22,
     "metadata": {},
     "output_type": "execute_result"
    }
   ],
   "source": [
    "len(dataset)"
   ]
  },
  {
   "cell_type": "code",
   "execution_count": 23,
   "id": "eb019761",
   "metadata": {
    "execution": {
     "iopub.execute_input": "2025-01-26T15:11:06.510509Z",
     "iopub.status.busy": "2025-01-26T15:11:06.510253Z",
     "iopub.status.idle": "2025-01-26T15:11:06.526318Z",
     "shell.execute_reply": "2025-01-26T15:11:06.525544Z"
    },
    "papermill": {
     "duration": 0.027787,
     "end_time": "2025-01-26T15:11:06.527572",
     "exception": false,
     "start_time": "2025-01-26T15:11:06.499785",
     "status": "completed"
    },
    "tags": []
   },
   "outputs": [],
   "source": [
    "# Define split ratios\n",
    "train_size = int(0.8 * len(dataset))  # 80% for training\n",
    "val_size = int(0.1 * len(dataset))    # 10% for validation\n",
    "test_size = len(dataset) - train_size - val_size  # Remaining for testing\n",
    "\n",
    "# Split dataset\n",
    "train_dataset, val_dataset, test_dataset = random_split(dataset, [train_size, val_size, test_size])"
   ]
  },
  {
   "cell_type": "code",
   "execution_count": 24,
   "id": "317556df",
   "metadata": {
    "execution": {
     "iopub.execute_input": "2025-01-26T15:11:06.549341Z",
     "iopub.status.busy": "2025-01-26T15:11:06.549084Z",
     "iopub.status.idle": "2025-01-26T15:11:06.552859Z",
     "shell.execute_reply": "2025-01-26T15:11:06.552079Z"
    },
    "papermill": {
     "duration": 0.015567,
     "end_time": "2025-01-26T15:11:06.554123",
     "exception": false,
     "start_time": "2025-01-26T15:11:06.538556",
     "status": "completed"
    },
    "tags": []
   },
   "outputs": [],
   "source": [
    "# Define batch size\n",
    "# since we have less data\n",
    "batch_size = 16\n",
    "\n",
    "# Create DataLoaders\n",
    "train_loader = DataLoader(train_dataset, batch_size=batch_size, shuffle=False)\n",
    "val_loader = DataLoader(val_dataset, batch_size=batch_size, shuffle=False)\n",
    "test_loader = DataLoader(test_dataset, batch_size=batch_size, shuffle=False)"
   ]
  },
  {
   "cell_type": "code",
   "execution_count": 25,
   "id": "d71f855d",
   "metadata": {
    "execution": {
     "iopub.execute_input": "2025-01-26T15:11:06.575385Z",
     "iopub.status.busy": "2025-01-26T15:11:06.575106Z",
     "iopub.status.idle": "2025-01-26T15:11:06.655970Z",
     "shell.execute_reply": "2025-01-26T15:11:06.655203Z"
    },
    "papermill": {
     "duration": 0.092696,
     "end_time": "2025-01-26T15:11:06.657126",
     "exception": false,
     "start_time": "2025-01-26T15:11:06.564430",
     "status": "completed"
    },
    "tags": []
   },
   "outputs": [
    {
     "name": "stdout",
     "output_type": "stream",
     "text": [
      "Using device: cuda\n"
     ]
    }
   ],
   "source": [
    "device = torch.device(\"cuda\" if torch.cuda.is_available() else \"cpu\")\n",
    "print(f\"Using device: {device}\")"
   ]
  },
  {
   "cell_type": "code",
   "execution_count": 26,
   "id": "cd0d032f",
   "metadata": {
    "execution": {
     "iopub.execute_input": "2025-01-26T15:11:06.679188Z",
     "iopub.status.busy": "2025-01-26T15:11:06.678963Z",
     "iopub.status.idle": "2025-01-26T15:11:06.695824Z",
     "shell.execute_reply": "2025-01-26T15:11:06.695033Z"
    },
    "papermill": {
     "duration": 0.028905,
     "end_time": "2025-01-26T15:11:06.696995",
     "exception": false,
     "start_time": "2025-01-26T15:11:06.668090",
     "status": "completed"
    },
    "tags": []
   },
   "outputs": [],
   "source": [
    "# not correctly init\n",
    "hidden_neuron = 128\n",
    "debug = True\n",
    "\n",
    "class LinearLayer(nn.Linear):\n",
    "    def __init__(self, *args, **kwargs):\n",
    "        # Call the parent constructor to initialize the Linear layer\n",
    "        super().__init__(*args, **kwargs)\n",
    "        \n",
    "    def forward(self, x):\n",
    "        self.output = super().forward(x)\n",
    "        return self.output\n",
    "\n",
    "class ReLuLayer(nn.ReLU):\n",
    "    def __init__(self, *args, **kwargs):\n",
    "        # Call the parent constructor to initialize the Linear layer\n",
    "        super().__init__(*args, **kwargs)\n",
    "        \n",
    "    def forward(self, x):\n",
    "        self.output = super().forward(x)\n",
    "        return self.output\n",
    "\n",
    "class TitanicSurvivalPredictor(nn.Module):\n",
    "    def __init__(self, hidden_neuron):\n",
    "        super().__init__()\n",
    "\n",
    "        # define layers\n",
    "        self.layers = nn.ModuleList([\n",
    "            LinearLayer(1, hidden_neuron),\n",
    "            ReLuLayer(),\n",
    "            LinearLayer(hidden_neuron, 1),\n",
    "        ])\n",
    "        \n",
    "    def forward(self, x):\n",
    "        for layer in self.layers:\n",
    "            x = layer(x)\n",
    "        return x\n",
    "\n",
    "    def parameters(self):\n",
    "        return [p for layer in self.layers for p in layer.parameters()]\n",
    "\n",
    "model = TitanicSurvivalPredictor(hidden_neuron)"
   ]
  },
  {
   "cell_type": "code",
   "execution_count": 27,
   "id": "d5bcaa6a",
   "metadata": {
    "execution": {
     "iopub.execute_input": "2025-01-26T15:11:06.718089Z",
     "iopub.status.busy": "2025-01-26T15:11:06.717863Z",
     "iopub.status.idle": "2025-01-26T15:11:06.749026Z",
     "shell.execute_reply": "2025-01-26T15:11:06.748244Z"
    },
    "papermill": {
     "duration": 0.042905,
     "end_time": "2025-01-26T15:11:06.750237",
     "exception": false,
     "start_time": "2025-01-26T15:11:06.707332",
     "status": "completed"
    },
    "tags": []
   },
   "outputs": [],
   "source": [
    "bce_loss = nn.BCEWithLogitsLoss()\n",
    "\n",
    "first_batch_input = None\n",
    "first_batch_label = None\n",
    "for inputs, labels in train_loader:\n",
    "    first_batch_input = inputs\n",
    "    first_batch_label = labels\n",
    "    break"
   ]
  },
  {
   "cell_type": "code",
   "execution_count": 28,
   "id": "2192faf8",
   "metadata": {
    "execution": {
     "iopub.execute_input": "2025-01-26T15:11:06.771764Z",
     "iopub.status.busy": "2025-01-26T15:11:06.771514Z",
     "iopub.status.idle": "2025-01-26T15:11:06.846466Z",
     "shell.execute_reply": "2025-01-26T15:11:06.845634Z"
    },
    "papermill": {
     "duration": 0.087347,
     "end_time": "2025-01-26T15:11:06.847689",
     "exception": false,
     "start_time": "2025-01-26T15:11:06.760342",
     "status": "completed"
    },
    "tags": []
   },
   "outputs": [
    {
     "name": "stdout",
     "output_type": "stream",
     "text": [
      "init loss: 0.6949284076690674\n"
     ]
    }
   ],
   "source": [
    "first_batch_pred_logits = model(first_batch_input)\n",
    "first_batch_pred_prob = torch.sigmoid(first_batch_pred_logits)  # Apply sigmoid for binary classification\n",
    "loss = bce_loss(first_batch_pred_prob, first_batch_label)\n",
    "print(f\"init loss: {loss.item()}\")"
   ]
  },
  {
   "cell_type": "code",
   "execution_count": 29,
   "id": "29e7b8e9",
   "metadata": {
    "execution": {
     "iopub.execute_input": "2025-01-26T15:11:06.869039Z",
     "iopub.status.busy": "2025-01-26T15:11:06.868834Z",
     "iopub.status.idle": "2025-01-26T15:11:06.875575Z",
     "shell.execute_reply": "2025-01-26T15:11:06.874776Z"
    },
    "papermill": {
     "duration": 0.018582,
     "end_time": "2025-01-26T15:11:06.876759",
     "exception": false,
     "start_time": "2025-01-26T15:11:06.858177",
     "status": "completed"
    },
    "tags": []
   },
   "outputs": [],
   "source": [
    "def initParam(model):\n",
    "    # Initialize weights using Xavier Normal\n",
    "    for i, layer in enumerate(model.layers):\n",
    "        if (isinstance(layer, LinearLayer)):\n",
    "            if (i<len(model.layers)-1):\n",
    "                nn.init.xavier_normal_(model.layers[i].weight, torch.nn.init.calculate_gain(\"relu\")) \n",
    "            else:\n",
    "                nn.init.xavier_normal_(model.layers[i].weight, torch.nn.init.calculate_gain(\"sigmoid\")) * 100\n",
    "            if layer.bias is not None:\n",
    "                nn.init.zeros_(model.layers[i].bias)\n",
    "\n",
    "initParam(model)"
   ]
  },
  {
   "cell_type": "code",
   "execution_count": 30,
   "id": "d8d8a3f3",
   "metadata": {
    "execution": {
     "iopub.execute_input": "2025-01-26T15:11:06.898073Z",
     "iopub.status.busy": "2025-01-26T15:11:06.897870Z",
     "iopub.status.idle": "2025-01-26T15:11:06.906432Z",
     "shell.execute_reply": "2025-01-26T15:11:06.905667Z"
    },
    "papermill": {
     "duration": 0.020822,
     "end_time": "2025-01-26T15:11:06.907766",
     "exception": false,
     "start_time": "2025-01-26T15:11:06.886944",
     "status": "completed"
    },
    "tags": []
   },
   "outputs": [
    {
     "name": "stdout",
     "output_type": "stream",
     "text": [
      "init loss: 0.6987965106964111\n"
     ]
    }
   ],
   "source": [
    "first_batch_pred_logits = model(first_batch_input)\n",
    "first_batch_pred_prob = torch.sigmoid(first_batch_pred_logits)  # Apply sigmoid for binary classification\n",
    "loss = bce_loss(first_batch_pred_prob, first_batch_label)\n",
    "print(f\"init loss: {loss.item()}\")"
   ]
  },
  {
   "cell_type": "code",
   "execution_count": 31,
   "id": "781d6836",
   "metadata": {
    "execution": {
     "iopub.execute_input": "2025-01-26T15:11:06.928762Z",
     "iopub.status.busy": "2025-01-26T15:11:06.928550Z",
     "iopub.status.idle": "2025-01-26T15:11:06.932173Z",
     "shell.execute_reply": "2025-01-26T15:11:06.931430Z"
    },
    "papermill": {
     "duration": 0.015461,
     "end_time": "2025-01-26T15:11:06.933509",
     "exception": false,
     "start_time": "2025-01-26T15:11:06.918048",
     "status": "completed"
    },
    "tags": []
   },
   "outputs": [
    {
     "name": "stdout",
     "output_type": "stream",
     "text": [
      "True\n"
     ]
    }
   ],
   "source": [
    "print(torch.cuda.is_available())  # True if GPU is available, otherwise False"
   ]
  },
  {
   "cell_type": "code",
   "execution_count": 32,
   "id": "38bf253f",
   "metadata": {
    "execution": {
     "iopub.execute_input": "2025-01-26T15:11:06.954765Z",
     "iopub.status.busy": "2025-01-26T15:11:06.954553Z",
     "iopub.status.idle": "2025-01-26T15:12:37.100628Z",
     "shell.execute_reply": "2025-01-26T15:12:37.099597Z"
    },
    "papermill": {
     "duration": 90.169189,
     "end_time": "2025-01-26T15:12:37.112841",
     "exception": false,
     "start_time": "2025-01-26T15:11:06.943652",
     "status": "completed"
    },
    "tags": []
   },
   "outputs": [
    {
     "name": "stdout",
     "output_type": "stream",
     "text": [
      "Epoch 1000/1000, Train Loss: -0.0077, Val Loss: -0.0971\n"
     ]
    }
   ],
   "source": [
    "# less lr rate since can overfit easily\n",
    "learning_rate = 1e-3\n",
    "# less epoch as can easily overfit\n",
    "num_epoch = 1000\n",
    "\n",
    "lossi_train = []\n",
    "lossi_val = []\n",
    "\n",
    "total_samples = len(train_dataset)\n",
    "n_iter = math.ceil(total_samples / batch_size)\n",
    "\n",
    "optimizer = torch.optim.AdamW(model.parameters(), lr=learning_rate)\n",
    "bce_loss = nn.BCEWithLogitsLoss()\n",
    "output_grads = []\n",
    "\n",
    "model = model.to(device)\n",
    "\n",
    "runFirstBatch = False\n",
    "for epoch in range(num_epoch):\n",
    "    train_loss = 0    \n",
    "    for i, (inputs, labels) in enumerate(train_loader):        \n",
    "        # forward pass\n",
    "        # print(f\"inputs: {inputs}\")\n",
    "        # print(f\"labels: {labels}\")\n",
    "        inputs = inputs.to(device)\n",
    "        labels = labels.to(device)\n",
    "\n",
    "        # print(f\"inputs device: {inputs.device}, labels device: {labels.device}, model device: {[param.device for param in model.parameters()]}\")\n",
    "\n",
    "        # reset grad\n",
    "        optimizer.zero_grad()\n",
    "        \n",
    "        pred = model(inputs)\n",
    "        # print(f\"pred: {pred}\")\n",
    "\n",
    "        # calc loss\n",
    "        loss = bce_loss(pred, labels)\n",
    "\n",
    "        if (debug):\n",
    "            for layer in model.layers:\n",
    "                layer.output.retain_grad() # save gradients of non leaf tensors also\n",
    "        \n",
    "        # backward pass\n",
    "        loss.backward()\n",
    "        optimizer.step()\n",
    "\n",
    "        loss = loss.log10()\n",
    "        train_loss += loss.item()\n",
    "\n",
    "        if (debug):\n",
    "             break\n",
    "\n",
    "    # copied it to array since running with no grad will set grad to None\n",
    "    if (debug):\n",
    "        curr_grads = {}\n",
    "        for i, layer in enumerate(model.layers):\n",
    "            curr_grads[f\"{layer.__class__.__name__}: {i}\"] = layer.output.grad.clone()\n",
    "\n",
    "        output_grads.append(curr_grads)\n",
    "    \n",
    "    train_loss /= len(train_loader)\n",
    "    lossi_train.append(train_loss)\n",
    "\n",
    "    # validation phase\n",
    "    model.eval()\n",
    "    with torch.no_grad():  # Disable gradient computation for validation\n",
    "        val_loss = 0\n",
    "        \n",
    "        for inputs, labels in val_loader:\n",
    "            inputs = inputs.to(device)\n",
    "            labels = labels.to(device)\n",
    "            \n",
    "            pred = model(inputs)\n",
    "            \n",
    "            loss = bce_loss(pred, labels)\n",
    "            loss = loss.log10()\n",
    "            val_loss += loss.item()\n",
    "        \n",
    "        val_loss /= len(val_loader)\n",
    "        lossi_val.append(val_loss)\n",
    "        \n",
    "\n",
    "    # reset to train mode\n",
    "    model.train()\n",
    "\n",
    "    if ((epoch+1)%1000==0):\n",
    "        print(f\"Epoch {epoch+1}/{num_epoch}, Train Loss: {train_loss:.4f}, Val Loss: {val_loss:.4f}\")\n",
    "\n",
    "    # if (debug):\n",
    "        # break"
   ]
  },
  {
   "cell_type": "code",
   "execution_count": 33,
   "id": "909a8ab2",
   "metadata": {
    "execution": {
     "iopub.execute_input": "2025-01-26T15:12:37.135950Z",
     "iopub.status.busy": "2025-01-26T15:12:37.135700Z",
     "iopub.status.idle": "2025-01-26T15:12:37.394825Z",
     "shell.execute_reply": "2025-01-26T15:12:37.393775Z"
    },
    "papermill": {
     "duration": 0.272265,
     "end_time": "2025-01-26T15:12:37.396454",
     "exception": false,
     "start_time": "2025-01-26T15:12:37.124189",
     "status": "completed"
    },
    "tags": []
   },
   "outputs": [
    {
     "data": {
      "text/plain": [
       "[<matplotlib.lines.Line2D at 0x7da6d0114b20>]"
      ]
     },
     "execution_count": 33,
     "metadata": {},
     "output_type": "execute_result"
    },
    {
     "data": {
      "image/png": "[encoded data removed]",
      "text/plain": [
       "<Figure size 640x480 with 1 Axes>"
      ]
     },
     "metadata": {},
     "output_type": "display_data"
    }
   ],
   "source": [
    "plt.plot(lossi_train, color=\"blue\")\n",
    "plt.plot(lossi_val, color=\"red\")"
   ]
  },
  {
   "cell_type": "code",
   "execution_count": 34,
   "id": "9704fd50",
   "metadata": {
    "execution": {
     "iopub.execute_input": "2025-01-26T15:12:37.428628Z",
     "iopub.status.busy": "2025-01-26T15:12:37.428194Z",
     "iopub.status.idle": "2025-01-26T15:12:37.775680Z",
     "shell.execute_reply": "2025-01-26T15:12:37.774851Z"
    },
    "papermill": {
     "duration": 0.36464,
     "end_time": "2025-01-26T15:12:37.777020",
     "exception": false,
     "start_time": "2025-01-26T15:12:37.412380",
     "status": "completed"
    },
    "tags": []
   },
   "outputs": [
    {
     "name": "stdout",
     "output_type": "stream",
     "text": [
      "layer 0 (LinearLayer): mean +0.01, std 0.15, saturated: 0.00%\n",
      "layer 1 ( ReLuLayer): mean +0.03, std 0.13, saturated: 0.00%\n",
      "layer 2 (LinearLayer): mean +0.93, std 2.92, saturated: 22.22%\n"
     ]
    },
    {
     "data": {
      "image/png": "[encoded data removed]",
      "text/plain": [
       "<Figure size 2000x400 with 1 Axes>"
      ]
     },
     "metadata": {},
     "output_type": "display_data"
    }
   ],
   "source": [
    "# visualize activations\n",
    "plt.figure(figsize=(20, 4))\n",
    "legends = []\n",
    "\n",
    "if (len(model.layers) > 1):\n",
    "    for i, layer in enumerate(model.layers): # exclude output layer\n",
    "        t = layer.output.cpu()\n",
    "        print('layer %d (%10s): mean %+.2f, std %.2f, saturated: %.2f%%' % (i, layer.__class__.__name__, t.mean(), t.std(), (t.abs() > 0.97).float().mean()*100))\n",
    "        hy, hx = torch.histogram(t, density=True)\n",
    "        plt.plot(hx[:-1].detach(), hy.detach())\n",
    "        legends.append(f'layer {i} ({layer.__class__.__name__})')\n",
    "    \n",
    "    plt.legend(legends)\n",
    "    plt.title(\"activation distribution\")"
   ]
  },
  {
   "cell_type": "code",
   "execution_count": 35,
   "id": "49cbcb6e",
   "metadata": {
    "execution": {
     "iopub.execute_input": "2025-01-26T15:12:37.801113Z",
     "iopub.status.busy": "2025-01-26T15:12:37.800868Z",
     "iopub.status.idle": "2025-01-26T15:12:38.125826Z",
     "shell.execute_reply": "2025-01-26T15:12:38.124829Z"
    },
    "papermill": {
     "duration": 0.338197,
     "end_time": "2025-01-26T15:12:38.127182",
     "exception": false,
     "start_time": "2025-01-26T15:12:37.788985",
     "status": "completed"
    },
    "tags": []
   },
   "outputs": [
    {
     "name": "stdout",
     "output_type": "stream",
     "text": [
      "layer (LinearLayer: 0): mean +0.000001, std 2.801899e-03\n",
      "layer (ReLuLayer: 1): mean +0.000011, std 5.676657e-03\n",
      "layer (LinearLayer: 2): mean +0.000126, std 2.574712e-02\n"
     ]
    },
    {
     "data": {
      "image/png": "[encoded data removed]",
      "text/plain": [
       "<Figure size 2000x400 with 1 Axes>"
      ]
     },
     "metadata": {},
     "output_type": "display_data"
    }
   ],
   "source": [
    "# visualize histograms\n",
    "plt.figure(figsize=(20, 4)) # width and height of the plot\n",
    "legends = []\n",
    "\n",
    "if (len(model.layers) > 1):\n",
    "    for layer_name, layer_grad in output_grads[-1].items(): # note: exclude the output layer\n",
    "        t = layer_grad.cpu()\n",
    "        print('layer (%10s): mean %+f, std %e' % (layer_name, t.mean(), t.std()))\n",
    "        hy, hx = torch.histogram(t, density=True)\n",
    "        plt.plot(hx[:-1].detach(), hy.detach())\n",
    "        legends.append(f'{layer_name}')\n",
    "\n",
    "    plt.legend(legends);\n",
    "    plt.title('gradient distribution')"
   ]
  },
  {
   "cell_type": "code",
   "execution_count": 36,
   "id": "6d08be7e",
   "metadata": {
    "execution": {
     "iopub.execute_input": "2025-01-26T15:12:38.152918Z",
     "iopub.status.busy": "2025-01-26T15:12:38.152660Z",
     "iopub.status.idle": "2025-01-26T15:12:38.309852Z",
     "shell.execute_reply": "2025-01-26T15:12:38.308988Z"
    },
    "papermill": {
     "duration": 0.171413,
     "end_time": "2025-01-26T15:12:38.311116",
     "exception": false,
     "start_time": "2025-01-26T15:12:38.139703",
     "status": "completed"
    },
    "tags": []
   },
   "outputs": [
    {
     "name": "stdout",
     "output_type": "stream",
     "text": [
      "Test Accuracy: 81.11%\n"
     ]
    }
   ],
   "source": [
    "model.eval()  # Set model to evaluation mode\n",
    "\n",
    "# Accuracy calculation\n",
    "correct = 0\n",
    "total = 0\n",
    "\n",
    "with torch.no_grad():  # Disable gradient calculation\n",
    "    for inputs, labels in test_loader:\n",
    "        inputs = inputs.to(device)\n",
    "        labels = labels.to(device)\n",
    "        \n",
    "        outputs = model(inputs)\n",
    "        predictions = torch.sigmoid(outputs)  # Apply sigmoid for binary classification\n",
    "        predicted_classes = (predictions > 0.5).float()  # Convert to binary (0 or 1)\n",
    "        correct += (predicted_classes == labels).sum().item()\n",
    "        total += labels.size(0)\n",
    "\n",
    "accuracy = correct / total\n",
    "print(f\"Test Accuracy: {accuracy * 100:.2f}%\")"
   ]
  },
  {
   "cell_type": "code",
   "execution_count": 37,
   "id": "1bf8aa11",
   "metadata": {
    "execution": {
     "iopub.execute_input": "2025-01-26T15:12:38.336618Z",
     "iopub.status.busy": "2025-01-26T15:12:38.336382Z",
     "iopub.status.idle": "2025-01-26T15:12:38.930150Z",
     "shell.execute_reply": "2025-01-26T15:12:38.929336Z"
    },
    "papermill": {
     "duration": 0.607657,
     "end_time": "2025-01-26T15:12:38.931405",
     "exception": false,
     "start_time": "2025-01-26T15:12:38.323748",
     "status": "completed"
    },
    "tags": []
   },
   "outputs": [
    {
     "name": "stdout",
     "output_type": "stream",
     "text": [
      "Train Accuracy: 77.67%\n"
     ]
    }
   ],
   "source": [
    "model.eval()  # Set model to evaluation mode\n",
    "\n",
    "# Accuracy calculation\n",
    "correct = 0\n",
    "total = 0\n",
    "\n",
    "with torch.no_grad():  # Disable gradient calculation\n",
    "    for inputs, labels in train_loader:\n",
    "        inputs = inputs.to(device)\n",
    "        labels = labels.to(device)\n",
    "        \n",
    "        outputs = model(inputs)\n",
    "        predictions = torch.sigmoid(outputs)  # Apply sigmoid for binary classification\n",
    "        predicted_classes = (predictions > 0.5).float()  # Convert to binary (0 or 1)\n",
    "        correct += (predicted_classes == labels).sum().item()\n",
    "        total += labels.size(0)\n",
    "\n",
    "accuracy = correct / total\n",
    "print(f\"Train Accuracy: {accuracy * 100:.2f}%\")"
   ]
  },
  {
   "cell_type": "markdown",
   "id": "f92b5564",
   "metadata": {
    "papermill": {
     "duration": 0.011922,
     "end_time": "2025-01-26T15:12:38.955751",
     "exception": false,
     "start_time": "2025-01-26T15:12:38.943829",
     "status": "completed"
    },
    "tags": []
   },
   "source": [
    "## Test"
   ]
  },
  {
   "cell_type": "code",
   "execution_count": 38,
   "id": "115924f4",
   "metadata": {
    "execution": {
     "iopub.execute_input": "2025-01-26T15:12:38.980992Z",
     "iopub.status.busy": "2025-01-26T15:12:38.980751Z",
     "iopub.status.idle": "2025-01-26T15:12:39.002063Z",
     "shell.execute_reply": "2025-01-26T15:12:39.001229Z"
    },
    "papermill": {
     "duration": 0.035497,
     "end_time": "2025-01-26T15:12:39.003497",
     "exception": false,
     "start_time": "2025-01-26T15:12:38.968000",
     "status": "completed"
    },
    "tags": []
   },
   "outputs": [
    {
     "data": {
      "text/html": [
       "<div>\n",
       "<style scoped>\n",
       "    .dataframe tbody tr th:only-of-type {\n",
       "        vertical-align: middle;\n",
       "    }\n",
       "\n",
       "    .dataframe tbody tr th {\n",
       "        vertical-align: top;\n",
       "    }\n",
       "\n",
       "    .dataframe thead th {\n",
       "        text-align: right;\n",
       "    }\n",
       "</style>\n",
       "<table border=\"1\" class=\"dataframe\">\n",
       "  <thead>\n",
       "    <tr style=\"text-align: right;\">\n",
       "      <th></th>\n",
       "      <th>PassengerId</th>\n",
       "      <th>Pclass</th>\n",
       "      <th>Name</th>\n",
       "      <th>Sex</th>\n",
       "      <th>Age</th>\n",
       "      <th>SibSp</th>\n",
       "      <th>Parch</th>\n",
       "      <th>Ticket</th>\n",
       "      <th>Fare</th>\n",
       "      <th>Cabin</th>\n",
       "      <th>Embarked</th>\n",
       "    </tr>\n",
       "  </thead>\n",
       "  <tbody>\n",
       "    <tr>\n",
       "      <th>0</th>\n",
       "      <td>892</td>\n",
       "      <td>3</td>\n",
       "      <td>Kelly, Mr. James</td>\n",
       "      <td>male</td>\n",
       "      <td>34.5</td>\n",
       "      <td>0</td>\n",
       "      <td>0</td>\n",
       "      <td>330911</td>\n",
       "      <td>7.8292</td>\n",
       "      <td>NaN</td>\n",
       "      <td>Q</td>\n",
       "    </tr>\n",
       "    <tr>\n",
       "      <th>1</th>\n",
       "      <td>893</td>\n",
       "      <td>3</td>\n",
       "      <td>Wilkes, Mrs. James (Ellen Needs)</td>\n",
       "      <td>female</td>\n",
       "      <td>47.0</td>\n",
       "      <td>1</td>\n",
       "      <td>0</td>\n",
       "      <td>363272</td>\n",
       "      <td>7.0000</td>\n",
       "      <td>NaN</td>\n",
       "      <td>S</td>\n",
       "    </tr>\n",
       "    <tr>\n",
       "      <th>2</th>\n",
       "      <td>894</td>\n",
       "      <td>2</td>\n",
       "      <td>Myles, Mr. Thomas Francis</td>\n",
       "      <td>male</td>\n",
       "      <td>62.0</td>\n",
       "      <td>0</td>\n",
       "      <td>0</td>\n",
       "      <td>240276</td>\n",
       "      <td>9.6875</td>\n",
       "      <td>NaN</td>\n",
       "      <td>Q</td>\n",
       "    </tr>\n",
       "    <tr>\n",
       "      <th>3</th>\n",
       "      <td>895</td>\n",
       "      <td>3</td>\n",
       "      <td>Wirz, Mr. Albert</td>\n",
       "      <td>male</td>\n",
       "      <td>27.0</td>\n",
       "      <td>0</td>\n",
       "      <td>0</td>\n",
       "      <td>315154</td>\n",
       "      <td>8.6625</td>\n",
       "      <td>NaN</td>\n",
       "      <td>S</td>\n",
       "    </tr>\n",
       "    <tr>\n",
       "      <th>4</th>\n",
       "      <td>896</td>\n",
       "      <td>3</td>\n",
       "      <td>Hirvonen, Mrs. Alexander (Helga E Lindqvist)</td>\n",
       "      <td>female</td>\n",
       "      <td>22.0</td>\n",
       "      <td>1</td>\n",
       "      <td>1</td>\n",
       "      <td>3101298</td>\n",
       "      <td>12.2875</td>\n",
       "      <td>NaN</td>\n",
       "      <td>S</td>\n",
       "    </tr>\n",
       "    <tr>\n",
       "      <th>5</th>\n",
       "      <td>897</td>\n",
       "      <td>3</td>\n",
       "      <td>Svensson, Mr. Johan Cervin</td>\n",
       "      <td>male</td>\n",
       "      <td>14.0</td>\n",
       "      <td>0</td>\n",
       "      <td>0</td>\n",
       "      <td>7538</td>\n",
       "      <td>9.2250</td>\n",
       "      <td>NaN</td>\n",
       "      <td>S</td>\n",
       "    </tr>\n",
       "    <tr>\n",
       "      <th>6</th>\n",
       "      <td>898</td>\n",
       "      <td>3</td>\n",
       "      <td>Connolly, Miss. Kate</td>\n",
       "      <td>female</td>\n",
       "      <td>30.0</td>\n",
       "      <td>0</td>\n",
       "      <td>0</td>\n",
       "      <td>330972</td>\n",
       "      <td>7.6292</td>\n",
       "      <td>NaN</td>\n",
       "      <td>Q</td>\n",
       "    </tr>\n",
       "    <tr>\n",
       "      <th>7</th>\n",
       "      <td>899</td>\n",
       "      <td>2</td>\n",
       "      <td>Caldwell, Mr. Albert Francis</td>\n",
       "      <td>male</td>\n",
       "      <td>26.0</td>\n",
       "      <td>1</td>\n",
       "      <td>1</td>\n",
       "      <td>248738</td>\n",
       "      <td>29.0000</td>\n",
       "      <td>NaN</td>\n",
       "      <td>S</td>\n",
       "    </tr>\n",
       "    <tr>\n",
       "      <th>8</th>\n",
       "      <td>900</td>\n",
       "      <td>3</td>\n",
       "      <td>Abrahim, Mrs. Joseph (Sophie Halaut Easu)</td>\n",
       "      <td>female</td>\n",
       "      <td>18.0</td>\n",
       "      <td>0</td>\n",
       "      <td>0</td>\n",
       "      <td>2657</td>\n",
       "      <td>7.2292</td>\n",
       "      <td>NaN</td>\n",
       "      <td>C</td>\n",
       "    </tr>\n",
       "    <tr>\n",
       "      <th>9</th>\n",
       "      <td>901</td>\n",
       "      <td>3</td>\n",
       "      <td>Davies, Mr. John Samuel</td>\n",
       "      <td>male</td>\n",
       "      <td>21.0</td>\n",
       "      <td>2</td>\n",
       "      <td>0</td>\n",
       "      <td>A/4 48871</td>\n",
       "      <td>24.1500</td>\n",
       "      <td>NaN</td>\n",
       "      <td>S</td>\n",
       "    </tr>\n",
       "  </tbody>\n",
       "</table>\n",
       "</div>"
      ],
      "text/plain": [
       "   PassengerId  Pclass                                          Name     Sex  \\\n",
       "0          892       3                              Kelly, Mr. James    male   \n",
       "1          893       3              Wilkes, Mrs. James (Ellen Needs)  female   \n",
       "2          894       2                     Myles, Mr. Thomas Francis    male   \n",
       "3          895       3                              Wirz, Mr. Albert    male   \n",
       "4          896       3  Hirvonen, Mrs. Alexander (Helga E Lindqvist)  female   \n",
       "5          897       3                    Svensson, Mr. Johan Cervin    male   \n",
       "6          898       3                          Connolly, Miss. Kate  female   \n",
       "7          899       2                  Caldwell, Mr. Albert Francis    male   \n",
       "8          900       3     Abrahim, Mrs. Joseph (Sophie Halaut Easu)  female   \n",
       "9          901       3                       Davies, Mr. John Samuel    male   \n",
       "\n",
       "    Age  SibSp  Parch     Ticket     Fare Cabin Embarked  \n",
       "0  34.5      0      0     330911   7.8292   NaN        Q  \n",
       "1  47.0      1      0     363272   7.0000   NaN        S  \n",
       "2  62.0      0      0     240276   9.6875   NaN        Q  \n",
       "3  27.0      0      0     315154   8.6625   NaN        S  \n",
       "4  22.0      1      1    3101298  12.2875   NaN        S  \n",
       "5  14.0      0      0       7538   9.2250   NaN        S  \n",
       "6  30.0      0      0     330972   7.6292   NaN        Q  \n",
       "7  26.0      1      1     248738  29.0000   NaN        S  \n",
       "8  18.0      0      0       2657   7.2292   NaN        C  \n",
       "9  21.0      2      0  A/4 48871  24.1500   NaN        S  "
      ]
     },
     "execution_count": 38,
     "metadata": {},
     "output_type": "execute_result"
    }
   ],
   "source": [
    "test_df = pd.read_csv(\"/kaggle/input/titanic/test.csv\")\n",
    "test_df.head(10)"
   ]
  },
  {
   "cell_type": "code",
   "execution_count": 39,
   "id": "886b4e77",
   "metadata": {
    "execution": {
     "iopub.execute_input": "2025-01-26T15:12:39.029562Z",
     "iopub.status.busy": "2025-01-26T15:12:39.029337Z",
     "iopub.status.idle": "2025-01-26T15:12:39.033472Z",
     "shell.execute_reply": "2025-01-26T15:12:39.032848Z"
    },
    "papermill": {
     "duration": 0.018203,
     "end_time": "2025-01-26T15:12:39.034802",
     "exception": false,
     "start_time": "2025-01-26T15:12:39.016599",
     "status": "completed"
    },
    "tags": []
   },
   "outputs": [
    {
     "data": {
      "text/plain": [
       "418"
      ]
     },
     "execution_count": 39,
     "metadata": {},
     "output_type": "execute_result"
    }
   ],
   "source": [
    "len(test_df)"
   ]
  },
  {
   "cell_type": "code",
   "execution_count": 40,
   "id": "43b37ddb",
   "metadata": {
    "execution": {
     "iopub.execute_input": "2025-01-26T15:12:39.060058Z",
     "iopub.status.busy": "2025-01-26T15:12:39.059811Z",
     "iopub.status.idle": "2025-01-26T15:12:39.071075Z",
     "shell.execute_reply": "2025-01-26T15:12:39.070315Z"
    },
    "papermill": {
     "duration": 0.025382,
     "end_time": "2025-01-26T15:12:39.072391",
     "exception": false,
     "start_time": "2025-01-26T15:12:39.047009",
     "status": "completed"
    },
    "tags": []
   },
   "outputs": [
    {
     "data": {
      "text/plain": [
       "(tensor([0.]), tensor([]))"
      ]
     },
     "execution_count": 40,
     "metadata": {},
     "output_type": "execute_result"
    }
   ],
   "source": [
    "csv_file = \"/kaggle/input/titanic/test.csv\"\n",
    "features_col_list = [\"Sex\"]\n",
    "target_col_list = []\n",
    "\n",
    "transforms = torchvision.transforms.Compose([SexToNum(), ConvertNumpyArrToFloat32()])\n",
    "\n",
    "final_test_dataset = CSVDataset(csv_file, features_col_list, target_col_list, transform=transforms, dropNa=True)\n",
    "final_test_dataset[0]"
   ]
  },
  {
   "cell_type": "code",
   "execution_count": 41,
   "id": "7642608f",
   "metadata": {
    "execution": {
     "iopub.execute_input": "2025-01-26T15:12:39.098504Z",
     "iopub.status.busy": "2025-01-26T15:12:39.098222Z",
     "iopub.status.idle": "2025-01-26T15:12:39.102734Z",
     "shell.execute_reply": "2025-01-26T15:12:39.101863Z"
    },
    "papermill": {
     "duration": 0.019106,
     "end_time": "2025-01-26T15:12:39.104033",
     "exception": false,
     "start_time": "2025-01-26T15:12:39.084927",
     "status": "completed"
    },
    "tags": []
   },
   "outputs": [
    {
     "data": {
      "text/plain": [
       "418"
      ]
     },
     "execution_count": 41,
     "metadata": {},
     "output_type": "execute_result"
    }
   ],
   "source": [
    "len(final_test_dataset)"
   ]
  },
  {
   "cell_type": "code",
   "execution_count": 42,
   "id": "6f52562e",
   "metadata": {
    "execution": {
     "iopub.execute_input": "2025-01-26T15:12:39.130483Z",
     "iopub.status.busy": "2025-01-26T15:12:39.130239Z",
     "iopub.status.idle": "2025-01-26T15:12:39.613035Z",
     "shell.execute_reply": "2025-01-26T15:12:39.612338Z"
    },
    "papermill": {
     "duration": 0.497225,
     "end_time": "2025-01-26T15:12:39.614575",
     "exception": false,
     "start_time": "2025-01-26T15:12:39.117350",
     "status": "completed"
    },
    "tags": []
   },
   "outputs": [],
   "source": [
    "final_test_loader = DataLoader(final_test_dataset, shuffle=False)\n",
    "\n",
    "pred = []\n",
    "with torch.no_grad():  # Disable gradient calculation\n",
    "    for inputs, labels in final_test_loader:\n",
    "        inputs = inputs.to(device)\n",
    "    \n",
    "        outputs = model(inputs)\n",
    "        predictions = torch.sigmoid(outputs)  # Apply sigmoid for binary classification\n",
    "        predicted_classes = (predictions > 0.5).float()  # Convert to binary (0 or 1)\n",
    "\n",
    "        pred.append(predicted_classes.item())"
   ]
  },
  {
   "cell_type": "code",
   "execution_count": 43,
   "id": "45f51484",
   "metadata": {
    "execution": {
     "iopub.execute_input": "2025-01-26T15:12:39.642425Z",
     "iopub.status.busy": "2025-01-26T15:12:39.642140Z",
     "iopub.status.idle": "2025-01-26T15:12:39.646597Z",
     "shell.execute_reply": "2025-01-26T15:12:39.645885Z"
    },
    "papermill": {
     "duration": 0.019249,
     "end_time": "2025-01-26T15:12:39.647809",
     "exception": false,
     "start_time": "2025-01-26T15:12:39.628560",
     "status": "completed"
    },
    "tags": []
   },
   "outputs": [
    {
     "data": {
      "text/plain": [
       "418"
      ]
     },
     "execution_count": 43,
     "metadata": {},
     "output_type": "execute_result"
    }
   ],
   "source": [
    "len(final_test_loader)"
   ]
  },
  {
   "cell_type": "code",
   "execution_count": 44,
   "id": "b7e91bd0",
   "metadata": {
    "execution": {
     "iopub.execute_input": "2025-01-26T15:12:39.673732Z",
     "iopub.status.busy": "2025-01-26T15:12:39.673504Z",
     "iopub.status.idle": "2025-01-26T15:12:39.681381Z",
     "shell.execute_reply": "2025-01-26T15:12:39.680589Z"
    },
    "papermill": {
     "duration": 0.022424,
     "end_time": "2025-01-26T15:12:39.682758",
     "exception": false,
     "start_time": "2025-01-26T15:12:39.660334",
     "status": "completed"
    },
    "tags": []
   },
   "outputs": [],
   "source": [
    "pred_df = pd.DataFrame(pred, columns=[\"Survived\"])\n",
    "pred_df[\"PassengerId\"] = test_df[\"PassengerId\"]\n",
    "pred_df.to_csv(\"pred.csv\", index=False)"
   ]
  },
  {
   "cell_type": "code",
   "execution_count": 45,
   "id": "a14113ec",
   "metadata": {
    "execution": {
     "iopub.execute_input": "2025-01-26T15:12:39.709317Z",
     "iopub.status.busy": "2025-01-26T15:12:39.709028Z",
     "iopub.status.idle": "2025-01-26T15:12:39.715919Z",
     "shell.execute_reply": "2025-01-26T15:12:39.715063Z"
    },
    "papermill": {
     "duration": 0.02154,
     "end_time": "2025-01-26T15:12:39.717162",
     "exception": false,
     "start_time": "2025-01-26T15:12:39.695622",
     "status": "completed"
    },
    "tags": []
   },
   "outputs": [
    {
     "data": {
      "text/html": [
       "<div>\n",
       "<style scoped>\n",
       "    .dataframe tbody tr th:only-of-type {\n",
       "        vertical-align: middle;\n",
       "    }\n",
       "\n",
       "    .dataframe tbody tr th {\n",
       "        vertical-align: top;\n",
       "    }\n",
       "\n",
       "    .dataframe thead th {\n",
       "        text-align: right;\n",
       "    }\n",
       "</style>\n",
       "<table border=\"1\" class=\"dataframe\">\n",
       "  <thead>\n",
       "    <tr style=\"text-align: right;\">\n",
       "      <th></th>\n",
       "      <th>Survived</th>\n",
       "      <th>PassengerId</th>\n",
       "    </tr>\n",
       "  </thead>\n",
       "  <tbody>\n",
       "    <tr>\n",
       "      <th>0</th>\n",
       "      <td>0.0</td>\n",
       "      <td>892</td>\n",
       "    </tr>\n",
       "    <tr>\n",
       "      <th>1</th>\n",
       "      <td>1.0</td>\n",
       "      <td>893</td>\n",
       "    </tr>\n",
       "    <tr>\n",
       "      <th>2</th>\n",
       "      <td>0.0</td>\n",
       "      <td>894</td>\n",
       "    </tr>\n",
       "    <tr>\n",
       "      <th>3</th>\n",
       "      <td>0.0</td>\n",
       "      <td>895</td>\n",
       "    </tr>\n",
       "    <tr>\n",
       "      <th>4</th>\n",
       "      <td>1.0</td>\n",
       "      <td>896</td>\n",
       "    </tr>\n",
       "  </tbody>\n",
       "</table>\n",
       "</div>"
      ],
      "text/plain": [
       "   Survived  PassengerId\n",
       "0       0.0          892\n",
       "1       1.0          893\n",
       "2       0.0          894\n",
       "3       0.0          895\n",
       "4       1.0          896"
      ]
     },
     "execution_count": 45,
     "metadata": {},
     "output_type": "execute_result"
    }
   ],
   "source": [
    "pred_df.head()"
   ]
  },
  {
   "cell_type": "code",
   "execution_count": null,
   "id": "2a655ba3",
   "metadata": {
    "papermill": {
     "duration": 0.012659,
     "end_time": "2025-01-26T15:12:39.743601",
     "exception": false,
     "start_time": "2025-01-26T15:12:39.730942",
     "status": "completed"
    },
    "tags": []
   },
   "outputs": [],
   "source": []
  }
 ],
 "metadata": {
  "kaggle": {
   "accelerator": "nvidiaTeslaT4",
   "dataSources": [
    {
     "databundleVersionId": 26502,
     "sourceId": 3136,
     "sourceType": "competition"
    }
   ],
   "dockerImageVersionId": 30822,
   "isGpuEnabled": true,
   "isInternetEnabled": true,
   "language": "python",
   "sourceType": "notebook"
  },
  "kernelspec": {
   "display_name": "Python 3",
   "language": "python",
   "name": "python3"
  },
  "language_info": {
   "codemirror_mode": {
    "name": "ipython",
    "version": 3
   },
   "file_extension": ".py",
   "mimetype": "text/x-python",
   "name": "python",
   "nbconvert_exporter": "python",
   "pygments_lexer": "ipython3",
   "version": "3.10.12"
  },
  "papermill": {
   "default_parameters": {},
   "duration": 117.239505,
   "end_time": "2025-01-26T15:12:41.578731",
   "environment_variables": {},
   "exception": null,
   "input_path": "__notebook__.ipynb",
   "output_path": "__notebook__.ipynb",
   "parameters": {},
   "start_time": "2025-01-26T15:10:44.339226",
   "version": "2.6.0"
  }
 },
 "nbformat": 4,
 "nbformat_minor": 5
}
