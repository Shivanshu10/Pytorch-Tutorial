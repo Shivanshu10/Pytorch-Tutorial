{
 "cells": [
  {
   "cell_type": "code",
   "execution_count": 1,
   "id": "bc63cb0a",
   "metadata": {
    "_cell_guid": "b1076dfc-b9ad-4769-8c92-a6c4dae69d19",
    "_uuid": "8f2839f25d086af736a60e9eeb907d3b93b6e0e5",
    "execution": {
     "iopub.execute_input": "2025-02-02T06:22:30.989333Z",
     "iopub.status.busy": "2025-02-02T06:22:30.989018Z",
     "iopub.status.idle": "2025-02-02T06:22:32.807013Z",
     "shell.execute_reply": "2025-02-02T06:22:32.806264Z"
    },
    "papermill": {
     "duration": 1.830024,
     "end_time": "2025-02-02T06:22:32.808493",
     "exception": false,
     "start_time": "2025-02-02T06:22:30.978469",
     "status": "completed"
    },
    "tags": []
   },
   "outputs": [
    {
     "name": "stdout",
     "output_type": "stream",
     "text": [
      "/kaggle/input/titanic/train.csv\n",
      "/kaggle/input/titanic/test.csv\n",
      "/kaggle/input/titanic/gender_submission.csv\n"
     ]
    }
   ],
   "source": [
    "import numpy as np\n",
    "import pandas as pd\n",
    "import seaborn as sns\n",
    "import matplotlib.pyplot as plt\n",
    "import os\n",
    "\n",
    "for dirname, _, filenames in os.walk('/kaggle/input'):\n",
    "    for filename in filenames:\n",
    "        print(os.path.join(dirname, filename))"
   ]
  },
  {
   "cell_type": "markdown",
   "id": "941f6774",
   "metadata": {
    "papermill": {
     "duration": 0.008018,
     "end_time": "2025-02-02T06:22:32.825269",
     "exception": false,
     "start_time": "2025-02-02T06:22:32.817251",
     "status": "completed"
    },
    "tags": []
   },
   "source": [
    "## Load Data"
   ]
  },
  {
   "cell_type": "code",
   "execution_count": 2,
   "id": "ce0434af",
   "metadata": {
    "execution": {
     "iopub.execute_input": "2025-02-02T06:22:32.842328Z",
     "iopub.status.busy": "2025-02-02T06:22:32.841989Z",
     "iopub.status.idle": "2025-02-02T06:22:32.892328Z",
     "shell.execute_reply": "2025-02-02T06:22:32.891535Z"
    },
    "papermill": {
     "duration": 0.060324,
     "end_time": "2025-02-02T06:22:32.893667",
     "exception": false,
     "start_time": "2025-02-02T06:22:32.833343",
     "status": "completed"
    },
    "tags": []
   },
   "outputs": [
    {
     "data": {
      "text/html": [
       "<div>\n",
       "<style scoped>\n",
       "    .dataframe tbody tr th:only-of-type {\n",
       "        vertical-align: middle;\n",
       "    }\n",
       "\n",
       "    .dataframe tbody tr th {\n",
       "        vertical-align: top;\n",
       "    }\n",
       "\n",
       "    .dataframe thead th {\n",
       "        text-align: right;\n",
       "    }\n",
       "</style>\n",
       "<table border=\"1\" class=\"dataframe\">\n",
       "  <thead>\n",
       "    <tr style=\"text-align: right;\">\n",
       "      <th></th>\n",
       "      <th>Survived</th>\n",
       "      <th>Pclass</th>\n",
       "      <th>Name</th>\n",
       "      <th>Sex</th>\n",
       "      <th>Age</th>\n",
       "      <th>SibSp</th>\n",
       "      <th>Parch</th>\n",
       "      <th>Ticket</th>\n",
       "      <th>Fare</th>\n",
       "      <th>Cabin</th>\n",
       "      <th>Embarked</th>\n",
       "    </tr>\n",
       "    <tr>\n",
       "      <th>PassengerId</th>\n",
       "      <th></th>\n",
       "      <th></th>\n",
       "      <th></th>\n",
       "      <th></th>\n",
       "      <th></th>\n",
       "      <th></th>\n",
       "      <th></th>\n",
       "      <th></th>\n",
       "      <th></th>\n",
       "      <th></th>\n",
       "      <th></th>\n",
       "    </tr>\n",
       "  </thead>\n",
       "  <tbody>\n",
       "    <tr>\n",
       "      <th>1</th>\n",
       "      <td>0</td>\n",
       "      <td>3</td>\n",
       "      <td>Braund, Mr. Owen Harris</td>\n",
       "      <td>male</td>\n",
       "      <td>22.0</td>\n",
       "      <td>1</td>\n",
       "      <td>0</td>\n",
       "      <td>A/5 21171</td>\n",
       "      <td>7.2500</td>\n",
       "      <td>NaN</td>\n",
       "      <td>S</td>\n",
       "    </tr>\n",
       "    <tr>\n",
       "      <th>2</th>\n",
       "      <td>1</td>\n",
       "      <td>1</td>\n",
       "      <td>Cumings, Mrs. John Bradley (Florence Briggs Th...</td>\n",
       "      <td>female</td>\n",
       "      <td>38.0</td>\n",
       "      <td>1</td>\n",
       "      <td>0</td>\n",
       "      <td>PC 17599</td>\n",
       "      <td>71.2833</td>\n",
       "      <td>C85</td>\n",
       "      <td>C</td>\n",
       "    </tr>\n",
       "    <tr>\n",
       "      <th>3</th>\n",
       "      <td>1</td>\n",
       "      <td>3</td>\n",
       "      <td>Heikkinen, Miss. Laina</td>\n",
       "      <td>female</td>\n",
       "      <td>26.0</td>\n",
       "      <td>0</td>\n",
       "      <td>0</td>\n",
       "      <td>STON/O2. 3101282</td>\n",
       "      <td>7.9250</td>\n",
       "      <td>NaN</td>\n",
       "      <td>S</td>\n",
       "    </tr>\n",
       "    <tr>\n",
       "      <th>4</th>\n",
       "      <td>1</td>\n",
       "      <td>1</td>\n",
       "      <td>Futrelle, Mrs. Jacques Heath (Lily May Peel)</td>\n",
       "      <td>female</td>\n",
       "      <td>35.0</td>\n",
       "      <td>1</td>\n",
       "      <td>0</td>\n",
       "      <td>113803</td>\n",
       "      <td>53.1000</td>\n",
       "      <td>C123</td>\n",
       "      <td>S</td>\n",
       "    </tr>\n",
       "    <tr>\n",
       "      <th>5</th>\n",
       "      <td>0</td>\n",
       "      <td>3</td>\n",
       "      <td>Allen, Mr. William Henry</td>\n",
       "      <td>male</td>\n",
       "      <td>35.0</td>\n",
       "      <td>0</td>\n",
       "      <td>0</td>\n",
       "      <td>373450</td>\n",
       "      <td>8.0500</td>\n",
       "      <td>NaN</td>\n",
       "      <td>S</td>\n",
       "    </tr>\n",
       "    <tr>\n",
       "      <th>6</th>\n",
       "      <td>0</td>\n",
       "      <td>3</td>\n",
       "      <td>Moran, Mr. James</td>\n",
       "      <td>male</td>\n",
       "      <td>NaN</td>\n",
       "      <td>0</td>\n",
       "      <td>0</td>\n",
       "      <td>330877</td>\n",
       "      <td>8.4583</td>\n",
       "      <td>NaN</td>\n",
       "      <td>Q</td>\n",
       "    </tr>\n",
       "    <tr>\n",
       "      <th>7</th>\n",
       "      <td>0</td>\n",
       "      <td>1</td>\n",
       "      <td>McCarthy, Mr. Timothy J</td>\n",
       "      <td>male</td>\n",
       "      <td>54.0</td>\n",
       "      <td>0</td>\n",
       "      <td>0</td>\n",
       "      <td>17463</td>\n",
       "      <td>51.8625</td>\n",
       "      <td>E46</td>\n",
       "      <td>S</td>\n",
       "    </tr>\n",
       "    <tr>\n",
       "      <th>8</th>\n",
       "      <td>0</td>\n",
       "      <td>3</td>\n",
       "      <td>Palsson, Master. Gosta Leonard</td>\n",
       "      <td>male</td>\n",
       "      <td>2.0</td>\n",
       "      <td>3</td>\n",
       "      <td>1</td>\n",
       "      <td>349909</td>\n",
       "      <td>21.0750</td>\n",
       "      <td>NaN</td>\n",
       "      <td>S</td>\n",
       "    </tr>\n",
       "    <tr>\n",
       "      <th>9</th>\n",
       "      <td>1</td>\n",
       "      <td>3</td>\n",
       "      <td>Johnson, Mrs. Oscar W (Elisabeth Vilhelmina Berg)</td>\n",
       "      <td>female</td>\n",
       "      <td>27.0</td>\n",
       "      <td>0</td>\n",
       "      <td>2</td>\n",
       "      <td>347742</td>\n",
       "      <td>11.1333</td>\n",
       "      <td>NaN</td>\n",
       "      <td>S</td>\n",
       "    </tr>\n",
       "    <tr>\n",
       "      <th>10</th>\n",
       "      <td>1</td>\n",
       "      <td>2</td>\n",
       "      <td>Nasser, Mrs. Nicholas (Adele Achem)</td>\n",
       "      <td>female</td>\n",
       "      <td>14.0</td>\n",
       "      <td>1</td>\n",
       "      <td>0</td>\n",
       "      <td>237736</td>\n",
       "      <td>30.0708</td>\n",
       "      <td>NaN</td>\n",
       "      <td>C</td>\n",
       "    </tr>\n",
       "  </tbody>\n",
       "</table>\n",
       "</div>"
      ],
      "text/plain": [
       "             Survived  Pclass  \\\n",
       "PassengerId                     \n",
       "1                   0       3   \n",
       "2                   1       1   \n",
       "3                   1       3   \n",
       "4                   1       1   \n",
       "5                   0       3   \n",
       "6                   0       3   \n",
       "7                   0       1   \n",
       "8                   0       3   \n",
       "9                   1       3   \n",
       "10                  1       2   \n",
       "\n",
       "                                                          Name     Sex   Age  \\\n",
       "PassengerId                                                                    \n",
       "1                                      Braund, Mr. Owen Harris    male  22.0   \n",
       "2            Cumings, Mrs. John Bradley (Florence Briggs Th...  female  38.0   \n",
       "3                                       Heikkinen, Miss. Laina  female  26.0   \n",
       "4                 Futrelle, Mrs. Jacques Heath (Lily May Peel)  female  35.0   \n",
       "5                                     Allen, Mr. William Henry    male  35.0   \n",
       "6                                             Moran, Mr. James    male   NaN   \n",
       "7                                      McCarthy, Mr. Timothy J    male  54.0   \n",
       "8                               Palsson, Master. Gosta Leonard    male   2.0   \n",
       "9            Johnson, Mrs. Oscar W (Elisabeth Vilhelmina Berg)  female  27.0   \n",
       "10                         Nasser, Mrs. Nicholas (Adele Achem)  female  14.0   \n",
       "\n",
       "             SibSp  Parch            Ticket     Fare Cabin Embarked  \n",
       "PassengerId                                                          \n",
       "1                1      0         A/5 21171   7.2500   NaN        S  \n",
       "2                1      0          PC 17599  71.2833   C85        C  \n",
       "3                0      0  STON/O2. 3101282   7.9250   NaN        S  \n",
       "4                1      0            113803  53.1000  C123        S  \n",
       "5                0      0            373450   8.0500   NaN        S  \n",
       "6                0      0            330877   8.4583   NaN        Q  \n",
       "7                0      0             17463  51.8625   E46        S  \n",
       "8                3      1            349909  21.0750   NaN        S  \n",
       "9                0      2            347742  11.1333   NaN        S  \n",
       "10               1      0            237736  30.0708   NaN        C  "
      ]
     },
     "execution_count": 2,
     "metadata": {},
     "output_type": "execute_result"
    }
   ],
   "source": [
    "train_df = pd.read_csv(\"/kaggle/input/titanic/train.csv\", index_col=0)\n",
    "train_df.head(10)"
   ]
  },
  {
   "cell_type": "code",
   "execution_count": 3,
   "id": "815e71e4",
   "metadata": {
    "execution": {
     "iopub.execute_input": "2025-02-02T06:22:32.912908Z",
     "iopub.status.busy": "2025-02-02T06:22:32.912691Z",
     "iopub.status.idle": "2025-02-02T06:22:32.917034Z",
     "shell.execute_reply": "2025-02-02T06:22:32.916363Z"
    },
    "papermill": {
     "duration": 0.015233,
     "end_time": "2025-02-02T06:22:32.918334",
     "exception": false,
     "start_time": "2025-02-02T06:22:32.903101",
     "status": "completed"
    },
    "tags": []
   },
   "outputs": [
    {
     "data": {
      "text/plain": [
       "891"
      ]
     },
     "execution_count": 3,
     "metadata": {},
     "output_type": "execute_result"
    }
   ],
   "source": [
    "len(train_df)"
   ]
  },
  {
   "cell_type": "markdown",
   "id": "6bc4ee7f",
   "metadata": {
    "papermill": {
     "duration": 0.009055,
     "end_time": "2025-02-02T06:22:32.936323",
     "exception": false,
     "start_time": "2025-02-02T06:22:32.927268",
     "status": "completed"
    },
    "tags": []
   },
   "source": [
    "## Explore Data"
   ]
  },
  {
   "attachments": {
    "32b3126c-ecdb-46fc-86b2-f22ddf6e6809.png": {
     "image/png": "[encoded data removed]"
    }
   },
   "cell_type": "markdown",
   "id": "47979f99",
   "metadata": {
    "papermill": {
     "duration": 0.008427,
     "end_time": "2025-02-02T06:22:32.953515",
     "exception": false,
     "start_time": "2025-02-02T06:22:32.945088",
     "status": "completed"
    },
    "tags": []
   },
   "source": [
    "![image.png](attachment:32b3126c-ecdb-46fc-86b2-f22ddf6e6809.png)"
   ]
  },
  {
   "cell_type": "code",
   "execution_count": 4,
   "id": "095d1d10",
   "metadata": {
    "execution": {
     "iopub.execute_input": "2025-02-02T06:22:32.974525Z",
     "iopub.status.busy": "2025-02-02T06:22:32.974192Z",
     "iopub.status.idle": "2025-02-02T06:22:32.978811Z",
     "shell.execute_reply": "2025-02-02T06:22:32.978184Z"
    },
    "papermill": {
     "duration": 0.017717,
     "end_time": "2025-02-02T06:22:32.979917",
     "exception": false,
     "start_time": "2025-02-02T06:22:32.962200",
     "status": "completed"
    },
    "tags": []
   },
   "outputs": [
    {
     "data": {
      "text/plain": [
       "891"
      ]
     },
     "execution_count": 4,
     "metadata": {},
     "output_type": "execute_result"
    }
   ],
   "source": [
    "len(train_df)"
   ]
  },
  {
   "cell_type": "code",
   "execution_count": 5,
   "id": "eec0fa5c",
   "metadata": {
    "execution": {
     "iopub.execute_input": "2025-02-02T06:22:32.998036Z",
     "iopub.status.busy": "2025-02-02T06:22:32.997805Z",
     "iopub.status.idle": "2025-02-02T06:22:33.019597Z",
     "shell.execute_reply": "2025-02-02T06:22:33.018745Z"
    },
    "papermill": {
     "duration": 0.032061,
     "end_time": "2025-02-02T06:22:33.020802",
     "exception": false,
     "start_time": "2025-02-02T06:22:32.988741",
     "status": "completed"
    },
    "tags": []
   },
   "outputs": [
    {
     "data": {
      "text/html": [
       "<div>\n",
       "<style scoped>\n",
       "    .dataframe tbody tr th:only-of-type {\n",
       "        vertical-align: middle;\n",
       "    }\n",
       "\n",
       "    .dataframe tbody tr th {\n",
       "        vertical-align: top;\n",
       "    }\n",
       "\n",
       "    .dataframe thead th {\n",
       "        text-align: right;\n",
       "    }\n",
       "</style>\n",
       "<table border=\"1\" class=\"dataframe\">\n",
       "  <thead>\n",
       "    <tr style=\"text-align: right;\">\n",
       "      <th></th>\n",
       "      <th>Survived</th>\n",
       "      <th>Pclass</th>\n",
       "      <th>Age</th>\n",
       "      <th>SibSp</th>\n",
       "      <th>Parch</th>\n",
       "      <th>Fare</th>\n",
       "    </tr>\n",
       "  </thead>\n",
       "  <tbody>\n",
       "    <tr>\n",
       "      <th>count</th>\n",
       "      <td>891.000000</td>\n",
       "      <td>891.000000</td>\n",
       "      <td>714.000000</td>\n",
       "      <td>891.000000</td>\n",
       "      <td>891.000000</td>\n",
       "      <td>891.000000</td>\n",
       "    </tr>\n",
       "    <tr>\n",
       "      <th>mean</th>\n",
       "      <td>0.383838</td>\n",
       "      <td>2.308642</td>\n",
       "      <td>29.699118</td>\n",
       "      <td>0.523008</td>\n",
       "      <td>0.381594</td>\n",
       "      <td>32.204208</td>\n",
       "    </tr>\n",
       "    <tr>\n",
       "      <th>std</th>\n",
       "      <td>0.486592</td>\n",
       "      <td>0.836071</td>\n",
       "      <td>14.526497</td>\n",
       "      <td>1.102743</td>\n",
       "      <td>0.806057</td>\n",
       "      <td>49.693429</td>\n",
       "    </tr>\n",
       "    <tr>\n",
       "      <th>min</th>\n",
       "      <td>0.000000</td>\n",
       "      <td>1.000000</td>\n",
       "      <td>0.420000</td>\n",
       "      <td>0.000000</td>\n",
       "      <td>0.000000</td>\n",
       "      <td>0.000000</td>\n",
       "    </tr>\n",
       "    <tr>\n",
       "      <th>25%</th>\n",
       "      <td>0.000000</td>\n",
       "      <td>2.000000</td>\n",
       "      <td>20.125000</td>\n",
       "      <td>0.000000</td>\n",
       "      <td>0.000000</td>\n",
       "      <td>7.910400</td>\n",
       "    </tr>\n",
       "    <tr>\n",
       "      <th>50%</th>\n",
       "      <td>0.000000</td>\n",
       "      <td>3.000000</td>\n",
       "      <td>28.000000</td>\n",
       "      <td>0.000000</td>\n",
       "      <td>0.000000</td>\n",
       "      <td>14.454200</td>\n",
       "    </tr>\n",
       "    <tr>\n",
       "      <th>75%</th>\n",
       "      <td>1.000000</td>\n",
       "      <td>3.000000</td>\n",
       "      <td>38.000000</td>\n",
       "      <td>1.000000</td>\n",
       "      <td>0.000000</td>\n",
       "      <td>31.000000</td>\n",
       "    </tr>\n",
       "    <tr>\n",
       "      <th>max</th>\n",
       "      <td>1.000000</td>\n",
       "      <td>3.000000</td>\n",
       "      <td>80.000000</td>\n",
       "      <td>8.000000</td>\n",
       "      <td>6.000000</td>\n",
       "      <td>512.329200</td>\n",
       "    </tr>\n",
       "  </tbody>\n",
       "</table>\n",
       "</div>"
      ],
      "text/plain": [
       "         Survived      Pclass         Age       SibSp       Parch        Fare\n",
       "count  891.000000  891.000000  714.000000  891.000000  891.000000  891.000000\n",
       "mean     0.383838    2.308642   29.699118    0.523008    0.381594   32.204208\n",
       "std      0.486592    0.836071   14.526497    1.102743    0.806057   49.693429\n",
       "min      0.000000    1.000000    0.420000    0.000000    0.000000    0.000000\n",
       "25%      0.000000    2.000000   20.125000    0.000000    0.000000    7.910400\n",
       "50%      0.000000    3.000000   28.000000    0.000000    0.000000   14.454200\n",
       "75%      1.000000    3.000000   38.000000    1.000000    0.000000   31.000000\n",
       "max      1.000000    3.000000   80.000000    8.000000    6.000000  512.329200"
      ]
     },
     "execution_count": 5,
     "metadata": {},
     "output_type": "execute_result"
    }
   ],
   "source": [
    "train_df.describe()"
   ]
  },
  {
   "cell_type": "code",
   "execution_count": 6,
   "id": "dd58d5ef",
   "metadata": {
    "execution": {
     "iopub.execute_input": "2025-02-02T06:22:33.038875Z",
     "iopub.status.busy": "2025-02-02T06:22:33.038640Z",
     "iopub.status.idle": "2025-02-02T06:22:33.042700Z",
     "shell.execute_reply": "2025-02-02T06:22:33.041938Z"
    },
    "papermill": {
     "duration": 0.014431,
     "end_time": "2025-02-02T06:22:33.043990",
     "exception": false,
     "start_time": "2025-02-02T06:22:33.029559",
     "status": "completed"
    },
    "tags": []
   },
   "outputs": [
    {
     "name": "stdout",
     "output_type": "stream",
     "text": [
      "count of items to be dropped 177\n",
      "count of items left 714\n"
     ]
    }
   ],
   "source": [
    "# age has some null value\n",
    "# should we try dropping them for now?\n",
    "\n",
    "# count of rows that will be dropped\n",
    "print(f\"count of items to be dropped {len(train_df) - 714}\")\n",
    "\n",
    "# rows lefr\n",
    "print(f\"count of items left {len(train_df) - len(train_df) + 714}\")"
   ]
  },
  {
   "cell_type": "code",
   "execution_count": 7,
   "id": "8933ec97",
   "metadata": {
    "execution": {
     "iopub.execute_input": "2025-02-02T06:22:33.062288Z",
     "iopub.status.busy": "2025-02-02T06:22:33.062030Z",
     "iopub.status.idle": "2025-02-02T06:22:33.067647Z",
     "shell.execute_reply": "2025-02-02T06:22:33.066981Z"
    },
    "papermill": {
     "duration": 0.016003,
     "end_time": "2025-02-02T06:22:33.068914",
     "exception": false,
     "start_time": "2025-02-02T06:22:33.052911",
     "status": "completed"
    },
    "tags": []
   },
   "outputs": [
    {
     "data": {
      "text/plain": [
       "Survived      0\n",
       "Pclass        0\n",
       "Name          0\n",
       "Sex           0\n",
       "Age         177\n",
       "SibSp         0\n",
       "Parch         0\n",
       "Ticket        0\n",
       "Fare          0\n",
       "Cabin       687\n",
       "Embarked      2\n",
       "dtype: int64"
      ]
     },
     "execution_count": 7,
     "metadata": {},
     "output_type": "execute_result"
    }
   ],
   "source": [
    "train_df.isna().sum()"
   ]
  },
  {
   "cell_type": "code",
   "execution_count": 8,
   "id": "d6c289b1",
   "metadata": {
    "execution": {
     "iopub.execute_input": "2025-02-02T06:22:33.088003Z",
     "iopub.status.busy": "2025-02-02T06:22:33.087805Z",
     "iopub.status.idle": "2025-02-02T06:22:33.090725Z",
     "shell.execute_reply": "2025-02-02T06:22:33.089955Z"
    },
    "papermill": {
     "duration": 0.013218,
     "end_time": "2025-02-02T06:22:33.091839",
     "exception": false,
     "start_time": "2025-02-02T06:22:33.078621",
     "status": "completed"
    },
    "tags": []
   },
   "outputs": [],
   "source": [
    "# cabin has 687 nulls, i dont think we can learn anything using it though"
   ]
  },
  {
   "cell_type": "code",
   "execution_count": 9,
   "id": "d1203d52",
   "metadata": {
    "execution": {
     "iopub.execute_input": "2025-02-02T06:22:33.110913Z",
     "iopub.status.busy": "2025-02-02T06:22:33.110690Z",
     "iopub.status.idle": "2025-02-02T06:22:33.117188Z",
     "shell.execute_reply": "2025-02-02T06:22:33.116539Z"
    },
    "papermill": {
     "duration": 0.017799,
     "end_time": "2025-02-02T06:22:33.118469",
     "exception": false,
     "start_time": "2025-02-02T06:22:33.100670",
     "status": "completed"
    },
    "tags": []
   },
   "outputs": [
    {
     "data": {
      "text/plain": [
       "Survived\n",
       "0    549\n",
       "1    342\n",
       "Name: count, dtype: int64"
      ]
     },
     "execution_count": 9,
     "metadata": {},
     "output_type": "execute_result"
    }
   ],
   "source": [
    "# lets check balance now\n",
    "train_df[\"Survived\"].value_counts()"
   ]
  },
  {
   "cell_type": "code",
   "execution_count": 10,
   "id": "832635d2",
   "metadata": {
    "execution": {
     "iopub.execute_input": "2025-02-02T06:22:33.137657Z",
     "iopub.status.busy": "2025-02-02T06:22:33.137438Z",
     "iopub.status.idle": "2025-02-02T06:22:33.142796Z",
     "shell.execute_reply": "2025-02-02T06:22:33.141964Z"
    },
    "papermill": {
     "duration": 0.016495,
     "end_time": "2025-02-02T06:22:33.144029",
     "exception": false,
     "start_time": "2025-02-02T06:22:33.127534",
     "status": "completed"
    },
    "tags": []
   },
   "outputs": [
    {
     "name": "stdout",
     "output_type": "stream",
     "text": [
      "Survived\n",
      "0    61.616162\n",
      "1    38.383838\n",
      "Name: proportion, dtype: float64\n",
      "The dataset is balanced.\n"
     ]
    }
   ],
   "source": [
    "class_percentages = train_df[\"Survived\"].value_counts(normalize=True) * 100\n",
    "\n",
    "print(class_percentages)\n",
    "\n",
    "threshold = 70  # Adjust this as needed\n",
    "is_balanced = all(class_percentages < threshold)\n",
    "\n",
    "if is_balanced:\n",
    "    print(\"The dataset is balanced.\")\n",
    "else:\n",
    "    print(\"The dataset is imbalanced.\")"
   ]
  },
  {
   "cell_type": "code",
   "execution_count": 11,
   "id": "867d3e91",
   "metadata": {
    "execution": {
     "iopub.execute_input": "2025-02-02T06:22:33.163004Z",
     "iopub.status.busy": "2025-02-02T06:22:33.162794Z",
     "iopub.status.idle": "2025-02-02T06:22:33.165351Z",
     "shell.execute_reply": "2025-02-02T06:22:33.164789Z"
    },
    "papermill": {
     "duration": 0.013433,
     "end_time": "2025-02-02T06:22:33.166546",
     "exception": false,
     "start_time": "2025-02-02T06:22:33.153113",
     "status": "completed"
    },
    "tags": []
   },
   "outputs": [],
   "source": [
    "# so model can easily get 61% accuracy if it always predics 0\n",
    "# so this will be our basepoint"
   ]
  },
  {
   "cell_type": "code",
   "execution_count": 12,
   "id": "f32dc85f",
   "metadata": {
    "execution": {
     "iopub.execute_input": "2025-02-02T06:22:33.185409Z",
     "iopub.status.busy": "2025-02-02T06:22:33.185160Z",
     "iopub.status.idle": "2025-02-02T06:22:33.203866Z",
     "shell.execute_reply": "2025-02-02T06:22:33.203077Z"
    },
    "papermill": {
     "duration": 0.029571,
     "end_time": "2025-02-02T06:22:33.205043",
     "exception": false,
     "start_time": "2025-02-02T06:22:33.175472",
     "status": "completed"
    },
    "tags": []
   },
   "outputs": [
    {
     "name": "stdout",
     "output_type": "stream",
     "text": [
      "Column: Survived\n",
      "Outliers: 0\n",
      "Column: Pclass\n",
      "Outliers: 0\n",
      "Column: Age\n",
      "Outliers: 11\n",
      "Column: SibSp\n",
      "Outliers: 46\n",
      "Column: Parch\n",
      "Outliers: 213\n",
      "Column: Fare\n",
      "Outliers: 116\n"
     ]
    }
   ],
   "source": [
    "# check outliers\n",
    "# Identify outliers for each column\n",
    "for column in train_df.select_dtypes(include=[np.number]):  # Only numerical columns\n",
    "    Q1 = train_df[column].quantile(0.25)  # First quartile (25th percentile)\n",
    "    Q3 = train_df[column].quantile(0.75)  # Third quartile (75th percentile)\n",
    "    IQR = Q3 - Q1  # Interquartile range\n",
    "    lower_bound = Q1 - 1.5 * IQR\n",
    "    upper_bound = Q3 + 1.5 * IQR\n",
    "\n",
    "    print(f\"Column: {column}\")\n",
    "    print(f\"Outliers: {len(train_df[(train_df[column] < lower_bound) | (train_df[column] > upper_bound)][column].tolist())}\")"
   ]
  },
  {
   "cell_type": "markdown",
   "id": "e6c1d91f",
   "metadata": {
    "papermill": {
     "duration": 0.008908,
     "end_time": "2025-02-02T06:22:33.223036",
     "exception": false,
     "start_time": "2025-02-02T06:22:33.214128",
     "status": "completed"
    },
    "tags": []
   },
   "source": [
    "## Create Dataset Class"
   ]
  },
  {
   "cell_type": "code",
   "execution_count": 13,
   "id": "afbe4d22",
   "metadata": {
    "execution": {
     "iopub.execute_input": "2025-02-02T06:22:33.242125Z",
     "iopub.status.busy": "2025-02-02T06:22:33.241904Z",
     "iopub.status.idle": "2025-02-02T06:22:40.377121Z",
     "shell.execute_reply": "2025-02-02T06:22:40.376280Z"
    },
    "papermill": {
     "duration": 7.146988,
     "end_time": "2025-02-02T06:22:40.379386",
     "exception": false,
     "start_time": "2025-02-02T06:22:33.232398",
     "status": "completed"
    },
    "tags": []
   },
   "outputs": [
    {
     "name": "stderr",
     "output_type": "stream",
     "text": [
      "/usr/local/lib/python3.10/dist-packages/seaborn/axisgrid.py:2095: UserWarning: The `size` parameter has been renamed to `height`; please update your code.\n",
      "  warnings.warn(msg, UserWarning)\n",
      "/usr/local/lib/python3.10/dist-packages/seaborn/axisgrid.py:1507: FutureWarning: \n",
      "\n",
      "`shade` is now deprecated in favor of `fill`; setting `fill=True`.\n",
      "This will become an error in seaborn v0.14.0; please update your code.\n",
      "\n",
      "  func(x=vector, **plot_kwargs)\n",
      "/usr/local/lib/python3.10/dist-packages/seaborn/_oldcore.py:1119: FutureWarning: use_inf_as_na option is deprecated and will be removed in a future version. Convert inf values to NaN before operating instead.\n",
      "  with pd.option_context('mode.use_inf_as_na', True):\n",
      "/usr/local/lib/python3.10/dist-packages/seaborn/axisgrid.py:1507: FutureWarning: \n",
      "\n",
      "`shade` is now deprecated in favor of `fill`; setting `fill=True`.\n",
      "This will become an error in seaborn v0.14.0; please update your code.\n",
      "\n",
      "  func(x=vector, **plot_kwargs)\n",
      "/usr/local/lib/python3.10/dist-packages/seaborn/_oldcore.py:1119: FutureWarning: use_inf_as_na option is deprecated and will be removed in a future version. Convert inf values to NaN before operating instead.\n",
      "  with pd.option_context('mode.use_inf_as_na', True):\n",
      "/usr/local/lib/python3.10/dist-packages/seaborn/axisgrid.py:1507: FutureWarning: \n",
      "\n",
      "`shade` is now deprecated in favor of `fill`; setting `fill=True`.\n",
      "This will become an error in seaborn v0.14.0; please update your code.\n",
      "\n",
      "  func(x=vector, **plot_kwargs)\n",
      "/usr/local/lib/python3.10/dist-packages/seaborn/_oldcore.py:1119: FutureWarning: use_inf_as_na option is deprecated and will be removed in a future version. Convert inf values to NaN before operating instead.\n",
      "  with pd.option_context('mode.use_inf_as_na', True):\n",
      "/usr/local/lib/python3.10/dist-packages/seaborn/axisgrid.py:1507: FutureWarning: \n",
      "\n",
      "`shade` is now deprecated in favor of `fill`; setting `fill=True`.\n",
      "This will become an error in seaborn v0.14.0; please update your code.\n",
      "\n",
      "  func(x=vector, **plot_kwargs)\n",
      "/usr/local/lib/python3.10/dist-packages/seaborn/_oldcore.py:1119: FutureWarning: use_inf_as_na option is deprecated and will be removed in a future version. Convert inf values to NaN before operating instead.\n",
      "  with pd.option_context('mode.use_inf_as_na', True):\n",
      "/usr/local/lib/python3.10/dist-packages/seaborn/axisgrid.py:1507: FutureWarning: \n",
      "\n",
      "`shade` is now deprecated in favor of `fill`; setting `fill=True`.\n",
      "This will become an error in seaborn v0.14.0; please update your code.\n",
      "\n",
      "  func(x=vector, **plot_kwargs)\n",
      "/usr/local/lib/python3.10/dist-packages/seaborn/_oldcore.py:1119: FutureWarning: use_inf_as_na option is deprecated and will be removed in a future version. Convert inf values to NaN before operating instead.\n",
      "  with pd.option_context('mode.use_inf_as_na', True):\n"
     ]
    },
    {
     "data": {
      "text/plain": [
       "<seaborn.axisgrid.PairGrid at 0x79f25b386650>"
      ]
     },
     "execution_count": 13,
     "metadata": {},
     "output_type": "execute_result"
    },
    {
     "data": {
      "image/png": "[encoded data removed]",
      "text/plain": [
       "<Figure size 672.111x600 with 30 Axes>"
      ]
     },
     "metadata": {},
     "output_type": "display_data"
    }
   ],
   "source": [
    "g = sns.pairplot(data=train_df, hue='Survived',\n",
    "                 size=1.2, diag_kind = 'kde',diag_kws=dict(shade=True),plot_kws=dict(s=10) )\n",
    "g.set(xticklabels=[])"
   ]
  },
  {
   "cell_type": "code",
   "execution_count": 14,
   "id": "8c847edc",
   "metadata": {
    "execution": {
     "iopub.execute_input": "2025-02-02T06:22:40.403231Z",
     "iopub.status.busy": "2025-02-02T06:22:40.402986Z",
     "iopub.status.idle": "2025-02-02T06:22:40.627202Z",
     "shell.execute_reply": "2025-02-02T06:22:40.626458Z"
    },
    "papermill": {
     "duration": 0.237401,
     "end_time": "2025-02-02T06:22:40.628711",
     "exception": false,
     "start_time": "2025-02-02T06:22:40.391310",
     "status": "completed"
    },
    "tags": []
   },
   "outputs": [
    {
     "data": {
      "image/png": "[encoded data removed]",
      "text/plain": [
       "<Figure size 640x480 with 1 Axes>"
      ]
     },
     "metadata": {},
     "output_type": "display_data"
    }
   ],
   "source": [
    "sns.countplot(x='Sex', hue='Survived', data=train_df)\n",
    "\n",
    "total = len(train_df)\n",
    "\n",
    "# Add percentage annotations\n",
    "\n",
    "for p in plt.gca().patches:\n",
    "    height = p.get_height()\n",
    "    width = p.get_width()\n",
    "    x, y = p.get_xy()  # Get position of each bar\n",
    "    percentage = height / total * 100\n",
    "    plt.text(x + width / 2, y + height + 5, f'{percentage:.1f}%', ha='center')\n",
    "\n",
    "plt.title('Count of Survived vs. Not Survived by Gender')\n",
    "plt.xlabel('Gender')\n",
    "plt.ylabel('Count')\n",
    "plt.show()"
   ]
  },
  {
   "cell_type": "code",
   "execution_count": 15,
   "id": "a053bf26",
   "metadata": {
    "execution": {
     "iopub.execute_input": "2025-02-02T06:22:40.654138Z",
     "iopub.status.busy": "2025-02-02T06:22:40.653895Z",
     "iopub.status.idle": "2025-02-02T06:22:40.906932Z",
     "shell.execute_reply": "2025-02-02T06:22:40.906109Z"
    },
    "papermill": {
     "duration": 0.266694,
     "end_time": "2025-02-02T06:22:40.908234",
     "exception": false,
     "start_time": "2025-02-02T06:22:40.641540",
     "status": "completed"
    },
    "tags": []
   },
   "outputs": [
    {
     "data": {
      "image/png": "[encoded data removed]",
      "text/plain": [
       "<Figure size 640x480 with 1 Axes>"
      ]
     },
     "metadata": {},
     "output_type": "display_data"
    }
   ],
   "source": [
    "sns.countplot(x='Embarked', hue='Survived', data=train_df)\n",
    "\n",
    "total = len(train_df)\n",
    "\n",
    "# Add percentage annotations\n",
    "\n",
    "for p in plt.gca().patches:\n",
    "    height = p.get_height()\n",
    "    width = p.get_width()\n",
    "    x, y = p.get_xy()  # Get position of each bar\n",
    "    percentage = height / total * 100\n",
    "    plt.text(x + width / 2, y + height + 5, f'{percentage:.1f}%', ha='center')\n",
    "\n",
    "plt.title('Count of Survived vs. Not Survived by Gender')\n",
    "plt.xlabel('Gender')\n",
    "plt.ylabel('Count')\n",
    "plt.show()"
   ]
  },
  {
   "cell_type": "code",
   "execution_count": 16,
   "id": "373f914d",
   "metadata": {
    "execution": {
     "iopub.execute_input": "2025-02-02T06:22:40.933298Z",
     "iopub.status.busy": "2025-02-02T06:22:40.933058Z",
     "iopub.status.idle": "2025-02-02T06:22:41.189972Z",
     "shell.execute_reply": "2025-02-02T06:22:41.189316Z"
    },
    "papermill": {
     "duration": 0.270717,
     "end_time": "2025-02-02T06:22:41.191343",
     "exception": false,
     "start_time": "2025-02-02T06:22:40.920626",
     "status": "completed"
    },
    "tags": []
   },
   "outputs": [
    {
     "name": "stderr",
     "output_type": "stream",
     "text": [
      "/usr/local/lib/python3.10/dist-packages/seaborn/_oldcore.py:1119: FutureWarning: use_inf_as_na option is deprecated and will be removed in a future version. Convert inf values to NaN before operating instead.\n",
      "  with pd.option_context('mode.use_inf_as_na', True):\n"
     ]
    },
    {
     "data": {
      "image/png": "[encoded data removed]",
      "text/plain": [
       "<Figure size 640x480 with 1 Axes>"
      ]
     },
     "metadata": {},
     "output_type": "display_data"
    }
   ],
   "source": [
    "sns.histplot(x='Age', hue='Survived', data=train_df)\n",
    "plt.title('Count of Survived vs. Not Survived by Age')\n",
    "plt.xlabel('Age')\n",
    "plt.ylabel('Count')\n",
    "plt.show()"
   ]
  },
  {
   "cell_type": "code",
   "execution_count": 17,
   "id": "4e3565cd",
   "metadata": {
    "execution": {
     "iopub.execute_input": "2025-02-02T06:22:41.217952Z",
     "iopub.status.busy": "2025-02-02T06:22:41.217729Z",
     "iopub.status.idle": "2025-02-02T06:22:41.223064Z",
     "shell.execute_reply": "2025-02-02T06:22:41.222434Z"
    },
    "papermill": {
     "duration": 0.019682,
     "end_time": "2025-02-02T06:22:41.224282",
     "exception": false,
     "start_time": "2025-02-02T06:22:41.204600",
     "status": "completed"
    },
    "tags": []
   },
   "outputs": [
    {
     "data": {
      "text/plain": [
       "Survived\n",
       "0    549\n",
       "1    342\n",
       "Name: count, dtype: int64"
      ]
     },
     "execution_count": 17,
     "metadata": {},
     "output_type": "execute_result"
    }
   ],
   "source": [
    "train_df[\"Survived\"].value_counts()"
   ]
  },
  {
   "cell_type": "code",
   "execution_count": 18,
   "id": "e5a281aa",
   "metadata": {
    "execution": {
     "iopub.execute_input": "2025-02-02T06:22:41.250253Z",
     "iopub.status.busy": "2025-02-02T06:22:41.250020Z",
     "iopub.status.idle": "2025-02-02T06:22:45.750352Z",
     "shell.execute_reply": "2025-02-02T06:22:45.749437Z"
    },
    "papermill": {
     "duration": 4.514918,
     "end_time": "2025-02-02T06:22:45.751870",
     "exception": false,
     "start_time": "2025-02-02T06:22:41.236952",
     "status": "completed"
    },
    "tags": []
   },
   "outputs": [],
   "source": [
    "import torch\n",
    "from torch.utils.data import Dataset, DataLoader\n",
    "import torchvision\n",
    "import torch.nn as nn \n",
    "from torch.utils.data import random_split\n",
    "import math\n",
    "from IPython.display import Image"
   ]
  },
  {
   "cell_type": "code",
   "execution_count": 19,
   "id": "94d49ffc",
   "metadata": {
    "execution": {
     "iopub.execute_input": "2025-02-02T06:22:45.780067Z",
     "iopub.status.busy": "2025-02-02T06:22:45.779687Z",
     "iopub.status.idle": "2025-02-02T06:22:45.788615Z",
     "shell.execute_reply": "2025-02-02T06:22:45.787754Z"
    },
    "papermill": {
     "duration": 0.024808,
     "end_time": "2025-02-02T06:22:45.789854",
     "exception": false,
     "start_time": "2025-02-02T06:22:45.765046",
     "status": "completed"
    },
    "tags": []
   },
   "outputs": [],
   "source": [
    "torch.manual_seed(42); # seed rng for reproducibility"
   ]
  },
  {
   "cell_type": "code",
   "execution_count": 20,
   "id": "fcace302",
   "metadata": {
    "execution": {
     "iopub.execute_input": "2025-02-02T06:22:45.815533Z",
     "iopub.status.busy": "2025-02-02T06:22:45.815315Z",
     "iopub.status.idle": "2025-02-02T06:22:45.820606Z",
     "shell.execute_reply": "2025-02-02T06:22:45.819791Z"
    },
    "papermill": {
     "duration": 0.019492,
     "end_time": "2025-02-02T06:22:45.821899",
     "exception": false,
     "start_time": "2025-02-02T06:22:45.802407",
     "status": "completed"
    },
    "tags": []
   },
   "outputs": [],
   "source": [
    "class CSVDataset(Dataset):\n",
    "    def __init__(self, csv_path, features_col_list, target_col_list, transform=None, entire_data_transform=None):\n",
    "        # data loading\n",
    "        self.target_col_list = target_col_list\n",
    "        self.data = pd.read_csv(csv_path, index_col=0)\n",
    "        self.transform = transform\n",
    "\n",
    "        self.data = entire_data_transform(self.data)\n",
    "\n",
    "        self.features_col_list = []\n",
    "        for col_name in self.data.columns:\n",
    "            for feature_name in features_col_list:\n",
    "                if feature_name in col_name:\n",
    "                    # col is one hot encoded\n",
    "                    self.features_col_list.append(col_name)\n",
    "\n",
    "    def __getitem__(self, index):\n",
    "        x = self.data.iloc[index][self.features_col_list]  # Features}\n",
    "        y = self.data.iloc[index][self.target_col_list]  # Target\n",
    "\n",
    "        # Apply transformations if specified\n",
    "        if self.transform:\n",
    "            x, y = self.transform((x,y))\n",
    "\n",
    "        return torch.tensor(x, dtype=torch.float32), torch.tensor(y, dtype=torch.float32)\n",
    "\n",
    "    def __len__(self):\n",
    "        # allow us to use len(dataset)\n",
    "        return len(self.data)"
   ]
  },
  {
   "cell_type": "code",
   "execution_count": 21,
   "id": "eb5fae91",
   "metadata": {
    "execution": {
     "iopub.execute_input": "2025-02-02T06:22:45.847375Z",
     "iopub.status.busy": "2025-02-02T06:22:45.847140Z",
     "iopub.status.idle": "2025-02-02T06:22:45.854037Z",
     "shell.execute_reply": "2025-02-02T06:22:45.853166Z"
    },
    "papermill": {
     "duration": 0.021276,
     "end_time": "2025-02-02T06:22:45.855569",
     "exception": false,
     "start_time": "2025-02-02T06:22:45.834293",
     "status": "completed"
    },
    "tags": []
   },
   "outputs": [],
   "source": [
    "class OneHotEncode():\n",
    "    def __init__(self, cat_cols):\n",
    "        self.cat_cols = cat_cols\n",
    "    \n",
    "    def __call__(self, dataset):\n",
    "        return pd.get_dummies(dataset, columns=self.cat_cols)\n",
    "\n",
    "class FillNa():\n",
    "    def __init__(self, col_na_fill_rule):\n",
    "        self.col_na_fill_rule = col_na_fill_rule\n",
    "\n",
    "    def __call__(self, sample):\n",
    "        inputs, targets = sample\n",
    "\n",
    "        for col, na_fill in self.col_na_fill_rule.items():\n",
    "            if (pd.isna(inputs[col])):\n",
    "                inputs[col] = na_fill\n",
    "\n",
    "        return (inputs, targets)\n",
    "\n",
    "class NormalizeCol():\n",
    "    def __init__(self, cols_min_max_val):\n",
    "        self.cols_min_max_val = cols_min_max_val\n",
    "    \n",
    "    def __call__(self, sample):\n",
    "        inputs, targets = sample\n",
    "\n",
    "        for col in self.cols_min_max_val:\n",
    "            inputs[col] = (inputs[col] - self.cols_min_max_val[col][minVal]) / (self.cols_min_max_val[col][maxVal] - self.cols_min_max_val[col][minVal])\n",
    "        \n",
    "        return (inputs, targets)\n",
    "\n",
    "class ConvertNumpyArrToFloat32Tensor():\n",
    "    def __call__(self, sample):\n",
    "        inputs, targets = sample\n",
    "        inputs = (inputs.values).astype(np.float32)\n",
    "        targets = (targets.values).astype(np.float32)\n",
    "        return (inputs, targets)"
   ]
  },
  {
   "cell_type": "code",
   "execution_count": 22,
   "id": "89a4cfec",
   "metadata": {
    "execution": {
     "iopub.execute_input": "2025-02-02T06:22:45.884587Z",
     "iopub.status.busy": "2025-02-02T06:22:45.884363Z",
     "iopub.status.idle": "2025-02-02T06:22:45.974722Z",
     "shell.execute_reply": "2025-02-02T06:22:45.974046Z"
    },
    "papermill": {
     "duration": 0.104811,
     "end_time": "2025-02-02T06:22:45.975953",
     "exception": false,
     "start_time": "2025-02-02T06:22:45.871142",
     "status": "completed"
    },
    "tags": []
   },
   "outputs": [
    {
     "data": {
      "text/plain": [
       "(tensor([0., 1., 0., 0., 1.]), tensor([0.]))"
      ]
     },
     "execution_count": 22,
     "metadata": {},
     "output_type": "execute_result"
    }
   ],
   "source": [
    "csv_file = \"/kaggle/input/titanic/train.csv\"\n",
    "features_col_list = [\"Sex\", \"Embarked\"]\n",
    "target_col_list = [\"Survived\"]\n",
    "\n",
    "cat_cols = [\"Sex\", \"Embarked\"]\n",
    "fill_na = {}\n",
    "normalize_cols = {}\n",
    "transforms = torchvision.transforms.Compose([FillNa(fill_na), \n",
    "                                             NormalizeCol(normalize_cols),\n",
    "                                             ConvertNumpyArrToFloat32Tensor()])\n",
    "\n",
    "entire_data_transform = torchvision.transforms.Compose([OneHotEncode(cat_cols),])\n",
    "\n",
    "dataset = CSVDataset(csv_file, features_col_list, target_col_list, transform=transforms, entire_data_transform=entire_data_transform)\n",
    "dataset[0]"
   ]
  },
  {
   "cell_type": "code",
   "execution_count": 23,
   "id": "ac4287e4",
   "metadata": {
    "execution": {
     "iopub.execute_input": "2025-02-02T06:22:46.008180Z",
     "iopub.status.busy": "2025-02-02T06:22:46.007794Z",
     "iopub.status.idle": "2025-02-02T06:22:46.014847Z",
     "shell.execute_reply": "2025-02-02T06:22:46.013719Z"
    },
    "papermill": {
     "duration": 0.024804,
     "end_time": "2025-02-02T06:22:46.016580",
     "exception": false,
     "start_time": "2025-02-02T06:22:45.991776",
     "status": "completed"
    },
    "tags": []
   },
   "outputs": [
    {
     "data": {
      "text/plain": [
       "891"
      ]
     },
     "execution_count": 23,
     "metadata": {},
     "output_type": "execute_result"
    }
   ],
   "source": [
    "len(dataset)"
   ]
  },
  {
   "cell_type": "code",
   "execution_count": 24,
   "id": "241afa15",
   "metadata": {
    "execution": {
     "iopub.execute_input": "2025-02-02T06:22:46.046979Z",
     "iopub.status.busy": "2025-02-02T06:22:46.046672Z",
     "iopub.status.idle": "2025-02-02T06:22:46.058675Z",
     "shell.execute_reply": "2025-02-02T06:22:46.057716Z"
    },
    "papermill": {
     "duration": 0.02872,
     "end_time": "2025-02-02T06:22:46.060588",
     "exception": false,
     "start_time": "2025-02-02T06:22:46.031868",
     "status": "completed"
    },
    "tags": []
   },
   "outputs": [],
   "source": [
    "# Define split ratios\n",
    "train_size = int(0.8 * len(dataset))  # 80% for training\n",
    "val_size = int(0.1 * len(dataset))    # 10% for validation\n",
    "test_size = len(dataset) - train_size - val_size  # Remaining for testing\n",
    "\n",
    "# Split dataset\n",
    "train_dataset, val_dataset, test_dataset = random_split(dataset, [train_size, val_size, test_size])"
   ]
  },
  {
   "cell_type": "code",
   "execution_count": 25,
   "id": "ceb708b4",
   "metadata": {
    "execution": {
     "iopub.execute_input": "2025-02-02T06:22:46.087265Z",
     "iopub.status.busy": "2025-02-02T06:22:46.087024Z",
     "iopub.status.idle": "2025-02-02T06:22:46.090868Z",
     "shell.execute_reply": "2025-02-02T06:22:46.090044Z"
    },
    "papermill": {
     "duration": 0.018311,
     "end_time": "2025-02-02T06:22:46.092133",
     "exception": false,
     "start_time": "2025-02-02T06:22:46.073822",
     "status": "completed"
    },
    "tags": []
   },
   "outputs": [],
   "source": [
    "# Define batch size\n",
    "# since we have less data\n",
    "batch_size = 16\n",
    "\n",
    "# Create DataLoaders\n",
    "train_loader = DataLoader(train_dataset, batch_size=batch_size, shuffle=False)\n",
    "val_loader = DataLoader(val_dataset, batch_size=batch_size, shuffle=False)\n",
    "test_loader = DataLoader(test_dataset, batch_size=batch_size, shuffle=False)"
   ]
  },
  {
   "cell_type": "code",
   "execution_count": 26,
   "id": "f559acbe",
   "metadata": {
    "execution": {
     "iopub.execute_input": "2025-02-02T06:22:46.118423Z",
     "iopub.status.busy": "2025-02-02T06:22:46.118166Z",
     "iopub.status.idle": "2025-02-02T06:22:46.199169Z",
     "shell.execute_reply": "2025-02-02T06:22:46.198299Z"
    },
    "papermill": {
     "duration": 0.095652,
     "end_time": "2025-02-02T06:22:46.200591",
     "exception": false,
     "start_time": "2025-02-02T06:22:46.104939",
     "status": "completed"
    },
    "tags": []
   },
   "outputs": [
    {
     "name": "stdout",
     "output_type": "stream",
     "text": [
      "Using device: cuda\n"
     ]
    }
   ],
   "source": [
    "device = torch.device(\"cuda\" if torch.cuda.is_available() else \"cpu\")\n",
    "print(f\"Using device: {device}\")"
   ]
  },
  {
   "cell_type": "code",
   "execution_count": 27,
   "id": "7ca45a8a",
   "metadata": {
    "execution": {
     "iopub.execute_input": "2025-02-02T06:22:46.227002Z",
     "iopub.status.busy": "2025-02-02T06:22:46.226752Z",
     "iopub.status.idle": "2025-02-02T06:22:46.274388Z",
     "shell.execute_reply": "2025-02-02T06:22:46.273569Z"
    },
    "papermill": {
     "duration": 0.062163,
     "end_time": "2025-02-02T06:22:46.275710",
     "exception": false,
     "start_time": "2025-02-02T06:22:46.213547",
     "status": "completed"
    },
    "tags": []
   },
   "outputs": [],
   "source": [
    "# not correctly init\n",
    "input_dim = len(next(iter(train_loader))[0][0])\n",
    "hidden_neuron = 256\n",
    "output_dim = len(next(iter(train_loader))[1][0])\n",
    "\n",
    "debug = True\n",
    "\n",
    "class LinearLayer(nn.Linear):\n",
    "    def __init__(self, *args, **kwargs):\n",
    "        # Call the parent constructor to initialize the Linear layer\n",
    "        super().__init__(*args, **kwargs)\n",
    "        \n",
    "    def forward(self, x):\n",
    "        self.output = super().forward(x)\n",
    "        return self.output\n",
    "\n",
    "class LeakyReluLayer(nn.LeakyReLU):\n",
    "    def __init__(self, *args, **kwargs):\n",
    "        # Call the parent constructor to initialize the Linear layer\n",
    "        super().__init__(*args, **kwargs)\n",
    "        \n",
    "    def forward(self, x):\n",
    "        self.output = super().forward(x)\n",
    "        return self.output\n",
    "\n",
    "class BatchNorm1dLayer(nn.BatchNorm1d):\n",
    "    def __init__(self, *args, **kwargs):\n",
    "        # Call the parent constructor to initialize the Linear layer\n",
    "        super().__init__(*args, **kwargs)\n",
    "        \n",
    "    def forward(self, x):\n",
    "        self.output = super().forward(x)\n",
    "        return self.output\n",
    "\n",
    "class DropoutLayer(nn.Dropout):\n",
    "    def __init__(self, *args, **kwargs):\n",
    "        # Call the parent constructor to initialize the Linear layer\n",
    "        super().__init__(*args, **kwargs)\n",
    "        \n",
    "    def forward(self, x):\n",
    "        self.output = super().forward(x)\n",
    "        return self.output\n",
    "\n",
    "class TitanicSurvivalPredictor(nn.Module):\n",
    "    def __init__(self, hidden_neuron):\n",
    "        super().__init__()\n",
    "\n",
    "        # define layers\n",
    "        self.layers = nn.ModuleList([\n",
    "            LinearLayer(input_dim, 256),\n",
    "            BatchNorm1dLayer(256),\n",
    "            LeakyReluLayer(0.1),\n",
    "            # DropoutLayer(0.2),\n",
    "            \n",
    "            LinearLayer(256, 128),\n",
    "            BatchNorm1dLayer(128),\n",
    "            LeakyReluLayer(0.1),\n",
    "            # DropoutLayer(0.2),\n",
    "            \n",
    "            LinearLayer(128, output_dim),\n",
    "        ])\n",
    "        \n",
    "    def forward(self, x):\n",
    "        for layer in self.layers:\n",
    "            x = layer(x)\n",
    "        return x\n",
    "\n",
    "    def parameters(self):\n",
    "        return [p for layer in self.layers for p in layer.parameters()]\n",
    "\n",
    "model = TitanicSurvivalPredictor(hidden_neuron)"
   ]
  },
  {
   "cell_type": "code",
   "execution_count": 28,
   "id": "9cdc7115",
   "metadata": {
    "execution": {
     "iopub.execute_input": "2025-02-02T06:22:46.301931Z",
     "iopub.status.busy": "2025-02-02T06:22:46.301700Z",
     "iopub.status.idle": "2025-02-02T06:22:46.304827Z",
     "shell.execute_reply": "2025-02-02T06:22:46.304018Z"
    },
    "papermill": {
     "duration": 0.017536,
     "end_time": "2025-02-02T06:22:46.306031",
     "exception": false,
     "start_time": "2025-02-02T06:22:46.288495",
     "status": "completed"
    },
    "tags": []
   },
   "outputs": [],
   "source": [
    "activation_layers = [\"LeakyReluLayer\"]"
   ]
  },
  {
   "cell_type": "code",
   "execution_count": 29,
   "id": "b47df3c7",
   "metadata": {
    "execution": {
     "iopub.execute_input": "2025-02-02T06:22:46.332230Z",
     "iopub.status.busy": "2025-02-02T06:22:46.332009Z",
     "iopub.status.idle": "2025-02-02T06:22:47.413725Z",
     "shell.execute_reply": "2025-02-02T06:22:47.412850Z"
    },
    "papermill": {
     "duration": 1.096438,
     "end_time": "2025-02-02T06:22:47.415131",
     "exception": false,
     "start_time": "2025-02-02T06:22:46.318693",
     "status": "completed"
    },
    "tags": []
   },
   "outputs": [
    {
     "name": "stdout",
     "output_type": "stream",
     "text": [
      "init loss: 0.7117076595624288\n"
     ]
    }
   ],
   "source": [
    "model.eval()\n",
    "\n",
    "init_loss = 0\n",
    "model = model.to(device)\n",
    "bce_loss = nn.BCEWithLogitsLoss()\n",
    "\n",
    "with torch.no_grad():\n",
    "    for i, (inputs, labels) in enumerate(train_loader):\n",
    "        inputs = inputs.to(device)\n",
    "        labels = labels.to(device)\n",
    "        \n",
    "        pred = model(inputs)        \n",
    "        loss = bce_loss(pred, labels)\n",
    "\n",
    "        init_loss += loss.item()\n",
    "\n",
    "init_loss /= len(train_loader)\n",
    "print(f\"init loss: {init_loss}\")"
   ]
  },
  {
   "cell_type": "code",
   "execution_count": 30,
   "id": "b706cc88",
   "metadata": {
    "execution": {
     "iopub.execute_input": "2025-02-02T06:22:47.442408Z",
     "iopub.status.busy": "2025-02-02T06:22:47.442116Z",
     "iopub.status.idle": "2025-02-02T06:22:47.457405Z",
     "shell.execute_reply": "2025-02-02T06:22:47.456580Z"
    },
    "papermill": {
     "duration": 0.030242,
     "end_time": "2025-02-02T06:22:47.458733",
     "exception": false,
     "start_time": "2025-02-02T06:22:47.428491",
     "status": "completed"
    },
    "tags": []
   },
   "outputs": [],
   "source": [
    "@torch.no_grad()\n",
    "def initParam(model):\n",
    "    # Initialize weights using Xavier Normal\n",
    "    for i, layer in enumerate(model.layers):\n",
    "        if (isinstance(layer, LinearLayer)):\n",
    "            if (i<len(model.layers)-1):\n",
    "                nn.init.xavier_normal_(model.layers[i].weight, gain=torch.nn.init.calculate_gain(\"leaky_relu\"))\n",
    "            else:\n",
    "                nn.init.xavier_normal_(model.layers[i].weight, gain=torch.nn.init.calculate_gain(\"sigmoid\"))\n",
    "            if layer.bias is not None:\n",
    "                nn.init.zeros_(model.layers[i].bias)\n",
    "\n",
    "initParam(model)"
   ]
  },
  {
   "cell_type": "code",
   "execution_count": 31,
   "id": "11ed4a92",
   "metadata": {
    "execution": {
     "iopub.execute_input": "2025-02-02T06:22:47.485087Z",
     "iopub.status.busy": "2025-02-02T06:22:47.484843Z",
     "iopub.status.idle": "2025-02-02T06:22:48.071751Z",
     "shell.execute_reply": "2025-02-02T06:22:48.071017Z"
    },
    "papermill": {
     "duration": 0.601326,
     "end_time": "2025-02-02T06:22:48.072927",
     "exception": false,
     "start_time": "2025-02-02T06:22:47.471601",
     "status": "completed"
    },
    "tags": []
   },
   "outputs": [
    {
     "name": "stdout",
     "output_type": "stream",
     "text": [
      "init loss: 0.6881671071052551\n"
     ]
    }
   ],
   "source": [
    "init_loss = 0\n",
    "model = model.to(device)\n",
    "bce_loss = nn.BCEWithLogitsLoss()\n",
    "\n",
    "with torch.no_grad():\n",
    "    for i, (inputs, labels) in enumerate(train_loader):\n",
    "        inputs = inputs.to(device)\n",
    "        labels = labels.to(device)\n",
    "        \n",
    "        pred = model(inputs)        \n",
    "        loss = bce_loss(pred, labels)\n",
    "\n",
    "        init_loss += loss.item()\n",
    "\n",
    "init_loss /= len(train_loader)\n",
    "print(f\"init loss: {init_loss}\")"
   ]
  },
  {
   "cell_type": "code",
   "execution_count": 32,
   "id": "0d6cd874",
   "metadata": {
    "execution": {
     "iopub.execute_input": "2025-02-02T06:22:48.099522Z",
     "iopub.status.busy": "2025-02-02T06:22:48.099284Z",
     "iopub.status.idle": "2025-02-02T06:34:47.515525Z",
     "shell.execute_reply": "2025-02-02T06:34:47.514612Z"
    },
    "papermill": {
     "duration": 719.444534,
     "end_time": "2025-02-02T06:34:47.530411",
     "exception": false,
     "start_time": "2025-02-02T06:22:48.085877",
     "status": "completed"
    },
    "tags": []
   },
   "outputs": [
    {
     "name": "stdout",
     "output_type": "stream",
     "text": [
      "Epoch 100/1000, Train Loss: -0.3596, Val Loss: -0.3769,  Val Metric: 0.8427\n",
      "Epoch 200/1000, Train Loss: -0.3965, Val Loss: -0.3878,  Val Metric: 0.8427\n",
      "Epoch 300/1000, Train Loss: -0.4155, Val Loss: -0.3613,  Val Metric: 0.8427\n",
      "Epoch 400/1000, Train Loss: -0.4407, Val Loss: -0.3564,  Val Metric: 0.8315\n",
      "Epoch 500/1000, Train Loss: -0.4472, Val Loss: -0.3504,  Val Metric: 0.8427\n",
      "Epoch 600/1000, Train Loss: -0.4533, Val Loss: -0.3475,  Val Metric: 0.8427\n",
      "Epoch 700/1000, Train Loss: -0.4608, Val Loss: -0.3834,  Val Metric: 0.8427\n",
      "Epoch 800/1000, Train Loss: -0.4607, Val Loss: -0.3482,  Val Metric: 0.8427\n",
      "Epoch 900/1000, Train Loss: -0.4546, Val Loss: -0.3529,  Val Metric: 0.8427\n",
      "Epoch 1000/1000, Train Loss: -0.4715, Val Loss: -0.3537,  Val Metric: 0.8427\n"
     ]
    }
   ],
   "source": [
    "# less lr rate since can overfit easily\n",
    "learning_rate = 1e-3\n",
    "# less epoch as can easily overfit\n",
    "num_epoch = 1000\n",
    "\n",
    "lossi_train = []\n",
    "lossi_val = []\n",
    "metric_val = []\n",
    "\n",
    "total_samples = len(train_dataset)\n",
    "n_iter = math.ceil(total_samples / batch_size)\n",
    "\n",
    "optimizer = torch.optim.AdamW(model.parameters(), lr=learning_rate)\n",
    "bce_loss = nn.BCEWithLogitsLoss()\n",
    "output_grads = []\n",
    "\n",
    "model = model.to(device)\n",
    "\n",
    "runFirstBatch = False\n",
    "for epoch in range(num_epoch):\n",
    "    # reset to train mode\n",
    "    model.train()\n",
    "    \n",
    "    train_loss = 0    \n",
    "    for i, (inputs, labels) in enumerate(train_loader):\n",
    "        # reset grad\n",
    "        optimizer.zero_grad()\n",
    "        \n",
    "        # forward pass\n",
    "        # print(f\"inputs: {inputs}\")\n",
    "        # print(f\"labels: {labels}\")\n",
    "        inputs = inputs.to(device)\n",
    "        labels = labels.to(device)\n",
    "\n",
    "        # print(f\"inputs device: {inputs.device}, labels device: {labels.device}, model device: {[param.device for param in model.parameters()]}\")\n",
    "        \n",
    "        pred = model(inputs)\n",
    "        # print(f\"pred: {pred}\")\n",
    "\n",
    "        # calc loss\n",
    "        loss = bce_loss(pred, labels)\n",
    "\n",
    "        if (debug):\n",
    "            for layer in model.layers:\n",
    "                layer.output.retain_grad() # save gradients of non leaf tensors also\n",
    "        \n",
    "        # backward pass\n",
    "        loss.backward()\n",
    "        optimizer.step()\n",
    "        loss = loss.log10()\n",
    "        lossi_train.append(loss)\n",
    "        train_loss += loss.item()\n",
    "\n",
    "        # if (debug):\n",
    "        #      break\n",
    "\n",
    "    # copied it to array since running with no grad will set grad to None\n",
    "    if (debug):\n",
    "        curr_grads = {}\n",
    "        for i, layer in enumerate(model.layers):\n",
    "            curr_grads[f\"{layer.__class__.__name__}: {i}\"] = layer.output.grad.clone()\n",
    "\n",
    "        output_grads.append(curr_grads)\n",
    "    \n",
    "    train_loss /= len(train_loader)\n",
    "\n",
    "    # validation phase\n",
    "    model.eval()\n",
    "    with torch.no_grad():  # Disable gradient computation for validation\n",
    "        val_loss = 0\n",
    "\n",
    "        # Accuracy calculation\n",
    "        correct = 0\n",
    "        total = 0\n",
    "        \n",
    "        for inputs, labels in val_loader:\n",
    "            inputs = inputs.to(device)\n",
    "            labels = labels.to(device)\n",
    "            \n",
    "            pred = model(inputs)\n",
    "            predictions = torch.sigmoid(pred)  # Apply sigmoid for binary classification\n",
    "            predicted_classes = (predictions > 0.5).float()  # Convert to binary (0 or 1)\n",
    "            correct += (predicted_classes == labels).sum().item()\n",
    "            total += labels.size(0)\n",
    "            \n",
    "            loss = bce_loss(pred, labels)\n",
    "            loss = loss.log10()\n",
    "            lossi_val.append(loss)\n",
    "            val_loss += loss.item()\n",
    "        \n",
    "        accuracy = correct / total\n",
    "        metric_val.append(accuracy)\n",
    "        val_loss /= len(val_loader)\n",
    "\n",
    "    if ((epoch+1)%100==0):\n",
    "        print(f\"Epoch {epoch+1}/{num_epoch}, Train Loss: {train_loss:.4f}, Val Loss: {val_loss:.4f},  Val Metric: {accuracy:.4f}\")\n",
    "\n",
    "    # if (debug):\n",
    "    #     break"
   ]
  },
  {
   "cell_type": "code",
   "execution_count": 33,
   "id": "ffd55f6a",
   "metadata": {
    "execution": {
     "iopub.execute_input": "2025-02-02T06:34:47.557888Z",
     "iopub.status.busy": "2025-02-02T06:34:47.557660Z",
     "iopub.status.idle": "2025-02-02T06:34:48.293110Z",
     "shell.execute_reply": "2025-02-02T06:34:48.292204Z"
    },
    "papermill": {
     "duration": 0.751063,
     "end_time": "2025-02-02T06:34:48.294699",
     "exception": false,
     "start_time": "2025-02-02T06:34:47.543636",
     "status": "completed"
    },
    "tags": []
   },
   "outputs": [
    {
     "data": {
      "text/plain": [
       "[<matplotlib.lines.Line2D at 0x79f1a0183970>]"
      ]
     },
     "execution_count": 33,
     "metadata": {},
     "output_type": "execute_result"
    },
    {
     "data": {
      "image/png": "[encoded data removed]",
      "text/plain": [
       "<Figure size 640x480 with 1 Axes>"
      ]
     },
     "metadata": {},
     "output_type": "display_data"
    }
   ],
   "source": [
    "chunk_size = 50\n",
    "\n",
    "# Trim excess elements so total size is divisible by chunk_size\n",
    "trimmed_size_train = (len(lossi_train) // chunk_size) * chunk_size\n",
    "trimmed_size_val = (len(lossi_val) // chunk_size) * chunk_size\n",
    "\n",
    "lossi_train = lossi_train[:trimmed_size_train]  # Trim to nearest multiple of chunk_size\n",
    "lossi_val = lossi_val[:trimmed_size_val]  # Trim to nearest multiple of chunk_size\n",
    "\n",
    "plt.plot(torch.tensor(lossi_train).view(-1, chunk_size).mean(1), color=\"blue\")\n",
    "plt.plot(torch.tensor(lossi_val).view(-1, chunk_size).mean(1), color=\"red\")"
   ]
  },
  {
   "cell_type": "code",
   "execution_count": 34,
   "id": "a04c0fe3",
   "metadata": {
    "execution": {
     "iopub.execute_input": "2025-02-02T06:34:48.363378Z",
     "iopub.status.busy": "2025-02-02T06:34:48.363043Z",
     "iopub.status.idle": "2025-02-02T06:34:48.520161Z",
     "shell.execute_reply": "2025-02-02T06:34:48.519318Z"
    },
    "papermill": {
     "duration": 0.173193,
     "end_time": "2025-02-02T06:34:48.521364",
     "exception": false,
     "start_time": "2025-02-02T06:34:48.348171",
     "status": "completed"
    },
    "tags": []
   },
   "outputs": [
    {
     "data": {
      "text/plain": [
       "[<matplotlib.lines.Line2D at 0x79f1812a9960>]"
      ]
     },
     "execution_count": 34,
     "metadata": {},
     "output_type": "execute_result"
    },
    {
     "data": {
      "image/png": "[encoded data removed]",
      "text/plain": [
       "<Figure size 640x480 with 1 Axes>"
      ]
     },
     "metadata": {},
     "output_type": "display_data"
    }
   ],
   "source": [
    "chunk_size = 50\n",
    "\n",
    "# Trim excess elements so total size is divisible by chunk_size\n",
    "trimmed_size_metric_val = (len(metric_val) // chunk_size) * chunk_size\n",
    "\n",
    "metric_val = metric_val[:trimmed_size_metric_val]  # Trim to nearest multiple of chunk_size\n",
    "\n",
    "plt.plot(torch.tensor(metric_val).view(-1, chunk_size).mean(1), color=\"blue\")"
   ]
  },
  {
   "cell_type": "code",
   "execution_count": 35,
   "id": "c33aee1e",
   "metadata": {
    "execution": {
     "iopub.execute_input": "2025-02-02T06:34:48.551565Z",
     "iopub.status.busy": "2025-02-02T06:34:48.551328Z",
     "iopub.status.idle": "2025-02-02T06:34:48.787836Z",
     "shell.execute_reply": "2025-02-02T06:34:48.787049Z"
    },
    "papermill": {
     "duration": 0.252841,
     "end_time": "2025-02-02T06:34:48.789181",
     "exception": false,
     "start_time": "2025-02-02T06:34:48.536340",
     "status": "completed"
    },
    "tags": []
   },
   "outputs": [
    {
     "name": "stdout",
     "output_type": "stream",
     "text": [
      "layer 2 (LeakyReluLayer): mean +0.10, std 0.31\n",
      "layer 5 (LeakyReluLayer): mean +0.22, std 0.67\n"
     ]
    },
    {
     "data": {
      "image/png": "[encoded data removed]",
      "text/plain": [
       "<Figure size 2000x400 with 1 Axes>"
      ]
     },
     "metadata": {},
     "output_type": "display_data"
    }
   ],
   "source": [
    "# visualize activations\n",
    "plt.figure(figsize=(20, 4))\n",
    "legends = []\n",
    "\n",
    "if (len(model.layers) > 1):\n",
    "    for i, layer in enumerate(model.layers): # exclude output layer\n",
    "        layer_name = layer.__class__.__name__\n",
    "        for activation_layer in activation_layers:\n",
    "            if (activation_layer in layer_name):\n",
    "                t = layer.output.cpu()\n",
    "                print('layer %d (%10s): mean %+.2f, std %.2f' % (i, layer.__class__.__name__, t.mean(), t.std()))\n",
    "                hy, hx = torch.histogram(t, density=True)\n",
    "                plt.plot(hx[:-1].detach(), hy.detach())\n",
    "                legends.append(f'layer {i} ({layer.__class__.__name__})')\n",
    "    \n",
    "    plt.legend(legends)\n",
    "    plt.title(\"activation distribution\")"
   ]
  },
  {
   "cell_type": "code",
   "execution_count": 36,
   "id": "34419605",
   "metadata": {
    "execution": {
     "iopub.execute_input": "2025-02-02T06:34:48.822111Z",
     "iopub.status.busy": "2025-02-02T06:34:48.821882Z",
     "iopub.status.idle": "2025-02-02T06:34:49.124308Z",
     "shell.execute_reply": "2025-02-02T06:34:49.123479Z"
    },
    "papermill": {
     "duration": 0.319634,
     "end_time": "2025-02-02T06:34:49.125602",
     "exception": false,
     "start_time": "2025-02-02T06:34:48.805968",
     "status": "completed"
    },
    "tags": []
   },
   "outputs": [
    {
     "name": "stdout",
     "output_type": "stream",
     "text": [
      "layer (LeakyReluLayer: 2): mean +0.000000, std 1.446060e-03\n",
      "layer (LeakyReluLayer: 5): mean +0.000039, std 9.430281e-04\n"
     ]
    },
    {
     "data": {
      "image/png": "[encoded data removed]",
      "text/plain": [
       "<Figure size 2000x400 with 1 Axes>"
      ]
     },
     "metadata": {},
     "output_type": "display_data"
    }
   ],
   "source": [
    "# visualize histograms\n",
    "plt.figure(figsize=(20, 4)) # width and height of the plot\n",
    "legends = []\n",
    "\n",
    "if (len(model.layers) > 1):\n",
    "    for layer_name, layer_grad in output_grads[-1].items(): # note: exclude the output\n",
    "        for activation_layer in activation_layers:\n",
    "            if (activation_layer in layer_name):\n",
    "                t = layer_grad.cpu()\n",
    "                print('layer (%10s): mean %+f, std %e' % (layer_name, t.mean(), t.std()))\n",
    "                hy, hx = torch.histogram(t, density=True)\n",
    "                plt.plot(hx[:-1].detach(), hy.detach())\n",
    "                legends.append(f'{layer_name}')\n",
    "    \n",
    "        plt.legend(legends);\n",
    "        plt.title('gradient distribution')"
   ]
  },
  {
   "cell_type": "code",
   "execution_count": 37,
   "id": "d99c7f12",
   "metadata": {
    "execution": {
     "iopub.execute_input": "2025-02-02T06:34:49.158769Z",
     "iopub.status.busy": "2025-02-02T06:34:49.158531Z",
     "iopub.status.idle": "2025-02-02T06:34:49.476880Z",
     "shell.execute_reply": "2025-02-02T06:34:49.476028Z"
    },
    "papermill": {
     "duration": 0.336233,
     "end_time": "2025-02-02T06:34:49.478271",
     "exception": false,
     "start_time": "2025-02-02T06:34:49.142038",
     "status": "completed"
    },
    "tags": []
   },
   "outputs": [
    {
     "name": "stdout",
     "output_type": "stream",
     "text": [
      "weight   (256, 5) | mean +0.000000 | std 3.754723e-03 | grad:data ratio 1.333164e-02\n",
      "weight (128, 256) | mean +0.000005 | std 9.343547e-04 | grad:data ratio 4.863816e-03\n",
      "weight   (1, 128) | mean +0.002531 | std 3.422166e-03 | grad:data ratio 7.853336e-03\n"
     ]
    },
    {
     "data": {
      "image/png": "[encoded data removed]",
      "text/plain": [
       "<Figure size 2000x400 with 1 Axes>"
      ]
     },
     "metadata": {},
     "output_type": "display_data"
    }
   ],
   "source": [
    "# visualize histograms\n",
    "plt.figure(figsize=(20, 4)) # width and height of the plot\n",
    "legends = []\n",
    "for i,p in enumerate(model.parameters()):\n",
    "  if p.ndim == 2: # limit to weights only\n",
    "    t = p.grad.cpu()\n",
    "    print('weight %10s | mean %+f | std %e | grad:data ratio %e' % (tuple(p.shape), t.mean(), t.std(), t.std() / p.std()))\n",
    "    hy, hx = torch.histogram(t, density=True)\n",
    "    plt.plot(hx[:-1].detach(), hy.detach())\n",
    "    legends.append(f'{i} {tuple(p.shape)}')\n",
    "plt.legend(legends)\n",
    "plt.title('weights gradient distribution');\n",
    "\n",
    "# gradient to data ratio should be less"
   ]
  },
  {
   "cell_type": "code",
   "execution_count": 38,
   "id": "98a92e53",
   "metadata": {
    "execution": {
     "iopub.execute_input": "2025-02-02T06:34:49.512972Z",
     "iopub.status.busy": "2025-02-02T06:34:49.512744Z",
     "iopub.status.idle": "2025-02-02T06:34:49.594734Z",
     "shell.execute_reply": "2025-02-02T06:34:49.594008Z"
    },
    "papermill": {
     "duration": 0.100437,
     "end_time": "2025-02-02T06:34:49.595909",
     "exception": false,
     "start_time": "2025-02-02T06:34:49.495472",
     "status": "completed"
    },
    "tags": []
   },
   "outputs": [
    {
     "name": "stdout",
     "output_type": "stream",
     "text": [
      "Test Accuracy: 81.11%\n"
     ]
    }
   ],
   "source": [
    "model.eval()  # Set model to evaluation mode\n",
    "\n",
    "# Accuracy calculation\n",
    "correct = 0\n",
    "total = 0\n",
    "\n",
    "with torch.no_grad():  # Disable gradient calculation\n",
    "    for inputs, labels in test_loader:\n",
    "        inputs = inputs.to(device)\n",
    "        labels = labels.to(device)\n",
    "        \n",
    "        outputs = model(inputs)\n",
    "        predictions = torch.sigmoid(outputs)  # Apply sigmoid for binary classification\n",
    "        predicted_classes = (predictions > 0.5).float()  # Convert to binary (0 or 1)\n",
    "        correct += (predicted_classes == labels).sum().item()\n",
    "        total += labels.size(0)\n",
    "\n",
    "accuracy = correct / total\n",
    "print(f\"Test Accuracy: {accuracy * 100:.2f}%\")"
   ]
  },
  {
   "cell_type": "code",
   "execution_count": 39,
   "id": "f0083b35",
   "metadata": {
    "execution": {
     "iopub.execute_input": "2025-02-02T06:34:49.630371Z",
     "iopub.status.busy": "2025-02-02T06:34:49.630110Z",
     "iopub.status.idle": "2025-02-02T06:34:50.217335Z",
     "shell.execute_reply": "2025-02-02T06:34:50.216467Z"
    },
    "papermill": {
     "duration": 0.605747,
     "end_time": "2025-02-02T06:34:50.218612",
     "exception": false,
     "start_time": "2025-02-02T06:34:49.612865",
     "status": "completed"
    },
    "tags": []
   },
   "outputs": [
    {
     "name": "stdout",
     "output_type": "stream",
     "text": [
      "Train Accuracy: 77.67%\n"
     ]
    }
   ],
   "source": [
    "model.eval()  # Set model to evaluation mode\n",
    "\n",
    "# Accuracy calculation\n",
    "correct = 0\n",
    "total = 0\n",
    "\n",
    "with torch.no_grad():  # Disable gradient calculation\n",
    "    for inputs, labels in train_loader:\n",
    "        inputs = inputs.to(device)\n",
    "        labels = labels.to(device)\n",
    "        \n",
    "        outputs = model(inputs)\n",
    "        predictions = torch.sigmoid(outputs)  # Apply sigmoid for binary classification\n",
    "        predicted_classes = (predictions > 0.5).float()  # Convert to binary (0 or 1)\n",
    "        correct += (predicted_classes == labels).sum().item()\n",
    "        total += labels.size(0)\n",
    "\n",
    "accuracy = correct / total\n",
    "print(f\"Train Accuracy: {accuracy * 100:.2f}%\")"
   ]
  },
  {
   "cell_type": "markdown",
   "id": "6003b421",
   "metadata": {
    "papermill": {
     "duration": 0.016401,
     "end_time": "2025-02-02T06:34:50.252240",
     "exception": false,
     "start_time": "2025-02-02T06:34:50.235839",
     "status": "completed"
    },
    "tags": []
   },
   "source": [
    "## Test"
   ]
  },
  {
   "cell_type": "code",
   "execution_count": 40,
   "id": "fdc41e04",
   "metadata": {
    "execution": {
     "iopub.execute_input": "2025-02-02T06:34:50.286633Z",
     "iopub.status.busy": "2025-02-02T06:34:50.286360Z",
     "iopub.status.idle": "2025-02-02T06:34:50.320261Z",
     "shell.execute_reply": "2025-02-02T06:34:50.319519Z"
    },
    "papermill": {
     "duration": 0.052482,
     "end_time": "2025-02-02T06:34:50.321463",
     "exception": false,
     "start_time": "2025-02-02T06:34:50.268981",
     "status": "completed"
    },
    "tags": []
   },
   "outputs": [
    {
     "data": {
      "text/html": [
       "<div>\n",
       "<style scoped>\n",
       "    .dataframe tbody tr th:only-of-type {\n",
       "        vertical-align: middle;\n",
       "    }\n",
       "\n",
       "    .dataframe tbody tr th {\n",
       "        vertical-align: top;\n",
       "    }\n",
       "\n",
       "    .dataframe thead th {\n",
       "        text-align: right;\n",
       "    }\n",
       "</style>\n",
       "<table border=\"1\" class=\"dataframe\">\n",
       "  <thead>\n",
       "    <tr style=\"text-align: right;\">\n",
       "      <th></th>\n",
       "      <th>PassengerId</th>\n",
       "      <th>Pclass</th>\n",
       "      <th>Name</th>\n",
       "      <th>Sex</th>\n",
       "      <th>Age</th>\n",
       "      <th>SibSp</th>\n",
       "      <th>Parch</th>\n",
       "      <th>Ticket</th>\n",
       "      <th>Fare</th>\n",
       "      <th>Cabin</th>\n",
       "      <th>Embarked</th>\n",
       "    </tr>\n",
       "  </thead>\n",
       "  <tbody>\n",
       "    <tr>\n",
       "      <th>0</th>\n",
       "      <td>892</td>\n",
       "      <td>3</td>\n",
       "      <td>Kelly, Mr. James</td>\n",
       "      <td>male</td>\n",
       "      <td>34.5</td>\n",
       "      <td>0</td>\n",
       "      <td>0</td>\n",
       "      <td>330911</td>\n",
       "      <td>7.8292</td>\n",
       "      <td>NaN</td>\n",
       "      <td>Q</td>\n",
       "    </tr>\n",
       "    <tr>\n",
       "      <th>1</th>\n",
       "      <td>893</td>\n",
       "      <td>3</td>\n",
       "      <td>Wilkes, Mrs. James (Ellen Needs)</td>\n",
       "      <td>female</td>\n",
       "      <td>47.0</td>\n",
       "      <td>1</td>\n",
       "      <td>0</td>\n",
       "      <td>363272</td>\n",
       "      <td>7.0000</td>\n",
       "      <td>NaN</td>\n",
       "      <td>S</td>\n",
       "    </tr>\n",
       "    <tr>\n",
       "      <th>2</th>\n",
       "      <td>894</td>\n",
       "      <td>2</td>\n",
       "      <td>Myles, Mr. Thomas Francis</td>\n",
       "      <td>male</td>\n",
       "      <td>62.0</td>\n",
       "      <td>0</td>\n",
       "      <td>0</td>\n",
       "      <td>240276</td>\n",
       "      <td>9.6875</td>\n",
       "      <td>NaN</td>\n",
       "      <td>Q</td>\n",
       "    </tr>\n",
       "    <tr>\n",
       "      <th>3</th>\n",
       "      <td>895</td>\n",
       "      <td>3</td>\n",
       "      <td>Wirz, Mr. Albert</td>\n",
       "      <td>male</td>\n",
       "      <td>27.0</td>\n",
       "      <td>0</td>\n",
       "      <td>0</td>\n",
       "      <td>315154</td>\n",
       "      <td>8.6625</td>\n",
       "      <td>NaN</td>\n",
       "      <td>S</td>\n",
       "    </tr>\n",
       "    <tr>\n",
       "      <th>4</th>\n",
       "      <td>896</td>\n",
       "      <td>3</td>\n",
       "      <td>Hirvonen, Mrs. Alexander (Helga E Lindqvist)</td>\n",
       "      <td>female</td>\n",
       "      <td>22.0</td>\n",
       "      <td>1</td>\n",
       "      <td>1</td>\n",
       "      <td>3101298</td>\n",
       "      <td>12.2875</td>\n",
       "      <td>NaN</td>\n",
       "      <td>S</td>\n",
       "    </tr>\n",
       "    <tr>\n",
       "      <th>5</th>\n",
       "      <td>897</td>\n",
       "      <td>3</td>\n",
       "      <td>Svensson, Mr. Johan Cervin</td>\n",
       "      <td>male</td>\n",
       "      <td>14.0</td>\n",
       "      <td>0</td>\n",
       "      <td>0</td>\n",
       "      <td>7538</td>\n",
       "      <td>9.2250</td>\n",
       "      <td>NaN</td>\n",
       "      <td>S</td>\n",
       "    </tr>\n",
       "    <tr>\n",
       "      <th>6</th>\n",
       "      <td>898</td>\n",
       "      <td>3</td>\n",
       "      <td>Connolly, Miss. Kate</td>\n",
       "      <td>female</td>\n",
       "      <td>30.0</td>\n",
       "      <td>0</td>\n",
       "      <td>0</td>\n",
       "      <td>330972</td>\n",
       "      <td>7.6292</td>\n",
       "      <td>NaN</td>\n",
       "      <td>Q</td>\n",
       "    </tr>\n",
       "    <tr>\n",
       "      <th>7</th>\n",
       "      <td>899</td>\n",
       "      <td>2</td>\n",
       "      <td>Caldwell, Mr. Albert Francis</td>\n",
       "      <td>male</td>\n",
       "      <td>26.0</td>\n",
       "      <td>1</td>\n",
       "      <td>1</td>\n",
       "      <td>248738</td>\n",
       "      <td>29.0000</td>\n",
       "      <td>NaN</td>\n",
       "      <td>S</td>\n",
       "    </tr>\n",
       "    <tr>\n",
       "      <th>8</th>\n",
       "      <td>900</td>\n",
       "      <td>3</td>\n",
       "      <td>Abrahim, Mrs. Joseph (Sophie Halaut Easu)</td>\n",
       "      <td>female</td>\n",
       "      <td>18.0</td>\n",
       "      <td>0</td>\n",
       "      <td>0</td>\n",
       "      <td>2657</td>\n",
       "      <td>7.2292</td>\n",
       "      <td>NaN</td>\n",
       "      <td>C</td>\n",
       "    </tr>\n",
       "    <tr>\n",
       "      <th>9</th>\n",
       "      <td>901</td>\n",
       "      <td>3</td>\n",
       "      <td>Davies, Mr. John Samuel</td>\n",
       "      <td>male</td>\n",
       "      <td>21.0</td>\n",
       "      <td>2</td>\n",
       "      <td>0</td>\n",
       "      <td>A/4 48871</td>\n",
       "      <td>24.1500</td>\n",
       "      <td>NaN</td>\n",
       "      <td>S</td>\n",
       "    </tr>\n",
       "  </tbody>\n",
       "</table>\n",
       "</div>"
      ],
      "text/plain": [
       "   PassengerId  Pclass                                          Name     Sex  \\\n",
       "0          892       3                              Kelly, Mr. James    male   \n",
       "1          893       3              Wilkes, Mrs. James (Ellen Needs)  female   \n",
       "2          894       2                     Myles, Mr. Thomas Francis    male   \n",
       "3          895       3                              Wirz, Mr. Albert    male   \n",
       "4          896       3  Hirvonen, Mrs. Alexander (Helga E Lindqvist)  female   \n",
       "5          897       3                    Svensson, Mr. Johan Cervin    male   \n",
       "6          898       3                          Connolly, Miss. Kate  female   \n",
       "7          899       2                  Caldwell, Mr. Albert Francis    male   \n",
       "8          900       3     Abrahim, Mrs. Joseph (Sophie Halaut Easu)  female   \n",
       "9          901       3                       Davies, Mr. John Samuel    male   \n",
       "\n",
       "    Age  SibSp  Parch     Ticket     Fare Cabin Embarked  \n",
       "0  34.5      0      0     330911   7.8292   NaN        Q  \n",
       "1  47.0      1      0     363272   7.0000   NaN        S  \n",
       "2  62.0      0      0     240276   9.6875   NaN        Q  \n",
       "3  27.0      0      0     315154   8.6625   NaN        S  \n",
       "4  22.0      1      1    3101298  12.2875   NaN        S  \n",
       "5  14.0      0      0       7538   9.2250   NaN        S  \n",
       "6  30.0      0      0     330972   7.6292   NaN        Q  \n",
       "7  26.0      1      1     248738  29.0000   NaN        S  \n",
       "8  18.0      0      0       2657   7.2292   NaN        C  \n",
       "9  21.0      2      0  A/4 48871  24.1500   NaN        S  "
      ]
     },
     "execution_count": 40,
     "metadata": {},
     "output_type": "execute_result"
    }
   ],
   "source": [
    "test_df = pd.read_csv(\"/kaggle/input/titanic/test.csv\")\n",
    "test_df.head(10)"
   ]
  },
  {
   "cell_type": "code",
   "execution_count": 41,
   "id": "99a13dc3",
   "metadata": {
    "execution": {
     "iopub.execute_input": "2025-02-02T06:34:50.357160Z",
     "iopub.status.busy": "2025-02-02T06:34:50.356908Z",
     "iopub.status.idle": "2025-02-02T06:34:50.361273Z",
     "shell.execute_reply": "2025-02-02T06:34:50.360481Z"
    },
    "papermill": {
     "duration": 0.023364,
     "end_time": "2025-02-02T06:34:50.362556",
     "exception": false,
     "start_time": "2025-02-02T06:34:50.339192",
     "status": "completed"
    },
    "tags": []
   },
   "outputs": [
    {
     "data": {
      "text/plain": [
       "418"
      ]
     },
     "execution_count": 41,
     "metadata": {},
     "output_type": "execute_result"
    }
   ],
   "source": [
    "len(test_df)"
   ]
  },
  {
   "cell_type": "code",
   "execution_count": 42,
   "id": "ba12da9b",
   "metadata": {
    "execution": {
     "iopub.execute_input": "2025-02-02T06:34:50.398076Z",
     "iopub.status.busy": "2025-02-02T06:34:50.397857Z",
     "iopub.status.idle": "2025-02-02T06:34:50.410277Z",
     "shell.execute_reply": "2025-02-02T06:34:50.409596Z"
    },
    "papermill": {
     "duration": 0.031637,
     "end_time": "2025-02-02T06:34:50.411507",
     "exception": false,
     "start_time": "2025-02-02T06:34:50.379870",
     "status": "completed"
    },
    "tags": []
   },
   "outputs": [
    {
     "data": {
      "text/plain": [
       "(tensor([0., 1., 0., 1., 0.]), tensor([]))"
      ]
     },
     "execution_count": 42,
     "metadata": {},
     "output_type": "execute_result"
    }
   ],
   "source": [
    "csv_file = \"/kaggle/input/titanic/test.csv\"\n",
    "target_col_list = []\n",
    "\n",
    "transforms = torchvision.transforms.Compose([FillNa(fill_na), \n",
    "                                             NormalizeCol(normalize_cols),\n",
    "                                             ConvertNumpyArrToFloat32Tensor()])\n",
    "\n",
    "entire_data_transform = torchvision.transforms.Compose([OneHotEncode(cat_cols),])\n",
    "\n",
    "final_test_dataset = CSVDataset(csv_file, features_col_list, target_col_list, transform=transforms, entire_data_transform=entire_data_transform)\n",
    "final_test_dataset[0]"
   ]
  },
  {
   "cell_type": "code",
   "execution_count": 43,
   "id": "19a3bf15",
   "metadata": {
    "execution": {
     "iopub.execute_input": "2025-02-02T06:34:50.447485Z",
     "iopub.status.busy": "2025-02-02T06:34:50.447267Z",
     "iopub.status.idle": "2025-02-02T06:34:50.451198Z",
     "shell.execute_reply": "2025-02-02T06:34:50.450579Z"
    },
    "papermill": {
     "duration": 0.023559,
     "end_time": "2025-02-02T06:34:50.452470",
     "exception": false,
     "start_time": "2025-02-02T06:34:50.428911",
     "status": "completed"
    },
    "tags": []
   },
   "outputs": [
    {
     "data": {
      "text/plain": [
       "418"
      ]
     },
     "execution_count": 43,
     "metadata": {},
     "output_type": "execute_result"
    }
   ],
   "source": [
    "len(final_test_dataset)"
   ]
  },
  {
   "cell_type": "code",
   "execution_count": 44,
   "id": "33ac5e12",
   "metadata": {
    "execution": {
     "iopub.execute_input": "2025-02-02T06:34:50.488893Z",
     "iopub.status.busy": "2025-02-02T06:34:50.488690Z",
     "iopub.status.idle": "2025-02-02T06:34:51.035165Z",
     "shell.execute_reply": "2025-02-02T06:34:51.034180Z"
    },
    "papermill": {
     "duration": 0.566428,
     "end_time": "2025-02-02T06:34:51.036730",
     "exception": false,
     "start_time": "2025-02-02T06:34:50.470302",
     "status": "completed"
    },
    "tags": []
   },
   "outputs": [],
   "source": [
    "final_test_loader = DataLoader(final_test_dataset, shuffle=False)\n",
    "\n",
    "pred = []\n",
    "with torch.no_grad():  # Disable gradient calculation\n",
    "    for inputs, labels in final_test_loader:\n",
    "        inputs = inputs.to(device)\n",
    "    \n",
    "        outputs = model(inputs)\n",
    "        predictions = torch.sigmoid(outputs)  # Apply sigmoid for binary classification\n",
    "        predicted_classes = (predictions > 0.5).float()  # Convert to binary (0 or 1)\n",
    "\n",
    "        pred.append(int(predicted_classes.item()))"
   ]
  },
  {
   "cell_type": "code",
   "execution_count": 45,
   "id": "a566364d",
   "metadata": {
    "execution": {
     "iopub.execute_input": "2025-02-02T06:34:51.072563Z",
     "iopub.status.busy": "2025-02-02T06:34:51.072319Z",
     "iopub.status.idle": "2025-02-02T06:34:51.076590Z",
     "shell.execute_reply": "2025-02-02T06:34:51.075899Z"
    },
    "papermill": {
     "duration": 0.023157,
     "end_time": "2025-02-02T06:34:51.077732",
     "exception": false,
     "start_time": "2025-02-02T06:34:51.054575",
     "status": "completed"
    },
    "tags": []
   },
   "outputs": [
    {
     "data": {
      "text/plain": [
       "418"
      ]
     },
     "execution_count": 45,
     "metadata": {},
     "output_type": "execute_result"
    }
   ],
   "source": [
    "len(final_test_loader)"
   ]
  },
  {
   "cell_type": "code",
   "execution_count": 46,
   "id": "012c6919",
   "metadata": {
    "execution": {
     "iopub.execute_input": "2025-02-02T06:34:51.113675Z",
     "iopub.status.busy": "2025-02-02T06:34:51.113443Z",
     "iopub.status.idle": "2025-02-02T06:34:51.120436Z",
     "shell.execute_reply": "2025-02-02T06:34:51.119621Z"
    },
    "papermill": {
     "duration": 0.026674,
     "end_time": "2025-02-02T06:34:51.121666",
     "exception": false,
     "start_time": "2025-02-02T06:34:51.094992",
     "status": "completed"
    },
    "tags": []
   },
   "outputs": [],
   "source": [
    "pred_df = pd.DataFrame(pred, columns=[\"Survived\"])\n",
    "pred_df[\"PassengerId\"] = test_df[\"PassengerId\"]\n",
    "pred_df.to_csv(\"pred.csv\", index=False)"
   ]
  },
  {
   "cell_type": "code",
   "execution_count": 47,
   "id": "06b91214",
   "metadata": {
    "execution": {
     "iopub.execute_input": "2025-02-02T06:34:51.157056Z",
     "iopub.status.busy": "2025-02-02T06:34:51.156850Z",
     "iopub.status.idle": "2025-02-02T06:34:51.163029Z",
     "shell.execute_reply": "2025-02-02T06:34:51.162301Z"
    },
    "papermill": {
     "duration": 0.025327,
     "end_time": "2025-02-02T06:34:51.164345",
     "exception": false,
     "start_time": "2025-02-02T06:34:51.139018",
     "status": "completed"
    },
    "tags": []
   },
   "outputs": [
    {
     "data": {
      "text/html": [
       "<div>\n",
       "<style scoped>\n",
       "    .dataframe tbody tr th:only-of-type {\n",
       "        vertical-align: middle;\n",
       "    }\n",
       "\n",
       "    .dataframe tbody tr th {\n",
       "        vertical-align: top;\n",
       "    }\n",
       "\n",
       "    .dataframe thead th {\n",
       "        text-align: right;\n",
       "    }\n",
       "</style>\n",
       "<table border=\"1\" class=\"dataframe\">\n",
       "  <thead>\n",
       "    <tr style=\"text-align: right;\">\n",
       "      <th></th>\n",
       "      <th>Survived</th>\n",
       "      <th>PassengerId</th>\n",
       "    </tr>\n",
       "  </thead>\n",
       "  <tbody>\n",
       "    <tr>\n",
       "      <th>0</th>\n",
       "      <td>0</td>\n",
       "      <td>892</td>\n",
       "    </tr>\n",
       "    <tr>\n",
       "      <th>1</th>\n",
       "      <td>1</td>\n",
       "      <td>893</td>\n",
       "    </tr>\n",
       "    <tr>\n",
       "      <th>2</th>\n",
       "      <td>0</td>\n",
       "      <td>894</td>\n",
       "    </tr>\n",
       "    <tr>\n",
       "      <th>3</th>\n",
       "      <td>0</td>\n",
       "      <td>895</td>\n",
       "    </tr>\n",
       "    <tr>\n",
       "      <th>4</th>\n",
       "      <td>1</td>\n",
       "      <td>896</td>\n",
       "    </tr>\n",
       "  </tbody>\n",
       "</table>\n",
       "</div>"
      ],
      "text/plain": [
       "   Survived  PassengerId\n",
       "0         0          892\n",
       "1         1          893\n",
       "2         0          894\n",
       "3         0          895\n",
       "4         1          896"
      ]
     },
     "execution_count": 47,
     "metadata": {},
     "output_type": "execute_result"
    }
   ],
   "source": [
    "pred_df.head()"
   ]
  },
  {
   "cell_type": "code",
   "execution_count": null,
   "id": "dec772b7",
   "metadata": {
    "papermill": {
     "duration": 0.017519,
     "end_time": "2025-02-02T06:34:51.199816",
     "exception": false,
     "start_time": "2025-02-02T06:34:51.182297",
     "status": "completed"
    },
    "tags": []
   },
   "outputs": [],
   "source": []
  }
 ],
 "metadata": {
  "kaggle": {
   "accelerator": "nvidiaTeslaT4",
   "dataSources": [
    {
     "databundleVersionId": 26502,
     "sourceId": 3136,
     "sourceType": "competition"
    }
   ],
   "dockerImageVersionId": 30822,
   "isGpuEnabled": true,
   "isInternetEnabled": true,
   "language": "python",
   "sourceType": "notebook"
  },
  "kernelspec": {
   "display_name": "Python 3",
   "language": "python",
   "name": "python3"
  },
  "language_info": {
   "codemirror_mode": {
    "name": "ipython",
    "version": 3
   },
   "file_extension": ".py",
   "mimetype": "text/x-python",
   "name": "python",
   "nbconvert_exporter": "python",
   "pygments_lexer": "ipython3",
   "version": "3.10.12"
  },
  "papermill": {
   "default_parameters": {},
   "duration": 744.999919,
   "end_time": "2025-02-02T06:34:53.733497",
   "environment_variables": {},
   "exception": null,
   "input_path": "__notebook__.ipynb",
   "output_path": "__notebook__.ipynb",
   "parameters": {},
   "start_time": "2025-02-02T06:22:28.733578",
   "version": "2.6.0"
  }
 },
 "nbformat": 4,
 "nbformat_minor": 5
}
