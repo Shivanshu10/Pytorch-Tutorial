{
 "cells": [
  {
   "cell_type": "code",
   "execution_count": 1,
   "id": "b4325c58",
   "metadata": {
    "_cell_guid": "b1076dfc-b9ad-4769-8c92-a6c4dae69d19",
    "_uuid": "8f2839f25d086af736a60e9eeb907d3b93b6e0e5",
    "execution": {
     "iopub.execute_input": "2025-02-01T15:27:35.980130Z",
     "iopub.status.busy": "2025-02-01T15:27:35.979899Z",
     "iopub.status.idle": "2025-02-01T15:27:37.828899Z",
     "shell.execute_reply": "2025-02-01T15:27:37.827858Z"
    },
    "papermill": {
     "duration": 1.859934,
     "end_time": "2025-02-01T15:27:37.830445",
     "exception": false,
     "start_time": "2025-02-01T15:27:35.970511",
     "status": "completed"
    },
    "tags": []
   },
   "outputs": [
    {
     "name": "stdout",
     "output_type": "stream",
     "text": [
      "/kaggle/input/titanic/train.csv\n",
      "/kaggle/input/titanic/test.csv\n",
      "/kaggle/input/titanic/gender_submission.csv\n"
     ]
    }
   ],
   "source": [
    "import numpy as np\n",
    "import pandas as pd\n",
    "import seaborn as sns\n",
    "import matplotlib.pyplot as plt\n",
    "import os\n",
    "\n",
    "for dirname, _, filenames in os.walk('/kaggle/input'):\n",
    "    for filename in filenames:\n",
    "        print(os.path.join(dirname, filename))"
   ]
  },
  {
   "cell_type": "markdown",
   "id": "1125831c",
   "metadata": {
    "papermill": {
     "duration": 0.007787,
     "end_time": "2025-02-01T15:27:37.846912",
     "exception": false,
     "start_time": "2025-02-01T15:27:37.839125",
     "status": "completed"
    },
    "tags": []
   },
   "source": [
    "## Load Data"
   ]
  },
  {
   "cell_type": "code",
   "execution_count": 2,
   "id": "8e51aa05",
   "metadata": {
    "execution": {
     "iopub.execute_input": "2025-02-01T15:27:37.863466Z",
     "iopub.status.busy": "2025-02-01T15:27:37.863186Z",
     "iopub.status.idle": "2025-02-01T15:27:37.902184Z",
     "shell.execute_reply": "2025-02-01T15:27:37.901426Z"
    },
    "papermill": {
     "duration": 0.048721,
     "end_time": "2025-02-01T15:27:37.903507",
     "exception": false,
     "start_time": "2025-02-01T15:27:37.854786",
     "status": "completed"
    },
    "tags": []
   },
   "outputs": [
    {
     "data": {
      "text/html": [
       "<div>\n",
       "<style scoped>\n",
       "    .dataframe tbody tr th:only-of-type {\n",
       "        vertical-align: middle;\n",
       "    }\n",
       "\n",
       "    .dataframe tbody tr th {\n",
       "        vertical-align: top;\n",
       "    }\n",
       "\n",
       "    .dataframe thead th {\n",
       "        text-align: right;\n",
       "    }\n",
       "</style>\n",
       "<table border=\"1\" class=\"dataframe\">\n",
       "  <thead>\n",
       "    <tr style=\"text-align: right;\">\n",
       "      <th></th>\n",
       "      <th>Survived</th>\n",
       "      <th>Pclass</th>\n",
       "      <th>Name</th>\n",
       "      <th>Sex</th>\n",
       "      <th>Age</th>\n",
       "      <th>SibSp</th>\n",
       "      <th>Parch</th>\n",
       "      <th>Ticket</th>\n",
       "      <th>Fare</th>\n",
       "      <th>Cabin</th>\n",
       "      <th>Embarked</th>\n",
       "    </tr>\n",
       "    <tr>\n",
       "      <th>PassengerId</th>\n",
       "      <th></th>\n",
       "      <th></th>\n",
       "      <th></th>\n",
       "      <th></th>\n",
       "      <th></th>\n",
       "      <th></th>\n",
       "      <th></th>\n",
       "      <th></th>\n",
       "      <th></th>\n",
       "      <th></th>\n",
       "      <th></th>\n",
       "    </tr>\n",
       "  </thead>\n",
       "  <tbody>\n",
       "    <tr>\n",
       "      <th>1</th>\n",
       "      <td>0</td>\n",
       "      <td>3</td>\n",
       "      <td>Braund, Mr. Owen Harris</td>\n",
       "      <td>male</td>\n",
       "      <td>22.0</td>\n",
       "      <td>1</td>\n",
       "      <td>0</td>\n",
       "      <td>A/5 21171</td>\n",
       "      <td>7.2500</td>\n",
       "      <td>NaN</td>\n",
       "      <td>S</td>\n",
       "    </tr>\n",
       "    <tr>\n",
       "      <th>2</th>\n",
       "      <td>1</td>\n",
       "      <td>1</td>\n",
       "      <td>Cumings, Mrs. John Bradley (Florence Briggs Th...</td>\n",
       "      <td>female</td>\n",
       "      <td>38.0</td>\n",
       "      <td>1</td>\n",
       "      <td>0</td>\n",
       "      <td>PC 17599</td>\n",
       "      <td>71.2833</td>\n",
       "      <td>C85</td>\n",
       "      <td>C</td>\n",
       "    </tr>\n",
       "    <tr>\n",
       "      <th>3</th>\n",
       "      <td>1</td>\n",
       "      <td>3</td>\n",
       "      <td>Heikkinen, Miss. Laina</td>\n",
       "      <td>female</td>\n",
       "      <td>26.0</td>\n",
       "      <td>0</td>\n",
       "      <td>0</td>\n",
       "      <td>STON/O2. 3101282</td>\n",
       "      <td>7.9250</td>\n",
       "      <td>NaN</td>\n",
       "      <td>S</td>\n",
       "    </tr>\n",
       "    <tr>\n",
       "      <th>4</th>\n",
       "      <td>1</td>\n",
       "      <td>1</td>\n",
       "      <td>Futrelle, Mrs. Jacques Heath (Lily May Peel)</td>\n",
       "      <td>female</td>\n",
       "      <td>35.0</td>\n",
       "      <td>1</td>\n",
       "      <td>0</td>\n",
       "      <td>113803</td>\n",
       "      <td>53.1000</td>\n",
       "      <td>C123</td>\n",
       "      <td>S</td>\n",
       "    </tr>\n",
       "    <tr>\n",
       "      <th>5</th>\n",
       "      <td>0</td>\n",
       "      <td>3</td>\n",
       "      <td>Allen, Mr. William Henry</td>\n",
       "      <td>male</td>\n",
       "      <td>35.0</td>\n",
       "      <td>0</td>\n",
       "      <td>0</td>\n",
       "      <td>373450</td>\n",
       "      <td>8.0500</td>\n",
       "      <td>NaN</td>\n",
       "      <td>S</td>\n",
       "    </tr>\n",
       "    <tr>\n",
       "      <th>6</th>\n",
       "      <td>0</td>\n",
       "      <td>3</td>\n",
       "      <td>Moran, Mr. James</td>\n",
       "      <td>male</td>\n",
       "      <td>NaN</td>\n",
       "      <td>0</td>\n",
       "      <td>0</td>\n",
       "      <td>330877</td>\n",
       "      <td>8.4583</td>\n",
       "      <td>NaN</td>\n",
       "      <td>Q</td>\n",
       "    </tr>\n",
       "    <tr>\n",
       "      <th>7</th>\n",
       "      <td>0</td>\n",
       "      <td>1</td>\n",
       "      <td>McCarthy, Mr. Timothy J</td>\n",
       "      <td>male</td>\n",
       "      <td>54.0</td>\n",
       "      <td>0</td>\n",
       "      <td>0</td>\n",
       "      <td>17463</td>\n",
       "      <td>51.8625</td>\n",
       "      <td>E46</td>\n",
       "      <td>S</td>\n",
       "    </tr>\n",
       "    <tr>\n",
       "      <th>8</th>\n",
       "      <td>0</td>\n",
       "      <td>3</td>\n",
       "      <td>Palsson, Master. Gosta Leonard</td>\n",
       "      <td>male</td>\n",
       "      <td>2.0</td>\n",
       "      <td>3</td>\n",
       "      <td>1</td>\n",
       "      <td>349909</td>\n",
       "      <td>21.0750</td>\n",
       "      <td>NaN</td>\n",
       "      <td>S</td>\n",
       "    </tr>\n",
       "    <tr>\n",
       "      <th>9</th>\n",
       "      <td>1</td>\n",
       "      <td>3</td>\n",
       "      <td>Johnson, Mrs. Oscar W (Elisabeth Vilhelmina Berg)</td>\n",
       "      <td>female</td>\n",
       "      <td>27.0</td>\n",
       "      <td>0</td>\n",
       "      <td>2</td>\n",
       "      <td>347742</td>\n",
       "      <td>11.1333</td>\n",
       "      <td>NaN</td>\n",
       "      <td>S</td>\n",
       "    </tr>\n",
       "    <tr>\n",
       "      <th>10</th>\n",
       "      <td>1</td>\n",
       "      <td>2</td>\n",
       "      <td>Nasser, Mrs. Nicholas (Adele Achem)</td>\n",
       "      <td>female</td>\n",
       "      <td>14.0</td>\n",
       "      <td>1</td>\n",
       "      <td>0</td>\n",
       "      <td>237736</td>\n",
       "      <td>30.0708</td>\n",
       "      <td>NaN</td>\n",
       "      <td>C</td>\n",
       "    </tr>\n",
       "  </tbody>\n",
       "</table>\n",
       "</div>"
      ],
      "text/plain": [
       "             Survived  Pclass  \\\n",
       "PassengerId                     \n",
       "1                   0       3   \n",
       "2                   1       1   \n",
       "3                   1       3   \n",
       "4                   1       1   \n",
       "5                   0       3   \n",
       "6                   0       3   \n",
       "7                   0       1   \n",
       "8                   0       3   \n",
       "9                   1       3   \n",
       "10                  1       2   \n",
       "\n",
       "                                                          Name     Sex   Age  \\\n",
       "PassengerId                                                                    \n",
       "1                                      Braund, Mr. Owen Harris    male  22.0   \n",
       "2            Cumings, Mrs. John Bradley (Florence Briggs Th...  female  38.0   \n",
       "3                                       Heikkinen, Miss. Laina  female  26.0   \n",
       "4                 Futrelle, Mrs. Jacques Heath (Lily May Peel)  female  35.0   \n",
       "5                                     Allen, Mr. William Henry    male  35.0   \n",
       "6                                             Moran, Mr. James    male   NaN   \n",
       "7                                      McCarthy, Mr. Timothy J    male  54.0   \n",
       "8                               Palsson, Master. Gosta Leonard    male   2.0   \n",
       "9            Johnson, Mrs. Oscar W (Elisabeth Vilhelmina Berg)  female  27.0   \n",
       "10                         Nasser, Mrs. Nicholas (Adele Achem)  female  14.0   \n",
       "\n",
       "             SibSp  Parch            Ticket     Fare Cabin Embarked  \n",
       "PassengerId                                                          \n",
       "1                1      0         A/5 21171   7.2500   NaN        S  \n",
       "2                1      0          PC 17599  71.2833   C85        C  \n",
       "3                0      0  STON/O2. 3101282   7.9250   NaN        S  \n",
       "4                1      0            113803  53.1000  C123        S  \n",
       "5                0      0            373450   8.0500   NaN        S  \n",
       "6                0      0            330877   8.4583   NaN        Q  \n",
       "7                0      0             17463  51.8625   E46        S  \n",
       "8                3      1            349909  21.0750   NaN        S  \n",
       "9                0      2            347742  11.1333   NaN        S  \n",
       "10               1      0            237736  30.0708   NaN        C  "
      ]
     },
     "execution_count": 2,
     "metadata": {},
     "output_type": "execute_result"
    }
   ],
   "source": [
    "train_df = pd.read_csv(\"/kaggle/input/titanic/train.csv\", index_col=0)\n",
    "train_df.head(10)"
   ]
  },
  {
   "cell_type": "code",
   "execution_count": 3,
   "id": "16cd0800",
   "metadata": {
    "execution": {
     "iopub.execute_input": "2025-02-01T15:27:37.921227Z",
     "iopub.status.busy": "2025-02-01T15:27:37.921011Z",
     "iopub.status.idle": "2025-02-01T15:27:37.925323Z",
     "shell.execute_reply": "2025-02-01T15:27:37.924521Z"
    },
    "papermill": {
     "duration": 0.014092,
     "end_time": "2025-02-01T15:27:37.926580",
     "exception": false,
     "start_time": "2025-02-01T15:27:37.912488",
     "status": "completed"
    },
    "tags": []
   },
   "outputs": [
    {
     "data": {
      "text/plain": [
       "891"
      ]
     },
     "execution_count": 3,
     "metadata": {},
     "output_type": "execute_result"
    }
   ],
   "source": [
    "len(train_df)"
   ]
  },
  {
   "cell_type": "markdown",
   "id": "b64df311",
   "metadata": {
    "papermill": {
     "duration": 0.008189,
     "end_time": "2025-02-01T15:27:37.943201",
     "exception": false,
     "start_time": "2025-02-01T15:27:37.935012",
     "status": "completed"
    },
    "tags": []
   },
   "source": [
    "## Explore Data"
   ]
  },
  {
   "attachments": {
    "32b3126c-ecdb-46fc-86b2-f22ddf6e6809.png": {
     "image/png": "[encoded data removed]"
    }
   },
   "cell_type": "markdown",
   "id": "e13b296e",
   "metadata": {
    "papermill": {
     "duration": 0.007894,
     "end_time": "2025-02-01T15:27:37.959190",
     "exception": false,
     "start_time": "2025-02-01T15:27:37.951296",
     "status": "completed"
    },
    "tags": []
   },
   "source": [
    "![image.png](attachment:32b3126c-ecdb-46fc-86b2-f22ddf6e6809.png)"
   ]
  },
  {
   "cell_type": "code",
   "execution_count": 4,
   "id": "a6f67c4e",
   "metadata": {
    "execution": {
     "iopub.execute_input": "2025-02-01T15:27:37.976347Z",
     "iopub.status.busy": "2025-02-01T15:27:37.976114Z",
     "iopub.status.idle": "2025-02-01T15:27:37.980281Z",
     "shell.execute_reply": "2025-02-01T15:27:37.979482Z"
    },
    "papermill": {
     "duration": 0.014007,
     "end_time": "2025-02-01T15:27:37.981462",
     "exception": false,
     "start_time": "2025-02-01T15:27:37.967455",
     "status": "completed"
    },
    "tags": []
   },
   "outputs": [
    {
     "data": {
      "text/plain": [
       "891"
      ]
     },
     "execution_count": 4,
     "metadata": {},
     "output_type": "execute_result"
    }
   ],
   "source": [
    "len(train_df)"
   ]
  },
  {
   "cell_type": "code",
   "execution_count": 5,
   "id": "497a46d5",
   "metadata": {
    "execution": {
     "iopub.execute_input": "2025-02-01T15:27:37.998691Z",
     "iopub.status.busy": "2025-02-01T15:27:37.998469Z",
     "iopub.status.idle": "2025-02-01T15:27:38.020458Z",
     "shell.execute_reply": "2025-02-01T15:27:38.019516Z"
    },
    "papermill": {
     "duration": 0.031954,
     "end_time": "2025-02-01T15:27:38.021763",
     "exception": false,
     "start_time": "2025-02-01T15:27:37.989809",
     "status": "completed"
    },
    "tags": []
   },
   "outputs": [
    {
     "data": {
      "text/html": [
       "<div>\n",
       "<style scoped>\n",
       "    .dataframe tbody tr th:only-of-type {\n",
       "        vertical-align: middle;\n",
       "    }\n",
       "\n",
       "    .dataframe tbody tr th {\n",
       "        vertical-align: top;\n",
       "    }\n",
       "\n",
       "    .dataframe thead th {\n",
       "        text-align: right;\n",
       "    }\n",
       "</style>\n",
       "<table border=\"1\" class=\"dataframe\">\n",
       "  <thead>\n",
       "    <tr style=\"text-align: right;\">\n",
       "      <th></th>\n",
       "      <th>Survived</th>\n",
       "      <th>Pclass</th>\n",
       "      <th>Age</th>\n",
       "      <th>SibSp</th>\n",
       "      <th>Parch</th>\n",
       "      <th>Fare</th>\n",
       "    </tr>\n",
       "  </thead>\n",
       "  <tbody>\n",
       "    <tr>\n",
       "      <th>count</th>\n",
       "      <td>891.000000</td>\n",
       "      <td>891.000000</td>\n",
       "      <td>714.000000</td>\n",
       "      <td>891.000000</td>\n",
       "      <td>891.000000</td>\n",
       "      <td>891.000000</td>\n",
       "    </tr>\n",
       "    <tr>\n",
       "      <th>mean</th>\n",
       "      <td>0.383838</td>\n",
       "      <td>2.308642</td>\n",
       "      <td>29.699118</td>\n",
       "      <td>0.523008</td>\n",
       "      <td>0.381594</td>\n",
       "      <td>32.204208</td>\n",
       "    </tr>\n",
       "    <tr>\n",
       "      <th>std</th>\n",
       "      <td>0.486592</td>\n",
       "      <td>0.836071</td>\n",
       "      <td>14.526497</td>\n",
       "      <td>1.102743</td>\n",
       "      <td>0.806057</td>\n",
       "      <td>49.693429</td>\n",
       "    </tr>\n",
       "    <tr>\n",
       "      <th>min</th>\n",
       "      <td>0.000000</td>\n",
       "      <td>1.000000</td>\n",
       "      <td>0.420000</td>\n",
       "      <td>0.000000</td>\n",
       "      <td>0.000000</td>\n",
       "      <td>0.000000</td>\n",
       "    </tr>\n",
       "    <tr>\n",
       "      <th>25%</th>\n",
       "      <td>0.000000</td>\n",
       "      <td>2.000000</td>\n",
       "      <td>20.125000</td>\n",
       "      <td>0.000000</td>\n",
       "      <td>0.000000</td>\n",
       "      <td>7.910400</td>\n",
       "    </tr>\n",
       "    <tr>\n",
       "      <th>50%</th>\n",
       "      <td>0.000000</td>\n",
       "      <td>3.000000</td>\n",
       "      <td>28.000000</td>\n",
       "      <td>0.000000</td>\n",
       "      <td>0.000000</td>\n",
       "      <td>14.454200</td>\n",
       "    </tr>\n",
       "    <tr>\n",
       "      <th>75%</th>\n",
       "      <td>1.000000</td>\n",
       "      <td>3.000000</td>\n",
       "      <td>38.000000</td>\n",
       "      <td>1.000000</td>\n",
       "      <td>0.000000</td>\n",
       "      <td>31.000000</td>\n",
       "    </tr>\n",
       "    <tr>\n",
       "      <th>max</th>\n",
       "      <td>1.000000</td>\n",
       "      <td>3.000000</td>\n",
       "      <td>80.000000</td>\n",
       "      <td>8.000000</td>\n",
       "      <td>6.000000</td>\n",
       "      <td>512.329200</td>\n",
       "    </tr>\n",
       "  </tbody>\n",
       "</table>\n",
       "</div>"
      ],
      "text/plain": [
       "         Survived      Pclass         Age       SibSp       Parch        Fare\n",
       "count  891.000000  891.000000  714.000000  891.000000  891.000000  891.000000\n",
       "mean     0.383838    2.308642   29.699118    0.523008    0.381594   32.204208\n",
       "std      0.486592    0.836071   14.526497    1.102743    0.806057   49.693429\n",
       "min      0.000000    1.000000    0.420000    0.000000    0.000000    0.000000\n",
       "25%      0.000000    2.000000   20.125000    0.000000    0.000000    7.910400\n",
       "50%      0.000000    3.000000   28.000000    0.000000    0.000000   14.454200\n",
       "75%      1.000000    3.000000   38.000000    1.000000    0.000000   31.000000\n",
       "max      1.000000    3.000000   80.000000    8.000000    6.000000  512.329200"
      ]
     },
     "execution_count": 5,
     "metadata": {},
     "output_type": "execute_result"
    }
   ],
   "source": [
    "train_df.describe()"
   ]
  },
  {
   "cell_type": "code",
   "execution_count": 6,
   "id": "8c14dfa1",
   "metadata": {
    "execution": {
     "iopub.execute_input": "2025-02-01T15:27:38.040284Z",
     "iopub.status.busy": "2025-02-01T15:27:38.040055Z",
     "iopub.status.idle": "2025-02-01T15:27:38.044008Z",
     "shell.execute_reply": "2025-02-01T15:27:38.043314Z"
    },
    "papermill": {
     "duration": 0.013996,
     "end_time": "2025-02-01T15:27:38.045257",
     "exception": false,
     "start_time": "2025-02-01T15:27:38.031261",
     "status": "completed"
    },
    "tags": []
   },
   "outputs": [
    {
     "name": "stdout",
     "output_type": "stream",
     "text": [
      "count of items to be dropped 177\n",
      "count of items left 714\n"
     ]
    }
   ],
   "source": [
    "# age has some null value\n",
    "# should we try dropping them for now?\n",
    "\n",
    "# count of rows that will be dropped\n",
    "print(f\"count of items to be dropped {len(train_df) - 714}\")\n",
    "\n",
    "# rows lefr\n",
    "print(f\"count of items left {len(train_df) - len(train_df) + 714}\")"
   ]
  },
  {
   "cell_type": "code",
   "execution_count": 7,
   "id": "dc2286dd",
   "metadata": {
    "execution": {
     "iopub.execute_input": "2025-02-01T15:27:38.063072Z",
     "iopub.status.busy": "2025-02-01T15:27:38.062830Z",
     "iopub.status.idle": "2025-02-01T15:27:38.068523Z",
     "shell.execute_reply": "2025-02-01T15:27:38.067666Z"
    },
    "papermill": {
     "duration": 0.015688,
     "end_time": "2025-02-01T15:27:38.069689",
     "exception": false,
     "start_time": "2025-02-01T15:27:38.054001",
     "status": "completed"
    },
    "tags": []
   },
   "outputs": [
    {
     "data": {
      "text/plain": [
       "Survived      0\n",
       "Pclass        0\n",
       "Name          0\n",
       "Sex           0\n",
       "Age         177\n",
       "SibSp         0\n",
       "Parch         0\n",
       "Ticket        0\n",
       "Fare          0\n",
       "Cabin       687\n",
       "Embarked      2\n",
       "dtype: int64"
      ]
     },
     "execution_count": 7,
     "metadata": {},
     "output_type": "execute_result"
    }
   ],
   "source": [
    "train_df.isna().sum()"
   ]
  },
  {
   "cell_type": "code",
   "execution_count": 8,
   "id": "81c2edb4",
   "metadata": {
    "execution": {
     "iopub.execute_input": "2025-02-01T15:27:38.087492Z",
     "iopub.status.busy": "2025-02-01T15:27:38.087292Z",
     "iopub.status.idle": "2025-02-01T15:27:38.089910Z",
     "shell.execute_reply": "2025-02-01T15:27:38.089312Z"
    },
    "papermill": {
     "duration": 0.012973,
     "end_time": "2025-02-01T15:27:38.091077",
     "exception": false,
     "start_time": "2025-02-01T15:27:38.078104",
     "status": "completed"
    },
    "tags": []
   },
   "outputs": [],
   "source": [
    "# cabin has 687 nulls, i dont think we can learn anything using it though"
   ]
  },
  {
   "cell_type": "code",
   "execution_count": 9,
   "id": "7d13a181",
   "metadata": {
    "execution": {
     "iopub.execute_input": "2025-02-01T15:27:38.108534Z",
     "iopub.status.busy": "2025-02-01T15:27:38.108335Z",
     "iopub.status.idle": "2025-02-01T15:27:38.114372Z",
     "shell.execute_reply": "2025-02-01T15:27:38.113758Z"
    },
    "papermill": {
     "duration": 0.016051,
     "end_time": "2025-02-01T15:27:38.115550",
     "exception": false,
     "start_time": "2025-02-01T15:27:38.099499",
     "status": "completed"
    },
    "tags": []
   },
   "outputs": [
    {
     "data": {
      "text/plain": [
       "Survived\n",
       "0    549\n",
       "1    342\n",
       "Name: count, dtype: int64"
      ]
     },
     "execution_count": 9,
     "metadata": {},
     "output_type": "execute_result"
    }
   ],
   "source": [
    "# lets check balance now\n",
    "train_df[\"Survived\"].value_counts()"
   ]
  },
  {
   "cell_type": "code",
   "execution_count": 10,
   "id": "a6bdc22a",
   "metadata": {
    "execution": {
     "iopub.execute_input": "2025-02-01T15:27:38.134655Z",
     "iopub.status.busy": "2025-02-01T15:27:38.134456Z",
     "iopub.status.idle": "2025-02-01T15:27:38.140160Z",
     "shell.execute_reply": "2025-02-01T15:27:38.139426Z"
    },
    "papermill": {
     "duration": 0.015937,
     "end_time": "2025-02-01T15:27:38.141390",
     "exception": false,
     "start_time": "2025-02-01T15:27:38.125453",
     "status": "completed"
    },
    "tags": []
   },
   "outputs": [
    {
     "name": "stdout",
     "output_type": "stream",
     "text": [
      "Survived\n",
      "0    61.616162\n",
      "1    38.383838\n",
      "Name: proportion, dtype: float64\n",
      "The dataset is balanced.\n"
     ]
    }
   ],
   "source": [
    "class_percentages = train_df[\"Survived\"].value_counts(normalize=True) * 100\n",
    "\n",
    "print(class_percentages)\n",
    "\n",
    "threshold = 70  # Adjust this as needed\n",
    "is_balanced = all(class_percentages < threshold)\n",
    "\n",
    "if is_balanced:\n",
    "    print(\"The dataset is balanced.\")\n",
    "else:\n",
    "    print(\"The dataset is imbalanced.\")"
   ]
  },
  {
   "cell_type": "code",
   "execution_count": 11,
   "id": "09178e15",
   "metadata": {
    "execution": {
     "iopub.execute_input": "2025-02-01T15:27:38.159350Z",
     "iopub.status.busy": "2025-02-01T15:27:38.159153Z",
     "iopub.status.idle": "2025-02-01T15:27:38.161602Z",
     "shell.execute_reply": "2025-02-01T15:27:38.161045Z"
    },
    "papermill": {
     "duration": 0.012805,
     "end_time": "2025-02-01T15:27:38.162791",
     "exception": false,
     "start_time": "2025-02-01T15:27:38.149986",
     "status": "completed"
    },
    "tags": []
   },
   "outputs": [],
   "source": [
    "# so model can easily get 61% accuracy if it always predics 0\n",
    "# so this will be our basepoint"
   ]
  },
  {
   "cell_type": "code",
   "execution_count": 12,
   "id": "a7edfec9",
   "metadata": {
    "execution": {
     "iopub.execute_input": "2025-02-01T15:27:38.180753Z",
     "iopub.status.busy": "2025-02-01T15:27:38.180530Z",
     "iopub.status.idle": "2025-02-01T15:27:38.196552Z",
     "shell.execute_reply": "2025-02-01T15:27:38.195683Z"
    },
    "papermill": {
     "duration": 0.026415,
     "end_time": "2025-02-01T15:27:38.197861",
     "exception": false,
     "start_time": "2025-02-01T15:27:38.171446",
     "status": "completed"
    },
    "tags": []
   },
   "outputs": [
    {
     "name": "stdout",
     "output_type": "stream",
     "text": [
      "Column: Survived\n",
      "Outliers: 0\n",
      "Column: Pclass\n",
      "Outliers: 0\n",
      "Column: Age\n",
      "Outliers: 11\n",
      "Column: SibSp\n",
      "Outliers: 46\n",
      "Column: Parch\n",
      "Outliers: 213\n",
      "Column: Fare\n",
      "Outliers: 116\n"
     ]
    }
   ],
   "source": [
    "# check outliers\n",
    "# Identify outliers for each column\n",
    "for column in train_df.select_dtypes(include=[np.number]):  # Only numerical columns\n",
    "    Q1 = train_df[column].quantile(0.25)  # First quartile (25th percentile)\n",
    "    Q3 = train_df[column].quantile(0.75)  # Third quartile (75th percentile)\n",
    "    IQR = Q3 - Q1  # Interquartile range\n",
    "    lower_bound = Q1 - 1.5 * IQR\n",
    "    upper_bound = Q3 + 1.5 * IQR\n",
    "\n",
    "    print(f\"Column: {column}\")\n",
    "    print(f\"Outliers: {len(train_df[(train_df[column] < lower_bound) | (train_df[column] > upper_bound)][column].tolist())}\")"
   ]
  },
  {
   "cell_type": "markdown",
   "id": "7427e260",
   "metadata": {
    "papermill": {
     "duration": 0.008543,
     "end_time": "2025-02-01T15:27:38.215974",
     "exception": false,
     "start_time": "2025-02-01T15:27:38.207431",
     "status": "completed"
    },
    "tags": []
   },
   "source": [
    "## Create Dataset Class"
   ]
  },
  {
   "cell_type": "code",
   "execution_count": 13,
   "id": "66512cc0",
   "metadata": {
    "execution": {
     "iopub.execute_input": "2025-02-01T15:27:38.233854Z",
     "iopub.status.busy": "2025-02-01T15:27:38.233604Z",
     "iopub.status.idle": "2025-02-01T15:27:44.766319Z",
     "shell.execute_reply": "2025-02-01T15:27:44.765471Z"
    },
    "papermill": {
     "duration": 6.543891,
     "end_time": "2025-02-01T15:27:44.768520",
     "exception": false,
     "start_time": "2025-02-01T15:27:38.224629",
     "status": "completed"
    },
    "tags": []
   },
   "outputs": [
    {
     "name": "stderr",
     "output_type": "stream",
     "text": [
      "/usr/local/lib/python3.10/dist-packages/seaborn/axisgrid.py:2095: UserWarning: The `size` parameter has been renamed to `height`; please update your code.\n",
      "  warnings.warn(msg, UserWarning)\n",
      "/usr/local/lib/python3.10/dist-packages/seaborn/axisgrid.py:1507: FutureWarning: \n",
      "\n",
      "`shade` is now deprecated in favor of `fill`; setting `fill=True`.\n",
      "This will become an error in seaborn v0.14.0; please update your code.\n",
      "\n",
      "  func(x=vector, **plot_kwargs)\n",
      "/usr/local/lib/python3.10/dist-packages/seaborn/_oldcore.py:1119: FutureWarning: use_inf_as_na option is deprecated and will be removed in a future version. Convert inf values to NaN before operating instead.\n",
      "  with pd.option_context('mode.use_inf_as_na', True):\n",
      "/usr/local/lib/python3.10/dist-packages/seaborn/axisgrid.py:1507: FutureWarning: \n",
      "\n",
      "`shade` is now deprecated in favor of `fill`; setting `fill=True`.\n",
      "This will become an error in seaborn v0.14.0; please update your code.\n",
      "\n",
      "  func(x=vector, **plot_kwargs)\n",
      "/usr/local/lib/python3.10/dist-packages/seaborn/_oldcore.py:1119: FutureWarning: use_inf_as_na option is deprecated and will be removed in a future version. Convert inf values to NaN before operating instead.\n",
      "  with pd.option_context('mode.use_inf_as_na', True):\n",
      "/usr/local/lib/python3.10/dist-packages/seaborn/axisgrid.py:1507: FutureWarning: \n",
      "\n",
      "`shade` is now deprecated in favor of `fill`; setting `fill=True`.\n",
      "This will become an error in seaborn v0.14.0; please update your code.\n",
      "\n",
      "  func(x=vector, **plot_kwargs)\n",
      "/usr/local/lib/python3.10/dist-packages/seaborn/_oldcore.py:1119: FutureWarning: use_inf_as_na option is deprecated and will be removed in a future version. Convert inf values to NaN before operating instead.\n",
      "  with pd.option_context('mode.use_inf_as_na', True):\n",
      "/usr/local/lib/python3.10/dist-packages/seaborn/axisgrid.py:1507: FutureWarning: \n",
      "\n",
      "`shade` is now deprecated in favor of `fill`; setting `fill=True`.\n",
      "This will become an error in seaborn v0.14.0; please update your code.\n",
      "\n",
      "  func(x=vector, **plot_kwargs)\n",
      "/usr/local/lib/python3.10/dist-packages/seaborn/_oldcore.py:1119: FutureWarning: use_inf_as_na option is deprecated and will be removed in a future version. Convert inf values to NaN before operating instead.\n",
      "  with pd.option_context('mode.use_inf_as_na', True):\n",
      "/usr/local/lib/python3.10/dist-packages/seaborn/axisgrid.py:1507: FutureWarning: \n",
      "\n",
      "`shade` is now deprecated in favor of `fill`; setting `fill=True`.\n",
      "This will become an error in seaborn v0.14.0; please update your code.\n",
      "\n",
      "  func(x=vector, **plot_kwargs)\n",
      "/usr/local/lib/python3.10/dist-packages/seaborn/_oldcore.py:1119: FutureWarning: use_inf_as_na option is deprecated and will be removed in a future version. Convert inf values to NaN before operating instead.\n",
      "  with pd.option_context('mode.use_inf_as_na', True):\n"
     ]
    },
    {
     "data": {
      "text/plain": [
       "<seaborn.axisgrid.PairGrid at 0x792bd77a6c50>"
      ]
     },
     "execution_count": 13,
     "metadata": {},
     "output_type": "execute_result"
    },
    {
     "data": {
      "image/png": "[encoded data removed]",
      "text/plain": [
       "<Figure size 672.111x600 with 30 Axes>"
      ]
     },
     "metadata": {},
     "output_type": "display_data"
    }
   ],
   "source": [
    "g = sns.pairplot(data=train_df, hue='Survived',\n",
    "                 size=1.2, diag_kind = 'kde',diag_kws=dict(shade=True),plot_kws=dict(s=10) )\n",
    "g.set(xticklabels=[])"
   ]
  },
  {
   "cell_type": "code",
   "execution_count": 14,
   "id": "d950e50c",
   "metadata": {
    "execution": {
     "iopub.execute_input": "2025-02-01T15:27:44.792320Z",
     "iopub.status.busy": "2025-02-01T15:27:44.792089Z",
     "iopub.status.idle": "2025-02-01T15:27:45.009476Z",
     "shell.execute_reply": "2025-02-01T15:27:45.008708Z"
    },
    "papermill": {
     "duration": 0.230225,
     "end_time": "2025-02-01T15:27:45.010694",
     "exception": false,
     "start_time": "2025-02-01T15:27:44.780469",
     "status": "completed"
    },
    "tags": []
   },
   "outputs": [
    {
     "data": {
      "image/png": "[encoded data removed]",
      "text/plain": [
       "<Figure size 640x480 with 1 Axes>"
      ]
     },
     "metadata": {},
     "output_type": "display_data"
    }
   ],
   "source": [
    "sns.countplot(x='Sex', hue='Survived', data=train_df)\n",
    "\n",
    "total = len(train_df)\n",
    "\n",
    "# Add percentage annotations\n",
    "\n",
    "for p in plt.gca().patches:\n",
    "    height = p.get_height()\n",
    "    width = p.get_width()\n",
    "    x, y = p.get_xy()  # Get position of each bar\n",
    "    percentage = height / total * 100\n",
    "    plt.text(x + width / 2, y + height + 5, f'{percentage:.1f}%', ha='center')\n",
    "\n",
    "plt.title('Count of Survived vs. Not Survived by Gender')\n",
    "plt.xlabel('Gender')\n",
    "plt.ylabel('Count')\n",
    "plt.show()"
   ]
  },
  {
   "cell_type": "code",
   "execution_count": 15,
   "id": "b9a97bb0",
   "metadata": {
    "execution": {
     "iopub.execute_input": "2025-02-01T15:27:45.034310Z",
     "iopub.status.busy": "2025-02-01T15:27:45.034102Z",
     "iopub.status.idle": "2025-02-01T15:27:45.278522Z",
     "shell.execute_reply": "2025-02-01T15:27:45.277842Z"
    },
    "papermill": {
     "duration": 0.257746,
     "end_time": "2025-02-01T15:27:45.279843",
     "exception": false,
     "start_time": "2025-02-01T15:27:45.022097",
     "status": "completed"
    },
    "tags": []
   },
   "outputs": [
    {
     "data": {
      "image/png": "[encoded data removed]",
      "text/plain": [
       "<Figure size 640x480 with 1 Axes>"
      ]
     },
     "metadata": {},
     "output_type": "display_data"
    }
   ],
   "source": [
    "sns.countplot(x='Embarked', hue='Survived', data=train_df)\n",
    "\n",
    "total = len(train_df)\n",
    "\n",
    "# Add percentage annotations\n",
    "\n",
    "for p in plt.gca().patches:\n",
    "    height = p.get_height()\n",
    "    width = p.get_width()\n",
    "    x, y = p.get_xy()  # Get position of each bar\n",
    "    percentage = height / total * 100\n",
    "    plt.text(x + width / 2, y + height + 5, f'{percentage:.1f}%', ha='center')\n",
    "\n",
    "plt.title('Count of Survived vs. Not Survived by Gender')\n",
    "plt.xlabel('Gender')\n",
    "plt.ylabel('Count')\n",
    "plt.show()"
   ]
  },
  {
   "cell_type": "code",
   "execution_count": 16,
   "id": "2913711e",
   "metadata": {
    "execution": {
     "iopub.execute_input": "2025-02-01T15:27:45.304545Z",
     "iopub.status.busy": "2025-02-01T15:27:45.304309Z",
     "iopub.status.idle": "2025-02-01T15:27:45.616426Z",
     "shell.execute_reply": "2025-02-01T15:27:45.615631Z"
    },
    "papermill": {
     "duration": 0.325735,
     "end_time": "2025-02-01T15:27:45.617644",
     "exception": false,
     "start_time": "2025-02-01T15:27:45.291909",
     "status": "completed"
    },
    "tags": []
   },
   "outputs": [
    {
     "name": "stderr",
     "output_type": "stream",
     "text": [
      "/usr/local/lib/python3.10/dist-packages/seaborn/_oldcore.py:1119: FutureWarning: use_inf_as_na option is deprecated and will be removed in a future version. Convert inf values to NaN before operating instead.\n",
      "  with pd.option_context('mode.use_inf_as_na', True):\n"
     ]
    },
    {
     "data": {
      "image/png": "[encoded data removed]",
      "text/plain": [
       "<Figure size 640x480 with 1 Axes>"
      ]
     },
     "metadata": {},
     "output_type": "display_data"
    }
   ],
   "source": [
    "sns.histplot(x='Age', hue='Survived', data=train_df)\n",
    "plt.title('Count of Survived vs. Not Survived by Age')\n",
    "plt.xlabel('Age')\n",
    "plt.ylabel('Count')\n",
    "plt.show()"
   ]
  },
  {
   "cell_type": "code",
   "execution_count": 17,
   "id": "edf67198",
   "metadata": {
    "execution": {
     "iopub.execute_input": "2025-02-01T15:27:45.643016Z",
     "iopub.status.busy": "2025-02-01T15:27:45.642763Z",
     "iopub.status.idle": "2025-02-01T15:27:45.647963Z",
     "shell.execute_reply": "2025-02-01T15:27:45.647181Z"
    },
    "papermill": {
     "duration": 0.018939,
     "end_time": "2025-02-01T15:27:45.649109",
     "exception": false,
     "start_time": "2025-02-01T15:27:45.630170",
     "status": "completed"
    },
    "tags": []
   },
   "outputs": [
    {
     "data": {
      "text/plain": [
       "Survived\n",
       "0    549\n",
       "1    342\n",
       "Name: count, dtype: int64"
      ]
     },
     "execution_count": 17,
     "metadata": {},
     "output_type": "execute_result"
    }
   ],
   "source": [
    "train_df[\"Survived\"].value_counts()"
   ]
  },
  {
   "cell_type": "code",
   "execution_count": 18,
   "id": "77f59cb2",
   "metadata": {
    "execution": {
     "iopub.execute_input": "2025-02-01T15:27:45.674231Z",
     "iopub.status.busy": "2025-02-01T15:27:45.673998Z",
     "iopub.status.idle": "2025-02-01T15:27:50.366343Z",
     "shell.execute_reply": "2025-02-01T15:27:50.365431Z"
    },
    "papermill": {
     "duration": 4.706375,
     "end_time": "2025-02-01T15:27:50.367875",
     "exception": false,
     "start_time": "2025-02-01T15:27:45.661500",
     "status": "completed"
    },
    "tags": []
   },
   "outputs": [],
   "source": [
    "import torch\n",
    "from torch.utils.data import Dataset, DataLoader\n",
    "import torchvision\n",
    "import torch.nn as nn \n",
    "from torch.utils.data import random_split\n",
    "import math\n",
    "from IPython.display import Image"
   ]
  },
  {
   "cell_type": "code",
   "execution_count": 19,
   "id": "26538042",
   "metadata": {
    "execution": {
     "iopub.execute_input": "2025-02-01T15:27:50.395938Z",
     "iopub.status.busy": "2025-02-01T15:27:50.395499Z",
     "iopub.status.idle": "2025-02-01T15:27:50.404109Z",
     "shell.execute_reply": "2025-02-01T15:27:50.403501Z"
    },
    "papermill": {
     "duration": 0.024486,
     "end_time": "2025-02-01T15:27:50.405411",
     "exception": false,
     "start_time": "2025-02-01T15:27:50.380925",
     "status": "completed"
    },
    "tags": []
   },
   "outputs": [],
   "source": [
    "torch.manual_seed(42); # seed rng for reproducibility"
   ]
  },
  {
   "cell_type": "code",
   "execution_count": 20,
   "id": "65b7246a",
   "metadata": {
    "execution": {
     "iopub.execute_input": "2025-02-01T15:27:50.430798Z",
     "iopub.status.busy": "2025-02-01T15:27:50.430555Z",
     "iopub.status.idle": "2025-02-01T15:27:50.435664Z",
     "shell.execute_reply": "2025-02-01T15:27:50.435071Z"
    },
    "papermill": {
     "duration": 0.018977,
     "end_time": "2025-02-01T15:27:50.436776",
     "exception": false,
     "start_time": "2025-02-01T15:27:50.417799",
     "status": "completed"
    },
    "tags": []
   },
   "outputs": [],
   "source": [
    "class CSVDataset(Dataset):\n",
    "    def __init__(self, csv_path, features_col_list, target_col_list, transform=None, entire_data_transform=None):\n",
    "        # data loading\n",
    "        self.target_col_list = target_col_list\n",
    "        self.data = pd.read_csv(csv_path, index_col=0)\n",
    "        self.transform = transform\n",
    "\n",
    "        self.data = entire_data_transform(self.data)\n",
    "\n",
    "        self.features_col_list = []\n",
    "        for col_name in self.data.columns:\n",
    "            for feature_name in features_col_list:\n",
    "                if feature_name in col_name:\n",
    "                    # col is one hot encoded\n",
    "                    self.features_col_list.append(col_name)\n",
    "\n",
    "    def __getitem__(self, index):\n",
    "        x = self.data.iloc[index][self.features_col_list]  # Features}\n",
    "        y = self.data.iloc[index][self.target_col_list]  # Target\n",
    "\n",
    "        # Apply transformations if specified\n",
    "        if self.transform:\n",
    "            x, y = self.transform((x,y))\n",
    "\n",
    "        return torch.tensor(x, dtype=torch.float32), torch.tensor(y, dtype=torch.float32)\n",
    "\n",
    "    def __len__(self):\n",
    "        # allow us to use len(dataset)\n",
    "        return len(self.data)"
   ]
  },
  {
   "cell_type": "code",
   "execution_count": 21,
   "id": "fb761f80",
   "metadata": {
    "execution": {
     "iopub.execute_input": "2025-02-01T15:27:50.461691Z",
     "iopub.status.busy": "2025-02-01T15:27:50.461492Z",
     "iopub.status.idle": "2025-02-01T15:27:50.467327Z",
     "shell.execute_reply": "2025-02-01T15:27:50.466694Z"
    },
    "papermill": {
     "duration": 0.019474,
     "end_time": "2025-02-01T15:27:50.468388",
     "exception": false,
     "start_time": "2025-02-01T15:27:50.448914",
     "status": "completed"
    },
    "tags": []
   },
   "outputs": [],
   "source": [
    "class OneHotEncode():\n",
    "    def __init__(self, cat_cols):\n",
    "        self.cat_cols = cat_cols\n",
    "    \n",
    "    def __call__(self, dataset):\n",
    "        return pd.get_dummies(dataset, columns=self.cat_cols)\n",
    "\n",
    "class FillNa():\n",
    "    def __init__(self, col_na_fill_rule):\n",
    "        self.col_na_fill_rule = col_na_fill_rule\n",
    "\n",
    "    def __call__(self, sample):\n",
    "        inputs, targets = sample\n",
    "\n",
    "        for col, na_fill in self.col_na_fill_rule.items():\n",
    "            if (pd.isna(inputs[col])):\n",
    "                inputs[col] = na_fill\n",
    "\n",
    "        return (inputs, targets)\n",
    "\n",
    "class NormalizeCol():\n",
    "    def __init__(self, cols_min_max_val):\n",
    "        self.cols_min_max_val = cols_min_max_val\n",
    "    \n",
    "    def __call__(self, sample):\n",
    "        inputs, targets = sample\n",
    "\n",
    "        for col in self.cols_min_max_val:\n",
    "            inputs[col] = (inputs[col] - self.cols_min_max_val[col][minVal]) / (self.cols_min_max_val[col][maxVal] - self.cols_min_max_val[col][minVal])\n",
    "        \n",
    "        return (inputs, targets)\n",
    "\n",
    "class ConvertNumpyArrToFloat32Tensor():\n",
    "    def __call__(self, sample):\n",
    "        inputs, targets = sample\n",
    "        inputs = (inputs.values).astype(np.float32)\n",
    "        targets = (targets.values).astype(np.float32)\n",
    "        return (inputs, targets)"
   ]
  },
  {
   "cell_type": "code",
   "execution_count": 22,
   "id": "fac27521",
   "metadata": {
    "execution": {
     "iopub.execute_input": "2025-02-01T15:27:50.493326Z",
     "iopub.status.busy": "2025-02-01T15:27:50.493116Z",
     "iopub.status.idle": "2025-02-01T15:27:50.580235Z",
     "shell.execute_reply": "2025-02-01T15:27:50.579623Z"
    },
    "papermill": {
     "duration": 0.101048,
     "end_time": "2025-02-01T15:27:50.581461",
     "exception": false,
     "start_time": "2025-02-01T15:27:50.480413",
     "status": "completed"
    },
    "tags": []
   },
   "outputs": [
    {
     "data": {
      "text/plain": [
       "(tensor([0., 1., 0., 0., 1.]), tensor([0.]))"
      ]
     },
     "execution_count": 22,
     "metadata": {},
     "output_type": "execute_result"
    }
   ],
   "source": [
    "csv_file = \"/kaggle/input/titanic/train.csv\"\n",
    "features_col_list = [\"Sex\", \"Embarked\"]\n",
    "target_col_list = [\"Survived\"]\n",
    "\n",
    "cat_cols = [\"Sex\", \"Embarked\"]\n",
    "fill_na = {}\n",
    "normalize_cols = {}\n",
    "transforms = torchvision.transforms.Compose([FillNa(fill_na), \n",
    "                                             NormalizeCol(normalize_cols),\n",
    "                                             ConvertNumpyArrToFloat32Tensor()])\n",
    "\n",
    "entire_data_transform = torchvision.transforms.Compose([OneHotEncode(cat_cols),])\n",
    "\n",
    "dataset = CSVDataset(csv_file, features_col_list, target_col_list, transform=transforms, entire_data_transform=entire_data_transform)\n",
    "dataset[0]"
   ]
  },
  {
   "cell_type": "code",
   "execution_count": 23,
   "id": "5a43e524",
   "metadata": {
    "execution": {
     "iopub.execute_input": "2025-02-01T15:27:50.607080Z",
     "iopub.status.busy": "2025-02-01T15:27:50.606872Z",
     "iopub.status.idle": "2025-02-01T15:27:50.610757Z",
     "shell.execute_reply": "2025-02-01T15:27:50.610140Z"
    },
    "papermill": {
     "duration": 0.018115,
     "end_time": "2025-02-01T15:27:50.611971",
     "exception": false,
     "start_time": "2025-02-01T15:27:50.593856",
     "status": "completed"
    },
    "tags": []
   },
   "outputs": [
    {
     "data": {
      "text/plain": [
       "891"
      ]
     },
     "execution_count": 23,
     "metadata": {},
     "output_type": "execute_result"
    }
   ],
   "source": [
    "len(dataset)"
   ]
  },
  {
   "cell_type": "code",
   "execution_count": 24,
   "id": "7ddeadf8",
   "metadata": {
    "execution": {
     "iopub.execute_input": "2025-02-01T15:27:50.637210Z",
     "iopub.status.busy": "2025-02-01T15:27:50.636974Z",
     "iopub.status.idle": "2025-02-01T15:27:50.645931Z",
     "shell.execute_reply": "2025-02-01T15:27:50.645145Z"
    },
    "papermill": {
     "duration": 0.0228,
     "end_time": "2025-02-01T15:27:50.647141",
     "exception": false,
     "start_time": "2025-02-01T15:27:50.624341",
     "status": "completed"
    },
    "tags": []
   },
   "outputs": [],
   "source": [
    "# Define split ratios\n",
    "train_size = int(0.8 * len(dataset))  # 80% for training\n",
    "val_size = int(0.1 * len(dataset))    # 10% for validation\n",
    "test_size = len(dataset) - train_size - val_size  # Remaining for testing\n",
    "\n",
    "# Split dataset\n",
    "train_dataset, val_dataset, test_dataset = random_split(dataset, [train_size, val_size, test_size])"
   ]
  },
  {
   "cell_type": "code",
   "execution_count": 25,
   "id": "a1fd0181",
   "metadata": {
    "execution": {
     "iopub.execute_input": "2025-02-01T15:27:50.672359Z",
     "iopub.status.busy": "2025-02-01T15:27:50.672155Z",
     "iopub.status.idle": "2025-02-01T15:27:50.675438Z",
     "shell.execute_reply": "2025-02-01T15:27:50.674896Z"
    },
    "papermill": {
     "duration": 0.017207,
     "end_time": "2025-02-01T15:27:50.676579",
     "exception": false,
     "start_time": "2025-02-01T15:27:50.659372",
     "status": "completed"
    },
    "tags": []
   },
   "outputs": [],
   "source": [
    "# Define batch size\n",
    "# since we have less data\n",
    "batch_size = 16\n",
    "\n",
    "# Create DataLoaders\n",
    "train_loader = DataLoader(train_dataset, batch_size=batch_size, shuffle=False)\n",
    "val_loader = DataLoader(val_dataset, batch_size=batch_size, shuffle=False)\n",
    "test_loader = DataLoader(test_dataset, batch_size=batch_size, shuffle=False)"
   ]
  },
  {
   "cell_type": "code",
   "execution_count": 26,
   "id": "2d9509b8",
   "metadata": {
    "execution": {
     "iopub.execute_input": "2025-02-01T15:27:50.701935Z",
     "iopub.status.busy": "2025-02-01T15:27:50.701687Z",
     "iopub.status.idle": "2025-02-01T15:27:50.776588Z",
     "shell.execute_reply": "2025-02-01T15:27:50.775703Z"
    },
    "papermill": {
     "duration": 0.089054,
     "end_time": "2025-02-01T15:27:50.777972",
     "exception": false,
     "start_time": "2025-02-01T15:27:50.688918",
     "status": "completed"
    },
    "tags": []
   },
   "outputs": [
    {
     "name": "stdout",
     "output_type": "stream",
     "text": [
      "Using device: cuda\n"
     ]
    }
   ],
   "source": [
    "device = torch.device(\"cuda\" if torch.cuda.is_available() else \"cpu\")\n",
    "print(f\"Using device: {device}\")"
   ]
  },
  {
   "cell_type": "code",
   "execution_count": 27,
   "id": "68683301",
   "metadata": {
    "execution": {
     "iopub.execute_input": "2025-02-01T15:27:50.804087Z",
     "iopub.status.busy": "2025-02-01T15:27:50.803855Z",
     "iopub.status.idle": "2025-02-01T15:27:50.850935Z",
     "shell.execute_reply": "2025-02-01T15:27:50.850321Z"
    },
    "papermill": {
     "duration": 0.061566,
     "end_time": "2025-02-01T15:27:50.852149",
     "exception": false,
     "start_time": "2025-02-01T15:27:50.790583",
     "status": "completed"
    },
    "tags": []
   },
   "outputs": [],
   "source": [
    "# not correctly init\n",
    "input_dim = len(next(iter(train_loader))[0][0])\n",
    "hidden_neuron = 256\n",
    "output_dim = len(next(iter(train_loader))[1][0])\n",
    "\n",
    "debug = True\n",
    "\n",
    "class LinearLayer(nn.Linear):\n",
    "    def __init__(self, *args, **kwargs):\n",
    "        # Call the parent constructor to initialize the Linear layer\n",
    "        super().__init__(*args, **kwargs)\n",
    "        \n",
    "    def forward(self, x):\n",
    "        self.output = super().forward(x)\n",
    "        return self.output\n",
    "\n",
    "class LeakyReluLayer(nn.LeakyReLU):\n",
    "    def __init__(self, *args, **kwargs):\n",
    "        # Call the parent constructor to initialize the Linear layer\n",
    "        super().__init__(*args, **kwargs)\n",
    "        \n",
    "    def forward(self, x):\n",
    "        self.output = super().forward(x)\n",
    "        return self.output\n",
    "\n",
    "class BatchNorm1dLayer(nn.BatchNorm1d):\n",
    "    def __init__(self, *args, **kwargs):\n",
    "        # Call the parent constructor to initialize the Linear layer\n",
    "        super().__init__(*args, **kwargs)\n",
    "        \n",
    "    def forward(self, x):\n",
    "        self.output = super().forward(x)\n",
    "        return self.output\n",
    "\n",
    "class DropoutLayer(nn.Dropout):\n",
    "    def __init__(self, *args, **kwargs):\n",
    "        # Call the parent constructor to initialize the Linear layer\n",
    "        super().__init__(*args, **kwargs)\n",
    "        \n",
    "    def forward(self, x):\n",
    "        self.output = super().forward(x)\n",
    "        return self.output\n",
    "\n",
    "class TitanicSurvivalPredictor(nn.Module):\n",
    "    def __init__(self, hidden_neuron):\n",
    "        super().__init__()\n",
    "\n",
    "        # define layers\n",
    "        self.layers = nn.ModuleList([\n",
    "            LinearLayer(input_dim, hidden_neuron),\n",
    "            BatchNorm1dLayer(hidden_neuron),\n",
    "            LeakyReluLayer(0.1),\n",
    "            DropoutLayer(0.2),\n",
    "            \n",
    "            LinearLayer(hidden_neuron, hidden_neuron),\n",
    "            BatchNorm1dLayer(hidden_neuron),\n",
    "            LeakyReluLayer(0.1),\n",
    "            DropoutLayer(0.2),\n",
    "            \n",
    "            LinearLayer(hidden_neuron, output_dim),\n",
    "        ])\n",
    "        \n",
    "    def forward(self, x):\n",
    "        for layer in self.layers:\n",
    "            x = layer(x)\n",
    "        return x\n",
    "\n",
    "    def parameters(self):\n",
    "        return [p for layer in self.layers for p in layer.parameters()]\n",
    "\n",
    "model = TitanicSurvivalPredictor(hidden_neuron)"
   ]
  },
  {
   "cell_type": "code",
   "execution_count": 28,
   "id": "3f5f6bee",
   "metadata": {
    "execution": {
     "iopub.execute_input": "2025-02-01T15:27:50.877539Z",
     "iopub.status.busy": "2025-02-01T15:27:50.877334Z",
     "iopub.status.idle": "2025-02-01T15:27:50.880049Z",
     "shell.execute_reply": "2025-02-01T15:27:50.879451Z"
    },
    "papermill": {
     "duration": 0.016759,
     "end_time": "2025-02-01T15:27:50.881238",
     "exception": false,
     "start_time": "2025-02-01T15:27:50.864479",
     "status": "completed"
    },
    "tags": []
   },
   "outputs": [],
   "source": [
    "activation_layers = [\"LeakyReluLayer\"]"
   ]
  },
  {
   "cell_type": "code",
   "execution_count": 29,
   "id": "5425a8c2",
   "metadata": {
    "execution": {
     "iopub.execute_input": "2025-02-01T15:27:50.906925Z",
     "iopub.status.busy": "2025-02-01T15:27:50.906669Z",
     "iopub.status.idle": "2025-02-01T15:27:51.959504Z",
     "shell.execute_reply": "2025-02-01T15:27:51.958503Z"
    },
    "papermill": {
     "duration": 1.066979,
     "end_time": "2025-02-01T15:27:51.960831",
     "exception": false,
     "start_time": "2025-02-01T15:27:50.893852",
     "status": "completed"
    },
    "tags": []
   },
   "outputs": [
    {
     "name": "stdout",
     "output_type": "stream",
     "text": [
      "init loss: 0.6955611957444086\n"
     ]
    }
   ],
   "source": [
    "model.eval()\n",
    "\n",
    "init_loss = 0\n",
    "model = model.to(device)\n",
    "bce_loss = nn.BCEWithLogitsLoss()\n",
    "\n",
    "with torch.no_grad():\n",
    "    for i, (inputs, labels) in enumerate(train_loader):\n",
    "        inputs = inputs.to(device)\n",
    "        labels = labels.to(device)\n",
    "        \n",
    "        pred = model(inputs)        \n",
    "        loss = bce_loss(pred, labels)\n",
    "\n",
    "        init_loss += loss.item()\n",
    "\n",
    "init_loss /= len(train_loader)\n",
    "print(f\"init loss: {init_loss}\")"
   ]
  },
  {
   "cell_type": "code",
   "execution_count": 30,
   "id": "7b61f5f6",
   "metadata": {
    "execution": {
     "iopub.execute_input": "2025-02-01T15:27:51.987186Z",
     "iopub.status.busy": "2025-02-01T15:27:51.986934Z",
     "iopub.status.idle": "2025-02-01T15:27:52.002608Z",
     "shell.execute_reply": "2025-02-01T15:27:52.001984Z"
    },
    "papermill": {
     "duration": 0.030161,
     "end_time": "2025-02-01T15:27:52.003912",
     "exception": false,
     "start_time": "2025-02-01T15:27:51.973751",
     "status": "completed"
    },
    "tags": []
   },
   "outputs": [],
   "source": [
    "@torch.no_grad()\n",
    "def initParam(model):\n",
    "    # Initialize weights using Xavier Normal\n",
    "    for i, layer in enumerate(model.layers):\n",
    "        if (isinstance(layer, LinearLayer)):\n",
    "            if (i<len(model.layers)-1):\n",
    "                nn.init.xavier_normal_(model.layers[i].weight, gain=torch.nn.init.calculate_gain(\"leaky_relu\"))\n",
    "            else:\n",
    "                nn.init.xavier_normal_(model.layers[i].weight, gain=torch.nn.init.calculate_gain(\"sigmoid\"))\n",
    "            if layer.bias is not None:\n",
    "                nn.init.zeros_(model.layers[i].bias)\n",
    "\n",
    "initParam(model)"
   ]
  },
  {
   "cell_type": "code",
   "execution_count": 31,
   "id": "849b8180",
   "metadata": {
    "execution": {
     "iopub.execute_input": "2025-02-01T15:27:52.029813Z",
     "iopub.status.busy": "2025-02-01T15:27:52.029549Z",
     "iopub.status.idle": "2025-02-01T15:27:52.605201Z",
     "shell.execute_reply": "2025-02-01T15:27:52.604466Z"
    },
    "papermill": {
     "duration": 0.590002,
     "end_time": "2025-02-01T15:27:52.606449",
     "exception": false,
     "start_time": "2025-02-01T15:27:52.016447",
     "status": "completed"
    },
    "tags": []
   },
   "outputs": [
    {
     "name": "stdout",
     "output_type": "stream",
     "text": [
      "init loss: 0.7352987700038486\n"
     ]
    }
   ],
   "source": [
    "init_loss = 0\n",
    "model = model.to(device)\n",
    "bce_loss = nn.BCEWithLogitsLoss()\n",
    "\n",
    "with torch.no_grad():\n",
    "    for i, (inputs, labels) in enumerate(train_loader):\n",
    "        inputs = inputs.to(device)\n",
    "        labels = labels.to(device)\n",
    "        \n",
    "        pred = model(inputs)        \n",
    "        loss = bce_loss(pred, labels)\n",
    "\n",
    "        init_loss += loss.item()\n",
    "\n",
    "init_loss /= len(train_loader)\n",
    "print(f\"init loss: {init_loss}\")"
   ]
  },
  {
   "cell_type": "code",
   "execution_count": 32,
   "id": "da9d8622",
   "metadata": {
    "execution": {
     "iopub.execute_input": "2025-02-01T15:27:52.632711Z",
     "iopub.status.busy": "2025-02-01T15:27:52.632498Z",
     "iopub.status.idle": "2025-02-01T15:30:16.938407Z",
     "shell.execute_reply": "2025-02-01T15:30:16.937464Z"
    },
    "papermill": {
     "duration": 144.332182,
     "end_time": "2025-02-01T15:30:16.951401",
     "exception": false,
     "start_time": "2025-02-01T15:27:52.619219",
     "status": "completed"
    },
    "tags": []
   },
   "outputs": [
    {
     "name": "stdout",
     "output_type": "stream",
     "text": [
      "Epoch 100/200, Train Loss: -0.3220, Val Loss: -0.3822\n",
      "Epoch 200/200, Train Loss: -0.3378, Val Loss: -0.3832\n"
     ]
    }
   ],
   "source": [
    "# less lr rate since can overfit easily\n",
    "learning_rate = 1e-3\n",
    "# less epoch as can easily overfit\n",
    "num_epoch = 200\n",
    "\n",
    "lossi_train = []\n",
    "lossi_val = []\n",
    "\n",
    "total_samples = len(train_dataset)\n",
    "n_iter = math.ceil(total_samples / batch_size)\n",
    "\n",
    "optimizer = torch.optim.AdamW(model.parameters(), lr=learning_rate)\n",
    "bce_loss = nn.BCEWithLogitsLoss()\n",
    "output_grads = []\n",
    "\n",
    "model = model.to(device)\n",
    "\n",
    "runFirstBatch = False\n",
    "for epoch in range(num_epoch):\n",
    "    # reset to train mode\n",
    "    model.train()\n",
    "    \n",
    "    train_loss = 0    \n",
    "    for i, (inputs, labels) in enumerate(train_loader):\n",
    "        # reset grad\n",
    "        optimizer.zero_grad()\n",
    "        \n",
    "        # forward pass\n",
    "        # print(f\"inputs: {inputs}\")\n",
    "        # print(f\"labels: {labels}\")\n",
    "        inputs = inputs.to(device)\n",
    "        labels = labels.to(device)\n",
    "\n",
    "        # print(f\"inputs device: {inputs.device}, labels device: {labels.device}, model device: {[param.device for param in model.parameters()]}\")\n",
    "        \n",
    "        pred = model(inputs)\n",
    "        # print(f\"pred: {pred}\")\n",
    "\n",
    "        # calc loss\n",
    "        loss = bce_loss(pred, labels)\n",
    "\n",
    "        if (debug):\n",
    "            for layer in model.layers:\n",
    "                layer.output.retain_grad() # save gradients of non leaf tensors also\n",
    "        \n",
    "        # backward pass\n",
    "        loss.backward()\n",
    "        optimizer.step()\n",
    "        loss = loss.log10()\n",
    "        lossi_train.append(loss)\n",
    "        train_loss += loss.item()\n",
    "\n",
    "        # if (debug):\n",
    "        #      break\n",
    "\n",
    "    # copied it to array since running with no grad will set grad to None\n",
    "    if (debug):\n",
    "        curr_grads = {}\n",
    "        for i, layer in enumerate(model.layers):\n",
    "            curr_grads[f\"{layer.__class__.__name__}: {i}\"] = layer.output.grad.clone()\n",
    "\n",
    "        output_grads.append(curr_grads)\n",
    "    \n",
    "    train_loss /= len(train_loader)\n",
    "\n",
    "    # validation phase\n",
    "    model.eval()\n",
    "    with torch.no_grad():  # Disable gradient computation for validation\n",
    "        val_loss = 0\n",
    "        \n",
    "        for inputs, labels in val_loader:\n",
    "            inputs = inputs.to(device)\n",
    "            labels = labels.to(device)\n",
    "            \n",
    "            pred = model(inputs)\n",
    "            \n",
    "            loss = bce_loss(pred, labels)\n",
    "            loss = loss.log10()\n",
    "            lossi_val.append(loss)\n",
    "            val_loss += loss.item()\n",
    "        \n",
    "        val_loss /= len(val_loader)\n",
    "\n",
    "    if ((epoch+1)%100==0):\n",
    "        print(f\"Epoch {epoch+1}/{num_epoch}, Train Loss: {train_loss:.4f}, Val Loss: {val_loss:.4f}\")\n",
    "\n",
    "    # if (debug):\n",
    "    #     break"
   ]
  },
  {
   "cell_type": "code",
   "execution_count": 33,
   "id": "802e0c54",
   "metadata": {
    "execution": {
     "iopub.execute_input": "2025-02-01T15:30:16.977626Z",
     "iopub.status.busy": "2025-02-01T15:30:16.977364Z",
     "iopub.status.idle": "2025-02-01T15:30:17.457833Z",
     "shell.execute_reply": "2025-02-01T15:30:17.456978Z"
    },
    "papermill": {
     "duration": 0.495081,
     "end_time": "2025-02-01T15:30:17.459115",
     "exception": false,
     "start_time": "2025-02-01T15:30:16.964034",
     "status": "completed"
    },
    "tags": []
   },
   "outputs": [
    {
     "data": {
      "text/plain": [
       "[<matplotlib.lines.Line2D at 0x792b2e84f190>]"
      ]
     },
     "execution_count": 33,
     "metadata": {},
     "output_type": "execute_result"
    },
    {
     "data": {
      "image/png": "[encoded data removed]",
      "text/plain": [
       "<Figure size 640x480 with 1 Axes>"
      ]
     },
     "metadata": {},
     "output_type": "display_data"
    }
   ],
   "source": [
    "chunk_size = 200\n",
    "\n",
    "# Trim excess elements so total size is divisible by chunk_size\n",
    "trimmed_size_train = (len(lossi_train) // chunk_size) * chunk_size\n",
    "trimmed_size_val = (len(lossi_val) // chunk_size) * chunk_size\n",
    "\n",
    "lossi_train = lossi_train[:trimmed_size_train]  # Trim to nearest multiple of chunk_size\n",
    "lossi_val = lossi_val[:trimmed_size_val]  # Trim to nearest multiple of chunk_size\n",
    "\n",
    "plt.plot(torch.tensor(lossi_train).view(-1, chunk_size).mean(1), color=\"blue\")\n",
    "plt.plot(torch.tensor(lossi_val).view(-1, chunk_size).mean(1), color=\"red\")"
   ]
  },
  {
   "cell_type": "code",
   "execution_count": 34,
   "id": "923c416a",
   "metadata": {
    "execution": {
     "iopub.execute_input": "2025-02-01T15:30:17.486878Z",
     "iopub.status.busy": "2025-02-01T15:30:17.486624Z",
     "iopub.status.idle": "2025-02-01T15:30:17.774706Z",
     "shell.execute_reply": "2025-02-01T15:30:17.773816Z"
    },
    "papermill": {
     "duration": 0.303234,
     "end_time": "2025-02-01T15:30:17.775991",
     "exception": false,
     "start_time": "2025-02-01T15:30:17.472757",
     "status": "completed"
    },
    "tags": []
   },
   "outputs": [
    {
     "name": "stdout",
     "output_type": "stream",
     "text": [
      "layer 2 (LeakyReluLayer): mean +0.28, std 0.59\n",
      "layer 6 (LeakyReluLayer): mean +0.27, std 0.64\n"
     ]
    },
    {
     "data": {
      "image/png": "[encoded data removed]",
      "text/plain": [
       "<Figure size 2000x400 with 1 Axes>"
      ]
     },
     "metadata": {},
     "output_type": "display_data"
    }
   ],
   "source": [
    "# visualize activations\n",
    "plt.figure(figsize=(20, 4))\n",
    "legends = []\n",
    "\n",
    "if (len(model.layers) > 1):\n",
    "    for i, layer in enumerate(model.layers): # exclude output layer\n",
    "        layer_name = layer.__class__.__name__\n",
    "        for activation_layer in activation_layers:\n",
    "            if (activation_layer in layer_name):\n",
    "                t = layer.output.cpu()\n",
    "                print('layer %d (%10s): mean %+.2f, std %.2f' % (i, layer.__class__.__name__, t.mean(), t.std()))\n",
    "                hy, hx = torch.histogram(t, density=True)\n",
    "                plt.plot(hx[:-1].detach(), hy.detach())\n",
    "                legends.append(f'layer {i} ({layer.__class__.__name__})')\n",
    "    \n",
    "    plt.legend(legends)\n",
    "    plt.title(\"activation distribution\")"
   ]
  },
  {
   "cell_type": "code",
   "execution_count": 35,
   "id": "3e5c67dd",
   "metadata": {
    "execution": {
     "iopub.execute_input": "2025-02-01T15:30:17.805287Z",
     "iopub.status.busy": "2025-02-01T15:30:17.805068Z",
     "iopub.status.idle": "2025-02-01T15:30:18.129104Z",
     "shell.execute_reply": "2025-02-01T15:30:18.128204Z"
    },
    "papermill": {
     "duration": 0.339909,
     "end_time": "2025-02-01T15:30:18.130342",
     "exception": false,
     "start_time": "2025-02-01T15:30:17.790433",
     "status": "completed"
    },
    "tags": []
   },
   "outputs": [
    {
     "name": "stdout",
     "output_type": "stream",
     "text": [
      "layer (LeakyReluLayer: 2): mean +0.000011, std 1.199057e-03\n",
      "layer (LeakyReluLayer: 6): mean +0.000061, std 2.048769e-03\n"
     ]
    },
    {
     "data": {
      "image/png": "[encoded data removed]",
      "text/plain": [
       "<Figure size 2000x400 with 1 Axes>"
      ]
     },
     "metadata": {},
     "output_type": "display_data"
    }
   ],
   "source": [
    "# visualize histograms\n",
    "plt.figure(figsize=(20, 4)) # width and height of the plot\n",
    "legends = []\n",
    "\n",
    "if (len(model.layers) > 1):\n",
    "    for layer_name, layer_grad in output_grads[-1].items(): # note: exclude the output\n",
    "        for activation_layer in activation_layers:\n",
    "            if (activation_layer in layer_name):\n",
    "                t = layer_grad.cpu()\n",
    "                print('layer (%10s): mean %+f, std %e' % (layer_name, t.mean(), t.std()))\n",
    "                hy, hx = torch.histogram(t, density=True)\n",
    "                plt.plot(hx[:-1].detach(), hy.detach())\n",
    "                legends.append(f'{layer_name}')\n",
    "    \n",
    "        plt.legend(legends);\n",
    "        plt.title('gradient distribution')"
   ]
  },
  {
   "cell_type": "code",
   "execution_count": 36,
   "id": "cf9192db",
   "metadata": {
    "execution": {
     "iopub.execute_input": "2025-02-01T15:30:18.161175Z",
     "iopub.status.busy": "2025-02-01T15:30:18.160946Z",
     "iopub.status.idle": "2025-02-01T15:30:18.446192Z",
     "shell.execute_reply": "2025-02-01T15:30:18.445446Z"
    },
    "papermill": {
     "duration": 0.301978,
     "end_time": "2025-02-01T15:30:18.447453",
     "exception": false,
     "start_time": "2025-02-01T15:30:18.145475",
     "status": "completed"
    },
    "tags": []
   },
   "outputs": [
    {
     "name": "stdout",
     "output_type": "stream",
     "text": [
      "weight   (256, 5) | mean -0.000000 | std 7.403436e-03 | grad:data ratio 4.782649e-02\n",
      "weight (256, 256) | mean +0.000020 | std 7.700315e-04 | grad:data ratio 6.629280e-03\n",
      "weight   (1, 256) | mean +0.016799 | std 4.917742e-02 | grad:data ratio 6.416667e-01\n"
     ]
    },
    {
     "data": {
      "image/png": "[encoded data removed]",
      "text/plain": [
       "<Figure size 2000x400 with 1 Axes>"
      ]
     },
     "metadata": {},
     "output_type": "display_data"
    }
   ],
   "source": [
    "# visualize histograms\n",
    "plt.figure(figsize=(20, 4)) # width and height of the plot\n",
    "legends = []\n",
    "for i,p in enumerate(model.parameters()):\n",
    "  if p.ndim == 2: # limit to weights only\n",
    "    t = p.grad.cpu()\n",
    "    print('weight %10s | mean %+f | std %e | grad:data ratio %e' % (tuple(p.shape), t.mean(), t.std(), t.std() / p.std()))\n",
    "    hy, hx = torch.histogram(t, density=True)\n",
    "    plt.plot(hx[:-1].detach(), hy.detach())\n",
    "    legends.append(f'{i} {tuple(p.shape)}')\n",
    "plt.legend(legends)\n",
    "plt.title('weights gradient distribution');\n",
    "\n",
    "# gradient to data ratio should be less"
   ]
  },
  {
   "cell_type": "code",
   "execution_count": 37,
   "id": "dea46473",
   "metadata": {
    "execution": {
     "iopub.execute_input": "2025-02-01T15:30:18.478853Z",
     "iopub.status.busy": "2025-02-01T15:30:18.478573Z",
     "iopub.status.idle": "2025-02-01T15:30:18.598618Z",
     "shell.execute_reply": "2025-02-01T15:30:18.597812Z"
    },
    "papermill": {
     "duration": 0.136891,
     "end_time": "2025-02-01T15:30:18.599853",
     "exception": false,
     "start_time": "2025-02-01T15:30:18.462962",
     "status": "completed"
    },
    "tags": []
   },
   "outputs": [
    {
     "name": "stdout",
     "output_type": "stream",
     "text": [
      "Test Accuracy: 81.11%\n"
     ]
    }
   ],
   "source": [
    "model.eval()  # Set model to evaluation mode\n",
    "\n",
    "# Accuracy calculation\n",
    "correct = 0\n",
    "total = 0\n",
    "\n",
    "with torch.no_grad():  # Disable gradient calculation\n",
    "    for inputs, labels in test_loader:\n",
    "        inputs = inputs.to(device)\n",
    "        labels = labels.to(device)\n",
    "        \n",
    "        outputs = model(inputs)\n",
    "        predictions = torch.sigmoid(outputs)  # Apply sigmoid for binary classification\n",
    "        predicted_classes = (predictions > 0.5).float()  # Convert to binary (0 or 1)\n",
    "        correct += (predicted_classes == labels).sum().item()\n",
    "        total += labels.size(0)\n",
    "\n",
    "accuracy = correct / total\n",
    "print(f\"Test Accuracy: {accuracy * 100:.2f}%\")"
   ]
  },
  {
   "cell_type": "code",
   "execution_count": 38,
   "id": "06ffd73b",
   "metadata": {
    "execution": {
     "iopub.execute_input": "2025-02-01T15:30:18.631631Z",
     "iopub.status.busy": "2025-02-01T15:30:18.631417Z",
     "iopub.status.idle": "2025-02-01T15:30:19.216553Z",
     "shell.execute_reply": "2025-02-01T15:30:19.215760Z"
    },
    "papermill": {
     "duration": 0.602278,
     "end_time": "2025-02-01T15:30:19.217686",
     "exception": false,
     "start_time": "2025-02-01T15:30:18.615408",
     "status": "completed"
    },
    "tags": []
   },
   "outputs": [
    {
     "name": "stdout",
     "output_type": "stream",
     "text": [
      "Train Accuracy: 77.67%\n"
     ]
    }
   ],
   "source": [
    "model.eval()  # Set model to evaluation mode\n",
    "\n",
    "# Accuracy calculation\n",
    "correct = 0\n",
    "total = 0\n",
    "\n",
    "with torch.no_grad():  # Disable gradient calculation\n",
    "    for inputs, labels in train_loader:\n",
    "        inputs = inputs.to(device)\n",
    "        labels = labels.to(device)\n",
    "        \n",
    "        outputs = model(inputs)\n",
    "        predictions = torch.sigmoid(outputs)  # Apply sigmoid for binary classification\n",
    "        predicted_classes = (predictions > 0.5).float()  # Convert to binary (0 or 1)\n",
    "        correct += (predicted_classes == labels).sum().item()\n",
    "        total += labels.size(0)\n",
    "\n",
    "accuracy = correct / total\n",
    "print(f\"Train Accuracy: {accuracy * 100:.2f}%\")"
   ]
  },
  {
   "cell_type": "markdown",
   "id": "3366b195",
   "metadata": {
    "papermill": {
     "duration": 0.015094,
     "end_time": "2025-02-01T15:30:19.248424",
     "exception": false,
     "start_time": "2025-02-01T15:30:19.233330",
     "status": "completed"
    },
    "tags": []
   },
   "source": [
    "## Test"
   ]
  },
  {
   "cell_type": "code",
   "execution_count": 39,
   "id": "ac33e9c6",
   "metadata": {
    "execution": {
     "iopub.execute_input": "2025-02-01T15:30:19.279854Z",
     "iopub.status.busy": "2025-02-01T15:30:19.279593Z",
     "iopub.status.idle": "2025-02-01T15:30:19.299275Z",
     "shell.execute_reply": "2025-02-01T15:30:19.298591Z"
    },
    "papermill": {
     "duration": 0.036536,
     "end_time": "2025-02-01T15:30:19.300506",
     "exception": false,
     "start_time": "2025-02-01T15:30:19.263970",
     "status": "completed"
    },
    "tags": []
   },
   "outputs": [
    {
     "data": {
      "text/html": [
       "<div>\n",
       "<style scoped>\n",
       "    .dataframe tbody tr th:only-of-type {\n",
       "        vertical-align: middle;\n",
       "    }\n",
       "\n",
       "    .dataframe tbody tr th {\n",
       "        vertical-align: top;\n",
       "    }\n",
       "\n",
       "    .dataframe thead th {\n",
       "        text-align: right;\n",
       "    }\n",
       "</style>\n",
       "<table border=\"1\" class=\"dataframe\">\n",
       "  <thead>\n",
       "    <tr style=\"text-align: right;\">\n",
       "      <th></th>\n",
       "      <th>PassengerId</th>\n",
       "      <th>Pclass</th>\n",
       "      <th>Name</th>\n",
       "      <th>Sex</th>\n",
       "      <th>Age</th>\n",
       "      <th>SibSp</th>\n",
       "      <th>Parch</th>\n",
       "      <th>Ticket</th>\n",
       "      <th>Fare</th>\n",
       "      <th>Cabin</th>\n",
       "      <th>Embarked</th>\n",
       "    </tr>\n",
       "  </thead>\n",
       "  <tbody>\n",
       "    <tr>\n",
       "      <th>0</th>\n",
       "      <td>892</td>\n",
       "      <td>3</td>\n",
       "      <td>Kelly, Mr. James</td>\n",
       "      <td>male</td>\n",
       "      <td>34.5</td>\n",
       "      <td>0</td>\n",
       "      <td>0</td>\n",
       "      <td>330911</td>\n",
       "      <td>7.8292</td>\n",
       "      <td>NaN</td>\n",
       "      <td>Q</td>\n",
       "    </tr>\n",
       "    <tr>\n",
       "      <th>1</th>\n",
       "      <td>893</td>\n",
       "      <td>3</td>\n",
       "      <td>Wilkes, Mrs. James (Ellen Needs)</td>\n",
       "      <td>female</td>\n",
       "      <td>47.0</td>\n",
       "      <td>1</td>\n",
       "      <td>0</td>\n",
       "      <td>363272</td>\n",
       "      <td>7.0000</td>\n",
       "      <td>NaN</td>\n",
       "      <td>S</td>\n",
       "    </tr>\n",
       "    <tr>\n",
       "      <th>2</th>\n",
       "      <td>894</td>\n",
       "      <td>2</td>\n",
       "      <td>Myles, Mr. Thomas Francis</td>\n",
       "      <td>male</td>\n",
       "      <td>62.0</td>\n",
       "      <td>0</td>\n",
       "      <td>0</td>\n",
       "      <td>240276</td>\n",
       "      <td>9.6875</td>\n",
       "      <td>NaN</td>\n",
       "      <td>Q</td>\n",
       "    </tr>\n",
       "    <tr>\n",
       "      <th>3</th>\n",
       "      <td>895</td>\n",
       "      <td>3</td>\n",
       "      <td>Wirz, Mr. Albert</td>\n",
       "      <td>male</td>\n",
       "      <td>27.0</td>\n",
       "      <td>0</td>\n",
       "      <td>0</td>\n",
       "      <td>315154</td>\n",
       "      <td>8.6625</td>\n",
       "      <td>NaN</td>\n",
       "      <td>S</td>\n",
       "    </tr>\n",
       "    <tr>\n",
       "      <th>4</th>\n",
       "      <td>896</td>\n",
       "      <td>3</td>\n",
       "      <td>Hirvonen, Mrs. Alexander (Helga E Lindqvist)</td>\n",
       "      <td>female</td>\n",
       "      <td>22.0</td>\n",
       "      <td>1</td>\n",
       "      <td>1</td>\n",
       "      <td>3101298</td>\n",
       "      <td>12.2875</td>\n",
       "      <td>NaN</td>\n",
       "      <td>S</td>\n",
       "    </tr>\n",
       "    <tr>\n",
       "      <th>5</th>\n",
       "      <td>897</td>\n",
       "      <td>3</td>\n",
       "      <td>Svensson, Mr. Johan Cervin</td>\n",
       "      <td>male</td>\n",
       "      <td>14.0</td>\n",
       "      <td>0</td>\n",
       "      <td>0</td>\n",
       "      <td>7538</td>\n",
       "      <td>9.2250</td>\n",
       "      <td>NaN</td>\n",
       "      <td>S</td>\n",
       "    </tr>\n",
       "    <tr>\n",
       "      <th>6</th>\n",
       "      <td>898</td>\n",
       "      <td>3</td>\n",
       "      <td>Connolly, Miss. Kate</td>\n",
       "      <td>female</td>\n",
       "      <td>30.0</td>\n",
       "      <td>0</td>\n",
       "      <td>0</td>\n",
       "      <td>330972</td>\n",
       "      <td>7.6292</td>\n",
       "      <td>NaN</td>\n",
       "      <td>Q</td>\n",
       "    </tr>\n",
       "    <tr>\n",
       "      <th>7</th>\n",
       "      <td>899</td>\n",
       "      <td>2</td>\n",
       "      <td>Caldwell, Mr. Albert Francis</td>\n",
       "      <td>male</td>\n",
       "      <td>26.0</td>\n",
       "      <td>1</td>\n",
       "      <td>1</td>\n",
       "      <td>248738</td>\n",
       "      <td>29.0000</td>\n",
       "      <td>NaN</td>\n",
       "      <td>S</td>\n",
       "    </tr>\n",
       "    <tr>\n",
       "      <th>8</th>\n",
       "      <td>900</td>\n",
       "      <td>3</td>\n",
       "      <td>Abrahim, Mrs. Joseph (Sophie Halaut Easu)</td>\n",
       "      <td>female</td>\n",
       "      <td>18.0</td>\n",
       "      <td>0</td>\n",
       "      <td>0</td>\n",
       "      <td>2657</td>\n",
       "      <td>7.2292</td>\n",
       "      <td>NaN</td>\n",
       "      <td>C</td>\n",
       "    </tr>\n",
       "    <tr>\n",
       "      <th>9</th>\n",
       "      <td>901</td>\n",
       "      <td>3</td>\n",
       "      <td>Davies, Mr. John Samuel</td>\n",
       "      <td>male</td>\n",
       "      <td>21.0</td>\n",
       "      <td>2</td>\n",
       "      <td>0</td>\n",
       "      <td>A/4 48871</td>\n",
       "      <td>24.1500</td>\n",
       "      <td>NaN</td>\n",
       "      <td>S</td>\n",
       "    </tr>\n",
       "  </tbody>\n",
       "</table>\n",
       "</div>"
      ],
      "text/plain": [
       "   PassengerId  Pclass                                          Name     Sex  \\\n",
       "0          892       3                              Kelly, Mr. James    male   \n",
       "1          893       3              Wilkes, Mrs. James (Ellen Needs)  female   \n",
       "2          894       2                     Myles, Mr. Thomas Francis    male   \n",
       "3          895       3                              Wirz, Mr. Albert    male   \n",
       "4          896       3  Hirvonen, Mrs. Alexander (Helga E Lindqvist)  female   \n",
       "5          897       3                    Svensson, Mr. Johan Cervin    male   \n",
       "6          898       3                          Connolly, Miss. Kate  female   \n",
       "7          899       2                  Caldwell, Mr. Albert Francis    male   \n",
       "8          900       3     Abrahim, Mrs. Joseph (Sophie Halaut Easu)  female   \n",
       "9          901       3                       Davies, Mr. John Samuel    male   \n",
       "\n",
       "    Age  SibSp  Parch     Ticket     Fare Cabin Embarked  \n",
       "0  34.5      0      0     330911   7.8292   NaN        Q  \n",
       "1  47.0      1      0     363272   7.0000   NaN        S  \n",
       "2  62.0      0      0     240276   9.6875   NaN        Q  \n",
       "3  27.0      0      0     315154   8.6625   NaN        S  \n",
       "4  22.0      1      1    3101298  12.2875   NaN        S  \n",
       "5  14.0      0      0       7538   9.2250   NaN        S  \n",
       "6  30.0      0      0     330972   7.6292   NaN        Q  \n",
       "7  26.0      1      1     248738  29.0000   NaN        S  \n",
       "8  18.0      0      0       2657   7.2292   NaN        C  \n",
       "9  21.0      2      0  A/4 48871  24.1500   NaN        S  "
      ]
     },
     "execution_count": 39,
     "metadata": {},
     "output_type": "execute_result"
    }
   ],
   "source": [
    "test_df = pd.read_csv(\"/kaggle/input/titanic/test.csv\")\n",
    "test_df.head(10)"
   ]
  },
  {
   "cell_type": "code",
   "execution_count": 40,
   "id": "63f03fe4",
   "metadata": {
    "execution": {
     "iopub.execute_input": "2025-02-01T15:30:19.332261Z",
     "iopub.status.busy": "2025-02-01T15:30:19.332025Z",
     "iopub.status.idle": "2025-02-01T15:30:19.336345Z",
     "shell.execute_reply": "2025-02-01T15:30:19.335530Z"
    },
    "papermill": {
     "duration": 0.021302,
     "end_time": "2025-02-01T15:30:19.337471",
     "exception": false,
     "start_time": "2025-02-01T15:30:19.316169",
     "status": "completed"
    },
    "tags": []
   },
   "outputs": [
    {
     "data": {
      "text/plain": [
       "418"
      ]
     },
     "execution_count": 40,
     "metadata": {},
     "output_type": "execute_result"
    }
   ],
   "source": [
    "len(test_df)"
   ]
  },
  {
   "cell_type": "code",
   "execution_count": 41,
   "id": "ef3e66e4",
   "metadata": {
    "execution": {
     "iopub.execute_input": "2025-02-01T15:30:19.369234Z",
     "iopub.status.busy": "2025-02-01T15:30:19.369027Z",
     "iopub.status.idle": "2025-02-01T15:30:19.380736Z",
     "shell.execute_reply": "2025-02-01T15:30:19.380078Z"
    },
    "papermill": {
     "duration": 0.028932,
     "end_time": "2025-02-01T15:30:19.381966",
     "exception": false,
     "start_time": "2025-02-01T15:30:19.353034",
     "status": "completed"
    },
    "tags": []
   },
   "outputs": [
    {
     "data": {
      "text/plain": [
       "(tensor([0., 1., 0., 1., 0.]), tensor([]))"
      ]
     },
     "execution_count": 41,
     "metadata": {},
     "output_type": "execute_result"
    }
   ],
   "source": [
    "csv_file = \"/kaggle/input/titanic/test.csv\"\n",
    "target_col_list = []\n",
    "\n",
    "transforms = torchvision.transforms.Compose([FillNa(fill_na), \n",
    "                                             NormalizeCol(normalize_cols),\n",
    "                                             ConvertNumpyArrToFloat32Tensor()])\n",
    "\n",
    "entire_data_transform = torchvision.transforms.Compose([OneHotEncode(cat_cols),])\n",
    "\n",
    "final_test_dataset = CSVDataset(csv_file, features_col_list, target_col_list, transform=transforms, entire_data_transform=entire_data_transform)\n",
    "final_test_dataset[0]"
   ]
  },
  {
   "cell_type": "code",
   "execution_count": 42,
   "id": "3520ddc9",
   "metadata": {
    "execution": {
     "iopub.execute_input": "2025-02-01T15:30:19.414505Z",
     "iopub.status.busy": "2025-02-01T15:30:19.414297Z",
     "iopub.status.idle": "2025-02-01T15:30:19.418327Z",
     "shell.execute_reply": "2025-02-01T15:30:19.417529Z"
    },
    "papermill": {
     "duration": 0.021512,
     "end_time": "2025-02-01T15:30:19.419429",
     "exception": false,
     "start_time": "2025-02-01T15:30:19.397917",
     "status": "completed"
    },
    "tags": []
   },
   "outputs": [
    {
     "data": {
      "text/plain": [
       "418"
      ]
     },
     "execution_count": 42,
     "metadata": {},
     "output_type": "execute_result"
    }
   ],
   "source": [
    "len(final_test_dataset)"
   ]
  },
  {
   "cell_type": "code",
   "execution_count": 43,
   "id": "1aa0a5b2",
   "metadata": {
    "execution": {
     "iopub.execute_input": "2025-02-01T15:30:19.453246Z",
     "iopub.status.busy": "2025-02-01T15:30:19.453039Z",
     "iopub.status.idle": "2025-02-01T15:30:20.030361Z",
     "shell.execute_reply": "2025-02-01T15:30:20.029423Z"
    },
    "papermill": {
     "duration": 0.595339,
     "end_time": "2025-02-01T15:30:20.031890",
     "exception": false,
     "start_time": "2025-02-01T15:30:19.436551",
     "status": "completed"
    },
    "tags": []
   },
   "outputs": [],
   "source": [
    "final_test_loader = DataLoader(final_test_dataset, shuffle=False)\n",
    "\n",
    "pred = []\n",
    "with torch.no_grad():  # Disable gradient calculation\n",
    "    for inputs, labels in final_test_loader:\n",
    "        inputs = inputs.to(device)\n",
    "    \n",
    "        outputs = model(inputs)\n",
    "        predictions = torch.sigmoid(outputs)  # Apply sigmoid for binary classification\n",
    "        predicted_classes = (predictions > 0.5).float()  # Convert to binary (0 or 1)\n",
    "\n",
    "        pred.append(int(predicted_classes.item()))"
   ]
  },
  {
   "cell_type": "code",
   "execution_count": 44,
   "id": "69119a99",
   "metadata": {
    "execution": {
     "iopub.execute_input": "2025-02-01T15:30:20.064927Z",
     "iopub.status.busy": "2025-02-01T15:30:20.064678Z",
     "iopub.status.idle": "2025-02-01T15:30:20.068874Z",
     "shell.execute_reply": "2025-02-01T15:30:20.068232Z"
    },
    "papermill": {
     "duration": 0.021844,
     "end_time": "2025-02-01T15:30:20.070070",
     "exception": false,
     "start_time": "2025-02-01T15:30:20.048226",
     "status": "completed"
    },
    "tags": []
   },
   "outputs": [
    {
     "data": {
      "text/plain": [
       "418"
      ]
     },
     "execution_count": 44,
     "metadata": {},
     "output_type": "execute_result"
    }
   ],
   "source": [
    "len(final_test_loader)"
   ]
  },
  {
   "cell_type": "code",
   "execution_count": 45,
   "id": "7ef96f8f",
   "metadata": {
    "execution": {
     "iopub.execute_input": "2025-02-01T15:30:20.102487Z",
     "iopub.status.busy": "2025-02-01T15:30:20.102283Z",
     "iopub.status.idle": "2025-02-01T15:30:20.109064Z",
     "shell.execute_reply": "2025-02-01T15:30:20.108268Z"
    },
    "papermill": {
     "duration": 0.024439,
     "end_time": "2025-02-01T15:30:20.110344",
     "exception": false,
     "start_time": "2025-02-01T15:30:20.085905",
     "status": "completed"
    },
    "tags": []
   },
   "outputs": [],
   "source": [
    "pred_df = pd.DataFrame(pred, columns=[\"Survived\"])\n",
    "pred_df[\"PassengerId\"] = test_df[\"PassengerId\"]\n",
    "pred_df.to_csv(\"pred.csv\", index=False)"
   ]
  },
  {
   "cell_type": "code",
   "execution_count": 46,
   "id": "275251ce",
   "metadata": {
    "execution": {
     "iopub.execute_input": "2025-02-01T15:30:20.146958Z",
     "iopub.status.busy": "2025-02-01T15:30:20.146617Z",
     "iopub.status.idle": "2025-02-01T15:30:20.154774Z",
     "shell.execute_reply": "2025-02-01T15:30:20.153697Z"
    },
    "papermill": {
     "duration": 0.029793,
     "end_time": "2025-02-01T15:30:20.156371",
     "exception": false,
     "start_time": "2025-02-01T15:30:20.126578",
     "status": "completed"
    },
    "tags": []
   },
   "outputs": [
    {
     "data": {
      "text/html": [
       "<div>\n",
       "<style scoped>\n",
       "    .dataframe tbody tr th:only-of-type {\n",
       "        vertical-align: middle;\n",
       "    }\n",
       "\n",
       "    .dataframe tbody tr th {\n",
       "        vertical-align: top;\n",
       "    }\n",
       "\n",
       "    .dataframe thead th {\n",
       "        text-align: right;\n",
       "    }\n",
       "</style>\n",
       "<table border=\"1\" class=\"dataframe\">\n",
       "  <thead>\n",
       "    <tr style=\"text-align: right;\">\n",
       "      <th></th>\n",
       "      <th>Survived</th>\n",
       "      <th>PassengerId</th>\n",
       "    </tr>\n",
       "  </thead>\n",
       "  <tbody>\n",
       "    <tr>\n",
       "      <th>0</th>\n",
       "      <td>0</td>\n",
       "      <td>892</td>\n",
       "    </tr>\n",
       "    <tr>\n",
       "      <th>1</th>\n",
       "      <td>1</td>\n",
       "      <td>893</td>\n",
       "    </tr>\n",
       "    <tr>\n",
       "      <th>2</th>\n",
       "      <td>0</td>\n",
       "      <td>894</td>\n",
       "    </tr>\n",
       "    <tr>\n",
       "      <th>3</th>\n",
       "      <td>0</td>\n",
       "      <td>895</td>\n",
       "    </tr>\n",
       "    <tr>\n",
       "      <th>4</th>\n",
       "      <td>1</td>\n",
       "      <td>896</td>\n",
       "    </tr>\n",
       "  </tbody>\n",
       "</table>\n",
       "</div>"
      ],
      "text/plain": [
       "   Survived  PassengerId\n",
       "0         0          892\n",
       "1         1          893\n",
       "2         0          894\n",
       "3         0          895\n",
       "4         1          896"
      ]
     },
     "execution_count": 46,
     "metadata": {},
     "output_type": "execute_result"
    }
   ],
   "source": [
    "pred_df.head()"
   ]
  },
  {
   "cell_type": "code",
   "execution_count": null,
   "id": "5db6d0ee",
   "metadata": {
    "papermill": {
     "duration": 0.01725,
     "end_time": "2025-02-01T15:30:20.197705",
     "exception": false,
     "start_time": "2025-02-01T15:30:20.180455",
     "status": "completed"
    },
    "tags": []
   },
   "outputs": [],
   "source": []
  }
 ],
 "metadata": {
  "kaggle": {
   "accelerator": "nvidiaTeslaT4",
   "dataSources": [
    {
     "databundleVersionId": 26502,
     "sourceId": 3136,
     "sourceType": "competition"
    }
   ],
   "dockerImageVersionId": 30822,
   "isGpuEnabled": true,
   "isInternetEnabled": true,
   "language": "python",
   "sourceType": "notebook"
  },
  "kernelspec": {
   "display_name": "Python 3",
   "language": "python",
   "name": "python3"
  },
  "language_info": {
   "codemirror_mode": {
    "name": "ipython",
    "version": 3
   },
   "file_extension": ".py",
   "mimetype": "text/x-python",
   "name": "python",
   "nbconvert_exporter": "python",
   "pygments_lexer": "ipython3",
   "version": "3.10.12"
  },
  "papermill": {
   "default_parameters": {},
   "duration": 168.203278,
   "end_time": "2025-02-01T15:30:21.941252",
   "environment_variables": {},
   "exception": null,
   "input_path": "__notebook__.ipynb",
   "output_path": "__notebook__.ipynb",
   "parameters": {},
   "start_time": "2025-02-01T15:27:33.737974",
   "version": "2.6.0"
  }
 },
 "nbformat": 4,
 "nbformat_minor": 5
}
