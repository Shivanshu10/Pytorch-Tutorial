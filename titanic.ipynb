{
 "cells": [
  {
   "cell_type": "code",
   "execution_count": 1,
   "id": "aceed85e",
   "metadata": {
    "_cell_guid": "b1076dfc-b9ad-4769-8c92-a6c4dae69d19",
    "_uuid": "8f2839f25d086af736a60e9eeb907d3b93b6e0e5",
    "execution": {
     "iopub.execute_input": "2025-01-30T17:00:25.031416Z",
     "iopub.status.busy": "2025-01-30T17:00:25.031065Z",
     "iopub.status.idle": "2025-01-30T17:00:28.607989Z",
     "shell.execute_reply": "2025-01-30T17:00:28.606784Z"
    },
    "papermill": {
     "duration": 3.590737,
     "end_time": "2025-01-30T17:00:28.609752",
     "exception": false,
     "start_time": "2025-01-30T17:00:25.019015",
     "status": "completed"
    },
    "tags": []
   },
   "outputs": [
    {
     "name": "stdout",
     "output_type": "stream",
     "text": [
      "/kaggle/input/titanic/train.csv\n",
      "/kaggle/input/titanic/test.csv\n",
      "/kaggle/input/titanic/gender_submission.csv\n"
     ]
    }
   ],
   "source": [
    "import numpy as np\n",
    "import pandas as pd\n",
    "import seaborn as sns\n",
    "import matplotlib.pyplot as plt\n",
    "import os\n",
    "for dirname, _, filenames in os.walk('/kaggle/input'):\n",
    "    for filename in filenames:\n",
    "        print(os.path.join(dirname, filename))"
   ]
  },
  {
   "cell_type": "markdown",
   "id": "e3233081",
   "metadata": {
    "papermill": {
     "duration": 0.008807,
     "end_time": "2025-01-30T17:00:28.627917",
     "exception": false,
     "start_time": "2025-01-30T17:00:28.619110",
     "status": "completed"
    },
    "tags": []
   },
   "source": [
    "## Load Data"
   ]
  },
  {
   "cell_type": "code",
   "execution_count": 2,
   "id": "50c71af4",
   "metadata": {
    "execution": {
     "iopub.execute_input": "2025-01-30T17:00:28.647089Z",
     "iopub.status.busy": "2025-01-30T17:00:28.646599Z",
     "iopub.status.idle": "2025-01-30T17:00:28.720951Z",
     "shell.execute_reply": "2025-01-30T17:00:28.719916Z"
    },
    "papermill": {
     "duration": 0.085603,
     "end_time": "2025-01-30T17:00:28.722537",
     "exception": false,
     "start_time": "2025-01-30T17:00:28.636934",
     "status": "completed"
    },
    "tags": []
   },
   "outputs": [
    {
     "data": {
      "text/html": [
       "<div>\n",
       "<style scoped>\n",
       "    .dataframe tbody tr th:only-of-type {\n",
       "        vertical-align: middle;\n",
       "    }\n",
       "\n",
       "    .dataframe tbody tr th {\n",
       "        vertical-align: top;\n",
       "    }\n",
       "\n",
       "    .dataframe thead th {\n",
       "        text-align: right;\n",
       "    }\n",
       "</style>\n",
       "<table border=\"1\" class=\"dataframe\">\n",
       "  <thead>\n",
       "    <tr style=\"text-align: right;\">\n",
       "      <th></th>\n",
       "      <th>Survived</th>\n",
       "      <th>Pclass</th>\n",
       "      <th>Name</th>\n",
       "      <th>Sex</th>\n",
       "      <th>Age</th>\n",
       "      <th>SibSp</th>\n",
       "      <th>Parch</th>\n",
       "      <th>Ticket</th>\n",
       "      <th>Fare</th>\n",
       "      <th>Cabin</th>\n",
       "      <th>Embarked</th>\n",
       "    </tr>\n",
       "    <tr>\n",
       "      <th>PassengerId</th>\n",
       "      <th></th>\n",
       "      <th></th>\n",
       "      <th></th>\n",
       "      <th></th>\n",
       "      <th></th>\n",
       "      <th></th>\n",
       "      <th></th>\n",
       "      <th></th>\n",
       "      <th></th>\n",
       "      <th></th>\n",
       "      <th></th>\n",
       "    </tr>\n",
       "  </thead>\n",
       "  <tbody>\n",
       "    <tr>\n",
       "      <th>1</th>\n",
       "      <td>0</td>\n",
       "      <td>3</td>\n",
       "      <td>Braund, Mr. Owen Harris</td>\n",
       "      <td>male</td>\n",
       "      <td>22.0</td>\n",
       "      <td>1</td>\n",
       "      <td>0</td>\n",
       "      <td>A/5 21171</td>\n",
       "      <td>7.2500</td>\n",
       "      <td>NaN</td>\n",
       "      <td>S</td>\n",
       "    </tr>\n",
       "    <tr>\n",
       "      <th>2</th>\n",
       "      <td>1</td>\n",
       "      <td>1</td>\n",
       "      <td>Cumings, Mrs. John Bradley (Florence Briggs Th...</td>\n",
       "      <td>female</td>\n",
       "      <td>38.0</td>\n",
       "      <td>1</td>\n",
       "      <td>0</td>\n",
       "      <td>PC 17599</td>\n",
       "      <td>71.2833</td>\n",
       "      <td>C85</td>\n",
       "      <td>C</td>\n",
       "    </tr>\n",
       "    <tr>\n",
       "      <th>3</th>\n",
       "      <td>1</td>\n",
       "      <td>3</td>\n",
       "      <td>Heikkinen, Miss. Laina</td>\n",
       "      <td>female</td>\n",
       "      <td>26.0</td>\n",
       "      <td>0</td>\n",
       "      <td>0</td>\n",
       "      <td>STON/O2. 3101282</td>\n",
       "      <td>7.9250</td>\n",
       "      <td>NaN</td>\n",
       "      <td>S</td>\n",
       "    </tr>\n",
       "    <tr>\n",
       "      <th>4</th>\n",
       "      <td>1</td>\n",
       "      <td>1</td>\n",
       "      <td>Futrelle, Mrs. Jacques Heath (Lily May Peel)</td>\n",
       "      <td>female</td>\n",
       "      <td>35.0</td>\n",
       "      <td>1</td>\n",
       "      <td>0</td>\n",
       "      <td>113803</td>\n",
       "      <td>53.1000</td>\n",
       "      <td>C123</td>\n",
       "      <td>S</td>\n",
       "    </tr>\n",
       "    <tr>\n",
       "      <th>5</th>\n",
       "      <td>0</td>\n",
       "      <td>3</td>\n",
       "      <td>Allen, Mr. William Henry</td>\n",
       "      <td>male</td>\n",
       "      <td>35.0</td>\n",
       "      <td>0</td>\n",
       "      <td>0</td>\n",
       "      <td>373450</td>\n",
       "      <td>8.0500</td>\n",
       "      <td>NaN</td>\n",
       "      <td>S</td>\n",
       "    </tr>\n",
       "    <tr>\n",
       "      <th>6</th>\n",
       "      <td>0</td>\n",
       "      <td>3</td>\n",
       "      <td>Moran, Mr. James</td>\n",
       "      <td>male</td>\n",
       "      <td>NaN</td>\n",
       "      <td>0</td>\n",
       "      <td>0</td>\n",
       "      <td>330877</td>\n",
       "      <td>8.4583</td>\n",
       "      <td>NaN</td>\n",
       "      <td>Q</td>\n",
       "    </tr>\n",
       "    <tr>\n",
       "      <th>7</th>\n",
       "      <td>0</td>\n",
       "      <td>1</td>\n",
       "      <td>McCarthy, Mr. Timothy J</td>\n",
       "      <td>male</td>\n",
       "      <td>54.0</td>\n",
       "      <td>0</td>\n",
       "      <td>0</td>\n",
       "      <td>17463</td>\n",
       "      <td>51.8625</td>\n",
       "      <td>E46</td>\n",
       "      <td>S</td>\n",
       "    </tr>\n",
       "    <tr>\n",
       "      <th>8</th>\n",
       "      <td>0</td>\n",
       "      <td>3</td>\n",
       "      <td>Palsson, Master. Gosta Leonard</td>\n",
       "      <td>male</td>\n",
       "      <td>2.0</td>\n",
       "      <td>3</td>\n",
       "      <td>1</td>\n",
       "      <td>349909</td>\n",
       "      <td>21.0750</td>\n",
       "      <td>NaN</td>\n",
       "      <td>S</td>\n",
       "    </tr>\n",
       "    <tr>\n",
       "      <th>9</th>\n",
       "      <td>1</td>\n",
       "      <td>3</td>\n",
       "      <td>Johnson, Mrs. Oscar W (Elisabeth Vilhelmina Berg)</td>\n",
       "      <td>female</td>\n",
       "      <td>27.0</td>\n",
       "      <td>0</td>\n",
       "      <td>2</td>\n",
       "      <td>347742</td>\n",
       "      <td>11.1333</td>\n",
       "      <td>NaN</td>\n",
       "      <td>S</td>\n",
       "    </tr>\n",
       "    <tr>\n",
       "      <th>10</th>\n",
       "      <td>1</td>\n",
       "      <td>2</td>\n",
       "      <td>Nasser, Mrs. Nicholas (Adele Achem)</td>\n",
       "      <td>female</td>\n",
       "      <td>14.0</td>\n",
       "      <td>1</td>\n",
       "      <td>0</td>\n",
       "      <td>237736</td>\n",
       "      <td>30.0708</td>\n",
       "      <td>NaN</td>\n",
       "      <td>C</td>\n",
       "    </tr>\n",
       "  </tbody>\n",
       "</table>\n",
       "</div>"
      ],
      "text/plain": [
       "             Survived  Pclass  \\\n",
       "PassengerId                     \n",
       "1                   0       3   \n",
       "2                   1       1   \n",
       "3                   1       3   \n",
       "4                   1       1   \n",
       "5                   0       3   \n",
       "6                   0       3   \n",
       "7                   0       1   \n",
       "8                   0       3   \n",
       "9                   1       3   \n",
       "10                  1       2   \n",
       "\n",
       "                                                          Name     Sex   Age  \\\n",
       "PassengerId                                                                    \n",
       "1                                      Braund, Mr. Owen Harris    male  22.0   \n",
       "2            Cumings, Mrs. John Bradley (Florence Briggs Th...  female  38.0   \n",
       "3                                       Heikkinen, Miss. Laina  female  26.0   \n",
       "4                 Futrelle, Mrs. Jacques Heath (Lily May Peel)  female  35.0   \n",
       "5                                     Allen, Mr. William Henry    male  35.0   \n",
       "6                                             Moran, Mr. James    male   NaN   \n",
       "7                                      McCarthy, Mr. Timothy J    male  54.0   \n",
       "8                               Palsson, Master. Gosta Leonard    male   2.0   \n",
       "9            Johnson, Mrs. Oscar W (Elisabeth Vilhelmina Berg)  female  27.0   \n",
       "10                         Nasser, Mrs. Nicholas (Adele Achem)  female  14.0   \n",
       "\n",
       "             SibSp  Parch            Ticket     Fare Cabin Embarked  \n",
       "PassengerId                                                          \n",
       "1                1      0         A/5 21171   7.2500   NaN        S  \n",
       "2                1      0          PC 17599  71.2833   C85        C  \n",
       "3                0      0  STON/O2. 3101282   7.9250   NaN        S  \n",
       "4                1      0            113803  53.1000  C123        S  \n",
       "5                0      0            373450   8.0500   NaN        S  \n",
       "6                0      0            330877   8.4583   NaN        Q  \n",
       "7                0      0             17463  51.8625   E46        S  \n",
       "8                3      1            349909  21.0750   NaN        S  \n",
       "9                0      2            347742  11.1333   NaN        S  \n",
       "10               1      0            237736  30.0708   NaN        C  "
      ]
     },
     "execution_count": 2,
     "metadata": {},
     "output_type": "execute_result"
    }
   ],
   "source": [
    "train_df = pd.read_csv(\"/kaggle/input/titanic/train.csv\", index_col=0)\n",
    "train_df.head(10)"
   ]
  },
  {
   "cell_type": "code",
   "execution_count": 3,
   "id": "ab720d83",
   "metadata": {
    "execution": {
     "iopub.execute_input": "2025-01-30T17:00:28.742812Z",
     "iopub.status.busy": "2025-01-30T17:00:28.742480Z",
     "iopub.status.idle": "2025-01-30T17:00:28.747599Z",
     "shell.execute_reply": "2025-01-30T17:00:28.746669Z"
    },
    "papermill": {
     "duration": 0.016417,
     "end_time": "2025-01-30T17:00:28.749207",
     "exception": false,
     "start_time": "2025-01-30T17:00:28.732790",
     "status": "completed"
    },
    "tags": []
   },
   "outputs": [
    {
     "data": {
      "text/plain": [
       "891"
      ]
     },
     "execution_count": 3,
     "metadata": {},
     "output_type": "execute_result"
    }
   ],
   "source": [
    "len(train_df)"
   ]
  },
  {
   "cell_type": "markdown",
   "id": "1f7c6cf1",
   "metadata": {
    "papermill": {
     "duration": 0.008986,
     "end_time": "2025-01-30T17:00:28.767679",
     "exception": false,
     "start_time": "2025-01-30T17:00:28.758693",
     "status": "completed"
    },
    "tags": []
   },
   "source": [
    "## Explore Data"
   ]
  },
  {
   "attachments": {
    "32b3126c-ecdb-46fc-86b2-f22ddf6e6809.png": {
     "image/png": "[encoded data removed]"
    }
   },
   "cell_type": "markdown",
   "id": "8a41ec14",
   "metadata": {
    "papermill": {
     "duration": 0.009147,
     "end_time": "2025-01-30T17:00:28.786205",
     "exception": false,
     "start_time": "2025-01-30T17:00:28.777058",
     "status": "completed"
    },
    "tags": []
   },
   "source": [
    "![image.png](attachment:32b3126c-ecdb-46fc-86b2-f22ddf6e6809.png)"
   ]
  },
  {
   "cell_type": "code",
   "execution_count": 4,
   "id": "a90016d2",
   "metadata": {
    "execution": {
     "iopub.execute_input": "2025-01-30T17:00:28.806133Z",
     "iopub.status.busy": "2025-01-30T17:00:28.805807Z",
     "iopub.status.idle": "2025-01-30T17:00:28.810611Z",
     "shell.execute_reply": "2025-01-30T17:00:28.809888Z"
    },
    "papermill": {
     "duration": 0.016914,
     "end_time": "2025-01-30T17:00:28.812125",
     "exception": false,
     "start_time": "2025-01-30T17:00:28.795211",
     "status": "completed"
    },
    "tags": []
   },
   "outputs": [
    {
     "data": {
      "text/plain": [
       "891"
      ]
     },
     "execution_count": 4,
     "metadata": {},
     "output_type": "execute_result"
    }
   ],
   "source": [
    "len(train_df)"
   ]
  },
  {
   "cell_type": "code",
   "execution_count": 5,
   "id": "ce37ac87",
   "metadata": {
    "execution": {
     "iopub.execute_input": "2025-01-30T17:00:28.831409Z",
     "iopub.status.busy": "2025-01-30T17:00:28.831133Z",
     "iopub.status.idle": "2025-01-30T17:00:28.857610Z",
     "shell.execute_reply": "2025-01-30T17:00:28.856767Z"
    },
    "papermill": {
     "duration": 0.037736,
     "end_time": "2025-01-30T17:00:28.859081",
     "exception": false,
     "start_time": "2025-01-30T17:00:28.821345",
     "status": "completed"
    },
    "tags": []
   },
   "outputs": [
    {
     "data": {
      "text/html": [
       "<div>\n",
       "<style scoped>\n",
       "    .dataframe tbody tr th:only-of-type {\n",
       "        vertical-align: middle;\n",
       "    }\n",
       "\n",
       "    .dataframe tbody tr th {\n",
       "        vertical-align: top;\n",
       "    }\n",
       "\n",
       "    .dataframe thead th {\n",
       "        text-align: right;\n",
       "    }\n",
       "</style>\n",
       "<table border=\"1\" class=\"dataframe\">\n",
       "  <thead>\n",
       "    <tr style=\"text-align: right;\">\n",
       "      <th></th>\n",
       "      <th>Survived</th>\n",
       "      <th>Pclass</th>\n",
       "      <th>Age</th>\n",
       "      <th>SibSp</th>\n",
       "      <th>Parch</th>\n",
       "      <th>Fare</th>\n",
       "    </tr>\n",
       "  </thead>\n",
       "  <tbody>\n",
       "    <tr>\n",
       "      <th>count</th>\n",
       "      <td>891.000000</td>\n",
       "      <td>891.000000</td>\n",
       "      <td>714.000000</td>\n",
       "      <td>891.000000</td>\n",
       "      <td>891.000000</td>\n",
       "      <td>891.000000</td>\n",
       "    </tr>\n",
       "    <tr>\n",
       "      <th>mean</th>\n",
       "      <td>0.383838</td>\n",
       "      <td>2.308642</td>\n",
       "      <td>29.699118</td>\n",
       "      <td>0.523008</td>\n",
       "      <td>0.381594</td>\n",
       "      <td>32.204208</td>\n",
       "    </tr>\n",
       "    <tr>\n",
       "      <th>std</th>\n",
       "      <td>0.486592</td>\n",
       "      <td>0.836071</td>\n",
       "      <td>14.526497</td>\n",
       "      <td>1.102743</td>\n",
       "      <td>0.806057</td>\n",
       "      <td>49.693429</td>\n",
       "    </tr>\n",
       "    <tr>\n",
       "      <th>min</th>\n",
       "      <td>0.000000</td>\n",
       "      <td>1.000000</td>\n",
       "      <td>0.420000</td>\n",
       "      <td>0.000000</td>\n",
       "      <td>0.000000</td>\n",
       "      <td>0.000000</td>\n",
       "    </tr>\n",
       "    <tr>\n",
       "      <th>25%</th>\n",
       "      <td>0.000000</td>\n",
       "      <td>2.000000</td>\n",
       "      <td>20.125000</td>\n",
       "      <td>0.000000</td>\n",
       "      <td>0.000000</td>\n",
       "      <td>7.910400</td>\n",
       "    </tr>\n",
       "    <tr>\n",
       "      <th>50%</th>\n",
       "      <td>0.000000</td>\n",
       "      <td>3.000000</td>\n",
       "      <td>28.000000</td>\n",
       "      <td>0.000000</td>\n",
       "      <td>0.000000</td>\n",
       "      <td>14.454200</td>\n",
       "    </tr>\n",
       "    <tr>\n",
       "      <th>75%</th>\n",
       "      <td>1.000000</td>\n",
       "      <td>3.000000</td>\n",
       "      <td>38.000000</td>\n",
       "      <td>1.000000</td>\n",
       "      <td>0.000000</td>\n",
       "      <td>31.000000</td>\n",
       "    </tr>\n",
       "    <tr>\n",
       "      <th>max</th>\n",
       "      <td>1.000000</td>\n",
       "      <td>3.000000</td>\n",
       "      <td>80.000000</td>\n",
       "      <td>8.000000</td>\n",
       "      <td>6.000000</td>\n",
       "      <td>512.329200</td>\n",
       "    </tr>\n",
       "  </tbody>\n",
       "</table>\n",
       "</div>"
      ],
      "text/plain": [
       "         Survived      Pclass         Age       SibSp       Parch        Fare\n",
       "count  891.000000  891.000000  714.000000  891.000000  891.000000  891.000000\n",
       "mean     0.383838    2.308642   29.699118    0.523008    0.381594   32.204208\n",
       "std      0.486592    0.836071   14.526497    1.102743    0.806057   49.693429\n",
       "min      0.000000    1.000000    0.420000    0.000000    0.000000    0.000000\n",
       "25%      0.000000    2.000000   20.125000    0.000000    0.000000    7.910400\n",
       "50%      0.000000    3.000000   28.000000    0.000000    0.000000   14.454200\n",
       "75%      1.000000    3.000000   38.000000    1.000000    0.000000   31.000000\n",
       "max      1.000000    3.000000   80.000000    8.000000    6.000000  512.329200"
      ]
     },
     "execution_count": 5,
     "metadata": {},
     "output_type": "execute_result"
    }
   ],
   "source": [
    "train_df.describe()"
   ]
  },
  {
   "cell_type": "code",
   "execution_count": 6,
   "id": "be1e671a",
   "metadata": {
    "execution": {
     "iopub.execute_input": "2025-01-30T17:00:28.879174Z",
     "iopub.status.busy": "2025-01-30T17:00:28.878905Z",
     "iopub.status.idle": "2025-01-30T17:00:28.883687Z",
     "shell.execute_reply": "2025-01-30T17:00:28.882893Z"
    },
    "papermill": {
     "duration": 0.016496,
     "end_time": "2025-01-30T17:00:28.885162",
     "exception": false,
     "start_time": "2025-01-30T17:00:28.868666",
     "status": "completed"
    },
    "tags": []
   },
   "outputs": [
    {
     "name": "stdout",
     "output_type": "stream",
     "text": [
      "count of items to be dropped 177\n",
      "count of items left 714\n"
     ]
    }
   ],
   "source": [
    "# age has some null value\n",
    "# should we try dropping them for now?\n",
    "\n",
    "# count of rows that will be dropped\n",
    "print(f\"count of items to be dropped {len(train_df) - 714}\")\n",
    "\n",
    "# rows lefr\n",
    "print(f\"count of items left {len(train_df) - len(train_df) + 714}\")"
   ]
  },
  {
   "cell_type": "code",
   "execution_count": 7,
   "id": "a3df0d53",
   "metadata": {
    "execution": {
     "iopub.execute_input": "2025-01-30T17:00:28.906099Z",
     "iopub.status.busy": "2025-01-30T17:00:28.905748Z",
     "iopub.status.idle": "2025-01-30T17:00:28.913300Z",
     "shell.execute_reply": "2025-01-30T17:00:28.912271Z"
    },
    "papermill": {
     "duration": 0.019519,
     "end_time": "2025-01-30T17:00:28.914788",
     "exception": false,
     "start_time": "2025-01-30T17:00:28.895269",
     "status": "completed"
    },
    "tags": []
   },
   "outputs": [
    {
     "data": {
      "text/plain": [
       "Survived      0\n",
       "Pclass        0\n",
       "Name          0\n",
       "Sex           0\n",
       "Age         177\n",
       "SibSp         0\n",
       "Parch         0\n",
       "Ticket        0\n",
       "Fare          0\n",
       "Cabin       687\n",
       "Embarked      2\n",
       "dtype: int64"
      ]
     },
     "execution_count": 7,
     "metadata": {},
     "output_type": "execute_result"
    }
   ],
   "source": [
    "train_df.isna().sum()"
   ]
  },
  {
   "cell_type": "code",
   "execution_count": 8,
   "id": "c3209ae2",
   "metadata": {
    "execution": {
     "iopub.execute_input": "2025-01-30T17:00:28.935827Z",
     "iopub.status.busy": "2025-01-30T17:00:28.935488Z",
     "iopub.status.idle": "2025-01-30T17:00:28.939130Z",
     "shell.execute_reply": "2025-01-30T17:00:28.938188Z"
    },
    "papermill": {
     "duration": 0.015703,
     "end_time": "2025-01-30T17:00:28.940563",
     "exception": false,
     "start_time": "2025-01-30T17:00:28.924860",
     "status": "completed"
    },
    "tags": []
   },
   "outputs": [],
   "source": [
    "# cabin has 687 nulls, i dont think we can learn anything using it though"
   ]
  },
  {
   "cell_type": "code",
   "execution_count": 9,
   "id": "32995b85",
   "metadata": {
    "execution": {
     "iopub.execute_input": "2025-01-30T17:00:28.962735Z",
     "iopub.status.busy": "2025-01-30T17:00:28.962426Z",
     "iopub.status.idle": "2025-01-30T17:00:28.971395Z",
     "shell.execute_reply": "2025-01-30T17:00:28.970430Z"
    },
    "papermill": {
     "duration": 0.022364,
     "end_time": "2025-01-30T17:00:28.972966",
     "exception": false,
     "start_time": "2025-01-30T17:00:28.950602",
     "status": "completed"
    },
    "tags": []
   },
   "outputs": [
    {
     "data": {
      "text/plain": [
       "Survived\n",
       "0    549\n",
       "1    342\n",
       "Name: count, dtype: int64"
      ]
     },
     "execution_count": 9,
     "metadata": {},
     "output_type": "execute_result"
    }
   ],
   "source": [
    "# lets check balance now\n",
    "train_df[\"Survived\"].value_counts()"
   ]
  },
  {
   "cell_type": "code",
   "execution_count": 10,
   "id": "daffb84a",
   "metadata": {
    "execution": {
     "iopub.execute_input": "2025-01-30T17:00:28.993968Z",
     "iopub.status.busy": "2025-01-30T17:00:28.993599Z",
     "iopub.status.idle": "2025-01-30T17:00:29.001290Z",
     "shell.execute_reply": "2025-01-30T17:00:29.000240Z"
    },
    "papermill": {
     "duration": 0.019821,
     "end_time": "2025-01-30T17:00:29.002838",
     "exception": false,
     "start_time": "2025-01-30T17:00:28.983017",
     "status": "completed"
    },
    "tags": []
   },
   "outputs": [
    {
     "name": "stdout",
     "output_type": "stream",
     "text": [
      "Survived\n",
      "0    61.616162\n",
      "1    38.383838\n",
      "Name: proportion, dtype: float64\n",
      "The dataset is balanced.\n"
     ]
    }
   ],
   "source": [
    "class_percentages = train_df[\"Survived\"].value_counts(normalize=True) * 100\n",
    "\n",
    "print(class_percentages)\n",
    "\n",
    "threshold = 70  # Adjust this as needed\n",
    "is_balanced = all(class_percentages < threshold)\n",
    "\n",
    "if is_balanced:\n",
    "    print(\"The dataset is balanced.\")\n",
    "else:\n",
    "    print(\"The dataset is imbalanced.\")"
   ]
  },
  {
   "cell_type": "code",
   "execution_count": 11,
   "id": "79e1a4f7",
   "metadata": {
    "execution": {
     "iopub.execute_input": "2025-01-30T17:00:29.023753Z",
     "iopub.status.busy": "2025-01-30T17:00:29.023444Z",
     "iopub.status.idle": "2025-01-30T17:00:29.026685Z",
     "shell.execute_reply": "2025-01-30T17:00:29.025966Z"
    },
    "papermill": {
     "duration": 0.015279,
     "end_time": "2025-01-30T17:00:29.028005",
     "exception": false,
     "start_time": "2025-01-30T17:00:29.012726",
     "status": "completed"
    },
    "tags": []
   },
   "outputs": [],
   "source": [
    "# so model can easily get 61% accuracy if it always predics 0\n",
    "# so this will be our basepoint"
   ]
  },
  {
   "cell_type": "code",
   "execution_count": 12,
   "id": "83f7e58a",
   "metadata": {
    "execution": {
     "iopub.execute_input": "2025-01-30T17:00:29.048057Z",
     "iopub.status.busy": "2025-01-30T17:00:29.047796Z",
     "iopub.status.idle": "2025-01-30T17:00:29.072012Z",
     "shell.execute_reply": "2025-01-30T17:00:29.070828Z"
    },
    "papermill": {
     "duration": 0.035741,
     "end_time": "2025-01-30T17:00:29.073437",
     "exception": false,
     "start_time": "2025-01-30T17:00:29.037696",
     "status": "completed"
    },
    "tags": []
   },
   "outputs": [
    {
     "name": "stdout",
     "output_type": "stream",
     "text": [
      "Column: Survived\n",
      "Outliers: 0\n",
      "Column: Pclass\n",
      "Outliers: 0\n",
      "Column: Age\n",
      "Outliers: 11\n",
      "Column: SibSp\n",
      "Outliers: 46\n",
      "Column: Parch\n",
      "Outliers: 213\n",
      "Column: Fare\n",
      "Outliers: 116\n"
     ]
    }
   ],
   "source": [
    "# check outliers\n",
    "# Identify outliers for each column\n",
    "for column in train_df.select_dtypes(include=[np.number]):  # Only numerical columns\n",
    "    Q1 = train_df[column].quantile(0.25)  # First quartile (25th percentile)\n",
    "    Q3 = train_df[column].quantile(0.75)  # Third quartile (75th percentile)\n",
    "    IQR = Q3 - Q1  # Interquartile range\n",
    "    lower_bound = Q1 - 1.5 * IQR\n",
    "    upper_bound = Q3 + 1.5 * IQR\n",
    "\n",
    "    print(f\"Column: {column}\")\n",
    "    print(f\"Outliers: {len(train_df[(train_df[column] < lower_bound) | (train_df[column] > upper_bound)][column].tolist())}\")"
   ]
  },
  {
   "cell_type": "markdown",
   "id": "5d3acc91",
   "metadata": {
    "papermill": {
     "duration": 0.009692,
     "end_time": "2025-01-30T17:00:29.093140",
     "exception": false,
     "start_time": "2025-01-30T17:00:29.083448",
     "status": "completed"
    },
    "tags": []
   },
   "source": [
    "## Create Dataset Class"
   ]
  },
  {
   "cell_type": "code",
   "execution_count": 13,
   "id": "f3f8f6bf",
   "metadata": {
    "execution": {
     "iopub.execute_input": "2025-01-30T17:00:29.114278Z",
     "iopub.status.busy": "2025-01-30T17:00:29.113898Z",
     "iopub.status.idle": "2025-01-30T17:00:29.418936Z",
     "shell.execute_reply": "2025-01-30T17:00:29.417892Z"
    },
    "papermill": {
     "duration": 0.317348,
     "end_time": "2025-01-30T17:00:29.420351",
     "exception": false,
     "start_time": "2025-01-30T17:00:29.103003",
     "status": "completed"
    },
    "tags": []
   },
   "outputs": [
    {
     "data": {
      "image/png": "[encoded data removed]",
      "text/plain": [
       "<Figure size 640x480 with 1 Axes>"
      ]
     },
     "metadata": {},
     "output_type": "display_data"
    }
   ],
   "source": [
    "sns.countplot(x='Sex', hue='Survived', data=train_df)\n",
    "\n",
    "total = len(train_df)\n",
    "\n",
    "# Add percentage annotations\n",
    "\n",
    "for p in plt.gca().patches:\n",
    "    height = p.get_height()\n",
    "    width = p.get_width()\n",
    "    x, y = p.get_xy()  # Get position of each bar\n",
    "    percentage = height / total * 100\n",
    "    plt.text(x + width / 2, y + height + 5, f'{percentage:.1f}%', ha='center')\n",
    "\n",
    "plt.title('Count of Survived vs. Not Survived by Gender')\n",
    "plt.xlabel('Gender')\n",
    "plt.ylabel('Count')\n",
    "plt.show()"
   ]
  },
  {
   "cell_type": "code",
   "execution_count": 14,
   "id": "ee3a86df",
   "metadata": {
    "execution": {
     "iopub.execute_input": "2025-01-30T17:00:29.442770Z",
     "iopub.status.busy": "2025-01-30T17:00:29.442404Z",
     "iopub.status.idle": "2025-01-30T17:00:29.847208Z",
     "shell.execute_reply": "2025-01-30T17:00:29.846071Z"
    },
    "papermill": {
     "duration": 0.417819,
     "end_time": "2025-01-30T17:00:29.848852",
     "exception": false,
     "start_time": "2025-01-30T17:00:29.431033",
     "status": "completed"
    },
    "tags": []
   },
   "outputs": [
    {
     "name": "stderr",
     "output_type": "stream",
     "text": [
      "/usr/local/lib/python3.10/dist-packages/seaborn/_oldcore.py:1119: FutureWarning: use_inf_as_na option is deprecated and will be removed in a future version. Convert inf values to NaN before operating instead.\n",
      "  with pd.option_context('mode.use_inf_as_na', True):\n"
     ]
    },
    {
     "data": {
      "image/png": "[encoded data removed]",
      "text/plain": [
       "<Figure size 640x480 with 1 Axes>"
      ]
     },
     "metadata": {},
     "output_type": "display_data"
    }
   ],
   "source": [
    "sns.histplot(x='Age', hue='Survived', data=train_df)\n",
    "plt.title('Count of Survived vs. Not Survived by Age')\n",
    "plt.xlabel('Age')\n",
    "plt.ylabel('Count')\n",
    "plt.show()"
   ]
  },
  {
   "cell_type": "code",
   "execution_count": 15,
   "id": "ca893030",
   "metadata": {
    "execution": {
     "iopub.execute_input": "2025-01-30T17:00:29.872963Z",
     "iopub.status.busy": "2025-01-30T17:00:29.872577Z",
     "iopub.status.idle": "2025-01-30T17:00:29.879898Z",
     "shell.execute_reply": "2025-01-30T17:00:29.878784Z"
    },
    "papermill": {
     "duration": 0.021363,
     "end_time": "2025-01-30T17:00:29.881643",
     "exception": false,
     "start_time": "2025-01-30T17:00:29.860280",
     "status": "completed"
    },
    "tags": []
   },
   "outputs": [
    {
     "data": {
      "text/plain": [
       "Survived\n",
       "0    549\n",
       "1    342\n",
       "Name: count, dtype: int64"
      ]
     },
     "execution_count": 15,
     "metadata": {},
     "output_type": "execute_result"
    }
   ],
   "source": [
    "train_df[\"Survived\"].value_counts()"
   ]
  },
  {
   "cell_type": "code",
   "execution_count": 16,
   "id": "aa219d53",
   "metadata": {
    "execution": {
     "iopub.execute_input": "2025-01-30T17:00:29.906871Z",
     "iopub.status.busy": "2025-01-30T17:00:29.906518Z",
     "iopub.status.idle": "2025-01-30T17:00:37.968332Z",
     "shell.execute_reply": "2025-01-30T17:00:37.967547Z"
    },
    "papermill": {
     "duration": 8.07656,
     "end_time": "2025-01-30T17:00:37.970029",
     "exception": false,
     "start_time": "2025-01-30T17:00:29.893469",
     "status": "completed"
    },
    "tags": []
   },
   "outputs": [],
   "source": [
    "import torch\n",
    "from torch.utils.data import Dataset, DataLoader\n",
    "import torchvision\n",
    "import torch.nn as nn \n",
    "from torch.utils.data import random_split\n",
    "import math\n",
    "from IPython.display import Image"
   ]
  },
  {
   "cell_type": "code",
   "execution_count": 17,
   "id": "039d63e7",
   "metadata": {
    "execution": {
     "iopub.execute_input": "2025-01-30T17:00:37.994215Z",
     "iopub.status.busy": "2025-01-30T17:00:37.993697Z",
     "iopub.status.idle": "2025-01-30T17:00:38.008967Z",
     "shell.execute_reply": "2025-01-30T17:00:38.008173Z"
    },
    "papermill": {
     "duration": 0.028699,
     "end_time": "2025-01-30T17:00:38.010513",
     "exception": false,
     "start_time": "2025-01-30T17:00:37.981814",
     "status": "completed"
    },
    "tags": []
   },
   "outputs": [],
   "source": [
    "torch.manual_seed(42); # seed rng for reproducibility"
   ]
  },
  {
   "cell_type": "code",
   "execution_count": 18,
   "id": "54c5940b",
   "metadata": {
    "execution": {
     "iopub.execute_input": "2025-01-30T17:00:38.033652Z",
     "iopub.status.busy": "2025-01-30T17:00:38.033343Z",
     "iopub.status.idle": "2025-01-30T17:00:38.038753Z",
     "shell.execute_reply": "2025-01-30T17:00:38.037985Z"
    },
    "papermill": {
     "duration": 0.0187,
     "end_time": "2025-01-30T17:00:38.040232",
     "exception": false,
     "start_time": "2025-01-30T17:00:38.021532",
     "status": "completed"
    },
    "tags": []
   },
   "outputs": [],
   "source": [
    "class CSVDataset(Dataset):\n",
    "    def __init__(self, csv_path, features_col_list, target_col_list, transform=None):\n",
    "        # data loading\n",
    "        self.features_col_list = features_col_list\n",
    "        self.target_col_list = target_col_list\n",
    "        self.data = pd.read_csv(csv_path, index_col=0)\n",
    "        self.transform = transform\n",
    "\n",
    "    def __getitem__(self, index):\n",
    "        x = self.data.iloc[index][self.features_col_list]  # Features}\n",
    "        y = self.data.iloc[index][self.target_col_list]  # Target\n",
    "\n",
    "        # Apply transformations if specified\n",
    "        if self.transform:\n",
    "            x, y = self.transform((x,y))\n",
    "\n",
    "        return torch.tensor(x, dtype=torch.float32), torch.tensor(y, dtype=torch.float32)\n",
    "\n",
    "    def __len__(self):\n",
    "        # allow us to use len(dataset)\n",
    "        return len(self.data)"
   ]
  },
  {
   "cell_type": "code",
   "execution_count": 19,
   "id": "9e00084c",
   "metadata": {
    "execution": {
     "iopub.execute_input": "2025-01-30T17:00:38.062011Z",
     "iopub.status.busy": "2025-01-30T17:00:38.061747Z",
     "iopub.status.idle": "2025-01-30T17:00:38.068485Z",
     "shell.execute_reply": "2025-01-30T17:00:38.067693Z"
    },
    "papermill": {
     "duration": 0.019412,
     "end_time": "2025-01-30T17:00:38.070005",
     "exception": false,
     "start_time": "2025-01-30T17:00:38.050593",
     "status": "completed"
    },
    "tags": []
   },
   "outputs": [],
   "source": [
    "class SexToNum():\n",
    "    def __call__(self, sample):\n",
    "        inputs, targets = sample\n",
    "\n",
    "        if (inputs[\"Sex\"] == \"male\"):\n",
    "            inputs[\"Sex\"] = 0\n",
    "        else:\n",
    "            inputs[\"Sex\"] = 1\n",
    "\n",
    "        return (inputs, targets)\n",
    "\n",
    "class FillNa():\n",
    "    def __init__(self, col_na_fill_rule):\n",
    "        self.col_na_fill_rule = col_na_fill_rule\n",
    "\n",
    "    def __call__(self, sample):\n",
    "        inputs, targets = sample\n",
    "\n",
    "        for col, na_fill in self.col_na_fill_rule.items():\n",
    "            if (pd.isna(inputs[col])):\n",
    "                inputs[col] = na_fill\n",
    "\n",
    "        return (inputs, targets)\n",
    "\n",
    "class NormalizeAge():\n",
    "    def __init__(self, minVal, maxVal):\n",
    "        self.minVal = minVal\n",
    "        self.maxVal = maxVal\n",
    "    \n",
    "    def __call__(self, sample):\n",
    "        inputs, targets = sample\n",
    "        inputs[\"Age\"] = (inputs[\"Age\"] - self.minVal) / (self.maxVal - self.minVal)\n",
    "        return (inputs, targets)\n",
    "\n",
    "class ConvertNumpyArrToFloat32():\n",
    "    def __call__(self, sample):\n",
    "        inputs, targets = sample\n",
    "        inputs = (inputs.values).astype(np.float32)\n",
    "        targets = (targets.values).astype(np.float32)\n",
    "        return (inputs, targets)"
   ]
  },
  {
   "cell_type": "code",
   "execution_count": 20,
   "id": "14c597a1",
   "metadata": {
    "execution": {
     "iopub.execute_input": "2025-01-30T17:00:38.092994Z",
     "iopub.status.busy": "2025-01-30T17:00:38.092694Z",
     "iopub.status.idle": "2025-01-30T17:00:38.258909Z",
     "shell.execute_reply": "2025-01-30T17:00:38.257893Z"
    },
    "papermill": {
     "duration": 0.179521,
     "end_time": "2025-01-30T17:00:38.260363",
     "exception": false,
     "start_time": "2025-01-30T17:00:38.080842",
     "status": "completed"
    },
    "tags": []
   },
   "outputs": [
    {
     "data": {
      "text/plain": [
       "(tensor([0.0000, 0.1980]), tensor([0.]))"
      ]
     },
     "execution_count": 20,
     "metadata": {},
     "output_type": "execute_result"
    }
   ],
   "source": [
    "csv_file = \"/kaggle/input/titanic/train.csv\"\n",
    "features_col_list = [\"Sex\", \"Age\"]\n",
    "target_col_list = [\"Survived\"]\n",
    "\n",
    "minAge = 0\n",
    "maxAge = 150\n",
    "na_age_fill = train_df[\"Age\"].mean() \n",
    "transforms = torchvision.transforms.Compose([SexToNum(), FillNa({\"Age\": na_age_fill}), NormalizeAge(minAge, maxAge), ConvertNumpyArrToFloat32()])\n",
    "\n",
    "dataset = CSVDataset(csv_file, features_col_list, target_col_list, transform=transforms)\n",
    "dataset[5]"
   ]
  },
  {
   "cell_type": "code",
   "execution_count": 21,
   "id": "93c30281",
   "metadata": {
    "execution": {
     "iopub.execute_input": "2025-01-30T17:00:38.283431Z",
     "iopub.status.busy": "2025-01-30T17:00:38.283118Z",
     "iopub.status.idle": "2025-01-30T17:00:38.287999Z",
     "shell.execute_reply": "2025-01-30T17:00:38.287077Z"
    },
    "papermill": {
     "duration": 0.01787,
     "end_time": "2025-01-30T17:00:38.289409",
     "exception": false,
     "start_time": "2025-01-30T17:00:38.271539",
     "status": "completed"
    },
    "tags": []
   },
   "outputs": [
    {
     "data": {
      "text/plain": [
       "891"
      ]
     },
     "execution_count": 21,
     "metadata": {},
     "output_type": "execute_result"
    }
   ],
   "source": [
    "len(dataset)"
   ]
  },
  {
   "cell_type": "code",
   "execution_count": 22,
   "id": "1e4be4d3",
   "metadata": {
    "execution": {
     "iopub.execute_input": "2025-01-30T17:00:38.314089Z",
     "iopub.status.busy": "2025-01-30T17:00:38.313772Z",
     "iopub.status.idle": "2025-01-30T17:00:38.331901Z",
     "shell.execute_reply": "2025-01-30T17:00:38.330939Z"
    },
    "papermill": {
     "duration": 0.031704,
     "end_time": "2025-01-30T17:00:38.333686",
     "exception": false,
     "start_time": "2025-01-30T17:00:38.301982",
     "status": "completed"
    },
    "tags": []
   },
   "outputs": [],
   "source": [
    "# Define split ratios\n",
    "train_size = int(0.8 * len(dataset))  # 80% for training\n",
    "val_size = int(0.1 * len(dataset))    # 10% for validation\n",
    "test_size = len(dataset) - train_size - val_size  # Remaining for testing\n",
    "\n",
    "# Split dataset\n",
    "train_dataset, val_dataset, test_dataset = random_split(dataset, [train_size, val_size, test_size])"
   ]
  },
  {
   "cell_type": "code",
   "execution_count": 23,
   "id": "57211b31",
   "metadata": {
    "execution": {
     "iopub.execute_input": "2025-01-30T17:00:38.357547Z",
     "iopub.status.busy": "2025-01-30T17:00:38.357230Z",
     "iopub.status.idle": "2025-01-30T17:00:38.361903Z",
     "shell.execute_reply": "2025-01-30T17:00:38.360965Z"
    },
    "papermill": {
     "duration": 0.01818,
     "end_time": "2025-01-30T17:00:38.363369",
     "exception": false,
     "start_time": "2025-01-30T17:00:38.345189",
     "status": "completed"
    },
    "tags": []
   },
   "outputs": [],
   "source": [
    "# Define batch size\n",
    "# since we have less data\n",
    "batch_size = 16\n",
    "\n",
    "# Create DataLoaders\n",
    "train_loader = DataLoader(train_dataset, batch_size=batch_size, shuffle=False)\n",
    "val_loader = DataLoader(val_dataset, batch_size=batch_size, shuffle=False)\n",
    "test_loader = DataLoader(test_dataset, batch_size=batch_size, shuffle=False)"
   ]
  },
  {
   "cell_type": "code",
   "execution_count": 24,
   "id": "99b05db6",
   "metadata": {
    "execution": {
     "iopub.execute_input": "2025-01-30T17:00:38.386710Z",
     "iopub.status.busy": "2025-01-30T17:00:38.386390Z",
     "iopub.status.idle": "2025-01-30T17:00:38.476924Z",
     "shell.execute_reply": "2025-01-30T17:00:38.475770Z"
    },
    "papermill": {
     "duration": 0.103799,
     "end_time": "2025-01-30T17:00:38.478478",
     "exception": false,
     "start_time": "2025-01-30T17:00:38.374679",
     "status": "completed"
    },
    "tags": []
   },
   "outputs": [
    {
     "name": "stdout",
     "output_type": "stream",
     "text": [
      "Using device: cuda\n"
     ]
    }
   ],
   "source": [
    "device = torch.device(\"cuda\" if torch.cuda.is_available() else \"cpu\")\n",
    "print(f\"Using device: {device}\")"
   ]
  },
  {
   "cell_type": "code",
   "execution_count": 25,
   "id": "8d1095cd",
   "metadata": {
    "execution": {
     "iopub.execute_input": "2025-01-30T17:00:38.503696Z",
     "iopub.status.busy": "2025-01-30T17:00:38.503340Z",
     "iopub.status.idle": "2025-01-30T17:00:38.517228Z",
     "shell.execute_reply": "2025-01-30T17:00:38.516477Z"
    },
    "papermill": {
     "duration": 0.028376,
     "end_time": "2025-01-30T17:00:38.518900",
     "exception": false,
     "start_time": "2025-01-30T17:00:38.490524",
     "status": "completed"
    },
    "tags": []
   },
   "outputs": [],
   "source": [
    "# not correctly init\n",
    "hidden_neuron = 128\n",
    "debug = True\n",
    "\n",
    "class LinearLayer(nn.Linear):\n",
    "    def __init__(self, *args, **kwargs):\n",
    "        # Call the parent constructor to initialize the Linear layer\n",
    "        super().__init__(*args, **kwargs)\n",
    "        self.isActivation = False\n",
    "        \n",
    "    def forward(self, x):\n",
    "        self.output = super().forward(x)\n",
    "        return self.output\n",
    "\n",
    "class LeakyReluLayer(nn.LeakyReLU):\n",
    "    def __init__(self, *args, **kwargs):\n",
    "        # Call the parent constructor to initialize the Linear layer\n",
    "        super().__init__(*args, **kwargs)\n",
    "        self.isActivation = True\n",
    "        \n",
    "    def forward(self, x):\n",
    "        self.output = super().forward(x)\n",
    "        return self.output\n",
    "\n",
    "class TitanicSurvivalPredictor(nn.Module):\n",
    "    def __init__(self, hidden_neuron):\n",
    "        super().__init__()\n",
    "\n",
    "        # define layers\n",
    "        self.layers = nn.ModuleList([\n",
    "            LinearLayer(2, hidden_neuron),\n",
    "            LeakyReluLayer(),\n",
    "            # LinearLayer(hidden_neuron, hidden_neuron),\n",
    "            # LeakyReluLayer(),\n",
    "            # LinearLayer(hidden_neuron, hidden_neuron),\n",
    "            # LeakyReluLayer(),\n",
    "            LinearLayer(hidden_neuron, 1),\n",
    "        ])\n",
    "        \n",
    "    def forward(self, x):\n",
    "        for layer in self.layers:\n",
    "            x = layer(x)\n",
    "        return x\n",
    "\n",
    "    def parameters(self):\n",
    "        return [p for layer in self.layers for p in layer.parameters()]\n",
    "\n",
    "model = TitanicSurvivalPredictor(hidden_neuron)"
   ]
  },
  {
   "cell_type": "code",
   "execution_count": 26,
   "id": "121abb6d",
   "metadata": {
    "execution": {
     "iopub.execute_input": "2025-01-30T17:00:38.543239Z",
     "iopub.status.busy": "2025-01-30T17:00:38.542923Z",
     "iopub.status.idle": "2025-01-30T17:00:40.063825Z",
     "shell.execute_reply": "2025-01-30T17:00:40.062697Z"
    },
    "papermill": {
     "duration": 1.534557,
     "end_time": "2025-01-30T17:00:40.065360",
     "exception": false,
     "start_time": "2025-01-30T17:00:38.530803",
     "status": "completed"
    },
    "tags": []
   },
   "outputs": [
    {
     "name": "stdout",
     "output_type": "stream",
     "text": [
      "init loss: 0.6531040774451362\n"
     ]
    }
   ],
   "source": [
    "init_loss = 0\n",
    "model = model.to(device)\n",
    "bce_loss = nn.BCEWithLogitsLoss()\n",
    "\n",
    "with torch.no_grad():\n",
    "    for i, (inputs, labels) in enumerate(train_loader):\n",
    "        inputs = inputs.to(device)\n",
    "        labels = labels.to(device)\n",
    "        \n",
    "        pred = model(inputs)        \n",
    "        loss = bce_loss(pred, labels)\n",
    "\n",
    "        init_loss += loss.item()\n",
    "\n",
    "init_loss /= len(train_loader)\n",
    "print(f\"init loss: {init_loss}\")"
   ]
  },
  {
   "cell_type": "code",
   "execution_count": 27,
   "id": "a545ac6d",
   "metadata": {
    "execution": {
     "iopub.execute_input": "2025-01-30T17:00:40.089748Z",
     "iopub.status.busy": "2025-01-30T17:00:40.089374Z",
     "iopub.status.idle": "2025-01-30T17:00:40.112659Z",
     "shell.execute_reply": "2025-01-30T17:00:40.111572Z"
    },
    "papermill": {
     "duration": 0.037314,
     "end_time": "2025-01-30T17:00:40.114444",
     "exception": false,
     "start_time": "2025-01-30T17:00:40.077130",
     "status": "completed"
    },
    "tags": []
   },
   "outputs": [],
   "source": [
    "@torch.no_grad()\n",
    "def initParam(model):\n",
    "    # Initialize weights using Xavier Normal\n",
    "    for i, layer in enumerate(model.layers):\n",
    "        if (isinstance(layer, LinearLayer)):\n",
    "            if (i<len(model.layers)-1):\n",
    "                nn.init.xavier_normal_(model.layers[i].weight, gain=torch.nn.init.calculate_gain(\"leaky_relu\"))\n",
    "            else:\n",
    "                nn.init.xavier_normal_(model.layers[i].weight, gain=torch.nn.init.calculate_gain(\"sigmoid\"))\n",
    "            if layer.bias is not None:\n",
    "                nn.init.zeros_(model.layers[i].bias)\n",
    "\n",
    "initParam(model)"
   ]
  },
  {
   "cell_type": "code",
   "execution_count": 28,
   "id": "f34212c9",
   "metadata": {
    "execution": {
     "iopub.execute_input": "2025-01-30T17:00:40.138592Z",
     "iopub.status.busy": "2025-01-30T17:00:40.138273Z",
     "iopub.status.idle": "2025-01-30T17:00:40.869526Z",
     "shell.execute_reply": "2025-01-30T17:00:40.868453Z"
    },
    "papermill": {
     "duration": 0.744981,
     "end_time": "2025-01-30T17:00:40.871075",
     "exception": false,
     "start_time": "2025-01-30T17:00:40.126094",
     "status": "completed"
    },
    "tags": []
   },
   "outputs": [
    {
     "name": "stdout",
     "output_type": "stream",
     "text": [
      "init loss: 0.7282002064916823\n"
     ]
    }
   ],
   "source": [
    "init_loss = 0\n",
    "model = model.to(device)\n",
    "bce_loss = nn.BCEWithLogitsLoss()\n",
    "\n",
    "with torch.no_grad():\n",
    "    for i, (inputs, labels) in enumerate(train_loader):\n",
    "        inputs = inputs.to(device)\n",
    "        labels = labels.to(device)\n",
    "        \n",
    "        pred = model(inputs)        \n",
    "        loss = bce_loss(pred, labels)\n",
    "\n",
    "        init_loss += loss.item()\n",
    "\n",
    "init_loss /= len(train_loader)\n",
    "print(f\"init loss: {init_loss}\")"
   ]
  },
  {
   "cell_type": "code",
   "execution_count": 29,
   "id": "d6fc69e1",
   "metadata": {
    "execution": {
     "iopub.execute_input": "2025-01-30T17:00:40.895364Z",
     "iopub.status.busy": "2025-01-30T17:00:40.895031Z",
     "iopub.status.idle": "2025-01-30T19:25:00.059113Z",
     "shell.execute_reply": "2025-01-30T19:25:00.057988Z"
    },
    "papermill": {
     "duration": 8659.194589,
     "end_time": "2025-01-30T19:25:00.077575",
     "exception": false,
     "start_time": "2025-01-30T17:00:40.882986",
     "status": "completed"
    },
    "tags": []
   },
   "outputs": [
    {
     "name": "stdout",
     "output_type": "stream",
     "text": [
      "Epoch 100/10000, Train Loss: -0.3013, Val Loss: -0.4009\n",
      "Epoch 200/10000, Train Loss: -0.3056, Val Loss: -0.4089\n",
      "Epoch 300/10000, Train Loss: -0.3108, Val Loss: -0.4197\n",
      "Epoch 400/10000, Train Loss: -0.3137, Val Loss: -0.4249\n",
      "Epoch 500/10000, Train Loss: -0.3150, Val Loss: -0.4271\n",
      "Epoch 600/10000, Train Loss: -0.3154, Val Loss: -0.4277\n",
      "Epoch 700/10000, Train Loss: -0.3157, Val Loss: -0.4281\n",
      "Epoch 800/10000, Train Loss: -0.3159, Val Loss: -0.4282\n",
      "Epoch 900/10000, Train Loss: -0.3161, Val Loss: -0.4282\n",
      "Epoch 1000/10000, Train Loss: -0.3163, Val Loss: -0.4282\n",
      "Epoch 1100/10000, Train Loss: -0.3164, Val Loss: -0.4283\n",
      "Epoch 1200/10000, Train Loss: -0.3166, Val Loss: -0.4285\n",
      "Epoch 1300/10000, Train Loss: -0.3168, Val Loss: -0.4287\n",
      "Epoch 1400/10000, Train Loss: -0.3170, Val Loss: -0.4289\n",
      "Epoch 1500/10000, Train Loss: -0.3172, Val Loss: -0.4290\n",
      "Epoch 1600/10000, Train Loss: -0.3173, Val Loss: -0.4292\n",
      "Epoch 1700/10000, Train Loss: -0.3175, Val Loss: -0.4294\n",
      "Epoch 1800/10000, Train Loss: -0.3176, Val Loss: -0.4295\n",
      "Epoch 1900/10000, Train Loss: -0.3178, Val Loss: -0.4297\n",
      "Epoch 2000/10000, Train Loss: -0.3179, Val Loss: -0.4297\n",
      "Epoch 2100/10000, Train Loss: -0.3180, Val Loss: -0.4298\n",
      "Epoch 2200/10000, Train Loss: -0.3181, Val Loss: -0.4300\n",
      "Epoch 2300/10000, Train Loss: -0.3182, Val Loss: -0.4299\n",
      "Epoch 2400/10000, Train Loss: -0.3183, Val Loss: -0.4300\n",
      "Epoch 2500/10000, Train Loss: -0.3184, Val Loss: -0.4301\n",
      "Epoch 2600/10000, Train Loss: -0.3185, Val Loss: -0.4301\n",
      "Epoch 2700/10000, Train Loss: -0.3186, Val Loss: -0.4301\n",
      "Epoch 2800/10000, Train Loss: -0.3188, Val Loss: -0.4302\n",
      "Epoch 2900/10000, Train Loss: -0.3189, Val Loss: -0.4302\n",
      "Epoch 3000/10000, Train Loss: -0.3190, Val Loss: -0.4303\n",
      "Epoch 3100/10000, Train Loss: -0.3191, Val Loss: -0.4304\n",
      "Epoch 3200/10000, Train Loss: -0.3193, Val Loss: -0.4306\n",
      "Epoch 3300/10000, Train Loss: -0.3195, Val Loss: -0.4302\n",
      "Epoch 3400/10000, Train Loss: -0.3197, Val Loss: -0.4303\n",
      "Epoch 3500/10000, Train Loss: -0.3197, Val Loss: -0.4303\n",
      "Epoch 3600/10000, Train Loss: -0.3198, Val Loss: -0.4302\n",
      "Epoch 3700/10000, Train Loss: -0.3200, Val Loss: -0.4305\n",
      "Epoch 3800/10000, Train Loss: -0.3200, Val Loss: -0.4304\n",
      "Epoch 3900/10000, Train Loss: -0.3201, Val Loss: -0.4305\n",
      "Epoch 4000/10000, Train Loss: -0.3202, Val Loss: -0.4305\n",
      "Epoch 4100/10000, Train Loss: -0.3202, Val Loss: -0.4305\n",
      "Epoch 4200/10000, Train Loss: -0.3203, Val Loss: -0.4306\n",
      "Epoch 4300/10000, Train Loss: -0.3204, Val Loss: -0.4304\n",
      "Epoch 4400/10000, Train Loss: -0.3204, Val Loss: -0.4305\n",
      "Epoch 4500/10000, Train Loss: -0.3205, Val Loss: -0.4304\n",
      "Epoch 4600/10000, Train Loss: -0.3205, Val Loss: -0.4304\n",
      "Epoch 4700/10000, Train Loss: -0.3206, Val Loss: -0.4305\n",
      "Epoch 4800/10000, Train Loss: -0.3206, Val Loss: -0.4305\n",
      "Epoch 4900/10000, Train Loss: -0.3207, Val Loss: -0.4306\n",
      "Epoch 5000/10000, Train Loss: -0.3207, Val Loss: -0.4305\n",
      "Epoch 5100/10000, Train Loss: -0.3207, Val Loss: -0.4304\n",
      "Epoch 5200/10000, Train Loss: -0.3208, Val Loss: -0.4304\n",
      "Epoch 5300/10000, Train Loss: -0.3208, Val Loss: -0.4304\n",
      "Epoch 5400/10000, Train Loss: -0.3208, Val Loss: -0.4305\n",
      "Epoch 5500/10000, Train Loss: -0.3208, Val Loss: -0.4304\n",
      "Epoch 5600/10000, Train Loss: -0.3209, Val Loss: -0.4305\n",
      "Epoch 5700/10000, Train Loss: -0.3209, Val Loss: -0.4304\n",
      "Epoch 5800/10000, Train Loss: -0.3209, Val Loss: -0.4305\n",
      "Epoch 5900/10000, Train Loss: -0.3209, Val Loss: -0.4306\n",
      "Epoch 6000/10000, Train Loss: -0.3209, Val Loss: -0.4305\n",
      "Epoch 6100/10000, Train Loss: -0.3209, Val Loss: -0.4304\n",
      "Epoch 6200/10000, Train Loss: -0.3210, Val Loss: -0.4306\n",
      "Epoch 6300/10000, Train Loss: -0.3210, Val Loss: -0.4306\n",
      "Epoch 6400/10000, Train Loss: -0.3210, Val Loss: -0.4306\n",
      "Epoch 6500/10000, Train Loss: -0.3210, Val Loss: -0.4306\n",
      "Epoch 6600/10000, Train Loss: -0.3210, Val Loss: -0.4304\n",
      "Epoch 6700/10000, Train Loss: -0.3211, Val Loss: -0.4304\n",
      "Epoch 6800/10000, Train Loss: -0.3211, Val Loss: -0.4305\n",
      "Epoch 6900/10000, Train Loss: -0.3211, Val Loss: -0.4306\n",
      "Epoch 7000/10000, Train Loss: -0.3211, Val Loss: -0.4305\n",
      "Epoch 7100/10000, Train Loss: -0.3211, Val Loss: -0.4304\n",
      "Epoch 7200/10000, Train Loss: -0.3211, Val Loss: -0.4306\n",
      "Epoch 7300/10000, Train Loss: -0.3212, Val Loss: -0.4306\n",
      "Epoch 7400/10000, Train Loss: -0.3211, Val Loss: -0.4305\n",
      "Epoch 7500/10000, Train Loss: -0.3211, Val Loss: -0.4305\n",
      "Epoch 7600/10000, Train Loss: -0.3211, Val Loss: -0.4306\n",
      "Epoch 7700/10000, Train Loss: -0.3211, Val Loss: -0.4306\n",
      "Epoch 7800/10000, Train Loss: -0.3212, Val Loss: -0.4306\n",
      "Epoch 7900/10000, Train Loss: -0.3212, Val Loss: -0.4305\n",
      "Epoch 8000/10000, Train Loss: -0.3212, Val Loss: -0.4305\n",
      "Epoch 8100/10000, Train Loss: -0.3211, Val Loss: -0.4305\n",
      "Epoch 8200/10000, Train Loss: -0.3212, Val Loss: -0.4306\n",
      "Epoch 8300/10000, Train Loss: -0.3211, Val Loss: -0.4306\n",
      "Epoch 8400/10000, Train Loss: -0.3212, Val Loss: -0.4306\n",
      "Epoch 8500/10000, Train Loss: -0.3212, Val Loss: -0.4305\n",
      "Epoch 8600/10000, Train Loss: -0.3212, Val Loss: -0.4304\n",
      "Epoch 8700/10000, Train Loss: -0.3212, Val Loss: -0.4306\n",
      "Epoch 8800/10000, Train Loss: -0.3212, Val Loss: -0.4305\n",
      "Epoch 8900/10000, Train Loss: -0.3211, Val Loss: -0.4304\n",
      "Epoch 9000/10000, Train Loss: -0.3212, Val Loss: -0.4305\n",
      "Epoch 9100/10000, Train Loss: -0.3212, Val Loss: -0.4304\n",
      "Epoch 9200/10000, Train Loss: -0.3212, Val Loss: -0.4305\n",
      "Epoch 9300/10000, Train Loss: -0.3212, Val Loss: -0.4305\n",
      "Epoch 9400/10000, Train Loss: -0.3212, Val Loss: -0.4305\n",
      "Epoch 9500/10000, Train Loss: -0.3212, Val Loss: -0.4304\n",
      "Epoch 9600/10000, Train Loss: -0.3212, Val Loss: -0.4305\n",
      "Epoch 9700/10000, Train Loss: -0.3212, Val Loss: -0.4306\n",
      "Epoch 9800/10000, Train Loss: -0.3212, Val Loss: -0.4305\n",
      "Epoch 9900/10000, Train Loss: -0.3212, Val Loss: -0.4305\n",
      "Epoch 10000/10000, Train Loss: -0.3212, Val Loss: -0.4306\n"
     ]
    }
   ],
   "source": [
    "# less lr rate since can overfit easily\n",
    "learning_rate = 1e-3\n",
    "# less epoch as can easily overfit\n",
    "num_epoch = 10000\n",
    "\n",
    "lossi_train = []\n",
    "lossi_val = []\n",
    "\n",
    "total_samples = len(train_dataset)\n",
    "n_iter = math.ceil(total_samples / batch_size)\n",
    "\n",
    "optimizer = torch.optim.AdamW(model.parameters(), lr=learning_rate)\n",
    "bce_loss = nn.BCEWithLogitsLoss()\n",
    "output_grads = []\n",
    "\n",
    "model = model.to(device)\n",
    "\n",
    "runFirstBatch = False\n",
    "for epoch in range(num_epoch):\n",
    "    train_loss = 0    \n",
    "    for i, (inputs, labels) in enumerate(train_loader):        \n",
    "        # forward pass\n",
    "        # print(f\"inputs: {inputs}\")\n",
    "        # print(f\"labels: {labels}\")\n",
    "        inputs = inputs.to(device)\n",
    "        labels = labels.to(device)\n",
    "\n",
    "        # print(f\"inputs device: {inputs.device}, labels device: {labels.device}, model device: {[param.device for param in model.parameters()]}\")\n",
    "\n",
    "        # reset grad\n",
    "        optimizer.zero_grad()\n",
    "        \n",
    "        pred = model(inputs)\n",
    "        # print(f\"pred: {pred}\")\n",
    "\n",
    "        # calc loss\n",
    "        loss = bce_loss(pred, labels)\n",
    "\n",
    "        if (debug):\n",
    "            for layer in model.layers:\n",
    "                layer.output.retain_grad() # save gradients of non leaf tensors also\n",
    "        \n",
    "        # backward pass\n",
    "        loss.backward()\n",
    "        optimizer.step()\n",
    "        loss = loss.log10()\n",
    "        train_loss += loss.item()\n",
    "\n",
    "        # if (debug):\n",
    "        #      break\n",
    "\n",
    "    # copied it to array since running with no grad will set grad to None\n",
    "    if (debug):\n",
    "        curr_grads = {}\n",
    "        for i, layer in enumerate(model.layers):\n",
    "            curr_grads[f\"{layer.__class__.__name__}: {i}\"] = layer.output.grad.clone()\n",
    "\n",
    "        output_grads.append(curr_grads)\n",
    "    \n",
    "    train_loss /= len(train_loader)\n",
    "    lossi_train.append(train_loss)\n",
    "\n",
    "    # validation phase\n",
    "    model.eval()\n",
    "    with torch.no_grad():  # Disable gradient computation for validation\n",
    "        val_loss = 0\n",
    "        \n",
    "        for inputs, labels in val_loader:\n",
    "            inputs = inputs.to(device)\n",
    "            labels = labels.to(device)\n",
    "            \n",
    "            pred = model(inputs)\n",
    "            \n",
    "            loss = bce_loss(pred, labels)\n",
    "            loss = loss.log10()\n",
    "            val_loss += loss.item()\n",
    "        \n",
    "        val_loss /= len(val_loader)\n",
    "        lossi_val.append(val_loss)\n",
    "        \n",
    "\n",
    "    # reset to train mode\n",
    "    model.train()\n",
    "\n",
    "    if ((epoch+1)%100==0):\n",
    "        print(f\"Epoch {epoch+1}/{num_epoch}, Train Loss: {train_loss:.4f}, Val Loss: {val_loss:.4f}\")\n",
    "\n",
    "        # if (debug):\n",
    "        #     break"
   ]
  },
  {
   "cell_type": "code",
   "execution_count": 30,
   "id": "b8a78b99",
   "metadata": {
    "execution": {
     "iopub.execute_input": "2025-01-30T19:25:00.111781Z",
     "iopub.status.busy": "2025-01-30T19:25:00.111420Z",
     "iopub.status.idle": "2025-01-30T19:25:00.379723Z",
     "shell.execute_reply": "2025-01-30T19:25:00.378856Z"
    },
    "papermill": {
     "duration": 0.287001,
     "end_time": "2025-01-30T19:25:00.381313",
     "exception": false,
     "start_time": "2025-01-30T19:25:00.094312",
     "status": "completed"
    },
    "tags": []
   },
   "outputs": [
    {
     "data": {
      "text/plain": [
       "[<matplotlib.lines.Line2D at 0x7d85edb1dc30>]"
      ]
     },
     "execution_count": 30,
     "metadata": {},
     "output_type": "execute_result"
    },
    {
     "data": {
      "image/png": "[encoded data removed]",
      "text/plain": [
       "<Figure size 640x480 with 1 Axes>"
      ]
     },
     "metadata": {},
     "output_type": "display_data"
    }
   ],
   "source": [
    "plt.plot(lossi_train, color=\"blue\")\n",
    "plt.plot(lossi_val, color=\"red\")"
   ]
  },
  {
   "cell_type": "code",
   "execution_count": 31,
   "id": "e15c99e9",
   "metadata": {
    "execution": {
     "iopub.execute_input": "2025-01-30T19:25:00.415908Z",
     "iopub.status.busy": "2025-01-30T19:25:00.415574Z",
     "iopub.status.idle": "2025-01-30T19:25:00.846796Z",
     "shell.execute_reply": "2025-01-30T19:25:00.845829Z"
    },
    "papermill": {
     "duration": 0.450319,
     "end_time": "2025-01-30T19:25:00.848456",
     "exception": false,
     "start_time": "2025-01-30T19:25:00.398137",
     "status": "completed"
    },
    "tags": []
   },
   "outputs": [
    {
     "name": "stdout",
     "output_type": "stream",
     "text": [
      "layer 1 (LeakyReluLayer): mean +0.05, std 0.09, saturated: 0.00%\n"
     ]
    },
    {
     "data": {
      "image/png": "[encoded data removed]",
      "text/plain": [
       "<Figure size 2000x400 with 1 Axes>"
      ]
     },
     "metadata": {},
     "output_type": "display_data"
    }
   ],
   "source": [
    "# visualize activations\n",
    "plt.figure(figsize=(20, 4))\n",
    "legends = []\n",
    "\n",
    "if (len(model.layers) > 1):\n",
    "    for i, layer in enumerate(model.layers): # exclude output layer\n",
    "        if (layer.isActivation):\n",
    "            t = layer.output.cpu()\n",
    "            print('layer %d (%10s): mean %+.2f, std %.2f, saturated: %.2f%%' % (i, layer.__class__.__name__, t.mean(), t.std(), (t.abs() > 0.97).float().mean()*100))\n",
    "            hy, hx = torch.histogram(t, density=True)\n",
    "            plt.plot(hx[:-1].detach(), hy.detach())\n",
    "            legends.append(f'layer {i} ({layer.__class__.__name__})')\n",
    "    \n",
    "    plt.legend(legends)\n",
    "    plt.title(\"activation distribution\")"
   ]
  },
  {
   "cell_type": "code",
   "execution_count": 32,
   "id": "f2a45f6c",
   "metadata": {
    "execution": {
     "iopub.execute_input": "2025-01-30T19:25:00.884094Z",
     "iopub.status.busy": "2025-01-30T19:25:00.883774Z",
     "iopub.status.idle": "2025-01-30T19:25:01.240290Z",
     "shell.execute_reply": "2025-01-30T19:25:01.239114Z"
    },
    "papermill": {
     "duration": 0.376283,
     "end_time": "2025-01-30T19:25:01.242376",
     "exception": false,
     "start_time": "2025-01-30T19:25:00.866093",
     "status": "completed"
    },
    "tags": []
   },
   "outputs": [
    {
     "name": "stdout",
     "output_type": "stream",
     "text": [
      "layer (LeakyReluLayer: 1): mean +0.002900, std 4.389063e-02\n"
     ]
    },
    {
     "data": {
      "image/png": "[encoded data removed]",
      "text/plain": [
       "<Figure size 2000x400 with 1 Axes>"
      ]
     },
     "metadata": {},
     "output_type": "display_data"
    }
   ],
   "source": [
    "# visualize histograms\n",
    "plt.figure(figsize=(20, 4)) # width and height of the plot\n",
    "legends = []\n",
    "\n",
    "activation_layers = [\"LeakyReluLayer\"]\n",
    "if (len(model.layers) > 1):\n",
    "    for layer_name, layer_grad in output_grads[-1].items(): # note: exclude the output\n",
    "        for activation_layer in activation_layers:\n",
    "            if (activation_layer in layer_name):\n",
    "                t = layer_grad.cpu()\n",
    "                print('layer (%10s): mean %+f, std %e' % (layer_name, t.mean(), t.std()))\n",
    "                hy, hx = torch.histogram(t, density=True)\n",
    "                plt.plot(hx[:-1].detach(), hy.detach())\n",
    "                legends.append(f'{layer_name}')\n",
    "    \n",
    "        plt.legend(legends);\n",
    "        plt.title('gradient distribution')"
   ]
  },
  {
   "cell_type": "code",
   "execution_count": 33,
   "id": "56b10d6e",
   "metadata": {
    "execution": {
     "iopub.execute_input": "2025-01-30T19:25:01.282395Z",
     "iopub.status.busy": "2025-01-30T19:25:01.281981Z",
     "iopub.status.idle": "2025-01-30T19:25:01.517345Z",
     "shell.execute_reply": "2025-01-30T19:25:01.514331Z"
    },
    "papermill": {
     "duration": 0.257231,
     "end_time": "2025-01-30T19:25:01.519524",
     "exception": false,
     "start_time": "2025-01-30T19:25:01.262293",
     "status": "completed"
    },
    "tags": []
   },
   "outputs": [
    {
     "name": "stdout",
     "output_type": "stream",
     "text": [
      "Test Accuracy: 78.89%\n"
     ]
    }
   ],
   "source": [
    "model.eval()  # Set model to evaluation mode\n",
    "\n",
    "# Accuracy calculation\n",
    "correct = 0\n",
    "total = 0\n",
    "\n",
    "with torch.no_grad():  # Disable gradient calculation\n",
    "    for inputs, labels in test_loader:\n",
    "        inputs = inputs.to(device)\n",
    "        labels = labels.to(device)\n",
    "        \n",
    "        outputs = model(inputs)\n",
    "        predictions = torch.sigmoid(outputs)  # Apply sigmoid for binary classification\n",
    "        predicted_classes = (predictions > 0.5).float()  # Convert to binary (0 or 1)\n",
    "        correct += (predicted_classes == labels).sum().item()\n",
    "        total += labels.size(0)\n",
    "\n",
    "accuracy = correct / total\n",
    "print(f\"Test Accuracy: {accuracy * 100:.2f}%\")"
   ]
  },
  {
   "cell_type": "code",
   "execution_count": 34,
   "id": "cca10a14",
   "metadata": {
    "execution": {
     "iopub.execute_input": "2025-01-30T19:25:01.563864Z",
     "iopub.status.busy": "2025-01-30T19:25:01.563480Z",
     "iopub.status.idle": "2025-01-30T19:25:02.292047Z",
     "shell.execute_reply": "2025-01-30T19:25:02.291001Z"
    },
    "papermill": {
     "duration": 0.750066,
     "end_time": "2025-01-30T19:25:02.293792",
     "exception": false,
     "start_time": "2025-01-30T19:25:01.543726",
     "status": "completed"
    },
    "tags": []
   },
   "outputs": [
    {
     "name": "stdout",
     "output_type": "stream",
     "text": [
      "Train Accuracy: 78.93%\n"
     ]
    }
   ],
   "source": [
    "model.eval()  # Set model to evaluation mode\n",
    "\n",
    "# Accuracy calculation\n",
    "correct = 0\n",
    "total = 0\n",
    "\n",
    "with torch.no_grad():  # Disable gradient calculation\n",
    "    for inputs, labels in train_loader:\n",
    "        inputs = inputs.to(device)\n",
    "        labels = labels.to(device)\n",
    "        \n",
    "        outputs = model(inputs)\n",
    "        predictions = torch.sigmoid(outputs)  # Apply sigmoid for binary classification\n",
    "        predicted_classes = (predictions > 0.5).float()  # Convert to binary (0 or 1)\n",
    "        correct += (predicted_classes == labels).sum().item()\n",
    "        total += labels.size(0)\n",
    "\n",
    "accuracy = correct / total\n",
    "print(f\"Train Accuracy: {accuracy * 100:.2f}%\")"
   ]
  },
  {
   "cell_type": "markdown",
   "id": "a071701e",
   "metadata": {
    "papermill": {
     "duration": 0.018392,
     "end_time": "2025-01-30T19:25:02.331452",
     "exception": false,
     "start_time": "2025-01-30T19:25:02.313060",
     "status": "completed"
    },
    "tags": []
   },
   "source": [
    "## Test"
   ]
  },
  {
   "cell_type": "code",
   "execution_count": 35,
   "id": "8c6421c3",
   "metadata": {
    "execution": {
     "iopub.execute_input": "2025-01-30T19:25:02.369918Z",
     "iopub.status.busy": "2025-01-30T19:25:02.369539Z",
     "iopub.status.idle": "2025-01-30T19:25:02.411807Z",
     "shell.execute_reply": "2025-01-30T19:25:02.410709Z"
    },
    "papermill": {
     "duration": 0.063334,
     "end_time": "2025-01-30T19:25:02.413467",
     "exception": false,
     "start_time": "2025-01-30T19:25:02.350133",
     "status": "completed"
    },
    "tags": []
   },
   "outputs": [
    {
     "data": {
      "text/html": [
       "<div>\n",
       "<style scoped>\n",
       "    .dataframe tbody tr th:only-of-type {\n",
       "        vertical-align: middle;\n",
       "    }\n",
       "\n",
       "    .dataframe tbody tr th {\n",
       "        vertical-align: top;\n",
       "    }\n",
       "\n",
       "    .dataframe thead th {\n",
       "        text-align: right;\n",
       "    }\n",
       "</style>\n",
       "<table border=\"1\" class=\"dataframe\">\n",
       "  <thead>\n",
       "    <tr style=\"text-align: right;\">\n",
       "      <th></th>\n",
       "      <th>PassengerId</th>\n",
       "      <th>Pclass</th>\n",
       "      <th>Name</th>\n",
       "      <th>Sex</th>\n",
       "      <th>Age</th>\n",
       "      <th>SibSp</th>\n",
       "      <th>Parch</th>\n",
       "      <th>Ticket</th>\n",
       "      <th>Fare</th>\n",
       "      <th>Cabin</th>\n",
       "      <th>Embarked</th>\n",
       "    </tr>\n",
       "  </thead>\n",
       "  <tbody>\n",
       "    <tr>\n",
       "      <th>0</th>\n",
       "      <td>892</td>\n",
       "      <td>3</td>\n",
       "      <td>Kelly, Mr. James</td>\n",
       "      <td>male</td>\n",
       "      <td>34.5</td>\n",
       "      <td>0</td>\n",
       "      <td>0</td>\n",
       "      <td>330911</td>\n",
       "      <td>7.8292</td>\n",
       "      <td>NaN</td>\n",
       "      <td>Q</td>\n",
       "    </tr>\n",
       "    <tr>\n",
       "      <th>1</th>\n",
       "      <td>893</td>\n",
       "      <td>3</td>\n",
       "      <td>Wilkes, Mrs. James (Ellen Needs)</td>\n",
       "      <td>female</td>\n",
       "      <td>47.0</td>\n",
       "      <td>1</td>\n",
       "      <td>0</td>\n",
       "      <td>363272</td>\n",
       "      <td>7.0000</td>\n",
       "      <td>NaN</td>\n",
       "      <td>S</td>\n",
       "    </tr>\n",
       "    <tr>\n",
       "      <th>2</th>\n",
       "      <td>894</td>\n",
       "      <td>2</td>\n",
       "      <td>Myles, Mr. Thomas Francis</td>\n",
       "      <td>male</td>\n",
       "      <td>62.0</td>\n",
       "      <td>0</td>\n",
       "      <td>0</td>\n",
       "      <td>240276</td>\n",
       "      <td>9.6875</td>\n",
       "      <td>NaN</td>\n",
       "      <td>Q</td>\n",
       "    </tr>\n",
       "    <tr>\n",
       "      <th>3</th>\n",
       "      <td>895</td>\n",
       "      <td>3</td>\n",
       "      <td>Wirz, Mr. Albert</td>\n",
       "      <td>male</td>\n",
       "      <td>27.0</td>\n",
       "      <td>0</td>\n",
       "      <td>0</td>\n",
       "      <td>315154</td>\n",
       "      <td>8.6625</td>\n",
       "      <td>NaN</td>\n",
       "      <td>S</td>\n",
       "    </tr>\n",
       "    <tr>\n",
       "      <th>4</th>\n",
       "      <td>896</td>\n",
       "      <td>3</td>\n",
       "      <td>Hirvonen, Mrs. Alexander (Helga E Lindqvist)</td>\n",
       "      <td>female</td>\n",
       "      <td>22.0</td>\n",
       "      <td>1</td>\n",
       "      <td>1</td>\n",
       "      <td>3101298</td>\n",
       "      <td>12.2875</td>\n",
       "      <td>NaN</td>\n",
       "      <td>S</td>\n",
       "    </tr>\n",
       "    <tr>\n",
       "      <th>5</th>\n",
       "      <td>897</td>\n",
       "      <td>3</td>\n",
       "      <td>Svensson, Mr. Johan Cervin</td>\n",
       "      <td>male</td>\n",
       "      <td>14.0</td>\n",
       "      <td>0</td>\n",
       "      <td>0</td>\n",
       "      <td>7538</td>\n",
       "      <td>9.2250</td>\n",
       "      <td>NaN</td>\n",
       "      <td>S</td>\n",
       "    </tr>\n",
       "    <tr>\n",
       "      <th>6</th>\n",
       "      <td>898</td>\n",
       "      <td>3</td>\n",
       "      <td>Connolly, Miss. Kate</td>\n",
       "      <td>female</td>\n",
       "      <td>30.0</td>\n",
       "      <td>0</td>\n",
       "      <td>0</td>\n",
       "      <td>330972</td>\n",
       "      <td>7.6292</td>\n",
       "      <td>NaN</td>\n",
       "      <td>Q</td>\n",
       "    </tr>\n",
       "    <tr>\n",
       "      <th>7</th>\n",
       "      <td>899</td>\n",
       "      <td>2</td>\n",
       "      <td>Caldwell, Mr. Albert Francis</td>\n",
       "      <td>male</td>\n",
       "      <td>26.0</td>\n",
       "      <td>1</td>\n",
       "      <td>1</td>\n",
       "      <td>248738</td>\n",
       "      <td>29.0000</td>\n",
       "      <td>NaN</td>\n",
       "      <td>S</td>\n",
       "    </tr>\n",
       "    <tr>\n",
       "      <th>8</th>\n",
       "      <td>900</td>\n",
       "      <td>3</td>\n",
       "      <td>Abrahim, Mrs. Joseph (Sophie Halaut Easu)</td>\n",
       "      <td>female</td>\n",
       "      <td>18.0</td>\n",
       "      <td>0</td>\n",
       "      <td>0</td>\n",
       "      <td>2657</td>\n",
       "      <td>7.2292</td>\n",
       "      <td>NaN</td>\n",
       "      <td>C</td>\n",
       "    </tr>\n",
       "    <tr>\n",
       "      <th>9</th>\n",
       "      <td>901</td>\n",
       "      <td>3</td>\n",
       "      <td>Davies, Mr. John Samuel</td>\n",
       "      <td>male</td>\n",
       "      <td>21.0</td>\n",
       "      <td>2</td>\n",
       "      <td>0</td>\n",
       "      <td>A/4 48871</td>\n",
       "      <td>24.1500</td>\n",
       "      <td>NaN</td>\n",
       "      <td>S</td>\n",
       "    </tr>\n",
       "  </tbody>\n",
       "</table>\n",
       "</div>"
      ],
      "text/plain": [
       "   PassengerId  Pclass                                          Name     Sex  \\\n",
       "0          892       3                              Kelly, Mr. James    male   \n",
       "1          893       3              Wilkes, Mrs. James (Ellen Needs)  female   \n",
       "2          894       2                     Myles, Mr. Thomas Francis    male   \n",
       "3          895       3                              Wirz, Mr. Albert    male   \n",
       "4          896       3  Hirvonen, Mrs. Alexander (Helga E Lindqvist)  female   \n",
       "5          897       3                    Svensson, Mr. Johan Cervin    male   \n",
       "6          898       3                          Connolly, Miss. Kate  female   \n",
       "7          899       2                  Caldwell, Mr. Albert Francis    male   \n",
       "8          900       3     Abrahim, Mrs. Joseph (Sophie Halaut Easu)  female   \n",
       "9          901       3                       Davies, Mr. John Samuel    male   \n",
       "\n",
       "    Age  SibSp  Parch     Ticket     Fare Cabin Embarked  \n",
       "0  34.5      0      0     330911   7.8292   NaN        Q  \n",
       "1  47.0      1      0     363272   7.0000   NaN        S  \n",
       "2  62.0      0      0     240276   9.6875   NaN        Q  \n",
       "3  27.0      0      0     315154   8.6625   NaN        S  \n",
       "4  22.0      1      1    3101298  12.2875   NaN        S  \n",
       "5  14.0      0      0       7538   9.2250   NaN        S  \n",
       "6  30.0      0      0     330972   7.6292   NaN        Q  \n",
       "7  26.0      1      1     248738  29.0000   NaN        S  \n",
       "8  18.0      0      0       2657   7.2292   NaN        C  \n",
       "9  21.0      2      0  A/4 48871  24.1500   NaN        S  "
      ]
     },
     "execution_count": 35,
     "metadata": {},
     "output_type": "execute_result"
    }
   ],
   "source": [
    "test_df = pd.read_csv(\"/kaggle/input/titanic/test.csv\")\n",
    "test_df.head(10)"
   ]
  },
  {
   "cell_type": "code",
   "execution_count": 36,
   "id": "3a26f6cc",
   "metadata": {
    "execution": {
     "iopub.execute_input": "2025-01-30T19:25:02.453617Z",
     "iopub.status.busy": "2025-01-30T19:25:02.453220Z",
     "iopub.status.idle": "2025-01-30T19:25:02.459357Z",
     "shell.execute_reply": "2025-01-30T19:25:02.458381Z"
    },
    "papermill": {
     "duration": 0.02685,
     "end_time": "2025-01-30T19:25:02.460908",
     "exception": false,
     "start_time": "2025-01-30T19:25:02.434058",
     "status": "completed"
    },
    "tags": []
   },
   "outputs": [
    {
     "data": {
      "text/plain": [
       "418"
      ]
     },
     "execution_count": 36,
     "metadata": {},
     "output_type": "execute_result"
    }
   ],
   "source": [
    "len(test_df)"
   ]
  },
  {
   "cell_type": "code",
   "execution_count": 37,
   "id": "8aebd716",
   "metadata": {
    "execution": {
     "iopub.execute_input": "2025-01-30T19:25:02.500756Z",
     "iopub.status.busy": "2025-01-30T19:25:02.500400Z",
     "iopub.status.idle": "2025-01-30T19:25:02.514171Z",
     "shell.execute_reply": "2025-01-30T19:25:02.513178Z"
    },
    "papermill": {
     "duration": 0.035577,
     "end_time": "2025-01-30T19:25:02.515689",
     "exception": false,
     "start_time": "2025-01-30T19:25:02.480112",
     "status": "completed"
    },
    "tags": []
   },
   "outputs": [
    {
     "data": {
      "text/plain": [
       "(tensor([0.0000, 0.2300]), tensor([]))"
      ]
     },
     "execution_count": 37,
     "metadata": {},
     "output_type": "execute_result"
    }
   ],
   "source": [
    "csv_file = \"/kaggle/input/titanic/test.csv\"\n",
    "target_col_list = []\n",
    "\n",
    "transforms = torchvision.transforms.Compose([SexToNum(), FillNa({\"Age\": na_age_fill}), NormalizeAge(minAge, maxAge), ConvertNumpyArrToFloat32()])\n",
    "\n",
    "final_test_dataset = CSVDataset(csv_file, features_col_list, target_col_list, transform=transforms)\n",
    "final_test_dataset[0]"
   ]
  },
  {
   "cell_type": "code",
   "execution_count": 38,
   "id": "c72081e3",
   "metadata": {
    "execution": {
     "iopub.execute_input": "2025-01-30T19:25:02.555622Z",
     "iopub.status.busy": "2025-01-30T19:25:02.555312Z",
     "iopub.status.idle": "2025-01-30T19:25:02.560957Z",
     "shell.execute_reply": "2025-01-30T19:25:02.559883Z"
    },
    "papermill": {
     "duration": 0.027087,
     "end_time": "2025-01-30T19:25:02.562543",
     "exception": false,
     "start_time": "2025-01-30T19:25:02.535456",
     "status": "completed"
    },
    "tags": []
   },
   "outputs": [
    {
     "data": {
      "text/plain": [
       "418"
      ]
     },
     "execution_count": 38,
     "metadata": {},
     "output_type": "execute_result"
    }
   ],
   "source": [
    "len(final_test_dataset)"
   ]
  },
  {
   "cell_type": "code",
   "execution_count": 39,
   "id": "af12578f",
   "metadata": {
    "execution": {
     "iopub.execute_input": "2025-01-30T19:25:02.602108Z",
     "iopub.status.busy": "2025-01-30T19:25:02.601779Z",
     "iopub.status.idle": "2025-01-30T19:25:03.152944Z",
     "shell.execute_reply": "2025-01-30T19:25:03.152125Z"
    },
    "papermill": {
     "duration": 0.573112,
     "end_time": "2025-01-30T19:25:03.154637",
     "exception": false,
     "start_time": "2025-01-30T19:25:02.581525",
     "status": "completed"
    },
    "tags": []
   },
   "outputs": [],
   "source": [
    "final_test_loader = DataLoader(final_test_dataset, shuffle=False)\n",
    "\n",
    "pred = []\n",
    "with torch.no_grad():  # Disable gradient calculation\n",
    "    for inputs, labels in final_test_loader:\n",
    "        inputs = inputs.to(device)\n",
    "    \n",
    "        outputs = model(inputs)\n",
    "        predictions = torch.sigmoid(outputs)  # Apply sigmoid for binary classification\n",
    "        predicted_classes = (predictions > 0.5).float()  # Convert to binary (0 or 1)\n",
    "\n",
    "        pred.append(int(predicted_classes.item()))"
   ]
  },
  {
   "cell_type": "code",
   "execution_count": 40,
   "id": "e47d64fb",
   "metadata": {
    "execution": {
     "iopub.execute_input": "2025-01-30T19:25:03.193744Z",
     "iopub.status.busy": "2025-01-30T19:25:03.193361Z",
     "iopub.status.idle": "2025-01-30T19:25:03.198834Z",
     "shell.execute_reply": "2025-01-30T19:25:03.197882Z"
    },
    "papermill": {
     "duration": 0.026824,
     "end_time": "2025-01-30T19:25:03.200385",
     "exception": false,
     "start_time": "2025-01-30T19:25:03.173561",
     "status": "completed"
    },
    "tags": []
   },
   "outputs": [
    {
     "data": {
      "text/plain": [
       "418"
      ]
     },
     "execution_count": 40,
     "metadata": {},
     "output_type": "execute_result"
    }
   ],
   "source": [
    "len(final_test_loader)"
   ]
  },
  {
   "cell_type": "code",
   "execution_count": 41,
   "id": "5ba3304d",
   "metadata": {
    "execution": {
     "iopub.execute_input": "2025-01-30T19:25:03.239659Z",
     "iopub.status.busy": "2025-01-30T19:25:03.239346Z",
     "iopub.status.idle": "2025-01-30T19:25:03.251332Z",
     "shell.execute_reply": "2025-01-30T19:25:03.250680Z"
    },
    "papermill": {
     "duration": 0.033012,
     "end_time": "2025-01-30T19:25:03.252728",
     "exception": false,
     "start_time": "2025-01-30T19:25:03.219716",
     "status": "completed"
    },
    "tags": []
   },
   "outputs": [],
   "source": [
    "pred_df = pd.DataFrame(pred, columns=[\"Survived\"])\n",
    "pred_df[\"PassengerId\"] = test_df[\"PassengerId\"]\n",
    "pred_df.to_csv(\"pred.csv\", index=False)"
   ]
  },
  {
   "cell_type": "code",
   "execution_count": 42,
   "id": "34c35d3c",
   "metadata": {
    "execution": {
     "iopub.execute_input": "2025-01-30T19:25:03.291417Z",
     "iopub.status.busy": "2025-01-30T19:25:03.291117Z",
     "iopub.status.idle": "2025-01-30T19:25:03.298705Z",
     "shell.execute_reply": "2025-01-30T19:25:03.297793Z"
    },
    "papermill": {
     "duration": 0.028514,
     "end_time": "2025-01-30T19:25:03.300311",
     "exception": false,
     "start_time": "2025-01-30T19:25:03.271797",
     "status": "completed"
    },
    "tags": []
   },
   "outputs": [
    {
     "data": {
      "text/html": [
       "<div>\n",
       "<style scoped>\n",
       "    .dataframe tbody tr th:only-of-type {\n",
       "        vertical-align: middle;\n",
       "    }\n",
       "\n",
       "    .dataframe tbody tr th {\n",
       "        vertical-align: top;\n",
       "    }\n",
       "\n",
       "    .dataframe thead th {\n",
       "        text-align: right;\n",
       "    }\n",
       "</style>\n",
       "<table border=\"1\" class=\"dataframe\">\n",
       "  <thead>\n",
       "    <tr style=\"text-align: right;\">\n",
       "      <th></th>\n",
       "      <th>Survived</th>\n",
       "      <th>PassengerId</th>\n",
       "    </tr>\n",
       "  </thead>\n",
       "  <tbody>\n",
       "    <tr>\n",
       "      <th>0</th>\n",
       "      <td>0</td>\n",
       "      <td>892</td>\n",
       "    </tr>\n",
       "    <tr>\n",
       "      <th>1</th>\n",
       "      <td>1</td>\n",
       "      <td>893</td>\n",
       "    </tr>\n",
       "    <tr>\n",
       "      <th>2</th>\n",
       "      <td>0</td>\n",
       "      <td>894</td>\n",
       "    </tr>\n",
       "    <tr>\n",
       "      <th>3</th>\n",
       "      <td>0</td>\n",
       "      <td>895</td>\n",
       "    </tr>\n",
       "    <tr>\n",
       "      <th>4</th>\n",
       "      <td>1</td>\n",
       "      <td>896</td>\n",
       "    </tr>\n",
       "  </tbody>\n",
       "</table>\n",
       "</div>"
      ],
      "text/plain": [
       "   Survived  PassengerId\n",
       "0         0          892\n",
       "1         1          893\n",
       "2         0          894\n",
       "3         0          895\n",
       "4         1          896"
      ]
     },
     "execution_count": 42,
     "metadata": {},
     "output_type": "execute_result"
    }
   ],
   "source": [
    "pred_df.head()"
   ]
  }
 ],
 "metadata": {
  "kaggle": {
   "accelerator": "nvidiaTeslaT4",
   "dataSources": [
    {
     "databundleVersionId": 26502,
     "sourceId": 3136,
     "sourceType": "competition"
    }
   ],
   "dockerImageVersionId": 30822,
   "isGpuEnabled": true,
   "isInternetEnabled": true,
   "language": "python",
   "sourceType": "notebook"
  },
  "kernelspec": {
   "display_name": "Python 3",
   "language": "python",
   "name": "python3"
  },
  "language_info": {
   "codemirror_mode": {
    "name": "ipython",
    "version": 3
   },
   "file_extension": ".py",
   "mimetype": "text/x-python",
   "name": "python",
   "nbconvert_exporter": "python",
   "pygments_lexer": "ipython3",
   "version": "3.10.12"
  },
  "papermill": {
   "default_parameters": {},
   "duration": 8684.224264,
   "end_time": "2025-01-30T19:25:05.905477",
   "environment_variables": {},
   "exception": null,
   "input_path": "__notebook__.ipynb",
   "output_path": "__notebook__.ipynb",
   "parameters": {},
   "start_time": "2025-01-30T17:00:21.681213",
   "version": "2.6.0"
  }
 },
 "nbformat": 4,
 "nbformat_minor": 5
}
