{
 "cells": [
  {
   "cell_type": "code",
   "execution_count": 1,
   "id": "066d9c14",
   "metadata": {
    "_cell_guid": "b1076dfc-b9ad-4769-8c92-a6c4dae69d19",
    "_uuid": "8f2839f25d086af736a60e9eeb907d3b93b6e0e5",
    "execution": {
     "iopub.execute_input": "2025-01-30T14:38:58.319863Z",
     "iopub.status.busy": "2025-01-30T14:38:58.319527Z",
     "iopub.status.idle": "2025-01-30T14:39:00.292084Z",
     "shell.execute_reply": "2025-01-30T14:39:00.291045Z"
    },
    "papermill": {
     "duration": 1.984256,
     "end_time": "2025-01-30T14:39:00.293411",
     "exception": false,
     "start_time": "2025-01-30T14:38:58.309155",
     "status": "completed"
    },
    "tags": []
   },
   "outputs": [
    {
     "name": "stdout",
     "output_type": "stream",
     "text": [
      "/kaggle/input/titanic/train.csv\n",
      "/kaggle/input/titanic/test.csv\n",
      "/kaggle/input/titanic/gender_submission.csv\n"
     ]
    }
   ],
   "source": [
    "import numpy as np\n",
    "import pandas as pd\n",
    "import seaborn as sns\n",
    "import matplotlib.pyplot as plt\n",
    "import os\n",
    "for dirname, _, filenames in os.walk('/kaggle/input'):\n",
    "    for filename in filenames:\n",
    "        print(os.path.join(dirname, filename))"
   ]
  },
  {
   "cell_type": "markdown",
   "id": "20d7efbf",
   "metadata": {
    "papermill": {
     "duration": 0.008196,
     "end_time": "2025-01-30T14:39:00.310563",
     "exception": false,
     "start_time": "2025-01-30T14:39:00.302367",
     "status": "completed"
    },
    "tags": []
   },
   "source": [
    "## Load Data"
   ]
  },
  {
   "cell_type": "code",
   "execution_count": 2,
   "id": "23514924",
   "metadata": {
    "execution": {
     "iopub.execute_input": "2025-01-30T14:39:00.327424Z",
     "iopub.status.busy": "2025-01-30T14:39:00.327087Z",
     "iopub.status.idle": "2025-01-30T14:39:00.376379Z",
     "shell.execute_reply": "2025-01-30T14:39:00.375571Z"
    },
    "papermill": {
     "duration": 0.059159,
     "end_time": "2025-01-30T14:39:00.377774",
     "exception": false,
     "start_time": "2025-01-30T14:39:00.318615",
     "status": "completed"
    },
    "tags": []
   },
   "outputs": [
    {
     "data": {
      "text/html": [
       "<div>\n",
       "<style scoped>\n",
       "    .dataframe tbody tr th:only-of-type {\n",
       "        vertical-align: middle;\n",
       "    }\n",
       "\n",
       "    .dataframe tbody tr th {\n",
       "        vertical-align: top;\n",
       "    }\n",
       "\n",
       "    .dataframe thead th {\n",
       "        text-align: right;\n",
       "    }\n",
       "</style>\n",
       "<table border=\"1\" class=\"dataframe\">\n",
       "  <thead>\n",
       "    <tr style=\"text-align: right;\">\n",
       "      <th></th>\n",
       "      <th>Survived</th>\n",
       "      <th>Pclass</th>\n",
       "      <th>Name</th>\n",
       "      <th>Sex</th>\n",
       "      <th>Age</th>\n",
       "      <th>SibSp</th>\n",
       "      <th>Parch</th>\n",
       "      <th>Ticket</th>\n",
       "      <th>Fare</th>\n",
       "      <th>Cabin</th>\n",
       "      <th>Embarked</th>\n",
       "    </tr>\n",
       "    <tr>\n",
       "      <th>PassengerId</th>\n",
       "      <th></th>\n",
       "      <th></th>\n",
       "      <th></th>\n",
       "      <th></th>\n",
       "      <th></th>\n",
       "      <th></th>\n",
       "      <th></th>\n",
       "      <th></th>\n",
       "      <th></th>\n",
       "      <th></th>\n",
       "      <th></th>\n",
       "    </tr>\n",
       "  </thead>\n",
       "  <tbody>\n",
       "    <tr>\n",
       "      <th>1</th>\n",
       "      <td>0</td>\n",
       "      <td>3</td>\n",
       "      <td>Braund, Mr. Owen Harris</td>\n",
       "      <td>male</td>\n",
       "      <td>22.0</td>\n",
       "      <td>1</td>\n",
       "      <td>0</td>\n",
       "      <td>A/5 21171</td>\n",
       "      <td>7.2500</td>\n",
       "      <td>NaN</td>\n",
       "      <td>S</td>\n",
       "    </tr>\n",
       "    <tr>\n",
       "      <th>2</th>\n",
       "      <td>1</td>\n",
       "      <td>1</td>\n",
       "      <td>Cumings, Mrs. John Bradley (Florence Briggs Th...</td>\n",
       "      <td>female</td>\n",
       "      <td>38.0</td>\n",
       "      <td>1</td>\n",
       "      <td>0</td>\n",
       "      <td>PC 17599</td>\n",
       "      <td>71.2833</td>\n",
       "      <td>C85</td>\n",
       "      <td>C</td>\n",
       "    </tr>\n",
       "    <tr>\n",
       "      <th>3</th>\n",
       "      <td>1</td>\n",
       "      <td>3</td>\n",
       "      <td>Heikkinen, Miss. Laina</td>\n",
       "      <td>female</td>\n",
       "      <td>26.0</td>\n",
       "      <td>0</td>\n",
       "      <td>0</td>\n",
       "      <td>STON/O2. 3101282</td>\n",
       "      <td>7.9250</td>\n",
       "      <td>NaN</td>\n",
       "      <td>S</td>\n",
       "    </tr>\n",
       "    <tr>\n",
       "      <th>4</th>\n",
       "      <td>1</td>\n",
       "      <td>1</td>\n",
       "      <td>Futrelle, Mrs. Jacques Heath (Lily May Peel)</td>\n",
       "      <td>female</td>\n",
       "      <td>35.0</td>\n",
       "      <td>1</td>\n",
       "      <td>0</td>\n",
       "      <td>113803</td>\n",
       "      <td>53.1000</td>\n",
       "      <td>C123</td>\n",
       "      <td>S</td>\n",
       "    </tr>\n",
       "    <tr>\n",
       "      <th>5</th>\n",
       "      <td>0</td>\n",
       "      <td>3</td>\n",
       "      <td>Allen, Mr. William Henry</td>\n",
       "      <td>male</td>\n",
       "      <td>35.0</td>\n",
       "      <td>0</td>\n",
       "      <td>0</td>\n",
       "      <td>373450</td>\n",
       "      <td>8.0500</td>\n",
       "      <td>NaN</td>\n",
       "      <td>S</td>\n",
       "    </tr>\n",
       "    <tr>\n",
       "      <th>6</th>\n",
       "      <td>0</td>\n",
       "      <td>3</td>\n",
       "      <td>Moran, Mr. James</td>\n",
       "      <td>male</td>\n",
       "      <td>NaN</td>\n",
       "      <td>0</td>\n",
       "      <td>0</td>\n",
       "      <td>330877</td>\n",
       "      <td>8.4583</td>\n",
       "      <td>NaN</td>\n",
       "      <td>Q</td>\n",
       "    </tr>\n",
       "    <tr>\n",
       "      <th>7</th>\n",
       "      <td>0</td>\n",
       "      <td>1</td>\n",
       "      <td>McCarthy, Mr. Timothy J</td>\n",
       "      <td>male</td>\n",
       "      <td>54.0</td>\n",
       "      <td>0</td>\n",
       "      <td>0</td>\n",
       "      <td>17463</td>\n",
       "      <td>51.8625</td>\n",
       "      <td>E46</td>\n",
       "      <td>S</td>\n",
       "    </tr>\n",
       "    <tr>\n",
       "      <th>8</th>\n",
       "      <td>0</td>\n",
       "      <td>3</td>\n",
       "      <td>Palsson, Master. Gosta Leonard</td>\n",
       "      <td>male</td>\n",
       "      <td>2.0</td>\n",
       "      <td>3</td>\n",
       "      <td>1</td>\n",
       "      <td>349909</td>\n",
       "      <td>21.0750</td>\n",
       "      <td>NaN</td>\n",
       "      <td>S</td>\n",
       "    </tr>\n",
       "    <tr>\n",
       "      <th>9</th>\n",
       "      <td>1</td>\n",
       "      <td>3</td>\n",
       "      <td>Johnson, Mrs. Oscar W (Elisabeth Vilhelmina Berg)</td>\n",
       "      <td>female</td>\n",
       "      <td>27.0</td>\n",
       "      <td>0</td>\n",
       "      <td>2</td>\n",
       "      <td>347742</td>\n",
       "      <td>11.1333</td>\n",
       "      <td>NaN</td>\n",
       "      <td>S</td>\n",
       "    </tr>\n",
       "    <tr>\n",
       "      <th>10</th>\n",
       "      <td>1</td>\n",
       "      <td>2</td>\n",
       "      <td>Nasser, Mrs. Nicholas (Adele Achem)</td>\n",
       "      <td>female</td>\n",
       "      <td>14.0</td>\n",
       "      <td>1</td>\n",
       "      <td>0</td>\n",
       "      <td>237736</td>\n",
       "      <td>30.0708</td>\n",
       "      <td>NaN</td>\n",
       "      <td>C</td>\n",
       "    </tr>\n",
       "  </tbody>\n",
       "</table>\n",
       "</div>"
      ],
      "text/plain": [
       "             Survived  Pclass  \\\n",
       "PassengerId                     \n",
       "1                   0       3   \n",
       "2                   1       1   \n",
       "3                   1       3   \n",
       "4                   1       1   \n",
       "5                   0       3   \n",
       "6                   0       3   \n",
       "7                   0       1   \n",
       "8                   0       3   \n",
       "9                   1       3   \n",
       "10                  1       2   \n",
       "\n",
       "                                                          Name     Sex   Age  \\\n",
       "PassengerId                                                                    \n",
       "1                                      Braund, Mr. Owen Harris    male  22.0   \n",
       "2            Cumings, Mrs. John Bradley (Florence Briggs Th...  female  38.0   \n",
       "3                                       Heikkinen, Miss. Laina  female  26.0   \n",
       "4                 Futrelle, Mrs. Jacques Heath (Lily May Peel)  female  35.0   \n",
       "5                                     Allen, Mr. William Henry    male  35.0   \n",
       "6                                             Moran, Mr. James    male   NaN   \n",
       "7                                      McCarthy, Mr. Timothy J    male  54.0   \n",
       "8                               Palsson, Master. Gosta Leonard    male   2.0   \n",
       "9            Johnson, Mrs. Oscar W (Elisabeth Vilhelmina Berg)  female  27.0   \n",
       "10                         Nasser, Mrs. Nicholas (Adele Achem)  female  14.0   \n",
       "\n",
       "             SibSp  Parch            Ticket     Fare Cabin Embarked  \n",
       "PassengerId                                                          \n",
       "1                1      0         A/5 21171   7.2500   NaN        S  \n",
       "2                1      0          PC 17599  71.2833   C85        C  \n",
       "3                0      0  STON/O2. 3101282   7.9250   NaN        S  \n",
       "4                1      0            113803  53.1000  C123        S  \n",
       "5                0      0            373450   8.0500   NaN        S  \n",
       "6                0      0            330877   8.4583   NaN        Q  \n",
       "7                0      0             17463  51.8625   E46        S  \n",
       "8                3      1            349909  21.0750   NaN        S  \n",
       "9                0      2            347742  11.1333   NaN        S  \n",
       "10               1      0            237736  30.0708   NaN        C  "
      ]
     },
     "execution_count": 2,
     "metadata": {},
     "output_type": "execute_result"
    }
   ],
   "source": [
    "train_df = pd.read_csv(\"/kaggle/input/titanic/train.csv\", index_col=0)\n",
    "train_df.head(10)"
   ]
  },
  {
   "cell_type": "code",
   "execution_count": 3,
   "id": "9616db66",
   "metadata": {
    "execution": {
     "iopub.execute_input": "2025-01-30T14:39:00.395892Z",
     "iopub.status.busy": "2025-01-30T14:39:00.395657Z",
     "iopub.status.idle": "2025-01-30T14:39:00.399854Z",
     "shell.execute_reply": "2025-01-30T14:39:00.399085Z"
    },
    "papermill": {
     "duration": 0.014038,
     "end_time": "2025-01-30T14:39:00.401033",
     "exception": false,
     "start_time": "2025-01-30T14:39:00.386995",
     "status": "completed"
    },
    "tags": []
   },
   "outputs": [
    {
     "data": {
      "text/plain": [
       "891"
      ]
     },
     "execution_count": 3,
     "metadata": {},
     "output_type": "execute_result"
    }
   ],
   "source": [
    "len(train_df)"
   ]
  },
  {
   "cell_type": "markdown",
   "id": "03995920",
   "metadata": {
    "papermill": {
     "duration": 0.008247,
     "end_time": "2025-01-30T14:39:00.417601",
     "exception": false,
     "start_time": "2025-01-30T14:39:00.409354",
     "status": "completed"
    },
    "tags": []
   },
   "source": [
    "## Explore Data"
   ]
  },
  {
   "attachments": {
    "32b3126c-ecdb-46fc-86b2-f22ddf6e6809.png": {
     "image/png": "[encoded data removed]"
    }
   },
   "cell_type": "markdown",
   "id": "5bf49d71",
   "metadata": {
    "papermill": {
     "duration": 0.008017,
     "end_time": "2025-01-30T14:39:00.434140",
     "exception": false,
     "start_time": "2025-01-30T14:39:00.426123",
     "status": "completed"
    },
    "tags": []
   },
   "source": [
    "![image.png](attachment:32b3126c-ecdb-46fc-86b2-f22ddf6e6809.png)"
   ]
  },
  {
   "cell_type": "code",
   "execution_count": 4,
   "id": "a579f134",
   "metadata": {
    "execution": {
     "iopub.execute_input": "2025-01-30T14:39:00.451304Z",
     "iopub.status.busy": "2025-01-30T14:39:00.451079Z",
     "iopub.status.idle": "2025-01-30T14:39:00.455219Z",
     "shell.execute_reply": "2025-01-30T14:39:00.454567Z"
    },
    "papermill": {
     "duration": 0.014083,
     "end_time": "2025-01-30T14:39:00.456500",
     "exception": false,
     "start_time": "2025-01-30T14:39:00.442417",
     "status": "completed"
    },
    "tags": []
   },
   "outputs": [
    {
     "data": {
      "text/plain": [
       "891"
      ]
     },
     "execution_count": 4,
     "metadata": {},
     "output_type": "execute_result"
    }
   ],
   "source": [
    "len(train_df)"
   ]
  },
  {
   "cell_type": "code",
   "execution_count": 5,
   "id": "b6f7da07",
   "metadata": {
    "execution": {
     "iopub.execute_input": "2025-01-30T14:39:00.474853Z",
     "iopub.status.busy": "2025-01-30T14:39:00.474580Z",
     "iopub.status.idle": "2025-01-30T14:39:00.498579Z",
     "shell.execute_reply": "2025-01-30T14:39:00.497425Z"
    },
    "papermill": {
     "duration": 0.034862,
     "end_time": "2025-01-30T14:39:00.500110",
     "exception": false,
     "start_time": "2025-01-30T14:39:00.465248",
     "status": "completed"
    },
    "tags": []
   },
   "outputs": [
    {
     "data": {
      "text/html": [
       "<div>\n",
       "<style scoped>\n",
       "    .dataframe tbody tr th:only-of-type {\n",
       "        vertical-align: middle;\n",
       "    }\n",
       "\n",
       "    .dataframe tbody tr th {\n",
       "        vertical-align: top;\n",
       "    }\n",
       "\n",
       "    .dataframe thead th {\n",
       "        text-align: right;\n",
       "    }\n",
       "</style>\n",
       "<table border=\"1\" class=\"dataframe\">\n",
       "  <thead>\n",
       "    <tr style=\"text-align: right;\">\n",
       "      <th></th>\n",
       "      <th>Survived</th>\n",
       "      <th>Pclass</th>\n",
       "      <th>Age</th>\n",
       "      <th>SibSp</th>\n",
       "      <th>Parch</th>\n",
       "      <th>Fare</th>\n",
       "    </tr>\n",
       "  </thead>\n",
       "  <tbody>\n",
       "    <tr>\n",
       "      <th>count</th>\n",
       "      <td>891.000000</td>\n",
       "      <td>891.000000</td>\n",
       "      <td>714.000000</td>\n",
       "      <td>891.000000</td>\n",
       "      <td>891.000000</td>\n",
       "      <td>891.000000</td>\n",
       "    </tr>\n",
       "    <tr>\n",
       "      <th>mean</th>\n",
       "      <td>0.383838</td>\n",
       "      <td>2.308642</td>\n",
       "      <td>29.699118</td>\n",
       "      <td>0.523008</td>\n",
       "      <td>0.381594</td>\n",
       "      <td>32.204208</td>\n",
       "    </tr>\n",
       "    <tr>\n",
       "      <th>std</th>\n",
       "      <td>0.486592</td>\n",
       "      <td>0.836071</td>\n",
       "      <td>14.526497</td>\n",
       "      <td>1.102743</td>\n",
       "      <td>0.806057</td>\n",
       "      <td>49.693429</td>\n",
       "    </tr>\n",
       "    <tr>\n",
       "      <th>min</th>\n",
       "      <td>0.000000</td>\n",
       "      <td>1.000000</td>\n",
       "      <td>0.420000</td>\n",
       "      <td>0.000000</td>\n",
       "      <td>0.000000</td>\n",
       "      <td>0.000000</td>\n",
       "    </tr>\n",
       "    <tr>\n",
       "      <th>25%</th>\n",
       "      <td>0.000000</td>\n",
       "      <td>2.000000</td>\n",
       "      <td>20.125000</td>\n",
       "      <td>0.000000</td>\n",
       "      <td>0.000000</td>\n",
       "      <td>7.910400</td>\n",
       "    </tr>\n",
       "    <tr>\n",
       "      <th>50%</th>\n",
       "      <td>0.000000</td>\n",
       "      <td>3.000000</td>\n",
       "      <td>28.000000</td>\n",
       "      <td>0.000000</td>\n",
       "      <td>0.000000</td>\n",
       "      <td>14.454200</td>\n",
       "    </tr>\n",
       "    <tr>\n",
       "      <th>75%</th>\n",
       "      <td>1.000000</td>\n",
       "      <td>3.000000</td>\n",
       "      <td>38.000000</td>\n",
       "      <td>1.000000</td>\n",
       "      <td>0.000000</td>\n",
       "      <td>31.000000</td>\n",
       "    </tr>\n",
       "    <tr>\n",
       "      <th>max</th>\n",
       "      <td>1.000000</td>\n",
       "      <td>3.000000</td>\n",
       "      <td>80.000000</td>\n",
       "      <td>8.000000</td>\n",
       "      <td>6.000000</td>\n",
       "      <td>512.329200</td>\n",
       "    </tr>\n",
       "  </tbody>\n",
       "</table>\n",
       "</div>"
      ],
      "text/plain": [
       "         Survived      Pclass         Age       SibSp       Parch        Fare\n",
       "count  891.000000  891.000000  714.000000  891.000000  891.000000  891.000000\n",
       "mean     0.383838    2.308642   29.699118    0.523008    0.381594   32.204208\n",
       "std      0.486592    0.836071   14.526497    1.102743    0.806057   49.693429\n",
       "min      0.000000    1.000000    0.420000    0.000000    0.000000    0.000000\n",
       "25%      0.000000    2.000000   20.125000    0.000000    0.000000    7.910400\n",
       "50%      0.000000    3.000000   28.000000    0.000000    0.000000   14.454200\n",
       "75%      1.000000    3.000000   38.000000    1.000000    0.000000   31.000000\n",
       "max      1.000000    3.000000   80.000000    8.000000    6.000000  512.329200"
      ]
     },
     "execution_count": 5,
     "metadata": {},
     "output_type": "execute_result"
    }
   ],
   "source": [
    "train_df.describe()"
   ]
  },
  {
   "cell_type": "code",
   "execution_count": 6,
   "id": "48fe5b3e",
   "metadata": {
    "execution": {
     "iopub.execute_input": "2025-01-30T14:39:00.519508Z",
     "iopub.status.busy": "2025-01-30T14:39:00.519185Z",
     "iopub.status.idle": "2025-01-30T14:39:00.523398Z",
     "shell.execute_reply": "2025-01-30T14:39:00.522478Z"
    },
    "papermill": {
     "duration": 0.015412,
     "end_time": "2025-01-30T14:39:00.525050",
     "exception": false,
     "start_time": "2025-01-30T14:39:00.509638",
     "status": "completed"
    },
    "tags": []
   },
   "outputs": [
    {
     "name": "stdout",
     "output_type": "stream",
     "text": [
      "count of items to be dropped 177\n",
      "count of items left 714\n"
     ]
    }
   ],
   "source": [
    "# age has some null value\n",
    "# should we try dropping them for now?\n",
    "\n",
    "# count of rows that will be dropped\n",
    "print(f\"count of items to be dropped {len(train_df) - 714}\")\n",
    "\n",
    "# rows lefr\n",
    "print(f\"count of items left {len(train_df) - len(train_df) + 714}\")"
   ]
  },
  {
   "cell_type": "code",
   "execution_count": 7,
   "id": "a223c9d9",
   "metadata": {
    "execution": {
     "iopub.execute_input": "2025-01-30T14:39:00.544115Z",
     "iopub.status.busy": "2025-01-30T14:39:00.543900Z",
     "iopub.status.idle": "2025-01-30T14:39:00.549916Z",
     "shell.execute_reply": "2025-01-30T14:39:00.549108Z"
    },
    "papermill": {
     "duration": 0.016583,
     "end_time": "2025-01-30T14:39:00.551116",
     "exception": false,
     "start_time": "2025-01-30T14:39:00.534533",
     "status": "completed"
    },
    "tags": []
   },
   "outputs": [
    {
     "data": {
      "text/plain": [
       "Survived      0\n",
       "Pclass        0\n",
       "Name          0\n",
       "Sex           0\n",
       "Age         177\n",
       "SibSp         0\n",
       "Parch         0\n",
       "Ticket        0\n",
       "Fare          0\n",
       "Cabin       687\n",
       "Embarked      2\n",
       "dtype: int64"
      ]
     },
     "execution_count": 7,
     "metadata": {},
     "output_type": "execute_result"
    }
   ],
   "source": [
    "train_df.isna().sum()"
   ]
  },
  {
   "cell_type": "code",
   "execution_count": 8,
   "id": "4f69766e",
   "metadata": {
    "execution": {
     "iopub.execute_input": "2025-01-30T14:39:00.569882Z",
     "iopub.status.busy": "2025-01-30T14:39:00.569634Z",
     "iopub.status.idle": "2025-01-30T14:39:00.572730Z",
     "shell.execute_reply": "2025-01-30T14:39:00.571919Z"
    },
    "papermill": {
     "duration": 0.013755,
     "end_time": "2025-01-30T14:39:00.573976",
     "exception": false,
     "start_time": "2025-01-30T14:39:00.560221",
     "status": "completed"
    },
    "tags": []
   },
   "outputs": [],
   "source": [
    "# cabin has 687 nulls, i dont think we can learn anything using it though"
   ]
  },
  {
   "cell_type": "code",
   "execution_count": 9,
   "id": "4a96d836",
   "metadata": {
    "execution": {
     "iopub.execute_input": "2025-01-30T14:39:00.592825Z",
     "iopub.status.busy": "2025-01-30T14:39:00.592550Z",
     "iopub.status.idle": "2025-01-30T14:39:00.599996Z",
     "shell.execute_reply": "2025-01-30T14:39:00.599048Z"
    },
    "papermill": {
     "duration": 0.018557,
     "end_time": "2025-01-30T14:39:00.601556",
     "exception": false,
     "start_time": "2025-01-30T14:39:00.582999",
     "status": "completed"
    },
    "tags": []
   },
   "outputs": [
    {
     "data": {
      "text/plain": [
       "Survived\n",
       "0    549\n",
       "1    342\n",
       "Name: count, dtype: int64"
      ]
     },
     "execution_count": 9,
     "metadata": {},
     "output_type": "execute_result"
    }
   ],
   "source": [
    "# lets check balance now\n",
    "train_df[\"Survived\"].value_counts()"
   ]
  },
  {
   "cell_type": "code",
   "execution_count": 10,
   "id": "b5fb9f1b",
   "metadata": {
    "execution": {
     "iopub.execute_input": "2025-01-30T14:39:00.622499Z",
     "iopub.status.busy": "2025-01-30T14:39:00.622144Z",
     "iopub.status.idle": "2025-01-30T14:39:00.628857Z",
     "shell.execute_reply": "2025-01-30T14:39:00.627804Z"
    },
    "papermill": {
     "duration": 0.018185,
     "end_time": "2025-01-30T14:39:00.630206",
     "exception": false,
     "start_time": "2025-01-30T14:39:00.612021",
     "status": "completed"
    },
    "tags": []
   },
   "outputs": [
    {
     "name": "stdout",
     "output_type": "stream",
     "text": [
      "Survived\n",
      "0    61.616162\n",
      "1    38.383838\n",
      "Name: proportion, dtype: float64\n",
      "The dataset is balanced.\n"
     ]
    }
   ],
   "source": [
    "class_percentages = train_df[\"Survived\"].value_counts(normalize=True) * 100\n",
    "\n",
    "print(class_percentages)\n",
    "\n",
    "threshold = 70  # Adjust this as needed\n",
    "is_balanced = all(class_percentages < threshold)\n",
    "\n",
    "if is_balanced:\n",
    "    print(\"The dataset is balanced.\")\n",
    "else:\n",
    "    print(\"The dataset is imbalanced.\")"
   ]
  },
  {
   "cell_type": "code",
   "execution_count": 11,
   "id": "ed540ed5",
   "metadata": {
    "execution": {
     "iopub.execute_input": "2025-01-30T14:39:00.651564Z",
     "iopub.status.busy": "2025-01-30T14:39:00.651258Z",
     "iopub.status.idle": "2025-01-30T14:39:00.654403Z",
     "shell.execute_reply": "2025-01-30T14:39:00.653740Z"
    },
    "papermill": {
     "duration": 0.013896,
     "end_time": "2025-01-30T14:39:00.655553",
     "exception": false,
     "start_time": "2025-01-30T14:39:00.641657",
     "status": "completed"
    },
    "tags": []
   },
   "outputs": [],
   "source": [
    "# so model can easily get 61% accuracy if it always predics 0\n",
    "# so this will be our basepoint"
   ]
  },
  {
   "cell_type": "code",
   "execution_count": 12,
   "id": "fb83e3cf",
   "metadata": {
    "execution": {
     "iopub.execute_input": "2025-01-30T14:39:00.674108Z",
     "iopub.status.busy": "2025-01-30T14:39:00.673877Z",
     "iopub.status.idle": "2025-01-30T14:39:00.692860Z",
     "shell.execute_reply": "2025-01-30T14:39:00.691666Z"
    },
    "papermill": {
     "duration": 0.029969,
     "end_time": "2025-01-30T14:39:00.694377",
     "exception": false,
     "start_time": "2025-01-30T14:39:00.664408",
     "status": "completed"
    },
    "tags": []
   },
   "outputs": [
    {
     "name": "stdout",
     "output_type": "stream",
     "text": [
      "Column: Survived\n",
      "Outliers: 0\n",
      "Column: Pclass\n",
      "Outliers: 0\n",
      "Column: Age\n",
      "Outliers: 11\n",
      "Column: SibSp\n",
      "Outliers: 46\n",
      "Column: Parch\n",
      "Outliers: 213\n",
      "Column: Fare\n",
      "Outliers: 116\n"
     ]
    }
   ],
   "source": [
    "# check outliers\n",
    "# Identify outliers for each column\n",
    "for column in train_df.select_dtypes(include=[np.number]):  # Only numerical columns\n",
    "    Q1 = train_df[column].quantile(0.25)  # First quartile (25th percentile)\n",
    "    Q3 = train_df[column].quantile(0.75)  # Third quartile (75th percentile)\n",
    "    IQR = Q3 - Q1  # Interquartile range\n",
    "    lower_bound = Q1 - 1.5 * IQR\n",
    "    upper_bound = Q3 + 1.5 * IQR\n",
    "\n",
    "    print(f\"Column: {column}\")\n",
    "    print(f\"Outliers: {len(train_df[(train_df[column] < lower_bound) | (train_df[column] > upper_bound)][column].tolist())}\")"
   ]
  },
  {
   "cell_type": "markdown",
   "id": "82bd26b6",
   "metadata": {
    "papermill": {
     "duration": 0.009162,
     "end_time": "2025-01-30T14:39:00.713775",
     "exception": false,
     "start_time": "2025-01-30T14:39:00.704613",
     "status": "completed"
    },
    "tags": []
   },
   "source": [
    "## Create Dataset Class"
   ]
  },
  {
   "cell_type": "code",
   "execution_count": 13,
   "id": "087f2c57",
   "metadata": {
    "execution": {
     "iopub.execute_input": "2025-01-30T14:39:00.732755Z",
     "iopub.status.busy": "2025-01-30T14:39:00.732482Z",
     "iopub.status.idle": "2025-01-30T14:39:00.998396Z",
     "shell.execute_reply": "2025-01-30T14:39:00.997623Z"
    },
    "papermill": {
     "duration": 0.276953,
     "end_time": "2025-01-30T14:39:00.999694",
     "exception": false,
     "start_time": "2025-01-30T14:39:00.722741",
     "status": "completed"
    },
    "tags": []
   },
   "outputs": [
    {
     "data": {
      "image/png": "[encoded data removed]",
      "text/plain": [
       "<Figure size 640x480 with 1 Axes>"
      ]
     },
     "metadata": {},
     "output_type": "display_data"
    }
   ],
   "source": [
    "sns.countplot(x='Sex', hue='Survived', data=train_df)\n",
    "\n",
    "total = len(train_df)\n",
    "\n",
    "# Add percentage annotations\n",
    "\n",
    "for p in plt.gca().patches:\n",
    "    height = p.get_height()\n",
    "    width = p.get_width()\n",
    "    x, y = p.get_xy()  # Get position of each bar\n",
    "    percentage = height / total * 100\n",
    "    plt.text(x + width / 2, y + height + 5, f'{percentage:.1f}%', ha='center')\n",
    "\n",
    "plt.title('Count of Survived vs. Not Survived by Gender')\n",
    "plt.xlabel('Gender')\n",
    "plt.ylabel('Count')\n",
    "plt.show()"
   ]
  },
  {
   "cell_type": "code",
   "execution_count": 14,
   "id": "88dd3b15",
   "metadata": {
    "execution": {
     "iopub.execute_input": "2025-01-30T14:39:01.019830Z",
     "iopub.status.busy": "2025-01-30T14:39:01.019572Z",
     "iopub.status.idle": "2025-01-30T14:39:01.374297Z",
     "shell.execute_reply": "2025-01-30T14:39:01.373416Z"
    },
    "papermill": {
     "duration": 0.366369,
     "end_time": "2025-01-30T14:39:01.375978",
     "exception": false,
     "start_time": "2025-01-30T14:39:01.009609",
     "status": "completed"
    },
    "tags": []
   },
   "outputs": [
    {
     "name": "stderr",
     "output_type": "stream",
     "text": [
      "/usr/local/lib/python3.10/dist-packages/seaborn/_oldcore.py:1119: FutureWarning: use_inf_as_na option is deprecated and will be removed in a future version. Convert inf values to NaN before operating instead.\n",
      "  with pd.option_context('mode.use_inf_as_na', True):\n"
     ]
    },
    {
     "data": {
      "image/png": "[encoded data removed]",
      "text/plain": [
       "<Figure size 640x480 with 1 Axes>"
      ]
     },
     "metadata": {},
     "output_type": "display_data"
    }
   ],
   "source": [
    "sns.histplot(x='Age', hue='Survived', data=train_df)\n",
    "plt.title('Count of Survived vs. Not Survived by Age')\n",
    "plt.xlabel('Age')\n",
    "plt.ylabel('Count')\n",
    "plt.show()"
   ]
  },
  {
   "cell_type": "code",
   "execution_count": 15,
   "id": "51314db2",
   "metadata": {
    "execution": {
     "iopub.execute_input": "2025-01-30T14:39:01.398221Z",
     "iopub.status.busy": "2025-01-30T14:39:01.397926Z",
     "iopub.status.idle": "2025-01-30T14:39:01.403682Z",
     "shell.execute_reply": "2025-01-30T14:39:01.402964Z"
    },
    "papermill": {
     "duration": 0.017609,
     "end_time": "2025-01-30T14:39:01.405018",
     "exception": false,
     "start_time": "2025-01-30T14:39:01.387409",
     "status": "completed"
    },
    "tags": []
   },
   "outputs": [
    {
     "data": {
      "text/plain": [
       "Survived\n",
       "0    549\n",
       "1    342\n",
       "Name: count, dtype: int64"
      ]
     },
     "execution_count": 15,
     "metadata": {},
     "output_type": "execute_result"
    }
   ],
   "source": [
    "train_df[\"Survived\"].value_counts()"
   ]
  },
  {
   "cell_type": "code",
   "execution_count": 16,
   "id": "40fefa90",
   "metadata": {
    "execution": {
     "iopub.execute_input": "2025-01-30T14:39:01.426393Z",
     "iopub.status.busy": "2025-01-30T14:39:01.426127Z",
     "iopub.status.idle": "2025-01-30T14:39:06.478003Z",
     "shell.execute_reply": "2025-01-30T14:39:06.477001Z"
    },
    "papermill": {
     "duration": 5.064428,
     "end_time": "2025-01-30T14:39:06.479812",
     "exception": false,
     "start_time": "2025-01-30T14:39:01.415384",
     "status": "completed"
    },
    "tags": []
   },
   "outputs": [
    {
     "name": "stdout",
     "output_type": "stream",
     "text": [
      "Collecting torchviz\r\n",
      "  Downloading torchviz-0.0.3-py3-none-any.whl.metadata (2.1 kB)\r\n",
      "Requirement already satisfied: torch in /usr/local/lib/python3.10/dist-packages (from torchviz) (2.4.1+cu121)\r\n",
      "Requirement already satisfied: graphviz in /usr/local/lib/python3.10/dist-packages (from torchviz) (0.20.3)\r\n",
      "Requirement already satisfied: filelock in /usr/local/lib/python3.10/dist-packages (from torch->torchviz) (3.16.1)\r\n",
      "Requirement already satisfied: typing-extensions>=4.8.0 in /usr/local/lib/python3.10/dist-packages (from torch->torchviz) (4.12.2)\r\n",
      "Requirement already satisfied: sympy in /usr/local/lib/python3.10/dist-packages (from torch->torchviz) (1.13.3)\r\n",
      "Requirement already satisfied: networkx in /usr/local/lib/python3.10/dist-packages (from torch->torchviz) (3.3)\r\n",
      "Requirement already satisfied: jinja2 in /usr/local/lib/python3.10/dist-packages (from torch->torchviz) (3.1.4)\r\n",
      "Requirement already satisfied: fsspec in /usr/local/lib/python3.10/dist-packages (from torch->torchviz) (2024.6.1)\r\n",
      "Requirement already satisfied: MarkupSafe>=2.0 in /usr/local/lib/python3.10/dist-packages (from jinja2->torch->torchviz) (2.1.5)\r\n",
      "Requirement already satisfied: mpmath<1.4,>=1.1.0 in /usr/local/lib/python3.10/dist-packages (from sympy->torch->torchviz) (1.3.0)\r\n",
      "Downloading torchviz-0.0.3-py3-none-any.whl (5.7 kB)\r\n",
      "Installing collected packages: torchviz\r\n",
      "Successfully installed torchviz-0.0.3\r\n"
     ]
    }
   ],
   "source": [
    "!pip install torchviz"
   ]
  },
  {
   "cell_type": "code",
   "execution_count": 17,
   "id": "e3412687",
   "metadata": {
    "execution": {
     "iopub.execute_input": "2025-01-30T14:39:06.504909Z",
     "iopub.status.busy": "2025-01-30T14:39:06.504581Z",
     "iopub.status.idle": "2025-01-30T14:39:11.114575Z",
     "shell.execute_reply": "2025-01-30T14:39:11.113815Z"
    },
    "papermill": {
     "duration": 4.624089,
     "end_time": "2025-01-30T14:39:11.116146",
     "exception": false,
     "start_time": "2025-01-30T14:39:06.492057",
     "status": "completed"
    },
    "tags": []
   },
   "outputs": [],
   "source": [
    "import torch\n",
    "from torch.utils.data import Dataset, DataLoader\n",
    "import torchvision\n",
    "import torch.nn as nn \n",
    "from torch.utils.data import random_split\n",
    "import math\n",
    "from torchviz import make_dot\n",
    "from IPython.display import Image"
   ]
  },
  {
   "cell_type": "code",
   "execution_count": 18,
   "id": "a8d7ff3d",
   "metadata": {
    "execution": {
     "iopub.execute_input": "2025-01-30T14:39:11.138369Z",
     "iopub.status.busy": "2025-01-30T14:39:11.137972Z",
     "iopub.status.idle": "2025-01-30T14:39:11.146187Z",
     "shell.execute_reply": "2025-01-30T14:39:11.145602Z"
    },
    "papermill": {
     "duration": 0.020493,
     "end_time": "2025-01-30T14:39:11.147407",
     "exception": false,
     "start_time": "2025-01-30T14:39:11.126914",
     "status": "completed"
    },
    "tags": []
   },
   "outputs": [],
   "source": [
    "torch.manual_seed(42); # seed rng for reproducibility"
   ]
  },
  {
   "cell_type": "code",
   "execution_count": 19,
   "id": "a33ba670",
   "metadata": {
    "execution": {
     "iopub.execute_input": "2025-01-30T14:39:11.169173Z",
     "iopub.status.busy": "2025-01-30T14:39:11.168960Z",
     "iopub.status.idle": "2025-01-30T14:39:11.173715Z",
     "shell.execute_reply": "2025-01-30T14:39:11.173071Z"
    },
    "papermill": {
     "duration": 0.01687,
     "end_time": "2025-01-30T14:39:11.174892",
     "exception": false,
     "start_time": "2025-01-30T14:39:11.158022",
     "status": "completed"
    },
    "tags": []
   },
   "outputs": [],
   "source": [
    "class CSVDataset(Dataset):\n",
    "    def __init__(self, csv_path, features_col_list, target_col_list, transform=None):\n",
    "        # data loading\n",
    "        self.features_col_list = features_col_list\n",
    "        self.target_col_list = target_col_list\n",
    "        self.data = pd.read_csv(csv_path, index_col=0)\n",
    "        self.transform = transform\n",
    "\n",
    "    def __getitem__(self, index):\n",
    "        x = self.data.iloc[index][self.features_col_list]  # Features}\n",
    "        y = self.data.iloc[index][self.target_col_list]  # Target\n",
    "\n",
    "        # Apply transformations if specified\n",
    "        if self.transform:\n",
    "            x, y = self.transform((x,y))\n",
    "\n",
    "        return torch.tensor(x, dtype=torch.float32), torch.tensor(y, dtype=torch.float32)\n",
    "\n",
    "    def __len__(self):\n",
    "        # allow us to use len(dataset)\n",
    "        return len(self.data)"
   ]
  },
  {
   "cell_type": "code",
   "execution_count": 20,
   "id": "0bc878eb",
   "metadata": {
    "execution": {
     "iopub.execute_input": "2025-01-30T14:39:11.196775Z",
     "iopub.status.busy": "2025-01-30T14:39:11.196538Z",
     "iopub.status.idle": "2025-01-30T14:39:11.204067Z",
     "shell.execute_reply": "2025-01-30T14:39:11.203389Z"
    },
    "papermill": {
     "duration": 0.019585,
     "end_time": "2025-01-30T14:39:11.205206",
     "exception": false,
     "start_time": "2025-01-30T14:39:11.185621",
     "status": "completed"
    },
    "tags": []
   },
   "outputs": [],
   "source": [
    "class SexToNum():\n",
    "    def __call__(self, sample):\n",
    "        inputs, targets = sample\n",
    "\n",
    "        if (inputs[\"Sex\"] == \"male\"):\n",
    "            inputs[\"Sex\"] = 0\n",
    "        else:\n",
    "            inputs[\"Sex\"] = 1\n",
    "\n",
    "        return (inputs, targets)\n",
    "\n",
    "class FillNa():\n",
    "    def __init__(self, col_na_fill_rule):\n",
    "        self.col_na_fill_rule = col_na_fill_rule\n",
    "\n",
    "    def __call__(self, sample):\n",
    "        inputs, targets = sample\n",
    "\n",
    "        for col, na_fill in self.col_na_fill_rule.items():\n",
    "            if (pd.isna(inputs[col])):\n",
    "                inputs[col] = na_fill\n",
    "\n",
    "        return (inputs, targets)\n",
    "\n",
    "class NormalizeAge():\n",
    "    def __init__(self, minVal, maxVal):\n",
    "        self.minVal = minVal\n",
    "        self.maxVal = maxVal\n",
    "    \n",
    "    def __call__(self, sample):\n",
    "        inputs, targets = sample\n",
    "        inputs[\"Age\"] = (inputs[\"Age\"] - self.minVal) / (self.maxVal - self.minVal)\n",
    "        return (inputs, targets)\n",
    "\n",
    "class ConvertNumpyArrToFloat32():\n",
    "    def __call__(self, sample):\n",
    "        inputs, targets = sample\n",
    "        inputs = (inputs.values).astype(np.float32)\n",
    "        targets = (targets.values).astype(np.float32)\n",
    "        return (inputs, targets)"
   ]
  },
  {
   "cell_type": "code",
   "execution_count": 21,
   "id": "c8120392",
   "metadata": {
    "execution": {
     "iopub.execute_input": "2025-01-30T14:39:11.226661Z",
     "iopub.status.busy": "2025-01-30T14:39:11.226403Z",
     "iopub.status.idle": "2025-01-30T14:39:11.306638Z",
     "shell.execute_reply": "2025-01-30T14:39:11.305963Z"
    },
    "papermill": {
     "duration": 0.092301,
     "end_time": "2025-01-30T14:39:11.307970",
     "exception": false,
     "start_time": "2025-01-30T14:39:11.215669",
     "status": "completed"
    },
    "tags": []
   },
   "outputs": [
    {
     "data": {
      "text/plain": [
       "(tensor([0.0000, 0.1980]), tensor([0.]))"
      ]
     },
     "execution_count": 21,
     "metadata": {},
     "output_type": "execute_result"
    }
   ],
   "source": [
    "csv_file = \"/kaggle/input/titanic/train.csv\"\n",
    "features_col_list = [\"Sex\", \"Age\"]\n",
    "target_col_list = [\"Survived\"]\n",
    "\n",
    "minAge = 0\n",
    "maxAge = 150\n",
    "na_age_fill = train_df[\"Age\"].mean() \n",
    "transforms = torchvision.transforms.Compose([SexToNum(), FillNa({\"Age\": na_age_fill}), NormalizeAge(minAge, maxAge), ConvertNumpyArrToFloat32()])\n",
    "\n",
    "dataset = CSVDataset(csv_file, features_col_list, target_col_list, transform=transforms)\n",
    "dataset[5]"
   ]
  },
  {
   "cell_type": "code",
   "execution_count": 22,
   "id": "4142e4ae",
   "metadata": {
    "execution": {
     "iopub.execute_input": "2025-01-30T14:39:11.329464Z",
     "iopub.status.busy": "2025-01-30T14:39:11.329221Z",
     "iopub.status.idle": "2025-01-30T14:39:11.333584Z",
     "shell.execute_reply": "2025-01-30T14:39:11.332733Z"
    },
    "papermill": {
     "duration": 0.016507,
     "end_time": "2025-01-30T14:39:11.334783",
     "exception": false,
     "start_time": "2025-01-30T14:39:11.318276",
     "status": "completed"
    },
    "tags": []
   },
   "outputs": [
    {
     "data": {
      "text/plain": [
       "891"
      ]
     },
     "execution_count": 22,
     "metadata": {},
     "output_type": "execute_result"
    }
   ],
   "source": [
    "len(dataset)"
   ]
  },
  {
   "cell_type": "code",
   "execution_count": 23,
   "id": "50ab3f04",
   "metadata": {
    "execution": {
     "iopub.execute_input": "2025-01-30T14:39:11.356432Z",
     "iopub.status.busy": "2025-01-30T14:39:11.356203Z",
     "iopub.status.idle": "2025-01-30T14:39:11.365095Z",
     "shell.execute_reply": "2025-01-30T14:39:11.364281Z"
    },
    "papermill": {
     "duration": 0.0213,
     "end_time": "2025-01-30T14:39:11.366495",
     "exception": false,
     "start_time": "2025-01-30T14:39:11.345195",
     "status": "completed"
    },
    "tags": []
   },
   "outputs": [],
   "source": [
    "# Define split ratios\n",
    "train_size = int(0.8 * len(dataset))  # 80% for training\n",
    "val_size = int(0.1 * len(dataset))    # 10% for validation\n",
    "test_size = len(dataset) - train_size - val_size  # Remaining for testing\n",
    "\n",
    "# Split dataset\n",
    "train_dataset, val_dataset, test_dataset = random_split(dataset, [train_size, val_size, test_size])"
   ]
  },
  {
   "cell_type": "code",
   "execution_count": 24,
   "id": "96764c3a",
   "metadata": {
    "execution": {
     "iopub.execute_input": "2025-01-30T14:39:11.388042Z",
     "iopub.status.busy": "2025-01-30T14:39:11.387808Z",
     "iopub.status.idle": "2025-01-30T14:39:11.391627Z",
     "shell.execute_reply": "2025-01-30T14:39:11.390854Z"
    },
    "papermill": {
     "duration": 0.016003,
     "end_time": "2025-01-30T14:39:11.392873",
     "exception": false,
     "start_time": "2025-01-30T14:39:11.376870",
     "status": "completed"
    },
    "tags": []
   },
   "outputs": [],
   "source": [
    "# Define batch size\n",
    "# since we have less data\n",
    "batch_size = 16\n",
    "\n",
    "# Create DataLoaders\n",
    "train_loader = DataLoader(train_dataset, batch_size=batch_size, shuffle=False)\n",
    "val_loader = DataLoader(val_dataset, batch_size=batch_size, shuffle=False)\n",
    "test_loader = DataLoader(test_dataset, batch_size=batch_size, shuffle=False)"
   ]
  },
  {
   "cell_type": "code",
   "execution_count": 25,
   "id": "4ea90b8d",
   "metadata": {
    "execution": {
     "iopub.execute_input": "2025-01-30T14:39:11.414051Z",
     "iopub.status.busy": "2025-01-30T14:39:11.413823Z",
     "iopub.status.idle": "2025-01-30T14:39:11.500016Z",
     "shell.execute_reply": "2025-01-30T14:39:11.498982Z"
    },
    "papermill": {
     "duration": 0.09848,
     "end_time": "2025-01-30T14:39:11.501465",
     "exception": false,
     "start_time": "2025-01-30T14:39:11.402985",
     "status": "completed"
    },
    "tags": []
   },
   "outputs": [
    {
     "name": "stdout",
     "output_type": "stream",
     "text": [
      "Using device: cuda\n"
     ]
    }
   ],
   "source": [
    "device = torch.device(\"cuda\" if torch.cuda.is_available() else \"cpu\")\n",
    "print(f\"Using device: {device}\")"
   ]
  },
  {
   "cell_type": "code",
   "execution_count": 26,
   "id": "9289eea1",
   "metadata": {
    "execution": {
     "iopub.execute_input": "2025-01-30T14:39:11.525719Z",
     "iopub.status.busy": "2025-01-30T14:39:11.525391Z",
     "iopub.status.idle": "2025-01-30T14:39:11.536379Z",
     "shell.execute_reply": "2025-01-30T14:39:11.535517Z"
    },
    "papermill": {
     "duration": 0.025437,
     "end_time": "2025-01-30T14:39:11.537804",
     "exception": false,
     "start_time": "2025-01-30T14:39:11.512367",
     "status": "completed"
    },
    "tags": []
   },
   "outputs": [],
   "source": [
    "# not correctly init\n",
    "hidden_neuron = 128\n",
    "debug = True\n",
    "\n",
    "class LinearLayer(nn.Linear):\n",
    "    def __init__(self, *args, **kwargs):\n",
    "        # Call the parent constructor to initialize the Linear layer\n",
    "        super().__init__(*args, **kwargs)\n",
    "        \n",
    "    def forward(self, x):\n",
    "        self.output = super().forward(x)\n",
    "        return self.output\n",
    "\n",
    "class LeakyReluLayer(nn.LeakyReLU):\n",
    "    def __init__(self, *args, **kwargs):\n",
    "        # Call the parent constructor to initialize the Linear layer\n",
    "        super().__init__(*args, **kwargs)\n",
    "        \n",
    "    def forward(self, x):\n",
    "        self.output = super().forward(x)\n",
    "        return self.output\n",
    "\n",
    "class TitanicSurvivalPredictor(nn.Module):\n",
    "    def __init__(self, hidden_neuron):\n",
    "        super().__init__()\n",
    "\n",
    "        # define layers\n",
    "        self.layers = nn.ModuleList([\n",
    "            LinearLayer(2, hidden_neuron),\n",
    "            LeakyReluLayer(),\n",
    "            # LinearLayer(hidden_neuron, hidden_neuron),\n",
    "            # LeakyReluLayer(),\n",
    "            # LinearLayer(hidden_neuron, hidden_neuron),\n",
    "            # LeakyReluLayer(),\n",
    "            LinearLayer(hidden_neuron, 1),\n",
    "        ])\n",
    "        \n",
    "    def forward(self, x):\n",
    "        for layer in self.layers:\n",
    "            x = layer(x)\n",
    "        return x\n",
    "\n",
    "    def parameters(self):\n",
    "        return [p for layer in self.layers for p in layer.parameters()]\n",
    "\n",
    "model = TitanicSurvivalPredictor(hidden_neuron)"
   ]
  },
  {
   "cell_type": "code",
   "execution_count": 27,
   "id": "bc1188cd",
   "metadata": {
    "execution": {
     "iopub.execute_input": "2025-01-30T14:39:11.560842Z",
     "iopub.status.busy": "2025-01-30T14:39:11.560592Z",
     "iopub.status.idle": "2025-01-30T14:39:11.584808Z",
     "shell.execute_reply": "2025-01-30T14:39:11.583987Z"
    },
    "papermill": {
     "duration": 0.037773,
     "end_time": "2025-01-30T14:39:11.586126",
     "exception": false,
     "start_time": "2025-01-30T14:39:11.548353",
     "status": "completed"
    },
    "tags": []
   },
   "outputs": [],
   "source": [
    "bce_loss = nn.BCEWithLogitsLoss()\n",
    "\n",
    "first_batch_input = None\n",
    "first_batch_label = None\n",
    "for inputs, labels in train_loader:\n",
    "    first_batch_input = inputs\n",
    "    first_batch_label = labels\n",
    "    break"
   ]
  },
  {
   "cell_type": "code",
   "execution_count": 28,
   "id": "64422507",
   "metadata": {
    "execution": {
     "iopub.execute_input": "2025-01-30T14:39:11.607701Z",
     "iopub.status.busy": "2025-01-30T14:39:11.607478Z",
     "iopub.status.idle": "2025-01-30T14:39:11.633273Z",
     "shell.execute_reply": "2025-01-30T14:39:11.632392Z"
    },
    "papermill": {
     "duration": 0.038059,
     "end_time": "2025-01-30T14:39:11.634735",
     "exception": false,
     "start_time": "2025-01-30T14:39:11.596676",
     "status": "completed"
    },
    "tags": []
   },
   "outputs": [
    {
     "name": "stdout",
     "output_type": "stream",
     "text": [
      "init loss: 0.6624229550361633\n"
     ]
    }
   ],
   "source": [
    "first_batch_pred_logits = model(first_batch_input)\n",
    "loss = bce_loss(first_batch_pred_logits, first_batch_label)\n",
    "print(f\"init loss: {loss.item()}\")"
   ]
  },
  {
   "cell_type": "code",
   "execution_count": 29,
   "id": "76817c9f",
   "metadata": {
    "execution": {
     "iopub.execute_input": "2025-01-30T14:39:11.658402Z",
     "iopub.status.busy": "2025-01-30T14:39:11.658065Z",
     "iopub.status.idle": "2025-01-30T14:39:11.664469Z",
     "shell.execute_reply": "2025-01-30T14:39:11.663535Z"
    },
    "papermill": {
     "duration": 0.02022,
     "end_time": "2025-01-30T14:39:11.665886",
     "exception": false,
     "start_time": "2025-01-30T14:39:11.645666",
     "status": "completed"
    },
    "tags": []
   },
   "outputs": [],
   "source": [
    "@torch.no_grad()\n",
    "def initParam(model):\n",
    "    # Initialize weights using Xavier Normal\n",
    "    for i, layer in enumerate(model.layers):\n",
    "        if (isinstance(layer, LinearLayer)):\n",
    "            if (i<len(model.layers)-1):\n",
    "                nn.init.xavier_normal_(model.layers[i].weight, gain=torch.nn.init.calculate_gain(\"relu\"))\n",
    "            else:\n",
    "                nn.init.xavier_normal_(model.layers[i].weight, gain=torch.nn.init.calculate_gain(\"sigmoid\"))\n",
    "            if layer.bias is not None:\n",
    "                nn.init.zeros_(model.layers[i].bias)\n",
    "\n",
    "initParam(model)"
   ]
  },
  {
   "cell_type": "code",
   "execution_count": 30,
   "id": "08e742d5",
   "metadata": {
    "execution": {
     "iopub.execute_input": "2025-01-30T14:39:11.688312Z",
     "iopub.status.busy": "2025-01-30T14:39:11.688041Z",
     "iopub.status.idle": "2025-01-30T14:39:11.694855Z",
     "shell.execute_reply": "2025-01-30T14:39:11.693967Z"
    },
    "papermill": {
     "duration": 0.019275,
     "end_time": "2025-01-30T14:39:11.696160",
     "exception": false,
     "start_time": "2025-01-30T14:39:11.676885",
     "status": "completed"
    },
    "tags": []
   },
   "outputs": [
    {
     "name": "stdout",
     "output_type": "stream",
     "text": [
      "init loss: 0.7166523337364197\n"
     ]
    }
   ],
   "source": [
    "first_batch_pred_logits = model(first_batch_input)\n",
    "loss = bce_loss(first_batch_pred_logits, first_batch_label)\n",
    "print(f\"init loss: {loss.item()}\")"
   ]
  },
  {
   "cell_type": "code",
   "execution_count": 31,
   "id": "220b5ad0",
   "metadata": {
    "execution": {
     "iopub.execute_input": "2025-01-30T14:39:11.721080Z",
     "iopub.status.busy": "2025-01-30T14:39:11.720828Z",
     "iopub.status.idle": "2025-01-30T14:51:57.167402Z",
     "shell.execute_reply": "2025-01-30T14:51:57.166510Z"
    },
    "papermill": {
     "duration": 765.469002,
     "end_time": "2025-01-30T14:51:57.178808",
     "exception": false,
     "start_time": "2025-01-30T14:39:11.709806",
     "status": "completed"
    },
    "tags": []
   },
   "outputs": [
    {
     "name": "stdout",
     "output_type": "stream",
     "text": [
      "Epoch 100/1000, Train Loss: -0.3010, Val Loss: -0.4004\n",
      "Epoch 200/1000, Train Loss: -0.3051, Val Loss: -0.4080\n",
      "Epoch 300/1000, Train Loss: -0.3102, Val Loss: -0.4184\n",
      "Epoch 400/1000, Train Loss: -0.3128, Val Loss: -0.4234\n",
      "Epoch 500/1000, Train Loss: -0.3141, Val Loss: -0.4255\n",
      "Epoch 600/1000, Train Loss: -0.3147, Val Loss: -0.4265\n",
      "Epoch 700/1000, Train Loss: -0.3152, Val Loss: -0.4267\n",
      "Epoch 800/1000, Train Loss: -0.3155, Val Loss: -0.4269\n",
      "Epoch 900/1000, Train Loss: -0.3158, Val Loss: -0.4272\n",
      "Epoch 1000/1000, Train Loss: -0.3161, Val Loss: -0.4274\n"
     ]
    }
   ],
   "source": [
    "# less lr rate since can overfit easily\n",
    "learning_rate = 1e-3\n",
    "# less epoch as can easily overfit\n",
    "num_epoch = 1000\n",
    "\n",
    "lossi_train = []\n",
    "lossi_val = []\n",
    "\n",
    "total_samples = len(train_dataset)\n",
    "n_iter = math.ceil(total_samples / batch_size)\n",
    "\n",
    "optimizer = torch.optim.AdamW(model.parameters(), lr=learning_rate)\n",
    "bce_loss = nn.BCEWithLogitsLoss()\n",
    "output_grads = []\n",
    "\n",
    "model = model.to(device)\n",
    "\n",
    "runFirstBatch = False\n",
    "for epoch in range(num_epoch):\n",
    "    train_loss = 0    \n",
    "    for i, (inputs, labels) in enumerate(train_loader):        \n",
    "        # forward pass\n",
    "        # print(f\"inputs: {inputs}\")\n",
    "        # print(f\"labels: {labels}\")\n",
    "        inputs = inputs.to(device)\n",
    "        labels = labels.to(device)\n",
    "\n",
    "        # print(f\"inputs device: {inputs.device}, labels device: {labels.device}, model device: {[param.device for param in model.parameters()]}\")\n",
    "\n",
    "        # reset grad\n",
    "        optimizer.zero_grad()\n",
    "        \n",
    "        pred = model(inputs)\n",
    "        # print(f\"pred: {pred}\")\n",
    "\n",
    "        # calc loss\n",
    "        loss = bce_loss(pred, labels)\n",
    "\n",
    "        if (debug):\n",
    "            for layer in model.layers:\n",
    "                layer.output.retain_grad() # save gradients of non leaf tensors also\n",
    "        \n",
    "        # backward pass\n",
    "        loss.backward()\n",
    "        optimizer.step()\n",
    "        loss = loss.log10()\n",
    "        train_loss += loss.item()\n",
    "\n",
    "        # if (debug):\n",
    "        #      break\n",
    "\n",
    "    # copied it to array since running with no grad will set grad to None\n",
    "    if (debug):\n",
    "        curr_grads = {}\n",
    "        for i, layer in enumerate(model.layers):\n",
    "            curr_grads[f\"{layer.__class__.__name__}: {i}\"] = layer.output.grad.clone()\n",
    "\n",
    "        output_grads.append(curr_grads)\n",
    "    \n",
    "    train_loss /= len(train_loader)\n",
    "    lossi_train.append(train_loss)\n",
    "\n",
    "    # validation phase\n",
    "    model.eval()\n",
    "    with torch.no_grad():  # Disable gradient computation for validation\n",
    "        val_loss = 0\n",
    "        \n",
    "        for inputs, labels in val_loader:\n",
    "            inputs = inputs.to(device)\n",
    "            labels = labels.to(device)\n",
    "            \n",
    "            pred = model(inputs)\n",
    "            \n",
    "            loss = bce_loss(pred, labels)\n",
    "            loss = loss.log10()\n",
    "            val_loss += loss.item()\n",
    "        \n",
    "        val_loss /= len(val_loader)\n",
    "        lossi_val.append(val_loss)\n",
    "        \n",
    "\n",
    "    # reset to train mode\n",
    "    model.train()\n",
    "\n",
    "    if ((epoch+1)%100==0):\n",
    "        print(f\"Epoch {epoch+1}/{num_epoch}, Train Loss: {train_loss:.4f}, Val Loss: {val_loss:.4f}\")\n",
    "\n",
    "    # if (debug):\n",
    "    #     break"
   ]
  },
  {
   "cell_type": "code",
   "execution_count": 32,
   "id": "40e17d11",
   "metadata": {
    "execution": {
     "iopub.execute_input": "2025-01-30T14:51:57.202901Z",
     "iopub.status.busy": "2025-01-30T14:51:57.202571Z",
     "iopub.status.idle": "2025-01-30T14:51:57.432424Z",
     "shell.execute_reply": "2025-01-30T14:51:57.431510Z"
    },
    "papermill": {
     "duration": 0.243374,
     "end_time": "2025-01-30T14:51:57.433757",
     "exception": false,
     "start_time": "2025-01-30T14:51:57.190383",
     "status": "completed"
    },
    "tags": []
   },
   "outputs": [
    {
     "data": {
      "text/plain": [
       "[<matplotlib.lines.Line2D at 0x7859bda0d0f0>]"
      ]
     },
     "execution_count": 32,
     "metadata": {},
     "output_type": "execute_result"
    },
    {
     "data": {
      "image/png": "[encoded data removed]",
      "text/plain": [
       "<Figure size 640x480 with 1 Axes>"
      ]
     },
     "metadata": {},
     "output_type": "display_data"
    }
   ],
   "source": [
    "plt.plot(lossi_train, color=\"blue\")\n",
    "plt.plot(lossi_val, color=\"red\")"
   ]
  },
  {
   "cell_type": "code",
   "execution_count": 33,
   "id": "84cb0682",
   "metadata": {
    "execution": {
     "iopub.execute_input": "2025-01-30T14:51:57.459098Z",
     "iopub.status.busy": "2025-01-30T14:51:57.458847Z",
     "iopub.status.idle": "2025-01-30T14:51:57.817187Z",
     "shell.execute_reply": "2025-01-30T14:51:57.816337Z"
    },
    "papermill": {
     "duration": 0.372636,
     "end_time": "2025-01-30T14:51:57.818940",
     "exception": false,
     "start_time": "2025-01-30T14:51:57.446304",
     "status": "completed"
    },
    "tags": []
   },
   "outputs": [
    {
     "name": "stdout",
     "output_type": "stream",
     "text": [
      "layer 0 (LinearLayer): mean +0.01, std 0.11, saturated: 0.00%\n",
      "layer 1 (LeakyReluLayer): mean +0.05, std 0.07, saturated: 0.00%\n",
      "layer 2 (LinearLayer): mean -0.96, std 1.18, saturated: 88.89%\n"
     ]
    },
    {
     "data": {
      "image/png": "[encoded data removed]",
      "text/plain": [
       "<Figure size 2000x400 with 1 Axes>"
      ]
     },
     "metadata": {},
     "output_type": "display_data"
    }
   ],
   "source": [
    "# visualize activations\n",
    "plt.figure(figsize=(20, 4))\n",
    "legends = []\n",
    "\n",
    "if (len(model.layers) > 1):\n",
    "    for i, layer in enumerate(model.layers): # exclude output layer\n",
    "        t = layer.output.cpu()\n",
    "        print('layer %d (%10s): mean %+.2f, std %.2f, saturated: %.2f%%' % (i, layer.__class__.__name__, t.mean(), t.std(), (t.abs() > 0.97).float().mean()*100))\n",
    "        hy, hx = torch.histogram(t, density=True)\n",
    "        plt.plot(hx[:-1].detach(), hy.detach())\n",
    "        legends.append(f'layer {i} ({layer.__class__.__name__})')\n",
    "    \n",
    "    plt.legend(legends)\n",
    "    plt.title(\"activation distribution\")"
   ]
  },
  {
   "cell_type": "code",
   "execution_count": 34,
   "id": "eabdc810",
   "metadata": {
    "execution": {
     "iopub.execute_input": "2025-01-30T14:51:57.846770Z",
     "iopub.status.busy": "2025-01-30T14:51:57.846367Z",
     "iopub.status.idle": "2025-01-30T14:51:58.196053Z",
     "shell.execute_reply": "2025-01-30T14:51:58.195127Z"
    },
    "papermill": {
     "duration": 0.364662,
     "end_time": "2025-01-30T14:51:58.197536",
     "exception": false,
     "start_time": "2025-01-30T14:51:57.832874",
     "status": "completed"
    },
    "tags": []
   },
   "outputs": [
    {
     "name": "stdout",
     "output_type": "stream",
     "text": [
      "layer (LinearLayer: 0): mean -0.000955, std 8.155834e-03\n",
      "layer (LeakyReluLayer: 1): mean +0.000980, std 1.657450e-02\n",
      "layer (LinearLayer: 2): mean +0.009029, std 2.516175e-02\n"
     ]
    },
    {
     "data": {
      "image/png": "[encoded data removed]",
      "text/plain": [
       "<Figure size 2000x400 with 1 Axes>"
      ]
     },
     "metadata": {},
     "output_type": "display_data"
    }
   ],
   "source": [
    "# visualize histograms\n",
    "plt.figure(figsize=(20, 4)) # width and height of the plot\n",
    "legends = []\n",
    "\n",
    "if (len(model.layers) > 1):\n",
    "    for layer_name, layer_grad in output_grads[-1].items(): # note: exclude the output layer\n",
    "        t = layer_grad.cpu()\n",
    "        print('layer (%10s): mean %+f, std %e' % (layer_name, t.mean(), t.std()))\n",
    "        hy, hx = torch.histogram(t, density=True)\n",
    "        plt.plot(hx[:-1].detach(), hy.detach())\n",
    "        legends.append(f'{layer_name}')\n",
    "\n",
    "    plt.legend(legends);\n",
    "    plt.title('gradient distribution')"
   ]
  },
  {
   "cell_type": "code",
   "execution_count": 35,
   "id": "254497af",
   "metadata": {
    "execution": {
     "iopub.execute_input": "2025-01-30T14:51:58.227006Z",
     "iopub.status.busy": "2025-01-30T14:51:58.226696Z",
     "iopub.status.idle": "2025-01-30T14:51:58.358487Z",
     "shell.execute_reply": "2025-01-30T14:51:58.357408Z"
    },
    "papermill": {
     "duration": 0.147952,
     "end_time": "2025-01-30T14:51:58.359905",
     "exception": false,
     "start_time": "2025-01-30T14:51:58.211953",
     "status": "completed"
    },
    "tags": []
   },
   "outputs": [
    {
     "name": "stdout",
     "output_type": "stream",
     "text": [
      "Test Accuracy: 78.89%\n"
     ]
    }
   ],
   "source": [
    "model.eval()  # Set model to evaluation mode\n",
    "\n",
    "# Accuracy calculation\n",
    "correct = 0\n",
    "total = 0\n",
    "\n",
    "with torch.no_grad():  # Disable gradient calculation\n",
    "    for inputs, labels in test_loader:\n",
    "        inputs = inputs.to(device)\n",
    "        labels = labels.to(device)\n",
    "        \n",
    "        outputs = model(inputs)\n",
    "        predictions = torch.sigmoid(outputs)  # Apply sigmoid for binary classification\n",
    "        predicted_classes = (predictions > 0.5).float()  # Convert to binary (0 or 1)\n",
    "        correct += (predicted_classes == labels).sum().item()\n",
    "        total += labels.size(0)\n",
    "\n",
    "accuracy = correct / total\n",
    "print(f\"Test Accuracy: {accuracy * 100:.2f}%\")"
   ]
  },
  {
   "cell_type": "code",
   "execution_count": 36,
   "id": "08a27954",
   "metadata": {
    "execution": {
     "iopub.execute_input": "2025-01-30T14:51:58.387651Z",
     "iopub.status.busy": "2025-01-30T14:51:58.387358Z",
     "iopub.status.idle": "2025-01-30T14:51:59.044623Z",
     "shell.execute_reply": "2025-01-30T14:51:59.043531Z"
    },
    "papermill": {
     "duration": 0.672842,
     "end_time": "2025-01-30T14:51:59.046183",
     "exception": false,
     "start_time": "2025-01-30T14:51:58.373341",
     "status": "completed"
    },
    "tags": []
   },
   "outputs": [
    {
     "name": "stdout",
     "output_type": "stream",
     "text": [
      "Train Accuracy: 78.93%\n"
     ]
    }
   ],
   "source": [
    "model.eval()  # Set model to evaluation mode\n",
    "\n",
    "# Accuracy calculation\n",
    "correct = 0\n",
    "total = 0\n",
    "\n",
    "with torch.no_grad():  # Disable gradient calculation\n",
    "    for inputs, labels in train_loader:\n",
    "        inputs = inputs.to(device)\n",
    "        labels = labels.to(device)\n",
    "        \n",
    "        outputs = model(inputs)\n",
    "        predictions = torch.sigmoid(outputs)  # Apply sigmoid for binary classification\n",
    "        predicted_classes = (predictions > 0.5).float()  # Convert to binary (0 or 1)\n",
    "        correct += (predicted_classes == labels).sum().item()\n",
    "        total += labels.size(0)\n",
    "\n",
    "accuracy = correct / total\n",
    "print(f\"Train Accuracy: {accuracy * 100:.2f}%\")"
   ]
  },
  {
   "cell_type": "markdown",
   "id": "c9919933",
   "metadata": {
    "papermill": {
     "duration": 0.013863,
     "end_time": "2025-01-30T14:51:59.074741",
     "exception": false,
     "start_time": "2025-01-30T14:51:59.060878",
     "status": "completed"
    },
    "tags": []
   },
   "source": [
    "## Test"
   ]
  },
  {
   "cell_type": "code",
   "execution_count": 37,
   "id": "2263d49a",
   "metadata": {
    "execution": {
     "iopub.execute_input": "2025-01-30T14:51:59.102433Z",
     "iopub.status.busy": "2025-01-30T14:51:59.102140Z",
     "iopub.status.idle": "2025-01-30T14:51:59.133565Z",
     "shell.execute_reply": "2025-01-30T14:51:59.132532Z"
    },
    "papermill": {
     "duration": 0.046991,
     "end_time": "2025-01-30T14:51:59.135038",
     "exception": false,
     "start_time": "2025-01-30T14:51:59.088047",
     "status": "completed"
    },
    "tags": []
   },
   "outputs": [
    {
     "data": {
      "text/html": [
       "<div>\n",
       "<style scoped>\n",
       "    .dataframe tbody tr th:only-of-type {\n",
       "        vertical-align: middle;\n",
       "    }\n",
       "\n",
       "    .dataframe tbody tr th {\n",
       "        vertical-align: top;\n",
       "    }\n",
       "\n",
       "    .dataframe thead th {\n",
       "        text-align: right;\n",
       "    }\n",
       "</style>\n",
       "<table border=\"1\" class=\"dataframe\">\n",
       "  <thead>\n",
       "    <tr style=\"text-align: right;\">\n",
       "      <th></th>\n",
       "      <th>PassengerId</th>\n",
       "      <th>Pclass</th>\n",
       "      <th>Name</th>\n",
       "      <th>Sex</th>\n",
       "      <th>Age</th>\n",
       "      <th>SibSp</th>\n",
       "      <th>Parch</th>\n",
       "      <th>Ticket</th>\n",
       "      <th>Fare</th>\n",
       "      <th>Cabin</th>\n",
       "      <th>Embarked</th>\n",
       "    </tr>\n",
       "  </thead>\n",
       "  <tbody>\n",
       "    <tr>\n",
       "      <th>0</th>\n",
       "      <td>892</td>\n",
       "      <td>3</td>\n",
       "      <td>Kelly, Mr. James</td>\n",
       "      <td>male</td>\n",
       "      <td>34.5</td>\n",
       "      <td>0</td>\n",
       "      <td>0</td>\n",
       "      <td>330911</td>\n",
       "      <td>7.8292</td>\n",
       "      <td>NaN</td>\n",
       "      <td>Q</td>\n",
       "    </tr>\n",
       "    <tr>\n",
       "      <th>1</th>\n",
       "      <td>893</td>\n",
       "      <td>3</td>\n",
       "      <td>Wilkes, Mrs. James (Ellen Needs)</td>\n",
       "      <td>female</td>\n",
       "      <td>47.0</td>\n",
       "      <td>1</td>\n",
       "      <td>0</td>\n",
       "      <td>363272</td>\n",
       "      <td>7.0000</td>\n",
       "      <td>NaN</td>\n",
       "      <td>S</td>\n",
       "    </tr>\n",
       "    <tr>\n",
       "      <th>2</th>\n",
       "      <td>894</td>\n",
       "      <td>2</td>\n",
       "      <td>Myles, Mr. Thomas Francis</td>\n",
       "      <td>male</td>\n",
       "      <td>62.0</td>\n",
       "      <td>0</td>\n",
       "      <td>0</td>\n",
       "      <td>240276</td>\n",
       "      <td>9.6875</td>\n",
       "      <td>NaN</td>\n",
       "      <td>Q</td>\n",
       "    </tr>\n",
       "    <tr>\n",
       "      <th>3</th>\n",
       "      <td>895</td>\n",
       "      <td>3</td>\n",
       "      <td>Wirz, Mr. Albert</td>\n",
       "      <td>male</td>\n",
       "      <td>27.0</td>\n",
       "      <td>0</td>\n",
       "      <td>0</td>\n",
       "      <td>315154</td>\n",
       "      <td>8.6625</td>\n",
       "      <td>NaN</td>\n",
       "      <td>S</td>\n",
       "    </tr>\n",
       "    <tr>\n",
       "      <th>4</th>\n",
       "      <td>896</td>\n",
       "      <td>3</td>\n",
       "      <td>Hirvonen, Mrs. Alexander (Helga E Lindqvist)</td>\n",
       "      <td>female</td>\n",
       "      <td>22.0</td>\n",
       "      <td>1</td>\n",
       "      <td>1</td>\n",
       "      <td>3101298</td>\n",
       "      <td>12.2875</td>\n",
       "      <td>NaN</td>\n",
       "      <td>S</td>\n",
       "    </tr>\n",
       "    <tr>\n",
       "      <th>5</th>\n",
       "      <td>897</td>\n",
       "      <td>3</td>\n",
       "      <td>Svensson, Mr. Johan Cervin</td>\n",
       "      <td>male</td>\n",
       "      <td>14.0</td>\n",
       "      <td>0</td>\n",
       "      <td>0</td>\n",
       "      <td>7538</td>\n",
       "      <td>9.2250</td>\n",
       "      <td>NaN</td>\n",
       "      <td>S</td>\n",
       "    </tr>\n",
       "    <tr>\n",
       "      <th>6</th>\n",
       "      <td>898</td>\n",
       "      <td>3</td>\n",
       "      <td>Connolly, Miss. Kate</td>\n",
       "      <td>female</td>\n",
       "      <td>30.0</td>\n",
       "      <td>0</td>\n",
       "      <td>0</td>\n",
       "      <td>330972</td>\n",
       "      <td>7.6292</td>\n",
       "      <td>NaN</td>\n",
       "      <td>Q</td>\n",
       "    </tr>\n",
       "    <tr>\n",
       "      <th>7</th>\n",
       "      <td>899</td>\n",
       "      <td>2</td>\n",
       "      <td>Caldwell, Mr. Albert Francis</td>\n",
       "      <td>male</td>\n",
       "      <td>26.0</td>\n",
       "      <td>1</td>\n",
       "      <td>1</td>\n",
       "      <td>248738</td>\n",
       "      <td>29.0000</td>\n",
       "      <td>NaN</td>\n",
       "      <td>S</td>\n",
       "    </tr>\n",
       "    <tr>\n",
       "      <th>8</th>\n",
       "      <td>900</td>\n",
       "      <td>3</td>\n",
       "      <td>Abrahim, Mrs. Joseph (Sophie Halaut Easu)</td>\n",
       "      <td>female</td>\n",
       "      <td>18.0</td>\n",
       "      <td>0</td>\n",
       "      <td>0</td>\n",
       "      <td>2657</td>\n",
       "      <td>7.2292</td>\n",
       "      <td>NaN</td>\n",
       "      <td>C</td>\n",
       "    </tr>\n",
       "    <tr>\n",
       "      <th>9</th>\n",
       "      <td>901</td>\n",
       "      <td>3</td>\n",
       "      <td>Davies, Mr. John Samuel</td>\n",
       "      <td>male</td>\n",
       "      <td>21.0</td>\n",
       "      <td>2</td>\n",
       "      <td>0</td>\n",
       "      <td>A/4 48871</td>\n",
       "      <td>24.1500</td>\n",
       "      <td>NaN</td>\n",
       "      <td>S</td>\n",
       "    </tr>\n",
       "  </tbody>\n",
       "</table>\n",
       "</div>"
      ],
      "text/plain": [
       "   PassengerId  Pclass                                          Name     Sex  \\\n",
       "0          892       3                              Kelly, Mr. James    male   \n",
       "1          893       3              Wilkes, Mrs. James (Ellen Needs)  female   \n",
       "2          894       2                     Myles, Mr. Thomas Francis    male   \n",
       "3          895       3                              Wirz, Mr. Albert    male   \n",
       "4          896       3  Hirvonen, Mrs. Alexander (Helga E Lindqvist)  female   \n",
       "5          897       3                    Svensson, Mr. Johan Cervin    male   \n",
       "6          898       3                          Connolly, Miss. Kate  female   \n",
       "7          899       2                  Caldwell, Mr. Albert Francis    male   \n",
       "8          900       3     Abrahim, Mrs. Joseph (Sophie Halaut Easu)  female   \n",
       "9          901       3                       Davies, Mr. John Samuel    male   \n",
       "\n",
       "    Age  SibSp  Parch     Ticket     Fare Cabin Embarked  \n",
       "0  34.5      0      0     330911   7.8292   NaN        Q  \n",
       "1  47.0      1      0     363272   7.0000   NaN        S  \n",
       "2  62.0      0      0     240276   9.6875   NaN        Q  \n",
       "3  27.0      0      0     315154   8.6625   NaN        S  \n",
       "4  22.0      1      1    3101298  12.2875   NaN        S  \n",
       "5  14.0      0      0       7538   9.2250   NaN        S  \n",
       "6  30.0      0      0     330972   7.6292   NaN        Q  \n",
       "7  26.0      1      1     248738  29.0000   NaN        S  \n",
       "8  18.0      0      0       2657   7.2292   NaN        C  \n",
       "9  21.0      2      0  A/4 48871  24.1500   NaN        S  "
      ]
     },
     "execution_count": 37,
     "metadata": {},
     "output_type": "execute_result"
    }
   ],
   "source": [
    "test_df = pd.read_csv(\"/kaggle/input/titanic/test.csv\")\n",
    "test_df.head(10)"
   ]
  },
  {
   "cell_type": "code",
   "execution_count": 38,
   "id": "879c0394",
   "metadata": {
    "execution": {
     "iopub.execute_input": "2025-01-30T14:51:59.164290Z",
     "iopub.status.busy": "2025-01-30T14:51:59.164028Z",
     "iopub.status.idle": "2025-01-30T14:51:59.168772Z",
     "shell.execute_reply": "2025-01-30T14:51:59.167928Z"
    },
    "papermill": {
     "duration": 0.020254,
     "end_time": "2025-01-30T14:51:59.170004",
     "exception": false,
     "start_time": "2025-01-30T14:51:59.149750",
     "status": "completed"
    },
    "tags": []
   },
   "outputs": [
    {
     "data": {
      "text/plain": [
       "418"
      ]
     },
     "execution_count": 38,
     "metadata": {},
     "output_type": "execute_result"
    }
   ],
   "source": [
    "len(test_df)"
   ]
  },
  {
   "cell_type": "code",
   "execution_count": 39,
   "id": "14f19b32",
   "metadata": {
    "execution": {
     "iopub.execute_input": "2025-01-30T14:51:59.197578Z",
     "iopub.status.busy": "2025-01-30T14:51:59.197309Z",
     "iopub.status.idle": "2025-01-30T14:51:59.208123Z",
     "shell.execute_reply": "2025-01-30T14:51:59.207378Z"
    },
    "papermill": {
     "duration": 0.025805,
     "end_time": "2025-01-30T14:51:59.209410",
     "exception": false,
     "start_time": "2025-01-30T14:51:59.183605",
     "status": "completed"
    },
    "tags": []
   },
   "outputs": [
    {
     "data": {
      "text/plain": [
       "(tensor([0.0000, 0.2300]), tensor([]))"
      ]
     },
     "execution_count": 39,
     "metadata": {},
     "output_type": "execute_result"
    }
   ],
   "source": [
    "csv_file = \"/kaggle/input/titanic/test.csv\"\n",
    "target_col_list = []\n",
    "\n",
    "transforms = torchvision.transforms.Compose([SexToNum(), FillNa({\"Age\": na_age_fill}), NormalizeAge(minAge, maxAge), ConvertNumpyArrToFloat32()])\n",
    "\n",
    "final_test_dataset = CSVDataset(csv_file, features_col_list, target_col_list, transform=transforms)\n",
    "final_test_dataset[0]"
   ]
  },
  {
   "cell_type": "code",
   "execution_count": 40,
   "id": "f298a08e",
   "metadata": {
    "execution": {
     "iopub.execute_input": "2025-01-30T14:51:59.237307Z",
     "iopub.status.busy": "2025-01-30T14:51:59.237084Z",
     "iopub.status.idle": "2025-01-30T14:51:59.241341Z",
     "shell.execute_reply": "2025-01-30T14:51:59.240519Z"
    },
    "papermill": {
     "duration": 0.019861,
     "end_time": "2025-01-30T14:51:59.242663",
     "exception": false,
     "start_time": "2025-01-30T14:51:59.222802",
     "status": "completed"
    },
    "tags": []
   },
   "outputs": [
    {
     "data": {
      "text/plain": [
       "418"
      ]
     },
     "execution_count": 40,
     "metadata": {},
     "output_type": "execute_result"
    }
   ],
   "source": [
    "len(final_test_dataset)"
   ]
  },
  {
   "cell_type": "code",
   "execution_count": 41,
   "id": "055ad146",
   "metadata": {
    "execution": {
     "iopub.execute_input": "2025-01-30T14:51:59.270954Z",
     "iopub.status.busy": "2025-01-30T14:51:59.270725Z",
     "iopub.status.idle": "2025-01-30T14:51:59.765477Z",
     "shell.execute_reply": "2025-01-30T14:51:59.764822Z"
    },
    "papermill": {
     "duration": 0.511108,
     "end_time": "2025-01-30T14:51:59.767112",
     "exception": false,
     "start_time": "2025-01-30T14:51:59.256004",
     "status": "completed"
    },
    "tags": []
   },
   "outputs": [],
   "source": [
    "final_test_loader = DataLoader(final_test_dataset, shuffle=False)\n",
    "\n",
    "pred = []\n",
    "with torch.no_grad():  # Disable gradient calculation\n",
    "    for inputs, labels in final_test_loader:\n",
    "        inputs = inputs.to(device)\n",
    "    \n",
    "        outputs = model(inputs)\n",
    "        predictions = torch.sigmoid(outputs)  # Apply sigmoid for binary classification\n",
    "        predicted_classes = (predictions > 0.5).float()  # Convert to binary (0 or 1)\n",
    "\n",
    "        pred.append(int(predicted_classes.item()))"
   ]
  },
  {
   "cell_type": "code",
   "execution_count": 42,
   "id": "d4828e53",
   "metadata": {
    "execution": {
     "iopub.execute_input": "2025-01-30T14:51:59.795066Z",
     "iopub.status.busy": "2025-01-30T14:51:59.794797Z",
     "iopub.status.idle": "2025-01-30T14:51:59.799476Z",
     "shell.execute_reply": "2025-01-30T14:51:59.798807Z"
    },
    "papermill": {
     "duration": 0.01942,
     "end_time": "2025-01-30T14:51:59.800616",
     "exception": false,
     "start_time": "2025-01-30T14:51:59.781196",
     "status": "completed"
    },
    "tags": []
   },
   "outputs": [
    {
     "data": {
      "text/plain": [
       "418"
      ]
     },
     "execution_count": 42,
     "metadata": {},
     "output_type": "execute_result"
    }
   ],
   "source": [
    "len(final_test_loader)"
   ]
  },
  {
   "cell_type": "code",
   "execution_count": 43,
   "id": "62da6abd",
   "metadata": {
    "execution": {
     "iopub.execute_input": "2025-01-30T14:51:59.829014Z",
     "iopub.status.busy": "2025-01-30T14:51:59.828788Z",
     "iopub.status.idle": "2025-01-30T14:51:59.835934Z",
     "shell.execute_reply": "2025-01-30T14:51:59.835296Z"
    },
    "papermill": {
     "duration": 0.022589,
     "end_time": "2025-01-30T14:51:59.837143",
     "exception": false,
     "start_time": "2025-01-30T14:51:59.814554",
     "status": "completed"
    },
    "tags": []
   },
   "outputs": [],
   "source": [
    "pred_df = pd.DataFrame(pred, columns=[\"Survived\"])\n",
    "pred_df[\"PassengerId\"] = test_df[\"PassengerId\"]\n",
    "pred_df.to_csv(\"pred.csv\", index=False)"
   ]
  },
  {
   "cell_type": "code",
   "execution_count": 44,
   "id": "35a1e281",
   "metadata": {
    "execution": {
     "iopub.execute_input": "2025-01-30T14:51:59.865177Z",
     "iopub.status.busy": "2025-01-30T14:51:59.864957Z",
     "iopub.status.idle": "2025-01-30T14:51:59.871381Z",
     "shell.execute_reply": "2025-01-30T14:51:59.870544Z"
    },
    "papermill": {
     "duration": 0.021664,
     "end_time": "2025-01-30T14:51:59.872690",
     "exception": false,
     "start_time": "2025-01-30T14:51:59.851026",
     "status": "completed"
    },
    "tags": []
   },
   "outputs": [
    {
     "data": {
      "text/html": [
       "<div>\n",
       "<style scoped>\n",
       "    .dataframe tbody tr th:only-of-type {\n",
       "        vertical-align: middle;\n",
       "    }\n",
       "\n",
       "    .dataframe tbody tr th {\n",
       "        vertical-align: top;\n",
       "    }\n",
       "\n",
       "    .dataframe thead th {\n",
       "        text-align: right;\n",
       "    }\n",
       "</style>\n",
       "<table border=\"1\" class=\"dataframe\">\n",
       "  <thead>\n",
       "    <tr style=\"text-align: right;\">\n",
       "      <th></th>\n",
       "      <th>Survived</th>\n",
       "      <th>PassengerId</th>\n",
       "    </tr>\n",
       "  </thead>\n",
       "  <tbody>\n",
       "    <tr>\n",
       "      <th>0</th>\n",
       "      <td>0</td>\n",
       "      <td>892</td>\n",
       "    </tr>\n",
       "    <tr>\n",
       "      <th>1</th>\n",
       "      <td>1</td>\n",
       "      <td>893</td>\n",
       "    </tr>\n",
       "    <tr>\n",
       "      <th>2</th>\n",
       "      <td>0</td>\n",
       "      <td>894</td>\n",
       "    </tr>\n",
       "    <tr>\n",
       "      <th>3</th>\n",
       "      <td>0</td>\n",
       "      <td>895</td>\n",
       "    </tr>\n",
       "    <tr>\n",
       "      <th>4</th>\n",
       "      <td>1</td>\n",
       "      <td>896</td>\n",
       "    </tr>\n",
       "  </tbody>\n",
       "</table>\n",
       "</div>"
      ],
      "text/plain": [
       "   Survived  PassengerId\n",
       "0         0          892\n",
       "1         1          893\n",
       "2         0          894\n",
       "3         0          895\n",
       "4         1          896"
      ]
     },
     "execution_count": 44,
     "metadata": {},
     "output_type": "execute_result"
    }
   ],
   "source": [
    "pred_df.head()"
   ]
  },
  {
   "cell_type": "code",
   "execution_count": null,
   "id": "5cfd0035",
   "metadata": {
    "papermill": {
     "duration": 0.013663,
     "end_time": "2025-01-30T14:51:59.900267",
     "exception": false,
     "start_time": "2025-01-30T14:51:59.886604",
     "status": "completed"
    },
    "tags": []
   },
   "outputs": [],
   "source": []
  }
 ],
 "metadata": {
  "kaggle": {
   "accelerator": "nvidiaTeslaT4",
   "dataSources": [
    {
     "databundleVersionId": 26502,
     "sourceId": 3136,
     "sourceType": "competition"
    }
   ],
   "dockerImageVersionId": 30822,
   "isGpuEnabled": true,
   "isInternetEnabled": true,
   "language": "python",
   "sourceType": "notebook"
  },
  "kernelspec": {
   "display_name": "Python 3",
   "language": "python",
   "name": "python3"
  },
  "language_info": {
   "codemirror_mode": {
    "name": "ipython",
    "version": 3
   },
   "file_extension": ".py",
   "mimetype": "text/x-python",
   "name": "python",
   "nbconvert_exporter": "python",
   "pygments_lexer": "ipython3",
   "version": "3.10.12"
  },
  "papermill": {
   "default_parameters": {},
   "duration": 785.378879,
   "end_time": "2025-01-30T14:52:01.436073",
   "environment_variables": {},
   "exception": null,
   "input_path": "__notebook__.ipynb",
   "output_path": "__notebook__.ipynb",
   "parameters": {},
   "start_time": "2025-01-30T14:38:56.057194",
   "version": "2.6.0"
  }
 },
 "nbformat": 4,
 "nbformat_minor": 5
}
