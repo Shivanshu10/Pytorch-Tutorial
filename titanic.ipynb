{
 "cells": [
  {
   "cell_type": "code",
   "execution_count": 1,
   "id": "e9ff6b32",
   "metadata": {
    "_cell_guid": "b1076dfc-b9ad-4769-8c92-a6c4dae69d19",
    "_uuid": "8f2839f25d086af736a60e9eeb907d3b93b6e0e5",
    "execution": {
     "iopub.execute_input": "2025-02-01T15:51:40.542455Z",
     "iopub.status.busy": "2025-02-01T15:51:40.542208Z",
     "iopub.status.idle": "2025-02-01T15:51:42.730897Z",
     "shell.execute_reply": "2025-02-01T15:51:42.729856Z"
    },
    "papermill": {
     "duration": 2.200214,
     "end_time": "2025-02-01T15:51:42.732397",
     "exception": false,
     "start_time": "2025-02-01T15:51:40.532183",
     "status": "completed"
    },
    "tags": []
   },
   "outputs": [
    {
     "name": "stdout",
     "output_type": "stream",
     "text": [
      "/kaggle/input/titanic/train.csv\n",
      "/kaggle/input/titanic/test.csv\n",
      "/kaggle/input/titanic/gender_submission.csv\n"
     ]
    }
   ],
   "source": [
    "import numpy as np\n",
    "import pandas as pd\n",
    "import seaborn as sns\n",
    "import matplotlib.pyplot as plt\n",
    "import os\n",
    "\n",
    "for dirname, _, filenames in os.walk('/kaggle/input'):\n",
    "    for filename in filenames:\n",
    "        print(os.path.join(dirname, filename))"
   ]
  },
  {
   "cell_type": "markdown",
   "id": "031496b2",
   "metadata": {
    "papermill": {
     "duration": 0.008597,
     "end_time": "2025-02-01T15:51:42.750698",
     "exception": false,
     "start_time": "2025-02-01T15:51:42.742101",
     "status": "completed"
    },
    "tags": []
   },
   "source": [
    "## Load Data"
   ]
  },
  {
   "cell_type": "code",
   "execution_count": 2,
   "id": "26a6d07b",
   "metadata": {
    "execution": {
     "iopub.execute_input": "2025-02-01T15:51:42.769263Z",
     "iopub.status.busy": "2025-02-01T15:51:42.768876Z",
     "iopub.status.idle": "2025-02-01T15:51:42.825076Z",
     "shell.execute_reply": "2025-02-01T15:51:42.824198Z"
    },
    "papermill": {
     "duration": 0.066911,
     "end_time": "2025-02-01T15:51:42.826430",
     "exception": false,
     "start_time": "2025-02-01T15:51:42.759519",
     "status": "completed"
    },
    "tags": []
   },
   "outputs": [
    {
     "data": {
      "text/html": [
       "<div>\n",
       "<style scoped>\n",
       "    .dataframe tbody tr th:only-of-type {\n",
       "        vertical-align: middle;\n",
       "    }\n",
       "\n",
       "    .dataframe tbody tr th {\n",
       "        vertical-align: top;\n",
       "    }\n",
       "\n",
       "    .dataframe thead th {\n",
       "        text-align: right;\n",
       "    }\n",
       "</style>\n",
       "<table border=\"1\" class=\"dataframe\">\n",
       "  <thead>\n",
       "    <tr style=\"text-align: right;\">\n",
       "      <th></th>\n",
       "      <th>Survived</th>\n",
       "      <th>Pclass</th>\n",
       "      <th>Name</th>\n",
       "      <th>Sex</th>\n",
       "      <th>Age</th>\n",
       "      <th>SibSp</th>\n",
       "      <th>Parch</th>\n",
       "      <th>Ticket</th>\n",
       "      <th>Fare</th>\n",
       "      <th>Cabin</th>\n",
       "      <th>Embarked</th>\n",
       "    </tr>\n",
       "    <tr>\n",
       "      <th>PassengerId</th>\n",
       "      <th></th>\n",
       "      <th></th>\n",
       "      <th></th>\n",
       "      <th></th>\n",
       "      <th></th>\n",
       "      <th></th>\n",
       "      <th></th>\n",
       "      <th></th>\n",
       "      <th></th>\n",
       "      <th></th>\n",
       "      <th></th>\n",
       "    </tr>\n",
       "  </thead>\n",
       "  <tbody>\n",
       "    <tr>\n",
       "      <th>1</th>\n",
       "      <td>0</td>\n",
       "      <td>3</td>\n",
       "      <td>Braund, Mr. Owen Harris</td>\n",
       "      <td>male</td>\n",
       "      <td>22.0</td>\n",
       "      <td>1</td>\n",
       "      <td>0</td>\n",
       "      <td>A/5 21171</td>\n",
       "      <td>7.2500</td>\n",
       "      <td>NaN</td>\n",
       "      <td>S</td>\n",
       "    </tr>\n",
       "    <tr>\n",
       "      <th>2</th>\n",
       "      <td>1</td>\n",
       "      <td>1</td>\n",
       "      <td>Cumings, Mrs. John Bradley (Florence Briggs Th...</td>\n",
       "      <td>female</td>\n",
       "      <td>38.0</td>\n",
       "      <td>1</td>\n",
       "      <td>0</td>\n",
       "      <td>PC 17599</td>\n",
       "      <td>71.2833</td>\n",
       "      <td>C85</td>\n",
       "      <td>C</td>\n",
       "    </tr>\n",
       "    <tr>\n",
       "      <th>3</th>\n",
       "      <td>1</td>\n",
       "      <td>3</td>\n",
       "      <td>Heikkinen, Miss. Laina</td>\n",
       "      <td>female</td>\n",
       "      <td>26.0</td>\n",
       "      <td>0</td>\n",
       "      <td>0</td>\n",
       "      <td>STON/O2. 3101282</td>\n",
       "      <td>7.9250</td>\n",
       "      <td>NaN</td>\n",
       "      <td>S</td>\n",
       "    </tr>\n",
       "    <tr>\n",
       "      <th>4</th>\n",
       "      <td>1</td>\n",
       "      <td>1</td>\n",
       "      <td>Futrelle, Mrs. Jacques Heath (Lily May Peel)</td>\n",
       "      <td>female</td>\n",
       "      <td>35.0</td>\n",
       "      <td>1</td>\n",
       "      <td>0</td>\n",
       "      <td>113803</td>\n",
       "      <td>53.1000</td>\n",
       "      <td>C123</td>\n",
       "      <td>S</td>\n",
       "    </tr>\n",
       "    <tr>\n",
       "      <th>5</th>\n",
       "      <td>0</td>\n",
       "      <td>3</td>\n",
       "      <td>Allen, Mr. William Henry</td>\n",
       "      <td>male</td>\n",
       "      <td>35.0</td>\n",
       "      <td>0</td>\n",
       "      <td>0</td>\n",
       "      <td>373450</td>\n",
       "      <td>8.0500</td>\n",
       "      <td>NaN</td>\n",
       "      <td>S</td>\n",
       "    </tr>\n",
       "    <tr>\n",
       "      <th>6</th>\n",
       "      <td>0</td>\n",
       "      <td>3</td>\n",
       "      <td>Moran, Mr. James</td>\n",
       "      <td>male</td>\n",
       "      <td>NaN</td>\n",
       "      <td>0</td>\n",
       "      <td>0</td>\n",
       "      <td>330877</td>\n",
       "      <td>8.4583</td>\n",
       "      <td>NaN</td>\n",
       "      <td>Q</td>\n",
       "    </tr>\n",
       "    <tr>\n",
       "      <th>7</th>\n",
       "      <td>0</td>\n",
       "      <td>1</td>\n",
       "      <td>McCarthy, Mr. Timothy J</td>\n",
       "      <td>male</td>\n",
       "      <td>54.0</td>\n",
       "      <td>0</td>\n",
       "      <td>0</td>\n",
       "      <td>17463</td>\n",
       "      <td>51.8625</td>\n",
       "      <td>E46</td>\n",
       "      <td>S</td>\n",
       "    </tr>\n",
       "    <tr>\n",
       "      <th>8</th>\n",
       "      <td>0</td>\n",
       "      <td>3</td>\n",
       "      <td>Palsson, Master. Gosta Leonard</td>\n",
       "      <td>male</td>\n",
       "      <td>2.0</td>\n",
       "      <td>3</td>\n",
       "      <td>1</td>\n",
       "      <td>349909</td>\n",
       "      <td>21.0750</td>\n",
       "      <td>NaN</td>\n",
       "      <td>S</td>\n",
       "    </tr>\n",
       "    <tr>\n",
       "      <th>9</th>\n",
       "      <td>1</td>\n",
       "      <td>3</td>\n",
       "      <td>Johnson, Mrs. Oscar W (Elisabeth Vilhelmina Berg)</td>\n",
       "      <td>female</td>\n",
       "      <td>27.0</td>\n",
       "      <td>0</td>\n",
       "      <td>2</td>\n",
       "      <td>347742</td>\n",
       "      <td>11.1333</td>\n",
       "      <td>NaN</td>\n",
       "      <td>S</td>\n",
       "    </tr>\n",
       "    <tr>\n",
       "      <th>10</th>\n",
       "      <td>1</td>\n",
       "      <td>2</td>\n",
       "      <td>Nasser, Mrs. Nicholas (Adele Achem)</td>\n",
       "      <td>female</td>\n",
       "      <td>14.0</td>\n",
       "      <td>1</td>\n",
       "      <td>0</td>\n",
       "      <td>237736</td>\n",
       "      <td>30.0708</td>\n",
       "      <td>NaN</td>\n",
       "      <td>C</td>\n",
       "    </tr>\n",
       "  </tbody>\n",
       "</table>\n",
       "</div>"
      ],
      "text/plain": [
       "             Survived  Pclass  \\\n",
       "PassengerId                     \n",
       "1                   0       3   \n",
       "2                   1       1   \n",
       "3                   1       3   \n",
       "4                   1       1   \n",
       "5                   0       3   \n",
       "6                   0       3   \n",
       "7                   0       1   \n",
       "8                   0       3   \n",
       "9                   1       3   \n",
       "10                  1       2   \n",
       "\n",
       "                                                          Name     Sex   Age  \\\n",
       "PassengerId                                                                    \n",
       "1                                      Braund, Mr. Owen Harris    male  22.0   \n",
       "2            Cumings, Mrs. John Bradley (Florence Briggs Th...  female  38.0   \n",
       "3                                       Heikkinen, Miss. Laina  female  26.0   \n",
       "4                 Futrelle, Mrs. Jacques Heath (Lily May Peel)  female  35.0   \n",
       "5                                     Allen, Mr. William Henry    male  35.0   \n",
       "6                                             Moran, Mr. James    male   NaN   \n",
       "7                                      McCarthy, Mr. Timothy J    male  54.0   \n",
       "8                               Palsson, Master. Gosta Leonard    male   2.0   \n",
       "9            Johnson, Mrs. Oscar W (Elisabeth Vilhelmina Berg)  female  27.0   \n",
       "10                         Nasser, Mrs. Nicholas (Adele Achem)  female  14.0   \n",
       "\n",
       "             SibSp  Parch            Ticket     Fare Cabin Embarked  \n",
       "PassengerId                                                          \n",
       "1                1      0         A/5 21171   7.2500   NaN        S  \n",
       "2                1      0          PC 17599  71.2833   C85        C  \n",
       "3                0      0  STON/O2. 3101282   7.9250   NaN        S  \n",
       "4                1      0            113803  53.1000  C123        S  \n",
       "5                0      0            373450   8.0500   NaN        S  \n",
       "6                0      0            330877   8.4583   NaN        Q  \n",
       "7                0      0             17463  51.8625   E46        S  \n",
       "8                3      1            349909  21.0750   NaN        S  \n",
       "9                0      2            347742  11.1333   NaN        S  \n",
       "10               1      0            237736  30.0708   NaN        C  "
      ]
     },
     "execution_count": 2,
     "metadata": {},
     "output_type": "execute_result"
    }
   ],
   "source": [
    "train_df = pd.read_csv(\"/kaggle/input/titanic/train.csv\", index_col=0)\n",
    "train_df.head(10)"
   ]
  },
  {
   "cell_type": "code",
   "execution_count": 3,
   "id": "db9f93b1",
   "metadata": {
    "execution": {
     "iopub.execute_input": "2025-02-01T15:51:42.845336Z",
     "iopub.status.busy": "2025-02-01T15:51:42.845092Z",
     "iopub.status.idle": "2025-02-01T15:51:42.849606Z",
     "shell.execute_reply": "2025-02-01T15:51:42.848872Z"
    },
    "papermill": {
     "duration": 0.015285,
     "end_time": "2025-02-01T15:51:42.850757",
     "exception": false,
     "start_time": "2025-02-01T15:51:42.835472",
     "status": "completed"
    },
    "tags": []
   },
   "outputs": [
    {
     "data": {
      "text/plain": [
       "891"
      ]
     },
     "execution_count": 3,
     "metadata": {},
     "output_type": "execute_result"
    }
   ],
   "source": [
    "len(train_df)"
   ]
  },
  {
   "cell_type": "markdown",
   "id": "8cd135a9",
   "metadata": {
    "papermill": {
     "duration": 0.009171,
     "end_time": "2025-02-01T15:51:42.868705",
     "exception": false,
     "start_time": "2025-02-01T15:51:42.859534",
     "status": "completed"
    },
    "tags": []
   },
   "source": [
    "## Explore Data"
   ]
  },
  {
   "attachments": {
    "32b3126c-ecdb-46fc-86b2-f22ddf6e6809.png": {
     "image/png": "[encoded data removed]"
    }
   },
   "cell_type": "markdown",
   "id": "99557040",
   "metadata": {
    "papermill": {
     "duration": 0.00881,
     "end_time": "2025-02-01T15:51:42.886525",
     "exception": false,
     "start_time": "2025-02-01T15:51:42.877715",
     "status": "completed"
    },
    "tags": []
   },
   "source": [
    "![image.png](attachment:32b3126c-ecdb-46fc-86b2-f22ddf6e6809.png)"
   ]
  },
  {
   "cell_type": "code",
   "execution_count": 4,
   "id": "79490179",
   "metadata": {
    "execution": {
     "iopub.execute_input": "2025-02-01T15:51:42.905448Z",
     "iopub.status.busy": "2025-02-01T15:51:42.905208Z",
     "iopub.status.idle": "2025-02-01T15:51:42.909705Z",
     "shell.execute_reply": "2025-02-01T15:51:42.908888Z"
    },
    "papermill": {
     "duration": 0.01544,
     "end_time": "2025-02-01T15:51:42.910945",
     "exception": false,
     "start_time": "2025-02-01T15:51:42.895505",
     "status": "completed"
    },
    "tags": []
   },
   "outputs": [
    {
     "data": {
      "text/plain": [
       "891"
      ]
     },
     "execution_count": 4,
     "metadata": {},
     "output_type": "execute_result"
    }
   ],
   "source": [
    "len(train_df)"
   ]
  },
  {
   "cell_type": "code",
   "execution_count": 5,
   "id": "eb608491",
   "metadata": {
    "execution": {
     "iopub.execute_input": "2025-02-01T15:51:42.930105Z",
     "iopub.status.busy": "2025-02-01T15:51:42.929824Z",
     "iopub.status.idle": "2025-02-01T15:51:42.953585Z",
     "shell.execute_reply": "2025-02-01T15:51:42.952679Z"
    },
    "papermill": {
     "duration": 0.034855,
     "end_time": "2025-02-01T15:51:42.954979",
     "exception": false,
     "start_time": "2025-02-01T15:51:42.920124",
     "status": "completed"
    },
    "tags": []
   },
   "outputs": [
    {
     "data": {
      "text/html": [
       "<div>\n",
       "<style scoped>\n",
       "    .dataframe tbody tr th:only-of-type {\n",
       "        vertical-align: middle;\n",
       "    }\n",
       "\n",
       "    .dataframe tbody tr th {\n",
       "        vertical-align: top;\n",
       "    }\n",
       "\n",
       "    .dataframe thead th {\n",
       "        text-align: right;\n",
       "    }\n",
       "</style>\n",
       "<table border=\"1\" class=\"dataframe\">\n",
       "  <thead>\n",
       "    <tr style=\"text-align: right;\">\n",
       "      <th></th>\n",
       "      <th>Survived</th>\n",
       "      <th>Pclass</th>\n",
       "      <th>Age</th>\n",
       "      <th>SibSp</th>\n",
       "      <th>Parch</th>\n",
       "      <th>Fare</th>\n",
       "    </tr>\n",
       "  </thead>\n",
       "  <tbody>\n",
       "    <tr>\n",
       "      <th>count</th>\n",
       "      <td>891.000000</td>\n",
       "      <td>891.000000</td>\n",
       "      <td>714.000000</td>\n",
       "      <td>891.000000</td>\n",
       "      <td>891.000000</td>\n",
       "      <td>891.000000</td>\n",
       "    </tr>\n",
       "    <tr>\n",
       "      <th>mean</th>\n",
       "      <td>0.383838</td>\n",
       "      <td>2.308642</td>\n",
       "      <td>29.699118</td>\n",
       "      <td>0.523008</td>\n",
       "      <td>0.381594</td>\n",
       "      <td>32.204208</td>\n",
       "    </tr>\n",
       "    <tr>\n",
       "      <th>std</th>\n",
       "      <td>0.486592</td>\n",
       "      <td>0.836071</td>\n",
       "      <td>14.526497</td>\n",
       "      <td>1.102743</td>\n",
       "      <td>0.806057</td>\n",
       "      <td>49.693429</td>\n",
       "    </tr>\n",
       "    <tr>\n",
       "      <th>min</th>\n",
       "      <td>0.000000</td>\n",
       "      <td>1.000000</td>\n",
       "      <td>0.420000</td>\n",
       "      <td>0.000000</td>\n",
       "      <td>0.000000</td>\n",
       "      <td>0.000000</td>\n",
       "    </tr>\n",
       "    <tr>\n",
       "      <th>25%</th>\n",
       "      <td>0.000000</td>\n",
       "      <td>2.000000</td>\n",
       "      <td>20.125000</td>\n",
       "      <td>0.000000</td>\n",
       "      <td>0.000000</td>\n",
       "      <td>7.910400</td>\n",
       "    </tr>\n",
       "    <tr>\n",
       "      <th>50%</th>\n",
       "      <td>0.000000</td>\n",
       "      <td>3.000000</td>\n",
       "      <td>28.000000</td>\n",
       "      <td>0.000000</td>\n",
       "      <td>0.000000</td>\n",
       "      <td>14.454200</td>\n",
       "    </tr>\n",
       "    <tr>\n",
       "      <th>75%</th>\n",
       "      <td>1.000000</td>\n",
       "      <td>3.000000</td>\n",
       "      <td>38.000000</td>\n",
       "      <td>1.000000</td>\n",
       "      <td>0.000000</td>\n",
       "      <td>31.000000</td>\n",
       "    </tr>\n",
       "    <tr>\n",
       "      <th>max</th>\n",
       "      <td>1.000000</td>\n",
       "      <td>3.000000</td>\n",
       "      <td>80.000000</td>\n",
       "      <td>8.000000</td>\n",
       "      <td>6.000000</td>\n",
       "      <td>512.329200</td>\n",
       "    </tr>\n",
       "  </tbody>\n",
       "</table>\n",
       "</div>"
      ],
      "text/plain": [
       "         Survived      Pclass         Age       SibSp       Parch        Fare\n",
       "count  891.000000  891.000000  714.000000  891.000000  891.000000  891.000000\n",
       "mean     0.383838    2.308642   29.699118    0.523008    0.381594   32.204208\n",
       "std      0.486592    0.836071   14.526497    1.102743    0.806057   49.693429\n",
       "min      0.000000    1.000000    0.420000    0.000000    0.000000    0.000000\n",
       "25%      0.000000    2.000000   20.125000    0.000000    0.000000    7.910400\n",
       "50%      0.000000    3.000000   28.000000    0.000000    0.000000   14.454200\n",
       "75%      1.000000    3.000000   38.000000    1.000000    0.000000   31.000000\n",
       "max      1.000000    3.000000   80.000000    8.000000    6.000000  512.329200"
      ]
     },
     "execution_count": 5,
     "metadata": {},
     "output_type": "execute_result"
    }
   ],
   "source": [
    "train_df.describe()"
   ]
  },
  {
   "cell_type": "code",
   "execution_count": 6,
   "id": "15b81497",
   "metadata": {
    "execution": {
     "iopub.execute_input": "2025-02-01T15:51:42.973849Z",
     "iopub.status.busy": "2025-02-01T15:51:42.973602Z",
     "iopub.status.idle": "2025-02-01T15:51:42.977831Z",
     "shell.execute_reply": "2025-02-01T15:51:42.976993Z"
    },
    "papermill": {
     "duration": 0.015196,
     "end_time": "2025-02-01T15:51:42.979270",
     "exception": false,
     "start_time": "2025-02-01T15:51:42.964074",
     "status": "completed"
    },
    "tags": []
   },
   "outputs": [
    {
     "name": "stdout",
     "output_type": "stream",
     "text": [
      "count of items to be dropped 177\n",
      "count of items left 714\n"
     ]
    }
   ],
   "source": [
    "# age has some null value\n",
    "# should we try dropping them for now?\n",
    "\n",
    "# count of rows that will be dropped\n",
    "print(f\"count of items to be dropped {len(train_df) - 714}\")\n",
    "\n",
    "# rows lefr\n",
    "print(f\"count of items left {len(train_df) - len(train_df) + 714}\")"
   ]
  },
  {
   "cell_type": "code",
   "execution_count": 7,
   "id": "d01c925d",
   "metadata": {
    "execution": {
     "iopub.execute_input": "2025-02-01T15:51:42.998391Z",
     "iopub.status.busy": "2025-02-01T15:51:42.998183Z",
     "iopub.status.idle": "2025-02-01T15:51:43.004145Z",
     "shell.execute_reply": "2025-02-01T15:51:43.003221Z"
    },
    "papermill": {
     "duration": 0.01717,
     "end_time": "2025-02-01T15:51:43.005470",
     "exception": false,
     "start_time": "2025-02-01T15:51:42.988300",
     "status": "completed"
    },
    "tags": []
   },
   "outputs": [
    {
     "data": {
      "text/plain": [
       "Survived      0\n",
       "Pclass        0\n",
       "Name          0\n",
       "Sex           0\n",
       "Age         177\n",
       "SibSp         0\n",
       "Parch         0\n",
       "Ticket        0\n",
       "Fare          0\n",
       "Cabin       687\n",
       "Embarked      2\n",
       "dtype: int64"
      ]
     },
     "execution_count": 7,
     "metadata": {},
     "output_type": "execute_result"
    }
   ],
   "source": [
    "train_df.isna().sum()"
   ]
  },
  {
   "cell_type": "code",
   "execution_count": 8,
   "id": "9263902f",
   "metadata": {
    "execution": {
     "iopub.execute_input": "2025-02-01T15:51:43.024479Z",
     "iopub.status.busy": "2025-02-01T15:51:43.024227Z",
     "iopub.status.idle": "2025-02-01T15:51:43.027467Z",
     "shell.execute_reply": "2025-02-01T15:51:43.026607Z"
    },
    "papermill": {
     "duration": 0.014122,
     "end_time": "2025-02-01T15:51:43.028672",
     "exception": false,
     "start_time": "2025-02-01T15:51:43.014550",
     "status": "completed"
    },
    "tags": []
   },
   "outputs": [],
   "source": [
    "# cabin has 687 nulls, i dont think we can learn anything using it though"
   ]
  },
  {
   "cell_type": "code",
   "execution_count": 9,
   "id": "252c4fcf",
   "metadata": {
    "execution": {
     "iopub.execute_input": "2025-02-01T15:51:43.048852Z",
     "iopub.status.busy": "2025-02-01T15:51:43.048638Z",
     "iopub.status.idle": "2025-02-01T15:51:43.055485Z",
     "shell.execute_reply": "2025-02-01T15:51:43.054807Z"
    },
    "papermill": {
     "duration": 0.017691,
     "end_time": "2025-02-01T15:51:43.056747",
     "exception": false,
     "start_time": "2025-02-01T15:51:43.039056",
     "status": "completed"
    },
    "tags": []
   },
   "outputs": [
    {
     "data": {
      "text/plain": [
       "Survived\n",
       "0    549\n",
       "1    342\n",
       "Name: count, dtype: int64"
      ]
     },
     "execution_count": 9,
     "metadata": {},
     "output_type": "execute_result"
    }
   ],
   "source": [
    "# lets check balance now\n",
    "train_df[\"Survived\"].value_counts()"
   ]
  },
  {
   "cell_type": "code",
   "execution_count": 10,
   "id": "83a24536",
   "metadata": {
    "execution": {
     "iopub.execute_input": "2025-02-01T15:51:43.075873Z",
     "iopub.status.busy": "2025-02-01T15:51:43.075653Z",
     "iopub.status.idle": "2025-02-01T15:51:43.081625Z",
     "shell.execute_reply": "2025-02-01T15:51:43.080792Z"
    },
    "papermill": {
     "duration": 0.016887,
     "end_time": "2025-02-01T15:51:43.083006",
     "exception": false,
     "start_time": "2025-02-01T15:51:43.066119",
     "status": "completed"
    },
    "tags": []
   },
   "outputs": [
    {
     "name": "stdout",
     "output_type": "stream",
     "text": [
      "Survived\n",
      "0    61.616162\n",
      "1    38.383838\n",
      "Name: proportion, dtype: float64\n",
      "The dataset is balanced.\n"
     ]
    }
   ],
   "source": [
    "class_percentages = train_df[\"Survived\"].value_counts(normalize=True) * 100\n",
    "\n",
    "print(class_percentages)\n",
    "\n",
    "threshold = 70  # Adjust this as needed\n",
    "is_balanced = all(class_percentages < threshold)\n",
    "\n",
    "if is_balanced:\n",
    "    print(\"The dataset is balanced.\")\n",
    "else:\n",
    "    print(\"The dataset is imbalanced.\")"
   ]
  },
  {
   "cell_type": "code",
   "execution_count": 11,
   "id": "c9622368",
   "metadata": {
    "execution": {
     "iopub.execute_input": "2025-02-01T15:51:43.102272Z",
     "iopub.status.busy": "2025-02-01T15:51:43.102060Z",
     "iopub.status.idle": "2025-02-01T15:51:43.104675Z",
     "shell.execute_reply": "2025-02-01T15:51:43.104051Z"
    },
    "papermill": {
     "duration": 0.013456,
     "end_time": "2025-02-01T15:51:43.105789",
     "exception": false,
     "start_time": "2025-02-01T15:51:43.092333",
     "status": "completed"
    },
    "tags": []
   },
   "outputs": [],
   "source": [
    "# so model can easily get 61% accuracy if it always predics 0\n",
    "# so this will be our basepoint"
   ]
  },
  {
   "cell_type": "code",
   "execution_count": 12,
   "id": "ca593f92",
   "metadata": {
    "execution": {
     "iopub.execute_input": "2025-02-01T15:51:43.125227Z",
     "iopub.status.busy": "2025-02-01T15:51:43.125014Z",
     "iopub.status.idle": "2025-02-01T15:51:43.146773Z",
     "shell.execute_reply": "2025-02-01T15:51:43.145822Z"
    },
    "papermill": {
     "duration": 0.032896,
     "end_time": "2025-02-01T15:51:43.148135",
     "exception": false,
     "start_time": "2025-02-01T15:51:43.115239",
     "status": "completed"
    },
    "tags": []
   },
   "outputs": [
    {
     "name": "stdout",
     "output_type": "stream",
     "text": [
      "Column: Survived\n",
      "Outliers: 0\n",
      "Column: Pclass\n",
      "Outliers: 0\n",
      "Column: Age\n",
      "Outliers: 11\n",
      "Column: SibSp\n",
      "Outliers: 46\n",
      "Column: Parch\n",
      "Outliers: 213\n",
      "Column: Fare\n",
      "Outliers: 116\n"
     ]
    }
   ],
   "source": [
    "# check outliers\n",
    "# Identify outliers for each column\n",
    "for column in train_df.select_dtypes(include=[np.number]):  # Only numerical columns\n",
    "    Q1 = train_df[column].quantile(0.25)  # First quartile (25th percentile)\n",
    "    Q3 = train_df[column].quantile(0.75)  # Third quartile (75th percentile)\n",
    "    IQR = Q3 - Q1  # Interquartile range\n",
    "    lower_bound = Q1 - 1.5 * IQR\n",
    "    upper_bound = Q3 + 1.5 * IQR\n",
    "\n",
    "    print(f\"Column: {column}\")\n",
    "    print(f\"Outliers: {len(train_df[(train_df[column] < lower_bound) | (train_df[column] > upper_bound)][column].tolist())}\")"
   ]
  },
  {
   "cell_type": "markdown",
   "id": "2479b432",
   "metadata": {
    "papermill": {
     "duration": 0.010012,
     "end_time": "2025-02-01T15:51:43.167859",
     "exception": false,
     "start_time": "2025-02-01T15:51:43.157847",
     "status": "completed"
    },
    "tags": []
   },
   "source": [
    "## Create Dataset Class"
   ]
  },
  {
   "cell_type": "code",
   "execution_count": 13,
   "id": "ce9f2e9f",
   "metadata": {
    "execution": {
     "iopub.execute_input": "2025-02-01T15:51:43.187623Z",
     "iopub.status.busy": "2025-02-01T15:51:43.187385Z",
     "iopub.status.idle": "2025-02-01T15:51:51.137885Z",
     "shell.execute_reply": "2025-02-01T15:51:51.136955Z"
    },
    "papermill": {
     "duration": 7.962053,
     "end_time": "2025-02-01T15:51:51.139756",
     "exception": false,
     "start_time": "2025-02-01T15:51:43.177703",
     "status": "completed"
    },
    "tags": []
   },
   "outputs": [
    {
     "name": "stderr",
     "output_type": "stream",
     "text": [
      "/usr/local/lib/python3.10/dist-packages/seaborn/axisgrid.py:2095: UserWarning: The `size` parameter has been renamed to `height`; please update your code.\n",
      "  warnings.warn(msg, UserWarning)\n",
      "/usr/local/lib/python3.10/dist-packages/seaborn/axisgrid.py:1507: FutureWarning: \n",
      "\n",
      "`shade` is now deprecated in favor of `fill`; setting `fill=True`.\n",
      "This will become an error in seaborn v0.14.0; please update your code.\n",
      "\n",
      "  func(x=vector, **plot_kwargs)\n",
      "/usr/local/lib/python3.10/dist-packages/seaborn/_oldcore.py:1119: FutureWarning: use_inf_as_na option is deprecated and will be removed in a future version. Convert inf values to NaN before operating instead.\n",
      "  with pd.option_context('mode.use_inf_as_na', True):\n",
      "/usr/local/lib/python3.10/dist-packages/seaborn/axisgrid.py:1507: FutureWarning: \n",
      "\n",
      "`shade` is now deprecated in favor of `fill`; setting `fill=True`.\n",
      "This will become an error in seaborn v0.14.0; please update your code.\n",
      "\n",
      "  func(x=vector, **plot_kwargs)\n",
      "/usr/local/lib/python3.10/dist-packages/seaborn/_oldcore.py:1119: FutureWarning: use_inf_as_na option is deprecated and will be removed in a future version. Convert inf values to NaN before operating instead.\n",
      "  with pd.option_context('mode.use_inf_as_na', True):\n",
      "/usr/local/lib/python3.10/dist-packages/seaborn/axisgrid.py:1507: FutureWarning: \n",
      "\n",
      "`shade` is now deprecated in favor of `fill`; setting `fill=True`.\n",
      "This will become an error in seaborn v0.14.0; please update your code.\n",
      "\n",
      "  func(x=vector, **plot_kwargs)\n",
      "/usr/local/lib/python3.10/dist-packages/seaborn/_oldcore.py:1119: FutureWarning: use_inf_as_na option is deprecated and will be removed in a future version. Convert inf values to NaN before operating instead.\n",
      "  with pd.option_context('mode.use_inf_as_na', True):\n",
      "/usr/local/lib/python3.10/dist-packages/seaborn/axisgrid.py:1507: FutureWarning: \n",
      "\n",
      "`shade` is now deprecated in favor of `fill`; setting `fill=True`.\n",
      "This will become an error in seaborn v0.14.0; please update your code.\n",
      "\n",
      "  func(x=vector, **plot_kwargs)\n",
      "/usr/local/lib/python3.10/dist-packages/seaborn/_oldcore.py:1119: FutureWarning: use_inf_as_na option is deprecated and will be removed in a future version. Convert inf values to NaN before operating instead.\n",
      "  with pd.option_context('mode.use_inf_as_na', True):\n",
      "/usr/local/lib/python3.10/dist-packages/seaborn/axisgrid.py:1507: FutureWarning: \n",
      "\n",
      "`shade` is now deprecated in favor of `fill`; setting `fill=True`.\n",
      "This will become an error in seaborn v0.14.0; please update your code.\n",
      "\n",
      "  func(x=vector, **plot_kwargs)\n",
      "/usr/local/lib/python3.10/dist-packages/seaborn/_oldcore.py:1119: FutureWarning: use_inf_as_na option is deprecated and will be removed in a future version. Convert inf values to NaN before operating instead.\n",
      "  with pd.option_context('mode.use_inf_as_na', True):\n"
     ]
    },
    {
     "data": {
      "text/plain": [
       "<seaborn.axisgrid.PairGrid at 0x7f4b58564bb0>"
      ]
     },
     "execution_count": 13,
     "metadata": {},
     "output_type": "execute_result"
    },
    {
     "data": {
      "image/png": "[encoded data removed]",
      "text/plain": [
       "<Figure size 672.111x600 with 30 Axes>"
      ]
     },
     "metadata": {},
     "output_type": "display_data"
    }
   ],
   "source": [
    "g = sns.pairplot(data=train_df, hue='Survived',\n",
    "                 size=1.2, diag_kind = 'kde',diag_kws=dict(shade=True),plot_kws=dict(s=10) )\n",
    "g.set(xticklabels=[])"
   ]
  },
  {
   "cell_type": "code",
   "execution_count": 14,
   "id": "43518fef",
   "metadata": {
    "execution": {
     "iopub.execute_input": "2025-02-01T15:51:51.166053Z",
     "iopub.status.busy": "2025-02-01T15:51:51.165748Z",
     "iopub.status.idle": "2025-02-01T15:51:51.415841Z",
     "shell.execute_reply": "2025-02-01T15:51:51.414838Z"
    },
    "papermill": {
     "duration": 0.264755,
     "end_time": "2025-02-01T15:51:51.417407",
     "exception": false,
     "start_time": "2025-02-01T15:51:51.152652",
     "status": "completed"
    },
    "tags": []
   },
   "outputs": [
    {
     "data": {
      "image/png": "[encoded data removed]",
      "text/plain": [
       "<Figure size 640x480 with 1 Axes>"
      ]
     },
     "metadata": {},
     "output_type": "display_data"
    }
   ],
   "source": [
    "sns.countplot(x='Sex', hue='Survived', data=train_df)\n",
    "\n",
    "total = len(train_df)\n",
    "\n",
    "# Add percentage annotations\n",
    "\n",
    "for p in plt.gca().patches:\n",
    "    height = p.get_height()\n",
    "    width = p.get_width()\n",
    "    x, y = p.get_xy()  # Get position of each bar\n",
    "    percentage = height / total * 100\n",
    "    plt.text(x + width / 2, y + height + 5, f'{percentage:.1f}%', ha='center')\n",
    "\n",
    "plt.title('Count of Survived vs. Not Survived by Gender')\n",
    "plt.xlabel('Gender')\n",
    "plt.ylabel('Count')\n",
    "plt.show()"
   ]
  },
  {
   "cell_type": "code",
   "execution_count": 15,
   "id": "7086d89e",
   "metadata": {
    "execution": {
     "iopub.execute_input": "2025-02-01T15:51:51.444108Z",
     "iopub.status.busy": "2025-02-01T15:51:51.443786Z",
     "iopub.status.idle": "2025-02-01T15:51:51.715320Z",
     "shell.execute_reply": "2025-02-01T15:51:51.714322Z"
    },
    "papermill": {
     "duration": 0.286733,
     "end_time": "2025-02-01T15:51:51.716800",
     "exception": false,
     "start_time": "2025-02-01T15:51:51.430067",
     "status": "completed"
    },
    "tags": []
   },
   "outputs": [
    {
     "data": {
      "image/png": "[encoded data removed]",
      "text/plain": [
       "<Figure size 640x480 with 1 Axes>"
      ]
     },
     "metadata": {},
     "output_type": "display_data"
    }
   ],
   "source": [
    "sns.countplot(x='Embarked', hue='Survived', data=train_df)\n",
    "\n",
    "total = len(train_df)\n",
    "\n",
    "# Add percentage annotations\n",
    "\n",
    "for p in plt.gca().patches:\n",
    "    height = p.get_height()\n",
    "    width = p.get_width()\n",
    "    x, y = p.get_xy()  # Get position of each bar\n",
    "    percentage = height / total * 100\n",
    "    plt.text(x + width / 2, y + height + 5, f'{percentage:.1f}%', ha='center')\n",
    "\n",
    "plt.title('Count of Survived vs. Not Survived by Gender')\n",
    "plt.xlabel('Gender')\n",
    "plt.ylabel('Count')\n",
    "plt.show()"
   ]
  },
  {
   "cell_type": "code",
   "execution_count": 16,
   "id": "91a1f15b",
   "metadata": {
    "execution": {
     "iopub.execute_input": "2025-02-01T15:51:51.744836Z",
     "iopub.status.busy": "2025-02-01T15:51:51.744564Z",
     "iopub.status.idle": "2025-02-01T15:51:52.100060Z",
     "shell.execute_reply": "2025-02-01T15:51:52.098993Z"
    },
    "papermill": {
     "duration": 0.370512,
     "end_time": "2025-02-01T15:51:52.101610",
     "exception": false,
     "start_time": "2025-02-01T15:51:51.731098",
     "status": "completed"
    },
    "tags": []
   },
   "outputs": [
    {
     "name": "stderr",
     "output_type": "stream",
     "text": [
      "/usr/local/lib/python3.10/dist-packages/seaborn/_oldcore.py:1119: FutureWarning: use_inf_as_na option is deprecated and will be removed in a future version. Convert inf values to NaN before operating instead.\n",
      "  with pd.option_context('mode.use_inf_as_na', True):\n"
     ]
    },
    {
     "data": {
      "image/png": "[encoded data removed]",
      "text/plain": [
       "<Figure size 640x480 with 1 Axes>"
      ]
     },
     "metadata": {},
     "output_type": "display_data"
    }
   ],
   "source": [
    "sns.histplot(x='Age', hue='Survived', data=train_df)\n",
    "plt.title('Count of Survived vs. Not Survived by Age')\n",
    "plt.xlabel('Age')\n",
    "plt.ylabel('Count')\n",
    "plt.show()"
   ]
  },
  {
   "cell_type": "code",
   "execution_count": 17,
   "id": "d60f00dc",
   "metadata": {
    "execution": {
     "iopub.execute_input": "2025-02-01T15:51:52.129455Z",
     "iopub.status.busy": "2025-02-01T15:51:52.129206Z",
     "iopub.status.idle": "2025-02-01T15:51:52.135153Z",
     "shell.execute_reply": "2025-02-01T15:51:52.134292Z"
    },
    "papermill": {
     "duration": 0.021395,
     "end_time": "2025-02-01T15:51:52.136471",
     "exception": false,
     "start_time": "2025-02-01T15:51:52.115076",
     "status": "completed"
    },
    "tags": []
   },
   "outputs": [
    {
     "data": {
      "text/plain": [
       "Survived\n",
       "0    549\n",
       "1    342\n",
       "Name: count, dtype: int64"
      ]
     },
     "execution_count": 17,
     "metadata": {},
     "output_type": "execute_result"
    }
   ],
   "source": [
    "train_df[\"Survived\"].value_counts()"
   ]
  },
  {
   "cell_type": "code",
   "execution_count": 18,
   "id": "8ecd6caa",
   "metadata": {
    "execution": {
     "iopub.execute_input": "2025-02-01T15:51:52.165066Z",
     "iopub.status.busy": "2025-02-01T15:51:52.164790Z",
     "iopub.status.idle": "2025-02-01T15:51:57.405234Z",
     "shell.execute_reply": "2025-02-01T15:51:57.404450Z"
    },
    "papermill": {
     "duration": 5.256586,
     "end_time": "2025-02-01T15:51:57.406790",
     "exception": false,
     "start_time": "2025-02-01T15:51:52.150204",
     "status": "completed"
    },
    "tags": []
   },
   "outputs": [],
   "source": [
    "import torch\n",
    "from torch.utils.data import Dataset, DataLoader\n",
    "import torchvision\n",
    "import torch.nn as nn \n",
    "from torch.utils.data import random_split\n",
    "import math\n",
    "from IPython.display import Image"
   ]
  },
  {
   "cell_type": "code",
   "execution_count": 19,
   "id": "1a5dabbb",
   "metadata": {
    "execution": {
     "iopub.execute_input": "2025-02-01T15:51:57.436144Z",
     "iopub.status.busy": "2025-02-01T15:51:57.435711Z",
     "iopub.status.idle": "2025-02-01T15:51:57.446640Z",
     "shell.execute_reply": "2025-02-01T15:51:57.445795Z"
    },
    "papermill": {
     "duration": 0.0274,
     "end_time": "2025-02-01T15:51:57.448137",
     "exception": false,
     "start_time": "2025-02-01T15:51:57.420737",
     "status": "completed"
    },
    "tags": []
   },
   "outputs": [],
   "source": [
    "torch.manual_seed(42); # seed rng for reproducibility"
   ]
  },
  {
   "cell_type": "code",
   "execution_count": 20,
   "id": "efa4020e",
   "metadata": {
    "execution": {
     "iopub.execute_input": "2025-02-01T15:51:57.476213Z",
     "iopub.status.busy": "2025-02-01T15:51:57.475962Z",
     "iopub.status.idle": "2025-02-01T15:51:57.481737Z",
     "shell.execute_reply": "2025-02-01T15:51:57.480866Z"
    },
    "papermill": {
     "duration": 0.021256,
     "end_time": "2025-02-01T15:51:57.483085",
     "exception": false,
     "start_time": "2025-02-01T15:51:57.461829",
     "status": "completed"
    },
    "tags": []
   },
   "outputs": [],
   "source": [
    "class CSVDataset(Dataset):\n",
    "    def __init__(self, csv_path, features_col_list, target_col_list, transform=None, entire_data_transform=None):\n",
    "        # data loading\n",
    "        self.target_col_list = target_col_list\n",
    "        self.data = pd.read_csv(csv_path, index_col=0)\n",
    "        self.transform = transform\n",
    "\n",
    "        self.data = entire_data_transform(self.data)\n",
    "\n",
    "        self.features_col_list = []\n",
    "        for col_name in self.data.columns:\n",
    "            for feature_name in features_col_list:\n",
    "                if feature_name in col_name:\n",
    "                    # col is one hot encoded\n",
    "                    self.features_col_list.append(col_name)\n",
    "\n",
    "    def __getitem__(self, index):\n",
    "        x = self.data.iloc[index][self.features_col_list]  # Features}\n",
    "        y = self.data.iloc[index][self.target_col_list]  # Target\n",
    "\n",
    "        # Apply transformations if specified\n",
    "        if self.transform:\n",
    "            x, y = self.transform((x,y))\n",
    "\n",
    "        return torch.tensor(x, dtype=torch.float32), torch.tensor(y, dtype=torch.float32)\n",
    "\n",
    "    def __len__(self):\n",
    "        # allow us to use len(dataset)\n",
    "        return len(self.data)"
   ]
  },
  {
   "cell_type": "code",
   "execution_count": 21,
   "id": "2c7eb724",
   "metadata": {
    "execution": {
     "iopub.execute_input": "2025-02-01T15:51:57.510308Z",
     "iopub.status.busy": "2025-02-01T15:51:57.510036Z",
     "iopub.status.idle": "2025-02-01T15:51:57.516405Z",
     "shell.execute_reply": "2025-02-01T15:51:57.515568Z"
    },
    "papermill": {
     "duration": 0.021327,
     "end_time": "2025-02-01T15:51:57.517734",
     "exception": false,
     "start_time": "2025-02-01T15:51:57.496407",
     "status": "completed"
    },
    "tags": []
   },
   "outputs": [],
   "source": [
    "class OneHotEncode():\n",
    "    def __init__(self, cat_cols):\n",
    "        self.cat_cols = cat_cols\n",
    "    \n",
    "    def __call__(self, dataset):\n",
    "        return pd.get_dummies(dataset, columns=self.cat_cols)\n",
    "\n",
    "class FillNa():\n",
    "    def __init__(self, col_na_fill_rule):\n",
    "        self.col_na_fill_rule = col_na_fill_rule\n",
    "\n",
    "    def __call__(self, sample):\n",
    "        inputs, targets = sample\n",
    "\n",
    "        for col, na_fill in self.col_na_fill_rule.items():\n",
    "            if (pd.isna(inputs[col])):\n",
    "                inputs[col] = na_fill\n",
    "\n",
    "        return (inputs, targets)\n",
    "\n",
    "class NormalizeCol():\n",
    "    def __init__(self, cols_min_max_val):\n",
    "        self.cols_min_max_val = cols_min_max_val\n",
    "    \n",
    "    def __call__(self, sample):\n",
    "        inputs, targets = sample\n",
    "\n",
    "        for col in self.cols_min_max_val:\n",
    "            inputs[col] = (inputs[col] - self.cols_min_max_val[col][minVal]) / (self.cols_min_max_val[col][maxVal] - self.cols_min_max_val[col][minVal])\n",
    "        \n",
    "        return (inputs, targets)\n",
    "\n",
    "class ConvertNumpyArrToFloat32Tensor():\n",
    "    def __call__(self, sample):\n",
    "        inputs, targets = sample\n",
    "        inputs = (inputs.values).astype(np.float32)\n",
    "        targets = (targets.values).astype(np.float32)\n",
    "        return (inputs, targets)"
   ]
  },
  {
   "cell_type": "code",
   "execution_count": 22,
   "id": "3e5dfbf7",
   "metadata": {
    "execution": {
     "iopub.execute_input": "2025-02-01T15:51:57.545064Z",
     "iopub.status.busy": "2025-02-01T15:51:57.544805Z",
     "iopub.status.idle": "2025-02-01T15:51:57.654023Z",
     "shell.execute_reply": "2025-02-01T15:51:57.653235Z"
    },
    "papermill": {
     "duration": 0.124483,
     "end_time": "2025-02-01T15:51:57.655373",
     "exception": false,
     "start_time": "2025-02-01T15:51:57.530890",
     "status": "completed"
    },
    "tags": []
   },
   "outputs": [
    {
     "data": {
      "text/plain": [
       "(tensor([0., 1., 0., 0., 1.]), tensor([0.]))"
      ]
     },
     "execution_count": 22,
     "metadata": {},
     "output_type": "execute_result"
    }
   ],
   "source": [
    "csv_file = \"/kaggle/input/titanic/train.csv\"\n",
    "features_col_list = [\"Sex\", \"Embarked\"]\n",
    "target_col_list = [\"Survived\"]\n",
    "\n",
    "cat_cols = [\"Sex\", \"Embarked\"]\n",
    "fill_na = {}\n",
    "normalize_cols = {}\n",
    "transforms = torchvision.transforms.Compose([FillNa(fill_na), \n",
    "                                             NormalizeCol(normalize_cols),\n",
    "                                             ConvertNumpyArrToFloat32Tensor()])\n",
    "\n",
    "entire_data_transform = torchvision.transforms.Compose([OneHotEncode(cat_cols),])\n",
    "\n",
    "dataset = CSVDataset(csv_file, features_col_list, target_col_list, transform=transforms, entire_data_transform=entire_data_transform)\n",
    "dataset[0]"
   ]
  },
  {
   "cell_type": "code",
   "execution_count": 23,
   "id": "e5eb1d5d",
   "metadata": {
    "execution": {
     "iopub.execute_input": "2025-02-01T15:51:57.683073Z",
     "iopub.status.busy": "2025-02-01T15:51:57.682770Z",
     "iopub.status.idle": "2025-02-01T15:51:57.687352Z",
     "shell.execute_reply": "2025-02-01T15:51:57.686513Z"
    },
    "papermill": {
     "duration": 0.019707,
     "end_time": "2025-02-01T15:51:57.688759",
     "exception": false,
     "start_time": "2025-02-01T15:51:57.669052",
     "status": "completed"
    },
    "tags": []
   },
   "outputs": [
    {
     "data": {
      "text/plain": [
       "891"
      ]
     },
     "execution_count": 23,
     "metadata": {},
     "output_type": "execute_result"
    }
   ],
   "source": [
    "len(dataset)"
   ]
  },
  {
   "cell_type": "code",
   "execution_count": 24,
   "id": "acf599f4",
   "metadata": {
    "execution": {
     "iopub.execute_input": "2025-02-01T15:51:57.716339Z",
     "iopub.status.busy": "2025-02-01T15:51:57.716090Z",
     "iopub.status.idle": "2025-02-01T15:51:57.726541Z",
     "shell.execute_reply": "2025-02-01T15:51:57.725725Z"
    },
    "papermill": {
     "duration": 0.025542,
     "end_time": "2025-02-01T15:51:57.727759",
     "exception": false,
     "start_time": "2025-02-01T15:51:57.702217",
     "status": "completed"
    },
    "tags": []
   },
   "outputs": [],
   "source": [
    "# Define split ratios\n",
    "train_size = int(0.8 * len(dataset))  # 80% for training\n",
    "val_size = int(0.1 * len(dataset))    # 10% for validation\n",
    "test_size = len(dataset) - train_size - val_size  # Remaining for testing\n",
    "\n",
    "# Split dataset\n",
    "train_dataset, val_dataset, test_dataset = random_split(dataset, [train_size, val_size, test_size])"
   ]
  },
  {
   "cell_type": "code",
   "execution_count": 25,
   "id": "8af41486",
   "metadata": {
    "execution": {
     "iopub.execute_input": "2025-02-01T15:51:57.755190Z",
     "iopub.status.busy": "2025-02-01T15:51:57.754892Z",
     "iopub.status.idle": "2025-02-01T15:51:57.758722Z",
     "shell.execute_reply": "2025-02-01T15:51:57.758116Z"
    },
    "papermill": {
     "duration": 0.018682,
     "end_time": "2025-02-01T15:51:57.759999",
     "exception": false,
     "start_time": "2025-02-01T15:51:57.741317",
     "status": "completed"
    },
    "tags": []
   },
   "outputs": [],
   "source": [
    "# Define batch size\n",
    "# since we have less data\n",
    "batch_size = 16\n",
    "\n",
    "# Create DataLoaders\n",
    "train_loader = DataLoader(train_dataset, batch_size=batch_size, shuffle=False)\n",
    "val_loader = DataLoader(val_dataset, batch_size=batch_size, shuffle=False)\n",
    "test_loader = DataLoader(test_dataset, batch_size=batch_size, shuffle=False)"
   ]
  },
  {
   "cell_type": "code",
   "execution_count": 26,
   "id": "2c709abd",
   "metadata": {
    "execution": {
     "iopub.execute_input": "2025-02-01T15:51:57.787306Z",
     "iopub.status.busy": "2025-02-01T15:51:57.787079Z",
     "iopub.status.idle": "2025-02-01T15:51:57.869764Z",
     "shell.execute_reply": "2025-02-01T15:51:57.868704Z"
    },
    "papermill": {
     "duration": 0.098141,
     "end_time": "2025-02-01T15:51:57.871267",
     "exception": false,
     "start_time": "2025-02-01T15:51:57.773126",
     "status": "completed"
    },
    "tags": []
   },
   "outputs": [
    {
     "name": "stdout",
     "output_type": "stream",
     "text": [
      "Using device: cuda\n"
     ]
    }
   ],
   "source": [
    "device = torch.device(\"cuda\" if torch.cuda.is_available() else \"cpu\")\n",
    "print(f\"Using device: {device}\")"
   ]
  },
  {
   "cell_type": "code",
   "execution_count": 27,
   "id": "96453427",
   "metadata": {
    "execution": {
     "iopub.execute_input": "2025-02-01T15:51:57.899943Z",
     "iopub.status.busy": "2025-02-01T15:51:57.899653Z",
     "iopub.status.idle": "2025-02-01T15:51:57.952701Z",
     "shell.execute_reply": "2025-02-01T15:51:57.951742Z"
    },
    "papermill": {
     "duration": 0.068556,
     "end_time": "2025-02-01T15:51:57.954167",
     "exception": false,
     "start_time": "2025-02-01T15:51:57.885611",
     "status": "completed"
    },
    "tags": []
   },
   "outputs": [],
   "source": [
    "# not correctly init\n",
    "input_dim = len(next(iter(train_loader))[0][0])\n",
    "hidden_neuron = 256\n",
    "output_dim = len(next(iter(train_loader))[1][0])\n",
    "\n",
    "debug = True\n",
    "\n",
    "class LinearLayer(nn.Linear):\n",
    "    def __init__(self, *args, **kwargs):\n",
    "        # Call the parent constructor to initialize the Linear layer\n",
    "        super().__init__(*args, **kwargs)\n",
    "        \n",
    "    def forward(self, x):\n",
    "        self.output = super().forward(x)\n",
    "        return self.output\n",
    "\n",
    "class LeakyReluLayer(nn.LeakyReLU):\n",
    "    def __init__(self, *args, **kwargs):\n",
    "        # Call the parent constructor to initialize the Linear layer\n",
    "        super().__init__(*args, **kwargs)\n",
    "        \n",
    "    def forward(self, x):\n",
    "        self.output = super().forward(x)\n",
    "        return self.output\n",
    "\n",
    "class BatchNorm1dLayer(nn.BatchNorm1d):\n",
    "    def __init__(self, *args, **kwargs):\n",
    "        # Call the parent constructor to initialize the Linear layer\n",
    "        super().__init__(*args, **kwargs)\n",
    "        \n",
    "    def forward(self, x):\n",
    "        self.output = super().forward(x)\n",
    "        return self.output\n",
    "\n",
    "class DropoutLayer(nn.Dropout):\n",
    "    def __init__(self, *args, **kwargs):\n",
    "        # Call the parent constructor to initialize the Linear layer\n",
    "        super().__init__(*args, **kwargs)\n",
    "        \n",
    "    def forward(self, x):\n",
    "        self.output = super().forward(x)\n",
    "        return self.output\n",
    "\n",
    "class TitanicSurvivalPredictor(nn.Module):\n",
    "    def __init__(self, hidden_neuron):\n",
    "        super().__init__()\n",
    "\n",
    "        # define layers\n",
    "        self.layers = nn.ModuleList([\n",
    "            LinearLayer(input_dim, 256),\n",
    "            BatchNorm1dLayer(256),\n",
    "            LeakyReluLayer(0.1),\n",
    "            # DropoutLayer(0.2),\n",
    "            \n",
    "            LinearLayer(256, 128),\n",
    "            BatchNorm1dLayer(128),\n",
    "            LeakyReluLayer(0.1),\n",
    "            # DropoutLayer(0.2),\n",
    "            \n",
    "            LinearLayer(128, output_dim),\n",
    "        ])\n",
    "        \n",
    "    def forward(self, x):\n",
    "        for layer in self.layers:\n",
    "            x = layer(x)\n",
    "        return x\n",
    "\n",
    "    def parameters(self):\n",
    "        return [p for layer in self.layers for p in layer.parameters()]\n",
    "\n",
    "model = TitanicSurvivalPredictor(hidden_neuron)"
   ]
  },
  {
   "cell_type": "code",
   "execution_count": 28,
   "id": "922e8b62",
   "metadata": {
    "execution": {
     "iopub.execute_input": "2025-02-01T15:51:57.981956Z",
     "iopub.status.busy": "2025-02-01T15:51:57.981671Z",
     "iopub.status.idle": "2025-02-01T15:51:57.984952Z",
     "shell.execute_reply": "2025-02-01T15:51:57.984129Z"
    },
    "papermill": {
     "duration": 0.018477,
     "end_time": "2025-02-01T15:51:57.986308",
     "exception": false,
     "start_time": "2025-02-01T15:51:57.967831",
     "status": "completed"
    },
    "tags": []
   },
   "outputs": [],
   "source": [
    "activation_layers = [\"LeakyReluLayer\"]"
   ]
  },
  {
   "cell_type": "code",
   "execution_count": 29,
   "id": "cd7c68b6",
   "metadata": {
    "execution": {
     "iopub.execute_input": "2025-02-01T15:51:58.013303Z",
     "iopub.status.busy": "2025-02-01T15:51:58.013060Z",
     "iopub.status.idle": "2025-02-01T15:51:59.220757Z",
     "shell.execute_reply": "2025-02-01T15:51:59.219005Z"
    },
    "papermill": {
     "duration": 1.22279,
     "end_time": "2025-02-01T15:51:59.222307",
     "exception": false,
     "start_time": "2025-02-01T15:51:57.999517",
     "status": "completed"
    },
    "tags": []
   },
   "outputs": [
    {
     "name": "stdout",
     "output_type": "stream",
     "text": [
      "init loss: 0.7117076595624288\n"
     ]
    }
   ],
   "source": [
    "model.eval()\n",
    "\n",
    "init_loss = 0\n",
    "model = model.to(device)\n",
    "bce_loss = nn.BCEWithLogitsLoss()\n",
    "\n",
    "with torch.no_grad():\n",
    "    for i, (inputs, labels) in enumerate(train_loader):\n",
    "        inputs = inputs.to(device)\n",
    "        labels = labels.to(device)\n",
    "        \n",
    "        pred = model(inputs)        \n",
    "        loss = bce_loss(pred, labels)\n",
    "\n",
    "        init_loss += loss.item()\n",
    "\n",
    "init_loss /= len(train_loader)\n",
    "print(f\"init loss: {init_loss}\")"
   ]
  },
  {
   "cell_type": "code",
   "execution_count": 30,
   "id": "53d42458",
   "metadata": {
    "execution": {
     "iopub.execute_input": "2025-02-01T15:51:59.251295Z",
     "iopub.status.busy": "2025-02-01T15:51:59.251037Z",
     "iopub.status.idle": "2025-02-01T15:51:59.268444Z",
     "shell.execute_reply": "2025-02-01T15:51:59.267746Z"
    },
    "papermill": {
     "duration": 0.033381,
     "end_time": "2025-02-01T15:51:59.269716",
     "exception": false,
     "start_time": "2025-02-01T15:51:59.236335",
     "status": "completed"
    },
    "tags": []
   },
   "outputs": [],
   "source": [
    "@torch.no_grad()\n",
    "def initParam(model):\n",
    "    # Initialize weights using Xavier Normal\n",
    "    for i, layer in enumerate(model.layers):\n",
    "        if (isinstance(layer, LinearLayer)):\n",
    "            if (i<len(model.layers)-1):\n",
    "                nn.init.xavier_normal_(model.layers[i].weight, gain=torch.nn.init.calculate_gain(\"leaky_relu\"))\n",
    "            else:\n",
    "                nn.init.xavier_normal_(model.layers[i].weight, gain=torch.nn.init.calculate_gain(\"sigmoid\"))\n",
    "            if layer.bias is not None:\n",
    "                nn.init.zeros_(model.layers[i].bias)\n",
    "\n",
    "initParam(model)"
   ]
  },
  {
   "cell_type": "code",
   "execution_count": 31,
   "id": "06f4c20d",
   "metadata": {
    "execution": {
     "iopub.execute_input": "2025-02-01T15:51:59.298317Z",
     "iopub.status.busy": "2025-02-01T15:51:59.298060Z",
     "iopub.status.idle": "2025-02-01T15:51:59.939450Z",
     "shell.execute_reply": "2025-02-01T15:51:59.938409Z"
    },
    "papermill": {
     "duration": 0.657294,
     "end_time": "2025-02-01T15:51:59.940802",
     "exception": false,
     "start_time": "2025-02-01T15:51:59.283508",
     "status": "completed"
    },
    "tags": []
   },
   "outputs": [
    {
     "name": "stdout",
     "output_type": "stream",
     "text": [
      "init loss: 0.6881671071052551\n"
     ]
    }
   ],
   "source": [
    "init_loss = 0\n",
    "model = model.to(device)\n",
    "bce_loss = nn.BCEWithLogitsLoss()\n",
    "\n",
    "with torch.no_grad():\n",
    "    for i, (inputs, labels) in enumerate(train_loader):\n",
    "        inputs = inputs.to(device)\n",
    "        labels = labels.to(device)\n",
    "        \n",
    "        pred = model(inputs)        \n",
    "        loss = bce_loss(pred, labels)\n",
    "\n",
    "        init_loss += loss.item()\n",
    "\n",
    "init_loss /= len(train_loader)\n",
    "print(f\"init loss: {init_loss}\")"
   ]
  },
  {
   "cell_type": "code",
   "execution_count": 32,
   "id": "5a83c68a",
   "metadata": {
    "execution": {
     "iopub.execute_input": "2025-02-01T15:51:59.969853Z",
     "iopub.status.busy": "2025-02-01T15:51:59.969585Z",
     "iopub.status.idle": "2025-02-01T17:59:16.639513Z",
     "shell.execute_reply": "2025-02-01T17:59:16.638628Z"
    },
    "papermill": {
     "duration": 7636.704614,
     "end_time": "2025-02-01T17:59:16.659476",
     "exception": false,
     "start_time": "2025-02-01T15:51:59.954862",
     "status": "completed"
    },
    "tags": []
   },
   "outputs": [
    {
     "name": "stdout",
     "output_type": "stream",
     "text": [
      "Epoch 100/10000, Train Loss: -0.3596, Val Loss: -0.3769\n",
      "Epoch 200/10000, Train Loss: -0.3965, Val Loss: -0.3878\n",
      "Epoch 300/10000, Train Loss: -0.4155, Val Loss: -0.3613\n",
      "Epoch 400/10000, Train Loss: -0.4407, Val Loss: -0.3564\n",
      "Epoch 500/10000, Train Loss: -0.4472, Val Loss: -0.3504\n",
      "Epoch 600/10000, Train Loss: -0.4533, Val Loss: -0.3475\n",
      "Epoch 700/10000, Train Loss: -0.4608, Val Loss: -0.3834\n",
      "Epoch 800/10000, Train Loss: -0.4607, Val Loss: -0.3482\n",
      "Epoch 900/10000, Train Loss: -0.4546, Val Loss: -0.3529\n",
      "Epoch 1000/10000, Train Loss: -0.4715, Val Loss: -0.3537\n",
      "Epoch 1100/10000, Train Loss: -0.4603, Val Loss: -0.3731\n",
      "Epoch 1200/10000, Train Loss: -0.4800, Val Loss: -0.3534\n",
      "Epoch 1300/10000, Train Loss: -0.4627, Val Loss: -0.4061\n",
      "Epoch 1400/10000, Train Loss: -0.4775, Val Loss: -0.3664\n",
      "Epoch 1500/10000, Train Loss: -0.4736, Val Loss: -0.3625\n",
      "Epoch 1600/10000, Train Loss: -0.4793, Val Loss: -0.3943\n",
      "Epoch 1700/10000, Train Loss: -0.4757, Val Loss: -0.3614\n",
      "Epoch 1800/10000, Train Loss: -0.4832, Val Loss: -0.4082\n",
      "Epoch 1900/10000, Train Loss: -0.4771, Val Loss: -0.3677\n",
      "Epoch 2000/10000, Train Loss: -0.4824, Val Loss: -0.3899\n",
      "Epoch 2100/10000, Train Loss: -0.4803, Val Loss: -0.3983\n",
      "Epoch 2200/10000, Train Loss: -0.4578, Val Loss: -0.4285\n",
      "Epoch 2300/10000, Train Loss: -0.4844, Val Loss: -0.3887\n",
      "Epoch 2400/10000, Train Loss: -0.4856, Val Loss: -0.4112\n",
      "Epoch 2500/10000, Train Loss: -0.4785, Val Loss: -0.3783\n",
      "Epoch 2600/10000, Train Loss: -0.4833, Val Loss: -0.3920\n",
      "Epoch 2700/10000, Train Loss: -0.4820, Val Loss: -0.3973\n",
      "Epoch 2800/10000, Train Loss: -0.4862, Val Loss: -0.3874\n",
      "Epoch 2900/10000, Train Loss: -0.4823, Val Loss: -0.3812\n",
      "Epoch 3000/10000, Train Loss: -0.4780, Val Loss: -0.3995\n",
      "Epoch 3100/10000, Train Loss: -0.4839, Val Loss: -0.3874\n",
      "Epoch 3200/10000, Train Loss: -0.4810, Val Loss: -0.3981\n",
      "Epoch 3300/10000, Train Loss: -0.4836, Val Loss: -0.4040\n",
      "Epoch 3400/10000, Train Loss: -0.4836, Val Loss: -0.3817\n",
      "Epoch 3500/10000, Train Loss: -0.4814, Val Loss: -0.4137\n",
      "Epoch 3600/10000, Train Loss: -0.4693, Val Loss: -0.4272\n",
      "Epoch 3700/10000, Train Loss: -0.4865, Val Loss: -0.4166\n",
      "Epoch 3800/10000, Train Loss: -0.4862, Val Loss: -0.4065\n",
      "Epoch 3900/10000, Train Loss: -0.4804, Val Loss: -0.3942\n",
      "Epoch 4000/10000, Train Loss: -0.4713, Val Loss: -0.3869\n",
      "Epoch 4100/10000, Train Loss: -0.4859, Val Loss: -0.3753\n",
      "Epoch 4200/10000, Train Loss: -0.4833, Val Loss: -0.3625\n",
      "Epoch 4300/10000, Train Loss: -0.4871, Val Loss: -0.3960\n",
      "Epoch 4400/10000, Train Loss: -0.4892, Val Loss: -0.4040\n",
      "Epoch 4500/10000, Train Loss: -0.4844, Val Loss: -0.3900\n",
      "Epoch 4600/10000, Train Loss: -0.4887, Val Loss: -0.4082\n",
      "Epoch 4700/10000, Train Loss: -0.4804, Val Loss: -0.3948\n",
      "Epoch 4800/10000, Train Loss: -0.4901, Val Loss: -0.3968\n",
      "Epoch 4900/10000, Train Loss: -0.4862, Val Loss: -0.4024\n",
      "Epoch 5000/10000, Train Loss: -0.4811, Val Loss: -0.4258\n",
      "Epoch 5100/10000, Train Loss: -0.4847, Val Loss: -0.4029\n",
      "Epoch 5200/10000, Train Loss: -0.4740, Val Loss: -0.4358\n",
      "Epoch 5300/10000, Train Loss: -0.4804, Val Loss: -0.3788\n",
      "Epoch 5400/10000, Train Loss: -0.4736, Val Loss: -0.3895\n",
      "Epoch 5500/10000, Train Loss: -0.4812, Val Loss: -0.4110\n",
      "Epoch 5600/10000, Train Loss: -0.4880, Val Loss: -0.4161\n",
      "Epoch 5700/10000, Train Loss: -0.4866, Val Loss: -0.4048\n",
      "Epoch 5800/10000, Train Loss: -0.4872, Val Loss: -0.3903\n",
      "Epoch 5900/10000, Train Loss: -0.4830, Val Loss: -0.4110\n",
      "Epoch 6000/10000, Train Loss: -0.4877, Val Loss: -0.3677\n",
      "Epoch 6100/10000, Train Loss: -0.4805, Val Loss: -0.4135\n",
      "Epoch 6200/10000, Train Loss: -0.4795, Val Loss: -0.4162\n",
      "Epoch 6300/10000, Train Loss: -0.4909, Val Loss: -0.3939\n",
      "Epoch 6400/10000, Train Loss: -0.4849, Val Loss: -0.4042\n",
      "Epoch 6500/10000, Train Loss: -0.4857, Val Loss: -0.4180\n",
      "Epoch 6600/10000, Train Loss: -0.4884, Val Loss: -0.4030\n",
      "Epoch 6700/10000, Train Loss: -0.4601, Val Loss: -0.4142\n",
      "Epoch 6800/10000, Train Loss: -0.4870, Val Loss: -0.4007\n",
      "Epoch 6900/10000, Train Loss: -0.4925, Val Loss: -0.3846\n",
      "Epoch 7000/10000, Train Loss: -0.4872, Val Loss: -0.3666\n",
      "Epoch 7100/10000, Train Loss: -0.4772, Val Loss: -0.4086\n",
      "Epoch 7200/10000, Train Loss: -0.4782, Val Loss: -0.3743\n",
      "Epoch 7300/10000, Train Loss: -0.4766, Val Loss: -0.4161\n",
      "Epoch 7400/10000, Train Loss: -0.4164, Val Loss: -0.3890\n",
      "Epoch 7500/10000, Train Loss: -0.4880, Val Loss: -0.4068\n",
      "Epoch 7600/10000, Train Loss: -0.4897, Val Loss: -0.4054\n",
      "Epoch 7700/10000, Train Loss: -0.4863, Val Loss: -0.3837\n",
      "Epoch 7800/10000, Train Loss: -0.4805, Val Loss: -0.3916\n",
      "Epoch 7900/10000, Train Loss: -0.4875, Val Loss: -0.3863\n",
      "Epoch 8000/10000, Train Loss: -0.4835, Val Loss: -0.4038\n",
      "Epoch 8100/10000, Train Loss: -0.4830, Val Loss: -0.4012\n",
      "Epoch 8200/10000, Train Loss: -0.4815, Val Loss: -0.3893\n",
      "Epoch 8300/10000, Train Loss: -0.4879, Val Loss: -0.4070\n",
      "Epoch 8400/10000, Train Loss: -0.4846, Val Loss: -0.3549\n",
      "Epoch 8500/10000, Train Loss: -0.4901, Val Loss: -0.4005\n",
      "Epoch 8600/10000, Train Loss: -0.4698, Val Loss: -0.3917\n",
      "Epoch 8700/10000, Train Loss: -0.4802, Val Loss: -0.3973\n",
      "Epoch 8800/10000, Train Loss: -0.4895, Val Loss: -0.3954\n",
      "Epoch 8900/10000, Train Loss: -0.4872, Val Loss: -0.3802\n",
      "Epoch 9000/10000, Train Loss: -0.4900, Val Loss: -0.3843\n",
      "Epoch 9100/10000, Train Loss: -0.4895, Val Loss: -0.4014\n",
      "Epoch 9200/10000, Train Loss: -0.4923, Val Loss: -0.3797\n",
      "Epoch 9300/10000, Train Loss: -0.4894, Val Loss: -0.3869\n",
      "Epoch 9400/10000, Train Loss: -0.4872, Val Loss: -0.4018\n",
      "Epoch 9500/10000, Train Loss: -0.4912, Val Loss: -0.4023\n",
      "Epoch 9600/10000, Train Loss: -0.4844, Val Loss: -0.3731\n",
      "Epoch 9700/10000, Train Loss: -0.4716, Val Loss: -0.3979\n",
      "Epoch 9800/10000, Train Loss: -0.4850, Val Loss: -0.3847\n",
      "Epoch 9900/10000, Train Loss: -0.4840, Val Loss: -0.3971\n",
      "Epoch 10000/10000, Train Loss: -0.4901, Val Loss: -0.3716\n"
     ]
    }
   ],
   "source": [
    "# less lr rate since can overfit easily\n",
    "learning_rate = 1e-3\n",
    "# less epoch as can easily overfit\n",
    "num_epoch = 10000\n",
    "\n",
    "lossi_train = []\n",
    "lossi_val = []\n",
    "\n",
    "total_samples = len(train_dataset)\n",
    "n_iter = math.ceil(total_samples / batch_size)\n",
    "\n",
    "optimizer = torch.optim.AdamW(model.parameters(), lr=learning_rate)\n",
    "bce_loss = nn.BCEWithLogitsLoss()\n",
    "output_grads = []\n",
    "\n",
    "model = model.to(device)\n",
    "\n",
    "runFirstBatch = False\n",
    "for epoch in range(num_epoch):\n",
    "    # reset to train mode\n",
    "    model.train()\n",
    "    \n",
    "    train_loss = 0    \n",
    "    for i, (inputs, labels) in enumerate(train_loader):\n",
    "        # reset grad\n",
    "        optimizer.zero_grad()\n",
    "        \n",
    "        # forward pass\n",
    "        # print(f\"inputs: {inputs}\")\n",
    "        # print(f\"labels: {labels}\")\n",
    "        inputs = inputs.to(device)\n",
    "        labels = labels.to(device)\n",
    "\n",
    "        # print(f\"inputs device: {inputs.device}, labels device: {labels.device}, model device: {[param.device for param in model.parameters()]}\")\n",
    "        \n",
    "        pred = model(inputs)\n",
    "        # print(f\"pred: {pred}\")\n",
    "\n",
    "        # calc loss\n",
    "        loss = bce_loss(pred, labels)\n",
    "\n",
    "        if (debug):\n",
    "            for layer in model.layers:\n",
    "                layer.output.retain_grad() # save gradients of non leaf tensors also\n",
    "        \n",
    "        # backward pass\n",
    "        loss.backward()\n",
    "        optimizer.step()\n",
    "        loss = loss.log10()\n",
    "        lossi_train.append(loss)\n",
    "        train_loss += loss.item()\n",
    "\n",
    "        # if (debug):\n",
    "        #      break\n",
    "\n",
    "    # copied it to array since running with no grad will set grad to None\n",
    "    if (debug):\n",
    "        curr_grads = {}\n",
    "        for i, layer in enumerate(model.layers):\n",
    "            curr_grads[f\"{layer.__class__.__name__}: {i}\"] = layer.output.grad.clone()\n",
    "\n",
    "        output_grads.append(curr_grads)\n",
    "    \n",
    "    train_loss /= len(train_loader)\n",
    "\n",
    "    # validation phase\n",
    "    model.eval()\n",
    "    with torch.no_grad():  # Disable gradient computation for validation\n",
    "        val_loss = 0\n",
    "        \n",
    "        for inputs, labels in val_loader:\n",
    "            inputs = inputs.to(device)\n",
    "            labels = labels.to(device)\n",
    "            \n",
    "            pred = model(inputs)\n",
    "            \n",
    "            loss = bce_loss(pred, labels)\n",
    "            loss = loss.log10()\n",
    "            lossi_val.append(loss)\n",
    "            val_loss += loss.item()\n",
    "        \n",
    "        val_loss /= len(val_loader)\n",
    "\n",
    "    if ((epoch+1)%100==0):\n",
    "        print(f\"Epoch {epoch+1}/{num_epoch}, Train Loss: {train_loss:.4f}, Val Loss: {val_loss:.4f}\")\n",
    "\n",
    "    # if (debug):\n",
    "    #     break"
   ]
  },
  {
   "cell_type": "code",
   "execution_count": 33,
   "id": "6a9b8caa",
   "metadata": {
    "execution": {
     "iopub.execute_input": "2025-02-01T17:59:16.696083Z",
     "iopub.status.busy": "2025-02-01T17:59:16.695766Z",
     "iopub.status.idle": "2025-02-01T17:59:22.709255Z",
     "shell.execute_reply": "2025-02-01T17:59:22.708324Z"
    },
    "papermill": {
     "duration": 6.033506,
     "end_time": "2025-02-01T17:59:22.710766",
     "exception": false,
     "start_time": "2025-02-01T17:59:16.677260",
     "status": "completed"
    },
    "tags": []
   },
   "outputs": [
    {
     "data": {
      "text/plain": [
       "[<matplotlib.lines.Line2D at 0x7f4a741b7a60>]"
      ]
     },
     "execution_count": 33,
     "metadata": {},
     "output_type": "execute_result"
    },
    {
     "data": {
      "image/png": "[encoded data removed]",
      "text/plain": [
       "<Figure size 640x480 with 1 Axes>"
      ]
     },
     "metadata": {},
     "output_type": "display_data"
    }
   ],
   "source": [
    "chunk_size = 50\n",
    "\n",
    "# Trim excess elements so total size is divisible by chunk_size\n",
    "trimmed_size_train = (len(lossi_train) // chunk_size) * chunk_size\n",
    "trimmed_size_val = (len(lossi_val) // chunk_size) * chunk_size\n",
    "\n",
    "lossi_train = lossi_train[:trimmed_size_train]  # Trim to nearest multiple of chunk_size\n",
    "lossi_val = lossi_val[:trimmed_size_val]  # Trim to nearest multiple of chunk_size\n",
    "\n",
    "plt.plot(torch.tensor(lossi_train).view(-1, chunk_size).mean(1), color=\"blue\")\n",
    "plt.plot(torch.tensor(lossi_val).view(-1, chunk_size).mean(1), color=\"red\")"
   ]
  },
  {
   "cell_type": "code",
   "execution_count": 34,
   "id": "0d13993f",
   "metadata": {
    "execution": {
     "iopub.execute_input": "2025-02-01T17:59:22.749894Z",
     "iopub.status.busy": "2025-02-01T17:59:22.749614Z",
     "iopub.status.idle": "2025-02-01T17:59:23.088040Z",
     "shell.execute_reply": "2025-02-01T17:59:23.087117Z"
    },
    "papermill": {
     "duration": 0.359427,
     "end_time": "2025-02-01T17:59:23.089598",
     "exception": false,
     "start_time": "2025-02-01T17:59:22.730171",
     "status": "completed"
    },
    "tags": []
   },
   "outputs": [
    {
     "name": "stdout",
     "output_type": "stream",
     "text": [
      "layer 2 (LeakyReluLayer): mean -0.01, std 0.04\n",
      "layer 5 (LeakyReluLayer): mean +0.07, std 0.34\n"
     ]
    },
    {
     "data": {
      "image/png": "[encoded data removed]",
      "text/plain": [
       "<Figure size 2000x400 with 1 Axes>"
      ]
     },
     "metadata": {},
     "output_type": "display_data"
    }
   ],
   "source": [
    "# visualize activations\n",
    "plt.figure(figsize=(20, 4))\n",
    "legends = []\n",
    "\n",
    "if (len(model.layers) > 1):\n",
    "    for i, layer in enumerate(model.layers): # exclude output layer\n",
    "        layer_name = layer.__class__.__name__\n",
    "        for activation_layer in activation_layers:\n",
    "            if (activation_layer in layer_name):\n",
    "                t = layer.output.cpu()\n",
    "                print('layer %d (%10s): mean %+.2f, std %.2f' % (i, layer.__class__.__name__, t.mean(), t.std()))\n",
    "                hy, hx = torch.histogram(t, density=True)\n",
    "                plt.plot(hx[:-1].detach(), hy.detach())\n",
    "                legends.append(f'layer {i} ({layer.__class__.__name__})')\n",
    "    \n",
    "    plt.legend(legends)\n",
    "    plt.title(\"activation distribution\")"
   ]
  },
  {
   "cell_type": "code",
   "execution_count": 35,
   "id": "0e47ada8",
   "metadata": {
    "execution": {
     "iopub.execute_input": "2025-02-01T17:59:23.129855Z",
     "iopub.status.busy": "2025-02-01T17:59:23.129600Z",
     "iopub.status.idle": "2025-02-01T17:59:23.470450Z",
     "shell.execute_reply": "2025-02-01T17:59:23.469519Z"
    },
    "papermill": {
     "duration": 0.362777,
     "end_time": "2025-02-01T17:59:23.471868",
     "exception": false,
     "start_time": "2025-02-01T17:59:23.109091",
     "status": "completed"
    },
    "tags": []
   },
   "outputs": [
    {
     "name": "stdout",
     "output_type": "stream",
     "text": [
      "layer (LeakyReluLayer: 2): mean +0.000000, std 1.146596e-03\n",
      "layer (LeakyReluLayer: 5): mean +0.000041, std 4.743137e-04\n"
     ]
    },
    {
     "data": {
      "image/png": "[encoded data removed]",
      "text/plain": [
       "<Figure size 2000x400 with 1 Axes>"
      ]
     },
     "metadata": {},
     "output_type": "display_data"
    }
   ],
   "source": [
    "# visualize histograms\n",
    "plt.figure(figsize=(20, 4)) # width and height of the plot\n",
    "legends = []\n",
    "\n",
    "if (len(model.layers) > 1):\n",
    "    for layer_name, layer_grad in output_grads[-1].items(): # note: exclude the output\n",
    "        for activation_layer in activation_layers:\n",
    "            if (activation_layer in layer_name):\n",
    "                t = layer_grad.cpu()\n",
    "                print('layer (%10s): mean %+f, std %e' % (layer_name, t.mean(), t.std()))\n",
    "                hy, hx = torch.histogram(t, density=True)\n",
    "                plt.plot(hx[:-1].detach(), hy.detach())\n",
    "                legends.append(f'{layer_name}')\n",
    "    \n",
    "        plt.legend(legends);\n",
    "        plt.title('gradient distribution')"
   ]
  },
  {
   "cell_type": "code",
   "execution_count": 36,
   "id": "32f6cece",
   "metadata": {
    "execution": {
     "iopub.execute_input": "2025-02-01T17:59:23.511512Z",
     "iopub.status.busy": "2025-02-01T17:59:23.511279Z",
     "iopub.status.idle": "2025-02-01T17:59:23.861875Z",
     "shell.execute_reply": "2025-02-01T17:59:23.860998Z"
    },
    "papermill": {
     "duration": 0.371981,
     "end_time": "2025-02-01T17:59:23.863402",
     "exception": false,
     "start_time": "2025-02-01T17:59:23.491421",
     "status": "completed"
    },
    "tags": []
   },
   "outputs": [
    {
     "name": "stdout",
     "output_type": "stream",
     "text": [
      "weight   (256, 5) | mean -0.000000 | std 5.234243e-04 | grad:data ratio 1.312320e-03\n",
      "weight (128, 256) | mean -0.000001 | std 9.948580e-05 | grad:data ratio 6.770889e-04\n",
      "weight   (1, 128) | mean +0.000362 | std 7.622318e-04 | grad:data ratio 1.166836e-03\n"
     ]
    },
    {
     "data": {
      "image/png": "[encoded data removed]",
      "text/plain": [
       "<Figure size 2000x400 with 1 Axes>"
      ]
     },
     "metadata": {},
     "output_type": "display_data"
    }
   ],
   "source": [
    "# visualize histograms\n",
    "plt.figure(figsize=(20, 4)) # width and height of the plot\n",
    "legends = []\n",
    "for i,p in enumerate(model.parameters()):\n",
    "  if p.ndim == 2: # limit to weights only\n",
    "    t = p.grad.cpu()\n",
    "    print('weight %10s | mean %+f | std %e | grad:data ratio %e' % (tuple(p.shape), t.mean(), t.std(), t.std() / p.std()))\n",
    "    hy, hx = torch.histogram(t, density=True)\n",
    "    plt.plot(hx[:-1].detach(), hy.detach())\n",
    "    legends.append(f'{i} {tuple(p.shape)}')\n",
    "plt.legend(legends)\n",
    "plt.title('weights gradient distribution');\n",
    "\n",
    "# gradient to data ratio should be less"
   ]
  },
  {
   "cell_type": "code",
   "execution_count": 37,
   "id": "9bea8d0d",
   "metadata": {
    "execution": {
     "iopub.execute_input": "2025-02-01T17:59:23.905873Z",
     "iopub.status.busy": "2025-02-01T17:59:23.905608Z",
     "iopub.status.idle": "2025-02-01T17:59:24.047711Z",
     "shell.execute_reply": "2025-02-01T17:59:24.046677Z"
    },
    "papermill": {
     "duration": 0.165079,
     "end_time": "2025-02-01T17:59:24.049237",
     "exception": false,
     "start_time": "2025-02-01T17:59:23.884158",
     "status": "completed"
    },
    "tags": []
   },
   "outputs": [
    {
     "name": "stdout",
     "output_type": "stream",
     "text": [
      "Test Accuracy: 81.11%\n"
     ]
    }
   ],
   "source": [
    "model.eval()  # Set model to evaluation mode\n",
    "\n",
    "# Accuracy calculation\n",
    "correct = 0\n",
    "total = 0\n",
    "\n",
    "with torch.no_grad():  # Disable gradient calculation\n",
    "    for inputs, labels in test_loader:\n",
    "        inputs = inputs.to(device)\n",
    "        labels = labels.to(device)\n",
    "        \n",
    "        outputs = model(inputs)\n",
    "        predictions = torch.sigmoid(outputs)  # Apply sigmoid for binary classification\n",
    "        predicted_classes = (predictions > 0.5).float()  # Convert to binary (0 or 1)\n",
    "        correct += (predicted_classes == labels).sum().item()\n",
    "        total += labels.size(0)\n",
    "\n",
    "accuracy = correct / total\n",
    "print(f\"Test Accuracy: {accuracy * 100:.2f}%\")"
   ]
  },
  {
   "cell_type": "code",
   "execution_count": 38,
   "id": "1fb370b5",
   "metadata": {
    "execution": {
     "iopub.execute_input": "2025-02-01T17:59:24.091188Z",
     "iopub.status.busy": "2025-02-01T17:59:24.090899Z",
     "iopub.status.idle": "2025-02-01T17:59:24.732257Z",
     "shell.execute_reply": "2025-02-01T17:59:24.731217Z"
    },
    "papermill": {
     "duration": 0.663971,
     "end_time": "2025-02-01T17:59:24.733585",
     "exception": false,
     "start_time": "2025-02-01T17:59:24.069614",
     "status": "completed"
    },
    "tags": []
   },
   "outputs": [
    {
     "name": "stdout",
     "output_type": "stream",
     "text": [
      "Train Accuracy: 75.28%\n"
     ]
    }
   ],
   "source": [
    "model.eval()  # Set model to evaluation mode\n",
    "\n",
    "# Accuracy calculation\n",
    "correct = 0\n",
    "total = 0\n",
    "\n",
    "with torch.no_grad():  # Disable gradient calculation\n",
    "    for inputs, labels in train_loader:\n",
    "        inputs = inputs.to(device)\n",
    "        labels = labels.to(device)\n",
    "        \n",
    "        outputs = model(inputs)\n",
    "        predictions = torch.sigmoid(outputs)  # Apply sigmoid for binary classification\n",
    "        predicted_classes = (predictions > 0.5).float()  # Convert to binary (0 or 1)\n",
    "        correct += (predicted_classes == labels).sum().item()\n",
    "        total += labels.size(0)\n",
    "\n",
    "accuracy = correct / total\n",
    "print(f\"Train Accuracy: {accuracy * 100:.2f}%\")"
   ]
  },
  {
   "cell_type": "markdown",
   "id": "817759a5",
   "metadata": {
    "papermill": {
     "duration": 0.01984,
     "end_time": "2025-02-01T17:59:24.774603",
     "exception": false,
     "start_time": "2025-02-01T17:59:24.754763",
     "status": "completed"
    },
    "tags": []
   },
   "source": [
    "## Test"
   ]
  },
  {
   "cell_type": "code",
   "execution_count": 39,
   "id": "34e86825",
   "metadata": {
    "execution": {
     "iopub.execute_input": "2025-02-01T17:59:24.816571Z",
     "iopub.status.busy": "2025-02-01T17:59:24.816318Z",
     "iopub.status.idle": "2025-02-01T17:59:24.845039Z",
     "shell.execute_reply": "2025-02-01T17:59:24.844193Z"
    },
    "papermill": {
     "duration": 0.05147,
     "end_time": "2025-02-01T17:59:24.846317",
     "exception": false,
     "start_time": "2025-02-01T17:59:24.794847",
     "status": "completed"
    },
    "tags": []
   },
   "outputs": [
    {
     "data": {
      "text/html": [
       "<div>\n",
       "<style scoped>\n",
       "    .dataframe tbody tr th:only-of-type {\n",
       "        vertical-align: middle;\n",
       "    }\n",
       "\n",
       "    .dataframe tbody tr th {\n",
       "        vertical-align: top;\n",
       "    }\n",
       "\n",
       "    .dataframe thead th {\n",
       "        text-align: right;\n",
       "    }\n",
       "</style>\n",
       "<table border=\"1\" class=\"dataframe\">\n",
       "  <thead>\n",
       "    <tr style=\"text-align: right;\">\n",
       "      <th></th>\n",
       "      <th>PassengerId</th>\n",
       "      <th>Pclass</th>\n",
       "      <th>Name</th>\n",
       "      <th>Sex</th>\n",
       "      <th>Age</th>\n",
       "      <th>SibSp</th>\n",
       "      <th>Parch</th>\n",
       "      <th>Ticket</th>\n",
       "      <th>Fare</th>\n",
       "      <th>Cabin</th>\n",
       "      <th>Embarked</th>\n",
       "    </tr>\n",
       "  </thead>\n",
       "  <tbody>\n",
       "    <tr>\n",
       "      <th>0</th>\n",
       "      <td>892</td>\n",
       "      <td>3</td>\n",
       "      <td>Kelly, Mr. James</td>\n",
       "      <td>male</td>\n",
       "      <td>34.5</td>\n",
       "      <td>0</td>\n",
       "      <td>0</td>\n",
       "      <td>330911</td>\n",
       "      <td>7.8292</td>\n",
       "      <td>NaN</td>\n",
       "      <td>Q</td>\n",
       "    </tr>\n",
       "    <tr>\n",
       "      <th>1</th>\n",
       "      <td>893</td>\n",
       "      <td>3</td>\n",
       "      <td>Wilkes, Mrs. James (Ellen Needs)</td>\n",
       "      <td>female</td>\n",
       "      <td>47.0</td>\n",
       "      <td>1</td>\n",
       "      <td>0</td>\n",
       "      <td>363272</td>\n",
       "      <td>7.0000</td>\n",
       "      <td>NaN</td>\n",
       "      <td>S</td>\n",
       "    </tr>\n",
       "    <tr>\n",
       "      <th>2</th>\n",
       "      <td>894</td>\n",
       "      <td>2</td>\n",
       "      <td>Myles, Mr. Thomas Francis</td>\n",
       "      <td>male</td>\n",
       "      <td>62.0</td>\n",
       "      <td>0</td>\n",
       "      <td>0</td>\n",
       "      <td>240276</td>\n",
       "      <td>9.6875</td>\n",
       "      <td>NaN</td>\n",
       "      <td>Q</td>\n",
       "    </tr>\n",
       "    <tr>\n",
       "      <th>3</th>\n",
       "      <td>895</td>\n",
       "      <td>3</td>\n",
       "      <td>Wirz, Mr. Albert</td>\n",
       "      <td>male</td>\n",
       "      <td>27.0</td>\n",
       "      <td>0</td>\n",
       "      <td>0</td>\n",
       "      <td>315154</td>\n",
       "      <td>8.6625</td>\n",
       "      <td>NaN</td>\n",
       "      <td>S</td>\n",
       "    </tr>\n",
       "    <tr>\n",
       "      <th>4</th>\n",
       "      <td>896</td>\n",
       "      <td>3</td>\n",
       "      <td>Hirvonen, Mrs. Alexander (Helga E Lindqvist)</td>\n",
       "      <td>female</td>\n",
       "      <td>22.0</td>\n",
       "      <td>1</td>\n",
       "      <td>1</td>\n",
       "      <td>3101298</td>\n",
       "      <td>12.2875</td>\n",
       "      <td>NaN</td>\n",
       "      <td>S</td>\n",
       "    </tr>\n",
       "    <tr>\n",
       "      <th>5</th>\n",
       "      <td>897</td>\n",
       "      <td>3</td>\n",
       "      <td>Svensson, Mr. Johan Cervin</td>\n",
       "      <td>male</td>\n",
       "      <td>14.0</td>\n",
       "      <td>0</td>\n",
       "      <td>0</td>\n",
       "      <td>7538</td>\n",
       "      <td>9.2250</td>\n",
       "      <td>NaN</td>\n",
       "      <td>S</td>\n",
       "    </tr>\n",
       "    <tr>\n",
       "      <th>6</th>\n",
       "      <td>898</td>\n",
       "      <td>3</td>\n",
       "      <td>Connolly, Miss. Kate</td>\n",
       "      <td>female</td>\n",
       "      <td>30.0</td>\n",
       "      <td>0</td>\n",
       "      <td>0</td>\n",
       "      <td>330972</td>\n",
       "      <td>7.6292</td>\n",
       "      <td>NaN</td>\n",
       "      <td>Q</td>\n",
       "    </tr>\n",
       "    <tr>\n",
       "      <th>7</th>\n",
       "      <td>899</td>\n",
       "      <td>2</td>\n",
       "      <td>Caldwell, Mr. Albert Francis</td>\n",
       "      <td>male</td>\n",
       "      <td>26.0</td>\n",
       "      <td>1</td>\n",
       "      <td>1</td>\n",
       "      <td>248738</td>\n",
       "      <td>29.0000</td>\n",
       "      <td>NaN</td>\n",
       "      <td>S</td>\n",
       "    </tr>\n",
       "    <tr>\n",
       "      <th>8</th>\n",
       "      <td>900</td>\n",
       "      <td>3</td>\n",
       "      <td>Abrahim, Mrs. Joseph (Sophie Halaut Easu)</td>\n",
       "      <td>female</td>\n",
       "      <td>18.0</td>\n",
       "      <td>0</td>\n",
       "      <td>0</td>\n",
       "      <td>2657</td>\n",
       "      <td>7.2292</td>\n",
       "      <td>NaN</td>\n",
       "      <td>C</td>\n",
       "    </tr>\n",
       "    <tr>\n",
       "      <th>9</th>\n",
       "      <td>901</td>\n",
       "      <td>3</td>\n",
       "      <td>Davies, Mr. John Samuel</td>\n",
       "      <td>male</td>\n",
       "      <td>21.0</td>\n",
       "      <td>2</td>\n",
       "      <td>0</td>\n",
       "      <td>A/4 48871</td>\n",
       "      <td>24.1500</td>\n",
       "      <td>NaN</td>\n",
       "      <td>S</td>\n",
       "    </tr>\n",
       "  </tbody>\n",
       "</table>\n",
       "</div>"
      ],
      "text/plain": [
       "   PassengerId  Pclass                                          Name     Sex  \\\n",
       "0          892       3                              Kelly, Mr. James    male   \n",
       "1          893       3              Wilkes, Mrs. James (Ellen Needs)  female   \n",
       "2          894       2                     Myles, Mr. Thomas Francis    male   \n",
       "3          895       3                              Wirz, Mr. Albert    male   \n",
       "4          896       3  Hirvonen, Mrs. Alexander (Helga E Lindqvist)  female   \n",
       "5          897       3                    Svensson, Mr. Johan Cervin    male   \n",
       "6          898       3                          Connolly, Miss. Kate  female   \n",
       "7          899       2                  Caldwell, Mr. Albert Francis    male   \n",
       "8          900       3     Abrahim, Mrs. Joseph (Sophie Halaut Easu)  female   \n",
       "9          901       3                       Davies, Mr. John Samuel    male   \n",
       "\n",
       "    Age  SibSp  Parch     Ticket     Fare Cabin Embarked  \n",
       "0  34.5      0      0     330911   7.8292   NaN        Q  \n",
       "1  47.0      1      0     363272   7.0000   NaN        S  \n",
       "2  62.0      0      0     240276   9.6875   NaN        Q  \n",
       "3  27.0      0      0     315154   8.6625   NaN        S  \n",
       "4  22.0      1      1    3101298  12.2875   NaN        S  \n",
       "5  14.0      0      0       7538   9.2250   NaN        S  \n",
       "6  30.0      0      0     330972   7.6292   NaN        Q  \n",
       "7  26.0      1      1     248738  29.0000   NaN        S  \n",
       "8  18.0      0      0       2657   7.2292   NaN        C  \n",
       "9  21.0      2      0  A/4 48871  24.1500   NaN        S  "
      ]
     },
     "execution_count": 39,
     "metadata": {},
     "output_type": "execute_result"
    }
   ],
   "source": [
    "test_df = pd.read_csv(\"/kaggle/input/titanic/test.csv\")\n",
    "test_df.head(10)"
   ]
  },
  {
   "cell_type": "code",
   "execution_count": 40,
   "id": "bc0c0dbc",
   "metadata": {
    "execution": {
     "iopub.execute_input": "2025-02-01T17:59:24.889736Z",
     "iopub.status.busy": "2025-02-01T17:59:24.889512Z",
     "iopub.status.idle": "2025-02-01T17:59:24.893810Z",
     "shell.execute_reply": "2025-02-01T17:59:24.893006Z"
    },
    "papermill": {
     "duration": 0.026858,
     "end_time": "2025-02-01T17:59:24.895255",
     "exception": false,
     "start_time": "2025-02-01T17:59:24.868397",
     "status": "completed"
    },
    "tags": []
   },
   "outputs": [
    {
     "data": {
      "text/plain": [
       "418"
      ]
     },
     "execution_count": 40,
     "metadata": {},
     "output_type": "execute_result"
    }
   ],
   "source": [
    "len(test_df)"
   ]
  },
  {
   "cell_type": "code",
   "execution_count": 41,
   "id": "956f1d6d",
   "metadata": {
    "execution": {
     "iopub.execute_input": "2025-02-01T17:59:24.936627Z",
     "iopub.status.busy": "2025-02-01T17:59:24.936420Z",
     "iopub.status.idle": "2025-02-01T17:59:24.949998Z",
     "shell.execute_reply": "2025-02-01T17:59:24.949170Z"
    },
    "papermill": {
     "duration": 0.035658,
     "end_time": "2025-02-01T17:59:24.951399",
     "exception": false,
     "start_time": "2025-02-01T17:59:24.915741",
     "status": "completed"
    },
    "tags": []
   },
   "outputs": [
    {
     "data": {
      "text/plain": [
       "(tensor([0., 1., 0., 1., 0.]), tensor([]))"
      ]
     },
     "execution_count": 41,
     "metadata": {},
     "output_type": "execute_result"
    }
   ],
   "source": [
    "csv_file = \"/kaggle/input/titanic/test.csv\"\n",
    "target_col_list = []\n",
    "\n",
    "transforms = torchvision.transforms.Compose([FillNa(fill_na), \n",
    "                                             NormalizeCol(normalize_cols),\n",
    "                                             ConvertNumpyArrToFloat32Tensor()])\n",
    "\n",
    "entire_data_transform = torchvision.transforms.Compose([OneHotEncode(cat_cols),])\n",
    "\n",
    "final_test_dataset = CSVDataset(csv_file, features_col_list, target_col_list, transform=transforms, entire_data_transform=entire_data_transform)\n",
    "final_test_dataset[0]"
   ]
  },
  {
   "cell_type": "code",
   "execution_count": 42,
   "id": "75cb49e0",
   "metadata": {
    "execution": {
     "iopub.execute_input": "2025-02-01T17:59:24.994509Z",
     "iopub.status.busy": "2025-02-01T17:59:24.994293Z",
     "iopub.status.idle": "2025-02-01T17:59:24.998447Z",
     "shell.execute_reply": "2025-02-01T17:59:24.997618Z"
    },
    "papermill": {
     "duration": 0.027269,
     "end_time": "2025-02-01T17:59:24.999659",
     "exception": false,
     "start_time": "2025-02-01T17:59:24.972390",
     "status": "completed"
    },
    "tags": []
   },
   "outputs": [
    {
     "data": {
      "text/plain": [
       "418"
      ]
     },
     "execution_count": 42,
     "metadata": {},
     "output_type": "execute_result"
    }
   ],
   "source": [
    "len(final_test_dataset)"
   ]
  },
  {
   "cell_type": "code",
   "execution_count": 43,
   "id": "45724f23",
   "metadata": {
    "execution": {
     "iopub.execute_input": "2025-02-01T17:59:25.043039Z",
     "iopub.status.busy": "2025-02-01T17:59:25.042776Z",
     "iopub.status.idle": "2025-02-01T17:59:25.615366Z",
     "shell.execute_reply": "2025-02-01T17:59:25.614660Z"
    },
    "papermill": {
     "duration": 0.595871,
     "end_time": "2025-02-01T17:59:25.616854",
     "exception": false,
     "start_time": "2025-02-01T17:59:25.020983",
     "status": "completed"
    },
    "tags": []
   },
   "outputs": [],
   "source": [
    "final_test_loader = DataLoader(final_test_dataset, shuffle=False)\n",
    "\n",
    "pred = []\n",
    "with torch.no_grad():  # Disable gradient calculation\n",
    "    for inputs, labels in final_test_loader:\n",
    "        inputs = inputs.to(device)\n",
    "    \n",
    "        outputs = model(inputs)\n",
    "        predictions = torch.sigmoid(outputs)  # Apply sigmoid for binary classification\n",
    "        predicted_classes = (predictions > 0.5).float()  # Convert to binary (0 or 1)\n",
    "\n",
    "        pred.append(int(predicted_classes.item()))"
   ]
  },
  {
   "cell_type": "code",
   "execution_count": 44,
   "id": "7a7e9454",
   "metadata": {
    "execution": {
     "iopub.execute_input": "2025-02-01T17:59:25.659369Z",
     "iopub.status.busy": "2025-02-01T17:59:25.659099Z",
     "iopub.status.idle": "2025-02-01T17:59:25.663769Z",
     "shell.execute_reply": "2025-02-01T17:59:25.662982Z"
    },
    "papermill": {
     "duration": 0.02693,
     "end_time": "2025-02-01T17:59:25.665114",
     "exception": false,
     "start_time": "2025-02-01T17:59:25.638184",
     "status": "completed"
    },
    "tags": []
   },
   "outputs": [
    {
     "data": {
      "text/plain": [
       "418"
      ]
     },
     "execution_count": 44,
     "metadata": {},
     "output_type": "execute_result"
    }
   ],
   "source": [
    "len(final_test_loader)"
   ]
  },
  {
   "cell_type": "code",
   "execution_count": 45,
   "id": "bedff171",
   "metadata": {
    "execution": {
     "iopub.execute_input": "2025-02-01T17:59:25.708726Z",
     "iopub.status.busy": "2025-02-01T17:59:25.708481Z",
     "iopub.status.idle": "2025-02-01T17:59:25.717590Z",
     "shell.execute_reply": "2025-02-01T17:59:25.716984Z"
    },
    "papermill": {
     "duration": 0.03242,
     "end_time": "2025-02-01T17:59:25.718812",
     "exception": false,
     "start_time": "2025-02-01T17:59:25.686392",
     "status": "completed"
    },
    "tags": []
   },
   "outputs": [],
   "source": [
    "pred_df = pd.DataFrame(pred, columns=[\"Survived\"])\n",
    "pred_df[\"PassengerId\"] = test_df[\"PassengerId\"]\n",
    "pred_df.to_csv(\"pred.csv\", index=False)"
   ]
  },
  {
   "cell_type": "code",
   "execution_count": 46,
   "id": "e4113d4a",
   "metadata": {
    "execution": {
     "iopub.execute_input": "2025-02-01T17:59:25.761193Z",
     "iopub.status.busy": "2025-02-01T17:59:25.760951Z",
     "iopub.status.idle": "2025-02-01T17:59:25.767333Z",
     "shell.execute_reply": "2025-02-01T17:59:25.766489Z"
    },
    "papermill": {
     "duration": 0.028871,
     "end_time": "2025-02-01T17:59:25.768720",
     "exception": false,
     "start_time": "2025-02-01T17:59:25.739849",
     "status": "completed"
    },
    "tags": []
   },
   "outputs": [
    {
     "data": {
      "text/html": [
       "<div>\n",
       "<style scoped>\n",
       "    .dataframe tbody tr th:only-of-type {\n",
       "        vertical-align: middle;\n",
       "    }\n",
       "\n",
       "    .dataframe tbody tr th {\n",
       "        vertical-align: top;\n",
       "    }\n",
       "\n",
       "    .dataframe thead th {\n",
       "        text-align: right;\n",
       "    }\n",
       "</style>\n",
       "<table border=\"1\" class=\"dataframe\">\n",
       "  <thead>\n",
       "    <tr style=\"text-align: right;\">\n",
       "      <th></th>\n",
       "      <th>Survived</th>\n",
       "      <th>PassengerId</th>\n",
       "    </tr>\n",
       "  </thead>\n",
       "  <tbody>\n",
       "    <tr>\n",
       "      <th>0</th>\n",
       "      <td>0</td>\n",
       "      <td>892</td>\n",
       "    </tr>\n",
       "    <tr>\n",
       "      <th>1</th>\n",
       "      <td>1</td>\n",
       "      <td>893</td>\n",
       "    </tr>\n",
       "    <tr>\n",
       "      <th>2</th>\n",
       "      <td>0</td>\n",
       "      <td>894</td>\n",
       "    </tr>\n",
       "    <tr>\n",
       "      <th>3</th>\n",
       "      <td>0</td>\n",
       "      <td>895</td>\n",
       "    </tr>\n",
       "    <tr>\n",
       "      <th>4</th>\n",
       "      <td>1</td>\n",
       "      <td>896</td>\n",
       "    </tr>\n",
       "  </tbody>\n",
       "</table>\n",
       "</div>"
      ],
      "text/plain": [
       "   Survived  PassengerId\n",
       "0         0          892\n",
       "1         1          893\n",
       "2         0          894\n",
       "3         0          895\n",
       "4         1          896"
      ]
     },
     "execution_count": 46,
     "metadata": {},
     "output_type": "execute_result"
    }
   ],
   "source": [
    "pred_df.head()"
   ]
  },
  {
   "cell_type": "code",
   "execution_count": null,
   "id": "6bcb4bfd",
   "metadata": {
    "papermill": {
     "duration": 0.020926,
     "end_time": "2025-02-01T17:59:25.811665",
     "exception": false,
     "start_time": "2025-02-01T17:59:25.790739",
     "status": "completed"
    },
    "tags": []
   },
   "outputs": [],
   "source": []
  }
 ],
 "metadata": {
  "kaggle": {
   "accelerator": "nvidiaTeslaT4",
   "dataSources": [
    {
     "databundleVersionId": 26502,
     "sourceId": 3136,
     "sourceType": "competition"
    }
   ],
   "dockerImageVersionId": 30822,
   "isGpuEnabled": true,
   "isInternetEnabled": true,
   "language": "python",
   "sourceType": "notebook"
  },
  "kernelspec": {
   "display_name": "Python 3",
   "language": "python",
   "name": "python3"
  },
  "language_info": {
   "codemirror_mode": {
    "name": "ipython",
    "version": 3
   },
   "file_extension": ".py",
   "mimetype": "text/x-python",
   "name": "python",
   "nbconvert_exporter": "python",
   "pygments_lexer": "ipython3",
   "version": "3.10.12"
  },
  "papermill": {
   "default_parameters": {},
   "duration": 7671.161045,
   "end_time": "2025-02-01T17:59:29.261458",
   "environment_variables": {},
   "exception": null,
   "input_path": "__notebook__.ipynb",
   "output_path": "__notebook__.ipynb",
   "parameters": {},
   "start_time": "2025-02-01T15:51:38.100413",
   "version": "2.6.0"
  }
 },
 "nbformat": 4,
 "nbformat_minor": 5
}
