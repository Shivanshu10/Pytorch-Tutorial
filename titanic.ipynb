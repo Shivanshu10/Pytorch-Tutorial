{
 "cells": [
  {
   "cell_type": "code",
   "execution_count": 1,
   "id": "f4198a91",
   "metadata": {
    "_cell_guid": "b1076dfc-b9ad-4769-8c92-a6c4dae69d19",
    "_uuid": "8f2839f25d086af736a60e9eeb907d3b93b6e0e5",
    "execution": {
     "iopub.execute_input": "2025-01-29T09:26:57.945493Z",
     "iopub.status.busy": "2025-01-29T09:26:57.945199Z",
     "iopub.status.idle": "2025-01-29T09:26:59.757302Z",
     "shell.execute_reply": "2025-01-29T09:26:59.756177Z"
    },
    "papermill": {
     "duration": 1.822675,
     "end_time": "2025-01-29T09:26:59.758624",
     "exception": false,
     "start_time": "2025-01-29T09:26:57.935949",
     "status": "completed"
    },
    "tags": []
   },
   "outputs": [
    {
     "name": "stdout",
     "output_type": "stream",
     "text": [
      "/kaggle/input/titanic/train.csv\n",
      "/kaggle/input/titanic/test.csv\n",
      "/kaggle/input/titanic/gender_submission.csv\n"
     ]
    }
   ],
   "source": [
    "import numpy as np\n",
    "import pandas as pd\n",
    "import seaborn as sns\n",
    "import matplotlib.pyplot as plt\n",
    "import os\n",
    "for dirname, _, filenames in os.walk('/kaggle/input'):\n",
    "    for filename in filenames:\n",
    "        print(os.path.join(dirname, filename))"
   ]
  },
  {
   "cell_type": "markdown",
   "id": "23cdb541",
   "metadata": {
    "papermill": {
     "duration": 0.007674,
     "end_time": "2025-01-29T09:26:59.774827",
     "exception": false,
     "start_time": "2025-01-29T09:26:59.767153",
     "status": "completed"
    },
    "tags": []
   },
   "source": [
    "## Load Data"
   ]
  },
  {
   "cell_type": "code",
   "execution_count": 2,
   "id": "de7649df",
   "metadata": {
    "execution": {
     "iopub.execute_input": "2025-01-29T09:26:59.791349Z",
     "iopub.status.busy": "2025-01-29T09:26:59.791052Z",
     "iopub.status.idle": "2025-01-29T09:26:59.833192Z",
     "shell.execute_reply": "2025-01-29T09:26:59.832385Z"
    },
    "papermill": {
     "duration": 0.05186,
     "end_time": "2025-01-29T09:26:59.834460",
     "exception": false,
     "start_time": "2025-01-29T09:26:59.782600",
     "status": "completed"
    },
    "tags": []
   },
   "outputs": [
    {
     "data": {
      "text/html": [
       "<div>\n",
       "<style scoped>\n",
       "    .dataframe tbody tr th:only-of-type {\n",
       "        vertical-align: middle;\n",
       "    }\n",
       "\n",
       "    .dataframe tbody tr th {\n",
       "        vertical-align: top;\n",
       "    }\n",
       "\n",
       "    .dataframe thead th {\n",
       "        text-align: right;\n",
       "    }\n",
       "</style>\n",
       "<table border=\"1\" class=\"dataframe\">\n",
       "  <thead>\n",
       "    <tr style=\"text-align: right;\">\n",
       "      <th></th>\n",
       "      <th>Survived</th>\n",
       "      <th>Pclass</th>\n",
       "      <th>Name</th>\n",
       "      <th>Sex</th>\n",
       "      <th>Age</th>\n",
       "      <th>SibSp</th>\n",
       "      <th>Parch</th>\n",
       "      <th>Ticket</th>\n",
       "      <th>Fare</th>\n",
       "      <th>Cabin</th>\n",
       "      <th>Embarked</th>\n",
       "    </tr>\n",
       "    <tr>\n",
       "      <th>PassengerId</th>\n",
       "      <th></th>\n",
       "      <th></th>\n",
       "      <th></th>\n",
       "      <th></th>\n",
       "      <th></th>\n",
       "      <th></th>\n",
       "      <th></th>\n",
       "      <th></th>\n",
       "      <th></th>\n",
       "      <th></th>\n",
       "      <th></th>\n",
       "    </tr>\n",
       "  </thead>\n",
       "  <tbody>\n",
       "    <tr>\n",
       "      <th>1</th>\n",
       "      <td>0</td>\n",
       "      <td>3</td>\n",
       "      <td>Braund, Mr. Owen Harris</td>\n",
       "      <td>male</td>\n",
       "      <td>22.0</td>\n",
       "      <td>1</td>\n",
       "      <td>0</td>\n",
       "      <td>A/5 21171</td>\n",
       "      <td>7.2500</td>\n",
       "      <td>NaN</td>\n",
       "      <td>S</td>\n",
       "    </tr>\n",
       "    <tr>\n",
       "      <th>2</th>\n",
       "      <td>1</td>\n",
       "      <td>1</td>\n",
       "      <td>Cumings, Mrs. John Bradley (Florence Briggs Th...</td>\n",
       "      <td>female</td>\n",
       "      <td>38.0</td>\n",
       "      <td>1</td>\n",
       "      <td>0</td>\n",
       "      <td>PC 17599</td>\n",
       "      <td>71.2833</td>\n",
       "      <td>C85</td>\n",
       "      <td>C</td>\n",
       "    </tr>\n",
       "    <tr>\n",
       "      <th>3</th>\n",
       "      <td>1</td>\n",
       "      <td>3</td>\n",
       "      <td>Heikkinen, Miss. Laina</td>\n",
       "      <td>female</td>\n",
       "      <td>26.0</td>\n",
       "      <td>0</td>\n",
       "      <td>0</td>\n",
       "      <td>STON/O2. 3101282</td>\n",
       "      <td>7.9250</td>\n",
       "      <td>NaN</td>\n",
       "      <td>S</td>\n",
       "    </tr>\n",
       "    <tr>\n",
       "      <th>4</th>\n",
       "      <td>1</td>\n",
       "      <td>1</td>\n",
       "      <td>Futrelle, Mrs. Jacques Heath (Lily May Peel)</td>\n",
       "      <td>female</td>\n",
       "      <td>35.0</td>\n",
       "      <td>1</td>\n",
       "      <td>0</td>\n",
       "      <td>113803</td>\n",
       "      <td>53.1000</td>\n",
       "      <td>C123</td>\n",
       "      <td>S</td>\n",
       "    </tr>\n",
       "    <tr>\n",
       "      <th>5</th>\n",
       "      <td>0</td>\n",
       "      <td>3</td>\n",
       "      <td>Allen, Mr. William Henry</td>\n",
       "      <td>male</td>\n",
       "      <td>35.0</td>\n",
       "      <td>0</td>\n",
       "      <td>0</td>\n",
       "      <td>373450</td>\n",
       "      <td>8.0500</td>\n",
       "      <td>NaN</td>\n",
       "      <td>S</td>\n",
       "    </tr>\n",
       "    <tr>\n",
       "      <th>6</th>\n",
       "      <td>0</td>\n",
       "      <td>3</td>\n",
       "      <td>Moran, Mr. James</td>\n",
       "      <td>male</td>\n",
       "      <td>NaN</td>\n",
       "      <td>0</td>\n",
       "      <td>0</td>\n",
       "      <td>330877</td>\n",
       "      <td>8.4583</td>\n",
       "      <td>NaN</td>\n",
       "      <td>Q</td>\n",
       "    </tr>\n",
       "    <tr>\n",
       "      <th>7</th>\n",
       "      <td>0</td>\n",
       "      <td>1</td>\n",
       "      <td>McCarthy, Mr. Timothy J</td>\n",
       "      <td>male</td>\n",
       "      <td>54.0</td>\n",
       "      <td>0</td>\n",
       "      <td>0</td>\n",
       "      <td>17463</td>\n",
       "      <td>51.8625</td>\n",
       "      <td>E46</td>\n",
       "      <td>S</td>\n",
       "    </tr>\n",
       "    <tr>\n",
       "      <th>8</th>\n",
       "      <td>0</td>\n",
       "      <td>3</td>\n",
       "      <td>Palsson, Master. Gosta Leonard</td>\n",
       "      <td>male</td>\n",
       "      <td>2.0</td>\n",
       "      <td>3</td>\n",
       "      <td>1</td>\n",
       "      <td>349909</td>\n",
       "      <td>21.0750</td>\n",
       "      <td>NaN</td>\n",
       "      <td>S</td>\n",
       "    </tr>\n",
       "    <tr>\n",
       "      <th>9</th>\n",
       "      <td>1</td>\n",
       "      <td>3</td>\n",
       "      <td>Johnson, Mrs. Oscar W (Elisabeth Vilhelmina Berg)</td>\n",
       "      <td>female</td>\n",
       "      <td>27.0</td>\n",
       "      <td>0</td>\n",
       "      <td>2</td>\n",
       "      <td>347742</td>\n",
       "      <td>11.1333</td>\n",
       "      <td>NaN</td>\n",
       "      <td>S</td>\n",
       "    </tr>\n",
       "    <tr>\n",
       "      <th>10</th>\n",
       "      <td>1</td>\n",
       "      <td>2</td>\n",
       "      <td>Nasser, Mrs. Nicholas (Adele Achem)</td>\n",
       "      <td>female</td>\n",
       "      <td>14.0</td>\n",
       "      <td>1</td>\n",
       "      <td>0</td>\n",
       "      <td>237736</td>\n",
       "      <td>30.0708</td>\n",
       "      <td>NaN</td>\n",
       "      <td>C</td>\n",
       "    </tr>\n",
       "  </tbody>\n",
       "</table>\n",
       "</div>"
      ],
      "text/plain": [
       "             Survived  Pclass  \\\n",
       "PassengerId                     \n",
       "1                   0       3   \n",
       "2                   1       1   \n",
       "3                   1       3   \n",
       "4                   1       1   \n",
       "5                   0       3   \n",
       "6                   0       3   \n",
       "7                   0       1   \n",
       "8                   0       3   \n",
       "9                   1       3   \n",
       "10                  1       2   \n",
       "\n",
       "                                                          Name     Sex   Age  \\\n",
       "PassengerId                                                                    \n",
       "1                                      Braund, Mr. Owen Harris    male  22.0   \n",
       "2            Cumings, Mrs. John Bradley (Florence Briggs Th...  female  38.0   \n",
       "3                                       Heikkinen, Miss. Laina  female  26.0   \n",
       "4                 Futrelle, Mrs. Jacques Heath (Lily May Peel)  female  35.0   \n",
       "5                                     Allen, Mr. William Henry    male  35.0   \n",
       "6                                             Moran, Mr. James    male   NaN   \n",
       "7                                      McCarthy, Mr. Timothy J    male  54.0   \n",
       "8                               Palsson, Master. Gosta Leonard    male   2.0   \n",
       "9            Johnson, Mrs. Oscar W (Elisabeth Vilhelmina Berg)  female  27.0   \n",
       "10                         Nasser, Mrs. Nicholas (Adele Achem)  female  14.0   \n",
       "\n",
       "             SibSp  Parch            Ticket     Fare Cabin Embarked  \n",
       "PassengerId                                                          \n",
       "1                1      0         A/5 21171   7.2500   NaN        S  \n",
       "2                1      0          PC 17599  71.2833   C85        C  \n",
       "3                0      0  STON/O2. 3101282   7.9250   NaN        S  \n",
       "4                1      0            113803  53.1000  C123        S  \n",
       "5                0      0            373450   8.0500   NaN        S  \n",
       "6                0      0            330877   8.4583   NaN        Q  \n",
       "7                0      0             17463  51.8625   E46        S  \n",
       "8                3      1            349909  21.0750   NaN        S  \n",
       "9                0      2            347742  11.1333   NaN        S  \n",
       "10               1      0            237736  30.0708   NaN        C  "
      ]
     },
     "execution_count": 2,
     "metadata": {},
     "output_type": "execute_result"
    }
   ],
   "source": [
    "train_df = pd.read_csv(\"/kaggle/input/titanic/train.csv\", index_col=0)\n",
    "train_df.head(10)"
   ]
  },
  {
   "cell_type": "code",
   "execution_count": 3,
   "id": "f61e1062",
   "metadata": {
    "execution": {
     "iopub.execute_input": "2025-01-29T09:26:59.851518Z",
     "iopub.status.busy": "2025-01-29T09:26:59.851302Z",
     "iopub.status.idle": "2025-01-29T09:26:59.855154Z",
     "shell.execute_reply": "2025-01-29T09:26:59.854550Z"
    },
    "papermill": {
     "duration": 0.0139,
     "end_time": "2025-01-29T09:26:59.856438",
     "exception": false,
     "start_time": "2025-01-29T09:26:59.842538",
     "status": "completed"
    },
    "tags": []
   },
   "outputs": [
    {
     "data": {
      "text/plain": [
       "891"
      ]
     },
     "execution_count": 3,
     "metadata": {},
     "output_type": "execute_result"
    }
   ],
   "source": [
    "len(train_df)"
   ]
  },
  {
   "cell_type": "markdown",
   "id": "2413f32b",
   "metadata": {
    "papermill": {
     "duration": 0.00824,
     "end_time": "2025-01-29T09:26:59.872812",
     "exception": false,
     "start_time": "2025-01-29T09:26:59.864572",
     "status": "completed"
    },
    "tags": []
   },
   "source": [
    "## Explore Data"
   ]
  },
  {
   "attachments": {
    "32b3126c-ecdb-46fc-86b2-f22ddf6e6809.png": {
     "image/png": "[encoded data removed]"
    }
   },
   "cell_type": "markdown",
   "id": "57515024",
   "metadata": {
    "papermill": {
     "duration": 0.008304,
     "end_time": "2025-01-29T09:26:59.889583",
     "exception": false,
     "start_time": "2025-01-29T09:26:59.881279",
     "status": "completed"
    },
    "tags": []
   },
   "source": [
    "![image.png](attachment:32b3126c-ecdb-46fc-86b2-f22ddf6e6809.png)"
   ]
  },
  {
   "cell_type": "code",
   "execution_count": 4,
   "id": "271d2d93",
   "metadata": {
    "execution": {
     "iopub.execute_input": "2025-01-29T09:26:59.906323Z",
     "iopub.status.busy": "2025-01-29T09:26:59.906087Z",
     "iopub.status.idle": "2025-01-29T09:26:59.911309Z",
     "shell.execute_reply": "2025-01-29T09:26:59.910663Z"
    },
    "papermill": {
     "duration": 0.014915,
     "end_time": "2025-01-29T09:26:59.912511",
     "exception": false,
     "start_time": "2025-01-29T09:26:59.897596",
     "status": "completed"
    },
    "tags": []
   },
   "outputs": [
    {
     "data": {
      "text/plain": [
       "891"
      ]
     },
     "execution_count": 4,
     "metadata": {},
     "output_type": "execute_result"
    }
   ],
   "source": [
    "len(train_df)"
   ]
  },
  {
   "cell_type": "code",
   "execution_count": 5,
   "id": "ee62fe14",
   "metadata": {
    "execution": {
     "iopub.execute_input": "2025-01-29T09:26:59.929447Z",
     "iopub.status.busy": "2025-01-29T09:26:59.929250Z",
     "iopub.status.idle": "2025-01-29T09:26:59.950529Z",
     "shell.execute_reply": "2025-01-29T09:26:59.949860Z"
    },
    "papermill": {
     "duration": 0.031179,
     "end_time": "2025-01-29T09:26:59.951866",
     "exception": false,
     "start_time": "2025-01-29T09:26:59.920687",
     "status": "completed"
    },
    "tags": []
   },
   "outputs": [
    {
     "data": {
      "text/html": [
       "<div>\n",
       "<style scoped>\n",
       "    .dataframe tbody tr th:only-of-type {\n",
       "        vertical-align: middle;\n",
       "    }\n",
       "\n",
       "    .dataframe tbody tr th {\n",
       "        vertical-align: top;\n",
       "    }\n",
       "\n",
       "    .dataframe thead th {\n",
       "        text-align: right;\n",
       "    }\n",
       "</style>\n",
       "<table border=\"1\" class=\"dataframe\">\n",
       "  <thead>\n",
       "    <tr style=\"text-align: right;\">\n",
       "      <th></th>\n",
       "      <th>Survived</th>\n",
       "      <th>Pclass</th>\n",
       "      <th>Age</th>\n",
       "      <th>SibSp</th>\n",
       "      <th>Parch</th>\n",
       "      <th>Fare</th>\n",
       "    </tr>\n",
       "  </thead>\n",
       "  <tbody>\n",
       "    <tr>\n",
       "      <th>count</th>\n",
       "      <td>891.000000</td>\n",
       "      <td>891.000000</td>\n",
       "      <td>714.000000</td>\n",
       "      <td>891.000000</td>\n",
       "      <td>891.000000</td>\n",
       "      <td>891.000000</td>\n",
       "    </tr>\n",
       "    <tr>\n",
       "      <th>mean</th>\n",
       "      <td>0.383838</td>\n",
       "      <td>2.308642</td>\n",
       "      <td>29.699118</td>\n",
       "      <td>0.523008</td>\n",
       "      <td>0.381594</td>\n",
       "      <td>32.204208</td>\n",
       "    </tr>\n",
       "    <tr>\n",
       "      <th>std</th>\n",
       "      <td>0.486592</td>\n",
       "      <td>0.836071</td>\n",
       "      <td>14.526497</td>\n",
       "      <td>1.102743</td>\n",
       "      <td>0.806057</td>\n",
       "      <td>49.693429</td>\n",
       "    </tr>\n",
       "    <tr>\n",
       "      <th>min</th>\n",
       "      <td>0.000000</td>\n",
       "      <td>1.000000</td>\n",
       "      <td>0.420000</td>\n",
       "      <td>0.000000</td>\n",
       "      <td>0.000000</td>\n",
       "      <td>0.000000</td>\n",
       "    </tr>\n",
       "    <tr>\n",
       "      <th>25%</th>\n",
       "      <td>0.000000</td>\n",
       "      <td>2.000000</td>\n",
       "      <td>20.125000</td>\n",
       "      <td>0.000000</td>\n",
       "      <td>0.000000</td>\n",
       "      <td>7.910400</td>\n",
       "    </tr>\n",
       "    <tr>\n",
       "      <th>50%</th>\n",
       "      <td>0.000000</td>\n",
       "      <td>3.000000</td>\n",
       "      <td>28.000000</td>\n",
       "      <td>0.000000</td>\n",
       "      <td>0.000000</td>\n",
       "      <td>14.454200</td>\n",
       "    </tr>\n",
       "    <tr>\n",
       "      <th>75%</th>\n",
       "      <td>1.000000</td>\n",
       "      <td>3.000000</td>\n",
       "      <td>38.000000</td>\n",
       "      <td>1.000000</td>\n",
       "      <td>0.000000</td>\n",
       "      <td>31.000000</td>\n",
       "    </tr>\n",
       "    <tr>\n",
       "      <th>max</th>\n",
       "      <td>1.000000</td>\n",
       "      <td>3.000000</td>\n",
       "      <td>80.000000</td>\n",
       "      <td>8.000000</td>\n",
       "      <td>6.000000</td>\n",
       "      <td>512.329200</td>\n",
       "    </tr>\n",
       "  </tbody>\n",
       "</table>\n",
       "</div>"
      ],
      "text/plain": [
       "         Survived      Pclass         Age       SibSp       Parch        Fare\n",
       "count  891.000000  891.000000  714.000000  891.000000  891.000000  891.000000\n",
       "mean     0.383838    2.308642   29.699118    0.523008    0.381594   32.204208\n",
       "std      0.486592    0.836071   14.526497    1.102743    0.806057   49.693429\n",
       "min      0.000000    1.000000    0.420000    0.000000    0.000000    0.000000\n",
       "25%      0.000000    2.000000   20.125000    0.000000    0.000000    7.910400\n",
       "50%      0.000000    3.000000   28.000000    0.000000    0.000000   14.454200\n",
       "75%      1.000000    3.000000   38.000000    1.000000    0.000000   31.000000\n",
       "max      1.000000    3.000000   80.000000    8.000000    6.000000  512.329200"
      ]
     },
     "execution_count": 5,
     "metadata": {},
     "output_type": "execute_result"
    }
   ],
   "source": [
    "train_df.describe()"
   ]
  },
  {
   "cell_type": "code",
   "execution_count": 6,
   "id": "e112e954",
   "metadata": {
    "execution": {
     "iopub.execute_input": "2025-01-29T09:26:59.969759Z",
     "iopub.status.busy": "2025-01-29T09:26:59.969530Z",
     "iopub.status.idle": "2025-01-29T09:26:59.973624Z",
     "shell.execute_reply": "2025-01-29T09:26:59.972957Z"
    },
    "papermill": {
     "duration": 0.01397,
     "end_time": "2025-01-29T09:26:59.974716",
     "exception": false,
     "start_time": "2025-01-29T09:26:59.960746",
     "status": "completed"
    },
    "tags": []
   },
   "outputs": [
    {
     "name": "stdout",
     "output_type": "stream",
     "text": [
      "count of items to be dropped 177\n",
      "count of items left 714\n"
     ]
    }
   ],
   "source": [
    "# age has some null value\n",
    "# should we try dropping them for now?\n",
    "\n",
    "# count of rows that will be dropped\n",
    "print(f\"count of items to be dropped {len(train_df) - 714}\")\n",
    "\n",
    "# rows lefr\n",
    "print(f\"count of items left {len(train_df) - len(train_df) + 714}\")"
   ]
  },
  {
   "cell_type": "code",
   "execution_count": 7,
   "id": "fbee3ba9",
   "metadata": {
    "execution": {
     "iopub.execute_input": "2025-01-29T09:26:59.992386Z",
     "iopub.status.busy": "2025-01-29T09:26:59.992190Z",
     "iopub.status.idle": "2025-01-29T09:26:59.997427Z",
     "shell.execute_reply": "2025-01-29T09:26:59.996610Z"
    },
    "papermill": {
     "duration": 0.015403,
     "end_time": "2025-01-29T09:26:59.998656",
     "exception": false,
     "start_time": "2025-01-29T09:26:59.983253",
     "status": "completed"
    },
    "tags": []
   },
   "outputs": [
    {
     "data": {
      "text/plain": [
       "Survived      0\n",
       "Pclass        0\n",
       "Name          0\n",
       "Sex           0\n",
       "Age         177\n",
       "SibSp         0\n",
       "Parch         0\n",
       "Ticket        0\n",
       "Fare          0\n",
       "Cabin       687\n",
       "Embarked      2\n",
       "dtype: int64"
      ]
     },
     "execution_count": 7,
     "metadata": {},
     "output_type": "execute_result"
    }
   ],
   "source": [
    "train_df.isna().sum()"
   ]
  },
  {
   "cell_type": "code",
   "execution_count": 8,
   "id": "8de5825e",
   "metadata": {
    "execution": {
     "iopub.execute_input": "2025-01-29T09:27:00.016042Z",
     "iopub.status.busy": "2025-01-29T09:27:00.015837Z",
     "iopub.status.idle": "2025-01-29T09:27:00.018732Z",
     "shell.execute_reply": "2025-01-29T09:27:00.018134Z"
    },
    "papermill": {
     "duration": 0.012778,
     "end_time": "2025-01-29T09:27:00.019986",
     "exception": false,
     "start_time": "2025-01-29T09:27:00.007208",
     "status": "completed"
    },
    "tags": []
   },
   "outputs": [],
   "source": [
    "# cabin has 687 nulls, i dont think we can learn anything using it though"
   ]
  },
  {
   "cell_type": "code",
   "execution_count": 9,
   "id": "5efa6e7c",
   "metadata": {
    "execution": {
     "iopub.execute_input": "2025-01-29T09:27:00.037497Z",
     "iopub.status.busy": "2025-01-29T09:27:00.037250Z",
     "iopub.status.idle": "2025-01-29T09:27:00.044077Z",
     "shell.execute_reply": "2025-01-29T09:27:00.043265Z"
    },
    "papermill": {
     "duration": 0.01683,
     "end_time": "2025-01-29T09:27:00.045386",
     "exception": false,
     "start_time": "2025-01-29T09:27:00.028556",
     "status": "completed"
    },
    "tags": []
   },
   "outputs": [
    {
     "data": {
      "text/plain": [
       "Survived\n",
       "0    549\n",
       "1    342\n",
       "Name: count, dtype: int64"
      ]
     },
     "execution_count": 9,
     "metadata": {},
     "output_type": "execute_result"
    }
   ],
   "source": [
    "# lets check balance now\n",
    "train_df[\"Survived\"].value_counts()"
   ]
  },
  {
   "cell_type": "code",
   "execution_count": 10,
   "id": "b4a2f13a",
   "metadata": {
    "execution": {
     "iopub.execute_input": "2025-01-29T09:27:00.064287Z",
     "iopub.status.busy": "2025-01-29T09:27:00.064077Z",
     "iopub.status.idle": "2025-01-29T09:27:00.070020Z",
     "shell.execute_reply": "2025-01-29T09:27:00.069032Z"
    },
    "papermill": {
     "duration": 0.017112,
     "end_time": "2025-01-29T09:27:00.071274",
     "exception": false,
     "start_time": "2025-01-29T09:27:00.054162",
     "status": "completed"
    },
    "tags": []
   },
   "outputs": [
    {
     "name": "stdout",
     "output_type": "stream",
     "text": [
      "Survived\n",
      "0    61.616162\n",
      "1    38.383838\n",
      "Name: proportion, dtype: float64\n",
      "The dataset is balanced.\n"
     ]
    }
   ],
   "source": [
    "class_percentages = train_df[\"Survived\"].value_counts(normalize=True) * 100\n",
    "\n",
    "print(class_percentages)\n",
    "\n",
    "threshold = 70  # Adjust this as needed\n",
    "is_balanced = all(class_percentages < threshold)\n",
    "\n",
    "if is_balanced:\n",
    "    print(\"The dataset is balanced.\")\n",
    "else:\n",
    "    print(\"The dataset is imbalanced.\")"
   ]
  },
  {
   "cell_type": "code",
   "execution_count": 11,
   "id": "85dc9193",
   "metadata": {
    "execution": {
     "iopub.execute_input": "2025-01-29T09:27:00.089285Z",
     "iopub.status.busy": "2025-01-29T09:27:00.089092Z",
     "iopub.status.idle": "2025-01-29T09:27:00.091653Z",
     "shell.execute_reply": "2025-01-29T09:27:00.091048Z"
    },
    "papermill": {
     "duration": 0.012901,
     "end_time": "2025-01-29T09:27:00.092881",
     "exception": false,
     "start_time": "2025-01-29T09:27:00.079980",
     "status": "completed"
    },
    "tags": []
   },
   "outputs": [],
   "source": [
    "# so model can easily get 61% accuracy if it always predics 0\n",
    "# so this will be our basepoint"
   ]
  },
  {
   "cell_type": "code",
   "execution_count": 12,
   "id": "7044f7cd",
   "metadata": {
    "execution": {
     "iopub.execute_input": "2025-01-29T09:27:00.111150Z",
     "iopub.status.busy": "2025-01-29T09:27:00.110924Z",
     "iopub.status.idle": "2025-01-29T09:27:00.127875Z",
     "shell.execute_reply": "2025-01-29T09:27:00.127088Z"
    },
    "papermill": {
     "duration": 0.027611,
     "end_time": "2025-01-29T09:27:00.129143",
     "exception": false,
     "start_time": "2025-01-29T09:27:00.101532",
     "status": "completed"
    },
    "tags": []
   },
   "outputs": [
    {
     "name": "stdout",
     "output_type": "stream",
     "text": [
      "Column: Survived\n",
      "Outliers: 0\n",
      "Column: Pclass\n",
      "Outliers: 0\n",
      "Column: Age\n",
      "Outliers: 11\n",
      "Column: SibSp\n",
      "Outliers: 46\n",
      "Column: Parch\n",
      "Outliers: 213\n",
      "Column: Fare\n",
      "Outliers: 116\n"
     ]
    }
   ],
   "source": [
    "# check outliers\n",
    "# Identify outliers for each column\n",
    "for column in train_df.select_dtypes(include=[np.number]):  # Only numerical columns\n",
    "    Q1 = train_df[column].quantile(0.25)  # First quartile (25th percentile)\n",
    "    Q3 = train_df[column].quantile(0.75)  # Third quartile (75th percentile)\n",
    "    IQR = Q3 - Q1  # Interquartile range\n",
    "    lower_bound = Q1 - 1.5 * IQR\n",
    "    upper_bound = Q3 + 1.5 * IQR\n",
    "\n",
    "    print(f\"Column: {column}\")\n",
    "    print(f\"Outliers: {len(train_df[(train_df[column] < lower_bound) | (train_df[column] > upper_bound)][column].tolist())}\")"
   ]
  },
  {
   "cell_type": "markdown",
   "id": "616422d7",
   "metadata": {
    "papermill": {
     "duration": 0.008158,
     "end_time": "2025-01-29T09:27:00.146134",
     "exception": false,
     "start_time": "2025-01-29T09:27:00.137976",
     "status": "completed"
    },
    "tags": []
   },
   "source": [
    "## Create Dataset Class"
   ]
  },
  {
   "cell_type": "code",
   "execution_count": 13,
   "id": "1b84f29d",
   "metadata": {
    "execution": {
     "iopub.execute_input": "2025-01-29T09:27:00.163984Z",
     "iopub.status.busy": "2025-01-29T09:27:00.163573Z",
     "iopub.status.idle": "2025-01-29T09:27:00.352920Z",
     "shell.execute_reply": "2025-01-29T09:27:00.352062Z"
    },
    "papermill": {
     "duration": 0.199718,
     "end_time": "2025-01-29T09:27:00.354272",
     "exception": false,
     "start_time": "2025-01-29T09:27:00.154554",
     "status": "completed"
    },
    "tags": []
   },
   "outputs": [
    {
     "data": {
      "image/png": "[encoded data removed]",
      "text/plain": [
       "<Figure size 640x480 with 1 Axes>"
      ]
     },
     "metadata": {},
     "output_type": "display_data"
    }
   ],
   "source": [
    "sns.countplot(x='Sex', hue='Survived', data=train_df)\n",
    "\n",
    "total = len(train_df)\n",
    "\n",
    "# Add percentage annotations\n",
    "\n",
    "for p in plt.gca().patches:\n",
    "    height = p.get_height()\n",
    "    width = p.get_width()\n",
    "    x, y = p.get_xy()  # Get position of each bar\n",
    "    percentage = height / total * 100\n",
    "    plt.text(x + width / 2, y + height + 5, f'{percentage:.1f}%', ha='center')\n",
    "\n",
    "plt.title('Count of Survived vs. Not Survived by Gender')\n",
    "plt.xlabel('Gender')\n",
    "plt.ylabel('Count')\n",
    "plt.show()"
   ]
  },
  {
   "cell_type": "code",
   "execution_count": 14,
   "id": "1d705fa6",
   "metadata": {
    "execution": {
     "iopub.execute_input": "2025-01-29T09:27:00.374331Z",
     "iopub.status.busy": "2025-01-29T09:27:00.374073Z",
     "iopub.status.idle": "2025-01-29T09:27:00.639141Z",
     "shell.execute_reply": "2025-01-29T09:27:00.638230Z"
    },
    "papermill": {
     "duration": 0.276237,
     "end_time": "2025-01-29T09:27:00.640560",
     "exception": false,
     "start_time": "2025-01-29T09:27:00.364323",
     "status": "completed"
    },
    "tags": []
   },
   "outputs": [
    {
     "name": "stderr",
     "output_type": "stream",
     "text": [
      "/usr/local/lib/python3.10/dist-packages/seaborn/_oldcore.py:1119: FutureWarning: use_inf_as_na option is deprecated and will be removed in a future version. Convert inf values to NaN before operating instead.\n",
      "  with pd.option_context('mode.use_inf_as_na', True):\n"
     ]
    },
    {
     "data": {
      "image/png": "[encoded data removed]",
      "text/plain": [
       "<Figure size 640x480 with 1 Axes>"
      ]
     },
     "metadata": {},
     "output_type": "display_data"
    }
   ],
   "source": [
    "sns.histplot(x='Age', hue='Survived', data=train_df)\n",
    "plt.title('Count of Survived vs. Not Survived by Age')\n",
    "plt.xlabel('Age')\n",
    "plt.ylabel('Count')\n",
    "plt.show()"
   ]
  },
  {
   "cell_type": "code",
   "execution_count": 15,
   "id": "2e8862db",
   "metadata": {
    "execution": {
     "iopub.execute_input": "2025-01-29T09:27:00.662041Z",
     "iopub.status.busy": "2025-01-29T09:27:00.661770Z",
     "iopub.status.idle": "2025-01-29T09:27:00.667637Z",
     "shell.execute_reply": "2025-01-29T09:27:00.666762Z"
    },
    "papermill": {
     "duration": 0.017813,
     "end_time": "2025-01-29T09:27:00.668990",
     "exception": false,
     "start_time": "2025-01-29T09:27:00.651177",
     "status": "completed"
    },
    "tags": []
   },
   "outputs": [
    {
     "data": {
      "text/plain": [
       "Survived\n",
       "0    549\n",
       "1    342\n",
       "Name: count, dtype: int64"
      ]
     },
     "execution_count": 15,
     "metadata": {},
     "output_type": "execute_result"
    }
   ],
   "source": [
    "train_df[\"Survived\"].value_counts()"
   ]
  },
  {
   "cell_type": "code",
   "execution_count": 16,
   "id": "b511de8e",
   "metadata": {
    "execution": {
     "iopub.execute_input": "2025-01-29T09:27:00.689330Z",
     "iopub.status.busy": "2025-01-29T09:27:00.689120Z",
     "iopub.status.idle": "2025-01-29T09:27:05.591051Z",
     "shell.execute_reply": "2025-01-29T09:27:05.590008Z"
    },
    "papermill": {
     "duration": 4.913889,
     "end_time": "2025-01-29T09:27:05.592673",
     "exception": false,
     "start_time": "2025-01-29T09:27:00.678784",
     "status": "completed"
    },
    "tags": []
   },
   "outputs": [
    {
     "name": "stdout",
     "output_type": "stream",
     "text": [
      "Collecting torchviz\r\n",
      "  Downloading torchviz-0.0.3-py3-none-any.whl.metadata (2.1 kB)\r\n",
      "Requirement already satisfied: torch in /usr/local/lib/python3.10/dist-packages (from torchviz) (2.4.1+cu121)\r\n",
      "Requirement already satisfied: graphviz in /usr/local/lib/python3.10/dist-packages (from torchviz) (0.20.3)\r\n",
      "Requirement already satisfied: filelock in /usr/local/lib/python3.10/dist-packages (from torch->torchviz) (3.16.1)\r\n",
      "Requirement already satisfied: typing-extensions>=4.8.0 in /usr/local/lib/python3.10/dist-packages (from torch->torchviz) (4.12.2)\r\n",
      "Requirement already satisfied: sympy in /usr/local/lib/python3.10/dist-packages (from torch->torchviz) (1.13.3)\r\n",
      "Requirement already satisfied: networkx in /usr/local/lib/python3.10/dist-packages (from torch->torchviz) (3.3)\r\n",
      "Requirement already satisfied: jinja2 in /usr/local/lib/python3.10/dist-packages (from torch->torchviz) (3.1.4)\r\n",
      "Requirement already satisfied: fsspec in /usr/local/lib/python3.10/dist-packages (from torch->torchviz) (2024.6.1)\r\n",
      "Requirement already satisfied: MarkupSafe>=2.0 in /usr/local/lib/python3.10/dist-packages (from jinja2->torch->torchviz) (2.1.5)\r\n",
      "Requirement already satisfied: mpmath<1.4,>=1.1.0 in /usr/local/lib/python3.10/dist-packages (from sympy->torch->torchviz) (1.3.0)\r\n",
      "Downloading torchviz-0.0.3-py3-none-any.whl (5.7 kB)\r\n",
      "Installing collected packages: torchviz\r\n",
      "Successfully installed torchviz-0.0.3\r\n"
     ]
    }
   ],
   "source": [
    "!pip install torchviz"
   ]
  },
  {
   "cell_type": "code",
   "execution_count": 17,
   "id": "a45223f3",
   "metadata": {
    "execution": {
     "iopub.execute_input": "2025-01-29T09:27:05.614285Z",
     "iopub.status.busy": "2025-01-29T09:27:05.614019Z",
     "iopub.status.idle": "2025-01-29T09:27:10.198356Z",
     "shell.execute_reply": "2025-01-29T09:27:10.197350Z"
    },
    "papermill": {
     "duration": 4.597254,
     "end_time": "2025-01-29T09:27:10.200397",
     "exception": false,
     "start_time": "2025-01-29T09:27:05.603143",
     "status": "completed"
    },
    "tags": []
   },
   "outputs": [],
   "source": [
    "import torch\n",
    "from torch.utils.data import Dataset, DataLoader\n",
    "import torchvision\n",
    "import torch.nn as nn \n",
    "from torch.utils.data import random_split\n",
    "import math\n",
    "from torchviz import make_dot\n",
    "from IPython.display import Image"
   ]
  },
  {
   "cell_type": "code",
   "execution_count": 18,
   "id": "28c98e8c",
   "metadata": {
    "execution": {
     "iopub.execute_input": "2025-01-29T09:27:10.224599Z",
     "iopub.status.busy": "2025-01-29T09:27:10.224194Z",
     "iopub.status.idle": "2025-01-29T09:27:10.233128Z",
     "shell.execute_reply": "2025-01-29T09:27:10.232534Z"
    },
    "papermill": {
     "duration": 0.020686,
     "end_time": "2025-01-29T09:27:10.234304",
     "exception": false,
     "start_time": "2025-01-29T09:27:10.213618",
     "status": "completed"
    },
    "tags": []
   },
   "outputs": [],
   "source": [
    "torch.manual_seed(42); # seed rng for reproducibility"
   ]
  },
  {
   "cell_type": "code",
   "execution_count": 19,
   "id": "c49be7aa",
   "metadata": {
    "execution": {
     "iopub.execute_input": "2025-01-29T09:27:10.254942Z",
     "iopub.status.busy": "2025-01-29T09:27:10.254685Z",
     "iopub.status.idle": "2025-01-29T09:27:10.259913Z",
     "shell.execute_reply": "2025-01-29T09:27:10.259298Z"
    },
    "papermill": {
     "duration": 0.016955,
     "end_time": "2025-01-29T09:27:10.261152",
     "exception": false,
     "start_time": "2025-01-29T09:27:10.244197",
     "status": "completed"
    },
    "tags": []
   },
   "outputs": [],
   "source": [
    "class CSVDataset(Dataset):\n",
    "    def __init__(self, csv_path, features_col_list, target_col_list, transform=None, dropNa=False, fillNa=False):\n",
    "        # data loading\n",
    "        self.features_col_list = features_col_list\n",
    "        self.target_col_list = target_col_list\n",
    "        self.data = pd.read_csv(csv_path, index_col=0)\n",
    "        self.transform = transform\n",
    "\n",
    "        if (dropNa):\n",
    "            self.data.dropna(subset=features_col_list, inplace=True)\n",
    "\n",
    "        if (fillNa):\n",
    "            self.data[features_col_list] = self.data[features_col_list].fillna(0)\n",
    "\n",
    "    def __getitem__(self, index):\n",
    "        x = self.data.iloc[index][self.features_col_list]  # Features}\n",
    "        y = self.data.iloc[index][self.target_col_list]  # Target\n",
    "\n",
    "        # Apply transformations if specified\n",
    "        if self.transform:\n",
    "            x, y = self.transform((x,y))\n",
    "\n",
    "        return torch.tensor(x, dtype=torch.float32), torch.tensor(y, dtype=torch.float32)\n",
    "\n",
    "    def __len__(self):\n",
    "        # allow us to use len(dataset)\n",
    "        return len(self.data)"
   ]
  },
  {
   "cell_type": "code",
   "execution_count": 20,
   "id": "a8a13a15",
   "metadata": {
    "execution": {
     "iopub.execute_input": "2025-01-29T09:27:10.281673Z",
     "iopub.status.busy": "2025-01-29T09:27:10.281468Z",
     "iopub.status.idle": "2025-01-29T09:27:10.286355Z",
     "shell.execute_reply": "2025-01-29T09:27:10.285718Z"
    },
    "papermill": {
     "duration": 0.016327,
     "end_time": "2025-01-29T09:27:10.287494",
     "exception": false,
     "start_time": "2025-01-29T09:27:10.271167",
     "status": "completed"
    },
    "tags": []
   },
   "outputs": [],
   "source": [
    "class SexToNum():\n",
    "    def __call__(self, sample):\n",
    "        inputs, targets = sample\n",
    "\n",
    "        if (inputs[\"Sex\"] == \"male\"):\n",
    "            inputs[\"Sex\"] = 0\n",
    "        else:\n",
    "            inputs[\"Sex\"] = 1\n",
    "\n",
    "        return (inputs, targets)\n",
    "\n",
    "class NormalizeAge():\n",
    "    def __init__(self, minVal, maxVal):\n",
    "        self.minVal = minVal\n",
    "        self.maxVal = maxVal\n",
    "    \n",
    "    def __call__(self, sample):\n",
    "        inputs, targets = sample\n",
    "        inputs[\"Age\"] = (inputs[\"Age\"] - self.minVal) / (self.maxVal - self.minVal)\n",
    "        return (inputs, targets)\n",
    "\n",
    "class ConvertNumpyArrToFloat32():\n",
    "    def __call__(self, sample):\n",
    "        inputs, targets = sample\n",
    "        inputs = (inputs.values).astype(np.float32)\n",
    "        targets = (targets.values).astype(np.float32)\n",
    "        return (inputs, targets)"
   ]
  },
  {
   "cell_type": "code",
   "execution_count": 21,
   "id": "048dfa60",
   "metadata": {
    "execution": {
     "iopub.execute_input": "2025-01-29T09:27:10.308093Z",
     "iopub.status.busy": "2025-01-29T09:27:10.307880Z",
     "iopub.status.idle": "2025-01-29T09:27:10.393374Z",
     "shell.execute_reply": "2025-01-29T09:27:10.392712Z"
    },
    "papermill": {
     "duration": 0.097298,
     "end_time": "2025-01-29T09:27:10.394616",
     "exception": false,
     "start_time": "2025-01-29T09:27:10.297318",
     "status": "completed"
    },
    "tags": []
   },
   "outputs": [
    {
     "data": {
      "text/plain": [
       "(tensor([0.0000, 0.1467]), tensor([0.]))"
      ]
     },
     "execution_count": 21,
     "metadata": {},
     "output_type": "execute_result"
    }
   ],
   "source": [
    "csv_file = \"/kaggle/input/titanic/train.csv\"\n",
    "features_col_list = [\"Sex\", \"Age\"]\n",
    "target_col_list = [\"Survived\"]\n",
    "\n",
    "minAge = 0\n",
    "maxAge = 150\n",
    "transforms = torchvision.transforms.Compose([SexToNum(), NormalizeAge(minAge, maxAge), ConvertNumpyArrToFloat32()])\n",
    "\n",
    "dataset = CSVDataset(csv_file, features_col_list, target_col_list, transform=transforms, dropNa=True)\n",
    "dataset[0]"
   ]
  },
  {
   "cell_type": "code",
   "execution_count": 22,
   "id": "17b5090c",
   "metadata": {
    "execution": {
     "iopub.execute_input": "2025-01-29T09:27:10.415620Z",
     "iopub.status.busy": "2025-01-29T09:27:10.415408Z",
     "iopub.status.idle": "2025-01-29T09:27:10.419615Z",
     "shell.execute_reply": "2025-01-29T09:27:10.418864Z"
    },
    "papermill": {
     "duration": 0.016277,
     "end_time": "2025-01-29T09:27:10.420822",
     "exception": false,
     "start_time": "2025-01-29T09:27:10.404545",
     "status": "completed"
    },
    "tags": []
   },
   "outputs": [
    {
     "data": {
      "text/plain": [
       "714"
      ]
     },
     "execution_count": 22,
     "metadata": {},
     "output_type": "execute_result"
    }
   ],
   "source": [
    "len(dataset)"
   ]
  },
  {
   "cell_type": "code",
   "execution_count": 23,
   "id": "7f46f49e",
   "metadata": {
    "execution": {
     "iopub.execute_input": "2025-01-29T09:27:10.442042Z",
     "iopub.status.busy": "2025-01-29T09:27:10.441815Z",
     "iopub.status.idle": "2025-01-29T09:27:10.450715Z",
     "shell.execute_reply": "2025-01-29T09:27:10.449962Z"
    },
    "papermill": {
     "duration": 0.021044,
     "end_time": "2025-01-29T09:27:10.452033",
     "exception": false,
     "start_time": "2025-01-29T09:27:10.430989",
     "status": "completed"
    },
    "tags": []
   },
   "outputs": [],
   "source": [
    "# Define split ratios\n",
    "train_size = int(0.8 * len(dataset))  # 80% for training\n",
    "val_size = int(0.1 * len(dataset))    # 10% for validation\n",
    "test_size = len(dataset) - train_size - val_size  # Remaining for testing\n",
    "\n",
    "# Split dataset\n",
    "train_dataset, val_dataset, test_dataset = random_split(dataset, [train_size, val_size, test_size])"
   ]
  },
  {
   "cell_type": "code",
   "execution_count": 24,
   "id": "4bcb383b",
   "metadata": {
    "execution": {
     "iopub.execute_input": "2025-01-29T09:27:10.473385Z",
     "iopub.status.busy": "2025-01-29T09:27:10.473184Z",
     "iopub.status.idle": "2025-01-29T09:27:10.476611Z",
     "shell.execute_reply": "2025-01-29T09:27:10.476010Z"
    },
    "papermill": {
     "duration": 0.015744,
     "end_time": "2025-01-29T09:27:10.478002",
     "exception": false,
     "start_time": "2025-01-29T09:27:10.462258",
     "status": "completed"
    },
    "tags": []
   },
   "outputs": [],
   "source": [
    "# Define batch size\n",
    "# since we have less data\n",
    "batch_size = 16\n",
    "\n",
    "# Create DataLoaders\n",
    "train_loader = DataLoader(train_dataset, batch_size=batch_size, shuffle=False)\n",
    "val_loader = DataLoader(val_dataset, batch_size=batch_size, shuffle=False)\n",
    "test_loader = DataLoader(test_dataset, batch_size=batch_size, shuffle=False)"
   ]
  },
  {
   "cell_type": "code",
   "execution_count": 25,
   "id": "2f4aa384",
   "metadata": {
    "execution": {
     "iopub.execute_input": "2025-01-29T09:27:10.498498Z",
     "iopub.status.busy": "2025-01-29T09:27:10.498267Z",
     "iopub.status.idle": "2025-01-29T09:27:10.575636Z",
     "shell.execute_reply": "2025-01-29T09:27:10.574739Z"
    },
    "papermill": {
     "duration": 0.089095,
     "end_time": "2025-01-29T09:27:10.577035",
     "exception": false,
     "start_time": "2025-01-29T09:27:10.487940",
     "status": "completed"
    },
    "tags": []
   },
   "outputs": [
    {
     "name": "stdout",
     "output_type": "stream",
     "text": [
      "Using device: cuda\n"
     ]
    }
   ],
   "source": [
    "device = torch.device(\"cuda\" if torch.cuda.is_available() else \"cpu\")\n",
    "print(f\"Using device: {device}\")"
   ]
  },
  {
   "cell_type": "code",
   "execution_count": 26,
   "id": "ccbdeb88",
   "metadata": {
    "execution": {
     "iopub.execute_input": "2025-01-29T09:27:10.598733Z",
     "iopub.status.busy": "2025-01-29T09:27:10.598473Z",
     "iopub.status.idle": "2025-01-29T09:27:10.608738Z",
     "shell.execute_reply": "2025-01-29T09:27:10.607861Z"
    },
    "papermill": {
     "duration": 0.022629,
     "end_time": "2025-01-29T09:27:10.610160",
     "exception": false,
     "start_time": "2025-01-29T09:27:10.587531",
     "status": "completed"
    },
    "tags": []
   },
   "outputs": [],
   "source": [
    "# not correctly init\n",
    "hidden_neuron = 128\n",
    "debug = True\n",
    "\n",
    "class LinearLayer(nn.Linear):\n",
    "    def __init__(self, *args, **kwargs):\n",
    "        # Call the parent constructor to initialize the Linear layer\n",
    "        super().__init__(*args, **kwargs)\n",
    "        \n",
    "    def forward(self, x):\n",
    "        self.output = super().forward(x)\n",
    "        return self.output\n",
    "\n",
    "class LeakyReluLayer(nn.LeakyReLU):\n",
    "    def __init__(self, *args, **kwargs):\n",
    "        # Call the parent constructor to initialize the Linear layer\n",
    "        super().__init__(*args, **kwargs)\n",
    "        \n",
    "    def forward(self, x):\n",
    "        self.output = super().forward(x)\n",
    "        return self.output\n",
    "\n",
    "class TitanicSurvivalPredictor(nn.Module):\n",
    "    def __init__(self, hidden_neuron):\n",
    "        super().__init__()\n",
    "\n",
    "        # define layers\n",
    "        self.layers = nn.ModuleList([\n",
    "            LinearLayer(2, hidden_neuron),\n",
    "            LeakyReluLayer(),\n",
    "            LinearLayer(hidden_neuron, hidden_neuron),\n",
    "            LeakyReluLayer(),\n",
    "            # LinearLayer(hidden_neuron, hidden_neuron),\n",
    "            # LeakyReluLayer(),\n",
    "            LinearLayer(hidden_neuron, 1),\n",
    "        ])\n",
    "        \n",
    "    def forward(self, x):\n",
    "        for layer in self.layers:\n",
    "            x = layer(x)\n",
    "        return x\n",
    "\n",
    "    def parameters(self):\n",
    "        return [p for layer in self.layers for p in layer.parameters()]\n",
    "\n",
    "model = TitanicSurvivalPredictor(hidden_neuron)"
   ]
  },
  {
   "cell_type": "code",
   "execution_count": 27,
   "id": "6b186a8f",
   "metadata": {
    "execution": {
     "iopub.execute_input": "2025-01-29T09:27:10.631746Z",
     "iopub.status.busy": "2025-01-29T09:27:10.631499Z",
     "iopub.status.idle": "2025-01-29T09:27:10.655910Z",
     "shell.execute_reply": "2025-01-29T09:27:10.655039Z"
    },
    "papermill": {
     "duration": 0.036902,
     "end_time": "2025-01-29T09:27:10.657307",
     "exception": false,
     "start_time": "2025-01-29T09:27:10.620405",
     "status": "completed"
    },
    "tags": []
   },
   "outputs": [],
   "source": [
    "bce_loss = nn.BCEWithLogitsLoss()\n",
    "\n",
    "first_batch_input = None\n",
    "first_batch_label = None\n",
    "for inputs, labels in train_loader:\n",
    "    first_batch_input = inputs\n",
    "    first_batch_label = labels\n",
    "    break"
   ]
  },
  {
   "cell_type": "code",
   "execution_count": 28,
   "id": "e645811a",
   "metadata": {
    "execution": {
     "iopub.execute_input": "2025-01-29T09:27:10.678591Z",
     "iopub.status.busy": "2025-01-29T09:27:10.678334Z",
     "iopub.status.idle": "2025-01-29T09:27:10.707093Z",
     "shell.execute_reply": "2025-01-29T09:27:10.706212Z"
    },
    "papermill": {
     "duration": 0.040831,
     "end_time": "2025-01-29T09:27:10.708494",
     "exception": false,
     "start_time": "2025-01-29T09:27:10.667663",
     "status": "completed"
    },
    "tags": []
   },
   "outputs": [
    {
     "name": "stdout",
     "output_type": "stream",
     "text": [
      "init loss: 0.6760776042938232\n"
     ]
    }
   ],
   "source": [
    "first_batch_pred_logits = model(first_batch_input)\n",
    "loss = bce_loss(first_batch_pred_logits, first_batch_label)\n",
    "print(f\"init loss: {loss.item()}\")"
   ]
  },
  {
   "cell_type": "code",
   "execution_count": 29,
   "id": "f49ac3f0",
   "metadata": {
    "execution": {
     "iopub.execute_input": "2025-01-29T09:27:10.731482Z",
     "iopub.status.busy": "2025-01-29T09:27:10.731246Z",
     "iopub.status.idle": "2025-01-29T09:27:10.736580Z",
     "shell.execute_reply": "2025-01-29T09:27:10.735749Z"
    },
    "papermill": {
     "duration": 0.017451,
     "end_time": "2025-01-29T09:27:10.737909",
     "exception": false,
     "start_time": "2025-01-29T09:27:10.720458",
     "status": "completed"
    },
    "tags": []
   },
   "outputs": [],
   "source": [
    "@torch.no_grad()\n",
    "def initParam(model):\n",
    "    # Initialize weights using Xavier Normal\n",
    "    for i, layer in enumerate(model.layers):\n",
    "        if (isinstance(layer, LinearLayer)):\n",
    "            if (i<len(model.layers)-1):\n",
    "                nn.init.xavier_normal_(model.layers[i].weight, gain=torch.nn.init.calculate_gain(\"relu\"))\n",
    "            else:\n",
    "                nn.init.xavier_normal_(model.layers[i].weight, gain=torch.nn.init.calculate_gain(\"sigmoid\"))\n",
    "            if layer.bias is not None:\n",
    "                nn.init.zeros_(model.layers[i].bias)\n",
    "\n",
    "initParam(model)"
   ]
  },
  {
   "cell_type": "code",
   "execution_count": 30,
   "id": "81b3e44d",
   "metadata": {
    "execution": {
     "iopub.execute_input": "2025-01-29T09:27:10.759154Z",
     "iopub.status.busy": "2025-01-29T09:27:10.758930Z",
     "iopub.status.idle": "2025-01-29T09:27:10.765745Z",
     "shell.execute_reply": "2025-01-29T09:27:10.764943Z"
    },
    "papermill": {
     "duration": 0.019138,
     "end_time": "2025-01-29T09:27:10.767153",
     "exception": false,
     "start_time": "2025-01-29T09:27:10.748015",
     "status": "completed"
    },
    "tags": []
   },
   "outputs": [
    {
     "name": "stdout",
     "output_type": "stream",
     "text": [
      "init loss: 0.7266367077827454\n"
     ]
    }
   ],
   "source": [
    "first_batch_pred_logits = model(first_batch_input)\n",
    "loss = bce_loss(first_batch_pred_logits, first_batch_label)\n",
    "print(f\"init loss: {loss.item()}\")"
   ]
  },
  {
   "cell_type": "code",
   "execution_count": 31,
   "id": "7bf86d39",
   "metadata": {
    "execution": {
     "iopub.execute_input": "2025-01-29T09:27:10.788857Z",
     "iopub.status.busy": "2025-01-29T09:27:10.788606Z",
     "iopub.status.idle": "2025-01-29T09:37:17.472905Z",
     "shell.execute_reply": "2025-01-29T09:37:17.471971Z"
    },
    "papermill": {
     "duration": 606.706773,
     "end_time": "2025-01-29T09:37:17.484211",
     "exception": false,
     "start_time": "2025-01-29T09:27:10.777438",
     "status": "completed"
    },
    "tags": []
   },
   "outputs": [
    {
     "name": "stdout",
     "output_type": "stream",
     "text": [
      "Epoch 100/1000, Train Loss: -0.3090, Val Loss: -0.3270\n",
      "Epoch 200/1000, Train Loss: -0.3127, Val Loss: -0.3253\n",
      "Epoch 300/1000, Train Loss: -0.3145, Val Loss: -0.3237\n",
      "Epoch 400/1000, Train Loss: -0.3157, Val Loss: -0.3227\n",
      "Epoch 500/1000, Train Loss: -0.3189, Val Loss: -0.3239\n",
      "Epoch 600/1000, Train Loss: -0.3242, Val Loss: -0.3262\n",
      "Epoch 700/1000, Train Loss: -0.3275, Val Loss: -0.3266\n",
      "Epoch 800/1000, Train Loss: -0.3294, Val Loss: -0.3267\n",
      "Epoch 900/1000, Train Loss: -0.3304, Val Loss: -0.3260\n",
      "Epoch 1000/1000, Train Loss: -0.3314, Val Loss: -0.3268\n"
     ]
    }
   ],
   "source": [
    "# less lr rate since can overfit easily\n",
    "learning_rate = 1e-3\n",
    "# less epoch as can easily overfit\n",
    "num_epoch = 1000\n",
    "\n",
    "lossi_train = []\n",
    "lossi_val = []\n",
    "\n",
    "total_samples = len(train_dataset)\n",
    "n_iter = math.ceil(total_samples / batch_size)\n",
    "\n",
    "optimizer = torch.optim.AdamW(model.parameters(), lr=learning_rate)\n",
    "bce_loss = nn.BCEWithLogitsLoss()\n",
    "output_grads = []\n",
    "\n",
    "model = model.to(device)\n",
    "\n",
    "runFirstBatch = False\n",
    "for epoch in range(num_epoch):\n",
    "    train_loss = 0    \n",
    "    for i, (inputs, labels) in enumerate(train_loader):        \n",
    "        # forward pass\n",
    "        # print(f\"inputs: {inputs}\")\n",
    "        # print(f\"labels: {labels}\")\n",
    "        inputs = inputs.to(device)\n",
    "        labels = labels.to(device)\n",
    "\n",
    "        # print(f\"inputs device: {inputs.device}, labels device: {labels.device}, model device: {[param.device for param in model.parameters()]}\")\n",
    "\n",
    "        # reset grad\n",
    "        optimizer.zero_grad()\n",
    "        \n",
    "        pred = model(inputs)\n",
    "        # print(f\"pred: {pred}\")\n",
    "\n",
    "        # calc loss\n",
    "        loss = bce_loss(pred, labels)\n",
    "\n",
    "        if (debug):\n",
    "            for layer in model.layers:\n",
    "                layer.output.retain_grad() # save gradients of non leaf tensors also\n",
    "        \n",
    "        # backward pass\n",
    "        loss.backward()\n",
    "        optimizer.step()\n",
    "        loss = loss.log10()\n",
    "        train_loss += loss.item()\n",
    "\n",
    "        # if (debug):\n",
    "             # break\n",
    "\n",
    "    # copied it to array since running with no grad will set grad to None\n",
    "    if (debug):\n",
    "        curr_grads = {}\n",
    "        for i, layer in enumerate(model.layers):\n",
    "            curr_grads[f\"{layer.__class__.__name__}: {i}\"] = layer.output.grad.clone()\n",
    "\n",
    "        output_grads.append(curr_grads)\n",
    "    \n",
    "    train_loss /= len(train_loader)\n",
    "    lossi_train.append(train_loss)\n",
    "\n",
    "    # validation phase\n",
    "    model.eval()\n",
    "    with torch.no_grad():  # Disable gradient computation for validation\n",
    "        val_loss = 0\n",
    "        \n",
    "        for inputs, labels in val_loader:\n",
    "            inputs = inputs.to(device)\n",
    "            labels = labels.to(device)\n",
    "            \n",
    "            pred = model(inputs)\n",
    "            \n",
    "            loss = bce_loss(pred, labels)\n",
    "            loss = loss.log10()\n",
    "            val_loss += loss.item()\n",
    "        \n",
    "        val_loss /= len(val_loader)\n",
    "        lossi_val.append(val_loss)\n",
    "        \n",
    "\n",
    "    # reset to train mode\n",
    "    model.train()\n",
    "\n",
    "    if ((epoch+1)%100==0):\n",
    "        print(f\"Epoch {epoch+1}/{num_epoch}, Train Loss: {train_loss:.4f}, Val Loss: {val_loss:.4f}\")\n",
    "\n",
    "    # if (debug):\n",
    "        # break"
   ]
  },
  {
   "cell_type": "code",
   "execution_count": 32,
   "id": "a3cc9900",
   "metadata": {
    "execution": {
     "iopub.execute_input": "2025-01-29T09:37:17.506516Z",
     "iopub.status.busy": "2025-01-29T09:37:17.506245Z",
     "iopub.status.idle": "2025-01-29T09:37:17.736700Z",
     "shell.execute_reply": "2025-01-29T09:37:17.735888Z"
    },
    "papermill": {
     "duration": 0.242917,
     "end_time": "2025-01-29T09:37:17.738011",
     "exception": false,
     "start_time": "2025-01-29T09:37:17.495094",
     "status": "completed"
    },
    "tags": []
   },
   "outputs": [
    {
     "data": {
      "text/plain": [
       "[<matplotlib.lines.Line2D at 0x7c0a3808cf10>]"
      ]
     },
     "execution_count": 32,
     "metadata": {},
     "output_type": "execute_result"
    },
    {
     "data": {
      "image/png": "[encoded data removed]",
      "text/plain": [
       "<Figure size 640x480 with 1 Axes>"
      ]
     },
     "metadata": {},
     "output_type": "display_data"
    }
   ],
   "source": [
    "plt.plot(lossi_train, color=\"blue\")\n",
    "plt.plot(lossi_val, color=\"red\")"
   ]
  },
  {
   "cell_type": "code",
   "execution_count": 33,
   "id": "162e1cad",
   "metadata": {
    "execution": {
     "iopub.execute_input": "2025-01-29T09:37:17.799788Z",
     "iopub.status.busy": "2025-01-29T09:37:17.799459Z",
     "iopub.status.idle": "2025-01-29T09:37:18.156011Z",
     "shell.execute_reply": "2025-01-29T09:37:18.155101Z"
    },
    "papermill": {
     "duration": 0.407969,
     "end_time": "2025-01-29T09:37:18.157849",
     "exception": false,
     "start_time": "2025-01-29T09:37:17.749880",
     "status": "completed"
    },
    "tags": []
   },
   "outputs": [
    {
     "name": "stdout",
     "output_type": "stream",
     "text": [
      "layer 0 (LinearLayer): mean -0.01, std 0.08, saturated: 0.00%\n",
      "layer 1 (LeakyReluLayer): mean +0.02, std 0.04, saturated: 0.00%\n",
      "layer 2 (LinearLayer): mean -0.24, std 0.54, saturated: 9.60%\n",
      "layer 3 (LeakyReluLayer): mean +0.05, std 0.12, saturated: 0.11%\n",
      "layer 4 (LinearLayer): mean -0.91, std 1.36, saturated: 85.71%\n"
     ]
    },
    {
     "data": {
      "image/png": "[encoded data removed]",
      "text/plain": [
       "<Figure size 2000x400 with 1 Axes>"
      ]
     },
     "metadata": {},
     "output_type": "display_data"
    }
   ],
   "source": [
    "# visualize activations\n",
    "plt.figure(figsize=(20, 4))\n",
    "legends = []\n",
    "\n",
    "if (len(model.layers) > 1):\n",
    "    for i, layer in enumerate(model.layers): # exclude output layer\n",
    "        t = layer.output.cpu()\n",
    "        print('layer %d (%10s): mean %+.2f, std %.2f, saturated: %.2f%%' % (i, layer.__class__.__name__, t.mean(), t.std(), (t.abs() > 0.97).float().mean()*100))\n",
    "        hy, hx = torch.histogram(t, density=True)\n",
    "        plt.plot(hx[:-1].detach(), hy.detach())\n",
    "        legends.append(f'layer {i} ({layer.__class__.__name__})')\n",
    "    \n",
    "    plt.legend(legends)\n",
    "    plt.title(\"activation distribution\")"
   ]
  },
  {
   "cell_type": "code",
   "execution_count": 34,
   "id": "1b196416",
   "metadata": {
    "execution": {
     "iopub.execute_input": "2025-01-29T09:37:18.183507Z",
     "iopub.status.busy": "2025-01-29T09:37:18.183248Z",
     "iopub.status.idle": "2025-01-29T09:37:18.548845Z",
     "shell.execute_reply": "2025-01-29T09:37:18.547998Z"
    },
    "papermill": {
     "duration": 0.37952,
     "end_time": "2025-01-29T09:37:18.550372",
     "exception": false,
     "start_time": "2025-01-29T09:37:18.170852",
     "status": "completed"
    },
    "tags": []
   },
   "outputs": [
    {
     "name": "stdout",
     "output_type": "stream",
     "text": [
      "layer (LinearLayer: 0): mean +0.001996, std 3.327552e-02\n",
      "layer (LeakyReluLayer: 1): mean -0.019115, std 1.591016e-01\n",
      "layer (LinearLayer: 2): mean +0.000777, std 7.059667e-03\n",
      "layer (LeakyReluLayer: 3): mean -0.000397, std 2.273253e-02\n",
      "layer (LinearLayer: 4): mean -0.017489, std 4.552174e-02\n"
     ]
    },
    {
     "data": {
      "image/png": "[encoded data removed]",
      "text/plain": [
       "<Figure size 2000x400 with 1 Axes>"
      ]
     },
     "metadata": {},
     "output_type": "display_data"
    }
   ],
   "source": [
    "# visualize histograms\n",
    "plt.figure(figsize=(20, 4)) # width and height of the plot\n",
    "legends = []\n",
    "\n",
    "if (len(model.layers) > 1):\n",
    "    for layer_name, layer_grad in output_grads[-1].items(): # note: exclude the output layer\n",
    "        t = layer_grad.cpu()\n",
    "        print('layer (%10s): mean %+f, std %e' % (layer_name, t.mean(), t.std()))\n",
    "        hy, hx = torch.histogram(t, density=True)\n",
    "        plt.plot(hx[:-1].detach(), hy.detach())\n",
    "        legends.append(f'{layer_name}')\n",
    "\n",
    "    plt.legend(legends);\n",
    "    plt.title('gradient distribution')"
   ]
  },
  {
   "cell_type": "code",
   "execution_count": 35,
   "id": "207ff232",
   "metadata": {
    "execution": {
     "iopub.execute_input": "2025-01-29T09:37:18.577155Z",
     "iopub.status.busy": "2025-01-29T09:37:18.576908Z",
     "iopub.status.idle": "2025-01-29T09:37:18.694651Z",
     "shell.execute_reply": "2025-01-29T09:37:18.693841Z"
    },
    "papermill": {
     "duration": 0.132489,
     "end_time": "2025-01-29T09:37:18.695934",
     "exception": false,
     "start_time": "2025-01-29T09:37:18.563445",
     "status": "completed"
    },
    "tags": []
   },
   "outputs": [
    {
     "name": "stdout",
     "output_type": "stream",
     "text": [
      "Test Accuracy: 76.39%\n"
     ]
    }
   ],
   "source": [
    "model.eval()  # Set model to evaluation mode\n",
    "\n",
    "# Accuracy calculation\n",
    "correct = 0\n",
    "total = 0\n",
    "\n",
    "with torch.no_grad():  # Disable gradient calculation\n",
    "    for inputs, labels in test_loader:\n",
    "        inputs = inputs.to(device)\n",
    "        labels = labels.to(device)\n",
    "        \n",
    "        outputs = model(inputs)\n",
    "        predictions = torch.sigmoid(outputs)  # Apply sigmoid for binary classification\n",
    "        predicted_classes = (predictions > 0.5).float()  # Convert to binary (0 or 1)\n",
    "        correct += (predicted_classes == labels).sum().item()\n",
    "        total += labels.size(0)\n",
    "\n",
    "accuracy = correct / total\n",
    "print(f\"Test Accuracy: {accuracy * 100:.2f}%\")"
   ]
  },
  {
   "cell_type": "code",
   "execution_count": 36,
   "id": "4dcab65e",
   "metadata": {
    "execution": {
     "iopub.execute_input": "2025-01-29T09:37:18.722810Z",
     "iopub.status.busy": "2025-01-29T09:37:18.722552Z",
     "iopub.status.idle": "2025-01-29T09:37:19.230937Z",
     "shell.execute_reply": "2025-01-29T09:37:19.229913Z"
    },
    "papermill": {
     "duration": 0.523459,
     "end_time": "2025-01-29T09:37:19.232229",
     "exception": false,
     "start_time": "2025-01-29T09:37:18.708770",
     "status": "completed"
    },
    "tags": []
   },
   "outputs": [
    {
     "name": "stdout",
     "output_type": "stream",
     "text": [
      "Train Accuracy: 78.81%\n"
     ]
    }
   ],
   "source": [
    "model.eval()  # Set model to evaluation mode\n",
    "\n",
    "# Accuracy calculation\n",
    "correct = 0\n",
    "total = 0\n",
    "\n",
    "with torch.no_grad():  # Disable gradient calculation\n",
    "    for inputs, labels in train_loader:\n",
    "        inputs = inputs.to(device)\n",
    "        labels = labels.to(device)\n",
    "        \n",
    "        outputs = model(inputs)\n",
    "        predictions = torch.sigmoid(outputs)  # Apply sigmoid for binary classification\n",
    "        predicted_classes = (predictions > 0.5).float()  # Convert to binary (0 or 1)\n",
    "        correct += (predicted_classes == labels).sum().item()\n",
    "        total += labels.size(0)\n",
    "\n",
    "accuracy = correct / total\n",
    "print(f\"Train Accuracy: {accuracy * 100:.2f}%\")"
   ]
  },
  {
   "cell_type": "markdown",
   "id": "8009ae14",
   "metadata": {
    "papermill": {
     "duration": 0.012587,
     "end_time": "2025-01-29T09:37:19.257831",
     "exception": false,
     "start_time": "2025-01-29T09:37:19.245244",
     "status": "completed"
    },
    "tags": []
   },
   "source": [
    "## Test"
   ]
  },
  {
   "cell_type": "code",
   "execution_count": 37,
   "id": "2fa6b77a",
   "metadata": {
    "execution": {
     "iopub.execute_input": "2025-01-29T09:37:19.283843Z",
     "iopub.status.busy": "2025-01-29T09:37:19.283573Z",
     "iopub.status.idle": "2025-01-29T09:37:19.306774Z",
     "shell.execute_reply": "2025-01-29T09:37:19.305982Z"
    },
    "papermill": {
     "duration": 0.037732,
     "end_time": "2025-01-29T09:37:19.308097",
     "exception": false,
     "start_time": "2025-01-29T09:37:19.270365",
     "status": "completed"
    },
    "tags": []
   },
   "outputs": [
    {
     "data": {
      "text/html": [
       "<div>\n",
       "<style scoped>\n",
       "    .dataframe tbody tr th:only-of-type {\n",
       "        vertical-align: middle;\n",
       "    }\n",
       "\n",
       "    .dataframe tbody tr th {\n",
       "        vertical-align: top;\n",
       "    }\n",
       "\n",
       "    .dataframe thead th {\n",
       "        text-align: right;\n",
       "    }\n",
       "</style>\n",
       "<table border=\"1\" class=\"dataframe\">\n",
       "  <thead>\n",
       "    <tr style=\"text-align: right;\">\n",
       "      <th></th>\n",
       "      <th>PassengerId</th>\n",
       "      <th>Pclass</th>\n",
       "      <th>Name</th>\n",
       "      <th>Sex</th>\n",
       "      <th>Age</th>\n",
       "      <th>SibSp</th>\n",
       "      <th>Parch</th>\n",
       "      <th>Ticket</th>\n",
       "      <th>Fare</th>\n",
       "      <th>Cabin</th>\n",
       "      <th>Embarked</th>\n",
       "    </tr>\n",
       "  </thead>\n",
       "  <tbody>\n",
       "    <tr>\n",
       "      <th>0</th>\n",
       "      <td>892</td>\n",
       "      <td>3</td>\n",
       "      <td>Kelly, Mr. James</td>\n",
       "      <td>male</td>\n",
       "      <td>34.5</td>\n",
       "      <td>0</td>\n",
       "      <td>0</td>\n",
       "      <td>330911</td>\n",
       "      <td>7.8292</td>\n",
       "      <td>NaN</td>\n",
       "      <td>Q</td>\n",
       "    </tr>\n",
       "    <tr>\n",
       "      <th>1</th>\n",
       "      <td>893</td>\n",
       "      <td>3</td>\n",
       "      <td>Wilkes, Mrs. James (Ellen Needs)</td>\n",
       "      <td>female</td>\n",
       "      <td>47.0</td>\n",
       "      <td>1</td>\n",
       "      <td>0</td>\n",
       "      <td>363272</td>\n",
       "      <td>7.0000</td>\n",
       "      <td>NaN</td>\n",
       "      <td>S</td>\n",
       "    </tr>\n",
       "    <tr>\n",
       "      <th>2</th>\n",
       "      <td>894</td>\n",
       "      <td>2</td>\n",
       "      <td>Myles, Mr. Thomas Francis</td>\n",
       "      <td>male</td>\n",
       "      <td>62.0</td>\n",
       "      <td>0</td>\n",
       "      <td>0</td>\n",
       "      <td>240276</td>\n",
       "      <td>9.6875</td>\n",
       "      <td>NaN</td>\n",
       "      <td>Q</td>\n",
       "    </tr>\n",
       "    <tr>\n",
       "      <th>3</th>\n",
       "      <td>895</td>\n",
       "      <td>3</td>\n",
       "      <td>Wirz, Mr. Albert</td>\n",
       "      <td>male</td>\n",
       "      <td>27.0</td>\n",
       "      <td>0</td>\n",
       "      <td>0</td>\n",
       "      <td>315154</td>\n",
       "      <td>8.6625</td>\n",
       "      <td>NaN</td>\n",
       "      <td>S</td>\n",
       "    </tr>\n",
       "    <tr>\n",
       "      <th>4</th>\n",
       "      <td>896</td>\n",
       "      <td>3</td>\n",
       "      <td>Hirvonen, Mrs. Alexander (Helga E Lindqvist)</td>\n",
       "      <td>female</td>\n",
       "      <td>22.0</td>\n",
       "      <td>1</td>\n",
       "      <td>1</td>\n",
       "      <td>3101298</td>\n",
       "      <td>12.2875</td>\n",
       "      <td>NaN</td>\n",
       "      <td>S</td>\n",
       "    </tr>\n",
       "    <tr>\n",
       "      <th>5</th>\n",
       "      <td>897</td>\n",
       "      <td>3</td>\n",
       "      <td>Svensson, Mr. Johan Cervin</td>\n",
       "      <td>male</td>\n",
       "      <td>14.0</td>\n",
       "      <td>0</td>\n",
       "      <td>0</td>\n",
       "      <td>7538</td>\n",
       "      <td>9.2250</td>\n",
       "      <td>NaN</td>\n",
       "      <td>S</td>\n",
       "    </tr>\n",
       "    <tr>\n",
       "      <th>6</th>\n",
       "      <td>898</td>\n",
       "      <td>3</td>\n",
       "      <td>Connolly, Miss. Kate</td>\n",
       "      <td>female</td>\n",
       "      <td>30.0</td>\n",
       "      <td>0</td>\n",
       "      <td>0</td>\n",
       "      <td>330972</td>\n",
       "      <td>7.6292</td>\n",
       "      <td>NaN</td>\n",
       "      <td>Q</td>\n",
       "    </tr>\n",
       "    <tr>\n",
       "      <th>7</th>\n",
       "      <td>899</td>\n",
       "      <td>2</td>\n",
       "      <td>Caldwell, Mr. Albert Francis</td>\n",
       "      <td>male</td>\n",
       "      <td>26.0</td>\n",
       "      <td>1</td>\n",
       "      <td>1</td>\n",
       "      <td>248738</td>\n",
       "      <td>29.0000</td>\n",
       "      <td>NaN</td>\n",
       "      <td>S</td>\n",
       "    </tr>\n",
       "    <tr>\n",
       "      <th>8</th>\n",
       "      <td>900</td>\n",
       "      <td>3</td>\n",
       "      <td>Abrahim, Mrs. Joseph (Sophie Halaut Easu)</td>\n",
       "      <td>female</td>\n",
       "      <td>18.0</td>\n",
       "      <td>0</td>\n",
       "      <td>0</td>\n",
       "      <td>2657</td>\n",
       "      <td>7.2292</td>\n",
       "      <td>NaN</td>\n",
       "      <td>C</td>\n",
       "    </tr>\n",
       "    <tr>\n",
       "      <th>9</th>\n",
       "      <td>901</td>\n",
       "      <td>3</td>\n",
       "      <td>Davies, Mr. John Samuel</td>\n",
       "      <td>male</td>\n",
       "      <td>21.0</td>\n",
       "      <td>2</td>\n",
       "      <td>0</td>\n",
       "      <td>A/4 48871</td>\n",
       "      <td>24.1500</td>\n",
       "      <td>NaN</td>\n",
       "      <td>S</td>\n",
       "    </tr>\n",
       "  </tbody>\n",
       "</table>\n",
       "</div>"
      ],
      "text/plain": [
       "   PassengerId  Pclass                                          Name     Sex  \\\n",
       "0          892       3                              Kelly, Mr. James    male   \n",
       "1          893       3              Wilkes, Mrs. James (Ellen Needs)  female   \n",
       "2          894       2                     Myles, Mr. Thomas Francis    male   \n",
       "3          895       3                              Wirz, Mr. Albert    male   \n",
       "4          896       3  Hirvonen, Mrs. Alexander (Helga E Lindqvist)  female   \n",
       "5          897       3                    Svensson, Mr. Johan Cervin    male   \n",
       "6          898       3                          Connolly, Miss. Kate  female   \n",
       "7          899       2                  Caldwell, Mr. Albert Francis    male   \n",
       "8          900       3     Abrahim, Mrs. Joseph (Sophie Halaut Easu)  female   \n",
       "9          901       3                       Davies, Mr. John Samuel    male   \n",
       "\n",
       "    Age  SibSp  Parch     Ticket     Fare Cabin Embarked  \n",
       "0  34.5      0      0     330911   7.8292   NaN        Q  \n",
       "1  47.0      1      0     363272   7.0000   NaN        S  \n",
       "2  62.0      0      0     240276   9.6875   NaN        Q  \n",
       "3  27.0      0      0     315154   8.6625   NaN        S  \n",
       "4  22.0      1      1    3101298  12.2875   NaN        S  \n",
       "5  14.0      0      0       7538   9.2250   NaN        S  \n",
       "6  30.0      0      0     330972   7.6292   NaN        Q  \n",
       "7  26.0      1      1     248738  29.0000   NaN        S  \n",
       "8  18.0      0      0       2657   7.2292   NaN        C  \n",
       "9  21.0      2      0  A/4 48871  24.1500   NaN        S  "
      ]
     },
     "execution_count": 37,
     "metadata": {},
     "output_type": "execute_result"
    }
   ],
   "source": [
    "test_df = pd.read_csv(\"/kaggle/input/titanic/test.csv\")\n",
    "test_df.head(10)"
   ]
  },
  {
   "cell_type": "code",
   "execution_count": 38,
   "id": "67bf8bc0",
   "metadata": {
    "execution": {
     "iopub.execute_input": "2025-01-29T09:37:19.334579Z",
     "iopub.status.busy": "2025-01-29T09:37:19.334357Z",
     "iopub.status.idle": "2025-01-29T09:37:19.338629Z",
     "shell.execute_reply": "2025-01-29T09:37:19.337864Z"
    },
    "papermill": {
     "duration": 0.01863,
     "end_time": "2025-01-29T09:37:19.339860",
     "exception": false,
     "start_time": "2025-01-29T09:37:19.321230",
     "status": "completed"
    },
    "tags": []
   },
   "outputs": [
    {
     "data": {
      "text/plain": [
       "418"
      ]
     },
     "execution_count": 38,
     "metadata": {},
     "output_type": "execute_result"
    }
   ],
   "source": [
    "len(test_df)"
   ]
  },
  {
   "cell_type": "code",
   "execution_count": 39,
   "id": "567c81ba",
   "metadata": {
    "execution": {
     "iopub.execute_input": "2025-01-29T09:37:19.366595Z",
     "iopub.status.busy": "2025-01-29T09:37:19.366336Z",
     "iopub.status.idle": "2025-01-29T09:37:19.377557Z",
     "shell.execute_reply": "2025-01-29T09:37:19.377006Z"
    },
    "papermill": {
     "duration": 0.026055,
     "end_time": "2025-01-29T09:37:19.378722",
     "exception": false,
     "start_time": "2025-01-29T09:37:19.352667",
     "status": "completed"
    },
    "tags": []
   },
   "outputs": [
    {
     "data": {
      "text/plain": [
       "(tensor([0.0000, 0.2300]), tensor([]))"
      ]
     },
     "execution_count": 39,
     "metadata": {},
     "output_type": "execute_result"
    }
   ],
   "source": [
    "csv_file = \"/kaggle/input/titanic/test.csv\"\n",
    "target_col_list = []\n",
    "\n",
    "transforms = torchvision.transforms.Compose([SexToNum(), NormalizeAge(minAge, maxAge), ConvertNumpyArrToFloat32()])\n",
    "\n",
    "final_test_dataset = CSVDataset(csv_file, features_col_list, target_col_list, transform=transforms, fillNa=True)\n",
    "final_test_dataset[0]"
   ]
  },
  {
   "cell_type": "code",
   "execution_count": 40,
   "id": "45591a9e",
   "metadata": {
    "execution": {
     "iopub.execute_input": "2025-01-29T09:37:19.406788Z",
     "iopub.status.busy": "2025-01-29T09:37:19.406574Z",
     "iopub.status.idle": "2025-01-29T09:37:19.410705Z",
     "shell.execute_reply": "2025-01-29T09:37:19.410021Z"
    },
    "papermill": {
     "duration": 0.01998,
     "end_time": "2025-01-29T09:37:19.411986",
     "exception": false,
     "start_time": "2025-01-29T09:37:19.392006",
     "status": "completed"
    },
    "tags": []
   },
   "outputs": [
    {
     "data": {
      "text/plain": [
       "418"
      ]
     },
     "execution_count": 40,
     "metadata": {},
     "output_type": "execute_result"
    }
   ],
   "source": [
    "len(final_test_dataset)"
   ]
  },
  {
   "cell_type": "code",
   "execution_count": 41,
   "id": "bcfecf4e",
   "metadata": {
    "execution": {
     "iopub.execute_input": "2025-01-29T09:37:19.439148Z",
     "iopub.status.busy": "2025-01-29T09:37:19.438948Z",
     "iopub.status.idle": "2025-01-29T09:37:19.959383Z",
     "shell.execute_reply": "2025-01-29T09:37:19.958525Z"
    },
    "papermill": {
     "duration": 0.535792,
     "end_time": "2025-01-29T09:37:19.960875",
     "exception": false,
     "start_time": "2025-01-29T09:37:19.425083",
     "status": "completed"
    },
    "tags": []
   },
   "outputs": [],
   "source": [
    "final_test_loader = DataLoader(final_test_dataset, shuffle=False)\n",
    "\n",
    "pred = []\n",
    "with torch.no_grad():  # Disable gradient calculation\n",
    "    for inputs, labels in final_test_loader:\n",
    "        inputs = inputs.to(device)\n",
    "    \n",
    "        outputs = model(inputs)\n",
    "        predictions = torch.sigmoid(outputs)  # Apply sigmoid for binary classification\n",
    "        predicted_classes = (predictions > 0.5).float()  # Convert to binary (0 or 1)\n",
    "\n",
    "        pred.append(int(predicted_classes.item()))"
   ]
  },
  {
   "cell_type": "code",
   "execution_count": 42,
   "id": "d9f0f584",
   "metadata": {
    "execution": {
     "iopub.execute_input": "2025-01-29T09:37:19.989617Z",
     "iopub.status.busy": "2025-01-29T09:37:19.989321Z",
     "iopub.status.idle": "2025-01-29T09:37:19.994040Z",
     "shell.execute_reply": "2025-01-29T09:37:19.993301Z"
    },
    "papermill": {
     "duration": 0.020506,
     "end_time": "2025-01-29T09:37:19.995102",
     "exception": false,
     "start_time": "2025-01-29T09:37:19.974596",
     "status": "completed"
    },
    "tags": []
   },
   "outputs": [
    {
     "data": {
      "text/plain": [
       "418"
      ]
     },
     "execution_count": 42,
     "metadata": {},
     "output_type": "execute_result"
    }
   ],
   "source": [
    "len(final_test_loader)"
   ]
  },
  {
   "cell_type": "code",
   "execution_count": 43,
   "id": "4e33961d",
   "metadata": {
    "execution": {
     "iopub.execute_input": "2025-01-29T09:37:20.022817Z",
     "iopub.status.busy": "2025-01-29T09:37:20.022560Z",
     "iopub.status.idle": "2025-01-29T09:37:20.029710Z",
     "shell.execute_reply": "2025-01-29T09:37:20.029126Z"
    },
    "papermill": {
     "duration": 0.022714,
     "end_time": "2025-01-29T09:37:20.031145",
     "exception": false,
     "start_time": "2025-01-29T09:37:20.008431",
     "status": "completed"
    },
    "tags": []
   },
   "outputs": [],
   "source": [
    "pred_df = pd.DataFrame(pred, columns=[\"Survived\"])\n",
    "pred_df[\"PassengerId\"] = test_df[\"PassengerId\"]\n",
    "pred_df.to_csv(\"pred.csv\", index=False)"
   ]
  },
  {
   "cell_type": "code",
   "execution_count": 44,
   "id": "b0b10eae",
   "metadata": {
    "execution": {
     "iopub.execute_input": "2025-01-29T09:37:20.058683Z",
     "iopub.status.busy": "2025-01-29T09:37:20.058467Z",
     "iopub.status.idle": "2025-01-29T09:37:20.064609Z",
     "shell.execute_reply": "2025-01-29T09:37:20.063855Z"
    },
    "papermill": {
     "duration": 0.021456,
     "end_time": "2025-01-29T09:37:20.065915",
     "exception": false,
     "start_time": "2025-01-29T09:37:20.044459",
     "status": "completed"
    },
    "tags": []
   },
   "outputs": [
    {
     "data": {
      "text/html": [
       "<div>\n",
       "<style scoped>\n",
       "    .dataframe tbody tr th:only-of-type {\n",
       "        vertical-align: middle;\n",
       "    }\n",
       "\n",
       "    .dataframe tbody tr th {\n",
       "        vertical-align: top;\n",
       "    }\n",
       "\n",
       "    .dataframe thead th {\n",
       "        text-align: right;\n",
       "    }\n",
       "</style>\n",
       "<table border=\"1\" class=\"dataframe\">\n",
       "  <thead>\n",
       "    <tr style=\"text-align: right;\">\n",
       "      <th></th>\n",
       "      <th>Survived</th>\n",
       "      <th>PassengerId</th>\n",
       "    </tr>\n",
       "  </thead>\n",
       "  <tbody>\n",
       "    <tr>\n",
       "      <th>0</th>\n",
       "      <td>0</td>\n",
       "      <td>892</td>\n",
       "    </tr>\n",
       "    <tr>\n",
       "      <th>1</th>\n",
       "      <td>1</td>\n",
       "      <td>893</td>\n",
       "    </tr>\n",
       "    <tr>\n",
       "      <th>2</th>\n",
       "      <td>0</td>\n",
       "      <td>894</td>\n",
       "    </tr>\n",
       "    <tr>\n",
       "      <th>3</th>\n",
       "      <td>0</td>\n",
       "      <td>895</td>\n",
       "    </tr>\n",
       "    <tr>\n",
       "      <th>4</th>\n",
       "      <td>1</td>\n",
       "      <td>896</td>\n",
       "    </tr>\n",
       "  </tbody>\n",
       "</table>\n",
       "</div>"
      ],
      "text/plain": [
       "   Survived  PassengerId\n",
       "0         0          892\n",
       "1         1          893\n",
       "2         0          894\n",
       "3         0          895\n",
       "4         1          896"
      ]
     },
     "execution_count": 44,
     "metadata": {},
     "output_type": "execute_result"
    }
   ],
   "source": [
    "pred_df.head()"
   ]
  }
 ],
 "metadata": {
  "kaggle": {
   "accelerator": "nvidiaTeslaT4",
   "dataSources": [
    {
     "databundleVersionId": 26502,
     "sourceId": 3136,
     "sourceType": "competition"
    }
   ],
   "dockerImageVersionId": 30822,
   "isGpuEnabled": true,
   "isInternetEnabled": true,
   "language": "python",
   "sourceType": "notebook"
  },
  "kernelspec": {
   "display_name": "Python 3",
   "language": "python",
   "name": "python3"
  },
  "language_info": {
   "codemirror_mode": {
    "name": "ipython",
    "version": 3
   },
   "file_extension": ".py",
   "mimetype": "text/x-python",
   "name": "python",
   "nbconvert_exporter": "python",
   "pygments_lexer": "ipython3",
   "version": "3.10.12"
  },
  "papermill": {
   "default_parameters": {},
   "duration": 625.795916,
   "end_time": "2025-01-29T09:37:21.500142",
   "environment_variables": {},
   "exception": null,
   "input_path": "__notebook__.ipynb",
   "output_path": "__notebook__.ipynb",
   "parameters": {},
   "start_time": "2025-01-29T09:26:55.704226",
   "version": "2.6.0"
  }
 },
 "nbformat": 4,
 "nbformat_minor": 5
}
