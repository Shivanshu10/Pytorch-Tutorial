{
 "cells": [
  {
   "cell_type": "code",
   "execution_count": 1,
   "id": "3fb4f0ca",
   "metadata": {
    "_cell_guid": "b1076dfc-b9ad-4769-8c92-a6c4dae69d19",
    "_uuid": "8f2839f25d086af736a60e9eeb907d3b93b6e0e5",
    "execution": {
     "iopub.execute_input": "2025-02-02T07:49:58.386498Z",
     "iopub.status.busy": "2025-02-02T07:49:58.386141Z",
     "iopub.status.idle": "2025-02-02T07:50:00.237746Z",
     "shell.execute_reply": "2025-02-02T07:50:00.236630Z"
    },
    "papermill": {
     "duration": 1.863441,
     "end_time": "2025-02-02T07:50:00.239172",
     "exception": false,
     "start_time": "2025-02-02T07:49:58.375731",
     "status": "completed"
    },
    "tags": []
   },
   "outputs": [
    {
     "name": "stdout",
     "output_type": "stream",
     "text": [
      "/kaggle/input/titanic/train.csv\n",
      "/kaggle/input/titanic/test.csv\n",
      "/kaggle/input/titanic/gender_submission.csv\n"
     ]
    }
   ],
   "source": [
    "import numpy as np\n",
    "import pandas as pd\n",
    "import seaborn as sns\n",
    "import matplotlib.pyplot as plt\n",
    "import os\n",
    "\n",
    "for dirname, _, filenames in os.walk('/kaggle/input'):\n",
    "    for filename in filenames:\n",
    "        print(os.path.join(dirname, filename))"
   ]
  },
  {
   "cell_type": "markdown",
   "id": "f905d419",
   "metadata": {
    "papermill": {
     "duration": 0.008032,
     "end_time": "2025-02-02T07:50:00.256071",
     "exception": false,
     "start_time": "2025-02-02T07:50:00.248039",
     "status": "completed"
    },
    "tags": []
   },
   "source": [
    "## Load Data"
   ]
  },
  {
   "cell_type": "code",
   "execution_count": 2,
   "id": "99cd6aa9",
   "metadata": {
    "execution": {
     "iopub.execute_input": "2025-02-02T07:50:00.273534Z",
     "iopub.status.busy": "2025-02-02T07:50:00.273142Z",
     "iopub.status.idle": "2025-02-02T07:50:00.316340Z",
     "shell.execute_reply": "2025-02-02T07:50:00.315485Z"
    },
    "papermill": {
     "duration": 0.05347,
     "end_time": "2025-02-02T07:50:00.317690",
     "exception": false,
     "start_time": "2025-02-02T07:50:00.264220",
     "status": "completed"
    },
    "tags": []
   },
   "outputs": [
    {
     "data": {
      "text/html": [
       "<div>\n",
       "<style scoped>\n",
       "    .dataframe tbody tr th:only-of-type {\n",
       "        vertical-align: middle;\n",
       "    }\n",
       "\n",
       "    .dataframe tbody tr th {\n",
       "        vertical-align: top;\n",
       "    }\n",
       "\n",
       "    .dataframe thead th {\n",
       "        text-align: right;\n",
       "    }\n",
       "</style>\n",
       "<table border=\"1\" class=\"dataframe\">\n",
       "  <thead>\n",
       "    <tr style=\"text-align: right;\">\n",
       "      <th></th>\n",
       "      <th>Survived</th>\n",
       "      <th>Pclass</th>\n",
       "      <th>Name</th>\n",
       "      <th>Sex</th>\n",
       "      <th>Age</th>\n",
       "      <th>SibSp</th>\n",
       "      <th>Parch</th>\n",
       "      <th>Ticket</th>\n",
       "      <th>Fare</th>\n",
       "      <th>Cabin</th>\n",
       "      <th>Embarked</th>\n",
       "    </tr>\n",
       "    <tr>\n",
       "      <th>PassengerId</th>\n",
       "      <th></th>\n",
       "      <th></th>\n",
       "      <th></th>\n",
       "      <th></th>\n",
       "      <th></th>\n",
       "      <th></th>\n",
       "      <th></th>\n",
       "      <th></th>\n",
       "      <th></th>\n",
       "      <th></th>\n",
       "      <th></th>\n",
       "    </tr>\n",
       "  </thead>\n",
       "  <tbody>\n",
       "    <tr>\n",
       "      <th>1</th>\n",
       "      <td>0</td>\n",
       "      <td>3</td>\n",
       "      <td>Braund, Mr. Owen Harris</td>\n",
       "      <td>male</td>\n",
       "      <td>22.0</td>\n",
       "      <td>1</td>\n",
       "      <td>0</td>\n",
       "      <td>A/5 21171</td>\n",
       "      <td>7.2500</td>\n",
       "      <td>NaN</td>\n",
       "      <td>S</td>\n",
       "    </tr>\n",
       "    <tr>\n",
       "      <th>2</th>\n",
       "      <td>1</td>\n",
       "      <td>1</td>\n",
       "      <td>Cumings, Mrs. John Bradley (Florence Briggs Th...</td>\n",
       "      <td>female</td>\n",
       "      <td>38.0</td>\n",
       "      <td>1</td>\n",
       "      <td>0</td>\n",
       "      <td>PC 17599</td>\n",
       "      <td>71.2833</td>\n",
       "      <td>C85</td>\n",
       "      <td>C</td>\n",
       "    </tr>\n",
       "    <tr>\n",
       "      <th>3</th>\n",
       "      <td>1</td>\n",
       "      <td>3</td>\n",
       "      <td>Heikkinen, Miss. Laina</td>\n",
       "      <td>female</td>\n",
       "      <td>26.0</td>\n",
       "      <td>0</td>\n",
       "      <td>0</td>\n",
       "      <td>STON/O2. 3101282</td>\n",
       "      <td>7.9250</td>\n",
       "      <td>NaN</td>\n",
       "      <td>S</td>\n",
       "    </tr>\n",
       "    <tr>\n",
       "      <th>4</th>\n",
       "      <td>1</td>\n",
       "      <td>1</td>\n",
       "      <td>Futrelle, Mrs. Jacques Heath (Lily May Peel)</td>\n",
       "      <td>female</td>\n",
       "      <td>35.0</td>\n",
       "      <td>1</td>\n",
       "      <td>0</td>\n",
       "      <td>113803</td>\n",
       "      <td>53.1000</td>\n",
       "      <td>C123</td>\n",
       "      <td>S</td>\n",
       "    </tr>\n",
       "    <tr>\n",
       "      <th>5</th>\n",
       "      <td>0</td>\n",
       "      <td>3</td>\n",
       "      <td>Allen, Mr. William Henry</td>\n",
       "      <td>male</td>\n",
       "      <td>35.0</td>\n",
       "      <td>0</td>\n",
       "      <td>0</td>\n",
       "      <td>373450</td>\n",
       "      <td>8.0500</td>\n",
       "      <td>NaN</td>\n",
       "      <td>S</td>\n",
       "    </tr>\n",
       "    <tr>\n",
       "      <th>6</th>\n",
       "      <td>0</td>\n",
       "      <td>3</td>\n",
       "      <td>Moran, Mr. James</td>\n",
       "      <td>male</td>\n",
       "      <td>NaN</td>\n",
       "      <td>0</td>\n",
       "      <td>0</td>\n",
       "      <td>330877</td>\n",
       "      <td>8.4583</td>\n",
       "      <td>NaN</td>\n",
       "      <td>Q</td>\n",
       "    </tr>\n",
       "    <tr>\n",
       "      <th>7</th>\n",
       "      <td>0</td>\n",
       "      <td>1</td>\n",
       "      <td>McCarthy, Mr. Timothy J</td>\n",
       "      <td>male</td>\n",
       "      <td>54.0</td>\n",
       "      <td>0</td>\n",
       "      <td>0</td>\n",
       "      <td>17463</td>\n",
       "      <td>51.8625</td>\n",
       "      <td>E46</td>\n",
       "      <td>S</td>\n",
       "    </tr>\n",
       "    <tr>\n",
       "      <th>8</th>\n",
       "      <td>0</td>\n",
       "      <td>3</td>\n",
       "      <td>Palsson, Master. Gosta Leonard</td>\n",
       "      <td>male</td>\n",
       "      <td>2.0</td>\n",
       "      <td>3</td>\n",
       "      <td>1</td>\n",
       "      <td>349909</td>\n",
       "      <td>21.0750</td>\n",
       "      <td>NaN</td>\n",
       "      <td>S</td>\n",
       "    </tr>\n",
       "    <tr>\n",
       "      <th>9</th>\n",
       "      <td>1</td>\n",
       "      <td>3</td>\n",
       "      <td>Johnson, Mrs. Oscar W (Elisabeth Vilhelmina Berg)</td>\n",
       "      <td>female</td>\n",
       "      <td>27.0</td>\n",
       "      <td>0</td>\n",
       "      <td>2</td>\n",
       "      <td>347742</td>\n",
       "      <td>11.1333</td>\n",
       "      <td>NaN</td>\n",
       "      <td>S</td>\n",
       "    </tr>\n",
       "    <tr>\n",
       "      <th>10</th>\n",
       "      <td>1</td>\n",
       "      <td>2</td>\n",
       "      <td>Nasser, Mrs. Nicholas (Adele Achem)</td>\n",
       "      <td>female</td>\n",
       "      <td>14.0</td>\n",
       "      <td>1</td>\n",
       "      <td>0</td>\n",
       "      <td>237736</td>\n",
       "      <td>30.0708</td>\n",
       "      <td>NaN</td>\n",
       "      <td>C</td>\n",
       "    </tr>\n",
       "  </tbody>\n",
       "</table>\n",
       "</div>"
      ],
      "text/plain": [
       "             Survived  Pclass  \\\n",
       "PassengerId                     \n",
       "1                   0       3   \n",
       "2                   1       1   \n",
       "3                   1       3   \n",
       "4                   1       1   \n",
       "5                   0       3   \n",
       "6                   0       3   \n",
       "7                   0       1   \n",
       "8                   0       3   \n",
       "9                   1       3   \n",
       "10                  1       2   \n",
       "\n",
       "                                                          Name     Sex   Age  \\\n",
       "PassengerId                                                                    \n",
       "1                                      Braund, Mr. Owen Harris    male  22.0   \n",
       "2            Cumings, Mrs. John Bradley (Florence Briggs Th...  female  38.0   \n",
       "3                                       Heikkinen, Miss. Laina  female  26.0   \n",
       "4                 Futrelle, Mrs. Jacques Heath (Lily May Peel)  female  35.0   \n",
       "5                                     Allen, Mr. William Henry    male  35.0   \n",
       "6                                             Moran, Mr. James    male   NaN   \n",
       "7                                      McCarthy, Mr. Timothy J    male  54.0   \n",
       "8                               Palsson, Master. Gosta Leonard    male   2.0   \n",
       "9            Johnson, Mrs. Oscar W (Elisabeth Vilhelmina Berg)  female  27.0   \n",
       "10                         Nasser, Mrs. Nicholas (Adele Achem)  female  14.0   \n",
       "\n",
       "             SibSp  Parch            Ticket     Fare Cabin Embarked  \n",
       "PassengerId                                                          \n",
       "1                1      0         A/5 21171   7.2500   NaN        S  \n",
       "2                1      0          PC 17599  71.2833   C85        C  \n",
       "3                0      0  STON/O2. 3101282   7.9250   NaN        S  \n",
       "4                1      0            113803  53.1000  C123        S  \n",
       "5                0      0            373450   8.0500   NaN        S  \n",
       "6                0      0            330877   8.4583   NaN        Q  \n",
       "7                0      0             17463  51.8625   E46        S  \n",
       "8                3      1            349909  21.0750   NaN        S  \n",
       "9                0      2            347742  11.1333   NaN        S  \n",
       "10               1      0            237736  30.0708   NaN        C  "
      ]
     },
     "execution_count": 2,
     "metadata": {},
     "output_type": "execute_result"
    }
   ],
   "source": [
    "train_df = pd.read_csv(\"/kaggle/input/titanic/train.csv\", index_col=0)\n",
    "train_df.head(10)"
   ]
  },
  {
   "cell_type": "code",
   "execution_count": 3,
   "id": "f4444e89",
   "metadata": {
    "execution": {
     "iopub.execute_input": "2025-02-02T07:50:00.335778Z",
     "iopub.status.busy": "2025-02-02T07:50:00.335496Z",
     "iopub.status.idle": "2025-02-02T07:50:00.339836Z",
     "shell.execute_reply": "2025-02-02T07:50:00.339032Z"
    },
    "papermill": {
     "duration": 0.014672,
     "end_time": "2025-02-02T07:50:00.341138",
     "exception": false,
     "start_time": "2025-02-02T07:50:00.326466",
     "status": "completed"
    },
    "tags": []
   },
   "outputs": [
    {
     "data": {
      "text/plain": [
       "891"
      ]
     },
     "execution_count": 3,
     "metadata": {},
     "output_type": "execute_result"
    }
   ],
   "source": [
    "len(train_df)"
   ]
  },
  {
   "cell_type": "markdown",
   "id": "ff5cde9c",
   "metadata": {
    "papermill": {
     "duration": 0.008633,
     "end_time": "2025-02-02T07:50:00.358493",
     "exception": false,
     "start_time": "2025-02-02T07:50:00.349860",
     "status": "completed"
    },
    "tags": []
   },
   "source": [
    "## Explore Data"
   ]
  },
  {
   "attachments": {
    "32b3126c-ecdb-46fc-86b2-f22ddf6e6809.png": {
     "image/png": "[encoded data removed]"
    }
   },
   "cell_type": "markdown",
   "id": "137e280d",
   "metadata": {
    "papermill": {
     "duration": 0.008532,
     "end_time": "2025-02-02T07:50:00.375533",
     "exception": false,
     "start_time": "2025-02-02T07:50:00.367001",
     "status": "completed"
    },
    "tags": []
   },
   "source": [
    "![image.png](attachment:32b3126c-ecdb-46fc-86b2-f22ddf6e6809.png)"
   ]
  },
  {
   "cell_type": "code",
   "execution_count": 4,
   "id": "99309323",
   "metadata": {
    "execution": {
     "iopub.execute_input": "2025-02-02T07:50:00.393702Z",
     "iopub.status.busy": "2025-02-02T07:50:00.393324Z",
     "iopub.status.idle": "2025-02-02T07:50:00.398115Z",
     "shell.execute_reply": "2025-02-02T07:50:00.397312Z"
    },
    "papermill": {
     "duration": 0.015453,
     "end_time": "2025-02-02T07:50:00.399483",
     "exception": false,
     "start_time": "2025-02-02T07:50:00.384030",
     "status": "completed"
    },
    "tags": []
   },
   "outputs": [
    {
     "data": {
      "text/plain": [
       "891"
      ]
     },
     "execution_count": 4,
     "metadata": {},
     "output_type": "execute_result"
    }
   ],
   "source": [
    "len(train_df)"
   ]
  },
  {
   "cell_type": "code",
   "execution_count": 5,
   "id": "6fde7225",
   "metadata": {
    "execution": {
     "iopub.execute_input": "2025-02-02T07:50:00.417488Z",
     "iopub.status.busy": "2025-02-02T07:50:00.417255Z",
     "iopub.status.idle": "2025-02-02T07:50:00.439800Z",
     "shell.execute_reply": "2025-02-02T07:50:00.439043Z"
    },
    "papermill": {
     "duration": 0.032874,
     "end_time": "2025-02-02T07:50:00.440980",
     "exception": false,
     "start_time": "2025-02-02T07:50:00.408106",
     "status": "completed"
    },
    "tags": []
   },
   "outputs": [
    {
     "data": {
      "text/html": [
       "<div>\n",
       "<style scoped>\n",
       "    .dataframe tbody tr th:only-of-type {\n",
       "        vertical-align: middle;\n",
       "    }\n",
       "\n",
       "    .dataframe tbody tr th {\n",
       "        vertical-align: top;\n",
       "    }\n",
       "\n",
       "    .dataframe thead th {\n",
       "        text-align: right;\n",
       "    }\n",
       "</style>\n",
       "<table border=\"1\" class=\"dataframe\">\n",
       "  <thead>\n",
       "    <tr style=\"text-align: right;\">\n",
       "      <th></th>\n",
       "      <th>Survived</th>\n",
       "      <th>Pclass</th>\n",
       "      <th>Age</th>\n",
       "      <th>SibSp</th>\n",
       "      <th>Parch</th>\n",
       "      <th>Fare</th>\n",
       "    </tr>\n",
       "  </thead>\n",
       "  <tbody>\n",
       "    <tr>\n",
       "      <th>count</th>\n",
       "      <td>891.000000</td>\n",
       "      <td>891.000000</td>\n",
       "      <td>714.000000</td>\n",
       "      <td>891.000000</td>\n",
       "      <td>891.000000</td>\n",
       "      <td>891.000000</td>\n",
       "    </tr>\n",
       "    <tr>\n",
       "      <th>mean</th>\n",
       "      <td>0.383838</td>\n",
       "      <td>2.308642</td>\n",
       "      <td>29.699118</td>\n",
       "      <td>0.523008</td>\n",
       "      <td>0.381594</td>\n",
       "      <td>32.204208</td>\n",
       "    </tr>\n",
       "    <tr>\n",
       "      <th>std</th>\n",
       "      <td>0.486592</td>\n",
       "      <td>0.836071</td>\n",
       "      <td>14.526497</td>\n",
       "      <td>1.102743</td>\n",
       "      <td>0.806057</td>\n",
       "      <td>49.693429</td>\n",
       "    </tr>\n",
       "    <tr>\n",
       "      <th>min</th>\n",
       "      <td>0.000000</td>\n",
       "      <td>1.000000</td>\n",
       "      <td>0.420000</td>\n",
       "      <td>0.000000</td>\n",
       "      <td>0.000000</td>\n",
       "      <td>0.000000</td>\n",
       "    </tr>\n",
       "    <tr>\n",
       "      <th>25%</th>\n",
       "      <td>0.000000</td>\n",
       "      <td>2.000000</td>\n",
       "      <td>20.125000</td>\n",
       "      <td>0.000000</td>\n",
       "      <td>0.000000</td>\n",
       "      <td>7.910400</td>\n",
       "    </tr>\n",
       "    <tr>\n",
       "      <th>50%</th>\n",
       "      <td>0.000000</td>\n",
       "      <td>3.000000</td>\n",
       "      <td>28.000000</td>\n",
       "      <td>0.000000</td>\n",
       "      <td>0.000000</td>\n",
       "      <td>14.454200</td>\n",
       "    </tr>\n",
       "    <tr>\n",
       "      <th>75%</th>\n",
       "      <td>1.000000</td>\n",
       "      <td>3.000000</td>\n",
       "      <td>38.000000</td>\n",
       "      <td>1.000000</td>\n",
       "      <td>0.000000</td>\n",
       "      <td>31.000000</td>\n",
       "    </tr>\n",
       "    <tr>\n",
       "      <th>max</th>\n",
       "      <td>1.000000</td>\n",
       "      <td>3.000000</td>\n",
       "      <td>80.000000</td>\n",
       "      <td>8.000000</td>\n",
       "      <td>6.000000</td>\n",
       "      <td>512.329200</td>\n",
       "    </tr>\n",
       "  </tbody>\n",
       "</table>\n",
       "</div>"
      ],
      "text/plain": [
       "         Survived      Pclass         Age       SibSp       Parch        Fare\n",
       "count  891.000000  891.000000  714.000000  891.000000  891.000000  891.000000\n",
       "mean     0.383838    2.308642   29.699118    0.523008    0.381594   32.204208\n",
       "std      0.486592    0.836071   14.526497    1.102743    0.806057   49.693429\n",
       "min      0.000000    1.000000    0.420000    0.000000    0.000000    0.000000\n",
       "25%      0.000000    2.000000   20.125000    0.000000    0.000000    7.910400\n",
       "50%      0.000000    3.000000   28.000000    0.000000    0.000000   14.454200\n",
       "75%      1.000000    3.000000   38.000000    1.000000    0.000000   31.000000\n",
       "max      1.000000    3.000000   80.000000    8.000000    6.000000  512.329200"
      ]
     },
     "execution_count": 5,
     "metadata": {},
     "output_type": "execute_result"
    }
   ],
   "source": [
    "train_df.describe()"
   ]
  },
  {
   "cell_type": "code",
   "execution_count": 6,
   "id": "018a25f2",
   "metadata": {
    "execution": {
     "iopub.execute_input": "2025-02-02T07:50:00.460213Z",
     "iopub.status.busy": "2025-02-02T07:50:00.459987Z",
     "iopub.status.idle": "2025-02-02T07:50:00.464035Z",
     "shell.execute_reply": "2025-02-02T07:50:00.463039Z"
    },
    "papermill": {
     "duration": 0.01497,
     "end_time": "2025-02-02T07:50:00.465346",
     "exception": false,
     "start_time": "2025-02-02T07:50:00.450376",
     "status": "completed"
    },
    "tags": []
   },
   "outputs": [
    {
     "name": "stdout",
     "output_type": "stream",
     "text": [
      "count of items to be dropped 177\n",
      "count of items left 714\n"
     ]
    }
   ],
   "source": [
    "# age has some null value\n",
    "# should we try dropping them for now?\n",
    "\n",
    "# count of rows that will be dropped\n",
    "print(f\"count of items to be dropped {len(train_df) - 714}\")\n",
    "\n",
    "# rows lefr\n",
    "print(f\"count of items left {len(train_df) - len(train_df) + 714}\")"
   ]
  },
  {
   "cell_type": "code",
   "execution_count": 7,
   "id": "a5da22fb",
   "metadata": {
    "execution": {
     "iopub.execute_input": "2025-02-02T07:50:00.483834Z",
     "iopub.status.busy": "2025-02-02T07:50:00.483594Z",
     "iopub.status.idle": "2025-02-02T07:50:00.489333Z",
     "shell.execute_reply": "2025-02-02T07:50:00.488692Z"
    },
    "papermill": {
     "duration": 0.016206,
     "end_time": "2025-02-02T07:50:00.490462",
     "exception": false,
     "start_time": "2025-02-02T07:50:00.474256",
     "status": "completed"
    },
    "tags": []
   },
   "outputs": [
    {
     "data": {
      "text/plain": [
       "Survived      0\n",
       "Pclass        0\n",
       "Name          0\n",
       "Sex           0\n",
       "Age         177\n",
       "SibSp         0\n",
       "Parch         0\n",
       "Ticket        0\n",
       "Fare          0\n",
       "Cabin       687\n",
       "Embarked      2\n",
       "dtype: int64"
      ]
     },
     "execution_count": 7,
     "metadata": {},
     "output_type": "execute_result"
    }
   ],
   "source": [
    "train_df.isna().sum()"
   ]
  },
  {
   "cell_type": "code",
   "execution_count": 8,
   "id": "33bc949e",
   "metadata": {
    "execution": {
     "iopub.execute_input": "2025-02-02T07:50:00.508991Z",
     "iopub.status.busy": "2025-02-02T07:50:00.508776Z",
     "iopub.status.idle": "2025-02-02T07:50:00.511506Z",
     "shell.execute_reply": "2025-02-02T07:50:00.510898Z"
    },
    "papermill": {
     "duration": 0.014198,
     "end_time": "2025-02-02T07:50:00.513572",
     "exception": false,
     "start_time": "2025-02-02T07:50:00.499374",
     "status": "completed"
    },
    "tags": []
   },
   "outputs": [],
   "source": [
    "# cabin has 687 nulls, i dont think we can learn anything using it though"
   ]
  },
  {
   "cell_type": "code",
   "execution_count": 9,
   "id": "f49d83a2",
   "metadata": {
    "execution": {
     "iopub.execute_input": "2025-02-02T07:50:00.531946Z",
     "iopub.status.busy": "2025-02-02T07:50:00.531723Z",
     "iopub.status.idle": "2025-02-02T07:50:00.538223Z",
     "shell.execute_reply": "2025-02-02T07:50:00.537570Z"
    },
    "papermill": {
     "duration": 0.016945,
     "end_time": "2025-02-02T07:50:00.539347",
     "exception": false,
     "start_time": "2025-02-02T07:50:00.522402",
     "status": "completed"
    },
    "tags": []
   },
   "outputs": [
    {
     "data": {
      "text/plain": [
       "Survived\n",
       "0    549\n",
       "1    342\n",
       "Name: count, dtype: int64"
      ]
     },
     "execution_count": 9,
     "metadata": {},
     "output_type": "execute_result"
    }
   ],
   "source": [
    "# lets check balance now\n",
    "train_df[\"Survived\"].value_counts()"
   ]
  },
  {
   "cell_type": "code",
   "execution_count": 10,
   "id": "11019d02",
   "metadata": {
    "execution": {
     "iopub.execute_input": "2025-02-02T07:50:00.558019Z",
     "iopub.status.busy": "2025-02-02T07:50:00.557795Z",
     "iopub.status.idle": "2025-02-02T07:50:00.564205Z",
     "shell.execute_reply": "2025-02-02T07:50:00.563286Z"
    },
    "papermill": {
     "duration": 0.017086,
     "end_time": "2025-02-02T07:50:00.565401",
     "exception": false,
     "start_time": "2025-02-02T07:50:00.548315",
     "status": "completed"
    },
    "tags": []
   },
   "outputs": [
    {
     "name": "stdout",
     "output_type": "stream",
     "text": [
      "Survived\n",
      "0    61.616162\n",
      "1    38.383838\n",
      "Name: proportion, dtype: float64\n",
      "The dataset is balanced.\n"
     ]
    }
   ],
   "source": [
    "class_percentages = train_df[\"Survived\"].value_counts(normalize=True) * 100\n",
    "\n",
    "print(class_percentages)\n",
    "\n",
    "threshold = 70  # Adjust this as needed\n",
    "is_balanced = all(class_percentages < threshold)\n",
    "\n",
    "if is_balanced:\n",
    "    print(\"The dataset is balanced.\")\n",
    "else:\n",
    "    print(\"The dataset is imbalanced.\")"
   ]
  },
  {
   "cell_type": "code",
   "execution_count": 11,
   "id": "2eda7b35",
   "metadata": {
    "execution": {
     "iopub.execute_input": "2025-02-02T07:50:00.585016Z",
     "iopub.status.busy": "2025-02-02T07:50:00.584753Z",
     "iopub.status.idle": "2025-02-02T07:50:00.587855Z",
     "shell.execute_reply": "2025-02-02T07:50:00.587037Z"
    },
    "papermill": {
     "duration": 0.014218,
     "end_time": "2025-02-02T07:50:00.589143",
     "exception": false,
     "start_time": "2025-02-02T07:50:00.574925",
     "status": "completed"
    },
    "tags": []
   },
   "outputs": [],
   "source": [
    "# so model can easily get 61% accuracy if it always predics 0\n",
    "# so this will be our basepoint"
   ]
  },
  {
   "cell_type": "code",
   "execution_count": 12,
   "id": "675bd381",
   "metadata": {
    "execution": {
     "iopub.execute_input": "2025-02-02T07:50:00.608046Z",
     "iopub.status.busy": "2025-02-02T07:50:00.607813Z",
     "iopub.status.idle": "2025-02-02T07:50:00.627962Z",
     "shell.execute_reply": "2025-02-02T07:50:00.627152Z"
    },
    "papermill": {
     "duration": 0.031097,
     "end_time": "2025-02-02T07:50:00.629210",
     "exception": false,
     "start_time": "2025-02-02T07:50:00.598113",
     "status": "completed"
    },
    "tags": []
   },
   "outputs": [
    {
     "name": "stdout",
     "output_type": "stream",
     "text": [
      "Column: Survived\n",
      "Outliers: 0\n",
      "Column: Pclass\n",
      "Outliers: 0\n",
      "Column: Age\n",
      "Outliers: 11\n",
      "Column: SibSp\n",
      "Outliers: 46\n",
      "Column: Parch\n",
      "Outliers: 213\n",
      "Column: Fare\n",
      "Outliers: 116\n"
     ]
    }
   ],
   "source": [
    "# check outliers\n",
    "# Identify outliers for each column\n",
    "for column in train_df.select_dtypes(include=[np.number]):  # Only numerical columns\n",
    "    Q1 = train_df[column].quantile(0.25)  # First quartile (25th percentile)\n",
    "    Q3 = train_df[column].quantile(0.75)  # Third quartile (75th percentile)\n",
    "    IQR = Q3 - Q1  # Interquartile range\n",
    "    lower_bound = Q1 - 1.5 * IQR\n",
    "    upper_bound = Q3 + 1.5 * IQR\n",
    "\n",
    "    print(f\"Column: {column}\")\n",
    "    print(f\"Outliers: {len(train_df[(train_df[column] < lower_bound) | (train_df[column] > upper_bound)][column].tolist())}\")"
   ]
  },
  {
   "cell_type": "markdown",
   "id": "c87b2565",
   "metadata": {
    "papermill": {
     "duration": 0.008916,
     "end_time": "2025-02-02T07:50:00.647430",
     "exception": false,
     "start_time": "2025-02-02T07:50:00.638514",
     "status": "completed"
    },
    "tags": []
   },
   "source": [
    "## Create Dataset Class"
   ]
  },
  {
   "cell_type": "code",
   "execution_count": 13,
   "id": "3d3a6a7e",
   "metadata": {
    "execution": {
     "iopub.execute_input": "2025-02-02T07:50:00.666584Z",
     "iopub.status.busy": "2025-02-02T07:50:00.666311Z",
     "iopub.status.idle": "2025-02-02T07:50:08.066083Z",
     "shell.execute_reply": "2025-02-02T07:50:08.065217Z"
    },
    "papermill": {
     "duration": 7.411829,
     "end_time": "2025-02-02T07:50:08.068294",
     "exception": false,
     "start_time": "2025-02-02T07:50:00.656465",
     "status": "completed"
    },
    "tags": []
   },
   "outputs": [
    {
     "name": "stderr",
     "output_type": "stream",
     "text": [
      "/usr/local/lib/python3.10/dist-packages/seaborn/axisgrid.py:2095: UserWarning: The `size` parameter has been renamed to `height`; please update your code.\n",
      "  warnings.warn(msg, UserWarning)\n",
      "/usr/local/lib/python3.10/dist-packages/seaborn/axisgrid.py:1507: FutureWarning: \n",
      "\n",
      "`shade` is now deprecated in favor of `fill`; setting `fill=True`.\n",
      "This will become an error in seaborn v0.14.0; please update your code.\n",
      "\n",
      "  func(x=vector, **plot_kwargs)\n",
      "/usr/local/lib/python3.10/dist-packages/seaborn/_oldcore.py:1119: FutureWarning: use_inf_as_na option is deprecated and will be removed in a future version. Convert inf values to NaN before operating instead.\n",
      "  with pd.option_context('mode.use_inf_as_na', True):\n",
      "/usr/local/lib/python3.10/dist-packages/seaborn/axisgrid.py:1507: FutureWarning: \n",
      "\n",
      "`shade` is now deprecated in favor of `fill`; setting `fill=True`.\n",
      "This will become an error in seaborn v0.14.0; please update your code.\n",
      "\n",
      "  func(x=vector, **plot_kwargs)\n",
      "/usr/local/lib/python3.10/dist-packages/seaborn/_oldcore.py:1119: FutureWarning: use_inf_as_na option is deprecated and will be removed in a future version. Convert inf values to NaN before operating instead.\n",
      "  with pd.option_context('mode.use_inf_as_na', True):\n",
      "/usr/local/lib/python3.10/dist-packages/seaborn/axisgrid.py:1507: FutureWarning: \n",
      "\n",
      "`shade` is now deprecated in favor of `fill`; setting `fill=True`.\n",
      "This will become an error in seaborn v0.14.0; please update your code.\n",
      "\n",
      "  func(x=vector, **plot_kwargs)\n",
      "/usr/local/lib/python3.10/dist-packages/seaborn/_oldcore.py:1119: FutureWarning: use_inf_as_na option is deprecated and will be removed in a future version. Convert inf values to NaN before operating instead.\n",
      "  with pd.option_context('mode.use_inf_as_na', True):\n",
      "/usr/local/lib/python3.10/dist-packages/seaborn/axisgrid.py:1507: FutureWarning: \n",
      "\n",
      "`shade` is now deprecated in favor of `fill`; setting `fill=True`.\n",
      "This will become an error in seaborn v0.14.0; please update your code.\n",
      "\n",
      "  func(x=vector, **plot_kwargs)\n",
      "/usr/local/lib/python3.10/dist-packages/seaborn/_oldcore.py:1119: FutureWarning: use_inf_as_na option is deprecated and will be removed in a future version. Convert inf values to NaN before operating instead.\n",
      "  with pd.option_context('mode.use_inf_as_na', True):\n",
      "/usr/local/lib/python3.10/dist-packages/seaborn/axisgrid.py:1507: FutureWarning: \n",
      "\n",
      "`shade` is now deprecated in favor of `fill`; setting `fill=True`.\n",
      "This will become an error in seaborn v0.14.0; please update your code.\n",
      "\n",
      "  func(x=vector, **plot_kwargs)\n",
      "/usr/local/lib/python3.10/dist-packages/seaborn/_oldcore.py:1119: FutureWarning: use_inf_as_na option is deprecated and will be removed in a future version. Convert inf values to NaN before operating instead.\n",
      "  with pd.option_context('mode.use_inf_as_na', True):\n"
     ]
    },
    {
     "data": {
      "text/plain": [
       "<seaborn.axisgrid.PairGrid at 0x7e589cb453f0>"
      ]
     },
     "execution_count": 13,
     "metadata": {},
     "output_type": "execute_result"
    },
    {
     "data": {
      "image/png": "[encoded data removed]",
      "text/plain": [
       "<Figure size 672.111x600 with 30 Axes>"
      ]
     },
     "metadata": {},
     "output_type": "display_data"
    }
   ],
   "source": [
    "g = sns.pairplot(data=train_df, hue='Survived',\n",
    "                 size=1.2, diag_kind = 'kde',diag_kws=dict(shade=True),plot_kws=dict(s=10) )\n",
    "g.set(xticklabels=[])"
   ]
  },
  {
   "cell_type": "code",
   "execution_count": 14,
   "id": "e17b89e3",
   "metadata": {
    "execution": {
     "iopub.execute_input": "2025-02-02T07:50:08.092277Z",
     "iopub.status.busy": "2025-02-02T07:50:08.092022Z",
     "iopub.status.idle": "2025-02-02T07:50:08.247476Z",
     "shell.execute_reply": "2025-02-02T07:50:08.246523Z"
    },
    "papermill": {
     "duration": 0.168928,
     "end_time": "2025-02-02T07:50:08.248986",
     "exception": false,
     "start_time": "2025-02-02T07:50:08.080058",
     "status": "completed"
    },
    "tags": []
   },
   "outputs": [
    {
     "data": {
      "image/png": "[encoded data removed]",
      "text/plain": [
       "<Figure size 640x480 with 1 Axes>"
      ]
     },
     "metadata": {},
     "output_type": "display_data"
    }
   ],
   "source": [
    "sns.countplot(x='Sex', hue='Survived', data=train_df)\n",
    "\n",
    "total = len(train_df)\n",
    "\n",
    "# Add percentage annotations\n",
    "\n",
    "for p in plt.gca().patches:\n",
    "    height = p.get_height()\n",
    "    width = p.get_width()\n",
    "    x, y = p.get_xy()  # Get position of each bar\n",
    "    percentage = height / total * 100\n",
    "    plt.text(x + width / 2, y + height + 5, f'{percentage:.1f}%', ha='center')\n",
    "\n",
    "plt.title('Count of Survived vs. Not Survived by Gender')\n",
    "plt.xlabel('Gender')\n",
    "plt.ylabel('Count')\n",
    "plt.show()"
   ]
  },
  {
   "cell_type": "code",
   "execution_count": 15,
   "id": "cd03990f",
   "metadata": {
    "execution": {
     "iopub.execute_input": "2025-02-02T07:50:08.274592Z",
     "iopub.status.busy": "2025-02-02T07:50:08.274339Z",
     "iopub.status.idle": "2025-02-02T07:50:08.460795Z",
     "shell.execute_reply": "2025-02-02T07:50:08.459934Z"
    },
    "papermill": {
     "duration": 0.200328,
     "end_time": "2025-02-02T07:50:08.462303",
     "exception": false,
     "start_time": "2025-02-02T07:50:08.261975",
     "status": "completed"
    },
    "tags": []
   },
   "outputs": [
    {
     "data": {
      "image/png": "[encoded data removed]",
      "text/plain": [
       "<Figure size 640x480 with 1 Axes>"
      ]
     },
     "metadata": {},
     "output_type": "display_data"
    }
   ],
   "source": [
    "sns.countplot(x='Embarked', hue='Survived', data=train_df)\n",
    "\n",
    "total = len(train_df)\n",
    "\n",
    "# Add percentage annotations\n",
    "\n",
    "for p in plt.gca().patches:\n",
    "    height = p.get_height()\n",
    "    width = p.get_width()\n",
    "    x, y = p.get_xy()  # Get position of each bar\n",
    "    percentage = height / total * 100\n",
    "    plt.text(x + width / 2, y + height + 5, f'{percentage:.1f}%', ha='center')\n",
    "\n",
    "plt.title('Count of Survived vs. Not Survived by Gender')\n",
    "plt.xlabel('Gender')\n",
    "plt.ylabel('Count')\n",
    "plt.show()"
   ]
  },
  {
   "cell_type": "code",
   "execution_count": 16,
   "id": "01423b16",
   "metadata": {
    "execution": {
     "iopub.execute_input": "2025-02-02T07:50:08.488973Z",
     "iopub.status.busy": "2025-02-02T07:50:08.488718Z",
     "iopub.status.idle": "2025-02-02T07:50:08.742928Z",
     "shell.execute_reply": "2025-02-02T07:50:08.742119Z"
    },
    "papermill": {
     "duration": 0.268638,
     "end_time": "2025-02-02T07:50:08.744430",
     "exception": false,
     "start_time": "2025-02-02T07:50:08.475792",
     "status": "completed"
    },
    "tags": []
   },
   "outputs": [
    {
     "name": "stderr",
     "output_type": "stream",
     "text": [
      "/usr/local/lib/python3.10/dist-packages/seaborn/_oldcore.py:1119: FutureWarning: use_inf_as_na option is deprecated and will be removed in a future version. Convert inf values to NaN before operating instead.\n",
      "  with pd.option_context('mode.use_inf_as_na', True):\n"
     ]
    },
    {
     "data": {
      "image/png": "[encoded data removed]",
      "text/plain": [
       "<Figure size 640x480 with 1 Axes>"
      ]
     },
     "metadata": {},
     "output_type": "display_data"
    }
   ],
   "source": [
    "sns.histplot(x='Age', hue='Survived', data=train_df)\n",
    "plt.title('Count of Survived vs. Not Survived by Age')\n",
    "plt.xlabel('Age')\n",
    "plt.ylabel('Count')\n",
    "plt.show()"
   ]
  },
  {
   "cell_type": "code",
   "execution_count": 17,
   "id": "972db358",
   "metadata": {
    "execution": {
     "iopub.execute_input": "2025-02-02T07:50:08.771693Z",
     "iopub.status.busy": "2025-02-02T07:50:08.771407Z",
     "iopub.status.idle": "2025-02-02T07:50:08.776997Z",
     "shell.execute_reply": "2025-02-02T07:50:08.776240Z"
    },
    "papermill": {
     "duration": 0.020046,
     "end_time": "2025-02-02T07:50:08.778118",
     "exception": false,
     "start_time": "2025-02-02T07:50:08.758072",
     "status": "completed"
    },
    "tags": []
   },
   "outputs": [
    {
     "data": {
      "text/plain": [
       "Survived\n",
       "0    549\n",
       "1    342\n",
       "Name: count, dtype: int64"
      ]
     },
     "execution_count": 17,
     "metadata": {},
     "output_type": "execute_result"
    }
   ],
   "source": [
    "train_df[\"Survived\"].value_counts()"
   ]
  },
  {
   "cell_type": "code",
   "execution_count": 18,
   "id": "b0d7e36d",
   "metadata": {
    "execution": {
     "iopub.execute_input": "2025-02-02T07:50:08.804267Z",
     "iopub.status.busy": "2025-02-02T07:50:08.804040Z",
     "iopub.status.idle": "2025-02-02T07:50:13.434325Z",
     "shell.execute_reply": "2025-02-02T07:50:13.433359Z"
    },
    "papermill": {
     "duration": 4.645312,
     "end_time": "2025-02-02T07:50:13.435961",
     "exception": false,
     "start_time": "2025-02-02T07:50:08.790649",
     "status": "completed"
    },
    "tags": []
   },
   "outputs": [],
   "source": [
    "import torch\n",
    "from torch.utils.data import Dataset, DataLoader\n",
    "import torchvision\n",
    "import torch.nn as nn \n",
    "from torch.utils.data import random_split\n",
    "import math\n",
    "from IPython.display import Image"
   ]
  },
  {
   "cell_type": "code",
   "execution_count": 19,
   "id": "7e1291bb",
   "metadata": {
    "execution": {
     "iopub.execute_input": "2025-02-02T07:50:13.466018Z",
     "iopub.status.busy": "2025-02-02T07:50:13.465569Z",
     "iopub.status.idle": "2025-02-02T07:50:13.474894Z",
     "shell.execute_reply": "2025-02-02T07:50:13.474008Z"
    },
    "papermill": {
     "duration": 0.026368,
     "end_time": "2025-02-02T07:50:13.476126",
     "exception": false,
     "start_time": "2025-02-02T07:50:13.449758",
     "status": "completed"
    },
    "tags": []
   },
   "outputs": [],
   "source": [
    "torch.manual_seed(42); # seed rng for reproducibility"
   ]
  },
  {
   "cell_type": "code",
   "execution_count": 20,
   "id": "d642ef46",
   "metadata": {
    "execution": {
     "iopub.execute_input": "2025-02-02T07:50:13.506451Z",
     "iopub.status.busy": "2025-02-02T07:50:13.506201Z",
     "iopub.status.idle": "2025-02-02T07:50:13.511373Z",
     "shell.execute_reply": "2025-02-02T07:50:13.510774Z"
    },
    "papermill": {
     "duration": 0.021829,
     "end_time": "2025-02-02T07:50:13.512516",
     "exception": false,
     "start_time": "2025-02-02T07:50:13.490687",
     "status": "completed"
    },
    "tags": []
   },
   "outputs": [],
   "source": [
    "class CSVDataset(Dataset):\n",
    "    def __init__(self, csv_path, features_col_list, target_col_list, transform=None, entire_data_transform=None):\n",
    "        # data loading\n",
    "        self.target_col_list = target_col_list\n",
    "        self.data = pd.read_csv(csv_path, index_col=0)\n",
    "        self.transform = transform\n",
    "\n",
    "        self.data = entire_data_transform(self.data)\n",
    "\n",
    "        self.features_col_list = []\n",
    "        for col_name in self.data.columns:\n",
    "            for feature_name in features_col_list:\n",
    "                if feature_name in col_name:\n",
    "                    # col is one hot encoded\n",
    "                    self.features_col_list.append(col_name)\n",
    "\n",
    "    def __getitem__(self, index):\n",
    "        x = self.data.iloc[index][self.features_col_list]  # Features}\n",
    "        y = self.data.iloc[index][self.target_col_list]  # Target\n",
    "\n",
    "        # Apply transformations if specified\n",
    "        if self.transform:\n",
    "            x, y = self.transform((x,y))\n",
    "\n",
    "        return torch.tensor(x, dtype=torch.float32), torch.tensor(y, dtype=torch.float32)\n",
    "\n",
    "    def __len__(self):\n",
    "        # allow us to use len(dataset)\n",
    "        return len(self.data)"
   ]
  },
  {
   "cell_type": "code",
   "execution_count": 21,
   "id": "0651e539",
   "metadata": {
    "execution": {
     "iopub.execute_input": "2025-02-02T07:50:13.538718Z",
     "iopub.status.busy": "2025-02-02T07:50:13.538458Z",
     "iopub.status.idle": "2025-02-02T07:50:13.544391Z",
     "shell.execute_reply": "2025-02-02T07:50:13.543814Z"
    },
    "papermill": {
     "duration": 0.020325,
     "end_time": "2025-02-02T07:50:13.545519",
     "exception": false,
     "start_time": "2025-02-02T07:50:13.525194",
     "status": "completed"
    },
    "tags": []
   },
   "outputs": [],
   "source": [
    "class OneHotEncode():\n",
    "    def __init__(self, cat_cols):\n",
    "        self.cat_cols = cat_cols\n",
    "    \n",
    "    def __call__(self, dataset):\n",
    "        return pd.get_dummies(dataset, columns=self.cat_cols)\n",
    "\n",
    "class FillNa():\n",
    "    def __init__(self, col_na_fill_rule):\n",
    "        self.col_na_fill_rule = col_na_fill_rule\n",
    "\n",
    "    def __call__(self, sample):\n",
    "        inputs, targets = sample\n",
    "\n",
    "        for col, na_fill in self.col_na_fill_rule.items():\n",
    "            if (pd.isna(inputs[col])):\n",
    "                inputs[col] = na_fill\n",
    "\n",
    "        return (inputs, targets)\n",
    "\n",
    "class NormalizeCol():\n",
    "    def __init__(self, cols_min_max_val):\n",
    "        self.cols_min_max_val = cols_min_max_val\n",
    "    \n",
    "    def __call__(self, sample):\n",
    "        inputs, targets = sample\n",
    "\n",
    "        for col in self.cols_min_max_val:\n",
    "            inputs[col] = (inputs[col] - self.cols_min_max_val[col][minVal]) / (self.cols_min_max_val[col][maxVal] - self.cols_min_max_val[col][minVal])\n",
    "        \n",
    "        return (inputs, targets)\n",
    "\n",
    "class ConvertNumpyArrToFloat32Tensor():\n",
    "    def __call__(self, sample):\n",
    "        inputs, targets = sample\n",
    "        inputs = (inputs.values).astype(np.float32)\n",
    "        targets = (targets.values).astype(np.float32)\n",
    "        return (inputs, targets)"
   ]
  },
  {
   "cell_type": "code",
   "execution_count": 22,
   "id": "03449cb4",
   "metadata": {
    "execution": {
     "iopub.execute_input": "2025-02-02T07:50:13.571990Z",
     "iopub.status.busy": "2025-02-02T07:50:13.571755Z",
     "iopub.status.idle": "2025-02-02T07:50:13.666725Z",
     "shell.execute_reply": "2025-02-02T07:50:13.665818Z"
    },
    "papermill": {
     "duration": 0.110091,
     "end_time": "2025-02-02T07:50:13.668130",
     "exception": false,
     "start_time": "2025-02-02T07:50:13.558039",
     "status": "completed"
    },
    "tags": []
   },
   "outputs": [
    {
     "data": {
      "text/plain": [
       "(tensor([0., 0., 1.]), tensor([0.]))"
      ]
     },
     "execution_count": 22,
     "metadata": {},
     "output_type": "execute_result"
    }
   ],
   "source": [
    "csv_file = \"/kaggle/input/titanic/train.csv\"\n",
    "features_col_list = [ \"Embarked\"]\n",
    "target_col_list = [\"Survived\"]\n",
    "\n",
    "cat_cols = [\"Embarked\"]\n",
    "fill_na = {}\n",
    "normalize_cols = {}\n",
    "transforms = torchvision.transforms.Compose([FillNa(fill_na), \n",
    "                                             NormalizeCol(normalize_cols),\n",
    "                                             ConvertNumpyArrToFloat32Tensor()])\n",
    "\n",
    "entire_data_transform = torchvision.transforms.Compose([OneHotEncode(cat_cols),])\n",
    "\n",
    "dataset = CSVDataset(csv_file, features_col_list, target_col_list, transform=transforms, entire_data_transform=entire_data_transform)\n",
    "dataset[0]"
   ]
  },
  {
   "cell_type": "code",
   "execution_count": 23,
   "id": "8b142591",
   "metadata": {
    "execution": {
     "iopub.execute_input": "2025-02-02T07:50:13.695253Z",
     "iopub.status.busy": "2025-02-02T07:50:13.695003Z",
     "iopub.status.idle": "2025-02-02T07:50:13.699488Z",
     "shell.execute_reply": "2025-02-02T07:50:13.698672Z"
    },
    "papermill": {
     "duration": 0.019171,
     "end_time": "2025-02-02T07:50:13.700682",
     "exception": false,
     "start_time": "2025-02-02T07:50:13.681511",
     "status": "completed"
    },
    "tags": []
   },
   "outputs": [
    {
     "data": {
      "text/plain": [
       "891"
      ]
     },
     "execution_count": 23,
     "metadata": {},
     "output_type": "execute_result"
    }
   ],
   "source": [
    "len(dataset)"
   ]
  },
  {
   "cell_type": "code",
   "execution_count": 24,
   "id": "2c7058fb",
   "metadata": {
    "execution": {
     "iopub.execute_input": "2025-02-02T07:50:13.727171Z",
     "iopub.status.busy": "2025-02-02T07:50:13.726916Z",
     "iopub.status.idle": "2025-02-02T07:50:13.735936Z",
     "shell.execute_reply": "2025-02-02T07:50:13.735065Z"
    },
    "papermill": {
     "duration": 0.023713,
     "end_time": "2025-02-02T07:50:13.737225",
     "exception": false,
     "start_time": "2025-02-02T07:50:13.713512",
     "status": "completed"
    },
    "tags": []
   },
   "outputs": [],
   "source": [
    "# Define split ratios\n",
    "train_size = int(0.8 * len(dataset))  # 80% for training\n",
    "val_size = int(0.1 * len(dataset))    # 10% for validation\n",
    "test_size = len(dataset) - train_size - val_size  # Remaining for testing\n",
    "\n",
    "# Split dataset\n",
    "train_dataset, val_dataset, test_dataset = random_split(dataset, [train_size, val_size, test_size])"
   ]
  },
  {
   "cell_type": "code",
   "execution_count": 25,
   "id": "e9af9ba6",
   "metadata": {
    "execution": {
     "iopub.execute_input": "2025-02-02T07:50:13.764340Z",
     "iopub.status.busy": "2025-02-02T07:50:13.764068Z",
     "iopub.status.idle": "2025-02-02T07:50:13.768401Z",
     "shell.execute_reply": "2025-02-02T07:50:13.767585Z"
    },
    "papermill": {
     "duration": 0.019686,
     "end_time": "2025-02-02T07:50:13.769820",
     "exception": false,
     "start_time": "2025-02-02T07:50:13.750134",
     "status": "completed"
    },
    "tags": []
   },
   "outputs": [],
   "source": [
    "# Define batch size\n",
    "# since we have less data\n",
    "batch_size = 16\n",
    "\n",
    "# Create DataLoaders\n",
    "train_loader = DataLoader(train_dataset, batch_size=batch_size, shuffle=False)\n",
    "val_loader = DataLoader(val_dataset, batch_size=batch_size, shuffle=False)\n",
    "test_loader = DataLoader(test_dataset, batch_size=batch_size, shuffle=False)"
   ]
  },
  {
   "cell_type": "code",
   "execution_count": 26,
   "id": "886aba83",
   "metadata": {
    "execution": {
     "iopub.execute_input": "2025-02-02T07:50:13.796683Z",
     "iopub.status.busy": "2025-02-02T07:50:13.796429Z",
     "iopub.status.idle": "2025-02-02T07:50:13.870428Z",
     "shell.execute_reply": "2025-02-02T07:50:13.869550Z"
    },
    "papermill": {
     "duration": 0.089201,
     "end_time": "2025-02-02T07:50:13.871835",
     "exception": false,
     "start_time": "2025-02-02T07:50:13.782634",
     "status": "completed"
    },
    "tags": []
   },
   "outputs": [
    {
     "name": "stdout",
     "output_type": "stream",
     "text": [
      "Using device: cuda\n"
     ]
    }
   ],
   "source": [
    "device = torch.device(\"cuda\" if torch.cuda.is_available() else \"cpu\")\n",
    "print(f\"Using device: {device}\")"
   ]
  },
  {
   "cell_type": "code",
   "execution_count": 27,
   "id": "540bbaae",
   "metadata": {
    "execution": {
     "iopub.execute_input": "2025-02-02T07:50:13.899534Z",
     "iopub.status.busy": "2025-02-02T07:50:13.899271Z",
     "iopub.status.idle": "2025-02-02T07:50:13.947636Z",
     "shell.execute_reply": "2025-02-02T07:50:13.946980Z"
    },
    "papermill": {
     "duration": 0.06404,
     "end_time": "2025-02-02T07:50:13.949064",
     "exception": false,
     "start_time": "2025-02-02T07:50:13.885024",
     "status": "completed"
    },
    "tags": []
   },
   "outputs": [],
   "source": [
    "# not correctly init\n",
    "input_dim = len(next(iter(train_loader))[0][0])\n",
    "hidden_neuron = 256\n",
    "output_dim = len(next(iter(train_loader))[1][0])\n",
    "\n",
    "debug = True\n",
    "\n",
    "class LinearLayer(nn.Linear):\n",
    "    def __init__(self, *args, **kwargs):\n",
    "        # Call the parent constructor to initialize the Linear layer\n",
    "        super().__init__(*args, **kwargs)\n",
    "        \n",
    "    def forward(self, x):\n",
    "        self.output = super().forward(x)\n",
    "        return self.output\n",
    "\n",
    "class LeakyReluLayer(nn.LeakyReLU):\n",
    "    def __init__(self, *args, **kwargs):\n",
    "        # Call the parent constructor to initialize the Linear layer\n",
    "        super().__init__(*args, **kwargs)\n",
    "        \n",
    "    def forward(self, x):\n",
    "        self.output = super().forward(x)\n",
    "        return self.output\n",
    "\n",
    "class BatchNorm1dLayer(nn.BatchNorm1d):\n",
    "    def __init__(self, *args, **kwargs):\n",
    "        # Call the parent constructor to initialize the Linear layer\n",
    "        super().__init__(*args, **kwargs)\n",
    "        \n",
    "    def forward(self, x):\n",
    "        self.output = super().forward(x)\n",
    "        return self.output\n",
    "\n",
    "class DropoutLayer(nn.Dropout):\n",
    "    def __init__(self, *args, **kwargs):\n",
    "        # Call the parent constructor to initialize the Linear layer\n",
    "        super().__init__(*args, **kwargs)\n",
    "        \n",
    "    def forward(self, x):\n",
    "        self.output = super().forward(x)\n",
    "        return self.output\n",
    "\n",
    "class TitanicSurvivalPredictor(nn.Module):\n",
    "    def __init__(self, hidden_neuron):\n",
    "        super().__init__()\n",
    "\n",
    "        # define layers\n",
    "        self.layers = nn.ModuleList([\n",
    "            LinearLayer(input_dim, 256),\n",
    "            BatchNorm1dLayer(256),\n",
    "            LeakyReluLayer(0.1),\n",
    "            \n",
    "            LinearLayer(256, 128),\n",
    "            BatchNorm1dLayer(128),\n",
    "            LeakyReluLayer(0.1),\n",
    "\n",
    "            # LinearLayer(128, 64),\n",
    "            # BatchNorm1dLayer(64),\n",
    "            # LeakyReluLayer(0.1),\n",
    "            \n",
    "            # DropoutLayer(0.2),\n",
    "            \n",
    "            LinearLayer(128, output_dim),\n",
    "        ])\n",
    "        \n",
    "    def forward(self, x):\n",
    "        for layer in self.layers:\n",
    "            x = layer(x)\n",
    "        return x\n",
    "\n",
    "    def parameters(self):\n",
    "        return [p for layer in self.layers for p in layer.parameters()]\n",
    "\n",
    "model = TitanicSurvivalPredictor(hidden_neuron)"
   ]
  },
  {
   "cell_type": "code",
   "execution_count": 28,
   "id": "f0b2ef9c",
   "metadata": {
    "execution": {
     "iopub.execute_input": "2025-02-02T07:50:13.976531Z",
     "iopub.status.busy": "2025-02-02T07:50:13.976253Z",
     "iopub.status.idle": "2025-02-02T07:50:13.979592Z",
     "shell.execute_reply": "2025-02-02T07:50:13.978779Z"
    },
    "papermill": {
     "duration": 0.0183,
     "end_time": "2025-02-02T07:50:13.980863",
     "exception": false,
     "start_time": "2025-02-02T07:50:13.962563",
     "status": "completed"
    },
    "tags": []
   },
   "outputs": [],
   "source": [
    "activation_layers = [\"LeakyReluLayer\"]"
   ]
  },
  {
   "cell_type": "code",
   "execution_count": 29,
   "id": "1e7fad7c",
   "metadata": {
    "execution": {
     "iopub.execute_input": "2025-02-02T07:50:14.007636Z",
     "iopub.status.busy": "2025-02-02T07:50:14.007356Z",
     "iopub.status.idle": "2025-02-02T07:50:15.072777Z",
     "shell.execute_reply": "2025-02-02T07:50:15.071872Z"
    },
    "papermill": {
     "duration": 1.080162,
     "end_time": "2025-02-02T07:50:15.074081",
     "exception": false,
     "start_time": "2025-02-02T07:50:13.993919",
     "status": "completed"
    },
    "tags": []
   },
   "outputs": [
    {
     "name": "stdout",
     "output_type": "stream",
     "text": [
      "init loss: 0.6851440178023445\n"
     ]
    }
   ],
   "source": [
    "model.eval()\n",
    "\n",
    "init_loss = 0\n",
    "model = model.to(device)\n",
    "bce_loss = nn.BCEWithLogitsLoss()\n",
    "\n",
    "with torch.no_grad():\n",
    "    for i, (inputs, labels) in enumerate(train_loader):\n",
    "        inputs = inputs.to(device)\n",
    "        labels = labels.to(device)\n",
    "        \n",
    "        pred = model(inputs)        \n",
    "        loss = bce_loss(pred, labels)\n",
    "\n",
    "        init_loss += loss.item()\n",
    "\n",
    "init_loss /= len(train_loader)\n",
    "print(f\"init loss: {init_loss}\")"
   ]
  },
  {
   "cell_type": "code",
   "execution_count": 30,
   "id": "a6a5c324",
   "metadata": {
    "execution": {
     "iopub.execute_input": "2025-02-02T07:50:15.101448Z",
     "iopub.status.busy": "2025-02-02T07:50:15.101181Z",
     "iopub.status.idle": "2025-02-02T07:50:15.114882Z",
     "shell.execute_reply": "2025-02-02T07:50:15.114199Z"
    },
    "papermill": {
     "duration": 0.028823,
     "end_time": "2025-02-02T07:50:15.116173",
     "exception": false,
     "start_time": "2025-02-02T07:50:15.087350",
     "status": "completed"
    },
    "tags": []
   },
   "outputs": [],
   "source": [
    "@torch.no_grad()\n",
    "def initParam(model):\n",
    "    # Initialize weights using Xavier Normal\n",
    "    for i, layer in enumerate(model.layers):\n",
    "        if (isinstance(layer, LinearLayer)):\n",
    "            if (i<len(model.layers)-1):\n",
    "                nn.init.xavier_normal_(model.layers[i].weight, gain=torch.nn.init.calculate_gain(\"leaky_relu\"))\n",
    "            else:\n",
    "                nn.init.xavier_normal_(model.layers[i].weight, gain=torch.nn.init.calculate_gain(\"sigmoid\"))\n",
    "            if layer.bias is not None:\n",
    "                nn.init.zeros_(model.layers[i].bias)\n",
    "\n",
    "initParam(model)"
   ]
  },
  {
   "cell_type": "code",
   "execution_count": 31,
   "id": "481bfec3",
   "metadata": {
    "execution": {
     "iopub.execute_input": "2025-02-02T07:50:15.143728Z",
     "iopub.status.busy": "2025-02-02T07:50:15.143418Z",
     "iopub.status.idle": "2025-02-02T07:50:15.735703Z",
     "shell.execute_reply": "2025-02-02T07:50:15.734685Z"
    },
    "papermill": {
     "duration": 0.607594,
     "end_time": "2025-02-02T07:50:15.737081",
     "exception": false,
     "start_time": "2025-02-02T07:50:15.129487",
     "status": "completed"
    },
    "tags": []
   },
   "outputs": [
    {
     "name": "stdout",
     "output_type": "stream",
     "text": [
      "init loss: 0.6930077115694682\n"
     ]
    }
   ],
   "source": [
    "init_loss = 0\n",
    "model = model.to(device)\n",
    "bce_loss = nn.BCEWithLogitsLoss()\n",
    "\n",
    "with torch.no_grad():\n",
    "    for i, (inputs, labels) in enumerate(train_loader):\n",
    "        inputs = inputs.to(device)\n",
    "        labels = labels.to(device)\n",
    "        \n",
    "        pred = model(inputs)        \n",
    "        loss = bce_loss(pred, labels)\n",
    "\n",
    "        init_loss += loss.item()\n",
    "\n",
    "init_loss /= len(train_loader)\n",
    "print(f\"init loss: {init_loss}\")"
   ]
  },
  {
   "cell_type": "code",
   "execution_count": 32,
   "id": "956fa4dc",
   "metadata": {
    "execution": {
     "iopub.execute_input": "2025-02-02T07:50:15.764801Z",
     "iopub.status.busy": "2025-02-02T07:50:15.764487Z",
     "iopub.status.idle": "2025-02-02T07:51:28.046445Z",
     "shell.execute_reply": "2025-02-02T07:51:28.045351Z"
    },
    "papermill": {
     "duration": 72.29763,
     "end_time": "2025-02-02T07:51:28.047944",
     "exception": false,
     "start_time": "2025-02-02T07:50:15.750314",
     "status": "completed"
    },
    "tags": []
   },
   "outputs": [
    {
     "name": "stdout",
     "output_type": "stream",
     "text": [
      "Epoch 5/100, Train Loss: -0.1781, Val Loss: -0.2021,  Val Metric: 0.6966\n",
      "Epoch 10/100, Train Loss: -0.1816, Val Loss: -0.1994,  Val Metric: 0.7079\n",
      "Epoch 15/100, Train Loss: -0.1858, Val Loss: -0.2014,  Val Metric: 0.7079\n",
      "Epoch 20/100, Train Loss: -0.1890, Val Loss: -0.2056,  Val Metric: 0.6966\n",
      "Epoch 25/100, Train Loss: -0.1880, Val Loss: -0.2077,  Val Metric: 0.6966\n",
      "Epoch 30/100, Train Loss: -0.1900, Val Loss: -0.2038,  Val Metric: 0.6966\n",
      "Epoch 35/100, Train Loss: -0.1904, Val Loss: -0.2046,  Val Metric: 0.6966\n",
      "Epoch 40/100, Train Loss: -0.1910, Val Loss: -0.2033,  Val Metric: 0.6966\n",
      "Epoch 45/100, Train Loss: -0.1917, Val Loss: -0.2003,  Val Metric: 0.6966\n",
      "Epoch 50/100, Train Loss: -0.1912, Val Loss: -0.2030,  Val Metric: 0.6966\n",
      "Epoch 55/100, Train Loss: -0.1909, Val Loss: -0.2030,  Val Metric: 0.6966\n",
      "Epoch 60/100, Train Loss: -0.1919, Val Loss: -0.2072,  Val Metric: 0.6966\n",
      "Epoch 65/100, Train Loss: -0.1918, Val Loss: -0.1967,  Val Metric: 0.6966\n",
      "Epoch 70/100, Train Loss: -0.1916, Val Loss: -0.2052,  Val Metric: 0.6966\n",
      "Epoch 75/100, Train Loss: -0.1917, Val Loss: -0.1954,  Val Metric: 0.6966\n",
      "Epoch 80/100, Train Loss: -0.1926, Val Loss: -0.2052,  Val Metric: 0.6966\n",
      "Epoch 85/100, Train Loss: -0.1927, Val Loss: -0.2002,  Val Metric: 0.6966\n",
      "Epoch 90/100, Train Loss: -0.1928, Val Loss: -0.1955,  Val Metric: 0.6966\n",
      "Epoch 95/100, Train Loss: -0.1927, Val Loss: -0.2005,  Val Metric: 0.6966\n",
      "Epoch 100/100, Train Loss: -0.1927, Val Loss: -0.1966,  Val Metric: 0.6966\n"
     ]
    }
   ],
   "source": [
    "# less lr rate since can overfit easily\n",
    "learning_rate = 1e-3\n",
    "# less epoch as can easily overfit\n",
    "num_epoch = 100\n",
    "\n",
    "lossi_train = []\n",
    "lossi_val = []\n",
    "metric_val = []\n",
    "\n",
    "total_samples = len(train_dataset)\n",
    "n_iter = math.ceil(total_samples / batch_size)\n",
    "\n",
    "optimizer = torch.optim.AdamW(model.parameters(), lr=learning_rate)\n",
    "bce_loss = nn.BCEWithLogitsLoss()\n",
    "output_grads = []\n",
    "\n",
    "model = model.to(device)\n",
    "\n",
    "runFirstBatch = False\n",
    "for epoch in range(num_epoch):\n",
    "    # reset to train mode\n",
    "    model.train()\n",
    "    \n",
    "    train_loss = 0    \n",
    "    for i, (inputs, labels) in enumerate(train_loader):\n",
    "        # reset grad\n",
    "        optimizer.zero_grad()\n",
    "        \n",
    "        # forward pass\n",
    "        # print(f\"inputs: {inputs}\")\n",
    "        # print(f\"labels: {labels}\")\n",
    "        inputs = inputs.to(device)\n",
    "        labels = labels.to(device)\n",
    "\n",
    "        # print(f\"inputs device: {inputs.device}, labels device: {labels.device}, model device: {[param.device for param in model.parameters()]}\")\n",
    "        \n",
    "        pred = model(inputs)\n",
    "        # print(f\"pred: {pred}\")\n",
    "\n",
    "        # calc loss\n",
    "        loss = bce_loss(pred, labels)\n",
    "\n",
    "        if (debug):\n",
    "            for layer in model.layers:\n",
    "                layer.output.retain_grad() # save gradients of non leaf tensors also\n",
    "        \n",
    "        # backward pass\n",
    "        loss.backward()\n",
    "        optimizer.step()\n",
    "        loss = loss.log10()\n",
    "        lossi_train.append(loss)\n",
    "        train_loss += loss.item()\n",
    "\n",
    "        # if (debug):\n",
    "        #      break\n",
    "\n",
    "    # copied it to array since running with no grad will set grad to None\n",
    "    if (debug):\n",
    "        curr_grads = {}\n",
    "        for i, layer in enumerate(model.layers):\n",
    "            curr_grads[f\"{layer.__class__.__name__}: {i}\"] = layer.output.grad.clone()\n",
    "\n",
    "        output_grads.append(curr_grads)\n",
    "    \n",
    "    train_loss /= len(train_loader)\n",
    "\n",
    "    # validation phase\n",
    "    model.eval()\n",
    "    with torch.no_grad():  # Disable gradient computation for validation\n",
    "        val_loss = 0\n",
    "\n",
    "        # Accuracy calculation\n",
    "        correct = 0\n",
    "        total = 0\n",
    "        \n",
    "        for inputs, labels in val_loader:\n",
    "            inputs = inputs.to(device)\n",
    "            labels = labels.to(device)\n",
    "            \n",
    "            pred = model(inputs)\n",
    "            predictions = torch.sigmoid(pred)  # Apply sigmoid for binary classification\n",
    "            predicted_classes = (predictions > 0.5).float()  # Convert to binary (0 or 1)\n",
    "            correct += (predicted_classes == labels).sum().item()\n",
    "            total += labels.size(0)\n",
    "            \n",
    "            loss = bce_loss(pred, labels)\n",
    "            loss = loss.log10()\n",
    "            lossi_val.append(loss)\n",
    "            val_loss += loss.item()\n",
    "        \n",
    "        accuracy = correct / total\n",
    "        metric_val.append(accuracy)\n",
    "        val_loss /= len(val_loader)\n",
    "\n",
    "    if ((epoch+1)%5==0):\n",
    "        print(f\"Epoch {epoch+1}/{num_epoch}, Train Loss: {train_loss:.4f}, Val Loss: {val_loss:.4f},  Val Metric: {accuracy:.4f}\")\n",
    "\n",
    "    # if (debug):\n",
    "    #     break"
   ]
  },
  {
   "cell_type": "code",
   "execution_count": 33,
   "id": "26762e2d",
   "metadata": {
    "execution": {
     "iopub.execute_input": "2025-02-02T07:51:28.077469Z",
     "iopub.status.busy": "2025-02-02T07:51:28.077144Z",
     "iopub.status.idle": "2025-02-02T07:51:28.358467Z",
     "shell.execute_reply": "2025-02-02T07:51:28.357568Z"
    },
    "papermill": {
     "duration": 0.297512,
     "end_time": "2025-02-02T07:51:28.359780",
     "exception": false,
     "start_time": "2025-02-02T07:51:28.062268",
     "status": "completed"
    },
    "tags": []
   },
   "outputs": [
    {
     "data": {
      "text/plain": [
       "[<matplotlib.lines.Line2D at 0x7e57d4ee9270>]"
      ]
     },
     "execution_count": 33,
     "metadata": {},
     "output_type": "execute_result"
    },
    {
     "data": {
      "image/png": "[encoded data removed]",
      "text/plain": [
       "<Figure size 640x480 with 1 Axes>"
      ]
     },
     "metadata": {},
     "output_type": "display_data"
    }
   ],
   "source": [
    "chunk_size = 50\n",
    "\n",
    "# Trim excess elements so total size is divisible by chunk_size\n",
    "trimmed_size_train = (len(lossi_train) // chunk_size) * chunk_size\n",
    "trimmed_size_val = (len(lossi_val) // chunk_size) * chunk_size\n",
    "\n",
    "lossi_train = lossi_train[:trimmed_size_train]  # Trim to nearest multiple of chunk_size\n",
    "lossi_val = lossi_val[:trimmed_size_val]  # Trim to nearest multiple of chunk_size\n",
    "\n",
    "plt.plot(torch.tensor(lossi_train).view(-1, chunk_size).mean(1), color=\"blue\")\n",
    "plt.plot(torch.tensor(lossi_val).view(-1, chunk_size).mean(1), color=\"red\")"
   ]
  },
  {
   "cell_type": "code",
   "execution_count": 34,
   "id": "6163619a",
   "metadata": {
    "execution": {
     "iopub.execute_input": "2025-02-02T07:51:28.390334Z",
     "iopub.status.busy": "2025-02-02T07:51:28.390056Z",
     "iopub.status.idle": "2025-02-02T07:51:28.620096Z",
     "shell.execute_reply": "2025-02-02T07:51:28.619197Z"
    },
    "papermill": {
     "duration": 0.246995,
     "end_time": "2025-02-02T07:51:28.621581",
     "exception": false,
     "start_time": "2025-02-02T07:51:28.374586",
     "status": "completed"
    },
    "tags": []
   },
   "outputs": [
    {
     "data": {
      "text/plain": [
       "[<matplotlib.lines.Line2D at 0x7e57d4f1a8c0>]"
      ]
     },
     "execution_count": 34,
     "metadata": {},
     "output_type": "execute_result"
    },
    {
     "data": {
      "image/png": "[encoded data removed]",
      "text/plain": [
       "<Figure size 640x480 with 1 Axes>"
      ]
     },
     "metadata": {},
     "output_type": "display_data"
    }
   ],
   "source": [
    "chunk_size = 50\n",
    "\n",
    "# Trim excess elements so total size is divisible by chunk_size\n",
    "trimmed_size_metric_val = (len(metric_val) // chunk_size) * chunk_size\n",
    "\n",
    "metric_val = metric_val[:trimmed_size_metric_val]  # Trim to nearest multiple of chunk_size\n",
    "\n",
    "plt.plot(torch.tensor(metric_val).view(-1, chunk_size).mean(1), color=\"blue\")"
   ]
  },
  {
   "cell_type": "code",
   "execution_count": 35,
   "id": "0a08bfb6",
   "metadata": {
    "execution": {
     "iopub.execute_input": "2025-02-02T07:51:28.652472Z",
     "iopub.status.busy": "2025-02-02T07:51:28.652188Z",
     "iopub.status.idle": "2025-02-02T07:51:28.895258Z",
     "shell.execute_reply": "2025-02-02T07:51:28.894371Z"
    },
    "papermill": {
     "duration": 0.259924,
     "end_time": "2025-02-02T07:51:28.896720",
     "exception": false,
     "start_time": "2025-02-02T07:51:28.636796",
     "status": "completed"
    },
    "tags": []
   },
   "outputs": [
    {
     "name": "stdout",
     "output_type": "stream",
     "text": [
      "layer 2 (LeakyReluLayer): mean +0.39, std 0.70\n",
      "layer 5 (LeakyReluLayer): mean +0.32, std 0.58\n"
     ]
    },
    {
     "data": {
      "image/png": "[encoded data removed]",
      "text/plain": [
       "<Figure size 2000x400 with 1 Axes>"
      ]
     },
     "metadata": {},
     "output_type": "display_data"
    }
   ],
   "source": [
    "# visualize activations\n",
    "plt.figure(figsize=(20, 4))\n",
    "legends = []\n",
    "\n",
    "if (len(model.layers) > 1):\n",
    "    for i, layer in enumerate(model.layers): # exclude output layer\n",
    "        layer_name = layer.__class__.__name__\n",
    "        for activation_layer in activation_layers:\n",
    "            if (activation_layer in layer_name):\n",
    "                t = layer.output.cpu()\n",
    "                print('layer %d (%10s): mean %+.2f, std %.2f' % (i, layer.__class__.__name__, t.mean(), t.std()))\n",
    "                hy, hx = torch.histogram(t, density=True)\n",
    "                plt.plot(hx[:-1].detach(), hy.detach())\n",
    "                legends.append(f'layer {i} ({layer.__class__.__name__})')\n",
    "    \n",
    "    plt.legend(legends)\n",
    "    plt.title(\"activation distribution\")"
   ]
  },
  {
   "cell_type": "code",
   "execution_count": 36,
   "id": "26c53d75",
   "metadata": {
    "execution": {
     "iopub.execute_input": "2025-02-02T07:51:28.930064Z",
     "iopub.status.busy": "2025-02-02T07:51:28.929798Z",
     "iopub.status.idle": "2025-02-02T07:51:29.337539Z",
     "shell.execute_reply": "2025-02-02T07:51:29.336726Z"
    },
    "papermill": {
     "duration": 0.425824,
     "end_time": "2025-02-02T07:51:29.339048",
     "exception": false,
     "start_time": "2025-02-02T07:51:28.913224",
     "status": "completed"
    },
    "tags": []
   },
   "outputs": [
    {
     "name": "stdout",
     "output_type": "stream",
     "text": [
      "layer (LeakyReluLayer: 2): mean -0.000000, std 1.918380e-03\n",
      "layer (LeakyReluLayer: 5): mean +0.000322, std 7.015682e-03\n"
     ]
    },
    {
     "data": {
      "image/png": "[encoded data removed]",
      "text/plain": [
       "<Figure size 2000x400 with 1 Axes>"
      ]
     },
     "metadata": {},
     "output_type": "display_data"
    }
   ],
   "source": [
    "# visualize histograms\n",
    "plt.figure(figsize=(20, 4)) # width and height of the plot\n",
    "legends = []\n",
    "\n",
    "if (len(model.layers) > 1):\n",
    "    for layer_name, layer_grad in output_grads[-1].items(): # note: exclude the output\n",
    "        for activation_layer in activation_layers:\n",
    "            if (activation_layer in layer_name):\n",
    "                t = layer_grad.cpu()\n",
    "                print('layer (%10s): mean %+f, std %e' % (layer_name, t.mean(), t.std()))\n",
    "                hy, hx = torch.histogram(t, density=True)\n",
    "                plt.plot(hx[:-1].detach(), hy.detach())\n",
    "                legends.append(f'{layer_name}')\n",
    "    \n",
    "        plt.legend(legends);\n",
    "        plt.title('gradient distribution')"
   ]
  },
  {
   "cell_type": "code",
   "execution_count": 37,
   "id": "01536723",
   "metadata": {
    "execution": {
     "iopub.execute_input": "2025-02-02T07:51:29.374225Z",
     "iopub.status.busy": "2025-02-02T07:51:29.373940Z",
     "iopub.status.idle": "2025-02-02T07:51:29.697680Z",
     "shell.execute_reply": "2025-02-02T07:51:29.696876Z"
    },
    "papermill": {
     "duration": 0.342786,
     "end_time": "2025-02-02T07:51:29.699229",
     "exception": false,
     "start_time": "2025-02-02T07:51:29.356443",
     "status": "completed"
    },
    "tags": []
   },
   "outputs": [
    {
     "name": "stdout",
     "output_type": "stream",
     "text": [
      "weight   (256, 3) | mean +0.000000 | std 7.545405e-03 | grad:data ratio 5.634392e-02\n",
      "weight (128, 256) | mean +0.000028 | std 1.524164e-03 | grad:data ratio 1.369079e-02\n",
      "weight   (1, 128) | mean +0.075234 | std 1.019864e-01 | grad:data ratio 9.107918e-01\n"
     ]
    },
    {
     "data": {
      "image/png": "[encoded data removed]",
      "text/plain": [
       "<Figure size 2000x400 with 1 Axes>"
      ]
     },
     "metadata": {},
     "output_type": "display_data"
    }
   ],
   "source": [
    "# visualize histograms\n",
    "plt.figure(figsize=(20, 4)) # width and height of the plot\n",
    "legends = []\n",
    "for i,p in enumerate(model.parameters()):\n",
    "  if p.ndim == 2: # limit to weights only\n",
    "    t = p.grad.cpu()\n",
    "    print('weight %10s | mean %+f | std %e | grad:data ratio %e' % (tuple(p.shape), t.mean(), t.std(), t.std() / p.std()))\n",
    "    hy, hx = torch.histogram(t, density=True)\n",
    "    plt.plot(hx[:-1].detach(), hy.detach())\n",
    "    legends.append(f'{i} {tuple(p.shape)}')\n",
    "plt.legend(legends)\n",
    "plt.title('weights gradient distribution');\n",
    "\n",
    "# gradient to data ratio should be less"
   ]
  },
  {
   "cell_type": "code",
   "execution_count": 38,
   "id": "941a0913",
   "metadata": {
    "execution": {
     "iopub.execute_input": "2025-02-02T07:51:29.735871Z",
     "iopub.status.busy": "2025-02-02T07:51:29.735538Z",
     "iopub.status.idle": "2025-02-02T07:51:29.817957Z",
     "shell.execute_reply": "2025-02-02T07:51:29.816862Z"
    },
    "papermill": {
     "duration": 0.101775,
     "end_time": "2025-02-02T07:51:29.819430",
     "exception": false,
     "start_time": "2025-02-02T07:51:29.717655",
     "status": "completed"
    },
    "tags": []
   },
   "outputs": [
    {
     "name": "stdout",
     "output_type": "stream",
     "text": [
      "Test Accuracy: 68.89%\n"
     ]
    }
   ],
   "source": [
    "model.eval()  # Set model to evaluation mode\n",
    "\n",
    "# Accuracy calculation\n",
    "correct = 0\n",
    "total = 0\n",
    "\n",
    "with torch.no_grad():  # Disable gradient calculation\n",
    "    for inputs, labels in test_loader:\n",
    "        inputs = inputs.to(device)\n",
    "        labels = labels.to(device)\n",
    "        \n",
    "        outputs = model(inputs)\n",
    "        predictions = torch.sigmoid(outputs)  # Apply sigmoid for binary classification\n",
    "        predicted_classes = (predictions > 0.5).float()  # Convert to binary (0 or 1)\n",
    "        correct += (predicted_classes == labels).sum().item()\n",
    "        total += labels.size(0)\n",
    "\n",
    "accuracy = correct / total\n",
    "print(f\"Test Accuracy: {accuracy * 100:.2f}%\")"
   ]
  },
  {
   "cell_type": "code",
   "execution_count": 39,
   "id": "60b9a144",
   "metadata": {
    "execution": {
     "iopub.execute_input": "2025-02-02T07:51:29.855918Z",
     "iopub.status.busy": "2025-02-02T07:51:29.855589Z",
     "iopub.status.idle": "2025-02-02T07:51:30.446014Z",
     "shell.execute_reply": "2025-02-02T07:51:30.444938Z"
    },
    "papermill": {
     "duration": 0.61011,
     "end_time": "2025-02-02T07:51:30.447552",
     "exception": false,
     "start_time": "2025-02-02T07:51:29.837442",
     "status": "completed"
    },
    "tags": []
   },
   "outputs": [
    {
     "name": "stdout",
     "output_type": "stream",
     "text": [
      "Train Accuracy: 62.22%\n"
     ]
    }
   ],
   "source": [
    "model.eval()  # Set model to evaluation mode\n",
    "\n",
    "# Accuracy calculation\n",
    "correct = 0\n",
    "total = 0\n",
    "\n",
    "with torch.no_grad():  # Disable gradient calculation\n",
    "    for inputs, labels in train_loader:\n",
    "        inputs = inputs.to(device)\n",
    "        labels = labels.to(device)\n",
    "        \n",
    "        outputs = model(inputs)\n",
    "        predictions = torch.sigmoid(outputs)  # Apply sigmoid for binary classification\n",
    "        predicted_classes = (predictions > 0.5).float()  # Convert to binary (0 or 1)\n",
    "        correct += (predicted_classes == labels).sum().item()\n",
    "        total += labels.size(0)\n",
    "\n",
    "accuracy = correct / total\n",
    "print(f\"Train Accuracy: {accuracy * 100:.2f}%\")"
   ]
  },
  {
   "cell_type": "markdown",
   "id": "3dd81b33",
   "metadata": {
    "papermill": {
     "duration": 0.01752,
     "end_time": "2025-02-02T07:51:30.483248",
     "exception": false,
     "start_time": "2025-02-02T07:51:30.465728",
     "status": "completed"
    },
    "tags": []
   },
   "source": [
    "## Test"
   ]
  },
  {
   "cell_type": "code",
   "execution_count": 40,
   "id": "5d36dfbb",
   "metadata": {
    "execution": {
     "iopub.execute_input": "2025-02-02T07:51:30.519784Z",
     "iopub.status.busy": "2025-02-02T07:51:30.519407Z",
     "iopub.status.idle": "2025-02-02T07:51:30.539817Z",
     "shell.execute_reply": "2025-02-02T07:51:30.538901Z"
    },
    "papermill": {
     "duration": 0.040303,
     "end_time": "2025-02-02T07:51:30.541338",
     "exception": false,
     "start_time": "2025-02-02T07:51:30.501035",
     "status": "completed"
    },
    "tags": []
   },
   "outputs": [
    {
     "data": {
      "text/html": [
       "<div>\n",
       "<style scoped>\n",
       "    .dataframe tbody tr th:only-of-type {\n",
       "        vertical-align: middle;\n",
       "    }\n",
       "\n",
       "    .dataframe tbody tr th {\n",
       "        vertical-align: top;\n",
       "    }\n",
       "\n",
       "    .dataframe thead th {\n",
       "        text-align: right;\n",
       "    }\n",
       "</style>\n",
       "<table border=\"1\" class=\"dataframe\">\n",
       "  <thead>\n",
       "    <tr style=\"text-align: right;\">\n",
       "      <th></th>\n",
       "      <th>PassengerId</th>\n",
       "      <th>Pclass</th>\n",
       "      <th>Name</th>\n",
       "      <th>Sex</th>\n",
       "      <th>Age</th>\n",
       "      <th>SibSp</th>\n",
       "      <th>Parch</th>\n",
       "      <th>Ticket</th>\n",
       "      <th>Fare</th>\n",
       "      <th>Cabin</th>\n",
       "      <th>Embarked</th>\n",
       "    </tr>\n",
       "  </thead>\n",
       "  <tbody>\n",
       "    <tr>\n",
       "      <th>0</th>\n",
       "      <td>892</td>\n",
       "      <td>3</td>\n",
       "      <td>Kelly, Mr. James</td>\n",
       "      <td>male</td>\n",
       "      <td>34.5</td>\n",
       "      <td>0</td>\n",
       "      <td>0</td>\n",
       "      <td>330911</td>\n",
       "      <td>7.8292</td>\n",
       "      <td>NaN</td>\n",
       "      <td>Q</td>\n",
       "    </tr>\n",
       "    <tr>\n",
       "      <th>1</th>\n",
       "      <td>893</td>\n",
       "      <td>3</td>\n",
       "      <td>Wilkes, Mrs. James (Ellen Needs)</td>\n",
       "      <td>female</td>\n",
       "      <td>47.0</td>\n",
       "      <td>1</td>\n",
       "      <td>0</td>\n",
       "      <td>363272</td>\n",
       "      <td>7.0000</td>\n",
       "      <td>NaN</td>\n",
       "      <td>S</td>\n",
       "    </tr>\n",
       "    <tr>\n",
       "      <th>2</th>\n",
       "      <td>894</td>\n",
       "      <td>2</td>\n",
       "      <td>Myles, Mr. Thomas Francis</td>\n",
       "      <td>male</td>\n",
       "      <td>62.0</td>\n",
       "      <td>0</td>\n",
       "      <td>0</td>\n",
       "      <td>240276</td>\n",
       "      <td>9.6875</td>\n",
       "      <td>NaN</td>\n",
       "      <td>Q</td>\n",
       "    </tr>\n",
       "    <tr>\n",
       "      <th>3</th>\n",
       "      <td>895</td>\n",
       "      <td>3</td>\n",
       "      <td>Wirz, Mr. Albert</td>\n",
       "      <td>male</td>\n",
       "      <td>27.0</td>\n",
       "      <td>0</td>\n",
       "      <td>0</td>\n",
       "      <td>315154</td>\n",
       "      <td>8.6625</td>\n",
       "      <td>NaN</td>\n",
       "      <td>S</td>\n",
       "    </tr>\n",
       "    <tr>\n",
       "      <th>4</th>\n",
       "      <td>896</td>\n",
       "      <td>3</td>\n",
       "      <td>Hirvonen, Mrs. Alexander (Helga E Lindqvist)</td>\n",
       "      <td>female</td>\n",
       "      <td>22.0</td>\n",
       "      <td>1</td>\n",
       "      <td>1</td>\n",
       "      <td>3101298</td>\n",
       "      <td>12.2875</td>\n",
       "      <td>NaN</td>\n",
       "      <td>S</td>\n",
       "    </tr>\n",
       "    <tr>\n",
       "      <th>5</th>\n",
       "      <td>897</td>\n",
       "      <td>3</td>\n",
       "      <td>Svensson, Mr. Johan Cervin</td>\n",
       "      <td>male</td>\n",
       "      <td>14.0</td>\n",
       "      <td>0</td>\n",
       "      <td>0</td>\n",
       "      <td>7538</td>\n",
       "      <td>9.2250</td>\n",
       "      <td>NaN</td>\n",
       "      <td>S</td>\n",
       "    </tr>\n",
       "    <tr>\n",
       "      <th>6</th>\n",
       "      <td>898</td>\n",
       "      <td>3</td>\n",
       "      <td>Connolly, Miss. Kate</td>\n",
       "      <td>female</td>\n",
       "      <td>30.0</td>\n",
       "      <td>0</td>\n",
       "      <td>0</td>\n",
       "      <td>330972</td>\n",
       "      <td>7.6292</td>\n",
       "      <td>NaN</td>\n",
       "      <td>Q</td>\n",
       "    </tr>\n",
       "    <tr>\n",
       "      <th>7</th>\n",
       "      <td>899</td>\n",
       "      <td>2</td>\n",
       "      <td>Caldwell, Mr. Albert Francis</td>\n",
       "      <td>male</td>\n",
       "      <td>26.0</td>\n",
       "      <td>1</td>\n",
       "      <td>1</td>\n",
       "      <td>248738</td>\n",
       "      <td>29.0000</td>\n",
       "      <td>NaN</td>\n",
       "      <td>S</td>\n",
       "    </tr>\n",
       "    <tr>\n",
       "      <th>8</th>\n",
       "      <td>900</td>\n",
       "      <td>3</td>\n",
       "      <td>Abrahim, Mrs. Joseph (Sophie Halaut Easu)</td>\n",
       "      <td>female</td>\n",
       "      <td>18.0</td>\n",
       "      <td>0</td>\n",
       "      <td>0</td>\n",
       "      <td>2657</td>\n",
       "      <td>7.2292</td>\n",
       "      <td>NaN</td>\n",
       "      <td>C</td>\n",
       "    </tr>\n",
       "    <tr>\n",
       "      <th>9</th>\n",
       "      <td>901</td>\n",
       "      <td>3</td>\n",
       "      <td>Davies, Mr. John Samuel</td>\n",
       "      <td>male</td>\n",
       "      <td>21.0</td>\n",
       "      <td>2</td>\n",
       "      <td>0</td>\n",
       "      <td>A/4 48871</td>\n",
       "      <td>24.1500</td>\n",
       "      <td>NaN</td>\n",
       "      <td>S</td>\n",
       "    </tr>\n",
       "  </tbody>\n",
       "</table>\n",
       "</div>"
      ],
      "text/plain": [
       "   PassengerId  Pclass                                          Name     Sex  \\\n",
       "0          892       3                              Kelly, Mr. James    male   \n",
       "1          893       3              Wilkes, Mrs. James (Ellen Needs)  female   \n",
       "2          894       2                     Myles, Mr. Thomas Francis    male   \n",
       "3          895       3                              Wirz, Mr. Albert    male   \n",
       "4          896       3  Hirvonen, Mrs. Alexander (Helga E Lindqvist)  female   \n",
       "5          897       3                    Svensson, Mr. Johan Cervin    male   \n",
       "6          898       3                          Connolly, Miss. Kate  female   \n",
       "7          899       2                  Caldwell, Mr. Albert Francis    male   \n",
       "8          900       3     Abrahim, Mrs. Joseph (Sophie Halaut Easu)  female   \n",
       "9          901       3                       Davies, Mr. John Samuel    male   \n",
       "\n",
       "    Age  SibSp  Parch     Ticket     Fare Cabin Embarked  \n",
       "0  34.5      0      0     330911   7.8292   NaN        Q  \n",
       "1  47.0      1      0     363272   7.0000   NaN        S  \n",
       "2  62.0      0      0     240276   9.6875   NaN        Q  \n",
       "3  27.0      0      0     315154   8.6625   NaN        S  \n",
       "4  22.0      1      1    3101298  12.2875   NaN        S  \n",
       "5  14.0      0      0       7538   9.2250   NaN        S  \n",
       "6  30.0      0      0     330972   7.6292   NaN        Q  \n",
       "7  26.0      1      1     248738  29.0000   NaN        S  \n",
       "8  18.0      0      0       2657   7.2292   NaN        C  \n",
       "9  21.0      2      0  A/4 48871  24.1500   NaN        S  "
      ]
     },
     "execution_count": 40,
     "metadata": {},
     "output_type": "execute_result"
    }
   ],
   "source": [
    "test_df = pd.read_csv(\"/kaggle/input/titanic/test.csv\")\n",
    "test_df.head(10)"
   ]
  },
  {
   "cell_type": "code",
   "execution_count": 41,
   "id": "3b331c25",
   "metadata": {
    "execution": {
     "iopub.execute_input": "2025-02-02T07:51:30.579724Z",
     "iopub.status.busy": "2025-02-02T07:51:30.579338Z",
     "iopub.status.idle": "2025-02-02T07:51:30.584399Z",
     "shell.execute_reply": "2025-02-02T07:51:30.583531Z"
    },
    "papermill": {
     "duration": 0.02558,
     "end_time": "2025-02-02T07:51:30.585815",
     "exception": false,
     "start_time": "2025-02-02T07:51:30.560235",
     "status": "completed"
    },
    "tags": []
   },
   "outputs": [
    {
     "data": {
      "text/plain": [
       "418"
      ]
     },
     "execution_count": 41,
     "metadata": {},
     "output_type": "execute_result"
    }
   ],
   "source": [
    "len(test_df)"
   ]
  },
  {
   "cell_type": "code",
   "execution_count": 42,
   "id": "9b5fb7c0",
   "metadata": {
    "execution": {
     "iopub.execute_input": "2025-02-02T07:51:30.623351Z",
     "iopub.status.busy": "2025-02-02T07:51:30.623052Z",
     "iopub.status.idle": "2025-02-02T07:51:30.635732Z",
     "shell.execute_reply": "2025-02-02T07:51:30.635008Z"
    },
    "papermill": {
     "duration": 0.032689,
     "end_time": "2025-02-02T07:51:30.637069",
     "exception": false,
     "start_time": "2025-02-02T07:51:30.604380",
     "status": "completed"
    },
    "tags": []
   },
   "outputs": [
    {
     "data": {
      "text/plain": [
       "(tensor([0., 1., 0.]), tensor([]))"
      ]
     },
     "execution_count": 42,
     "metadata": {},
     "output_type": "execute_result"
    }
   ],
   "source": [
    "csv_file = \"/kaggle/input/titanic/test.csv\"\n",
    "target_col_list = []\n",
    "\n",
    "transforms = torchvision.transforms.Compose([FillNa(fill_na), \n",
    "                                             NormalizeCol(normalize_cols),\n",
    "                                             ConvertNumpyArrToFloat32Tensor()])\n",
    "\n",
    "entire_data_transform = torchvision.transforms.Compose([OneHotEncode(cat_cols),])\n",
    "\n",
    "final_test_dataset = CSVDataset(csv_file, features_col_list, target_col_list, transform=transforms, entire_data_transform=entire_data_transform)\n",
    "final_test_dataset[0]"
   ]
  },
  {
   "cell_type": "code",
   "execution_count": 43,
   "id": "3226557e",
   "metadata": {
    "execution": {
     "iopub.execute_input": "2025-02-02T07:51:30.675265Z",
     "iopub.status.busy": "2025-02-02T07:51:30.674997Z",
     "iopub.status.idle": "2025-02-02T07:51:30.679502Z",
     "shell.execute_reply": "2025-02-02T07:51:30.678842Z"
    },
    "papermill": {
     "duration": 0.025258,
     "end_time": "2025-02-02T07:51:30.680560",
     "exception": false,
     "start_time": "2025-02-02T07:51:30.655302",
     "status": "completed"
    },
    "tags": []
   },
   "outputs": [
    {
     "data": {
      "text/plain": [
       "418"
      ]
     },
     "execution_count": 43,
     "metadata": {},
     "output_type": "execute_result"
    }
   ],
   "source": [
    "len(final_test_dataset)"
   ]
  },
  {
   "cell_type": "code",
   "execution_count": 44,
   "id": "7e7064e3",
   "metadata": {
    "execution": {
     "iopub.execute_input": "2025-02-02T07:51:30.716944Z",
     "iopub.status.busy": "2025-02-02T07:51:30.716654Z",
     "iopub.status.idle": "2025-02-02T07:51:31.263954Z",
     "shell.execute_reply": "2025-02-02T07:51:31.263250Z"
    },
    "papermill": {
     "duration": 0.567288,
     "end_time": "2025-02-02T07:51:31.265528",
     "exception": false,
     "start_time": "2025-02-02T07:51:30.698240",
     "status": "completed"
    },
    "tags": []
   },
   "outputs": [],
   "source": [
    "final_test_loader = DataLoader(final_test_dataset, shuffle=False)\n",
    "\n",
    "pred = []\n",
    "with torch.no_grad():  # Disable gradient calculation\n",
    "    for inputs, labels in final_test_loader:\n",
    "        inputs = inputs.to(device)\n",
    "    \n",
    "        outputs = model(inputs)\n",
    "        predictions = torch.sigmoid(outputs)  # Apply sigmoid for binary classification\n",
    "        predicted_classes = (predictions > 0.5).float()  # Convert to binary (0 or 1)\n",
    "\n",
    "        pred.append(int(predicted_classes.item()))"
   ]
  },
  {
   "cell_type": "code",
   "execution_count": 45,
   "id": "62ed5916",
   "metadata": {
    "execution": {
     "iopub.execute_input": "2025-02-02T07:51:31.303255Z",
     "iopub.status.busy": "2025-02-02T07:51:31.302992Z",
     "iopub.status.idle": "2025-02-02T07:51:31.307451Z",
     "shell.execute_reply": "2025-02-02T07:51:31.306807Z"
    },
    "papermill": {
     "duration": 0.024644,
     "end_time": "2025-02-02T07:51:31.308559",
     "exception": false,
     "start_time": "2025-02-02T07:51:31.283915",
     "status": "completed"
    },
    "tags": []
   },
   "outputs": [
    {
     "data": {
      "text/plain": [
       "418"
      ]
     },
     "execution_count": 45,
     "metadata": {},
     "output_type": "execute_result"
    }
   ],
   "source": [
    "len(final_test_loader)"
   ]
  },
  {
   "cell_type": "code",
   "execution_count": 46,
   "id": "df076fc5",
   "metadata": {
    "execution": {
     "iopub.execute_input": "2025-02-02T07:51:31.344814Z",
     "iopub.status.busy": "2025-02-02T07:51:31.344519Z",
     "iopub.status.idle": "2025-02-02T07:51:31.351544Z",
     "shell.execute_reply": "2025-02-02T07:51:31.350759Z"
    },
    "papermill": {
     "duration": 0.026527,
     "end_time": "2025-02-02T07:51:31.352817",
     "exception": false,
     "start_time": "2025-02-02T07:51:31.326290",
     "status": "completed"
    },
    "tags": []
   },
   "outputs": [],
   "source": [
    "pred_df = pd.DataFrame(pred, columns=[\"Survived\"])\n",
    "pred_df[\"PassengerId\"] = test_df[\"PassengerId\"]\n",
    "pred_df.to_csv(\"pred.csv\", index=False)"
   ]
  },
  {
   "cell_type": "code",
   "execution_count": 47,
   "id": "20b51061",
   "metadata": {
    "execution": {
     "iopub.execute_input": "2025-02-02T07:51:31.389342Z",
     "iopub.status.busy": "2025-02-02T07:51:31.389075Z",
     "iopub.status.idle": "2025-02-02T07:51:31.395656Z",
     "shell.execute_reply": "2025-02-02T07:51:31.394984Z"
    },
    "papermill": {
     "duration": 0.026279,
     "end_time": "2025-02-02T07:51:31.396792",
     "exception": false,
     "start_time": "2025-02-02T07:51:31.370513",
     "status": "completed"
    },
    "tags": []
   },
   "outputs": [
    {
     "data": {
      "text/html": [
       "<div>\n",
       "<style scoped>\n",
       "    .dataframe tbody tr th:only-of-type {\n",
       "        vertical-align: middle;\n",
       "    }\n",
       "\n",
       "    .dataframe tbody tr th {\n",
       "        vertical-align: top;\n",
       "    }\n",
       "\n",
       "    .dataframe thead th {\n",
       "        text-align: right;\n",
       "    }\n",
       "</style>\n",
       "<table border=\"1\" class=\"dataframe\">\n",
       "  <thead>\n",
       "    <tr style=\"text-align: right;\">\n",
       "      <th></th>\n",
       "      <th>Survived</th>\n",
       "      <th>PassengerId</th>\n",
       "    </tr>\n",
       "  </thead>\n",
       "  <tbody>\n",
       "    <tr>\n",
       "      <th>0</th>\n",
       "      <td>0</td>\n",
       "      <td>892</td>\n",
       "    </tr>\n",
       "    <tr>\n",
       "      <th>1</th>\n",
       "      <td>0</td>\n",
       "      <td>893</td>\n",
       "    </tr>\n",
       "    <tr>\n",
       "      <th>2</th>\n",
       "      <td>0</td>\n",
       "      <td>894</td>\n",
       "    </tr>\n",
       "    <tr>\n",
       "      <th>3</th>\n",
       "      <td>0</td>\n",
       "      <td>895</td>\n",
       "    </tr>\n",
       "    <tr>\n",
       "      <th>4</th>\n",
       "      <td>0</td>\n",
       "      <td>896</td>\n",
       "    </tr>\n",
       "  </tbody>\n",
       "</table>\n",
       "</div>"
      ],
      "text/plain": [
       "   Survived  PassengerId\n",
       "0         0          892\n",
       "1         0          893\n",
       "2         0          894\n",
       "3         0          895\n",
       "4         0          896"
      ]
     },
     "execution_count": 47,
     "metadata": {},
     "output_type": "execute_result"
    }
   ],
   "source": [
    "pred_df.head()"
   ]
  },
  {
   "cell_type": "code",
   "execution_count": null,
   "id": "f77ff812",
   "metadata": {
    "papermill": {
     "duration": 0.017577,
     "end_time": "2025-02-02T07:51:31.432345",
     "exception": false,
     "start_time": "2025-02-02T07:51:31.414768",
     "status": "completed"
    },
    "tags": []
   },
   "outputs": [],
   "source": []
  }
 ],
 "metadata": {
  "kaggle": {
   "accelerator": "nvidiaTeslaT4",
   "dataSources": [
    {
     "databundleVersionId": 26502,
     "sourceId": 3136,
     "sourceType": "competition"
    }
   ],
   "dockerImageVersionId": 30822,
   "isGpuEnabled": true,
   "isInternetEnabled": true,
   "language": "python",
   "sourceType": "notebook"
  },
  "kernelspec": {
   "display_name": "Python 3",
   "language": "python",
   "name": "python3"
  },
  "language_info": {
   "codemirror_mode": {
    "name": "ipython",
    "version": 3
   },
   "file_extension": ".py",
   "mimetype": "text/x-python",
   "name": "python",
   "nbconvert_exporter": "python",
   "pygments_lexer": "ipython3",
   "version": "3.10.12"
  },
  "papermill": {
   "default_parameters": {},
   "duration": 97.770864,
   "end_time": "2025-02-02T07:51:33.896048",
   "environment_variables": {},
   "exception": null,
   "input_path": "__notebook__.ipynb",
   "output_path": "__notebook__.ipynb",
   "parameters": {},
   "start_time": "2025-02-02T07:49:56.125184",
   "version": "2.6.0"
  }
 },
 "nbformat": 4,
 "nbformat_minor": 5
}
