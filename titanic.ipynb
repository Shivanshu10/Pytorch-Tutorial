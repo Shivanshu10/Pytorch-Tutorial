{
 "cells": [
  {
   "cell_type": "code",
   "execution_count": 1,
   "id": "2bd96c36",
   "metadata": {
    "_cell_guid": "b1076dfc-b9ad-4769-8c92-a6c4dae69d19",
    "_uuid": "8f2839f25d086af736a60e9eeb907d3b93b6e0e5",
    "execution": {
     "iopub.execute_input": "2025-01-28T09:14:08.700367Z",
     "iopub.status.busy": "2025-01-28T09:14:08.700033Z",
     "iopub.status.idle": "2025-01-28T09:14:10.499753Z",
     "shell.execute_reply": "2025-01-28T09:14:10.498655Z"
    },
    "papermill": {
     "duration": 1.810415,
     "end_time": "2025-01-28T09:14:10.501077",
     "exception": false,
     "start_time": "2025-01-28T09:14:08.690662",
     "status": "completed"
    },
    "tags": []
   },
   "outputs": [
    {
     "name": "stdout",
     "output_type": "stream",
     "text": [
      "/kaggle/input/titanic/train.csv\n",
      "/kaggle/input/titanic/test.csv\n",
      "/kaggle/input/titanic/gender_submission.csv\n"
     ]
    }
   ],
   "source": [
    "import numpy as np\n",
    "import pandas as pd\n",
    "import seaborn as sns\n",
    "import matplotlib.pyplot as plt\n",
    "import os\n",
    "for dirname, _, filenames in os.walk('/kaggle/input'):\n",
    "    for filename in filenames:\n",
    "        print(os.path.join(dirname, filename))"
   ]
  },
  {
   "cell_type": "markdown",
   "id": "cfeb8b41",
   "metadata": {
    "papermill": {
     "duration": 0.007688,
     "end_time": "2025-01-28T09:14:10.517190",
     "exception": false,
     "start_time": "2025-01-28T09:14:10.509502",
     "status": "completed"
    },
    "tags": []
   },
   "source": [
    "## Load Data"
   ]
  },
  {
   "cell_type": "code",
   "execution_count": 2,
   "id": "db16ce3e",
   "metadata": {
    "execution": {
     "iopub.execute_input": "2025-01-28T09:14:10.533442Z",
     "iopub.status.busy": "2025-01-28T09:14:10.533087Z",
     "iopub.status.idle": "2025-01-28T09:14:10.573907Z",
     "shell.execute_reply": "2025-01-28T09:14:10.573122Z"
    },
    "papermill": {
     "duration": 0.050404,
     "end_time": "2025-01-28T09:14:10.575276",
     "exception": false,
     "start_time": "2025-01-28T09:14:10.524872",
     "status": "completed"
    },
    "tags": []
   },
   "outputs": [
    {
     "data": {
      "text/html": [
       "<div>\n",
       "<style scoped>\n",
       "    .dataframe tbody tr th:only-of-type {\n",
       "        vertical-align: middle;\n",
       "    }\n",
       "\n",
       "    .dataframe tbody tr th {\n",
       "        vertical-align: top;\n",
       "    }\n",
       "\n",
       "    .dataframe thead th {\n",
       "        text-align: right;\n",
       "    }\n",
       "</style>\n",
       "<table border=\"1\" class=\"dataframe\">\n",
       "  <thead>\n",
       "    <tr style=\"text-align: right;\">\n",
       "      <th></th>\n",
       "      <th>Survived</th>\n",
       "      <th>Pclass</th>\n",
       "      <th>Name</th>\n",
       "      <th>Sex</th>\n",
       "      <th>Age</th>\n",
       "      <th>SibSp</th>\n",
       "      <th>Parch</th>\n",
       "      <th>Ticket</th>\n",
       "      <th>Fare</th>\n",
       "      <th>Cabin</th>\n",
       "      <th>Embarked</th>\n",
       "    </tr>\n",
       "    <tr>\n",
       "      <th>PassengerId</th>\n",
       "      <th></th>\n",
       "      <th></th>\n",
       "      <th></th>\n",
       "      <th></th>\n",
       "      <th></th>\n",
       "      <th></th>\n",
       "      <th></th>\n",
       "      <th></th>\n",
       "      <th></th>\n",
       "      <th></th>\n",
       "      <th></th>\n",
       "    </tr>\n",
       "  </thead>\n",
       "  <tbody>\n",
       "    <tr>\n",
       "      <th>1</th>\n",
       "      <td>0</td>\n",
       "      <td>3</td>\n",
       "      <td>Braund, Mr. Owen Harris</td>\n",
       "      <td>male</td>\n",
       "      <td>22.0</td>\n",
       "      <td>1</td>\n",
       "      <td>0</td>\n",
       "      <td>A/5 21171</td>\n",
       "      <td>7.2500</td>\n",
       "      <td>NaN</td>\n",
       "      <td>S</td>\n",
       "    </tr>\n",
       "    <tr>\n",
       "      <th>2</th>\n",
       "      <td>1</td>\n",
       "      <td>1</td>\n",
       "      <td>Cumings, Mrs. John Bradley (Florence Briggs Th...</td>\n",
       "      <td>female</td>\n",
       "      <td>38.0</td>\n",
       "      <td>1</td>\n",
       "      <td>0</td>\n",
       "      <td>PC 17599</td>\n",
       "      <td>71.2833</td>\n",
       "      <td>C85</td>\n",
       "      <td>C</td>\n",
       "    </tr>\n",
       "    <tr>\n",
       "      <th>3</th>\n",
       "      <td>1</td>\n",
       "      <td>3</td>\n",
       "      <td>Heikkinen, Miss. Laina</td>\n",
       "      <td>female</td>\n",
       "      <td>26.0</td>\n",
       "      <td>0</td>\n",
       "      <td>0</td>\n",
       "      <td>STON/O2. 3101282</td>\n",
       "      <td>7.9250</td>\n",
       "      <td>NaN</td>\n",
       "      <td>S</td>\n",
       "    </tr>\n",
       "    <tr>\n",
       "      <th>4</th>\n",
       "      <td>1</td>\n",
       "      <td>1</td>\n",
       "      <td>Futrelle, Mrs. Jacques Heath (Lily May Peel)</td>\n",
       "      <td>female</td>\n",
       "      <td>35.0</td>\n",
       "      <td>1</td>\n",
       "      <td>0</td>\n",
       "      <td>113803</td>\n",
       "      <td>53.1000</td>\n",
       "      <td>C123</td>\n",
       "      <td>S</td>\n",
       "    </tr>\n",
       "    <tr>\n",
       "      <th>5</th>\n",
       "      <td>0</td>\n",
       "      <td>3</td>\n",
       "      <td>Allen, Mr. William Henry</td>\n",
       "      <td>male</td>\n",
       "      <td>35.0</td>\n",
       "      <td>0</td>\n",
       "      <td>0</td>\n",
       "      <td>373450</td>\n",
       "      <td>8.0500</td>\n",
       "      <td>NaN</td>\n",
       "      <td>S</td>\n",
       "    </tr>\n",
       "    <tr>\n",
       "      <th>6</th>\n",
       "      <td>0</td>\n",
       "      <td>3</td>\n",
       "      <td>Moran, Mr. James</td>\n",
       "      <td>male</td>\n",
       "      <td>NaN</td>\n",
       "      <td>0</td>\n",
       "      <td>0</td>\n",
       "      <td>330877</td>\n",
       "      <td>8.4583</td>\n",
       "      <td>NaN</td>\n",
       "      <td>Q</td>\n",
       "    </tr>\n",
       "    <tr>\n",
       "      <th>7</th>\n",
       "      <td>0</td>\n",
       "      <td>1</td>\n",
       "      <td>McCarthy, Mr. Timothy J</td>\n",
       "      <td>male</td>\n",
       "      <td>54.0</td>\n",
       "      <td>0</td>\n",
       "      <td>0</td>\n",
       "      <td>17463</td>\n",
       "      <td>51.8625</td>\n",
       "      <td>E46</td>\n",
       "      <td>S</td>\n",
       "    </tr>\n",
       "    <tr>\n",
       "      <th>8</th>\n",
       "      <td>0</td>\n",
       "      <td>3</td>\n",
       "      <td>Palsson, Master. Gosta Leonard</td>\n",
       "      <td>male</td>\n",
       "      <td>2.0</td>\n",
       "      <td>3</td>\n",
       "      <td>1</td>\n",
       "      <td>349909</td>\n",
       "      <td>21.0750</td>\n",
       "      <td>NaN</td>\n",
       "      <td>S</td>\n",
       "    </tr>\n",
       "    <tr>\n",
       "      <th>9</th>\n",
       "      <td>1</td>\n",
       "      <td>3</td>\n",
       "      <td>Johnson, Mrs. Oscar W (Elisabeth Vilhelmina Berg)</td>\n",
       "      <td>female</td>\n",
       "      <td>27.0</td>\n",
       "      <td>0</td>\n",
       "      <td>2</td>\n",
       "      <td>347742</td>\n",
       "      <td>11.1333</td>\n",
       "      <td>NaN</td>\n",
       "      <td>S</td>\n",
       "    </tr>\n",
       "    <tr>\n",
       "      <th>10</th>\n",
       "      <td>1</td>\n",
       "      <td>2</td>\n",
       "      <td>Nasser, Mrs. Nicholas (Adele Achem)</td>\n",
       "      <td>female</td>\n",
       "      <td>14.0</td>\n",
       "      <td>1</td>\n",
       "      <td>0</td>\n",
       "      <td>237736</td>\n",
       "      <td>30.0708</td>\n",
       "      <td>NaN</td>\n",
       "      <td>C</td>\n",
       "    </tr>\n",
       "  </tbody>\n",
       "</table>\n",
       "</div>"
      ],
      "text/plain": [
       "             Survived  Pclass  \\\n",
       "PassengerId                     \n",
       "1                   0       3   \n",
       "2                   1       1   \n",
       "3                   1       3   \n",
       "4                   1       1   \n",
       "5                   0       3   \n",
       "6                   0       3   \n",
       "7                   0       1   \n",
       "8                   0       3   \n",
       "9                   1       3   \n",
       "10                  1       2   \n",
       "\n",
       "                                                          Name     Sex   Age  \\\n",
       "PassengerId                                                                    \n",
       "1                                      Braund, Mr. Owen Harris    male  22.0   \n",
       "2            Cumings, Mrs. John Bradley (Florence Briggs Th...  female  38.0   \n",
       "3                                       Heikkinen, Miss. Laina  female  26.0   \n",
       "4                 Futrelle, Mrs. Jacques Heath (Lily May Peel)  female  35.0   \n",
       "5                                     Allen, Mr. William Henry    male  35.0   \n",
       "6                                             Moran, Mr. James    male   NaN   \n",
       "7                                      McCarthy, Mr. Timothy J    male  54.0   \n",
       "8                               Palsson, Master. Gosta Leonard    male   2.0   \n",
       "9            Johnson, Mrs. Oscar W (Elisabeth Vilhelmina Berg)  female  27.0   \n",
       "10                         Nasser, Mrs. Nicholas (Adele Achem)  female  14.0   \n",
       "\n",
       "             SibSp  Parch            Ticket     Fare Cabin Embarked  \n",
       "PassengerId                                                          \n",
       "1                1      0         A/5 21171   7.2500   NaN        S  \n",
       "2                1      0          PC 17599  71.2833   C85        C  \n",
       "3                0      0  STON/O2. 3101282   7.9250   NaN        S  \n",
       "4                1      0            113803  53.1000  C123        S  \n",
       "5                0      0            373450   8.0500   NaN        S  \n",
       "6                0      0            330877   8.4583   NaN        Q  \n",
       "7                0      0             17463  51.8625   E46        S  \n",
       "8                3      1            349909  21.0750   NaN        S  \n",
       "9                0      2            347742  11.1333   NaN        S  \n",
       "10               1      0            237736  30.0708   NaN        C  "
      ]
     },
     "execution_count": 2,
     "metadata": {},
     "output_type": "execute_result"
    }
   ],
   "source": [
    "train_df = pd.read_csv(\"/kaggle/input/titanic/train.csv\", index_col=0)\n",
    "train_df.head(10)"
   ]
  },
  {
   "cell_type": "code",
   "execution_count": 3,
   "id": "9c066fa8",
   "metadata": {
    "execution": {
     "iopub.execute_input": "2025-01-28T09:14:10.592191Z",
     "iopub.status.busy": "2025-01-28T09:14:10.591926Z",
     "iopub.status.idle": "2025-01-28T09:14:10.596119Z",
     "shell.execute_reply": "2025-01-28T09:14:10.595326Z"
    },
    "papermill": {
     "duration": 0.013819,
     "end_time": "2025-01-28T09:14:10.597322",
     "exception": false,
     "start_time": "2025-01-28T09:14:10.583503",
     "status": "completed"
    },
    "tags": []
   },
   "outputs": [
    {
     "data": {
      "text/plain": [
       "891"
      ]
     },
     "execution_count": 3,
     "metadata": {},
     "output_type": "execute_result"
    }
   ],
   "source": [
    "len(train_df)"
   ]
  },
  {
   "cell_type": "markdown",
   "id": "4c05da05",
   "metadata": {
    "papermill": {
     "duration": 0.007673,
     "end_time": "2025-01-28T09:14:10.612997",
     "exception": false,
     "start_time": "2025-01-28T09:14:10.605324",
     "status": "completed"
    },
    "tags": []
   },
   "source": [
    "## Explore Data"
   ]
  },
  {
   "attachments": {
    "32b3126c-ecdb-46fc-86b2-f22ddf6e6809.png": {
     "image/png": "[encoded data removed]"
    }
   },
   "cell_type": "markdown",
   "id": "3c569675",
   "metadata": {
    "papermill": {
     "duration": 0.007667,
     "end_time": "2025-01-28T09:14:10.628870",
     "exception": false,
     "start_time": "2025-01-28T09:14:10.621203",
     "status": "completed"
    },
    "tags": []
   },
   "source": [
    "![image.png](attachment:32b3126c-ecdb-46fc-86b2-f22ddf6e6809.png)"
   ]
  },
  {
   "cell_type": "code",
   "execution_count": 4,
   "id": "cda0321b",
   "metadata": {
    "execution": {
     "iopub.execute_input": "2025-01-28T09:14:10.645381Z",
     "iopub.status.busy": "2025-01-28T09:14:10.645166Z",
     "iopub.status.idle": "2025-01-28T09:14:10.649210Z",
     "shell.execute_reply": "2025-01-28T09:14:10.648559Z"
    },
    "papermill": {
     "duration": 0.013641,
     "end_time": "2025-01-28T09:14:10.650336",
     "exception": false,
     "start_time": "2025-01-28T09:14:10.636695",
     "status": "completed"
    },
    "tags": []
   },
   "outputs": [
    {
     "data": {
      "text/plain": [
       "891"
      ]
     },
     "execution_count": 4,
     "metadata": {},
     "output_type": "execute_result"
    }
   ],
   "source": [
    "len(train_df)"
   ]
  },
  {
   "cell_type": "code",
   "execution_count": 5,
   "id": "4dfdaa2a",
   "metadata": {
    "execution": {
     "iopub.execute_input": "2025-01-28T09:14:10.666856Z",
     "iopub.status.busy": "2025-01-28T09:14:10.666654Z",
     "iopub.status.idle": "2025-01-28T09:14:10.687401Z",
     "shell.execute_reply": "2025-01-28T09:14:10.686670Z"
    },
    "papermill": {
     "duration": 0.03032,
     "end_time": "2025-01-28T09:14:10.688623",
     "exception": false,
     "start_time": "2025-01-28T09:14:10.658303",
     "status": "completed"
    },
    "tags": []
   },
   "outputs": [
    {
     "data": {
      "text/html": [
       "<div>\n",
       "<style scoped>\n",
       "    .dataframe tbody tr th:only-of-type {\n",
       "        vertical-align: middle;\n",
       "    }\n",
       "\n",
       "    .dataframe tbody tr th {\n",
       "        vertical-align: top;\n",
       "    }\n",
       "\n",
       "    .dataframe thead th {\n",
       "        text-align: right;\n",
       "    }\n",
       "</style>\n",
       "<table border=\"1\" class=\"dataframe\">\n",
       "  <thead>\n",
       "    <tr style=\"text-align: right;\">\n",
       "      <th></th>\n",
       "      <th>Survived</th>\n",
       "      <th>Pclass</th>\n",
       "      <th>Age</th>\n",
       "      <th>SibSp</th>\n",
       "      <th>Parch</th>\n",
       "      <th>Fare</th>\n",
       "    </tr>\n",
       "  </thead>\n",
       "  <tbody>\n",
       "    <tr>\n",
       "      <th>count</th>\n",
       "      <td>891.000000</td>\n",
       "      <td>891.000000</td>\n",
       "      <td>714.000000</td>\n",
       "      <td>891.000000</td>\n",
       "      <td>891.000000</td>\n",
       "      <td>891.000000</td>\n",
       "    </tr>\n",
       "    <tr>\n",
       "      <th>mean</th>\n",
       "      <td>0.383838</td>\n",
       "      <td>2.308642</td>\n",
       "      <td>29.699118</td>\n",
       "      <td>0.523008</td>\n",
       "      <td>0.381594</td>\n",
       "      <td>32.204208</td>\n",
       "    </tr>\n",
       "    <tr>\n",
       "      <th>std</th>\n",
       "      <td>0.486592</td>\n",
       "      <td>0.836071</td>\n",
       "      <td>14.526497</td>\n",
       "      <td>1.102743</td>\n",
       "      <td>0.806057</td>\n",
       "      <td>49.693429</td>\n",
       "    </tr>\n",
       "    <tr>\n",
       "      <th>min</th>\n",
       "      <td>0.000000</td>\n",
       "      <td>1.000000</td>\n",
       "      <td>0.420000</td>\n",
       "      <td>0.000000</td>\n",
       "      <td>0.000000</td>\n",
       "      <td>0.000000</td>\n",
       "    </tr>\n",
       "    <tr>\n",
       "      <th>25%</th>\n",
       "      <td>0.000000</td>\n",
       "      <td>2.000000</td>\n",
       "      <td>20.125000</td>\n",
       "      <td>0.000000</td>\n",
       "      <td>0.000000</td>\n",
       "      <td>7.910400</td>\n",
       "    </tr>\n",
       "    <tr>\n",
       "      <th>50%</th>\n",
       "      <td>0.000000</td>\n",
       "      <td>3.000000</td>\n",
       "      <td>28.000000</td>\n",
       "      <td>0.000000</td>\n",
       "      <td>0.000000</td>\n",
       "      <td>14.454200</td>\n",
       "    </tr>\n",
       "    <tr>\n",
       "      <th>75%</th>\n",
       "      <td>1.000000</td>\n",
       "      <td>3.000000</td>\n",
       "      <td>38.000000</td>\n",
       "      <td>1.000000</td>\n",
       "      <td>0.000000</td>\n",
       "      <td>31.000000</td>\n",
       "    </tr>\n",
       "    <tr>\n",
       "      <th>max</th>\n",
       "      <td>1.000000</td>\n",
       "      <td>3.000000</td>\n",
       "      <td>80.000000</td>\n",
       "      <td>8.000000</td>\n",
       "      <td>6.000000</td>\n",
       "      <td>512.329200</td>\n",
       "    </tr>\n",
       "  </tbody>\n",
       "</table>\n",
       "</div>"
      ],
      "text/plain": [
       "         Survived      Pclass         Age       SibSp       Parch        Fare\n",
       "count  891.000000  891.000000  714.000000  891.000000  891.000000  891.000000\n",
       "mean     0.383838    2.308642   29.699118    0.523008    0.381594   32.204208\n",
       "std      0.486592    0.836071   14.526497    1.102743    0.806057   49.693429\n",
       "min      0.000000    1.000000    0.420000    0.000000    0.000000    0.000000\n",
       "25%      0.000000    2.000000   20.125000    0.000000    0.000000    7.910400\n",
       "50%      0.000000    3.000000   28.000000    0.000000    0.000000   14.454200\n",
       "75%      1.000000    3.000000   38.000000    1.000000    0.000000   31.000000\n",
       "max      1.000000    3.000000   80.000000    8.000000    6.000000  512.329200"
      ]
     },
     "execution_count": 5,
     "metadata": {},
     "output_type": "execute_result"
    }
   ],
   "source": [
    "train_df.describe()"
   ]
  },
  {
   "cell_type": "code",
   "execution_count": 6,
   "id": "410ad244",
   "metadata": {
    "execution": {
     "iopub.execute_input": "2025-01-28T09:14:10.706036Z",
     "iopub.status.busy": "2025-01-28T09:14:10.705841Z",
     "iopub.status.idle": "2025-01-28T09:14:10.709597Z",
     "shell.execute_reply": "2025-01-28T09:14:10.708981Z"
    },
    "papermill": {
     "duration": 0.013424,
     "end_time": "2025-01-28T09:14:10.710698",
     "exception": false,
     "start_time": "2025-01-28T09:14:10.697274",
     "status": "completed"
    },
    "tags": []
   },
   "outputs": [
    {
     "name": "stdout",
     "output_type": "stream",
     "text": [
      "count of items to be dropped 177\n",
      "count of items left 714\n"
     ]
    }
   ],
   "source": [
    "# age has some null value\n",
    "# should we try dropping them for now?\n",
    "\n",
    "# count of rows that will be dropped\n",
    "print(f\"count of items to be dropped {len(train_df) - 714}\")\n",
    "\n",
    "# rows lefr\n",
    "print(f\"count of items left {len(train_df) - len(train_df) + 714}\")"
   ]
  },
  {
   "cell_type": "code",
   "execution_count": 7,
   "id": "972db650",
   "metadata": {
    "execution": {
     "iopub.execute_input": "2025-01-28T09:14:10.727799Z",
     "iopub.status.busy": "2025-01-28T09:14:10.727595Z",
     "iopub.status.idle": "2025-01-28T09:14:10.732749Z",
     "shell.execute_reply": "2025-01-28T09:14:10.732153Z"
    },
    "papermill": {
     "duration": 0.014889,
     "end_time": "2025-01-28T09:14:10.733920",
     "exception": false,
     "start_time": "2025-01-28T09:14:10.719031",
     "status": "completed"
    },
    "tags": []
   },
   "outputs": [
    {
     "data": {
      "text/plain": [
       "Survived      0\n",
       "Pclass        0\n",
       "Name          0\n",
       "Sex           0\n",
       "Age         177\n",
       "SibSp         0\n",
       "Parch         0\n",
       "Ticket        0\n",
       "Fare          0\n",
       "Cabin       687\n",
       "Embarked      2\n",
       "dtype: int64"
      ]
     },
     "execution_count": 7,
     "metadata": {},
     "output_type": "execute_result"
    }
   ],
   "source": [
    "train_df.isna().sum()"
   ]
  },
  {
   "cell_type": "code",
   "execution_count": 8,
   "id": "e69a97c8",
   "metadata": {
    "execution": {
     "iopub.execute_input": "2025-01-28T09:14:10.751130Z",
     "iopub.status.busy": "2025-01-28T09:14:10.750908Z",
     "iopub.status.idle": "2025-01-28T09:14:10.753476Z",
     "shell.execute_reply": "2025-01-28T09:14:10.752879Z"
    },
    "papermill": {
     "duration": 0.012403,
     "end_time": "2025-01-28T09:14:10.754634",
     "exception": false,
     "start_time": "2025-01-28T09:14:10.742231",
     "status": "completed"
    },
    "tags": []
   },
   "outputs": [],
   "source": [
    "# cabin has 687 nulls, i dont think we can learn anything using it though"
   ]
  },
  {
   "cell_type": "code",
   "execution_count": 9,
   "id": "35af4405",
   "metadata": {
    "execution": {
     "iopub.execute_input": "2025-01-28T09:14:10.773166Z",
     "iopub.status.busy": "2025-01-28T09:14:10.772950Z",
     "iopub.status.idle": "2025-01-28T09:14:10.778835Z",
     "shell.execute_reply": "2025-01-28T09:14:10.778174Z"
    },
    "papermill": {
     "duration": 0.016075,
     "end_time": "2025-01-28T09:14:10.780159",
     "exception": false,
     "start_time": "2025-01-28T09:14:10.764084",
     "status": "completed"
    },
    "tags": []
   },
   "outputs": [
    {
     "data": {
      "text/plain": [
       "Survived\n",
       "0    549\n",
       "1    342\n",
       "Name: count, dtype: int64"
      ]
     },
     "execution_count": 9,
     "metadata": {},
     "output_type": "execute_result"
    }
   ],
   "source": [
    "# lets check balance now\n",
    "train_df[\"Survived\"].value_counts()"
   ]
  },
  {
   "cell_type": "code",
   "execution_count": 10,
   "id": "0c5291ab",
   "metadata": {
    "execution": {
     "iopub.execute_input": "2025-01-28T09:14:10.797645Z",
     "iopub.status.busy": "2025-01-28T09:14:10.797412Z",
     "iopub.status.idle": "2025-01-28T09:14:10.803531Z",
     "shell.execute_reply": "2025-01-28T09:14:10.802705Z"
    },
    "papermill": {
     "duration": 0.016203,
     "end_time": "2025-01-28T09:14:10.804873",
     "exception": false,
     "start_time": "2025-01-28T09:14:10.788670",
     "status": "completed"
    },
    "tags": []
   },
   "outputs": [
    {
     "name": "stdout",
     "output_type": "stream",
     "text": [
      "Survived\n",
      "0    61.616162\n",
      "1    38.383838\n",
      "Name: proportion, dtype: float64\n",
      "The dataset is balanced.\n"
     ]
    }
   ],
   "source": [
    "class_percentages = train_df[\"Survived\"].value_counts(normalize=True) * 100\n",
    "\n",
    "print(class_percentages)\n",
    "\n",
    "threshold = 70  # Adjust this as needed\n",
    "is_balanced = all(class_percentages < threshold)\n",
    "\n",
    "if is_balanced:\n",
    "    print(\"The dataset is balanced.\")\n",
    "else:\n",
    "    print(\"The dataset is imbalanced.\")"
   ]
  },
  {
   "cell_type": "code",
   "execution_count": 11,
   "id": "16d5d6cb",
   "metadata": {
    "execution": {
     "iopub.execute_input": "2025-01-28T09:14:10.822905Z",
     "iopub.status.busy": "2025-01-28T09:14:10.822704Z",
     "iopub.status.idle": "2025-01-28T09:14:10.825446Z",
     "shell.execute_reply": "2025-01-28T09:14:10.824779Z"
    },
    "papermill": {
     "duration": 0.012788,
     "end_time": "2025-01-28T09:14:10.826634",
     "exception": false,
     "start_time": "2025-01-28T09:14:10.813846",
     "status": "completed"
    },
    "tags": []
   },
   "outputs": [],
   "source": [
    "# so model can easily get 61% accuracy if it always predics 0\n",
    "# so this will be our basepoint"
   ]
  },
  {
   "cell_type": "code",
   "execution_count": 12,
   "id": "98279767",
   "metadata": {
    "execution": {
     "iopub.execute_input": "2025-01-28T09:14:10.844581Z",
     "iopub.status.busy": "2025-01-28T09:14:10.844378Z",
     "iopub.status.idle": "2025-01-28T09:14:10.863821Z",
     "shell.execute_reply": "2025-01-28T09:14:10.863126Z"
    },
    "papermill": {
     "duration": 0.029488,
     "end_time": "2025-01-28T09:14:10.864951",
     "exception": false,
     "start_time": "2025-01-28T09:14:10.835463",
     "status": "completed"
    },
    "tags": []
   },
   "outputs": [
    {
     "name": "stdout",
     "output_type": "stream",
     "text": [
      "Column: Survived\n",
      "Outliers: 0\n",
      "Column: Pclass\n",
      "Outliers: 0\n",
      "Column: Age\n",
      "Outliers: 11\n",
      "Column: SibSp\n",
      "Outliers: 46\n",
      "Column: Parch\n",
      "Outliers: 213\n",
      "Column: Fare\n",
      "Outliers: 116\n"
     ]
    }
   ],
   "source": [
    "# check outliers\n",
    "# Identify outliers for each column\n",
    "for column in train_df.select_dtypes(include=[np.number]):  # Only numerical columns\n",
    "    Q1 = train_df[column].quantile(0.25)  # First quartile (25th percentile)\n",
    "    Q3 = train_df[column].quantile(0.75)  # Third quartile (75th percentile)\n",
    "    IQR = Q3 - Q1  # Interquartile range\n",
    "    lower_bound = Q1 - 1.5 * IQR\n",
    "    upper_bound = Q3 + 1.5 * IQR\n",
    "\n",
    "    print(f\"Column: {column}\")\n",
    "    print(f\"Outliers: {len(train_df[(train_df[column] < lower_bound) | (train_df[column] > upper_bound)][column].tolist())}\")"
   ]
  },
  {
   "cell_type": "markdown",
   "id": "24e6ae3c",
   "metadata": {
    "papermill": {
     "duration": 0.008364,
     "end_time": "2025-01-28T09:14:10.881812",
     "exception": false,
     "start_time": "2025-01-28T09:14:10.873448",
     "status": "completed"
    },
    "tags": []
   },
   "source": [
    "## Create Dataset Class"
   ]
  },
  {
   "cell_type": "code",
   "execution_count": 13,
   "id": "fcbb643b",
   "metadata": {
    "execution": {
     "iopub.execute_input": "2025-01-28T09:14:10.899802Z",
     "iopub.status.busy": "2025-01-28T09:14:10.899597Z",
     "iopub.status.idle": "2025-01-28T09:14:11.153722Z",
     "shell.execute_reply": "2025-01-28T09:14:11.152890Z"
    },
    "papermill": {
     "duration": 0.264525,
     "end_time": "2025-01-28T09:14:11.155120",
     "exception": false,
     "start_time": "2025-01-28T09:14:10.890595",
     "status": "completed"
    },
    "tags": []
   },
   "outputs": [
    {
     "data": {
      "image/png": "[encoded data removed]",
      "text/plain": [
       "<Figure size 640x480 with 1 Axes>"
      ]
     },
     "metadata": {},
     "output_type": "display_data"
    }
   ],
   "source": [
    "sns.countplot(x='Sex', hue='Survived', data=train_df)\n",
    "\n",
    "total = len(train_df)\n",
    "\n",
    "# Add percentage annotations\n",
    "\n",
    "for p in plt.gca().patches:\n",
    "    height = p.get_height()\n",
    "    width = p.get_width()\n",
    "    x, y = p.get_xy()  # Get position of each bar\n",
    "    percentage = height / total * 100\n",
    "    plt.text(x + width / 2, y + height + 5, f'{percentage:.1f}%', ha='center')\n",
    "\n",
    "plt.title('Count of Survived vs. Not Survived by Gender')\n",
    "plt.xlabel('Gender')\n",
    "plt.ylabel('Count')\n",
    "plt.show()"
   ]
  },
  {
   "cell_type": "code",
   "execution_count": 14,
   "id": "4082a09b",
   "metadata": {
    "execution": {
     "iopub.execute_input": "2025-01-28T09:14:11.174193Z",
     "iopub.status.busy": "2025-01-28T09:14:11.173941Z",
     "iopub.status.idle": "2025-01-28T09:14:11.429965Z",
     "shell.execute_reply": "2025-01-28T09:14:11.429249Z"
    },
    "papermill": {
     "duration": 0.266717,
     "end_time": "2025-01-28T09:14:11.431208",
     "exception": false,
     "start_time": "2025-01-28T09:14:11.164491",
     "status": "completed"
    },
    "tags": []
   },
   "outputs": [
    {
     "name": "stderr",
     "output_type": "stream",
     "text": [
      "/usr/local/lib/python3.10/dist-packages/seaborn/_oldcore.py:1119: FutureWarning: use_inf_as_na option is deprecated and will be removed in a future version. Convert inf values to NaN before operating instead.\n",
      "  with pd.option_context('mode.use_inf_as_na', True):\n"
     ]
    },
    {
     "data": {
      "image/png": "[encoded data removed]",
      "text/plain": [
       "<Figure size 640x480 with 1 Axes>"
      ]
     },
     "metadata": {},
     "output_type": "display_data"
    }
   ],
   "source": [
    "sns.histplot(x='Age', hue='Survived', data=train_df)\n",
    "plt.title('Count of Survived vs. Not Survived by Age')\n",
    "plt.xlabel('Age')\n",
    "plt.ylabel('Count')\n",
    "plt.show()"
   ]
  },
  {
   "cell_type": "code",
   "execution_count": 15,
   "id": "c0c6fc58",
   "metadata": {
    "execution": {
     "iopub.execute_input": "2025-01-28T09:14:11.451525Z",
     "iopub.status.busy": "2025-01-28T09:14:11.451299Z",
     "iopub.status.idle": "2025-01-28T09:14:11.456548Z",
     "shell.execute_reply": "2025-01-28T09:14:11.455858Z"
    },
    "papermill": {
     "duration": 0.016481,
     "end_time": "2025-01-28T09:14:11.457645",
     "exception": false,
     "start_time": "2025-01-28T09:14:11.441164",
     "status": "completed"
    },
    "tags": []
   },
   "outputs": [
    {
     "data": {
      "text/plain": [
       "Survived\n",
       "0    549\n",
       "1    342\n",
       "Name: count, dtype: int64"
      ]
     },
     "execution_count": 15,
     "metadata": {},
     "output_type": "execute_result"
    }
   ],
   "source": [
    "train_df[\"Survived\"].value_counts()"
   ]
  },
  {
   "cell_type": "code",
   "execution_count": 16,
   "id": "519b248a",
   "metadata": {
    "execution": {
     "iopub.execute_input": "2025-01-28T09:14:11.477261Z",
     "iopub.status.busy": "2025-01-28T09:14:11.477037Z",
     "iopub.status.idle": "2025-01-28T09:14:16.311726Z",
     "shell.execute_reply": "2025-01-28T09:14:16.310594Z"
    },
    "papermill": {
     "duration": 4.846133,
     "end_time": "2025-01-28T09:14:16.313342",
     "exception": false,
     "start_time": "2025-01-28T09:14:11.467209",
     "status": "completed"
    },
    "tags": []
   },
   "outputs": [
    {
     "name": "stdout",
     "output_type": "stream",
     "text": [
      "Collecting torchviz\r\n",
      "  Downloading torchviz-0.0.3-py3-none-any.whl.metadata (2.1 kB)\r\n",
      "Requirement already satisfied: torch in /usr/local/lib/python3.10/dist-packages (from torchviz) (2.4.1+cu121)\r\n",
      "Requirement already satisfied: graphviz in /usr/local/lib/python3.10/dist-packages (from torchviz) (0.20.3)\r\n",
      "Requirement already satisfied: filelock in /usr/local/lib/python3.10/dist-packages (from torch->torchviz) (3.16.1)\r\n",
      "Requirement already satisfied: typing-extensions>=4.8.0 in /usr/local/lib/python3.10/dist-packages (from torch->torchviz) (4.12.2)\r\n",
      "Requirement already satisfied: sympy in /usr/local/lib/python3.10/dist-packages (from torch->torchviz) (1.13.3)\r\n",
      "Requirement already satisfied: networkx in /usr/local/lib/python3.10/dist-packages (from torch->torchviz) (3.3)\r\n",
      "Requirement already satisfied: jinja2 in /usr/local/lib/python3.10/dist-packages (from torch->torchviz) (3.1.4)\r\n",
      "Requirement already satisfied: fsspec in /usr/local/lib/python3.10/dist-packages (from torch->torchviz) (2024.6.1)\r\n",
      "Requirement already satisfied: MarkupSafe>=2.0 in /usr/local/lib/python3.10/dist-packages (from jinja2->torch->torchviz) (2.1.5)\r\n",
      "Requirement already satisfied: mpmath<1.4,>=1.1.0 in /usr/local/lib/python3.10/dist-packages (from sympy->torch->torchviz) (1.3.0)\r\n",
      "Downloading torchviz-0.0.3-py3-none-any.whl (5.7 kB)\r\n",
      "Installing collected packages: torchviz\r\n",
      "Successfully installed torchviz-0.0.3\r\n"
     ]
    }
   ],
   "source": [
    "!pip install torchviz"
   ]
  },
  {
   "cell_type": "code",
   "execution_count": 17,
   "id": "a93117e3",
   "metadata": {
    "execution": {
     "iopub.execute_input": "2025-01-28T09:14:16.334380Z",
     "iopub.status.busy": "2025-01-28T09:14:16.334088Z",
     "iopub.status.idle": "2025-01-28T09:14:21.902815Z",
     "shell.execute_reply": "2025-01-28T09:14:21.902085Z"
    },
    "papermill": {
     "duration": 5.580632,
     "end_time": "2025-01-28T09:14:21.904291",
     "exception": false,
     "start_time": "2025-01-28T09:14:16.323659",
     "status": "completed"
    },
    "tags": []
   },
   "outputs": [],
   "source": [
    "import torch\n",
    "from torch.utils.data import Dataset, DataLoader\n",
    "import torchvision\n",
    "import torch.nn as nn \n",
    "from torch.utils.data import random_split\n",
    "import math\n",
    "from torchviz import make_dot\n",
    "from IPython.display import Image"
   ]
  },
  {
   "cell_type": "code",
   "execution_count": 18,
   "id": "73243427",
   "metadata": {
    "execution": {
     "iopub.execute_input": "2025-01-28T09:14:21.925863Z",
     "iopub.status.busy": "2025-01-28T09:14:21.925486Z",
     "iopub.status.idle": "2025-01-28T09:14:21.933811Z",
     "shell.execute_reply": "2025-01-28T09:14:21.933225Z"
    },
    "papermill": {
     "duration": 0.020377,
     "end_time": "2025-01-28T09:14:21.935031",
     "exception": false,
     "start_time": "2025-01-28T09:14:21.914654",
     "status": "completed"
    },
    "tags": []
   },
   "outputs": [],
   "source": [
    "torch.manual_seed(42); # seed rng for reproducibility"
   ]
  },
  {
   "cell_type": "code",
   "execution_count": 19,
   "id": "235c59a5",
   "metadata": {
    "execution": {
     "iopub.execute_input": "2025-01-28T09:14:21.955782Z",
     "iopub.status.busy": "2025-01-28T09:14:21.955566Z",
     "iopub.status.idle": "2025-01-28T09:14:21.960569Z",
     "shell.execute_reply": "2025-01-28T09:14:21.959935Z"
    },
    "papermill": {
     "duration": 0.016401,
     "end_time": "2025-01-28T09:14:21.961646",
     "exception": false,
     "start_time": "2025-01-28T09:14:21.945245",
     "status": "completed"
    },
    "tags": []
   },
   "outputs": [],
   "source": [
    "class CSVDataset(Dataset):\n",
    "    def __init__(self, csv_path, features_col_list, target_col_list, transform=None, dropNa=False):\n",
    "        # data loading\n",
    "        self.features_col_list = features_col_list\n",
    "        self.target_col_list = target_col_list\n",
    "        self.data = pd.read_csv(csv_path, index_col=0)\n",
    "        self.transform = transform\n",
    "\n",
    "        if (dropNa):\n",
    "            self.data.fillna(0, inplace=True)\n",
    "\n",
    "    def __getitem__(self, index):\n",
    "        x = self.data.iloc[index][self.features_col_list]  # Features}\n",
    "        y = self.data.iloc[index][self.target_col_list]  # Target\n",
    "\n",
    "        # Apply transformations if specified\n",
    "        if self.transform:\n",
    "            x, y = self.transform((x,y))\n",
    "\n",
    "        return torch.tensor(x, dtype=torch.float32), torch.tensor(y, dtype=torch.float32)\n",
    "\n",
    "    def __len__(self):\n",
    "        # allow us to use len(dataset)\n",
    "        return len(self.data)"
   ]
  },
  {
   "cell_type": "code",
   "execution_count": 20,
   "id": "960d335d",
   "metadata": {
    "execution": {
     "iopub.execute_input": "2025-01-28T09:14:21.981825Z",
     "iopub.status.busy": "2025-01-28T09:14:21.981629Z",
     "iopub.status.idle": "2025-01-28T09:14:21.985922Z",
     "shell.execute_reply": "2025-01-28T09:14:21.985114Z"
    },
    "papermill": {
     "duration": 0.015727,
     "end_time": "2025-01-28T09:14:21.987151",
     "exception": false,
     "start_time": "2025-01-28T09:14:21.971424",
     "status": "completed"
    },
    "tags": []
   },
   "outputs": [],
   "source": [
    "class SexToNum():\n",
    "    def __call__(self, sample):\n",
    "        inputs, targets = sample\n",
    "\n",
    "        if (inputs[\"Sex\"] == \"male\"):\n",
    "            inputs[\"Sex\"] = 0\n",
    "        else:\n",
    "            inputs[\"Sex\"] = 1\n",
    "\n",
    "        return (inputs, targets)\n",
    "\n",
    "class ConvertNumpyArrToFloat32():\n",
    "    def __call__(self, sample):\n",
    "        inputs, targets = sample\n",
    "        inputs = (inputs.values).astype(np.float32)\n",
    "        targets = (targets.values).astype(np.float32)\n",
    "        return (inputs, targets)"
   ]
  },
  {
   "cell_type": "code",
   "execution_count": 21,
   "id": "ae051f00",
   "metadata": {
    "execution": {
     "iopub.execute_input": "2025-01-28T09:14:22.007577Z",
     "iopub.status.busy": "2025-01-28T09:14:22.007382Z",
     "iopub.status.idle": "2025-01-28T09:14:22.092897Z",
     "shell.execute_reply": "2025-01-28T09:14:22.092205Z"
    },
    "papermill": {
     "duration": 0.09705,
     "end_time": "2025-01-28T09:14:22.094190",
     "exception": false,
     "start_time": "2025-01-28T09:14:21.997140",
     "status": "completed"
    },
    "tags": []
   },
   "outputs": [
    {
     "data": {
      "text/plain": [
       "(tensor([ 0., 22.]), tensor([0.]))"
      ]
     },
     "execution_count": 21,
     "metadata": {},
     "output_type": "execute_result"
    }
   ],
   "source": [
    "csv_file = \"/kaggle/input/titanic/train.csv\"\n",
    "features_col_list = [\"Sex\", \"Age\"]\n",
    "target_col_list = [\"Survived\"]\n",
    "\n",
    "transforms = torchvision.transforms.Compose([SexToNum(), ConvertNumpyArrToFloat32()])\n",
    "\n",
    "dataset = CSVDataset(csv_file, features_col_list, target_col_list, transform=transforms, dropNa=True)\n",
    "dataset[0]"
   ]
  },
  {
   "cell_type": "code",
   "execution_count": 22,
   "id": "ba0b5de9",
   "metadata": {
    "execution": {
     "iopub.execute_input": "2025-01-28T09:14:22.114934Z",
     "iopub.status.busy": "2025-01-28T09:14:22.114701Z",
     "iopub.status.idle": "2025-01-28T09:14:22.118920Z",
     "shell.execute_reply": "2025-01-28T09:14:22.118163Z"
    },
    "papermill": {
     "duration": 0.015869,
     "end_time": "2025-01-28T09:14:22.120123",
     "exception": false,
     "start_time": "2025-01-28T09:14:22.104254",
     "status": "completed"
    },
    "tags": []
   },
   "outputs": [
    {
     "data": {
      "text/plain": [
       "891"
      ]
     },
     "execution_count": 22,
     "metadata": {},
     "output_type": "execute_result"
    }
   ],
   "source": [
    "len(dataset)"
   ]
  },
  {
   "cell_type": "code",
   "execution_count": 23,
   "id": "7345e28e",
   "metadata": {
    "execution": {
     "iopub.execute_input": "2025-01-28T09:14:22.140617Z",
     "iopub.status.busy": "2025-01-28T09:14:22.140411Z",
     "iopub.status.idle": "2025-01-28T09:14:22.148937Z",
     "shell.execute_reply": "2025-01-28T09:14:22.148400Z"
    },
    "papermill": {
     "duration": 0.020178,
     "end_time": "2025-01-28T09:14:22.150139",
     "exception": false,
     "start_time": "2025-01-28T09:14:22.129961",
     "status": "completed"
    },
    "tags": []
   },
   "outputs": [],
   "source": [
    "# Define split ratios\n",
    "train_size = int(0.8 * len(dataset))  # 80% for training\n",
    "val_size = int(0.1 * len(dataset))    # 10% for validation\n",
    "test_size = len(dataset) - train_size - val_size  # Remaining for testing\n",
    "\n",
    "# Split dataset\n",
    "train_dataset, val_dataset, test_dataset = random_split(dataset, [train_size, val_size, test_size])"
   ]
  },
  {
   "cell_type": "code",
   "execution_count": 24,
   "id": "d336993f",
   "metadata": {
    "execution": {
     "iopub.execute_input": "2025-01-28T09:14:22.170758Z",
     "iopub.status.busy": "2025-01-28T09:14:22.170559Z",
     "iopub.status.idle": "2025-01-28T09:14:22.174159Z",
     "shell.execute_reply": "2025-01-28T09:14:22.173534Z"
    },
    "papermill": {
     "duration": 0.015238,
     "end_time": "2025-01-28T09:14:22.175265",
     "exception": false,
     "start_time": "2025-01-28T09:14:22.160027",
     "status": "completed"
    },
    "tags": []
   },
   "outputs": [],
   "source": [
    "# Define batch size\n",
    "# since we have less data\n",
    "batch_size = 16\n",
    "\n",
    "# Create DataLoaders\n",
    "train_loader = DataLoader(train_dataset, batch_size=batch_size, shuffle=False)\n",
    "val_loader = DataLoader(val_dataset, batch_size=batch_size, shuffle=False)\n",
    "test_loader = DataLoader(test_dataset, batch_size=batch_size, shuffle=False)"
   ]
  },
  {
   "cell_type": "code",
   "execution_count": 25,
   "id": "b66b9cbb",
   "metadata": {
    "execution": {
     "iopub.execute_input": "2025-01-28T09:14:22.195687Z",
     "iopub.status.busy": "2025-01-28T09:14:22.195489Z",
     "iopub.status.idle": "2025-01-28T09:14:22.263125Z",
     "shell.execute_reply": "2025-01-28T09:14:22.262295Z"
    },
    "papermill": {
     "duration": 0.079323,
     "end_time": "2025-01-28T09:14:22.264360",
     "exception": false,
     "start_time": "2025-01-28T09:14:22.185037",
     "status": "completed"
    },
    "tags": []
   },
   "outputs": [
    {
     "name": "stdout",
     "output_type": "stream",
     "text": [
      "Using device: cuda\n"
     ]
    }
   ],
   "source": [
    "device = torch.device(\"cuda\" if torch.cuda.is_available() else \"cpu\")\n",
    "print(f\"Using device: {device}\")"
   ]
  },
  {
   "cell_type": "code",
   "execution_count": 26,
   "id": "971eb156",
   "metadata": {
    "execution": {
     "iopub.execute_input": "2025-01-28T09:14:22.285535Z",
     "iopub.status.busy": "2025-01-28T09:14:22.285301Z",
     "iopub.status.idle": "2025-01-28T09:14:22.294786Z",
     "shell.execute_reply": "2025-01-28T09:14:22.294243Z"
    },
    "papermill": {
     "duration": 0.021138,
     "end_time": "2025-01-28T09:14:22.295884",
     "exception": false,
     "start_time": "2025-01-28T09:14:22.274746",
     "status": "completed"
    },
    "tags": []
   },
   "outputs": [],
   "source": [
    "# not correctly init\n",
    "hidden_neuron = 128\n",
    "debug = True\n",
    "\n",
    "class LinearLayer(nn.Linear):\n",
    "    def __init__(self, *args, **kwargs):\n",
    "        # Call the parent constructor to initialize the Linear layer\n",
    "        super().__init__(*args, **kwargs)\n",
    "        \n",
    "    def forward(self, x):\n",
    "        self.output = super().forward(x)\n",
    "        return self.output\n",
    "\n",
    "class ReLuLayer(nn.ReLU):\n",
    "    def __init__(self, *args, **kwargs):\n",
    "        # Call the parent constructor to initialize the Linear layer\n",
    "        super().__init__(*args, **kwargs)\n",
    "        \n",
    "    def forward(self, x):\n",
    "        self.output = super().forward(x)\n",
    "        return self.output\n",
    "\n",
    "class TitanicSurvivalPredictor(nn.Module):\n",
    "    def __init__(self, hidden_neuron):\n",
    "        super().__init__()\n",
    "\n",
    "        # define layers\n",
    "        self.layers = nn.ModuleList([\n",
    "            LinearLayer(2, hidden_neuron),\n",
    "            ReLuLayer(),\n",
    "            LinearLayer(hidden_neuron, hidden_neuron),\n",
    "            ReLuLayer(),\n",
    "            LinearLayer(hidden_neuron, 1),\n",
    "        ])\n",
    "        \n",
    "    def forward(self, x):\n",
    "        for layer in self.layers:\n",
    "            x = layer(x)\n",
    "        return x\n",
    "\n",
    "    def parameters(self):\n",
    "        return [p for layer in self.layers for p in layer.parameters()]\n",
    "\n",
    "model = TitanicSurvivalPredictor(hidden_neuron)"
   ]
  },
  {
   "cell_type": "code",
   "execution_count": 27,
   "id": "d97c0a74",
   "metadata": {
    "execution": {
     "iopub.execute_input": "2025-01-28T09:14:22.316483Z",
     "iopub.status.busy": "2025-01-28T09:14:22.316251Z",
     "iopub.status.idle": "2025-01-28T09:14:22.338917Z",
     "shell.execute_reply": "2025-01-28T09:14:22.338363Z"
    },
    "papermill": {
     "duration": 0.034362,
     "end_time": "2025-01-28T09:14:22.340127",
     "exception": false,
     "start_time": "2025-01-28T09:14:22.305765",
     "status": "completed"
    },
    "tags": []
   },
   "outputs": [],
   "source": [
    "bce_loss = nn.BCEWithLogitsLoss()\n",
    "\n",
    "first_batch_input = None\n",
    "first_batch_label = None\n",
    "for inputs, labels in train_loader:\n",
    "    first_batch_input = inputs\n",
    "    first_batch_label = labels\n",
    "    break"
   ]
  },
  {
   "cell_type": "code",
   "execution_count": 28,
   "id": "85727780",
   "metadata": {
    "execution": {
     "iopub.execute_input": "2025-01-28T09:14:22.360664Z",
     "iopub.status.busy": "2025-01-28T09:14:22.360427Z",
     "iopub.status.idle": "2025-01-28T09:14:22.394267Z",
     "shell.execute_reply": "2025-01-28T09:14:22.393384Z"
    },
    "papermill": {
     "duration": 0.045603,
     "end_time": "2025-01-28T09:14:22.395565",
     "exception": false,
     "start_time": "2025-01-28T09:14:22.349962",
     "status": "completed"
    },
    "tags": []
   },
   "outputs": [
    {
     "name": "stdout",
     "output_type": "stream",
     "text": [
      "init loss: 0.680353581905365\n"
     ]
    }
   ],
   "source": [
    "first_batch_pred_logits = model(first_batch_input)\n",
    "first_batch_pred_prob = torch.sigmoid(first_batch_pred_logits)  # Apply sigmoid for binary classification\n",
    "loss = bce_loss(first_batch_pred_prob, first_batch_label)\n",
    "print(f\"init loss: {loss.item()}\")"
   ]
  },
  {
   "cell_type": "code",
   "execution_count": 29,
   "id": "dba553df",
   "metadata": {
    "execution": {
     "iopub.execute_input": "2025-01-28T09:14:22.416505Z",
     "iopub.status.busy": "2025-01-28T09:14:22.416297Z",
     "iopub.status.idle": "2025-01-28T09:14:22.421716Z",
     "shell.execute_reply": "2025-01-28T09:14:22.421152Z"
    },
    "papermill": {
     "duration": 0.017126,
     "end_time": "2025-01-28T09:14:22.422821",
     "exception": false,
     "start_time": "2025-01-28T09:14:22.405695",
     "status": "completed"
    },
    "tags": []
   },
   "outputs": [],
   "source": [
    "def initParam(model):\n",
    "    # Initialize weights using Xavier Normal\n",
    "    for i, layer in enumerate(model.layers):\n",
    "        if (isinstance(layer, LinearLayer)):\n",
    "            if (i<len(model.layers)-1):\n",
    "                nn.init.xavier_normal_(model.layers[i].weight, torch.nn.init.calculate_gain(\"relu\")) \n",
    "            else:\n",
    "                nn.init.xavier_normal_(model.layers[i].weight, torch.nn.init.calculate_gain(\"sigmoid\")) * 0.001\n",
    "            if layer.bias is not None:\n",
    "                nn.init.zeros_(model.layers[i].bias)\n",
    "\n",
    "initParam(model)"
   ]
  },
  {
   "cell_type": "code",
   "execution_count": 30,
   "id": "0aa66498",
   "metadata": {
    "execution": {
     "iopub.execute_input": "2025-01-28T09:14:22.443427Z",
     "iopub.status.busy": "2025-01-28T09:14:22.443221Z",
     "iopub.status.idle": "2025-01-28T09:14:22.449571Z",
     "shell.execute_reply": "2025-01-28T09:14:22.448925Z"
    },
    "papermill": {
     "duration": 0.01804,
     "end_time": "2025-01-28T09:14:22.450748",
     "exception": false,
     "start_time": "2025-01-28T09:14:22.432708",
     "status": "completed"
    },
    "tags": []
   },
   "outputs": [
    {
     "name": "stdout",
     "output_type": "stream",
     "text": [
      "init loss: 0.6814731359481812\n"
     ]
    }
   ],
   "source": [
    "first_batch_pred_logits = model(first_batch_input)\n",
    "first_batch_pred_prob = torch.sigmoid(first_batch_pred_logits)  # Apply sigmoid for binary classification\n",
    "loss = bce_loss(first_batch_pred_prob, first_batch_label)\n",
    "print(f\"init loss: {loss.item()}\")"
   ]
  },
  {
   "cell_type": "code",
   "execution_count": 31,
   "id": "c1f2eaf1",
   "metadata": {
    "execution": {
     "iopub.execute_input": "2025-01-28T09:14:22.471567Z",
     "iopub.status.busy": "2025-01-28T09:14:22.471362Z",
     "iopub.status.idle": "2025-01-28T09:15:18.021611Z",
     "shell.execute_reply": "2025-01-28T09:15:18.020593Z"
    },
    "papermill": {
     "duration": 55.562394,
     "end_time": "2025-01-28T09:15:18.023174",
     "exception": false,
     "start_time": "2025-01-28T09:14:22.460780",
     "status": "completed"
    },
    "tags": []
   },
   "outputs": [
    {
     "name": "stdout",
     "output_type": "stream",
     "text": [
      "Epoch 100/600, Train Loss: -0.0076, Val Loss: -0.1760\n",
      "Epoch 200/600, Train Loss: -0.0084, Val Loss: -0.1010\n",
      "Epoch 300/600, Train Loss: -0.0093, Val Loss: -0.0415\n",
      "Epoch 400/600, Train Loss: -0.0105, Val Loss: -0.0089\n",
      "Epoch 500/600, Train Loss: -0.0118, Val Loss: 0.0483\n",
      "Epoch 600/600, Train Loss: -0.0123, Val Loss: 0.0756\n"
     ]
    }
   ],
   "source": [
    "# less lr rate since can overfit easily\n",
    "learning_rate = 1e-3\n",
    "# less epoch as can easily overfit\n",
    "num_epoch = 600\n",
    "\n",
    "lossi_train = []\n",
    "lossi_val = []\n",
    "\n",
    "total_samples = len(train_dataset)\n",
    "n_iter = math.ceil(total_samples / batch_size)\n",
    "\n",
    "optimizer = torch.optim.AdamW(model.parameters(), lr=learning_rate)\n",
    "bce_loss = nn.BCEWithLogitsLoss()\n",
    "output_grads = []\n",
    "\n",
    "model = model.to(device)\n",
    "\n",
    "runFirstBatch = False\n",
    "for epoch in range(num_epoch):\n",
    "    train_loss = 0    \n",
    "    for i, (inputs, labels) in enumerate(train_loader):        \n",
    "        # forward pass\n",
    "        # print(f\"inputs: {inputs}\")\n",
    "        # print(f\"labels: {labels}\")\n",
    "        inputs = inputs.to(device)\n",
    "        labels = labels.to(device)\n",
    "\n",
    "        # print(f\"inputs device: {inputs.device}, labels device: {labels.device}, model device: {[param.device for param in model.parameters()]}\")\n",
    "\n",
    "        # reset grad\n",
    "        optimizer.zero_grad()\n",
    "        \n",
    "        pred = model(inputs)\n",
    "        # print(f\"pred: {pred}\")\n",
    "\n",
    "        # calc loss\n",
    "        loss = bce_loss(pred, labels)\n",
    "\n",
    "        if (debug):\n",
    "            for layer in model.layers:\n",
    "                layer.output.retain_grad() # save gradients of non leaf tensors also\n",
    "        \n",
    "        # backward pass\n",
    "        loss.backward()\n",
    "        optimizer.step()\n",
    "\n",
    "        loss = loss.log10()\n",
    "        train_loss += loss.item()\n",
    "\n",
    "        if (debug):\n",
    "             break\n",
    "\n",
    "    # copied it to array since running with no grad will set grad to None\n",
    "    if (debug):\n",
    "        curr_grads = {}\n",
    "        for i, layer in enumerate(model.layers):\n",
    "            curr_grads[f\"{layer.__class__.__name__}: {i}\"] = layer.output.grad.clone()\n",
    "\n",
    "        output_grads.append(curr_grads)\n",
    "    \n",
    "    train_loss /= len(train_loader)\n",
    "    lossi_train.append(train_loss)\n",
    "\n",
    "    # validation phase\n",
    "    model.eval()\n",
    "    with torch.no_grad():  # Disable gradient computation for validation\n",
    "        val_loss = 0\n",
    "        \n",
    "        for inputs, labels in val_loader:\n",
    "            inputs = inputs.to(device)\n",
    "            labels = labels.to(device)\n",
    "            \n",
    "            pred = model(inputs)\n",
    "            \n",
    "            loss = bce_loss(pred, labels)\n",
    "            loss = loss.log10()\n",
    "            val_loss += loss.item()\n",
    "        \n",
    "        val_loss /= len(val_loader)\n",
    "        lossi_val.append(val_loss)\n",
    "        \n",
    "\n",
    "    # reset to train mode\n",
    "    model.train()\n",
    "\n",
    "    if ((epoch+1)%100==0):\n",
    "        print(f\"Epoch {epoch+1}/{num_epoch}, Train Loss: {train_loss:.4f}, Val Loss: {val_loss:.4f}\")\n",
    "\n",
    "    # if (debug):\n",
    "        # break"
   ]
  },
  {
   "cell_type": "code",
   "execution_count": 32,
   "id": "af42ac4a",
   "metadata": {
    "execution": {
     "iopub.execute_input": "2025-01-28T09:15:18.045404Z",
     "iopub.status.busy": "2025-01-28T09:15:18.045160Z",
     "iopub.status.idle": "2025-01-28T09:15:18.271951Z",
     "shell.execute_reply": "2025-01-28T09:15:18.271158Z"
    },
    "papermill": {
     "duration": 0.238972,
     "end_time": "2025-01-28T09:15:18.273189",
     "exception": false,
     "start_time": "2025-01-28T09:15:18.034217",
     "status": "completed"
    },
    "tags": []
   },
   "outputs": [
    {
     "data": {
      "text/plain": [
       "[<matplotlib.lines.Line2D at 0x7b6e5dface50>]"
      ]
     },
     "execution_count": 32,
     "metadata": {},
     "output_type": "execute_result"
    },
    {
     "data": {
      "image/png": "[encoded data removed]",
      "text/plain": [
       "<Figure size 640x480 with 1 Axes>"
      ]
     },
     "metadata": {},
     "output_type": "display_data"
    }
   ],
   "source": [
    "plt.plot(lossi_train, color=\"blue\")\n",
    "plt.plot(lossi_val, color=\"red\")"
   ]
  },
  {
   "cell_type": "code",
   "execution_count": 33,
   "id": "645c2fe6",
   "metadata": {
    "execution": {
     "iopub.execute_input": "2025-01-28T09:15:18.296201Z",
     "iopub.status.busy": "2025-01-28T09:15:18.295918Z",
     "iopub.status.idle": "2025-01-28T09:15:18.652575Z",
     "shell.execute_reply": "2025-01-28T09:15:18.651628Z"
    },
    "papermill": {
     "duration": 0.369465,
     "end_time": "2025-01-28T09:15:18.654017",
     "exception": false,
     "start_time": "2025-01-28T09:15:18.284552",
     "status": "completed"
    },
    "tags": []
   },
   "outputs": [
    {
     "name": "stdout",
     "output_type": "stream",
     "text": [
      "layer 0 (LinearLayer): mean +0.21, std 3.89, saturated: 53.73%\n",
      "layer 1 ( ReLuLayer): mean +1.31, std 2.52, saturated: 27.69%\n",
      "layer 2 (LinearLayer): mean -0.06, std 4.67, saturated: 55.90%\n",
      "layer 3 ( ReLuLayer): mean +1.41, std 2.61, saturated: 30.47%\n",
      "layer 4 (LinearLayer): mean +0.72, std 5.02, saturated: 66.67%\n"
     ]
    },
    {
     "data": {
      "image/png": "[encoded data removed]",
      "text/plain": [
       "<Figure size 2000x400 with 1 Axes>"
      ]
     },
     "metadata": {},
     "output_type": "display_data"
    }
   ],
   "source": [
    "# visualize activations\n",
    "plt.figure(figsize=(20, 4))\n",
    "legends = []\n",
    "\n",
    "if (len(model.layers) > 1):\n",
    "    for i, layer in enumerate(model.layers): # exclude output layer\n",
    "        t = layer.output.cpu()\n",
    "        print('layer %d (%10s): mean %+.2f, std %.2f, saturated: %.2f%%' % (i, layer.__class__.__name__, t.mean(), t.std(), (t.abs() > 0.97).float().mean()*100))\n",
    "        hy, hx = torch.histogram(t, density=True)\n",
    "        plt.plot(hx[:-1].detach(), hy.detach())\n",
    "        legends.append(f'layer {i} ({layer.__class__.__name__})')\n",
    "    \n",
    "    plt.legend(legends)\n",
    "    plt.title(\"activation distribution\")"
   ]
  },
  {
   "cell_type": "code",
   "execution_count": 34,
   "id": "3f7fd229",
   "metadata": {
    "execution": {
     "iopub.execute_input": "2025-01-28T09:15:18.679027Z",
     "iopub.status.busy": "2025-01-28T09:15:18.678779Z",
     "iopub.status.idle": "2025-01-28T09:15:19.017072Z",
     "shell.execute_reply": "2025-01-28T09:15:19.016231Z"
    },
    "papermill": {
     "duration": 0.351939,
     "end_time": "2025-01-28T09:15:19.018576",
     "exception": false,
     "start_time": "2025-01-28T09:15:18.666637",
     "status": "completed"
    },
    "tags": []
   },
   "outputs": [
    {
     "name": "stdout",
     "output_type": "stream",
     "text": [
      "layer (LinearLayer: 0): mean +0.000037, std 1.462526e-02\n",
      "layer (ReLuLayer: 1): mean +0.000189, std 2.354531e-02\n",
      "layer (LinearLayer: 2): mean +0.000021, std 4.152143e-03\n",
      "layer (ReLuLayer: 3): mean -0.000010, std 5.385539e-03\n",
      "layer (LinearLayer: 4): mean +0.000401, std 1.978081e-02\n"
     ]
    },
    {
     "data": {
      "image/png": "[encoded data removed]",
      "text/plain": [
       "<Figure size 2000x400 with 1 Axes>"
      ]
     },
     "metadata": {},
     "output_type": "display_data"
    }
   ],
   "source": [
    "# visualize histograms\n",
    "plt.figure(figsize=(20, 4)) # width and height of the plot\n",
    "legends = []\n",
    "\n",
    "if (len(model.layers) > 1):\n",
    "    for layer_name, layer_grad in output_grads[-1].items(): # note: exclude the output layer\n",
    "        t = layer_grad.cpu()\n",
    "        print('layer (%10s): mean %+f, std %e' % (layer_name, t.mean(), t.std()))\n",
    "        hy, hx = torch.histogram(t, density=True)\n",
    "        plt.plot(hx[:-1].detach(), hy.detach())\n",
    "        legends.append(f'{layer_name}')\n",
    "\n",
    "    plt.legend(legends);\n",
    "    plt.title('gradient distribution')"
   ]
  },
  {
   "cell_type": "code",
   "execution_count": 35,
   "id": "eef37632",
   "metadata": {
    "execution": {
     "iopub.execute_input": "2025-01-28T09:15:19.044723Z",
     "iopub.status.busy": "2025-01-28T09:15:19.044464Z",
     "iopub.status.idle": "2025-01-28T09:15:19.168258Z",
     "shell.execute_reply": "2025-01-28T09:15:19.167503Z"
    },
    "papermill": {
     "duration": 0.138011,
     "end_time": "2025-01-28T09:15:19.169652",
     "exception": false,
     "start_time": "2025-01-28T09:15:19.031641",
     "status": "completed"
    },
    "tags": []
   },
   "outputs": [
    {
     "name": "stdout",
     "output_type": "stream",
     "text": [
      "Test Accuracy: 71.11%\n"
     ]
    }
   ],
   "source": [
    "model.eval()  # Set model to evaluation mode\n",
    "\n",
    "# Accuracy calculation\n",
    "correct = 0\n",
    "total = 0\n",
    "\n",
    "with torch.no_grad():  # Disable gradient calculation\n",
    "    for inputs, labels in test_loader:\n",
    "        inputs = inputs.to(device)\n",
    "        labels = labels.to(device)\n",
    "        \n",
    "        outputs = model(inputs)\n",
    "        predictions = torch.sigmoid(outputs)  # Apply sigmoid for binary classification\n",
    "        predicted_classes = (predictions > 0.5).float()  # Convert to binary (0 or 1)\n",
    "        correct += (predicted_classes == labels).sum().item()\n",
    "        total += labels.size(0)\n",
    "\n",
    "accuracy = correct / total\n",
    "print(f\"Test Accuracy: {accuracy * 100:.2f}%\")"
   ]
  },
  {
   "cell_type": "code",
   "execution_count": 36,
   "id": "57441574",
   "metadata": {
    "execution": {
     "iopub.execute_input": "2025-01-28T09:15:19.195371Z",
     "iopub.status.busy": "2025-01-28T09:15:19.195129Z",
     "iopub.status.idle": "2025-01-28T09:15:19.800974Z",
     "shell.execute_reply": "2025-01-28T09:15:19.800150Z"
    },
    "papermill": {
     "duration": 0.620156,
     "end_time": "2025-01-28T09:15:19.802415",
     "exception": false,
     "start_time": "2025-01-28T09:15:19.182259",
     "status": "completed"
    },
    "tags": []
   },
   "outputs": [
    {
     "name": "stdout",
     "output_type": "stream",
     "text": [
      "Train Accuracy: 68.54%\n"
     ]
    }
   ],
   "source": [
    "model.eval()  # Set model to evaluation mode\n",
    "\n",
    "# Accuracy calculation\n",
    "correct = 0\n",
    "total = 0\n",
    "\n",
    "with torch.no_grad():  # Disable gradient calculation\n",
    "    for inputs, labels in train_loader:\n",
    "        inputs = inputs.to(device)\n",
    "        labels = labels.to(device)\n",
    "        \n",
    "        outputs = model(inputs)\n",
    "        predictions = torch.sigmoid(outputs)  # Apply sigmoid for binary classification\n",
    "        predicted_classes = (predictions > 0.5).float()  # Convert to binary (0 or 1)\n",
    "        correct += (predicted_classes == labels).sum().item()\n",
    "        total += labels.size(0)\n",
    "\n",
    "accuracy = correct / total\n",
    "print(f\"Train Accuracy: {accuracy * 100:.2f}%\")"
   ]
  },
  {
   "cell_type": "markdown",
   "id": "51ff00ca",
   "metadata": {
    "papermill": {
     "duration": 0.012105,
     "end_time": "2025-01-28T09:15:19.827324",
     "exception": false,
     "start_time": "2025-01-28T09:15:19.815219",
     "status": "completed"
    },
    "tags": []
   },
   "source": [
    "## Test"
   ]
  },
  {
   "cell_type": "code",
   "execution_count": 37,
   "id": "74b6e6aa",
   "metadata": {
    "execution": {
     "iopub.execute_input": "2025-01-28T09:15:19.852448Z",
     "iopub.status.busy": "2025-01-28T09:15:19.852216Z",
     "iopub.status.idle": "2025-01-28T09:15:19.870704Z",
     "shell.execute_reply": "2025-01-28T09:15:19.870047Z"
    },
    "papermill": {
     "duration": 0.032443,
     "end_time": "2025-01-28T09:15:19.871891",
     "exception": false,
     "start_time": "2025-01-28T09:15:19.839448",
     "status": "completed"
    },
    "tags": []
   },
   "outputs": [
    {
     "data": {
      "text/html": [
       "<div>\n",
       "<style scoped>\n",
       "    .dataframe tbody tr th:only-of-type {\n",
       "        vertical-align: middle;\n",
       "    }\n",
       "\n",
       "    .dataframe tbody tr th {\n",
       "        vertical-align: top;\n",
       "    }\n",
       "\n",
       "    .dataframe thead th {\n",
       "        text-align: right;\n",
       "    }\n",
       "</style>\n",
       "<table border=\"1\" class=\"dataframe\">\n",
       "  <thead>\n",
       "    <tr style=\"text-align: right;\">\n",
       "      <th></th>\n",
       "      <th>PassengerId</th>\n",
       "      <th>Pclass</th>\n",
       "      <th>Name</th>\n",
       "      <th>Sex</th>\n",
       "      <th>Age</th>\n",
       "      <th>SibSp</th>\n",
       "      <th>Parch</th>\n",
       "      <th>Ticket</th>\n",
       "      <th>Fare</th>\n",
       "      <th>Cabin</th>\n",
       "      <th>Embarked</th>\n",
       "    </tr>\n",
       "  </thead>\n",
       "  <tbody>\n",
       "    <tr>\n",
       "      <th>0</th>\n",
       "      <td>892</td>\n",
       "      <td>3</td>\n",
       "      <td>Kelly, Mr. James</td>\n",
       "      <td>male</td>\n",
       "      <td>34.5</td>\n",
       "      <td>0</td>\n",
       "      <td>0</td>\n",
       "      <td>330911</td>\n",
       "      <td>7.8292</td>\n",
       "      <td>NaN</td>\n",
       "      <td>Q</td>\n",
       "    </tr>\n",
       "    <tr>\n",
       "      <th>1</th>\n",
       "      <td>893</td>\n",
       "      <td>3</td>\n",
       "      <td>Wilkes, Mrs. James (Ellen Needs)</td>\n",
       "      <td>female</td>\n",
       "      <td>47.0</td>\n",
       "      <td>1</td>\n",
       "      <td>0</td>\n",
       "      <td>363272</td>\n",
       "      <td>7.0000</td>\n",
       "      <td>NaN</td>\n",
       "      <td>S</td>\n",
       "    </tr>\n",
       "    <tr>\n",
       "      <th>2</th>\n",
       "      <td>894</td>\n",
       "      <td>2</td>\n",
       "      <td>Myles, Mr. Thomas Francis</td>\n",
       "      <td>male</td>\n",
       "      <td>62.0</td>\n",
       "      <td>0</td>\n",
       "      <td>0</td>\n",
       "      <td>240276</td>\n",
       "      <td>9.6875</td>\n",
       "      <td>NaN</td>\n",
       "      <td>Q</td>\n",
       "    </tr>\n",
       "    <tr>\n",
       "      <th>3</th>\n",
       "      <td>895</td>\n",
       "      <td>3</td>\n",
       "      <td>Wirz, Mr. Albert</td>\n",
       "      <td>male</td>\n",
       "      <td>27.0</td>\n",
       "      <td>0</td>\n",
       "      <td>0</td>\n",
       "      <td>315154</td>\n",
       "      <td>8.6625</td>\n",
       "      <td>NaN</td>\n",
       "      <td>S</td>\n",
       "    </tr>\n",
       "    <tr>\n",
       "      <th>4</th>\n",
       "      <td>896</td>\n",
       "      <td>3</td>\n",
       "      <td>Hirvonen, Mrs. Alexander (Helga E Lindqvist)</td>\n",
       "      <td>female</td>\n",
       "      <td>22.0</td>\n",
       "      <td>1</td>\n",
       "      <td>1</td>\n",
       "      <td>3101298</td>\n",
       "      <td>12.2875</td>\n",
       "      <td>NaN</td>\n",
       "      <td>S</td>\n",
       "    </tr>\n",
       "    <tr>\n",
       "      <th>5</th>\n",
       "      <td>897</td>\n",
       "      <td>3</td>\n",
       "      <td>Svensson, Mr. Johan Cervin</td>\n",
       "      <td>male</td>\n",
       "      <td>14.0</td>\n",
       "      <td>0</td>\n",
       "      <td>0</td>\n",
       "      <td>7538</td>\n",
       "      <td>9.2250</td>\n",
       "      <td>NaN</td>\n",
       "      <td>S</td>\n",
       "    </tr>\n",
       "    <tr>\n",
       "      <th>6</th>\n",
       "      <td>898</td>\n",
       "      <td>3</td>\n",
       "      <td>Connolly, Miss. Kate</td>\n",
       "      <td>female</td>\n",
       "      <td>30.0</td>\n",
       "      <td>0</td>\n",
       "      <td>0</td>\n",
       "      <td>330972</td>\n",
       "      <td>7.6292</td>\n",
       "      <td>NaN</td>\n",
       "      <td>Q</td>\n",
       "    </tr>\n",
       "    <tr>\n",
       "      <th>7</th>\n",
       "      <td>899</td>\n",
       "      <td>2</td>\n",
       "      <td>Caldwell, Mr. Albert Francis</td>\n",
       "      <td>male</td>\n",
       "      <td>26.0</td>\n",
       "      <td>1</td>\n",
       "      <td>1</td>\n",
       "      <td>248738</td>\n",
       "      <td>29.0000</td>\n",
       "      <td>NaN</td>\n",
       "      <td>S</td>\n",
       "    </tr>\n",
       "    <tr>\n",
       "      <th>8</th>\n",
       "      <td>900</td>\n",
       "      <td>3</td>\n",
       "      <td>Abrahim, Mrs. Joseph (Sophie Halaut Easu)</td>\n",
       "      <td>female</td>\n",
       "      <td>18.0</td>\n",
       "      <td>0</td>\n",
       "      <td>0</td>\n",
       "      <td>2657</td>\n",
       "      <td>7.2292</td>\n",
       "      <td>NaN</td>\n",
       "      <td>C</td>\n",
       "    </tr>\n",
       "    <tr>\n",
       "      <th>9</th>\n",
       "      <td>901</td>\n",
       "      <td>3</td>\n",
       "      <td>Davies, Mr. John Samuel</td>\n",
       "      <td>male</td>\n",
       "      <td>21.0</td>\n",
       "      <td>2</td>\n",
       "      <td>0</td>\n",
       "      <td>A/4 48871</td>\n",
       "      <td>24.1500</td>\n",
       "      <td>NaN</td>\n",
       "      <td>S</td>\n",
       "    </tr>\n",
       "  </tbody>\n",
       "</table>\n",
       "</div>"
      ],
      "text/plain": [
       "   PassengerId  Pclass                                          Name     Sex  \\\n",
       "0          892       3                              Kelly, Mr. James    male   \n",
       "1          893       3              Wilkes, Mrs. James (Ellen Needs)  female   \n",
       "2          894       2                     Myles, Mr. Thomas Francis    male   \n",
       "3          895       3                              Wirz, Mr. Albert    male   \n",
       "4          896       3  Hirvonen, Mrs. Alexander (Helga E Lindqvist)  female   \n",
       "5          897       3                    Svensson, Mr. Johan Cervin    male   \n",
       "6          898       3                          Connolly, Miss. Kate  female   \n",
       "7          899       2                  Caldwell, Mr. Albert Francis    male   \n",
       "8          900       3     Abrahim, Mrs. Joseph (Sophie Halaut Easu)  female   \n",
       "9          901       3                       Davies, Mr. John Samuel    male   \n",
       "\n",
       "    Age  SibSp  Parch     Ticket     Fare Cabin Embarked  \n",
       "0  34.5      0      0     330911   7.8292   NaN        Q  \n",
       "1  47.0      1      0     363272   7.0000   NaN        S  \n",
       "2  62.0      0      0     240276   9.6875   NaN        Q  \n",
       "3  27.0      0      0     315154   8.6625   NaN        S  \n",
       "4  22.0      1      1    3101298  12.2875   NaN        S  \n",
       "5  14.0      0      0       7538   9.2250   NaN        S  \n",
       "6  30.0      0      0     330972   7.6292   NaN        Q  \n",
       "7  26.0      1      1     248738  29.0000   NaN        S  \n",
       "8  18.0      0      0       2657   7.2292   NaN        C  \n",
       "9  21.0      2      0  A/4 48871  24.1500   NaN        S  "
      ]
     },
     "execution_count": 37,
     "metadata": {},
     "output_type": "execute_result"
    }
   ],
   "source": [
    "test_df = pd.read_csv(\"/kaggle/input/titanic/test.csv\")\n",
    "test_df.head(10)"
   ]
  },
  {
   "cell_type": "code",
   "execution_count": 38,
   "id": "b8cccf4d",
   "metadata": {
    "execution": {
     "iopub.execute_input": "2025-01-28T09:15:19.897490Z",
     "iopub.status.busy": "2025-01-28T09:15:19.897279Z",
     "iopub.status.idle": "2025-01-28T09:15:19.901544Z",
     "shell.execute_reply": "2025-01-28T09:15:19.900763Z"
    },
    "papermill": {
     "duration": 0.018281,
     "end_time": "2025-01-28T09:15:19.902703",
     "exception": false,
     "start_time": "2025-01-28T09:15:19.884422",
     "status": "completed"
    },
    "tags": []
   },
   "outputs": [
    {
     "data": {
      "text/plain": [
       "418"
      ]
     },
     "execution_count": 38,
     "metadata": {},
     "output_type": "execute_result"
    }
   ],
   "source": [
    "len(test_df)"
   ]
  },
  {
   "cell_type": "code",
   "execution_count": 39,
   "id": "a1c5b5c9",
   "metadata": {
    "execution": {
     "iopub.execute_input": "2025-01-28T09:15:19.928713Z",
     "iopub.status.busy": "2025-01-28T09:15:19.928489Z",
     "iopub.status.idle": "2025-01-28T09:15:19.939848Z",
     "shell.execute_reply": "2025-01-28T09:15:19.939029Z"
    },
    "papermill": {
     "duration": 0.025693,
     "end_time": "2025-01-28T09:15:19.941006",
     "exception": false,
     "start_time": "2025-01-28T09:15:19.915313",
     "status": "completed"
    },
    "tags": []
   },
   "outputs": [
    {
     "data": {
      "text/plain": [
       "(tensor([ 0.0000, 34.5000]), tensor([]))"
      ]
     },
     "execution_count": 39,
     "metadata": {},
     "output_type": "execute_result"
    }
   ],
   "source": [
    "csv_file = \"/kaggle/input/titanic/test.csv\"\n",
    "target_col_list = []\n",
    "\n",
    "transforms = torchvision.transforms.Compose([SexToNum(), ConvertNumpyArrToFloat32()])\n",
    "\n",
    "final_test_dataset = CSVDataset(csv_file, features_col_list, target_col_list, transform=transforms, dropNa=True)\n",
    "final_test_dataset[0]"
   ]
  },
  {
   "cell_type": "code",
   "execution_count": 40,
   "id": "78c5393d",
   "metadata": {
    "execution": {
     "iopub.execute_input": "2025-01-28T09:15:19.967391Z",
     "iopub.status.busy": "2025-01-28T09:15:19.967133Z",
     "iopub.status.idle": "2025-01-28T09:15:19.971414Z",
     "shell.execute_reply": "2025-01-28T09:15:19.970569Z"
    },
    "papermill": {
     "duration": 0.018769,
     "end_time": "2025-01-28T09:15:19.972751",
     "exception": false,
     "start_time": "2025-01-28T09:15:19.953982",
     "status": "completed"
    },
    "tags": []
   },
   "outputs": [
    {
     "data": {
      "text/plain": [
       "418"
      ]
     },
     "execution_count": 40,
     "metadata": {},
     "output_type": "execute_result"
    }
   ],
   "source": [
    "len(final_test_dataset)"
   ]
  },
  {
   "cell_type": "code",
   "execution_count": 41,
   "id": "ac7e12fe",
   "metadata": {
    "execution": {
     "iopub.execute_input": "2025-01-28T09:15:19.998869Z",
     "iopub.status.busy": "2025-01-28T09:15:19.998654Z",
     "iopub.status.idle": "2025-01-28T09:15:20.501043Z",
     "shell.execute_reply": "2025-01-28T09:15:20.500407Z"
    },
    "papermill": {
     "duration": 0.516898,
     "end_time": "2025-01-28T09:15:20.502394",
     "exception": false,
     "start_time": "2025-01-28T09:15:19.985496",
     "status": "completed"
    },
    "tags": []
   },
   "outputs": [],
   "source": [
    "final_test_loader = DataLoader(final_test_dataset, shuffle=False)\n",
    "\n",
    "pred = []\n",
    "with torch.no_grad():  # Disable gradient calculation\n",
    "    for inputs, labels in final_test_loader:\n",
    "        inputs = inputs.to(device)\n",
    "    \n",
    "        outputs = model(inputs)\n",
    "        predictions = torch.sigmoid(outputs)  # Apply sigmoid for binary classification\n",
    "        predicted_classes = (predictions > 0.5).float()  # Convert to binary (0 or 1)\n",
    "\n",
    "        pred.append(int(predicted_classes.item()))"
   ]
  },
  {
   "cell_type": "code",
   "execution_count": 42,
   "id": "cdef8ee8",
   "metadata": {
    "execution": {
     "iopub.execute_input": "2025-01-28T09:15:20.529249Z",
     "iopub.status.busy": "2025-01-28T09:15:20.528989Z",
     "iopub.status.idle": "2025-01-28T09:15:20.533292Z",
     "shell.execute_reply": "2025-01-28T09:15:20.532639Z"
    },
    "papermill": {
     "duration": 0.018765,
     "end_time": "2025-01-28T09:15:20.534535",
     "exception": false,
     "start_time": "2025-01-28T09:15:20.515770",
     "status": "completed"
    },
    "tags": []
   },
   "outputs": [
    {
     "data": {
      "text/plain": [
       "418"
      ]
     },
     "execution_count": 42,
     "metadata": {},
     "output_type": "execute_result"
    }
   ],
   "source": [
    "len(final_test_loader)"
   ]
  },
  {
   "cell_type": "code",
   "execution_count": 43,
   "id": "9a01c9af",
   "metadata": {
    "execution": {
     "iopub.execute_input": "2025-01-28T09:15:20.560626Z",
     "iopub.status.busy": "2025-01-28T09:15:20.560423Z",
     "iopub.status.idle": "2025-01-28T09:15:20.566679Z",
     "shell.execute_reply": "2025-01-28T09:15:20.566118Z"
    },
    "papermill": {
     "duration": 0.020472,
     "end_time": "2025-01-28T09:15:20.567717",
     "exception": false,
     "start_time": "2025-01-28T09:15:20.547245",
     "status": "completed"
    },
    "tags": []
   },
   "outputs": [],
   "source": [
    "pred_df = pd.DataFrame(pred, columns=[\"Survived\"])\n",
    "pred_df[\"PassengerId\"] = test_df[\"PassengerId\"]\n",
    "pred_df.to_csv(\"pred.csv\", index=False)"
   ]
  },
  {
   "cell_type": "code",
   "execution_count": 44,
   "id": "beadb45d",
   "metadata": {
    "execution": {
     "iopub.execute_input": "2025-01-28T09:15:20.594056Z",
     "iopub.status.busy": "2025-01-28T09:15:20.593856Z",
     "iopub.status.idle": "2025-01-28T09:15:20.599773Z",
     "shell.execute_reply": "2025-01-28T09:15:20.598989Z"
    },
    "papermill": {
     "duration": 0.020369,
     "end_time": "2025-01-28T09:15:20.600939",
     "exception": false,
     "start_time": "2025-01-28T09:15:20.580570",
     "status": "completed"
    },
    "tags": []
   },
   "outputs": [
    {
     "data": {
      "text/html": [
       "<div>\n",
       "<style scoped>\n",
       "    .dataframe tbody tr th:only-of-type {\n",
       "        vertical-align: middle;\n",
       "    }\n",
       "\n",
       "    .dataframe tbody tr th {\n",
       "        vertical-align: top;\n",
       "    }\n",
       "\n",
       "    .dataframe thead th {\n",
       "        text-align: right;\n",
       "    }\n",
       "</style>\n",
       "<table border=\"1\" class=\"dataframe\">\n",
       "  <thead>\n",
       "    <tr style=\"text-align: right;\">\n",
       "      <th></th>\n",
       "      <th>Survived</th>\n",
       "      <th>PassengerId</th>\n",
       "    </tr>\n",
       "  </thead>\n",
       "  <tbody>\n",
       "    <tr>\n",
       "      <th>0</th>\n",
       "      <td>0</td>\n",
       "      <td>892</td>\n",
       "    </tr>\n",
       "    <tr>\n",
       "      <th>1</th>\n",
       "      <td>1</td>\n",
       "      <td>893</td>\n",
       "    </tr>\n",
       "    <tr>\n",
       "      <th>2</th>\n",
       "      <td>1</td>\n",
       "      <td>894</td>\n",
       "    </tr>\n",
       "    <tr>\n",
       "      <th>3</th>\n",
       "      <td>0</td>\n",
       "      <td>895</td>\n",
       "    </tr>\n",
       "    <tr>\n",
       "      <th>4</th>\n",
       "      <td>1</td>\n",
       "      <td>896</td>\n",
       "    </tr>\n",
       "  </tbody>\n",
       "</table>\n",
       "</div>"
      ],
      "text/plain": [
       "   Survived  PassengerId\n",
       "0         0          892\n",
       "1         1          893\n",
       "2         1          894\n",
       "3         0          895\n",
       "4         1          896"
      ]
     },
     "execution_count": 44,
     "metadata": {},
     "output_type": "execute_result"
    }
   ],
   "source": [
    "pred_df.head()"
   ]
  }
 ],
 "metadata": {
  "kaggle": {
   "accelerator": "nvidiaTeslaT4",
   "dataSources": [
    {
     "databundleVersionId": 26502,
     "sourceId": 3136,
     "sourceType": "competition"
    }
   ],
   "dockerImageVersionId": 30822,
   "isGpuEnabled": true,
   "isInternetEnabled": true,
   "language": "python",
   "sourceType": "notebook"
  },
  "kernelspec": {
   "display_name": "Python 3",
   "language": "python",
   "name": "python3"
  },
  "language_info": {
   "codemirror_mode": {
    "name": "ipython",
    "version": 3
   },
   "file_extension": ".py",
   "mimetype": "text/x-python",
   "name": "python",
   "nbconvert_exporter": "python",
   "pygments_lexer": "ipython3",
   "version": "3.10.12"
  },
  "papermill": {
   "default_parameters": {},
   "duration": 75.612938,
   "end_time": "2025-01-28T09:15:22.034313",
   "environment_variables": {},
   "exception": null,
   "input_path": "__notebook__.ipynb",
   "output_path": "__notebook__.ipynb",
   "parameters": {},
   "start_time": "2025-01-28T09:14:06.421375",
   "version": "2.6.0"
  }
 },
 "nbformat": 4,
 "nbformat_minor": 5
}
