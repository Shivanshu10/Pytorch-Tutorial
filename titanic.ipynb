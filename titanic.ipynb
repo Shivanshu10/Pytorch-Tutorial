{
 "cells": [
  {
   "cell_type": "code",
   "execution_count": 1,
   "id": "7aabf786",
   "metadata": {
    "_cell_guid": "b1076dfc-b9ad-4769-8c92-a6c4dae69d19",
    "_uuid": "8f2839f25d086af736a60e9eeb907d3b93b6e0e5",
    "execution": {
     "iopub.execute_input": "2025-01-28T15:38:01.239119Z",
     "iopub.status.busy": "2025-01-28T15:38:01.238806Z",
     "iopub.status.idle": "2025-01-28T15:38:03.025659Z",
     "shell.execute_reply": "2025-01-28T15:38:03.024819Z"
    },
    "papermill": {
     "duration": 1.796203,
     "end_time": "2025-01-28T15:38:03.027063",
     "exception": false,
     "start_time": "2025-01-28T15:38:01.230860",
     "status": "completed"
    },
    "tags": []
   },
   "outputs": [
    {
     "name": "stdout",
     "output_type": "stream",
     "text": [
      "/kaggle/input/titanic/train.csv\n",
      "/kaggle/input/titanic/test.csv\n",
      "/kaggle/input/titanic/gender_submission.csv\n"
     ]
    }
   ],
   "source": [
    "import numpy as np\n",
    "import pandas as pd\n",
    "import seaborn as sns\n",
    "import matplotlib.pyplot as plt\n",
    "import os\n",
    "for dirname, _, filenames in os.walk('/kaggle/input'):\n",
    "    for filename in filenames:\n",
    "        print(os.path.join(dirname, filename))"
   ]
  },
  {
   "cell_type": "markdown",
   "id": "0b8d1263",
   "metadata": {
    "papermill": {
     "duration": 0.006364,
     "end_time": "2025-01-28T15:38:03.040584",
     "exception": false,
     "start_time": "2025-01-28T15:38:03.034220",
     "status": "completed"
    },
    "tags": []
   },
   "source": [
    "## Load Data"
   ]
  },
  {
   "cell_type": "code",
   "execution_count": 2,
   "id": "1f1b149a",
   "metadata": {
    "execution": {
     "iopub.execute_input": "2025-01-28T15:38:03.054557Z",
     "iopub.status.busy": "2025-01-28T15:38:03.054266Z",
     "iopub.status.idle": "2025-01-28T15:38:03.096436Z",
     "shell.execute_reply": "2025-01-28T15:38:03.095510Z"
    },
    "papermill": {
     "duration": 0.050501,
     "end_time": "2025-01-28T15:38:03.097651",
     "exception": false,
     "start_time": "2025-01-28T15:38:03.047150",
     "status": "completed"
    },
    "tags": []
   },
   "outputs": [
    {
     "data": {
      "text/html": [
       "<div>\n",
       "<style scoped>\n",
       "    .dataframe tbody tr th:only-of-type {\n",
       "        vertical-align: middle;\n",
       "    }\n",
       "\n",
       "    .dataframe tbody tr th {\n",
       "        vertical-align: top;\n",
       "    }\n",
       "\n",
       "    .dataframe thead th {\n",
       "        text-align: right;\n",
       "    }\n",
       "</style>\n",
       "<table border=\"1\" class=\"dataframe\">\n",
       "  <thead>\n",
       "    <tr style=\"text-align: right;\">\n",
       "      <th></th>\n",
       "      <th>Survived</th>\n",
       "      <th>Pclass</th>\n",
       "      <th>Name</th>\n",
       "      <th>Sex</th>\n",
       "      <th>Age</th>\n",
       "      <th>SibSp</th>\n",
       "      <th>Parch</th>\n",
       "      <th>Ticket</th>\n",
       "      <th>Fare</th>\n",
       "      <th>Cabin</th>\n",
       "      <th>Embarked</th>\n",
       "    </tr>\n",
       "    <tr>\n",
       "      <th>PassengerId</th>\n",
       "      <th></th>\n",
       "      <th></th>\n",
       "      <th></th>\n",
       "      <th></th>\n",
       "      <th></th>\n",
       "      <th></th>\n",
       "      <th></th>\n",
       "      <th></th>\n",
       "      <th></th>\n",
       "      <th></th>\n",
       "      <th></th>\n",
       "    </tr>\n",
       "  </thead>\n",
       "  <tbody>\n",
       "    <tr>\n",
       "      <th>1</th>\n",
       "      <td>0</td>\n",
       "      <td>3</td>\n",
       "      <td>Braund, Mr. Owen Harris</td>\n",
       "      <td>male</td>\n",
       "      <td>22.0</td>\n",
       "      <td>1</td>\n",
       "      <td>0</td>\n",
       "      <td>A/5 21171</td>\n",
       "      <td>7.2500</td>\n",
       "      <td>NaN</td>\n",
       "      <td>S</td>\n",
       "    </tr>\n",
       "    <tr>\n",
       "      <th>2</th>\n",
       "      <td>1</td>\n",
       "      <td>1</td>\n",
       "      <td>Cumings, Mrs. John Bradley (Florence Briggs Th...</td>\n",
       "      <td>female</td>\n",
       "      <td>38.0</td>\n",
       "      <td>1</td>\n",
       "      <td>0</td>\n",
       "      <td>PC 17599</td>\n",
       "      <td>71.2833</td>\n",
       "      <td>C85</td>\n",
       "      <td>C</td>\n",
       "    </tr>\n",
       "    <tr>\n",
       "      <th>3</th>\n",
       "      <td>1</td>\n",
       "      <td>3</td>\n",
       "      <td>Heikkinen, Miss. Laina</td>\n",
       "      <td>female</td>\n",
       "      <td>26.0</td>\n",
       "      <td>0</td>\n",
       "      <td>0</td>\n",
       "      <td>STON/O2. 3101282</td>\n",
       "      <td>7.9250</td>\n",
       "      <td>NaN</td>\n",
       "      <td>S</td>\n",
       "    </tr>\n",
       "    <tr>\n",
       "      <th>4</th>\n",
       "      <td>1</td>\n",
       "      <td>1</td>\n",
       "      <td>Futrelle, Mrs. Jacques Heath (Lily May Peel)</td>\n",
       "      <td>female</td>\n",
       "      <td>35.0</td>\n",
       "      <td>1</td>\n",
       "      <td>0</td>\n",
       "      <td>113803</td>\n",
       "      <td>53.1000</td>\n",
       "      <td>C123</td>\n",
       "      <td>S</td>\n",
       "    </tr>\n",
       "    <tr>\n",
       "      <th>5</th>\n",
       "      <td>0</td>\n",
       "      <td>3</td>\n",
       "      <td>Allen, Mr. William Henry</td>\n",
       "      <td>male</td>\n",
       "      <td>35.0</td>\n",
       "      <td>0</td>\n",
       "      <td>0</td>\n",
       "      <td>373450</td>\n",
       "      <td>8.0500</td>\n",
       "      <td>NaN</td>\n",
       "      <td>S</td>\n",
       "    </tr>\n",
       "    <tr>\n",
       "      <th>6</th>\n",
       "      <td>0</td>\n",
       "      <td>3</td>\n",
       "      <td>Moran, Mr. James</td>\n",
       "      <td>male</td>\n",
       "      <td>NaN</td>\n",
       "      <td>0</td>\n",
       "      <td>0</td>\n",
       "      <td>330877</td>\n",
       "      <td>8.4583</td>\n",
       "      <td>NaN</td>\n",
       "      <td>Q</td>\n",
       "    </tr>\n",
       "    <tr>\n",
       "      <th>7</th>\n",
       "      <td>0</td>\n",
       "      <td>1</td>\n",
       "      <td>McCarthy, Mr. Timothy J</td>\n",
       "      <td>male</td>\n",
       "      <td>54.0</td>\n",
       "      <td>0</td>\n",
       "      <td>0</td>\n",
       "      <td>17463</td>\n",
       "      <td>51.8625</td>\n",
       "      <td>E46</td>\n",
       "      <td>S</td>\n",
       "    </tr>\n",
       "    <tr>\n",
       "      <th>8</th>\n",
       "      <td>0</td>\n",
       "      <td>3</td>\n",
       "      <td>Palsson, Master. Gosta Leonard</td>\n",
       "      <td>male</td>\n",
       "      <td>2.0</td>\n",
       "      <td>3</td>\n",
       "      <td>1</td>\n",
       "      <td>349909</td>\n",
       "      <td>21.0750</td>\n",
       "      <td>NaN</td>\n",
       "      <td>S</td>\n",
       "    </tr>\n",
       "    <tr>\n",
       "      <th>9</th>\n",
       "      <td>1</td>\n",
       "      <td>3</td>\n",
       "      <td>Johnson, Mrs. Oscar W (Elisabeth Vilhelmina Berg)</td>\n",
       "      <td>female</td>\n",
       "      <td>27.0</td>\n",
       "      <td>0</td>\n",
       "      <td>2</td>\n",
       "      <td>347742</td>\n",
       "      <td>11.1333</td>\n",
       "      <td>NaN</td>\n",
       "      <td>S</td>\n",
       "    </tr>\n",
       "    <tr>\n",
       "      <th>10</th>\n",
       "      <td>1</td>\n",
       "      <td>2</td>\n",
       "      <td>Nasser, Mrs. Nicholas (Adele Achem)</td>\n",
       "      <td>female</td>\n",
       "      <td>14.0</td>\n",
       "      <td>1</td>\n",
       "      <td>0</td>\n",
       "      <td>237736</td>\n",
       "      <td>30.0708</td>\n",
       "      <td>NaN</td>\n",
       "      <td>C</td>\n",
       "    </tr>\n",
       "  </tbody>\n",
       "</table>\n",
       "</div>"
      ],
      "text/plain": [
       "             Survived  Pclass  \\\n",
       "PassengerId                     \n",
       "1                   0       3   \n",
       "2                   1       1   \n",
       "3                   1       3   \n",
       "4                   1       1   \n",
       "5                   0       3   \n",
       "6                   0       3   \n",
       "7                   0       1   \n",
       "8                   0       3   \n",
       "9                   1       3   \n",
       "10                  1       2   \n",
       "\n",
       "                                                          Name     Sex   Age  \\\n",
       "PassengerId                                                                    \n",
       "1                                      Braund, Mr. Owen Harris    male  22.0   \n",
       "2            Cumings, Mrs. John Bradley (Florence Briggs Th...  female  38.0   \n",
       "3                                       Heikkinen, Miss. Laina  female  26.0   \n",
       "4                 Futrelle, Mrs. Jacques Heath (Lily May Peel)  female  35.0   \n",
       "5                                     Allen, Mr. William Henry    male  35.0   \n",
       "6                                             Moran, Mr. James    male   NaN   \n",
       "7                                      McCarthy, Mr. Timothy J    male  54.0   \n",
       "8                               Palsson, Master. Gosta Leonard    male   2.0   \n",
       "9            Johnson, Mrs. Oscar W (Elisabeth Vilhelmina Berg)  female  27.0   \n",
       "10                         Nasser, Mrs. Nicholas (Adele Achem)  female  14.0   \n",
       "\n",
       "             SibSp  Parch            Ticket     Fare Cabin Embarked  \n",
       "PassengerId                                                          \n",
       "1                1      0         A/5 21171   7.2500   NaN        S  \n",
       "2                1      0          PC 17599  71.2833   C85        C  \n",
       "3                0      0  STON/O2. 3101282   7.9250   NaN        S  \n",
       "4                1      0            113803  53.1000  C123        S  \n",
       "5                0      0            373450   8.0500   NaN        S  \n",
       "6                0      0            330877   8.4583   NaN        Q  \n",
       "7                0      0             17463  51.8625   E46        S  \n",
       "8                3      1            349909  21.0750   NaN        S  \n",
       "9                0      2            347742  11.1333   NaN        S  \n",
       "10               1      0            237736  30.0708   NaN        C  "
      ]
     },
     "execution_count": 2,
     "metadata": {},
     "output_type": "execute_result"
    }
   ],
   "source": [
    "train_df = pd.read_csv(\"/kaggle/input/titanic/train.csv\", index_col=0)\n",
    "train_df.head(10)"
   ]
  },
  {
   "cell_type": "code",
   "execution_count": 3,
   "id": "b3d63706",
   "metadata": {
    "execution": {
     "iopub.execute_input": "2025-01-28T15:38:03.111849Z",
     "iopub.status.busy": "2025-01-28T15:38:03.111615Z",
     "iopub.status.idle": "2025-01-28T15:38:03.115732Z",
     "shell.execute_reply": "2025-01-28T15:38:03.114998Z"
    },
    "papermill": {
     "duration": 0.012503,
     "end_time": "2025-01-28T15:38:03.116854",
     "exception": false,
     "start_time": "2025-01-28T15:38:03.104351",
     "status": "completed"
    },
    "tags": []
   },
   "outputs": [
    {
     "data": {
      "text/plain": [
       "891"
      ]
     },
     "execution_count": 3,
     "metadata": {},
     "output_type": "execute_result"
    }
   ],
   "source": [
    "len(train_df)"
   ]
  },
  {
   "cell_type": "markdown",
   "id": "a168935e",
   "metadata": {
    "papermill": {
     "duration": 0.00667,
     "end_time": "2025-01-28T15:38:03.130472",
     "exception": false,
     "start_time": "2025-01-28T15:38:03.123802",
     "status": "completed"
    },
    "tags": []
   },
   "source": [
    "## Explore Data"
   ]
  },
  {
   "attachments": {
    "32b3126c-ecdb-46fc-86b2-f22ddf6e6809.png": {
     "image/png": "[encoded data removed]"
    }
   },
   "cell_type": "markdown",
   "id": "61c7aea1",
   "metadata": {
    "papermill": {
     "duration": 0.006756,
     "end_time": "2025-01-28T15:38:03.144254",
     "exception": false,
     "start_time": "2025-01-28T15:38:03.137498",
     "status": "completed"
    },
    "tags": []
   },
   "source": [
    "![image.png](attachment:32b3126c-ecdb-46fc-86b2-f22ddf6e6809.png)"
   ]
  },
  {
   "cell_type": "code",
   "execution_count": 4,
   "id": "77d326ef",
   "metadata": {
    "execution": {
     "iopub.execute_input": "2025-01-28T15:38:03.158759Z",
     "iopub.status.busy": "2025-01-28T15:38:03.158560Z",
     "iopub.status.idle": "2025-01-28T15:38:03.162317Z",
     "shell.execute_reply": "2025-01-28T15:38:03.161735Z"
    },
    "papermill": {
     "duration": 0.012364,
     "end_time": "2025-01-28T15:38:03.163489",
     "exception": false,
     "start_time": "2025-01-28T15:38:03.151125",
     "status": "completed"
    },
    "tags": []
   },
   "outputs": [
    {
     "data": {
      "text/plain": [
       "891"
      ]
     },
     "execution_count": 4,
     "metadata": {},
     "output_type": "execute_result"
    }
   ],
   "source": [
    "len(train_df)"
   ]
  },
  {
   "cell_type": "code",
   "execution_count": 5,
   "id": "43411bc1",
   "metadata": {
    "execution": {
     "iopub.execute_input": "2025-01-28T15:38:03.177917Z",
     "iopub.status.busy": "2025-01-28T15:38:03.177716Z",
     "iopub.status.idle": "2025-01-28T15:38:03.197768Z",
     "shell.execute_reply": "2025-01-28T15:38:03.196982Z"
    },
    "papermill": {
     "duration": 0.028667,
     "end_time": "2025-01-28T15:38:03.199071",
     "exception": false,
     "start_time": "2025-01-28T15:38:03.170404",
     "status": "completed"
    },
    "tags": []
   },
   "outputs": [
    {
     "data": {
      "text/html": [
       "<div>\n",
       "<style scoped>\n",
       "    .dataframe tbody tr th:only-of-type {\n",
       "        vertical-align: middle;\n",
       "    }\n",
       "\n",
       "    .dataframe tbody tr th {\n",
       "        vertical-align: top;\n",
       "    }\n",
       "\n",
       "    .dataframe thead th {\n",
       "        text-align: right;\n",
       "    }\n",
       "</style>\n",
       "<table border=\"1\" class=\"dataframe\">\n",
       "  <thead>\n",
       "    <tr style=\"text-align: right;\">\n",
       "      <th></th>\n",
       "      <th>Survived</th>\n",
       "      <th>Pclass</th>\n",
       "      <th>Age</th>\n",
       "      <th>SibSp</th>\n",
       "      <th>Parch</th>\n",
       "      <th>Fare</th>\n",
       "    </tr>\n",
       "  </thead>\n",
       "  <tbody>\n",
       "    <tr>\n",
       "      <th>count</th>\n",
       "      <td>891.000000</td>\n",
       "      <td>891.000000</td>\n",
       "      <td>714.000000</td>\n",
       "      <td>891.000000</td>\n",
       "      <td>891.000000</td>\n",
       "      <td>891.000000</td>\n",
       "    </tr>\n",
       "    <tr>\n",
       "      <th>mean</th>\n",
       "      <td>0.383838</td>\n",
       "      <td>2.308642</td>\n",
       "      <td>29.699118</td>\n",
       "      <td>0.523008</td>\n",
       "      <td>0.381594</td>\n",
       "      <td>32.204208</td>\n",
       "    </tr>\n",
       "    <tr>\n",
       "      <th>std</th>\n",
       "      <td>0.486592</td>\n",
       "      <td>0.836071</td>\n",
       "      <td>14.526497</td>\n",
       "      <td>1.102743</td>\n",
       "      <td>0.806057</td>\n",
       "      <td>49.693429</td>\n",
       "    </tr>\n",
       "    <tr>\n",
       "      <th>min</th>\n",
       "      <td>0.000000</td>\n",
       "      <td>1.000000</td>\n",
       "      <td>0.420000</td>\n",
       "      <td>0.000000</td>\n",
       "      <td>0.000000</td>\n",
       "      <td>0.000000</td>\n",
       "    </tr>\n",
       "    <tr>\n",
       "      <th>25%</th>\n",
       "      <td>0.000000</td>\n",
       "      <td>2.000000</td>\n",
       "      <td>20.125000</td>\n",
       "      <td>0.000000</td>\n",
       "      <td>0.000000</td>\n",
       "      <td>7.910400</td>\n",
       "    </tr>\n",
       "    <tr>\n",
       "      <th>50%</th>\n",
       "      <td>0.000000</td>\n",
       "      <td>3.000000</td>\n",
       "      <td>28.000000</td>\n",
       "      <td>0.000000</td>\n",
       "      <td>0.000000</td>\n",
       "      <td>14.454200</td>\n",
       "    </tr>\n",
       "    <tr>\n",
       "      <th>75%</th>\n",
       "      <td>1.000000</td>\n",
       "      <td>3.000000</td>\n",
       "      <td>38.000000</td>\n",
       "      <td>1.000000</td>\n",
       "      <td>0.000000</td>\n",
       "      <td>31.000000</td>\n",
       "    </tr>\n",
       "    <tr>\n",
       "      <th>max</th>\n",
       "      <td>1.000000</td>\n",
       "      <td>3.000000</td>\n",
       "      <td>80.000000</td>\n",
       "      <td>8.000000</td>\n",
       "      <td>6.000000</td>\n",
       "      <td>512.329200</td>\n",
       "    </tr>\n",
       "  </tbody>\n",
       "</table>\n",
       "</div>"
      ],
      "text/plain": [
       "         Survived      Pclass         Age       SibSp       Parch        Fare\n",
       "count  891.000000  891.000000  714.000000  891.000000  891.000000  891.000000\n",
       "mean     0.383838    2.308642   29.699118    0.523008    0.381594   32.204208\n",
       "std      0.486592    0.836071   14.526497    1.102743    0.806057   49.693429\n",
       "min      0.000000    1.000000    0.420000    0.000000    0.000000    0.000000\n",
       "25%      0.000000    2.000000   20.125000    0.000000    0.000000    7.910400\n",
       "50%      0.000000    3.000000   28.000000    0.000000    0.000000   14.454200\n",
       "75%      1.000000    3.000000   38.000000    1.000000    0.000000   31.000000\n",
       "max      1.000000    3.000000   80.000000    8.000000    6.000000  512.329200"
      ]
     },
     "execution_count": 5,
     "metadata": {},
     "output_type": "execute_result"
    }
   ],
   "source": [
    "train_df.describe()"
   ]
  },
  {
   "cell_type": "code",
   "execution_count": 6,
   "id": "b1e7d126",
   "metadata": {
    "execution": {
     "iopub.execute_input": "2025-01-28T15:38:03.213834Z",
     "iopub.status.busy": "2025-01-28T15:38:03.213615Z",
     "iopub.status.idle": "2025-01-28T15:38:03.217609Z",
     "shell.execute_reply": "2025-01-28T15:38:03.216835Z"
    },
    "papermill": {
     "duration": 0.012647,
     "end_time": "2025-01-28T15:38:03.218738",
     "exception": false,
     "start_time": "2025-01-28T15:38:03.206091",
     "status": "completed"
    },
    "tags": []
   },
   "outputs": [
    {
     "name": "stdout",
     "output_type": "stream",
     "text": [
      "count of items to be dropped 177\n",
      "count of items left 714\n"
     ]
    }
   ],
   "source": [
    "# age has some null value\n",
    "# should we try dropping them for now?\n",
    "\n",
    "# count of rows that will be dropped\n",
    "print(f\"count of items to be dropped {len(train_df) - 714}\")\n",
    "\n",
    "# rows lefr\n",
    "print(f\"count of items left {len(train_df) - len(train_df) + 714}\")"
   ]
  },
  {
   "cell_type": "code",
   "execution_count": 7,
   "id": "fdb36573",
   "metadata": {
    "execution": {
     "iopub.execute_input": "2025-01-28T15:38:03.233687Z",
     "iopub.status.busy": "2025-01-28T15:38:03.233492Z",
     "iopub.status.idle": "2025-01-28T15:38:03.238717Z",
     "shell.execute_reply": "2025-01-28T15:38:03.237973Z"
    },
    "papermill": {
     "duration": 0.014008,
     "end_time": "2025-01-28T15:38:03.239980",
     "exception": false,
     "start_time": "2025-01-28T15:38:03.225972",
     "status": "completed"
    },
    "tags": []
   },
   "outputs": [
    {
     "data": {
      "text/plain": [
       "Survived      0\n",
       "Pclass        0\n",
       "Name          0\n",
       "Sex           0\n",
       "Age         177\n",
       "SibSp         0\n",
       "Parch         0\n",
       "Ticket        0\n",
       "Fare          0\n",
       "Cabin       687\n",
       "Embarked      2\n",
       "dtype: int64"
      ]
     },
     "execution_count": 7,
     "metadata": {},
     "output_type": "execute_result"
    }
   ],
   "source": [
    "train_df.isna().sum()"
   ]
  },
  {
   "cell_type": "code",
   "execution_count": 8,
   "id": "91c5c12d",
   "metadata": {
    "execution": {
     "iopub.execute_input": "2025-01-28T15:38:03.254857Z",
     "iopub.status.busy": "2025-01-28T15:38:03.254651Z",
     "iopub.status.idle": "2025-01-28T15:38:03.257180Z",
     "shell.execute_reply": "2025-01-28T15:38:03.256600Z"
    },
    "papermill": {
     "duration": 0.011244,
     "end_time": "2025-01-28T15:38:03.258412",
     "exception": false,
     "start_time": "2025-01-28T15:38:03.247168",
     "status": "completed"
    },
    "tags": []
   },
   "outputs": [],
   "source": [
    "# cabin has 687 nulls, i dont think we can learn anything using it though"
   ]
  },
  {
   "cell_type": "code",
   "execution_count": 9,
   "id": "e1c9a295",
   "metadata": {
    "execution": {
     "iopub.execute_input": "2025-01-28T15:38:03.273531Z",
     "iopub.status.busy": "2025-01-28T15:38:03.273338Z",
     "iopub.status.idle": "2025-01-28T15:38:03.279195Z",
     "shell.execute_reply": "2025-01-28T15:38:03.278578Z"
    },
    "papermill": {
     "duration": 0.014716,
     "end_time": "2025-01-28T15:38:03.280394",
     "exception": false,
     "start_time": "2025-01-28T15:38:03.265678",
     "status": "completed"
    },
    "tags": []
   },
   "outputs": [
    {
     "data": {
      "text/plain": [
       "Survived\n",
       "0    549\n",
       "1    342\n",
       "Name: count, dtype: int64"
      ]
     },
     "execution_count": 9,
     "metadata": {},
     "output_type": "execute_result"
    }
   ],
   "source": [
    "# lets check balance now\n",
    "train_df[\"Survived\"].value_counts()"
   ]
  },
  {
   "cell_type": "code",
   "execution_count": 10,
   "id": "85d247c4",
   "metadata": {
    "execution": {
     "iopub.execute_input": "2025-01-28T15:38:03.295959Z",
     "iopub.status.busy": "2025-01-28T15:38:03.295737Z",
     "iopub.status.idle": "2025-01-28T15:38:03.301328Z",
     "shell.execute_reply": "2025-01-28T15:38:03.300663Z"
    },
    "papermill": {
     "duration": 0.014726,
     "end_time": "2025-01-28T15:38:03.302436",
     "exception": false,
     "start_time": "2025-01-28T15:38:03.287710",
     "status": "completed"
    },
    "tags": []
   },
   "outputs": [
    {
     "name": "stdout",
     "output_type": "stream",
     "text": [
      "Survived\n",
      "0    61.616162\n",
      "1    38.383838\n",
      "Name: proportion, dtype: float64\n",
      "The dataset is balanced.\n"
     ]
    }
   ],
   "source": [
    "class_percentages = train_df[\"Survived\"].value_counts(normalize=True) * 100\n",
    "\n",
    "print(class_percentages)\n",
    "\n",
    "threshold = 70  # Adjust this as needed\n",
    "is_balanced = all(class_percentages < threshold)\n",
    "\n",
    "if is_balanced:\n",
    "    print(\"The dataset is balanced.\")\n",
    "else:\n",
    "    print(\"The dataset is imbalanced.\")"
   ]
  },
  {
   "cell_type": "code",
   "execution_count": 11,
   "id": "35d3b3f7",
   "metadata": {
    "execution": {
     "iopub.execute_input": "2025-01-28T15:38:03.318036Z",
     "iopub.status.busy": "2025-01-28T15:38:03.317808Z",
     "iopub.status.idle": "2025-01-28T15:38:03.320300Z",
     "shell.execute_reply": "2025-01-28T15:38:03.319741Z"
    },
    "papermill": {
     "duration": 0.011616,
     "end_time": "2025-01-28T15:38:03.321528",
     "exception": false,
     "start_time": "2025-01-28T15:38:03.309912",
     "status": "completed"
    },
    "tags": []
   },
   "outputs": [],
   "source": [
    "# so model can easily get 61% accuracy if it always predics 0\n",
    "# so this will be our basepoint"
   ]
  },
  {
   "cell_type": "code",
   "execution_count": 12,
   "id": "abcf38e2",
   "metadata": {
    "execution": {
     "iopub.execute_input": "2025-01-28T15:38:03.337443Z",
     "iopub.status.busy": "2025-01-28T15:38:03.337231Z",
     "iopub.status.idle": "2025-01-28T15:38:03.357318Z",
     "shell.execute_reply": "2025-01-28T15:38:03.356462Z"
    },
    "papermill": {
     "duration": 0.029544,
     "end_time": "2025-01-28T15:38:03.358904",
     "exception": false,
     "start_time": "2025-01-28T15:38:03.329360",
     "status": "completed"
    },
    "tags": []
   },
   "outputs": [
    {
     "name": "stdout",
     "output_type": "stream",
     "text": [
      "Column: Survived\n",
      "Outliers: 0\n",
      "Column: Pclass\n",
      "Outliers: 0\n",
      "Column: Age\n",
      "Outliers: 11\n",
      "Column: SibSp\n",
      "Outliers: 46\n",
      "Column: Parch\n",
      "Outliers: 213\n",
      "Column: Fare\n",
      "Outliers: 116\n"
     ]
    }
   ],
   "source": [
    "# check outliers\n",
    "# Identify outliers for each column\n",
    "for column in train_df.select_dtypes(include=[np.number]):  # Only numerical columns\n",
    "    Q1 = train_df[column].quantile(0.25)  # First quartile (25th percentile)\n",
    "    Q3 = train_df[column].quantile(0.75)  # Third quartile (75th percentile)\n",
    "    IQR = Q3 - Q1  # Interquartile range\n",
    "    lower_bound = Q1 - 1.5 * IQR\n",
    "    upper_bound = Q3 + 1.5 * IQR\n",
    "\n",
    "    print(f\"Column: {column}\")\n",
    "    print(f\"Outliers: {len(train_df[(train_df[column] < lower_bound) | (train_df[column] > upper_bound)][column].tolist())}\")"
   ]
  },
  {
   "cell_type": "markdown",
   "id": "ae069a15",
   "metadata": {
    "papermill": {
     "duration": 0.007592,
     "end_time": "2025-01-28T15:38:03.374822",
     "exception": false,
     "start_time": "2025-01-28T15:38:03.367230",
     "status": "completed"
    },
    "tags": []
   },
   "source": [
    "## Create Dataset Class"
   ]
  },
  {
   "cell_type": "code",
   "execution_count": 13,
   "id": "03171b8a",
   "metadata": {
    "execution": {
     "iopub.execute_input": "2025-01-28T15:38:03.390872Z",
     "iopub.status.busy": "2025-01-28T15:38:03.390664Z",
     "iopub.status.idle": "2025-01-28T15:38:03.640421Z",
     "shell.execute_reply": "2025-01-28T15:38:03.639646Z"
    },
    "papermill": {
     "duration": 0.259055,
     "end_time": "2025-01-28T15:38:03.641538",
     "exception": false,
     "start_time": "2025-01-28T15:38:03.382483",
     "status": "completed"
    },
    "tags": []
   },
   "outputs": [
    {
     "data": {
      "image/png": "[encoded data removed]",
      "text/plain": [
       "<Figure size 640x480 with 1 Axes>"
      ]
     },
     "metadata": {},
     "output_type": "display_data"
    }
   ],
   "source": [
    "sns.countplot(x='Sex', hue='Survived', data=train_df)\n",
    "\n",
    "total = len(train_df)\n",
    "\n",
    "# Add percentage annotations\n",
    "\n",
    "for p in plt.gca().patches:\n",
    "    height = p.get_height()\n",
    "    width = p.get_width()\n",
    "    x, y = p.get_xy()  # Get position of each bar\n",
    "    percentage = height / total * 100\n",
    "    plt.text(x + width / 2, y + height + 5, f'{percentage:.1f}%', ha='center')\n",
    "\n",
    "plt.title('Count of Survived vs. Not Survived by Gender')\n",
    "plt.xlabel('Gender')\n",
    "plt.ylabel('Count')\n",
    "plt.show()"
   ]
  },
  {
   "cell_type": "code",
   "execution_count": 14,
   "id": "d1781b02",
   "metadata": {
    "execution": {
     "iopub.execute_input": "2025-01-28T15:38:03.658838Z",
     "iopub.status.busy": "2025-01-28T15:38:03.658621Z",
     "iopub.status.idle": "2025-01-28T15:38:03.982366Z",
     "shell.execute_reply": "2025-01-28T15:38:03.981379Z"
    },
    "papermill": {
     "duration": 0.333909,
     "end_time": "2025-01-28T15:38:03.983883",
     "exception": false,
     "start_time": "2025-01-28T15:38:03.649974",
     "status": "completed"
    },
    "tags": []
   },
   "outputs": [
    {
     "name": "stderr",
     "output_type": "stream",
     "text": [
      "/usr/local/lib/python3.10/dist-packages/seaborn/_oldcore.py:1119: FutureWarning: use_inf_as_na option is deprecated and will be removed in a future version. Convert inf values to NaN before operating instead.\n",
      "  with pd.option_context('mode.use_inf_as_na', True):\n"
     ]
    },
    {
     "data": {
      "image/png": "[encoded data removed]",
      "text/plain": [
       "<Figure size 640x480 with 1 Axes>"
      ]
     },
     "metadata": {},
     "output_type": "display_data"
    }
   ],
   "source": [
    "sns.histplot(x='Age', hue='Survived', data=train_df)\n",
    "plt.title('Count of Survived vs. Not Survived by Age')\n",
    "plt.xlabel('Age')\n",
    "plt.ylabel('Count')\n",
    "plt.show()"
   ]
  },
  {
   "cell_type": "code",
   "execution_count": 15,
   "id": "f9da56e6",
   "metadata": {
    "execution": {
     "iopub.execute_input": "2025-01-28T15:38:04.002360Z",
     "iopub.status.busy": "2025-01-28T15:38:04.002115Z",
     "iopub.status.idle": "2025-01-28T15:38:04.007711Z",
     "shell.execute_reply": "2025-01-28T15:38:04.006907Z"
    },
    "papermill": {
     "duration": 0.016096,
     "end_time": "2025-01-28T15:38:04.008948",
     "exception": false,
     "start_time": "2025-01-28T15:38:03.992852",
     "status": "completed"
    },
    "tags": []
   },
   "outputs": [
    {
     "data": {
      "text/plain": [
       "Survived\n",
       "0    549\n",
       "1    342\n",
       "Name: count, dtype: int64"
      ]
     },
     "execution_count": 15,
     "metadata": {},
     "output_type": "execute_result"
    }
   ],
   "source": [
    "train_df[\"Survived\"].value_counts()"
   ]
  },
  {
   "cell_type": "code",
   "execution_count": 16,
   "id": "c143757a",
   "metadata": {
    "execution": {
     "iopub.execute_input": "2025-01-28T15:38:04.027043Z",
     "iopub.status.busy": "2025-01-28T15:38:04.026802Z",
     "iopub.status.idle": "2025-01-28T15:38:08.714848Z",
     "shell.execute_reply": "2025-01-28T15:38:08.713730Z"
    },
    "papermill": {
     "duration": 4.698961,
     "end_time": "2025-01-28T15:38:08.716614",
     "exception": false,
     "start_time": "2025-01-28T15:38:04.017653",
     "status": "completed"
    },
    "tags": []
   },
   "outputs": [
    {
     "name": "stdout",
     "output_type": "stream",
     "text": [
      "Collecting torchviz\r\n",
      "  Downloading torchviz-0.0.3-py3-none-any.whl.metadata (2.1 kB)\r\n",
      "Requirement already satisfied: torch in /usr/local/lib/python3.10/dist-packages (from torchviz) (2.4.1+cu121)\r\n",
      "Requirement already satisfied: graphviz in /usr/local/lib/python3.10/dist-packages (from torchviz) (0.20.3)\r\n",
      "Requirement already satisfied: filelock in /usr/local/lib/python3.10/dist-packages (from torch->torchviz) (3.16.1)\r\n",
      "Requirement already satisfied: typing-extensions>=4.8.0 in /usr/local/lib/python3.10/dist-packages (from torch->torchviz) (4.12.2)\r\n",
      "Requirement already satisfied: sympy in /usr/local/lib/python3.10/dist-packages (from torch->torchviz) (1.13.3)\r\n",
      "Requirement already satisfied: networkx in /usr/local/lib/python3.10/dist-packages (from torch->torchviz) (3.3)\r\n",
      "Requirement already satisfied: jinja2 in /usr/local/lib/python3.10/dist-packages (from torch->torchviz) (3.1.4)\r\n",
      "Requirement already satisfied: fsspec in /usr/local/lib/python3.10/dist-packages (from torch->torchviz) (2024.6.1)\r\n",
      "Requirement already satisfied: MarkupSafe>=2.0 in /usr/local/lib/python3.10/dist-packages (from jinja2->torch->torchviz) (2.1.5)\r\n",
      "Requirement already satisfied: mpmath<1.4,>=1.1.0 in /usr/local/lib/python3.10/dist-packages (from sympy->torch->torchviz) (1.3.0)\r\n",
      "Downloading torchviz-0.0.3-py3-none-any.whl (5.7 kB)\r\n",
      "Installing collected packages: torchviz\r\n",
      "Successfully installed torchviz-0.0.3\r\n"
     ]
    }
   ],
   "source": [
    "!pip install torchviz"
   ]
  },
  {
   "cell_type": "code",
   "execution_count": 17,
   "id": "a9cda333",
   "metadata": {
    "execution": {
     "iopub.execute_input": "2025-01-28T15:38:08.736633Z",
     "iopub.status.busy": "2025-01-28T15:38:08.736367Z",
     "iopub.status.idle": "2025-01-28T15:38:14.062246Z",
     "shell.execute_reply": "2025-01-28T15:38:14.061400Z"
    },
    "papermill": {
     "duration": 5.337604,
     "end_time": "2025-01-28T15:38:14.064059",
     "exception": false,
     "start_time": "2025-01-28T15:38:08.726455",
     "status": "completed"
    },
    "tags": []
   },
   "outputs": [],
   "source": [
    "import torch\n",
    "from torch.utils.data import Dataset, DataLoader\n",
    "import torchvision\n",
    "import torch.nn as nn \n",
    "from torch.utils.data import random_split\n",
    "import math\n",
    "from torchviz import make_dot\n",
    "from IPython.display import Image"
   ]
  },
  {
   "cell_type": "code",
   "execution_count": 18,
   "id": "02636a9d",
   "metadata": {
    "execution": {
     "iopub.execute_input": "2025-01-28T15:38:14.085505Z",
     "iopub.status.busy": "2025-01-28T15:38:14.085099Z",
     "iopub.status.idle": "2025-01-28T15:38:14.094816Z",
     "shell.execute_reply": "2025-01-28T15:38:14.093988Z"
    },
    "papermill": {
     "duration": 0.022089,
     "end_time": "2025-01-28T15:38:14.096145",
     "exception": false,
     "start_time": "2025-01-28T15:38:14.074056",
     "status": "completed"
    },
    "tags": []
   },
   "outputs": [],
   "source": [
    "torch.manual_seed(42); # seed rng for reproducibility"
   ]
  },
  {
   "cell_type": "code",
   "execution_count": 19,
   "id": "00eb6e44",
   "metadata": {
    "execution": {
     "iopub.execute_input": "2025-01-28T15:38:14.115716Z",
     "iopub.status.busy": "2025-01-28T15:38:14.115509Z",
     "iopub.status.idle": "2025-01-28T15:38:14.120674Z",
     "shell.execute_reply": "2025-01-28T15:38:14.119883Z"
    },
    "papermill": {
     "duration": 0.016742,
     "end_time": "2025-01-28T15:38:14.121909",
     "exception": false,
     "start_time": "2025-01-28T15:38:14.105167",
     "status": "completed"
    },
    "tags": []
   },
   "outputs": [],
   "source": [
    "class CSVDataset(Dataset):\n",
    "    def __init__(self, csv_path, features_col_list, target_col_list, transform=None, dropNa=False):\n",
    "        # data loading\n",
    "        self.features_col_list = features_col_list\n",
    "        self.target_col_list = target_col_list\n",
    "        self.data = pd.read_csv(csv_path, index_col=0)\n",
    "        self.transform = transform\n",
    "\n",
    "        if (dropNa):\n",
    "            self.data.fillna(0, inplace=True)\n",
    "\n",
    "    def __getitem__(self, index):\n",
    "        x = self.data.iloc[index][self.features_col_list]  # Features}\n",
    "        y = self.data.iloc[index][self.target_col_list]  # Target\n",
    "\n",
    "        # Apply transformations if specified\n",
    "        if self.transform:\n",
    "            x, y = self.transform((x,y))\n",
    "\n",
    "        return torch.tensor(x, dtype=torch.float32), torch.tensor(y, dtype=torch.float32)\n",
    "\n",
    "    def __len__(self):\n",
    "        # allow us to use len(dataset)\n",
    "        return len(self.data)"
   ]
  },
  {
   "cell_type": "code",
   "execution_count": 20,
   "id": "b5fea953",
   "metadata": {
    "execution": {
     "iopub.execute_input": "2025-01-28T15:38:14.141128Z",
     "iopub.status.busy": "2025-01-28T15:38:14.140897Z",
     "iopub.status.idle": "2025-01-28T15:38:14.225035Z",
     "shell.execute_reply": "2025-01-28T15:38:14.224192Z"
    },
    "papermill": {
     "duration": 0.095219,
     "end_time": "2025-01-28T15:38:14.226423",
     "exception": false,
     "start_time": "2025-01-28T15:38:14.131204",
     "status": "completed"
    },
    "tags": []
   },
   "outputs": [
    {
     "name": "stdout",
     "output_type": "stream",
     "text": [
      "tensor([-1.2649, -0.6325,  0.0000,  0.6325,  1.2649])\n"
     ]
    }
   ],
   "source": [
    "# Example tensor\n",
    "tensor = torch.tensor([1.0, 2.0, 3.0, 4.0, 5.0])\n",
    "\n",
    "# Compute mean and std\n",
    "mean = tensor.mean()\n",
    "std = tensor.std()\n",
    "\n",
    "# Normalize\n",
    "normalized_tensor = (tensor - mean) / std\n",
    "print(normalized_tensor)"
   ]
  },
  {
   "cell_type": "code",
   "execution_count": 21,
   "id": "d3f86e50",
   "metadata": {
    "execution": {
     "iopub.execute_input": "2025-01-28T15:38:14.245617Z",
     "iopub.status.busy": "2025-01-28T15:38:14.245384Z",
     "iopub.status.idle": "2025-01-28T15:38:14.252016Z",
     "shell.execute_reply": "2025-01-28T15:38:14.251348Z"
    },
    "papermill": {
     "duration": 0.017533,
     "end_time": "2025-01-28T15:38:14.253275",
     "exception": false,
     "start_time": "2025-01-28T15:38:14.235742",
     "status": "completed"
    },
    "tags": []
   },
   "outputs": [],
   "source": [
    "class SexToNum():\n",
    "    def __call__(self, sample):\n",
    "        inputs, targets = sample\n",
    "\n",
    "        if (inputs[\"Sex\"] == \"male\"):\n",
    "            inputs[\"Sex\"] = 0\n",
    "        else:\n",
    "            inputs[\"Sex\"] = 1\n",
    "\n",
    "        return (inputs, targets)\n",
    "\n",
    "class NormalizeAge():\n",
    "    def __init__(self, minVal, maxVal):\n",
    "        self.minVal = minVal\n",
    "        self.maxVal = maxVal\n",
    "    \n",
    "    def __call__(self, sample):\n",
    "        inputs, targets = sample\n",
    "        inputs[\"Age\"] = (inputs[\"Age\"] - self.minVal) / (self.maxVal - self.minVal)\n",
    "        return (inputs, targets)\n",
    "\n",
    "class ConvertNumpyArrToFloat32():\n",
    "    def __call__(self, sample):\n",
    "        inputs, targets = sample\n",
    "        inputs = (inputs.values).astype(np.float32)\n",
    "        targets = (targets.values).astype(np.float32)\n",
    "        return (inputs, targets)"
   ]
  },
  {
   "cell_type": "code",
   "execution_count": 22,
   "id": "d5c81aa5",
   "metadata": {
    "execution": {
     "iopub.execute_input": "2025-01-28T15:38:14.272419Z",
     "iopub.status.busy": "2025-01-28T15:38:14.272221Z",
     "iopub.status.idle": "2025-01-28T15:38:14.287805Z",
     "shell.execute_reply": "2025-01-28T15:38:14.287007Z"
    },
    "papermill": {
     "duration": 0.026403,
     "end_time": "2025-01-28T15:38:14.289039",
     "exception": false,
     "start_time": "2025-01-28T15:38:14.262636",
     "status": "completed"
    },
    "tags": []
   },
   "outputs": [
    {
     "data": {
      "text/plain": [
       "(tensor([0.0000, 0.1467]), tensor([0.]))"
      ]
     },
     "execution_count": 22,
     "metadata": {},
     "output_type": "execute_result"
    }
   ],
   "source": [
    "csv_file = \"/kaggle/input/titanic/train.csv\"\n",
    "features_col_list = [\"Sex\", \"Age\"]\n",
    "target_col_list = [\"Survived\"]\n",
    "\n",
    "minAge = 0\n",
    "maxAge = 150\n",
    "transforms = torchvision.transforms.Compose([SexToNum(), NormalizeAge(minAge, maxAge), ConvertNumpyArrToFloat32()])\n",
    "\n",
    "dataset = CSVDataset(csv_file, features_col_list, target_col_list, transform=transforms, dropNa=True)\n",
    "dataset[0]"
   ]
  },
  {
   "cell_type": "code",
   "execution_count": 23,
   "id": "5d127ffe",
   "metadata": {
    "execution": {
     "iopub.execute_input": "2025-01-28T15:38:14.308079Z",
     "iopub.status.busy": "2025-01-28T15:38:14.307822Z",
     "iopub.status.idle": "2025-01-28T15:38:14.312080Z",
     "shell.execute_reply": "2025-01-28T15:38:14.311263Z"
    },
    "papermill": {
     "duration": 0.015195,
     "end_time": "2025-01-28T15:38:14.313378",
     "exception": false,
     "start_time": "2025-01-28T15:38:14.298183",
     "status": "completed"
    },
    "tags": []
   },
   "outputs": [
    {
     "data": {
      "text/plain": [
       "891"
      ]
     },
     "execution_count": 23,
     "metadata": {},
     "output_type": "execute_result"
    }
   ],
   "source": [
    "len(dataset)"
   ]
  },
  {
   "cell_type": "code",
   "execution_count": 24,
   "id": "f80778ec",
   "metadata": {
    "execution": {
     "iopub.execute_input": "2025-01-28T15:38:14.333687Z",
     "iopub.status.busy": "2025-01-28T15:38:14.333486Z",
     "iopub.status.idle": "2025-01-28T15:38:14.339133Z",
     "shell.execute_reply": "2025-01-28T15:38:14.338528Z"
    },
    "papermill": {
     "duration": 0.017587,
     "end_time": "2025-01-28T15:38:14.340400",
     "exception": false,
     "start_time": "2025-01-28T15:38:14.322813",
     "status": "completed"
    },
    "tags": []
   },
   "outputs": [],
   "source": [
    "# Define split ratios\n",
    "train_size = int(0.8 * len(dataset))  # 80% for training\n",
    "val_size = int(0.1 * len(dataset))    # 10% for validation\n",
    "test_size = len(dataset) - train_size - val_size  # Remaining for testing\n",
    "\n",
    "# Split dataset\n",
    "train_dataset, val_dataset, test_dataset = random_split(dataset, [train_size, val_size, test_size])"
   ]
  },
  {
   "cell_type": "code",
   "execution_count": 25,
   "id": "b92051b6",
   "metadata": {
    "execution": {
     "iopub.execute_input": "2025-01-28T15:38:14.360127Z",
     "iopub.status.busy": "2025-01-28T15:38:14.359875Z",
     "iopub.status.idle": "2025-01-28T15:38:14.363563Z",
     "shell.execute_reply": "2025-01-28T15:38:14.362944Z"
    },
    "papermill": {
     "duration": 0.014835,
     "end_time": "2025-01-28T15:38:14.364681",
     "exception": false,
     "start_time": "2025-01-28T15:38:14.349846",
     "status": "completed"
    },
    "tags": []
   },
   "outputs": [],
   "source": [
    "# Define batch size\n",
    "# since we have less data\n",
    "batch_size = 16\n",
    "\n",
    "# Create DataLoaders\n",
    "train_loader = DataLoader(train_dataset, batch_size=batch_size, shuffle=False)\n",
    "val_loader = DataLoader(val_dataset, batch_size=batch_size, shuffle=False)\n",
    "test_loader = DataLoader(test_dataset, batch_size=batch_size, shuffle=False)"
   ]
  },
  {
   "cell_type": "code",
   "execution_count": 26,
   "id": "8d930fd5",
   "metadata": {
    "execution": {
     "iopub.execute_input": "2025-01-28T15:38:14.386047Z",
     "iopub.status.busy": "2025-01-28T15:38:14.385834Z",
     "iopub.status.idle": "2025-01-28T15:38:14.456365Z",
     "shell.execute_reply": "2025-01-28T15:38:14.455534Z"
    },
    "papermill": {
     "duration": 0.081878,
     "end_time": "2025-01-28T15:38:14.457671",
     "exception": false,
     "start_time": "2025-01-28T15:38:14.375793",
     "status": "completed"
    },
    "tags": []
   },
   "outputs": [
    {
     "name": "stdout",
     "output_type": "stream",
     "text": [
      "Using device: cuda\n"
     ]
    }
   ],
   "source": [
    "device = torch.device(\"cuda\" if torch.cuda.is_available() else \"cpu\")\n",
    "print(f\"Using device: {device}\")"
   ]
  },
  {
   "cell_type": "code",
   "execution_count": 27,
   "id": "3768eeb9",
   "metadata": {
    "execution": {
     "iopub.execute_input": "2025-01-28T15:38:14.478562Z",
     "iopub.status.busy": "2025-01-28T15:38:14.478307Z",
     "iopub.status.idle": "2025-01-28T15:38:14.488912Z",
     "shell.execute_reply": "2025-01-28T15:38:14.488108Z"
    },
    "papermill": {
     "duration": 0.02238,
     "end_time": "2025-01-28T15:38:14.490253",
     "exception": false,
     "start_time": "2025-01-28T15:38:14.467873",
     "status": "completed"
    },
    "tags": []
   },
   "outputs": [],
   "source": [
    "# not correctly init\n",
    "hidden_neuron = 128\n",
    "debug = True\n",
    "\n",
    "class LinearLayer(nn.Linear):\n",
    "    def __init__(self, *args, **kwargs):\n",
    "        # Call the parent constructor to initialize the Linear layer\n",
    "        super().__init__(*args, **kwargs)\n",
    "        \n",
    "    def forward(self, x):\n",
    "        self.output = super().forward(x)\n",
    "        return self.output\n",
    "\n",
    "class LeakyReluLayer(nn.LeakyReLU):\n",
    "    def __init__(self, *args, **kwargs):\n",
    "        # Call the parent constructor to initialize the Linear layer\n",
    "        super().__init__(*args, **kwargs)\n",
    "        \n",
    "    def forward(self, x):\n",
    "        self.output = super().forward(x)\n",
    "        return self.output\n",
    "\n",
    "class TitanicSurvivalPredictor(nn.Module):\n",
    "    def __init__(self, hidden_neuron):\n",
    "        super().__init__()\n",
    "\n",
    "        # define layers\n",
    "        self.layers = nn.ModuleList([\n",
    "            LinearLayer(2, hidden_neuron),\n",
    "            LeakyReluLayer(),\n",
    "            # LinearLayer(hidden_neuron, hidden_neuron),\n",
    "            # ReLuLayer(),\n",
    "            LinearLayer(hidden_neuron, 1),\n",
    "        ])\n",
    "        \n",
    "    def forward(self, x):\n",
    "        for layer in self.layers:\n",
    "            x = layer(x)\n",
    "        return x\n",
    "\n",
    "    def parameters(self):\n",
    "        return [p for layer in self.layers for p in layer.parameters()]\n",
    "\n",
    "model = TitanicSurvivalPredictor(hidden_neuron)"
   ]
  },
  {
   "cell_type": "code",
   "execution_count": 28,
   "id": "41d3985e",
   "metadata": {
    "execution": {
     "iopub.execute_input": "2025-01-28T15:38:14.510358Z",
     "iopub.status.busy": "2025-01-28T15:38:14.510150Z",
     "iopub.status.idle": "2025-01-28T15:38:14.532485Z",
     "shell.execute_reply": "2025-01-28T15:38:14.531903Z"
    },
    "papermill": {
     "duration": 0.033689,
     "end_time": "2025-01-28T15:38:14.533672",
     "exception": false,
     "start_time": "2025-01-28T15:38:14.499983",
     "status": "completed"
    },
    "tags": []
   },
   "outputs": [],
   "source": [
    "bce_loss = nn.BCEWithLogitsLoss()\n",
    "\n",
    "first_batch_input = None\n",
    "first_batch_label = None\n",
    "for inputs, labels in train_loader:\n",
    "    first_batch_input = inputs\n",
    "    first_batch_label = labels\n",
    "    break"
   ]
  },
  {
   "cell_type": "code",
   "execution_count": 29,
   "id": "847ec8ec",
   "metadata": {
    "execution": {
     "iopub.execute_input": "2025-01-28T15:38:14.553664Z",
     "iopub.status.busy": "2025-01-28T15:38:14.553455Z",
     "iopub.status.idle": "2025-01-28T15:38:14.581765Z",
     "shell.execute_reply": "2025-01-28T15:38:14.580953Z"
    },
    "papermill": {
     "duration": 0.039777,
     "end_time": "2025-01-28T15:38:14.583272",
     "exception": false,
     "start_time": "2025-01-28T15:38:14.543495",
     "status": "completed"
    },
    "tags": []
   },
   "outputs": [
    {
     "name": "stdout",
     "output_type": "stream",
     "text": [
      "init loss: 0.6816640496253967\n"
     ]
    }
   ],
   "source": [
    "first_batch_pred_logits = model(first_batch_input)\n",
    "first_batch_pred_prob = torch.sigmoid(first_batch_pred_logits)  # Apply sigmoid for binary classification\n",
    "loss = bce_loss(first_batch_pred_prob, first_batch_label)\n",
    "print(f\"init loss: {loss.item()}\")"
   ]
  },
  {
   "cell_type": "code",
   "execution_count": 30,
   "id": "d9aa0633",
   "metadata": {
    "execution": {
     "iopub.execute_input": "2025-01-28T15:38:14.604349Z",
     "iopub.status.busy": "2025-01-28T15:38:14.604142Z",
     "iopub.status.idle": "2025-01-28T15:38:14.610162Z",
     "shell.execute_reply": "2025-01-28T15:38:14.609329Z"
    },
    "papermill": {
     "duration": 0.018187,
     "end_time": "2025-01-28T15:38:14.611453",
     "exception": false,
     "start_time": "2025-01-28T15:38:14.593266",
     "status": "completed"
    },
    "tags": []
   },
   "outputs": [],
   "source": [
    "def initParam(model):\n",
    "    # Initialize weights using Xavier Normal\n",
    "    for i, layer in enumerate(model.layers):\n",
    "        if (isinstance(layer, LinearLayer)):\n",
    "            if (i<len(model.layers)-1):\n",
    "                nn.init.xavier_normal_(model.layers[i].weight, torch.nn.init.calculate_gain(\"relu\")) \n",
    "            else:\n",
    "                nn.init.xavier_normal_(model.layers[i].weight, torch.nn.init.calculate_gain(\"sigmoid\")) * 0.001\n",
    "            if layer.bias is not None:\n",
    "                nn.init.zeros_(model.layers[i].bias)\n",
    "\n",
    "initParam(model)"
   ]
  },
  {
   "cell_type": "code",
   "execution_count": 31,
   "id": "457a1721",
   "metadata": {
    "execution": {
     "iopub.execute_input": "2025-01-28T15:38:14.632244Z",
     "iopub.status.busy": "2025-01-28T15:38:14.632031Z",
     "iopub.status.idle": "2025-01-28T15:38:14.638199Z",
     "shell.execute_reply": "2025-01-28T15:38:14.637473Z"
    },
    "papermill": {
     "duration": 0.017913,
     "end_time": "2025-01-28T15:38:14.639467",
     "exception": false,
     "start_time": "2025-01-28T15:38:14.621554",
     "status": "completed"
    },
    "tags": []
   },
   "outputs": [
    {
     "name": "stdout",
     "output_type": "stream",
     "text": [
      "init loss: 0.6963831782341003\n"
     ]
    }
   ],
   "source": [
    "first_batch_pred_logits = model(first_batch_input)\n",
    "first_batch_pred_prob = torch.sigmoid(first_batch_pred_logits)  # Apply sigmoid for binary classification\n",
    "loss = bce_loss(first_batch_pred_prob, first_batch_label)\n",
    "print(f\"init loss: {loss.item()}\")"
   ]
  },
  {
   "cell_type": "code",
   "execution_count": 32,
   "id": "9cc9dd8f",
   "metadata": {
    "execution": {
     "iopub.execute_input": "2025-01-28T15:38:14.660023Z",
     "iopub.status.busy": "2025-01-28T15:38:14.659754Z",
     "iopub.status.idle": "2025-01-28T17:38:12.593298Z",
     "shell.execute_reply": "2025-01-28T17:38:12.592333Z"
    },
    "papermill": {
     "duration": 7197.959075,
     "end_time": "2025-01-28T17:38:12.608364",
     "exception": false,
     "start_time": "2025-01-28T15:38:14.649289",
     "status": "completed"
    },
    "tags": []
   },
   "outputs": [
    {
     "name": "stdout",
     "output_type": "stream",
     "text": [
      "Epoch 100/10000, Train Loss: -0.2950, Val Loss: -0.4000\n",
      "Epoch 200/10000, Train Loss: -0.2951, Val Loss: -0.4016\n",
      "Epoch 300/10000, Train Loss: -0.2951, Val Loss: -0.4019\n",
      "Epoch 400/10000, Train Loss: -0.2952, Val Loss: -0.4020\n",
      "Epoch 500/10000, Train Loss: -0.2953, Val Loss: -0.4020\n",
      "Epoch 600/10000, Train Loss: -0.2955, Val Loss: -0.4019\n",
      "Epoch 700/10000, Train Loss: -0.2958, Val Loss: -0.4015\n",
      "Epoch 800/10000, Train Loss: -0.2962, Val Loss: -0.4009\n",
      "Epoch 900/10000, Train Loss: -0.2964, Val Loss: -0.4005\n",
      "Epoch 1000/10000, Train Loss: -0.2967, Val Loss: -0.4002\n",
      "Epoch 1100/10000, Train Loss: -0.2971, Val Loss: -0.3999\n",
      "Epoch 1200/10000, Train Loss: -0.2979, Val Loss: -0.4000\n",
      "Epoch 1300/10000, Train Loss: -0.2988, Val Loss: -0.4007\n",
      "Epoch 1400/10000, Train Loss: -0.2998, Val Loss: -0.4018\n",
      "Epoch 1500/10000, Train Loss: -0.3009, Val Loss: -0.4028\n",
      "Epoch 1600/10000, Train Loss: -0.3020, Val Loss: -0.4035\n",
      "Epoch 1700/10000, Train Loss: -0.3029, Val Loss: -0.4045\n",
      "Epoch 1800/10000, Train Loss: -0.3038, Val Loss: -0.4054\n",
      "Epoch 1900/10000, Train Loss: -0.3044, Val Loss: -0.4066\n",
      "Epoch 2000/10000, Train Loss: -0.3050, Val Loss: -0.4075\n",
      "Epoch 2100/10000, Train Loss: -0.3056, Val Loss: -0.4081\n",
      "Epoch 2200/10000, Train Loss: -0.3059, Val Loss: -0.4086\n",
      "Epoch 2300/10000, Train Loss: -0.3063, Val Loss: -0.4093\n",
      "Epoch 2400/10000, Train Loss: -0.3065, Val Loss: -0.4099\n",
      "Epoch 2500/10000, Train Loss: -0.3068, Val Loss: -0.4104\n",
      "Epoch 2600/10000, Train Loss: -0.3070, Val Loss: -0.4108\n",
      "Epoch 2700/10000, Train Loss: -0.3071, Val Loss: -0.4112\n",
      "Epoch 2800/10000, Train Loss: -0.3073, Val Loss: -0.4114\n",
      "Epoch 2900/10000, Train Loss: -0.3074, Val Loss: -0.4119\n",
      "Epoch 3000/10000, Train Loss: -0.3076, Val Loss: -0.4123\n",
      "Epoch 3100/10000, Train Loss: -0.3077, Val Loss: -0.4130\n",
      "Epoch 3200/10000, Train Loss: -0.3078, Val Loss: -0.4134\n",
      "Epoch 3300/10000, Train Loss: -0.3079, Val Loss: -0.4136\n",
      "Epoch 3400/10000, Train Loss: -0.3081, Val Loss: -0.4139\n",
      "Epoch 3500/10000, Train Loss: -0.3081, Val Loss: -0.4141\n",
      "Epoch 3600/10000, Train Loss: -0.3082, Val Loss: -0.4146\n",
      "Epoch 3700/10000, Train Loss: -0.3084, Val Loss: -0.4148\n",
      "Epoch 3800/10000, Train Loss: -0.3085, Val Loss: -0.4152\n",
      "Epoch 3900/10000, Train Loss: -0.3086, Val Loss: -0.4152\n",
      "Epoch 4000/10000, Train Loss: -0.3087, Val Loss: -0.4156\n",
      "Epoch 4100/10000, Train Loss: -0.3088, Val Loss: -0.4157\n",
      "Epoch 4200/10000, Train Loss: -0.3089, Val Loss: -0.4161\n",
      "Epoch 4300/10000, Train Loss: -0.3090, Val Loss: -0.4161\n",
      "Epoch 4400/10000, Train Loss: -0.3091, Val Loss: -0.4162\n",
      "Epoch 4500/10000, Train Loss: -0.3092, Val Loss: -0.4169\n",
      "Epoch 4600/10000, Train Loss: -0.3093, Val Loss: -0.4171\n",
      "Epoch 4700/10000, Train Loss: -0.3094, Val Loss: -0.4172\n",
      "Epoch 4800/10000, Train Loss: -0.3094, Val Loss: -0.4174\n",
      "Epoch 4900/10000, Train Loss: -0.3095, Val Loss: -0.4176\n",
      "Epoch 5000/10000, Train Loss: -0.3096, Val Loss: -0.4179\n",
      "Epoch 5100/10000, Train Loss: -0.3097, Val Loss: -0.4182\n",
      "Epoch 5200/10000, Train Loss: -0.3098, Val Loss: -0.4182\n",
      "Epoch 5300/10000, Train Loss: -0.3098, Val Loss: -0.4180\n",
      "Epoch 5400/10000, Train Loss: -0.3099, Val Loss: -0.4185\n",
      "Epoch 5500/10000, Train Loss: -0.3099, Val Loss: -0.4186\n",
      "Epoch 5600/10000, Train Loss: -0.3100, Val Loss: -0.4187\n",
      "Epoch 5700/10000, Train Loss: -0.3101, Val Loss: -0.4187\n",
      "Epoch 5800/10000, Train Loss: -0.3101, Val Loss: -0.4187\n",
      "Epoch 5900/10000, Train Loss: -0.3102, Val Loss: -0.4188\n",
      "Epoch 6000/10000, Train Loss: -0.3102, Val Loss: -0.4191\n",
      "Epoch 6100/10000, Train Loss: -0.3102, Val Loss: -0.4189\n",
      "Epoch 6200/10000, Train Loss: -0.3103, Val Loss: -0.4189\n",
      "Epoch 6300/10000, Train Loss: -0.3103, Val Loss: -0.4189\n",
      "Epoch 6400/10000, Train Loss: -0.3104, Val Loss: -0.4190\n",
      "Epoch 6500/10000, Train Loss: -0.3104, Val Loss: -0.4191\n",
      "Epoch 6600/10000, Train Loss: -0.3104, Val Loss: -0.4190\n",
      "Epoch 6700/10000, Train Loss: -0.3104, Val Loss: -0.4192\n",
      "Epoch 6800/10000, Train Loss: -0.3105, Val Loss: -0.4194\n",
      "Epoch 6900/10000, Train Loss: -0.3105, Val Loss: -0.4195\n",
      "Epoch 7000/10000, Train Loss: -0.3105, Val Loss: -0.4192\n",
      "Epoch 7100/10000, Train Loss: -0.3105, Val Loss: -0.4194\n",
      "Epoch 7200/10000, Train Loss: -0.3105, Val Loss: -0.4193\n",
      "Epoch 7300/10000, Train Loss: -0.3106, Val Loss: -0.4192\n",
      "Epoch 7400/10000, Train Loss: -0.3106, Val Loss: -0.4193\n",
      "Epoch 7500/10000, Train Loss: -0.3106, Val Loss: -0.4192\n",
      "Epoch 7600/10000, Train Loss: -0.3106, Val Loss: -0.4194\n",
      "Epoch 7700/10000, Train Loss: -0.3106, Val Loss: -0.4194\n",
      "Epoch 7800/10000, Train Loss: -0.3106, Val Loss: -0.4195\n",
      "Epoch 7900/10000, Train Loss: -0.3106, Val Loss: -0.4194\n",
      "Epoch 8000/10000, Train Loss: -0.3106, Val Loss: -0.4193\n",
      "Epoch 8100/10000, Train Loss: -0.3107, Val Loss: -0.4194\n",
      "Epoch 8200/10000, Train Loss: -0.3107, Val Loss: -0.4196\n",
      "Epoch 8300/10000, Train Loss: -0.3107, Val Loss: -0.4194\n",
      "Epoch 8400/10000, Train Loss: -0.3107, Val Loss: -0.4198\n",
      "Epoch 8500/10000, Train Loss: -0.3107, Val Loss: -0.4197\n",
      "Epoch 8600/10000, Train Loss: -0.3107, Val Loss: -0.4195\n",
      "Epoch 8700/10000, Train Loss: -0.3107, Val Loss: -0.4196\n",
      "Epoch 8800/10000, Train Loss: -0.3107, Val Loss: -0.4196\n",
      "Epoch 8900/10000, Train Loss: -0.3107, Val Loss: -0.4194\n",
      "Epoch 9000/10000, Train Loss: -0.3107, Val Loss: -0.4196\n",
      "Epoch 9100/10000, Train Loss: -0.3108, Val Loss: -0.4197\n",
      "Epoch 9200/10000, Train Loss: -0.3107, Val Loss: -0.4195\n",
      "Epoch 9300/10000, Train Loss: -0.3108, Val Loss: -0.4195\n",
      "Epoch 9400/10000, Train Loss: -0.3107, Val Loss: -0.4196\n",
      "Epoch 9500/10000, Train Loss: -0.3108, Val Loss: -0.4197\n",
      "Epoch 9600/10000, Train Loss: -0.3107, Val Loss: -0.4199\n",
      "Epoch 9700/10000, Train Loss: -0.3107, Val Loss: -0.4196\n",
      "Epoch 9800/10000, Train Loss: -0.3107, Val Loss: -0.4196\n",
      "Epoch 9900/10000, Train Loss: -0.3108, Val Loss: -0.4196\n",
      "Epoch 10000/10000, Train Loss: -0.3107, Val Loss: -0.4195\n"
     ]
    }
   ],
   "source": [
    "# less lr rate since can overfit easily\n",
    "learning_rate = 1e-3\n",
    "# less epoch as can easily overfit\n",
    "num_epoch = 10000\n",
    "\n",
    "lossi_train = []\n",
    "lossi_val = []\n",
    "\n",
    "total_samples = len(train_dataset)\n",
    "n_iter = math.ceil(total_samples / batch_size)\n",
    "\n",
    "optimizer = torch.optim.AdamW(model.parameters(), lr=learning_rate)\n",
    "bce_loss = nn.BCEWithLogitsLoss()\n",
    "output_grads = []\n",
    "\n",
    "model = model.to(device)\n",
    "\n",
    "runFirstBatch = False\n",
    "for epoch in range(num_epoch):\n",
    "    train_loss = 0    \n",
    "    for i, (inputs, labels) in enumerate(train_loader):        \n",
    "        # forward pass\n",
    "        # print(f\"inputs: {inputs}\")\n",
    "        # print(f\"labels: {labels}\")\n",
    "        inputs = inputs.to(device)\n",
    "        labels = labels.to(device)\n",
    "\n",
    "        # print(f\"inputs device: {inputs.device}, labels device: {labels.device}, model device: {[param.device for param in model.parameters()]}\")\n",
    "\n",
    "        # reset grad\n",
    "        optimizer.zero_grad()\n",
    "        \n",
    "        pred = model(inputs)\n",
    "        # print(f\"pred: {pred}\")\n",
    "\n",
    "        # calc loss\n",
    "        loss = bce_loss(pred, labels)\n",
    "\n",
    "        if (debug):\n",
    "            for layer in model.layers:\n",
    "                layer.output.retain_grad() # save gradients of non leaf tensors also\n",
    "        \n",
    "        # backward pass\n",
    "        loss.backward()\n",
    "        optimizer.step()\n",
    "\n",
    "        loss = loss.log10()\n",
    "        train_loss += loss.item()\n",
    "\n",
    "        # if (debug):\n",
    "             # break\n",
    "\n",
    "    # copied it to array since running with no grad will set grad to None\n",
    "    if (debug):\n",
    "        curr_grads = {}\n",
    "        for i, layer in enumerate(model.layers):\n",
    "            curr_grads[f\"{layer.__class__.__name__}: {i}\"] = layer.output.grad.clone()\n",
    "\n",
    "        output_grads.append(curr_grads)\n",
    "    \n",
    "    train_loss /= len(train_loader)\n",
    "    lossi_train.append(train_loss)\n",
    "\n",
    "    # validation phase\n",
    "    model.eval()\n",
    "    with torch.no_grad():  # Disable gradient computation for validation\n",
    "        val_loss = 0\n",
    "        \n",
    "        for inputs, labels in val_loader:\n",
    "            inputs = inputs.to(device)\n",
    "            labels = labels.to(device)\n",
    "            \n",
    "            pred = model(inputs)\n",
    "            \n",
    "            loss = bce_loss(pred, labels)\n",
    "            loss = loss.log10()\n",
    "            val_loss += loss.item()\n",
    "        \n",
    "        val_loss /= len(val_loader)\n",
    "        lossi_val.append(val_loss)\n",
    "        \n",
    "\n",
    "    # reset to train mode\n",
    "    model.train()\n",
    "\n",
    "    if ((epoch+1)%100==0):\n",
    "        print(f\"Epoch {epoch+1}/{num_epoch}, Train Loss: {train_loss:.4f}, Val Loss: {val_loss:.4f}\")\n",
    "\n",
    "    # if (debug):\n",
    "        # break"
   ]
  },
  {
   "cell_type": "code",
   "execution_count": 33,
   "id": "10ede728",
   "metadata": {
    "execution": {
     "iopub.execute_input": "2025-01-28T17:38:12.637125Z",
     "iopub.status.busy": "2025-01-28T17:38:12.636839Z",
     "iopub.status.idle": "2025-01-28T17:38:12.860361Z",
     "shell.execute_reply": "2025-01-28T17:38:12.859612Z"
    },
    "papermill": {
     "duration": 0.23916,
     "end_time": "2025-01-28T17:38:12.861474",
     "exception": false,
     "start_time": "2025-01-28T17:38:12.622314",
     "status": "completed"
    },
    "tags": []
   },
   "outputs": [
    {
     "data": {
      "text/plain": [
       "[<matplotlib.lines.Line2D at 0x7ab8302ecee0>]"
      ]
     },
     "execution_count": 33,
     "metadata": {},
     "output_type": "execute_result"
    },
    {
     "data": {
      "image/png": "[encoded data removed]",
      "text/plain": [
       "<Figure size 640x480 with 1 Axes>"
      ]
     },
     "metadata": {},
     "output_type": "display_data"
    }
   ],
   "source": [
    "plt.plot(lossi_train, color=\"blue\")\n",
    "plt.plot(lossi_val, color=\"red\")"
   ]
  },
  {
   "cell_type": "code",
   "execution_count": 34,
   "id": "936bccd7",
   "metadata": {
    "execution": {
     "iopub.execute_input": "2025-01-28T17:38:12.891019Z",
     "iopub.status.busy": "2025-01-28T17:38:12.890755Z",
     "iopub.status.idle": "2025-01-28T17:38:13.207690Z",
     "shell.execute_reply": "2025-01-28T17:38:13.206942Z"
    },
    "papermill": {
     "duration": 0.332989,
     "end_time": "2025-01-28T17:38:13.209022",
     "exception": false,
     "start_time": "2025-01-28T17:38:12.876033",
     "status": "completed"
    },
    "tags": []
   },
   "outputs": [
    {
     "name": "stdout",
     "output_type": "stream",
     "text": [
      "layer 0 (LinearLayer): mean +0.00, std 0.23, saturated: 0.61%\n",
      "layer 1 (LeakyReluLayer): mean +0.04, std 0.09, saturated: 0.00%\n",
      "layer 2 (LinearLayer): mean -0.92, std 1.17, saturated: 100.00%\n"
     ]
    },
    {
     "data": {
      "image/png": "[encoded data removed]",
      "text/plain": [
       "<Figure size 2000x400 with 1 Axes>"
      ]
     },
     "metadata": {},
     "output_type": "display_data"
    }
   ],
   "source": [
    "# visualize activations\n",
    "plt.figure(figsize=(20, 4))\n",
    "legends = []\n",
    "\n",
    "if (len(model.layers) > 1):\n",
    "    for i, layer in enumerate(model.layers): # exclude output layer\n",
    "        t = layer.output.cpu()\n",
    "        print('layer %d (%10s): mean %+.2f, std %.2f, saturated: %.2f%%' % (i, layer.__class__.__name__, t.mean(), t.std(), (t.abs() > 0.97).float().mean()*100))\n",
    "        hy, hx = torch.histogram(t, density=True)\n",
    "        plt.plot(hx[:-1].detach(), hy.detach())\n",
    "        legends.append(f'layer {i} ({layer.__class__.__name__})')\n",
    "    \n",
    "    plt.legend(legends)\n",
    "    plt.title(\"activation distribution\")"
   ]
  },
  {
   "cell_type": "code",
   "execution_count": 35,
   "id": "248e85ea",
   "metadata": {
    "execution": {
     "iopub.execute_input": "2025-01-28T17:38:13.241666Z",
     "iopub.status.busy": "2025-01-28T17:38:13.241419Z",
     "iopub.status.idle": "2025-01-28T17:38:13.530328Z",
     "shell.execute_reply": "2025-01-28T17:38:13.529450Z"
    },
    "papermill": {
     "duration": 0.305503,
     "end_time": "2025-01-28T17:38:13.531543",
     "exception": false,
     "start_time": "2025-01-28T17:38:13.226040",
     "status": "completed"
    },
    "tags": []
   },
   "outputs": [
    {
     "name": "stdout",
     "output_type": "stream",
     "text": [
      "layer (LinearLayer: 0): mean -0.000972, std 1.128457e-02\n",
      "layer (LeakyReluLayer: 1): mean +0.000595, std 4.442016e-02\n",
      "layer (LinearLayer: 2): mean +0.011089, std 2.670463e-02\n"
     ]
    },
    {
     "data": {
      "image/png": "[encoded data removed]",
      "text/plain": [
       "<Figure size 2000x400 with 1 Axes>"
      ]
     },
     "metadata": {},
     "output_type": "display_data"
    }
   ],
   "source": [
    "# visualize histograms\n",
    "plt.figure(figsize=(20, 4)) # width and height of the plot\n",
    "legends = []\n",
    "\n",
    "if (len(model.layers) > 1):\n",
    "    for layer_name, layer_grad in output_grads[-1].items(): # note: exclude the output layer\n",
    "        t = layer_grad.cpu()\n",
    "        print('layer (%10s): mean %+f, std %e' % (layer_name, t.mean(), t.std()))\n",
    "        hy, hx = torch.histogram(t, density=True)\n",
    "        plt.plot(hx[:-1].detach(), hy.detach())\n",
    "        legends.append(f'{layer_name}')\n",
    "\n",
    "    plt.legend(legends);\n",
    "    plt.title('gradient distribution')"
   ]
  },
  {
   "cell_type": "code",
   "execution_count": 36,
   "id": "ff6be58d",
   "metadata": {
    "execution": {
     "iopub.execute_input": "2025-01-28T17:38:13.565272Z",
     "iopub.status.busy": "2025-01-28T17:38:13.565022Z",
     "iopub.status.idle": "2025-01-28T17:38:13.695521Z",
     "shell.execute_reply": "2025-01-28T17:38:13.694707Z"
    },
    "papermill": {
     "duration": 0.148316,
     "end_time": "2025-01-28T17:38:13.696822",
     "exception": false,
     "start_time": "2025-01-28T17:38:13.548506",
     "status": "completed"
    },
    "tags": []
   },
   "outputs": [
    {
     "name": "stdout",
     "output_type": "stream",
     "text": [
      "Test Accuracy: 80.00%\n"
     ]
    }
   ],
   "source": [
    "model.eval()  # Set model to evaluation mode\n",
    "\n",
    "# Accuracy calculation\n",
    "correct = 0\n",
    "total = 0\n",
    "\n",
    "with torch.no_grad():  # Disable gradient calculation\n",
    "    for inputs, labels in test_loader:\n",
    "        inputs = inputs.to(device)\n",
    "        labels = labels.to(device)\n",
    "        \n",
    "        outputs = model(inputs)\n",
    "        predictions = torch.sigmoid(outputs)  # Apply sigmoid for binary classification\n",
    "        predicted_classes = (predictions > 0.5).float()  # Convert to binary (0 or 1)\n",
    "        correct += (predicted_classes == labels).sum().item()\n",
    "        total += labels.size(0)\n",
    "\n",
    "accuracy = correct / total\n",
    "print(f\"Test Accuracy: {accuracy * 100:.2f}%\")"
   ]
  },
  {
   "cell_type": "code",
   "execution_count": 37,
   "id": "713a0922",
   "metadata": {
    "execution": {
     "iopub.execute_input": "2025-01-28T17:38:13.730308Z",
     "iopub.status.busy": "2025-01-28T17:38:13.730059Z",
     "iopub.status.idle": "2025-01-28T17:38:14.335565Z",
     "shell.execute_reply": "2025-01-28T17:38:14.334852Z"
    },
    "papermill": {
     "duration": 0.623303,
     "end_time": "2025-01-28T17:38:14.336862",
     "exception": false,
     "start_time": "2025-01-28T17:38:13.713559",
     "status": "completed"
    },
    "tags": []
   },
   "outputs": [
    {
     "name": "stdout",
     "output_type": "stream",
     "text": [
      "Train Accuracy: 78.23%\n"
     ]
    }
   ],
   "source": [
    "model.eval()  # Set model to evaluation mode\n",
    "\n",
    "# Accuracy calculation\n",
    "correct = 0\n",
    "total = 0\n",
    "\n",
    "with torch.no_grad():  # Disable gradient calculation\n",
    "    for inputs, labels in train_loader:\n",
    "        inputs = inputs.to(device)\n",
    "        labels = labels.to(device)\n",
    "        \n",
    "        outputs = model(inputs)\n",
    "        predictions = torch.sigmoid(outputs)  # Apply sigmoid for binary classification\n",
    "        predicted_classes = (predictions > 0.5).float()  # Convert to binary (0 or 1)\n",
    "        correct += (predicted_classes == labels).sum().item()\n",
    "        total += labels.size(0)\n",
    "\n",
    "accuracy = correct / total\n",
    "print(f\"Train Accuracy: {accuracy * 100:.2f}%\")"
   ]
  },
  {
   "cell_type": "markdown",
   "id": "3db46897",
   "metadata": {
    "papermill": {
     "duration": 0.016968,
     "end_time": "2025-01-28T17:38:14.371312",
     "exception": false,
     "start_time": "2025-01-28T17:38:14.354344",
     "status": "completed"
    },
    "tags": []
   },
   "source": [
    "## Test"
   ]
  },
  {
   "cell_type": "code",
   "execution_count": 38,
   "id": "d968fe1f",
   "metadata": {
    "execution": {
     "iopub.execute_input": "2025-01-28T17:38:14.404108Z",
     "iopub.status.busy": "2025-01-28T17:38:14.403818Z",
     "iopub.status.idle": "2025-01-28T17:38:14.452536Z",
     "shell.execute_reply": "2025-01-28T17:38:14.451844Z"
    },
    "papermill": {
     "duration": 0.066149,
     "end_time": "2025-01-28T17:38:14.453712",
     "exception": false,
     "start_time": "2025-01-28T17:38:14.387563",
     "status": "completed"
    },
    "tags": []
   },
   "outputs": [
    {
     "data": {
      "text/html": [
       "<div>\n",
       "<style scoped>\n",
       "    .dataframe tbody tr th:only-of-type {\n",
       "        vertical-align: middle;\n",
       "    }\n",
       "\n",
       "    .dataframe tbody tr th {\n",
       "        vertical-align: top;\n",
       "    }\n",
       "\n",
       "    .dataframe thead th {\n",
       "        text-align: right;\n",
       "    }\n",
       "</style>\n",
       "<table border=\"1\" class=\"dataframe\">\n",
       "  <thead>\n",
       "    <tr style=\"text-align: right;\">\n",
       "      <th></th>\n",
       "      <th>PassengerId</th>\n",
       "      <th>Pclass</th>\n",
       "      <th>Name</th>\n",
       "      <th>Sex</th>\n",
       "      <th>Age</th>\n",
       "      <th>SibSp</th>\n",
       "      <th>Parch</th>\n",
       "      <th>Ticket</th>\n",
       "      <th>Fare</th>\n",
       "      <th>Cabin</th>\n",
       "      <th>Embarked</th>\n",
       "    </tr>\n",
       "  </thead>\n",
       "  <tbody>\n",
       "    <tr>\n",
       "      <th>0</th>\n",
       "      <td>892</td>\n",
       "      <td>3</td>\n",
       "      <td>Kelly, Mr. James</td>\n",
       "      <td>male</td>\n",
       "      <td>34.5</td>\n",
       "      <td>0</td>\n",
       "      <td>0</td>\n",
       "      <td>330911</td>\n",
       "      <td>7.8292</td>\n",
       "      <td>NaN</td>\n",
       "      <td>Q</td>\n",
       "    </tr>\n",
       "    <tr>\n",
       "      <th>1</th>\n",
       "      <td>893</td>\n",
       "      <td>3</td>\n",
       "      <td>Wilkes, Mrs. James (Ellen Needs)</td>\n",
       "      <td>female</td>\n",
       "      <td>47.0</td>\n",
       "      <td>1</td>\n",
       "      <td>0</td>\n",
       "      <td>363272</td>\n",
       "      <td>7.0000</td>\n",
       "      <td>NaN</td>\n",
       "      <td>S</td>\n",
       "    </tr>\n",
       "    <tr>\n",
       "      <th>2</th>\n",
       "      <td>894</td>\n",
       "      <td>2</td>\n",
       "      <td>Myles, Mr. Thomas Francis</td>\n",
       "      <td>male</td>\n",
       "      <td>62.0</td>\n",
       "      <td>0</td>\n",
       "      <td>0</td>\n",
       "      <td>240276</td>\n",
       "      <td>9.6875</td>\n",
       "      <td>NaN</td>\n",
       "      <td>Q</td>\n",
       "    </tr>\n",
       "    <tr>\n",
       "      <th>3</th>\n",
       "      <td>895</td>\n",
       "      <td>3</td>\n",
       "      <td>Wirz, Mr. Albert</td>\n",
       "      <td>male</td>\n",
       "      <td>27.0</td>\n",
       "      <td>0</td>\n",
       "      <td>0</td>\n",
       "      <td>315154</td>\n",
       "      <td>8.6625</td>\n",
       "      <td>NaN</td>\n",
       "      <td>S</td>\n",
       "    </tr>\n",
       "    <tr>\n",
       "      <th>4</th>\n",
       "      <td>896</td>\n",
       "      <td>3</td>\n",
       "      <td>Hirvonen, Mrs. Alexander (Helga E Lindqvist)</td>\n",
       "      <td>female</td>\n",
       "      <td>22.0</td>\n",
       "      <td>1</td>\n",
       "      <td>1</td>\n",
       "      <td>3101298</td>\n",
       "      <td>12.2875</td>\n",
       "      <td>NaN</td>\n",
       "      <td>S</td>\n",
       "    </tr>\n",
       "    <tr>\n",
       "      <th>5</th>\n",
       "      <td>897</td>\n",
       "      <td>3</td>\n",
       "      <td>Svensson, Mr. Johan Cervin</td>\n",
       "      <td>male</td>\n",
       "      <td>14.0</td>\n",
       "      <td>0</td>\n",
       "      <td>0</td>\n",
       "      <td>7538</td>\n",
       "      <td>9.2250</td>\n",
       "      <td>NaN</td>\n",
       "      <td>S</td>\n",
       "    </tr>\n",
       "    <tr>\n",
       "      <th>6</th>\n",
       "      <td>898</td>\n",
       "      <td>3</td>\n",
       "      <td>Connolly, Miss. Kate</td>\n",
       "      <td>female</td>\n",
       "      <td>30.0</td>\n",
       "      <td>0</td>\n",
       "      <td>0</td>\n",
       "      <td>330972</td>\n",
       "      <td>7.6292</td>\n",
       "      <td>NaN</td>\n",
       "      <td>Q</td>\n",
       "    </tr>\n",
       "    <tr>\n",
       "      <th>7</th>\n",
       "      <td>899</td>\n",
       "      <td>2</td>\n",
       "      <td>Caldwell, Mr. Albert Francis</td>\n",
       "      <td>male</td>\n",
       "      <td>26.0</td>\n",
       "      <td>1</td>\n",
       "      <td>1</td>\n",
       "      <td>248738</td>\n",
       "      <td>29.0000</td>\n",
       "      <td>NaN</td>\n",
       "      <td>S</td>\n",
       "    </tr>\n",
       "    <tr>\n",
       "      <th>8</th>\n",
       "      <td>900</td>\n",
       "      <td>3</td>\n",
       "      <td>Abrahim, Mrs. Joseph (Sophie Halaut Easu)</td>\n",
       "      <td>female</td>\n",
       "      <td>18.0</td>\n",
       "      <td>0</td>\n",
       "      <td>0</td>\n",
       "      <td>2657</td>\n",
       "      <td>7.2292</td>\n",
       "      <td>NaN</td>\n",
       "      <td>C</td>\n",
       "    </tr>\n",
       "    <tr>\n",
       "      <th>9</th>\n",
       "      <td>901</td>\n",
       "      <td>3</td>\n",
       "      <td>Davies, Mr. John Samuel</td>\n",
       "      <td>male</td>\n",
       "      <td>21.0</td>\n",
       "      <td>2</td>\n",
       "      <td>0</td>\n",
       "      <td>A/4 48871</td>\n",
       "      <td>24.1500</td>\n",
       "      <td>NaN</td>\n",
       "      <td>S</td>\n",
       "    </tr>\n",
       "  </tbody>\n",
       "</table>\n",
       "</div>"
      ],
      "text/plain": [
       "   PassengerId  Pclass                                          Name     Sex  \\\n",
       "0          892       3                              Kelly, Mr. James    male   \n",
       "1          893       3              Wilkes, Mrs. James (Ellen Needs)  female   \n",
       "2          894       2                     Myles, Mr. Thomas Francis    male   \n",
       "3          895       3                              Wirz, Mr. Albert    male   \n",
       "4          896       3  Hirvonen, Mrs. Alexander (Helga E Lindqvist)  female   \n",
       "5          897       3                    Svensson, Mr. Johan Cervin    male   \n",
       "6          898       3                          Connolly, Miss. Kate  female   \n",
       "7          899       2                  Caldwell, Mr. Albert Francis    male   \n",
       "8          900       3     Abrahim, Mrs. Joseph (Sophie Halaut Easu)  female   \n",
       "9          901       3                       Davies, Mr. John Samuel    male   \n",
       "\n",
       "    Age  SibSp  Parch     Ticket     Fare Cabin Embarked  \n",
       "0  34.5      0      0     330911   7.8292   NaN        Q  \n",
       "1  47.0      1      0     363272   7.0000   NaN        S  \n",
       "2  62.0      0      0     240276   9.6875   NaN        Q  \n",
       "3  27.0      0      0     315154   8.6625   NaN        S  \n",
       "4  22.0      1      1    3101298  12.2875   NaN        S  \n",
       "5  14.0      0      0       7538   9.2250   NaN        S  \n",
       "6  30.0      0      0     330972   7.6292   NaN        Q  \n",
       "7  26.0      1      1     248738  29.0000   NaN        S  \n",
       "8  18.0      0      0       2657   7.2292   NaN        C  \n",
       "9  21.0      2      0  A/4 48871  24.1500   NaN        S  "
      ]
     },
     "execution_count": 38,
     "metadata": {},
     "output_type": "execute_result"
    }
   ],
   "source": [
    "test_df = pd.read_csv(\"/kaggle/input/titanic/test.csv\")\n",
    "test_df.head(10)"
   ]
  },
  {
   "cell_type": "code",
   "execution_count": 39,
   "id": "5c7c91f2",
   "metadata": {
    "execution": {
     "iopub.execute_input": "2025-01-28T17:38:14.486461Z",
     "iopub.status.busy": "2025-01-28T17:38:14.486229Z",
     "iopub.status.idle": "2025-01-28T17:38:14.490414Z",
     "shell.execute_reply": "2025-01-28T17:38:14.489771Z"
    },
    "papermill": {
     "duration": 0.021757,
     "end_time": "2025-01-28T17:38:14.491600",
     "exception": false,
     "start_time": "2025-01-28T17:38:14.469843",
     "status": "completed"
    },
    "tags": []
   },
   "outputs": [
    {
     "data": {
      "text/plain": [
       "418"
      ]
     },
     "execution_count": 39,
     "metadata": {},
     "output_type": "execute_result"
    }
   ],
   "source": [
    "len(test_df)"
   ]
  },
  {
   "cell_type": "code",
   "execution_count": 40,
   "id": "41598767",
   "metadata": {
    "execution": {
     "iopub.execute_input": "2025-01-28T17:38:14.524458Z",
     "iopub.status.busy": "2025-01-28T17:38:14.524257Z",
     "iopub.status.idle": "2025-01-28T17:38:14.534325Z",
     "shell.execute_reply": "2025-01-28T17:38:14.533691Z"
    },
    "papermill": {
     "duration": 0.02791,
     "end_time": "2025-01-28T17:38:14.535574",
     "exception": false,
     "start_time": "2025-01-28T17:38:14.507664",
     "status": "completed"
    },
    "tags": []
   },
   "outputs": [
    {
     "data": {
      "text/plain": [
       "(tensor([0.0000, 0.2300]), tensor([]))"
      ]
     },
     "execution_count": 40,
     "metadata": {},
     "output_type": "execute_result"
    }
   ],
   "source": [
    "csv_file = \"/kaggle/input/titanic/test.csv\"\n",
    "target_col_list = []\n",
    "\n",
    "transforms = torchvision.transforms.Compose([SexToNum(), NormalizeAge(minAge, maxAge), ConvertNumpyArrToFloat32()])\n",
    "\n",
    "final_test_dataset = CSVDataset(csv_file, features_col_list, target_col_list, transform=transforms, dropNa=True)\n",
    "final_test_dataset[0]"
   ]
  },
  {
   "cell_type": "code",
   "execution_count": 41,
   "id": "a0106806",
   "metadata": {
    "execution": {
     "iopub.execute_input": "2025-01-28T17:38:14.570711Z",
     "iopub.status.busy": "2025-01-28T17:38:14.570507Z",
     "iopub.status.idle": "2025-01-28T17:38:14.574747Z",
     "shell.execute_reply": "2025-01-28T17:38:14.573992Z"
    },
    "papermill": {
     "duration": 0.023026,
     "end_time": "2025-01-28T17:38:14.575963",
     "exception": false,
     "start_time": "2025-01-28T17:38:14.552937",
     "status": "completed"
    },
    "tags": []
   },
   "outputs": [
    {
     "data": {
      "text/plain": [
       "418"
      ]
     },
     "execution_count": 41,
     "metadata": {},
     "output_type": "execute_result"
    }
   ],
   "source": [
    "len(final_test_dataset)"
   ]
  },
  {
   "cell_type": "code",
   "execution_count": 42,
   "id": "a8e9f5d0",
   "metadata": {
    "execution": {
     "iopub.execute_input": "2025-01-28T17:38:14.610095Z",
     "iopub.status.busy": "2025-01-28T17:38:14.609851Z",
     "iopub.status.idle": "2025-01-28T17:38:15.079937Z",
     "shell.execute_reply": "2025-01-28T17:38:15.079103Z"
    },
    "papermill": {
     "duration": 0.488579,
     "end_time": "2025-01-28T17:38:15.081273",
     "exception": false,
     "start_time": "2025-01-28T17:38:14.592694",
     "status": "completed"
    },
    "tags": []
   },
   "outputs": [],
   "source": [
    "final_test_loader = DataLoader(final_test_dataset, shuffle=False)\n",
    "\n",
    "pred = []\n",
    "with torch.no_grad():  # Disable gradient calculation\n",
    "    for inputs, labels in final_test_loader:\n",
    "        inputs = inputs.to(device)\n",
    "    \n",
    "        outputs = model(inputs)\n",
    "        predictions = torch.sigmoid(outputs)  # Apply sigmoid for binary classification\n",
    "        predicted_classes = (predictions > 0.5).float()  # Convert to binary (0 or 1)\n",
    "\n",
    "        pred.append(int(predicted_classes.item()))"
   ]
  },
  {
   "cell_type": "code",
   "execution_count": 43,
   "id": "a14dbe2b",
   "metadata": {
    "execution": {
     "iopub.execute_input": "2025-01-28T17:38:15.114549Z",
     "iopub.status.busy": "2025-01-28T17:38:15.114341Z",
     "iopub.status.idle": "2025-01-28T17:38:15.118718Z",
     "shell.execute_reply": "2025-01-28T17:38:15.117787Z"
    },
    "papermill": {
     "duration": 0.022369,
     "end_time": "2025-01-28T17:38:15.119954",
     "exception": false,
     "start_time": "2025-01-28T17:38:15.097585",
     "status": "completed"
    },
    "tags": []
   },
   "outputs": [
    {
     "data": {
      "text/plain": [
       "418"
      ]
     },
     "execution_count": 43,
     "metadata": {},
     "output_type": "execute_result"
    }
   ],
   "source": [
    "len(final_test_loader)"
   ]
  },
  {
   "cell_type": "code",
   "execution_count": 44,
   "id": "458e3033",
   "metadata": {
    "execution": {
     "iopub.execute_input": "2025-01-28T17:38:15.153503Z",
     "iopub.status.busy": "2025-01-28T17:38:15.153290Z",
     "iopub.status.idle": "2025-01-28T17:38:15.160137Z",
     "shell.execute_reply": "2025-01-28T17:38:15.159366Z"
    },
    "papermill": {
     "duration": 0.024717,
     "end_time": "2025-01-28T17:38:15.161425",
     "exception": false,
     "start_time": "2025-01-28T17:38:15.136708",
     "status": "completed"
    },
    "tags": []
   },
   "outputs": [],
   "source": [
    "pred_df = pd.DataFrame(pred, columns=[\"Survived\"])\n",
    "pred_df[\"PassengerId\"] = test_df[\"PassengerId\"]\n",
    "pred_df.to_csv(\"pred.csv\", index=False)"
   ]
  },
  {
   "cell_type": "code",
   "execution_count": 45,
   "id": "164d7583",
   "metadata": {
    "execution": {
     "iopub.execute_input": "2025-01-28T17:38:15.195115Z",
     "iopub.status.busy": "2025-01-28T17:38:15.194870Z",
     "iopub.status.idle": "2025-01-28T17:38:15.200674Z",
     "shell.execute_reply": "2025-01-28T17:38:15.200067Z"
    },
    "papermill": {
     "duration": 0.02399,
     "end_time": "2025-01-28T17:38:15.201998",
     "exception": false,
     "start_time": "2025-01-28T17:38:15.178008",
     "status": "completed"
    },
    "tags": []
   },
   "outputs": [
    {
     "data": {
      "text/html": [
       "<div>\n",
       "<style scoped>\n",
       "    .dataframe tbody tr th:only-of-type {\n",
       "        vertical-align: middle;\n",
       "    }\n",
       "\n",
       "    .dataframe tbody tr th {\n",
       "        vertical-align: top;\n",
       "    }\n",
       "\n",
       "    .dataframe thead th {\n",
       "        text-align: right;\n",
       "    }\n",
       "</style>\n",
       "<table border=\"1\" class=\"dataframe\">\n",
       "  <thead>\n",
       "    <tr style=\"text-align: right;\">\n",
       "      <th></th>\n",
       "      <th>Survived</th>\n",
       "      <th>PassengerId</th>\n",
       "    </tr>\n",
       "  </thead>\n",
       "  <tbody>\n",
       "    <tr>\n",
       "      <th>0</th>\n",
       "      <td>0</td>\n",
       "      <td>892</td>\n",
       "    </tr>\n",
       "    <tr>\n",
       "      <th>1</th>\n",
       "      <td>1</td>\n",
       "      <td>893</td>\n",
       "    </tr>\n",
       "    <tr>\n",
       "      <th>2</th>\n",
       "      <td>0</td>\n",
       "      <td>894</td>\n",
       "    </tr>\n",
       "    <tr>\n",
       "      <th>3</th>\n",
       "      <td>0</td>\n",
       "      <td>895</td>\n",
       "    </tr>\n",
       "    <tr>\n",
       "      <th>4</th>\n",
       "      <td>1</td>\n",
       "      <td>896</td>\n",
       "    </tr>\n",
       "  </tbody>\n",
       "</table>\n",
       "</div>"
      ],
      "text/plain": [
       "   Survived  PassengerId\n",
       "0         0          892\n",
       "1         1          893\n",
       "2         0          894\n",
       "3         0          895\n",
       "4         1          896"
      ]
     },
     "execution_count": 45,
     "metadata": {},
     "output_type": "execute_result"
    }
   ],
   "source": [
    "pred_df.head()"
   ]
  }
 ],
 "metadata": {
  "kaggle": {
   "accelerator": "nvidiaTeslaT4",
   "dataSources": [
    {
     "databundleVersionId": 26502,
     "sourceId": 3136,
     "sourceType": "competition"
    }
   ],
   "dockerImageVersionId": 30822,
   "isGpuEnabled": true,
   "isInternetEnabled": true,
   "language": "python",
   "sourceType": "notebook"
  },
  "kernelspec": {
   "display_name": "Python 3",
   "language": "python",
   "name": "python3"
  },
  "language_info": {
   "codemirror_mode": {
    "name": "ipython",
    "version": 3
   },
   "file_extension": ".py",
   "mimetype": "text/x-python",
   "name": "python",
   "nbconvert_exporter": "python",
   "pygments_lexer": "ipython3",
   "version": "3.10.12"
  },
  "papermill": {
   "default_parameters": {},
   "duration": 7218.590077,
   "end_time": "2025-01-28T17:38:17.571600",
   "environment_variables": {},
   "exception": null,
   "input_path": "__notebook__.ipynb",
   "output_path": "__notebook__.ipynb",
   "parameters": {},
   "start_time": "2025-01-28T15:37:58.981523",
   "version": "2.6.0"
  }
 },
 "nbformat": 4,
 "nbformat_minor": 5
}
