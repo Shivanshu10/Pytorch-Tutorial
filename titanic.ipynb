{
 "cells": [
  {
   "cell_type": "code",
   "execution_count": 1,
   "id": "1858d5a7",
   "metadata": {
    "_cell_guid": "b1076dfc-b9ad-4769-8c92-a6c4dae69d19",
    "_uuid": "8f2839f25d086af736a60e9eeb907d3b93b6e0e5",
    "execution": {
     "iopub.execute_input": "2025-01-28T09:03:04.059357Z",
     "iopub.status.busy": "2025-01-28T09:03:04.059117Z",
     "iopub.status.idle": "2025-01-28T09:03:06.002920Z",
     "shell.execute_reply": "2025-01-28T09:03:06.001944Z"
    },
    "papermill": {
     "duration": 1.954421,
     "end_time": "2025-01-28T09:03:06.004350",
     "exception": false,
     "start_time": "2025-01-28T09:03:04.049929",
     "status": "completed"
    },
    "tags": []
   },
   "outputs": [
    {
     "name": "stdout",
     "output_type": "stream",
     "text": [
      "/kaggle/input/titanic/train.csv\n",
      "/kaggle/input/titanic/test.csv\n",
      "/kaggle/input/titanic/gender_submission.csv\n"
     ]
    }
   ],
   "source": [
    "import numpy as np\n",
    "import pandas as pd\n",
    "import seaborn as sns\n",
    "import matplotlib.pyplot as plt\n",
    "import os\n",
    "for dirname, _, filenames in os.walk('/kaggle/input'):\n",
    "    for filename in filenames:\n",
    "        print(os.path.join(dirname, filename))"
   ]
  },
  {
   "cell_type": "markdown",
   "id": "267860a7",
   "metadata": {
    "papermill": {
     "duration": 0.007696,
     "end_time": "2025-01-28T09:03:06.020830",
     "exception": false,
     "start_time": "2025-01-28T09:03:06.013134",
     "status": "completed"
    },
    "tags": []
   },
   "source": [
    "## Load Data"
   ]
  },
  {
   "cell_type": "code",
   "execution_count": 2,
   "id": "8c7062ff",
   "metadata": {
    "execution": {
     "iopub.execute_input": "2025-01-28T09:03:06.038142Z",
     "iopub.status.busy": "2025-01-28T09:03:06.037789Z",
     "iopub.status.idle": "2025-01-28T09:03:06.078980Z",
     "shell.execute_reply": "2025-01-28T09:03:06.078244Z"
    },
    "papermill": {
     "duration": 0.051714,
     "end_time": "2025-01-28T09:03:06.080211",
     "exception": false,
     "start_time": "2025-01-28T09:03:06.028497",
     "status": "completed"
    },
    "tags": []
   },
   "outputs": [
    {
     "data": {
      "text/html": [
       "<div>\n",
       "<style scoped>\n",
       "    .dataframe tbody tr th:only-of-type {\n",
       "        vertical-align: middle;\n",
       "    }\n",
       "\n",
       "    .dataframe tbody tr th {\n",
       "        vertical-align: top;\n",
       "    }\n",
       "\n",
       "    .dataframe thead th {\n",
       "        text-align: right;\n",
       "    }\n",
       "</style>\n",
       "<table border=\"1\" class=\"dataframe\">\n",
       "  <thead>\n",
       "    <tr style=\"text-align: right;\">\n",
       "      <th></th>\n",
       "      <th>Survived</th>\n",
       "      <th>Pclass</th>\n",
       "      <th>Name</th>\n",
       "      <th>Sex</th>\n",
       "      <th>Age</th>\n",
       "      <th>SibSp</th>\n",
       "      <th>Parch</th>\n",
       "      <th>Ticket</th>\n",
       "      <th>Fare</th>\n",
       "      <th>Cabin</th>\n",
       "      <th>Embarked</th>\n",
       "    </tr>\n",
       "    <tr>\n",
       "      <th>PassengerId</th>\n",
       "      <th></th>\n",
       "      <th></th>\n",
       "      <th></th>\n",
       "      <th></th>\n",
       "      <th></th>\n",
       "      <th></th>\n",
       "      <th></th>\n",
       "      <th></th>\n",
       "      <th></th>\n",
       "      <th></th>\n",
       "      <th></th>\n",
       "    </tr>\n",
       "  </thead>\n",
       "  <tbody>\n",
       "    <tr>\n",
       "      <th>1</th>\n",
       "      <td>0</td>\n",
       "      <td>3</td>\n",
       "      <td>Braund, Mr. Owen Harris</td>\n",
       "      <td>male</td>\n",
       "      <td>22.0</td>\n",
       "      <td>1</td>\n",
       "      <td>0</td>\n",
       "      <td>A/5 21171</td>\n",
       "      <td>7.2500</td>\n",
       "      <td>NaN</td>\n",
       "      <td>S</td>\n",
       "    </tr>\n",
       "    <tr>\n",
       "      <th>2</th>\n",
       "      <td>1</td>\n",
       "      <td>1</td>\n",
       "      <td>Cumings, Mrs. John Bradley (Florence Briggs Th...</td>\n",
       "      <td>female</td>\n",
       "      <td>38.0</td>\n",
       "      <td>1</td>\n",
       "      <td>0</td>\n",
       "      <td>PC 17599</td>\n",
       "      <td>71.2833</td>\n",
       "      <td>C85</td>\n",
       "      <td>C</td>\n",
       "    </tr>\n",
       "    <tr>\n",
       "      <th>3</th>\n",
       "      <td>1</td>\n",
       "      <td>3</td>\n",
       "      <td>Heikkinen, Miss. Laina</td>\n",
       "      <td>female</td>\n",
       "      <td>26.0</td>\n",
       "      <td>0</td>\n",
       "      <td>0</td>\n",
       "      <td>STON/O2. 3101282</td>\n",
       "      <td>7.9250</td>\n",
       "      <td>NaN</td>\n",
       "      <td>S</td>\n",
       "    </tr>\n",
       "    <tr>\n",
       "      <th>4</th>\n",
       "      <td>1</td>\n",
       "      <td>1</td>\n",
       "      <td>Futrelle, Mrs. Jacques Heath (Lily May Peel)</td>\n",
       "      <td>female</td>\n",
       "      <td>35.0</td>\n",
       "      <td>1</td>\n",
       "      <td>0</td>\n",
       "      <td>113803</td>\n",
       "      <td>53.1000</td>\n",
       "      <td>C123</td>\n",
       "      <td>S</td>\n",
       "    </tr>\n",
       "    <tr>\n",
       "      <th>5</th>\n",
       "      <td>0</td>\n",
       "      <td>3</td>\n",
       "      <td>Allen, Mr. William Henry</td>\n",
       "      <td>male</td>\n",
       "      <td>35.0</td>\n",
       "      <td>0</td>\n",
       "      <td>0</td>\n",
       "      <td>373450</td>\n",
       "      <td>8.0500</td>\n",
       "      <td>NaN</td>\n",
       "      <td>S</td>\n",
       "    </tr>\n",
       "    <tr>\n",
       "      <th>6</th>\n",
       "      <td>0</td>\n",
       "      <td>3</td>\n",
       "      <td>Moran, Mr. James</td>\n",
       "      <td>male</td>\n",
       "      <td>NaN</td>\n",
       "      <td>0</td>\n",
       "      <td>0</td>\n",
       "      <td>330877</td>\n",
       "      <td>8.4583</td>\n",
       "      <td>NaN</td>\n",
       "      <td>Q</td>\n",
       "    </tr>\n",
       "    <tr>\n",
       "      <th>7</th>\n",
       "      <td>0</td>\n",
       "      <td>1</td>\n",
       "      <td>McCarthy, Mr. Timothy J</td>\n",
       "      <td>male</td>\n",
       "      <td>54.0</td>\n",
       "      <td>0</td>\n",
       "      <td>0</td>\n",
       "      <td>17463</td>\n",
       "      <td>51.8625</td>\n",
       "      <td>E46</td>\n",
       "      <td>S</td>\n",
       "    </tr>\n",
       "    <tr>\n",
       "      <th>8</th>\n",
       "      <td>0</td>\n",
       "      <td>3</td>\n",
       "      <td>Palsson, Master. Gosta Leonard</td>\n",
       "      <td>male</td>\n",
       "      <td>2.0</td>\n",
       "      <td>3</td>\n",
       "      <td>1</td>\n",
       "      <td>349909</td>\n",
       "      <td>21.0750</td>\n",
       "      <td>NaN</td>\n",
       "      <td>S</td>\n",
       "    </tr>\n",
       "    <tr>\n",
       "      <th>9</th>\n",
       "      <td>1</td>\n",
       "      <td>3</td>\n",
       "      <td>Johnson, Mrs. Oscar W (Elisabeth Vilhelmina Berg)</td>\n",
       "      <td>female</td>\n",
       "      <td>27.0</td>\n",
       "      <td>0</td>\n",
       "      <td>2</td>\n",
       "      <td>347742</td>\n",
       "      <td>11.1333</td>\n",
       "      <td>NaN</td>\n",
       "      <td>S</td>\n",
       "    </tr>\n",
       "    <tr>\n",
       "      <th>10</th>\n",
       "      <td>1</td>\n",
       "      <td>2</td>\n",
       "      <td>Nasser, Mrs. Nicholas (Adele Achem)</td>\n",
       "      <td>female</td>\n",
       "      <td>14.0</td>\n",
       "      <td>1</td>\n",
       "      <td>0</td>\n",
       "      <td>237736</td>\n",
       "      <td>30.0708</td>\n",
       "      <td>NaN</td>\n",
       "      <td>C</td>\n",
       "    </tr>\n",
       "  </tbody>\n",
       "</table>\n",
       "</div>"
      ],
      "text/plain": [
       "             Survived  Pclass  \\\n",
       "PassengerId                     \n",
       "1                   0       3   \n",
       "2                   1       1   \n",
       "3                   1       3   \n",
       "4                   1       1   \n",
       "5                   0       3   \n",
       "6                   0       3   \n",
       "7                   0       1   \n",
       "8                   0       3   \n",
       "9                   1       3   \n",
       "10                  1       2   \n",
       "\n",
       "                                                          Name     Sex   Age  \\\n",
       "PassengerId                                                                    \n",
       "1                                      Braund, Mr. Owen Harris    male  22.0   \n",
       "2            Cumings, Mrs. John Bradley (Florence Briggs Th...  female  38.0   \n",
       "3                                       Heikkinen, Miss. Laina  female  26.0   \n",
       "4                 Futrelle, Mrs. Jacques Heath (Lily May Peel)  female  35.0   \n",
       "5                                     Allen, Mr. William Henry    male  35.0   \n",
       "6                                             Moran, Mr. James    male   NaN   \n",
       "7                                      McCarthy, Mr. Timothy J    male  54.0   \n",
       "8                               Palsson, Master. Gosta Leonard    male   2.0   \n",
       "9            Johnson, Mrs. Oscar W (Elisabeth Vilhelmina Berg)  female  27.0   \n",
       "10                         Nasser, Mrs. Nicholas (Adele Achem)  female  14.0   \n",
       "\n",
       "             SibSp  Parch            Ticket     Fare Cabin Embarked  \n",
       "PassengerId                                                          \n",
       "1                1      0         A/5 21171   7.2500   NaN        S  \n",
       "2                1      0          PC 17599  71.2833   C85        C  \n",
       "3                0      0  STON/O2. 3101282   7.9250   NaN        S  \n",
       "4                1      0            113803  53.1000  C123        S  \n",
       "5                0      0            373450   8.0500   NaN        S  \n",
       "6                0      0            330877   8.4583   NaN        Q  \n",
       "7                0      0             17463  51.8625   E46        S  \n",
       "8                3      1            349909  21.0750   NaN        S  \n",
       "9                0      2            347742  11.1333   NaN        S  \n",
       "10               1      0            237736  30.0708   NaN        C  "
      ]
     },
     "execution_count": 2,
     "metadata": {},
     "output_type": "execute_result"
    }
   ],
   "source": [
    "train_df = pd.read_csv(\"/kaggle/input/titanic/train.csv\", index_col=0)\n",
    "train_df.head(10)"
   ]
  },
  {
   "cell_type": "code",
   "execution_count": 3,
   "id": "c7ffb367",
   "metadata": {
    "execution": {
     "iopub.execute_input": "2025-01-28T09:03:06.096996Z",
     "iopub.status.busy": "2025-01-28T09:03:06.096762Z",
     "iopub.status.idle": "2025-01-28T09:03:06.100752Z",
     "shell.execute_reply": "2025-01-28T09:03:06.100180Z"
    },
    "papermill": {
     "duration": 0.013441,
     "end_time": "2025-01-28T09:03:06.101922",
     "exception": false,
     "start_time": "2025-01-28T09:03:06.088481",
     "status": "completed"
    },
    "tags": []
   },
   "outputs": [
    {
     "data": {
      "text/plain": [
       "891"
      ]
     },
     "execution_count": 3,
     "metadata": {},
     "output_type": "execute_result"
    }
   ],
   "source": [
    "len(train_df)"
   ]
  },
  {
   "cell_type": "markdown",
   "id": "210f36d5",
   "metadata": {
    "papermill": {
     "duration": 0.007822,
     "end_time": "2025-01-28T09:03:06.117819",
     "exception": false,
     "start_time": "2025-01-28T09:03:06.109997",
     "status": "completed"
    },
    "tags": []
   },
   "source": [
    "## Explore Data"
   ]
  },
  {
   "attachments": {
    "32b3126c-ecdb-46fc-86b2-f22ddf6e6809.png": {
     "image/png": "[encoded data removed]"
    }
   },
   "cell_type": "markdown",
   "id": "65de259d",
   "metadata": {
    "papermill": {
     "duration": 0.007799,
     "end_time": "2025-01-28T09:03:06.133874",
     "exception": false,
     "start_time": "2025-01-28T09:03:06.126075",
     "status": "completed"
    },
    "tags": []
   },
   "source": [
    "![image.png](attachment:32b3126c-ecdb-46fc-86b2-f22ddf6e6809.png)"
   ]
  },
  {
   "cell_type": "code",
   "execution_count": 4,
   "id": "34f582fd",
   "metadata": {
    "execution": {
     "iopub.execute_input": "2025-01-28T09:03:06.150535Z",
     "iopub.status.busy": "2025-01-28T09:03:06.150311Z",
     "iopub.status.idle": "2025-01-28T09:03:06.154621Z",
     "shell.execute_reply": "2025-01-28T09:03:06.153824Z"
    },
    "papermill": {
     "duration": 0.013931,
     "end_time": "2025-01-28T09:03:06.155724",
     "exception": false,
     "start_time": "2025-01-28T09:03:06.141793",
     "status": "completed"
    },
    "tags": []
   },
   "outputs": [
    {
     "data": {
      "text/plain": [
       "891"
      ]
     },
     "execution_count": 4,
     "metadata": {},
     "output_type": "execute_result"
    }
   ],
   "source": [
    "len(train_df)"
   ]
  },
  {
   "cell_type": "code",
   "execution_count": 5,
   "id": "804fd244",
   "metadata": {
    "execution": {
     "iopub.execute_input": "2025-01-28T09:03:06.172418Z",
     "iopub.status.busy": "2025-01-28T09:03:06.172186Z",
     "iopub.status.idle": "2025-01-28T09:03:06.192730Z",
     "shell.execute_reply": "2025-01-28T09:03:06.191954Z"
    },
    "papermill": {
     "duration": 0.030235,
     "end_time": "2025-01-28T09:03:06.193928",
     "exception": false,
     "start_time": "2025-01-28T09:03:06.163693",
     "status": "completed"
    },
    "tags": []
   },
   "outputs": [
    {
     "data": {
      "text/html": [
       "<div>\n",
       "<style scoped>\n",
       "    .dataframe tbody tr th:only-of-type {\n",
       "        vertical-align: middle;\n",
       "    }\n",
       "\n",
       "    .dataframe tbody tr th {\n",
       "        vertical-align: top;\n",
       "    }\n",
       "\n",
       "    .dataframe thead th {\n",
       "        text-align: right;\n",
       "    }\n",
       "</style>\n",
       "<table border=\"1\" class=\"dataframe\">\n",
       "  <thead>\n",
       "    <tr style=\"text-align: right;\">\n",
       "      <th></th>\n",
       "      <th>Survived</th>\n",
       "      <th>Pclass</th>\n",
       "      <th>Age</th>\n",
       "      <th>SibSp</th>\n",
       "      <th>Parch</th>\n",
       "      <th>Fare</th>\n",
       "    </tr>\n",
       "  </thead>\n",
       "  <tbody>\n",
       "    <tr>\n",
       "      <th>count</th>\n",
       "      <td>891.000000</td>\n",
       "      <td>891.000000</td>\n",
       "      <td>714.000000</td>\n",
       "      <td>891.000000</td>\n",
       "      <td>891.000000</td>\n",
       "      <td>891.000000</td>\n",
       "    </tr>\n",
       "    <tr>\n",
       "      <th>mean</th>\n",
       "      <td>0.383838</td>\n",
       "      <td>2.308642</td>\n",
       "      <td>29.699118</td>\n",
       "      <td>0.523008</td>\n",
       "      <td>0.381594</td>\n",
       "      <td>32.204208</td>\n",
       "    </tr>\n",
       "    <tr>\n",
       "      <th>std</th>\n",
       "      <td>0.486592</td>\n",
       "      <td>0.836071</td>\n",
       "      <td>14.526497</td>\n",
       "      <td>1.102743</td>\n",
       "      <td>0.806057</td>\n",
       "      <td>49.693429</td>\n",
       "    </tr>\n",
       "    <tr>\n",
       "      <th>min</th>\n",
       "      <td>0.000000</td>\n",
       "      <td>1.000000</td>\n",
       "      <td>0.420000</td>\n",
       "      <td>0.000000</td>\n",
       "      <td>0.000000</td>\n",
       "      <td>0.000000</td>\n",
       "    </tr>\n",
       "    <tr>\n",
       "      <th>25%</th>\n",
       "      <td>0.000000</td>\n",
       "      <td>2.000000</td>\n",
       "      <td>20.125000</td>\n",
       "      <td>0.000000</td>\n",
       "      <td>0.000000</td>\n",
       "      <td>7.910400</td>\n",
       "    </tr>\n",
       "    <tr>\n",
       "      <th>50%</th>\n",
       "      <td>0.000000</td>\n",
       "      <td>3.000000</td>\n",
       "      <td>28.000000</td>\n",
       "      <td>0.000000</td>\n",
       "      <td>0.000000</td>\n",
       "      <td>14.454200</td>\n",
       "    </tr>\n",
       "    <tr>\n",
       "      <th>75%</th>\n",
       "      <td>1.000000</td>\n",
       "      <td>3.000000</td>\n",
       "      <td>38.000000</td>\n",
       "      <td>1.000000</td>\n",
       "      <td>0.000000</td>\n",
       "      <td>31.000000</td>\n",
       "    </tr>\n",
       "    <tr>\n",
       "      <th>max</th>\n",
       "      <td>1.000000</td>\n",
       "      <td>3.000000</td>\n",
       "      <td>80.000000</td>\n",
       "      <td>8.000000</td>\n",
       "      <td>6.000000</td>\n",
       "      <td>512.329200</td>\n",
       "    </tr>\n",
       "  </tbody>\n",
       "</table>\n",
       "</div>"
      ],
      "text/plain": [
       "         Survived      Pclass         Age       SibSp       Parch        Fare\n",
       "count  891.000000  891.000000  714.000000  891.000000  891.000000  891.000000\n",
       "mean     0.383838    2.308642   29.699118    0.523008    0.381594   32.204208\n",
       "std      0.486592    0.836071   14.526497    1.102743    0.806057   49.693429\n",
       "min      0.000000    1.000000    0.420000    0.000000    0.000000    0.000000\n",
       "25%      0.000000    2.000000   20.125000    0.000000    0.000000    7.910400\n",
       "50%      0.000000    3.000000   28.000000    0.000000    0.000000   14.454200\n",
       "75%      1.000000    3.000000   38.000000    1.000000    0.000000   31.000000\n",
       "max      1.000000    3.000000   80.000000    8.000000    6.000000  512.329200"
      ]
     },
     "execution_count": 5,
     "metadata": {},
     "output_type": "execute_result"
    }
   ],
   "source": [
    "train_df.describe()"
   ]
  },
  {
   "cell_type": "code",
   "execution_count": 6,
   "id": "bb12d220",
   "metadata": {
    "execution": {
     "iopub.execute_input": "2025-01-28T09:03:06.211017Z",
     "iopub.status.busy": "2025-01-28T09:03:06.210791Z",
     "iopub.status.idle": "2025-01-28T09:03:06.214839Z",
     "shell.execute_reply": "2025-01-28T09:03:06.214090Z"
    },
    "papermill": {
     "duration": 0.013772,
     "end_time": "2025-01-28T09:03:06.215999",
     "exception": false,
     "start_time": "2025-01-28T09:03:06.202227",
     "status": "completed"
    },
    "tags": []
   },
   "outputs": [
    {
     "name": "stdout",
     "output_type": "stream",
     "text": [
      "count of items to be dropped 177\n",
      "count of items left 714\n"
     ]
    }
   ],
   "source": [
    "# age has some null value\n",
    "# should we try dropping them for now?\n",
    "\n",
    "# count of rows that will be dropped\n",
    "print(f\"count of items to be dropped {len(train_df) - 714}\")\n",
    "\n",
    "# rows lefr\n",
    "print(f\"count of items left {len(train_df) - len(train_df) + 714}\")"
   ]
  },
  {
   "cell_type": "code",
   "execution_count": 7,
   "id": "b224cc97",
   "metadata": {
    "execution": {
     "iopub.execute_input": "2025-01-28T09:03:06.233046Z",
     "iopub.status.busy": "2025-01-28T09:03:06.232815Z",
     "iopub.status.idle": "2025-01-28T09:03:06.238034Z",
     "shell.execute_reply": "2025-01-28T09:03:06.237367Z"
    },
    "papermill": {
     "duration": 0.01486,
     "end_time": "2025-01-28T09:03:06.239133",
     "exception": false,
     "start_time": "2025-01-28T09:03:06.224273",
     "status": "completed"
    },
    "tags": []
   },
   "outputs": [
    {
     "data": {
      "text/plain": [
       "Survived      0\n",
       "Pclass        0\n",
       "Name          0\n",
       "Sex           0\n",
       "Age         177\n",
       "SibSp         0\n",
       "Parch         0\n",
       "Ticket        0\n",
       "Fare          0\n",
       "Cabin       687\n",
       "Embarked      2\n",
       "dtype: int64"
      ]
     },
     "execution_count": 7,
     "metadata": {},
     "output_type": "execute_result"
    }
   ],
   "source": [
    "train_df.isna().sum()"
   ]
  },
  {
   "cell_type": "code",
   "execution_count": 8,
   "id": "4fd059ed",
   "metadata": {
    "execution": {
     "iopub.execute_input": "2025-01-28T09:03:06.256324Z",
     "iopub.status.busy": "2025-01-28T09:03:06.256111Z",
     "iopub.status.idle": "2025-01-28T09:03:06.258643Z",
     "shell.execute_reply": "2025-01-28T09:03:06.258075Z"
    },
    "papermill": {
     "duration": 0.01216,
     "end_time": "2025-01-28T09:03:06.259681",
     "exception": false,
     "start_time": "2025-01-28T09:03:06.247521",
     "status": "completed"
    },
    "tags": []
   },
   "outputs": [],
   "source": [
    "# cabin has 687 nulls, i dont think we can learn anything using it though"
   ]
  },
  {
   "cell_type": "code",
   "execution_count": 9,
   "id": "a00207ef",
   "metadata": {
    "execution": {
     "iopub.execute_input": "2025-01-28T09:03:06.276604Z",
     "iopub.status.busy": "2025-01-28T09:03:06.276406Z",
     "iopub.status.idle": "2025-01-28T09:03:06.282805Z",
     "shell.execute_reply": "2025-01-28T09:03:06.282002Z"
    },
    "papermill": {
     "duration": 0.016064,
     "end_time": "2025-01-28T09:03:06.283939",
     "exception": false,
     "start_time": "2025-01-28T09:03:06.267875",
     "status": "completed"
    },
    "tags": []
   },
   "outputs": [
    {
     "data": {
      "text/plain": [
       "Survived\n",
       "0    549\n",
       "1    342\n",
       "Name: count, dtype: int64"
      ]
     },
     "execution_count": 9,
     "metadata": {},
     "output_type": "execute_result"
    }
   ],
   "source": [
    "# lets check balance now\n",
    "train_df[\"Survived\"].value_counts()"
   ]
  },
  {
   "cell_type": "code",
   "execution_count": 10,
   "id": "4a3a2a7c",
   "metadata": {
    "execution": {
     "iopub.execute_input": "2025-01-28T09:03:06.301341Z",
     "iopub.status.busy": "2025-01-28T09:03:06.301111Z",
     "iopub.status.idle": "2025-01-28T09:03:06.306890Z",
     "shell.execute_reply": "2025-01-28T09:03:06.306103Z"
    },
    "papermill": {
     "duration": 0.015801,
     "end_time": "2025-01-28T09:03:06.308140",
     "exception": false,
     "start_time": "2025-01-28T09:03:06.292339",
     "status": "completed"
    },
    "tags": []
   },
   "outputs": [
    {
     "name": "stdout",
     "output_type": "stream",
     "text": [
      "Survived\n",
      "0    61.616162\n",
      "1    38.383838\n",
      "Name: proportion, dtype: float64\n",
      "The dataset is balanced.\n"
     ]
    }
   ],
   "source": [
    "class_percentages = train_df[\"Survived\"].value_counts(normalize=True) * 100\n",
    "\n",
    "print(class_percentages)\n",
    "\n",
    "threshold = 70  # Adjust this as needed\n",
    "is_balanced = all(class_percentages < threshold)\n",
    "\n",
    "if is_balanced:\n",
    "    print(\"The dataset is balanced.\")\n",
    "else:\n",
    "    print(\"The dataset is imbalanced.\")"
   ]
  },
  {
   "cell_type": "code",
   "execution_count": 11,
   "id": "ca017b72",
   "metadata": {
    "execution": {
     "iopub.execute_input": "2025-01-28T09:03:06.325802Z",
     "iopub.status.busy": "2025-01-28T09:03:06.325605Z",
     "iopub.status.idle": "2025-01-28T09:03:06.328353Z",
     "shell.execute_reply": "2025-01-28T09:03:06.327682Z"
    },
    "papermill": {
     "duration": 0.012959,
     "end_time": "2025-01-28T09:03:06.329544",
     "exception": false,
     "start_time": "2025-01-28T09:03:06.316585",
     "status": "completed"
    },
    "tags": []
   },
   "outputs": [],
   "source": [
    "# so model can easily get 61% accuracy if it always predics 0\n",
    "# so this will be our basepoint"
   ]
  },
  {
   "cell_type": "code",
   "execution_count": 12,
   "id": "7e5e941f",
   "metadata": {
    "execution": {
     "iopub.execute_input": "2025-01-28T09:03:06.347167Z",
     "iopub.status.busy": "2025-01-28T09:03:06.346913Z",
     "iopub.status.idle": "2025-01-28T09:03:06.365226Z",
     "shell.execute_reply": "2025-01-28T09:03:06.364496Z"
    },
    "papermill": {
     "duration": 0.028474,
     "end_time": "2025-01-28T09:03:06.366359",
     "exception": false,
     "start_time": "2025-01-28T09:03:06.337885",
     "status": "completed"
    },
    "tags": []
   },
   "outputs": [
    {
     "name": "stdout",
     "output_type": "stream",
     "text": [
      "Column: Survived\n",
      "Outliers: 0\n",
      "Column: Pclass\n",
      "Outliers: 0\n",
      "Column: Age\n",
      "Outliers: 11\n",
      "Column: SibSp\n",
      "Outliers: 46\n",
      "Column: Parch\n",
      "Outliers: 213\n",
      "Column: Fare\n",
      "Outliers: 116\n"
     ]
    }
   ],
   "source": [
    "# check outliers\n",
    "# Identify outliers for each column\n",
    "for column in train_df.select_dtypes(include=[np.number]):  # Only numerical columns\n",
    "    Q1 = train_df[column].quantile(0.25)  # First quartile (25th percentile)\n",
    "    Q3 = train_df[column].quantile(0.75)  # Third quartile (75th percentile)\n",
    "    IQR = Q3 - Q1  # Interquartile range\n",
    "    lower_bound = Q1 - 1.5 * IQR\n",
    "    upper_bound = Q3 + 1.5 * IQR\n",
    "\n",
    "    print(f\"Column: {column}\")\n",
    "    print(f\"Outliers: {len(train_df[(train_df[column] < lower_bound) | (train_df[column] > upper_bound)][column].tolist())}\")"
   ]
  },
  {
   "cell_type": "markdown",
   "id": "e3940565",
   "metadata": {
    "papermill": {
     "duration": 0.00819,
     "end_time": "2025-01-28T09:03:06.382900",
     "exception": false,
     "start_time": "2025-01-28T09:03:06.374710",
     "status": "completed"
    },
    "tags": []
   },
   "source": [
    "## Create Dataset Class"
   ]
  },
  {
   "cell_type": "code",
   "execution_count": 13,
   "id": "896afc07",
   "metadata": {
    "execution": {
     "iopub.execute_input": "2025-01-28T09:03:06.400381Z",
     "iopub.status.busy": "2025-01-28T09:03:06.400176Z",
     "iopub.status.idle": "2025-01-28T09:03:06.642160Z",
     "shell.execute_reply": "2025-01-28T09:03:06.641307Z"
    },
    "papermill": {
     "duration": 0.252215,
     "end_time": "2025-01-28T09:03:06.643507",
     "exception": false,
     "start_time": "2025-01-28T09:03:06.391292",
     "status": "completed"
    },
    "tags": []
   },
   "outputs": [
    {
     "data": {
      "image/png": "[encoded data removed]",
      "text/plain": [
       "<Figure size 640x480 with 1 Axes>"
      ]
     },
     "metadata": {},
     "output_type": "display_data"
    }
   ],
   "source": [
    "sns.countplot(x='Sex', hue='Survived', data=train_df)\n",
    "\n",
    "total = len(train_df)\n",
    "\n",
    "# Add percentage annotations\n",
    "\n",
    "for p in plt.gca().patches:\n",
    "    height = p.get_height()\n",
    "    width = p.get_width()\n",
    "    x, y = p.get_xy()  # Get position of each bar\n",
    "    percentage = height / total * 100\n",
    "    plt.text(x + width / 2, y + height + 5, f'{percentage:.1f}%', ha='center')\n",
    "\n",
    "plt.title('Count of Survived vs. Not Survived by Gender')\n",
    "plt.xlabel('Gender')\n",
    "plt.ylabel('Count')\n",
    "plt.show()"
   ]
  },
  {
   "cell_type": "code",
   "execution_count": 14,
   "id": "564731d2",
   "metadata": {
    "execution": {
     "iopub.execute_input": "2025-01-28T09:03:06.662235Z",
     "iopub.status.busy": "2025-01-28T09:03:06.661967Z",
     "iopub.status.idle": "2025-01-28T09:03:06.985186Z",
     "shell.execute_reply": "2025-01-28T09:03:06.984309Z"
    },
    "papermill": {
     "duration": 0.333804,
     "end_time": "2025-01-28T09:03:06.986416",
     "exception": false,
     "start_time": "2025-01-28T09:03:06.652612",
     "status": "completed"
    },
    "tags": []
   },
   "outputs": [
    {
     "name": "stderr",
     "output_type": "stream",
     "text": [
      "/usr/local/lib/python3.10/dist-packages/seaborn/_oldcore.py:1119: FutureWarning: use_inf_as_na option is deprecated and will be removed in a future version. Convert inf values to NaN before operating instead.\n",
      "  with pd.option_context('mode.use_inf_as_na', True):\n"
     ]
    },
    {
     "data": {
      "image/png": "[encoded data removed]",
      "text/plain": [
       "<Figure size 640x480 with 1 Axes>"
      ]
     },
     "metadata": {},
     "output_type": "display_data"
    }
   ],
   "source": [
    "sns.histplot(x='Age', hue='Survived', data=train_df)\n",
    "plt.title('Count of Survived vs. Not Survived by Age')\n",
    "plt.xlabel('Age')\n",
    "plt.ylabel('Count')\n",
    "plt.show()"
   ]
  },
  {
   "cell_type": "code",
   "execution_count": 15,
   "id": "3f88b383",
   "metadata": {
    "execution": {
     "iopub.execute_input": "2025-01-28T09:03:07.006526Z",
     "iopub.status.busy": "2025-01-28T09:03:07.006298Z",
     "iopub.status.idle": "2025-01-28T09:03:07.011731Z",
     "shell.execute_reply": "2025-01-28T09:03:07.011039Z"
    },
    "papermill": {
     "duration": 0.016913,
     "end_time": "2025-01-28T09:03:07.013011",
     "exception": false,
     "start_time": "2025-01-28T09:03:06.996098",
     "status": "completed"
    },
    "tags": []
   },
   "outputs": [
    {
     "data": {
      "text/plain": [
       "Survived\n",
       "0    549\n",
       "1    342\n",
       "Name: count, dtype: int64"
      ]
     },
     "execution_count": 15,
     "metadata": {},
     "output_type": "execute_result"
    }
   ],
   "source": [
    "train_df[\"Survived\"].value_counts()"
   ]
  },
  {
   "cell_type": "code",
   "execution_count": 16,
   "id": "84281291",
   "metadata": {
    "execution": {
     "iopub.execute_input": "2025-01-28T09:03:07.033187Z",
     "iopub.status.busy": "2025-01-28T09:03:07.032955Z",
     "iopub.status.idle": "2025-01-28T09:03:11.782129Z",
     "shell.execute_reply": "2025-01-28T09:03:11.781216Z"
    },
    "papermill": {
     "duration": 4.760973,
     "end_time": "2025-01-28T09:03:11.783796",
     "exception": false,
     "start_time": "2025-01-28T09:03:07.022823",
     "status": "completed"
    },
    "tags": []
   },
   "outputs": [
    {
     "name": "stdout",
     "output_type": "stream",
     "text": [
      "Collecting torchviz\r\n",
      "  Downloading torchviz-0.0.3-py3-none-any.whl.metadata (2.1 kB)\r\n",
      "Requirement already satisfied: torch in /usr/local/lib/python3.10/dist-packages (from torchviz) (2.4.1+cu121)\r\n",
      "Requirement already satisfied: graphviz in /usr/local/lib/python3.10/dist-packages (from torchviz) (0.20.3)\r\n",
      "Requirement already satisfied: filelock in /usr/local/lib/python3.10/dist-packages (from torch->torchviz) (3.16.1)\r\n",
      "Requirement already satisfied: typing-extensions>=4.8.0 in /usr/local/lib/python3.10/dist-packages (from torch->torchviz) (4.12.2)\r\n",
      "Requirement already satisfied: sympy in /usr/local/lib/python3.10/dist-packages (from torch->torchviz) (1.13.3)\r\n",
      "Requirement already satisfied: networkx in /usr/local/lib/python3.10/dist-packages (from torch->torchviz) (3.3)\r\n",
      "Requirement already satisfied: jinja2 in /usr/local/lib/python3.10/dist-packages (from torch->torchviz) (3.1.4)\r\n",
      "Requirement already satisfied: fsspec in /usr/local/lib/python3.10/dist-packages (from torch->torchviz) (2024.6.1)\r\n",
      "Requirement already satisfied: MarkupSafe>=2.0 in /usr/local/lib/python3.10/dist-packages (from jinja2->torch->torchviz) (2.1.5)\r\n",
      "Requirement already satisfied: mpmath<1.4,>=1.1.0 in /usr/local/lib/python3.10/dist-packages (from sympy->torch->torchviz) (1.3.0)\r\n",
      "Downloading torchviz-0.0.3-py3-none-any.whl (5.7 kB)\r\n",
      "Installing collected packages: torchviz\r\n",
      "Successfully installed torchviz-0.0.3\r\n"
     ]
    }
   ],
   "source": [
    "!pip install torchviz"
   ]
  },
  {
   "cell_type": "code",
   "execution_count": 17,
   "id": "67102ca7",
   "metadata": {
    "execution": {
     "iopub.execute_input": "2025-01-28T09:03:11.804884Z",
     "iopub.status.busy": "2025-01-28T09:03:11.804634Z",
     "iopub.status.idle": "2025-01-28T09:03:16.555402Z",
     "shell.execute_reply": "2025-01-28T09:03:16.554434Z"
    },
    "papermill": {
     "duration": 4.762855,
     "end_time": "2025-01-28T09:03:16.556958",
     "exception": false,
     "start_time": "2025-01-28T09:03:11.794103",
     "status": "completed"
    },
    "tags": []
   },
   "outputs": [],
   "source": [
    "import torch\n",
    "from torch.utils.data import Dataset, DataLoader\n",
    "import torchvision\n",
    "import torch.nn as nn \n",
    "from torch.utils.data import random_split\n",
    "import math\n",
    "from torchviz import make_dot\n",
    "from IPython.display import Image"
   ]
  },
  {
   "cell_type": "code",
   "execution_count": 18,
   "id": "9a288d7c",
   "metadata": {
    "execution": {
     "iopub.execute_input": "2025-01-28T09:03:16.578476Z",
     "iopub.status.busy": "2025-01-28T09:03:16.578086Z",
     "iopub.status.idle": "2025-01-28T09:03:16.586995Z",
     "shell.execute_reply": "2025-01-28T09:03:16.586418Z"
    },
    "papermill": {
     "duration": 0.020698,
     "end_time": "2025-01-28T09:03:16.588284",
     "exception": false,
     "start_time": "2025-01-28T09:03:16.567586",
     "status": "completed"
    },
    "tags": []
   },
   "outputs": [],
   "source": [
    "torch.manual_seed(42); # seed rng for reproducibility"
   ]
  },
  {
   "cell_type": "code",
   "execution_count": 19,
   "id": "26d62ad4",
   "metadata": {
    "execution": {
     "iopub.execute_input": "2025-01-28T09:03:16.608753Z",
     "iopub.status.busy": "2025-01-28T09:03:16.608548Z",
     "iopub.status.idle": "2025-01-28T09:03:16.613400Z",
     "shell.execute_reply": "2025-01-28T09:03:16.612782Z"
    },
    "papermill": {
     "duration": 0.016283,
     "end_time": "2025-01-28T09:03:16.614583",
     "exception": false,
     "start_time": "2025-01-28T09:03:16.598300",
     "status": "completed"
    },
    "tags": []
   },
   "outputs": [],
   "source": [
    "class CSVDataset(Dataset):\n",
    "    def __init__(self, csv_path, features_col_list, target_col_list, transform=None, dropNa=False):\n",
    "        # data loading\n",
    "        self.features_col_list = features_col_list\n",
    "        self.target_col_list = target_col_list\n",
    "        self.data = pd.read_csv(csv_path, index_col=0)\n",
    "        self.transform = transform\n",
    "\n",
    "        if (dropNa):\n",
    "            self.data.fillna(0, inplace=True)\n",
    "\n",
    "    def __getitem__(self, index):\n",
    "        x = self.data.iloc[index][self.features_col_list]  # Features}\n",
    "        y = self.data.iloc[index][self.target_col_list]  # Target\n",
    "\n",
    "        # Apply transformations if specified\n",
    "        if self.transform:\n",
    "            x, y = self.transform((x,y))\n",
    "\n",
    "        return torch.tensor(x, dtype=torch.float32), torch.tensor(y, dtype=torch.float32)\n",
    "\n",
    "    def __len__(self):\n",
    "        # allow us to use len(dataset)\n",
    "        return len(self.data)"
   ]
  },
  {
   "cell_type": "code",
   "execution_count": 20,
   "id": "8a094126",
   "metadata": {
    "execution": {
     "iopub.execute_input": "2025-01-28T09:03:16.634938Z",
     "iopub.status.busy": "2025-01-28T09:03:16.634736Z",
     "iopub.status.idle": "2025-01-28T09:03:16.638683Z",
     "shell.execute_reply": "2025-01-28T09:03:16.638108Z"
    },
    "papermill": {
     "duration": 0.015293,
     "end_time": "2025-01-28T09:03:16.639834",
     "exception": false,
     "start_time": "2025-01-28T09:03:16.624541",
     "status": "completed"
    },
    "tags": []
   },
   "outputs": [],
   "source": [
    "class SexToNum():\n",
    "    def __call__(self, sample):\n",
    "        inputs, targets = sample\n",
    "\n",
    "        if (inputs[\"Sex\"] == \"male\"):\n",
    "            inputs[\"Sex\"] = 0\n",
    "        else:\n",
    "            inputs[\"Sex\"] = 1\n",
    "\n",
    "        return (inputs, targets)\n",
    "\n",
    "class ConvertNumpyArrToFloat32():\n",
    "    def __call__(self, sample):\n",
    "        inputs, targets = sample\n",
    "        inputs = (inputs.values).astype(np.float32)\n",
    "        targets = (targets.values).astype(np.float32)\n",
    "        return (inputs, targets)"
   ]
  },
  {
   "cell_type": "code",
   "execution_count": 21,
   "id": "95965ea0",
   "metadata": {
    "execution": {
     "iopub.execute_input": "2025-01-28T09:03:16.660245Z",
     "iopub.status.busy": "2025-01-28T09:03:16.659985Z",
     "iopub.status.idle": "2025-01-28T09:03:16.759048Z",
     "shell.execute_reply": "2025-01-28T09:03:16.758365Z"
    },
    "papermill": {
     "duration": 0.110567,
     "end_time": "2025-01-28T09:03:16.760344",
     "exception": false,
     "start_time": "2025-01-28T09:03:16.649777",
     "status": "completed"
    },
    "tags": []
   },
   "outputs": [
    {
     "data": {
      "text/plain": [
       "(tensor([ 0., 22.]), tensor([0.]))"
      ]
     },
     "execution_count": 21,
     "metadata": {},
     "output_type": "execute_result"
    }
   ],
   "source": [
    "csv_file = \"/kaggle/input/titanic/train.csv\"\n",
    "features_col_list = [\"Sex\", \"Age\"]\n",
    "target_col_list = [\"Survived\"]\n",
    "\n",
    "transforms = torchvision.transforms.Compose([SexToNum(), ConvertNumpyArrToFloat32()])\n",
    "\n",
    "dataset = CSVDataset(csv_file, features_col_list, target_col_list, transform=transforms, dropNa=True)\n",
    "dataset[0]"
   ]
  },
  {
   "cell_type": "code",
   "execution_count": 22,
   "id": "01c19453",
   "metadata": {
    "execution": {
     "iopub.execute_input": "2025-01-28T09:03:16.780941Z",
     "iopub.status.busy": "2025-01-28T09:03:16.780713Z",
     "iopub.status.idle": "2025-01-28T09:03:16.784722Z",
     "shell.execute_reply": "2025-01-28T09:03:16.784098Z"
    },
    "papermill": {
     "duration": 0.015482,
     "end_time": "2025-01-28T09:03:16.785794",
     "exception": false,
     "start_time": "2025-01-28T09:03:16.770312",
     "status": "completed"
    },
    "tags": []
   },
   "outputs": [
    {
     "data": {
      "text/plain": [
       "891"
      ]
     },
     "execution_count": 22,
     "metadata": {},
     "output_type": "execute_result"
    }
   ],
   "source": [
    "len(dataset)"
   ]
  },
  {
   "cell_type": "code",
   "execution_count": 23,
   "id": "a6f4f8f8",
   "metadata": {
    "execution": {
     "iopub.execute_input": "2025-01-28T09:03:16.806357Z",
     "iopub.status.busy": "2025-01-28T09:03:16.806107Z",
     "iopub.status.idle": "2025-01-28T09:03:16.815347Z",
     "shell.execute_reply": "2025-01-28T09:03:16.814555Z"
    },
    "papermill": {
     "duration": 0.020804,
     "end_time": "2025-01-28T09:03:16.816588",
     "exception": false,
     "start_time": "2025-01-28T09:03:16.795784",
     "status": "completed"
    },
    "tags": []
   },
   "outputs": [],
   "source": [
    "# Define split ratios\n",
    "train_size = int(0.8 * len(dataset))  # 80% for training\n",
    "val_size = int(0.1 * len(dataset))    # 10% for validation\n",
    "test_size = len(dataset) - train_size - val_size  # Remaining for testing\n",
    "\n",
    "# Split dataset\n",
    "train_dataset, val_dataset, test_dataset = random_split(dataset, [train_size, val_size, test_size])"
   ]
  },
  {
   "cell_type": "code",
   "execution_count": 24,
   "id": "726b6fb7",
   "metadata": {
    "execution": {
     "iopub.execute_input": "2025-01-28T09:03:16.836965Z",
     "iopub.status.busy": "2025-01-28T09:03:16.836735Z",
     "iopub.status.idle": "2025-01-28T09:03:16.840457Z",
     "shell.execute_reply": "2025-01-28T09:03:16.839661Z"
    },
    "papermill": {
     "duration": 0.015098,
     "end_time": "2025-01-28T09:03:16.841604",
     "exception": false,
     "start_time": "2025-01-28T09:03:16.826506",
     "status": "completed"
    },
    "tags": []
   },
   "outputs": [],
   "source": [
    "# Define batch size\n",
    "# since we have less data\n",
    "batch_size = 16\n",
    "\n",
    "# Create DataLoaders\n",
    "train_loader = DataLoader(train_dataset, batch_size=batch_size, shuffle=False)\n",
    "val_loader = DataLoader(val_dataset, batch_size=batch_size, shuffle=False)\n",
    "test_loader = DataLoader(test_dataset, batch_size=batch_size, shuffle=False)"
   ]
  },
  {
   "cell_type": "code",
   "execution_count": 25,
   "id": "43c317a0",
   "metadata": {
    "execution": {
     "iopub.execute_input": "2025-01-28T09:03:16.862068Z",
     "iopub.status.busy": "2025-01-28T09:03:16.861824Z",
     "iopub.status.idle": "2025-01-28T09:03:16.938427Z",
     "shell.execute_reply": "2025-01-28T09:03:16.937692Z"
    },
    "papermill": {
     "duration": 0.088278,
     "end_time": "2025-01-28T09:03:16.939717",
     "exception": false,
     "start_time": "2025-01-28T09:03:16.851439",
     "status": "completed"
    },
    "tags": []
   },
   "outputs": [
    {
     "name": "stdout",
     "output_type": "stream",
     "text": [
      "Using device: cuda\n"
     ]
    }
   ],
   "source": [
    "device = torch.device(\"cuda\" if torch.cuda.is_available() else \"cpu\")\n",
    "print(f\"Using device: {device}\")"
   ]
  },
  {
   "cell_type": "code",
   "execution_count": 26,
   "id": "ed1507d9",
   "metadata": {
    "execution": {
     "iopub.execute_input": "2025-01-28T09:03:16.960760Z",
     "iopub.status.busy": "2025-01-28T09:03:16.960545Z",
     "iopub.status.idle": "2025-01-28T09:03:16.970436Z",
     "shell.execute_reply": "2025-01-28T09:03:16.969837Z"
    },
    "papermill": {
     "duration": 0.021667,
     "end_time": "2025-01-28T09:03:16.971613",
     "exception": false,
     "start_time": "2025-01-28T09:03:16.949946",
     "status": "completed"
    },
    "tags": []
   },
   "outputs": [],
   "source": [
    "# not correctly init\n",
    "hidden_neuron = 128\n",
    "debug = True\n",
    "\n",
    "class LinearLayer(nn.Linear):\n",
    "    def __init__(self, *args, **kwargs):\n",
    "        # Call the parent constructor to initialize the Linear layer\n",
    "        super().__init__(*args, **kwargs)\n",
    "        \n",
    "    def forward(self, x):\n",
    "        self.output = super().forward(x)\n",
    "        return self.output\n",
    "\n",
    "class ReLuLayer(nn.ReLU):\n",
    "    def __init__(self, *args, **kwargs):\n",
    "        # Call the parent constructor to initialize the Linear layer\n",
    "        super().__init__(*args, **kwargs)\n",
    "        \n",
    "    def forward(self, x):\n",
    "        self.output = super().forward(x)\n",
    "        return self.output\n",
    "\n",
    "class TitanicSurvivalPredictor(nn.Module):\n",
    "    def __init__(self, hidden_neuron):\n",
    "        super().__init__()\n",
    "\n",
    "        # define layers\n",
    "        self.layers = nn.ModuleList([\n",
    "            LinearLayer(2, hidden_neuron),\n",
    "            ReLuLayer(),\n",
    "            LinearLayer(hidden_neuron, hidden_neuron),\n",
    "            ReLuLayer(),\n",
    "            LinearLayer(hidden_neuron, 1),\n",
    "        ])\n",
    "        \n",
    "    def forward(self, x):\n",
    "        for layer in self.layers:\n",
    "            x = layer(x)\n",
    "        return x\n",
    "\n",
    "    def parameters(self):\n",
    "        return [p for layer in self.layers for p in layer.parameters()]\n",
    "\n",
    "model = TitanicSurvivalPredictor(hidden_neuron)"
   ]
  },
  {
   "cell_type": "code",
   "execution_count": 27,
   "id": "61b3cc5a",
   "metadata": {
    "execution": {
     "iopub.execute_input": "2025-01-28T09:03:16.993176Z",
     "iopub.status.busy": "2025-01-28T09:03:16.992912Z",
     "iopub.status.idle": "2025-01-28T09:03:17.016872Z",
     "shell.execute_reply": "2025-01-28T09:03:17.016089Z"
    },
    "papermill": {
     "duration": 0.035719,
     "end_time": "2025-01-28T09:03:17.018107",
     "exception": false,
     "start_time": "2025-01-28T09:03:16.982388",
     "status": "completed"
    },
    "tags": []
   },
   "outputs": [],
   "source": [
    "bce_loss = nn.BCEWithLogitsLoss()\n",
    "\n",
    "first_batch_input = None\n",
    "first_batch_label = None\n",
    "for inputs, labels in train_loader:\n",
    "    first_batch_input = inputs\n",
    "    first_batch_label = labels\n",
    "    break"
   ]
  },
  {
   "cell_type": "code",
   "execution_count": 28,
   "id": "6db174a5",
   "metadata": {
    "execution": {
     "iopub.execute_input": "2025-01-28T09:03:17.038406Z",
     "iopub.status.busy": "2025-01-28T09:03:17.038200Z",
     "iopub.status.idle": "2025-01-28T09:03:17.079917Z",
     "shell.execute_reply": "2025-01-28T09:03:17.079259Z"
    },
    "papermill": {
     "duration": 0.053187,
     "end_time": "2025-01-28T09:03:17.081130",
     "exception": false,
     "start_time": "2025-01-28T09:03:17.027943",
     "status": "completed"
    },
    "tags": []
   },
   "outputs": [
    {
     "name": "stdout",
     "output_type": "stream",
     "text": [
      "init loss: 0.680353581905365\n"
     ]
    }
   ],
   "source": [
    "first_batch_pred_logits = model(first_batch_input)\n",
    "first_batch_pred_prob = torch.sigmoid(first_batch_pred_logits)  # Apply sigmoid for binary classification\n",
    "loss = bce_loss(first_batch_pred_prob, first_batch_label)\n",
    "print(f\"init loss: {loss.item()}\")"
   ]
  },
  {
   "cell_type": "code",
   "execution_count": 29,
   "id": "e1f92522",
   "metadata": {
    "execution": {
     "iopub.execute_input": "2025-01-28T09:03:17.103570Z",
     "iopub.status.busy": "2025-01-28T09:03:17.103340Z",
     "iopub.status.idle": "2025-01-28T09:03:17.109305Z",
     "shell.execute_reply": "2025-01-28T09:03:17.108496Z"
    },
    "papermill": {
     "duration": 0.017513,
     "end_time": "2025-01-28T09:03:17.110471",
     "exception": false,
     "start_time": "2025-01-28T09:03:17.092958",
     "status": "completed"
    },
    "tags": []
   },
   "outputs": [],
   "source": [
    "def initParam(model):\n",
    "    # Initialize weights using Xavier Normal\n",
    "    for i, layer in enumerate(model.layers):\n",
    "        if (isinstance(layer, LinearLayer)):\n",
    "            if (i<len(model.layers)-1):\n",
    "                nn.init.xavier_normal_(model.layers[i].weight, torch.nn.init.calculate_gain(\"relu\")) \n",
    "            else:\n",
    "                nn.init.xavier_normal_(model.layers[i].weight, torch.nn.init.calculate_gain(\"sigmoid\")) * 0.001\n",
    "            if layer.bias is not None:\n",
    "                nn.init.zeros_(model.layers[i].bias)\n",
    "\n",
    "initParam(model)"
   ]
  },
  {
   "cell_type": "code",
   "execution_count": 30,
   "id": "ab1a6980",
   "metadata": {
    "execution": {
     "iopub.execute_input": "2025-01-28T09:03:17.130832Z",
     "iopub.status.busy": "2025-01-28T09:03:17.130600Z",
     "iopub.status.idle": "2025-01-28T09:03:17.137480Z",
     "shell.execute_reply": "2025-01-28T09:03:17.136665Z"
    },
    "papermill": {
     "duration": 0.018419,
     "end_time": "2025-01-28T09:03:17.138719",
     "exception": false,
     "start_time": "2025-01-28T09:03:17.120300",
     "status": "completed"
    },
    "tags": []
   },
   "outputs": [
    {
     "name": "stdout",
     "output_type": "stream",
     "text": [
      "init loss: 0.6814731359481812\n"
     ]
    }
   ],
   "source": [
    "first_batch_pred_logits = model(first_batch_input)\n",
    "first_batch_pred_prob = torch.sigmoid(first_batch_pred_logits)  # Apply sigmoid for binary classification\n",
    "loss = bce_loss(first_batch_pred_prob, first_batch_label)\n",
    "print(f\"init loss: {loss.item()}\")"
   ]
  },
  {
   "cell_type": "code",
   "execution_count": 31,
   "id": "3b98d6d1",
   "metadata": {
    "execution": {
     "iopub.execute_input": "2025-01-28T09:03:17.159767Z",
     "iopub.status.busy": "2025-01-28T09:03:17.159565Z",
     "iopub.status.idle": "2025-01-28T09:04:46.788235Z",
     "shell.execute_reply": "2025-01-28T09:04:46.787431Z"
    },
    "papermill": {
     "duration": 89.640397,
     "end_time": "2025-01-28T09:04:46.789547",
     "exception": false,
     "start_time": "2025-01-28T09:03:17.149150",
     "status": "completed"
    },
    "tags": []
   },
   "outputs": [
    {
     "name": "stdout",
     "output_type": "stream",
     "text": [
      "Epoch 100/1000, Train Loss: -0.0076, Val Loss: -0.1760\n",
      "Epoch 200/1000, Train Loss: -0.0084, Val Loss: -0.1010\n",
      "Epoch 300/1000, Train Loss: -0.0093, Val Loss: -0.0415\n",
      "Epoch 400/1000, Train Loss: -0.0105, Val Loss: -0.0089\n",
      "Epoch 500/1000, Train Loss: -0.0118, Val Loss: 0.0483\n",
      "Epoch 600/1000, Train Loss: -0.0123, Val Loss: 0.0756\n",
      "Epoch 700/1000, Train Loss: -0.0125, Val Loss: 0.1013\n",
      "Epoch 800/1000, Train Loss: -0.0125, Val Loss: 0.1135\n",
      "Epoch 900/1000, Train Loss: -0.0125, Val Loss: 0.1232\n",
      "Epoch 1000/1000, Train Loss: -0.0125, Val Loss: 0.1399\n"
     ]
    }
   ],
   "source": [
    "# less lr rate since can overfit easily\n",
    "learning_rate = 1e-3\n",
    "# less epoch as can easily overfit\n",
    "num_epoch = 1000\n",
    "\n",
    "lossi_train = []\n",
    "lossi_val = []\n",
    "\n",
    "total_samples = len(train_dataset)\n",
    "n_iter = math.ceil(total_samples / batch_size)\n",
    "\n",
    "optimizer = torch.optim.AdamW(model.parameters(), lr=learning_rate)\n",
    "bce_loss = nn.BCEWithLogitsLoss()\n",
    "output_grads = []\n",
    "\n",
    "model = model.to(device)\n",
    "\n",
    "runFirstBatch = False\n",
    "for epoch in range(num_epoch):\n",
    "    train_loss = 0    \n",
    "    for i, (inputs, labels) in enumerate(train_loader):        \n",
    "        # forward pass\n",
    "        # print(f\"inputs: {inputs}\")\n",
    "        # print(f\"labels: {labels}\")\n",
    "        inputs = inputs.to(device)\n",
    "        labels = labels.to(device)\n",
    "\n",
    "        # print(f\"inputs device: {inputs.device}, labels device: {labels.device}, model device: {[param.device for param in model.parameters()]}\")\n",
    "\n",
    "        # reset grad\n",
    "        optimizer.zero_grad()\n",
    "        \n",
    "        pred = model(inputs)\n",
    "        # print(f\"pred: {pred}\")\n",
    "\n",
    "        # calc loss\n",
    "        loss = bce_loss(pred, labels)\n",
    "\n",
    "        if (debug):\n",
    "            for layer in model.layers:\n",
    "                layer.output.retain_grad() # save gradients of non leaf tensors also\n",
    "        \n",
    "        # backward pass\n",
    "        loss.backward()\n",
    "        optimizer.step()\n",
    "\n",
    "        loss = loss.log10()\n",
    "        train_loss += loss.item()\n",
    "\n",
    "        if (debug):\n",
    "             break\n",
    "\n",
    "    # copied it to array since running with no grad will set grad to None\n",
    "    if (debug):\n",
    "        curr_grads = {}\n",
    "        for i, layer in enumerate(model.layers):\n",
    "            curr_grads[f\"{layer.__class__.__name__}: {i}\"] = layer.output.grad.clone()\n",
    "\n",
    "        output_grads.append(curr_grads)\n",
    "    \n",
    "    train_loss /= len(train_loader)\n",
    "    lossi_train.append(train_loss)\n",
    "\n",
    "    # validation phase\n",
    "    model.eval()\n",
    "    with torch.no_grad():  # Disable gradient computation for validation\n",
    "        val_loss = 0\n",
    "        \n",
    "        for inputs, labels in val_loader:\n",
    "            inputs = inputs.to(device)\n",
    "            labels = labels.to(device)\n",
    "            \n",
    "            pred = model(inputs)\n",
    "            \n",
    "            loss = bce_loss(pred, labels)\n",
    "            loss = loss.log10()\n",
    "            val_loss += loss.item()\n",
    "        \n",
    "        val_loss /= len(val_loader)\n",
    "        lossi_val.append(val_loss)\n",
    "        \n",
    "\n",
    "    # reset to train mode\n",
    "    model.train()\n",
    "\n",
    "    if ((epoch+1)%100==0):\n",
    "        print(f\"Epoch {epoch+1}/{num_epoch}, Train Loss: {train_loss:.4f}, Val Loss: {val_loss:.4f}\")\n",
    "\n",
    "    # if (debug):\n",
    "        # break"
   ]
  },
  {
   "cell_type": "code",
   "execution_count": 32,
   "id": "ec06d307",
   "metadata": {
    "execution": {
     "iopub.execute_input": "2025-01-28T09:04:46.811851Z",
     "iopub.status.busy": "2025-01-28T09:04:46.811639Z",
     "iopub.status.idle": "2025-01-28T09:04:47.025859Z",
     "shell.execute_reply": "2025-01-28T09:04:47.025123Z"
    },
    "papermill": {
     "duration": 0.226674,
     "end_time": "2025-01-28T09:04:47.027222",
     "exception": false,
     "start_time": "2025-01-28T09:04:46.800548",
     "status": "completed"
    },
    "tags": []
   },
   "outputs": [
    {
     "data": {
      "text/plain": [
       "[<matplotlib.lines.Line2D at 0x7924acd30be0>]"
      ]
     },
     "execution_count": 32,
     "metadata": {},
     "output_type": "execute_result"
    },
    {
     "data": {
      "image/png": "[encoded data removed]",
      "text/plain": [
       "<Figure size 640x480 with 1 Axes>"
      ]
     },
     "metadata": {},
     "output_type": "display_data"
    }
   ],
   "source": [
    "plt.plot(lossi_train, color=\"blue\")\n",
    "plt.plot(lossi_val, color=\"red\")"
   ]
  },
  {
   "cell_type": "code",
   "execution_count": 33,
   "id": "1a7032c7",
   "metadata": {
    "execution": {
     "iopub.execute_input": "2025-01-28T09:04:47.050563Z",
     "iopub.status.busy": "2025-01-28T09:04:47.050307Z",
     "iopub.status.idle": "2025-01-28T09:04:47.403337Z",
     "shell.execute_reply": "2025-01-28T09:04:47.402410Z"
    },
    "papermill": {
     "duration": 0.366143,
     "end_time": "2025-01-28T09:04:47.404704",
     "exception": false,
     "start_time": "2025-01-28T09:04:47.038561",
     "status": "completed"
    },
    "tags": []
   },
   "outputs": [
    {
     "name": "stdout",
     "output_type": "stream",
     "text": [
      "layer 0 (LinearLayer): mean +0.20, std 3.88, saturated: 53.99%\n",
      "layer 1 ( ReLuLayer): mean +1.31, std 2.51, saturated: 27.78%\n",
      "layer 2 (LinearLayer): mean -0.17, std 4.92, saturated: 60.33%\n",
      "layer 3 ( ReLuLayer): mean +1.46, std 2.60, saturated: 34.98%\n",
      "layer 4 (LinearLayer): mean +0.72, std 5.77, saturated: 66.67%\n"
     ]
    },
    {
     "data": {
      "image/png": "[encoded data removed]",
      "text/plain": [
       "<Figure size 2000x400 with 1 Axes>"
      ]
     },
     "metadata": {},
     "output_type": "display_data"
    }
   ],
   "source": [
    "# visualize activations\n",
    "plt.figure(figsize=(20, 4))\n",
    "legends = []\n",
    "\n",
    "if (len(model.layers) > 1):\n",
    "    for i, layer in enumerate(model.layers): # exclude output layer\n",
    "        t = layer.output.cpu()\n",
    "        print('layer %d (%10s): mean %+.2f, std %.2f, saturated: %.2f%%' % (i, layer.__class__.__name__, t.mean(), t.std(), (t.abs() > 0.97).float().mean()*100))\n",
    "        hy, hx = torch.histogram(t, density=True)\n",
    "        plt.plot(hx[:-1].detach(), hy.detach())\n",
    "        legends.append(f'layer {i} ({layer.__class__.__name__})')\n",
    "    \n",
    "    plt.legend(legends)\n",
    "    plt.title(\"activation distribution\")"
   ]
  },
  {
   "cell_type": "code",
   "execution_count": 34,
   "id": "0b28155f",
   "metadata": {
    "execution": {
     "iopub.execute_input": "2025-01-28T09:04:47.429932Z",
     "iopub.status.busy": "2025-01-28T09:04:47.429679Z",
     "iopub.status.idle": "2025-01-28T09:04:47.767007Z",
     "shell.execute_reply": "2025-01-28T09:04:47.766220Z"
    },
    "papermill": {
     "duration": 0.351092,
     "end_time": "2025-01-28T09:04:47.768449",
     "exception": false,
     "start_time": "2025-01-28T09:04:47.417357",
     "status": "completed"
    },
    "tags": []
   },
   "outputs": [
    {
     "name": "stdout",
     "output_type": "stream",
     "text": [
      "layer (LinearLayer: 0): mean -0.000057, std 1.790273e-02\n",
      "layer (ReLuLayer: 1): mean -0.000207, std 2.858927e-02\n",
      "layer (LinearLayer: 2): mean -0.000024, std 4.598381e-03\n",
      "layer (ReLuLayer: 3): mean +0.000011, std 5.965346e-03\n",
      "layer (LinearLayer: 4): mean -0.000400, std 1.973112e-02\n"
     ]
    },
    {
     "data": {
      "image/png": "[encoded data removed]",
      "text/plain": [
       "<Figure size 2000x400 with 1 Axes>"
      ]
     },
     "metadata": {},
     "output_type": "display_data"
    }
   ],
   "source": [
    "# visualize histograms\n",
    "plt.figure(figsize=(20, 4)) # width and height of the plot\n",
    "legends = []\n",
    "\n",
    "if (len(model.layers) > 1):\n",
    "    for layer_name, layer_grad in output_grads[-1].items(): # note: exclude the output layer\n",
    "        t = layer_grad.cpu()\n",
    "        print('layer (%10s): mean %+f, std %e' % (layer_name, t.mean(), t.std()))\n",
    "        hy, hx = torch.histogram(t, density=True)\n",
    "        plt.plot(hx[:-1].detach(), hy.detach())\n",
    "        legends.append(f'{layer_name}')\n",
    "\n",
    "    plt.legend(legends);\n",
    "    plt.title('gradient distribution')"
   ]
  },
  {
   "cell_type": "code",
   "execution_count": 35,
   "id": "e439d0d3",
   "metadata": {
    "execution": {
     "iopub.execute_input": "2025-01-28T09:04:47.795576Z",
     "iopub.status.busy": "2025-01-28T09:04:47.795314Z",
     "iopub.status.idle": "2025-01-28T09:04:47.926347Z",
     "shell.execute_reply": "2025-01-28T09:04:47.925572Z"
    },
    "papermill": {
     "duration": 0.146094,
     "end_time": "2025-01-28T09:04:47.927628",
     "exception": false,
     "start_time": "2025-01-28T09:04:47.781534",
     "status": "completed"
    },
    "tags": []
   },
   "outputs": [
    {
     "name": "stdout",
     "output_type": "stream",
     "text": [
      "Test Accuracy: 65.56%\n"
     ]
    }
   ],
   "source": [
    "model.eval()  # Set model to evaluation mode\n",
    "\n",
    "# Accuracy calculation\n",
    "correct = 0\n",
    "total = 0\n",
    "\n",
    "with torch.no_grad():  # Disable gradient calculation\n",
    "    for inputs, labels in test_loader:\n",
    "        inputs = inputs.to(device)\n",
    "        labels = labels.to(device)\n",
    "        \n",
    "        outputs = model(inputs)\n",
    "        predictions = torch.sigmoid(outputs)  # Apply sigmoid for binary classification\n",
    "        predicted_classes = (predictions > 0.5).float()  # Convert to binary (0 or 1)\n",
    "        correct += (predicted_classes == labels).sum().item()\n",
    "        total += labels.size(0)\n",
    "\n",
    "accuracy = correct / total\n",
    "print(f\"Test Accuracy: {accuracy * 100:.2f}%\")"
   ]
  },
  {
   "cell_type": "code",
   "execution_count": 36,
   "id": "2e67876f",
   "metadata": {
    "execution": {
     "iopub.execute_input": "2025-01-28T09:04:47.954146Z",
     "iopub.status.busy": "2025-01-28T09:04:47.953853Z",
     "iopub.status.idle": "2025-01-28T09:04:48.566918Z",
     "shell.execute_reply": "2025-01-28T09:04:48.566121Z"
    },
    "papermill": {
     "duration": 0.627718,
     "end_time": "2025-01-28T09:04:48.568306",
     "exception": false,
     "start_time": "2025-01-28T09:04:47.940588",
     "status": "completed"
    },
    "tags": []
   },
   "outputs": [
    {
     "name": "stdout",
     "output_type": "stream",
     "text": [
      "Train Accuracy: 68.26%\n"
     ]
    }
   ],
   "source": [
    "model.eval()  # Set model to evaluation mode\n",
    "\n",
    "# Accuracy calculation\n",
    "correct = 0\n",
    "total = 0\n",
    "\n",
    "with torch.no_grad():  # Disable gradient calculation\n",
    "    for inputs, labels in train_loader:\n",
    "        inputs = inputs.to(device)\n",
    "        labels = labels.to(device)\n",
    "        \n",
    "        outputs = model(inputs)\n",
    "        predictions = torch.sigmoid(outputs)  # Apply sigmoid for binary classification\n",
    "        predicted_classes = (predictions > 0.5).float()  # Convert to binary (0 or 1)\n",
    "        correct += (predicted_classes == labels).sum().item()\n",
    "        total += labels.size(0)\n",
    "\n",
    "accuracy = correct / total\n",
    "print(f\"Train Accuracy: {accuracy * 100:.2f}%\")"
   ]
  },
  {
   "cell_type": "markdown",
   "id": "5ece939e",
   "metadata": {
    "papermill": {
     "duration": 0.012715,
     "end_time": "2025-01-28T09:04:48.594088",
     "exception": false,
     "start_time": "2025-01-28T09:04:48.581373",
     "status": "completed"
    },
    "tags": []
   },
   "source": [
    "## Test"
   ]
  },
  {
   "cell_type": "code",
   "execution_count": 37,
   "id": "f74df3ca",
   "metadata": {
    "execution": {
     "iopub.execute_input": "2025-01-28T09:04:48.619894Z",
     "iopub.status.busy": "2025-01-28T09:04:48.619671Z",
     "iopub.status.idle": "2025-01-28T09:04:48.637448Z",
     "shell.execute_reply": "2025-01-28T09:04:48.636595Z"
    },
    "papermill": {
     "duration": 0.03209,
     "end_time": "2025-01-28T09:04:48.638584",
     "exception": false,
     "start_time": "2025-01-28T09:04:48.606494",
     "status": "completed"
    },
    "tags": []
   },
   "outputs": [
    {
     "data": {
      "text/html": [
       "<div>\n",
       "<style scoped>\n",
       "    .dataframe tbody tr th:only-of-type {\n",
       "        vertical-align: middle;\n",
       "    }\n",
       "\n",
       "    .dataframe tbody tr th {\n",
       "        vertical-align: top;\n",
       "    }\n",
       "\n",
       "    .dataframe thead th {\n",
       "        text-align: right;\n",
       "    }\n",
       "</style>\n",
       "<table border=\"1\" class=\"dataframe\">\n",
       "  <thead>\n",
       "    <tr style=\"text-align: right;\">\n",
       "      <th></th>\n",
       "      <th>PassengerId</th>\n",
       "      <th>Pclass</th>\n",
       "      <th>Name</th>\n",
       "      <th>Sex</th>\n",
       "      <th>Age</th>\n",
       "      <th>SibSp</th>\n",
       "      <th>Parch</th>\n",
       "      <th>Ticket</th>\n",
       "      <th>Fare</th>\n",
       "      <th>Cabin</th>\n",
       "      <th>Embarked</th>\n",
       "    </tr>\n",
       "  </thead>\n",
       "  <tbody>\n",
       "    <tr>\n",
       "      <th>0</th>\n",
       "      <td>892</td>\n",
       "      <td>3</td>\n",
       "      <td>Kelly, Mr. James</td>\n",
       "      <td>male</td>\n",
       "      <td>34.5</td>\n",
       "      <td>0</td>\n",
       "      <td>0</td>\n",
       "      <td>330911</td>\n",
       "      <td>7.8292</td>\n",
       "      <td>NaN</td>\n",
       "      <td>Q</td>\n",
       "    </tr>\n",
       "    <tr>\n",
       "      <th>1</th>\n",
       "      <td>893</td>\n",
       "      <td>3</td>\n",
       "      <td>Wilkes, Mrs. James (Ellen Needs)</td>\n",
       "      <td>female</td>\n",
       "      <td>47.0</td>\n",
       "      <td>1</td>\n",
       "      <td>0</td>\n",
       "      <td>363272</td>\n",
       "      <td>7.0000</td>\n",
       "      <td>NaN</td>\n",
       "      <td>S</td>\n",
       "    </tr>\n",
       "    <tr>\n",
       "      <th>2</th>\n",
       "      <td>894</td>\n",
       "      <td>2</td>\n",
       "      <td>Myles, Mr. Thomas Francis</td>\n",
       "      <td>male</td>\n",
       "      <td>62.0</td>\n",
       "      <td>0</td>\n",
       "      <td>0</td>\n",
       "      <td>240276</td>\n",
       "      <td>9.6875</td>\n",
       "      <td>NaN</td>\n",
       "      <td>Q</td>\n",
       "    </tr>\n",
       "    <tr>\n",
       "      <th>3</th>\n",
       "      <td>895</td>\n",
       "      <td>3</td>\n",
       "      <td>Wirz, Mr. Albert</td>\n",
       "      <td>male</td>\n",
       "      <td>27.0</td>\n",
       "      <td>0</td>\n",
       "      <td>0</td>\n",
       "      <td>315154</td>\n",
       "      <td>8.6625</td>\n",
       "      <td>NaN</td>\n",
       "      <td>S</td>\n",
       "    </tr>\n",
       "    <tr>\n",
       "      <th>4</th>\n",
       "      <td>896</td>\n",
       "      <td>3</td>\n",
       "      <td>Hirvonen, Mrs. Alexander (Helga E Lindqvist)</td>\n",
       "      <td>female</td>\n",
       "      <td>22.0</td>\n",
       "      <td>1</td>\n",
       "      <td>1</td>\n",
       "      <td>3101298</td>\n",
       "      <td>12.2875</td>\n",
       "      <td>NaN</td>\n",
       "      <td>S</td>\n",
       "    </tr>\n",
       "    <tr>\n",
       "      <th>5</th>\n",
       "      <td>897</td>\n",
       "      <td>3</td>\n",
       "      <td>Svensson, Mr. Johan Cervin</td>\n",
       "      <td>male</td>\n",
       "      <td>14.0</td>\n",
       "      <td>0</td>\n",
       "      <td>0</td>\n",
       "      <td>7538</td>\n",
       "      <td>9.2250</td>\n",
       "      <td>NaN</td>\n",
       "      <td>S</td>\n",
       "    </tr>\n",
       "    <tr>\n",
       "      <th>6</th>\n",
       "      <td>898</td>\n",
       "      <td>3</td>\n",
       "      <td>Connolly, Miss. Kate</td>\n",
       "      <td>female</td>\n",
       "      <td>30.0</td>\n",
       "      <td>0</td>\n",
       "      <td>0</td>\n",
       "      <td>330972</td>\n",
       "      <td>7.6292</td>\n",
       "      <td>NaN</td>\n",
       "      <td>Q</td>\n",
       "    </tr>\n",
       "    <tr>\n",
       "      <th>7</th>\n",
       "      <td>899</td>\n",
       "      <td>2</td>\n",
       "      <td>Caldwell, Mr. Albert Francis</td>\n",
       "      <td>male</td>\n",
       "      <td>26.0</td>\n",
       "      <td>1</td>\n",
       "      <td>1</td>\n",
       "      <td>248738</td>\n",
       "      <td>29.0000</td>\n",
       "      <td>NaN</td>\n",
       "      <td>S</td>\n",
       "    </tr>\n",
       "    <tr>\n",
       "      <th>8</th>\n",
       "      <td>900</td>\n",
       "      <td>3</td>\n",
       "      <td>Abrahim, Mrs. Joseph (Sophie Halaut Easu)</td>\n",
       "      <td>female</td>\n",
       "      <td>18.0</td>\n",
       "      <td>0</td>\n",
       "      <td>0</td>\n",
       "      <td>2657</td>\n",
       "      <td>7.2292</td>\n",
       "      <td>NaN</td>\n",
       "      <td>C</td>\n",
       "    </tr>\n",
       "    <tr>\n",
       "      <th>9</th>\n",
       "      <td>901</td>\n",
       "      <td>3</td>\n",
       "      <td>Davies, Mr. John Samuel</td>\n",
       "      <td>male</td>\n",
       "      <td>21.0</td>\n",
       "      <td>2</td>\n",
       "      <td>0</td>\n",
       "      <td>A/4 48871</td>\n",
       "      <td>24.1500</td>\n",
       "      <td>NaN</td>\n",
       "      <td>S</td>\n",
       "    </tr>\n",
       "  </tbody>\n",
       "</table>\n",
       "</div>"
      ],
      "text/plain": [
       "   PassengerId  Pclass                                          Name     Sex  \\\n",
       "0          892       3                              Kelly, Mr. James    male   \n",
       "1          893       3              Wilkes, Mrs. James (Ellen Needs)  female   \n",
       "2          894       2                     Myles, Mr. Thomas Francis    male   \n",
       "3          895       3                              Wirz, Mr. Albert    male   \n",
       "4          896       3  Hirvonen, Mrs. Alexander (Helga E Lindqvist)  female   \n",
       "5          897       3                    Svensson, Mr. Johan Cervin    male   \n",
       "6          898       3                          Connolly, Miss. Kate  female   \n",
       "7          899       2                  Caldwell, Mr. Albert Francis    male   \n",
       "8          900       3     Abrahim, Mrs. Joseph (Sophie Halaut Easu)  female   \n",
       "9          901       3                       Davies, Mr. John Samuel    male   \n",
       "\n",
       "    Age  SibSp  Parch     Ticket     Fare Cabin Embarked  \n",
       "0  34.5      0      0     330911   7.8292   NaN        Q  \n",
       "1  47.0      1      0     363272   7.0000   NaN        S  \n",
       "2  62.0      0      0     240276   9.6875   NaN        Q  \n",
       "3  27.0      0      0     315154   8.6625   NaN        S  \n",
       "4  22.0      1      1    3101298  12.2875   NaN        S  \n",
       "5  14.0      0      0       7538   9.2250   NaN        S  \n",
       "6  30.0      0      0     330972   7.6292   NaN        Q  \n",
       "7  26.0      1      1     248738  29.0000   NaN        S  \n",
       "8  18.0      0      0       2657   7.2292   NaN        C  \n",
       "9  21.0      2      0  A/4 48871  24.1500   NaN        S  "
      ]
     },
     "execution_count": 37,
     "metadata": {},
     "output_type": "execute_result"
    }
   ],
   "source": [
    "test_df = pd.read_csv(\"/kaggle/input/titanic/test.csv\")\n",
    "test_df.head(10)"
   ]
  },
  {
   "cell_type": "code",
   "execution_count": 38,
   "id": "d136223f",
   "metadata": {
    "execution": {
     "iopub.execute_input": "2025-01-28T09:04:48.664558Z",
     "iopub.status.busy": "2025-01-28T09:04:48.664343Z",
     "iopub.status.idle": "2025-01-28T09:04:48.668722Z",
     "shell.execute_reply": "2025-01-28T09:04:48.667896Z"
    },
    "papermill": {
     "duration": 0.018646,
     "end_time": "2025-01-28T09:04:48.669847",
     "exception": false,
     "start_time": "2025-01-28T09:04:48.651201",
     "status": "completed"
    },
    "tags": []
   },
   "outputs": [
    {
     "data": {
      "text/plain": [
       "418"
      ]
     },
     "execution_count": 38,
     "metadata": {},
     "output_type": "execute_result"
    }
   ],
   "source": [
    "len(test_df)"
   ]
  },
  {
   "cell_type": "code",
   "execution_count": 39,
   "id": "66d4e5c6",
   "metadata": {
    "execution": {
     "iopub.execute_input": "2025-01-28T09:04:48.696317Z",
     "iopub.status.busy": "2025-01-28T09:04:48.696101Z",
     "iopub.status.idle": "2025-01-28T09:04:48.705866Z",
     "shell.execute_reply": "2025-01-28T09:04:48.705086Z"
    },
    "papermill": {
     "duration": 0.024133,
     "end_time": "2025-01-28T09:04:48.706973",
     "exception": false,
     "start_time": "2025-01-28T09:04:48.682840",
     "status": "completed"
    },
    "tags": []
   },
   "outputs": [
    {
     "data": {
      "text/plain": [
       "(tensor([ 0.0000, 34.5000]), tensor([]))"
      ]
     },
     "execution_count": 39,
     "metadata": {},
     "output_type": "execute_result"
    }
   ],
   "source": [
    "csv_file = \"/kaggle/input/titanic/test.csv\"\n",
    "target_col_list = []\n",
    "\n",
    "transforms = torchvision.transforms.Compose([SexToNum(), ConvertNumpyArrToFloat32()])\n",
    "\n",
    "final_test_dataset = CSVDataset(csv_file, features_col_list, target_col_list, transform=transforms, dropNa=True)\n",
    "final_test_dataset[0]"
   ]
  },
  {
   "cell_type": "code",
   "execution_count": 40,
   "id": "f42f0cdb",
   "metadata": {
    "execution": {
     "iopub.execute_input": "2025-01-28T09:04:48.733334Z",
     "iopub.status.busy": "2025-01-28T09:04:48.733107Z",
     "iopub.status.idle": "2025-01-28T09:04:48.737169Z",
     "shell.execute_reply": "2025-01-28T09:04:48.736372Z"
    },
    "papermill": {
     "duration": 0.018716,
     "end_time": "2025-01-28T09:04:48.738454",
     "exception": false,
     "start_time": "2025-01-28T09:04:48.719738",
     "status": "completed"
    },
    "tags": []
   },
   "outputs": [
    {
     "data": {
      "text/plain": [
       "418"
      ]
     },
     "execution_count": 40,
     "metadata": {},
     "output_type": "execute_result"
    }
   ],
   "source": [
    "len(final_test_dataset)"
   ]
  },
  {
   "cell_type": "code",
   "execution_count": 41,
   "id": "0c8e92ae",
   "metadata": {
    "execution": {
     "iopub.execute_input": "2025-01-28T09:04:48.765454Z",
     "iopub.status.busy": "2025-01-28T09:04:48.765246Z",
     "iopub.status.idle": "2025-01-28T09:04:49.254575Z",
     "shell.execute_reply": "2025-01-28T09:04:49.253865Z"
    },
    "papermill": {
     "duration": 0.504479,
     "end_time": "2025-01-28T09:04:49.255932",
     "exception": false,
     "start_time": "2025-01-28T09:04:48.751453",
     "status": "completed"
    },
    "tags": []
   },
   "outputs": [],
   "source": [
    "final_test_loader = DataLoader(final_test_dataset, shuffle=False)\n",
    "\n",
    "pred = []\n",
    "with torch.no_grad():  # Disable gradient calculation\n",
    "    for inputs, labels in final_test_loader:\n",
    "        inputs = inputs.to(device)\n",
    "    \n",
    "        outputs = model(inputs)\n",
    "        predictions = torch.sigmoid(outputs)  # Apply sigmoid for binary classification\n",
    "        predicted_classes = (predictions > 0.5).float()  # Convert to binary (0 or 1)\n",
    "\n",
    "        pred.append(int(predicted_classes.item()))"
   ]
  },
  {
   "cell_type": "code",
   "execution_count": 42,
   "id": "96cf1f05",
   "metadata": {
    "execution": {
     "iopub.execute_input": "2025-01-28T09:04:49.283588Z",
     "iopub.status.busy": "2025-01-28T09:04:49.283342Z",
     "iopub.status.idle": "2025-01-28T09:04:49.287542Z",
     "shell.execute_reply": "2025-01-28T09:04:49.286888Z"
    },
    "papermill": {
     "duration": 0.01881,
     "end_time": "2025-01-28T09:04:49.288652",
     "exception": false,
     "start_time": "2025-01-28T09:04:49.269842",
     "status": "completed"
    },
    "tags": []
   },
   "outputs": [
    {
     "data": {
      "text/plain": [
       "418"
      ]
     },
     "execution_count": 42,
     "metadata": {},
     "output_type": "execute_result"
    }
   ],
   "source": [
    "len(final_test_loader)"
   ]
  },
  {
   "cell_type": "code",
   "execution_count": 43,
   "id": "a40c7f07",
   "metadata": {
    "execution": {
     "iopub.execute_input": "2025-01-28T09:04:49.315264Z",
     "iopub.status.busy": "2025-01-28T09:04:49.315012Z",
     "iopub.status.idle": "2025-01-28T09:04:49.320968Z",
     "shell.execute_reply": "2025-01-28T09:04:49.320407Z"
    },
    "papermill": {
     "duration": 0.020552,
     "end_time": "2025-01-28T09:04:49.322088",
     "exception": false,
     "start_time": "2025-01-28T09:04:49.301536",
     "status": "completed"
    },
    "tags": []
   },
   "outputs": [],
   "source": [
    "pred_df = pd.DataFrame(pred, columns=[\"Survived\"])\n",
    "pred_df[\"PassengerId\"] = test_df[\"PassengerId\"]\n",
    "pred_df.to_csv(\"pred.csv\", index=False)"
   ]
  },
  {
   "cell_type": "code",
   "execution_count": 44,
   "id": "3305bb46",
   "metadata": {
    "execution": {
     "iopub.execute_input": "2025-01-28T09:04:49.348587Z",
     "iopub.status.busy": "2025-01-28T09:04:49.348385Z",
     "iopub.status.idle": "2025-01-28T09:04:49.354353Z",
     "shell.execute_reply": "2025-01-28T09:04:49.353564Z"
    },
    "papermill": {
     "duration": 0.020467,
     "end_time": "2025-01-28T09:04:49.355565",
     "exception": false,
     "start_time": "2025-01-28T09:04:49.335098",
     "status": "completed"
    },
    "tags": []
   },
   "outputs": [
    {
     "data": {
      "text/html": [
       "<div>\n",
       "<style scoped>\n",
       "    .dataframe tbody tr th:only-of-type {\n",
       "        vertical-align: middle;\n",
       "    }\n",
       "\n",
       "    .dataframe tbody tr th {\n",
       "        vertical-align: top;\n",
       "    }\n",
       "\n",
       "    .dataframe thead th {\n",
       "        text-align: right;\n",
       "    }\n",
       "</style>\n",
       "<table border=\"1\" class=\"dataframe\">\n",
       "  <thead>\n",
       "    <tr style=\"text-align: right;\">\n",
       "      <th></th>\n",
       "      <th>Survived</th>\n",
       "      <th>PassengerId</th>\n",
       "    </tr>\n",
       "  </thead>\n",
       "  <tbody>\n",
       "    <tr>\n",
       "      <th>0</th>\n",
       "      <td>0</td>\n",
       "      <td>892</td>\n",
       "    </tr>\n",
       "    <tr>\n",
       "      <th>1</th>\n",
       "      <td>1</td>\n",
       "      <td>893</td>\n",
       "    </tr>\n",
       "    <tr>\n",
       "      <th>2</th>\n",
       "      <td>1</td>\n",
       "      <td>894</td>\n",
       "    </tr>\n",
       "    <tr>\n",
       "      <th>3</th>\n",
       "      <td>0</td>\n",
       "      <td>895</td>\n",
       "    </tr>\n",
       "    <tr>\n",
       "      <th>4</th>\n",
       "      <td>1</td>\n",
       "      <td>896</td>\n",
       "    </tr>\n",
       "  </tbody>\n",
       "</table>\n",
       "</div>"
      ],
      "text/plain": [
       "   Survived  PassengerId\n",
       "0         0          892\n",
       "1         1          893\n",
       "2         1          894\n",
       "3         0          895\n",
       "4         1          896"
      ]
     },
     "execution_count": 44,
     "metadata": {},
     "output_type": "execute_result"
    }
   ],
   "source": [
    "pred_df.head()"
   ]
  }
 ],
 "metadata": {
  "kaggle": {
   "accelerator": "nvidiaTeslaT4",
   "dataSources": [
    {
     "databundleVersionId": 26502,
     "sourceId": 3136,
     "sourceType": "competition"
    }
   ],
   "dockerImageVersionId": 30822,
   "isGpuEnabled": true,
   "isInternetEnabled": true,
   "language": "python",
   "sourceType": "notebook"
  },
  "kernelspec": {
   "display_name": "Python 3",
   "language": "python",
   "name": "python3"
  },
  "language_info": {
   "codemirror_mode": {
    "name": "ipython",
    "version": 3
   },
   "file_extension": ".py",
   "mimetype": "text/x-python",
   "name": "python",
   "nbconvert_exporter": "python",
   "pygments_lexer": "ipython3",
   "version": "3.10.12"
  },
  "papermill": {
   "default_parameters": {},
   "duration": 109.106048,
   "end_time": "2025-01-28T09:04:50.888750",
   "environment_variables": {},
   "exception": null,
   "input_path": "__notebook__.ipynb",
   "output_path": "__notebook__.ipynb",
   "parameters": {},
   "start_time": "2025-01-28T09:03:01.782702",
   "version": "2.6.0"
  }
 },
 "nbformat": 4,
 "nbformat_minor": 5
}
