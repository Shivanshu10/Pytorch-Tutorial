{
 "cells": [
  {
   "cell_type": "code",
   "execution_count": 1,
   "id": "902d2ed1",
   "metadata": {
    "_cell_guid": "b1076dfc-b9ad-4769-8c92-a6c4dae69d19",
    "_uuid": "8f2839f25d086af736a60e9eeb907d3b93b6e0e5",
    "execution": {
     "iopub.execute_input": "2025-01-29T05:38:32.378423Z",
     "iopub.status.busy": "2025-01-29T05:38:32.378056Z",
     "iopub.status.idle": "2025-01-29T05:38:34.172990Z",
     "shell.execute_reply": "2025-01-29T05:38:34.172143Z"
    },
    "papermill": {
     "duration": 1.806519,
     "end_time": "2025-01-29T05:38:34.174297",
     "exception": false,
     "start_time": "2025-01-29T05:38:32.367778",
     "status": "completed"
    },
    "tags": []
   },
   "outputs": [
    {
     "name": "stdout",
     "output_type": "stream",
     "text": [
      "/kaggle/input/titanic/train.csv\n",
      "/kaggle/input/titanic/test.csv\n",
      "/kaggle/input/titanic/gender_submission.csv\n"
     ]
    }
   ],
   "source": [
    "import numpy as np\n",
    "import pandas as pd\n",
    "import seaborn as sns\n",
    "import matplotlib.pyplot as plt\n",
    "import os\n",
    "for dirname, _, filenames in os.walk('/kaggle/input'):\n",
    "    for filename in filenames:\n",
    "        print(os.path.join(dirname, filename))"
   ]
  },
  {
   "cell_type": "markdown",
   "id": "2c39b42b",
   "metadata": {
    "papermill": {
     "duration": 0.00757,
     "end_time": "2025-01-29T05:38:34.190245",
     "exception": false,
     "start_time": "2025-01-29T05:38:34.182675",
     "status": "completed"
    },
    "tags": []
   },
   "source": [
    "## Load Data"
   ]
  },
  {
   "cell_type": "code",
   "execution_count": 2,
   "id": "f000898a",
   "metadata": {
    "execution": {
     "iopub.execute_input": "2025-01-29T05:38:34.206552Z",
     "iopub.status.busy": "2025-01-29T05:38:34.206169Z",
     "iopub.status.idle": "2025-01-29T05:38:34.248148Z",
     "shell.execute_reply": "2025-01-29T05:38:34.247413Z"
    },
    "papermill": {
     "duration": 0.051407,
     "end_time": "2025-01-29T05:38:34.249346",
     "exception": false,
     "start_time": "2025-01-29T05:38:34.197939",
     "status": "completed"
    },
    "tags": []
   },
   "outputs": [
    {
     "data": {
      "text/html": [
       "<div>\n",
       "<style scoped>\n",
       "    .dataframe tbody tr th:only-of-type {\n",
       "        vertical-align: middle;\n",
       "    }\n",
       "\n",
       "    .dataframe tbody tr th {\n",
       "        vertical-align: top;\n",
       "    }\n",
       "\n",
       "    .dataframe thead th {\n",
       "        text-align: right;\n",
       "    }\n",
       "</style>\n",
       "<table border=\"1\" class=\"dataframe\">\n",
       "  <thead>\n",
       "    <tr style=\"text-align: right;\">\n",
       "      <th></th>\n",
       "      <th>Survived</th>\n",
       "      <th>Pclass</th>\n",
       "      <th>Name</th>\n",
       "      <th>Sex</th>\n",
       "      <th>Age</th>\n",
       "      <th>SibSp</th>\n",
       "      <th>Parch</th>\n",
       "      <th>Ticket</th>\n",
       "      <th>Fare</th>\n",
       "      <th>Cabin</th>\n",
       "      <th>Embarked</th>\n",
       "    </tr>\n",
       "    <tr>\n",
       "      <th>PassengerId</th>\n",
       "      <th></th>\n",
       "      <th></th>\n",
       "      <th></th>\n",
       "      <th></th>\n",
       "      <th></th>\n",
       "      <th></th>\n",
       "      <th></th>\n",
       "      <th></th>\n",
       "      <th></th>\n",
       "      <th></th>\n",
       "      <th></th>\n",
       "    </tr>\n",
       "  </thead>\n",
       "  <tbody>\n",
       "    <tr>\n",
       "      <th>1</th>\n",
       "      <td>0</td>\n",
       "      <td>3</td>\n",
       "      <td>Braund, Mr. Owen Harris</td>\n",
       "      <td>male</td>\n",
       "      <td>22.0</td>\n",
       "      <td>1</td>\n",
       "      <td>0</td>\n",
       "      <td>A/5 21171</td>\n",
       "      <td>7.2500</td>\n",
       "      <td>NaN</td>\n",
       "      <td>S</td>\n",
       "    </tr>\n",
       "    <tr>\n",
       "      <th>2</th>\n",
       "      <td>1</td>\n",
       "      <td>1</td>\n",
       "      <td>Cumings, Mrs. John Bradley (Florence Briggs Th...</td>\n",
       "      <td>female</td>\n",
       "      <td>38.0</td>\n",
       "      <td>1</td>\n",
       "      <td>0</td>\n",
       "      <td>PC 17599</td>\n",
       "      <td>71.2833</td>\n",
       "      <td>C85</td>\n",
       "      <td>C</td>\n",
       "    </tr>\n",
       "    <tr>\n",
       "      <th>3</th>\n",
       "      <td>1</td>\n",
       "      <td>3</td>\n",
       "      <td>Heikkinen, Miss. Laina</td>\n",
       "      <td>female</td>\n",
       "      <td>26.0</td>\n",
       "      <td>0</td>\n",
       "      <td>0</td>\n",
       "      <td>STON/O2. 3101282</td>\n",
       "      <td>7.9250</td>\n",
       "      <td>NaN</td>\n",
       "      <td>S</td>\n",
       "    </tr>\n",
       "    <tr>\n",
       "      <th>4</th>\n",
       "      <td>1</td>\n",
       "      <td>1</td>\n",
       "      <td>Futrelle, Mrs. Jacques Heath (Lily May Peel)</td>\n",
       "      <td>female</td>\n",
       "      <td>35.0</td>\n",
       "      <td>1</td>\n",
       "      <td>0</td>\n",
       "      <td>113803</td>\n",
       "      <td>53.1000</td>\n",
       "      <td>C123</td>\n",
       "      <td>S</td>\n",
       "    </tr>\n",
       "    <tr>\n",
       "      <th>5</th>\n",
       "      <td>0</td>\n",
       "      <td>3</td>\n",
       "      <td>Allen, Mr. William Henry</td>\n",
       "      <td>male</td>\n",
       "      <td>35.0</td>\n",
       "      <td>0</td>\n",
       "      <td>0</td>\n",
       "      <td>373450</td>\n",
       "      <td>8.0500</td>\n",
       "      <td>NaN</td>\n",
       "      <td>S</td>\n",
       "    </tr>\n",
       "    <tr>\n",
       "      <th>6</th>\n",
       "      <td>0</td>\n",
       "      <td>3</td>\n",
       "      <td>Moran, Mr. James</td>\n",
       "      <td>male</td>\n",
       "      <td>NaN</td>\n",
       "      <td>0</td>\n",
       "      <td>0</td>\n",
       "      <td>330877</td>\n",
       "      <td>8.4583</td>\n",
       "      <td>NaN</td>\n",
       "      <td>Q</td>\n",
       "    </tr>\n",
       "    <tr>\n",
       "      <th>7</th>\n",
       "      <td>0</td>\n",
       "      <td>1</td>\n",
       "      <td>McCarthy, Mr. Timothy J</td>\n",
       "      <td>male</td>\n",
       "      <td>54.0</td>\n",
       "      <td>0</td>\n",
       "      <td>0</td>\n",
       "      <td>17463</td>\n",
       "      <td>51.8625</td>\n",
       "      <td>E46</td>\n",
       "      <td>S</td>\n",
       "    </tr>\n",
       "    <tr>\n",
       "      <th>8</th>\n",
       "      <td>0</td>\n",
       "      <td>3</td>\n",
       "      <td>Palsson, Master. Gosta Leonard</td>\n",
       "      <td>male</td>\n",
       "      <td>2.0</td>\n",
       "      <td>3</td>\n",
       "      <td>1</td>\n",
       "      <td>349909</td>\n",
       "      <td>21.0750</td>\n",
       "      <td>NaN</td>\n",
       "      <td>S</td>\n",
       "    </tr>\n",
       "    <tr>\n",
       "      <th>9</th>\n",
       "      <td>1</td>\n",
       "      <td>3</td>\n",
       "      <td>Johnson, Mrs. Oscar W (Elisabeth Vilhelmina Berg)</td>\n",
       "      <td>female</td>\n",
       "      <td>27.0</td>\n",
       "      <td>0</td>\n",
       "      <td>2</td>\n",
       "      <td>347742</td>\n",
       "      <td>11.1333</td>\n",
       "      <td>NaN</td>\n",
       "      <td>S</td>\n",
       "    </tr>\n",
       "    <tr>\n",
       "      <th>10</th>\n",
       "      <td>1</td>\n",
       "      <td>2</td>\n",
       "      <td>Nasser, Mrs. Nicholas (Adele Achem)</td>\n",
       "      <td>female</td>\n",
       "      <td>14.0</td>\n",
       "      <td>1</td>\n",
       "      <td>0</td>\n",
       "      <td>237736</td>\n",
       "      <td>30.0708</td>\n",
       "      <td>NaN</td>\n",
       "      <td>C</td>\n",
       "    </tr>\n",
       "  </tbody>\n",
       "</table>\n",
       "</div>"
      ],
      "text/plain": [
       "             Survived  Pclass  \\\n",
       "PassengerId                     \n",
       "1                   0       3   \n",
       "2                   1       1   \n",
       "3                   1       3   \n",
       "4                   1       1   \n",
       "5                   0       3   \n",
       "6                   0       3   \n",
       "7                   0       1   \n",
       "8                   0       3   \n",
       "9                   1       3   \n",
       "10                  1       2   \n",
       "\n",
       "                                                          Name     Sex   Age  \\\n",
       "PassengerId                                                                    \n",
       "1                                      Braund, Mr. Owen Harris    male  22.0   \n",
       "2            Cumings, Mrs. John Bradley (Florence Briggs Th...  female  38.0   \n",
       "3                                       Heikkinen, Miss. Laina  female  26.0   \n",
       "4                 Futrelle, Mrs. Jacques Heath (Lily May Peel)  female  35.0   \n",
       "5                                     Allen, Mr. William Henry    male  35.0   \n",
       "6                                             Moran, Mr. James    male   NaN   \n",
       "7                                      McCarthy, Mr. Timothy J    male  54.0   \n",
       "8                               Palsson, Master. Gosta Leonard    male   2.0   \n",
       "9            Johnson, Mrs. Oscar W (Elisabeth Vilhelmina Berg)  female  27.0   \n",
       "10                         Nasser, Mrs. Nicholas (Adele Achem)  female  14.0   \n",
       "\n",
       "             SibSp  Parch            Ticket     Fare Cabin Embarked  \n",
       "PassengerId                                                          \n",
       "1                1      0         A/5 21171   7.2500   NaN        S  \n",
       "2                1      0          PC 17599  71.2833   C85        C  \n",
       "3                0      0  STON/O2. 3101282   7.9250   NaN        S  \n",
       "4                1      0            113803  53.1000  C123        S  \n",
       "5                0      0            373450   8.0500   NaN        S  \n",
       "6                0      0            330877   8.4583   NaN        Q  \n",
       "7                0      0             17463  51.8625   E46        S  \n",
       "8                3      1            349909  21.0750   NaN        S  \n",
       "9                0      2            347742  11.1333   NaN        S  \n",
       "10               1      0            237736  30.0708   NaN        C  "
      ]
     },
     "execution_count": 2,
     "metadata": {},
     "output_type": "execute_result"
    }
   ],
   "source": [
    "train_df = pd.read_csv(\"/kaggle/input/titanic/train.csv\", index_col=0)\n",
    "train_df.head(10)"
   ]
  },
  {
   "cell_type": "code",
   "execution_count": 3,
   "id": "e273b1d6",
   "metadata": {
    "execution": {
     "iopub.execute_input": "2025-01-29T05:38:34.266319Z",
     "iopub.status.busy": "2025-01-29T05:38:34.266061Z",
     "iopub.status.idle": "2025-01-29T05:38:34.270244Z",
     "shell.execute_reply": "2025-01-29T05:38:34.269593Z"
    },
    "papermill": {
     "duration": 0.01395,
     "end_time": "2025-01-29T05:38:34.271476",
     "exception": false,
     "start_time": "2025-01-29T05:38:34.257526",
     "status": "completed"
    },
    "tags": []
   },
   "outputs": [
    {
     "data": {
      "text/plain": [
       "891"
      ]
     },
     "execution_count": 3,
     "metadata": {},
     "output_type": "execute_result"
    }
   ],
   "source": [
    "len(train_df)"
   ]
  },
  {
   "cell_type": "markdown",
   "id": "249dfdbe",
   "metadata": {
    "papermill": {
     "duration": 0.007845,
     "end_time": "2025-01-29T05:38:34.287408",
     "exception": false,
     "start_time": "2025-01-29T05:38:34.279563",
     "status": "completed"
    },
    "tags": []
   },
   "source": [
    "## Explore Data"
   ]
  },
  {
   "attachments": {
    "32b3126c-ecdb-46fc-86b2-f22ddf6e6809.png": {
     "image/png": "[encoded data removed]"
    }
   },
   "cell_type": "markdown",
   "id": "295a4abe",
   "metadata": {
    "papermill": {
     "duration": 0.007772,
     "end_time": "2025-01-29T05:38:34.303558",
     "exception": false,
     "start_time": "2025-01-29T05:38:34.295786",
     "status": "completed"
    },
    "tags": []
   },
   "source": [
    "![image.png](attachment:32b3126c-ecdb-46fc-86b2-f22ddf6e6809.png)"
   ]
  },
  {
   "cell_type": "code",
   "execution_count": 4,
   "id": "7069edc2",
   "metadata": {
    "execution": {
     "iopub.execute_input": "2025-01-29T05:38:34.320411Z",
     "iopub.status.busy": "2025-01-29T05:38:34.320132Z",
     "iopub.status.idle": "2025-01-29T05:38:34.324351Z",
     "shell.execute_reply": "2025-01-29T05:38:34.323689Z"
    },
    "papermill": {
     "duration": 0.013975,
     "end_time": "2025-01-29T05:38:34.325605",
     "exception": false,
     "start_time": "2025-01-29T05:38:34.311630",
     "status": "completed"
    },
    "tags": []
   },
   "outputs": [
    {
     "data": {
      "text/plain": [
       "891"
      ]
     },
     "execution_count": 4,
     "metadata": {},
     "output_type": "execute_result"
    }
   ],
   "source": [
    "len(train_df)"
   ]
  },
  {
   "cell_type": "code",
   "execution_count": 5,
   "id": "da27007b",
   "metadata": {
    "execution": {
     "iopub.execute_input": "2025-01-29T05:38:34.342473Z",
     "iopub.status.busy": "2025-01-29T05:38:34.342259Z",
     "iopub.status.idle": "2025-01-29T05:38:34.363276Z",
     "shell.execute_reply": "2025-01-29T05:38:34.362592Z"
    },
    "papermill": {
     "duration": 0.030721,
     "end_time": "2025-01-29T05:38:34.364438",
     "exception": false,
     "start_time": "2025-01-29T05:38:34.333717",
     "status": "completed"
    },
    "tags": []
   },
   "outputs": [
    {
     "data": {
      "text/html": [
       "<div>\n",
       "<style scoped>\n",
       "    .dataframe tbody tr th:only-of-type {\n",
       "        vertical-align: middle;\n",
       "    }\n",
       "\n",
       "    .dataframe tbody tr th {\n",
       "        vertical-align: top;\n",
       "    }\n",
       "\n",
       "    .dataframe thead th {\n",
       "        text-align: right;\n",
       "    }\n",
       "</style>\n",
       "<table border=\"1\" class=\"dataframe\">\n",
       "  <thead>\n",
       "    <tr style=\"text-align: right;\">\n",
       "      <th></th>\n",
       "      <th>Survived</th>\n",
       "      <th>Pclass</th>\n",
       "      <th>Age</th>\n",
       "      <th>SibSp</th>\n",
       "      <th>Parch</th>\n",
       "      <th>Fare</th>\n",
       "    </tr>\n",
       "  </thead>\n",
       "  <tbody>\n",
       "    <tr>\n",
       "      <th>count</th>\n",
       "      <td>891.000000</td>\n",
       "      <td>891.000000</td>\n",
       "      <td>714.000000</td>\n",
       "      <td>891.000000</td>\n",
       "      <td>891.000000</td>\n",
       "      <td>891.000000</td>\n",
       "    </tr>\n",
       "    <tr>\n",
       "      <th>mean</th>\n",
       "      <td>0.383838</td>\n",
       "      <td>2.308642</td>\n",
       "      <td>29.699118</td>\n",
       "      <td>0.523008</td>\n",
       "      <td>0.381594</td>\n",
       "      <td>32.204208</td>\n",
       "    </tr>\n",
       "    <tr>\n",
       "      <th>std</th>\n",
       "      <td>0.486592</td>\n",
       "      <td>0.836071</td>\n",
       "      <td>14.526497</td>\n",
       "      <td>1.102743</td>\n",
       "      <td>0.806057</td>\n",
       "      <td>49.693429</td>\n",
       "    </tr>\n",
       "    <tr>\n",
       "      <th>min</th>\n",
       "      <td>0.000000</td>\n",
       "      <td>1.000000</td>\n",
       "      <td>0.420000</td>\n",
       "      <td>0.000000</td>\n",
       "      <td>0.000000</td>\n",
       "      <td>0.000000</td>\n",
       "    </tr>\n",
       "    <tr>\n",
       "      <th>25%</th>\n",
       "      <td>0.000000</td>\n",
       "      <td>2.000000</td>\n",
       "      <td>20.125000</td>\n",
       "      <td>0.000000</td>\n",
       "      <td>0.000000</td>\n",
       "      <td>7.910400</td>\n",
       "    </tr>\n",
       "    <tr>\n",
       "      <th>50%</th>\n",
       "      <td>0.000000</td>\n",
       "      <td>3.000000</td>\n",
       "      <td>28.000000</td>\n",
       "      <td>0.000000</td>\n",
       "      <td>0.000000</td>\n",
       "      <td>14.454200</td>\n",
       "    </tr>\n",
       "    <tr>\n",
       "      <th>75%</th>\n",
       "      <td>1.000000</td>\n",
       "      <td>3.000000</td>\n",
       "      <td>38.000000</td>\n",
       "      <td>1.000000</td>\n",
       "      <td>0.000000</td>\n",
       "      <td>31.000000</td>\n",
       "    </tr>\n",
       "    <tr>\n",
       "      <th>max</th>\n",
       "      <td>1.000000</td>\n",
       "      <td>3.000000</td>\n",
       "      <td>80.000000</td>\n",
       "      <td>8.000000</td>\n",
       "      <td>6.000000</td>\n",
       "      <td>512.329200</td>\n",
       "    </tr>\n",
       "  </tbody>\n",
       "</table>\n",
       "</div>"
      ],
      "text/plain": [
       "         Survived      Pclass         Age       SibSp       Parch        Fare\n",
       "count  891.000000  891.000000  714.000000  891.000000  891.000000  891.000000\n",
       "mean     0.383838    2.308642   29.699118    0.523008    0.381594   32.204208\n",
       "std      0.486592    0.836071   14.526497    1.102743    0.806057   49.693429\n",
       "min      0.000000    1.000000    0.420000    0.000000    0.000000    0.000000\n",
       "25%      0.000000    2.000000   20.125000    0.000000    0.000000    7.910400\n",
       "50%      0.000000    3.000000   28.000000    0.000000    0.000000   14.454200\n",
       "75%      1.000000    3.000000   38.000000    1.000000    0.000000   31.000000\n",
       "max      1.000000    3.000000   80.000000    8.000000    6.000000  512.329200"
      ]
     },
     "execution_count": 5,
     "metadata": {},
     "output_type": "execute_result"
    }
   ],
   "source": [
    "train_df.describe()"
   ]
  },
  {
   "cell_type": "code",
   "execution_count": 6,
   "id": "c7684635",
   "metadata": {
    "execution": {
     "iopub.execute_input": "2025-01-29T05:38:34.381684Z",
     "iopub.status.busy": "2025-01-29T05:38:34.381472Z",
     "iopub.status.idle": "2025-01-29T05:38:34.385818Z",
     "shell.execute_reply": "2025-01-29T05:38:34.385018Z"
    },
    "papermill": {
     "duration": 0.014204,
     "end_time": "2025-01-29T05:38:34.386965",
     "exception": false,
     "start_time": "2025-01-29T05:38:34.372761",
     "status": "completed"
    },
    "tags": []
   },
   "outputs": [
    {
     "name": "stdout",
     "output_type": "stream",
     "text": [
      "count of items to be dropped 177\n",
      "count of items left 714\n"
     ]
    }
   ],
   "source": [
    "# age has some null value\n",
    "# should we try dropping them for now?\n",
    "\n",
    "# count of rows that will be dropped\n",
    "print(f\"count of items to be dropped {len(train_df) - 714}\")\n",
    "\n",
    "# rows lefr\n",
    "print(f\"count of items left {len(train_df) - len(train_df) + 714}\")"
   ]
  },
  {
   "cell_type": "code",
   "execution_count": 7,
   "id": "19de2f23",
   "metadata": {
    "execution": {
     "iopub.execute_input": "2025-01-29T05:38:34.404054Z",
     "iopub.status.busy": "2025-01-29T05:38:34.403826Z",
     "iopub.status.idle": "2025-01-29T05:38:34.409618Z",
     "shell.execute_reply": "2025-01-29T05:38:34.408852Z"
    },
    "papermill": {
     "duration": 0.015556,
     "end_time": "2025-01-29T05:38:34.410769",
     "exception": false,
     "start_time": "2025-01-29T05:38:34.395213",
     "status": "completed"
    },
    "tags": []
   },
   "outputs": [
    {
     "data": {
      "text/plain": [
       "Survived      0\n",
       "Pclass        0\n",
       "Name          0\n",
       "Sex           0\n",
       "Age         177\n",
       "SibSp         0\n",
       "Parch         0\n",
       "Ticket        0\n",
       "Fare          0\n",
       "Cabin       687\n",
       "Embarked      2\n",
       "dtype: int64"
      ]
     },
     "execution_count": 7,
     "metadata": {},
     "output_type": "execute_result"
    }
   ],
   "source": [
    "train_df.isna().sum()"
   ]
  },
  {
   "cell_type": "code",
   "execution_count": 8,
   "id": "445b5e09",
   "metadata": {
    "execution": {
     "iopub.execute_input": "2025-01-29T05:38:34.427946Z",
     "iopub.status.busy": "2025-01-29T05:38:34.427712Z",
     "iopub.status.idle": "2025-01-29T05:38:34.430694Z",
     "shell.execute_reply": "2025-01-29T05:38:34.429897Z"
    },
    "papermill": {
     "duration": 0.01293,
     "end_time": "2025-01-29T05:38:34.431966",
     "exception": false,
     "start_time": "2025-01-29T05:38:34.419036",
     "status": "completed"
    },
    "tags": []
   },
   "outputs": [],
   "source": [
    "# cabin has 687 nulls, i dont think we can learn anything using it though"
   ]
  },
  {
   "cell_type": "code",
   "execution_count": 9,
   "id": "46a5479c",
   "metadata": {
    "execution": {
     "iopub.execute_input": "2025-01-29T05:38:34.449357Z",
     "iopub.status.busy": "2025-01-29T05:38:34.449115Z",
     "iopub.status.idle": "2025-01-29T05:38:34.455625Z",
     "shell.execute_reply": "2025-01-29T05:38:34.454957Z"
    },
    "papermill": {
     "duration": 0.016459,
     "end_time": "2025-01-29T05:38:34.456791",
     "exception": false,
     "start_time": "2025-01-29T05:38:34.440332",
     "status": "completed"
    },
    "tags": []
   },
   "outputs": [
    {
     "data": {
      "text/plain": [
       "Survived\n",
       "0    549\n",
       "1    342\n",
       "Name: count, dtype: int64"
      ]
     },
     "execution_count": 9,
     "metadata": {},
     "output_type": "execute_result"
    }
   ],
   "source": [
    "# lets check balance now\n",
    "train_df[\"Survived\"].value_counts()"
   ]
  },
  {
   "cell_type": "code",
   "execution_count": 10,
   "id": "cc4f27f6",
   "metadata": {
    "execution": {
     "iopub.execute_input": "2025-01-29T05:38:34.476211Z",
     "iopub.status.busy": "2025-01-29T05:38:34.475984Z",
     "iopub.status.idle": "2025-01-29T05:38:34.481935Z",
     "shell.execute_reply": "2025-01-29T05:38:34.481197Z"
    },
    "papermill": {
     "duration": 0.01697,
     "end_time": "2025-01-29T05:38:34.483366",
     "exception": false,
     "start_time": "2025-01-29T05:38:34.466396",
     "status": "completed"
    },
    "tags": []
   },
   "outputs": [
    {
     "name": "stdout",
     "output_type": "stream",
     "text": [
      "Survived\n",
      "0    61.616162\n",
      "1    38.383838\n",
      "Name: proportion, dtype: float64\n",
      "The dataset is balanced.\n"
     ]
    }
   ],
   "source": [
    "class_percentages = train_df[\"Survived\"].value_counts(normalize=True) * 100\n",
    "\n",
    "print(class_percentages)\n",
    "\n",
    "threshold = 70  # Adjust this as needed\n",
    "is_balanced = all(class_percentages < threshold)\n",
    "\n",
    "if is_balanced:\n",
    "    print(\"The dataset is balanced.\")\n",
    "else:\n",
    "    print(\"The dataset is imbalanced.\")"
   ]
  },
  {
   "cell_type": "code",
   "execution_count": 11,
   "id": "7ad82794",
   "metadata": {
    "execution": {
     "iopub.execute_input": "2025-01-29T05:38:34.502288Z",
     "iopub.status.busy": "2025-01-29T05:38:34.502026Z",
     "iopub.status.idle": "2025-01-29T05:38:34.504746Z",
     "shell.execute_reply": "2025-01-29T05:38:34.504139Z"
    },
    "papermill": {
     "duration": 0.012992,
     "end_time": "2025-01-29T05:38:34.505865",
     "exception": false,
     "start_time": "2025-01-29T05:38:34.492873",
     "status": "completed"
    },
    "tags": []
   },
   "outputs": [],
   "source": [
    "# so model can easily get 61% accuracy if it always predics 0\n",
    "# so this will be our basepoint"
   ]
  },
  {
   "cell_type": "code",
   "execution_count": 12,
   "id": "bf490ebb",
   "metadata": {
    "execution": {
     "iopub.execute_input": "2025-01-29T05:38:34.523553Z",
     "iopub.status.busy": "2025-01-29T05:38:34.523350Z",
     "iopub.status.idle": "2025-01-29T05:38:34.540579Z",
     "shell.execute_reply": "2025-01-29T05:38:34.539549Z"
    },
    "papermill": {
     "duration": 0.027447,
     "end_time": "2025-01-29T05:38:34.541963",
     "exception": false,
     "start_time": "2025-01-29T05:38:34.514516",
     "status": "completed"
    },
    "tags": []
   },
   "outputs": [
    {
     "name": "stdout",
     "output_type": "stream",
     "text": [
      "Column: Survived\n",
      "Outliers: 0\n",
      "Column: Pclass\n",
      "Outliers: 0\n",
      "Column: Age\n",
      "Outliers: 11\n",
      "Column: SibSp\n",
      "Outliers: 46\n",
      "Column: Parch\n",
      "Outliers: 213\n",
      "Column: Fare\n",
      "Outliers: 116\n"
     ]
    }
   ],
   "source": [
    "# check outliers\n",
    "# Identify outliers for each column\n",
    "for column in train_df.select_dtypes(include=[np.number]):  # Only numerical columns\n",
    "    Q1 = train_df[column].quantile(0.25)  # First quartile (25th percentile)\n",
    "    Q3 = train_df[column].quantile(0.75)  # Third quartile (75th percentile)\n",
    "    IQR = Q3 - Q1  # Interquartile range\n",
    "    lower_bound = Q1 - 1.5 * IQR\n",
    "    upper_bound = Q3 + 1.5 * IQR\n",
    "\n",
    "    print(f\"Column: {column}\")\n",
    "    print(f\"Outliers: {len(train_df[(train_df[column] < lower_bound) | (train_df[column] > upper_bound)][column].tolist())}\")"
   ]
  },
  {
   "cell_type": "markdown",
   "id": "bbfbdc9b",
   "metadata": {
    "papermill": {
     "duration": 0.008521,
     "end_time": "2025-01-29T05:38:34.559868",
     "exception": false,
     "start_time": "2025-01-29T05:38:34.551347",
     "status": "completed"
    },
    "tags": []
   },
   "source": [
    "## Create Dataset Class"
   ]
  },
  {
   "cell_type": "code",
   "execution_count": 13,
   "id": "c88014bf",
   "metadata": {
    "execution": {
     "iopub.execute_input": "2025-01-29T05:38:34.578568Z",
     "iopub.status.busy": "2025-01-29T05:38:34.578349Z",
     "iopub.status.idle": "2025-01-29T05:38:34.824121Z",
     "shell.execute_reply": "2025-01-29T05:38:34.823273Z"
    },
    "papermill": {
     "duration": 0.256602,
     "end_time": "2025-01-29T05:38:34.825541",
     "exception": false,
     "start_time": "2025-01-29T05:38:34.568939",
     "status": "completed"
    },
    "tags": []
   },
   "outputs": [
    {
     "data": {
      "image/png": "[encoded data removed]",
      "text/plain": [
       "<Figure size 640x480 with 1 Axes>"
      ]
     },
     "metadata": {},
     "output_type": "display_data"
    }
   ],
   "source": [
    "sns.countplot(x='Sex', hue='Survived', data=train_df)\n",
    "\n",
    "total = len(train_df)\n",
    "\n",
    "# Add percentage annotations\n",
    "\n",
    "for p in plt.gca().patches:\n",
    "    height = p.get_height()\n",
    "    width = p.get_width()\n",
    "    x, y = p.get_xy()  # Get position of each bar\n",
    "    percentage = height / total * 100\n",
    "    plt.text(x + width / 2, y + height + 5, f'{percentage:.1f}%', ha='center')\n",
    "\n",
    "plt.title('Count of Survived vs. Not Survived by Gender')\n",
    "plt.xlabel('Gender')\n",
    "plt.ylabel('Count')\n",
    "plt.show()"
   ]
  },
  {
   "cell_type": "code",
   "execution_count": 14,
   "id": "4f80db6e",
   "metadata": {
    "execution": {
     "iopub.execute_input": "2025-01-29T05:38:34.844830Z",
     "iopub.status.busy": "2025-01-29T05:38:34.844592Z",
     "iopub.status.idle": "2025-01-29T05:38:35.103535Z",
     "shell.execute_reply": "2025-01-29T05:38:35.102709Z"
    },
    "papermill": {
     "duration": 0.269725,
     "end_time": "2025-01-29T05:38:35.104760",
     "exception": false,
     "start_time": "2025-01-29T05:38:34.835035",
     "status": "completed"
    },
    "tags": []
   },
   "outputs": [
    {
     "name": "stderr",
     "output_type": "stream",
     "text": [
      "/usr/local/lib/python3.10/dist-packages/seaborn/_oldcore.py:1119: FutureWarning: use_inf_as_na option is deprecated and will be removed in a future version. Convert inf values to NaN before operating instead.\n",
      "  with pd.option_context('mode.use_inf_as_na', True):\n"
     ]
    },
    {
     "data": {
      "image/png": "[encoded data removed]",
      "text/plain": [
       "<Figure size 640x480 with 1 Axes>"
      ]
     },
     "metadata": {},
     "output_type": "display_data"
    }
   ],
   "source": [
    "sns.histplot(x='Age', hue='Survived', data=train_df)\n",
    "plt.title('Count of Survived vs. Not Survived by Age')\n",
    "plt.xlabel('Age')\n",
    "plt.ylabel('Count')\n",
    "plt.show()"
   ]
  },
  {
   "cell_type": "code",
   "execution_count": 15,
   "id": "77aed91e",
   "metadata": {
    "execution": {
     "iopub.execute_input": "2025-01-29T05:38:35.125119Z",
     "iopub.status.busy": "2025-01-29T05:38:35.124877Z",
     "iopub.status.idle": "2025-01-29T05:38:35.130063Z",
     "shell.execute_reply": "2025-01-29T05:38:35.129266Z"
    },
    "papermill": {
     "duration": 0.016525,
     "end_time": "2025-01-29T05:38:35.131301",
     "exception": false,
     "start_time": "2025-01-29T05:38:35.114776",
     "status": "completed"
    },
    "tags": []
   },
   "outputs": [
    {
     "data": {
      "text/plain": [
       "Survived\n",
       "0    549\n",
       "1    342\n",
       "Name: count, dtype: int64"
      ]
     },
     "execution_count": 15,
     "metadata": {},
     "output_type": "execute_result"
    }
   ],
   "source": [
    "train_df[\"Survived\"].value_counts()"
   ]
  },
  {
   "cell_type": "code",
   "execution_count": 16,
   "id": "6df72512",
   "metadata": {
    "execution": {
     "iopub.execute_input": "2025-01-29T05:38:35.151353Z",
     "iopub.status.busy": "2025-01-29T05:38:35.151093Z",
     "iopub.status.idle": "2025-01-29T05:38:39.835218Z",
     "shell.execute_reply": "2025-01-29T05:38:39.834327Z"
    },
    "papermill": {
     "duration": 4.695897,
     "end_time": "2025-01-29T05:38:39.836911",
     "exception": false,
     "start_time": "2025-01-29T05:38:35.141014",
     "status": "completed"
    },
    "tags": []
   },
   "outputs": [
    {
     "name": "stdout",
     "output_type": "stream",
     "text": [
      "Collecting torchviz\r\n",
      "  Downloading torchviz-0.0.3-py3-none-any.whl.metadata (2.1 kB)\r\n",
      "Requirement already satisfied: torch in /usr/local/lib/python3.10/dist-packages (from torchviz) (2.4.1+cu121)\r\n",
      "Requirement already satisfied: graphviz in /usr/local/lib/python3.10/dist-packages (from torchviz) (0.20.3)\r\n",
      "Requirement already satisfied: filelock in /usr/local/lib/python3.10/dist-packages (from torch->torchviz) (3.16.1)\r\n",
      "Requirement already satisfied: typing-extensions>=4.8.0 in /usr/local/lib/python3.10/dist-packages (from torch->torchviz) (4.12.2)\r\n",
      "Requirement already satisfied: sympy in /usr/local/lib/python3.10/dist-packages (from torch->torchviz) (1.13.3)\r\n",
      "Requirement already satisfied: networkx in /usr/local/lib/python3.10/dist-packages (from torch->torchviz) (3.3)\r\n",
      "Requirement already satisfied: jinja2 in /usr/local/lib/python3.10/dist-packages (from torch->torchviz) (3.1.4)\r\n",
      "Requirement already satisfied: fsspec in /usr/local/lib/python3.10/dist-packages (from torch->torchviz) (2024.6.1)\r\n",
      "Requirement already satisfied: MarkupSafe>=2.0 in /usr/local/lib/python3.10/dist-packages (from jinja2->torch->torchviz) (2.1.5)\r\n",
      "Requirement already satisfied: mpmath<1.4,>=1.1.0 in /usr/local/lib/python3.10/dist-packages (from sympy->torch->torchviz) (1.3.0)\r\n",
      "Downloading torchviz-0.0.3-py3-none-any.whl (5.7 kB)\r\n",
      "Installing collected packages: torchviz\r\n",
      "Successfully installed torchviz-0.0.3\r\n"
     ]
    }
   ],
   "source": [
    "!pip install torchviz"
   ]
  },
  {
   "cell_type": "code",
   "execution_count": 17,
   "id": "e6e9e05e",
   "metadata": {
    "execution": {
     "iopub.execute_input": "2025-01-29T05:38:39.858669Z",
     "iopub.status.busy": "2025-01-29T05:38:39.858411Z",
     "iopub.status.idle": "2025-01-29T05:38:44.300537Z",
     "shell.execute_reply": "2025-01-29T05:38:44.299565Z"
    },
    "papermill": {
     "duration": 4.454727,
     "end_time": "2025-01-29T05:38:44.302256",
     "exception": false,
     "start_time": "2025-01-29T05:38:39.847529",
     "status": "completed"
    },
    "tags": []
   },
   "outputs": [],
   "source": [
    "import torch\n",
    "from torch.utils.data import Dataset, DataLoader\n",
    "import torchvision\n",
    "import torch.nn as nn \n",
    "from torch.utils.data import random_split\n",
    "import math\n",
    "from torchviz import make_dot\n",
    "from IPython.display import Image"
   ]
  },
  {
   "cell_type": "code",
   "execution_count": 18,
   "id": "124ee7f3",
   "metadata": {
    "execution": {
     "iopub.execute_input": "2025-01-29T05:38:44.323909Z",
     "iopub.status.busy": "2025-01-29T05:38:44.323507Z",
     "iopub.status.idle": "2025-01-29T05:38:44.332393Z",
     "shell.execute_reply": "2025-01-29T05:38:44.331761Z"
    },
    "papermill": {
     "duration": 0.020942,
     "end_time": "2025-01-29T05:38:44.333613",
     "exception": false,
     "start_time": "2025-01-29T05:38:44.312671",
     "status": "completed"
    },
    "tags": []
   },
   "outputs": [],
   "source": [
    "torch.manual_seed(42); # seed rng for reproducibility"
   ]
  },
  {
   "cell_type": "code",
   "execution_count": 19,
   "id": "d6612b0d",
   "metadata": {
    "execution": {
     "iopub.execute_input": "2025-01-29T05:38:44.354755Z",
     "iopub.status.busy": "2025-01-29T05:38:44.354537Z",
     "iopub.status.idle": "2025-01-29T05:38:44.359626Z",
     "shell.execute_reply": "2025-01-29T05:38:44.358991Z"
    },
    "papermill": {
     "duration": 0.017119,
     "end_time": "2025-01-29T05:38:44.360814",
     "exception": false,
     "start_time": "2025-01-29T05:38:44.343695",
     "status": "completed"
    },
    "tags": []
   },
   "outputs": [],
   "source": [
    "class CSVDataset(Dataset):\n",
    "    def __init__(self, csv_path, features_col_list, target_col_list, transform=None, dropNa=False):\n",
    "        # data loading\n",
    "        self.features_col_list = features_col_list\n",
    "        self.target_col_list = target_col_list\n",
    "        self.data = pd.read_csv(csv_path, index_col=0)\n",
    "        self.transform = transform\n",
    "\n",
    "        if (dropNa):\n",
    "            self.data.fillna(0, inplace=True)\n",
    "\n",
    "    def __getitem__(self, index):\n",
    "        x = self.data.iloc[index][self.features_col_list]  # Features}\n",
    "        y = self.data.iloc[index][self.target_col_list]  # Target\n",
    "\n",
    "        # Apply transformations if specified\n",
    "        if self.transform:\n",
    "            x, y = self.transform((x,y))\n",
    "\n",
    "        return torch.tensor(x, dtype=torch.float32), torch.tensor(y, dtype=torch.float32)\n",
    "\n",
    "    def __len__(self):\n",
    "        # allow us to use len(dataset)\n",
    "        return len(self.data)"
   ]
  },
  {
   "cell_type": "code",
   "execution_count": 20,
   "id": "2f42350e",
   "metadata": {
    "execution": {
     "iopub.execute_input": "2025-01-29T05:38:44.381717Z",
     "iopub.status.busy": "2025-01-29T05:38:44.381506Z",
     "iopub.status.idle": "2025-01-29T05:38:44.470672Z",
     "shell.execute_reply": "2025-01-29T05:38:44.469747Z"
    },
    "papermill": {
     "duration": 0.101169,
     "end_time": "2025-01-29T05:38:44.472117",
     "exception": false,
     "start_time": "2025-01-29T05:38:44.370948",
     "status": "completed"
    },
    "tags": []
   },
   "outputs": [
    {
     "name": "stdout",
     "output_type": "stream",
     "text": [
      "tensor([-1.2649, -0.6325,  0.0000,  0.6325,  1.2649])\n"
     ]
    }
   ],
   "source": [
    "# Example tensor\n",
    "tensor = torch.tensor([1.0, 2.0, 3.0, 4.0, 5.0])\n",
    "\n",
    "# Compute mean and std\n",
    "mean = tensor.mean()\n",
    "std = tensor.std()\n",
    "\n",
    "# Normalize\n",
    "normalized_tensor = (tensor - mean) / std\n",
    "print(normalized_tensor)"
   ]
  },
  {
   "cell_type": "code",
   "execution_count": 21,
   "id": "4b9f67ac",
   "metadata": {
    "execution": {
     "iopub.execute_input": "2025-01-29T05:38:44.494596Z",
     "iopub.status.busy": "2025-01-29T05:38:44.494365Z",
     "iopub.status.idle": "2025-01-29T05:38:44.501609Z",
     "shell.execute_reply": "2025-01-29T05:38:44.500768Z"
    },
    "papermill": {
     "duration": 0.020479,
     "end_time": "2025-01-29T05:38:44.502843",
     "exception": false,
     "start_time": "2025-01-29T05:38:44.482364",
     "status": "completed"
    },
    "tags": []
   },
   "outputs": [],
   "source": [
    "class SexToNum():\n",
    "    def __call__(self, sample):\n",
    "        inputs, targets = sample\n",
    "\n",
    "        if (inputs[\"Sex\"] == \"male\"):\n",
    "            inputs[\"Sex\"] = 0\n",
    "        else:\n",
    "            inputs[\"Sex\"] = 1\n",
    "\n",
    "        return (inputs, targets)\n",
    "\n",
    "class NormalizeAge():\n",
    "    def __init__(self, minVal, maxVal):\n",
    "        self.minVal = minVal\n",
    "        self.maxVal = maxVal\n",
    "    \n",
    "    def __call__(self, sample):\n",
    "        inputs, targets = sample\n",
    "        inputs[\"Age\"] = (inputs[\"Age\"] - self.minVal) / (self.maxVal - self.minVal)\n",
    "        return (inputs, targets)\n",
    "\n",
    "class ConvertNumpyArrToFloat32():\n",
    "    def __call__(self, sample):\n",
    "        inputs, targets = sample\n",
    "        inputs = (inputs.values).astype(np.float32)\n",
    "        targets = (targets.values).astype(np.float32)\n",
    "        return (inputs, targets)"
   ]
  },
  {
   "cell_type": "code",
   "execution_count": 22,
   "id": "7ae5c2fa",
   "metadata": {
    "execution": {
     "iopub.execute_input": "2025-01-29T05:38:44.523871Z",
     "iopub.status.busy": "2025-01-29T05:38:44.523624Z",
     "iopub.status.idle": "2025-01-29T05:38:44.540387Z",
     "shell.execute_reply": "2025-01-29T05:38:44.539683Z"
    },
    "papermill": {
     "duration": 0.028761,
     "end_time": "2025-01-29T05:38:44.541619",
     "exception": false,
     "start_time": "2025-01-29T05:38:44.512858",
     "status": "completed"
    },
    "tags": []
   },
   "outputs": [
    {
     "data": {
      "text/plain": [
       "(tensor([0.0000, 0.1467]), tensor([0.]))"
      ]
     },
     "execution_count": 22,
     "metadata": {},
     "output_type": "execute_result"
    }
   ],
   "source": [
    "csv_file = \"/kaggle/input/titanic/train.csv\"\n",
    "features_col_list = [\"Sex\", \"Age\"]\n",
    "target_col_list = [\"Survived\"]\n",
    "\n",
    "minAge = 0\n",
    "maxAge = 150\n",
    "transforms = torchvision.transforms.Compose([SexToNum(), NormalizeAge(minAge, maxAge), ConvertNumpyArrToFloat32()])\n",
    "\n",
    "dataset = CSVDataset(csv_file, features_col_list, target_col_list, transform=transforms, dropNa=True)\n",
    "dataset[0]"
   ]
  },
  {
   "cell_type": "code",
   "execution_count": 23,
   "id": "60823e16",
   "metadata": {
    "execution": {
     "iopub.execute_input": "2025-01-29T05:38:44.562521Z",
     "iopub.status.busy": "2025-01-29T05:38:44.562280Z",
     "iopub.status.idle": "2025-01-29T05:38:44.566623Z",
     "shell.execute_reply": "2025-01-29T05:38:44.565808Z"
    },
    "papermill": {
     "duration": 0.016107,
     "end_time": "2025-01-29T05:38:44.567819",
     "exception": false,
     "start_time": "2025-01-29T05:38:44.551712",
     "status": "completed"
    },
    "tags": []
   },
   "outputs": [
    {
     "data": {
      "text/plain": [
       "891"
      ]
     },
     "execution_count": 23,
     "metadata": {},
     "output_type": "execute_result"
    }
   ],
   "source": [
    "len(dataset)"
   ]
  },
  {
   "cell_type": "code",
   "execution_count": 24,
   "id": "bab37628",
   "metadata": {
    "execution": {
     "iopub.execute_input": "2025-01-29T05:38:44.589800Z",
     "iopub.status.busy": "2025-01-29T05:38:44.589567Z",
     "iopub.status.idle": "2025-01-29T05:38:44.595458Z",
     "shell.execute_reply": "2025-01-29T05:38:44.594628Z"
    },
    "papermill": {
     "duration": 0.018802,
     "end_time": "2025-01-29T05:38:44.596708",
     "exception": false,
     "start_time": "2025-01-29T05:38:44.577906",
     "status": "completed"
    },
    "tags": []
   },
   "outputs": [],
   "source": [
    "# Define split ratios\n",
    "train_size = int(0.8 * len(dataset))  # 80% for training\n",
    "val_size = int(0.1 * len(dataset))    # 10% for validation\n",
    "test_size = len(dataset) - train_size - val_size  # Remaining for testing\n",
    "\n",
    "# Split dataset\n",
    "train_dataset, val_dataset, test_dataset = random_split(dataset, [train_size, val_size, test_size])"
   ]
  },
  {
   "cell_type": "code",
   "execution_count": 25,
   "id": "ada721ff",
   "metadata": {
    "execution": {
     "iopub.execute_input": "2025-01-29T05:38:44.617678Z",
     "iopub.status.busy": "2025-01-29T05:38:44.617465Z",
     "iopub.status.idle": "2025-01-29T05:38:44.621130Z",
     "shell.execute_reply": "2025-01-29T05:38:44.620507Z"
    },
    "papermill": {
     "duration": 0.015658,
     "end_time": "2025-01-29T05:38:44.622495",
     "exception": false,
     "start_time": "2025-01-29T05:38:44.606837",
     "status": "completed"
    },
    "tags": []
   },
   "outputs": [],
   "source": [
    "# Define batch size\n",
    "# since we have less data\n",
    "batch_size = 16\n",
    "\n",
    "# Create DataLoaders\n",
    "train_loader = DataLoader(train_dataset, batch_size=batch_size, shuffle=False)\n",
    "val_loader = DataLoader(val_dataset, batch_size=batch_size, shuffle=False)\n",
    "test_loader = DataLoader(test_dataset, batch_size=batch_size, shuffle=False)"
   ]
  },
  {
   "cell_type": "code",
   "execution_count": 26,
   "id": "64ab421e",
   "metadata": {
    "execution": {
     "iopub.execute_input": "2025-01-29T05:38:44.643354Z",
     "iopub.status.busy": "2025-01-29T05:38:44.643112Z",
     "iopub.status.idle": "2025-01-29T05:38:44.724174Z",
     "shell.execute_reply": "2025-01-29T05:38:44.723363Z"
    },
    "papermill": {
     "duration": 0.09295,
     "end_time": "2025-01-29T05:38:44.725496",
     "exception": false,
     "start_time": "2025-01-29T05:38:44.632546",
     "status": "completed"
    },
    "tags": []
   },
   "outputs": [
    {
     "name": "stdout",
     "output_type": "stream",
     "text": [
      "Using device: cuda\n"
     ]
    }
   ],
   "source": [
    "device = torch.device(\"cuda\" if torch.cuda.is_available() else \"cpu\")\n",
    "print(f\"Using device: {device}\")"
   ]
  },
  {
   "cell_type": "code",
   "execution_count": 27,
   "id": "c48f1ce7",
   "metadata": {
    "execution": {
     "iopub.execute_input": "2025-01-29T05:38:44.747101Z",
     "iopub.status.busy": "2025-01-29T05:38:44.746845Z",
     "iopub.status.idle": "2025-01-29T05:38:44.757596Z",
     "shell.execute_reply": "2025-01-29T05:38:44.756781Z"
    },
    "papermill": {
     "duration": 0.022799,
     "end_time": "2025-01-29T05:38:44.758776",
     "exception": false,
     "start_time": "2025-01-29T05:38:44.735977",
     "status": "completed"
    },
    "tags": []
   },
   "outputs": [],
   "source": [
    "# not correctly init\n",
    "hidden_neuron = 128\n",
    "debug = True\n",
    "\n",
    "class LinearLayer(nn.Linear):\n",
    "    def __init__(self, *args, **kwargs):\n",
    "        # Call the parent constructor to initialize the Linear layer\n",
    "        super().__init__(*args, **kwargs)\n",
    "        \n",
    "    def forward(self, x):\n",
    "        self.output = super().forward(x)\n",
    "        return self.output\n",
    "\n",
    "class LeakyReluLayer(nn.LeakyReLU):\n",
    "    def __init__(self, *args, **kwargs):\n",
    "        # Call the parent constructor to initialize the Linear layer\n",
    "        super().__init__(*args, **kwargs)\n",
    "        \n",
    "    def forward(self, x):\n",
    "        self.output = super().forward(x)\n",
    "        return self.output\n",
    "\n",
    "class TitanicSurvivalPredictor(nn.Module):\n",
    "    def __init__(self, hidden_neuron):\n",
    "        super().__init__()\n",
    "\n",
    "        # define layers\n",
    "        self.layers = nn.ModuleList([\n",
    "            LinearLayer(2, hidden_neuron),\n",
    "            LeakyReluLayer(),\n",
    "            # LinearLayer(hidden_neuron, hidden_neuron),\n",
    "            # ReLuLayer(),\n",
    "            LinearLayer(hidden_neuron, 1),\n",
    "        ])\n",
    "        \n",
    "    def forward(self, x):\n",
    "        for layer in self.layers:\n",
    "            x = layer(x)\n",
    "        return x\n",
    "\n",
    "    def parameters(self):\n",
    "        return [p for layer in self.layers for p in layer.parameters()]\n",
    "\n",
    "model = TitanicSurvivalPredictor(hidden_neuron)"
   ]
  },
  {
   "cell_type": "code",
   "execution_count": 28,
   "id": "ab7bfc66",
   "metadata": {
    "execution": {
     "iopub.execute_input": "2025-01-29T05:38:44.779823Z",
     "iopub.status.busy": "2025-01-29T05:38:44.779602Z",
     "iopub.status.idle": "2025-01-29T05:38:44.801611Z",
     "shell.execute_reply": "2025-01-29T05:38:44.801012Z"
    },
    "papermill": {
     "duration": 0.033869,
     "end_time": "2025-01-29T05:38:44.802888",
     "exception": false,
     "start_time": "2025-01-29T05:38:44.769019",
     "status": "completed"
    },
    "tags": []
   },
   "outputs": [],
   "source": [
    "bce_loss = nn.BCEWithLogitsLoss()\n",
    "\n",
    "first_batch_input = None\n",
    "first_batch_label = None\n",
    "for inputs, labels in train_loader:\n",
    "    first_batch_input = inputs\n",
    "    first_batch_label = labels\n",
    "    break"
   ]
  },
  {
   "cell_type": "code",
   "execution_count": 29,
   "id": "f35391e4",
   "metadata": {
    "execution": {
     "iopub.execute_input": "2025-01-29T05:38:44.824436Z",
     "iopub.status.busy": "2025-01-29T05:38:44.824227Z",
     "iopub.status.idle": "2025-01-29T05:38:44.851025Z",
     "shell.execute_reply": "2025-01-29T05:38:44.850166Z"
    },
    "papermill": {
     "duration": 0.038913,
     "end_time": "2025-01-29T05:38:44.852462",
     "exception": false,
     "start_time": "2025-01-29T05:38:44.813549",
     "status": "completed"
    },
    "tags": []
   },
   "outputs": [
    {
     "name": "stdout",
     "output_type": "stream",
     "text": [
      "init loss: 0.6816640496253967\n"
     ]
    }
   ],
   "source": [
    "first_batch_pred_logits = model(first_batch_input)\n",
    "first_batch_pred_prob = torch.sigmoid(first_batch_pred_logits)  # Apply sigmoid for binary classification\n",
    "loss = bce_loss(first_batch_pred_prob, first_batch_label)\n",
    "print(f\"init loss: {loss.item()}\")"
   ]
  },
  {
   "cell_type": "code",
   "execution_count": 30,
   "id": "438d48f7",
   "metadata": {
    "execution": {
     "iopub.execute_input": "2025-01-29T05:38:44.874623Z",
     "iopub.status.busy": "2025-01-29T05:38:44.874385Z",
     "iopub.status.idle": "2025-01-29T05:38:44.880291Z",
     "shell.execute_reply": "2025-01-29T05:38:44.879491Z"
    },
    "papermill": {
     "duration": 0.018626,
     "end_time": "2025-01-29T05:38:44.881597",
     "exception": false,
     "start_time": "2025-01-29T05:38:44.862971",
     "status": "completed"
    },
    "tags": []
   },
   "outputs": [],
   "source": [
    "def initParam(model):\n",
    "    # Initialize weights using Xavier Normal\n",
    "    for i, layer in enumerate(model.layers):\n",
    "        if (isinstance(layer, LinearLayer)):\n",
    "            if (i<len(model.layers)-1):\n",
    "                nn.init.xavier_normal_(model.layers[i].weight, torch.nn.init.calculate_gain(\"relu\")) \n",
    "            else:\n",
    "                nn.init.xavier_normal_(model.layers[i].weight, torch.nn.init.calculate_gain(\"sigmoid\")) * 0.001\n",
    "            if layer.bias is not None:\n",
    "                nn.init.zeros_(model.layers[i].bias)\n",
    "\n",
    "initParam(model)"
   ]
  },
  {
   "cell_type": "code",
   "execution_count": 31,
   "id": "92de9547",
   "metadata": {
    "execution": {
     "iopub.execute_input": "2025-01-29T05:38:44.902539Z",
     "iopub.status.busy": "2025-01-29T05:38:44.902293Z",
     "iopub.status.idle": "2025-01-29T05:38:44.909013Z",
     "shell.execute_reply": "2025-01-29T05:38:44.908175Z"
    },
    "papermill": {
     "duration": 0.018546,
     "end_time": "2025-01-29T05:38:44.910308",
     "exception": false,
     "start_time": "2025-01-29T05:38:44.891762",
     "status": "completed"
    },
    "tags": []
   },
   "outputs": [
    {
     "name": "stdout",
     "output_type": "stream",
     "text": [
      "init loss: 0.6963831782341003\n"
     ]
    }
   ],
   "source": [
    "first_batch_pred_logits = model(first_batch_input)\n",
    "first_batch_pred_prob = torch.sigmoid(first_batch_pred_logits)  # Apply sigmoid for binary classification\n",
    "loss = bce_loss(first_batch_pred_prob, first_batch_label)\n",
    "print(f\"init loss: {loss.item()}\")"
   ]
  },
  {
   "cell_type": "code",
   "execution_count": 32,
   "id": "a7093995",
   "metadata": {
    "execution": {
     "iopub.execute_input": "2025-01-29T05:38:44.934235Z",
     "iopub.status.busy": "2025-01-29T05:38:44.933968Z",
     "iopub.status.idle": "2025-01-29T05:44:48.383953Z",
     "shell.execute_reply": "2025-01-29T05:44:48.383078Z"
    },
    "papermill": {
     "duration": 363.473453,
     "end_time": "2025-01-29T05:44:48.396049",
     "exception": false,
     "start_time": "2025-01-29T05:38:44.922596",
     "status": "completed"
    },
    "tags": []
   },
   "outputs": [
    {
     "name": "stdout",
     "output_type": "stream",
     "text": [
      "Epoch 100/500, Train Loss: -0.2950, Val Loss: -0.4000\n",
      "Epoch 200/500, Train Loss: -0.2951, Val Loss: -0.4016\n",
      "Epoch 300/500, Train Loss: -0.2951, Val Loss: -0.4019\n",
      "Epoch 400/500, Train Loss: -0.2952, Val Loss: -0.4020\n",
      "Epoch 500/500, Train Loss: -0.2953, Val Loss: -0.4020\n"
     ]
    }
   ],
   "source": [
    "# less lr rate since can overfit easily\n",
    "learning_rate = 1e-3\n",
    "# less epoch as can easily overfit\n",
    "num_epoch = 500\n",
    "\n",
    "lossi_train = []\n",
    "lossi_val = []\n",
    "\n",
    "total_samples = len(train_dataset)\n",
    "n_iter = math.ceil(total_samples / batch_size)\n",
    "\n",
    "optimizer = torch.optim.AdamW(model.parameters(), lr=learning_rate)\n",
    "bce_loss = nn.BCEWithLogitsLoss()\n",
    "output_grads = []\n",
    "\n",
    "model = model.to(device)\n",
    "\n",
    "runFirstBatch = False\n",
    "for epoch in range(num_epoch):\n",
    "    train_loss = 0    \n",
    "    for i, (inputs, labels) in enumerate(train_loader):        \n",
    "        # forward pass\n",
    "        # print(f\"inputs: {inputs}\")\n",
    "        # print(f\"labels: {labels}\")\n",
    "        inputs = inputs.to(device)\n",
    "        labels = labels.to(device)\n",
    "\n",
    "        # print(f\"inputs device: {inputs.device}, labels device: {labels.device}, model device: {[param.device for param in model.parameters()]}\")\n",
    "\n",
    "        # reset grad\n",
    "        optimizer.zero_grad()\n",
    "        \n",
    "        pred = model(inputs)\n",
    "        # print(f\"pred: {pred}\")\n",
    "\n",
    "        # calc loss\n",
    "        loss = bce_loss(pred, labels)\n",
    "\n",
    "        if (debug):\n",
    "            for layer in model.layers:\n",
    "                layer.output.retain_grad() # save gradients of non leaf tensors also\n",
    "        \n",
    "        # backward pass\n",
    "        loss.backward()\n",
    "        optimizer.step()\n",
    "\n",
    "        loss = loss.log10()\n",
    "        train_loss += loss.item()\n",
    "\n",
    "        # if (debug):\n",
    "             # break\n",
    "\n",
    "    # copied it to array since running with no grad will set grad to None\n",
    "    if (debug):\n",
    "        curr_grads = {}\n",
    "        for i, layer in enumerate(model.layers):\n",
    "            curr_grads[f\"{layer.__class__.__name__}: {i}\"] = layer.output.grad.clone()\n",
    "\n",
    "        output_grads.append(curr_grads)\n",
    "    \n",
    "    train_loss /= len(train_loader)\n",
    "    lossi_train.append(train_loss)\n",
    "\n",
    "    # validation phase\n",
    "    model.eval()\n",
    "    with torch.no_grad():  # Disable gradient computation for validation\n",
    "        val_loss = 0\n",
    "        \n",
    "        for inputs, labels in val_loader:\n",
    "            inputs = inputs.to(device)\n",
    "            labels = labels.to(device)\n",
    "            \n",
    "            pred = model(inputs)\n",
    "            \n",
    "            loss = bce_loss(pred, labels)\n",
    "            loss = loss.log10()\n",
    "            val_loss += loss.item()\n",
    "        \n",
    "        val_loss /= len(val_loader)\n",
    "        lossi_val.append(val_loss)\n",
    "        \n",
    "\n",
    "    # reset to train mode\n",
    "    model.train()\n",
    "\n",
    "    if ((epoch+1)%100==0):\n",
    "        print(f\"Epoch {epoch+1}/{num_epoch}, Train Loss: {train_loss:.4f}, Val Loss: {val_loss:.4f}\")\n",
    "\n",
    "    # if (debug):\n",
    "        # break"
   ]
  },
  {
   "cell_type": "code",
   "execution_count": 33,
   "id": "48f8b455",
   "metadata": {
    "execution": {
     "iopub.execute_input": "2025-01-29T05:44:48.418966Z",
     "iopub.status.busy": "2025-01-29T05:44:48.418716Z",
     "iopub.status.idle": "2025-01-29T05:44:48.626603Z",
     "shell.execute_reply": "2025-01-29T05:44:48.625923Z"
    },
    "papermill": {
     "duration": 0.221174,
     "end_time": "2025-01-29T05:44:48.627725",
     "exception": false,
     "start_time": "2025-01-29T05:44:48.406551",
     "status": "completed"
    },
    "tags": []
   },
   "outputs": [
    {
     "data": {
      "text/plain": [
       "[<matplotlib.lines.Line2D at 0x7f2bd00d0d60>]"
      ]
     },
     "execution_count": 33,
     "metadata": {},
     "output_type": "execute_result"
    },
    {
     "data": {
      "image/png": "[encoded data removed]",
      "text/plain": [
       "<Figure size 640x480 with 1 Axes>"
      ]
     },
     "metadata": {},
     "output_type": "display_data"
    }
   ],
   "source": [
    "plt.plot(lossi_train, color=\"blue\")\n",
    "plt.plot(lossi_val, color=\"red\")"
   ]
  },
  {
   "cell_type": "code",
   "execution_count": 34,
   "id": "de040b8a",
   "metadata": {
    "execution": {
     "iopub.execute_input": "2025-01-29T05:44:48.649944Z",
     "iopub.status.busy": "2025-01-29T05:44:48.649712Z",
     "iopub.status.idle": "2025-01-29T05:44:48.983031Z",
     "shell.execute_reply": "2025-01-29T05:44:48.982286Z"
    },
    "papermill": {
     "duration": 0.345822,
     "end_time": "2025-01-29T05:44:48.984420",
     "exception": false,
     "start_time": "2025-01-29T05:44:48.638598",
     "status": "completed"
    },
    "tags": []
   },
   "outputs": [
    {
     "name": "stdout",
     "output_type": "stream",
     "text": [
      "layer 0 (LinearLayer): mean +0.03, std 0.10, saturated: 0.00%\n",
      "layer 1 (LeakyReluLayer): mean +0.05, std 0.07, saturated: 0.00%\n",
      "layer 2 (LinearLayer): mean -0.74, std 1.11, saturated: 100.00%\n"
     ]
    },
    {
     "data": {
      "image/png": "[encoded data removed]",
      "text/plain": [
       "<Figure size 2000x400 with 1 Axes>"
      ]
     },
     "metadata": {},
     "output_type": "display_data"
    }
   ],
   "source": [
    "# visualize activations\n",
    "plt.figure(figsize=(20, 4))\n",
    "legends = []\n",
    "\n",
    "if (len(model.layers) > 1):\n",
    "    for i, layer in enumerate(model.layers): # exclude output layer\n",
    "        t = layer.output.cpu()\n",
    "        print('layer %d (%10s): mean %+.2f, std %.2f, saturated: %.2f%%' % (i, layer.__class__.__name__, t.mean(), t.std(), (t.abs() > 0.97).float().mean()*100))\n",
    "        hy, hx = torch.histogram(t, density=True)\n",
    "        plt.plot(hx[:-1].detach(), hy.detach())\n",
    "        legends.append(f'layer {i} ({layer.__class__.__name__})')\n",
    "    \n",
    "    plt.legend(legends)\n",
    "    plt.title(\"activation distribution\")"
   ]
  },
  {
   "cell_type": "code",
   "execution_count": 35,
   "id": "0f56afd4",
   "metadata": {
    "execution": {
     "iopub.execute_input": "2025-01-29T05:44:49.009432Z",
     "iopub.status.busy": "2025-01-29T05:44:49.009162Z",
     "iopub.status.idle": "2025-01-29T05:44:49.323803Z",
     "shell.execute_reply": "2025-01-29T05:44:49.322977Z"
    },
    "papermill": {
     "duration": 0.328214,
     "end_time": "2025-01-29T05:44:49.325207",
     "exception": false,
     "start_time": "2025-01-29T05:44:48.996993",
     "status": "completed"
    },
    "tags": []
   },
   "outputs": [
    {
     "name": "stdout",
     "output_type": "stream",
     "text": [
      "layer (LinearLayer: 0): mean -0.001136, std 4.391911e-03\n",
      "layer (LeakyReluLayer: 1): mean -0.000273, std 7.619034e-03\n",
      "layer (LinearLayer: 2): mean +0.009834, std 2.995608e-02\n"
     ]
    },
    {
     "data": {
      "image/png": "[encoded data removed]",
      "text/plain": [
       "<Figure size 2000x400 with 1 Axes>"
      ]
     },
     "metadata": {},
     "output_type": "display_data"
    }
   ],
   "source": [
    "# visualize histograms\n",
    "plt.figure(figsize=(20, 4)) # width and height of the plot\n",
    "legends = []\n",
    "\n",
    "if (len(model.layers) > 1):\n",
    "    for layer_name, layer_grad in output_grads[-1].items(): # note: exclude the output layer\n",
    "        t = layer_grad.cpu()\n",
    "        print('layer (%10s): mean %+f, std %e' % (layer_name, t.mean(), t.std()))\n",
    "        hy, hx = torch.histogram(t, density=True)\n",
    "        plt.plot(hx[:-1].detach(), hy.detach())\n",
    "        legends.append(f'{layer_name}')\n",
    "\n",
    "    plt.legend(legends);\n",
    "    plt.title('gradient distribution')"
   ]
  },
  {
   "cell_type": "code",
   "execution_count": 36,
   "id": "22634e62",
   "metadata": {
    "execution": {
     "iopub.execute_input": "2025-01-29T05:44:49.351025Z",
     "iopub.status.busy": "2025-01-29T05:44:49.350787Z",
     "iopub.status.idle": "2025-01-29T05:44:49.476215Z",
     "shell.execute_reply": "2025-01-29T05:44:49.475250Z"
    },
    "papermill": {
     "duration": 0.139583,
     "end_time": "2025-01-29T05:44:49.477451",
     "exception": false,
     "start_time": "2025-01-29T05:44:49.337868",
     "status": "completed"
    },
    "tags": []
   },
   "outputs": [
    {
     "name": "stdout",
     "output_type": "stream",
     "text": [
      "Test Accuracy: 81.11%\n"
     ]
    }
   ],
   "source": [
    "model.eval()  # Set model to evaluation mode\n",
    "\n",
    "# Accuracy calculation\n",
    "correct = 0\n",
    "total = 0\n",
    "\n",
    "with torch.no_grad():  # Disable gradient calculation\n",
    "    for inputs, labels in test_loader:\n",
    "        inputs = inputs.to(device)\n",
    "        labels = labels.to(device)\n",
    "        \n",
    "        outputs = model(inputs)\n",
    "        predictions = torch.sigmoid(outputs)  # Apply sigmoid for binary classification\n",
    "        predicted_classes = (predictions > 0.5).float()  # Convert to binary (0 or 1)\n",
    "        correct += (predicted_classes == labels).sum().item()\n",
    "        total += labels.size(0)\n",
    "\n",
    "accuracy = correct / total\n",
    "print(f\"Test Accuracy: {accuracy * 100:.2f}%\")"
   ]
  },
  {
   "cell_type": "code",
   "execution_count": 37,
   "id": "090c720e",
   "metadata": {
    "execution": {
     "iopub.execute_input": "2025-01-29T05:44:49.503038Z",
     "iopub.status.busy": "2025-01-29T05:44:49.502800Z",
     "iopub.status.idle": "2025-01-29T05:44:50.123158Z",
     "shell.execute_reply": "2025-01-29T05:44:50.122408Z"
    },
    "papermill": {
     "duration": 0.634481,
     "end_time": "2025-01-29T05:44:50.124373",
     "exception": false,
     "start_time": "2025-01-29T05:44:49.489892",
     "status": "completed"
    },
    "tags": []
   },
   "outputs": [
    {
     "name": "stdout",
     "output_type": "stream",
     "text": [
      "Train Accuracy: 77.67%\n"
     ]
    }
   ],
   "source": [
    "model.eval()  # Set model to evaluation mode\n",
    "\n",
    "# Accuracy calculation\n",
    "correct = 0\n",
    "total = 0\n",
    "\n",
    "with torch.no_grad():  # Disable gradient calculation\n",
    "    for inputs, labels in train_loader:\n",
    "        inputs = inputs.to(device)\n",
    "        labels = labels.to(device)\n",
    "        \n",
    "        outputs = model(inputs)\n",
    "        predictions = torch.sigmoid(outputs)  # Apply sigmoid for binary classification\n",
    "        predicted_classes = (predictions > 0.5).float()  # Convert to binary (0 or 1)\n",
    "        correct += (predicted_classes == labels).sum().item()\n",
    "        total += labels.size(0)\n",
    "\n",
    "accuracy = correct / total\n",
    "print(f\"Train Accuracy: {accuracy * 100:.2f}%\")"
   ]
  },
  {
   "cell_type": "markdown",
   "id": "38e7dbb5",
   "metadata": {
    "papermill": {
     "duration": 0.012027,
     "end_time": "2025-01-29T05:44:50.148847",
     "exception": false,
     "start_time": "2025-01-29T05:44:50.136820",
     "status": "completed"
    },
    "tags": []
   },
   "source": [
    "## Test"
   ]
  },
  {
   "cell_type": "code",
   "execution_count": 38,
   "id": "d66f9a5e",
   "metadata": {
    "execution": {
     "iopub.execute_input": "2025-01-29T05:44:50.174690Z",
     "iopub.status.busy": "2025-01-29T05:44:50.174437Z",
     "iopub.status.idle": "2025-01-29T05:44:50.201597Z",
     "shell.execute_reply": "2025-01-29T05:44:50.200773Z"
    },
    "papermill": {
     "duration": 0.041163,
     "end_time": "2025-01-29T05:44:50.202785",
     "exception": false,
     "start_time": "2025-01-29T05:44:50.161622",
     "status": "completed"
    },
    "tags": []
   },
   "outputs": [
    {
     "data": {
      "text/html": [
       "<div>\n",
       "<style scoped>\n",
       "    .dataframe tbody tr th:only-of-type {\n",
       "        vertical-align: middle;\n",
       "    }\n",
       "\n",
       "    .dataframe tbody tr th {\n",
       "        vertical-align: top;\n",
       "    }\n",
       "\n",
       "    .dataframe thead th {\n",
       "        text-align: right;\n",
       "    }\n",
       "</style>\n",
       "<table border=\"1\" class=\"dataframe\">\n",
       "  <thead>\n",
       "    <tr style=\"text-align: right;\">\n",
       "      <th></th>\n",
       "      <th>PassengerId</th>\n",
       "      <th>Pclass</th>\n",
       "      <th>Name</th>\n",
       "      <th>Sex</th>\n",
       "      <th>Age</th>\n",
       "      <th>SibSp</th>\n",
       "      <th>Parch</th>\n",
       "      <th>Ticket</th>\n",
       "      <th>Fare</th>\n",
       "      <th>Cabin</th>\n",
       "      <th>Embarked</th>\n",
       "    </tr>\n",
       "  </thead>\n",
       "  <tbody>\n",
       "    <tr>\n",
       "      <th>0</th>\n",
       "      <td>892</td>\n",
       "      <td>3</td>\n",
       "      <td>Kelly, Mr. James</td>\n",
       "      <td>male</td>\n",
       "      <td>34.5</td>\n",
       "      <td>0</td>\n",
       "      <td>0</td>\n",
       "      <td>330911</td>\n",
       "      <td>7.8292</td>\n",
       "      <td>NaN</td>\n",
       "      <td>Q</td>\n",
       "    </tr>\n",
       "    <tr>\n",
       "      <th>1</th>\n",
       "      <td>893</td>\n",
       "      <td>3</td>\n",
       "      <td>Wilkes, Mrs. James (Ellen Needs)</td>\n",
       "      <td>female</td>\n",
       "      <td>47.0</td>\n",
       "      <td>1</td>\n",
       "      <td>0</td>\n",
       "      <td>363272</td>\n",
       "      <td>7.0000</td>\n",
       "      <td>NaN</td>\n",
       "      <td>S</td>\n",
       "    </tr>\n",
       "    <tr>\n",
       "      <th>2</th>\n",
       "      <td>894</td>\n",
       "      <td>2</td>\n",
       "      <td>Myles, Mr. Thomas Francis</td>\n",
       "      <td>male</td>\n",
       "      <td>62.0</td>\n",
       "      <td>0</td>\n",
       "      <td>0</td>\n",
       "      <td>240276</td>\n",
       "      <td>9.6875</td>\n",
       "      <td>NaN</td>\n",
       "      <td>Q</td>\n",
       "    </tr>\n",
       "    <tr>\n",
       "      <th>3</th>\n",
       "      <td>895</td>\n",
       "      <td>3</td>\n",
       "      <td>Wirz, Mr. Albert</td>\n",
       "      <td>male</td>\n",
       "      <td>27.0</td>\n",
       "      <td>0</td>\n",
       "      <td>0</td>\n",
       "      <td>315154</td>\n",
       "      <td>8.6625</td>\n",
       "      <td>NaN</td>\n",
       "      <td>S</td>\n",
       "    </tr>\n",
       "    <tr>\n",
       "      <th>4</th>\n",
       "      <td>896</td>\n",
       "      <td>3</td>\n",
       "      <td>Hirvonen, Mrs. Alexander (Helga E Lindqvist)</td>\n",
       "      <td>female</td>\n",
       "      <td>22.0</td>\n",
       "      <td>1</td>\n",
       "      <td>1</td>\n",
       "      <td>3101298</td>\n",
       "      <td>12.2875</td>\n",
       "      <td>NaN</td>\n",
       "      <td>S</td>\n",
       "    </tr>\n",
       "    <tr>\n",
       "      <th>5</th>\n",
       "      <td>897</td>\n",
       "      <td>3</td>\n",
       "      <td>Svensson, Mr. Johan Cervin</td>\n",
       "      <td>male</td>\n",
       "      <td>14.0</td>\n",
       "      <td>0</td>\n",
       "      <td>0</td>\n",
       "      <td>7538</td>\n",
       "      <td>9.2250</td>\n",
       "      <td>NaN</td>\n",
       "      <td>S</td>\n",
       "    </tr>\n",
       "    <tr>\n",
       "      <th>6</th>\n",
       "      <td>898</td>\n",
       "      <td>3</td>\n",
       "      <td>Connolly, Miss. Kate</td>\n",
       "      <td>female</td>\n",
       "      <td>30.0</td>\n",
       "      <td>0</td>\n",
       "      <td>0</td>\n",
       "      <td>330972</td>\n",
       "      <td>7.6292</td>\n",
       "      <td>NaN</td>\n",
       "      <td>Q</td>\n",
       "    </tr>\n",
       "    <tr>\n",
       "      <th>7</th>\n",
       "      <td>899</td>\n",
       "      <td>2</td>\n",
       "      <td>Caldwell, Mr. Albert Francis</td>\n",
       "      <td>male</td>\n",
       "      <td>26.0</td>\n",
       "      <td>1</td>\n",
       "      <td>1</td>\n",
       "      <td>248738</td>\n",
       "      <td>29.0000</td>\n",
       "      <td>NaN</td>\n",
       "      <td>S</td>\n",
       "    </tr>\n",
       "    <tr>\n",
       "      <th>8</th>\n",
       "      <td>900</td>\n",
       "      <td>3</td>\n",
       "      <td>Abrahim, Mrs. Joseph (Sophie Halaut Easu)</td>\n",
       "      <td>female</td>\n",
       "      <td>18.0</td>\n",
       "      <td>0</td>\n",
       "      <td>0</td>\n",
       "      <td>2657</td>\n",
       "      <td>7.2292</td>\n",
       "      <td>NaN</td>\n",
       "      <td>C</td>\n",
       "    </tr>\n",
       "    <tr>\n",
       "      <th>9</th>\n",
       "      <td>901</td>\n",
       "      <td>3</td>\n",
       "      <td>Davies, Mr. John Samuel</td>\n",
       "      <td>male</td>\n",
       "      <td>21.0</td>\n",
       "      <td>2</td>\n",
       "      <td>0</td>\n",
       "      <td>A/4 48871</td>\n",
       "      <td>24.1500</td>\n",
       "      <td>NaN</td>\n",
       "      <td>S</td>\n",
       "    </tr>\n",
       "  </tbody>\n",
       "</table>\n",
       "</div>"
      ],
      "text/plain": [
       "   PassengerId  Pclass                                          Name     Sex  \\\n",
       "0          892       3                              Kelly, Mr. James    male   \n",
       "1          893       3              Wilkes, Mrs. James (Ellen Needs)  female   \n",
       "2          894       2                     Myles, Mr. Thomas Francis    male   \n",
       "3          895       3                              Wirz, Mr. Albert    male   \n",
       "4          896       3  Hirvonen, Mrs. Alexander (Helga E Lindqvist)  female   \n",
       "5          897       3                    Svensson, Mr. Johan Cervin    male   \n",
       "6          898       3                          Connolly, Miss. Kate  female   \n",
       "7          899       2                  Caldwell, Mr. Albert Francis    male   \n",
       "8          900       3     Abrahim, Mrs. Joseph (Sophie Halaut Easu)  female   \n",
       "9          901       3                       Davies, Mr. John Samuel    male   \n",
       "\n",
       "    Age  SibSp  Parch     Ticket     Fare Cabin Embarked  \n",
       "0  34.5      0      0     330911   7.8292   NaN        Q  \n",
       "1  47.0      1      0     363272   7.0000   NaN        S  \n",
       "2  62.0      0      0     240276   9.6875   NaN        Q  \n",
       "3  27.0      0      0     315154   8.6625   NaN        S  \n",
       "4  22.0      1      1    3101298  12.2875   NaN        S  \n",
       "5  14.0      0      0       7538   9.2250   NaN        S  \n",
       "6  30.0      0      0     330972   7.6292   NaN        Q  \n",
       "7  26.0      1      1     248738  29.0000   NaN        S  \n",
       "8  18.0      0      0       2657   7.2292   NaN        C  \n",
       "9  21.0      2      0  A/4 48871  24.1500   NaN        S  "
      ]
     },
     "execution_count": 38,
     "metadata": {},
     "output_type": "execute_result"
    }
   ],
   "source": [
    "test_df = pd.read_csv(\"/kaggle/input/titanic/test.csv\")\n",
    "test_df.head(10)"
   ]
  },
  {
   "cell_type": "code",
   "execution_count": 39,
   "id": "a316b1c5",
   "metadata": {
    "execution": {
     "iopub.execute_input": "2025-01-29T05:44:50.228758Z",
     "iopub.status.busy": "2025-01-29T05:44:50.228545Z",
     "iopub.status.idle": "2025-01-29T05:44:50.232693Z",
     "shell.execute_reply": "2025-01-29T05:44:50.232048Z"
    },
    "papermill": {
     "duration": 0.018517,
     "end_time": "2025-01-29T05:44:50.233895",
     "exception": false,
     "start_time": "2025-01-29T05:44:50.215378",
     "status": "completed"
    },
    "tags": []
   },
   "outputs": [
    {
     "data": {
      "text/plain": [
       "418"
      ]
     },
     "execution_count": 39,
     "metadata": {},
     "output_type": "execute_result"
    }
   ],
   "source": [
    "len(test_df)"
   ]
  },
  {
   "cell_type": "code",
   "execution_count": 40,
   "id": "7777900c",
   "metadata": {
    "execution": {
     "iopub.execute_input": "2025-01-29T05:44:50.260110Z",
     "iopub.status.busy": "2025-01-29T05:44:50.259911Z",
     "iopub.status.idle": "2025-01-29T05:44:50.269801Z",
     "shell.execute_reply": "2025-01-29T05:44:50.269000Z"
    },
    "papermill": {
     "duration": 0.024564,
     "end_time": "2025-01-29T05:44:50.271092",
     "exception": false,
     "start_time": "2025-01-29T05:44:50.246528",
     "status": "completed"
    },
    "tags": []
   },
   "outputs": [
    {
     "data": {
      "text/plain": [
       "(tensor([0.0000, 0.2300]), tensor([]))"
      ]
     },
     "execution_count": 40,
     "metadata": {},
     "output_type": "execute_result"
    }
   ],
   "source": [
    "csv_file = \"/kaggle/input/titanic/test.csv\"\n",
    "target_col_list = []\n",
    "\n",
    "transforms = torchvision.transforms.Compose([SexToNum(), NormalizeAge(minAge, maxAge), ConvertNumpyArrToFloat32()])\n",
    "\n",
    "final_test_dataset = CSVDataset(csv_file, features_col_list, target_col_list, transform=transforms, dropNa=True)\n",
    "final_test_dataset[0]"
   ]
  },
  {
   "cell_type": "code",
   "execution_count": 41,
   "id": "c3311f4c",
   "metadata": {
    "execution": {
     "iopub.execute_input": "2025-01-29T05:44:50.296997Z",
     "iopub.status.busy": "2025-01-29T05:44:50.296787Z",
     "iopub.status.idle": "2025-01-29T05:44:50.300826Z",
     "shell.execute_reply": "2025-01-29T05:44:50.300238Z"
    },
    "papermill": {
     "duration": 0.018167,
     "end_time": "2025-01-29T05:44:50.301880",
     "exception": false,
     "start_time": "2025-01-29T05:44:50.283713",
     "status": "completed"
    },
    "tags": []
   },
   "outputs": [
    {
     "data": {
      "text/plain": [
       "418"
      ]
     },
     "execution_count": 41,
     "metadata": {},
     "output_type": "execute_result"
    }
   ],
   "source": [
    "len(final_test_dataset)"
   ]
  },
  {
   "cell_type": "code",
   "execution_count": 42,
   "id": "f5487a97",
   "metadata": {
    "execution": {
     "iopub.execute_input": "2025-01-29T05:44:50.328053Z",
     "iopub.status.busy": "2025-01-29T05:44:50.327855Z",
     "iopub.status.idle": "2025-01-29T05:44:50.804654Z",
     "shell.execute_reply": "2025-01-29T05:44:50.804041Z"
    },
    "papermill": {
     "duration": 0.491452,
     "end_time": "2025-01-29T05:44:50.806030",
     "exception": false,
     "start_time": "2025-01-29T05:44:50.314578",
     "status": "completed"
    },
    "tags": []
   },
   "outputs": [],
   "source": [
    "final_test_loader = DataLoader(final_test_dataset, shuffle=False)\n",
    "\n",
    "pred = []\n",
    "with torch.no_grad():  # Disable gradient calculation\n",
    "    for inputs, labels in final_test_loader:\n",
    "        inputs = inputs.to(device)\n",
    "    \n",
    "        outputs = model(inputs)\n",
    "        predictions = torch.sigmoid(outputs)  # Apply sigmoid for binary classification\n",
    "        predicted_classes = (predictions > 0.5).float()  # Convert to binary (0 or 1)\n",
    "\n",
    "        pred.append(int(predicted_classes.item()))"
   ]
  },
  {
   "cell_type": "code",
   "execution_count": 43,
   "id": "ed9bb96e",
   "metadata": {
    "execution": {
     "iopub.execute_input": "2025-01-29T05:44:50.832679Z",
     "iopub.status.busy": "2025-01-29T05:44:50.832462Z",
     "iopub.status.idle": "2025-01-29T05:44:50.836626Z",
     "shell.execute_reply": "2025-01-29T05:44:50.835828Z"
    },
    "papermill": {
     "duration": 0.018842,
     "end_time": "2025-01-29T05:44:50.837846",
     "exception": false,
     "start_time": "2025-01-29T05:44:50.819004",
     "status": "completed"
    },
    "tags": []
   },
   "outputs": [
    {
     "data": {
      "text/plain": [
       "418"
      ]
     },
     "execution_count": 43,
     "metadata": {},
     "output_type": "execute_result"
    }
   ],
   "source": [
    "len(final_test_loader)"
   ]
  },
  {
   "cell_type": "code",
   "execution_count": 44,
   "id": "2dc25cd4",
   "metadata": {
    "execution": {
     "iopub.execute_input": "2025-01-29T05:44:50.864694Z",
     "iopub.status.busy": "2025-01-29T05:44:50.864464Z",
     "iopub.status.idle": "2025-01-29T05:44:50.870885Z",
     "shell.execute_reply": "2025-01-29T05:44:50.870337Z"
    },
    "papermill": {
     "duration": 0.021003,
     "end_time": "2025-01-29T05:44:50.872012",
     "exception": false,
     "start_time": "2025-01-29T05:44:50.851009",
     "status": "completed"
    },
    "tags": []
   },
   "outputs": [],
   "source": [
    "pred_df = pd.DataFrame(pred, columns=[\"Survived\"])\n",
    "pred_df[\"PassengerId\"] = test_df[\"PassengerId\"]\n",
    "pred_df.to_csv(\"pred.csv\", index=False)"
   ]
  },
  {
   "cell_type": "code",
   "execution_count": 45,
   "id": "a55b2b0c",
   "metadata": {
    "execution": {
     "iopub.execute_input": "2025-01-29T05:44:50.898695Z",
     "iopub.status.busy": "2025-01-29T05:44:50.898491Z",
     "iopub.status.idle": "2025-01-29T05:44:50.904420Z",
     "shell.execute_reply": "2025-01-29T05:44:50.903622Z"
    },
    "papermill": {
     "duration": 0.020659,
     "end_time": "2025-01-29T05:44:50.905673",
     "exception": false,
     "start_time": "2025-01-29T05:44:50.885014",
     "status": "completed"
    },
    "tags": []
   },
   "outputs": [
    {
     "data": {
      "text/html": [
       "<div>\n",
       "<style scoped>\n",
       "    .dataframe tbody tr th:only-of-type {\n",
       "        vertical-align: middle;\n",
       "    }\n",
       "\n",
       "    .dataframe tbody tr th {\n",
       "        vertical-align: top;\n",
       "    }\n",
       "\n",
       "    .dataframe thead th {\n",
       "        text-align: right;\n",
       "    }\n",
       "</style>\n",
       "<table border=\"1\" class=\"dataframe\">\n",
       "  <thead>\n",
       "    <tr style=\"text-align: right;\">\n",
       "      <th></th>\n",
       "      <th>Survived</th>\n",
       "      <th>PassengerId</th>\n",
       "    </tr>\n",
       "  </thead>\n",
       "  <tbody>\n",
       "    <tr>\n",
       "      <th>0</th>\n",
       "      <td>0</td>\n",
       "      <td>892</td>\n",
       "    </tr>\n",
       "    <tr>\n",
       "      <th>1</th>\n",
       "      <td>1</td>\n",
       "      <td>893</td>\n",
       "    </tr>\n",
       "    <tr>\n",
       "      <th>2</th>\n",
       "      <td>0</td>\n",
       "      <td>894</td>\n",
       "    </tr>\n",
       "    <tr>\n",
       "      <th>3</th>\n",
       "      <td>0</td>\n",
       "      <td>895</td>\n",
       "    </tr>\n",
       "    <tr>\n",
       "      <th>4</th>\n",
       "      <td>1</td>\n",
       "      <td>896</td>\n",
       "    </tr>\n",
       "  </tbody>\n",
       "</table>\n",
       "</div>"
      ],
      "text/plain": [
       "   Survived  PassengerId\n",
       "0         0          892\n",
       "1         1          893\n",
       "2         0          894\n",
       "3         0          895\n",
       "4         1          896"
      ]
     },
     "execution_count": 45,
     "metadata": {},
     "output_type": "execute_result"
    }
   ],
   "source": [
    "pred_df.head()"
   ]
  }
 ],
 "metadata": {
  "kaggle": {
   "accelerator": "nvidiaTeslaT4",
   "dataSources": [
    {
     "databundleVersionId": 26502,
     "sourceId": 3136,
     "sourceType": "competition"
    }
   ],
   "dockerImageVersionId": 30822,
   "isGpuEnabled": true,
   "isInternetEnabled": true,
   "language": "python",
   "sourceType": "notebook"
  },
  "kernelspec": {
   "display_name": "Python 3",
   "language": "python",
   "name": "python3"
  },
  "language_info": {
   "codemirror_mode": {
    "name": "ipython",
    "version": 3
   },
   "file_extension": ".py",
   "mimetype": "text/x-python",
   "name": "python",
   "nbconvert_exporter": "python",
   "pygments_lexer": "ipython3",
   "version": "3.10.12"
  },
  "papermill": {
   "default_parameters": {},
   "duration": 382.17467,
   "end_time": "2025-01-29T05:44:52.339014",
   "environment_variables": {},
   "exception": null,
   "input_path": "__notebook__.ipynb",
   "output_path": "__notebook__.ipynb",
   "parameters": {},
   "start_time": "2025-01-29T05:38:30.164344",
   "version": "2.6.0"
  }
 },
 "nbformat": 4,
 "nbformat_minor": 5
}
