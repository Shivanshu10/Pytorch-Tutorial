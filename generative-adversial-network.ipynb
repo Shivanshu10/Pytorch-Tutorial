{
 "cells": [
  {
   "cell_type": "code",
   "execution_count": 1,
   "id": "068981a5",
   "metadata": {
    "_cell_guid": "b1076dfc-b9ad-4769-8c92-a6c4dae69d19",
    "_uuid": "8f2839f25d086af736a60e9eeb907d3b93b6e0e5",
    "execution": {
     "iopub.execute_input": "2025-03-02T10:16:14.496173Z",
     "iopub.status.busy": "2025-03-02T10:16:14.495828Z",
     "iopub.status.idle": "2025-03-02T10:16:21.822857Z",
     "shell.execute_reply": "2025-03-02T10:16:21.822156Z"
    },
    "papermill": {
     "duration": 7.334239,
     "end_time": "2025-03-02T10:16:21.824597",
     "exception": false,
     "start_time": "2025-03-02T10:16:14.490358",
     "status": "completed"
    },
    "tags": []
   },
   "outputs": [],
   "source": [
    "import torch\n",
    "import torch.nn as nn\n",
    "import torchvision\n",
    "from torchvision import transforms"
   ]
  },
  {
   "cell_type": "code",
   "execution_count": 2,
   "id": "bb30b137",
   "metadata": {
    "execution": {
     "iopub.execute_input": "2025-03-02T10:16:21.833539Z",
     "iopub.status.busy": "2025-03-02T10:16:21.833207Z",
     "iopub.status.idle": "2025-03-02T10:16:21.836353Z",
     "shell.execute_reply": "2025-03-02T10:16:21.835768Z"
    },
    "papermill": {
     "duration": 0.008775,
     "end_time": "2025-03-02T10:16:21.837561",
     "exception": false,
     "start_time": "2025-03-02T10:16:21.828786",
     "status": "completed"
    },
    "tags": []
   },
   "outputs": [],
   "source": [
    "mnist_transform = transforms.Compose([\n",
    "    transforms.ToTensor(),\n",
    "])"
   ]
  },
  {
   "cell_type": "code",
   "execution_count": 3,
   "id": "11a68a1f",
   "metadata": {
    "execution": {
     "iopub.execute_input": "2025-03-02T10:16:21.845523Z",
     "iopub.status.busy": "2025-03-02T10:16:21.845329Z",
     "iopub.status.idle": "2025-03-02T10:16:33.087523Z",
     "shell.execute_reply": "2025-03-02T10:16:33.086432Z"
    },
    "papermill": {
     "duration": 11.247705,
     "end_time": "2025-03-02T10:16:33.089015",
     "exception": false,
     "start_time": "2025-03-02T10:16:21.841310",
     "status": "completed"
    },
    "tags": []
   },
   "outputs": [
    {
     "name": "stdout",
     "output_type": "stream",
     "text": [
      "Downloading http://yann.lecun.com/exdb/mnist/train-images-idx3-ubyte.gz\n",
      "Failed to download (trying next):\n",
      "HTTP Error 404: Not Found\n",
      "\n",
      "Downloading https://ossci-datasets.s3.amazonaws.com/mnist/train-images-idx3-ubyte.gz\n",
      "Downloading https://ossci-datasets.s3.amazonaws.com/mnist/train-images-idx3-ubyte.gz to ./MNIST/raw/train-images-idx3-ubyte.gz\n"
     ]
    },
    {
     "name": "stderr",
     "output_type": "stream",
     "text": [
      "100%|██████████| 9.91M/9.91M [00:01<00:00, 5.65MB/s]\n"
     ]
    },
    {
     "name": "stdout",
     "output_type": "stream",
     "text": [
      "Extracting ./MNIST/raw/train-images-idx3-ubyte.gz to ./MNIST/raw\n",
      "\n",
      "Downloading http://yann.lecun.com/exdb/mnist/train-labels-idx1-ubyte.gz\n",
      "Failed to download (trying next):\n",
      "HTTP Error 404: Not Found\n",
      "\n",
      "Downloading https://ossci-datasets.s3.amazonaws.com/mnist/train-labels-idx1-ubyte.gz\n",
      "Downloading https://ossci-datasets.s3.amazonaws.com/mnist/train-labels-idx1-ubyte.gz to ./MNIST/raw/train-labels-idx1-ubyte.gz\n"
     ]
    },
    {
     "name": "stderr",
     "output_type": "stream",
     "text": [
      "100%|██████████| 28.9k/28.9k [00:00<00:00, 148kB/s]\n"
     ]
    },
    {
     "name": "stdout",
     "output_type": "stream",
     "text": [
      "Extracting ./MNIST/raw/train-labels-idx1-ubyte.gz to ./MNIST/raw\n",
      "\n",
      "Downloading http://yann.lecun.com/exdb/mnist/t10k-images-idx3-ubyte.gz\n",
      "Failed to download (trying next):\n",
      "HTTP Error 404: Not Found\n",
      "\n",
      "Downloading https://ossci-datasets.s3.amazonaws.com/mnist/t10k-images-idx3-ubyte.gz\n",
      "Downloading https://ossci-datasets.s3.amazonaws.com/mnist/t10k-images-idx3-ubyte.gz to ./MNIST/raw/t10k-images-idx3-ubyte.gz\n"
     ]
    },
    {
     "name": "stderr",
     "output_type": "stream",
     "text": [
      "100%|██████████| 1.65M/1.65M [00:01<00:00, 1.40MB/s]\n"
     ]
    },
    {
     "name": "stdout",
     "output_type": "stream",
     "text": [
      "Extracting ./MNIST/raw/t10k-images-idx3-ubyte.gz to ./MNIST/raw\n",
      "\n",
      "Downloading http://yann.lecun.com/exdb/mnist/t10k-labels-idx1-ubyte.gz\n",
      "Failed to download (trying next):\n",
      "HTTP Error 404: Not Found\n",
      "\n",
      "Downloading https://ossci-datasets.s3.amazonaws.com/mnist/t10k-labels-idx1-ubyte.gz\n",
      "Downloading https://ossci-datasets.s3.amazonaws.com/mnist/t10k-labels-idx1-ubyte.gz to ./MNIST/raw/t10k-labels-idx1-ubyte.gz\n"
     ]
    },
    {
     "name": "stderr",
     "output_type": "stream",
     "text": [
      "100%|██████████| 4.54k/4.54k [00:00<00:00, 5.85MB/s]"
     ]
    },
    {
     "name": "stdout",
     "output_type": "stream",
     "text": [
      "Extracting ./MNIST/raw/t10k-labels-idx1-ubyte.gz to ./MNIST/raw\n",
      "\n"
     ]
    },
    {
     "name": "stderr",
     "output_type": "stream",
     "text": [
      "\n"
     ]
    }
   ],
   "source": [
    "mnist_train = torchvision.datasets.MNIST(\".\", train=True, download=True, transform=mnist_transform)\n",
    "mnist_test = torchvision.datasets.MNIST(\".\", train=False, download=True, transform=mnist_transform)"
   ]
  },
  {
   "cell_type": "code",
   "execution_count": 4,
   "id": "92dfcbaf",
   "metadata": {
    "execution": {
     "iopub.execute_input": "2025-03-02T10:16:33.101441Z",
     "iopub.status.busy": "2025-03-02T10:16:33.101170Z",
     "iopub.status.idle": "2025-03-02T10:16:33.104523Z",
     "shell.execute_reply": "2025-03-02T10:16:33.103717Z"
    },
    "papermill": {
     "duration": 0.010713,
     "end_time": "2025-03-02T10:16:33.105749",
     "exception": false,
     "start_time": "2025-03-02T10:16:33.095036",
     "status": "completed"
    },
    "tags": []
   },
   "outputs": [],
   "source": [
    "from torch.utils.data import random_split"
   ]
  },
  {
   "cell_type": "code",
   "execution_count": 5,
   "id": "20ec2041",
   "metadata": {
    "execution": {
     "iopub.execute_input": "2025-03-02T10:16:33.117874Z",
     "iopub.status.busy": "2025-03-02T10:16:33.117640Z",
     "iopub.status.idle": "2025-03-02T10:16:33.136751Z",
     "shell.execute_reply": "2025-03-02T10:16:33.136047Z"
    },
    "papermill": {
     "duration": 0.026579,
     "end_time": "2025-03-02T10:16:33.138048",
     "exception": false,
     "start_time": "2025-03-02T10:16:33.111469",
     "status": "completed"
    },
    "tags": []
   },
   "outputs": [],
   "source": [
    "# Define split ratios\n",
    "train_size = int(0.8 * len(mnist_train))\n",
    "val_size = int(0.2 * len(mnist_train))\n",
    "\n",
    "# Split dataset\n",
    "train_dataset, val_dataset = random_split(mnist_train, [train_size, val_size])"
   ]
  },
  {
   "cell_type": "code",
   "execution_count": 6,
   "id": "37006b40",
   "metadata": {
    "execution": {
     "iopub.execute_input": "2025-03-02T10:16:33.151527Z",
     "iopub.status.busy": "2025-03-02T10:16:33.151301Z",
     "iopub.status.idle": "2025-03-02T10:16:33.154567Z",
     "shell.execute_reply": "2025-03-02T10:16:33.153735Z"
    },
    "papermill": {
     "duration": 0.010659,
     "end_time": "2025-03-02T10:16:33.155854",
     "exception": false,
     "start_time": "2025-03-02T10:16:33.145195",
     "status": "completed"
    },
    "tags": []
   },
   "outputs": [],
   "source": [
    "from torch.utils.data import DataLoader"
   ]
  },
  {
   "cell_type": "code",
   "execution_count": 7,
   "id": "2276b42e",
   "metadata": {
    "execution": {
     "iopub.execute_input": "2025-03-02T10:16:33.167742Z",
     "iopub.status.busy": "2025-03-02T10:16:33.167537Z",
     "iopub.status.idle": "2025-03-02T10:16:33.171391Z",
     "shell.execute_reply": "2025-03-02T10:16:33.170714Z"
    },
    "papermill": {
     "duration": 0.010945,
     "end_time": "2025-03-02T10:16:33.172465",
     "exception": false,
     "start_time": "2025-03-02T10:16:33.161520",
     "status": "completed"
    },
    "tags": []
   },
   "outputs": [],
   "source": [
    "batch_size = 32\n",
    "\n",
    "train_loader = DataLoader(train_dataset, batch_size=batch_size, shuffle=True)\n",
    "val_loader = DataLoader(val_dataset, batch_size=batch_size, shuffle=True)\n",
    "\n",
    "pred_loader = DataLoader(mnist_test, batch_size=batch_size, shuffle=True)"
   ]
  },
  {
   "cell_type": "code",
   "execution_count": 8,
   "id": "23257aeb",
   "metadata": {
    "execution": {
     "iopub.execute_input": "2025-03-02T10:16:33.187342Z",
     "iopub.status.busy": "2025-03-02T10:16:33.187135Z",
     "iopub.status.idle": "2025-03-02T10:16:33.237914Z",
     "shell.execute_reply": "2025-03-02T10:16:33.237145Z"
    },
    "papermill": {
     "duration": 0.061196,
     "end_time": "2025-03-02T10:16:33.239150",
     "exception": false,
     "start_time": "2025-03-02T10:16:33.177954",
     "status": "completed"
    },
    "tags": []
   },
   "outputs": [
    {
     "name": "stdout",
     "output_type": "stream",
     "text": [
      "Using device: cuda\n"
     ]
    }
   ],
   "source": [
    "device = torch.device(\"cuda\" if torch.cuda.is_available() else \"cpu\")\n",
    "print(f\"Using device: {device}\")"
   ]
  },
  {
   "cell_type": "code",
   "execution_count": 9,
   "id": "7360b451",
   "metadata": {
    "execution": {
     "iopub.execute_input": "2025-03-02T10:16:33.251001Z",
     "iopub.status.busy": "2025-03-02T10:16:33.250789Z",
     "iopub.status.idle": "2025-03-02T10:16:33.255230Z",
     "shell.execute_reply": "2025-03-02T10:16:33.254456Z"
    },
    "papermill": {
     "duration": 0.011645,
     "end_time": "2025-03-02T10:16:33.256508",
     "exception": false,
     "start_time": "2025-03-02T10:16:33.244863",
     "status": "completed"
    },
    "tags": []
   },
   "outputs": [],
   "source": [
    "class Generator(nn.Module):\n",
    "    def __init__(self, dropout_prob=0.1):\n",
    "        super().__init__()\n",
    "\n",
    "        self.layers = nn.ModuleList([\n",
    "            nn.Flatten(),\n",
    "            \n",
    "            nn.Linear(28*28, 1200),\n",
    "            nn.ReLU(),\n",
    "            nn.Dropout(dropout_prob),\n",
    "\n",
    "            nn.Linear(1200, 1200),\n",
    "            nn.ReLU(),\n",
    "            nn.Dropout(dropout_prob),\n",
    "\n",
    "            nn.Linear(1200, 28*28)\n",
    "        ])\n",
    "\n",
    "    def forward(self, x):\n",
    "        for layer in self.layers:\n",
    "            x = layer(x)\n",
    "        return x"
   ]
  },
  {
   "cell_type": "code",
   "execution_count": 10,
   "id": "09b86122",
   "metadata": {
    "execution": {
     "iopub.execute_input": "2025-03-02T10:16:33.268005Z",
     "iopub.status.busy": "2025-03-02T10:16:33.267799Z",
     "iopub.status.idle": "2025-03-02T10:16:33.302676Z",
     "shell.execute_reply": "2025-03-02T10:16:33.302129Z"
    },
    "papermill": {
     "duration": 0.041964,
     "end_time": "2025-03-02T10:16:33.303881",
     "exception": false,
     "start_time": "2025-03-02T10:16:33.261917",
     "status": "completed"
    },
    "tags": []
   },
   "outputs": [],
   "source": [
    "generator = Generator(dropout_prob=0.3)"
   ]
  },
  {
   "cell_type": "code",
   "execution_count": 11,
   "id": "2812c7ca",
   "metadata": {
    "execution": {
     "iopub.execute_input": "2025-03-02T10:16:33.315761Z",
     "iopub.status.busy": "2025-03-02T10:16:33.315561Z",
     "iopub.status.idle": "2025-03-02T10:16:33.319910Z",
     "shell.execute_reply": "2025-03-02T10:16:33.319197Z"
    },
    "papermill": {
     "duration": 0.011693,
     "end_time": "2025-03-02T10:16:33.321119",
     "exception": false,
     "start_time": "2025-03-02T10:16:33.309426",
     "status": "completed"
    },
    "tags": []
   },
   "outputs": [],
   "source": [
    "class Adversial(nn.Module):\n",
    "    def __init__(self, dropout_prob=0.1):\n",
    "        super().__init__()\n",
    "\n",
    "        self.layers = nn.ModuleList([\n",
    "            nn.Flatten(),\n",
    "            \n",
    "            nn.Linear(28*28, 1200),\n",
    "            nn.ReLU(),\n",
    "            nn.Dropout(dropout_prob),\n",
    "\n",
    "            nn.Linear(1200, 1200),\n",
    "            nn.ReLU(),\n",
    "            nn.Dropout(dropout_prob),\n",
    "\n",
    "            nn.Linear(1200, 1)\n",
    "        ])\n",
    "\n",
    "    def forward(self, x):\n",
    "        for layer in self.layers:\n",
    "            x = layer(x)\n",
    "        return x"
   ]
  },
  {
   "cell_type": "code",
   "execution_count": 12,
   "id": "d8a95193",
   "metadata": {
    "execution": {
     "iopub.execute_input": "2025-03-02T10:16:33.332726Z",
     "iopub.status.busy": "2025-03-02T10:16:33.332523Z",
     "iopub.status.idle": "2025-03-02T10:16:33.355212Z",
     "shell.execute_reply": "2025-03-02T10:16:33.354566Z"
    },
    "papermill": {
     "duration": 0.029754,
     "end_time": "2025-03-02T10:16:33.356374",
     "exception": false,
     "start_time": "2025-03-02T10:16:33.326620",
     "status": "completed"
    },
    "tags": []
   },
   "outputs": [],
   "source": [
    "adv = Adversial(dropout_prob=0.3)"
   ]
  },
  {
   "cell_type": "code",
   "execution_count": 13,
   "id": "30cb1e90",
   "metadata": {
    "execution": {
     "iopub.execute_input": "2025-03-02T10:16:33.368125Z",
     "iopub.status.busy": "2025-03-02T10:16:33.367867Z",
     "iopub.status.idle": "2025-03-02T10:16:33.372723Z",
     "shell.execute_reply": "2025-03-02T10:16:33.372123Z"
    },
    "papermill": {
     "duration": 0.012005,
     "end_time": "2025-03-02T10:16:33.373890",
     "exception": false,
     "start_time": "2025-03-02T10:16:33.361885",
     "status": "completed"
    },
    "tags": []
   },
   "outputs": [
    {
     "data": {
      "text/plain": [
       "1500"
      ]
     },
     "execution_count": 13,
     "metadata": {},
     "output_type": "execute_result"
    }
   ],
   "source": [
    "num_batches = len(train_loader)\n",
    "num_batches"
   ]
  },
  {
   "cell_type": "code",
   "execution_count": 14,
   "id": "364d30ba",
   "metadata": {
    "execution": {
     "iopub.execute_input": "2025-03-02T10:16:33.385534Z",
     "iopub.status.busy": "2025-03-02T10:16:33.385341Z",
     "iopub.status.idle": "2025-03-02T10:16:33.387983Z",
     "shell.execute_reply": "2025-03-02T10:16:33.387405Z"
    },
    "papermill": {
     "duration": 0.009776,
     "end_time": "2025-03-02T10:16:33.389246",
     "exception": false,
     "start_time": "2025-03-02T10:16:33.379470",
     "status": "completed"
    },
    "tags": []
   },
   "outputs": [],
   "source": [
    "import itertools"
   ]
  },
  {
   "cell_type": "code",
   "execution_count": 15,
   "id": "d6046a94",
   "metadata": {
    "execution": {
     "iopub.execute_input": "2025-03-02T10:16:33.401194Z",
     "iopub.status.busy": "2025-03-02T10:16:33.400966Z",
     "iopub.status.idle": "2025-03-02T10:16:33.404658Z",
     "shell.execute_reply": "2025-03-02T10:16:33.404039Z"
    },
    "papermill": {
     "duration": 0.010899,
     "end_time": "2025-03-02T10:16:33.405768",
     "exception": false,
     "start_time": "2025-03-02T10:16:33.394869",
     "status": "completed"
    },
    "tags": []
   },
   "outputs": [],
   "source": [
    "import torch.nn.functional as F\n",
    "\n",
    "def adversarialLoss(d_x, d_g_z):\n",
    "    return (F.binary_cross_entropy_with_logits(d_x, torch.ones_like(d_x)) +\n",
    "            F.binary_cross_entropy_with_logits(d_g_z, torch.zeros_like(d_g_z)))\n",
    "\n",
    "def generatorLoss(d_g_z):\n",
    "    return F.binary_cross_entropy_with_logits(d_g_z, torch.ones_like(d_g_z))"
   ]
  },
  {
   "cell_type": "code",
   "execution_count": 16,
   "id": "75743377",
   "metadata": {
    "execution": {
     "iopub.execute_input": "2025-03-02T10:16:33.417917Z",
     "iopub.status.busy": "2025-03-02T10:16:33.417691Z",
     "iopub.status.idle": "2025-03-02T10:16:33.420430Z",
     "shell.execute_reply": "2025-03-02T10:16:33.419847Z"
    },
    "papermill": {
     "duration": 0.010077,
     "end_time": "2025-03-02T10:16:33.421609",
     "exception": false,
     "start_time": "2025-03-02T10:16:33.411532",
     "status": "completed"
    },
    "tags": []
   },
   "outputs": [],
   "source": [
    "import math"
   ]
  },
  {
   "cell_type": "code",
   "execution_count": 17,
   "id": "3ee3052a",
   "metadata": {
    "execution": {
     "iopub.execute_input": "2025-03-02T10:16:33.433458Z",
     "iopub.status.busy": "2025-03-02T10:16:33.433246Z",
     "iopub.status.idle": "2025-03-02T10:18:41.808765Z",
     "shell.execute_reply": "2025-03-02T10:18:41.807663Z"
    },
    "papermill": {
     "duration": 128.382898,
     "end_time": "2025-03-02T10:18:41.810237",
     "exception": false,
     "start_time": "2025-03-02T10:16:33.427339",
     "status": "completed"
    },
    "tags": []
   },
   "outputs": [
    {
     "name": "stdout",
     "output_type": "stream",
     "text": [
      "Epoch 1000/20000, Adversial Loss: 0.0023, Generator Loss: 0.9662\n",
      "Epoch 2000/20000, Adversial Loss: 0.1436, Generator Loss: 0.9087\n",
      "Epoch 3000/20000, Adversial Loss: -0.6325, Generator Loss: 0.4689\n",
      "Epoch 4000/20000, Adversial Loss: -0.0819, Generator Loss: 0.5065\n",
      "Epoch 5000/20000, Adversial Loss: -1.2840, Generator Loss: 0.8392\n",
      "Epoch 6000/20000, Adversial Loss: -0.3433, Generator Loss: 0.7057\n",
      "Epoch 7000/20000, Adversial Loss: -0.6957, Generator Loss: 0.9513\n",
      "Epoch 8000/20000, Adversial Loss: -0.9036, Generator Loss: 0.8856\n",
      "Epoch 9000/20000, Adversial Loss: -2.5119, Generator Loss: 0.8426\n",
      "Epoch 10000/20000, Adversial Loss: -0.5361, Generator Loss: 0.8539\n",
      "Epoch 11000/20000, Adversial Loss: -1.4345, Generator Loss: 0.9882\n",
      "Epoch 12000/20000, Adversial Loss: -0.7789, Generator Loss: 1.0994\n",
      "Epoch 13000/20000, Adversial Loss: -1.6739, Generator Loss: 0.7032\n",
      "Epoch 14000/20000, Adversial Loss: -1.9634, Generator Loss: 0.9110\n",
      "Epoch 15000/20000, Adversial Loss: -2.5334, Generator Loss: 0.9674\n",
      "Epoch 16000/20000, Adversial Loss: -3.4927, Generator Loss: 1.0855\n",
      "Epoch 17000/20000, Adversial Loss: -3.6728, Generator Loss: 1.0816\n",
      "Epoch 18000/20000, Adversial Loss: -2.8356, Generator Loss: 0.8976\n",
      "Epoch 19000/20000, Adversial Loss: -2.8591, Generator Loss: 0.8796\n",
      "Epoch 20000/20000, Adversial Loss: -3.4674, Generator Loss: 0.9055\n"
     ]
    }
   ],
   "source": [
    "learning_rate = 1e-3\n",
    "weight_decay = 1e-4\n",
    "k = 1\n",
    "\n",
    "# less epoch as can easily overfit\n",
    "num_epoch = 20000\n",
    "\n",
    "lossi_gen = []\n",
    "lossi_adv = []\n",
    "\n",
    "total_samples = len(train_loader)\n",
    "\n",
    "advOptimizer = torch.optim.AdamW(adv.parameters(), lr=learning_rate, weight_decay=weight_decay)\n",
    "generatorOptimizer = torch.optim.AdamW(generator.parameters(), lr=learning_rate, weight_decay=weight_decay)\n",
    "\n",
    "generator = generator.to(device)\n",
    "adv = adv.to(device)\n",
    "\n",
    "train_loader_iter_adv_training = itertools.cycle(iter(train_loader))\n",
    "\n",
    "for epoch in range(num_epoch):\n",
    "    adv.train()\n",
    "    generator.eval()\n",
    "    \n",
    "    for _ in range(k):\n",
    "        advOptimizer.zero_grad()\n",
    "        \n",
    "        feature, _ = next(train_loader_iter_adv_training)\n",
    "        feature = feature.to(device)\n",
    "        # print(f\"feature: {feature}\")\n",
    "        # print(f\"feature.shape: {feature.shape}\")\n",
    "\n",
    "        pred_data = adv(feature)\n",
    "        # print(f\"pred_data: {pred_data}\")\n",
    "        # print(f\"pred_data.shape: {pred_data.shape}\")\n",
    "\n",
    "        noise = torch.randn(batch_size, 1, 28, 28)\n",
    "        noise = noise.to(device)\n",
    "        # print(f\"noise: {noise}\")\n",
    "        # print(f\"noise.shape: {noise.shape}\")\n",
    "    \n",
    "        gen_data = generator(noise)\n",
    "        # print(f\"gen_data: {noise}\")\n",
    "        # print(f\"gen_data.shape: {gen_data.shape}\")\n",
    "        \n",
    "        pred_gen_data = adv(gen_data)\n",
    "        # print(f\"pred_gen_data: {pred_gen_data}\")\n",
    "        # print(f\"pred_gen_data.shape: {pred_gen_data.shape}\")\n",
    "\n",
    "        # loss\n",
    "        advLoss = adversarialLoss(pred_data, pred_gen_data)\n",
    "\n",
    "        advLoss.backward()\n",
    "        advOptimizer.step()\n",
    "\n",
    "        advLoss = advLoss.log10()\n",
    "        lossi_adv.append(advLoss.detach().cpu())\n",
    "\n",
    "    generatorOptimizer.zero_grad()\n",
    "\n",
    "    adv.eval()\n",
    "    generator.train()\n",
    "\n",
    "    noise = torch.randn(batch_size, 1, 28, 28)\n",
    "    noise = noise.to(device)\n",
    "    # print(f\"noise: {noise}\")\n",
    "    # print(f\"noise.shape: {noise.shape}\")\n",
    "\n",
    "    gen_data = generator(noise)\n",
    "    # print(f\"gen_data: {noise}\")\n",
    "    # print(f\"gen_data.shape: {gen_data.shape}\")\n",
    "\n",
    "    pred_gen_data = adv(gen_data)\n",
    "    # print(f\"pred_gen_data: {pred_gen_data}\")\n",
    "    # print(f\"pred_gen_data.shape: {pred_gen_data.shape}\")\n",
    "    \n",
    "    # loss\n",
    "    genLoss = generatorLoss(pred_gen_data)\n",
    "\n",
    "    genLoss.backward()\n",
    "    generatorOptimizer.step()\n",
    "\n",
    "    genLoss = genLoss.log10()\n",
    "    lossi_gen.append(genLoss.detach().cpu())\n",
    "\n",
    "    if ((epoch+1)%1000==0):\n",
    "        print(f\"Epoch {epoch+1}/{num_epoch}, Adversial Loss: {advLoss.item():.4f}, Generator Loss: {genLoss.item():.4f}\")"
   ]
  },
  {
   "cell_type": "code",
   "execution_count": 18,
   "id": "9506188e",
   "metadata": {
    "execution": {
     "iopub.execute_input": "2025-03-02T10:18:41.824941Z",
     "iopub.status.busy": "2025-03-02T10:18:41.824703Z",
     "iopub.status.idle": "2025-03-02T10:18:41.827749Z",
     "shell.execute_reply": "2025-03-02T10:18:41.827031Z"
    },
    "papermill": {
     "duration": 0.011788,
     "end_time": "2025-03-02T10:18:41.828967",
     "exception": false,
     "start_time": "2025-03-02T10:18:41.817179",
     "status": "completed"
    },
    "tags": []
   },
   "outputs": [],
   "source": [
    "import matplotlib.pyplot as plt"
   ]
  },
  {
   "cell_type": "code",
   "execution_count": 19,
   "id": "93d6e138",
   "metadata": {
    "execution": {
     "iopub.execute_input": "2025-03-02T10:18:41.843049Z",
     "iopub.status.busy": "2025-03-02T10:18:41.842830Z",
     "iopub.status.idle": "2025-03-02T10:18:42.410891Z",
     "shell.execute_reply": "2025-03-02T10:18:42.410047Z"
    },
    "papermill": {
     "duration": 0.576601,
     "end_time": "2025-03-02T10:18:42.412354",
     "exception": false,
     "start_time": "2025-03-02T10:18:41.835753",
     "status": "completed"
    },
    "tags": []
   },
   "outputs": [
    {
     "data": {
      "text/plain": [
       "[<matplotlib.lines.Line2D at 0x79c6479881f0>]"
      ]
     },
     "execution_count": 19,
     "metadata": {},
     "output_type": "execute_result"
    },
    {
     "data": {
      "image/png": "[encoded data removed]",
      "text/plain": [
       "<Figure size 640x480 with 1 Axes>"
      ]
     },
     "metadata": {},
     "output_type": "display_data"
    }
   ],
   "source": [
    "plt.plot(lossi_adv, c=\"red\")\n",
    "plt.plot(lossi_gen, c=\"blue\")"
   ]
  },
  {
   "cell_type": "code",
   "execution_count": 20,
   "id": "806dcab4",
   "metadata": {
    "execution": {
     "iopub.execute_input": "2025-03-02T10:18:42.427960Z",
     "iopub.status.busy": "2025-03-02T10:18:42.427718Z",
     "iopub.status.idle": "2025-03-02T10:18:42.564600Z",
     "shell.execute_reply": "2025-03-02T10:18:42.563600Z"
    },
    "papermill": {
     "duration": 0.146141,
     "end_time": "2025-03-02T10:18:42.566040",
     "exception": false,
     "start_time": "2025-03-02T10:18:42.419899",
     "status": "completed"
    },
    "tags": []
   },
   "outputs": [
    {
     "data": {
      "image/png": "[encoded data removed]",
      "text/plain": [
       "<Figure size 640x480 with 1 Axes>"
      ]
     },
     "metadata": {},
     "output_type": "display_data"
    }
   ],
   "source": [
    "generator.eval()\n",
    "\n",
    "with torch.no_grad():\n",
    "    noise = torch.randn(1, 1, 28, 28)\n",
    "    noise = noise.to(device)\n",
    "    \n",
    "    gen_img = generator(noise)\n",
    "    img = gen_img.view(1, 28, 28)\n",
    "    \n",
    "    plt.imshow(img.squeeze().cpu(), cmap=\"gray\")\n",
    "    plt.show()"
   ]
  },
  {
   "cell_type": "code",
   "execution_count": null,
   "id": "f5411f94",
   "metadata": {
    "papermill": {
     "duration": 0.007116,
     "end_time": "2025-03-02T10:18:42.580876",
     "exception": false,
     "start_time": "2025-03-02T10:18:42.573760",
     "status": "completed"
    },
    "tags": []
   },
   "outputs": [],
   "source": []
  },
  {
   "cell_type": "code",
   "execution_count": null,
   "id": "8c5344d3",
   "metadata": {
    "papermill": {
     "duration": 0.007184,
     "end_time": "2025-03-02T10:18:42.595345",
     "exception": false,
     "start_time": "2025-03-02T10:18:42.588161",
     "status": "completed"
    },
    "tags": []
   },
   "outputs": [],
   "source": []
  }
 ],
 "metadata": {
  "kaggle": {
   "accelerator": "gpu",
   "dataSources": [],
   "dockerImageVersionId": 30918,
   "isGpuEnabled": true,
   "isInternetEnabled": true,
   "language": "python",
   "sourceType": "notebook"
  },
  "kernelspec": {
   "display_name": "Python 3",
   "language": "python",
   "name": "python3"
  },
  "language_info": {
   "codemirror_mode": {
    "name": "ipython",
    "version": 3
   },
   "file_extension": ".py",
   "mimetype": "text/x-python",
   "name": "python",
   "nbconvert_exporter": "python",
   "pygments_lexer": "ipython3",
   "version": "3.10.12"
  },
  "papermill": {
   "default_parameters": {},
   "duration": 152.190282,
   "end_time": "2025-03-02T10:18:44.022509",
   "environment_variables": {},
   "exception": null,
   "input_path": "__notebook__.ipynb",
   "output_path": "__notebook__.ipynb",
   "parameters": {},
   "start_time": "2025-03-02T10:16:11.832227",
   "version": "2.6.0"
  }
 },
 "nbformat": 4,
 "nbformat_minor": 5
}
