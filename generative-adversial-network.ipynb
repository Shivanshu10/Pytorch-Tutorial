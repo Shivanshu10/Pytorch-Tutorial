{
 "cells": [
  {
   "cell_type": "code",
   "execution_count": 1,
   "id": "7e42e45c",
   "metadata": {
    "_cell_guid": "b1076dfc-b9ad-4769-8c92-a6c4dae69d19",
    "_uuid": "8f2839f25d086af736a60e9eeb907d3b93b6e0e5",
    "execution": {
     "iopub.execute_input": "2025-03-02T11:49:13.424713Z",
     "iopub.status.busy": "2025-03-02T11:49:13.424408Z",
     "iopub.status.idle": "2025-03-02T11:49:20.649954Z",
     "shell.execute_reply": "2025-03-02T11:49:20.649008Z"
    },
    "papermill": {
     "duration": 7.232543,
     "end_time": "2025-03-02T11:49:20.651568",
     "exception": false,
     "start_time": "2025-03-02T11:49:13.419025",
     "status": "completed"
    },
    "tags": []
   },
   "outputs": [],
   "source": [
    "import torch\n",
    "import torch.nn as nn\n",
    "import torchvision\n",
    "from torchvision import transforms"
   ]
  },
  {
   "cell_type": "code",
   "execution_count": 2,
   "id": "d7159040",
   "metadata": {
    "execution": {
     "iopub.execute_input": "2025-03-02T11:49:20.659994Z",
     "iopub.status.busy": "2025-03-02T11:49:20.659656Z",
     "iopub.status.idle": "2025-03-02T11:49:20.662791Z",
     "shell.execute_reply": "2025-03-02T11:49:20.662176Z"
    },
    "papermill": {
     "duration": 0.008338,
     "end_time": "2025-03-02T11:49:20.663905",
     "exception": false,
     "start_time": "2025-03-02T11:49:20.655567",
     "status": "completed"
    },
    "tags": []
   },
   "outputs": [],
   "source": [
    "mnist_transform = transforms.Compose([\n",
    "    transforms.ToTensor(),\n",
    "])"
   ]
  },
  {
   "cell_type": "code",
   "execution_count": 3,
   "id": "0992b5da",
   "metadata": {
    "execution": {
     "iopub.execute_input": "2025-03-02T11:49:20.671472Z",
     "iopub.status.busy": "2025-03-02T11:49:20.671253Z",
     "iopub.status.idle": "2025-03-02T11:49:24.720502Z",
     "shell.execute_reply": "2025-03-02T11:49:24.719399Z"
    },
    "papermill": {
     "duration": 4.054573,
     "end_time": "2025-03-02T11:49:24.721990",
     "exception": false,
     "start_time": "2025-03-02T11:49:20.667417",
     "status": "completed"
    },
    "tags": []
   },
   "outputs": [
    {
     "name": "stdout",
     "output_type": "stream",
     "text": [
      "Downloading http://yann.lecun.com/exdb/mnist/train-images-idx3-ubyte.gz\n",
      "Failed to download (trying next):\n",
      "HTTP Error 404: Not Found\n",
      "\n",
      "Downloading https://ossci-datasets.s3.amazonaws.com/mnist/train-images-idx3-ubyte.gz\n",
      "Downloading https://ossci-datasets.s3.amazonaws.com/mnist/train-images-idx3-ubyte.gz to ./MNIST/raw/train-images-idx3-ubyte.gz\n"
     ]
    },
    {
     "name": "stderr",
     "output_type": "stream",
     "text": [
      "100%|██████████| 9.91M/9.91M [00:00<00:00, 17.9MB/s]\n"
     ]
    },
    {
     "name": "stdout",
     "output_type": "stream",
     "text": [
      "Extracting ./MNIST/raw/train-images-idx3-ubyte.gz to ./MNIST/raw\n",
      "\n",
      "Downloading http://yann.lecun.com/exdb/mnist/train-labels-idx1-ubyte.gz\n",
      "Failed to download (trying next):\n",
      "HTTP Error 404: Not Found\n",
      "\n",
      "Downloading https://ossci-datasets.s3.amazonaws.com/mnist/train-labels-idx1-ubyte.gz\n",
      "Downloading https://ossci-datasets.s3.amazonaws.com/mnist/train-labels-idx1-ubyte.gz to ./MNIST/raw/train-labels-idx1-ubyte.gz\n"
     ]
    },
    {
     "name": "stderr",
     "output_type": "stream",
     "text": [
      "100%|██████████| 28.9k/28.9k [00:00<00:00, 477kB/s]\n"
     ]
    },
    {
     "name": "stdout",
     "output_type": "stream",
     "text": [
      "Extracting ./MNIST/raw/train-labels-idx1-ubyte.gz to ./MNIST/raw\n",
      "\n",
      "Downloading http://yann.lecun.com/exdb/mnist/t10k-images-idx3-ubyte.gz\n",
      "Failed to download (trying next):\n",
      "HTTP Error 404: Not Found\n",
      "\n",
      "Downloading https://ossci-datasets.s3.amazonaws.com/mnist/t10k-images-idx3-ubyte.gz\n",
      "Downloading https://ossci-datasets.s3.amazonaws.com/mnist/t10k-images-idx3-ubyte.gz to ./MNIST/raw/t10k-images-idx3-ubyte.gz\n"
     ]
    },
    {
     "name": "stderr",
     "output_type": "stream",
     "text": [
      "100%|██████████| 1.65M/1.65M [00:00<00:00, 4.42MB/s]\n"
     ]
    },
    {
     "name": "stdout",
     "output_type": "stream",
     "text": [
      "Extracting ./MNIST/raw/t10k-images-idx3-ubyte.gz to ./MNIST/raw\n",
      "\n",
      "Downloading http://yann.lecun.com/exdb/mnist/t10k-labels-idx1-ubyte.gz\n",
      "Failed to download (trying next):\n",
      "HTTP Error 404: Not Found\n",
      "\n",
      "Downloading https://ossci-datasets.s3.amazonaws.com/mnist/t10k-labels-idx1-ubyte.gz\n",
      "Downloading https://ossci-datasets.s3.amazonaws.com/mnist/t10k-labels-idx1-ubyte.gz to ./MNIST/raw/t10k-labels-idx1-ubyte.gz\n"
     ]
    },
    {
     "name": "stderr",
     "output_type": "stream",
     "text": [
      "100%|██████████| 4.54k/4.54k [00:00<00:00, 6.41MB/s]"
     ]
    },
    {
     "name": "stdout",
     "output_type": "stream",
     "text": [
      "Extracting ./MNIST/raw/t10k-labels-idx1-ubyte.gz to ./MNIST/raw\n",
      "\n"
     ]
    },
    {
     "name": "stderr",
     "output_type": "stream",
     "text": [
      "\n"
     ]
    }
   ],
   "source": [
    "mnist_train = torchvision.datasets.MNIST(\".\", train=True, download=True, transform=mnist_transform)\n",
    "mnist_test = torchvision.datasets.MNIST(\".\", train=False, download=True, transform=mnist_transform)"
   ]
  },
  {
   "cell_type": "code",
   "execution_count": 4,
   "id": "acd4978b",
   "metadata": {
    "execution": {
     "iopub.execute_input": "2025-03-02T11:49:24.733122Z",
     "iopub.status.busy": "2025-03-02T11:49:24.732821Z",
     "iopub.status.idle": "2025-03-02T11:49:24.736192Z",
     "shell.execute_reply": "2025-03-02T11:49:24.735515Z"
    },
    "papermill": {
     "duration": 0.010045,
     "end_time": "2025-03-02T11:49:24.737337",
     "exception": false,
     "start_time": "2025-03-02T11:49:24.727292",
     "status": "completed"
    },
    "tags": []
   },
   "outputs": [],
   "source": [
    "from torch.utils.data import random_split"
   ]
  },
  {
   "cell_type": "code",
   "execution_count": 5,
   "id": "cfe3eb50",
   "metadata": {
    "execution": {
     "iopub.execute_input": "2025-03-02T11:49:24.748052Z",
     "iopub.status.busy": "2025-03-02T11:49:24.747836Z",
     "iopub.status.idle": "2025-03-02T11:49:24.774228Z",
     "shell.execute_reply": "2025-03-02T11:49:24.773548Z"
    },
    "papermill": {
     "duration": 0.033113,
     "end_time": "2025-03-02T11:49:24.775618",
     "exception": false,
     "start_time": "2025-03-02T11:49:24.742505",
     "status": "completed"
    },
    "tags": []
   },
   "outputs": [],
   "source": [
    "# Define split ratios\n",
    "train_size = int(0.8 * len(mnist_train))\n",
    "val_size = int(0.2 * len(mnist_train))\n",
    "\n",
    "# Split dataset\n",
    "train_dataset, val_dataset = random_split(mnist_train, [train_size, val_size])"
   ]
  },
  {
   "cell_type": "code",
   "execution_count": 6,
   "id": "8c46bd2a",
   "metadata": {
    "execution": {
     "iopub.execute_input": "2025-03-02T11:49:24.786402Z",
     "iopub.status.busy": "2025-03-02T11:49:24.786163Z",
     "iopub.status.idle": "2025-03-02T11:49:24.789322Z",
     "shell.execute_reply": "2025-03-02T11:49:24.788653Z"
    },
    "papermill": {
     "duration": 0.009788,
     "end_time": "2025-03-02T11:49:24.790495",
     "exception": false,
     "start_time": "2025-03-02T11:49:24.780707",
     "status": "completed"
    },
    "tags": []
   },
   "outputs": [],
   "source": [
    "from torch.utils.data import DataLoader"
   ]
  },
  {
   "cell_type": "code",
   "execution_count": 7,
   "id": "fc0b6230",
   "metadata": {
    "execution": {
     "iopub.execute_input": "2025-03-02T11:49:24.800930Z",
     "iopub.status.busy": "2025-03-02T11:49:24.800716Z",
     "iopub.status.idle": "2025-03-02T11:49:24.804662Z",
     "shell.execute_reply": "2025-03-02T11:49:24.804038Z"
    },
    "papermill": {
     "duration": 0.010377,
     "end_time": "2025-03-02T11:49:24.805750",
     "exception": false,
     "start_time": "2025-03-02T11:49:24.795373",
     "status": "completed"
    },
    "tags": []
   },
   "outputs": [],
   "source": [
    "batch_size = 32\n",
    "\n",
    "train_loader = DataLoader(train_dataset, batch_size=batch_size, shuffle=True)\n",
    "val_loader = DataLoader(val_dataset, batch_size=batch_size, shuffle=True)\n",
    "\n",
    "pred_loader = DataLoader(mnist_test, batch_size=batch_size, shuffle=True)"
   ]
  },
  {
   "cell_type": "code",
   "execution_count": 8,
   "id": "0ccee4cd",
   "metadata": {
    "execution": {
     "iopub.execute_input": "2025-03-02T11:49:24.816108Z",
     "iopub.status.busy": "2025-03-02T11:49:24.815881Z",
     "iopub.status.idle": "2025-03-02T11:49:24.869845Z",
     "shell.execute_reply": "2025-03-02T11:49:24.869103Z"
    },
    "papermill": {
     "duration": 0.060664,
     "end_time": "2025-03-02T11:49:24.871264",
     "exception": false,
     "start_time": "2025-03-02T11:49:24.810600",
     "status": "completed"
    },
    "tags": []
   },
   "outputs": [
    {
     "name": "stdout",
     "output_type": "stream",
     "text": [
      "Using device: cuda\n"
     ]
    }
   ],
   "source": [
    "device = torch.device(\"cuda\" if torch.cuda.is_available() else \"cpu\")\n",
    "print(f\"Using device: {device}\")"
   ]
  },
  {
   "cell_type": "code",
   "execution_count": 9,
   "id": "4f9e458d",
   "metadata": {
    "execution": {
     "iopub.execute_input": "2025-03-02T11:49:24.882900Z",
     "iopub.status.busy": "2025-03-02T11:49:24.882639Z",
     "iopub.status.idle": "2025-03-02T11:49:24.888365Z",
     "shell.execute_reply": "2025-03-02T11:49:24.887473Z"
    },
    "papermill": {
     "duration": 0.013931,
     "end_time": "2025-03-02T11:49:24.890344",
     "exception": false,
     "start_time": "2025-03-02T11:49:24.876413",
     "status": "completed"
    },
    "tags": []
   },
   "outputs": [],
   "source": [
    "class Generator(nn.Module):\n",
    "    def __init__(self, dropout_prob=0.1):\n",
    "        super().__init__()\n",
    "\n",
    "        self.layers = nn.ModuleList([\n",
    "            nn.Flatten(),\n",
    "            \n",
    "            nn.Linear(28*28, 1200),\n",
    "            nn.ReLU(),\n",
    "            nn.Dropout(dropout_prob),\n",
    "\n",
    "            nn.Linear(1200, 1200),\n",
    "            nn.ReLU(),\n",
    "            nn.Dropout(dropout_prob),\n",
    "\n",
    "            nn.Linear(1200, 28*28)\n",
    "        ])\n",
    "\n",
    "    def forward(self, x):\n",
    "        for layer in self.layers:\n",
    "            x = layer(x)\n",
    "        return x"
   ]
  },
  {
   "cell_type": "code",
   "execution_count": 10,
   "id": "c7f782c1",
   "metadata": {
    "execution": {
     "iopub.execute_input": "2025-03-02T11:49:24.910124Z",
     "iopub.status.busy": "2025-03-02T11:49:24.909755Z",
     "iopub.status.idle": "2025-03-02T11:49:24.955962Z",
     "shell.execute_reply": "2025-03-02T11:49:24.954994Z"
    },
    "papermill": {
     "duration": 0.057553,
     "end_time": "2025-03-02T11:49:24.957915",
     "exception": false,
     "start_time": "2025-03-02T11:49:24.900362",
     "status": "completed"
    },
    "tags": []
   },
   "outputs": [],
   "source": [
    "generator = Generator(dropout_prob=0.1)"
   ]
  },
  {
   "cell_type": "code",
   "execution_count": 11,
   "id": "f9ac766c",
   "metadata": {
    "execution": {
     "iopub.execute_input": "2025-03-02T11:49:24.977477Z",
     "iopub.status.busy": "2025-03-02T11:49:24.977086Z",
     "iopub.status.idle": "2025-03-02T11:49:24.983412Z",
     "shell.execute_reply": "2025-03-02T11:49:24.982578Z"
    },
    "papermill": {
     "duration": 0.017443,
     "end_time": "2025-03-02T11:49:24.984682",
     "exception": false,
     "start_time": "2025-03-02T11:49:24.967239",
     "status": "completed"
    },
    "tags": []
   },
   "outputs": [],
   "source": [
    "class Adversial(nn.Module):\n",
    "    def __init__(self, dropout_prob=0.1):\n",
    "        super().__init__()\n",
    "\n",
    "        self.layers = nn.ModuleList([\n",
    "            nn.Flatten(),\n",
    "            \n",
    "            nn.Linear(28*28, 600),\n",
    "            nn.ReLU(),\n",
    "            nn.Dropout(dropout_prob),\n",
    "\n",
    "            nn.Linear(600, 600),\n",
    "            nn.ReLU(),\n",
    "            nn.Dropout(dropout_prob),\n",
    "\n",
    "            nn.Linear(600, 1)\n",
    "        ])\n",
    "\n",
    "    def forward(self, x):\n",
    "        for layer in self.layers:\n",
    "            x = layer(x)\n",
    "        return x"
   ]
  },
  {
   "cell_type": "code",
   "execution_count": 12,
   "id": "1412b685",
   "metadata": {
    "execution": {
     "iopub.execute_input": "2025-03-02T11:49:24.996052Z",
     "iopub.status.busy": "2025-03-02T11:49:24.995742Z",
     "iopub.status.idle": "2025-03-02T11:49:25.010763Z",
     "shell.execute_reply": "2025-03-02T11:49:25.009995Z"
    },
    "papermill": {
     "duration": 0.022339,
     "end_time": "2025-03-02T11:49:25.012177",
     "exception": false,
     "start_time": "2025-03-02T11:49:24.989838",
     "status": "completed"
    },
    "tags": []
   },
   "outputs": [],
   "source": [
    "adv = Adversial(dropout_prob=0.1)"
   ]
  },
  {
   "cell_type": "code",
   "execution_count": 13,
   "id": "f251f39f",
   "metadata": {
    "execution": {
     "iopub.execute_input": "2025-03-02T11:49:25.023387Z",
     "iopub.status.busy": "2025-03-02T11:49:25.023049Z",
     "iopub.status.idle": "2025-03-02T11:49:25.029208Z",
     "shell.execute_reply": "2025-03-02T11:49:25.028417Z"
    },
    "papermill": {
     "duration": 0.013008,
     "end_time": "2025-03-02T11:49:25.030436",
     "exception": false,
     "start_time": "2025-03-02T11:49:25.017428",
     "status": "completed"
    },
    "tags": []
   },
   "outputs": [
    {
     "data": {
      "text/plain": [
       "1500"
      ]
     },
     "execution_count": 13,
     "metadata": {},
     "output_type": "execute_result"
    }
   ],
   "source": [
    "num_batches = len(train_loader)\n",
    "num_batches"
   ]
  },
  {
   "cell_type": "code",
   "execution_count": 14,
   "id": "a2f29c64",
   "metadata": {
    "execution": {
     "iopub.execute_input": "2025-03-02T11:49:25.041850Z",
     "iopub.status.busy": "2025-03-02T11:49:25.041543Z",
     "iopub.status.idle": "2025-03-02T11:49:25.045246Z",
     "shell.execute_reply": "2025-03-02T11:49:25.044457Z"
    },
    "papermill": {
     "duration": 0.011103,
     "end_time": "2025-03-02T11:49:25.046717",
     "exception": false,
     "start_time": "2025-03-02T11:49:25.035614",
     "status": "completed"
    },
    "tags": []
   },
   "outputs": [],
   "source": [
    "import itertools"
   ]
  },
  {
   "cell_type": "code",
   "execution_count": 15,
   "id": "0ccea814",
   "metadata": {
    "execution": {
     "iopub.execute_input": "2025-03-02T11:49:25.057817Z",
     "iopub.status.busy": "2025-03-02T11:49:25.057510Z",
     "iopub.status.idle": "2025-03-02T11:49:25.062599Z",
     "shell.execute_reply": "2025-03-02T11:49:25.061841Z"
    },
    "papermill": {
     "duration": 0.012136,
     "end_time": "2025-03-02T11:49:25.063861",
     "exception": false,
     "start_time": "2025-03-02T11:49:25.051725",
     "status": "completed"
    },
    "tags": []
   },
   "outputs": [],
   "source": [
    "import torch.nn.functional as F\n",
    "\n",
    "def adversarialLoss(d_x, d_g_z):\n",
    "    return (F.binary_cross_entropy_with_logits(d_x, torch.full_like(d_x, 0.9)) +\n",
    "            F.binary_cross_entropy_with_logits(d_g_z, torch.full_like(d_g_z, 0.1)))\n",
    "\n",
    "def generatorLoss(d_g_z):\n",
    "    return F.binary_cross_entropy_with_logits(d_g_z, torch.ones_like(d_g_z))"
   ]
  },
  {
   "cell_type": "code",
   "execution_count": 16,
   "id": "bd68ba9a",
   "metadata": {
    "execution": {
     "iopub.execute_input": "2025-03-02T11:49:25.075122Z",
     "iopub.status.busy": "2025-03-02T11:49:25.074777Z",
     "iopub.status.idle": "2025-03-02T11:49:25.078460Z",
     "shell.execute_reply": "2025-03-02T11:49:25.077653Z"
    },
    "papermill": {
     "duration": 0.010561,
     "end_time": "2025-03-02T11:49:25.079662",
     "exception": false,
     "start_time": "2025-03-02T11:49:25.069101",
     "status": "completed"
    },
    "tags": []
   },
   "outputs": [],
   "source": [
    "import math"
   ]
  },
  {
   "cell_type": "code",
   "execution_count": 17,
   "id": "e1146520",
   "metadata": {
    "execution": {
     "iopub.execute_input": "2025-03-02T11:49:25.090757Z",
     "iopub.status.busy": "2025-03-02T11:49:25.090435Z",
     "iopub.status.idle": "2025-03-02T11:51:33.033244Z",
     "shell.execute_reply": "2025-03-02T11:51:33.031912Z"
    },
    "papermill": {
     "duration": 127.950037,
     "end_time": "2025-03-02T11:51:33.034776",
     "exception": false,
     "start_time": "2025-03-02T11:49:25.084739",
     "status": "completed"
    },
    "tags": []
   },
   "outputs": [
    {
     "name": "stdout",
     "output_type": "stream",
     "text": [
      "Epoch 1000/20000, Adversial Loss: 1.3505, Generator Loss: 0.7232\n",
      "Epoch 2000/20000, Adversial Loss: 1.3863, Generator Loss: 0.6935\n",
      "Epoch 3000/20000, Adversial Loss: 1.3863, Generator Loss: 0.6932\n",
      "Epoch 4000/20000, Adversial Loss: 1.3863, Generator Loss: 0.6931\n",
      "Epoch 5000/20000, Adversial Loss: 1.3863, Generator Loss: 0.6931\n",
      "Epoch 6000/20000, Adversial Loss: 1.3863, Generator Loss: 0.6931\n",
      "Epoch 7000/20000, Adversial Loss: 1.3863, Generator Loss: 0.6931\n",
      "Epoch 8000/20000, Adversial Loss: 1.3863, Generator Loss: 0.6931\n",
      "Epoch 9000/20000, Adversial Loss: 1.3863, Generator Loss: 0.6931\n",
      "Epoch 10000/20000, Adversial Loss: 1.3863, Generator Loss: 0.6931\n",
      "Epoch 11000/20000, Adversial Loss: 1.3863, Generator Loss: 0.6931\n",
      "Epoch 12000/20000, Adversial Loss: 1.3863, Generator Loss: 0.6931\n",
      "Epoch 13000/20000, Adversial Loss: 1.3863, Generator Loss: 0.6931\n",
      "Epoch 14000/20000, Adversial Loss: 1.3863, Generator Loss: 0.6931\n",
      "Epoch 15000/20000, Adversial Loss: 1.3850, Generator Loss: 0.6901\n",
      "Epoch 16000/20000, Adversial Loss: 1.3863, Generator Loss: 0.6931\n",
      "Epoch 17000/20000, Adversial Loss: 1.3863, Generator Loss: 0.6931\n",
      "Epoch 18000/20000, Adversial Loss: 1.3863, Generator Loss: 0.6931\n",
      "Epoch 19000/20000, Adversial Loss: 1.3863, Generator Loss: 0.6931\n",
      "Epoch 20000/20000, Adversial Loss: 1.3863, Generator Loss: 0.6931\n"
     ]
    }
   ],
   "source": [
    "learning_rate = 1e-3\n",
    "k = 1\n",
    "\n",
    "# less epoch as can easily overfit\n",
    "num_epoch = 20000\n",
    "\n",
    "lossi_gen = []\n",
    "lossi_adv = []\n",
    "\n",
    "total_samples = len(train_loader)\n",
    "\n",
    "advOptimizer = torch.optim.AdamW(adv.parameters(), lr=learning_rate)\n",
    "generatorOptimizer = torch.optim.AdamW(generator.parameters(), lr=learning_rate)\n",
    "\n",
    "generator = generator.to(device)\n",
    "adv = adv.to(device)\n",
    "\n",
    "train_loader_iter_adv_training = itertools.cycle(iter(train_loader))\n",
    "\n",
    "for epoch in range(num_epoch):\n",
    "    adv.train()\n",
    "    generator.eval()\n",
    "    \n",
    "    for _ in range(k):\n",
    "        advOptimizer.zero_grad()\n",
    "        \n",
    "        feature, _ = next(train_loader_iter_adv_training)\n",
    "        feature = feature.to(device)\n",
    "        # print(f\"feature: {feature}\")\n",
    "        # print(f\"feature.shape: {feature.shape}\")\n",
    "\n",
    "        pred_data = adv(feature)\n",
    "        # print(f\"pred_data: {pred_data}\")\n",
    "        # print(f\"pred_data.shape: {pred_data.shape}\")\n",
    "\n",
    "        noise = torch.randn(batch_size, 1, 28, 28)\n",
    "        noise = noise.to(device)\n",
    "        # print(f\"noise: {noise}\")\n",
    "        # print(f\"noise.shape: {noise.shape}\")\n",
    "    \n",
    "        gen_data = generator(noise)\n",
    "        # print(f\"gen_data: {noise}\")\n",
    "        # print(f\"gen_data.shape: {gen_data.shape}\")\n",
    "        \n",
    "        pred_gen_data = adv(gen_data)\n",
    "        # print(f\"pred_gen_data: {pred_gen_data}\")\n",
    "        # print(f\"pred_gen_data.shape: {pred_gen_data.shape}\")\n",
    "\n",
    "        # loss\n",
    "        advLoss = adversarialLoss(pred_data, pred_gen_data)\n",
    "\n",
    "        advLoss.backward()\n",
    "        advOptimizer.step()\n",
    "\n",
    "        for p in adv.parameters():\n",
    "            p.data.clamp_(-0.01, 0.01)\n",
    "\n",
    "        lossi_adv.append(advLoss.detach().cpu())\n",
    "\n",
    "    generatorOptimizer.zero_grad()\n",
    "\n",
    "    adv.eval()\n",
    "    generator.train()\n",
    "\n",
    "    noise = torch.randn(batch_size*2, 1, 28, 28)\n",
    "    noise = noise.to(device)\n",
    "    # print(f\"noise: {noise}\")\n",
    "    # print(f\"noise.shape: {noise.shape}\")\n",
    "\n",
    "    gen_data = generator(noise)\n",
    "    # print(f\"gen_data: {noise}\")\n",
    "    # print(f\"gen_data.shape: {gen_data.shape}\")\n",
    "\n",
    "    pred_gen_data = adv(gen_data)\n",
    "    # print(f\"pred_gen_data: {pred_gen_data}\")\n",
    "    # print(f\"pred_gen_data.shape: {pred_gen_data.shape}\")\n",
    "    \n",
    "    # loss\n",
    "    genLoss = generatorLoss(pred_gen_data)\n",
    "\n",
    "    genLoss.backward()\n",
    "    generatorOptimizer.step()\n",
    "\n",
    "    lossi_gen.append(genLoss.detach().cpu())\n",
    "\n",
    "    if ((epoch+1)%1000==0):\n",
    "        print(f\"Epoch {epoch+1}/{num_epoch}, Adversial Loss: {advLoss.item():.4f}, Generator Loss: {genLoss.item():.4f}\")"
   ]
  },
  {
   "cell_type": "code",
   "execution_count": 18,
   "id": "2f90b961",
   "metadata": {
    "execution": {
     "iopub.execute_input": "2025-03-02T11:51:33.049969Z",
     "iopub.status.busy": "2025-03-02T11:51:33.049657Z",
     "iopub.status.idle": "2025-03-02T11:51:33.053704Z",
     "shell.execute_reply": "2025-03-02T11:51:33.052723Z"
    },
    "papermill": {
     "duration": 0.013001,
     "end_time": "2025-03-02T11:51:33.055113",
     "exception": false,
     "start_time": "2025-03-02T11:51:33.042112",
     "status": "completed"
    },
    "tags": []
   },
   "outputs": [],
   "source": [
    "import matplotlib.pyplot as plt"
   ]
  },
  {
   "cell_type": "code",
   "execution_count": 19,
   "id": "135a5f16",
   "metadata": {
    "execution": {
     "iopub.execute_input": "2025-03-02T11:51:33.068212Z",
     "iopub.status.busy": "2025-03-02T11:51:33.067902Z",
     "iopub.status.idle": "2025-03-02T11:51:33.552729Z",
     "shell.execute_reply": "2025-03-02T11:51:33.551801Z"
    },
    "papermill": {
     "duration": 0.492755,
     "end_time": "2025-03-02T11:51:33.554276",
     "exception": false,
     "start_time": "2025-03-02T11:51:33.061521",
     "status": "completed"
    },
    "tags": []
   },
   "outputs": [
    {
     "data": {
      "text/plain": [
       "[<matplotlib.lines.Line2D at 0x7ad6c8c91c90>]"
      ]
     },
     "execution_count": 19,
     "metadata": {},
     "output_type": "execute_result"
    },
    {
     "data": {
      "image/png": "[encoded data removed]",
      "text/plain": [
       "<Figure size 640x480 with 1 Axes>"
      ]
     },
     "metadata": {},
     "output_type": "display_data"
    }
   ],
   "source": [
    "plt.plot(lossi_adv, c=\"red\")\n",
    "plt.plot(lossi_gen, c=\"blue\")"
   ]
  },
  {
   "cell_type": "code",
   "execution_count": 20,
   "id": "5574257c",
   "metadata": {
    "execution": {
     "iopub.execute_input": "2025-03-02T11:51:33.569665Z",
     "iopub.status.busy": "2025-03-02T11:51:33.569347Z",
     "iopub.status.idle": "2025-03-02T11:51:33.709808Z",
     "shell.execute_reply": "2025-03-02T11:51:33.708832Z"
    },
    "papermill": {
     "duration": 0.150175,
     "end_time": "2025-03-02T11:51:33.711252",
     "exception": false,
     "start_time": "2025-03-02T11:51:33.561077",
     "status": "completed"
    },
    "tags": []
   },
   "outputs": [
    {
     "data": {
      "image/png": "[encoded data removed]",
      "text/plain": [
       "<Figure size 640x480 with 1 Axes>"
      ]
     },
     "metadata": {},
     "output_type": "display_data"
    }
   ],
   "source": [
    "generator.eval()\n",
    "\n",
    "with torch.no_grad():\n",
    "    noise = torch.randn(1, 1, 28, 28)\n",
    "    noise = noise.to(device)\n",
    "    \n",
    "    gen_img = generator(noise)\n",
    "    img = gen_img.view(1, 28, 28)\n",
    "    \n",
    "    plt.imshow(img.squeeze().cpu(), cmap=\"gray\")\n",
    "    plt.show()"
   ]
  },
  {
   "cell_type": "code",
   "execution_count": null,
   "id": "6269c981",
   "metadata": {
    "papermill": {
     "duration": 0.006478,
     "end_time": "2025-03-02T11:51:33.724589",
     "exception": false,
     "start_time": "2025-03-02T11:51:33.718111",
     "status": "completed"
    },
    "tags": []
   },
   "outputs": [],
   "source": []
  }
 ],
 "metadata": {
  "kaggle": {
   "accelerator": "gpu",
   "dataSources": [],
   "dockerImageVersionId": 30918,
   "isGpuEnabled": true,
   "isInternetEnabled": true,
   "language": "python",
   "sourceType": "notebook"
  },
  "kernelspec": {
   "display_name": "Python 3",
   "language": "python",
   "name": "python3"
  },
  "language_info": {
   "codemirror_mode": {
    "name": "ipython",
    "version": 3
   },
   "file_extension": ".py",
   "mimetype": "text/x-python",
   "name": "python",
   "nbconvert_exporter": "python",
   "pygments_lexer": "ipython3",
   "version": "3.10.12"
  },
  "papermill": {
   "default_parameters": {},
   "duration": 144.586934,
   "end_time": "2025-03-02T11:51:35.352574",
   "environment_variables": {},
   "exception": null,
   "input_path": "__notebook__.ipynb",
   "output_path": "__notebook__.ipynb",
   "parameters": {},
   "start_time": "2025-03-02T11:49:10.765640",
   "version": "2.6.0"
  }
 },
 "nbformat": 4,
 "nbformat_minor": 5
}
