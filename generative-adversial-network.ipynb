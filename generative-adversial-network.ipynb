{
 "cells": [
  {
   "cell_type": "code",
   "execution_count": 1,
   "id": "8cd8f923",
   "metadata": {
    "_cell_guid": "b1076dfc-b9ad-4769-8c92-a6c4dae69d19",
    "_uuid": "8f2839f25d086af736a60e9eeb907d3b93b6e0e5",
    "execution": {
     "iopub.execute_input": "2025-03-02T11:54:18.212513Z",
     "iopub.status.busy": "2025-03-02T11:54:18.212239Z",
     "iopub.status.idle": "2025-03-02T11:54:25.269886Z",
     "shell.execute_reply": "2025-03-02T11:54:25.269191Z"
    },
    "papermill": {
     "duration": 7.064308,
     "end_time": "2025-03-02T11:54:25.271444",
     "exception": false,
     "start_time": "2025-03-02T11:54:18.207136",
     "status": "completed"
    },
    "tags": []
   },
   "outputs": [],
   "source": [
    "import torch\n",
    "import torch.nn as nn\n",
    "import torchvision\n",
    "from torchvision import transforms"
   ]
  },
  {
   "cell_type": "code",
   "execution_count": 2,
   "id": "6d5d1e2f",
   "metadata": {
    "execution": {
     "iopub.execute_input": "2025-03-02T11:54:25.280143Z",
     "iopub.status.busy": "2025-03-02T11:54:25.279755Z",
     "iopub.status.idle": "2025-03-02T11:54:25.283111Z",
     "shell.execute_reply": "2025-03-02T11:54:25.282464Z"
    },
    "papermill": {
     "duration": 0.008818,
     "end_time": "2025-03-02T11:54:25.284334",
     "exception": false,
     "start_time": "2025-03-02T11:54:25.275516",
     "status": "completed"
    },
    "tags": []
   },
   "outputs": [],
   "source": [
    "mnist_transform = transforms.Compose([\n",
    "    transforms.ToTensor(),\n",
    "])"
   ]
  },
  {
   "cell_type": "code",
   "execution_count": 3,
   "id": "a5143712",
   "metadata": {
    "execution": {
     "iopub.execute_input": "2025-03-02T11:54:25.292361Z",
     "iopub.status.busy": "2025-03-02T11:54:25.292135Z",
     "iopub.status.idle": "2025-03-02T11:54:29.314611Z",
     "shell.execute_reply": "2025-03-02T11:54:29.313823Z"
    },
    "papermill": {
     "duration": 4.027816,
     "end_time": "2025-03-02T11:54:29.315863",
     "exception": false,
     "start_time": "2025-03-02T11:54:25.288047",
     "status": "completed"
    },
    "tags": []
   },
   "outputs": [
    {
     "name": "stdout",
     "output_type": "stream",
     "text": [
      "Downloading http://yann.lecun.com/exdb/mnist/train-images-idx3-ubyte.gz\n",
      "Failed to download (trying next):\n",
      "HTTP Error 404: Not Found\n",
      "\n",
      "Downloading https://ossci-datasets.s3.amazonaws.com/mnist/train-images-idx3-ubyte.gz\n",
      "Downloading https://ossci-datasets.s3.amazonaws.com/mnist/train-images-idx3-ubyte.gz to ./MNIST/raw/train-images-idx3-ubyte.gz\n"
     ]
    },
    {
     "name": "stderr",
     "output_type": "stream",
     "text": [
      "100%|██████████| 9.91M/9.91M [00:00<00:00, 16.1MB/s]\n"
     ]
    },
    {
     "name": "stdout",
     "output_type": "stream",
     "text": [
      "Extracting ./MNIST/raw/train-images-idx3-ubyte.gz to ./MNIST/raw\n",
      "\n",
      "Downloading http://yann.lecun.com/exdb/mnist/train-labels-idx1-ubyte.gz\n",
      "Failed to download (trying next):\n",
      "HTTP Error 404: Not Found\n",
      "\n",
      "Downloading https://ossci-datasets.s3.amazonaws.com/mnist/train-labels-idx1-ubyte.gz\n",
      "Downloading https://ossci-datasets.s3.amazonaws.com/mnist/train-labels-idx1-ubyte.gz to ./MNIST/raw/train-labels-idx1-ubyte.gz\n"
     ]
    },
    {
     "name": "stderr",
     "output_type": "stream",
     "text": [
      "100%|██████████| 28.9k/28.9k [00:00<00:00, 479kB/s]\n"
     ]
    },
    {
     "name": "stdout",
     "output_type": "stream",
     "text": [
      "Extracting ./MNIST/raw/train-labels-idx1-ubyte.gz to ./MNIST/raw\n",
      "\n",
      "Downloading http://yann.lecun.com/exdb/mnist/t10k-images-idx3-ubyte.gz\n",
      "Failed to download (trying next):\n",
      "HTTP Error 404: Not Found\n",
      "\n",
      "Downloading https://ossci-datasets.s3.amazonaws.com/mnist/t10k-images-idx3-ubyte.gz\n",
      "Downloading https://ossci-datasets.s3.amazonaws.com/mnist/t10k-images-idx3-ubyte.gz to ./MNIST/raw/t10k-images-idx3-ubyte.gz\n"
     ]
    },
    {
     "name": "stderr",
     "output_type": "stream",
     "text": [
      "100%|██████████| 1.65M/1.65M [00:00<00:00, 4.47MB/s]\n"
     ]
    },
    {
     "name": "stdout",
     "output_type": "stream",
     "text": [
      "Extracting ./MNIST/raw/t10k-images-idx3-ubyte.gz to ./MNIST/raw\n",
      "\n",
      "Downloading http://yann.lecun.com/exdb/mnist/t10k-labels-idx1-ubyte.gz\n",
      "Failed to download (trying next):\n",
      "HTTP Error 404: Not Found\n",
      "\n",
      "Downloading https://ossci-datasets.s3.amazonaws.com/mnist/t10k-labels-idx1-ubyte.gz\n",
      "Downloading https://ossci-datasets.s3.amazonaws.com/mnist/t10k-labels-idx1-ubyte.gz to ./MNIST/raw/t10k-labels-idx1-ubyte.gz\n"
     ]
    },
    {
     "name": "stderr",
     "output_type": "stream",
     "text": [
      "100%|██████████| 4.54k/4.54k [00:00<00:00, 5.33MB/s]"
     ]
    },
    {
     "name": "stdout",
     "output_type": "stream",
     "text": [
      "Extracting ./MNIST/raw/t10k-labels-idx1-ubyte.gz to ./MNIST/raw\n",
      "\n"
     ]
    },
    {
     "name": "stderr",
     "output_type": "stream",
     "text": [
      "\n"
     ]
    }
   ],
   "source": [
    "mnist_train = torchvision.datasets.MNIST(\".\", train=True, download=True, transform=mnist_transform)\n",
    "mnist_test = torchvision.datasets.MNIST(\".\", train=False, download=True, transform=mnist_transform)"
   ]
  },
  {
   "cell_type": "code",
   "execution_count": 4,
   "id": "3ac00984",
   "metadata": {
    "execution": {
     "iopub.execute_input": "2025-03-02T11:54:29.327130Z",
     "iopub.status.busy": "2025-03-02T11:54:29.326826Z",
     "iopub.status.idle": "2025-03-02T11:54:29.330717Z",
     "shell.execute_reply": "2025-03-02T11:54:29.329891Z"
    },
    "papermill": {
     "duration": 0.010745,
     "end_time": "2025-03-02T11:54:29.331959",
     "exception": false,
     "start_time": "2025-03-02T11:54:29.321214",
     "status": "completed"
    },
    "tags": []
   },
   "outputs": [],
   "source": [
    "from torch.utils.data import random_split"
   ]
  },
  {
   "cell_type": "code",
   "execution_count": 5,
   "id": "2d4f9131",
   "metadata": {
    "execution": {
     "iopub.execute_input": "2025-03-02T11:54:29.342686Z",
     "iopub.status.busy": "2025-03-02T11:54:29.342384Z",
     "iopub.status.idle": "2025-03-02T11:54:29.362232Z",
     "shell.execute_reply": "2025-03-02T11:54:29.361431Z"
    },
    "papermill": {
     "duration": 0.026713,
     "end_time": "2025-03-02T11:54:29.363590",
     "exception": false,
     "start_time": "2025-03-02T11:54:29.336877",
     "status": "completed"
    },
    "tags": []
   },
   "outputs": [],
   "source": [
    "# Define split ratios\n",
    "train_size = int(0.8 * len(mnist_train))\n",
    "val_size = int(0.2 * len(mnist_train))\n",
    "\n",
    "# Split dataset\n",
    "train_dataset, val_dataset = random_split(mnist_train, [train_size, val_size])"
   ]
  },
  {
   "cell_type": "code",
   "execution_count": 6,
   "id": "7a6c3a77",
   "metadata": {
    "execution": {
     "iopub.execute_input": "2025-03-02T11:54:29.374357Z",
     "iopub.status.busy": "2025-03-02T11:54:29.374125Z",
     "iopub.status.idle": "2025-03-02T11:54:29.377386Z",
     "shell.execute_reply": "2025-03-02T11:54:29.376573Z"
    },
    "papermill": {
     "duration": 0.01037,
     "end_time": "2025-03-02T11:54:29.379004",
     "exception": false,
     "start_time": "2025-03-02T11:54:29.368634",
     "status": "completed"
    },
    "tags": []
   },
   "outputs": [],
   "source": [
    "from torch.utils.data import DataLoader"
   ]
  },
  {
   "cell_type": "code",
   "execution_count": 7,
   "id": "d8530a7c",
   "metadata": {
    "execution": {
     "iopub.execute_input": "2025-03-02T11:54:29.395197Z",
     "iopub.status.busy": "2025-03-02T11:54:29.394980Z",
     "iopub.status.idle": "2025-03-02T11:54:29.398928Z",
     "shell.execute_reply": "2025-03-02T11:54:29.398127Z"
    },
    "papermill": {
     "duration": 0.012183,
     "end_time": "2025-03-02T11:54:29.400359",
     "exception": false,
     "start_time": "2025-03-02T11:54:29.388176",
     "status": "completed"
    },
    "tags": []
   },
   "outputs": [],
   "source": [
    "batch_size = 32\n",
    "\n",
    "train_loader = DataLoader(train_dataset, batch_size=batch_size, shuffle=True)\n",
    "val_loader = DataLoader(val_dataset, batch_size=batch_size, shuffle=True)\n",
    "\n",
    "pred_loader = DataLoader(mnist_test, batch_size=batch_size, shuffle=True)"
   ]
  },
  {
   "cell_type": "code",
   "execution_count": 8,
   "id": "0d8b6e0e",
   "metadata": {
    "execution": {
     "iopub.execute_input": "2025-03-02T11:54:29.418107Z",
     "iopub.status.busy": "2025-03-02T11:54:29.417887Z",
     "iopub.status.idle": "2025-03-02T11:54:29.483071Z",
     "shell.execute_reply": "2025-03-02T11:54:29.482093Z"
    },
    "papermill": {
     "duration": 0.075189,
     "end_time": "2025-03-02T11:54:29.484508",
     "exception": false,
     "start_time": "2025-03-02T11:54:29.409319",
     "status": "completed"
    },
    "tags": []
   },
   "outputs": [
    {
     "name": "stdout",
     "output_type": "stream",
     "text": [
      "Using device: cuda\n"
     ]
    }
   ],
   "source": [
    "device = torch.device(\"cuda\" if torch.cuda.is_available() else \"cpu\")\n",
    "print(f\"Using device: {device}\")"
   ]
  },
  {
   "cell_type": "code",
   "execution_count": 9,
   "id": "13949f4d",
   "metadata": {
    "execution": {
     "iopub.execute_input": "2025-03-02T11:54:29.501613Z",
     "iopub.status.busy": "2025-03-02T11:54:29.501182Z",
     "iopub.status.idle": "2025-03-02T11:54:29.507851Z",
     "shell.execute_reply": "2025-03-02T11:54:29.506949Z"
    },
    "papermill": {
     "duration": 0.016453,
     "end_time": "2025-03-02T11:54:29.509498",
     "exception": false,
     "start_time": "2025-03-02T11:54:29.493045",
     "status": "completed"
    },
    "tags": []
   },
   "outputs": [],
   "source": [
    "class Generator(nn.Module):\n",
    "    def __init__(self, dropout_prob=0.1):\n",
    "        super().__init__()\n",
    "\n",
    "        self.layers = nn.ModuleList([\n",
    "            nn.Flatten(),\n",
    "            \n",
    "            nn.Linear(28*28, 1200),\n",
    "            nn.ReLU(),\n",
    "            nn.Dropout(dropout_prob),\n",
    "\n",
    "            nn.Linear(1200, 1200),\n",
    "            nn.ReLU(),\n",
    "            nn.Dropout(dropout_prob),\n",
    "\n",
    "            nn.Linear(1200, 28*28)\n",
    "        ])\n",
    "\n",
    "    def forward(self, x):\n",
    "        for layer in self.layers:\n",
    "            x = layer(x)\n",
    "        return x"
   ]
  },
  {
   "cell_type": "code",
   "execution_count": 10,
   "id": "9a9d3961",
   "metadata": {
    "execution": {
     "iopub.execute_input": "2025-03-02T11:54:29.520879Z",
     "iopub.status.busy": "2025-03-02T11:54:29.520630Z",
     "iopub.status.idle": "2025-03-02T11:54:29.564415Z",
     "shell.execute_reply": "2025-03-02T11:54:29.563536Z"
    },
    "papermill": {
     "duration": 0.050907,
     "end_time": "2025-03-02T11:54:29.565818",
     "exception": false,
     "start_time": "2025-03-02T11:54:29.514911",
     "status": "completed"
    },
    "tags": []
   },
   "outputs": [],
   "source": [
    "generator = Generator(dropout_prob=0.1)"
   ]
  },
  {
   "cell_type": "code",
   "execution_count": 11,
   "id": "6ac958cb",
   "metadata": {
    "execution": {
     "iopub.execute_input": "2025-03-02T11:54:29.576679Z",
     "iopub.status.busy": "2025-03-02T11:54:29.576469Z",
     "iopub.status.idle": "2025-03-02T11:54:29.581019Z",
     "shell.execute_reply": "2025-03-02T11:54:29.580284Z"
    },
    "papermill": {
     "duration": 0.011401,
     "end_time": "2025-03-02T11:54:29.582360",
     "exception": false,
     "start_time": "2025-03-02T11:54:29.570959",
     "status": "completed"
    },
    "tags": []
   },
   "outputs": [],
   "source": [
    "class Adversial(nn.Module):\n",
    "    def __init__(self, dropout_prob=0.1):\n",
    "        super().__init__()\n",
    "\n",
    "        self.layers = nn.ModuleList([\n",
    "            nn.Flatten(),\n",
    "            \n",
    "            nn.Linear(28*28, 600),\n",
    "            nn.ReLU(),\n",
    "            nn.Dropout(dropout_prob),\n",
    "\n",
    "            nn.Linear(600, 600),\n",
    "            nn.ReLU(),\n",
    "            nn.Dropout(dropout_prob),\n",
    "\n",
    "            nn.Linear(600, 1)\n",
    "        ])\n",
    "\n",
    "    def forward(self, x):\n",
    "        for layer in self.layers:\n",
    "            x = layer(x)\n",
    "        return x"
   ]
  },
  {
   "cell_type": "code",
   "execution_count": 12,
   "id": "432a102b",
   "metadata": {
    "execution": {
     "iopub.execute_input": "2025-03-02T11:54:29.593111Z",
     "iopub.status.busy": "2025-03-02T11:54:29.592823Z",
     "iopub.status.idle": "2025-03-02T11:54:29.607193Z",
     "shell.execute_reply": "2025-03-02T11:54:29.606548Z"
    },
    "papermill": {
     "duration": 0.021086,
     "end_time": "2025-03-02T11:54:29.608378",
     "exception": false,
     "start_time": "2025-03-02T11:54:29.587292",
     "status": "completed"
    },
    "tags": []
   },
   "outputs": [],
   "source": [
    "adv = Adversial(dropout_prob=0.1)"
   ]
  },
  {
   "cell_type": "code",
   "execution_count": 13,
   "id": "d17269f1",
   "metadata": {
    "execution": {
     "iopub.execute_input": "2025-03-02T11:54:29.619265Z",
     "iopub.status.busy": "2025-03-02T11:54:29.618990Z",
     "iopub.status.idle": "2025-03-02T11:54:29.624897Z",
     "shell.execute_reply": "2025-03-02T11:54:29.624152Z"
    },
    "papermill": {
     "duration": 0.012792,
     "end_time": "2025-03-02T11:54:29.626199",
     "exception": false,
     "start_time": "2025-03-02T11:54:29.613407",
     "status": "completed"
    },
    "tags": []
   },
   "outputs": [
    {
     "data": {
      "text/plain": [
       "1500"
      ]
     },
     "execution_count": 13,
     "metadata": {},
     "output_type": "execute_result"
    }
   ],
   "source": [
    "num_batches = len(train_loader)\n",
    "num_batches"
   ]
  },
  {
   "cell_type": "code",
   "execution_count": 14,
   "id": "5a37a02b",
   "metadata": {
    "execution": {
     "iopub.execute_input": "2025-03-02T11:54:29.636917Z",
     "iopub.status.busy": "2025-03-02T11:54:29.636659Z",
     "iopub.status.idle": "2025-03-02T11:54:29.639631Z",
     "shell.execute_reply": "2025-03-02T11:54:29.638952Z"
    },
    "papermill": {
     "duration": 0.009733,
     "end_time": "2025-03-02T11:54:29.640911",
     "exception": false,
     "start_time": "2025-03-02T11:54:29.631178",
     "status": "completed"
    },
    "tags": []
   },
   "outputs": [],
   "source": [
    "import itertools"
   ]
  },
  {
   "cell_type": "code",
   "execution_count": 15,
   "id": "b7fa503f",
   "metadata": {
    "execution": {
     "iopub.execute_input": "2025-03-02T11:54:29.651748Z",
     "iopub.status.busy": "2025-03-02T11:54:29.651414Z",
     "iopub.status.idle": "2025-03-02T11:54:29.657048Z",
     "shell.execute_reply": "2025-03-02T11:54:29.656288Z"
    },
    "papermill": {
     "duration": 0.012308,
     "end_time": "2025-03-02T11:54:29.658287",
     "exception": false,
     "start_time": "2025-03-02T11:54:29.645979",
     "status": "completed"
    },
    "tags": []
   },
   "outputs": [],
   "source": [
    "import torch.nn.functional as F\n",
    "\n",
    "def adversarialLoss(d_x, d_g_z):\n",
    "    return (F.binary_cross_entropy_with_logits(d_x, torch.full_like(d_x, 0.9)) +\n",
    "            F.binary_cross_entropy_with_logits(d_g_z, torch.full_like(d_g_z, 0.1)))\n",
    "\n",
    "def generatorLoss(d_g_z):\n",
    "    return F.binary_cross_entropy_with_logits(d_g_z, torch.ones_like(d_g_z))"
   ]
  },
  {
   "cell_type": "code",
   "execution_count": 16,
   "id": "5a55de29",
   "metadata": {
    "execution": {
     "iopub.execute_input": "2025-03-02T11:54:29.669043Z",
     "iopub.status.busy": "2025-03-02T11:54:29.668767Z",
     "iopub.status.idle": "2025-03-02T11:54:29.672191Z",
     "shell.execute_reply": "2025-03-02T11:54:29.671476Z"
    },
    "papermill": {
     "duration": 0.010226,
     "end_time": "2025-03-02T11:54:29.673396",
     "exception": false,
     "start_time": "2025-03-02T11:54:29.663170",
     "status": "completed"
    },
    "tags": []
   },
   "outputs": [],
   "source": [
    "import math"
   ]
  },
  {
   "cell_type": "code",
   "execution_count": 17,
   "id": "6a019477",
   "metadata": {
    "execution": {
     "iopub.execute_input": "2025-03-02T11:54:29.684191Z",
     "iopub.status.busy": "2025-03-02T11:54:29.683915Z",
     "iopub.status.idle": "2025-03-02T11:56:37.580598Z",
     "shell.execute_reply": "2025-03-02T11:56:37.579783Z"
    },
    "papermill": {
     "duration": 127.903655,
     "end_time": "2025-03-02T11:56:37.582039",
     "exception": false,
     "start_time": "2025-03-02T11:54:29.678384",
     "status": "completed"
    },
    "tags": []
   },
   "outputs": [
    {
     "name": "stdout",
     "output_type": "stream",
     "text": [
      "Epoch 1000/20000, Adversial Loss: 1.0106, Generator Loss: 2.6407\n",
      "Epoch 2000/20000, Adversial Loss: 1.0324, Generator Loss: 2.4364\n",
      "Epoch 3000/20000, Adversial Loss: 0.8340, Generator Loss: 2.0765\n",
      "Epoch 4000/20000, Adversial Loss: 0.8746, Generator Loss: 2.1188\n",
      "Epoch 5000/20000, Adversial Loss: 0.7727, Generator Loss: 2.1560\n",
      "Epoch 6000/20000, Adversial Loss: 0.6754, Generator Loss: 2.1932\n",
      "Epoch 7000/20000, Adversial Loss: 0.6955, Generator Loss: 2.3621\n",
      "Epoch 8000/20000, Adversial Loss: 0.6598, Generator Loss: 2.2359\n",
      "Epoch 9000/20000, Adversial Loss: 0.6830, Generator Loss: 2.1590\n",
      "Epoch 10000/20000, Adversial Loss: 0.6541, Generator Loss: 2.3293\n",
      "Epoch 11000/20000, Adversial Loss: 0.6567, Generator Loss: 2.2965\n",
      "Epoch 12000/20000, Adversial Loss: 0.6545, Generator Loss: 2.3468\n",
      "Epoch 13000/20000, Adversial Loss: 0.6563, Generator Loss: 2.2686\n",
      "Epoch 14000/20000, Adversial Loss: 0.6693, Generator Loss: 2.3962\n",
      "Epoch 15000/20000, Adversial Loss: 0.6522, Generator Loss: 2.2863\n",
      "Epoch 16000/20000, Adversial Loss: 0.6558, Generator Loss: 2.2777\n",
      "Epoch 17000/20000, Adversial Loss: 0.6518, Generator Loss: 2.3477\n",
      "Epoch 18000/20000, Adversial Loss: 0.6540, Generator Loss: 2.2947\n",
      "Epoch 19000/20000, Adversial Loss: 0.6512, Generator Loss: 2.2752\n",
      "Epoch 20000/20000, Adversial Loss: 0.6510, Generator Loss: 2.2910\n"
     ]
    }
   ],
   "source": [
    "learning_rate = 1e-3\n",
    "k = 1\n",
    "\n",
    "# less epoch as can easily overfit\n",
    "num_epoch = 20000\n",
    "\n",
    "lossi_gen = []\n",
    "lossi_adv = []\n",
    "\n",
    "total_samples = len(train_loader)\n",
    "\n",
    "advOptimizer = torch.optim.AdamW(adv.parameters(), lr=learning_rate)\n",
    "generatorOptimizer = torch.optim.AdamW(generator.parameters(), lr=learning_rate)\n",
    "\n",
    "generator = generator.to(device)\n",
    "adv = adv.to(device)\n",
    "\n",
    "train_loader_iter_adv_training = itertools.cycle(iter(train_loader))\n",
    "\n",
    "for epoch in range(num_epoch):\n",
    "    adv.train()\n",
    "    generator.eval()\n",
    "    \n",
    "    for _ in range(k):\n",
    "        advOptimizer.zero_grad()\n",
    "        \n",
    "        feature, _ = next(train_loader_iter_adv_training)\n",
    "        feature = feature.to(device)\n",
    "        # print(f\"feature: {feature}\")\n",
    "        # print(f\"feature.shape: {feature.shape}\")\n",
    "\n",
    "        pred_data = adv(feature)\n",
    "        # print(f\"pred_data: {pred_data}\")\n",
    "        # print(f\"pred_data.shape: {pred_data.shape}\")\n",
    "\n",
    "        noise = torch.randn(batch_size, 1, 28, 28)\n",
    "        noise = noise.to(device)\n",
    "        # print(f\"noise: {noise}\")\n",
    "        # print(f\"noise.shape: {noise.shape}\")\n",
    "    \n",
    "        gen_data = generator(noise)\n",
    "        # print(f\"gen_data: {noise}\")\n",
    "        # print(f\"gen_data.shape: {gen_data.shape}\")\n",
    "        \n",
    "        pred_gen_data = adv(gen_data)\n",
    "        # print(f\"pred_gen_data: {pred_gen_data}\")\n",
    "        # print(f\"pred_gen_data.shape: {pred_gen_data.shape}\")\n",
    "\n",
    "        # loss\n",
    "        advLoss = adversarialLoss(pred_data, pred_gen_data)\n",
    "\n",
    "        advLoss.backward()\n",
    "        advOptimizer.step()\n",
    "\n",
    "        lossi_adv.append(advLoss.detach().cpu())\n",
    "\n",
    "    generatorOptimizer.zero_grad()\n",
    "\n",
    "    adv.eval()\n",
    "    generator.train()\n",
    "\n",
    "    noise = torch.randn(batch_size*2, 1, 28, 28)\n",
    "    noise = noise.to(device)\n",
    "    # print(f\"noise: {noise}\")\n",
    "    # print(f\"noise.shape: {noise.shape}\")\n",
    "\n",
    "    gen_data = generator(noise)\n",
    "    # print(f\"gen_data: {noise}\")\n",
    "    # print(f\"gen_data.shape: {gen_data.shape}\")\n",
    "\n",
    "    pred_gen_data = adv(gen_data)\n",
    "    # print(f\"pred_gen_data: {pred_gen_data}\")\n",
    "    # print(f\"pred_gen_data.shape: {pred_gen_data.shape}\")\n",
    "    \n",
    "    # loss\n",
    "    genLoss = generatorLoss(pred_gen_data)\n",
    "\n",
    "    genLoss.backward()\n",
    "    generatorOptimizer.step()\n",
    "\n",
    "    lossi_gen.append(genLoss.detach().cpu())\n",
    "\n",
    "    if ((epoch+1)%1000==0):\n",
    "        print(f\"Epoch {epoch+1}/{num_epoch}, Adversial Loss: {advLoss.item():.4f}, Generator Loss: {genLoss.item():.4f}\")"
   ]
  },
  {
   "cell_type": "code",
   "execution_count": 18,
   "id": "df47e50c",
   "metadata": {
    "execution": {
     "iopub.execute_input": "2025-03-02T11:56:37.595382Z",
     "iopub.status.busy": "2025-03-02T11:56:37.595159Z",
     "iopub.status.idle": "2025-03-02T11:56:37.598141Z",
     "shell.execute_reply": "2025-03-02T11:56:37.597529Z"
    },
    "papermill": {
     "duration": 0.010704,
     "end_time": "2025-03-02T11:56:37.599260",
     "exception": false,
     "start_time": "2025-03-02T11:56:37.588556",
     "status": "completed"
    },
    "tags": []
   },
   "outputs": [],
   "source": [
    "import matplotlib.pyplot as plt"
   ]
  },
  {
   "cell_type": "code",
   "execution_count": 19,
   "id": "eee19c38",
   "metadata": {
    "execution": {
     "iopub.execute_input": "2025-03-02T11:56:37.611839Z",
     "iopub.status.busy": "2025-03-02T11:56:37.611625Z",
     "iopub.status.idle": "2025-03-02T11:56:38.114795Z",
     "shell.execute_reply": "2025-03-02T11:56:38.113889Z"
    },
    "papermill": {
     "duration": 0.510886,
     "end_time": "2025-03-02T11:56:38.116174",
     "exception": false,
     "start_time": "2025-03-02T11:56:37.605288",
     "status": "completed"
    },
    "tags": []
   },
   "outputs": [
    {
     "data": {
      "text/plain": [
       "[<matplotlib.lines.Line2D at 0x7d90457c89a0>]"
      ]
     },
     "execution_count": 19,
     "metadata": {},
     "output_type": "execute_result"
    },
    {
     "data": {
      "image/png": "[encoded data removed]",
      "text/plain": [
       "<Figure size 640x480 with 1 Axes>"
      ]
     },
     "metadata": {},
     "output_type": "display_data"
    }
   ],
   "source": [
    "plt.plot(lossi_adv, c=\"red\")\n",
    "plt.plot(lossi_gen, c=\"blue\")"
   ]
  },
  {
   "cell_type": "code",
   "execution_count": 20,
   "id": "3cd16c3c",
   "metadata": {
    "execution": {
     "iopub.execute_input": "2025-03-02T11:56:38.130107Z",
     "iopub.status.busy": "2025-03-02T11:56:38.129865Z",
     "iopub.status.idle": "2025-03-02T11:56:38.270883Z",
     "shell.execute_reply": "2025-03-02T11:56:38.270007Z"
    },
    "papermill": {
     "duration": 0.149298,
     "end_time": "2025-03-02T11:56:38.272136",
     "exception": false,
     "start_time": "2025-03-02T11:56:38.122838",
     "status": "completed"
    },
    "tags": []
   },
   "outputs": [
    {
     "data": {
      "image/png": "[encoded data removed]",
      "text/plain": [
       "<Figure size 640x480 with 1 Axes>"
      ]
     },
     "metadata": {},
     "output_type": "display_data"
    }
   ],
   "source": [
    "generator.eval()\n",
    "\n",
    "with torch.no_grad():\n",
    "    noise = torch.randn(1, 1, 28, 28)\n",
    "    noise = noise.to(device)\n",
    "    \n",
    "    gen_img = generator(noise)\n",
    "    img = gen_img.view(1, 28, 28)\n",
    "    \n",
    "    plt.imshow(img.squeeze().cpu(), cmap=\"gray\")\n",
    "    plt.show()"
   ]
  },
  {
   "cell_type": "code",
   "execution_count": null,
   "id": "bfd457f5",
   "metadata": {
    "papermill": {
     "duration": 0.006444,
     "end_time": "2025-03-02T11:56:38.285419",
     "exception": false,
     "start_time": "2025-03-02T11:56:38.278975",
     "status": "completed"
    },
    "tags": []
   },
   "outputs": [],
   "source": []
  }
 ],
 "metadata": {
  "kaggle": {
   "accelerator": "gpu",
   "dataSources": [],
   "dockerImageVersionId": 30918,
   "isGpuEnabled": true,
   "isInternetEnabled": true,
   "language": "python",
   "sourceType": "notebook"
  },
  "kernelspec": {
   "display_name": "Python 3",
   "language": "python",
   "name": "python3"
  },
  "language_info": {
   "codemirror_mode": {
    "name": "ipython",
    "version": 3
   },
   "file_extension": ".py",
   "mimetype": "text/x-python",
   "name": "python",
   "nbconvert_exporter": "python",
   "pygments_lexer": "ipython3",
   "version": "3.10.12"
  },
  "papermill": {
   "default_parameters": {},
   "duration": 144.116434,
   "end_time": "2025-03-02T11:56:39.711569",
   "environment_variables": {},
   "exception": null,
   "input_path": "__notebook__.ipynb",
   "output_path": "__notebook__.ipynb",
   "parameters": {},
   "start_time": "2025-03-02T11:54:15.595135",
   "version": "2.6.0"
  }
 },
 "nbformat": 4,
 "nbformat_minor": 5
}
