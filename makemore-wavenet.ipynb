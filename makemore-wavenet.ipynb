{
 "cells": [
  {
   "cell_type": "code",
   "execution_count": 1,
   "id": "eb89031a",
   "metadata": {
    "_cell_guid": "b1076dfc-b9ad-4769-8c92-a6c4dae69d19",
    "_uuid": "8f2839f25d086af736a60e9eeb907d3b93b6e0e5",
    "execution": {
     "iopub.execute_input": "2025-01-20T16:45:19.661514Z",
     "iopub.status.busy": "2025-01-20T16:45:19.661135Z",
     "iopub.status.idle": "2025-01-20T16:45:19.666622Z",
     "shell.execute_reply": "2025-01-20T16:45:19.665393Z"
    },
    "papermill": {
     "duration": 0.016385,
     "end_time": "2025-01-20T16:45:19.668349",
     "exception": false,
     "start_time": "2025-01-20T16:45:19.651964",
     "status": "completed"
    },
    "tags": []
   },
   "outputs": [],
   "source": [
    "# https://www.youtube.com/playlist?list=PLAqhIrjkxbuWI23v9cThsA9GvCAUhRvKZ"
   ]
  },
  {
   "cell_type": "code",
   "execution_count": 2,
   "id": "ec27ebac",
   "metadata": {
    "execution": {
     "iopub.execute_input": "2025-01-20T16:45:19.684240Z",
     "iopub.status.busy": "2025-01-20T16:45:19.683903Z",
     "iopub.status.idle": "2025-01-20T16:45:19.687908Z",
     "shell.execute_reply": "2025-01-20T16:45:19.686938Z"
    },
    "papermill": {
     "duration": 0.013487,
     "end_time": "2025-01-20T16:45:19.689473",
     "exception": false,
     "start_time": "2025-01-20T16:45:19.675986",
     "status": "completed"
    },
    "tags": []
   },
   "outputs": [],
   "source": [
    "# from prev lessons"
   ]
  },
  {
   "cell_type": "code",
   "execution_count": 3,
   "id": "a9f58419",
   "metadata": {
    "execution": {
     "iopub.execute_input": "2025-01-20T16:45:19.705033Z",
     "iopub.status.busy": "2025-01-20T16:45:19.704627Z",
     "iopub.status.idle": "2025-01-20T16:45:20.144272Z",
     "shell.execute_reply": "2025-01-20T16:45:20.142995Z"
    },
    "papermill": {
     "duration": 0.449682,
     "end_time": "2025-01-20T16:45:20.146446",
     "exception": false,
     "start_time": "2025-01-20T16:45:19.696764",
     "status": "completed"
    },
    "tags": []
   },
   "outputs": [
    {
     "name": "stdout",
     "output_type": "stream",
     "text": [
      "--2025-01-20 16:45:19--  https://raw.githubusercontent.com/karpathy/makemore/refs/heads/master/names.txt\r\n",
      "Resolving raw.githubusercontent.com (raw.githubusercontent.com)... 185.199.109.133, 185.199.111.133, 185.199.110.133, ...\r\n",
      "Connecting to raw.githubusercontent.com (raw.githubusercontent.com)|185.199.109.133|:443... connected.\r\n",
      "HTTP request sent, awaiting response... 200 OK\r\n",
      "Length: 228145 (223K) [text/plain]\r\n",
      "Saving to: ‘names.txt’\r\n",
      "\r\n",
      "names.txt           100%[===================>] 222.80K  --.-KB/s    in 0.004s  \r\n",
      "\r\n",
      "2025-01-20 16:45:20 (59.3 MB/s) - ‘names.txt’ saved [228145/228145]\r\n",
      "\r\n"
     ]
    }
   ],
   "source": [
    "!wget https://raw.githubusercontent.com/karpathy/makemore/refs/heads/master/names.txt"
   ]
  },
  {
   "cell_type": "code",
   "execution_count": 4,
   "id": "bf8905a1",
   "metadata": {
    "execution": {
     "iopub.execute_input": "2025-01-20T16:45:20.162614Z",
     "iopub.status.busy": "2025-01-20T16:45:20.162289Z",
     "iopub.status.idle": "2025-01-20T16:45:20.166123Z",
     "shell.execute_reply": "2025-01-20T16:45:20.165202Z"
    },
    "papermill": {
     "duration": 0.013577,
     "end_time": "2025-01-20T16:45:20.167548",
     "exception": false,
     "start_time": "2025-01-20T16:45:20.153971",
     "status": "completed"
    },
    "tags": []
   },
   "outputs": [],
   "source": [
    "# NeuralNet\n",
    "# recieve single char as input and return prob distrubition for next char"
   ]
  },
  {
   "cell_type": "code",
   "execution_count": 5,
   "id": "440bb562",
   "metadata": {
    "execution": {
     "iopub.execute_input": "2025-01-20T16:45:20.183743Z",
     "iopub.status.busy": "2025-01-20T16:45:20.183383Z",
     "iopub.status.idle": "2025-01-20T16:45:20.192201Z",
     "shell.execute_reply": "2025-01-20T16:45:20.191234Z"
    },
    "papermill": {
     "duration": 0.018747,
     "end_time": "2025-01-20T16:45:20.193839",
     "exception": false,
     "start_time": "2025-01-20T16:45:20.175092",
     "status": "completed"
    },
    "tags": []
   },
   "outputs": [],
   "source": [
    "words = open(\"names.txt\", \"r\").read().splitlines()"
   ]
  },
  {
   "cell_type": "code",
   "execution_count": 6,
   "id": "0b929ced",
   "metadata": {
    "execution": {
     "iopub.execute_input": "2025-01-20T16:45:20.209743Z",
     "iopub.status.busy": "2025-01-20T16:45:20.209382Z",
     "iopub.status.idle": "2025-01-20T16:45:20.220186Z",
     "shell.execute_reply": "2025-01-20T16:45:20.218765Z"
    },
    "papermill": {
     "duration": 0.020579,
     "end_time": "2025-01-20T16:45:20.222047",
     "exception": false,
     "start_time": "2025-01-20T16:45:20.201468",
     "status": "completed"
    },
    "tags": []
   },
   "outputs": [
    {
     "name": "stdout",
     "output_type": "stream",
     "text": [
      "{1: 'a', 2: 'b', 3: 'c', 4: 'd', 5: 'e', 6: 'f', 7: 'g', 8: 'h', 9: 'i', 10: 'j', 11: 'k', 12: 'l', 13: 'm', 14: 'n', 15: 'o', 16: 'p', 17: 'q', 18: 'r', 19: 's', 20: 't', 21: 'u', 22: 'v', 23: 'w', 24: 'x', 25: 'y', 26: 'z', 0: '.'}\n",
      "27\n"
     ]
    }
   ],
   "source": [
    "# build the vocabulary of characters and mappings to/from integers\n",
    "chars = sorted(list(set(''.join(words))))\n",
    "stoi = {s:i+1 for i,s in enumerate(chars)}\n",
    "stoi['.'] = 0\n",
    "itos = {i:s for s,i in stoi.items()}\n",
    "vocab_size = len(itos)\n",
    "print(itos)\n",
    "print(vocab_size)"
   ]
  },
  {
   "cell_type": "code",
   "execution_count": 7,
   "id": "8c81cd2c",
   "metadata": {
    "execution": {
     "iopub.execute_input": "2025-01-20T16:45:20.238411Z",
     "iopub.status.busy": "2025-01-20T16:45:20.238071Z",
     "iopub.status.idle": "2025-01-20T16:45:24.144042Z",
     "shell.execute_reply": "2025-01-20T16:45:24.142890Z"
    },
    "papermill": {
     "duration": 3.916488,
     "end_time": "2025-01-20T16:45:24.146102",
     "exception": false,
     "start_time": "2025-01-20T16:45:20.229614",
     "status": "completed"
    },
    "tags": []
   },
   "outputs": [],
   "source": [
    "import torch\n",
    "import torch.nn.functional as F\n",
    "import matplotlib.pyplot as plt"
   ]
  },
  {
   "cell_type": "code",
   "execution_count": 8,
   "id": "f3ff9551",
   "metadata": {
    "execution": {
     "iopub.execute_input": "2025-01-20T16:45:24.163059Z",
     "iopub.status.busy": "2025-01-20T16:45:24.162489Z",
     "iopub.status.idle": "2025-01-20T16:45:24.790068Z",
     "shell.execute_reply": "2025-01-20T16:45:24.789073Z"
    },
    "papermill": {
     "duration": 0.637989,
     "end_time": "2025-01-20T16:45:24.792101",
     "exception": false,
     "start_time": "2025-01-20T16:45:24.154112",
     "status": "completed"
    },
    "tags": []
   },
   "outputs": [
    {
     "name": "stdout",
     "output_type": "stream",
     "text": [
      "torch.Size([182625, 3]) torch.Size([182625])\n",
      "torch.Size([22655, 3]) torch.Size([22655])\n",
      "torch.Size([22866, 3]) torch.Size([22866])\n"
     ]
    }
   ],
   "source": [
    "# build the dataset\n",
    "block_size = 3 # context length: how many characters do we take to predict the next one?\n",
    "\n",
    "def build_dataset(words):  \n",
    "  X, Y = [], []\n",
    "  \n",
    "  for w in words:\n",
    "    context = [0] * block_size\n",
    "    for ch in w + '.':\n",
    "      ix = stoi[ch]\n",
    "      X.append(context)\n",
    "      Y.append(ix)\n",
    "      context = context[1:] + [ix] # crop and append\n",
    "\n",
    "  X = torch.tensor(X)\n",
    "  Y = torch.tensor(Y)\n",
    "  print(X.shape, Y.shape)\n",
    "  return X, Y\n",
    "\n",
    "import random\n",
    "random.seed(42)\n",
    "random.shuffle(words)\n",
    "n1 = int(0.8*len(words))\n",
    "n2 = int(0.9*len(words))\n",
    "\n",
    "Xtr,  Ytr  = build_dataset(words[:n1])     # 80%\n",
    "Xdev, Ydev = build_dataset(words[n1:n2])   # 10%\n",
    "Xte,  Yte  = build_dataset(words[n2:])     # 10%"
   ]
  },
  {
   "cell_type": "code",
   "execution_count": 9,
   "id": "0f058e84",
   "metadata": {
    "execution": {
     "iopub.execute_input": "2025-01-20T16:45:24.818346Z",
     "iopub.status.busy": "2025-01-20T16:45:24.817884Z",
     "iopub.status.idle": "2025-01-20T16:45:24.862360Z",
     "shell.execute_reply": "2025-01-20T16:45:24.861167Z"
    },
    "papermill": {
     "duration": 0.058914,
     "end_time": "2025-01-20T16:45:24.864189",
     "exception": false,
     "start_time": "2025-01-20T16:45:24.805275",
     "status": "completed"
    },
    "tags": []
   },
   "outputs": [
    {
     "name": "stdout",
     "output_type": "stream",
     "text": [
      "... --> y\n",
      "..y --> u\n",
      ".yu --> h\n",
      "yuh --> e\n",
      "uhe --> n\n",
      "hen --> g\n",
      "eng --> .\n",
      "... --> d\n",
      "..d --> i\n",
      ".di --> o\n",
      "dio --> n\n",
      "ion --> d\n",
      "ond --> r\n",
      "ndr --> e\n",
      "dre --> .\n",
      "... --> x\n",
      "..x --> a\n",
      ".xa --> v\n",
      "xav --> i\n",
      "avi --> e\n"
     ]
    }
   ],
   "source": [
    "for x, y in zip(Xtr[:20], Ytr[:20]):\n",
    "    print(''.join(itos[ix.item()] for ix in x), '-->', itos[y.item()])"
   ]
  },
  {
   "cell_type": "code",
   "execution_count": 10,
   "id": "bfc218b0",
   "metadata": {
    "execution": {
     "iopub.execute_input": "2025-01-20T16:45:24.880716Z",
     "iopub.status.busy": "2025-01-20T16:45:24.880322Z",
     "iopub.status.idle": "2025-01-20T16:45:24.890962Z",
     "shell.execute_reply": "2025-01-20T16:45:24.889813Z"
    },
    "papermill": {
     "duration": 0.020956,
     "end_time": "2025-01-20T16:45:24.892888",
     "exception": false,
     "start_time": "2025-01-20T16:45:24.871932",
     "status": "completed"
    },
    "tags": []
   },
   "outputs": [],
   "source": [
    "# Near copy paste of the layers we have developed in Part 3\n",
    "\n",
    "# -----------------------------------------------------------------------------------------------\n",
    "class Linear:\n",
    "  \n",
    "  def __init__(self, fan_in, fan_out, bias=True):\n",
    "    self.weight = torch.randn((fan_in, fan_out)) / fan_in**0.5 # note: kaiming init\n",
    "    self.bias = torch.zeros(fan_out) if bias else None\n",
    "  \n",
    "  def __call__(self, x):\n",
    "    self.out = x @ self.weight\n",
    "    if self.bias is not None:\n",
    "      self.out += self.bias\n",
    "    return self.out\n",
    "  \n",
    "  def parameters(self):\n",
    "    return [self.weight] + ([] if self.bias is None else [self.bias])\n",
    "\n",
    "# -----------------------------------------------------------------------------------------------\n",
    "class BatchNorm1d:\n",
    "  \n",
    "  def __init__(self, dim, eps=1e-5, momentum=0.1):\n",
    "    self.eps = eps\n",
    "    self.momentum = momentum\n",
    "    self.training = True\n",
    "    # parameters (trained with backprop)\n",
    "    self.gamma = torch.ones(dim)\n",
    "    self.beta = torch.zeros(dim)\n",
    "    # buffers (trained with a running 'momentum update')\n",
    "    self.running_mean = torch.zeros(dim)\n",
    "    self.running_var = torch.ones(dim)\n",
    "  \n",
    "  def __call__(self, x):\n",
    "    # calculate the forward pass\n",
    "    if self.training:\n",
    "      if x.ndim == 2:\n",
    "        dim = 0\n",
    "      elif x.ndim == 3:\n",
    "        dim = (0,1)\n",
    "      xmean = x.mean(dim, keepdim=True) # batch mean\n",
    "      xvar = x.var(dim, keepdim=True) # batch variance\n",
    "    else:\n",
    "      xmean = self.running_mean\n",
    "      xvar = self.running_var\n",
    "    xhat = (x - xmean) / torch.sqrt(xvar + self.eps) # normalize to unit variance\n",
    "    self.out = self.gamma * xhat + self.beta\n",
    "    # update the buffers\n",
    "    if self.training:\n",
    "      with torch.no_grad():\n",
    "        self.running_mean = (1 - self.momentum) * self.running_mean + self.momentum * xmean\n",
    "        self.running_var = (1 - self.momentum) * self.running_var + self.momentum * xvar\n",
    "    return self.out\n",
    "  \n",
    "  def parameters(self):\n",
    "    return [self.gamma, self.beta]\n",
    "\n",
    "# -----------------------------------------------------------------------------------------------\n",
    "class Tanh:\n",
    "  def __call__(self, x):\n",
    "    self.out = torch.tanh(x)\n",
    "    return self.out\n",
    "  def parameters(self):\n",
    "    return []"
   ]
  },
  {
   "cell_type": "code",
   "execution_count": 11,
   "id": "d19cfa3b",
   "metadata": {
    "execution": {
     "iopub.execute_input": "2025-01-20T16:45:24.909580Z",
     "iopub.status.busy": "2025-01-20T16:45:24.909232Z",
     "iopub.status.idle": "2025-01-20T16:45:24.918514Z",
     "shell.execute_reply": "2025-01-20T16:45:24.917430Z"
    },
    "papermill": {
     "duration": 0.019352,
     "end_time": "2025-01-20T16:45:24.920370",
     "exception": false,
     "start_time": "2025-01-20T16:45:24.901018",
     "status": "completed"
    },
    "tags": []
   },
   "outputs": [],
   "source": [
    "torch.manual_seed(42); # seed rng for reproducibility"
   ]
  },
  {
   "cell_type": "code",
   "execution_count": 12,
   "id": "f3248f09",
   "metadata": {
    "execution": {
     "iopub.execute_input": "2025-01-20T16:45:24.937466Z",
     "iopub.status.busy": "2025-01-20T16:45:24.937122Z",
     "iopub.status.idle": "2025-01-20T16:45:24.977654Z",
     "shell.execute_reply": "2025-01-20T16:45:24.976602Z"
    },
    "papermill": {
     "duration": 0.050999,
     "end_time": "2025-01-20T16:45:24.979534",
     "exception": false,
     "start_time": "2025-01-20T16:45:24.928535",
     "status": "completed"
    },
    "tags": []
   },
   "outputs": [
    {
     "name": "stdout",
     "output_type": "stream",
     "text": [
      "13603\n"
     ]
    }
   ],
   "source": [
    "# hierarchical network\n",
    "n_embd = 24 # the dimensionality of the character embedding vectors\n",
    "n_hidden = 128 # the number of neurons in the hidden layer of the ML\n",
    "\n",
    "C = torch.randn((vocab_size, n_embd))\n",
    "layers = [\n",
    "    Linear(n_embd * block_size, n_hidden, bias=False),\n",
    "    BatchNorm1d(n_hidden),\n",
    "    Tanh(),\n",
    "    Linear(n_hidden, vocab_size),\n",
    "]\n",
    "\n",
    "with torch.no_grad():\n",
    "    layers[-1].weight *= 0.1\n",
    "\n",
    "parameters = [C] + [p for layer in layers for p in layer.parameters()]\n",
    "print(sum(p.nelement() for p in parameters))\n",
    "for p in parameters:\n",
    "    p.requires_grad = True"
   ]
  },
  {
   "cell_type": "code",
   "execution_count": 13,
   "id": "57ab401a",
   "metadata": {
    "execution": {
     "iopub.execute_input": "2025-01-20T16:45:24.996231Z",
     "iopub.status.busy": "2025-01-20T16:45:24.995902Z",
     "iopub.status.idle": "2025-01-20T16:48:49.127974Z",
     "shell.execute_reply": "2025-01-20T16:48:49.126783Z"
    },
    "papermill": {
     "duration": 204.143107,
     "end_time": "2025-01-20T16:48:49.130326",
     "exception": false,
     "start_time": "2025-01-20T16:45:24.987219",
     "status": "completed"
    },
    "tags": []
   },
   "outputs": [
    {
     "name": "stdout",
     "output_type": "stream",
     "text": [
      "      0/ 200000: 3.2994\n",
      "  10000/ 200000: 2.2147\n",
      "  20000/ 200000: 2.4812\n",
      "  30000/ 200000: 2.0799\n",
      "  40000/ 200000: 2.4012\n",
      "  50000/ 200000: 2.0157\n",
      "  60000/ 200000: 2.2780\n",
      "  70000/ 200000: 2.3633\n",
      "  80000/ 200000: 1.6726\n",
      "  90000/ 200000: 1.7390\n",
      " 100000/ 200000: 2.0401\n",
      " 110000/ 200000: 1.9505\n",
      " 120000/ 200000: 2.4090\n",
      " 130000/ 200000: 2.2913\n",
      " 140000/ 200000: 2.1732\n",
      " 150000/ 200000: 2.2073\n",
      " 160000/ 200000: 1.7185\n",
      " 170000/ 200000: 2.2739\n",
      " 180000/ 200000: 2.5392\n",
      " 190000/ 200000: 1.9916\n"
     ]
    }
   ],
   "source": [
    "# same optimization as last time\n",
    "max_steps = 200000\n",
    "batch_size = 32\n",
    "lossi = []\n",
    "\n",
    "for i in range(max_steps):\n",
    "  # minibatch construct\n",
    "  ix = torch.randint(0, Xtr.shape[0], (batch_size,))\n",
    "  Xb, Yb = Xtr[ix], Ytr[ix] # batch X,Y\n",
    "  \n",
    "  # forward pass\n",
    "  emb = C[Xb]\n",
    "  x = emb.view(emb.shape[0], -1)\n",
    "  for layer in layers:\n",
    "      x = layer(x)\n",
    "  loss = F.cross_entropy(x, Yb)\n",
    "\n",
    "  # backward pass\n",
    "  for p in parameters:\n",
    "    p.grad = None\n",
    "  loss.backward()\n",
    "  \n",
    "  # update: simple SGD\n",
    "  lr = 0.1 if i < 150000 else 0.01 # step learning rate decay\n",
    "  for p in parameters:\n",
    "    p.data += -lr * p.grad\n",
    "\n",
    "  # track stats\n",
    "  if i % 10000 == 0: # print every once in a while\n",
    "    print(f'{i:7d}/{max_steps:7d}: {loss.item():.4f}')\n",
    "  lossi.append(loss.log10().item())"
   ]
  },
  {
   "cell_type": "code",
   "execution_count": 14,
   "id": "ede0b7c5",
   "metadata": {
    "execution": {
     "iopub.execute_input": "2025-01-20T16:48:49.150016Z",
     "iopub.status.busy": "2025-01-20T16:48:49.149560Z",
     "iopub.status.idle": "2025-01-20T16:48:50.215785Z",
     "shell.execute_reply": "2025-01-20T16:48:50.214782Z"
    },
    "papermill": {
     "duration": 1.078136,
     "end_time": "2025-01-20T16:48:50.217579",
     "exception": false,
     "start_time": "2025-01-20T16:48:49.139443",
     "status": "completed"
    },
    "tags": []
   },
   "outputs": [
    {
     "data": {
      "text/plain": [
       "[<matplotlib.lines.Line2D at 0x7842fbd5dc00>]"
      ]
     },
     "execution_count": 14,
     "metadata": {},
     "output_type": "execute_result"
    },
    {
     "data": {
      "image/png": "[encoded data removed]",
      "text/plain": [
       "<Figure size 640x480 with 1 Axes>"
      ]
     },
     "metadata": {},
     "output_type": "display_data"
    }
   ],
   "source": [
    "plt.plot(lossi)\n",
    "# it looks ugly cause u can get lucky in any batch and get less loss, which makes this thick band\n",
    "# to fix this take avg along the value"
   ]
  },
  {
   "cell_type": "code",
   "execution_count": 15,
   "id": "2c348f03",
   "metadata": {
    "execution": {
     "iopub.execute_input": "2025-01-20T16:48:50.237800Z",
     "iopub.status.busy": "2025-01-20T16:48:50.237432Z",
     "iopub.status.idle": "2025-01-20T16:48:50.277171Z",
     "shell.execute_reply": "2025-01-20T16:48:50.276077Z"
    },
    "papermill": {
     "duration": 0.051762,
     "end_time": "2025-01-20T16:48:50.278796",
     "exception": false,
     "start_time": "2025-01-20T16:48:50.227034",
     "status": "completed"
    },
    "tags": []
   },
   "outputs": [
    {
     "data": {
      "text/plain": [
       "torch.Size([200, 1000])"
      ]
     },
     "execution_count": 15,
     "metadata": {},
     "output_type": "execute_result"
    }
   ],
   "source": [
    "torch.tensor(lossi).view(-1, 1000).shape # reshape and take avg along the values"
   ]
  },
  {
   "cell_type": "code",
   "execution_count": 16,
   "id": "356ef342",
   "metadata": {
    "execution": {
     "iopub.execute_input": "2025-01-20T16:48:50.298910Z",
     "iopub.status.busy": "2025-01-20T16:48:50.298525Z",
     "iopub.status.idle": "2025-01-20T16:48:50.558590Z",
     "shell.execute_reply": "2025-01-20T16:48:50.557517Z"
    },
    "papermill": {
     "duration": 0.271874,
     "end_time": "2025-01-20T16:48:50.560206",
     "exception": false,
     "start_time": "2025-01-20T16:48:50.288332",
     "status": "completed"
    },
    "tags": []
   },
   "outputs": [
    {
     "data": {
      "text/plain": [
       "[<matplotlib.lines.Line2D at 0x78425f43ed10>]"
      ]
     },
     "execution_count": 16,
     "metadata": {},
     "output_type": "execute_result"
    },
    {
     "data": {
      "image/png": "[encoded data removed]",
      "text/plain": [
       "<Figure size 640x480 with 1 Axes>"
      ]
     },
     "metadata": {},
     "output_type": "display_data"
    }
   ],
   "source": [
    "plt.plot(torch.tensor(lossi).view(-1, 1000).mean(1))"
   ]
  },
  {
   "cell_type": "code",
   "execution_count": 17,
   "id": "107b8b7d",
   "metadata": {
    "execution": {
     "iopub.execute_input": "2025-01-20T16:48:50.581571Z",
     "iopub.status.busy": "2025-01-20T16:48:50.581242Z",
     "iopub.status.idle": "2025-01-20T16:48:50.585733Z",
     "shell.execute_reply": "2025-01-20T16:48:50.584612Z"
    },
    "papermill": {
     "duration": 0.017382,
     "end_time": "2025-01-20T16:48:50.587666",
     "exception": false,
     "start_time": "2025-01-20T16:48:50.570284",
     "status": "completed"
    },
    "tags": []
   },
   "outputs": [],
   "source": [
    "# put layer in eval mode for batchnorm especially\n",
    "for layer in layers:\n",
    "    layer.training = False"
   ]
  },
  {
   "cell_type": "code",
   "execution_count": 18,
   "id": "d024c777",
   "metadata": {
    "execution": {
     "iopub.execute_input": "2025-01-20T16:48:50.610441Z",
     "iopub.status.busy": "2025-01-20T16:48:50.610093Z",
     "iopub.status.idle": "2025-01-20T16:48:50.617576Z",
     "shell.execute_reply": "2025-01-20T16:48:50.616495Z"
    },
    "papermill": {
     "duration": 0.0209,
     "end_time": "2025-01-20T16:48:50.619416",
     "exception": false,
     "start_time": "2025-01-20T16:48:50.598516",
     "status": "completed"
    },
    "tags": []
   },
   "outputs": [],
   "source": [
    "# create more layer types\n",
    "class Embedding:\n",
    "    def __init__(self, num_embeddings, embedding_dim):\n",
    "        self.weight = torch.randn((num_embeddings, embedding_dim))\n",
    "\n",
    "    def __call__(self, IX):\n",
    "        self.out = self.weight[IX] # since it is going to select particular row if we do one hot embedding over it\n",
    "        return self.out\n",
    "\n",
    "    def parameters(self):\n",
    "        return [self.weight]\n",
    "\n",
    "class Flatten:\n",
    "    def __call__(self, x):\n",
    "        self.out = x.view(x.shape[0], -1)\n",
    "        return self.out\n",
    "\n",
    "    def parameters(self):\n",
    "        return []\n",
    "\n",
    "class Sequential:\n",
    "    def __init__(self, layers):\n",
    "        self.layers = layers\n",
    "\n",
    "    def __call__(self, x):\n",
    "        for layer in self.layers:\n",
    "            x = layer(x)\n",
    "        self.out = x\n",
    "        return self.out\n",
    "\n",
    "    def parameters(self):\n",
    "        return [p for layer in self.layers for p in layer.parameters()]"
   ]
  },
  {
   "cell_type": "code",
   "execution_count": 19,
   "id": "6c9ac803",
   "metadata": {
    "execution": {
     "iopub.execute_input": "2025-01-20T16:48:50.641284Z",
     "iopub.status.busy": "2025-01-20T16:48:50.640951Z",
     "iopub.status.idle": "2025-01-20T16:48:50.648781Z",
     "shell.execute_reply": "2025-01-20T16:48:50.647768Z"
    },
    "papermill": {
     "duration": 0.020956,
     "end_time": "2025-01-20T16:48:50.650799",
     "exception": false,
     "start_time": "2025-01-20T16:48:50.629843",
     "status": "completed"
    },
    "tags": []
   },
   "outputs": [
    {
     "name": "stdout",
     "output_type": "stream",
     "text": [
      "12097\n"
     ]
    }
   ],
   "source": [
    "# update to use new layers\n",
    "n_embd = 10 # the dimensionality of the character embedding vectors\n",
    "n_hidden = 200 # the number of neurons in the hidden layer of the ML\n",
    "\n",
    "model = Sequential([\n",
    "    Embedding(vocab_size, n_embd),\n",
    "    Flatten(),\n",
    "    Linear(n_embd * block_size, n_hidden, bias=False),\n",
    "    BatchNorm1d(n_hidden),\n",
    "    Tanh(),\n",
    "    Linear(n_hidden, vocab_size),\n",
    "])\n",
    "\n",
    "with torch.no_grad():\n",
    "    layers[-1].weight *= 0.1\n",
    "\n",
    "parameters = model.parameters()\n",
    "print(sum(p.nelement() for p in parameters))\n",
    "for p in parameters:\n",
    "    p.requires_grad = True"
   ]
  },
  {
   "cell_type": "code",
   "execution_count": 20,
   "id": "ab0d3927",
   "metadata": {
    "execution": {
     "iopub.execute_input": "2025-01-20T16:48:50.674451Z",
     "iopub.status.busy": "2025-01-20T16:48:50.674119Z",
     "iopub.status.idle": "2025-01-20T16:52:28.612132Z",
     "shell.execute_reply": "2025-01-20T16:52:28.611053Z"
    },
    "papermill": {
     "duration": 217.952876,
     "end_time": "2025-01-20T16:52:28.614202",
     "exception": false,
     "start_time": "2025-01-20T16:48:50.661326",
     "status": "completed"
    },
    "tags": []
   },
   "outputs": [
    {
     "name": "stdout",
     "output_type": "stream",
     "text": [
      "      0/ 200000: 3.4033\n",
      "  10000/ 200000: 2.3441\n",
      "  20000/ 200000: 1.7557\n",
      "  30000/ 200000: 1.8854\n",
      "  40000/ 200000: 2.2454\n",
      "  50000/ 200000: 2.0292\n",
      "  60000/ 200000: 2.1982\n",
      "  70000/ 200000: 2.2242\n",
      "  80000/ 200000: 1.9808\n",
      "  90000/ 200000: 2.1027\n",
      " 100000/ 200000: 1.8591\n",
      " 110000/ 200000: 2.0847\n",
      " 120000/ 200000: 1.7408\n",
      " 130000/ 200000: 2.5967\n",
      " 140000/ 200000: 1.9910\n",
      " 150000/ 200000: 2.2675\n",
      " 160000/ 200000: 2.1280\n",
      " 170000/ 200000: 1.8356\n",
      " 180000/ 200000: 1.9261\n",
      " 190000/ 200000: 1.9363\n"
     ]
    }
   ],
   "source": [
    "max_steps = 200000\n",
    "batch_size = 32\n",
    "lossi = []\n",
    "\n",
    "for i in range(max_steps):\n",
    "  # minibatch construct\n",
    "  ix = torch.randint(0, Xtr.shape[0], (batch_size,))\n",
    "  Xb, Yb = Xtr[ix], Ytr[ix] # batch X,Y\n",
    "  \n",
    "  # forward pass\n",
    "  logits = model(Xb)\n",
    "  loss = F.cross_entropy(logits, Yb)\n",
    "\n",
    "  # backward pass\n",
    "  for p in parameters:\n",
    "    p.grad = None\n",
    "  loss.backward()\n",
    "  \n",
    "  # update: simple SGD\n",
    "  lr = 0.1 if i < 150000 else 0.01 # step learning rate decay\n",
    "  for p in parameters:\n",
    "    p.data += -lr * p.grad\n",
    "\n",
    "  # track stats\n",
    "  if i % 10000 == 0: # print every once in a while\n",
    "    print(f'{i:7d}/{max_steps:7d}: {loss.item():.4f}')\n",
    "  lossi.append(loss.log10().item())"
   ]
  },
  {
   "cell_type": "code",
   "execution_count": 21,
   "id": "33006664",
   "metadata": {
    "execution": {
     "iopub.execute_input": "2025-01-20T16:52:28.638542Z",
     "iopub.status.busy": "2025-01-20T16:52:28.638162Z",
     "iopub.status.idle": "2025-01-20T16:52:28.642754Z",
     "shell.execute_reply": "2025-01-20T16:52:28.641565Z"
    },
    "papermill": {
     "duration": 0.018935,
     "end_time": "2025-01-20T16:52:28.644765",
     "exception": false,
     "start_time": "2025-01-20T16:52:28.625830",
     "status": "completed"
    },
    "tags": []
   },
   "outputs": [],
   "source": [
    "for layer in model.layers: # always do this after running mode;\n",
    "    layer.training = False"
   ]
  },
  {
   "cell_type": "code",
   "execution_count": 22,
   "id": "301bd606",
   "metadata": {
    "execution": {
     "iopub.execute_input": "2025-01-20T16:52:28.670208Z",
     "iopub.status.busy": "2025-01-20T16:52:28.669827Z",
     "iopub.status.idle": "2025-01-20T16:52:29.353750Z",
     "shell.execute_reply": "2025-01-20T16:52:29.352382Z"
    },
    "papermill": {
     "duration": 0.698699,
     "end_time": "2025-01-20T16:52:29.355945",
     "exception": false,
     "start_time": "2025-01-20T16:52:28.657246",
     "status": "completed"
    },
    "tags": []
   },
   "outputs": [
    {
     "name": "stdout",
     "output_type": "stream",
     "text": [
      "train 2.0566704273223877\n",
      "val 2.102090358734131\n"
     ]
    }
   ],
   "source": [
    "# evaluate the loss\n",
    "@torch.no_grad() # this decorator disables gradient tracking inside pytorch\n",
    "def split_loss(split):\n",
    "  x,y = {\n",
    "    'train': (Xtr, Ytr),\n",
    "    'val': (Xdev, Ydev),\n",
    "    'test': (Xte, Yte),\n",
    "  }[split]\n",
    "  logits = model(x)\n",
    "  loss = F.cross_entropy(logits, y)\n",
    "  print(split, loss.item())\n",
    "\n",
    "split_loss('train')\n",
    "split_loss('val')"
   ]
  },
  {
   "cell_type": "code",
   "execution_count": 23,
   "id": "6c305aae",
   "metadata": {
    "execution": {
     "iopub.execute_input": "2025-01-20T16:52:29.380119Z",
     "iopub.status.busy": "2025-01-20T16:52:29.379670Z",
     "iopub.status.idle": "2025-01-20T16:52:29.441753Z",
     "shell.execute_reply": "2025-01-20T16:52:29.440429Z"
    },
    "papermill": {
     "duration": 0.076076,
     "end_time": "2025-01-20T16:52:29.443570",
     "exception": false,
     "start_time": "2025-01-20T16:52:29.367494",
     "status": "completed"
    },
    "tags": []
   },
   "outputs": [
    {
     "name": "stdout",
     "output_type": "stream",
     "text": [
      "amen.\n",
      "jia.\n",
      "queena.\n",
      "mai.\n",
      "yas.\n",
      "amia.\n",
      "rion.\n",
      "jayodes.\n",
      "kaid.\n",
      "ahamania.\n",
      "leon.\n",
      "janiya.\n",
      "harionner.\n",
      "kay.\n",
      "ribl.\n",
      "kyrah.\n",
      "madhi.\n",
      "caliana.\n",
      "skell.\n",
      "zaiana.\n"
     ]
    }
   ],
   "source": [
    "# sample from the model\n",
    "for _ in range(20):\n",
    "    \n",
    "    out = []\n",
    "    context = [0] * block_size # initialize with all ...\n",
    "    while True:\n",
    "      # forward pass the neural net\n",
    "      logits = model(torch.tensor([context]))\n",
    "      probs = F.softmax(logits, dim=1)\n",
    "      # sample from the distribution\n",
    "      ix = torch.multinomial(probs, num_samples=1).item()\n",
    "      # shift the context window and track the samples\n",
    "      context = context[1:] + [ix]\n",
    "      out.append(ix)\n",
    "      # if we sample the special '.' token, break\n",
    "      if ix == 0:\n",
    "        break\n",
    "    \n",
    "    print(''.join(itos[i] for i in out)) # decode and print the generated word"
   ]
  },
  {
   "cell_type": "code",
   "execution_count": 24,
   "id": "305196c7",
   "metadata": {
    "execution": {
     "iopub.execute_input": "2025-01-20T16:52:29.470071Z",
     "iopub.status.busy": "2025-01-20T16:52:29.469663Z",
     "iopub.status.idle": "2025-01-20T16:52:29.474265Z",
     "shell.execute_reply": "2025-01-20T16:52:29.472825Z"
    },
    "papermill": {
     "duration": 0.020073,
     "end_time": "2025-01-20T16:52:29.476167",
     "exception": false,
     "start_time": "2025-01-20T16:52:29.456094",
     "status": "completed"
    },
    "tags": []
   },
   "outputs": [],
   "source": [
    "# problem we fuse all the chars to first layer too early"
   ]
  },
  {
   "cell_type": "code",
   "execution_count": 25,
   "id": "3df1bb05",
   "metadata": {
    "execution": {
     "iopub.execute_input": "2025-01-20T16:52:29.501998Z",
     "iopub.status.busy": "2025-01-20T16:52:29.501548Z",
     "iopub.status.idle": "2025-01-20T16:52:30.348307Z",
     "shell.execute_reply": "2025-01-20T16:52:30.347181Z"
    },
    "papermill": {
     "duration": 0.861915,
     "end_time": "2025-01-20T16:52:30.350098",
     "exception": false,
     "start_time": "2025-01-20T16:52:29.488183",
     "status": "completed"
    },
    "tags": []
   },
   "outputs": [
    {
     "name": "stdout",
     "output_type": "stream",
     "text": [
      "torch.Size([182580, 8]) torch.Size([182580])\n",
      "torch.Size([22767, 8]) torch.Size([22767])\n",
      "torch.Size([22799, 8]) torch.Size([22799])\n"
     ]
    }
   ],
   "source": [
    "# build with more conext of 8 prev char input\n",
    "block_size = 8 # context length: how many characters do we take to predict the next one?\n",
    "\n",
    "def build_dataset(words):  \n",
    "  X, Y = [], []\n",
    "  \n",
    "  for w in words:\n",
    "    context = [0] * block_size\n",
    "    for ch in w + '.':\n",
    "      ix = stoi[ch]\n",
    "      X.append(context)\n",
    "      Y.append(ix)\n",
    "      context = context[1:] + [ix] # crop and append\n",
    "\n",
    "  X = torch.tensor(X)\n",
    "  Y = torch.tensor(Y)\n",
    "  print(X.shape, Y.shape)\n",
    "  return X, Y\n",
    "\n",
    "import random\n",
    "random.seed(42)\n",
    "random.shuffle(words)\n",
    "n1 = int(0.8*len(words))\n",
    "n2 = int(0.9*len(words))\n",
    "\n",
    "Xtr,  Ytr  = build_dataset(words[:n1])     # 80%\n",
    "Xdev, Ydev = build_dataset(words[n1:n2])   # 10%\n",
    "Xte,  Yte  = build_dataset(words[n2:])     # 10%"
   ]
  },
  {
   "cell_type": "code",
   "execution_count": 26,
   "id": "addd7fd7",
   "metadata": {
    "execution": {
     "iopub.execute_input": "2025-01-20T16:52:30.374216Z",
     "iopub.status.busy": "2025-01-20T16:52:30.373864Z",
     "iopub.status.idle": "2025-01-20T16:52:30.389017Z",
     "shell.execute_reply": "2025-01-20T16:52:30.387801Z"
    },
    "papermill": {
     "duration": 0.029053,
     "end_time": "2025-01-20T16:52:30.390680",
     "exception": false,
     "start_time": "2025-01-20T16:52:30.361627",
     "status": "completed"
    },
    "tags": []
   },
   "outputs": [
    {
     "name": "stdout",
     "output_type": "stream",
     "text": [
      "........ --> e\n",
      ".......e --> b\n",
      "......eb --> r\n",
      ".....ebr --> i\n",
      "....ebri --> m\n",
      "...ebrim --> a\n",
      "..ebrima --> .\n",
      "........ --> h\n",
      ".......h --> i\n",
      "......hi --> l\n",
      ".....hil --> t\n",
      "....hilt --> o\n",
      "...hilto --> n\n",
      "..hilton --> .\n",
      "........ --> j\n",
      ".......j --> h\n",
      "......jh --> e\n",
      ".....jhe --> n\n",
      "....jhen --> e\n",
      "...jhene --> .\n"
     ]
    }
   ],
   "source": [
    "for x, y in zip(Xtr[:20], Ytr[:20]):\n",
    "    print(''.join(itos[ix.item()] for ix in x), '-->', itos[y.item()])"
   ]
  },
  {
   "cell_type": "code",
   "execution_count": 27,
   "id": "5d5bd9ef",
   "metadata": {
    "execution": {
     "iopub.execute_input": "2025-01-20T16:52:30.415565Z",
     "iopub.status.busy": "2025-01-20T16:52:30.415237Z",
     "iopub.status.idle": "2025-01-20T16:52:30.420779Z",
     "shell.execute_reply": "2025-01-20T16:52:30.419728Z"
    },
    "papermill": {
     "duration": 0.019679,
     "end_time": "2025-01-20T16:52:30.422285",
     "exception": false,
     "start_time": "2025-01-20T16:52:30.402606",
     "status": "completed"
    },
    "tags": []
   },
   "outputs": [],
   "source": [
    "# we will fuse 2 consuctive toger and return 4 output,by fusing 8 char\n",
    "# then again fuse consectuives and go on\n",
    "# so we concatenate\n",
    "class FlattenConsecutive(): # join some consecutive elements and puts them in last dim\n",
    "    def __init__(self, n):\n",
    "        self.n = n # join n consecutive element and put them in last defination\n",
    "\n",
    "    def __call__(self, x):\n",
    "        B, T, C = x.shape # B is batch size, T is num of chars, C is embedding lenght per char\n",
    "        x = x.view(B, T//self.n, C*self.n) # join n consecutive \n",
    "        if x.shape[1] == 1:\n",
    "            x = x.squeeze()\n",
    "        self.out = x\n",
    "        return x\n",
    "\n",
    "    def parameters(self):\n",
    "        return []"
   ]
  },
  {
   "cell_type": "code",
   "execution_count": 28,
   "id": "db4d7464",
   "metadata": {
    "execution": {
     "iopub.execute_input": "2025-01-20T16:52:30.446832Z",
     "iopub.status.busy": "2025-01-20T16:52:30.446414Z",
     "iopub.status.idle": "2025-01-20T16:52:30.455589Z",
     "shell.execute_reply": "2025-01-20T16:52:30.454269Z"
    },
    "papermill": {
     "duration": 0.023717,
     "end_time": "2025-01-20T16:52:30.457518",
     "exception": false,
     "start_time": "2025-01-20T16:52:30.433801",
     "status": "completed"
    },
    "tags": []
   },
   "outputs": [
    {
     "name": "stdout",
     "output_type": "stream",
     "text": [
      "22397\n"
     ]
    }
   ],
   "source": [
    "# update to use new layers\n",
    "n_embd = 10 # the dimensionality of the character embedding vectors\n",
    "n_hidden = 68 # the number of neurons in the hidden layer of the ML\n",
    "\n",
    "model = Sequential([\n",
    "  Embedding(vocab_size, n_embd),\n",
    "  FlattenConsecutive(2), Linear(n_embd * 2, n_hidden, bias=False), BatchNorm1d(n_hidden), Tanh(),\n",
    "  FlattenConsecutive(2), Linear(n_hidden*2, n_hidden, bias=False), BatchNorm1d(n_hidden), Tanh(),\n",
    "  FlattenConsecutive(2), Linear(n_hidden*2, n_hidden, bias=False), BatchNorm1d(n_hidden), Tanh(),\n",
    "  Linear(n_hidden, vocab_size),\n",
    "])\n",
    "\n",
    "with torch.no_grad():\n",
    "    layers[-1].weight *= 0.1\n",
    "\n",
    "parameters = model.parameters()\n",
    "print(sum(p.nelement() for p in parameters))\n",
    "for p in parameters:\n",
    "    p.requires_grad = True"
   ]
  },
  {
   "cell_type": "code",
   "execution_count": 29,
   "id": "35b48485",
   "metadata": {
    "execution": {
     "iopub.execute_input": "2025-01-20T16:52:30.482944Z",
     "iopub.status.busy": "2025-01-20T16:52:30.482503Z",
     "iopub.status.idle": "2025-01-20T16:52:30.495759Z",
     "shell.execute_reply": "2025-01-20T16:52:30.494770Z"
    },
    "papermill": {
     "duration": 0.027498,
     "end_time": "2025-01-20T16:52:30.497309",
     "exception": false,
     "start_time": "2025-01-20T16:52:30.469811",
     "status": "completed"
    },
    "tags": []
   },
   "outputs": [
    {
     "name": "stdout",
     "output_type": "stream",
     "text": [
      "torch.Size([4, 8])\n"
     ]
    },
    {
     "data": {
      "text/plain": [
       "tensor([[ 0,  0,  0,  0,  5, 12,  1, 14],\n",
       "        [ 0,  0,  0,  0,  0,  0,  0,  0],\n",
       "        [ 0,  0,  0,  0,  0,  0,  1, 13],\n",
       "        [ 0,  0,  0,  0,  0,  0,  0, 19]])"
      ]
     },
     "execution_count": 29,
     "metadata": {},
     "output_type": "execute_result"
    }
   ],
   "source": [
    "ix = torch.randint(0, Xtr.shape[0], (4,)) # lets look at batch of 4 example\n",
    "Xb, Yb = Xtr[ix], Ytr[ix]\n",
    "logits = model(Xb)\n",
    "print(Xb.shape)\n",
    "Xb"
   ]
  },
  {
   "cell_type": "code",
   "execution_count": 30,
   "id": "3ce5a5cc",
   "metadata": {
    "execution": {
     "iopub.execute_input": "2025-01-20T16:52:30.522338Z",
     "iopub.status.busy": "2025-01-20T16:52:30.522001Z",
     "iopub.status.idle": "2025-01-20T16:52:30.534776Z",
     "shell.execute_reply": "2025-01-20T16:52:30.533776Z"
    },
    "papermill": {
     "duration": 0.027282,
     "end_time": "2025-01-20T16:52:30.536569",
     "exception": false,
     "start_time": "2025-01-20T16:52:30.509287",
     "status": "completed"
    },
    "tags": []
   },
   "outputs": [
    {
     "name": "stdout",
     "output_type": "stream",
     "text": [
      "Embedding : (4, 8, 10)\n",
      "FlattenConsecutive : (4, 4, 20)\n",
      "Linear : (4, 4, 68)\n",
      "BatchNorm1d : (4, 4, 68)\n",
      "Tanh : (4, 4, 68)\n",
      "FlattenConsecutive : (4, 2, 136)\n",
      "Linear : (4, 2, 68)\n",
      "BatchNorm1d : (4, 2, 68)\n",
      "Tanh : (4, 2, 68)\n",
      "FlattenConsecutive : (4, 136)\n",
      "Linear : (4, 68)\n",
      "BatchNorm1d : (4, 68)\n",
      "Tanh : (4, 68)\n",
      "Linear : (4, 27)\n"
     ]
    }
   ],
   "source": [
    "for layer in model.layers:\n",
    "    print(layer.__class__.__name__, \":\", tuple(layer.out.shape))  # output shape of each neural net n "
   ]
  },
  {
   "cell_type": "code",
   "execution_count": 31,
   "id": "8cc383d0",
   "metadata": {
    "execution": {
     "iopub.execute_input": "2025-01-20T16:52:30.562093Z",
     "iopub.status.busy": "2025-01-20T16:52:30.561743Z",
     "iopub.status.idle": "2025-01-20T16:52:30.577197Z",
     "shell.execute_reply": "2025-01-20T16:52:30.576087Z"
    },
    "papermill": {
     "duration": 0.030387,
     "end_time": "2025-01-20T16:52:30.579133",
     "exception": false,
     "start_time": "2025-01-20T16:52:30.548746",
     "status": "completed"
    },
    "tags": []
   },
   "outputs": [
    {
     "data": {
      "text/plain": [
       "tensor([[[-0.1694,  0.1178, -0.1337,  ...,  0.4409,  0.1098,  0.4420],\n",
       "         [-0.1694,  0.1178, -0.1337,  ...,  0.4409,  0.1098,  0.4420],\n",
       "         [-2.2441, -0.2046, -1.1741,  ..., -2.3745, -0.1413,  0.2404],\n",
       "         [ 0.4188,  1.4303, -1.6364,  ..., -1.1407, -1.9651, -2.9147]],\n",
       "\n",
       "        [[-0.1694,  0.1178, -0.1337,  ...,  0.4409,  0.1098,  0.4420],\n",
       "         [-0.1694,  0.1178, -0.1337,  ...,  0.4409,  0.1098,  0.4420],\n",
       "         [-0.1694,  0.1178, -0.1337,  ...,  0.4409,  0.1098,  0.4420],\n",
       "         [-0.1694,  0.1178, -0.1337,  ...,  0.4409,  0.1098,  0.4420]],\n",
       "\n",
       "        [[-0.1694,  0.1178, -0.1337,  ...,  0.4409,  0.1098,  0.4420],\n",
       "         [-0.1694,  0.1178, -0.1337,  ...,  0.4409,  0.1098,  0.4420],\n",
       "         [-0.1694,  0.1178, -0.1337,  ...,  0.4409,  0.1098,  0.4420],\n",
       "         [ 0.9314, -3.4715,  2.9083,  ..., -2.3283,  2.7031, -0.7488]],\n",
       "\n",
       "        [[-0.1694,  0.1178, -0.1337,  ...,  0.4409,  0.1098,  0.4420],\n",
       "         [-0.1694,  0.1178, -0.1337,  ...,  0.4409,  0.1098,  0.4420],\n",
       "         [-0.1694,  0.1178, -0.1337,  ...,  0.4409,  0.1098,  0.4420],\n",
       "         [ 2.9269,  0.8323,  1.5064,  ...,  0.5533, -1.9144, -1.8810]]],\n",
       "       grad_fn=<AddBackward0>)"
      ]
     },
     "execution_count": 31,
     "metadata": {},
     "output_type": "execute_result"
    }
   ],
   "source": [
    "model.layers[3].out"
   ]
  },
  {
   "cell_type": "code",
   "execution_count": 32,
   "id": "edaa0030",
   "metadata": {
    "execution": {
     "iopub.execute_input": "2025-01-20T16:52:30.604424Z",
     "iopub.status.busy": "2025-01-20T16:52:30.604070Z",
     "iopub.status.idle": "2025-01-20T17:00:21.498776Z",
     "shell.execute_reply": "2025-01-20T17:00:21.497804Z"
    },
    "papermill": {
     "duration": 470.909733,
     "end_time": "2025-01-20T17:00:21.500813",
     "exception": false,
     "start_time": "2025-01-20T16:52:30.591080",
     "status": "completed"
    },
    "tags": []
   },
   "outputs": [
    {
     "name": "stdout",
     "output_type": "stream",
     "text": [
      "      0/ 200000: 3.3704\n",
      "  10000/ 200000: 2.3453\n",
      "  20000/ 200000: 2.2389\n",
      "  30000/ 200000: 2.0523\n",
      "  40000/ 200000: 2.1543\n",
      "  50000/ 200000: 2.2110\n",
      "  60000/ 200000: 1.5241\n",
      "  70000/ 200000: 2.1829\n",
      "  80000/ 200000: 2.0562\n",
      "  90000/ 200000: 2.2670\n",
      " 100000/ 200000: 2.1351\n",
      " 110000/ 200000: 2.0962\n",
      " 120000/ 200000: 1.8466\n",
      " 130000/ 200000: 2.0349\n",
      " 140000/ 200000: 1.9427\n",
      " 150000/ 200000: 1.7583\n",
      " 160000/ 200000: 1.7789\n",
      " 170000/ 200000: 2.3025\n",
      " 180000/ 200000: 1.9344\n",
      " 190000/ 200000: 2.3704\n"
     ]
    }
   ],
   "source": [
    "max_steps = 200000\n",
    "batch_size = 32\n",
    "lossi = []\n",
    "\n",
    "for i in range(max_steps):\n",
    "  # minibatch construct\n",
    "  ix = torch.randint(0, Xtr.shape[0], (batch_size,))\n",
    "  Xb, Yb = Xtr[ix], Ytr[ix] # batch X,Y\n",
    "  \n",
    "  # forward pass\n",
    "  logits = model(Xb)\n",
    "  loss = F.cross_entropy(logits, Yb)\n",
    "\n",
    "  # backward pass\n",
    "  for p in parameters:\n",
    "    p.grad = None\n",
    "  loss.backward()\n",
    "  \n",
    "  # update: simple SGD\n",
    "  lr = 0.1 if i < 150000 else 0.01 # step learning rate decay\n",
    "  for p in parameters:\n",
    "    p.data += -lr * p.grad\n",
    "\n",
    "  # track stats\n",
    "  if i % 10000 == 0: # print every once in a while\n",
    "    print(f'{i:7d}/{max_steps:7d}: {loss.item():.4f}')\n",
    "  lossi.append(loss.log10().item())"
   ]
  },
  {
   "cell_type": "code",
   "execution_count": 33,
   "id": "3448efe5",
   "metadata": {
    "execution": {
     "iopub.execute_input": "2025-01-20T17:00:21.528881Z",
     "iopub.status.busy": "2025-01-20T17:00:21.528410Z",
     "iopub.status.idle": "2025-01-20T17:00:21.532914Z",
     "shell.execute_reply": "2025-01-20T17:00:21.531843Z"
    },
    "papermill": {
     "duration": 0.020407,
     "end_time": "2025-01-20T17:00:21.534646",
     "exception": false,
     "start_time": "2025-01-20T17:00:21.514239",
     "status": "completed"
    },
    "tags": []
   },
   "outputs": [],
   "source": [
    "for layer in model.layers: # always do this after running mode;\n",
    "    layer.training = False"
   ]
  },
  {
   "cell_type": "code",
   "execution_count": 34,
   "id": "447e8f2a",
   "metadata": {
    "execution": {
     "iopub.execute_input": "2025-01-20T17:00:21.563371Z",
     "iopub.status.busy": "2025-01-20T17:00:21.562994Z",
     "iopub.status.idle": "2025-01-20T17:00:23.113554Z",
     "shell.execute_reply": "2025-01-20T17:00:23.112427Z"
    },
    "papermill": {
     "duration": 1.567502,
     "end_time": "2025-01-20T17:00:23.115382",
     "exception": false,
     "start_time": "2025-01-20T17:00:21.547880",
     "status": "completed"
    },
    "tags": []
   },
   "outputs": [
    {
     "name": "stdout",
     "output_type": "stream",
     "text": [
      "train 1.9131056070327759\n",
      "val 2.0206828117370605\n"
     ]
    }
   ],
   "source": [
    "# evaluate the loss\n",
    "@torch.no_grad() # this decorator disables gradient tracking inside pytorch\n",
    "def split_loss(split):\n",
    "  x,y = {\n",
    "    'train': (Xtr, Ytr),\n",
    "    'val': (Xdev, Ydev),\n",
    "    'test': (Xte, Yte),\n",
    "  }[split]\n",
    "  logits = model(x)\n",
    "  loss = F.cross_entropy(logits, y)\n",
    "  print(split, loss.item())\n",
    "\n",
    "split_loss('train')\n",
    "split_loss('val')"
   ]
  },
  {
   "cell_type": "code",
   "execution_count": 35,
   "id": "283fb693",
   "metadata": {
    "execution": {
     "iopub.execute_input": "2025-01-20T17:00:23.143138Z",
     "iopub.status.busy": "2025-01-20T17:00:23.142642Z",
     "iopub.status.idle": "2025-01-20T17:00:23.151490Z",
     "shell.execute_reply": "2025-01-20T17:00:23.150446Z"
    },
    "papermill": {
     "duration": 0.024472,
     "end_time": "2025-01-20T17:00:23.153090",
     "exception": false,
     "start_time": "2025-01-20T17:00:23.128618",
     "status": "completed"
    },
    "tags": []
   },
   "outputs": [
    {
     "name": "stdout",
     "output_type": "stream",
     "text": [
      "tensor([[[-0.5671, -1.3700, -2.0020,  1.1600],\n",
      "         [ 0.3599,  1.4470,  1.0107,  2.2857]]])\n",
      "tensor([[-0.5671, -1.3700, -2.0020,  1.1600],\n",
      "        [ 0.3599,  1.4470,  1.0107,  2.2857]])\n"
     ]
    }
   ],
   "source": [
    "# data explore\n",
    "# explore data\n",
    "# try search/filter/sort whatever u think\n",
    "# outliers especially almost always uncover some bugs in data\n",
    "\n",
    "# fix random seedP\n",
    "# run simple baseline model\n",
    "# make sure model compuation graph is fine\n",
    "# run test over entire test instead of batches of test\n",
    "# verify init loss is -log(1/n_classes) i.e. it predicts 1/n_classes prob for each class\n",
    "# use xavier_normal initialization method\n",
    "# keep init function outside of model\n",
    "# init final layer correctly, decrease final layer weights if prob high by changing gain or adding numbers\n",
    "# init well: final layer weights should be init correctly, when regressing final value mean is 50 init final bias to be 50\n",
    "# you have an imbalanced dataset of a ratio 1:10 of positives:negatives, set the bias on your logits such that your network predicts probability of 0.1 at initialization\n",
    "# settig it correcly will speed up convergance and eleminate hockey stick curve, where top few iter netowr is learning bias only\n",
    "# set inputs to be 0, and neural net should perform worst\n",
    "# overfit single batch, to do so increase param and they should align perfectly with label if not there is some bug\n",
    "# debug: check activations for each layer and make sure they are not in saturaiton range\n",
    "# check grad range for each layer and make sure they are not too small or too big grad or 0 grads too much\n",
    "# and all layer should roughly have same grad hist plots\n",
    "\n",
    "# does training loss decrease with increasing model param\n",
    "# best place to visualize is just before y_hat = model(x)\n",
    "# visualize model preductions for fixed test batch during course of training\n",
    "# get model large enough to overfit then regularize it to underfit\n",
    "# pick model: find most related paper and copy paste their simplest arch theat achives good enoguth perforamce\n",
    "\n",
    "# use adam: or related thing used my paper\n",
    "# if u have multiple signals to plut into your classifier plug one at a time, and everytime u should get performance boost\n",
    "# dont use lr decay much\n",
    "# regularize: get more data\n",
    "# data augument\n",
    "# use pretrain model\n",
    "# stick to supervised\n",
    "# reduce input dimensions\n",
    "# small model size\n",
    "# decrease batch size if u have batch norm\n",
    "# add drop out\n",
    "# increase weight decay\n",
    "# early stopping\n",
    "# first layer weights should get nice egdes and makes\n",
    "# hyper param tuning: random over grid search\n",
    "# basian hyper param tuning\n",
    "# ensemeble\n",
    "# \n",
    "# gradients are too small or too bug\n",
    "# passed softmax to loss function that explect loss\n",
    "# set model to eval mode\n",
    "# reset grads\n",
    "# make sure broadcast works fine\n",
    "# broadcast if tensors have one dimension atleast\n",
    "# and from right dim should be equal, one or not exist, if not exist then adds 1 there\n",
    "# if one of operand has less dimension prepend one to left\n",
    "# then for each dim result will be max of that dimension\n",
    "# use resiudal connectoon when creating deep nn \n",
    "# non trainaiable model params\n",
    "# sequential/ run in parallel\n",
    "\n",
    "# understand dimension as one matrix inside other matrix\n",
    "# one func that take dim num to operate as input like mean\n",
    "# it will take mean for all other sub matrix inside that array along that dimension\n",
    "\n",
    "e = torch.randn(1, 2, 4) \n",
    "print(e)\n",
    "\n",
    "emean1 = e.mean(0)\n",
    "print(emean1)\n",
    "\n",
    "# channel dim is dimesnsion actually containing data\n",
    "# make sure to have all the shape workotu before running training\n",
    "# for sequense use (Batch, Timestep, Channel/data as input) -> change when computing error since loss functions expect cross entropy Channel as second dim\n",
    "# logits = logits.view(B*T, C)\n",
    "# targets = targets.view(B*T) cause cross entropy expet number\n",
    "# dont transpose batch dim only transpose time and channel\n",
    "\n",
    "# it helps to create multiple channel of communication\n",
    "# like multi head attention\n",
    "\n",
    "# do it with loop first\n",
    "# then think how can we do it inside CUDA kernel\n",
    "# using matrix mul or matrix operations"
   ]
  },
  {
   "cell_type": "code",
   "execution_count": null,
   "id": "6d89ab89",
   "metadata": {
    "papermill": {
     "duration": 0.013157,
     "end_time": "2025-01-20T17:00:23.181078",
     "exception": false,
     "start_time": "2025-01-20T17:00:23.167921",
     "status": "completed"
    },
    "tags": []
   },
   "outputs": [],
   "source": []
  }
 ],
 "metadata": {
  "kaggle": {
   "accelerator": "none",
   "dataSources": [],
   "dockerImageVersionId": 30822,
   "isGpuEnabled": false,
   "isInternetEnabled": true,
   "language": "python",
   "sourceType": "notebook"
  },
  "kernelspec": {
   "display_name": "Python 3",
   "language": "python",
   "name": "python3"
  },
  "language_info": {
   "codemirror_mode": {
    "name": "ipython",
    "version": 3
   },
   "file_extension": ".py",
   "mimetype": "text/x-python",
   "name": "python",
   "nbconvert_exporter": "python",
   "pygments_lexer": "ipython3",
   "version": "3.10.12"
  },
  "papermill": {
   "default_parameters": {},
   "duration": 907.734422,
   "end_time": "2025-01-20T17:00:24.619226",
   "environment_variables": {},
   "exception": null,
   "input_path": "__notebook__.ipynb",
   "output_path": "__notebook__.ipynb",
   "parameters": {},
   "start_time": "2025-01-20T16:45:16.884804",
   "version": "2.6.0"
  }
 },
 "nbformat": 4,
 "nbformat_minor": 5
}
