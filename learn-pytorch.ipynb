{
 "cells": [
  {
   "cell_type": "code",
   "execution_count": 1,
   "id": "1ed43d9a",
   "metadata": {
    "_cell_guid": "b1076dfc-b9ad-4769-8c92-a6c4dae69d19",
    "_uuid": "8f2839f25d086af736a60e9eeb907d3b93b6e0e5",
    "execution": {
     "iopub.execute_input": "2024-12-21T13:43:12.972807Z",
     "iopub.status.busy": "2024-12-21T13:43:12.972526Z",
     "iopub.status.idle": "2024-12-21T13:43:12.976781Z",
     "shell.execute_reply": "2024-12-21T13:43:12.976119Z"
    },
    "papermill": {
     "duration": 0.033157,
     "end_time": "2024-12-21T13:43:12.978033",
     "exception": false,
     "start_time": "2024-12-21T13:43:12.944876",
     "status": "completed"
    },
    "tags": []
   },
   "outputs": [],
   "source": [
    "# https://www.youtube.com/watch?v=exaWOE8jvy8&list=PLqnslRFeH2UrcDBWF5mfPGpqQDSta6VK4"
   ]
  },
  {
   "cell_type": "markdown",
   "id": "6d0c0dcf",
   "metadata": {
    "papermill": {
     "duration": 0.023868,
     "end_time": "2024-12-21T13:43:13.026355",
     "exception": false,
     "start_time": "2024-12-21T13:43:13.002487",
     "status": "completed"
    },
    "tags": []
   },
   "source": [
    "# PyTorch Tensors"
   ]
  },
  {
   "cell_type": "code",
   "execution_count": 2,
   "id": "c8a24c16",
   "metadata": {
    "execution": {
     "iopub.execute_input": "2024-12-21T13:43:13.075347Z",
     "iopub.status.busy": "2024-12-21T13:43:13.075039Z",
     "iopub.status.idle": "2024-12-21T13:43:15.929227Z",
     "shell.execute_reply": "2024-12-21T13:43:15.928308Z"
    },
    "papermill": {
     "duration": 2.880308,
     "end_time": "2024-12-21T13:43:15.930751",
     "exception": false,
     "start_time": "2024-12-21T13:43:13.050443",
     "status": "completed"
    },
    "tags": []
   },
   "outputs": [],
   "source": [
    "import torch\n",
    "import numpy as np"
   ]
  },
  {
   "cell_type": "code",
   "execution_count": 3,
   "id": "528fe4b7",
   "metadata": {
    "execution": {
     "iopub.execute_input": "2024-12-21T13:43:15.981195Z",
     "iopub.status.busy": "2024-12-21T13:43:15.980770Z",
     "iopub.status.idle": "2024-12-21T13:43:16.051047Z",
     "shell.execute_reply": "2024-12-21T13:43:16.050183Z"
    },
    "papermill": {
     "duration": 0.097413,
     "end_time": "2024-12-21T13:43:16.052415",
     "exception": false,
     "start_time": "2024-12-21T13:43:15.955002",
     "status": "completed"
    },
    "tags": []
   },
   "outputs": [
    {
     "data": {
      "text/plain": [
       "tensor([-455.6006])"
      ]
     },
     "execution_count": 3,
     "metadata": {},
     "output_type": "execute_result"
    }
   ],
   "source": [
    "x = torch.empty(1)\n",
    "# like scaler value\n",
    "x"
   ]
  },
  {
   "cell_type": "code",
   "execution_count": 4,
   "id": "705a6348",
   "metadata": {
    "execution": {
     "iopub.execute_input": "2024-12-21T13:43:16.101784Z",
     "iopub.status.busy": "2024-12-21T13:43:16.101511Z",
     "iopub.status.idle": "2024-12-21T13:43:16.106974Z",
     "shell.execute_reply": "2024-12-21T13:43:16.106138Z"
    },
    "papermill": {
     "duration": 0.031771,
     "end_time": "2024-12-21T13:43:16.108355",
     "exception": false,
     "start_time": "2024-12-21T13:43:16.076584",
     "status": "completed"
    },
    "tags": []
   },
   "outputs": [
    {
     "data": {
      "text/plain": [
       "tensor([-4.5560e+02,  4.3510e-41,  4.8874e+03])"
      ]
     },
     "execution_count": 4,
     "metadata": {},
     "output_type": "execute_result"
    }
   ],
   "source": [
    "x = torch.empty(3)\n",
    "# 1D vector with 3 elem\n",
    "x"
   ]
  },
  {
   "cell_type": "code",
   "execution_count": 5,
   "id": "acdb2c0f",
   "metadata": {
    "execution": {
     "iopub.execute_input": "2024-12-21T13:43:16.156774Z",
     "iopub.status.busy": "2024-12-21T13:43:16.156506Z",
     "iopub.status.idle": "2024-12-21T13:43:16.164565Z",
     "shell.execute_reply": "2024-12-21T13:43:16.163775Z"
    },
    "papermill": {
     "duration": 0.033434,
     "end_time": "2024-12-21T13:43:16.165735",
     "exception": false,
     "start_time": "2024-12-21T13:43:16.132301",
     "status": "completed"
    },
    "tags": []
   },
   "outputs": [
    {
     "data": {
      "text/plain": [
       "tensor([[0.4699, 0.3440],\n",
       "        [0.6296, 0.0185]])"
      ]
     },
     "execution_count": 5,
     "metadata": {},
     "output_type": "execute_result"
    }
   ],
   "source": [
    "# tensor with random value\n",
    "x = torch.rand(2,2)\n",
    "x"
   ]
  },
  {
   "cell_type": "markdown",
   "id": "fa294e67",
   "metadata": {
    "papermill": {
     "duration": 0.023771,
     "end_time": "2024-12-21T13:43:16.213345",
     "exception": false,
     "start_time": "2024-12-21T13:43:16.189574",
     "status": "completed"
    },
    "tags": []
   },
   "source": [
    "## Tensors Data type"
   ]
  },
  {
   "cell_type": "code",
   "execution_count": 6,
   "id": "c65adc94",
   "metadata": {
    "execution": {
     "iopub.execute_input": "2024-12-21T13:43:16.263512Z",
     "iopub.status.busy": "2024-12-21T13:43:16.263176Z",
     "iopub.status.idle": "2024-12-21T13:43:16.269561Z",
     "shell.execute_reply": "2024-12-21T13:43:16.268753Z"
    },
    "papermill": {
     "duration": 0.033014,
     "end_time": "2024-12-21T13:43:16.270840",
     "exception": false,
     "start_time": "2024-12-21T13:43:16.237826",
     "status": "completed"
    },
    "tags": []
   },
   "outputs": [
    {
     "data": {
      "text/plain": [
       "torch.float32"
      ]
     },
     "execution_count": 6,
     "metadata": {},
     "output_type": "execute_result"
    }
   ],
   "source": [
    "x = torch.ones(2,2)\n",
    "# print datatype\n",
    "x.dtype"
   ]
  },
  {
   "cell_type": "code",
   "execution_count": 7,
   "id": "a8106195",
   "metadata": {
    "execution": {
     "iopub.execute_input": "2024-12-21T13:43:16.321696Z",
     "iopub.status.busy": "2024-12-21T13:43:16.321415Z",
     "iopub.status.idle": "2024-12-21T13:43:16.326325Z",
     "shell.execute_reply": "2024-12-21T13:43:16.325679Z"
    },
    "papermill": {
     "duration": 0.032016,
     "end_time": "2024-12-21T13:43:16.327517",
     "exception": false,
     "start_time": "2024-12-21T13:43:16.295501",
     "status": "completed"
    },
    "tags": []
   },
   "outputs": [
    {
     "data": {
      "text/plain": [
       "torch.float64"
      ]
     },
     "execution_count": 7,
     "metadata": {},
     "output_type": "execute_result"
    }
   ],
   "source": [
    "x = torch.ones(2,2, dtype=torch.double)\n",
    "# print datatype\n",
    "x.dtype"
   ]
  },
  {
   "cell_type": "markdown",
   "id": "60de9e09",
   "metadata": {
    "papermill": {
     "duration": 0.024494,
     "end_time": "2024-12-21T13:43:16.376551",
     "exception": false,
     "start_time": "2024-12-21T13:43:16.352057",
     "status": "completed"
    },
    "tags": []
   },
   "source": [
    "## Tensors Size"
   ]
  },
  {
   "cell_type": "code",
   "execution_count": 8,
   "id": "d695c66c",
   "metadata": {
    "execution": {
     "iopub.execute_input": "2024-12-21T13:43:16.426615Z",
     "iopub.status.busy": "2024-12-21T13:43:16.426327Z",
     "iopub.status.idle": "2024-12-21T13:43:16.431830Z",
     "shell.execute_reply": "2024-12-21T13:43:16.431007Z"
    },
    "papermill": {
     "duration": 0.032179,
     "end_time": "2024-12-21T13:43:16.433126",
     "exception": false,
     "start_time": "2024-12-21T13:43:16.400947",
     "status": "completed"
    },
    "tags": []
   },
   "outputs": [
    {
     "name": "stdout",
     "output_type": "stream",
     "text": [
      "tensor([[2.5000, 0.1000],\n",
      "        [2.5000, 0.1000]])\n",
      "torch.Size([2, 2])\n"
     ]
    }
   ],
   "source": [
    "x = torch.tensor([[2.5, 0.1], [2.5, 0.1]])\n",
    "print(x)\n",
    "print(x.size())"
   ]
  },
  {
   "cell_type": "markdown",
   "id": "4ca0a264",
   "metadata": {
    "papermill": {
     "duration": 0.024642,
     "end_time": "2024-12-21T13:43:16.483034",
     "exception": false,
     "start_time": "2024-12-21T13:43:16.458392",
     "status": "completed"
    },
    "tags": []
   },
   "source": [
    "## Tensor Operations"
   ]
  },
  {
   "cell_type": "code",
   "execution_count": 9,
   "id": "c2df2273",
   "metadata": {
    "execution": {
     "iopub.execute_input": "2024-12-21T13:43:16.533052Z",
     "iopub.status.busy": "2024-12-21T13:43:16.532699Z",
     "iopub.status.idle": "2024-12-21T13:43:16.540696Z",
     "shell.execute_reply": "2024-12-21T13:43:16.539852Z"
    },
    "papermill": {
     "duration": 0.034932,
     "end_time": "2024-12-21T13:43:16.542085",
     "exception": false,
     "start_time": "2024-12-21T13:43:16.507153",
     "status": "completed"
    },
    "tags": []
   },
   "outputs": [
    {
     "data": {
      "text/plain": [
       "tensor([[0.7174, 0.8541],\n",
       "        [1.2728, 1.3432]])"
      ]
     },
     "execution_count": 9,
     "metadata": {},
     "output_type": "execute_result"
    }
   ],
   "source": [
    "x = torch.rand(2, 2)\n",
    "y = torch.rand(2, 2)\n",
    "\n",
    "z = x + y\n",
    "z"
   ]
  },
  {
   "cell_type": "code",
   "execution_count": 10,
   "id": "40db5def",
   "metadata": {
    "execution": {
     "iopub.execute_input": "2024-12-21T13:43:16.591043Z",
     "iopub.status.busy": "2024-12-21T13:43:16.590751Z",
     "iopub.status.idle": "2024-12-21T13:43:16.596190Z",
     "shell.execute_reply": "2024-12-21T13:43:16.595467Z"
    },
    "papermill": {
     "duration": 0.031231,
     "end_time": "2024-12-21T13:43:16.597489",
     "exception": false,
     "start_time": "2024-12-21T13:43:16.566258",
     "status": "completed"
    },
    "tags": []
   },
   "outputs": [
    {
     "data": {
      "text/plain": [
       "tensor([[0.7174, 0.8541],\n",
       "        [1.2728, 1.3432]])"
      ]
     },
     "execution_count": 10,
     "metadata": {},
     "output_type": "execute_result"
    }
   ],
   "source": [
    "z = torch.add(x, y)\n",
    "z"
   ]
  },
  {
   "cell_type": "code",
   "execution_count": 11,
   "id": "bd5e3699",
   "metadata": {
    "execution": {
     "iopub.execute_input": "2024-12-21T13:43:16.647512Z",
     "iopub.status.busy": "2024-12-21T13:43:16.647241Z",
     "iopub.status.idle": "2024-12-21T13:43:16.653250Z",
     "shell.execute_reply": "2024-12-21T13:43:16.652615Z"
    },
    "papermill": {
     "duration": 0.032266,
     "end_time": "2024-12-21T13:43:16.654504",
     "exception": false,
     "start_time": "2024-12-21T13:43:16.622238",
     "status": "completed"
    },
    "tags": []
   },
   "outputs": [
    {
     "data": {
      "text/plain": [
       "tensor([[0.7174, 0.8541],\n",
       "        [1.2728, 1.3432]])"
      ]
     },
     "execution_count": 11,
     "metadata": {},
     "output_type": "execute_result"
    }
   ],
   "source": [
    "# inplace addition\n",
    "# every function that has \"_\" will do inplace operation\n",
    "y.add_(x)\n",
    "y"
   ]
  },
  {
   "cell_type": "code",
   "execution_count": 12,
   "id": "70fda52f",
   "metadata": {
    "execution": {
     "iopub.execute_input": "2024-12-21T13:43:16.704534Z",
     "iopub.status.busy": "2024-12-21T13:43:16.704257Z",
     "iopub.status.idle": "2024-12-21T13:43:16.713669Z",
     "shell.execute_reply": "2024-12-21T13:43:16.712972Z"
    },
    "papermill": {
     "duration": 0.035241,
     "end_time": "2024-12-21T13:43:16.714932",
     "exception": false,
     "start_time": "2024-12-21T13:43:16.679691",
     "status": "completed"
    },
    "tags": []
   },
   "outputs": [
    {
     "name": "stdout",
     "output_type": "stream",
     "text": [
      "tensor([[0.1271, 0.1349],\n",
      "        [0.8621, 0.4979]])\n",
      "tensor([0.1271, 0.8621])\n"
     ]
    }
   ],
   "source": [
    "# slicing\n",
    "print(x)\n",
    "print(x[:, 0])"
   ]
  },
  {
   "cell_type": "code",
   "execution_count": 13,
   "id": "cceebcd7",
   "metadata": {
    "execution": {
     "iopub.execute_input": "2024-12-21T13:43:16.764627Z",
     "iopub.status.busy": "2024-12-21T13:43:16.764392Z",
     "iopub.status.idle": "2024-12-21T13:43:16.768871Z",
     "shell.execute_reply": "2024-12-21T13:43:16.768098Z"
    },
    "papermill": {
     "duration": 0.030883,
     "end_time": "2024-12-21T13:43:16.770153",
     "exception": false,
     "start_time": "2024-12-21T13:43:16.739270",
     "status": "completed"
    },
    "tags": []
   },
   "outputs": [
    {
     "name": "stdout",
     "output_type": "stream",
     "text": [
      "tensor([0.8621, 0.4979])\n"
     ]
    }
   ],
   "source": [
    "print(x[1, :])"
   ]
  },
  {
   "cell_type": "code",
   "execution_count": 14,
   "id": "aeff4b15",
   "metadata": {
    "execution": {
     "iopub.execute_input": "2024-12-21T13:43:16.820056Z",
     "iopub.status.busy": "2024-12-21T13:43:16.819789Z",
     "iopub.status.idle": "2024-12-21T13:43:16.824494Z",
     "shell.execute_reply": "2024-12-21T13:43:16.823775Z"
    },
    "papermill": {
     "duration": 0.030751,
     "end_time": "2024-12-21T13:43:16.825705",
     "exception": false,
     "start_time": "2024-12-21T13:43:16.794954",
     "status": "completed"
    },
    "tags": []
   },
   "outputs": [
    {
     "name": "stdout",
     "output_type": "stream",
     "text": [
      "tensor(0.4979)\n",
      "0.4979014992713928\n"
     ]
    }
   ],
   "source": [
    "print(x[1,1])\n",
    "# will give actual value\n",
    "# only if one element in tensor\n",
    "print(x[1, 1].item())"
   ]
  },
  {
   "cell_type": "markdown",
   "id": "9fcf1712",
   "metadata": {
    "papermill": {
     "duration": 0.024174,
     "end_time": "2024-12-21T13:43:16.874107",
     "exception": false,
     "start_time": "2024-12-21T13:43:16.849933",
     "status": "completed"
    },
    "tags": []
   },
   "source": [
    "### Reshape Tensor"
   ]
  },
  {
   "cell_type": "code",
   "execution_count": 15,
   "id": "d1771e3c",
   "metadata": {
    "execution": {
     "iopub.execute_input": "2024-12-21T13:43:16.923804Z",
     "iopub.status.busy": "2024-12-21T13:43:16.923528Z",
     "iopub.status.idle": "2024-12-21T13:43:16.929297Z",
     "shell.execute_reply": "2024-12-21T13:43:16.928469Z"
    },
    "papermill": {
     "duration": 0.032216,
     "end_time": "2024-12-21T13:43:16.930560",
     "exception": false,
     "start_time": "2024-12-21T13:43:16.898344",
     "status": "completed"
    },
    "tags": []
   },
   "outputs": [
    {
     "name": "stdout",
     "output_type": "stream",
     "text": [
      "tensor([[0.7009, 0.4683, 0.0725, 0.7778],\n",
      "        [0.0867, 0.2924, 0.4156, 0.5383],\n",
      "        [0.1740, 0.3973, 0.1165, 0.4598],\n",
      "        [0.0702, 0.2491, 0.7001, 0.7592]])\n",
      "tensor([0.7009, 0.4683, 0.0725, 0.7778, 0.0867, 0.2924, 0.4156, 0.5383, 0.1740,\n",
      "        0.3973, 0.1165, 0.4598, 0.0702, 0.2491, 0.7001, 0.7592])\n"
     ]
    }
   ],
   "source": [
    "x = torch.rand(4, 4)\n",
    "print(x)\n",
    "# 1D with 16 elem\n",
    "print(x.view(16))"
   ]
  },
  {
   "cell_type": "code",
   "execution_count": 16,
   "id": "adbb46ea",
   "metadata": {
    "execution": {
     "iopub.execute_input": "2024-12-21T13:43:16.981874Z",
     "iopub.status.busy": "2024-12-21T13:43:16.981596Z",
     "iopub.status.idle": "2024-12-21T13:43:16.987572Z",
     "shell.execute_reply": "2024-12-21T13:43:16.986743Z"
    },
    "papermill": {
     "duration": 0.033712,
     "end_time": "2024-12-21T13:43:16.988753",
     "exception": false,
     "start_time": "2024-12-21T13:43:16.955041",
     "status": "completed"
    },
    "tags": []
   },
   "outputs": [
    {
     "name": "stdout",
     "output_type": "stream",
     "text": [
      "tensor([[0.3963, 0.9383, 0.7912, 0.4819],\n",
      "        [0.4977, 0.6223, 0.0645, 0.5949],\n",
      "        [0.8341, 0.4625, 0.9082, 0.6447],\n",
      "        [0.4001, 0.6542, 0.0532, 0.8381]])\n",
      "tensor([[0.3963, 0.9383, 0.7912, 0.4819, 0.4977, 0.6223, 0.0645, 0.5949],\n",
      "        [0.8341, 0.4625, 0.9082, 0.6447, 0.4001, 0.6542, 0.0532, 0.8381]])\n"
     ]
    }
   ],
   "source": [
    "x = torch.rand(4, 4)\n",
    "print(x)\n",
    "# 2D with not specifing num of rows with 01\n",
    "# but giving num of elements in a row that is 8\n",
    "print(x.view(-1, 8))"
   ]
  },
  {
   "cell_type": "markdown",
   "id": "05e0b392",
   "metadata": {
    "papermill": {
     "duration": 0.024561,
     "end_time": "2024-12-21T13:43:17.038212",
     "exception": false,
     "start_time": "2024-12-21T13:43:17.013651",
     "status": "completed"
    },
    "tags": []
   },
   "source": [
    "### Tensor to numpy arr"
   ]
  },
  {
   "cell_type": "code",
   "execution_count": 17,
   "id": "f203f659",
   "metadata": {
    "execution": {
     "iopub.execute_input": "2024-12-21T13:43:17.132787Z",
     "iopub.status.busy": "2024-12-21T13:43:17.132485Z",
     "iopub.status.idle": "2024-12-21T13:43:17.138082Z",
     "shell.execute_reply": "2024-12-21T13:43:17.137278Z"
    },
    "papermill": {
     "duration": 0.076607,
     "end_time": "2024-12-21T13:43:17.139424",
     "exception": false,
     "start_time": "2024-12-21T13:43:17.062817",
     "status": "completed"
    },
    "tags": []
   },
   "outputs": [
    {
     "name": "stdout",
     "output_type": "stream",
     "text": [
      "tensor([1., 1., 1., 1., 1.])\n",
      "<class 'numpy.ndarray'>\n"
     ]
    }
   ],
   "source": [
    "a = torch.ones(5)\n",
    "print(a)\n",
    "\n",
    "b = a.numpy()\n",
    "print(type(b))"
   ]
  },
  {
   "cell_type": "code",
   "execution_count": 18,
   "id": "44181592",
   "metadata": {
    "execution": {
     "iopub.execute_input": "2024-12-21T13:43:17.189803Z",
     "iopub.status.busy": "2024-12-21T13:43:17.189580Z",
     "iopub.status.idle": "2024-12-21T13:43:17.195959Z",
     "shell.execute_reply": "2024-12-21T13:43:17.195282Z"
    },
    "papermill": {
     "duration": 0.032818,
     "end_time": "2024-12-21T13:43:17.197219",
     "exception": false,
     "start_time": "2024-12-21T13:43:17.164401",
     "status": "completed"
    },
    "tags": []
   },
   "outputs": [
    {
     "name": "stdout",
     "output_type": "stream",
     "text": [
      "tensor([2., 2., 2., 2., 2.])\n",
      "[2. 2. 2. 2. 2.]\n"
     ]
    }
   ],
   "source": [
    "# both numpy array and tensor will share same memory location if tensor is on CPU not on GPU\n",
    "\n",
    "# broadcast so adds 1 to each element\n",
    "a.add_(1)\n",
    "print(a)\n",
    "print(b)"
   ]
  },
  {
   "cell_type": "markdown",
   "id": "b49d2a54",
   "metadata": {
    "papermill": {
     "duration": 0.024755,
     "end_time": "2024-12-21T13:43:17.246669",
     "exception": false,
     "start_time": "2024-12-21T13:43:17.221914",
     "status": "completed"
    },
    "tags": []
   },
   "source": [
    "### Send tensor to GPU"
   ]
  },
  {
   "cell_type": "code",
   "execution_count": 19,
   "id": "164d6513",
   "metadata": {
    "execution": {
     "iopub.execute_input": "2024-12-21T13:43:17.298095Z",
     "iopub.status.busy": "2024-12-21T13:43:17.297752Z",
     "iopub.status.idle": "2024-12-21T13:43:17.561821Z",
     "shell.execute_reply": "2024-12-21T13:43:17.560981Z"
    },
    "papermill": {
     "duration": 0.29121,
     "end_time": "2024-12-21T13:43:17.563094",
     "exception": false,
     "start_time": "2024-12-21T13:43:17.271884",
     "status": "completed"
    },
    "tags": []
   },
   "outputs": [
    {
     "name": "stdout",
     "output_type": "stream",
     "text": [
      "[2. 2. 2. 2. 2.]\n"
     ]
    }
   ],
   "source": [
    "# check if CUDA is available\n",
    "if torch.cuda.is_available():\n",
    "    device = torch.device(\"cuda\")\n",
    "\n",
    "    # will create tensor in GPU\n",
    "    x = torch.ones(5, device=device)\n",
    "\n",
    "    # create first and then move it to GPU\n",
    "    y = torch.ones(5)\n",
    "    y = y.to(device)\n",
    "\n",
    "    # will be performed on GPU\n",
    "    z = x + y\n",
    "\n",
    "    # will give error\n",
    "    # cause numpy can only handle CPU array\n",
    "    # so has to send it to CPU first\n",
    "    # z.numpy()\n",
    "\n",
    "    # send z to cpu\n",
    "    z = z.to(\"cpu\")\n",
    "    print(z.numpy())"
   ]
  },
  {
   "cell_type": "markdown",
   "id": "47cdac6f",
   "metadata": {
    "papermill": {
     "duration": 0.025379,
     "end_time": "2024-12-21T13:43:17.613996",
     "exception": false,
     "start_time": "2024-12-21T13:43:17.588617",
     "status": "completed"
    },
    "tags": []
   },
   "source": [
    "### Calculate Gradient of Tensor"
   ]
  },
  {
   "cell_type": "code",
   "execution_count": 20,
   "id": "3317d3a2",
   "metadata": {
    "execution": {
     "iopub.execute_input": "2024-12-21T13:43:17.667481Z",
     "iopub.status.busy": "2024-12-21T13:43:17.667186Z",
     "iopub.status.idle": "2024-12-21T13:43:17.672207Z",
     "shell.execute_reply": "2024-12-21T13:43:17.671436Z"
    },
    "papermill": {
     "duration": 0.033841,
     "end_time": "2024-12-21T13:43:17.673385",
     "exception": false,
     "start_time": "2024-12-21T13:43:17.639544",
     "status": "completed"
    },
    "tags": []
   },
   "outputs": [
    {
     "name": "stdout",
     "output_type": "stream",
     "text": [
      "tensor([1., 1., 1., 1., 1.], requires_grad=True)\n"
     ]
    }
   ],
   "source": [
    "# To tell pytorch that u have to calculate graident of tensor during optimization step\n",
    "\n",
    "x = torch.ones(5, requires_grad = True)\n",
    "print(x)"
   ]
  },
  {
   "cell_type": "markdown",
   "id": "1a60932b",
   "metadata": {
    "papermill": {
     "duration": 0.024337,
     "end_time": "2024-12-21T13:43:17.722408",
     "exception": false,
     "start_time": "2024-12-21T13:43:17.698071",
     "status": "completed"
    },
    "tags": []
   },
   "source": [
    "# AutoGrad"
   ]
  },
  {
   "cell_type": "code",
   "execution_count": 21,
   "id": "2cb57eff",
   "metadata": {
    "execution": {
     "iopub.execute_input": "2024-12-21T13:43:17.773155Z",
     "iopub.status.busy": "2024-12-21T13:43:17.772848Z",
     "iopub.status.idle": "2024-12-21T13:43:17.776264Z",
     "shell.execute_reply": "2024-12-21T13:43:17.775411Z"
    },
    "papermill": {
     "duration": 0.030539,
     "end_time": "2024-12-21T13:43:17.777470",
     "exception": false,
     "start_time": "2024-12-21T13:43:17.746931",
     "status": "completed"
    },
    "tags": []
   },
   "outputs": [],
   "source": [
    "import torch"
   ]
  },
  {
   "cell_type": "code",
   "execution_count": 22,
   "id": "7b3ee7b7",
   "metadata": {
    "execution": {
     "iopub.execute_input": "2024-12-21T13:43:17.828379Z",
     "iopub.status.busy": "2024-12-21T13:43:17.828100Z",
     "iopub.status.idle": "2024-12-21T13:43:17.845557Z",
     "shell.execute_reply": "2024-12-21T13:43:17.844856Z"
    },
    "papermill": {
     "duration": 0.044354,
     "end_time": "2024-12-21T13:43:17.846692",
     "exception": false,
     "start_time": "2024-12-21T13:43:17.802338",
     "status": "completed"
    },
    "tags": []
   },
   "outputs": [
    {
     "data": {
      "text/plain": [
       "tensor([2.7736, 3.5039, 2.8934])"
      ]
     },
     "execution_count": 22,
     "metadata": {},
     "output_type": "execute_result"
    }
   ],
   "source": [
    "x = torch.randn(3, requires_grad=True)\n",
    "\n",
    "# each operation will creare a computation graph\n",
    "# which will be used for calcuating grad\n",
    "# since we set required_grad to true\n",
    "y = x + 2\n",
    "z = y * y * 2\n",
    "z = z.mean()\n",
    "\n",
    "# can only be called on required_grad set to true\n",
    "# uses vector jacobain product to get the derivatives\n",
    "# also called chain rule\n",
    "# since z is scaler value backward func doest takes any argument\n",
    "z.backward() # calc dz/dx\n",
    "x.grad"
   ]
  },
  {
   "cell_type": "code",
   "execution_count": 23,
   "id": "de5fe7bb",
   "metadata": {
    "execution": {
     "iopub.execute_input": "2024-12-21T13:43:17.897813Z",
     "iopub.status.busy": "2024-12-21T13:43:17.897546Z",
     "iopub.status.idle": "2024-12-21T13:43:18.649766Z",
     "shell.execute_reply": "2024-12-21T13:43:18.648924Z"
    },
    "papermill": {
     "duration": 0.779545,
     "end_time": "2024-12-21T13:43:18.651182",
     "exception": false,
     "start_time": "2024-12-21T13:43:17.871637",
     "status": "completed"
    },
    "tags": []
   },
   "outputs": [
    {
     "data": {
      "text/plain": [
       "tensor([6.1251e-01, 1.2692e+01, 1.1880e-04])"
      ]
     },
     "execution_count": 23,
     "metadata": {},
     "output_type": "execute_result"
    }
   ],
   "source": [
    "x = torch.randn(3, requires_grad=True)\n",
    "\n",
    "# each operation will creare a computation graph\n",
    "# which will be used for calcuating grad\n",
    "# since we set required_grad to true\n",
    "y = x + 2\n",
    "z = y * y * 2\n",
    "# z = z.mean()\n",
    "\n",
    "# can only be called on required_grad set to true\n",
    "# uses vector jacobain product to get the derivatives\n",
    "# also called chain rule\n",
    "# now z isnt scaler value anymore so need to pass some argument to backward func\n",
    "# v has to be same size as z\n",
    "v = torch.tensor([0.1, 1.0, 0.001], dtype=torch.float32)\n",
    "\n",
    "z.backward(v) # calc dz/dx\n",
    "x.grad"
   ]
  },
  {
   "cell_type": "markdown",
   "id": "bb651a10",
   "metadata": {
    "papermill": {
     "duration": 0.024652,
     "end_time": "2024-12-21T13:43:18.701586",
     "exception": false,
     "start_time": "2024-12-21T13:43:18.676934",
     "status": "completed"
    },
    "tags": []
   },
   "source": [
    "## Prevent Gradient Tracking for some operations/tensor"
   ]
  },
  {
   "cell_type": "code",
   "execution_count": 24,
   "id": "b084c935",
   "metadata": {
    "execution": {
     "iopub.execute_input": "2024-12-21T13:43:18.752122Z",
     "iopub.status.busy": "2024-12-21T13:43:18.751717Z",
     "iopub.status.idle": "2024-12-21T13:43:18.758574Z",
     "shell.execute_reply": "2024-12-21T13:43:18.757782Z"
    },
    "papermill": {
     "duration": 0.033596,
     "end_time": "2024-12-21T13:43:18.759867",
     "exception": false,
     "start_time": "2024-12-21T13:43:18.726271",
     "status": "completed"
    },
    "tags": []
   },
   "outputs": [
    {
     "name": "stdout",
     "output_type": "stream",
     "text": [
      "tensor([ 0.4895, -2.2612, -0.9088], requires_grad=True)\n",
      "tensor([ 2.4895, -0.2612,  1.0912])\n"
     ]
    }
   ],
   "source": [
    "# prevent tracking gradient\n",
    "# like operation updating weights should be used when calculating grad\n",
    "\n",
    "# multiple ways to do same thing\n",
    "# x.requires_grad_(False)\n",
    "\n",
    "# this will create a new tensor\n",
    "# x.detach()\n",
    "\n",
    "# wrap operation in following with\n",
    "# with torch.no_grad():\n",
    "\n",
    "x = torch.randn(3, requires_grad=True)\n",
    "print(x)\n",
    "\n",
    "with torch.no_grad():\n",
    "    y = x + 2\n",
    "    # no grad attribute\n",
    "    print(y)"
   ]
  },
  {
   "cell_type": "markdown",
   "id": "66935a15",
   "metadata": {
    "papermill": {
     "duration": 0.024342,
     "end_time": "2024-12-21T13:43:18.809308",
     "exception": false,
     "start_time": "2024-12-21T13:43:18.784966",
     "status": "completed"
    },
    "tags": []
   },
   "source": [
    "## Training Example"
   ]
  },
  {
   "cell_type": "code",
   "execution_count": 25,
   "id": "a65d77f8",
   "metadata": {
    "execution": {
     "iopub.execute_input": "2024-12-21T13:43:18.859431Z",
     "iopub.status.busy": "2024-12-21T13:43:18.859140Z",
     "iopub.status.idle": "2024-12-21T13:43:18.866124Z",
     "shell.execute_reply": "2024-12-21T13:43:18.865334Z"
    },
    "papermill": {
     "duration": 0.033426,
     "end_time": "2024-12-21T13:43:18.867251",
     "exception": false,
     "start_time": "2024-12-21T13:43:18.833825",
     "status": "completed"
    },
    "tags": []
   },
   "outputs": [
    {
     "name": "stdout",
     "output_type": "stream",
     "text": [
      "tensor([3., 3., 3., 3.])\n",
      "tensor([3., 3., 3., 3.])\n"
     ]
    }
   ],
   "source": [
    "weights = torch.ones(4, requires_grad=True)\n",
    "\n",
    "for epoch in range(2):\n",
    "    model_output = (weights*3).sum()\n",
    "\n",
    "    model_output.backward()\n",
    "    print(weights.grad)\n",
    "\n",
    "    # empty gradient\n",
    "    # very important\n",
    "    weights.grad.zero_()"
   ]
  },
  {
   "cell_type": "markdown",
   "id": "9aba7d58",
   "metadata": {
    "papermill": {
     "duration": 0.024597,
     "end_time": "2024-12-21T13:43:18.916799",
     "exception": false,
     "start_time": "2024-12-21T13:43:18.892202",
     "status": "completed"
    },
    "tags": []
   },
   "source": [
    "# Backpropogation"
   ]
  },
  {
   "cell_type": "code",
   "execution_count": 26,
   "id": "ac81928a",
   "metadata": {
    "execution": {
     "iopub.execute_input": "2024-12-21T13:43:18.967567Z",
     "iopub.status.busy": "2024-12-21T13:43:18.967300Z",
     "iopub.status.idle": "2024-12-21T13:43:18.970381Z",
     "shell.execute_reply": "2024-12-21T13:43:18.969707Z"
    },
    "papermill": {
     "duration": 0.030165,
     "end_time": "2024-12-21T13:43:18.971617",
     "exception": false,
     "start_time": "2024-12-21T13:43:18.941452",
     "status": "completed"
    },
    "tags": []
   },
   "outputs": [],
   "source": [
    "import torch"
   ]
  },
  {
   "cell_type": "code",
   "execution_count": 27,
   "id": "e84303f3",
   "metadata": {
    "execution": {
     "iopub.execute_input": "2024-12-21T13:43:19.023685Z",
     "iopub.status.busy": "2024-12-21T13:43:19.023416Z",
     "iopub.status.idle": "2024-12-21T13:43:19.033799Z",
     "shell.execute_reply": "2024-12-21T13:43:19.033004Z"
    },
    "papermill": {
     "duration": 0.036694,
     "end_time": "2024-12-21T13:43:19.034984",
     "exception": false,
     "start_time": "2024-12-21T13:43:18.998290",
     "status": "completed"
    },
    "tags": []
   },
   "outputs": [
    {
     "name": "stdout",
     "output_type": "stream",
     "text": [
      "tensor(1., grad_fn=<PowBackward0>)\n",
      "tensor(-2.)\n"
     ]
    }
   ],
   "source": [
    "x = torch.tensor(1.0)\n",
    "y = torch.tensor(2.0)\n",
    "\n",
    "w = torch.tensor(1.0, requires_grad = True)\n",
    "\n",
    "# forward pass\n",
    "y_hat = w * x\n",
    "loss = (y_hat - y)**2\n",
    "print(loss)\n",
    "\n",
    "# backward pass\n",
    "loss.backward()\n",
    "print(w.grad)\n",
    "\n",
    "# update weights\n",
    "# next forward and backward pass"
   ]
  },
  {
   "cell_type": "markdown",
   "id": "44bf88ef",
   "metadata": {
    "papermill": {
     "duration": 0.02468,
     "end_time": "2024-12-21T13:43:19.084694",
     "exception": false,
     "start_time": "2024-12-21T13:43:19.060014",
     "status": "completed"
    },
    "tags": []
   },
   "source": [
    "# Gradient Descent"
   ]
  },
  {
   "cell_type": "markdown",
   "id": "96b2728c",
   "metadata": {
    "papermill": {
     "duration": 0.02486,
     "end_time": "2024-12-21T13:43:19.134576",
     "exception": false,
     "start_time": "2024-12-21T13:43:19.109716",
     "status": "completed"
    },
    "tags": []
   },
   "source": [
    "## Gradient Descent from scratch"
   ]
  },
  {
   "cell_type": "code",
   "execution_count": 28,
   "id": "5f648017",
   "metadata": {
    "execution": {
     "iopub.execute_input": "2024-12-21T13:43:19.185297Z",
     "iopub.status.busy": "2024-12-21T13:43:19.184987Z",
     "iopub.status.idle": "2024-12-21T13:43:19.188426Z",
     "shell.execute_reply": "2024-12-21T13:43:19.187591Z"
    },
    "papermill": {
     "duration": 0.029938,
     "end_time": "2024-12-21T13:43:19.189628",
     "exception": false,
     "start_time": "2024-12-21T13:43:19.159690",
     "status": "completed"
    },
    "tags": []
   },
   "outputs": [],
   "source": [
    "import numpy as np"
   ]
  },
  {
   "cell_type": "code",
   "execution_count": 29,
   "id": "8eaa9265",
   "metadata": {
    "execution": {
     "iopub.execute_input": "2024-12-21T13:43:19.240386Z",
     "iopub.status.busy": "2024-12-21T13:43:19.240085Z",
     "iopub.status.idle": "2024-12-21T13:43:19.250283Z",
     "shell.execute_reply": "2024-12-21T13:43:19.249459Z"
    },
    "papermill": {
     "duration": 0.037273,
     "end_time": "2024-12-21T13:43:19.251666",
     "exception": false,
     "start_time": "2024-12-21T13:43:19.214393",
     "status": "completed"
    },
    "tags": []
   },
   "outputs": [
    {
     "name": "stdout",
     "output_type": "stream",
     "text": [
      "Prediciton before training f(5) = 0.000\n",
      "epoch=1, w=1.200, loss=30.00000000\n",
      "epoch=2, w=1.680, loss=4.79999924\n",
      "epoch=3, w=1.872, loss=0.76800019\n",
      "epoch=4, w=1.949, loss=0.12288000\n",
      "epoch=5, w=1.980, loss=0.01966083\n",
      "epoch=6, w=1.992, loss=0.00314574\n",
      "epoch=7, w=1.997, loss=0.00050331\n",
      "epoch=8, w=1.999, loss=0.00008053\n",
      "epoch=9, w=1.999, loss=0.00001288\n",
      "epoch=10, w=2.000, loss=0.00000206\n",
      "Prediciton after training f(5) = 9.999\n"
     ]
    }
   ],
   "source": [
    "X = np.array([1, 2, 3, 4], dtype=np.float32)\n",
    "Y = np.array([2, 4, 6, 8], dtype=np.float32)\n",
    "\n",
    "w = 0.0\n",
    "\n",
    "# model prediction\n",
    "def forward(x):\n",
    "    return w * x\n",
    "\n",
    "# loss\n",
    "def loss(y, y_pred):\n",
    "    return ((y_pred-y)**2).mean()\n",
    "\n",
    "# gradient\n",
    "# Loss = 1 / N * (w*x - y_pred)**2\n",
    "# dJ/dw = 1/N * 2x * (wx - y_pred)\n",
    "\n",
    "# gradient\n",
    "def gradient(x, y, y_pred):\n",
    "    return np.dot(2*x, y_pred-y).mean()\n",
    "\n",
    "print(f\"Prediciton before training f(5) = {forward(5):.3f}\")\n",
    "\n",
    "# training\n",
    "learning_rate = 0.01\n",
    "n_iters = 10\n",
    "\n",
    "for epoch in range(n_iters):\n",
    "    # frwd pass\n",
    "    y_pred = forward(X)\n",
    "\n",
    "    # loss\n",
    "    l = loss(Y, y_pred)\n",
    "\n",
    "    # gradient\n",
    "    dw = gradient(X, Y, y_pred)\n",
    "\n",
    "    # update weights\n",
    "    w -= learning_rate * dw\n",
    "\n",
    "    if (epoch%1==0):\n",
    "        print(f\"epoch={epoch+1}, w={w:.3f}, loss={l:.8f}\")\n",
    "\n",
    "print(f\"Prediciton after training f(5) = {forward(5):.3f}\")"
   ]
  },
  {
   "cell_type": "markdown",
   "id": "25f060fe",
   "metadata": {
    "papermill": {
     "duration": 0.025137,
     "end_time": "2024-12-21T13:43:19.302399",
     "exception": false,
     "start_time": "2024-12-21T13:43:19.277262",
     "status": "completed"
    },
    "tags": []
   },
   "source": [
    "## Torch for Gradient Descent"
   ]
  },
  {
   "cell_type": "code",
   "execution_count": 30,
   "id": "9bf201a9",
   "metadata": {
    "execution": {
     "iopub.execute_input": "2024-12-21T13:43:19.354769Z",
     "iopub.status.busy": "2024-12-21T13:43:19.354477Z",
     "iopub.status.idle": "2024-12-21T13:43:19.357875Z",
     "shell.execute_reply": "2024-12-21T13:43:19.357160Z"
    },
    "papermill": {
     "duration": 0.031405,
     "end_time": "2024-12-21T13:43:19.359097",
     "exception": false,
     "start_time": "2024-12-21T13:43:19.327692",
     "status": "completed"
    },
    "tags": []
   },
   "outputs": [],
   "source": [
    "import torch"
   ]
  },
  {
   "cell_type": "code",
   "execution_count": 31,
   "id": "11da7699",
   "metadata": {
    "execution": {
     "iopub.execute_input": "2024-12-21T13:43:19.411315Z",
     "iopub.status.busy": "2024-12-21T13:43:19.411005Z",
     "iopub.status.idle": "2024-12-21T13:43:19.438648Z",
     "shell.execute_reply": "2024-12-21T13:43:19.437691Z"
    },
    "papermill": {
     "duration": 0.05532,
     "end_time": "2024-12-21T13:43:19.440110",
     "exception": false,
     "start_time": "2024-12-21T13:43:19.384790",
     "status": "completed"
    },
    "tags": []
   },
   "outputs": [
    {
     "name": "stdout",
     "output_type": "stream",
     "text": [
      "Prediciton before training f(5) = 0.000\n",
      "epoch=1, w=0.300, loss=30.00000000\n",
      "epoch=11, w=1.665, loss=1.16278565\n",
      "epoch=21, w=1.934, loss=0.04506890\n",
      "epoch=31, w=1.987, loss=0.00174685\n",
      "epoch=41, w=1.997, loss=0.00006770\n",
      "epoch=51, w=1.999, loss=0.00000262\n",
      "epoch=61, w=2.000, loss=0.00000010\n",
      "epoch=71, w=2.000, loss=0.00000000\n",
      "epoch=81, w=2.000, loss=0.00000000\n",
      "epoch=91, w=2.000, loss=0.00000000\n",
      "Prediciton after training f(5) = 10.000\n"
     ]
    }
   ],
   "source": [
    "X = torch.tensor([1, 2, 3, 4], dtype=torch.float32)\n",
    "Y = torch.tensor([2, 4, 6, 8], dtype=torch.float32)\n",
    "\n",
    "# since neends grad with respect to it\n",
    "w = torch.tensor(0.0, dtype=torch.float32, requires_grad=True)\n",
    "\n",
    "# model prediction\n",
    "def forward(x):\n",
    "    return w * x\n",
    "\n",
    "# loss\n",
    "def loss(y, y_pred):\n",
    "    return ((y_pred-y)**2).mean()\n",
    "\n",
    "# gradient\n",
    "# Loss = 1 / N * (w*x - y_pred)**2\n",
    "# dJ/dw = 1/N * 2x * (wx - y_pred)\n",
    "\n",
    "print(f\"Prediciton before training f(5) = {forward(5):.3f}\")\n",
    "\n",
    "# training\n",
    "learning_rate = 0.01\n",
    "n_iters = 100\n",
    "\n",
    "for epoch in range(n_iters):\n",
    "    # frwd pass\n",
    "    y_pred = forward(X)\n",
    "\n",
    "    # loss\n",
    "    l = loss(Y, y_pred)\n",
    "\n",
    "    # gradient\n",
    "    dw = l.backward() # dl/dw\n",
    "\n",
    "    # update weights\n",
    "    # should not be part of gradient computation\n",
    "    with torch.no_grad():\n",
    "        w -= learning_rate * w.grad\n",
    "\n",
    "    # zero gradients\n",
    "    w.grad.zero_()\n",
    "    \n",
    "    if (epoch%10==0):\n",
    "        print(f\"epoch={epoch+1}, w={w:.3f}, loss={l:.8f}\")\n",
    "\n",
    "print(f\"Prediciton after training f(5) = {forward(5):.3f}\")"
   ]
  },
  {
   "cell_type": "markdown",
   "id": "3b03ac8d",
   "metadata": {
    "papermill": {
     "duration": 0.025825,
     "end_time": "2024-12-21T13:43:19.492046",
     "exception": false,
     "start_time": "2024-12-21T13:43:19.466221",
     "status": "completed"
    },
    "tags": []
   },
   "source": [
    "# Use model, loss, optimizer"
   ]
  },
  {
   "cell_type": "markdown",
   "id": "d2c495bd",
   "metadata": {
    "papermill": {
     "duration": 0.025664,
     "end_time": "2024-12-21T13:43:19.542875",
     "exception": false,
     "start_time": "2024-12-21T13:43:19.517211",
     "status": "completed"
    },
    "tags": []
   },
   "source": [
    "## Steps of designing model\n",
    "- design model inputs, outputs and forward pass\n",
    "- construct loss and optimizer\n",
    "- training loop\n",
    "  - forward pass\n",
    "  - backward pass\n",
    "  - update weights\n",
    "  - zero grad"
   ]
  },
  {
   "cell_type": "code",
   "execution_count": 32,
   "id": "25192f45",
   "metadata": {
    "execution": {
     "iopub.execute_input": "2024-12-21T13:43:19.595247Z",
     "iopub.status.busy": "2024-12-21T13:43:19.594921Z",
     "iopub.status.idle": "2024-12-21T13:43:19.598396Z",
     "shell.execute_reply": "2024-12-21T13:43:19.597667Z"
    },
    "papermill": {
     "duration": 0.031241,
     "end_time": "2024-12-21T13:43:19.599626",
     "exception": false,
     "start_time": "2024-12-21T13:43:19.568385",
     "status": "completed"
    },
    "tags": []
   },
   "outputs": [],
   "source": [
    "import torch\n",
    "import torch.nn as nn"
   ]
  },
  {
   "cell_type": "markdown",
   "id": "7922fc8f",
   "metadata": {
    "papermill": {
     "duration": 0.024971,
     "end_time": "2024-12-21T13:43:19.650516",
     "exception": false,
     "start_time": "2024-12-21T13:43:19.625545",
     "status": "completed"
    },
    "tags": []
   },
   "source": [
    "## Use loss and optimizer from pytorch"
   ]
  },
  {
   "cell_type": "code",
   "execution_count": 33,
   "id": "f23adc6c",
   "metadata": {
    "execution": {
     "iopub.execute_input": "2024-12-21T13:43:19.702366Z",
     "iopub.status.busy": "2024-12-21T13:43:19.702054Z",
     "iopub.status.idle": "2024-12-21T13:43:20.195644Z",
     "shell.execute_reply": "2024-12-21T13:43:20.194638Z"
    },
    "papermill": {
     "duration": 0.521088,
     "end_time": "2024-12-21T13:43:20.197010",
     "exception": false,
     "start_time": "2024-12-21T13:43:19.675922",
     "status": "completed"
    },
    "tags": []
   },
   "outputs": [
    {
     "name": "stdout",
     "output_type": "stream",
     "text": [
      "Prediciton before training f(5) = 0.000\n",
      "epoch=1, w=0.300, loss=30.00000000\n",
      "epoch=11, w=1.665, loss=1.16278565\n",
      "epoch=21, w=1.934, loss=0.04506890\n",
      "epoch=31, w=1.987, loss=0.00174685\n",
      "epoch=41, w=1.997, loss=0.00006770\n",
      "epoch=51, w=1.999, loss=0.00000262\n",
      "epoch=61, w=2.000, loss=0.00000010\n",
      "epoch=71, w=2.000, loss=0.00000000\n",
      "epoch=81, w=2.000, loss=0.00000000\n",
      "epoch=91, w=2.000, loss=0.00000000\n",
      "Prediciton after training f(5) = 10.000\n"
     ]
    }
   ],
   "source": [
    "X = torch.tensor([1, 2, 3, 4], dtype=torch.float32)\n",
    "Y = torch.tensor([2, 4, 6, 8], dtype=torch.float32)\n",
    "\n",
    "# since neends grad with respect to it\n",
    "w = torch.tensor(0.0, dtype=torch.float32, requires_grad=True)\n",
    "\n",
    "# model prediction\n",
    "def forward(x):\n",
    "    return w * x\n",
    "\n",
    "print(f\"Prediciton before training f(5) = {forward(5):.3f}\")\n",
    "\n",
    "# training\n",
    "learning_rate = 0.01\n",
    "n_iters = 100\n",
    "\n",
    "# loss\n",
    "loss = nn.MSELoss()\n",
    "\n",
    "# optimizer\n",
    "# takes list of param to optimize\n",
    "optimizer = torch.optim.SGD([w], lr=learning_rate)\n",
    "\n",
    "for epoch in range(n_iters):\n",
    "    # frwd pass\n",
    "    y_pred = forward(X)\n",
    "\n",
    "    # loss\n",
    "    l = loss(Y, y_pred)\n",
    "\n",
    "    # gradient\n",
    "    dw = l.backward() # dl/dw\n",
    "\n",
    "    # update weights\n",
    "    # can be done by optimizer\n",
    "    # this will do optimization step\n",
    "    optimizer.step()\n",
    "\n",
    "    # zero gradients\n",
    "    # use optimizer to zero grad\n",
    "    optimizer.zero_grad()\n",
    "    \n",
    "    if (epoch%10==0):\n",
    "        print(f\"epoch={epoch+1}, w={w:.3f}, loss={l:.8f}\")\n",
    "\n",
    "print(f\"Prediciton after training f(5) = {forward(5):.3f}\")"
   ]
  },
  {
   "cell_type": "markdown",
   "id": "541aad1f",
   "metadata": {
    "papermill": {
     "duration": 0.026113,
     "end_time": "2024-12-21T13:43:20.249107",
     "exception": false,
     "start_time": "2024-12-21T13:43:20.222994",
     "status": "completed"
    },
    "tags": []
   },
   "source": [
    "## Use model from pytorch instead of forward func"
   ]
  },
  {
   "cell_type": "code",
   "execution_count": 34,
   "id": "ca142e60",
   "metadata": {
    "execution": {
     "iopub.execute_input": "2024-12-21T13:43:20.301503Z",
     "iopub.status.busy": "2024-12-21T13:43:20.301076Z",
     "iopub.status.idle": "2024-12-21T13:43:20.629360Z",
     "shell.execute_reply": "2024-12-21T13:43:20.628539Z"
    },
    "papermill": {
     "duration": 0.356322,
     "end_time": "2024-12-21T13:43:20.630632",
     "exception": false,
     "start_time": "2024-12-21T13:43:20.274310",
     "status": "completed"
    },
    "tags": []
   },
   "outputs": [
    {
     "name": "stdout",
     "output_type": "stream",
     "text": [
      "Prediciton before training f(5) = -0.654\n",
      "epoch=1, w=-0.004, loss=30.55484009\n",
      "epoch=101, w=1.626, loss=0.20262466\n",
      "epoch=201, w=1.723, loss=0.11123858\n",
      "epoch=301, w=1.795, loss=0.06106859\n",
      "epoch=401, w=1.848, loss=0.03352591\n",
      "epoch=501, w=1.887, loss=0.01840536\n",
      "epoch=601, w=1.917, loss=0.01010430\n",
      "epoch=701, w=1.938, loss=0.00554714\n",
      "epoch=801, w=1.954, loss=0.00304533\n",
      "epoch=901, w=1.966, loss=0.00167183\n",
      "Prediciton after training f(5) = 9.948\n"
     ]
    }
   ],
   "source": [
    "# X must be 2D array, where each row is diff input\n",
    "X = torch.tensor([[1], [2], [3], [4]], dtype=torch.float32)\n",
    "Y = torch.tensor([[2], [4], [6], [8]], dtype=torch.float32)\n",
    "\n",
    "X_test = torch.tensor([5], dtype=torch.float32)\n",
    "\n",
    "n_samples, n_features = X.shape\n",
    "\n",
    "# since neends grad with respect to it\n",
    "w = torch.tensor(0.0, dtype=torch.float32, requires_grad=True)\n",
    "\n",
    "input_size = n_features\n",
    "output_size = n_features\n",
    "model = nn.Linear(input_size, output_size)\n",
    "\n",
    "print(f\"Prediciton before training f(5) = {model(X_test).item():.3f}\")\n",
    "\n",
    "# training\n",
    "learning_rate = 0.01\n",
    "n_iters = 1000\n",
    "\n",
    "# loss\n",
    "loss = nn.MSELoss()\n",
    "\n",
    "# optimizer\n",
    "# takes list of param to optimize\n",
    "# model.parameters() gives list of optimizable param of model\n",
    "optimizer = torch.optim.SGD(model.parameters(), lr=learning_rate)\n",
    "\n",
    "for epoch in range(n_iters):\n",
    "    # frwd pass\n",
    "    y_pred = model(X)\n",
    "\n",
    "    # loss\n",
    "    l = loss(Y, y_pred)\n",
    "\n",
    "    # gradient\n",
    "    dw = l.backward() # dl/dw\n",
    "\n",
    "    # update weights\n",
    "    # can be done by optimizer\n",
    "    # this will do optimization step\n",
    "    optimizer.step()\n",
    "\n",
    "    # zero gradients\n",
    "    # use optimizer to zero grad\n",
    "    optimizer.zero_grad()\n",
    "    \n",
    "    if (epoch%100==0):\n",
    "        [w, b] = model.parameters()\n",
    "        print(f\"epoch={epoch+1}, w={w[0][0].item():.3f}, loss={l:.8f}\")\n",
    "\n",
    "print(f\"Prediciton after training f(5) = {model(X_test).item():.3f}\")"
   ]
  },
  {
   "cell_type": "markdown",
   "id": "cb91a077",
   "metadata": {
    "papermill": {
     "duration": 0.025343,
     "end_time": "2024-12-21T13:43:20.682207",
     "exception": false,
     "start_time": "2024-12-21T13:43:20.656864",
     "status": "completed"
    },
    "tags": []
   },
   "source": [
    "## Create custom model"
   ]
  },
  {
   "cell_type": "code",
   "execution_count": 35,
   "id": "1077385c",
   "metadata": {
    "execution": {
     "iopub.execute_input": "2024-12-21T13:43:20.734360Z",
     "iopub.status.busy": "2024-12-21T13:43:20.734067Z",
     "iopub.status.idle": "2024-12-21T13:43:21.056776Z",
     "shell.execute_reply": "2024-12-21T13:43:21.055961Z"
    },
    "papermill": {
     "duration": 0.350454,
     "end_time": "2024-12-21T13:43:21.058025",
     "exception": false,
     "start_time": "2024-12-21T13:43:20.707571",
     "status": "completed"
    },
    "tags": []
   },
   "outputs": [
    {
     "name": "stdout",
     "output_type": "stream",
     "text": [
      "Prediciton before training f(5) = 5.249\n",
      "epoch=1, w=1.040, loss=5.59759617\n",
      "epoch=101, w=1.761, loss=0.08328646\n",
      "epoch=201, w=1.823, loss=0.04572337\n",
      "epoch=301, w=1.869, loss=0.02510153\n",
      "epoch=401, w=1.903, loss=0.01378044\n",
      "epoch=501, w=1.928, loss=0.00756528\n",
      "epoch=601, w=1.947, loss=0.00415324\n",
      "epoch=701, w=1.960, loss=0.00228008\n",
      "epoch=801, w=1.971, loss=0.00125174\n",
      "epoch=901, w=1.978, loss=0.00068719\n",
      "Prediciton after training f(5) = 9.967\n"
     ]
    }
   ],
   "source": [
    "# X must be 2D array, where each row is diff input\n",
    "X = torch.tensor([[1], [2], [3], [4]], dtype=torch.float32)\n",
    "Y = torch.tensor([[2], [4], [6], [8]], dtype=torch.float32)\n",
    "\n",
    "X_test = torch.tensor([5], dtype=torch.float32)\n",
    "\n",
    "n_samples, n_features = X.shape\n",
    "\n",
    "# since neends grad with respect to it\n",
    "w = torch.tensor(0.0, dtype=torch.float32, requires_grad=True)\n",
    "\n",
    "input_size = n_features\n",
    "output_size = n_features\n",
    "\n",
    "class LinearRegression(nn.Module):\n",
    "    def __init__(self, input_dim, output_dim):\n",
    "        super(LinearRegression, self).__init__()\n",
    "\n",
    "        # define layers\n",
    "        self.lin = nn.Linear(input_dim, output_dim)\n",
    "\n",
    "    def forward(self, x):\n",
    "        return self.lin(x)\n",
    "\n",
    "model = LinearRegression(input_size, output_size)\n",
    "\n",
    "print(f\"Prediciton before training f(5) = {model(X_test).item():.3f}\")\n",
    "\n",
    "# training\n",
    "learning_rate = 0.01\n",
    "n_iters = 1000\n",
    "\n",
    "# loss\n",
    "loss = nn.MSELoss()\n",
    "\n",
    "# optimizer\n",
    "# takes list of param to optimize\n",
    "# model.parameters() gives list of optimizable param of model\n",
    "optimizer = torch.optim.SGD(model.parameters(), lr=learning_rate)\n",
    "\n",
    "for epoch in range(n_iters):\n",
    "    # frwd pass\n",
    "    y_pred = model(X)\n",
    "\n",
    "    # loss\n",
    "    l = loss(Y, y_pred)\n",
    "\n",
    "    # gradient\n",
    "    dw = l.backward() # dl/dw\n",
    "\n",
    "    # update weights\n",
    "    # can be done by optimizer\n",
    "    # this will do optimization step\n",
    "    optimizer.step()\n",
    "\n",
    "    # zero gradients\n",
    "    # use optimizer to zero grad\n",
    "    optimizer.zero_grad()\n",
    "    \n",
    "    if (epoch%100==0):\n",
    "        [w, b] = model.parameters()\n",
    "        print(f\"epoch={epoch+1}, w={w[0][0].item():.3f}, loss={l:.8f}\")\n",
    "\n",
    "print(f\"Prediciton after training f(5) = {model(X_test).item():.3f}\")"
   ]
  },
  {
   "cell_type": "markdown",
   "id": "369f60fa",
   "metadata": {
    "papermill": {
     "duration": 0.026024,
     "end_time": "2024-12-21T13:43:21.110293",
     "exception": false,
     "start_time": "2024-12-21T13:43:21.084269",
     "status": "completed"
    },
    "tags": []
   },
   "source": [
    "# Linear Regression"
   ]
  },
  {
   "cell_type": "code",
   "execution_count": 36,
   "id": "584799b4",
   "metadata": {
    "execution": {
     "iopub.execute_input": "2024-12-21T13:43:21.162344Z",
     "iopub.status.busy": "2024-12-21T13:43:21.162047Z",
     "iopub.status.idle": "2024-12-21T13:43:22.168794Z",
     "shell.execute_reply": "2024-12-21T13:43:22.167883Z"
    },
    "papermill": {
     "duration": 1.035016,
     "end_time": "2024-12-21T13:43:22.170717",
     "exception": false,
     "start_time": "2024-12-21T13:43:21.135701",
     "status": "completed"
    },
    "tags": []
   },
   "outputs": [],
   "source": [
    "import torch\n",
    "import torch.nn as nn\n",
    "import numpy as np\n",
    "from sklearn import datasets\n",
    "import matplotlib.pyplot as plt"
   ]
  },
  {
   "cell_type": "code",
   "execution_count": 37,
   "id": "bf41d3b4",
   "metadata": {
    "execution": {
     "iopub.execute_input": "2024-12-21T13:43:22.223572Z",
     "iopub.status.busy": "2024-12-21T13:43:22.223164Z",
     "iopub.status.idle": "2024-12-21T13:43:22.600188Z",
     "shell.execute_reply": "2024-12-21T13:43:22.599367Z"
    },
    "papermill": {
     "duration": 0.404744,
     "end_time": "2024-12-21T13:43:22.601677",
     "exception": false,
     "start_time": "2024-12-21T13:43:22.196933",
     "status": "completed"
    },
    "tags": []
   },
   "outputs": [
    {
     "name": "stdout",
     "output_type": "stream",
     "text": [
      "epoch: 10, loss=4454.9214\n",
      "epoch: 20, loss=3320.9033\n",
      "epoch: 30, loss=2500.8525\n",
      "epoch: 40, loss=1907.1853\n",
      "epoch: 50, loss=1476.9644\n",
      "epoch: 60, loss=1164.8940\n",
      "epoch: 70, loss=938.3273\n",
      "epoch: 80, loss=773.7042\n",
      "epoch: 90, loss=653.9999\n",
      "epoch: 100, loss=566.8983\n"
     ]
    },
    {
     "data": {
      "image/png": "[encoded data removed]",
      "text/plain": [
       "<Figure size 640x480 with 1 Axes>"
      ]
     },
     "metadata": {},
     "output_type": "display_data"
    }
   ],
   "source": [
    "# prepare data\n",
    "X_numpy, Y_numpy = datasets.make_regression(n_samples = 100, n_features=1, noise=20, random_state=1)\n",
    "\n",
    "# create torch tensor from numpy\n",
    "X = torch.from_numpy(X_numpy.astype(np.float32))\n",
    "Y = torch.from_numpy(Y_numpy.astype(np.float32))\n",
    "# has only one row, create 2D\n",
    "Y = Y.view(Y.shape[0], 1)\n",
    "\n",
    "n_samples, n_features = X.shape\n",
    "\n",
    "# model\n",
    "input_size = n_features\n",
    "output_size = 1\n",
    "model = nn.Linear(n_features, output_size)\n",
    "\n",
    "# loss and optimizer\n",
    "learning_rate = 0.01\n",
    "criterion = nn.MSELoss()\n",
    "optimizer = torch.optim.SGD(model.parameters(), lr=learning_rate)\n",
    "\n",
    "# training loop\n",
    "num_epoch = 100\n",
    "for epoch in range(num_epoch):\n",
    "    # forward pass and loss\n",
    "    y_pred = model(X)\n",
    "    loss = criterion(y_pred, Y)\n",
    "\n",
    "    # backward pass\n",
    "    loss.backward()\n",
    "\n",
    "    # update weights\n",
    "    optimizer.step()\n",
    "\n",
    "    # empty gradients\n",
    "    optimizer.zero_grad()\n",
    "\n",
    "    if ((epoch+1)%10==0):\n",
    "        print(f\"epoch: {epoch+1}, loss={loss.item():.4f}\")\n",
    "\n",
    "# plot\n",
    "# dont calc gradient for this operation\n",
    "pred = model(X).detach().numpy()\n",
    "plt.plot(X_numpy, Y_numpy, \"ro\")\n",
    "plt.plot(X_numpy, pred, \"b\")\n",
    "plt.show()"
   ]
  },
  {
   "cell_type": "markdown",
   "id": "aca180e2",
   "metadata": {
    "papermill": {
     "duration": 0.026422,
     "end_time": "2024-12-21T13:43:22.654936",
     "exception": false,
     "start_time": "2024-12-21T13:43:22.628514",
     "status": "completed"
    },
    "tags": []
   },
   "source": [
    "# Logistic Regression"
   ]
  },
  {
   "cell_type": "code",
   "execution_count": 38,
   "id": "e8428451",
   "metadata": {
    "execution": {
     "iopub.execute_input": "2024-12-21T13:43:22.710377Z",
     "iopub.status.busy": "2024-12-21T13:43:22.710065Z",
     "iopub.status.idle": "2024-12-21T13:43:22.787594Z",
     "shell.execute_reply": "2024-12-21T13:43:22.786670Z"
    },
    "papermill": {
     "duration": 0.107575,
     "end_time": "2024-12-21T13:43:22.789205",
     "exception": false,
     "start_time": "2024-12-21T13:43:22.681630",
     "status": "completed"
    },
    "tags": []
   },
   "outputs": [],
   "source": [
    "import torch\n",
    "import torch.nn as nn\n",
    "import numpy as np\n",
    "from sklearn import datasets\n",
    "from sklearn.preprocessing import StandardScaler\n",
    "from sklearn.model_selection import train_test_split"
   ]
  },
  {
   "cell_type": "code",
   "execution_count": 39,
   "id": "dcc0c841",
   "metadata": {
    "execution": {
     "iopub.execute_input": "2024-12-21T13:43:22.843424Z",
     "iopub.status.busy": "2024-12-21T13:43:22.843139Z",
     "iopub.status.idle": "2024-12-21T13:43:22.920658Z",
     "shell.execute_reply": "2024-12-21T13:43:22.919537Z"
    },
    "papermill": {
     "duration": 0.105875,
     "end_time": "2024-12-21T13:43:22.922002",
     "exception": false,
     "start_time": "2024-12-21T13:43:22.816127",
     "status": "completed"
    },
    "tags": []
   },
   "outputs": [
    {
     "name": "stdout",
     "output_type": "stream",
     "text": [
      "epoch: 10, loss=0.5419\n",
      "epoch: 20, loss=0.4543\n",
      "epoch: 30, loss=0.3972\n",
      "epoch: 40, loss=0.3568\n",
      "epoch: 50, loss=0.3265\n",
      "epoch: 60, loss=0.3028\n",
      "epoch: 70, loss=0.2836\n",
      "epoch: 80, loss=0.2676\n",
      "epoch: 90, loss=0.2541\n",
      "epoch: 100, loss=0.2424\n",
      "Accuracy = 0.8947\n"
     ]
    }
   ],
   "source": [
    "# prepare data\n",
    "bc = datasets.load_breast_cancer()\n",
    "X, Y = bc.data, bc.target\n",
    "\n",
    "X_train, X_test, Y_train, Y_test = train_test_split(X, Y, test_size = 0.2, random_state = 1234)\n",
    "\n",
    "# features will have 0 mean\n",
    "# and unit variance\n",
    "sc = StandardScaler()\n",
    "X_train = sc.fit_transform(X_train)\n",
    "X_test = sc.transform(X_test)\n",
    "\n",
    "# create torch tensor from numpy\n",
    "X_train = torch.from_numpy(X_train.astype(np.float32))\n",
    "Y_train = torch.from_numpy(Y_train.astype(np.float32))\n",
    "X_test = torch.from_numpy(X_test.astype(np.float32))\n",
    "Y_test = torch.from_numpy(Y_test.astype(np.float32))\n",
    "\n",
    "# has only one row, create 2D\n",
    "Y_train = Y_train.view(Y_train.shape[0], 1)\n",
    "Y_test = Y_test.view(Y_test.shape[0], 1)\n",
    "\n",
    "class LogisticRegression(nn.Module):\n",
    "    def __init__(self, n_input_features):\n",
    "        super(LogisticRegression, self).__init__()\n",
    "\n",
    "        self.linear = nn.Linear(n_input_features, 1)\n",
    "\n",
    "    def forward(self, x):\n",
    "        y_pred = torch.sigmoid(self.linear(x))\n",
    "        return y_pred\n",
    "\n",
    "n_samples, n_features = X_train.shape\n",
    "\n",
    "# model\n",
    "input_size = n_features\n",
    "model = LogisticRegression(n_features)\n",
    "\n",
    "# loss and optimizer\n",
    "learning_rate = 0.01\n",
    "criterion = nn.BCELoss()\n",
    "optimizer = torch.optim.SGD(model.parameters(), lr=learning_rate)\n",
    "\n",
    "# training loop\n",
    "num_epoch = 100\n",
    "for epoch in range(num_epoch):\n",
    "    # forward pass and loss\n",
    "    y_pred = model(X_train)\n",
    "    loss = criterion(y_pred, Y_train)\n",
    "\n",
    "    # backward pass\n",
    "    loss.backward()\n",
    "\n",
    "    # update weights\n",
    "    optimizer.step()\n",
    "\n",
    "    # empty gradients\n",
    "    optimizer.zero_grad()\n",
    "\n",
    "    if ((epoch+1)%10==0):\n",
    "        print(f\"epoch: {epoch+1}, loss={loss.item():.4f}\")\n",
    "\n",
    "# no need to calc this as a part of gradient operation and add it to computation graph\n",
    "with torch.no_grad():\n",
    "    y_pred = model(X_test)\n",
    "    # round to 0 or 1\n",
    "    y_pred_cls = y_pred.round()\n",
    "    \n",
    "    acc = y_pred_cls.eq(Y_test).sum() / float(Y_test.shape[0])\n",
    "    print(f\"Accuracy = {acc:.4f}\")"
   ]
  },
  {
   "cell_type": "markdown",
   "id": "08d5b7ab",
   "metadata": {
    "papermill": {
     "duration": 0.02562,
     "end_time": "2024-12-21T13:43:22.974467",
     "exception": false,
     "start_time": "2024-12-21T13:43:22.948847",
     "status": "completed"
    },
    "tags": []
   },
   "source": [
    "# Dataset and DatasetLoader"
   ]
  },
  {
   "cell_type": "code",
   "execution_count": 40,
   "id": "26bf7266",
   "metadata": {
    "execution": {
     "iopub.execute_input": "2024-12-21T13:43:23.029653Z",
     "iopub.status.busy": "2024-12-21T13:43:23.029338Z",
     "iopub.status.idle": "2024-12-21T13:43:23.032606Z",
     "shell.execute_reply": "2024-12-21T13:43:23.031865Z"
    },
    "papermill": {
     "duration": 0.031811,
     "end_time": "2024-12-21T13:43:23.033846",
     "exception": false,
     "start_time": "2024-12-21T13:43:23.002035",
     "status": "completed"
    },
    "tags": []
   },
   "outputs": [],
   "source": [
    "# hard to train on entire dataset at once\n",
    "# better to divide dataset in small batches\n",
    "# then training loop will be like\n",
    "\n",
    "# for epoch in range(1000):\n",
    "#     for i in range(total_batches):\n",
    "#         # train on that batch\n",
    "#         x_batch, y_batch = ..."
   ]
  },
  {
   "cell_type": "markdown",
   "id": "444be3c3",
   "metadata": {
    "papermill": {
     "duration": 0.026134,
     "end_time": "2024-12-21T13:43:23.086830",
     "exception": false,
     "start_time": "2024-12-21T13:43:23.060696",
     "status": "completed"
    },
    "tags": []
   },
   "source": [
    "- **epoch:** 1 forward and backward pass of ALL training samples\n",
    "- **batch_size:** number of training samples in one forward & backward pass\n",
    "- **num of iterations:** number of passes, each pass using [batch_size] number of samples\n",
    "\n",
    "e.g. 100 samples, batch_size=20 --> 100/20 = 5 iterations for 1 epoch"
   ]
  },
  {
   "cell_type": "code",
   "execution_count": 41,
   "id": "9c8f88dd",
   "metadata": {
    "execution": {
     "iopub.execute_input": "2024-12-21T13:43:23.140321Z",
     "iopub.status.busy": "2024-12-21T13:43:23.140010Z",
     "iopub.status.idle": "2024-12-21T13:43:23.472323Z",
     "shell.execute_reply": "2024-12-21T13:43:23.471233Z"
    },
    "papermill": {
     "duration": 0.36104,
     "end_time": "2024-12-21T13:43:23.473991",
     "exception": false,
     "start_time": "2024-12-21T13:43:23.112951",
     "status": "completed"
    },
    "tags": []
   },
   "outputs": [
    {
     "name": "stdout",
     "output_type": "stream",
     "text": [
      "--2024-12-21 13:43:23--  https://raw.githubusercontent.com/patrickloeber/pytorchTutorial/refs/heads/master/data/wine/wine.csv\r\n",
      "Resolving raw.githubusercontent.com (raw.githubusercontent.com)... 185.199.109.133, 185.199.108.133, 185.199.111.133, ...\r\n",
      "Connecting to raw.githubusercontent.com (raw.githubusercontent.com)|185.199.109.133|:443... connected.\r\n",
      "HTTP request sent, awaiting response... 200 OK\r\n",
      "Length: 10889 (11K) [text/plain]\r\n",
      "Saving to: ‘wine.csv’\r\n",
      "\r\n",
      "wine.csv            100%[===================>]  10.63K  --.-KB/s    in 0s      \r\n",
      "\r\n",
      "2024-12-21 13:43:23 (27.9 MB/s) - ‘wine.csv’ saved [10889/10889]\r\n",
      "\r\n"
     ]
    }
   ],
   "source": [
    "!wget https://raw.githubusercontent.com/patrickloeber/pytorchTutorial/refs/heads/master/data/wine/wine.csv"
   ]
  },
  {
   "cell_type": "code",
   "execution_count": 42,
   "id": "1de0ed3d",
   "metadata": {
    "execution": {
     "iopub.execute_input": "2024-12-21T13:43:23.528841Z",
     "iopub.status.busy": "2024-12-21T13:43:23.528535Z",
     "iopub.status.idle": "2024-12-21T13:43:23.889393Z",
     "shell.execute_reply": "2024-12-21T13:43:23.888685Z"
    },
    "papermill": {
     "duration": 0.390029,
     "end_time": "2024-12-21T13:43:23.890980",
     "exception": false,
     "start_time": "2024-12-21T13:43:23.500951",
     "status": "completed"
    },
    "tags": []
   },
   "outputs": [],
   "source": [
    "import torch\n",
    "import torchvision\n",
    "from torch.utils.data import Dataset, DataLoader\n",
    "import numpy as np\n",
    "import math"
   ]
  },
  {
   "cell_type": "code",
   "execution_count": 43,
   "id": "a3e387bb",
   "metadata": {
    "execution": {
     "iopub.execute_input": "2024-12-21T13:43:23.945791Z",
     "iopub.status.busy": "2024-12-21T13:43:23.945522Z",
     "iopub.status.idle": "2024-12-21T13:43:24.015192Z",
     "shell.execute_reply": "2024-12-21T13:43:24.013824Z"
    },
    "papermill": {
     "duration": 0.098875,
     "end_time": "2024-12-21T13:43:24.017138",
     "exception": false,
     "start_time": "2024-12-21T13:43:23.918263",
     "status": "completed"
    },
    "tags": []
   },
   "outputs": [
    {
     "name": "stdout",
     "output_type": "stream",
     "text": [
      "tensor([1.4230e+01, 1.7100e+00, 2.4300e+00, 1.5600e+01, 1.2700e+02, 2.8000e+00,\n",
      "        3.0600e+00, 2.8000e-01, 2.2900e+00, 5.6400e+00, 1.0400e+00, 3.9200e+00,\n",
      "        1.0650e+03]) tensor([1.])\n",
      "tensor([[1.1870e+01, 4.3100e+00, 2.3900e+00, 2.1000e+01, 8.2000e+01, 2.8600e+00,\n",
      "         3.0300e+00, 2.1000e-01, 2.9100e+00, 2.8000e+00, 7.5000e-01, 3.6400e+00,\n",
      "         3.8000e+02],\n",
      "        [1.1960e+01, 1.0900e+00, 2.3000e+00, 2.1000e+01, 1.0100e+02, 3.3800e+00,\n",
      "         2.1400e+00, 1.3000e-01, 1.6500e+00, 3.2100e+00, 9.9000e-01, 3.1300e+00,\n",
      "         8.8600e+02],\n",
      "        [1.3770e+01, 1.9000e+00, 2.6800e+00, 1.7100e+01, 1.1500e+02, 3.0000e+00,\n",
      "         2.7900e+00, 3.9000e-01, 1.6800e+00, 6.3000e+00, 1.1300e+00, 2.9300e+00,\n",
      "         1.3750e+03],\n",
      "        [1.2820e+01, 3.3700e+00, 2.3000e+00, 1.9500e+01, 8.8000e+01, 1.4800e+00,\n",
      "         6.6000e-01, 4.0000e-01, 9.7000e-01, 1.0260e+01, 7.2000e-01, 1.7500e+00,\n",
      "         6.8500e+02]]) tensor([[2.],\n",
      "        [2.],\n",
      "        [1.],\n",
      "        [3.]])\n"
     ]
    }
   ],
   "source": [
    "class WineDataset(Dataset):\n",
    "    def __init__(self):\n",
    "        # data loading\n",
    "        xy = np.loadtxt(\"/kaggle/working/wine.csv\", delimiter=\",\", dtype=np.float32, skiprows=1)\n",
    "        self.x = torch.from_numpy(xy[:, 1:])\n",
    "        self.y = torch.from_numpy(xy[:, [0]]) # create (n_samples, 1) size\n",
    "        self.n_samples = xy.shape[0];\n",
    "\n",
    "    def __getitem__(self, index):\n",
    "        # allow us to use dataset[0]\n",
    "        return (self.x[index], self.y[index])\n",
    "\n",
    "    def __len__(self):\n",
    "        # allow us to use len(dataset)\n",
    "        return self.n_samples\n",
    "\n",
    "dataset = WineDataset()\n",
    "first_data = dataset[0]\n",
    "features, labels = first_data\n",
    "print(features, labels)\n",
    "\n",
    "dataloader = DataLoader(dataset=dataset, batch_size=4, shuffle=True, num_workers=2)\n",
    "\n",
    "dataiter = iter(dataloader)\n",
    "data = next(dataiter)\n",
    "features, labels = data\n",
    "print(features, labels)"
   ]
  },
  {
   "cell_type": "code",
   "execution_count": 44,
   "id": "d95581a0",
   "metadata": {
    "execution": {
     "iopub.execute_input": "2024-12-21T13:43:24.072455Z",
     "iopub.status.busy": "2024-12-21T13:43:24.072113Z",
     "iopub.status.idle": "2024-12-21T13:43:24.376511Z",
     "shell.execute_reply": "2024-12-21T13:43:24.375111Z"
    },
    "papermill": {
     "duration": 0.333717,
     "end_time": "2024-12-21T13:43:24.377927",
     "exception": false,
     "start_time": "2024-12-21T13:43:24.044210",
     "status": "completed"
    },
    "tags": []
   },
   "outputs": [
    {
     "name": "stdout",
     "output_type": "stream",
     "text": [
      "tensor([1.4230e+01, 1.7100e+00, 2.4300e+00, 1.5600e+01, 1.2700e+02, 2.8000e+00,\n",
      "        3.0600e+00, 2.8000e-01, 2.2900e+00, 5.6400e+00, 1.0400e+00, 3.9200e+00,\n",
      "        1.0650e+03]) tensor([1.])\n",
      "tensor([[1.2530e+01, 5.5100e+00, 2.6400e+00, 2.5000e+01, 9.6000e+01, 1.7900e+00,\n",
      "         6.0000e-01, 6.3000e-01, 1.1000e+00, 5.0000e+00, 8.2000e-01, 1.6900e+00,\n",
      "         5.1500e+02],\n",
      "        [1.3390e+01, 1.7700e+00, 2.6200e+00, 1.6100e+01, 9.3000e+01, 2.8500e+00,\n",
      "         2.9400e+00, 3.4000e-01, 1.4500e+00, 4.8000e+00, 9.2000e-01, 3.2200e+00,\n",
      "         1.1950e+03],\n",
      "        [1.2160e+01, 1.6100e+00, 2.3100e+00, 2.2800e+01, 9.0000e+01, 1.7800e+00,\n",
      "         1.6900e+00, 4.3000e-01, 1.5600e+00, 2.4500e+00, 1.3300e+00, 2.2600e+00,\n",
      "         4.9500e+02],\n",
      "        [1.2820e+01, 3.3700e+00, 2.3000e+00, 1.9500e+01, 8.8000e+01, 1.4800e+00,\n",
      "         6.6000e-01, 4.0000e-01, 9.7000e-01, 1.0260e+01, 7.2000e-01, 1.7500e+00,\n",
      "         6.8500e+02]]) tensor([[3.],\n",
      "        [1.],\n",
      "        [2.],\n",
      "        [3.]])\n",
      "epoch: 1/2, step: 5/45\n",
      "epoch: 1/2, step: 10/45\n",
      "epoch: 1/2, step: 15/45\n",
      "epoch: 1/2, step: 20/45\n",
      "epoch: 1/2, step: 25/45\n",
      "epoch: 1/2, step: 30/45\n",
      "epoch: 1/2, step: 35/45\n",
      "epoch: 1/2, step: 40/45\n",
      "epoch: 1/2, step: 45/45\n",
      "epoch: 2/2, step: 5/45\n",
      "epoch: 2/2, step: 10/45\n",
      "epoch: 2/2, step: 15/45\n",
      "epoch: 2/2, step: 20/45\n",
      "epoch: 2/2, step: 25/45\n",
      "epoch: 2/2, step: 30/45\n",
      "epoch: 2/2, step: 35/45\n",
      "epoch: 2/2, step: 40/45\n",
      "epoch: 2/2, step: 45/45\n"
     ]
    }
   ],
   "source": [
    "class WineDataset(Dataset):\n",
    "    def __init__(self):\n",
    "        # data loading\n",
    "        xy = np.loadtxt(\"/kaggle/working/wine.csv\", delimiter=\",\", dtype=np.float32, skiprows=1)\n",
    "        self.x = torch.from_numpy(xy[:, 1:])\n",
    "        self.y = torch.from_numpy(xy[:, [0]]) # create (n_samples, 1) size\n",
    "        self.n_samples = xy.shape[0];\n",
    "\n",
    "    def __getitem__(self, index):\n",
    "        # allow us to use dataset[0]\n",
    "        return (self.x[index], self.y[index])\n",
    "\n",
    "    def __len__(self):\n",
    "        # allow us to use len(dataset)\n",
    "        return self.n_samples\n",
    "\n",
    "dataset = WineDataset()\n",
    "first_data = dataset[0]\n",
    "features, labels = first_data\n",
    "print(features, labels)\n",
    "\n",
    "batch_size = 4\n",
    "dataloader = DataLoader(dataset=dataset, batch_size=batch_size, shuffle=True, num_workers=2)\n",
    "\n",
    "dataiter = iter(dataloader)\n",
    "data = next(dataiter)\n",
    "features, labels = data\n",
    "print(features, labels)\n",
    "\n",
    "# dummy training loop\n",
    "num_epoch = 2\n",
    "total_samples = len(dataset)\n",
    "n_iter = math.ceil(total_samples / batch_size)\n",
    "\n",
    "for epoch in range(num_epoch):\n",
    "    for i, (inputs, labels) in enumerate(dataloader):\n",
    "        # forward backward update\n",
    "\n",
    "        if (i+1)%5==0:\n",
    "            print(f\"epoch: {epoch+1}/{num_epoch}, step: {i+1}/{n_iter}\")"
   ]
  },
  {
   "cell_type": "code",
   "execution_count": 45,
   "id": "af123798",
   "metadata": {
    "execution": {
     "iopub.execute_input": "2024-12-21T13:43:24.433644Z",
     "iopub.status.busy": "2024-12-21T13:43:24.433290Z",
     "iopub.status.idle": "2024-12-21T13:43:24.437198Z",
     "shell.execute_reply": "2024-12-21T13:43:24.436358Z"
    },
    "papermill": {
     "duration": 0.032749,
     "end_time": "2024-12-21T13:43:24.438458",
     "exception": false,
     "start_time": "2024-12-21T13:43:24.405709",
     "status": "completed"
    },
    "tags": []
   },
   "outputs": [],
   "source": [
    "# build in dataset\n",
    "# MNIST dataset\n",
    "# torchvision.datasets.MNIST()\n",
    "# fashion-mnist, cifar, coco "
   ]
  },
  {
   "cell_type": "markdown",
   "id": "322bc11b",
   "metadata": {
    "papermill": {
     "duration": 0.027037,
     "end_time": "2024-12-21T13:43:24.492097",
     "exception": false,
     "start_time": "2024-12-21T13:43:24.465060",
     "status": "completed"
    },
    "tags": []
   },
   "source": [
    "# Dataset Transforms"
   ]
  },
  {
   "cell_type": "code",
   "execution_count": 46,
   "id": "6c6207d8",
   "metadata": {
    "execution": {
     "iopub.execute_input": "2024-12-21T13:43:24.547413Z",
     "iopub.status.busy": "2024-12-21T13:43:24.547082Z",
     "iopub.status.idle": "2024-12-21T13:43:24.722451Z",
     "shell.execute_reply": "2024-12-21T13:43:24.721346Z"
    },
    "papermill": {
     "duration": 0.204955,
     "end_time": "2024-12-21T13:43:24.724174",
     "exception": false,
     "start_time": "2024-12-21T13:43:24.519219",
     "status": "completed"
    },
    "tags": []
   },
   "outputs": [
    {
     "name": "stdout",
     "output_type": "stream",
     "text": [
      "--2024-12-21 13:43:24--  https://raw.githubusercontent.com/patrickloeber/pytorchTutorial/refs/heads/master/data/wine/wine.csv\r\n",
      "Resolving raw.githubusercontent.com (raw.githubusercontent.com)... 185.199.111.133, 185.199.108.133, 185.199.109.133, ...\r\n",
      "Connecting to raw.githubusercontent.com (raw.githubusercontent.com)|185.199.111.133|:443... connected.\r\n",
      "HTTP request sent, awaiting response... 200 OK\r\n",
      "Length: 10889 (11K) [text/plain]\r\n",
      "Saving to: ‘wine.csv.1’\r\n",
      "\r\n",
      "wine.csv.1          100%[===================>]  10.63K  --.-KB/s    in 0.001s  \r\n",
      "\r\n",
      "2024-12-21 13:43:24 (13.4 MB/s) - ‘wine.csv.1’ saved [10889/10889]\r\n",
      "\r\n"
     ]
    }
   ],
   "source": [
    "!wget https://raw.githubusercontent.com/patrickloeber/pytorchTutorial/refs/heads/master/data/wine/wine.csv"
   ]
  },
  {
   "cell_type": "code",
   "execution_count": 47,
   "id": "2f2cd891",
   "metadata": {
    "execution": {
     "iopub.execute_input": "2024-12-21T13:43:24.780056Z",
     "iopub.status.busy": "2024-12-21T13:43:24.779699Z",
     "iopub.status.idle": "2024-12-21T13:43:24.783757Z",
     "shell.execute_reply": "2024-12-21T13:43:24.783066Z"
    },
    "papermill": {
     "duration": 0.033246,
     "end_time": "2024-12-21T13:43:24.785033",
     "exception": false,
     "start_time": "2024-12-21T13:43:24.751787",
     "status": "completed"
    },
    "tags": []
   },
   "outputs": [],
   "source": [
    "import torch\n",
    "import torchvision\n",
    "from torch.utils.data import Dataset\n",
    "import numpy as np"
   ]
  },
  {
   "cell_type": "code",
   "execution_count": 48,
   "id": "68f70ea6",
   "metadata": {
    "execution": {
     "iopub.execute_input": "2024-12-21T13:43:24.839227Z",
     "iopub.status.busy": "2024-12-21T13:43:24.838963Z",
     "iopub.status.idle": "2024-12-21T13:43:29.648046Z",
     "shell.execute_reply": "2024-12-21T13:43:29.647014Z"
    },
    "papermill": {
     "duration": 4.837674,
     "end_time": "2024-12-21T13:43:29.649450",
     "exception": false,
     "start_time": "2024-12-21T13:43:24.811776",
     "status": "completed"
    },
    "tags": []
   },
   "outputs": [
    {
     "name": "stdout",
     "output_type": "stream",
     "text": [
      "Downloading http://yann.lecun.com/exdb/mnist/train-images-idx3-ubyte.gz\n",
      "Failed to download (trying next):\n",
      "HTTP Error 403: Forbidden\n",
      "\n",
      "Downloading https://ossci-datasets.s3.amazonaws.com/mnist/train-images-idx3-ubyte.gz\n",
      "Downloading https://ossci-datasets.s3.amazonaws.com/mnist/train-images-idx3-ubyte.gz to ./data/MNIST/raw/train-images-idx3-ubyte.gz\n"
     ]
    },
    {
     "name": "stderr",
     "output_type": "stream",
     "text": [
      "100%|██████████| 9912422/9912422 [00:00<00:00, 15889709.62it/s]\n"
     ]
    },
    {
     "name": "stdout",
     "output_type": "stream",
     "text": [
      "Extracting ./data/MNIST/raw/train-images-idx3-ubyte.gz to ./data/MNIST/raw\n",
      "\n",
      "Downloading http://yann.lecun.com/exdb/mnist/train-labels-idx1-ubyte.gz\n",
      "Failed to download (trying next):\n",
      "HTTP Error 403: Forbidden\n",
      "\n",
      "Downloading https://ossci-datasets.s3.amazonaws.com/mnist/train-labels-idx1-ubyte.gz\n",
      "Downloading https://ossci-datasets.s3.amazonaws.com/mnist/train-labels-idx1-ubyte.gz to ./data/MNIST/raw/train-labels-idx1-ubyte.gz\n"
     ]
    },
    {
     "name": "stderr",
     "output_type": "stream",
     "text": [
      "100%|██████████| 28881/28881 [00:00<00:00, 477564.60it/s]\n"
     ]
    },
    {
     "name": "stdout",
     "output_type": "stream",
     "text": [
      "Extracting ./data/MNIST/raw/train-labels-idx1-ubyte.gz to ./data/MNIST/raw\n",
      "\n",
      "Downloading http://yann.lecun.com/exdb/mnist/t10k-images-idx3-ubyte.gz\n",
      "Failed to download (trying next):\n",
      "HTTP Error 403: Forbidden\n",
      "\n",
      "Downloading https://ossci-datasets.s3.amazonaws.com/mnist/t10k-images-idx3-ubyte.gz\n",
      "Downloading https://ossci-datasets.s3.amazonaws.com/mnist/t10k-images-idx3-ubyte.gz to ./data/MNIST/raw/t10k-images-idx3-ubyte.gz\n"
     ]
    },
    {
     "name": "stderr",
     "output_type": "stream",
     "text": [
      "100%|██████████| 1648877/1648877 [00:00<00:00, 4484327.56it/s]\n"
     ]
    },
    {
     "name": "stdout",
     "output_type": "stream",
     "text": [
      "Extracting ./data/MNIST/raw/t10k-images-idx3-ubyte.gz to ./data/MNIST/raw\n",
      "\n",
      "Downloading http://yann.lecun.com/exdb/mnist/t10k-labels-idx1-ubyte.gz\n",
      "Failed to download (trying next):\n",
      "HTTP Error 403: Forbidden\n",
      "\n",
      "Downloading https://ossci-datasets.s3.amazonaws.com/mnist/t10k-labels-idx1-ubyte.gz\n",
      "Downloading https://ossci-datasets.s3.amazonaws.com/mnist/t10k-labels-idx1-ubyte.gz to ./data/MNIST/raw/t10k-labels-idx1-ubyte.gz\n"
     ]
    },
    {
     "name": "stderr",
     "output_type": "stream",
     "text": [
      "100%|██████████| 4542/4542 [00:00<00:00, 5363324.54it/s]"
     ]
    },
    {
     "name": "stdout",
     "output_type": "stream",
     "text": [
      "Extracting ./data/MNIST/raw/t10k-labels-idx1-ubyte.gz to ./data/MNIST/raw\n",
      "\n"
     ]
    },
    {
     "name": "stderr",
     "output_type": "stream",
     "text": [
      "\n"
     ]
    }
   ],
   "source": [
    "dataset = torchvision.datasets.MNIST(root=\"./data\", transform=torchvision.transforms.ToTensor(), download=True)"
   ]
  },
  {
   "cell_type": "markdown",
   "id": "a1a4ebb1",
   "metadata": {
    "papermill": {
     "duration": 0.028161,
     "end_time": "2024-12-21T13:43:29.706678",
     "exception": false,
     "start_time": "2024-12-21T13:43:29.678517",
     "status": "completed"
    },
    "tags": []
   },
   "source": [
    "Has multiple already defined transforms\n",
    "\n",
    "**On Images**\n",
    "- CenterCrop, GrayScale, Pad, RandomAffine, RandomCrop\n",
    "- RandomHorizontalFlip, RandomRotation, Resize, Scale\n",
    "\n",
    "**On Tensors**\n",
    "- LinearTransformation, Normalize, RandomErasing\n",
    "\n",
    "**Conversion**\n",
    "- ToPILImage\n",
    "- ToTensor\n",
    "\n",
    "**Generic**\n",
    "- write lambdas\n",
    "\n",
    "**Custom**\n",
    "- create custom class\n",
    "\n",
    "**Compose Multiple Transform**\n",
    "```\n",
    "composed = transforms.Compose([Rescale(256), RandomCrop(224)])\n",
    "```"
   ]
  },
  {
   "cell_type": "code",
   "execution_count": 49,
   "id": "7b7c3cfc",
   "metadata": {
    "execution": {
     "iopub.execute_input": "2024-12-21T13:43:29.764039Z",
     "iopub.status.busy": "2024-12-21T13:43:29.763713Z",
     "iopub.status.idle": "2024-12-21T13:43:29.780738Z",
     "shell.execute_reply": "2024-12-21T13:43:29.779885Z"
    },
    "papermill": {
     "duration": 0.04748,
     "end_time": "2024-12-21T13:43:29.781972",
     "exception": false,
     "start_time": "2024-12-21T13:43:29.734492",
     "status": "completed"
    },
    "tags": []
   },
   "outputs": [
    {
     "name": "stdout",
     "output_type": "stream",
     "text": [
      "tensor([1.4230e+01, 1.7100e+00, 2.4300e+00, 1.5600e+01, 1.2700e+02, 2.8000e+00,\n",
      "        3.0600e+00, 2.8000e-01, 2.2900e+00, 5.6400e+00, 1.0400e+00, 3.9200e+00,\n",
      "        1.0650e+03]) tensor([1.])\n",
      "<class 'torch.Tensor'> <class 'torch.Tensor'>\n",
      "tensor([2.8460e+01, 3.4200e+00, 4.8600e+00, 3.1200e+01, 2.5400e+02, 5.6000e+00,\n",
      "        6.1200e+00, 5.6000e-01, 4.5800e+00, 1.1280e+01, 2.0800e+00, 7.8400e+00,\n",
      "        2.1300e+03]) tensor([1.])\n",
      "<class 'torch.Tensor'> <class 'torch.Tensor'>\n"
     ]
    }
   ],
   "source": [
    "class WineDataset(Dataset):\n",
    "    def __init__(self, transform=None):\n",
    "        # data loading\n",
    "        xy = np.loadtxt(\"/kaggle/working/wine.csv\", delimiter=\",\", dtype=np.float32, skiprows=1)\n",
    "\n",
    "        # note we didnt convert numpy arr to tensor\n",
    "        self.x = xy[:, 1:]\n",
    "        self.y = xy[:, [0]]\n",
    "        \n",
    "        self.n_samples = xy.shape[0];\n",
    "\n",
    "        self.transform = transform\n",
    "\n",
    "    def __getitem__(self, index):\n",
    "        # allow us to use dataset[0]\n",
    "        sample = (self.x[index], self.y[index])\n",
    "\n",
    "        # transform if transformation is there for dataset\n",
    "        if (self.transform):\n",
    "            sample = self.transform(sample)\n",
    "\n",
    "        return sample\n",
    "    \n",
    "    def __len__(self):\n",
    "        # allow us to use len(dataset)\n",
    "        return self.n_samples\n",
    "\n",
    "class ToTensor():\n",
    "    def __call__(self, sample):\n",
    "        inputs, targets = sample\n",
    "        return (torch.from_numpy(inputs), torch.from_numpy(targets))\n",
    "\n",
    "class MulTransform():\n",
    "    def __init__(self, factor):\n",
    "        self.factor = factor\n",
    "\n",
    "    def __call__(self, sample):\n",
    "        input, target = sample\n",
    "        input *= self.factor\n",
    "        return (input, target)\n",
    "\n",
    "dataset = WineDataset(transform=ToTensor())\n",
    "first_data = dataset[0]\n",
    "features, labels = first_data\n",
    "print(features, labels)\n",
    "print(type(features), type(labels))\n",
    "\n",
    "composed = torchvision.transforms.Compose([ToTensor(), MulTransform(2)])\n",
    "dataset = WineDataset(transform=composed)\n",
    "first_data = dataset[0]\n",
    "features, labels = first_data\n",
    "print(features, labels)\n",
    "print(type(features), type(labels))"
   ]
  },
  {
   "cell_type": "markdown",
   "id": "294af084",
   "metadata": {
    "papermill": {
     "duration": 0.027914,
     "end_time": "2024-12-21T13:43:29.838853",
     "exception": false,
     "start_time": "2024-12-21T13:43:29.810939",
     "status": "completed"
    },
    "tags": []
   },
   "source": [
    "# Softmax and CrossEntropy"
   ]
  },
  {
   "cell_type": "code",
   "execution_count": 50,
   "id": "b7aaf2ed",
   "metadata": {
    "execution": {
     "iopub.execute_input": "2024-12-21T13:43:29.896951Z",
     "iopub.status.busy": "2024-12-21T13:43:29.896632Z",
     "iopub.status.idle": "2024-12-21T13:43:29.900108Z",
     "shell.execute_reply": "2024-12-21T13:43:29.899419Z"
    },
    "papermill": {
     "duration": 0.034547,
     "end_time": "2024-12-21T13:43:29.901381",
     "exception": false,
     "start_time": "2024-12-21T13:43:29.866834",
     "status": "completed"
    },
    "tags": []
   },
   "outputs": [],
   "source": [
    "import torch\n",
    "import torch.nn as nn\n",
    "import numpy as np"
   ]
  },
  {
   "cell_type": "code",
   "execution_count": 51,
   "id": "f7e00b43",
   "metadata": {
    "execution": {
     "iopub.execute_input": "2024-12-21T13:43:29.958952Z",
     "iopub.status.busy": "2024-12-21T13:43:29.958650Z",
     "iopub.status.idle": "2024-12-21T13:43:29.967413Z",
     "shell.execute_reply": "2024-12-21T13:43:29.966318Z"
    },
    "papermill": {
     "duration": 0.039099,
     "end_time": "2024-12-21T13:43:29.968719",
     "exception": false,
     "start_time": "2024-12-21T13:43:29.929620",
     "status": "completed"
    },
    "tags": []
   },
   "outputs": [
    {
     "name": "stdout",
     "output_type": "stream",
     "text": [
      "Softmax numpy: [0.65900114 0.24243297 0.09856589]\n"
     ]
    }
   ],
   "source": [
    "x = np.array([2.0, 1.0, 0.1])\n",
    "\n",
    "# from scratch\n",
    "def softmax(x):\n",
    "    # converts continuous to probability values\n",
    "    return np.exp(x) / np.sum(np.exp(x), axis=0)\n",
    "\n",
    "outputs = softmax(x)\n",
    "print(f\"Softmax numpy: {outputs}\")\n",
    "\n",
    "# using torch\n",
    "x = torch.tensor([2.0, 1.0, 0.1])\n",
    "outputs = torch.softmax(x, dim=0)"
   ]
  },
  {
   "cell_type": "code",
   "execution_count": 52,
   "id": "9d677a27",
   "metadata": {
    "execution": {
     "iopub.execute_input": "2024-12-21T13:43:30.028497Z",
     "iopub.status.busy": "2024-12-21T13:43:30.028204Z",
     "iopub.status.idle": "2024-12-21T13:43:30.043154Z",
     "shell.execute_reply": "2024-12-21T13:43:30.042232Z"
    },
    "papermill": {
     "duration": 0.046846,
     "end_time": "2024-12-21T13:43:30.044375",
     "exception": false,
     "start_time": "2024-12-21T13:43:29.997529",
     "status": "completed"
    },
    "tags": []
   },
   "outputs": [
    {
     "name": "stdout",
     "output_type": "stream",
     "text": [
      "Loss1 numpy: 0.3567\n",
      "Loss2 numpy: 2.3026\n",
      "Loss1 numpy: 0.4582\n",
      "Loss2 numpy: 1.4073\n",
      "tensor([2, 0, 1])\n",
      "tensor([1, 1, 1])\n"
     ]
    }
   ],
   "source": [
    "Y = np.array([1, 0, 0])\n",
    "\n",
    "Y_pred_good = np.array([0.7, 0.2, 0.1])\n",
    "Y_pred_bad = np.array([0.1, 0.3, 0.6])\n",
    "\n",
    "# from scratch\n",
    "def crossEntropy(actual, predicted):\n",
    "    # use as err for classification related task\n",
    "    loss = -np.sum(actual*np.log(predicted))\n",
    "    return loss # / float(predicted.shape[0])\n",
    "\n",
    "l1 = crossEntropy(Y, Y_pred_good)\n",
    "l2 = crossEntropy(Y, Y_pred_bad)\n",
    "print(f\"Loss1 numpy: {l1:.4f}\")\n",
    "print(f\"Loss2 numpy: {l2:.4f}\")\n",
    "\n",
    "# using torch\n",
    "# CrossEntropyLoss already applies nn.LogSoftmax + nn.NLLLoss (negative log likelyhood loss)\n",
    "# So, no softmax in last layer\n",
    "# Y has class labels not one hot encoded\n",
    "# Y_pred has raw scores (logits), no softmax\n",
    "# 3 samples\n",
    "Y = torch.tensor([2, 0, 1])\n",
    "# nsamples x nclasses = 3x3\n",
    "Y_pred_good = torch.tensor([[0.1, 1.0, 2.1], [2.0, 1.0, 0.1], [0.0, 1.0, 0.1]])\n",
    "Y_pred_bad = torch.tensor([[0.5, 2.0, 0.3], [0.5, 2.0, 0.3], [0.5, 2.0, 0.3]])\n",
    "\n",
    "loss = nn.CrossEntropyLoss();\n",
    "l1 = loss(Y_pred_good, Y)\n",
    "l2 = loss(Y_pred_bad, Y)\n",
    "print(f\"Loss1 numpy: {l1:.4f}\")\n",
    "print(f\"Loss2 numpy: {l2:.4f}\")\n",
    "\n",
    "# print actual class\n",
    "_, pred1 = torch.max(Y_pred_good, 1)\n",
    "_, pred2 = torch.max(Y_pred_bad, 1)\n",
    "print(pred1)\n",
    "print(pred2)"
   ]
  },
  {
   "cell_type": "code",
   "execution_count": 53,
   "id": "b619a0b6",
   "metadata": {
    "execution": {
     "iopub.execute_input": "2024-12-21T13:43:30.103030Z",
     "iopub.status.busy": "2024-12-21T13:43:30.102702Z",
     "iopub.status.idle": "2024-12-21T13:43:30.108685Z",
     "shell.execute_reply": "2024-12-21T13:43:30.108078Z"
    },
    "papermill": {
     "duration": 0.036715,
     "end_time": "2024-12-21T13:43:30.109994",
     "exception": false,
     "start_time": "2024-12-21T13:43:30.073279",
     "status": "completed"
    },
    "tags": []
   },
   "outputs": [],
   "source": [
    "# multiclass classification\n",
    "class NeuralNet(nn.Module):\n",
    "    def __init__(self, input_size, hidden_size, output_size):\n",
    "        super(NeuralNet, self).__init__()\n",
    "        self.linear1 = nn.Linear(input_size, hidden_size)\n",
    "        self.relu = nn.ReLU()\n",
    "        self.linear2 = nn.Linear(hidden_size, output_size)\n",
    "\n",
    "    def forward(self, x):\n",
    "        out = self.linear1(x)\n",
    "        out = self.relu(out)\n",
    "        out = self.linear2(out)\n",
    "        # no softmax at end since using cross-entropy loss\n",
    "        return out\n",
    "\n",
    "model = NeuralNet(input_size = 28*28, hidden_size=5, output_size=3)\n",
    "loss = nn.CrossEntropyLoss()"
   ]
  },
  {
   "cell_type": "code",
   "execution_count": 54,
   "id": "60671cfe",
   "metadata": {
    "execution": {
     "iopub.execute_input": "2024-12-21T13:43:30.168266Z",
     "iopub.status.busy": "2024-12-21T13:43:30.167962Z",
     "iopub.status.idle": "2024-12-21T13:43:30.173763Z",
     "shell.execute_reply": "2024-12-21T13:43:30.173100Z"
    },
    "papermill": {
     "duration": 0.036405,
     "end_time": "2024-12-21T13:43:30.174942",
     "exception": false,
     "start_time": "2024-12-21T13:43:30.138537",
     "status": "completed"
    },
    "tags": []
   },
   "outputs": [],
   "source": [
    "# binary classification\n",
    "# 1 output\n",
    "class NeuralNet2(nn.Module):\n",
    "    def __init__(self, input_size, hidden_size):\n",
    "        super(NeuralNet2, self).__init__()\n",
    "        self.linear1 = nn.Linear(input_size, hidden_size)\n",
    "        self.relu = nn.ReLU()\n",
    "        self.linear2 = nn.Linear(hidden_size, 1)\n",
    "\n",
    "    def forward(self, x):\n",
    "        out = self.linear1(x)\n",
    "        out = self.relu(out)\n",
    "        out = self.linear2(out)\n",
    "        out = torch.sigmoid(out)\n",
    "        # no softmax at end since using cross-entropy loss\n",
    "        return out\n",
    "\n",
    "model = NeuralNet2(input_size = 28*28, hidden_size=5)\n",
    "loss = nn.BCELoss()"
   ]
  },
  {
   "cell_type": "markdown",
   "id": "09587de9",
   "metadata": {
    "papermill": {
     "duration": 0.028795,
     "end_time": "2024-12-21T13:43:30.233352",
     "exception": false,
     "start_time": "2024-12-21T13:43:30.204557",
     "status": "completed"
    },
    "tags": []
   },
   "source": [
    "# Activation Functions"
   ]
  },
  {
   "cell_type": "markdown",
   "id": "25a45db9",
   "metadata": {
    "papermill": {
     "duration": 0.028128,
     "end_time": "2024-12-21T13:43:30.290127",
     "exception": false,
     "start_time": "2024-12-21T13:43:30.261999",
     "status": "completed"
    },
    "tags": []
   },
   "source": [
    "- **sigmoid:** last layer of binary classification\n",
    "- **tanh:** hidden layers, same as convert continius data to prob for binaries\n",
    "- **relu:** relu for hidden layers\n",
    "- **leaky relu:**: better version of relu, tries to solve vanishing gradient problem"
   ]
  },
  {
   "cell_type": "markdown",
   "id": "cb5689f0",
   "metadata": {
    "papermill": {
     "duration": 0.028261,
     "end_time": "2024-12-21T13:43:30.347048",
     "exception": false,
     "start_time": "2024-12-21T13:43:30.318787",
     "status": "completed"
    },
    "tags": []
   },
   "source": [
    "# Feed Forward Neural Network"
   ]
  },
  {
   "cell_type": "code",
   "execution_count": 55,
   "id": "ad816d09",
   "metadata": {
    "execution": {
     "iopub.execute_input": "2024-12-21T13:43:30.404551Z",
     "iopub.status.busy": "2024-12-21T13:43:30.404258Z",
     "iopub.status.idle": "2024-12-21T13:43:30.407806Z",
     "shell.execute_reply": "2024-12-21T13:43:30.407178Z"
    },
    "papermill": {
     "duration": 0.03389,
     "end_time": "2024-12-21T13:43:30.409091",
     "exception": false,
     "start_time": "2024-12-21T13:43:30.375201",
     "status": "completed"
    },
    "tags": []
   },
   "outputs": [],
   "source": [
    "import torch\n",
    "import torch.nn as nn\n",
    "import torchvision\n",
    "import torchvision.transforms as transforms\n",
    "import matplotlib.pyplot as plt"
   ]
  },
  {
   "cell_type": "code",
   "execution_count": 56,
   "id": "7b39ad8f",
   "metadata": {
    "execution": {
     "iopub.execute_input": "2024-12-21T13:43:30.466742Z",
     "iopub.status.busy": "2024-12-21T13:43:30.466456Z",
     "iopub.status.idle": "2024-12-21T13:43:30.469793Z",
     "shell.execute_reply": "2024-12-21T13:43:30.469194Z"
    },
    "papermill": {
     "duration": 0.033545,
     "end_time": "2024-12-21T13:43:30.471045",
     "exception": false,
     "start_time": "2024-12-21T13:43:30.437500",
     "status": "completed"
    },
    "tags": []
   },
   "outputs": [],
   "source": [
    "# device config\n",
    "device = torch.device(\"cuda\" if torch.cuda.is_available() else \"cpu\")"
   ]
  },
  {
   "cell_type": "code",
   "execution_count": 57,
   "id": "e8c14ee1",
   "metadata": {
    "execution": {
     "iopub.execute_input": "2024-12-21T13:43:30.529862Z",
     "iopub.status.busy": "2024-12-21T13:43:30.529550Z",
     "iopub.status.idle": "2024-12-21T13:43:30.533423Z",
     "shell.execute_reply": "2024-12-21T13:43:30.532566Z"
    },
    "papermill": {
     "duration": 0.034648,
     "end_time": "2024-12-21T13:43:30.534712",
     "exception": false,
     "start_time": "2024-12-21T13:43:30.500064",
     "status": "completed"
    },
    "tags": []
   },
   "outputs": [],
   "source": [
    "# hyper param\n",
    "input_size = 28*28\n",
    "hidden_size = 500\n",
    "num_classes = 10\n",
    "\n",
    "# training \n",
    "num_epochs = 2\n",
    "batch_size = 100\n",
    "learning_rate = 0.001"
   ]
  },
  {
   "cell_type": "code",
   "execution_count": 58,
   "id": "de0a40a2",
   "metadata": {
    "execution": {
     "iopub.execute_input": "2024-12-21T13:43:30.594029Z",
     "iopub.status.busy": "2024-12-21T13:43:30.593687Z",
     "iopub.status.idle": "2024-12-21T13:43:30.688451Z",
     "shell.execute_reply": "2024-12-21T13:43:30.687635Z"
    },
    "papermill": {
     "duration": 0.125944,
     "end_time": "2024-12-21T13:43:30.690034",
     "exception": false,
     "start_time": "2024-12-21T13:43:30.564090",
     "status": "completed"
    },
    "tags": []
   },
   "outputs": [],
   "source": [
    "# import data\n",
    "train_dataset = torchvision.datasets.MNIST(root=\"./data\", train=True, transform=transforms.ToTensor(), download=True)\n",
    "\n",
    "# import data\n",
    "test_dataset = torchvision.datasets.MNIST(root=\"./data\", train=False, transform=transforms.ToTensor())"
   ]
  },
  {
   "cell_type": "code",
   "execution_count": 59,
   "id": "ec6f61e3",
   "metadata": {
    "execution": {
     "iopub.execute_input": "2024-12-21T13:43:30.749470Z",
     "iopub.status.busy": "2024-12-21T13:43:30.749126Z",
     "iopub.status.idle": "2024-12-21T13:43:30.753628Z",
     "shell.execute_reply": "2024-12-21T13:43:30.752883Z"
    },
    "papermill": {
     "duration": 0.035401,
     "end_time": "2024-12-21T13:43:30.754861",
     "exception": false,
     "start_time": "2024-12-21T13:43:30.719460",
     "status": "completed"
    },
    "tags": []
   },
   "outputs": [],
   "source": [
    "train_loader = torch.utils.data.DataLoader(dataset=train_dataset, batch_size=batch_size, shuffle=True)\n",
    "\n",
    "test_loader = torch.utils.data.DataLoader(dataset=test_dataset, batch_size=batch_size, shuffle=False)"
   ]
  },
  {
   "cell_type": "code",
   "execution_count": 60,
   "id": "0a865ded",
   "metadata": {
    "execution": {
     "iopub.execute_input": "2024-12-21T13:43:30.813438Z",
     "iopub.status.busy": "2024-12-21T13:43:30.813118Z",
     "iopub.status.idle": "2024-12-21T13:43:31.375104Z",
     "shell.execute_reply": "2024-12-21T13:43:31.374166Z"
    },
    "papermill": {
     "duration": 0.593112,
     "end_time": "2024-12-21T13:43:31.376814",
     "exception": false,
     "start_time": "2024-12-21T13:43:30.783702",
     "status": "completed"
    },
    "tags": []
   },
   "outputs": [
    {
     "name": "stdout",
     "output_type": "stream",
     "text": [
      "torch.Size([100, 1, 28, 28]) torch.Size([100])\n"
     ]
    },
    {
     "data": {
      "image/png": "[encoded data removed]",
      "text/plain": [
       "<Figure size 640x480 with 6 Axes>"
      ]
     },
     "metadata": {},
     "output_type": "display_data"
    }
   ],
   "source": [
    "examples = iter(train_loader)\n",
    "samples, labels = next(examples)\n",
    "\n",
    "print(samples.shape, labels.shape)\n",
    "\n",
    "for i in range(6):\n",
    "    plt.subplot(2, 3, i+1)\n",
    "    plt.imshow(samples[i][0], cmap=\"gray\")\n",
    "plt.show()"
   ]
  },
  {
   "cell_type": "code",
   "execution_count": 61,
   "id": "e46bde28",
   "metadata": {
    "execution": {
     "iopub.execute_input": "2024-12-21T13:43:31.436316Z",
     "iopub.status.busy": "2024-12-21T13:43:31.436030Z",
     "iopub.status.idle": "2024-12-21T13:43:45.351023Z",
     "shell.execute_reply": "2024-12-21T13:43:45.350107Z"
    },
    "papermill": {
     "duration": 13.94612,
     "end_time": "2024-12-21T13:43:45.352361",
     "exception": false,
     "start_time": "2024-12-21T13:43:31.406241",
     "status": "completed"
    },
    "tags": []
   },
   "outputs": [
    {
     "name": "stdout",
     "output_type": "stream",
     "text": [
      "epoch 1/2, step 100/600, loss=0.5071\n",
      "epoch 1/2, step 200/600, loss=0.1780\n",
      "epoch 1/2, step 300/600, loss=0.2048\n",
      "epoch 1/2, step 400/600, loss=0.1469\n",
      "epoch 1/2, step 500/600, loss=0.0551\n",
      "epoch 1/2, step 600/600, loss=0.1080\n",
      "epoch 2/2, step 100/600, loss=0.1459\n",
      "epoch 2/2, step 200/600, loss=0.1757\n",
      "epoch 2/2, step 300/600, loss=0.1249\n",
      "epoch 2/2, step 400/600, loss=0.1110\n",
      "epoch 2/2, step 500/600, loss=0.2699\n",
      "epoch 2/2, step 600/600, loss=0.0518\n",
      "accuracy=96.68\n"
     ]
    }
   ],
   "source": [
    "# Fully connected neural network with one hidden layer\n",
    "class NeuralNet(nn.Module):\n",
    "    def __init__(self, input_size, hidden_size, num_classes):\n",
    "        super(NeuralNet, self).__init__()\n",
    "        self.input_size = input_size\n",
    "        self.l1 = nn.Linear(input_size, hidden_size) \n",
    "        self.relu = nn.ReLU()\n",
    "        self.l2 = nn.Linear(hidden_size, num_classes)  \n",
    "    \n",
    "    def forward(self, x):\n",
    "        out = self.l1(x)\n",
    "        out = self.relu(out)\n",
    "        out = self.l2(out)\n",
    "        # no activation and no softmax at the end\n",
    "        return out\n",
    "\n",
    "# send neural net to device\n",
    "model = NeuralNet(input_size, hidden_size, num_classes).to(device)\n",
    "\n",
    "loss = nn.CrossEntropyLoss()\n",
    "\n",
    "optimizer = torch.optim.Adam(model.parameters(), lr=learning_rate)\n",
    "\n",
    "# training loop\n",
    "n_total_steps = len(train_loader)\n",
    "\n",
    "for epoch in range(num_epochs):\n",
    "    for i, (images, labels) in enumerate(train_loader):\n",
    "        # reshape to flatten image\n",
    "        # currenly (100, 1, 28, 28)\n",
    "        # where 100 is num of samples in a batch, 1 is num of channels, 28 is image size\n",
    "        # flatten would be (100, 784)\n",
    "        images = images.reshape(-1, 28*28).to(device)\n",
    "        labels = labels.to(device)\n",
    "\n",
    "        # forward\n",
    "        outputs = model(images)\n",
    "        l = loss(outputs, labels)\n",
    "        \n",
    "        # backward\n",
    "        optimizer.zero_grad()\n",
    "        l.backward()\n",
    "        optimizer.step()\n",
    "\n",
    "        if ((i+1)%100==0):\n",
    "            print(f\"epoch {epoch+1}/{num_epochs}, step {i+1}/{n_total_steps}, loss={l.item():.4f}\")\n",
    "\n",
    "# Test the model\n",
    "# In test phase, we don't need to compute gradients (for memory efficiency)\n",
    "with torch.no_grad():\n",
    "    n_correct = 0\n",
    "    n_samples = 0\n",
    "    for images, labels in test_loader:\n",
    "        images = images.reshape(-1, 28*28).to(device)\n",
    "        labels = labels.to(device)\n",
    "        outputs = model(images)\n",
    "        # max returns (value ,index)\n",
    "        _, predicted = torch.max(outputs.data, 1)\n",
    "        n_samples += labels.size(0)\n",
    "        n_correct += (predicted == labels).sum().item()\n",
    "\n",
    "    acc = 100.0 * n_correct / n_samples\n",
    "    print(f\"accuracy={acc}\")"
   ]
  },
  {
   "cell_type": "markdown",
   "id": "3042afb6",
   "metadata": {
    "papermill": {
     "duration": 0.02932,
     "end_time": "2024-12-21T13:43:45.411687",
     "exception": false,
     "start_time": "2024-12-21T13:43:45.382367",
     "status": "completed"
    },
    "tags": []
   },
   "source": [
    "# Convulation Neural Network\n",
    "\n",
    "- allow sharing of weights, across image space in location\n",
    "- so that we can find if something is present anywhere in image\n",
    "- pooling to extract high level features, like curves and all"
   ]
  },
  {
   "cell_type": "code",
   "execution_count": 62,
   "id": "0a1a6a74",
   "metadata": {
    "execution": {
     "iopub.execute_input": "2024-12-21T13:43:45.471733Z",
     "iopub.status.busy": "2024-12-21T13:43:45.471435Z",
     "iopub.status.idle": "2024-12-21T13:43:45.475316Z",
     "shell.execute_reply": "2024-12-21T13:43:45.474600Z"
    },
    "papermill": {
     "duration": 0.035646,
     "end_time": "2024-12-21T13:43:45.476599",
     "exception": false,
     "start_time": "2024-12-21T13:43:45.440953",
     "status": "completed"
    },
    "tags": []
   },
   "outputs": [],
   "source": [
    "import torch\n",
    "import torch.nn as nn\n",
    "import torch.nn.functional as F\n",
    "import torchvision\n",
    "import torchvision.transforms as transforms\n",
    "import matplotlib.pyplot as plt\n",
    "import numpy as np"
   ]
  },
  {
   "cell_type": "code",
   "execution_count": 63,
   "id": "44e68752",
   "metadata": {
    "execution": {
     "iopub.execute_input": "2024-12-21T13:43:45.537569Z",
     "iopub.status.busy": "2024-12-21T13:43:45.537282Z",
     "iopub.status.idle": "2024-12-21T13:43:45.540663Z",
     "shell.execute_reply": "2024-12-21T13:43:45.540002Z"
    },
    "papermill": {
     "duration": 0.03547,
     "end_time": "2024-12-21T13:43:45.541936",
     "exception": false,
     "start_time": "2024-12-21T13:43:45.506466",
     "status": "completed"
    },
    "tags": []
   },
   "outputs": [],
   "source": [
    "# device config\n",
    "device = torch.device(\"cuda\" if torch.cuda.is_available() else \"cpu\")"
   ]
  },
  {
   "cell_type": "code",
   "execution_count": 64,
   "id": "b466164c",
   "metadata": {
    "execution": {
     "iopub.execute_input": "2024-12-21T13:43:45.603221Z",
     "iopub.status.busy": "2024-12-21T13:43:45.602876Z",
     "iopub.status.idle": "2024-12-21T13:43:45.606208Z",
     "shell.execute_reply": "2024-12-21T13:43:45.605565Z"
    },
    "papermill": {
     "duration": 0.03532,
     "end_time": "2024-12-21T13:43:45.607518",
     "exception": false,
     "start_time": "2024-12-21T13:43:45.572198",
     "status": "completed"
    },
    "tags": []
   },
   "outputs": [],
   "source": [
    "# Hyper-parameters \n",
    "num_epochs = 5\n",
    "batch_size = 4\n",
    "learning_rate = 0.001"
   ]
  },
  {
   "cell_type": "code",
   "execution_count": 65,
   "id": "dcf990ab",
   "metadata": {
    "execution": {
     "iopub.execute_input": "2024-12-21T13:43:45.666702Z",
     "iopub.status.busy": "2024-12-21T13:43:45.666469Z",
     "iopub.status.idle": "2024-12-21T13:43:45.670074Z",
     "shell.execute_reply": "2024-12-21T13:43:45.669418Z"
    },
    "papermill": {
     "duration": 0.034373,
     "end_time": "2024-12-21T13:43:45.671337",
     "exception": false,
     "start_time": "2024-12-21T13:43:45.636964",
     "status": "completed"
    },
    "tags": []
   },
   "outputs": [],
   "source": [
    "# dataset has PILImage of range [0, 1]\n",
    "# we transform them to tensor of normalized range [-1, 1]\n",
    "transform = transforms.Compose([\n",
    "    transforms.ToTensor(),\n",
    "    transforms.Normalize((0.5, 0.5, 0.5), (0.5, 0.5, 0.5))\n",
    "])"
   ]
  },
  {
   "cell_type": "code",
   "execution_count": 66,
   "id": "bc064c18",
   "metadata": {
    "execution": {
     "iopub.execute_input": "2024-12-21T13:43:45.768922Z",
     "iopub.status.busy": "2024-12-21T13:43:45.768612Z",
     "iopub.status.idle": "2024-12-21T13:43:54.053366Z",
     "shell.execute_reply": "2024-12-21T13:43:54.052437Z"
    },
    "papermill": {
     "duration": 8.354258,
     "end_time": "2024-12-21T13:43:54.054963",
     "exception": false,
     "start_time": "2024-12-21T13:43:45.700705",
     "status": "completed"
    },
    "tags": []
   },
   "outputs": [
    {
     "name": "stdout",
     "output_type": "stream",
     "text": [
      "Downloading https://www.cs.toronto.edu/~kriz/cifar-10-python.tar.gz to ./data/cifar-10-python.tar.gz\n"
     ]
    },
    {
     "name": "stderr",
     "output_type": "stream",
     "text": [
      "100%|██████████| 170498071/170498071 [00:04<00:00, 34915652.23it/s]\n"
     ]
    },
    {
     "name": "stdout",
     "output_type": "stream",
     "text": [
      "Extracting ./data/cifar-10-python.tar.gz to ./data\n",
      "Files already downloaded and verified\n"
     ]
    }
   ],
   "source": [
    "train_dataset = torchvision.datasets.CIFAR10(root=\"./data\", train=True,\n",
    "                                            download=True, transform=transform)\n",
    "test_dataset = torchvision.datasets.CIFAR10(root=\"./data\", train=False,\n",
    "                                            download=True, transform=transform)\n",
    "\n",
    "train_loader = torch.utils.data.DataLoader(dataset=train_dataset,\n",
    "                                          batch_size=batch_size,\n",
    "                                          shuffle=True)\n",
    "test_loader = torch.utils.data.DataLoader(dataset=test_dataset,\n",
    "                                          batch_size=batch_size,\n",
    "                                          shuffle=True)"
   ]
  },
  {
   "cell_type": "code",
   "execution_count": 67,
   "id": "f545b653",
   "metadata": {
    "execution": {
     "iopub.execute_input": "2024-12-21T13:43:54.124191Z",
     "iopub.status.busy": "2024-12-21T13:43:54.123831Z",
     "iopub.status.idle": "2024-12-21T13:46:54.622717Z",
     "shell.execute_reply": "2024-12-21T13:46:54.621630Z"
    },
    "papermill": {
     "duration": 180.534867,
     "end_time": "2024-12-21T13:46:54.624190",
     "exception": false,
     "start_time": "2024-12-21T13:43:54.089323",
     "status": "completed"
    },
    "tags": []
   },
   "outputs": [
    {
     "name": "stdout",
     "output_type": "stream",
     "text": [
      "epoch 1/5, step 100/12500, loss=2.3263\n",
      "epoch 1/5, step 200/12500, loss=2.3281\n",
      "epoch 1/5, step 300/12500, loss=2.3214\n",
      "epoch 1/5, step 400/12500, loss=2.3304\n",
      "epoch 1/5, step 500/12500, loss=2.3138\n",
      "epoch 1/5, step 600/12500, loss=2.3256\n",
      "epoch 1/5, step 700/12500, loss=2.3223\n",
      "epoch 1/5, step 800/12500, loss=2.2921\n",
      "epoch 1/5, step 900/12500, loss=2.2978\n",
      "epoch 1/5, step 1000/12500, loss=2.3216\n",
      "epoch 1/5, step 1100/12500, loss=2.2894\n",
      "epoch 1/5, step 1200/12500, loss=2.2915\n",
      "epoch 1/5, step 1300/12500, loss=2.3102\n",
      "epoch 1/5, step 1400/12500, loss=2.3376\n",
      "epoch 1/5, step 1500/12500, loss=2.2964\n",
      "epoch 1/5, step 1600/12500, loss=2.3100\n",
      "epoch 1/5, step 1700/12500, loss=2.3220\n",
      "epoch 1/5, step 1800/12500, loss=2.3236\n",
      "epoch 1/5, step 1900/12500, loss=2.3023\n",
      "epoch 1/5, step 2000/12500, loss=2.3277\n",
      "epoch 1/5, step 2100/12500, loss=2.3042\n",
      "epoch 1/5, step 2200/12500, loss=2.3328\n",
      "epoch 1/5, step 2300/12500, loss=2.2820\n",
      "epoch 1/5, step 2400/12500, loss=2.3494\n",
      "epoch 1/5, step 2500/12500, loss=2.2899\n",
      "epoch 1/5, step 2600/12500, loss=2.3233\n",
      "epoch 1/5, step 2700/12500, loss=2.3270\n",
      "epoch 1/5, step 2800/12500, loss=2.2861\n",
      "epoch 1/5, step 2900/12500, loss=2.3142\n",
      "epoch 1/5, step 3000/12500, loss=2.2932\n",
      "epoch 1/5, step 3100/12500, loss=2.3067\n",
      "epoch 1/5, step 3200/12500, loss=2.2916\n",
      "epoch 1/5, step 3300/12500, loss=2.3200\n",
      "epoch 1/5, step 3400/12500, loss=2.2890\n",
      "epoch 1/5, step 3500/12500, loss=2.3069\n",
      "epoch 1/5, step 3600/12500, loss=2.3130\n",
      "epoch 1/5, step 3700/12500, loss=2.3054\n",
      "epoch 1/5, step 3800/12500, loss=2.2940\n",
      "epoch 1/5, step 3900/12500, loss=2.3144\n",
      "epoch 1/5, step 4000/12500, loss=2.2866\n",
      "epoch 1/5, step 4100/12500, loss=2.2923\n",
      "epoch 1/5, step 4200/12500, loss=2.3019\n",
      "epoch 1/5, step 4300/12500, loss=2.2850\n",
      "epoch 1/5, step 4400/12500, loss=2.3201\n",
      "epoch 1/5, step 4500/12500, loss=2.3034\n",
      "epoch 1/5, step 4600/12500, loss=2.3184\n",
      "epoch 1/5, step 4700/12500, loss=2.3010\n",
      "epoch 1/5, step 4800/12500, loss=2.2713\n",
      "epoch 1/5, step 4900/12500, loss=2.3170\n",
      "epoch 1/5, step 5000/12500, loss=2.2876\n",
      "epoch 1/5, step 5100/12500, loss=2.2897\n",
      "epoch 1/5, step 5200/12500, loss=2.2893\n",
      "epoch 1/5, step 5300/12500, loss=2.2842\n",
      "epoch 1/5, step 5400/12500, loss=2.2681\n",
      "epoch 1/5, step 5500/12500, loss=2.3072\n",
      "epoch 1/5, step 5600/12500, loss=2.3357\n",
      "epoch 1/5, step 5700/12500, loss=2.3120\n",
      "epoch 1/5, step 5800/12500, loss=2.2949\n",
      "epoch 1/5, step 5900/12500, loss=2.2811\n",
      "epoch 1/5, step 6000/12500, loss=2.3095\n",
      "epoch 1/5, step 6100/12500, loss=2.3020\n",
      "epoch 1/5, step 6200/12500, loss=2.3181\n",
      "epoch 1/5, step 6300/12500, loss=2.2817\n",
      "epoch 1/5, step 6400/12500, loss=2.2983\n",
      "epoch 1/5, step 6500/12500, loss=2.2969\n",
      "epoch 1/5, step 6600/12500, loss=2.3015\n",
      "epoch 1/5, step 6700/12500, loss=2.2943\n",
      "epoch 1/5, step 6800/12500, loss=2.2900\n",
      "epoch 1/5, step 6900/12500, loss=2.3001\n",
      "epoch 1/5, step 7000/12500, loss=2.3036\n",
      "epoch 1/5, step 7100/12500, loss=2.2923\n",
      "epoch 1/5, step 7200/12500, loss=2.2915\n",
      "epoch 1/5, step 7300/12500, loss=2.2870\n",
      "epoch 1/5, step 7400/12500, loss=2.3011\n",
      "epoch 1/5, step 7500/12500, loss=2.3086\n",
      "epoch 1/5, step 7600/12500, loss=2.3064\n",
      "epoch 1/5, step 7700/12500, loss=2.3013\n",
      "epoch 1/5, step 7800/12500, loss=2.2792\n",
      "epoch 1/5, step 7900/12500, loss=2.2904\n",
      "epoch 1/5, step 8000/12500, loss=2.3082\n",
      "epoch 1/5, step 8100/12500, loss=2.3149\n",
      "epoch 1/5, step 8200/12500, loss=2.2967\n",
      "epoch 1/5, step 8300/12500, loss=2.2913\n",
      "epoch 1/5, step 8400/12500, loss=2.2984\n",
      "epoch 1/5, step 8500/12500, loss=2.2941\n",
      "epoch 1/5, step 8600/12500, loss=2.2909\n",
      "epoch 1/5, step 8700/12500, loss=2.2959\n",
      "epoch 1/5, step 8800/12500, loss=2.2982\n",
      "epoch 1/5, step 8900/12500, loss=2.3095\n",
      "epoch 1/5, step 9000/12500, loss=2.3093\n",
      "epoch 1/5, step 9100/12500, loss=2.2993\n",
      "epoch 1/5, step 9200/12500, loss=2.2961\n",
      "epoch 1/5, step 9300/12500, loss=2.2983\n",
      "epoch 1/5, step 9400/12500, loss=2.2907\n",
      "epoch 1/5, step 9500/12500, loss=2.3089\n",
      "epoch 1/5, step 9600/12500, loss=2.3082\n",
      "epoch 1/5, step 9700/12500, loss=2.2875\n",
      "epoch 1/5, step 9800/12500, loss=2.2889\n",
      "epoch 1/5, step 9900/12500, loss=2.3115\n",
      "epoch 1/5, step 10000/12500, loss=2.2860\n",
      "epoch 1/5, step 10100/12500, loss=2.3109\n",
      "epoch 1/5, step 10200/12500, loss=2.3012\n",
      "epoch 1/5, step 10300/12500, loss=2.2819\n",
      "epoch 1/5, step 10400/12500, loss=2.2943\n",
      "epoch 1/5, step 10500/12500, loss=2.2913\n",
      "epoch 1/5, step 10600/12500, loss=2.2864\n",
      "epoch 1/5, step 10700/12500, loss=2.2968\n",
      "epoch 1/5, step 10800/12500, loss=2.3168\n",
      "epoch 1/5, step 10900/12500, loss=2.3042\n",
      "epoch 1/5, step 11000/12500, loss=2.2827\n",
      "epoch 1/5, step 11100/12500, loss=2.2815\n",
      "epoch 1/5, step 11200/12500, loss=2.2911\n",
      "epoch 1/5, step 11300/12500, loss=2.3013\n",
      "epoch 1/5, step 11400/12500, loss=2.3086\n",
      "epoch 1/5, step 11500/12500, loss=2.3028\n",
      "epoch 1/5, step 11600/12500, loss=2.2928\n",
      "epoch 1/5, step 11700/12500, loss=2.2798\n",
      "epoch 1/5, step 11800/12500, loss=2.2993\n",
      "epoch 1/5, step 11900/12500, loss=2.2981\n",
      "epoch 1/5, step 12000/12500, loss=2.2927\n",
      "epoch 1/5, step 12100/12500, loss=2.3026\n",
      "epoch 1/5, step 12200/12500, loss=2.2939\n",
      "epoch 1/5, step 12300/12500, loss=2.2649\n",
      "epoch 1/5, step 12400/12500, loss=2.2821\n",
      "epoch 1/5, step 12500/12500, loss=2.2725\n",
      "epoch 2/5, step 100/12500, loss=2.3066\n",
      "epoch 2/5, step 200/12500, loss=2.2770\n",
      "epoch 2/5, step 300/12500, loss=2.2444\n",
      "epoch 2/5, step 400/12500, loss=2.2503\n",
      "epoch 2/5, step 500/12500, loss=2.2536\n",
      "epoch 2/5, step 600/12500, loss=2.2770\n",
      "epoch 2/5, step 700/12500, loss=2.3303\n",
      "epoch 2/5, step 800/12500, loss=2.2824\n",
      "epoch 2/5, step 900/12500, loss=2.3223\n",
      "epoch 2/5, step 1000/12500, loss=2.2718\n",
      "epoch 2/5, step 1100/12500, loss=2.2113\n",
      "epoch 2/5, step 1200/12500, loss=2.1577\n",
      "epoch 2/5, step 1300/12500, loss=2.2256\n",
      "epoch 2/5, step 1400/12500, loss=2.3213\n",
      "epoch 2/5, step 1500/12500, loss=2.2472\n",
      "epoch 2/5, step 1600/12500, loss=2.2231\n",
      "epoch 2/5, step 1700/12500, loss=2.0411\n",
      "epoch 2/5, step 1800/12500, loss=2.1883\n",
      "epoch 2/5, step 1900/12500, loss=2.2830\n",
      "epoch 2/5, step 2000/12500, loss=2.3227\n",
      "epoch 2/5, step 2100/12500, loss=2.1442\n",
      "epoch 2/5, step 2200/12500, loss=2.3682\n",
      "epoch 2/5, step 2300/12500, loss=2.3267\n",
      "epoch 2/5, step 2400/12500, loss=2.2209\n",
      "epoch 2/5, step 2500/12500, loss=2.2278\n",
      "epoch 2/5, step 2600/12500, loss=2.2973\n",
      "epoch 2/5, step 2700/12500, loss=2.2017\n",
      "epoch 2/5, step 2800/12500, loss=2.5198\n",
      "epoch 2/5, step 2900/12500, loss=2.2515\n",
      "epoch 2/5, step 3000/12500, loss=2.1823\n",
      "epoch 2/5, step 3100/12500, loss=2.2866\n",
      "epoch 2/5, step 3200/12500, loss=2.1852\n",
      "epoch 2/5, step 3300/12500, loss=2.0419\n",
      "epoch 2/5, step 3400/12500, loss=1.9073\n",
      "epoch 2/5, step 3500/12500, loss=2.2107\n",
      "epoch 2/5, step 3600/12500, loss=2.2926\n",
      "epoch 2/5, step 3700/12500, loss=2.0969\n",
      "epoch 2/5, step 3800/12500, loss=2.1498\n",
      "epoch 2/5, step 3900/12500, loss=1.7608\n",
      "epoch 2/5, step 4000/12500, loss=1.8858\n",
      "epoch 2/5, step 4100/12500, loss=2.1346\n",
      "epoch 2/5, step 4200/12500, loss=2.3174\n",
      "epoch 2/5, step 4300/12500, loss=2.1544\n",
      "epoch 2/5, step 4400/12500, loss=2.2418\n",
      "epoch 2/5, step 4500/12500, loss=2.0160\n",
      "epoch 2/5, step 4600/12500, loss=2.1620\n",
      "epoch 2/5, step 4700/12500, loss=1.7864\n",
      "epoch 2/5, step 4800/12500, loss=2.2523\n",
      "epoch 2/5, step 4900/12500, loss=1.9767\n",
      "epoch 2/5, step 5000/12500, loss=2.1821\n",
      "epoch 2/5, step 5100/12500, loss=1.9834\n",
      "epoch 2/5, step 5200/12500, loss=2.1771\n",
      "epoch 2/5, step 5300/12500, loss=1.8323\n",
      "epoch 2/5, step 5400/12500, loss=1.9787\n",
      "epoch 2/5, step 5500/12500, loss=1.8505\n",
      "epoch 2/5, step 5600/12500, loss=2.2451\n",
      "epoch 2/5, step 5700/12500, loss=1.6921\n",
      "epoch 2/5, step 5800/12500, loss=2.0834\n",
      "epoch 2/5, step 5900/12500, loss=1.9678\n",
      "epoch 2/5, step 6000/12500, loss=1.7132\n",
      "epoch 2/5, step 6100/12500, loss=1.8780\n",
      "epoch 2/5, step 6200/12500, loss=2.2530\n",
      "epoch 2/5, step 6300/12500, loss=2.3254\n",
      "epoch 2/5, step 6400/12500, loss=2.2035\n",
      "epoch 2/5, step 6500/12500, loss=2.0589\n",
      "epoch 2/5, step 6600/12500, loss=2.5649\n",
      "epoch 2/5, step 6700/12500, loss=1.8672\n",
      "epoch 2/5, step 6800/12500, loss=2.1853\n",
      "epoch 2/5, step 6900/12500, loss=2.0026\n",
      "epoch 2/5, step 7000/12500, loss=2.0825\n",
      "epoch 2/5, step 7100/12500, loss=1.9427\n",
      "epoch 2/5, step 7200/12500, loss=1.8703\n",
      "epoch 2/5, step 7300/12500, loss=2.2849\n",
      "epoch 2/5, step 7400/12500, loss=1.5274\n",
      "epoch 2/5, step 7500/12500, loss=1.9345\n",
      "epoch 2/5, step 7600/12500, loss=2.1290\n",
      "epoch 2/5, step 7700/12500, loss=2.8891\n",
      "epoch 2/5, step 7800/12500, loss=1.9103\n",
      "epoch 2/5, step 7900/12500, loss=1.8349\n",
      "epoch 2/5, step 8000/12500, loss=1.9032\n",
      "epoch 2/5, step 8100/12500, loss=1.8598\n",
      "epoch 2/5, step 8200/12500, loss=1.8891\n",
      "epoch 2/5, step 8300/12500, loss=1.9373\n",
      "epoch 2/5, step 8400/12500, loss=1.8832\n",
      "epoch 2/5, step 8500/12500, loss=2.0269\n",
      "epoch 2/5, step 8600/12500, loss=1.7594\n",
      "epoch 2/5, step 8700/12500, loss=1.7786\n",
      "epoch 2/5, step 8800/12500, loss=1.9679\n",
      "epoch 2/5, step 8900/12500, loss=1.9992\n",
      "epoch 2/5, step 9000/12500, loss=1.7815\n",
      "epoch 2/5, step 9100/12500, loss=1.6340\n",
      "epoch 2/5, step 9200/12500, loss=1.5972\n",
      "epoch 2/5, step 9300/12500, loss=1.5832\n",
      "epoch 2/5, step 9400/12500, loss=2.6103\n",
      "epoch 2/5, step 9500/12500, loss=2.2978\n",
      "epoch 2/5, step 9600/12500, loss=2.3559\n",
      "epoch 2/5, step 9700/12500, loss=1.7480\n",
      "epoch 2/5, step 9800/12500, loss=2.2343\n",
      "epoch 2/5, step 9900/12500, loss=1.5779\n",
      "epoch 2/5, step 10000/12500, loss=2.1421\n",
      "epoch 2/5, step 10100/12500, loss=1.6623\n",
      "epoch 2/5, step 10200/12500, loss=1.8418\n",
      "epoch 2/5, step 10300/12500, loss=1.3162\n",
      "epoch 2/5, step 10400/12500, loss=1.7367\n",
      "epoch 2/5, step 10500/12500, loss=1.7205\n",
      "epoch 2/5, step 10600/12500, loss=1.9611\n",
      "epoch 2/5, step 10700/12500, loss=2.6237\n",
      "epoch 2/5, step 10800/12500, loss=2.1437\n",
      "epoch 2/5, step 10900/12500, loss=1.8282\n",
      "epoch 2/5, step 11000/12500, loss=1.7397\n",
      "epoch 2/5, step 11100/12500, loss=1.6836\n",
      "epoch 2/5, step 11200/12500, loss=2.1706\n",
      "epoch 2/5, step 11300/12500, loss=1.8537\n",
      "epoch 2/5, step 11400/12500, loss=2.0946\n",
      "epoch 2/5, step 11500/12500, loss=1.7109\n",
      "epoch 2/5, step 11600/12500, loss=2.2049\n",
      "epoch 2/5, step 11700/12500, loss=2.0655\n",
      "epoch 2/5, step 11800/12500, loss=1.5212\n",
      "epoch 2/5, step 11900/12500, loss=1.6859\n",
      "epoch 2/5, step 12000/12500, loss=1.7964\n",
      "epoch 2/5, step 12100/12500, loss=1.8108\n",
      "epoch 2/5, step 12200/12500, loss=1.3236\n",
      "epoch 2/5, step 12300/12500, loss=2.2973\n",
      "epoch 2/5, step 12400/12500, loss=1.2121\n",
      "epoch 2/5, step 12500/12500, loss=2.1150\n",
      "epoch 3/5, step 100/12500, loss=1.6550\n",
      "epoch 3/5, step 200/12500, loss=1.3200\n",
      "epoch 3/5, step 300/12500, loss=1.8947\n",
      "epoch 3/5, step 400/12500, loss=1.4506\n",
      "epoch 3/5, step 500/12500, loss=2.1871\n",
      "epoch 3/5, step 600/12500, loss=1.6756\n",
      "epoch 3/5, step 700/12500, loss=2.3199\n",
      "epoch 3/5, step 800/12500, loss=1.9125\n",
      "epoch 3/5, step 900/12500, loss=1.4240\n",
      "epoch 3/5, step 1000/12500, loss=1.9223\n",
      "epoch 3/5, step 1100/12500, loss=2.6049\n",
      "epoch 3/5, step 1200/12500, loss=1.5816\n",
      "epoch 3/5, step 1300/12500, loss=1.2477\n",
      "epoch 3/5, step 1400/12500, loss=1.6957\n",
      "epoch 3/5, step 1500/12500, loss=2.1551\n",
      "epoch 3/5, step 1600/12500, loss=1.9035\n",
      "epoch 3/5, step 1700/12500, loss=1.9695\n",
      "epoch 3/5, step 1800/12500, loss=2.6758\n",
      "epoch 3/5, step 1900/12500, loss=1.8614\n",
      "epoch 3/5, step 2000/12500, loss=1.4488\n",
      "epoch 3/5, step 2100/12500, loss=1.4867\n",
      "epoch 3/5, step 2200/12500, loss=1.3532\n",
      "epoch 3/5, step 2300/12500, loss=1.2013\n",
      "epoch 3/5, step 2400/12500, loss=1.0194\n",
      "epoch 3/5, step 2500/12500, loss=2.0444\n",
      "epoch 3/5, step 2600/12500, loss=1.6267\n",
      "epoch 3/5, step 2700/12500, loss=1.4257\n",
      "epoch 3/5, step 2800/12500, loss=1.1680\n",
      "epoch 3/5, step 2900/12500, loss=2.4600\n",
      "epoch 3/5, step 3000/12500, loss=1.8032\n",
      "epoch 3/5, step 3100/12500, loss=1.9509\n",
      "epoch 3/5, step 3200/12500, loss=2.2108\n",
      "epoch 3/5, step 3300/12500, loss=1.8738\n",
      "epoch 3/5, step 3400/12500, loss=2.0988\n",
      "epoch 3/5, step 3500/12500, loss=1.7759\n",
      "epoch 3/5, step 3600/12500, loss=1.8145\n",
      "epoch 3/5, step 3700/12500, loss=1.6344\n",
      "epoch 3/5, step 3800/12500, loss=1.0098\n",
      "epoch 3/5, step 3900/12500, loss=1.8559\n",
      "epoch 3/5, step 4000/12500, loss=1.6808\n",
      "epoch 3/5, step 4100/12500, loss=1.3915\n",
      "epoch 3/5, step 4200/12500, loss=1.3300\n",
      "epoch 3/5, step 4300/12500, loss=1.5971\n",
      "epoch 3/5, step 4400/12500, loss=1.9081\n",
      "epoch 3/5, step 4500/12500, loss=1.6406\n",
      "epoch 3/5, step 4600/12500, loss=1.8676\n",
      "epoch 3/5, step 4700/12500, loss=1.5307\n",
      "epoch 3/5, step 4800/12500, loss=1.6689\n",
      "epoch 3/5, step 4900/12500, loss=2.0645\n",
      "epoch 3/5, step 5000/12500, loss=3.0502\n",
      "epoch 3/5, step 5100/12500, loss=2.4282\n",
      "epoch 3/5, step 5200/12500, loss=2.2970\n",
      "epoch 3/5, step 5300/12500, loss=1.0911\n",
      "epoch 3/5, step 5400/12500, loss=1.8254\n",
      "epoch 3/5, step 5500/12500, loss=1.4489\n",
      "epoch 3/5, step 5600/12500, loss=1.2557\n",
      "epoch 3/5, step 5700/12500, loss=1.5731\n",
      "epoch 3/5, step 5800/12500, loss=2.1727\n",
      "epoch 3/5, step 5900/12500, loss=1.5989\n",
      "epoch 3/5, step 6000/12500, loss=2.6891\n",
      "epoch 3/5, step 6100/12500, loss=1.5115\n",
      "epoch 3/5, step 6200/12500, loss=1.4130\n",
      "epoch 3/5, step 6300/12500, loss=1.9356\n",
      "epoch 3/5, step 6400/12500, loss=2.1065\n",
      "epoch 3/5, step 6500/12500, loss=1.3719\n",
      "epoch 3/5, step 6600/12500, loss=2.1387\n",
      "epoch 3/5, step 6700/12500, loss=1.6285\n",
      "epoch 3/5, step 6800/12500, loss=0.7456\n",
      "epoch 3/5, step 6900/12500, loss=2.3758\n",
      "epoch 3/5, step 7000/12500, loss=1.6410\n",
      "epoch 3/5, step 7100/12500, loss=1.3345\n",
      "epoch 3/5, step 7200/12500, loss=1.5183\n",
      "epoch 3/5, step 7300/12500, loss=2.4962\n",
      "epoch 3/5, step 7400/12500, loss=0.9202\n",
      "epoch 3/5, step 7500/12500, loss=2.0427\n",
      "epoch 3/5, step 7600/12500, loss=1.5385\n",
      "epoch 3/5, step 7700/12500, loss=2.8253\n",
      "epoch 3/5, step 7800/12500, loss=1.3882\n",
      "epoch 3/5, step 7900/12500, loss=1.3838\n",
      "epoch 3/5, step 8000/12500, loss=1.7740\n",
      "epoch 3/5, step 8100/12500, loss=1.1622\n",
      "epoch 3/5, step 8200/12500, loss=1.8609\n",
      "epoch 3/5, step 8300/12500, loss=2.1693\n",
      "epoch 3/5, step 8400/12500, loss=1.6209\n",
      "epoch 3/5, step 8500/12500, loss=1.9753\n",
      "epoch 3/5, step 8600/12500, loss=1.0658\n",
      "epoch 3/5, step 8700/12500, loss=1.1843\n",
      "epoch 3/5, step 8800/12500, loss=2.0469\n",
      "epoch 3/5, step 8900/12500, loss=1.2912\n",
      "epoch 3/5, step 9000/12500, loss=1.7538\n",
      "epoch 3/5, step 9100/12500, loss=1.3689\n",
      "epoch 3/5, step 9200/12500, loss=1.4446\n",
      "epoch 3/5, step 9300/12500, loss=1.2497\n",
      "epoch 3/5, step 9400/12500, loss=1.8492\n",
      "epoch 3/5, step 9500/12500, loss=1.9333\n",
      "epoch 3/5, step 9600/12500, loss=1.6688\n",
      "epoch 3/5, step 9700/12500, loss=1.6505\n",
      "epoch 3/5, step 9800/12500, loss=1.5821\n",
      "epoch 3/5, step 9900/12500, loss=1.9717\n",
      "epoch 3/5, step 10000/12500, loss=2.3115\n",
      "epoch 3/5, step 10100/12500, loss=0.9557\n",
      "epoch 3/5, step 10200/12500, loss=1.8299\n",
      "epoch 3/5, step 10300/12500, loss=1.3288\n",
      "epoch 3/5, step 10400/12500, loss=1.8767\n",
      "epoch 3/5, step 10500/12500, loss=1.3059\n",
      "epoch 3/5, step 10600/12500, loss=2.0054\n",
      "epoch 3/5, step 10700/12500, loss=1.7591\n",
      "epoch 3/5, step 10800/12500, loss=1.2526\n",
      "epoch 3/5, step 10900/12500, loss=1.5399\n",
      "epoch 3/5, step 11000/12500, loss=1.8269\n",
      "epoch 3/5, step 11100/12500, loss=2.5865\n",
      "epoch 3/5, step 11200/12500, loss=2.8303\n",
      "epoch 3/5, step 11300/12500, loss=1.5531\n",
      "epoch 3/5, step 11400/12500, loss=1.3971\n",
      "epoch 3/5, step 11500/12500, loss=1.9947\n",
      "epoch 3/5, step 11600/12500, loss=2.5957\n",
      "epoch 3/5, step 11700/12500, loss=1.8266\n",
      "epoch 3/5, step 11800/12500, loss=1.9611\n",
      "epoch 3/5, step 11900/12500, loss=1.3473\n",
      "epoch 3/5, step 12000/12500, loss=1.5859\n",
      "epoch 3/5, step 12100/12500, loss=0.9099\n",
      "epoch 3/5, step 12200/12500, loss=1.5202\n",
      "epoch 3/5, step 12300/12500, loss=1.5523\n",
      "epoch 3/5, step 12400/12500, loss=2.1214\n",
      "epoch 3/5, step 12500/12500, loss=1.4573\n",
      "epoch 4/5, step 100/12500, loss=1.7166\n",
      "epoch 4/5, step 200/12500, loss=1.9974\n",
      "epoch 4/5, step 300/12500, loss=1.4545\n",
      "epoch 4/5, step 400/12500, loss=1.3219\n",
      "epoch 4/5, step 500/12500, loss=1.2939\n",
      "epoch 4/5, step 600/12500, loss=2.1069\n",
      "epoch 4/5, step 700/12500, loss=1.3971\n",
      "epoch 4/5, step 800/12500, loss=1.4688\n",
      "epoch 4/5, step 900/12500, loss=1.9535\n",
      "epoch 4/5, step 1000/12500, loss=1.3450\n",
      "epoch 4/5, step 1100/12500, loss=1.4701\n",
      "epoch 4/5, step 1200/12500, loss=1.5628\n",
      "epoch 4/5, step 1300/12500, loss=1.4994\n",
      "epoch 4/5, step 1400/12500, loss=1.8591\n",
      "epoch 4/5, step 1500/12500, loss=1.3715\n",
      "epoch 4/5, step 1600/12500, loss=1.6058\n",
      "epoch 4/5, step 1700/12500, loss=1.4610\n",
      "epoch 4/5, step 1800/12500, loss=1.7272\n",
      "epoch 4/5, step 1900/12500, loss=1.3340\n",
      "epoch 4/5, step 2000/12500, loss=1.4347\n",
      "epoch 4/5, step 2100/12500, loss=1.3194\n",
      "epoch 4/5, step 2200/12500, loss=1.0770\n",
      "epoch 4/5, step 2300/12500, loss=1.3119\n",
      "epoch 4/5, step 2400/12500, loss=1.1574\n",
      "epoch 4/5, step 2500/12500, loss=1.2102\n",
      "epoch 4/5, step 2600/12500, loss=1.3582\n",
      "epoch 4/5, step 2700/12500, loss=2.0243\n",
      "epoch 4/5, step 2800/12500, loss=1.1313\n",
      "epoch 4/5, step 2900/12500, loss=2.3092\n",
      "epoch 4/5, step 3000/12500, loss=1.6703\n",
      "epoch 4/5, step 3100/12500, loss=1.7633\n",
      "epoch 4/5, step 3200/12500, loss=2.0853\n",
      "epoch 4/5, step 3300/12500, loss=1.5497\n",
      "epoch 4/5, step 3400/12500, loss=1.2095\n",
      "epoch 4/5, step 3500/12500, loss=2.4718\n",
      "epoch 4/5, step 3600/12500, loss=0.6683\n",
      "epoch 4/5, step 3700/12500, loss=0.9698\n",
      "epoch 4/5, step 3800/12500, loss=1.1625\n",
      "epoch 4/5, step 3900/12500, loss=1.2198\n",
      "epoch 4/5, step 4000/12500, loss=1.1291\n",
      "epoch 4/5, step 4100/12500, loss=1.7460\n",
      "epoch 4/5, step 4200/12500, loss=1.0100\n",
      "epoch 4/5, step 4300/12500, loss=1.8716\n",
      "epoch 4/5, step 4400/12500, loss=0.7635\n",
      "epoch 4/5, step 4500/12500, loss=1.2513\n",
      "epoch 4/5, step 4600/12500, loss=1.7034\n",
      "epoch 4/5, step 4700/12500, loss=1.2404\n",
      "epoch 4/5, step 4800/12500, loss=1.0052\n",
      "epoch 4/5, step 4900/12500, loss=2.0344\n",
      "epoch 4/5, step 5000/12500, loss=1.0287\n",
      "epoch 4/5, step 5100/12500, loss=1.5897\n",
      "epoch 4/5, step 5200/12500, loss=1.1819\n",
      "epoch 4/5, step 5300/12500, loss=1.0854\n",
      "epoch 4/5, step 5400/12500, loss=1.6518\n",
      "epoch 4/5, step 5500/12500, loss=1.0716\n",
      "epoch 4/5, step 5600/12500, loss=1.5131\n",
      "epoch 4/5, step 5700/12500, loss=1.8436\n",
      "epoch 4/5, step 5800/12500, loss=1.2899\n",
      "epoch 4/5, step 5900/12500, loss=0.8646\n",
      "epoch 4/5, step 6000/12500, loss=1.9069\n",
      "epoch 4/5, step 6100/12500, loss=1.4056\n",
      "epoch 4/5, step 6200/12500, loss=1.1595\n",
      "epoch 4/5, step 6300/12500, loss=0.5790\n",
      "epoch 4/5, step 6400/12500, loss=2.2661\n",
      "epoch 4/5, step 6500/12500, loss=1.1383\n",
      "epoch 4/5, step 6600/12500, loss=0.9792\n",
      "epoch 4/5, step 6700/12500, loss=1.1519\n",
      "epoch 4/5, step 6800/12500, loss=1.7999\n",
      "epoch 4/5, step 6900/12500, loss=1.2838\n",
      "epoch 4/5, step 7000/12500, loss=1.2068\n",
      "epoch 4/5, step 7100/12500, loss=1.5522\n",
      "epoch 4/5, step 7200/12500, loss=1.4385\n",
      "epoch 4/5, step 7300/12500, loss=1.0371\n",
      "epoch 4/5, step 7400/12500, loss=0.7057\n",
      "epoch 4/5, step 7500/12500, loss=2.2121\n",
      "epoch 4/5, step 7600/12500, loss=1.4097\n",
      "epoch 4/5, step 7700/12500, loss=1.6768\n",
      "epoch 4/5, step 7800/12500, loss=1.2936\n",
      "epoch 4/5, step 7900/12500, loss=1.4203\n",
      "epoch 4/5, step 8000/12500, loss=1.2156\n",
      "epoch 4/5, step 8100/12500, loss=1.1455\n",
      "epoch 4/5, step 8200/12500, loss=1.7551\n",
      "epoch 4/5, step 8300/12500, loss=0.9650\n",
      "epoch 4/5, step 8400/12500, loss=1.1594\n",
      "epoch 4/5, step 8500/12500, loss=1.2065\n",
      "epoch 4/5, step 8600/12500, loss=1.3781\n",
      "epoch 4/5, step 8700/12500, loss=0.7238\n",
      "epoch 4/5, step 8800/12500, loss=1.5034\n",
      "epoch 4/5, step 8900/12500, loss=2.1098\n",
      "epoch 4/5, step 9000/12500, loss=2.2946\n",
      "epoch 4/5, step 9100/12500, loss=1.3786\n",
      "epoch 4/5, step 9200/12500, loss=1.1406\n",
      "epoch 4/5, step 9300/12500, loss=1.6252\n",
      "epoch 4/5, step 9400/12500, loss=2.4509\n",
      "epoch 4/5, step 9500/12500, loss=0.7878\n",
      "epoch 4/5, step 9600/12500, loss=1.1756\n",
      "epoch 4/5, step 9700/12500, loss=1.4853\n",
      "epoch 4/5, step 9800/12500, loss=2.0965\n",
      "epoch 4/5, step 9900/12500, loss=0.9374\n",
      "epoch 4/5, step 10000/12500, loss=1.8441\n",
      "epoch 4/5, step 10100/12500, loss=1.5586\n",
      "epoch 4/5, step 10200/12500, loss=2.0892\n",
      "epoch 4/5, step 10300/12500, loss=1.2108\n",
      "epoch 4/5, step 10400/12500, loss=1.4376\n",
      "epoch 4/5, step 10500/12500, loss=1.6398\n",
      "epoch 4/5, step 10600/12500, loss=1.1317\n",
      "epoch 4/5, step 10700/12500, loss=2.7293\n",
      "epoch 4/5, step 10800/12500, loss=1.0658\n",
      "epoch 4/5, step 10900/12500, loss=2.1849\n",
      "epoch 4/5, step 11000/12500, loss=1.8790\n",
      "epoch 4/5, step 11100/12500, loss=1.3143\n",
      "epoch 4/5, step 11200/12500, loss=0.7973\n",
      "epoch 4/5, step 11300/12500, loss=2.4446\n",
      "epoch 4/5, step 11400/12500, loss=1.0466\n",
      "epoch 4/5, step 11500/12500, loss=1.4614\n",
      "epoch 4/5, step 11600/12500, loss=1.2674\n",
      "epoch 4/5, step 11700/12500, loss=0.5788\n",
      "epoch 4/5, step 11800/12500, loss=1.6230\n",
      "epoch 4/5, step 11900/12500, loss=1.4773\n",
      "epoch 4/5, step 12000/12500, loss=0.9112\n",
      "epoch 4/5, step 12100/12500, loss=1.8992\n",
      "epoch 4/5, step 12200/12500, loss=0.9761\n",
      "epoch 4/5, step 12300/12500, loss=1.0556\n",
      "epoch 4/5, step 12400/12500, loss=1.8216\n",
      "epoch 4/5, step 12500/12500, loss=1.9247\n",
      "epoch 5/5, step 100/12500, loss=1.2846\n",
      "epoch 5/5, step 200/12500, loss=2.0189\n",
      "epoch 5/5, step 300/12500, loss=1.7587\n",
      "epoch 5/5, step 400/12500, loss=1.4716\n",
      "epoch 5/5, step 500/12500, loss=0.6467\n",
      "epoch 5/5, step 600/12500, loss=1.4583\n",
      "epoch 5/5, step 700/12500, loss=0.8670\n",
      "epoch 5/5, step 800/12500, loss=1.8242\n",
      "epoch 5/5, step 900/12500, loss=1.2124\n",
      "epoch 5/5, step 1000/12500, loss=1.3336\n",
      "epoch 5/5, step 1100/12500, loss=0.7339\n",
      "epoch 5/5, step 1200/12500, loss=0.9443\n",
      "epoch 5/5, step 1300/12500, loss=0.6697\n",
      "epoch 5/5, step 1400/12500, loss=1.1667\n",
      "epoch 5/5, step 1500/12500, loss=1.9931\n",
      "epoch 5/5, step 1600/12500, loss=1.0763\n",
      "epoch 5/5, step 1700/12500, loss=0.8064\n",
      "epoch 5/5, step 1800/12500, loss=2.0843\n",
      "epoch 5/5, step 1900/12500, loss=1.3871\n",
      "epoch 5/5, step 2000/12500, loss=1.5509\n",
      "epoch 5/5, step 2100/12500, loss=1.2981\n",
      "epoch 5/5, step 2200/12500, loss=2.1129\n",
      "epoch 5/5, step 2300/12500, loss=1.1686\n",
      "epoch 5/5, step 2400/12500, loss=0.9720\n",
      "epoch 5/5, step 2500/12500, loss=1.9647\n",
      "epoch 5/5, step 2600/12500, loss=1.3050\n",
      "epoch 5/5, step 2700/12500, loss=1.0568\n",
      "epoch 5/5, step 2800/12500, loss=2.1927\n",
      "epoch 5/5, step 2900/12500, loss=2.5951\n",
      "epoch 5/5, step 3000/12500, loss=1.5823\n",
      "epoch 5/5, step 3100/12500, loss=1.0623\n",
      "epoch 5/5, step 3200/12500, loss=1.1982\n",
      "epoch 5/5, step 3300/12500, loss=1.0218\n",
      "epoch 5/5, step 3400/12500, loss=1.0773\n",
      "epoch 5/5, step 3500/12500, loss=1.4051\n",
      "epoch 5/5, step 3600/12500, loss=1.4716\n",
      "epoch 5/5, step 3700/12500, loss=0.8846\n",
      "epoch 5/5, step 3800/12500, loss=0.5082\n",
      "epoch 5/5, step 3900/12500, loss=0.6721\n",
      "epoch 5/5, step 4000/12500, loss=0.9740\n",
      "epoch 5/5, step 4100/12500, loss=1.5688\n",
      "epoch 5/5, step 4200/12500, loss=1.9343\n",
      "epoch 5/5, step 4300/12500, loss=1.1064\n",
      "epoch 5/5, step 4400/12500, loss=2.0987\n",
      "epoch 5/5, step 4500/12500, loss=2.5746\n",
      "epoch 5/5, step 4600/12500, loss=1.8698\n",
      "epoch 5/5, step 4700/12500, loss=1.2593\n",
      "epoch 5/5, step 4800/12500, loss=1.5057\n",
      "epoch 5/5, step 4900/12500, loss=1.6232\n",
      "epoch 5/5, step 5000/12500, loss=0.9995\n",
      "epoch 5/5, step 5100/12500, loss=1.1310\n",
      "epoch 5/5, step 5200/12500, loss=2.3092\n",
      "epoch 5/5, step 5300/12500, loss=1.0857\n",
      "epoch 5/5, step 5400/12500, loss=1.6198\n",
      "epoch 5/5, step 5500/12500, loss=3.2559\n",
      "epoch 5/5, step 5600/12500, loss=0.9713\n",
      "epoch 5/5, step 5700/12500, loss=1.3887\n",
      "epoch 5/5, step 5800/12500, loss=1.0571\n",
      "epoch 5/5, step 5900/12500, loss=0.7449\n",
      "epoch 5/5, step 6000/12500, loss=2.3678\n",
      "epoch 5/5, step 6100/12500, loss=1.5816\n",
      "epoch 5/5, step 6200/12500, loss=1.7620\n",
      "epoch 5/5, step 6300/12500, loss=1.5967\n",
      "epoch 5/5, step 6400/12500, loss=1.7523\n",
      "epoch 5/5, step 6500/12500, loss=1.1391\n",
      "epoch 5/5, step 6600/12500, loss=0.8797\n",
      "epoch 5/5, step 6700/12500, loss=1.5194\n",
      "epoch 5/5, step 6800/12500, loss=0.8531\n",
      "epoch 5/5, step 6900/12500, loss=2.1620\n",
      "epoch 5/5, step 7000/12500, loss=1.1310\n",
      "epoch 5/5, step 7100/12500, loss=1.2445\n",
      "epoch 5/5, step 7200/12500, loss=1.0228\n",
      "epoch 5/5, step 7300/12500, loss=1.7577\n",
      "epoch 5/5, step 7400/12500, loss=1.1103\n",
      "epoch 5/5, step 7500/12500, loss=1.9993\n",
      "epoch 5/5, step 7600/12500, loss=1.3681\n",
      "epoch 5/5, step 7700/12500, loss=0.9678\n",
      "epoch 5/5, step 7800/12500, loss=1.5562\n",
      "epoch 5/5, step 7900/12500, loss=1.2951\n",
      "epoch 5/5, step 8000/12500, loss=0.6802\n",
      "epoch 5/5, step 8100/12500, loss=1.2785\n",
      "epoch 5/5, step 8200/12500, loss=1.6360\n",
      "epoch 5/5, step 8300/12500, loss=1.0127\n",
      "epoch 5/5, step 8400/12500, loss=1.0833\n",
      "epoch 5/5, step 8500/12500, loss=1.1343\n",
      "epoch 5/5, step 8600/12500, loss=1.4068\n",
      "epoch 5/5, step 8700/12500, loss=1.2315\n",
      "epoch 5/5, step 8800/12500, loss=1.9683\n",
      "epoch 5/5, step 8900/12500, loss=2.3496\n",
      "epoch 5/5, step 9000/12500, loss=1.2690\n",
      "epoch 5/5, step 9100/12500, loss=0.4633\n",
      "epoch 5/5, step 9200/12500, loss=2.0269\n",
      "epoch 5/5, step 9300/12500, loss=1.0709\n",
      "epoch 5/5, step 9400/12500, loss=2.0633\n",
      "epoch 5/5, step 9500/12500, loss=2.1593\n",
      "epoch 5/5, step 9600/12500, loss=1.6710\n",
      "epoch 5/5, step 9700/12500, loss=1.0216\n",
      "epoch 5/5, step 9800/12500, loss=1.7122\n",
      "epoch 5/5, step 9900/12500, loss=0.8676\n",
      "epoch 5/5, step 10000/12500, loss=0.9680\n",
      "epoch 5/5, step 10100/12500, loss=1.1192\n",
      "epoch 5/5, step 10200/12500, loss=1.6024\n",
      "epoch 5/5, step 10300/12500, loss=0.6901\n",
      "epoch 5/5, step 10400/12500, loss=1.3477\n",
      "epoch 5/5, step 10500/12500, loss=1.2224\n",
      "epoch 5/5, step 10600/12500, loss=2.6968\n",
      "epoch 5/5, step 10700/12500, loss=0.7643\n",
      "epoch 5/5, step 10800/12500, loss=0.7914\n",
      "epoch 5/5, step 10900/12500, loss=0.8184\n",
      "epoch 5/5, step 11000/12500, loss=1.9121\n",
      "epoch 5/5, step 11100/12500, loss=0.9810\n",
      "epoch 5/5, step 11200/12500, loss=2.0369\n",
      "epoch 5/5, step 11300/12500, loss=1.1518\n",
      "epoch 5/5, step 11400/12500, loss=0.9405\n",
      "epoch 5/5, step 11500/12500, loss=1.4141\n",
      "epoch 5/5, step 11600/12500, loss=0.5071\n",
      "epoch 5/5, step 11700/12500, loss=1.5907\n",
      "epoch 5/5, step 11800/12500, loss=1.1957\n",
      "epoch 5/5, step 11900/12500, loss=0.9115\n",
      "epoch 5/5, step 12000/12500, loss=1.5538\n",
      "epoch 5/5, step 12100/12500, loss=1.9299\n",
      "epoch 5/5, step 12200/12500, loss=1.9087\n",
      "epoch 5/5, step 12300/12500, loss=1.2672\n",
      "epoch 5/5, step 12400/12500, loss=0.8788\n",
      "epoch 5/5, step 12500/12500, loss=2.2846\n",
      "Finished Training\n",
      "Accuracy of the network: 49.55 %\n",
      "Accuracy of plane: 46.6 %\n",
      "Accuracy of car: 54.5 %\n",
      "Accuracy of bird: 30.3 %\n",
      "Accuracy of cat: 47.9 %\n",
      "Accuracy of deer: 38.0 %\n",
      "Accuracy of dog: 42.2 %\n",
      "Accuracy of frog: 55.0 %\n",
      "Accuracy of horse: 56.4 %\n",
      "Accuracy of ship: 72.7 %\n",
      "Accuracy of truck: 51.9 %\n"
     ]
    }
   ],
   "source": [
    "classes = ('plane', 'car', 'bird', 'cat',\n",
    "           'deer', 'dog', 'frog', 'horse', 'ship', 'truck')\n",
    "\n",
    "class ConvNet(nn.Module):\n",
    "    def __init__(self):\n",
    "        super(ConvNet, self).__init__()\n",
    "        # 3 color channels, output channel size, kernel size\n",
    "        self.conv1 = nn.Conv2d(3, 6, 5)\n",
    "        # kernel size 2, stride\n",
    "        self.pool = nn.MaxPool2d(2, 2)\n",
    "        # input channels equal to last channel size, output channel size, kernel size\n",
    "        self.conv2 = nn.Conv2d(6, 16, 5)\n",
    "        # 16 channels and 2d square matrix of size 5\n",
    "        self.fc1 = nn.Linear(16*5*5, 120)\n",
    "        self.fc2 = nn.Linear(120, 84)\n",
    "        self.fc3 = nn.Linear(84, 10)\n",
    "\n",
    "    def forward(self, x):\n",
    "        x = self.pool(F.relu(self.conv1(x)))\n",
    "        x = self.pool(F.relu(self.conv2(x)))\n",
    "        # flatten\n",
    "        x = x.view(-1, 16*5*5)\n",
    "        x = F.relu(self.fc1(x))\n",
    "        x = F.relu(self.fc2(x))\n",
    "        x = self.fc3(x)\n",
    "        return x\n",
    "\n",
    "model = ConvNet().to(device)\n",
    "\n",
    "criterion = nn.CrossEntropyLoss()\n",
    "optimizer = torch.optim.SGD(model.parameters(), lr=learning_rate)\n",
    "\n",
    "n_total_steps = len(train_loader)\n",
    "for epoch in range(num_epochs):\n",
    "    for i, (images, labels) in enumerate(train_loader):\n",
    "        images = images.to(device)\n",
    "        labels = labels.to(device)\n",
    "\n",
    "        # forward pass\n",
    "        outputs = model(images)\n",
    "        loss = criterion(outputs, labels)\n",
    "\n",
    "        # backward and optimize\n",
    "        optimizer.zero_grad()\n",
    "        loss.backward()\n",
    "        optimizer.step()\n",
    "\n",
    "        if ((i+1)%100==0):\n",
    "            print(f\"epoch {epoch+1}/{num_epochs}, step {i+1}/{n_total_steps}, loss={loss.item():.4f}\")\n",
    "\n",
    "print('Finished Training')\n",
    "# save trained model\n",
    "PATH = './cnn.pth'\n",
    "torch.save(model.state_dict(), PATH)\n",
    "\n",
    "with torch.no_grad():\n",
    "    n_correct = 0\n",
    "    n_samples = 0\n",
    "    n_class_correct = [0 for i in range(10)]\n",
    "    n_class_samples = [0 for i in range(10)]\n",
    "    for images, labels in test_loader:\n",
    "        images = images.to(device)\n",
    "        labels = labels.to(device)\n",
    "        outputs = model(images)\n",
    "        # max returns (value ,index)\n",
    "        _, predicted = torch.max(outputs, 1)\n",
    "        n_samples += labels.size(0)\n",
    "        n_correct += (predicted == labels).sum().item()\n",
    "        \n",
    "        for i in range(batch_size):\n",
    "            label = labels[i]\n",
    "            pred = predicted[i]\n",
    "            if (label == pred):\n",
    "                n_class_correct[label] += 1\n",
    "            n_class_samples[label] += 1\n",
    "\n",
    "    acc = 100.0 * n_correct / n_samples\n",
    "    print(f'Accuracy of the network: {acc} %')\n",
    "\n",
    "    for i in range(10):\n",
    "        acc = 100.0 * n_class_correct[i] / n_class_samples[i]\n",
    "        print(f'Accuracy of {classes[i]}: {acc} %')"
   ]
  },
  {
   "cell_type": "markdown",
   "id": "9712b760",
   "metadata": {
    "papermill": {
     "duration": 0.058696,
     "end_time": "2024-12-21T13:46:54.742514",
     "exception": false,
     "start_time": "2024-12-21T13:46:54.683818",
     "status": "completed"
    },
    "tags": []
   },
   "source": [
    "# Transfer Learning"
   ]
  },
  {
   "cell_type": "code",
   "execution_count": 68,
   "id": "24c02d7b",
   "metadata": {
    "execution": {
     "iopub.execute_input": "2024-12-21T13:46:54.860614Z",
     "iopub.status.busy": "2024-12-21T13:46:54.860269Z",
     "iopub.status.idle": "2024-12-21T13:46:54.864715Z",
     "shell.execute_reply": "2024-12-21T13:46:54.863843Z"
    },
    "papermill": {
     "duration": 0.065845,
     "end_time": "2024-12-21T13:46:54.866128",
     "exception": false,
     "start_time": "2024-12-21T13:46:54.800283",
     "status": "completed"
    },
    "tags": []
   },
   "outputs": [],
   "source": [
    "import torch\n",
    "import torch.nn as nn\n",
    "import torch.optim as optim\n",
    "from torch.optim import lr_scheduler\n",
    "import numpy as np\n",
    "import torchvision\n",
    "from torchvision import datasets, models, transforms\n",
    "import matplotlib.pyplot as plt\n",
    "import time\n",
    "import os\n",
    "import copy"
   ]
  },
  {
   "cell_type": "code",
   "execution_count": 69,
   "id": "d726263b",
   "metadata": {
    "execution": {
     "iopub.execute_input": "2024-12-21T13:46:54.985262Z",
     "iopub.status.busy": "2024-12-21T13:46:54.984878Z",
     "iopub.status.idle": "2024-12-21T13:46:55.604063Z",
     "shell.execute_reply": "2024-12-21T13:46:55.603126Z"
    },
    "papermill": {
     "duration": 0.680883,
     "end_time": "2024-12-21T13:46:55.605727",
     "exception": false,
     "start_time": "2024-12-21T13:46:54.924844",
     "status": "completed"
    },
    "tags": []
   },
   "outputs": [
    {
     "name": "stdout",
     "output_type": "stream",
     "text": [
      "--2024-12-21 13:46:55--  https://download.pytorch.org/tutorial/hymenoptera_data.zip\r\n",
      "Resolving download.pytorch.org (download.pytorch.org)... 18.238.238.23, 18.238.238.114, 18.238.238.82, ...\r\n",
      "Connecting to download.pytorch.org (download.pytorch.org)|18.238.238.23|:443... connected.\r\n",
      "HTTP request sent, awaiting response... 200 OK\r\n",
      "Length: 47286322 (45M) [application/zip]\r\n",
      "Saving to: ‘hymenoptera_data.zip’\r\n",
      "\r\n",
      "hymenoptera_data.zi 100%[===================>]  45.10M   243MB/s    in 0.2s    \r\n",
      "\r\n",
      "2024-12-21 13:46:55 (243 MB/s) - ‘hymenoptera_data.zip’ saved [47286322/47286322]\r\n",
      "\r\n"
     ]
    }
   ],
   "source": [
    "!wget https://download.pytorch.org/tutorial/hymenoptera_data.zip"
   ]
  },
  {
   "cell_type": "code",
   "execution_count": 70,
   "id": "e7d189fc",
   "metadata": {
    "execution": {
     "iopub.execute_input": "2024-12-21T13:46:55.724910Z",
     "iopub.status.busy": "2024-12-21T13:46:55.724584Z",
     "iopub.status.idle": "2024-12-21T13:46:56.229149Z",
     "shell.execute_reply": "2024-12-21T13:46:56.228051Z"
    },
    "papermill": {
     "duration": 0.566172,
     "end_time": "2024-12-21T13:46:56.230858",
     "exception": false,
     "start_time": "2024-12-21T13:46:55.664686",
     "status": "completed"
    },
    "tags": []
   },
   "outputs": [
    {
     "name": "stdout",
     "output_type": "stream",
     "text": [
      "Archive:  /kaggle/working/hymenoptera_data.zip\r\n",
      "   creating: hymenoptera_data/\r\n",
      "   creating: hymenoptera_data/train/\r\n",
      "   creating: hymenoptera_data/train/ants/\r\n",
      "  inflating: hymenoptera_data/train/ants/0013035.jpg  \r\n",
      "  inflating: hymenoptera_data/train/ants/1030023514_aad5c608f9.jpg  \r\n",
      "  inflating: hymenoptera_data/train/ants/1095476100_3906d8afde.jpg  \r\n",
      "  inflating: hymenoptera_data/train/ants/1099452230_d1949d3250.jpg  \r\n",
      "  inflating: hymenoptera_data/train/ants/116570827_e9c126745d.jpg  \r\n",
      "  inflating: hymenoptera_data/train/ants/1225872729_6f0856588f.jpg  \r\n",
      "  inflating: hymenoptera_data/train/ants/1262877379_64fcada201.jpg  \r\n",
      "  inflating: hymenoptera_data/train/ants/1269756697_0bce92cdab.jpg  \r\n",
      "  inflating: hymenoptera_data/train/ants/1286984635_5119e80de1.jpg  \r\n",
      "  inflating: hymenoptera_data/train/ants/132478121_2a430adea2.jpg  \r\n",
      "  inflating: hymenoptera_data/train/ants/1360291657_dc248c5eea.jpg  \r\n",
      "  inflating: hymenoptera_data/train/ants/1368913450_e146e2fb6d.jpg  \r\n",
      "  inflating: hymenoptera_data/train/ants/1473187633_63ccaacea6.jpg  \r\n",
      "  inflating: hymenoptera_data/train/ants/148715752_302c84f5a4.jpg  \r\n",
      "  inflating: hymenoptera_data/train/ants/1489674356_09d48dde0a.jpg  \r\n",
      "  inflating: hymenoptera_data/train/ants/149244013_c529578289.jpg  \r\n",
      "  inflating: hymenoptera_data/train/ants/150801003_3390b73135.jpg  \r\n",
      "  inflating: hymenoptera_data/train/ants/150801171_cd86f17ed8.jpg  \r\n",
      "  inflating: hymenoptera_data/train/ants/154124431_65460430f2.jpg  \r\n",
      "  inflating: hymenoptera_data/train/ants/162603798_40b51f1654.jpg  \r\n",
      "  inflating: hymenoptera_data/train/ants/1660097129_384bf54490.jpg  \r\n",
      "  inflating: hymenoptera_data/train/ants/167890289_dd5ba923f3.jpg  \r\n",
      "  inflating: hymenoptera_data/train/ants/1693954099_46d4c20605.jpg  \r\n",
      "  inflating: hymenoptera_data/train/ants/175998972.jpg  \r\n",
      "  inflating: hymenoptera_data/train/ants/178538489_bec7649292.jpg  \r\n",
      "  inflating: hymenoptera_data/train/ants/1804095607_0341701e1c.jpg  \r\n",
      "  inflating: hymenoptera_data/train/ants/1808777855_2a895621d7.jpg  \r\n",
      "  inflating: hymenoptera_data/train/ants/188552436_605cc9b36b.jpg  \r\n",
      "  inflating: hymenoptera_data/train/ants/1917341202_d00a7f9af5.jpg  \r\n",
      "  inflating: hymenoptera_data/train/ants/1924473702_daa9aacdbe.jpg  \r\n",
      "  inflating: hymenoptera_data/train/ants/196057951_63bf063b92.jpg  \r\n",
      "  inflating: hymenoptera_data/train/ants/196757565_326437f5fe.jpg  \r\n",
      "  inflating: hymenoptera_data/train/ants/201558278_fe4caecc76.jpg  \r\n",
      "  inflating: hymenoptera_data/train/ants/201790779_527f4c0168.jpg  \r\n",
      "  inflating: hymenoptera_data/train/ants/2019439677_2db655d361.jpg  \r\n",
      "  inflating: hymenoptera_data/train/ants/207947948_3ab29d7207.jpg  \r\n",
      "  inflating: hymenoptera_data/train/ants/20935278_9190345f6b.jpg  \r\n",
      "  inflating: hymenoptera_data/train/ants/224655713_3956f7d39a.jpg  \r\n",
      "  inflating: hymenoptera_data/train/ants/2265824718_2c96f485da.jpg  \r\n",
      "  inflating: hymenoptera_data/train/ants/2265825502_fff99cfd2d.jpg  \r\n",
      "  inflating: hymenoptera_data/train/ants/226951206_d6bf946504.jpg  \r\n",
      "  inflating: hymenoptera_data/train/ants/2278278459_6b99605e50.jpg  \r\n",
      "  inflating: hymenoptera_data/train/ants/2288450226_a6e96e8fdf.jpg  \r\n",
      "  inflating: hymenoptera_data/train/ants/2288481644_83ff7e4572.jpg  \r\n",
      "  inflating: hymenoptera_data/train/ants/2292213964_ca51ce4bef.jpg  \r\n",
      "  inflating: hymenoptera_data/train/ants/24335309_c5ea483bb8.jpg  \r\n",
      "  inflating: hymenoptera_data/train/ants/245647475_9523dfd13e.jpg  \r\n",
      "  inflating: hymenoptera_data/train/ants/255434217_1b2b3fe0a4.jpg  \r\n",
      "  inflating: hymenoptera_data/train/ants/258217966_d9d90d18d3.jpg  \r\n",
      "  inflating: hymenoptera_data/train/ants/275429470_b2d7d9290b.jpg  \r\n",
      "  inflating: hymenoptera_data/train/ants/28847243_e79fe052cd.jpg  \r\n",
      "  inflating: hymenoptera_data/train/ants/318052216_84dff3f98a.jpg  \r\n",
      "  inflating: hymenoptera_data/train/ants/334167043_cbd1adaeb9.jpg  \r\n",
      "  inflating: hymenoptera_data/train/ants/339670531_94b75ae47a.jpg  \r\n",
      "  inflating: hymenoptera_data/train/ants/342438950_a3da61deab.jpg  \r\n",
      "  inflating: hymenoptera_data/train/ants/36439863_0bec9f554f.jpg  \r\n",
      "  inflating: hymenoptera_data/train/ants/374435068_7eee412ec4.jpg  \r\n",
      "  inflating: hymenoptera_data/train/ants/382971067_0bfd33afe0.jpg  \r\n",
      "  inflating: hymenoptera_data/train/ants/384191229_5779cf591b.jpg  \r\n",
      "  inflating: hymenoptera_data/train/ants/386190770_672743c9a7.jpg  \r\n",
      "  inflating: hymenoptera_data/train/ants/392382602_1b7bed32fa.jpg  \r\n",
      "  inflating: hymenoptera_data/train/ants/403746349_71384f5b58.jpg  \r\n",
      "  inflating: hymenoptera_data/train/ants/408393566_b5b694119b.jpg  \r\n",
      "  inflating: hymenoptera_data/train/ants/424119020_6d57481dab.jpg  \r\n",
      "  inflating: hymenoptera_data/train/ants/424873399_47658a91fb.jpg  \r\n",
      "  inflating: hymenoptera_data/train/ants/450057712_771b3bfc91.jpg  \r\n",
      "  inflating: hymenoptera_data/train/ants/45472593_bfd624f8dc.jpg  \r\n",
      "  inflating: hymenoptera_data/train/ants/459694881_ac657d3187.jpg  \r\n",
      "  inflating: hymenoptera_data/train/ants/460372577_f2f6a8c9fc.jpg  \r\n",
      "  inflating: hymenoptera_data/train/ants/460874319_0a45ab4d05.jpg  \r\n",
      "  inflating: hymenoptera_data/train/ants/466430434_4000737de9.jpg  \r\n",
      "  inflating: hymenoptera_data/train/ants/470127037_513711fd21.jpg  \r\n",
      "  inflating: hymenoptera_data/train/ants/474806473_ca6caab245.jpg  \r\n",
      "  inflating: hymenoptera_data/train/ants/475961153_b8c13fd405.jpg  \r\n",
      "  inflating: hymenoptera_data/train/ants/484293231_e53cfc0c89.jpg  \r\n",
      "  inflating: hymenoptera_data/train/ants/49375974_e28ba6f17e.jpg  \r\n",
      "  inflating: hymenoptera_data/train/ants/506249802_207cd979b4.jpg  \r\n",
      "  inflating: hymenoptera_data/train/ants/506249836_717b73f540.jpg  \r\n",
      "  inflating: hymenoptera_data/train/ants/512164029_c0a66b8498.jpg  \r\n",
      "  inflating: hymenoptera_data/train/ants/512863248_43c8ce579b.jpg  \r\n",
      "  inflating: hymenoptera_data/train/ants/518773929_734dbc5ff4.jpg  \r\n",
      "  inflating: hymenoptera_data/train/ants/522163566_fec115ca66.jpg  \r\n",
      "  inflating: hymenoptera_data/train/ants/522415432_2218f34bf8.jpg  \r\n",
      "  inflating: hymenoptera_data/train/ants/531979952_bde12b3bc0.jpg  \r\n",
      "  inflating: hymenoptera_data/train/ants/533848102_70a85ad6dd.jpg  \r\n",
      "  inflating: hymenoptera_data/train/ants/535522953_308353a07c.jpg  \r\n",
      "  inflating: hymenoptera_data/train/ants/540889389_48bb588b21.jpg  \r\n",
      "  inflating: hymenoptera_data/train/ants/541630764_dbd285d63c.jpg  \r\n",
      "  inflating: hymenoptera_data/train/ants/543417860_b14237f569.jpg  \r\n",
      "  inflating: hymenoptera_data/train/ants/560966032_988f4d7bc4.jpg  \r\n",
      "  inflating: hymenoptera_data/train/ants/5650366_e22b7e1065.jpg  \r\n",
      "  inflating: hymenoptera_data/train/ants/6240329_72c01e663e.jpg  \r\n",
      "  inflating: hymenoptera_data/train/ants/6240338_93729615ec.jpg  \r\n",
      "  inflating: hymenoptera_data/train/ants/649026570_e58656104b.jpg  \r\n",
      "  inflating: hymenoptera_data/train/ants/662541407_ff8db781e7.jpg  \r\n",
      "  inflating: hymenoptera_data/train/ants/67270775_e9fdf77e9d.jpg  \r\n",
      "  inflating: hymenoptera_data/train/ants/6743948_2b8c096dda.jpg  \r\n",
      "  inflating: hymenoptera_data/train/ants/684133190_35b62c0c1d.jpg  \r\n",
      "  inflating: hymenoptera_data/train/ants/69639610_95e0de17aa.jpg  \r\n",
      "  inflating: hymenoptera_data/train/ants/707895295_009cf23188.jpg  \r\n",
      "  inflating: hymenoptera_data/train/ants/7759525_1363d24e88.jpg  \r\n",
      "  inflating: hymenoptera_data/train/ants/795000156_a9900a4a71.jpg  \r\n",
      "  inflating: hymenoptera_data/train/ants/822537660_caf4ba5514.jpg  \r\n",
      "  inflating: hymenoptera_data/train/ants/82852639_52b7f7f5e3.jpg  \r\n",
      "  inflating: hymenoptera_data/train/ants/841049277_b28e58ad05.jpg  \r\n",
      "  inflating: hymenoptera_data/train/ants/886401651_f878e888cd.jpg  \r\n",
      "  inflating: hymenoptera_data/train/ants/892108839_f1aad4ca46.jpg  \r\n",
      "  inflating: hymenoptera_data/train/ants/938946700_ca1c669085.jpg  \r\n",
      "  inflating: hymenoptera_data/train/ants/957233405_25c1d1187b.jpg  \r\n",
      "  inflating: hymenoptera_data/train/ants/9715481_b3cb4114ff.jpg  \r\n",
      "  inflating: hymenoptera_data/train/ants/998118368_6ac1d91f81.jpg  \r\n",
      "  inflating: hymenoptera_data/train/ants/ant photos.jpg  \r\n",
      "  inflating: hymenoptera_data/train/ants/Ant_1.jpg  \r\n",
      "  inflating: hymenoptera_data/train/ants/army-ants-red-picture.jpg  \r\n",
      "  inflating: hymenoptera_data/train/ants/formica.jpeg  \r\n",
      "  inflating: hymenoptera_data/train/ants/hormiga_co_por.jpg  \r\n",
      "  inflating: hymenoptera_data/train/ants/imageNotFound.gif  \r\n",
      "  inflating: hymenoptera_data/train/ants/kurokusa.jpg  \r\n",
      "  inflating: hymenoptera_data/train/ants/MehdiabadiAnt2_600.jpg  \r\n",
      "  inflating: hymenoptera_data/train/ants/Nepenthes_rafflesiana_ant.jpg  \r\n",
      "  inflating: hymenoptera_data/train/ants/swiss-army-ant.jpg  \r\n",
      "  inflating: hymenoptera_data/train/ants/termite-vs-ant.jpg  \r\n",
      "  inflating: hymenoptera_data/train/ants/trap-jaw-ant-insect-bg.jpg  \r\n",
      "  inflating: hymenoptera_data/train/ants/VietnameseAntMimicSpider.jpg  \r\n",
      "   creating: hymenoptera_data/train/bees/\r\n",
      "  inflating: hymenoptera_data/train/bees/1092977343_cb42b38d62.jpg  \r\n",
      "  inflating: hymenoptera_data/train/bees/1093831624_fb5fbe2308.jpg  \r\n",
      "  inflating: hymenoptera_data/train/bees/1097045929_1753d1c765.jpg  \r\n",
      "  inflating: hymenoptera_data/train/bees/1232245714_f862fbe385.jpg  \r\n",
      "  inflating: hymenoptera_data/train/bees/129236073_0985e91c7d.jpg  \r\n",
      "  inflating: hymenoptera_data/train/bees/1295655112_7813f37d21.jpg  \r\n",
      "  inflating: hymenoptera_data/train/bees/132511197_0b86ad0fff.jpg  \r\n",
      "  inflating: hymenoptera_data/train/bees/132826773_dbbcb117b9.jpg  \r\n",
      "  inflating: hymenoptera_data/train/bees/150013791_969d9a968b.jpg  \r\n",
      "  inflating: hymenoptera_data/train/bees/1508176360_2972117c9d.jpg  \r\n",
      "  inflating: hymenoptera_data/train/bees/154600396_53e1252e52.jpg  \r\n",
      "  inflating: hymenoptera_data/train/bees/16838648_415acd9e3f.jpg  \r\n",
      "  inflating: hymenoptera_data/train/bees/1691282715_0addfdf5e8.jpg  \r\n",
      "  inflating: hymenoptera_data/train/bees/17209602_fe5a5a746f.jpg  \r\n",
      "  inflating: hymenoptera_data/train/bees/174142798_e5ad6d76e0.jpg  \r\n",
      "  inflating: hymenoptera_data/train/bees/1799726602_8580867f71.jpg  \r\n",
      "  inflating: hymenoptera_data/train/bees/1807583459_4fe92b3133.jpg  \r\n",
      "  inflating: hymenoptera_data/train/bees/196430254_46bd129ae7.jpg  \r\n",
      "  inflating: hymenoptera_data/train/bees/196658222_3fffd79c67.jpg  \r\n",
      "  inflating: hymenoptera_data/train/bees/198508668_97d818b6c4.jpg  \r\n",
      "  inflating: hymenoptera_data/train/bees/2031225713_50ed499635.jpg  \r\n",
      "  inflating: hymenoptera_data/train/bees/2037437624_2d7bce461f.jpg  \r\n",
      "  inflating: hymenoptera_data/train/bees/2053200300_8911ef438a.jpg  \r\n",
      "  inflating: hymenoptera_data/train/bees/205835650_e6f2614bee.jpg  \r\n",
      "  inflating: hymenoptera_data/train/bees/208702903_42fb4d9748.jpg  \r\n",
      "  inflating: hymenoptera_data/train/bees/21399619_3e61e5bb6f.jpg  \r\n",
      "  inflating: hymenoptera_data/train/bees/2227611847_ec72d40403.jpg  \r\n",
      "  inflating: hymenoptera_data/train/bees/2321139806_d73d899e66.jpg  \r\n",
      "  inflating: hymenoptera_data/train/bees/2330918208_8074770c20.jpg  \r\n",
      "  inflating: hymenoptera_data/train/bees/2345177635_caf07159b3.jpg  \r\n",
      "  inflating: hymenoptera_data/train/bees/2358061370_9daabbd9ac.jpg  \r\n",
      "  inflating: hymenoptera_data/train/bees/2364597044_3c3e3fc391.jpg  \r\n",
      "  inflating: hymenoptera_data/train/bees/2384149906_2cd8b0b699.jpg  \r\n",
      "  inflating: hymenoptera_data/train/bees/2397446847_04ef3cd3e1.jpg  \r\n",
      "  inflating: hymenoptera_data/train/bees/2405441001_b06c36fa72.jpg  \r\n",
      "  inflating: hymenoptera_data/train/bees/2445215254_51698ff797.jpg  \r\n",
      "  inflating: hymenoptera_data/train/bees/2452236943_255bfd9e58.jpg  \r\n",
      "  inflating: hymenoptera_data/train/bees/2467959963_a7831e9ff0.jpg  \r\n",
      "  inflating: hymenoptera_data/train/bees/2470492904_837e97800d.jpg  \r\n",
      "  inflating: hymenoptera_data/train/bees/2477324698_3d4b1b1cab.jpg  \r\n",
      "  inflating: hymenoptera_data/train/bees/2477349551_e75c97cf4d.jpg  \r\n",
      "  inflating: hymenoptera_data/train/bees/2486729079_62df0920be.jpg  \r\n",
      "  inflating: hymenoptera_data/train/bees/2486746709_c43cec0e42.jpg  \r\n",
      "  inflating: hymenoptera_data/train/bees/2493379287_4100e1dacc.jpg  \r\n",
      "  inflating: hymenoptera_data/train/bees/2495722465_879acf9d85.jpg  \r\n",
      "  inflating: hymenoptera_data/train/bees/2528444139_fa728b0f5b.jpg  \r\n",
      "  inflating: hymenoptera_data/train/bees/2538361678_9da84b77e3.jpg  \r\n",
      "  inflating: hymenoptera_data/train/bees/2551813042_8a070aeb2b.jpg  \r\n",
      "  inflating: hymenoptera_data/train/bees/2580598377_a4caecdb54.jpg  \r\n",
      "  inflating: hymenoptera_data/train/bees/2601176055_8464e6aa71.jpg  \r\n",
      "  inflating: hymenoptera_data/train/bees/2610833167_79bf0bcae5.jpg  \r\n",
      "  inflating: hymenoptera_data/train/bees/2610838525_fe8e3cae47.jpg  \r\n",
      "  inflating: hymenoptera_data/train/bees/2617161745_fa3ebe85b4.jpg  \r\n",
      "  inflating: hymenoptera_data/train/bees/2625499656_e3415e374d.jpg  \r\n",
      "  inflating: hymenoptera_data/train/bees/2634617358_f32fd16bea.jpg  \r\n",
      "  inflating: hymenoptera_data/train/bees/2638074627_6b3ae746a0.jpg  \r\n",
      "  inflating: hymenoptera_data/train/bees/2645107662_b73a8595cc.jpg  \r\n",
      "  inflating: hymenoptera_data/train/bees/2651621464_a2fa8722eb.jpg  \r\n",
      "  inflating: hymenoptera_data/train/bees/2652877533_a564830cbf.jpg  \r\n",
      "  inflating: hymenoptera_data/train/bees/266644509_d30bb16a1b.jpg  \r\n",
      "  inflating: hymenoptera_data/train/bees/2683605182_9d2a0c66cf.jpg  \r\n",
      "  inflating: hymenoptera_data/train/bees/2704348794_eb5d5178c2.jpg  \r\n",
      "  inflating: hymenoptera_data/train/bees/2707440199_cd170bd512.jpg  \r\n",
      "  inflating: hymenoptera_data/train/bees/2710368626_cb42882dc8.jpg  \r\n",
      "  inflating: hymenoptera_data/train/bees/2722592222_258d473e17.jpg  \r\n",
      "  inflating: hymenoptera_data/train/bees/2728759455_ce9bb8cd7a.jpg  \r\n",
      "  inflating: hymenoptera_data/train/bees/2756397428_1d82a08807.jpg  \r\n",
      "  inflating: hymenoptera_data/train/bees/2765347790_da6cf6cb40.jpg  \r\n",
      "  inflating: hymenoptera_data/train/bees/2781170484_5d61835d63.jpg  \r\n",
      "  inflating: hymenoptera_data/train/bees/279113587_b4843db199.jpg  \r\n",
      "  inflating: hymenoptera_data/train/bees/2792000093_e8ae0718cf.jpg  \r\n",
      "  inflating: hymenoptera_data/train/bees/2801728106_833798c909.jpg  \r\n",
      "  inflating: hymenoptera_data/train/bees/2822388965_f6dca2a275.jpg  \r\n",
      "  inflating: hymenoptera_data/train/bees/2861002136_52c7c6f708.jpg  \r\n",
      "  inflating: hymenoptera_data/train/bees/2908916142_a7ac8b57a8.jpg  \r\n",
      "  inflating: hymenoptera_data/train/bees/29494643_e3410f0d37.jpg  \r\n",
      "  inflating: hymenoptera_data/train/bees/2959730355_416a18c63c.jpg  \r\n",
      "  inflating: hymenoptera_data/train/bees/2962405283_22718d9617.jpg  \r\n",
      "  inflating: hymenoptera_data/train/bees/3006264892_30e9cced70.jpg  \r\n",
      "  inflating: hymenoptera_data/train/bees/3030189811_01d095b793.jpg  \r\n",
      "  inflating: hymenoptera_data/train/bees/3030772428_8578335616.jpg  \r\n",
      "  inflating: hymenoptera_data/train/bees/3044402684_3853071a87.jpg  \r\n",
      "  inflating: hymenoptera_data/train/bees/3074585407_9854eb3153.jpg  \r\n",
      "  inflating: hymenoptera_data/train/bees/3079610310_ac2d0ae7bc.jpg  \r\n",
      "  inflating: hymenoptera_data/train/bees/3090975720_71f12e6de4.jpg  \r\n",
      "  inflating: hymenoptera_data/train/bees/3100226504_c0d4f1e3f1.jpg  \r\n",
      "  inflating: hymenoptera_data/train/bees/342758693_c56b89b6b6.jpg  \r\n",
      "  inflating: hymenoptera_data/train/bees/354167719_22dca13752.jpg  \r\n",
      "  inflating: hymenoptera_data/train/bees/359928878_b3b418c728.jpg  \r\n",
      "  inflating: hymenoptera_data/train/bees/365759866_b15700c59b.jpg  \r\n",
      "  inflating: hymenoptera_data/train/bees/36900412_92b81831ad.jpg  \r\n",
      "  inflating: hymenoptera_data/train/bees/39672681_1302d204d1.jpg  \r\n",
      "  inflating: hymenoptera_data/train/bees/39747887_42df2855ee.jpg  \r\n",
      "  inflating: hymenoptera_data/train/bees/421515404_e87569fd8b.jpg  \r\n",
      "  inflating: hymenoptera_data/train/bees/444532809_9e931e2279.jpg  \r\n",
      "  inflating: hymenoptera_data/train/bees/446296270_d9e8b93ecf.jpg  \r\n",
      "  inflating: hymenoptera_data/train/bees/452462677_7be43af8ff.jpg  \r\n",
      "  inflating: hymenoptera_data/train/bees/452462695_40a4e5b559.jpg  \r\n",
      "  inflating: hymenoptera_data/train/bees/457457145_5f86eb7e9c.jpg  \r\n",
      "  inflating: hymenoptera_data/train/bees/465133211_80e0c27f60.jpg  \r\n",
      "  inflating: hymenoptera_data/train/bees/469333327_358ba8fe8a.jpg  \r\n",
      "  inflating: hymenoptera_data/train/bees/472288710_2abee16fa0.jpg  \r\n",
      "  inflating: hymenoptera_data/train/bees/473618094_8ffdcab215.jpg  \r\n",
      "  inflating: hymenoptera_data/train/bees/476347960_52edd72b06.jpg  \r\n",
      "  inflating: hymenoptera_data/train/bees/478701318_bbd5e557b8.jpg  \r\n",
      "  inflating: hymenoptera_data/train/bees/507288830_f46e8d4cb2.jpg  \r\n",
      "  inflating: hymenoptera_data/train/bees/509247772_2db2d01374.jpg  \r\n",
      "  inflating: hymenoptera_data/train/bees/513545352_fd3e7c7c5d.jpg  \r\n",
      "  inflating: hymenoptera_data/train/bees/522104315_5d3cb2758e.jpg  \r\n",
      "  inflating: hymenoptera_data/train/bees/537309131_532bfa59ea.jpg  \r\n",
      "  inflating: hymenoptera_data/train/bees/586041248_3032e277a9.jpg  \r\n",
      "  inflating: hymenoptera_data/train/bees/760526046_547e8b381f.jpg  \r\n",
      "  inflating: hymenoptera_data/train/bees/760568592_45a52c847f.jpg  \r\n",
      "  inflating: hymenoptera_data/train/bees/774440991_63a4aa0cbe.jpg  \r\n",
      "  inflating: hymenoptera_data/train/bees/85112639_6e860b0469.jpg  \r\n",
      "  inflating: hymenoptera_data/train/bees/873076652_eb098dab2d.jpg  \r\n",
      "  inflating: hymenoptera_data/train/bees/90179376_abc234e5f4.jpg  \r\n",
      "  inflating: hymenoptera_data/train/bees/92663402_37f379e57a.jpg  \r\n",
      "  inflating: hymenoptera_data/train/bees/95238259_98470c5b10.jpg  \r\n",
      "  inflating: hymenoptera_data/train/bees/969455125_58c797ef17.jpg  \r\n",
      "  inflating: hymenoptera_data/train/bees/98391118_bdb1e80cce.jpg  \r\n",
      "   creating: hymenoptera_data/val/\r\n",
      "   creating: hymenoptera_data/val/ants/\r\n",
      "  inflating: hymenoptera_data/val/ants/10308379_1b6c72e180.jpg  \r\n",
      "  inflating: hymenoptera_data/val/ants/1053149811_f62a3410d3.jpg  \r\n",
      "  inflating: hymenoptera_data/val/ants/1073564163_225a64f170.jpg  \r\n",
      "  inflating: hymenoptera_data/val/ants/1119630822_cd325ea21a.jpg  \r\n",
      "  inflating: hymenoptera_data/val/ants/1124525276_816a07c17f.jpg  \r\n",
      "  inflating: hymenoptera_data/val/ants/11381045_b352a47d8c.jpg  \r\n",
      "  inflating: hymenoptera_data/val/ants/119785936_dd428e40c3.jpg  \r\n",
      "  inflating: hymenoptera_data/val/ants/1247887232_edcb61246c.jpg  \r\n",
      "  inflating: hymenoptera_data/val/ants/1262751255_c56c042b7b.jpg  \r\n",
      "  inflating: hymenoptera_data/val/ants/1337725712_2eb53cd742.jpg  \r\n",
      "  inflating: hymenoptera_data/val/ants/1358854066_5ad8015f7f.jpg  \r\n",
      "  inflating: hymenoptera_data/val/ants/1440002809_b268d9a66a.jpg  \r\n",
      "  inflating: hymenoptera_data/val/ants/147542264_79506478c2.jpg  \r\n",
      "  inflating: hymenoptera_data/val/ants/152286280_411648ec27.jpg  \r\n",
      "  inflating: hymenoptera_data/val/ants/153320619_2aeb5fa0ee.jpg  \r\n",
      "  inflating: hymenoptera_data/val/ants/153783656_85f9c3ac70.jpg  \r\n",
      "  inflating: hymenoptera_data/val/ants/157401988_d0564a9d02.jpg  \r\n",
      "  inflating: hymenoptera_data/val/ants/159515240_d5981e20d1.jpg  \r\n",
      "  inflating: hymenoptera_data/val/ants/161076144_124db762d6.jpg  \r\n",
      "  inflating: hymenoptera_data/val/ants/161292361_c16e0bf57a.jpg  \r\n",
      "  inflating: hymenoptera_data/val/ants/170652283_ecdaff5d1a.jpg  \r\n",
      "  inflating: hymenoptera_data/val/ants/17081114_79b9a27724.jpg  \r\n",
      "  inflating: hymenoptera_data/val/ants/172772109_d0a8e15fb0.jpg  \r\n",
      "  inflating: hymenoptera_data/val/ants/1743840368_b5ccda82b7.jpg  \r\n",
      "  inflating: hymenoptera_data/val/ants/181942028_961261ef48.jpg  \r\n",
      "  inflating: hymenoptera_data/val/ants/183260961_64ab754c97.jpg  \r\n",
      "  inflating: hymenoptera_data/val/ants/2039585088_c6f47c592e.jpg  \r\n",
      "  inflating: hymenoptera_data/val/ants/205398178_c395c5e460.jpg  \r\n",
      "  inflating: hymenoptera_data/val/ants/208072188_f293096296.jpg  \r\n",
      "  inflating: hymenoptera_data/val/ants/209615353_eeb38ba204.jpg  \r\n",
      "  inflating: hymenoptera_data/val/ants/2104709400_8831b4fc6f.jpg  \r\n",
      "  inflating: hymenoptera_data/val/ants/212100470_b485e7b7b9.jpg  \r\n",
      "  inflating: hymenoptera_data/val/ants/2127908701_d49dc83c97.jpg  \r\n",
      "  inflating: hymenoptera_data/val/ants/2191997003_379df31291.jpg  \r\n",
      "  inflating: hymenoptera_data/val/ants/2211974567_ee4606b493.jpg  \r\n",
      "  inflating: hymenoptera_data/val/ants/2219621907_47bc7cc6b0.jpg  \r\n",
      "  inflating: hymenoptera_data/val/ants/2238242353_52c82441df.jpg  \r\n",
      "  inflating: hymenoptera_data/val/ants/2255445811_dabcdf7258.jpg  \r\n",
      "  inflating: hymenoptera_data/val/ants/239161491_86ac23b0a3.jpg  \r\n",
      "  inflating: hymenoptera_data/val/ants/263615709_cfb28f6b8e.jpg  \r\n",
      "  inflating: hymenoptera_data/val/ants/308196310_1db5ffa01b.jpg  \r\n",
      "  inflating: hymenoptera_data/val/ants/319494379_648fb5a1c6.jpg  \r\n",
      "  inflating: hymenoptera_data/val/ants/35558229_1fa4608a7a.jpg  \r\n",
      "  inflating: hymenoptera_data/val/ants/412436937_4c2378efc2.jpg  \r\n",
      "  inflating: hymenoptera_data/val/ants/436944325_d4925a38c7.jpg  \r\n",
      "  inflating: hymenoptera_data/val/ants/445356866_6cb3289067.jpg  \r\n",
      "  inflating: hymenoptera_data/val/ants/459442412_412fecf3fe.jpg  \r\n",
      "  inflating: hymenoptera_data/val/ants/470127071_8b8ee2bd74.jpg  \r\n",
      "  inflating: hymenoptera_data/val/ants/477437164_bc3e6e594a.jpg  \r\n",
      "  inflating: hymenoptera_data/val/ants/488272201_c5aa281348.jpg  \r\n",
      "  inflating: hymenoptera_data/val/ants/502717153_3e4865621a.jpg  \r\n",
      "  inflating: hymenoptera_data/val/ants/518746016_bcc28f8b5b.jpg  \r\n",
      "  inflating: hymenoptera_data/val/ants/540543309_ddbb193ee5.jpg  \r\n",
      "  inflating: hymenoptera_data/val/ants/562589509_7e55469b97.jpg  \r\n",
      "  inflating: hymenoptera_data/val/ants/57264437_a19006872f.jpg  \r\n",
      "  inflating: hymenoptera_data/val/ants/573151833_ebbc274b77.jpg  \r\n",
      "  inflating: hymenoptera_data/val/ants/649407494_9b6bc4949f.jpg  \r\n",
      "  inflating: hymenoptera_data/val/ants/751649788_78dd7d16ce.jpg  \r\n",
      "  inflating: hymenoptera_data/val/ants/768870506_8f115d3d37.jpg  \r\n",
      "  inflating: hymenoptera_data/val/ants/800px-Meat_eater_ant_qeen_excavating_hole.jpg  \r\n",
      "  inflating: hymenoptera_data/val/ants/8124241_36b290d372.jpg  \r\n",
      "  inflating: hymenoptera_data/val/ants/8398478_50ef10c47a.jpg  \r\n",
      "  inflating: hymenoptera_data/val/ants/854534770_31f6156383.jpg  \r\n",
      "  inflating: hymenoptera_data/val/ants/892676922_4ab37dce07.jpg  \r\n",
      "  inflating: hymenoptera_data/val/ants/94999827_36895faade.jpg  \r\n",
      "  inflating: hymenoptera_data/val/ants/Ant-1818.jpg  \r\n",
      "  inflating: hymenoptera_data/val/ants/ants-devouring-remains-of-large-dead-insect-on-red-tile-in-Stellenbosch-South-Africa-closeup-1-DHD.jpg  \r\n",
      "  inflating: hymenoptera_data/val/ants/desert_ant.jpg  \r\n",
      "  inflating: hymenoptera_data/val/ants/F.pergan.28(f).jpg  \r\n",
      "  inflating: hymenoptera_data/val/ants/Hormiga.jpg  \r\n",
      "   creating: hymenoptera_data/val/bees/\r\n",
      "  inflating: hymenoptera_data/val/bees/1032546534_06907fe3b3.jpg  \r\n",
      "  inflating: hymenoptera_data/val/bees/10870992_eebeeb3a12.jpg  \r\n",
      "  inflating: hymenoptera_data/val/bees/1181173278_23c36fac71.jpg  \r\n",
      "  inflating: hymenoptera_data/val/bees/1297972485_33266a18d9.jpg  \r\n",
      "  inflating: hymenoptera_data/val/bees/1328423762_f7a88a8451.jpg  \r\n",
      "  inflating: hymenoptera_data/val/bees/1355974687_1341c1face.jpg  \r\n",
      "  inflating: hymenoptera_data/val/bees/144098310_a4176fd54d.jpg  \r\n",
      "  inflating: hymenoptera_data/val/bees/1486120850_490388f84b.jpg  \r\n",
      "  inflating: hymenoptera_data/val/bees/149973093_da3c446268.jpg  \r\n",
      "  inflating: hymenoptera_data/val/bees/151594775_ee7dc17b60.jpg  \r\n",
      "  inflating: hymenoptera_data/val/bees/151603988_2c6f7d14c7.jpg  \r\n",
      "  inflating: hymenoptera_data/val/bees/1519368889_4270261ee3.jpg  \r\n",
      "  inflating: hymenoptera_data/val/bees/152789693_220b003452.jpg  \r\n",
      "  inflating: hymenoptera_data/val/bees/177677657_a38c97e572.jpg  \r\n",
      "  inflating: hymenoptera_data/val/bees/1799729694_0c40101071.jpg  \r\n",
      "  inflating: hymenoptera_data/val/bees/181171681_c5a1a82ded.jpg  \r\n",
      "  inflating: hymenoptera_data/val/bees/187130242_4593a4c610.jpg  \r\n",
      "  inflating: hymenoptera_data/val/bees/203868383_0fcbb48278.jpg  \r\n",
      "  inflating: hymenoptera_data/val/bees/2060668999_e11edb10d0.jpg  \r\n",
      "  inflating: hymenoptera_data/val/bees/2086294791_6f3789d8a6.jpg  \r\n",
      "  inflating: hymenoptera_data/val/bees/2103637821_8d26ee6b90.jpg  \r\n",
      "  inflating: hymenoptera_data/val/bees/2104135106_a65eede1de.jpg  \r\n",
      "  inflating: hymenoptera_data/val/bees/215512424_687e1e0821.jpg  \r\n",
      "  inflating: hymenoptera_data/val/bees/2173503984_9c6aaaa7e2.jpg  \r\n",
      "  inflating: hymenoptera_data/val/bees/220376539_20567395d8.jpg  \r\n",
      "  inflating: hymenoptera_data/val/bees/224841383_d050f5f510.jpg  \r\n",
      "  inflating: hymenoptera_data/val/bees/2321144482_f3785ba7b2.jpg  \r\n",
      "  inflating: hymenoptera_data/val/bees/238161922_55fa9a76ae.jpg  \r\n",
      "  inflating: hymenoptera_data/val/bees/2407809945_fb525ef54d.jpg  \r\n",
      "  inflating: hymenoptera_data/val/bees/2415414155_1916f03b42.jpg  \r\n",
      "  inflating: hymenoptera_data/val/bees/2438480600_40a1249879.jpg  \r\n",
      "  inflating: hymenoptera_data/val/bees/2444778727_4b781ac424.jpg  \r\n",
      "  inflating: hymenoptera_data/val/bees/2457841282_7867f16639.jpg  \r\n",
      "  inflating: hymenoptera_data/val/bees/2470492902_3572c90f75.jpg  \r\n",
      "  inflating: hymenoptera_data/val/bees/2478216347_535c8fe6d7.jpg  \r\n",
      "  inflating: hymenoptera_data/val/bees/2501530886_e20952b97d.jpg  \r\n",
      "  inflating: hymenoptera_data/val/bees/2506114833_90a41c5267.jpg  \r\n",
      "  inflating: hymenoptera_data/val/bees/2509402554_31821cb0b6.jpg  \r\n",
      "  inflating: hymenoptera_data/val/bees/2525379273_dcb26a516d.jpg  \r\n",
      "  inflating: hymenoptera_data/val/bees/26589803_5ba7000313.jpg  \r\n",
      "  inflating: hymenoptera_data/val/bees/2668391343_45e272cd07.jpg  \r\n",
      "  inflating: hymenoptera_data/val/bees/2670536155_c170f49cd0.jpg  \r\n",
      "  inflating: hymenoptera_data/val/bees/2685605303_9eed79d59d.jpg  \r\n",
      "  inflating: hymenoptera_data/val/bees/2702408468_d9ed795f4f.jpg  \r\n",
      "  inflating: hymenoptera_data/val/bees/2709775832_85b4b50a57.jpg  \r\n",
      "  inflating: hymenoptera_data/val/bees/2717418782_bd83307d9f.jpg  \r\n",
      "  inflating: hymenoptera_data/val/bees/272986700_d4d4bf8c4b.jpg  \r\n",
      "  inflating: hymenoptera_data/val/bees/2741763055_9a7bb00802.jpg  \r\n",
      "  inflating: hymenoptera_data/val/bees/2745389517_250a397f31.jpg  \r\n",
      "  inflating: hymenoptera_data/val/bees/2751836205_6f7b5eff30.jpg  \r\n",
      "  inflating: hymenoptera_data/val/bees/2782079948_8d4e94a826.jpg  \r\n",
      "  inflating: hymenoptera_data/val/bees/2809496124_5f25b5946a.jpg  \r\n",
      "  inflating: hymenoptera_data/val/bees/2815838190_0a9889d995.jpg  \r\n",
      "  inflating: hymenoptera_data/val/bees/2841437312_789699c740.jpg  \r\n",
      "  inflating: hymenoptera_data/val/bees/2883093452_7e3a1eb53f.jpg  \r\n",
      "  inflating: hymenoptera_data/val/bees/290082189_f66cb80bfc.jpg  \r\n",
      "  inflating: hymenoptera_data/val/bees/296565463_d07a7bed96.jpg  \r\n",
      "  inflating: hymenoptera_data/val/bees/3077452620_548c79fda0.jpg  \r\n",
      "  inflating: hymenoptera_data/val/bees/348291597_ee836fbb1a.jpg  \r\n",
      "  inflating: hymenoptera_data/val/bees/350436573_41f4ecb6c8.jpg  \r\n",
      "  inflating: hymenoptera_data/val/bees/353266603_d3eac7e9a0.jpg  \r\n",
      "  inflating: hymenoptera_data/val/bees/372228424_16da1f8884.jpg  \r\n",
      "  inflating: hymenoptera_data/val/bees/400262091_701c00031c.jpg  \r\n",
      "  inflating: hymenoptera_data/val/bees/416144384_961c326481.jpg  \r\n",
      "  inflating: hymenoptera_data/val/bees/44105569_16720a960c.jpg  \r\n",
      "  inflating: hymenoptera_data/val/bees/456097971_860949c4fc.jpg  \r\n",
      "  inflating: hymenoptera_data/val/bees/464594019_1b24a28bb1.jpg  \r\n",
      "  inflating: hymenoptera_data/val/bees/485743562_d8cc6b8f73.jpg  \r\n",
      "  inflating: hymenoptera_data/val/bees/540976476_844950623f.jpg  \r\n",
      "  inflating: hymenoptera_data/val/bees/54736755_c057723f64.jpg  \r\n",
      "  inflating: hymenoptera_data/val/bees/57459255_752774f1b2.jpg  \r\n",
      "  inflating: hymenoptera_data/val/bees/576452297_897023f002.jpg  \r\n",
      "  inflating: hymenoptera_data/val/bees/586474709_ae436da045.jpg  \r\n",
      "  inflating: hymenoptera_data/val/bees/590318879_68cf112861.jpg  \r\n",
      "  inflating: hymenoptera_data/val/bees/59798110_2b6a3c8031.jpg  \r\n",
      "  inflating: hymenoptera_data/val/bees/603709866_a97c7cfc72.jpg  \r\n",
      "  inflating: hymenoptera_data/val/bees/603711658_4c8cd2201e.jpg  \r\n",
      "  inflating: hymenoptera_data/val/bees/65038344_52a45d090d.jpg  \r\n",
      "  inflating: hymenoptera_data/val/bees/6a00d8341c630a53ef00e553d0beb18834-800wi.jpg  \r\n",
      "  inflating: hymenoptera_data/val/bees/72100438_73de9f17af.jpg  \r\n",
      "  inflating: hymenoptera_data/val/bees/759745145_e8bc776ec8.jpg  \r\n",
      "  inflating: hymenoptera_data/val/bees/936182217_c4caa5222d.jpg  \r\n",
      "  inflating: hymenoptera_data/val/bees/abeja.jpg  \r\n"
     ]
    }
   ],
   "source": [
    "!unzip /kaggle/working/hymenoptera_data.zip"
   ]
  },
  {
   "cell_type": "code",
   "execution_count": 71,
   "id": "5f1221ea",
   "metadata": {
    "execution": {
     "iopub.execute_input": "2024-12-21T13:46:56.355340Z",
     "iopub.status.busy": "2024-12-21T13:46:56.355018Z",
     "iopub.status.idle": "2024-12-21T13:46:56.358333Z",
     "shell.execute_reply": "2024-12-21T13:46:56.357616Z"
    },
    "papermill": {
     "duration": 0.066938,
     "end_time": "2024-12-21T13:46:56.359623",
     "exception": false,
     "start_time": "2024-12-21T13:46:56.292685",
     "status": "completed"
    },
    "tags": []
   },
   "outputs": [],
   "source": [
    "# should have following file format\n",
    "# data\n",
    "# |-> train\n",
    "# |     |->ants\n",
    "# |     |->bees\n",
    "# |->val\n",
    "#     |->ants\n",
    "#     |->bees"
   ]
  },
  {
   "cell_type": "code",
   "execution_count": 72,
   "id": "ce91bc1d",
   "metadata": {
    "execution": {
     "iopub.execute_input": "2024-12-21T13:46:56.483502Z",
     "iopub.status.busy": "2024-12-21T13:46:56.483165Z",
     "iopub.status.idle": "2024-12-21T13:46:56.487333Z",
     "shell.execute_reply": "2024-12-21T13:46:56.486380Z"
    },
    "papermill": {
     "duration": 0.068435,
     "end_time": "2024-12-21T13:46:56.488674",
     "exception": false,
     "start_time": "2024-12-21T13:46:56.420239",
     "status": "completed"
    },
    "tags": []
   },
   "outputs": [],
   "source": [
    "# cuda:0 selects which GPU to use\n",
    "device = torch.device(\"cuda:0\" if torch.cuda.is_available() else \"cpu\")"
   ]
  },
  {
   "cell_type": "code",
   "execution_count": 73,
   "id": "d0822926",
   "metadata": {
    "execution": {
     "iopub.execute_input": "2024-12-21T13:46:56.613444Z",
     "iopub.status.busy": "2024-12-21T13:46:56.613109Z",
     "iopub.status.idle": "2024-12-21T13:46:56.622815Z",
     "shell.execute_reply": "2024-12-21T13:46:56.622043Z"
    },
    "papermill": {
     "duration": 0.074526,
     "end_time": "2024-12-21T13:46:56.624203",
     "exception": false,
     "start_time": "2024-12-21T13:46:56.549677",
     "status": "completed"
    },
    "tags": []
   },
   "outputs": [],
   "source": [
    "data_dir = \"/kaggle/working/hymenoptera_data\"\n",
    "sets = [\"train\", \"val\"]\n",
    "\n",
    "mean = np.array([0.5, 0.5, 0.5])\n",
    "std = np.array([0.25, 0.25, 0.25])\n",
    "\n",
    "data_transforms = {\n",
    "    'train': transforms.Compose([\n",
    "        transforms.RandomResizedCrop(224),\n",
    "        transforms.RandomHorizontalFlip(),\n",
    "        transforms.ToTensor(),\n",
    "        transforms.Normalize(mean, std)\n",
    "    ]),\n",
    "    'val': transforms.Compose([\n",
    "        transforms.Resize(256),\n",
    "        transforms.CenterCrop(224),\n",
    "        transforms.ToTensor(),\n",
    "        transforms.Normalize(mean, std)\n",
    "    ]),\n",
    "}\n",
    "\n",
    "image_datasets = {x: datasets.ImageFolder(os.path.join(data_dir, x), data_transforms[x])\n",
    "                 for x in sets}\n",
    "dataloaders = {x: torch.utils.data.DataLoader(image_datasets[x], batch_size=4,\n",
    "                                             shuffle=True, num_workers=0)\n",
    "              for x in ['train', 'val']}\n",
    "dataset_sizes = {x: len(image_datasets[x]) for x in ['train', 'val']}"
   ]
  },
  {
   "cell_type": "code",
   "execution_count": 74,
   "id": "9a130a4c",
   "metadata": {
    "execution": {
     "iopub.execute_input": "2024-12-21T13:46:56.746775Z",
     "iopub.status.busy": "2024-12-21T13:46:56.746463Z",
     "iopub.status.idle": "2024-12-21T13:46:56.755747Z",
     "shell.execute_reply": "2024-12-21T13:46:56.754970Z"
    },
    "papermill": {
     "duration": 0.071927,
     "end_time": "2024-12-21T13:46:56.757125",
     "exception": false,
     "start_time": "2024-12-21T13:46:56.685198",
     "status": "completed"
    },
    "tags": []
   },
   "outputs": [
    {
     "name": "stdout",
     "output_type": "stream",
     "text": [
      "['ants', 'bees']\n"
     ]
    }
   ],
   "source": [
    "class_names = image_datasets[\"train\"].classes\n",
    "print(class_names)\n",
    "\n",
    "def train_model(model, criterion, optimizer, scheduler, num_epochs=25):\n",
    "    since = time.time()\n",
    "\n",
    "    best_model_wts = copy.deepcopy(model.state_dict())\n",
    "    best_acc = 0.0\n",
    "\n",
    "    for epoch in range(num_epochs):\n",
    "        print('Epoch {}/{}'.format(epoch, num_epochs - 1))\n",
    "        print('-' * 10)\n",
    "\n",
    "        # Each epoch has a training and validation phase\n",
    "        for phase in ['train', 'val']:\n",
    "            if phase == 'train':\n",
    "                model.train()  # Set model to training mode\n",
    "            else:\n",
    "                model.eval()   # Set model to evaluate mode\n",
    "\n",
    "            running_loss = 0.0\n",
    "            running_corrects = 0\n",
    "\n",
    "            # Iterate over data.\n",
    "            for inputs, labels in dataloaders[phase]:\n",
    "                inputs = inputs.to(device)\n",
    "                labels = labels.to(device)\n",
    "\n",
    "                # forward\n",
    "                # track history if only in train\n",
    "                with torch.set_grad_enabled(phase == 'train'):\n",
    "                    outputs = model(inputs)\n",
    "                    _, preds = torch.max(outputs, 1)\n",
    "                    loss = criterion(outputs, labels)\n",
    "\n",
    "                    # backward + optimize only if in training phase\n",
    "                    if phase == 'train':\n",
    "                        optimizer.zero_grad()\n",
    "                        loss.backward()\n",
    "                        optimizer.step()\n",
    "\n",
    "                # statistics\n",
    "                running_loss += loss.item() * inputs.size(0)\n",
    "                running_corrects += torch.sum(preds == labels.data)\n",
    "\n",
    "            if phase == 'train':\n",
    "                scheduler.step()\n",
    "\n",
    "            epoch_loss = running_loss / dataset_sizes[phase]\n",
    "            epoch_acc = running_corrects.double() / dataset_sizes[phase]\n",
    "\n",
    "            print('{} Loss: {:.4f} Acc: {:.4f}'.format(\n",
    "                phase, epoch_loss, epoch_acc))\n",
    "\n",
    "            # deep copy the model\n",
    "            if phase == 'val' and epoch_acc > best_acc:\n",
    "                best_acc = epoch_acc\n",
    "                best_model_wts = copy.deepcopy(model.state_dict())\n",
    "\n",
    "        print()\n",
    "\n",
    "    time_elapsed = time.time() - since\n",
    "    print('Training complete in {:.0f}m {:.0f}s'.format(\n",
    "        time_elapsed // 60, time_elapsed % 60))\n",
    "    print('Best val Acc: {:4f}'.format(best_acc))\n",
    "\n",
    "    # load best model weights\n",
    "    model.load_state_dict(best_model_wts)\n",
    "    return model"
   ]
  },
  {
   "cell_type": "code",
   "execution_count": 75,
   "id": "bc0c32bf",
   "metadata": {
    "execution": {
     "iopub.execute_input": "2024-12-21T13:46:56.878721Z",
     "iopub.status.busy": "2024-12-21T13:46:56.878400Z",
     "iopub.status.idle": "2024-12-21T13:46:57.367600Z",
     "shell.execute_reply": "2024-12-21T13:46:57.366385Z"
    },
    "papermill": {
     "duration": 0.550962,
     "end_time": "2024-12-21T13:46:57.369047",
     "exception": false,
     "start_time": "2024-12-21T13:46:56.818085",
     "status": "completed"
    },
    "tags": []
   },
   "outputs": [
    {
     "name": "stderr",
     "output_type": "stream",
     "text": [
      "/usr/local/lib/python3.10/dist-packages/torchvision/models/_utils.py:208: UserWarning: The parameter 'pretrained' is deprecated since 0.13 and may be removed in the future, please use 'weights' instead.\n",
      "  warnings.warn(\n",
      "/usr/local/lib/python3.10/dist-packages/torchvision/models/_utils.py:223: UserWarning: Arguments other than a weight enum or `None` for 'weights' are deprecated since 0.13 and may be removed in the future. The current behavior is equivalent to passing `weights=ResNet18_Weights.IMAGENET1K_V1`. You can also use `weights=ResNet18_Weights.DEFAULT` to get the most up-to-date weights.\n",
      "  warnings.warn(msg)\n",
      "Downloading: \"https://download.pytorch.org/models/resnet18-f37072fd.pth\" to /root/.cache/torch/hub/checkpoints/resnet18-f37072fd.pth\n",
      "100%|██████████| 44.7M/44.7M [00:00<00:00, 206MB/s]\n"
     ]
    }
   ],
   "source": [
    "# get pretrained model\n",
    "model = models.resnet18(pretrained=True)"
   ]
  },
  {
   "cell_type": "code",
   "execution_count": 76,
   "id": "fb4093ff",
   "metadata": {
    "execution": {
     "iopub.execute_input": "2024-12-21T13:46:57.493386Z",
     "iopub.status.busy": "2024-12-21T13:46:57.493069Z",
     "iopub.status.idle": "2024-12-21T13:47:55.899107Z",
     "shell.execute_reply": "2024-12-21T13:47:55.898112Z"
    },
    "papermill": {
     "duration": 58.468915,
     "end_time": "2024-12-21T13:47:55.900560",
     "exception": false,
     "start_time": "2024-12-21T13:46:57.431645",
     "status": "completed"
    },
    "tags": []
   },
   "outputs": [
    {
     "name": "stdout",
     "output_type": "stream",
     "text": [
      "Epoch 0/19\n",
      "----------\n",
      "train Loss: 0.6223 Acc: 0.6721\n",
      "val Loss: 0.4993 Acc: 0.7451\n",
      "\n",
      "Epoch 1/19\n",
      "----------\n",
      "train Loss: 0.4681 Acc: 0.8197\n",
      "val Loss: 0.4028 Acc: 0.8562\n",
      "\n",
      "Epoch 2/19\n",
      "----------\n",
      "train Loss: 0.4675 Acc: 0.7869\n",
      "val Loss: 0.3469 Acc: 0.8824\n",
      "\n",
      "Epoch 3/19\n",
      "----------\n",
      "train Loss: 0.4014 Acc: 0.8320\n",
      "val Loss: 0.2542 Acc: 0.9346\n",
      "\n",
      "Epoch 4/19\n",
      "----------\n",
      "train Loss: 0.3846 Acc: 0.8320\n",
      "val Loss: 0.2422 Acc: 0.9150\n",
      "\n",
      "Epoch 5/19\n",
      "----------\n",
      "train Loss: 0.4019 Acc: 0.8033\n",
      "val Loss: 0.2197 Acc: 0.9346\n",
      "\n",
      "Epoch 6/19\n",
      "----------\n",
      "train Loss: 0.3770 Acc: 0.8607\n",
      "val Loss: 0.2185 Acc: 0.9346\n",
      "\n",
      "Epoch 7/19\n",
      "----------\n",
      "train Loss: 0.3685 Acc: 0.8484\n",
      "val Loss: 0.2350 Acc: 0.9216\n",
      "\n",
      "Epoch 8/19\n",
      "----------\n",
      "train Loss: 0.3687 Acc: 0.8033\n",
      "val Loss: 0.2263 Acc: 0.9281\n",
      "\n",
      "Epoch 9/19\n",
      "----------\n",
      "train Loss: 0.3599 Acc: 0.8402\n",
      "val Loss: 0.2435 Acc: 0.9216\n",
      "\n",
      "Epoch 10/19\n",
      "----------\n",
      "train Loss: 0.4022 Acc: 0.8197\n",
      "val Loss: 0.2368 Acc: 0.9150\n",
      "\n",
      "Epoch 11/19\n",
      "----------\n",
      "train Loss: 0.3539 Acc: 0.8484\n",
      "val Loss: 0.2079 Acc: 0.9412\n",
      "\n",
      "Epoch 12/19\n",
      "----------\n",
      "train Loss: 0.3222 Acc: 0.8689\n",
      "val Loss: 0.2135 Acc: 0.9346\n",
      "\n",
      "Epoch 13/19\n",
      "----------\n",
      "train Loss: 0.3320 Acc: 0.8811\n",
      "val Loss: 0.2110 Acc: 0.9412\n",
      "\n",
      "Epoch 14/19\n",
      "----------\n",
      "train Loss: 0.3131 Acc: 0.8730\n",
      "val Loss: 0.2106 Acc: 0.9412\n",
      "\n",
      "Epoch 15/19\n",
      "----------\n",
      "train Loss: 0.4016 Acc: 0.8238\n",
      "val Loss: 0.2155 Acc: 0.9281\n",
      "\n",
      "Epoch 16/19\n",
      "----------\n",
      "train Loss: 0.3986 Acc: 0.8279\n",
      "val Loss: 0.2194 Acc: 0.9346\n",
      "\n",
      "Epoch 17/19\n",
      "----------\n",
      "train Loss: 0.3709 Acc: 0.8361\n",
      "val Loss: 0.2085 Acc: 0.9412\n",
      "\n",
      "Epoch 18/19\n",
      "----------\n",
      "train Loss: 0.3480 Acc: 0.8484\n",
      "val Loss: 0.2179 Acc: 0.9346\n",
      "\n",
      "Epoch 19/19\n",
      "----------\n",
      "train Loss: 0.3441 Acc: 0.8320\n",
      "val Loss: 0.2164 Acc: 0.9412\n",
      "\n",
      "Training complete in 0m 58s\n",
      "Best val Acc: 0.941176\n"
     ]
    }
   ],
   "source": [
    "# change last fully connected layer\n",
    "# get num of features in last fully connected layer\n",
    "num_input_ftrs_last_layer = model.fc.in_features\n",
    "\n",
    "# replace last layer to classify only 2 classes\n",
    "model.fc = nn.Linear(num_input_ftrs_last_layer, 2)\n",
    "model.to(device)\n",
    "\n",
    "criterion = nn.CrossEntropyLoss()\n",
    "optimizer = optim.SGD(model.parameters(), lr=0.001)\n",
    "\n",
    "# scheduler\n",
    "# to change learning rate\n",
    "# every 7 epoch, learning rate is multiplied bu gamma\n",
    "step_lr_scheduler = lr_scheduler.StepLR(optimizer, step_size=7, gamma=0.1)\n",
    "model = train_model(model, criterion, optimizer, step_lr_scheduler, num_epochs=20)"
   ]
  },
  {
   "cell_type": "code",
   "execution_count": 77,
   "id": "df05e443",
   "metadata": {
    "execution": {
     "iopub.execute_input": "2024-12-21T13:47:56.026200Z",
     "iopub.status.busy": "2024-12-21T13:47:56.025838Z",
     "iopub.status.idle": "2024-12-21T13:48:42.508748Z",
     "shell.execute_reply": "2024-12-21T13:48:42.507683Z"
    },
    "papermill": {
     "duration": 46.546951,
     "end_time": "2024-12-21T13:48:42.510308",
     "exception": false,
     "start_time": "2024-12-21T13:47:55.963357",
     "status": "completed"
    },
    "tags": []
   },
   "outputs": [
    {
     "name": "stdout",
     "output_type": "stream",
     "text": [
      "Epoch 0/19\n",
      "----------\n",
      "train Loss: 0.6753 Acc: 0.5779\n",
      "val Loss: 0.5268 Acc: 0.7516\n",
      "\n",
      "Epoch 1/19\n",
      "----------\n",
      "train Loss: 0.5218 Acc: 0.7459\n",
      "val Loss: 0.4078 Acc: 0.8562\n",
      "\n",
      "Epoch 2/19\n",
      "----------\n",
      "train Loss: 0.4599 Acc: 0.7992\n",
      "val Loss: 0.3218 Acc: 0.9216\n",
      "\n",
      "Epoch 3/19\n",
      "----------\n",
      "train Loss: 0.4838 Acc: 0.7910\n",
      "val Loss: 0.2846 Acc: 0.9216\n",
      "\n",
      "Epoch 4/19\n",
      "----------\n",
      "train Loss: 0.3950 Acc: 0.8238\n",
      "val Loss: 0.2545 Acc: 0.9150\n",
      "\n",
      "Epoch 5/19\n",
      "----------\n",
      "train Loss: 0.4002 Acc: 0.8238\n",
      "val Loss: 0.2439 Acc: 0.9281\n",
      "\n",
      "Epoch 6/19\n",
      "----------\n",
      "train Loss: 0.4071 Acc: 0.8115\n",
      "val Loss: 0.2296 Acc: 0.9412\n",
      "\n",
      "Epoch 7/19\n",
      "----------\n",
      "train Loss: 0.4393 Acc: 0.7623\n",
      "val Loss: 0.2313 Acc: 0.9216\n",
      "\n",
      "Epoch 8/19\n",
      "----------\n",
      "train Loss: 0.3415 Acc: 0.8525\n",
      "val Loss: 0.2245 Acc: 0.9346\n",
      "\n",
      "Epoch 9/19\n",
      "----------\n",
      "train Loss: 0.3709 Acc: 0.8607\n",
      "val Loss: 0.2373 Acc: 0.9281\n",
      "\n",
      "Epoch 10/19\n",
      "----------\n",
      "train Loss: 0.3620 Acc: 0.8402\n",
      "val Loss: 0.2273 Acc: 0.9216\n",
      "\n",
      "Epoch 11/19\n",
      "----------\n",
      "train Loss: 0.3822 Acc: 0.8238\n",
      "val Loss: 0.2157 Acc: 0.9412\n",
      "\n",
      "Epoch 12/19\n",
      "----------\n",
      "train Loss: 0.3815 Acc: 0.8525\n",
      "val Loss: 0.2290 Acc: 0.9346\n",
      "\n",
      "Epoch 13/19\n",
      "----------\n",
      "train Loss: 0.3791 Acc: 0.8279\n",
      "val Loss: 0.2274 Acc: 0.9412\n",
      "\n",
      "Epoch 14/19\n",
      "----------\n",
      "train Loss: 0.3890 Acc: 0.8279\n",
      "val Loss: 0.2145 Acc: 0.9477\n",
      "\n",
      "Epoch 15/19\n",
      "----------\n",
      "train Loss: 0.4135 Acc: 0.8074\n",
      "val Loss: 0.2411 Acc: 0.9150\n",
      "\n",
      "Epoch 16/19\n",
      "----------\n",
      "train Loss: 0.3921 Acc: 0.8074\n",
      "val Loss: 0.2267 Acc: 0.9346\n",
      "\n",
      "Epoch 17/19\n",
      "----------\n",
      "train Loss: 0.3768 Acc: 0.8402\n",
      "val Loss: 0.2304 Acc: 0.9281\n",
      "\n",
      "Epoch 18/19\n",
      "----------\n",
      "train Loss: 0.3634 Acc: 0.8689\n",
      "val Loss: 0.2237 Acc: 0.9346\n",
      "\n",
      "Epoch 19/19\n",
      "----------\n",
      "train Loss: 0.3739 Acc: 0.8238\n",
      "val Loss: 0.2269 Acc: 0.9346\n",
      "\n",
      "Training complete in 0m 46s\n",
      "Best val Acc: 0.947712\n"
     ]
    }
   ],
   "source": [
    "# freeze some layer training, expect last layer\n",
    "# change last fully connected layer\n",
    "# get num of features in last fully connected layer\n",
    "num_input_ftrs_last_layer = model.fc.in_features\n",
    "for param in model.parameters():\n",
    "    param.requires_grad = False\n",
    "\n",
    "# replace last layer to classify only 2 classes\n",
    "model.fc = nn.Linear(num_input_ftrs_last_layer, 2)\n",
    "model.to(device)\n",
    "\n",
    "criterion = nn.CrossEntropyLoss()\n",
    "optimizer = optim.SGD(model.parameters(), lr=0.001)\n",
    "\n",
    "# scheduler\n",
    "# to change learning rate\n",
    "# every 7 epoch, learning rate is multiplied bu gamma\n",
    "step_lr_scheduler = lr_scheduler.StepLR(optimizer, step_size=7, gamma=0.1)\n",
    "model = train_model(model, criterion, optimizer, step_lr_scheduler, num_epochs=20)"
   ]
  },
  {
   "cell_type": "markdown",
   "id": "17692561",
   "metadata": {
    "papermill": {
     "duration": 0.063511,
     "end_time": "2024-12-21T13:48:42.637469",
     "exception": false,
     "start_time": "2024-12-21T13:48:42.573958",
     "status": "completed"
    },
    "tags": []
   },
   "source": [
    "# Save and Load Model"
   ]
  },
  {
   "cell_type": "code",
   "execution_count": 78,
   "id": "b27d9b4c",
   "metadata": {
    "execution": {
     "iopub.execute_input": "2024-12-21T13:48:42.767079Z",
     "iopub.status.busy": "2024-12-21T13:48:42.766722Z",
     "iopub.status.idle": "2024-12-21T13:48:42.770074Z",
     "shell.execute_reply": "2024-12-21T13:48:42.769433Z"
    },
    "papermill": {
     "duration": 0.070328,
     "end_time": "2024-12-21T13:48:42.771364",
     "exception": false,
     "start_time": "2024-12-21T13:48:42.701036",
     "status": "completed"
    },
    "tags": []
   },
   "outputs": [],
   "source": [
    "import torch\n",
    "import torch.nn as nn"
   ]
  },
  {
   "cell_type": "markdown",
   "id": "bde73ac3",
   "metadata": {
    "papermill": {
     "duration": 0.064523,
     "end_time": "2024-12-21T13:48:42.945310",
     "exception": false,
     "start_time": "2024-12-21T13:48:42.880787",
     "status": "completed"
    },
    "tags": []
   },
   "source": [
    "```\n",
    "PATH=\"\"\n",
    "model=\"\"\n",
    "\n",
    "# can save model or anything\n",
    "# uses pickle to save\n",
    "# saves complete model\n",
    "# disadv: serialized is bound to specific classes\n",
    "# and exact dir struct used when model is saved\n",
    "torch.save(arg, PATH)\n",
    "\n",
    "# model class must be defined somewhere\n",
    "model = torch.load(PATH)\n",
    "model.eval()\n",
    "\n",
    "# better way/recommended\n",
    "# use only for interference later\n",
    "torch.save(model.state_dict(), PATH)\n",
    "\n",
    "model = Model()\n",
    "model.load_state_dict(torch.load(PATH))\n",
    "# set model to evaluation mode\n",
    "# this disables dropout layers, aleters batch noralization\n",
    "model.eval()\n",
    "```"
   ]
  },
  {
   "cell_type": "code",
   "execution_count": 79,
   "id": "93615a42",
   "metadata": {
    "execution": {
     "iopub.execute_input": "2024-12-21T13:48:43.076753Z",
     "iopub.status.busy": "2024-12-21T13:48:43.076444Z",
     "iopub.status.idle": "2024-12-21T13:48:43.082122Z",
     "shell.execute_reply": "2024-12-21T13:48:43.081203Z"
    },
    "papermill": {
     "duration": 0.072857,
     "end_time": "2024-12-21T13:48:43.083436",
     "exception": false,
     "start_time": "2024-12-21T13:48:43.010579",
     "status": "completed"
    },
    "tags": []
   },
   "outputs": [],
   "source": [
    "class Model(nn.Module):\n",
    "    def __init__(self, n_input_features):\n",
    "        super(Model, self).__init__()\n",
    "        self.linear = nn.Linear(n_input_features, 1)\n",
    "\n",
    "    def forward(self, x):\n",
    "        y_pred = torch.sigmoid(self.linear(x))\n",
    "        return y_pred\n",
    "\n",
    "model = Model(n_input_features=6)"
   ]
  },
  {
   "cell_type": "code",
   "execution_count": 80,
   "id": "fbb70161",
   "metadata": {
    "execution": {
     "iopub.execute_input": "2024-12-21T13:48:43.214216Z",
     "iopub.status.busy": "2024-12-21T13:48:43.213843Z",
     "iopub.status.idle": "2024-12-21T13:48:43.218407Z",
     "shell.execute_reply": "2024-12-21T13:48:43.217680Z"
    },
    "papermill": {
     "duration": 0.071714,
     "end_time": "2024-12-21T13:48:43.219659",
     "exception": false,
     "start_time": "2024-12-21T13:48:43.147945",
     "status": "completed"
    },
    "tags": []
   },
   "outputs": [],
   "source": [
    "FILE = \"model.pth\"\n",
    "torch.save(model, FILE)"
   ]
  },
  {
   "cell_type": "code",
   "execution_count": 81,
   "id": "0854292b",
   "metadata": {
    "execution": {
     "iopub.execute_input": "2024-12-21T13:48:43.349795Z",
     "iopub.status.busy": "2024-12-21T13:48:43.349502Z",
     "iopub.status.idle": "2024-12-21T13:48:43.356790Z",
     "shell.execute_reply": "2024-12-21T13:48:43.355881Z"
    },
    "papermill": {
     "duration": 0.073074,
     "end_time": "2024-12-21T13:48:43.358085",
     "exception": false,
     "start_time": "2024-12-21T13:48:43.285011",
     "status": "completed"
    },
    "tags": []
   },
   "outputs": [
    {
     "name": "stderr",
     "output_type": "stream",
     "text": [
      "<ipython-input-81-f7f0e38a2650>:1: FutureWarning: You are using `torch.load` with `weights_only=False` (the current default value), which uses the default pickle module implicitly. It is possible to construct malicious pickle data which will execute arbitrary code during unpickling (See https://github.com/pytorch/pytorch/blob/main/SECURITY.md#untrusted-models for more details). In a future release, the default value for `weights_only` will be flipped to `True`. This limits the functions that could be executed during unpickling. Arbitrary objects will no longer be allowed to be loaded via this mode unless they are explicitly allowlisted by the user via `torch.serialization.add_safe_globals`. We recommend you start setting `weights_only=True` for any use case where you don't have full control of the loaded file. Please open an issue on GitHub for any issues related to this experimental feature.\n",
      "  model = torch.load(FILE)\n"
     ]
    },
    {
     "data": {
      "text/plain": [
       "Model(\n",
       "  (linear): Linear(in_features=6, out_features=1, bias=True)\n",
       ")"
      ]
     },
     "execution_count": 81,
     "metadata": {},
     "output_type": "execute_result"
    }
   ],
   "source": [
    "model = torch.load(FILE)\n",
    "model.eval()"
   ]
  },
  {
   "cell_type": "code",
   "execution_count": 82,
   "id": "2ca61196",
   "metadata": {
    "execution": {
     "iopub.execute_input": "2024-12-21T13:48:43.488408Z",
     "iopub.status.busy": "2024-12-21T13:48:43.488108Z",
     "iopub.status.idle": "2024-12-21T13:48:43.492067Z",
     "shell.execute_reply": "2024-12-21T13:48:43.491317Z"
    },
    "papermill": {
     "duration": 0.070737,
     "end_time": "2024-12-21T13:48:43.493376",
     "exception": false,
     "start_time": "2024-12-21T13:48:43.422639",
     "status": "completed"
    },
    "tags": []
   },
   "outputs": [],
   "source": [
    "FILE = \"model.pth\"\n",
    "torch.save(model.state_dict(), FILE)"
   ]
  },
  {
   "cell_type": "code",
   "execution_count": 83,
   "id": "1b2312d0",
   "metadata": {
    "execution": {
     "iopub.execute_input": "2024-12-21T13:48:43.623408Z",
     "iopub.status.busy": "2024-12-21T13:48:43.623099Z",
     "iopub.status.idle": "2024-12-21T13:48:43.630193Z",
     "shell.execute_reply": "2024-12-21T13:48:43.629370Z"
    },
    "papermill": {
     "duration": 0.073814,
     "end_time": "2024-12-21T13:48:43.631429",
     "exception": false,
     "start_time": "2024-12-21T13:48:43.557615",
     "status": "completed"
    },
    "tags": []
   },
   "outputs": [
    {
     "name": "stderr",
     "output_type": "stream",
     "text": [
      "<ipython-input-83-5dfbf6dbd61e>:2: FutureWarning: You are using `torch.load` with `weights_only=False` (the current default value), which uses the default pickle module implicitly. It is possible to construct malicious pickle data which will execute arbitrary code during unpickling (See https://github.com/pytorch/pytorch/blob/main/SECURITY.md#untrusted-models for more details). In a future release, the default value for `weights_only` will be flipped to `True`. This limits the functions that could be executed during unpickling. Arbitrary objects will no longer be allowed to be loaded via this mode unless they are explicitly allowlisted by the user via `torch.serialization.add_safe_globals`. We recommend you start setting `weights_only=True` for any use case where you don't have full control of the loaded file. Please open an issue on GitHub for any issues related to this experimental feature.\n",
      "  loaded_model.load_state_dict(torch.load(FILE))\n"
     ]
    },
    {
     "data": {
      "text/plain": [
       "Model(\n",
       "  (linear): Linear(in_features=6, out_features=1, bias=True)\n",
       ")"
      ]
     },
     "execution_count": 83,
     "metadata": {},
     "output_type": "execute_result"
    }
   ],
   "source": [
    "loaded_model = Model(n_input_features=6)\n",
    "loaded_model.load_state_dict(torch.load(FILE))\n",
    "loaded_model.eval()"
   ]
  },
  {
   "cell_type": "code",
   "execution_count": 84,
   "id": "d08dba9b",
   "metadata": {
    "execution": {
     "iopub.execute_input": "2024-12-21T13:48:43.763360Z",
     "iopub.status.busy": "2024-12-21T13:48:43.763064Z",
     "iopub.status.idle": "2024-12-21T13:48:43.767984Z",
     "shell.execute_reply": "2024-12-21T13:48:43.767059Z"
    },
    "papermill": {
     "duration": 0.072387,
     "end_time": "2024-12-21T13:48:43.769294",
     "exception": false,
     "start_time": "2024-12-21T13:48:43.696907",
     "status": "completed"
    },
    "tags": []
   },
   "outputs": [
    {
     "name": "stdout",
     "output_type": "stream",
     "text": [
      "{'state': {}, 'param_groups': [{'lr': 0.01, 'momentum': 0, 'dampening': 0, 'weight_decay': 0, 'nesterov': False, 'maximize': False, 'foreach': None, 'differentiable': False, 'fused': None, 'params': [0, 1]}]}\n"
     ]
    }
   ],
   "source": [
    "# can also save any state dict, like optimizer\n",
    "learning_rate = 0.01\n",
    "optimizer = torch.optim.SGD(model.parameters(), lr=learning_rate)\n",
    "print(optimizer.state_dict())"
   ]
  },
  {
   "cell_type": "code",
   "execution_count": 85,
   "id": "cc030325",
   "metadata": {
    "execution": {
     "iopub.execute_input": "2024-12-21T13:48:43.896881Z",
     "iopub.status.busy": "2024-12-21T13:48:43.896550Z",
     "iopub.status.idle": "2024-12-21T13:48:43.904265Z",
     "shell.execute_reply": "2024-12-21T13:48:43.903214Z"
    },
    "papermill": {
     "duration": 0.073144,
     "end_time": "2024-12-21T13:48:43.905556",
     "exception": false,
     "start_time": "2024-12-21T13:48:43.832412",
     "status": "completed"
    },
    "tags": []
   },
   "outputs": [
    {
     "name": "stderr",
     "output_type": "stream",
     "text": [
      "<ipython-input-85-2aa5d5d6a022>:9: FutureWarning: You are using `torch.load` with `weights_only=False` (the current default value), which uses the default pickle module implicitly. It is possible to construct malicious pickle data which will execute arbitrary code during unpickling (See https://github.com/pytorch/pytorch/blob/main/SECURITY.md#untrusted-models for more details). In a future release, the default value for `weights_only` will be flipped to `True`. This limits the functions that could be executed during unpickling. Arbitrary objects will no longer be allowed to be loaded via this mode unless they are explicitly allowlisted by the user via `torch.serialization.add_safe_globals`. We recommend you start setting `weights_only=True` for any use case where you don't have full control of the loaded file. Please open an issue on GitHub for any issues related to this experimental feature.\n",
      "  loaded_checkpoint = torch.load(\"checkpoint.pth\")\n"
     ]
    }
   ],
   "source": [
    "checkpoint = {\n",
    "    \"epoch\": 90,\n",
    "    \"model_states\": model.state_dict(),\n",
    "    \"optim_state\": optimizer.state_dict()\n",
    "}\n",
    "\n",
    "torch.save(checkpoint, \"checkpoint.pth\")\n",
    "\n",
    "loaded_checkpoint = torch.load(\"checkpoint.pth\")\n",
    "epoch = loaded_checkpoint[\"epoch\"]\n",
    "\n",
    "model = Model(n_input_features=6)\n",
    "optimizer = torch.optim.SGD(model.parameters(), lr=0)\n",
    "\n",
    "model.load_state_dict(loaded_checkpoint[\"model_states\"])\n",
    "optimizer.load_state_dict(loaded_checkpoint[\"optim_state\"])"
   ]
  },
  {
   "cell_type": "code",
   "execution_count": 86,
   "id": "e630098a",
   "metadata": {
    "execution": {
     "iopub.execute_input": "2024-12-21T13:48:44.032666Z",
     "iopub.status.busy": "2024-12-21T13:48:44.032333Z",
     "iopub.status.idle": "2024-12-21T13:48:44.043173Z",
     "shell.execute_reply": "2024-12-21T13:48:44.042194Z"
    },
    "papermill": {
     "duration": 0.07566,
     "end_time": "2024-12-21T13:48:44.044430",
     "exception": false,
     "start_time": "2024-12-21T13:48:43.968770",
     "status": "completed"
    },
    "tags": []
   },
   "outputs": [
    {
     "name": "stderr",
     "output_type": "stream",
     "text": [
      "<ipython-input-86-a84a95d4fc0b>:9: FutureWarning: You are using `torch.load` with `weights_only=False` (the current default value), which uses the default pickle module implicitly. It is possible to construct malicious pickle data which will execute arbitrary code during unpickling (See https://github.com/pytorch/pytorch/blob/main/SECURITY.md#untrusted-models for more details). In a future release, the default value for `weights_only` will be flipped to `True`. This limits the functions that could be executed during unpickling. Arbitrary objects will no longer be allowed to be loaded via this mode unless they are explicitly allowlisted by the user via `torch.serialization.add_safe_globals`. We recommend you start setting `weights_only=True` for any use case where you don't have full control of the loaded file. Please open an issue on GitHub for any issues related to this experimental feature.\n",
      "  model.load_state_dict(torch.load(PATH, map_location=device))\n",
      "<ipython-input-86-a84a95d4fc0b>:16: FutureWarning: You are using `torch.load` with `weights_only=False` (the current default value), which uses the default pickle module implicitly. It is possible to construct malicious pickle data which will execute arbitrary code during unpickling (See https://github.com/pytorch/pytorch/blob/main/SECURITY.md#untrusted-models for more details). In a future release, the default value for `weights_only` will be flipped to `True`. This limits the functions that could be executed during unpickling. Arbitrary objects will no longer be allowed to be loaded via this mode unless they are explicitly allowlisted by the user via `torch.serialization.add_safe_globals`. We recommend you start setting `weights_only=True` for any use case where you don't have full control of the loaded file. Please open an issue on GitHub for any issues related to this experimental feature.\n",
      "  model.load_state_dict(torch.load(PATH))\n"
     ]
    },
    {
     "data": {
      "text/plain": [
       "Model(\n",
       "  (linear): Linear(in_features=6, out_features=1, bias=True)\n",
       ")"
      ]
     },
     "execution_count": 86,
     "metadata": {},
     "output_type": "execute_result"
    }
   ],
   "source": [
    "# if using CPU for training and loading in CPU then no change\n",
    "# if using GPU for training and later uload it in cpu\n",
    "device = torch.device(\"cuda\")\n",
    "model.to(device)\n",
    "torch.save(model.state_dict(), PATH)\n",
    "\n",
    "device = torch.device(\"cpu\")\n",
    "model = Model(n_input_features=6)\n",
    "model.load_state_dict(torch.load(PATH, map_location=device))\n",
    "\n",
    "# if using GPU for trainign and load it in GPUdevice = torch.device(\"cuda\")\n",
    "model.to(device)\n",
    "torch.save(model.state_dict(), PATH)\n",
    "\n",
    "model = Model(n_input_features=6)\n",
    "model.load_state_dict(torch.load(PATH))\n",
    "model.to(device)"
   ]
  },
  {
   "cell_type": "markdown",
   "id": "3b8dc65b",
   "metadata": {
    "papermill": {
     "duration": 0.063398,
     "end_time": "2024-12-21T13:48:44.172058",
     "exception": false,
     "start_time": "2024-12-21T13:48:44.108660",
     "status": "completed"
    },
    "tags": []
   },
   "source": [
    "# Use model in API"
   ]
  },
  {
   "cell_type": "code",
   "execution_count": 87,
   "id": "7ae41b36",
   "metadata": {
    "execution": {
     "iopub.execute_input": "2024-12-21T13:48:44.303031Z",
     "iopub.status.busy": "2024-12-21T13:48:44.302675Z",
     "iopub.status.idle": "2024-12-21T13:48:44.306455Z",
     "shell.execute_reply": "2024-12-21T13:48:44.305643Z"
    },
    "papermill": {
     "duration": 0.07166,
     "end_time": "2024-12-21T13:48:44.307809",
     "exception": false,
     "start_time": "2024-12-21T13:48:44.236149",
     "status": "completed"
    },
    "tags": []
   },
   "outputs": [],
   "source": [
    "import io\n",
    "import torch \n",
    "import torch.nn as nn \n",
    "import torchvision.transforms as transforms \n",
    "from PIL import Image"
   ]
  },
  {
   "cell_type": "code",
   "execution_count": 88,
   "id": "f40f4b05",
   "metadata": {
    "execution": {
     "iopub.execute_input": "2024-12-21T13:48:44.437853Z",
     "iopub.status.busy": "2024-12-21T13:48:44.437528Z",
     "iopub.status.idle": "2024-12-21T13:48:44.452916Z",
     "shell.execute_reply": "2024-12-21T13:48:44.452032Z"
    },
    "papermill": {
     "duration": 0.081567,
     "end_time": "2024-12-21T13:48:44.454317",
     "exception": false,
     "start_time": "2024-12-21T13:48:44.372750",
     "status": "completed"
    },
    "tags": []
   },
   "outputs": [
    {
     "name": "stderr",
     "output_type": "stream",
     "text": [
      "<ipython-input-88-03381f49a2ad>:25: FutureWarning: You are using `torch.load` with `weights_only=False` (the current default value), which uses the default pickle module implicitly. It is possible to construct malicious pickle data which will execute arbitrary code during unpickling (See https://github.com/pytorch/pytorch/blob/main/SECURITY.md#untrusted-models for more details). In a future release, the default value for `weights_only` will be flipped to `True`. This limits the functions that could be executed during unpickling. Arbitrary objects will no longer be allowed to be loaded via this mode unless they are explicitly allowlisted by the user via `torch.serialization.add_safe_globals`. We recommend you start setting `weights_only=True` for any use case where you don't have full control of the loaded file. Please open an issue on GitHub for any issues related to this experimental feature.\n",
      "  model.load_state_dict(torch.load(PATH))\n"
     ]
    },
    {
     "data": {
      "text/plain": [
       "NeuralNet(\n",
       "  (l1): Linear(in_features=784, out_features=500, bias=True)\n",
       "  (relu): ReLU()\n",
       "  (l2): Linear(in_features=500, out_features=10, bias=True)\n",
       ")"
      ]
     },
     "execution_count": 88,
     "metadata": {},
     "output_type": "execute_result"
    }
   ],
   "source": [
    "# load model\n",
    "\n",
    "class NeuralNet(nn.Module):\n",
    "    def __init__(self, input_size, hidden_size, num_classes):\n",
    "        super(NeuralNet, self).__init__()\n",
    "        self.input_size = input_size\n",
    "        self.l1 = nn.Linear(input_size, hidden_size) \n",
    "        self.relu = nn.ReLU()\n",
    "        self.l2 = nn.Linear(hidden_size, num_classes)  \n",
    "    \n",
    "    def forward(self, x):\n",
    "        out = self.l1(x)\n",
    "        out = self.relu(out)\n",
    "        out = self.l2(out)\n",
    "        # no activation and no softmax at the end\n",
    "        return out\n",
    "\n",
    "input_size = 784 # 28x28\n",
    "hidden_size = 500 \n",
    "num_classes = 10\n",
    "model = NeuralNet(input_size, hidden_size, num_classes)\n",
    "\n",
    "PATH = \"mnist_ffn.pth\"\n",
    "torch.save(model.state_dict(), PATH)\n",
    "model.load_state_dict(torch.load(PATH))\n",
    "model.eval()"
   ]
  },
  {
   "cell_type": "code",
   "execution_count": 89,
   "id": "179a3369",
   "metadata": {
    "execution": {
     "iopub.execute_input": "2024-12-21T13:48:44.586443Z",
     "iopub.status.busy": "2024-12-21T13:48:44.586141Z",
     "iopub.status.idle": "2024-12-21T13:48:44.591181Z",
     "shell.execute_reply": "2024-12-21T13:48:44.590301Z"
    },
    "papermill": {
     "duration": 0.071485,
     "end_time": "2024-12-21T13:48:44.592598",
     "exception": false,
     "start_time": "2024-12-21T13:48:44.521113",
     "status": "completed"
    },
    "tags": []
   },
   "outputs": [],
   "source": [
    "# image -> tensor\n",
    "def transform_image(image_bytes):\n",
    "    # transform image to match input image\n",
    "    transform = transforms.Compose([transforms.Grayscale(num_output_channels=1),\n",
    "                                    transforms.Resize((28,28)),\n",
    "                                    transforms.ToTensor(),\n",
    "                                    transforms.Normalize((0.1307,),(0.3081,))])\n",
    "    # get image from bytes object\n",
    "    image = Image.open(io.BytesIO(image_bytes))\n",
    "    # append one extra dimension for batch \n",
    "    return transform(image).unsqueeze(0)\n",
    "\n",
    "# predict\n",
    "def get_prediction(image_tensor):\n",
    "    # reshape to flatten image\n",
    "    images = image_tensor.reshape(-1, 28*28)\n",
    "    outputs = model(images)\n",
    "        # max returns (value ,index)\n",
    "    _, predicted = torch.max(outputs.data, 1)\n",
    "    return predicted"
   ]
  },
  {
   "cell_type": "markdown",
   "id": "41747c67",
   "metadata": {
    "papermill": {
     "duration": 0.063523,
     "end_time": "2024-12-21T13:48:44.720680",
     "exception": false,
     "start_time": "2024-12-21T13:48:44.657157",
     "status": "completed"
    },
    "tags": []
   },
   "source": [
    "# RNN\n",
    "- allow prev output to be used as input while having hidden states\n",
    "- so prev input influence current ouptut\n",
    "- weights shared across time\n",
    "- slow computation\n",
    "- difficult to access info from long time\n",
    "- can process input of any length"
   ]
  },
  {
   "cell_type": "code",
   "execution_count": 90,
   "id": "0da799fd",
   "metadata": {
    "execution": {
     "iopub.execute_input": "2024-12-21T13:48:44.852659Z",
     "iopub.status.busy": "2024-12-21T13:48:44.852348Z",
     "iopub.status.idle": "2024-12-21T13:48:45.115146Z",
     "shell.execute_reply": "2024-12-21T13:48:45.113933Z"
    },
    "papermill": {
     "duration": 0.331641,
     "end_time": "2024-12-21T13:48:45.116831",
     "exception": false,
     "start_time": "2024-12-21T13:48:44.785190",
     "status": "completed"
    },
    "tags": []
   },
   "outputs": [
    {
     "name": "stdout",
     "output_type": "stream",
     "text": [
      "--2024-12-21 13:48:44--  https://download.pytorch.org/tutorial/data.zip\r\n",
      "Resolving download.pytorch.org (download.pytorch.org)... 99.86.38.37, 99.86.38.72, 99.86.38.106, ...\r\n",
      "Connecting to download.pytorch.org (download.pytorch.org)|99.86.38.37|:443... connected.\r\n",
      "HTTP request sent, awaiting response... 200 OK\r\n",
      "Length: 2882130 (2.7M) [application/zip]\r\n",
      "Saving to: ‘data.zip’\r\n",
      "\r\n",
      "data.zip            100%[===================>]   2.75M  --.-KB/s    in 0.05s   \r\n",
      "\r\n",
      "2024-12-21 13:48:45 (56.8 MB/s) - ‘data.zip’ saved [2882130/2882130]\r\n",
      "\r\n"
     ]
    }
   ],
   "source": [
    "!wget https://download.pytorch.org/tutorial/data.zip"
   ]
  },
  {
   "cell_type": "code",
   "execution_count": 91,
   "id": "fe9653c0",
   "metadata": {
    "execution": {
     "iopub.execute_input": "2024-12-21T13:48:45.247582Z",
     "iopub.status.busy": "2024-12-21T13:48:45.247262Z",
     "iopub.status.idle": "2024-12-21T13:48:45.468871Z",
     "shell.execute_reply": "2024-12-21T13:48:45.467833Z"
    },
    "papermill": {
     "duration": 0.288771,
     "end_time": "2024-12-21T13:48:45.470685",
     "exception": false,
     "start_time": "2024-12-21T13:48:45.181914",
     "status": "completed"
    },
    "tags": []
   },
   "outputs": [
    {
     "name": "stdout",
     "output_type": "stream",
     "text": [
      "Archive:  /kaggle/working/data.zip\r\n",
      "  inflating: data/eng-fra.txt        \r\n",
      "   creating: data/names/\r\n",
      "  inflating: data/names/Arabic.txt   \r\n",
      "  inflating: data/names/Chinese.txt  \r\n",
      "  inflating: data/names/Czech.txt    \r\n",
      "  inflating: data/names/Dutch.txt    \r\n",
      "  inflating: data/names/English.txt  \r\n",
      "  inflating: data/names/French.txt   \r\n",
      "  inflating: data/names/German.txt   \r\n",
      "  inflating: data/names/Greek.txt    \r\n",
      "  inflating: data/names/Irish.txt    \r\n",
      "  inflating: data/names/Italian.txt  \r\n",
      "  inflating: data/names/Japanese.txt  \r\n",
      "  inflating: data/names/Korean.txt   \r\n",
      "  inflating: data/names/Polish.txt   \r\n",
      "  inflating: data/names/Portuguese.txt  \r\n",
      "  inflating: data/names/Russian.txt  \r\n",
      "  inflating: data/names/Scottish.txt  \r\n",
      "  inflating: data/names/Spanish.txt  \r\n",
      "  inflating: data/names/Vietnamese.txt  \r\n"
     ]
    }
   ],
   "source": [
    "!unzip /kaggle/working/data.zip"
   ]
  },
  {
   "cell_type": "code",
   "execution_count": 92,
   "id": "0367c2ad",
   "metadata": {
    "execution": {
     "iopub.execute_input": "2024-12-21T13:48:45.601525Z",
     "iopub.status.busy": "2024-12-21T13:48:45.601187Z",
     "iopub.status.idle": "2024-12-21T13:48:45.604872Z",
     "shell.execute_reply": "2024-12-21T13:48:45.604197Z"
    },
    "papermill": {
     "duration": 0.070151,
     "end_time": "2024-12-21T13:48:45.606148",
     "exception": false,
     "start_time": "2024-12-21T13:48:45.535997",
     "status": "completed"
    },
    "tags": []
   },
   "outputs": [],
   "source": [
    "import torch\n",
    "import torch.nn as nn \n",
    "import matplotlib.pyplot as plt "
   ]
  },
  {
   "cell_type": "code",
   "execution_count": 93,
   "id": "a2fd9560",
   "metadata": {
    "execution": {
     "iopub.execute_input": "2024-12-21T13:48:45.737060Z",
     "iopub.status.busy": "2024-12-21T13:48:45.736706Z",
     "iopub.status.idle": "2024-12-21T13:48:45.740399Z",
     "shell.execute_reply": "2024-12-21T13:48:45.739704Z"
    },
    "papermill": {
     "duration": 0.070655,
     "end_time": "2024-12-21T13:48:45.741572",
     "exception": false,
     "start_time": "2024-12-21T13:48:45.670917",
     "status": "completed"
    },
    "tags": []
   },
   "outputs": [],
   "source": [
    "import io\n",
    "import os\n",
    "import unicodedata\n",
    "import string\n",
    "import glob\n",
    "import random"
   ]
  },
  {
   "cell_type": "code",
   "execution_count": 94,
   "id": "95444355",
   "metadata": {
    "execution": {
     "iopub.execute_input": "2024-12-21T13:48:45.873239Z",
     "iopub.status.busy": "2024-12-21T13:48:45.872883Z",
     "iopub.status.idle": "2024-12-21T13:48:45.879149Z",
     "shell.execute_reply": "2024-12-21T13:48:45.878398Z"
    },
    "papermill": {
     "duration": 0.073688,
     "end_time": "2024-12-21T13:48:45.880388",
     "exception": false,
     "start_time": "2024-12-21T13:48:45.806700",
     "status": "completed"
    },
    "tags": []
   },
   "outputs": [],
   "source": [
    "# alphabet small + capital letters + \" .,;'\"\n",
    "ALL_LETTERS = string.ascii_letters + \" .,;'\"\n",
    "N_LETTERS = len(ALL_LETTERS)\n",
    "\n",
    "# Turn a Unicode string to plain ASCII, thanks to https://stackoverflow.com/a/518232/2809427\n",
    "def unicode_to_ascii(s):\n",
    "    return ''.join(\n",
    "        c for c in unicodedata.normalize('NFD', s)\n",
    "        if unicodedata.category(c) != 'Mn'\n",
    "        and c in ALL_LETTERS\n",
    "    )\n",
    "\n",
    "def load_data():\n",
    "    # Build the category_lines dictionary, a list of names per language\n",
    "    category_lines = {}\n",
    "    all_categories = []\n",
    "    \n",
    "    def find_files(path):\n",
    "        return glob.glob(path)\n",
    "    \n",
    "    # Read a file and split into lines\n",
    "    def read_lines(filename):\n",
    "        lines = io.open(filename, encoding='utf-8').read().strip().split('\\n')\n",
    "        return [unicode_to_ascii(line) for line in lines]\n",
    "    \n",
    "    for filename in find_files(\"/kaggle/working/data/*.txt\"):\n",
    "        category = os.path.splitext(os.path.basename(filename))[0]\n",
    "        all_categories.append(category)\n",
    "        \n",
    "        lines = read_lines(filename)\n",
    "        category_lines[category] = lines\n",
    "        \n",
    "    return category_lines, all_categories"
   ]
  },
  {
   "cell_type": "code",
   "execution_count": 95,
   "id": "96e315b5",
   "metadata": {
    "execution": {
     "iopub.execute_input": "2024-12-21T13:48:46.011248Z",
     "iopub.status.busy": "2024-12-21T13:48:46.010932Z",
     "iopub.status.idle": "2024-12-21T13:48:46.016923Z",
     "shell.execute_reply": "2024-12-21T13:48:46.016219Z"
    },
    "papermill": {
     "duration": 0.073943,
     "end_time": "2024-12-21T13:48:46.018237",
     "exception": false,
     "start_time": "2024-12-21T13:48:45.944294",
     "status": "completed"
    },
    "tags": []
   },
   "outputs": [],
   "source": [
    "\"\"\"\n",
    "To represent a single letter, we use a “one-hot vector” of \n",
    "size <1 x n_letters>. A one-hot vector is filled with 0s\n",
    "except for a 1 at index of the current letter, e.g. \"b\" = <0 1 0 0 0 ...>.\n",
    "\n",
    "To make a word we join a bunch of those into a\n",
    "2D matrix <line_length x 1 x n_letters>.\n",
    "\n",
    "That extra 1 dimension is because PyTorch assumes\n",
    "everything is in batches - we’re just using a batch size of 1 here.\n",
    "\n",
    "Also note we have 1 in between two dimension cause at one iteration we are passing (1xn_letters)\n",
    "\n",
    "\"\"\"\n",
    "\n",
    "# Find letter index from all_letters, e.g. \"a\" = 0\n",
    "def letter_to_index(letter):\n",
    "    return ALL_LETTERS.find(letter)\n",
    "\n",
    "# Just for demonstration, turn a letter into a <1 x n_letters> Tensor\n",
    "def letter_to_tensor(letter):\n",
    "    tensor = torch.zeros(1, N_LETTERS)\n",
    "    tensor[0][letter_to_index(letter)] = 1\n",
    "    return tensor\n",
    "\n",
    "# Turn a line into a <line_length x 1 x n_letters>,\n",
    "# or an array of one-hot letter vectors\n",
    "def line_to_tensor(line):\n",
    "    tensor = torch.zeros(len(line), 1, N_LETTERS)\n",
    "    for i, letter in enumerate(line):\n",
    "        tensor[i][0][letter_to_index(letter)] = 1\n",
    "    return tensor\n",
    "\n",
    "def random_training_example(category_lines, all_categories):\n",
    "    def random_choice(a):\n",
    "        random_idx = random.randint(0, len(a) - 1)\n",
    "        return a[random_idx]\n",
    "    \n",
    "    category = random_choice(all_categories)\n",
    "    line = random_choice(category_lines[category])\n",
    "    category_tensor = torch.tensor([all_categories.index(category)], dtype=torch.long)\n",
    "    line_tensor = line_to_tensor(line)\n",
    "    return category, line, category_tensor, line_tensor"
   ]
  },
  {
   "attachments": {
    "65f23030-4826-423e-8f12-7422ec18fd1c.png": {
     "image/png": "[encoded data removed]"
    }
   },
   "cell_type": "markdown",
   "id": "cd844bb5",
   "metadata": {
    "papermill": {
     "duration": 0.063703,
     "end_time": "2024-12-21T13:48:46.146144",
     "exception": false,
     "start_time": "2024-12-21T13:48:46.082441",
     "status": "completed"
    },
    "tags": []
   },
   "source": [
    "## Model Architecture\n",
    "\n",
    "![image.png](attachment:65f23030-4826-423e-8f12-7422ec18fd1c.png)"
   ]
  },
  {
   "cell_type": "code",
   "execution_count": 96,
   "id": "26f7de61",
   "metadata": {
    "execution": {
     "iopub.execute_input": "2024-12-21T13:48:46.275132Z",
     "iopub.status.busy": "2024-12-21T13:48:46.274803Z",
     "iopub.status.idle": "2024-12-21T13:48:48.327951Z",
     "shell.execute_reply": "2024-12-21T13:48:48.326811Z"
    },
    "papermill": {
     "duration": 2.119326,
     "end_time": "2024-12-21T13:48:48.329306",
     "exception": false,
     "start_time": "2024-12-21T13:48:46.209980",
     "status": "completed"
    },
    "tags": []
   },
   "outputs": [
    {
     "name": "stdout",
     "output_type": "stream",
     "text": [
      "torch.Size([1, 1])\n",
      "torch.Size([1, 128])\n"
     ]
    },
    {
     "data": {
      "text/plain": [
       "'eng-fra'"
      ]
     },
     "execution_count": 96,
     "metadata": {},
     "output_type": "execute_result"
    }
   ],
   "source": [
    "class RNN(nn.Module):\n",
    "    def __init__(self, input_size, hidden_size, output_size):\n",
    "        super(RNN, self).__init__()\n",
    "\n",
    "        self.hidden_size = hidden_size\n",
    "        self.i2h = nn.Linear(input_size + hidden_size, hidden_size)\n",
    "        self.i2o = nn.Linear(input_size + hidden_size, output_size)\n",
    "        self.softmax = nn.LogSoftmax(dim=1) \n",
    "\n",
    "    def forward(self, input_tensor, hidden_tensor):\n",
    "        combined_tensor = torch.cat((input_tensor, hidden_tensor), 1)\n",
    "\n",
    "        hidden = self.i2h(combined_tensor)\n",
    "        output = self.i2o(combined_tensor)\n",
    "        output = self.softmax(output)\n",
    "\n",
    "        return output, hidden\n",
    "\n",
    "    def init_hidden(self):\n",
    "        # init value of hidden input\n",
    "        return torch.zeros(1, self.hidden_size)\n",
    "\n",
    "\n",
    "category_lines, all_categories = load_data()\n",
    "n_categories = len(all_categories)\n",
    "\n",
    "n_hidden = 128\n",
    "rnn = RNN(N_LETTERS, n_hidden, n_categories)\n",
    "\n",
    "# one step\n",
    "input_tensor = letter_to_tensor('A')\n",
    "hidden_tensor = rnn.init_hidden()\n",
    "\n",
    "output, next_hidden = rnn(input_tensor, hidden_tensor)\n",
    "print(output.size())\n",
    "print(next_hidden.size())\n",
    "\n",
    "def category_from_output(output):\n",
    "    category_idx = torch.argmax(output).item()\n",
    "    return all_categories[category_idx]\n",
    "\n",
    "category_from_output(output)"
   ]
  },
  {
   "cell_type": "code",
   "execution_count": 97,
   "id": "6734bdb1",
   "metadata": {
    "execution": {
     "iopub.execute_input": "2024-12-21T13:48:48.460833Z",
     "iopub.status.busy": "2024-12-21T13:48:48.460527Z",
     "iopub.status.idle": "2024-12-21T14:05:54.796032Z",
     "shell.execute_reply": "2024-12-21T14:05:54.795012Z"
    },
    "papermill": {
     "duration": 1026.469448,
     "end_time": "2024-12-21T14:05:54.865025",
     "exception": false,
     "start_time": "2024-12-21T13:48:48.395577",
     "status": "completed"
    },
    "tags": []
   },
   "outputs": [
    {
     "name": "stdout",
     "output_type": "stream",
     "text": [
      "5000 5.0 0.0000 We won.Nous l'emportames. / eng-fra CORRECT\n",
      "10000 10.0 0.0000 I caught it.Je l'ai attrapee. / eng-fra CORRECT\n",
      "15000 15.0 0.0000 They are used to the humid climate of the summer.Ils sont accoutumes au climat humide de l'ete. / eng-fra CORRECT\n",
      "20000 20.0 0.0000 Do you have any more of thoseAvezvous davantage de ceuxla  / eng-fra CORRECT\n",
      "25000 25.0 0.0000 I often lie about my age.Je mens souvent sur mon age. / eng-fra CORRECT\n",
      "30000 30.0 0.0000 She enjoyed conversing with him.Elle eut plaisir a converser avec lui. / eng-fra CORRECT\n",
      "35000 35.0 0.0000 He is used to that type of situation.Il a l'habitude de ce genre de situation. / eng-fra CORRECT\n",
      "40000 40.0 0.0000 Do you know what day it is todaySaistu quel jour nous sommes  / eng-fra CORRECT\n",
      "45000 45.0 0.0000 I will miss you.Tu vas me manquer. / eng-fra CORRECT\n",
      "50000 50.0 0.0000 She reads the newspaper every morning.Elle lit le journal chaque matin. / eng-fra CORRECT\n",
      "55000 55.00000000000001 0.0000 Did you win the raceAstu gagne la course  / eng-fra CORRECT\n",
      "60000 60.0 0.0000 I realized I couldn't win.Je pris conscience que je ne pouvais pas l'emporter. / eng-fra CORRECT\n",
      "65000 65.0 0.0000 I'm not sure how to answer this.Je ne suis pas sur de la maniere avec laquelle repondre a ca. / eng-fra CORRECT\n",
      "70000 70.0 0.0000 You can't be so sure.Vous ne pouvez pas en etre certain. / eng-fra CORRECT\n",
      "75000 75.0 0.0000 Did you encounter any problemsAstu eu des problemes / eng-fra CORRECT\n",
      "80000 80.0 0.0000 He looks like an honest man.Il a l'air d'un honnete homme. / eng-fra CORRECT\n",
      "85000 85.0 0.0000 I'm looking forward to hearing from you.J'espere avoir de tes nouvelles. / eng-fra CORRECT\n",
      "90000 90.0 0.0000 How many kids do you haveCombien avezvous d'enfants / eng-fra CORRECT\n",
      "95000 95.0 0.0000 Let someone else handle it.Laissez quelqu'un d'autre s'en charger  / eng-fra CORRECT\n",
      "100000 100.0 0.0000 There was nobody there.La, il n'y avait personne. / eng-fra CORRECT\n"
     ]
    },
    {
     "data": {
      "image/png": "[encoded data removed]",
      "text/plain": [
       "<Figure size 640x480 with 1 Axes>"
      ]
     },
     "metadata": {},
     "output_type": "display_data"
    }
   ],
   "source": [
    "criterion = nn.NLLLoss()\n",
    "\n",
    "learning_rate = 0.005\n",
    "optimizer = torch.optim.SGD(rnn.parameters(), lr=learning_rate)\n",
    "\n",
    "def train(line_tensor, category_tensor):\n",
    "    hidden = rnn.init_hidden()\n",
    "    \n",
    "    for i in range(line_tensor.size()[0]):\n",
    "        output, hidden = rnn(line_tensor[i], hidden)\n",
    "        \n",
    "    loss = criterion(output, category_tensor)\n",
    "\n",
    "    optimizer.zero_grad()\n",
    "    loss.backward()\n",
    "    optimizer.step()\n",
    "\n",
    "    return output, loss.item()\n",
    "\n",
    "current_loss = 0\n",
    "all_losses = []\n",
    "plot_steps, print_steps = 1000, 5000\n",
    "n_iters = 100000\n",
    "for i in range(n_iters):\n",
    "    category, line, category_tensor, line_tensor = random_training_example(category_lines, all_categories)\n",
    "\n",
    "    output, loss = train(line_tensor, category_tensor)\n",
    "    current_loss += loss\n",
    "\n",
    "    if ((i+1)%plot_steps == 0):\n",
    "        all_losses.append(current_loss / plot_steps)\n",
    "        current_loss = 0\n",
    "\n",
    "    if (i+1) % print_steps == 0:\n",
    "        guess = category_from_output(output)\n",
    "        correct = \"CORRECT\" if guess == category else f\"WRONG ({category})\"\n",
    "        print(f\"{i+1} {(i+1)/n_iters*100} {loss:.4f} {line} / {guess} {correct}\")\n",
    "        \n",
    "plt.figure()\n",
    "plt.plot(all_losses)\n",
    "plt.show()"
   ]
  },
  {
   "cell_type": "markdown",
   "id": "35556a09",
   "metadata": {
    "papermill": {
     "duration": 0.066198,
     "end_time": "2024-12-21T14:05:54.997594",
     "exception": false,
     "start_time": "2024-12-21T14:05:54.931396",
     "status": "completed"
    },
    "tags": []
   },
   "source": [
    "# RNN, LSTM & GRU"
   ]
  },
  {
   "cell_type": "code",
   "execution_count": 98,
   "id": "c37b4b43",
   "metadata": {
    "execution": {
     "iopub.execute_input": "2024-12-21T14:05:55.131831Z",
     "iopub.status.busy": "2024-12-21T14:05:55.131515Z",
     "iopub.status.idle": "2024-12-21T14:05:55.135509Z",
     "shell.execute_reply": "2024-12-21T14:05:55.134648Z"
    },
    "papermill": {
     "duration": 0.072768,
     "end_time": "2024-12-21T14:05:55.136967",
     "exception": false,
     "start_time": "2024-12-21T14:05:55.064199",
     "status": "completed"
    },
    "tags": []
   },
   "outputs": [],
   "source": [
    "import torch\n",
    "import torch.nn as nn\n",
    "import torchvision\n",
    "import torchvision.transforms as transforms"
   ]
  },
  {
   "cell_type": "code",
   "execution_count": 99,
   "id": "b78623b6",
   "metadata": {
    "execution": {
     "iopub.execute_input": "2024-12-21T14:05:55.275702Z",
     "iopub.status.busy": "2024-12-21T14:05:55.275373Z",
     "iopub.status.idle": "2024-12-21T14:05:55.279313Z",
     "shell.execute_reply": "2024-12-21T14:05:55.278460Z"
    },
    "papermill": {
     "duration": 0.073781,
     "end_time": "2024-12-21T14:05:55.280875",
     "exception": false,
     "start_time": "2024-12-21T14:05:55.207094",
     "status": "completed"
    },
    "tags": []
   },
   "outputs": [],
   "source": [
    "device = torch.device(\"cuda\" if torch.cuda.is_available() else \"cpu\")"
   ]
  },
  {
   "cell_type": "code",
   "execution_count": 100,
   "id": "717a92a3",
   "metadata": {
    "execution": {
     "iopub.execute_input": "2024-12-21T14:05:55.457067Z",
     "iopub.status.busy": "2024-12-21T14:05:55.456720Z",
     "iopub.status.idle": "2024-12-21T14:05:55.460782Z",
     "shell.execute_reply": "2024-12-21T14:05:55.459983Z"
    },
    "papermill": {
     "duration": 0.114476,
     "end_time": "2024-12-21T14:05:55.462134",
     "exception": false,
     "start_time": "2024-12-21T14:05:55.347658",
     "status": "completed"
    },
    "tags": []
   },
   "outputs": [],
   "source": [
    "# hyper param\n",
    "input_size = 28 # 1 row at a time\n",
    "seq_length = 28\n",
    "hidden_size = 128\n",
    "num_layers = 2\n",
    "num_classes = 10\n",
    "num_epochs = 2\n",
    "batch_size = 100\n",
    "learning_rate = 0.001"
   ]
  },
  {
   "cell_type": "code",
   "execution_count": 101,
   "id": "252527b2",
   "metadata": {
    "execution": {
     "iopub.execute_input": "2024-12-21T14:05:55.595943Z",
     "iopub.status.busy": "2024-12-21T14:05:55.595577Z",
     "iopub.status.idle": "2024-12-21T14:05:55.680213Z",
     "shell.execute_reply": "2024-12-21T14:05:55.679385Z"
    },
    "papermill": {
     "duration": 0.154453,
     "end_time": "2024-12-21T14:05:55.681707",
     "exception": false,
     "start_time": "2024-12-21T14:05:55.527254",
     "status": "completed"
    },
    "tags": []
   },
   "outputs": [],
   "source": [
    "# MNIST dataset\n",
    "train_dataset = torchvision.datasets.MNIST(root = \"./data\",\n",
    "                                           train = True,\n",
    "                                           transform = transforms.ToTensor(),\n",
    "                                           download = True)\n",
    "\n",
    "test_dataset = torchvision.datasets.MNIST(root = \"./data\",\n",
    "                                          train = False,\n",
    "                                          transform = transforms.ToTensor(),\n",
    "                                          download = True)"
   ]
  },
  {
   "cell_type": "code",
   "execution_count": 102,
   "id": "ab5af1e4",
   "metadata": {
    "execution": {
     "iopub.execute_input": "2024-12-21T14:05:55.815710Z",
     "iopub.status.busy": "2024-12-21T14:05:55.815381Z",
     "iopub.status.idle": "2024-12-21T14:05:55.820603Z",
     "shell.execute_reply": "2024-12-21T14:05:55.819856Z"
    },
    "papermill": {
     "duration": 0.072871,
     "end_time": "2024-12-21T14:05:55.821942",
     "exception": false,
     "start_time": "2024-12-21T14:05:55.749071",
     "status": "completed"
    },
    "tags": []
   },
   "outputs": [],
   "source": [
    "# data loader\n",
    "train_loader = torch.utils.data.DataLoader(dataset = train_dataset,\n",
    "                                      batch_size = batch_size,\n",
    "                                      shuffle = True)\n",
    "\n",
    "test_loader = torch.utils.data.DataLoader(dataset = test_dataset,\n",
    "                                     batch_size = batch_size,\n",
    "                                     shuffle = True)"
   ]
  },
  {
   "cell_type": "code",
   "execution_count": 103,
   "id": "48b87efe",
   "metadata": {
    "execution": {
     "iopub.execute_input": "2024-12-21T14:05:55.955145Z",
     "iopub.status.busy": "2024-12-21T14:05:55.954797Z",
     "iopub.status.idle": "2024-12-21T14:05:55.960090Z",
     "shell.execute_reply": "2024-12-21T14:05:55.959373Z"
    },
    "papermill": {
     "duration": 0.073487,
     "end_time": "2024-12-21T14:05:55.961262",
     "exception": false,
     "start_time": "2024-12-21T14:05:55.887775",
     "status": "completed"
    },
    "tags": []
   },
   "outputs": [],
   "source": [
    "class RNN(nn.Module):\n",
    "    def __init__(self, input_size, hidden_size, num_layers, num_classes):\n",
    "        super(RNN, self).__init__()\n",
    "        self.num_layers = num_layers\n",
    "        self.hidden_size = hidden_size\n",
    "        # batch_first means have batch as first dimension\n",
    "        # input should have this shape: (batch, seq, input_size)\n",
    "        # takes whole sequence as input instead of one by one\n",
    "        self.rnn = nn.RNN(input_size, hidden_size, num_layers, batch_first = True)\n",
    "        # do computation based on last hidden\n",
    "        self.fc = nn.Linear(hidden_size, num_classes)\n",
    "\n",
    "    def forward(self, x):\n",
    "        # set initial hidden states\n",
    "        # (num_layers, batch_size, hidden_size)\n",
    "        h0 = torch.zeros(self.num_layers, x.size(0), self.hidden_size).to(device)\n",
    "        # out contains output for from rnn for each timestamp\n",
    "        out, _ = self.rnn(x, h0)\n",
    "        # out: (batch_size, seq_length, hidden_size)\n",
    "        # only want last timestamp output\n",
    "        out = out[:, -1, :]\n",
    "        out = self.fc(out)\n",
    "        return out"
   ]
  },
  {
   "cell_type": "code",
   "execution_count": 104,
   "id": "dfced686",
   "metadata": {
    "execution": {
     "iopub.execute_input": "2024-12-21T14:05:56.094863Z",
     "iopub.status.busy": "2024-12-21T14:05:56.094566Z",
     "iopub.status.idle": "2024-12-21T14:05:56.099799Z",
     "shell.execute_reply": "2024-12-21T14:05:56.099109Z"
    },
    "papermill": {
     "duration": 0.073702,
     "end_time": "2024-12-21T14:05:56.101127",
     "exception": false,
     "start_time": "2024-12-21T14:05:56.027425",
     "status": "completed"
    },
    "tags": []
   },
   "outputs": [],
   "source": [
    "class GRU(nn.Module):\n",
    "    def __init__(self, input_size, hidden_size, num_layers, num_classes):\n",
    "        super(GRU, self).__init__()\n",
    "        self.num_layers = num_layers\n",
    "        self.hidden_size = hidden_size\n",
    "        # batch_first means have batch as first dimension\n",
    "        # input should have this shape: (batch, seq, input_size)\n",
    "        # takes whole sequence as input instead of one by one\n",
    "        self.gru = nn.GRU(input_size, hidden_size, num_layers, batch_first = True)\n",
    "        # do computation based on last hidden\n",
    "        self.fc = nn.Linear(hidden_size, num_classes)\n",
    "\n",
    "    def forward(self, x):\n",
    "        # set initial hidden states\n",
    "        # (num_layers, batch_size, hidden_size)\n",
    "        h0 = torch.zeros(self.num_layers, x.size(0), self.hidden_size).to(device)\n",
    "        # out contains output for from rnn for each timestamp\n",
    "        out, _ = self.gru(x, h0)\n",
    "        # out: (batch_size, seq_length, hidden_size)\n",
    "        # only want last timestamp output\n",
    "        out = out[:, -1, :]\n",
    "        out = self.fc(out)\n",
    "        return out"
   ]
  },
  {
   "cell_type": "code",
   "execution_count": 105,
   "id": "dc48e581",
   "metadata": {
    "execution": {
     "iopub.execute_input": "2024-12-21T14:05:56.236933Z",
     "iopub.status.busy": "2024-12-21T14:05:56.236609Z",
     "iopub.status.idle": "2024-12-21T14:05:56.242145Z",
     "shell.execute_reply": "2024-12-21T14:05:56.241385Z"
    },
    "papermill": {
     "duration": 0.075241,
     "end_time": "2024-12-21T14:05:56.243328",
     "exception": false,
     "start_time": "2024-12-21T14:05:56.168087",
     "status": "completed"
    },
    "tags": []
   },
   "outputs": [],
   "source": [
    "class LSTM(nn.Module):\n",
    "    def __init__(self, input_size, hidden_size, num_layers, num_classes):\n",
    "        super(LSTM, self).__init__()\n",
    "        self.num_layers = num_layers\n",
    "        self.hidden_size = hidden_size\n",
    "        # batch_first means have batch as first dimension\n",
    "        # input should have this shape: (batch, seq, input_size)\n",
    "        # takes whole sequence as input instead of one by one\n",
    "        self.lstm = nn.LSTM(input_size, hidden_size, num_layers, batch_first = True)\n",
    "        # do computation based on last hidden\n",
    "        self.fc = nn.Linear(hidden_size, num_classes)\n",
    "\n",
    "    def forward(self, x):\n",
    "        # set initial hidden states\n",
    "        # (num_layers, batch_size, hidden_size)\n",
    "        h0 = torch.zeros(self.num_layers, x.size(0), self.hidden_size).to(device)\n",
    "        # init cell state\n",
    "        c0 = torch.zeros(self.num_layers, x.size(0), self.hidden_size).to(device)\n",
    "        # out contains output for from rnn for each timestamp\n",
    "        out, _ = self.lstm(x, (h0, c0))\n",
    "        # out: (batch_size, seq_length, hidden_size)\n",
    "        # only want last timestamp output\n",
    "        out = out[:, -1, :]\n",
    "        out = self.fc(out)\n",
    "        return out"
   ]
  },
  {
   "cell_type": "code",
   "execution_count": 106,
   "id": "0ef807eb",
   "metadata": {
    "execution": {
     "iopub.execute_input": "2024-12-21T14:05:56.378449Z",
     "iopub.status.busy": "2024-12-21T14:05:56.378148Z",
     "iopub.status.idle": "2024-12-21T14:05:56.405662Z",
     "shell.execute_reply": "2024-12-21T14:05:56.404974Z"
    },
    "papermill": {
     "duration": 0.097126,
     "end_time": "2024-12-21T14:05:56.406963",
     "exception": false,
     "start_time": "2024-12-21T14:05:56.309837",
     "status": "completed"
    },
    "tags": []
   },
   "outputs": [],
   "source": [
    "model = LSTM(input_size, hidden_size, num_layers, num_classes).to(device)\n",
    "\n",
    "# loss and optimizer\n",
    "criterion = nn.CrossEntropyLoss()\n",
    "optimizer = torch.optim.Adam(model.parameters(), lr=learning_rate)"
   ]
  },
  {
   "cell_type": "code",
   "execution_count": 107,
   "id": "6a3e94f0",
   "metadata": {
    "execution": {
     "iopub.execute_input": "2024-12-21T14:05:56.541362Z",
     "iopub.status.busy": "2024-12-21T14:05:56.541052Z",
     "iopub.status.idle": "2024-12-21T14:06:11.937283Z",
     "shell.execute_reply": "2024-12-21T14:06:11.936185Z"
    },
    "papermill": {
     "duration": 15.464802,
     "end_time": "2024-12-21T14:06:11.938808",
     "exception": false,
     "start_time": "2024-12-21T14:05:56.474006",
     "status": "completed"
    },
    "tags": []
   },
   "outputs": [
    {
     "name": "stdout",
     "output_type": "stream",
     "text": [
      "Epoch [1/2], Step [100/600], Loss: 0.7202\n",
      "Epoch [1/2], Step [200/600], Loss: 0.3093\n",
      "Epoch [1/2], Step [300/600], Loss: 0.3096\n",
      "Epoch [1/2], Step [400/600], Loss: 0.2807\n",
      "Epoch [1/2], Step [500/600], Loss: 0.1853\n",
      "Epoch [1/2], Step [600/600], Loss: 0.1363\n",
      "Epoch [2/2], Step [100/600], Loss: 0.1039\n",
      "Epoch [2/2], Step [200/600], Loss: 0.1735\n",
      "Epoch [2/2], Step [300/600], Loss: 0.0816\n",
      "Epoch [2/2], Step [400/600], Loss: 0.4524\n",
      "Epoch [2/2], Step [500/600], Loss: 0.0325\n",
      "Epoch [2/2], Step [600/600], Loss: 0.1792\n",
      "Accuracy of the network: 96.96%\n"
     ]
    }
   ],
   "source": [
    "n_total_steps = len(train_loader)\n",
    "for epoch in range(num_epochs):\n",
    "    for i, (images, labels) in enumerate(train_loader):\n",
    "        # origin shape: [batch, 1, 28, 28]\n",
    "        # resized = [batch_size, seq_size, input_size]\n",
    "        images = images.reshape(-1, seq_length, input_size).to(device)\n",
    "        labels = labels.to(device)\n",
    "\n",
    "        # forward pass\n",
    "        outputs = model(images)\n",
    "        loss = criterion(outputs, labels)\n",
    "\n",
    "        # backward\n",
    "        optimizer.zero_grad()\n",
    "        loss.backward()\n",
    "        optimizer.step()\n",
    "\n",
    "        if ((i+1) % 100 == 0):\n",
    "            print (f'Epoch [{epoch+1}/{num_epochs}], Step [{i+1}/{n_total_steps}], Loss: {loss.item():.4f}')\n",
    "\n",
    "# test model\n",
    "with torch.no_grad():\n",
    "    n_correct = 0\n",
    "    n_samples = 0\n",
    "    for images, labels in test_loader:\n",
    "        images = images.reshape(-1, seq_length, input_size).to(device)\n",
    "        labels = labels.to(device)\n",
    "        outputs = model(images)\n",
    "        # max returns\n",
    "        _, predicted = torch.max(outputs.data, 1)\n",
    "        n_samples += labels.size(0)\n",
    "        n_correct += (predicted == labels).sum().item()\n",
    "    acc = 100 * n_correct / n_samples\n",
    "    print(f\"Accuracy of the network: {acc}%\")"
   ]
  },
  {
   "cell_type": "markdown",
   "id": "02cc20d9",
   "metadata": {
    "papermill": {
     "duration": 0.0655,
     "end_time": "2024-12-21T14:06:12.071715",
     "exception": false,
     "start_time": "2024-12-21T14:06:12.006215",
     "status": "completed"
    },
    "tags": []
   },
   "source": [
    "# Pytorch Lighting"
   ]
  },
  {
   "cell_type": "code",
   "execution_count": 108,
   "id": "55d5b3bf",
   "metadata": {
    "execution": {
     "iopub.execute_input": "2024-12-21T14:06:12.204769Z",
     "iopub.status.busy": "2024-12-21T14:06:12.204451Z",
     "iopub.status.idle": "2024-12-21T14:06:14.711821Z",
     "shell.execute_reply": "2024-12-21T14:06:14.710871Z"
    },
    "papermill": {
     "duration": 2.576498,
     "end_time": "2024-12-21T14:06:14.713563",
     "exception": false,
     "start_time": "2024-12-21T14:06:12.137065",
     "status": "completed"
    },
    "tags": []
   },
   "outputs": [],
   "source": [
    "import torch\n",
    "import torch.nn as nn\n",
    "import torchvision\n",
    "import torchvision.transforms as transforms\n",
    "import matplotlib.pyplot as plt\n",
    "import pytorch_lightning as pl\n",
    "import torch.nn.functional as F\n",
    "from pytorch_lightning import Trainer"
   ]
  },
  {
   "cell_type": "code",
   "execution_count": 109,
   "id": "2957d7e7",
   "metadata": {
    "execution": {
     "iopub.execute_input": "2024-12-21T14:06:14.850514Z",
     "iopub.status.busy": "2024-12-21T14:06:14.850043Z",
     "iopub.status.idle": "2024-12-21T14:06:14.853967Z",
     "shell.execute_reply": "2024-12-21T14:06:14.853268Z"
    },
    "papermill": {
     "duration": 0.074106,
     "end_time": "2024-12-21T14:06:14.855173",
     "exception": false,
     "start_time": "2024-12-21T14:06:14.781067",
     "status": "completed"
    },
    "tags": []
   },
   "outputs": [],
   "source": [
    "# Hyper-parameters\n",
    "input_size = 784  # 28x28\n",
    "hidden_size = 500\n",
    "num_classes = 10\n",
    "num_epochs = 2\n",
    "batch_size = 100\n",
    "learning_rate = 0.001"
   ]
  },
  {
   "cell_type": "code",
   "execution_count": 110,
   "id": "4ea83a4b",
   "metadata": {
    "execution": {
     "iopub.execute_input": "2024-12-21T14:06:14.989749Z",
     "iopub.status.busy": "2024-12-21T14:06:14.989460Z",
     "iopub.status.idle": "2024-12-21T14:06:14.996415Z",
     "shell.execute_reply": "2024-12-21T14:06:14.995820Z"
    },
    "papermill": {
     "duration": 0.075563,
     "end_time": "2024-12-21T14:06:14.997661",
     "exception": false,
     "start_time": "2024-12-21T14:06:14.922098",
     "status": "completed"
    },
    "tags": []
   },
   "outputs": [],
   "source": [
    "class LitNeuralNet(pl.LightningModule):\n",
    "    def __init__(self, input_size, hidden_size, num_classes):\n",
    "        super(LitNeuralNet, self).__init__()\n",
    "        # save hyperparam passed to init\n",
    "        self.save_hyperparameters()\n",
    "        \n",
    "        self.input_size = input_size\n",
    "        self.l1 = nn.Linear(input_size, hidden_size)\n",
    "        self.relu = nn.ReLU()\n",
    "        self.l2 = nn.Linear(hidden_size, num_classes)\n",
    "\n",
    "    def forward(self, x):\n",
    "        out = self.l1(x)\n",
    "        out = self.relu(out)\n",
    "        out = self.l2(out)\n",
    "        return out\n",
    "\n",
    "    def training_step(self, batch, batch_idx):\n",
    "        images, labels = batch\n",
    "        # flatten image\n",
    "        images = images.reshape(-1, 28*28)\n",
    "\n",
    "        # forward pass\n",
    "        outputs = self(images)\n",
    "        loss = F.cross_entropy(outputs, labels)\n",
    "        \n",
    "        # will be shown when training in console\n",
    "        return loss\n",
    "\n",
    "    def test_step(self, batch, batch_idx):\n",
    "        # called when u do trainer.test()\n",
    "        images, labels = batch\n",
    "        # flatten image\n",
    "        images = images.reshape(-1, 28*28)\n",
    "\n",
    "        # forward pass\n",
    "        outputs = self(images)\n",
    "        test_loss = F.cross_entropy(outputs, labels)\n",
    "        \n",
    "        # shows metric in progress bar\n",
    "        # self.log(\"test_loss\", test_loss, prog_bar=True))\n",
    "        # self.log_dict(values) to log dict\n",
    "        # shows in tensorboard\n",
    "        self.log(\"test_loss\", test_loss)\n",
    "\n",
    "    def validation_step(self, batch, batch_idx):\n",
    "        # on on seen data\n",
    "        images, labels = batch\n",
    "        # flatten image\n",
    "        images = images.reshape(-1, 28*28)\n",
    "\n",
    "        # forward pass\n",
    "        outputs = self(images)\n",
    "\n",
    "        val_loss = F.cross_entropy(outputs, labels)\n",
    "        self.log(\"val_loss\", val_loss)\n",
    "        \n",
    "    def configure_optimizers(self):\n",
    "        return torch.optim.Adam(self.parameters(), lr=learning_rate)"
   ]
  },
  {
   "cell_type": "code",
   "execution_count": 111,
   "id": "f21ed374",
   "metadata": {
    "execution": {
     "iopub.execute_input": "2024-12-21T14:06:15.132153Z",
     "iopub.status.busy": "2024-12-21T14:06:15.131826Z",
     "iopub.status.idle": "2024-12-21T14:06:15.214964Z",
     "shell.execute_reply": "2024-12-21T14:06:15.214151Z"
    },
    "papermill": {
     "duration": 0.151892,
     "end_time": "2024-12-21T14:06:15.216591",
     "exception": false,
     "start_time": "2024-12-21T14:06:15.064699",
     "status": "completed"
    },
    "tags": []
   },
   "outputs": [],
   "source": [
    "#Mnist dataset\n",
    "train_dataset = torchvision.datasets.MNIST(\n",
    "    root=\"./data\", train=True,\n",
    "    transform=transforms.ToTensor(), download=True   \n",
    ")\n",
    "# data loader\n",
    "train_loader = torch.utils.data.DataLoader(\n",
    "    dataset=train_dataset, batch_size=batch_size,\n",
    "    num_workers=4, shuffle=False\n",
    ")"
   ]
  },
  {
   "cell_type": "code",
   "execution_count": 112,
   "id": "cb9774f9",
   "metadata": {
    "execution": {
     "iopub.execute_input": "2024-12-21T14:06:15.353355Z",
     "iopub.status.busy": "2024-12-21T14:06:15.353065Z",
     "iopub.status.idle": "2024-12-21T14:06:15.361107Z",
     "shell.execute_reply": "2024-12-21T14:06:15.360379Z"
    },
    "papermill": {
     "duration": 0.07789,
     "end_time": "2024-12-21T14:06:15.362457",
     "exception": false,
     "start_time": "2024-12-21T14:06:15.284567",
     "status": "completed"
    },
    "tags": []
   },
   "outputs": [],
   "source": [
    "test_dataset = torchvision.datasets.MNIST(\n",
    "    root=\"./data\", train=False,\n",
    "    transform=transforms.ToTensor(),\n",
    "    download=True\n",
    ")\n",
    "\n",
    "test_loader = torch.utils.data.DataLoader(\n",
    "    dataset=test_dataset, batch_size=batch_size,\n",
    "    num_workers=4, shuffle=False\n",
    ")"
   ]
  },
  {
   "cell_type": "code",
   "execution_count": 113,
   "id": "a21c55a9",
   "metadata": {
    "execution": {
     "iopub.execute_input": "2024-12-21T14:06:15.496185Z",
     "iopub.status.busy": "2024-12-21T14:06:15.495829Z",
     "iopub.status.idle": "2024-12-21T14:06:35.873026Z",
     "shell.execute_reply": "2024-12-21T14:06:35.872200Z"
    },
    "papermill": {
     "duration": 20.445033,
     "end_time": "2024-12-21T14:06:35.874684",
     "exception": false,
     "start_time": "2024-12-21T14:06:15.429651",
     "status": "completed"
    },
    "tags": []
   },
   "outputs": [
    {
     "data": {
      "application/vnd.jupyter.widget-view+json": {
       "model_id": "22e1fa5c14a14c5fa5f02ae2615148ea",
       "version_major": 2,
       "version_minor": 0
      },
      "text/plain": [
       "Sanity Checking: |          | 0/? [00:00<?, ?it/s]"
      ]
     },
     "metadata": {},
     "output_type": "display_data"
    },
    {
     "name": "stderr",
     "output_type": "stream",
     "text": [
      "/usr/lib/python3.10/multiprocessing/popen_fork.py:66: RuntimeWarning: os.fork() was called. os.fork() is incompatible with multithreaded code, and JAX is multithreaded, so this will likely lead to a deadlock.\n",
      "  self.pid = os.fork()\n"
     ]
    },
    {
     "data": {
      "application/vnd.jupyter.widget-view+json": {
       "model_id": "3701a964563047a9ba0b251823cfd894",
       "version_major": 2,
       "version_minor": 0
      },
      "text/plain": [
       "Training: |          | 0/? [00:00<?, ?it/s]"
      ]
     },
     "metadata": {},
     "output_type": "display_data"
    },
    {
     "data": {
      "application/vnd.jupyter.widget-view+json": {
       "model_id": "9af8049e14234452baea29c95be34c5c",
       "version_major": 2,
       "version_minor": 0
      },
      "text/plain": [
       "Validation: |          | 0/? [00:00<?, ?it/s]"
      ]
     },
     "metadata": {},
     "output_type": "display_data"
    },
    {
     "data": {
      "application/vnd.jupyter.widget-view+json": {
       "model_id": "50370d1c455c4a8face58c91dc5a3846",
       "version_major": 2,
       "version_minor": 0
      },
      "text/plain": [
       "Validation: |          | 0/? [00:00<?, ?it/s]"
      ]
     },
     "metadata": {},
     "output_type": "display_data"
    }
   ],
   "source": [
    "if __name__ == \"__main__\":\n",
    "    # for devs testing if model works fine\n",
    "    # set (fast_dev_run=True)\n",
    "    # run single batch through training and validation\n",
    "    # automatic checkpointing using Trainers \n",
    "    # automaitcally trains on as many GPUs are available\n",
    "    trainer = Trainer(max_epochs=num_epochs, fast_dev_run=False)\n",
    "    model = LitNeuralNet(input_size, hidden_size, num_classes)\n",
    "\n",
    "    trainer.fit(model, train_loader, test_loader)"
   ]
  },
  {
   "cell_type": "code",
   "execution_count": 114,
   "id": "f21c4b04",
   "metadata": {
    "execution": {
     "iopub.execute_input": "2024-12-21T14:06:36.011052Z",
     "iopub.status.busy": "2024-12-21T14:06:36.010703Z",
     "iopub.status.idle": "2024-12-21T14:06:36.888443Z",
     "shell.execute_reply": "2024-12-21T14:06:36.887432Z"
    },
    "papermill": {
     "duration": 0.946826,
     "end_time": "2024-12-21T14:06:36.889855",
     "exception": false,
     "start_time": "2024-12-21T14:06:35.943029",
     "status": "completed"
    },
    "tags": []
   },
   "outputs": [
    {
     "data": {
      "application/vnd.jupyter.widget-view+json": {
       "model_id": "b9ca21474ecc4e1fb8bcec1cdff73f06",
       "version_major": 2,
       "version_minor": 0
      },
      "text/plain": [
       "Testing: |          | 0/? [00:00<?, ?it/s]"
      ]
     },
     "metadata": {},
     "output_type": "display_data"
    },
    {
     "data": {
      "text/html": [
       "<pre style=\"white-space:pre;overflow-x:auto;line-height:normal;font-family:Menlo,'DejaVu Sans Mono',consolas,'Courier New',monospace\">┏━━━━━━━━━━━━━━━━━━━━━━━━━━━┳━━━━━━━━━━━━━━━━━━━━━━━━━━━┓\n",
       "┃<span style=\"font-weight: bold\">        Test metric        </span>┃<span style=\"font-weight: bold\">       DataLoader 0        </span>┃\n",
       "┡━━━━━━━━━━━━━━━━━━━━━━━━━━━╇━━━━━━━━━━━━━━━━━━━━━━━━━━━┩\n",
       "│<span style=\"color: #008080; text-decoration-color: #008080\">         test_loss         </span>│<span style=\"color: #800080; text-decoration-color: #800080\">    0.12206258624792099    </span>│\n",
       "└───────────────────────────┴───────────────────────────┘\n",
       "</pre>\n"
      ],
      "text/plain": [
       "┏━━━━━━━━━━━━━━━━━━━━━━━━━━━┳━━━━━━━━━━━━━━━━━━━━━━━━━━━┓\n",
       "┃\u001b[1m \u001b[0m\u001b[1m       Test metric       \u001b[0m\u001b[1m \u001b[0m┃\u001b[1m \u001b[0m\u001b[1m      DataLoader 0       \u001b[0m\u001b[1m \u001b[0m┃\n",
       "┡━━━━━━━━━━━━━━━━━━━━━━━━━━━╇━━━━━━━━━━━━━━━━━━━━━━━━━━━┩\n",
       "│\u001b[36m \u001b[0m\u001b[36m        test_loss        \u001b[0m\u001b[36m \u001b[0m│\u001b[35m \u001b[0m\u001b[35m   0.12206258624792099   \u001b[0m\u001b[35m \u001b[0m│\n",
       "└───────────────────────────┴───────────────────────────┘\n"
      ]
     },
     "metadata": {},
     "output_type": "display_data"
    },
    {
     "data": {
      "text/plain": [
       "[{'test_loss': 0.12206258624792099}]"
      ]
     },
     "execution_count": 114,
     "metadata": {},
     "output_type": "execute_result"
    }
   ],
   "source": [
    "trainer.test(model, dataloaders=test_loader)"
   ]
  },
  {
   "cell_type": "code",
   "execution_count": 115,
   "id": "2339831c",
   "metadata": {
    "execution": {
     "iopub.execute_input": "2024-12-21T14:06:37.028895Z",
     "iopub.status.busy": "2024-12-21T14:06:37.028500Z",
     "iopub.status.idle": "2024-12-21T14:06:37.040475Z",
     "shell.execute_reply": "2024-12-21T14:06:37.039600Z"
    },
    "papermill": {
     "duration": 0.08366,
     "end_time": "2024-12-21T14:06:37.041784",
     "exception": false,
     "start_time": "2024-12-21T14:06:36.958124",
     "status": "completed"
    },
    "tags": []
   },
   "outputs": [],
   "source": [
    "%load_ext tensorboard"
   ]
  },
  {
   "cell_type": "code",
   "execution_count": 116,
   "id": "f0f8b5c0",
   "metadata": {
    "execution": {
     "iopub.execute_input": "2024-12-21T14:06:37.178753Z",
     "iopub.status.busy": "2024-12-21T14:06:37.178423Z",
     "iopub.status.idle": "2024-12-21T14:06:42.739236Z",
     "shell.execute_reply": "2024-12-21T14:06:42.738428Z"
    },
    "papermill": {
     "duration": 5.631353,
     "end_time": "2024-12-21T14:06:42.740523",
     "exception": false,
     "start_time": "2024-12-21T14:06:37.109170",
     "status": "completed"
    },
    "tags": []
   },
   "outputs": [
    {
     "data": {
      "application/javascript": [
       "\n",
       "        (async () => {\n",
       "            const url = new URL(await google.colab.kernel.proxyPort(6006, {'cache': true}));\n",
       "            url.searchParams.set('tensorboardColab', 'true');\n",
       "            const iframe = document.createElement('iframe');\n",
       "            iframe.src = url;\n",
       "            iframe.setAttribute('width', '100%');\n",
       "            iframe.setAttribute('height', '800');\n",
       "            iframe.setAttribute('frameborder', 0);\n",
       "            document.body.appendChild(iframe);\n",
       "        })();\n",
       "    "
      ],
      "text/plain": [
       "<IPython.core.display.Javascript object>"
      ]
     },
     "metadata": {},
     "output_type": "display_data"
    }
   ],
   "source": [
    "%tensorboard --logdir=/kaggle/working/lightning_logs"
   ]
  },
  {
   "cell_type": "markdown",
   "id": "21ccf195",
   "metadata": {
    "papermill": {
     "duration": 0.070142,
     "end_time": "2024-12-21T14:06:42.879650",
     "exception": false,
     "start_time": "2024-12-21T14:06:42.809508",
     "status": "completed"
    },
    "tags": []
   },
   "source": [
    "## Load Lightning Module"
   ]
  },
  {
   "cell_type": "code",
   "execution_count": 117,
   "id": "688e4612",
   "metadata": {
    "execution": {
     "iopub.execute_input": "2024-12-21T14:06:43.018555Z",
     "iopub.status.busy": "2024-12-21T14:06:43.018219Z",
     "iopub.status.idle": "2024-12-21T14:06:43.176635Z",
     "shell.execute_reply": "2024-12-21T14:06:43.175511Z"
    },
    "papermill": {
     "duration": 0.230146,
     "end_time": "2024-12-21T14:06:43.178235",
     "exception": false,
     "start_time": "2024-12-21T14:06:42.948089",
     "status": "completed"
    },
    "tags": []
   },
   "outputs": [
    {
     "name": "stdout",
     "output_type": "stream",
     "text": [
      "'epoch=1-step=1200.ckpt'\r\n"
     ]
    },
    {
     "name": "stderr",
     "output_type": "stream",
     "text": [
      "/usr/lib/python3.10/pty.py:89: RuntimeWarning: os.fork() was called. os.fork() is incompatible with multithreaded code, and JAX is multithreaded, so this will likely lead to a deadlock.\n",
      "  pid, fd = os.forkpty()\n"
     ]
    }
   ],
   "source": [
    "!ls /kaggle/working/lightning_logs/version_0/checkpoints"
   ]
  },
  {
   "cell_type": "code",
   "execution_count": 118,
   "id": "ef9ecce9",
   "metadata": {
    "execution": {
     "iopub.execute_input": "2024-12-21T14:06:43.315705Z",
     "iopub.status.busy": "2024-12-21T14:06:43.315356Z",
     "iopub.status.idle": "2024-12-21T14:06:43.700959Z",
     "shell.execute_reply": "2024-12-21T14:06:43.699968Z"
    },
    "papermill": {
     "duration": 0.455673,
     "end_time": "2024-12-21T14:06:43.702270",
     "exception": false,
     "start_time": "2024-12-21T14:06:43.246597",
     "status": "completed"
    },
    "tags": []
   },
   "outputs": [
    {
     "name": "stdout",
     "output_type": "stream",
     "text": [
      "784\n"
     ]
    }
   ],
   "source": [
    "model = LitNeuralNet.load_from_checkpoint(\"/kaggle/working/lightning_logs/version_0/checkpoints/epoch=1-step=1200.ckpt\")\n",
    "\n",
    "# disable randomness, dropout, etc...\n",
    "model.eval()\n",
    "\n",
    "# we can access model hyperparams\n",
    "print(model.input_size)"
   ]
  },
  {
   "cell_type": "code",
   "execution_count": 119,
   "id": "eb31f835",
   "metadata": {
    "execution": {
     "iopub.execute_input": "2024-12-21T14:06:43.842056Z",
     "iopub.status.busy": "2024-12-21T14:06:43.841694Z",
     "iopub.status.idle": "2024-12-21T14:06:43.888837Z",
     "shell.execute_reply": "2024-12-21T14:06:43.887926Z"
    },
    "papermill": {
     "duration": 0.118347,
     "end_time": "2024-12-21T14:06:43.890378",
     "exception": false,
     "start_time": "2024-12-21T14:06:43.772031",
     "status": "completed"
    },
    "tags": []
   },
   "outputs": [],
   "source": [
    "# load from checkpoint but init model with different hyper params\n",
    "# if not saved with hyperparams, or set ignore for some positional argument, must pass the argument when initalizing model\n",
    "model = LitNeuralNet.load_from_checkpoint(\"/kaggle/working/lightning_logs/version_0/checkpoints/epoch=1-step=1200.ckpt\", input_size=784)"
   ]
  },
  {
   "cell_type": "code",
   "execution_count": 120,
   "id": "6b226fe5",
   "metadata": {
    "execution": {
     "iopub.execute_input": "2024-12-21T14:06:44.026797Z",
     "iopub.status.busy": "2024-12-21T14:06:44.026454Z",
     "iopub.status.idle": "2024-12-21T14:06:44.039574Z",
     "shell.execute_reply": "2024-12-21T14:06:44.038620Z"
    },
    "papermill": {
     "duration": 0.082597,
     "end_time": "2024-12-21T14:06:44.040861",
     "exception": false,
     "start_time": "2024-12-21T14:06:43.958264",
     "status": "completed"
    },
    "tags": []
   },
   "outputs": [
    {
     "name": "stdout",
     "output_type": "stream",
     "text": [
      "dict_keys(['epoch', 'global_step', 'pytorch-lightning_version', 'state_dict', 'loops', 'callbacks', 'optimizer_states', 'lr_schedulers', 'hparams_name', 'hyper_parameters'])\n"
     ]
    },
    {
     "name": "stderr",
     "output_type": "stream",
     "text": [
      "<ipython-input-120-b03bf21da4a6>:2: FutureWarning: You are using `torch.load` with `weights_only=False` (the current default value), which uses the default pickle module implicitly. It is possible to construct malicious pickle data which will execute arbitrary code during unpickling (See https://github.com/pytorch/pytorch/blob/main/SECURITY.md#untrusted-models for more details). In a future release, the default value for `weights_only` will be flipped to `True`. This limits the functions that could be executed during unpickling. Arbitrary objects will no longer be allowed to be loaded via this mode unless they are explicitly allowlisted by the user via `torch.serialization.add_safe_globals`. We recommend you start setting `weights_only=True` for any use case where you don't have full control of the loaded file. Please open an issue on GitHub for any issues related to this experimental feature.\n",
      "  checkpoint = torch.load(\"/kaggle/working/lightning_logs/version_0/checkpoints/epoch=1-step=1200.ckpt\")\n"
     ]
    }
   ],
   "source": [
    "# compatible with pytorch load\n",
    "checkpoint = torch.load(\"/kaggle/working/lightning_logs/version_0/checkpoints/epoch=1-step=1200.ckpt\")\n",
    "print(checkpoint.keys())"
   ]
  },
  {
   "cell_type": "code",
   "execution_count": 121,
   "id": "cb2df14e",
   "metadata": {
    "execution": {
     "iopub.execute_input": "2024-12-21T14:06:44.178223Z",
     "iopub.status.busy": "2024-12-21T14:06:44.177860Z",
     "iopub.status.idle": "2024-12-21T14:06:44.477535Z",
     "shell.execute_reply": "2024-12-21T14:06:44.476451Z"
    },
    "papermill": {
     "duration": 0.370139,
     "end_time": "2024-12-21T14:06:44.479297",
     "exception": false,
     "start_time": "2024-12-21T14:06:44.109158",
     "status": "completed"
    },
    "tags": []
   },
   "outputs": [
    {
     "name": "stderr",
     "output_type": "stream",
     "text": [
      "/usr/local/lib/python3.10/dist-packages/pytorch_lightning/trainer/configuration_validator.py:70: You defined a `validation_step` but have no `val_dataloader`. Skipping val loop.\n",
      "/usr/local/lib/python3.10/dist-packages/pytorch_lightning/callbacks/model_checkpoint.py:362: The dirpath has changed from '/kaggle/working/lightning_logs/version_0/checkpoints' to '/kaggle/working/lightning_logs/version_1/checkpoints', therefore `best_model_score`, `kth_best_model_path`, `kth_value`, `last_model_path` and `best_k_models` won't be reloaded. Only `best_model_path` will be reloaded.\n",
      "/usr/lib/python3.10/multiprocessing/popen_fork.py:66: RuntimeWarning: os.fork() was called. os.fork() is incompatible with multithreaded code, and JAX is multithreaded, so this will likely lead to a deadlock.\n",
      "  self.pid = os.fork()\n"
     ]
    }
   ],
   "source": [
    "# continue training after loading model\n",
    "model = LitNeuralNet.load_from_checkpoint(\"/kaggle/working/lightning_logs/version_0/checkpoints/epoch=1-step=1200.ckpt\", input_size=784)\n",
    "trainer = Trainer(max_epochs=num_epochs, fast_dev_run=False)\n",
    "trainer.fit(model, ckpt_path=\"/kaggle/working/lightning_logs/version_0/checkpoints/epoch=1-step=1200.ckpt\", train_dataloaders=train_loader)"
   ]
  },
  {
   "cell_type": "markdown",
   "id": "88281dd8",
   "metadata": {
    "papermill": {
     "duration": 0.074076,
     "end_time": "2024-12-21T14:06:44.633853",
     "exception": false,
     "start_time": "2024-12-21T14:06:44.559777",
     "status": "completed"
    },
    "tags": []
   },
   "source": [
    "## Transfer Learning "
   ]
  },
  {
   "cell_type": "code",
   "execution_count": 122,
   "id": "3a12f42e",
   "metadata": {
    "execution": {
     "iopub.execute_input": "2024-12-21T14:06:44.813498Z",
     "iopub.status.busy": "2024-12-21T14:06:44.813159Z",
     "iopub.status.idle": "2024-12-21T14:06:44.816943Z",
     "shell.execute_reply": "2024-12-21T14:06:44.816281Z"
    },
    "papermill": {
     "duration": 0.116295,
     "end_time": "2024-12-21T14:06:44.818080",
     "exception": false,
     "start_time": "2024-12-21T14:06:44.701785",
     "status": "completed"
    },
    "tags": []
   },
   "outputs": [],
   "source": [
    "import torchvision.models as models"
   ]
  },
  {
   "cell_type": "code",
   "execution_count": 123,
   "id": "3615ce13",
   "metadata": {
    "execution": {
     "iopub.execute_input": "2024-12-21T14:06:44.956617Z",
     "iopub.status.busy": "2024-12-21T14:06:44.956282Z",
     "iopub.status.idle": "2024-12-21T14:06:45.976915Z",
     "shell.execute_reply": "2024-12-21T14:06:45.975986Z"
    },
    "papermill": {
     "duration": 1.091148,
     "end_time": "2024-12-21T14:06:45.978812",
     "exception": false,
     "start_time": "2024-12-21T14:06:44.887664",
     "status": "completed"
    },
    "tags": []
   },
   "outputs": [
    {
     "name": "stderr",
     "output_type": "stream",
     "text": [
      "Downloading: \"https://download.pytorch.org/models/resnet50-11ad3fa6.pth\" to /root/.cache/torch/hub/checkpoints/resnet50-11ad3fa6.pth\n",
      "100%|██████████| 97.8M/97.8M [00:00<00:00, 223MB/s]\n"
     ]
    },
    {
     "name": "stdout",
     "output_type": "stream",
     "text": [
      "ResNet(\n",
      "  (conv1): Conv2d(3, 64, kernel_size=(7, 7), stride=(2, 2), padding=(3, 3), bias=False)\n",
      "  (bn1): BatchNorm2d(64, eps=1e-05, momentum=0.1, affine=True, track_running_stats=True)\n",
      "  (relu): ReLU(inplace=True)\n",
      "  (maxpool): MaxPool2d(kernel_size=3, stride=2, padding=1, dilation=1, ceil_mode=False)\n",
      "  (layer1): Sequential(\n",
      "    (0): Bottleneck(\n",
      "      (conv1): Conv2d(64, 64, kernel_size=(1, 1), stride=(1, 1), bias=False)\n",
      "      (bn1): BatchNorm2d(64, eps=1e-05, momentum=0.1, affine=True, track_running_stats=True)\n",
      "      (conv2): Conv2d(64, 64, kernel_size=(3, 3), stride=(1, 1), padding=(1, 1), bias=False)\n",
      "      (bn2): BatchNorm2d(64, eps=1e-05, momentum=0.1, affine=True, track_running_stats=True)\n",
      "      (conv3): Conv2d(64, 256, kernel_size=(1, 1), stride=(1, 1), bias=False)\n",
      "      (bn3): BatchNorm2d(256, eps=1e-05, momentum=0.1, affine=True, track_running_stats=True)\n",
      "      (relu): ReLU(inplace=True)\n",
      "      (downsample): Sequential(\n",
      "        (0): Conv2d(64, 256, kernel_size=(1, 1), stride=(1, 1), bias=False)\n",
      "        (1): BatchNorm2d(256, eps=1e-05, momentum=0.1, affine=True, track_running_stats=True)\n",
      "      )\n",
      "    )\n",
      "    (1): Bottleneck(\n",
      "      (conv1): Conv2d(256, 64, kernel_size=(1, 1), stride=(1, 1), bias=False)\n",
      "      (bn1): BatchNorm2d(64, eps=1e-05, momentum=0.1, affine=True, track_running_stats=True)\n",
      "      (conv2): Conv2d(64, 64, kernel_size=(3, 3), stride=(1, 1), padding=(1, 1), bias=False)\n",
      "      (bn2): BatchNorm2d(64, eps=1e-05, momentum=0.1, affine=True, track_running_stats=True)\n",
      "      (conv3): Conv2d(64, 256, kernel_size=(1, 1), stride=(1, 1), bias=False)\n",
      "      (bn3): BatchNorm2d(256, eps=1e-05, momentum=0.1, affine=True, track_running_stats=True)\n",
      "      (relu): ReLU(inplace=True)\n",
      "    )\n",
      "    (2): Bottleneck(\n",
      "      (conv1): Conv2d(256, 64, kernel_size=(1, 1), stride=(1, 1), bias=False)\n",
      "      (bn1): BatchNorm2d(64, eps=1e-05, momentum=0.1, affine=True, track_running_stats=True)\n",
      "      (conv2): Conv2d(64, 64, kernel_size=(3, 3), stride=(1, 1), padding=(1, 1), bias=False)\n",
      "      (bn2): BatchNorm2d(64, eps=1e-05, momentum=0.1, affine=True, track_running_stats=True)\n",
      "      (conv3): Conv2d(64, 256, kernel_size=(1, 1), stride=(1, 1), bias=False)\n",
      "      (bn3): BatchNorm2d(256, eps=1e-05, momentum=0.1, affine=True, track_running_stats=True)\n",
      "      (relu): ReLU(inplace=True)\n",
      "    )\n",
      "  )\n",
      "  (layer2): Sequential(\n",
      "    (0): Bottleneck(\n",
      "      (conv1): Conv2d(256, 128, kernel_size=(1, 1), stride=(1, 1), bias=False)\n",
      "      (bn1): BatchNorm2d(128, eps=1e-05, momentum=0.1, affine=True, track_running_stats=True)\n",
      "      (conv2): Conv2d(128, 128, kernel_size=(3, 3), stride=(2, 2), padding=(1, 1), bias=False)\n",
      "      (bn2): BatchNorm2d(128, eps=1e-05, momentum=0.1, affine=True, track_running_stats=True)\n",
      "      (conv3): Conv2d(128, 512, kernel_size=(1, 1), stride=(1, 1), bias=False)\n",
      "      (bn3): BatchNorm2d(512, eps=1e-05, momentum=0.1, affine=True, track_running_stats=True)\n",
      "      (relu): ReLU(inplace=True)\n",
      "      (downsample): Sequential(\n",
      "        (0): Conv2d(256, 512, kernel_size=(1, 1), stride=(2, 2), bias=False)\n",
      "        (1): BatchNorm2d(512, eps=1e-05, momentum=0.1, affine=True, track_running_stats=True)\n",
      "      )\n",
      "    )\n",
      "    (1): Bottleneck(\n",
      "      (conv1): Conv2d(512, 128, kernel_size=(1, 1), stride=(1, 1), bias=False)\n",
      "      (bn1): BatchNorm2d(128, eps=1e-05, momentum=0.1, affine=True, track_running_stats=True)\n",
      "      (conv2): Conv2d(128, 128, kernel_size=(3, 3), stride=(1, 1), padding=(1, 1), bias=False)\n",
      "      (bn2): BatchNorm2d(128, eps=1e-05, momentum=0.1, affine=True, track_running_stats=True)\n",
      "      (conv3): Conv2d(128, 512, kernel_size=(1, 1), stride=(1, 1), bias=False)\n",
      "      (bn3): BatchNorm2d(512, eps=1e-05, momentum=0.1, affine=True, track_running_stats=True)\n",
      "      (relu): ReLU(inplace=True)\n",
      "    )\n",
      "    (2): Bottleneck(\n",
      "      (conv1): Conv2d(512, 128, kernel_size=(1, 1), stride=(1, 1), bias=False)\n",
      "      (bn1): BatchNorm2d(128, eps=1e-05, momentum=0.1, affine=True, track_running_stats=True)\n",
      "      (conv2): Conv2d(128, 128, kernel_size=(3, 3), stride=(1, 1), padding=(1, 1), bias=False)\n",
      "      (bn2): BatchNorm2d(128, eps=1e-05, momentum=0.1, affine=True, track_running_stats=True)\n",
      "      (conv3): Conv2d(128, 512, kernel_size=(1, 1), stride=(1, 1), bias=False)\n",
      "      (bn3): BatchNorm2d(512, eps=1e-05, momentum=0.1, affine=True, track_running_stats=True)\n",
      "      (relu): ReLU(inplace=True)\n",
      "    )\n",
      "    (3): Bottleneck(\n",
      "      (conv1): Conv2d(512, 128, kernel_size=(1, 1), stride=(1, 1), bias=False)\n",
      "      (bn1): BatchNorm2d(128, eps=1e-05, momentum=0.1, affine=True, track_running_stats=True)\n",
      "      (conv2): Conv2d(128, 128, kernel_size=(3, 3), stride=(1, 1), padding=(1, 1), bias=False)\n",
      "      (bn2): BatchNorm2d(128, eps=1e-05, momentum=0.1, affine=True, track_running_stats=True)\n",
      "      (conv3): Conv2d(128, 512, kernel_size=(1, 1), stride=(1, 1), bias=False)\n",
      "      (bn3): BatchNorm2d(512, eps=1e-05, momentum=0.1, affine=True, track_running_stats=True)\n",
      "      (relu): ReLU(inplace=True)\n",
      "    )\n",
      "  )\n",
      "  (layer3): Sequential(\n",
      "    (0): Bottleneck(\n",
      "      (conv1): Conv2d(512, 256, kernel_size=(1, 1), stride=(1, 1), bias=False)\n",
      "      (bn1): BatchNorm2d(256, eps=1e-05, momentum=0.1, affine=True, track_running_stats=True)\n",
      "      (conv2): Conv2d(256, 256, kernel_size=(3, 3), stride=(2, 2), padding=(1, 1), bias=False)\n",
      "      (bn2): BatchNorm2d(256, eps=1e-05, momentum=0.1, affine=True, track_running_stats=True)\n",
      "      (conv3): Conv2d(256, 1024, kernel_size=(1, 1), stride=(1, 1), bias=False)\n",
      "      (bn3): BatchNorm2d(1024, eps=1e-05, momentum=0.1, affine=True, track_running_stats=True)\n",
      "      (relu): ReLU(inplace=True)\n",
      "      (downsample): Sequential(\n",
      "        (0): Conv2d(512, 1024, kernel_size=(1, 1), stride=(2, 2), bias=False)\n",
      "        (1): BatchNorm2d(1024, eps=1e-05, momentum=0.1, affine=True, track_running_stats=True)\n",
      "      )\n",
      "    )\n",
      "    (1): Bottleneck(\n",
      "      (conv1): Conv2d(1024, 256, kernel_size=(1, 1), stride=(1, 1), bias=False)\n",
      "      (bn1): BatchNorm2d(256, eps=1e-05, momentum=0.1, affine=True, track_running_stats=True)\n",
      "      (conv2): Conv2d(256, 256, kernel_size=(3, 3), stride=(1, 1), padding=(1, 1), bias=False)\n",
      "      (bn2): BatchNorm2d(256, eps=1e-05, momentum=0.1, affine=True, track_running_stats=True)\n",
      "      (conv3): Conv2d(256, 1024, kernel_size=(1, 1), stride=(1, 1), bias=False)\n",
      "      (bn3): BatchNorm2d(1024, eps=1e-05, momentum=0.1, affine=True, track_running_stats=True)\n",
      "      (relu): ReLU(inplace=True)\n",
      "    )\n",
      "    (2): Bottleneck(\n",
      "      (conv1): Conv2d(1024, 256, kernel_size=(1, 1), stride=(1, 1), bias=False)\n",
      "      (bn1): BatchNorm2d(256, eps=1e-05, momentum=0.1, affine=True, track_running_stats=True)\n",
      "      (conv2): Conv2d(256, 256, kernel_size=(3, 3), stride=(1, 1), padding=(1, 1), bias=False)\n",
      "      (bn2): BatchNorm2d(256, eps=1e-05, momentum=0.1, affine=True, track_running_stats=True)\n",
      "      (conv3): Conv2d(256, 1024, kernel_size=(1, 1), stride=(1, 1), bias=False)\n",
      "      (bn3): BatchNorm2d(1024, eps=1e-05, momentum=0.1, affine=True, track_running_stats=True)\n",
      "      (relu): ReLU(inplace=True)\n",
      "    )\n",
      "    (3): Bottleneck(\n",
      "      (conv1): Conv2d(1024, 256, kernel_size=(1, 1), stride=(1, 1), bias=False)\n",
      "      (bn1): BatchNorm2d(256, eps=1e-05, momentum=0.1, affine=True, track_running_stats=True)\n",
      "      (conv2): Conv2d(256, 256, kernel_size=(3, 3), stride=(1, 1), padding=(1, 1), bias=False)\n",
      "      (bn2): BatchNorm2d(256, eps=1e-05, momentum=0.1, affine=True, track_running_stats=True)\n",
      "      (conv3): Conv2d(256, 1024, kernel_size=(1, 1), stride=(1, 1), bias=False)\n",
      "      (bn3): BatchNorm2d(1024, eps=1e-05, momentum=0.1, affine=True, track_running_stats=True)\n",
      "      (relu): ReLU(inplace=True)\n",
      "    )\n",
      "    (4): Bottleneck(\n",
      "      (conv1): Conv2d(1024, 256, kernel_size=(1, 1), stride=(1, 1), bias=False)\n",
      "      (bn1): BatchNorm2d(256, eps=1e-05, momentum=0.1, affine=True, track_running_stats=True)\n",
      "      (conv2): Conv2d(256, 256, kernel_size=(3, 3), stride=(1, 1), padding=(1, 1), bias=False)\n",
      "      (bn2): BatchNorm2d(256, eps=1e-05, momentum=0.1, affine=True, track_running_stats=True)\n",
      "      (conv3): Conv2d(256, 1024, kernel_size=(1, 1), stride=(1, 1), bias=False)\n",
      "      (bn3): BatchNorm2d(1024, eps=1e-05, momentum=0.1, affine=True, track_running_stats=True)\n",
      "      (relu): ReLU(inplace=True)\n",
      "    )\n",
      "    (5): Bottleneck(\n",
      "      (conv1): Conv2d(1024, 256, kernel_size=(1, 1), stride=(1, 1), bias=False)\n",
      "      (bn1): BatchNorm2d(256, eps=1e-05, momentum=0.1, affine=True, track_running_stats=True)\n",
      "      (conv2): Conv2d(256, 256, kernel_size=(3, 3), stride=(1, 1), padding=(1, 1), bias=False)\n",
      "      (bn2): BatchNorm2d(256, eps=1e-05, momentum=0.1, affine=True, track_running_stats=True)\n",
      "      (conv3): Conv2d(256, 1024, kernel_size=(1, 1), stride=(1, 1), bias=False)\n",
      "      (bn3): BatchNorm2d(1024, eps=1e-05, momentum=0.1, affine=True, track_running_stats=True)\n",
      "      (relu): ReLU(inplace=True)\n",
      "    )\n",
      "  )\n",
      "  (layer4): Sequential(\n",
      "    (0): Bottleneck(\n",
      "      (conv1): Conv2d(1024, 512, kernel_size=(1, 1), stride=(1, 1), bias=False)\n",
      "      (bn1): BatchNorm2d(512, eps=1e-05, momentum=0.1, affine=True, track_running_stats=True)\n",
      "      (conv2): Conv2d(512, 512, kernel_size=(3, 3), stride=(2, 2), padding=(1, 1), bias=False)\n",
      "      (bn2): BatchNorm2d(512, eps=1e-05, momentum=0.1, affine=True, track_running_stats=True)\n",
      "      (conv3): Conv2d(512, 2048, kernel_size=(1, 1), stride=(1, 1), bias=False)\n",
      "      (bn3): BatchNorm2d(2048, eps=1e-05, momentum=0.1, affine=True, track_running_stats=True)\n",
      "      (relu): ReLU(inplace=True)\n",
      "      (downsample): Sequential(\n",
      "        (0): Conv2d(1024, 2048, kernel_size=(1, 1), stride=(2, 2), bias=False)\n",
      "        (1): BatchNorm2d(2048, eps=1e-05, momentum=0.1, affine=True, track_running_stats=True)\n",
      "      )\n",
      "    )\n",
      "    (1): Bottleneck(\n",
      "      (conv1): Conv2d(2048, 512, kernel_size=(1, 1), stride=(1, 1), bias=False)\n",
      "      (bn1): BatchNorm2d(512, eps=1e-05, momentum=0.1, affine=True, track_running_stats=True)\n",
      "      (conv2): Conv2d(512, 512, kernel_size=(3, 3), stride=(1, 1), padding=(1, 1), bias=False)\n",
      "      (bn2): BatchNorm2d(512, eps=1e-05, momentum=0.1, affine=True, track_running_stats=True)\n",
      "      (conv3): Conv2d(512, 2048, kernel_size=(1, 1), stride=(1, 1), bias=False)\n",
      "      (bn3): BatchNorm2d(2048, eps=1e-05, momentum=0.1, affine=True, track_running_stats=True)\n",
      "      (relu): ReLU(inplace=True)\n",
      "    )\n",
      "    (2): Bottleneck(\n",
      "      (conv1): Conv2d(2048, 512, kernel_size=(1, 1), stride=(1, 1), bias=False)\n",
      "      (bn1): BatchNorm2d(512, eps=1e-05, momentum=0.1, affine=True, track_running_stats=True)\n",
      "      (conv2): Conv2d(512, 512, kernel_size=(3, 3), stride=(1, 1), padding=(1, 1), bias=False)\n",
      "      (bn2): BatchNorm2d(512, eps=1e-05, momentum=0.1, affine=True, track_running_stats=True)\n",
      "      (conv3): Conv2d(512, 2048, kernel_size=(1, 1), stride=(1, 1), bias=False)\n",
      "      (bn3): BatchNorm2d(2048, eps=1e-05, momentum=0.1, affine=True, track_running_stats=True)\n",
      "      (relu): ReLU(inplace=True)\n",
      "    )\n",
      "  )\n",
      "  (avgpool): AdaptiveAvgPool2d(output_size=(1, 1))\n",
      "  (fc): Linear(in_features=2048, out_features=1000, bias=True)\n",
      ")\n"
     ]
    }
   ],
   "source": [
    "backbone = models.resnet50(weights=\"DEFAULT\")\n",
    "print(backbone)"
   ]
  },
  {
   "cell_type": "code",
   "execution_count": 124,
   "id": "a0dfe4bd",
   "metadata": {
    "execution": {
     "iopub.execute_input": "2024-12-21T14:06:46.119987Z",
     "iopub.status.busy": "2024-12-21T14:06:46.119622Z",
     "iopub.status.idle": "2024-12-21T14:06:46.124048Z",
     "shell.execute_reply": "2024-12-21T14:06:46.123245Z"
    },
    "papermill": {
     "duration": 0.075215,
     "end_time": "2024-12-21T14:06:46.125342",
     "exception": false,
     "start_time": "2024-12-21T14:06:46.050127",
     "status": "completed"
    },
    "tags": []
   },
   "outputs": [
    {
     "name": "stdout",
     "output_type": "stream",
     "text": [
      "2048\n"
     ]
    }
   ],
   "source": [
    "print(backbone.fc.in_features)"
   ]
  },
  {
   "cell_type": "code",
   "execution_count": 125,
   "id": "c144de29",
   "metadata": {
    "execution": {
     "iopub.execute_input": "2024-12-21T14:06:46.266107Z",
     "iopub.status.busy": "2024-12-21T14:06:46.265792Z",
     "iopub.status.idle": "2024-12-21T14:06:46.271898Z",
     "shell.execute_reply": "2024-12-21T14:06:46.270661Z"
    },
    "papermill": {
     "duration": 0.078599,
     "end_time": "2024-12-21T14:06:46.274181",
     "exception": false,
     "start_time": "2024-12-21T14:06:46.195582",
     "status": "completed"
    },
    "tags": []
   },
   "outputs": [
    {
     "name": "stdout",
     "output_type": "stream",
     "text": [
      "[Conv2d(3, 64, kernel_size=(7, 7), stride=(2, 2), padding=(3, 3), bias=False), BatchNorm2d(64, eps=1e-05, momentum=0.1, affine=True, track_running_stats=True), ReLU(inplace=True), MaxPool2d(kernel_size=3, stride=2, padding=1, dilation=1, ceil_mode=False), Sequential(\n",
      "  (0): Bottleneck(\n",
      "    (conv1): Conv2d(64, 64, kernel_size=(1, 1), stride=(1, 1), bias=False)\n",
      "    (bn1): BatchNorm2d(64, eps=1e-05, momentum=0.1, affine=True, track_running_stats=True)\n",
      "    (conv2): Conv2d(64, 64, kernel_size=(3, 3), stride=(1, 1), padding=(1, 1), bias=False)\n",
      "    (bn2): BatchNorm2d(64, eps=1e-05, momentum=0.1, affine=True, track_running_stats=True)\n",
      "    (conv3): Conv2d(64, 256, kernel_size=(1, 1), stride=(1, 1), bias=False)\n",
      "    (bn3): BatchNorm2d(256, eps=1e-05, momentum=0.1, affine=True, track_running_stats=True)\n",
      "    (relu): ReLU(inplace=True)\n",
      "    (downsample): Sequential(\n",
      "      (0): Conv2d(64, 256, kernel_size=(1, 1), stride=(1, 1), bias=False)\n",
      "      (1): BatchNorm2d(256, eps=1e-05, momentum=0.1, affine=True, track_running_stats=True)\n",
      "    )\n",
      "  )\n",
      "  (1): Bottleneck(\n",
      "    (conv1): Conv2d(256, 64, kernel_size=(1, 1), stride=(1, 1), bias=False)\n",
      "    (bn1): BatchNorm2d(64, eps=1e-05, momentum=0.1, affine=True, track_running_stats=True)\n",
      "    (conv2): Conv2d(64, 64, kernel_size=(3, 3), stride=(1, 1), padding=(1, 1), bias=False)\n",
      "    (bn2): BatchNorm2d(64, eps=1e-05, momentum=0.1, affine=True, track_running_stats=True)\n",
      "    (conv3): Conv2d(64, 256, kernel_size=(1, 1), stride=(1, 1), bias=False)\n",
      "    (bn3): BatchNorm2d(256, eps=1e-05, momentum=0.1, affine=True, track_running_stats=True)\n",
      "    (relu): ReLU(inplace=True)\n",
      "  )\n",
      "  (2): Bottleneck(\n",
      "    (conv1): Conv2d(256, 64, kernel_size=(1, 1), stride=(1, 1), bias=False)\n",
      "    (bn1): BatchNorm2d(64, eps=1e-05, momentum=0.1, affine=True, track_running_stats=True)\n",
      "    (conv2): Conv2d(64, 64, kernel_size=(3, 3), stride=(1, 1), padding=(1, 1), bias=False)\n",
      "    (bn2): BatchNorm2d(64, eps=1e-05, momentum=0.1, affine=True, track_running_stats=True)\n",
      "    (conv3): Conv2d(64, 256, kernel_size=(1, 1), stride=(1, 1), bias=False)\n",
      "    (bn3): BatchNorm2d(256, eps=1e-05, momentum=0.1, affine=True, track_running_stats=True)\n",
      "    (relu): ReLU(inplace=True)\n",
      "  )\n",
      "), Sequential(\n",
      "  (0): Bottleneck(\n",
      "    (conv1): Conv2d(256, 128, kernel_size=(1, 1), stride=(1, 1), bias=False)\n",
      "    (bn1): BatchNorm2d(128, eps=1e-05, momentum=0.1, affine=True, track_running_stats=True)\n",
      "    (conv2): Conv2d(128, 128, kernel_size=(3, 3), stride=(2, 2), padding=(1, 1), bias=False)\n",
      "    (bn2): BatchNorm2d(128, eps=1e-05, momentum=0.1, affine=True, track_running_stats=True)\n",
      "    (conv3): Conv2d(128, 512, kernel_size=(1, 1), stride=(1, 1), bias=False)\n",
      "    (bn3): BatchNorm2d(512, eps=1e-05, momentum=0.1, affine=True, track_running_stats=True)\n",
      "    (relu): ReLU(inplace=True)\n",
      "    (downsample): Sequential(\n",
      "      (0): Conv2d(256, 512, kernel_size=(1, 1), stride=(2, 2), bias=False)\n",
      "      (1): BatchNorm2d(512, eps=1e-05, momentum=0.1, affine=True, track_running_stats=True)\n",
      "    )\n",
      "  )\n",
      "  (1): Bottleneck(\n",
      "    (conv1): Conv2d(512, 128, kernel_size=(1, 1), stride=(1, 1), bias=False)\n",
      "    (bn1): BatchNorm2d(128, eps=1e-05, momentum=0.1, affine=True, track_running_stats=True)\n",
      "    (conv2): Conv2d(128, 128, kernel_size=(3, 3), stride=(1, 1), padding=(1, 1), bias=False)\n",
      "    (bn2): BatchNorm2d(128, eps=1e-05, momentum=0.1, affine=True, track_running_stats=True)\n",
      "    (conv3): Conv2d(128, 512, kernel_size=(1, 1), stride=(1, 1), bias=False)\n",
      "    (bn3): BatchNorm2d(512, eps=1e-05, momentum=0.1, affine=True, track_running_stats=True)\n",
      "    (relu): ReLU(inplace=True)\n",
      "  )\n",
      "  (2): Bottleneck(\n",
      "    (conv1): Conv2d(512, 128, kernel_size=(1, 1), stride=(1, 1), bias=False)\n",
      "    (bn1): BatchNorm2d(128, eps=1e-05, momentum=0.1, affine=True, track_running_stats=True)\n",
      "    (conv2): Conv2d(128, 128, kernel_size=(3, 3), stride=(1, 1), padding=(1, 1), bias=False)\n",
      "    (bn2): BatchNorm2d(128, eps=1e-05, momentum=0.1, affine=True, track_running_stats=True)\n",
      "    (conv3): Conv2d(128, 512, kernel_size=(1, 1), stride=(1, 1), bias=False)\n",
      "    (bn3): BatchNorm2d(512, eps=1e-05, momentum=0.1, affine=True, track_running_stats=True)\n",
      "    (relu): ReLU(inplace=True)\n",
      "  )\n",
      "  (3): Bottleneck(\n",
      "    (conv1): Conv2d(512, 128, kernel_size=(1, 1), stride=(1, 1), bias=False)\n",
      "    (bn1): BatchNorm2d(128, eps=1e-05, momentum=0.1, affine=True, track_running_stats=True)\n",
      "    (conv2): Conv2d(128, 128, kernel_size=(3, 3), stride=(1, 1), padding=(1, 1), bias=False)\n",
      "    (bn2): BatchNorm2d(128, eps=1e-05, momentum=0.1, affine=True, track_running_stats=True)\n",
      "    (conv3): Conv2d(128, 512, kernel_size=(1, 1), stride=(1, 1), bias=False)\n",
      "    (bn3): BatchNorm2d(512, eps=1e-05, momentum=0.1, affine=True, track_running_stats=True)\n",
      "    (relu): ReLU(inplace=True)\n",
      "  )\n",
      "), Sequential(\n",
      "  (0): Bottleneck(\n",
      "    (conv1): Conv2d(512, 256, kernel_size=(1, 1), stride=(1, 1), bias=False)\n",
      "    (bn1): BatchNorm2d(256, eps=1e-05, momentum=0.1, affine=True, track_running_stats=True)\n",
      "    (conv2): Conv2d(256, 256, kernel_size=(3, 3), stride=(2, 2), padding=(1, 1), bias=False)\n",
      "    (bn2): BatchNorm2d(256, eps=1e-05, momentum=0.1, affine=True, track_running_stats=True)\n",
      "    (conv3): Conv2d(256, 1024, kernel_size=(1, 1), stride=(1, 1), bias=False)\n",
      "    (bn3): BatchNorm2d(1024, eps=1e-05, momentum=0.1, affine=True, track_running_stats=True)\n",
      "    (relu): ReLU(inplace=True)\n",
      "    (downsample): Sequential(\n",
      "      (0): Conv2d(512, 1024, kernel_size=(1, 1), stride=(2, 2), bias=False)\n",
      "      (1): BatchNorm2d(1024, eps=1e-05, momentum=0.1, affine=True, track_running_stats=True)\n",
      "    )\n",
      "  )\n",
      "  (1): Bottleneck(\n",
      "    (conv1): Conv2d(1024, 256, kernel_size=(1, 1), stride=(1, 1), bias=False)\n",
      "    (bn1): BatchNorm2d(256, eps=1e-05, momentum=0.1, affine=True, track_running_stats=True)\n",
      "    (conv2): Conv2d(256, 256, kernel_size=(3, 3), stride=(1, 1), padding=(1, 1), bias=False)\n",
      "    (bn2): BatchNorm2d(256, eps=1e-05, momentum=0.1, affine=True, track_running_stats=True)\n",
      "    (conv3): Conv2d(256, 1024, kernel_size=(1, 1), stride=(1, 1), bias=False)\n",
      "    (bn3): BatchNorm2d(1024, eps=1e-05, momentum=0.1, affine=True, track_running_stats=True)\n",
      "    (relu): ReLU(inplace=True)\n",
      "  )\n",
      "  (2): Bottleneck(\n",
      "    (conv1): Conv2d(1024, 256, kernel_size=(1, 1), stride=(1, 1), bias=False)\n",
      "    (bn1): BatchNorm2d(256, eps=1e-05, momentum=0.1, affine=True, track_running_stats=True)\n",
      "    (conv2): Conv2d(256, 256, kernel_size=(3, 3), stride=(1, 1), padding=(1, 1), bias=False)\n",
      "    (bn2): BatchNorm2d(256, eps=1e-05, momentum=0.1, affine=True, track_running_stats=True)\n",
      "    (conv3): Conv2d(256, 1024, kernel_size=(1, 1), stride=(1, 1), bias=False)\n",
      "    (bn3): BatchNorm2d(1024, eps=1e-05, momentum=0.1, affine=True, track_running_stats=True)\n",
      "    (relu): ReLU(inplace=True)\n",
      "  )\n",
      "  (3): Bottleneck(\n",
      "    (conv1): Conv2d(1024, 256, kernel_size=(1, 1), stride=(1, 1), bias=False)\n",
      "    (bn1): BatchNorm2d(256, eps=1e-05, momentum=0.1, affine=True, track_running_stats=True)\n",
      "    (conv2): Conv2d(256, 256, kernel_size=(3, 3), stride=(1, 1), padding=(1, 1), bias=False)\n",
      "    (bn2): BatchNorm2d(256, eps=1e-05, momentum=0.1, affine=True, track_running_stats=True)\n",
      "    (conv3): Conv2d(256, 1024, kernel_size=(1, 1), stride=(1, 1), bias=False)\n",
      "    (bn3): BatchNorm2d(1024, eps=1e-05, momentum=0.1, affine=True, track_running_stats=True)\n",
      "    (relu): ReLU(inplace=True)\n",
      "  )\n",
      "  (4): Bottleneck(\n",
      "    (conv1): Conv2d(1024, 256, kernel_size=(1, 1), stride=(1, 1), bias=False)\n",
      "    (bn1): BatchNorm2d(256, eps=1e-05, momentum=0.1, affine=True, track_running_stats=True)\n",
      "    (conv2): Conv2d(256, 256, kernel_size=(3, 3), stride=(1, 1), padding=(1, 1), bias=False)\n",
      "    (bn2): BatchNorm2d(256, eps=1e-05, momentum=0.1, affine=True, track_running_stats=True)\n",
      "    (conv3): Conv2d(256, 1024, kernel_size=(1, 1), stride=(1, 1), bias=False)\n",
      "    (bn3): BatchNorm2d(1024, eps=1e-05, momentum=0.1, affine=True, track_running_stats=True)\n",
      "    (relu): ReLU(inplace=True)\n",
      "  )\n",
      "  (5): Bottleneck(\n",
      "    (conv1): Conv2d(1024, 256, kernel_size=(1, 1), stride=(1, 1), bias=False)\n",
      "    (bn1): BatchNorm2d(256, eps=1e-05, momentum=0.1, affine=True, track_running_stats=True)\n",
      "    (conv2): Conv2d(256, 256, kernel_size=(3, 3), stride=(1, 1), padding=(1, 1), bias=False)\n",
      "    (bn2): BatchNorm2d(256, eps=1e-05, momentum=0.1, affine=True, track_running_stats=True)\n",
      "    (conv3): Conv2d(256, 1024, kernel_size=(1, 1), stride=(1, 1), bias=False)\n",
      "    (bn3): BatchNorm2d(1024, eps=1e-05, momentum=0.1, affine=True, track_running_stats=True)\n",
      "    (relu): ReLU(inplace=True)\n",
      "  )\n",
      "), Sequential(\n",
      "  (0): Bottleneck(\n",
      "    (conv1): Conv2d(1024, 512, kernel_size=(1, 1), stride=(1, 1), bias=False)\n",
      "    (bn1): BatchNorm2d(512, eps=1e-05, momentum=0.1, affine=True, track_running_stats=True)\n",
      "    (conv2): Conv2d(512, 512, kernel_size=(3, 3), stride=(2, 2), padding=(1, 1), bias=False)\n",
      "    (bn2): BatchNorm2d(512, eps=1e-05, momentum=0.1, affine=True, track_running_stats=True)\n",
      "    (conv3): Conv2d(512, 2048, kernel_size=(1, 1), stride=(1, 1), bias=False)\n",
      "    (bn3): BatchNorm2d(2048, eps=1e-05, momentum=0.1, affine=True, track_running_stats=True)\n",
      "    (relu): ReLU(inplace=True)\n",
      "    (downsample): Sequential(\n",
      "      (0): Conv2d(1024, 2048, kernel_size=(1, 1), stride=(2, 2), bias=False)\n",
      "      (1): BatchNorm2d(2048, eps=1e-05, momentum=0.1, affine=True, track_running_stats=True)\n",
      "    )\n",
      "  )\n",
      "  (1): Bottleneck(\n",
      "    (conv1): Conv2d(2048, 512, kernel_size=(1, 1), stride=(1, 1), bias=False)\n",
      "    (bn1): BatchNorm2d(512, eps=1e-05, momentum=0.1, affine=True, track_running_stats=True)\n",
      "    (conv2): Conv2d(512, 512, kernel_size=(3, 3), stride=(1, 1), padding=(1, 1), bias=False)\n",
      "    (bn2): BatchNorm2d(512, eps=1e-05, momentum=0.1, affine=True, track_running_stats=True)\n",
      "    (conv3): Conv2d(512, 2048, kernel_size=(1, 1), stride=(1, 1), bias=False)\n",
      "    (bn3): BatchNorm2d(2048, eps=1e-05, momentum=0.1, affine=True, track_running_stats=True)\n",
      "    (relu): ReLU(inplace=True)\n",
      "  )\n",
      "  (2): Bottleneck(\n",
      "    (conv1): Conv2d(2048, 512, kernel_size=(1, 1), stride=(1, 1), bias=False)\n",
      "    (bn1): BatchNorm2d(512, eps=1e-05, momentum=0.1, affine=True, track_running_stats=True)\n",
      "    (conv2): Conv2d(512, 512, kernel_size=(3, 3), stride=(1, 1), padding=(1, 1), bias=False)\n",
      "    (bn2): BatchNorm2d(512, eps=1e-05, momentum=0.1, affine=True, track_running_stats=True)\n",
      "    (conv3): Conv2d(512, 2048, kernel_size=(1, 1), stride=(1, 1), bias=False)\n",
      "    (bn3): BatchNorm2d(2048, eps=1e-05, momentum=0.1, affine=True, track_running_stats=True)\n",
      "    (relu): ReLU(inplace=True)\n",
      "  )\n",
      "), AdaptiveAvgPool2d(output_size=(1, 1)), Linear(in_features=2048, out_features=1000, bias=True)]\n"
     ]
    }
   ],
   "source": [
    "# gives all layers\n",
    "print(list(backbone.children()))"
   ]
  },
  {
   "cell_type": "code",
   "execution_count": 126,
   "id": "13fcbd40",
   "metadata": {
    "execution": {
     "iopub.execute_input": "2024-12-21T14:06:46.423728Z",
     "iopub.status.busy": "2024-12-21T14:06:46.423388Z",
     "iopub.status.idle": "2024-12-21T14:06:46.429133Z",
     "shell.execute_reply": "2024-12-21T14:06:46.428272Z"
    },
    "papermill": {
     "duration": 0.077242,
     "end_time": "2024-12-21T14:06:46.430631",
     "exception": false,
     "start_time": "2024-12-21T14:06:46.353389",
     "status": "completed"
    },
    "tags": []
   },
   "outputs": [],
   "source": [
    "class ImagenetTransferLearning(pl.LightningModule):\n",
    "    def __init__(self):\n",
    "        super(ImagenetTransferLearning, self).__init__()\n",
    "\n",
    "        # init a pretrained resnet\n",
    "        backbone = models.resnet50(weights=\"DEFAULT\")\n",
    "        num_filters = backbone.fc.in_features\n",
    "        # get all layers except last one\n",
    "        layers = list(backbone.children())[:-1]\n",
    "        self.feature_extractor = nn.Sequential(*layers)\n",
    "        # set to eval mode cause these layers wont be training\n",
    "        self.feature_extractor.eval()\n",
    "\n",
    "        # use the pretrained model to classify cifar-10 (10 image classes)\n",
    "        num_target_classes = 10\n",
    "        self.classifier = nn.Linear(num_filters, num_target_classes)\n",
    "\n",
    "    def forward(self, x):\n",
    "        with torch.no_grad():\n",
    "            representations = self.feature_extractor(x).flatten(1)\n",
    "        x = self.classifier(representations)"
   ]
  },
  {
   "cell_type": "markdown",
   "id": "9a7d7e19",
   "metadata": {
    "papermill": {
     "duration": 0.068017,
     "end_time": "2024-12-21T14:06:46.568152",
     "exception": false,
     "start_time": "2024-12-21T14:06:46.500135",
     "status": "completed"
    },
    "tags": []
   },
   "source": []
  }
 ],
 "metadata": {
  "kaggle": {
   "accelerator": "gpu",
   "dataSources": [],
   "isGpuEnabled": true,
   "isInternetEnabled": true,
   "language": "python",
   "sourceType": "notebook"
  },
  "kernelspec": {
   "display_name": "Python 3",
   "language": "python",
   "name": "python3"
  },
  "language_info": {
   "codemirror_mode": {
    "name": "ipython",
    "version": 3
   },
   "file_extension": ".py",
   "mimetype": "text/x-python",
   "name": "python",
   "nbconvert_exporter": "python",
   "pygments_lexer": "ipython3",
   "version": "3.10.12"
  },
  "papermill": {
   "default_parameters": {},
   "duration": 1418.658076,
   "end_time": "2024-12-21T14:06:49.422690",
   "environment_variables": {},
   "exception": null,
   "input_path": "__notebook__.ipynb",
   "output_path": "__notebook__.ipynb",
   "parameters": {},
   "start_time": "2024-12-21T13:43:10.764614",
   "version": "2.6.0"
  },
  "widgets": {
   "application/vnd.jupyter.widget-state+json": {
    "state": {
     "01d00db2f19246cb8a1e71c5133fd400": {
      "model_module": "@jupyter-widgets/base",
      "model_module_version": "2.0.0",
      "model_name": "LayoutModel",
      "state": {
       "_model_module": "@jupyter-widgets/base",
       "_model_module_version": "2.0.0",
       "_model_name": "LayoutModel",
       "_view_count": null,
       "_view_module": "@jupyter-widgets/base",
       "_view_module_version": "2.0.0",
       "_view_name": "LayoutView",
       "align_content": null,
       "align_items": null,
       "align_self": null,
       "border_bottom": null,
       "border_left": null,
       "border_right": null,
       "border_top": null,
       "bottom": null,
       "display": null,
       "flex": null,
       "flex_flow": null,
       "grid_area": null,
       "grid_auto_columns": null,
       "grid_auto_flow": null,
       "grid_auto_rows": null,
       "grid_column": null,
       "grid_gap": null,
       "grid_row": null,
       "grid_template_areas": null,
       "grid_template_columns": null,
       "grid_template_rows": null,
       "height": null,
       "justify_content": null,
       "justify_items": null,
       "left": null,
       "margin": null,
       "max_height": null,
       "max_width": null,
       "min_height": null,
       "min_width": null,
       "object_fit": null,
       "object_position": null,
       "order": null,
       "overflow": null,
       "padding": null,
       "right": null,
       "top": null,
       "visibility": null,
       "width": null
      }
     },
     "0691b112e35c4e0baf4ea1d17aa18c3a": {
      "model_module": "@jupyter-widgets/controls",
      "model_module_version": "2.0.0",
      "model_name": "HTMLStyleModel",
      "state": {
       "_model_module": "@jupyter-widgets/controls",
       "_model_module_version": "2.0.0",
       "_model_name": "HTMLStyleModel",
       "_view_count": null,
       "_view_module": "@jupyter-widgets/base",
       "_view_module_version": "2.0.0",
       "_view_name": "StyleView",
       "background": null,
       "description_width": "",
       "font_size": null,
       "text_color": null
      }
     },
     "0974da983f1d421a8b54680cd8e06dfb": {
      "model_module": "@jupyter-widgets/controls",
      "model_module_version": "2.0.0",
      "model_name": "HTMLStyleModel",
      "state": {
       "_model_module": "@jupyter-widgets/controls",
       "_model_module_version": "2.0.0",
       "_model_name": "HTMLStyleModel",
       "_view_count": null,
       "_view_module": "@jupyter-widgets/base",
       "_view_module_version": "2.0.0",
       "_view_name": "StyleView",
       "background": null,
       "description_width": "",
       "font_size": null,
       "text_color": null
      }
     },
     "0efc85f6917c411c95fc0164b7eb9be8": {
      "model_module": "@jupyter-widgets/controls",
      "model_module_version": "2.0.0",
      "model_name": "HTMLModel",
      "state": {
       "_dom_classes": [],
       "_model_module": "@jupyter-widgets/controls",
       "_model_module_version": "2.0.0",
       "_model_name": "HTMLModel",
       "_view_count": null,
       "_view_module": "@jupyter-widgets/controls",
       "_view_module_version": "2.0.0",
       "_view_name": "HTMLView",
       "description": "",
       "description_allow_html": false,
       "layout": "IPY_MODEL_d49f5fb7ac0748d185bae5d42e08bdc6",
       "placeholder": "​",
       "style": "IPY_MODEL_d900128f7b44495baf881b5effc46e5a",
       "tabbable": null,
       "tooltip": null,
       "value": "Validation DataLoader 0: 100%"
      }
     },
     "0f06e73f72014f33aa9cb4d858100ff9": {
      "model_module": "@jupyter-widgets/controls",
      "model_module_version": "2.0.0",
      "model_name": "HTMLStyleModel",
      "state": {
       "_model_module": "@jupyter-widgets/controls",
       "_model_module_version": "2.0.0",
       "_model_name": "HTMLStyleModel",
       "_view_count": null,
       "_view_module": "@jupyter-widgets/base",
       "_view_module_version": "2.0.0",
       "_view_name": "StyleView",
       "background": null,
       "description_width": "",
       "font_size": null,
       "text_color": null
      }
     },
     "1003531521024c45aded182279f139d0": {
      "model_module": "@jupyter-widgets/base",
      "model_module_version": "2.0.0",
      "model_name": "LayoutModel",
      "state": {
       "_model_module": "@jupyter-widgets/base",
       "_model_module_version": "2.0.0",
       "_model_name": "LayoutModel",
       "_view_count": null,
       "_view_module": "@jupyter-widgets/base",
       "_view_module_version": "2.0.0",
       "_view_name": "LayoutView",
       "align_content": null,
       "align_items": null,
       "align_self": null,
       "border_bottom": null,
       "border_left": null,
       "border_right": null,
       "border_top": null,
       "bottom": null,
       "display": null,
       "flex": null,
       "flex_flow": null,
       "grid_area": null,
       "grid_auto_columns": null,
       "grid_auto_flow": null,
       "grid_auto_rows": null,
       "grid_column": null,
       "grid_gap": null,
       "grid_row": null,
       "grid_template_areas": null,
       "grid_template_columns": null,
       "grid_template_rows": null,
       "height": null,
       "justify_content": null,
       "justify_items": null,
       "left": null,
       "margin": null,
       "max_height": null,
       "max_width": null,
       "min_height": null,
       "min_width": null,
       "object_fit": null,
       "object_position": null,
       "order": null,
       "overflow": null,
       "padding": null,
       "right": null,
       "top": null,
       "visibility": null,
       "width": null
      }
     },
     "11096d8528e84af6b2d7f0bdc1f107c8": {
      "model_module": "@jupyter-widgets/base",
      "model_module_version": "2.0.0",
      "model_name": "LayoutModel",
      "state": {
       "_model_module": "@jupyter-widgets/base",
       "_model_module_version": "2.0.0",
       "_model_name": "LayoutModel",
       "_view_count": null,
       "_view_module": "@jupyter-widgets/base",
       "_view_module_version": "2.0.0",
       "_view_name": "LayoutView",
       "align_content": null,
       "align_items": null,
       "align_self": null,
       "border_bottom": null,
       "border_left": null,
       "border_right": null,
       "border_top": null,
       "bottom": null,
       "display": null,
       "flex": null,
       "flex_flow": null,
       "grid_area": null,
       "grid_auto_columns": null,
       "grid_auto_flow": null,
       "grid_auto_rows": null,
       "grid_column": null,
       "grid_gap": null,
       "grid_row": null,
       "grid_template_areas": null,
       "grid_template_columns": null,
       "grid_template_rows": null,
       "height": null,
       "justify_content": null,
       "justify_items": null,
       "left": null,
       "margin": null,
       "max_height": null,
       "max_width": null,
       "min_height": null,
       "min_width": null,
       "object_fit": null,
       "object_position": null,
       "order": null,
       "overflow": null,
       "padding": null,
       "right": null,
       "top": null,
       "visibility": null,
       "width": null
      }
     },
     "1d51067a81cf4e29b120edf5797c7ff4": {
      "model_module": "@jupyter-widgets/controls",
      "model_module_version": "2.0.0",
      "model_name": "HTMLModel",
      "state": {
       "_dom_classes": [],
       "_model_module": "@jupyter-widgets/controls",
       "_model_module_version": "2.0.0",
       "_model_name": "HTMLModel",
       "_view_count": null,
       "_view_module": "@jupyter-widgets/controls",
       "_view_module_version": "2.0.0",
       "_view_name": "HTMLView",
       "description": "",
       "description_allow_html": false,
       "layout": "IPY_MODEL_11096d8528e84af6b2d7f0bdc1f107c8",
       "placeholder": "​",
       "style": "IPY_MODEL_0974da983f1d421a8b54680cd8e06dfb",
       "tabbable": null,
       "tooltip": null,
       "value": "Validation DataLoader 0: 100%"
      }
     },
     "1e0858f7488e4f9dbaa205fff7a08a1a": {
      "model_module": "@jupyter-widgets/base",
      "model_module_version": "2.0.0",
      "model_name": "LayoutModel",
      "state": {
       "_model_module": "@jupyter-widgets/base",
       "_model_module_version": "2.0.0",
       "_model_name": "LayoutModel",
       "_view_count": null,
       "_view_module": "@jupyter-widgets/base",
       "_view_module_version": "2.0.0",
       "_view_name": "LayoutView",
       "align_content": null,
       "align_items": null,
       "align_self": null,
       "border_bottom": null,
       "border_left": null,
       "border_right": null,
       "border_top": null,
       "bottom": null,
       "display": "inline-flex",
       "flex": null,
       "flex_flow": "row wrap",
       "grid_area": null,
       "grid_auto_columns": null,
       "grid_auto_flow": null,
       "grid_auto_rows": null,
       "grid_column": null,
       "grid_gap": null,
       "grid_row": null,
       "grid_template_areas": null,
       "grid_template_columns": null,
       "grid_template_rows": null,
       "height": null,
       "justify_content": null,
       "justify_items": null,
       "left": null,
       "margin": null,
       "max_height": null,
       "max_width": null,
       "min_height": null,
       "min_width": null,
       "object_fit": null,
       "object_position": null,
       "order": null,
       "overflow": null,
       "padding": null,
       "right": null,
       "top": null,
       "visibility": "hidden",
       "width": "100%"
      }
     },
     "1e5099a47d894d08a21de7a04558469b": {
      "model_module": "@jupyter-widgets/controls",
      "model_module_version": "2.0.0",
      "model_name": "ProgressStyleModel",
      "state": {
       "_model_module": "@jupyter-widgets/controls",
       "_model_module_version": "2.0.0",
       "_model_name": "ProgressStyleModel",
       "_view_count": null,
       "_view_module": "@jupyter-widgets/base",
       "_view_module_version": "2.0.0",
       "_view_name": "StyleView",
       "bar_color": null,
       "description_width": ""
      }
     },
     "22e1fa5c14a14c5fa5f02ae2615148ea": {
      "model_module": "@jupyter-widgets/controls",
      "model_module_version": "2.0.0",
      "model_name": "HBoxModel",
      "state": {
       "_dom_classes": [],
       "_model_module": "@jupyter-widgets/controls",
       "_model_module_version": "2.0.0",
       "_model_name": "HBoxModel",
       "_view_count": null,
       "_view_module": "@jupyter-widgets/controls",
       "_view_module_version": "2.0.0",
       "_view_name": "HBoxView",
       "box_style": "",
       "children": [
        "IPY_MODEL_ee9171ecc2a245e5a0e71c7246eca34c",
        "IPY_MODEL_373ba64136aa4c48a549a8ac39fe4833",
        "IPY_MODEL_8ccacbe298e84cc3bfd01910095511ec"
       ],
       "layout": "IPY_MODEL_3b90873de49e4e05bad785276101c51e",
       "tabbable": null,
       "tooltip": null
      }
     },
     "234c57d361ac453399a6a7cc88a1f52b": {
      "model_module": "@jupyter-widgets/base",
      "model_module_version": "2.0.0",
      "model_name": "LayoutModel",
      "state": {
       "_model_module": "@jupyter-widgets/base",
       "_model_module_version": "2.0.0",
       "_model_name": "LayoutModel",
       "_view_count": null,
       "_view_module": "@jupyter-widgets/base",
       "_view_module_version": "2.0.0",
       "_view_name": "LayoutView",
       "align_content": null,
       "align_items": null,
       "align_self": null,
       "border_bottom": null,
       "border_left": null,
       "border_right": null,
       "border_top": null,
       "bottom": null,
       "display": null,
       "flex": "2",
       "flex_flow": null,
       "grid_area": null,
       "grid_auto_columns": null,
       "grid_auto_flow": null,
       "grid_auto_rows": null,
       "grid_column": null,
       "grid_gap": null,
       "grid_row": null,
       "grid_template_areas": null,
       "grid_template_columns": null,
       "grid_template_rows": null,
       "height": null,
       "justify_content": null,
       "justify_items": null,
       "left": null,
       "margin": null,
       "max_height": null,
       "max_width": null,
       "min_height": null,
       "min_width": null,
       "object_fit": null,
       "object_position": null,
       "order": null,
       "overflow": null,
       "padding": null,
       "right": null,
       "top": null,
       "visibility": null,
       "width": null
      }
     },
     "283822564d9046edbb1ebee7dfd4390b": {
      "model_module": "@jupyter-widgets/controls",
      "model_module_version": "2.0.0",
      "model_name": "HTMLStyleModel",
      "state": {
       "_model_module": "@jupyter-widgets/controls",
       "_model_module_version": "2.0.0",
       "_model_name": "HTMLStyleModel",
       "_view_count": null,
       "_view_module": "@jupyter-widgets/base",
       "_view_module_version": "2.0.0",
       "_view_name": "StyleView",
       "background": null,
       "description_width": "",
       "font_size": null,
       "text_color": null
      }
     },
     "3701a964563047a9ba0b251823cfd894": {
      "model_module": "@jupyter-widgets/controls",
      "model_module_version": "2.0.0",
      "model_name": "HBoxModel",
      "state": {
       "_dom_classes": [],
       "_model_module": "@jupyter-widgets/controls",
       "_model_module_version": "2.0.0",
       "_model_name": "HBoxModel",
       "_view_count": null,
       "_view_module": "@jupyter-widgets/controls",
       "_view_module_version": "2.0.0",
       "_view_name": "HBoxView",
       "box_style": "",
       "children": [
        "IPY_MODEL_d3167946c839488fbf8eb5c5749a631a",
        "IPY_MODEL_accdb40dc8ea4664b1c7da784f1b6992",
        "IPY_MODEL_cf65de18721c4d5aa71a479966f07623"
       ],
       "layout": "IPY_MODEL_cdfd4b8f53cd4cc3ac3c0c4b9e5230ad",
       "tabbable": null,
       "tooltip": null
      }
     },
     "373ba64136aa4c48a549a8ac39fe4833": {
      "model_module": "@jupyter-widgets/controls",
      "model_module_version": "2.0.0",
      "model_name": "FloatProgressModel",
      "state": {
       "_dom_classes": [],
       "_model_module": "@jupyter-widgets/controls",
       "_model_module_version": "2.0.0",
       "_model_name": "FloatProgressModel",
       "_view_count": null,
       "_view_module": "@jupyter-widgets/controls",
       "_view_module_version": "2.0.0",
       "_view_name": "ProgressView",
       "bar_style": "",
       "description": "",
       "description_allow_html": false,
       "layout": "IPY_MODEL_46eb5e06b3fe4fe5a0adab0fd3445f68",
       "max": 2.0,
       "min": 0.0,
       "orientation": "horizontal",
       "style": "IPY_MODEL_1e5099a47d894d08a21de7a04558469b",
       "tabbable": null,
       "tooltip": null,
       "value": 2.0
      }
     },
     "3b5022b8be0443d0bbfde74e46f474e8": {
      "model_module": "@jupyter-widgets/controls",
      "model_module_version": "2.0.0",
      "model_name": "HTMLModel",
      "state": {
       "_dom_classes": [],
       "_model_module": "@jupyter-widgets/controls",
       "_model_module_version": "2.0.0",
       "_model_name": "HTMLModel",
       "_view_count": null,
       "_view_module": "@jupyter-widgets/controls",
       "_view_module_version": "2.0.0",
       "_view_name": "HTMLView",
       "description": "",
       "description_allow_html": false,
       "layout": "IPY_MODEL_dc277c94a4794a2ba04677fd62bfc4a0",
       "placeholder": "​",
       "style": "IPY_MODEL_a4d3062cdc9f4590bc61f5f262f71785",
       "tabbable": null,
       "tooltip": null,
       "value": "Testing DataLoader 0: 100%"
      }
     },
     "3b90873de49e4e05bad785276101c51e": {
      "model_module": "@jupyter-widgets/base",
      "model_module_version": "2.0.0",
      "model_name": "LayoutModel",
      "state": {
       "_model_module": "@jupyter-widgets/base",
       "_model_module_version": "2.0.0",
       "_model_name": "LayoutModel",
       "_view_count": null,
       "_view_module": "@jupyter-widgets/base",
       "_view_module_version": "2.0.0",
       "_view_name": "LayoutView",
       "align_content": null,
       "align_items": null,
       "align_self": null,
       "border_bottom": null,
       "border_left": null,
       "border_right": null,
       "border_top": null,
       "bottom": null,
       "display": "inline-flex",
       "flex": null,
       "flex_flow": "row wrap",
       "grid_area": null,
       "grid_auto_columns": null,
       "grid_auto_flow": null,
       "grid_auto_rows": null,
       "grid_column": null,
       "grid_gap": null,
       "grid_row": null,
       "grid_template_areas": null,
       "grid_template_columns": null,
       "grid_template_rows": null,
       "height": null,
       "justify_content": null,
       "justify_items": null,
       "left": null,
       "margin": null,
       "max_height": null,
       "max_width": null,
       "min_height": null,
       "min_width": null,
       "object_fit": null,
       "object_position": null,
       "order": null,
       "overflow": null,
       "padding": null,
       "right": null,
       "top": null,
       "visibility": "hidden",
       "width": "100%"
      }
     },
     "3bd9cc183ed04257974dd8bfd88ed575": {
      "model_module": "@jupyter-widgets/base",
      "model_module_version": "2.0.0",
      "model_name": "LayoutModel",
      "state": {
       "_model_module": "@jupyter-widgets/base",
       "_model_module_version": "2.0.0",
       "_model_name": "LayoutModel",
       "_view_count": null,
       "_view_module": "@jupyter-widgets/base",
       "_view_module_version": "2.0.0",
       "_view_name": "LayoutView",
       "align_content": null,
       "align_items": null,
       "align_self": null,
       "border_bottom": null,
       "border_left": null,
       "border_right": null,
       "border_top": null,
       "bottom": null,
       "display": null,
       "flex": "2",
       "flex_flow": null,
       "grid_area": null,
       "grid_auto_columns": null,
       "grid_auto_flow": null,
       "grid_auto_rows": null,
       "grid_column": null,
       "grid_gap": null,
       "grid_row": null,
       "grid_template_areas": null,
       "grid_template_columns": null,
       "grid_template_rows": null,
       "height": null,
       "justify_content": null,
       "justify_items": null,
       "left": null,
       "margin": null,
       "max_height": null,
       "max_width": null,
       "min_height": null,
       "min_width": null,
       "object_fit": null,
       "object_position": null,
       "order": null,
       "overflow": null,
       "padding": null,
       "right": null,
       "top": null,
       "visibility": null,
       "width": null
      }
     },
     "3d82814194d8419eb6c2d9874ff50715": {
      "model_module": "@jupyter-widgets/base",
      "model_module_version": "2.0.0",
      "model_name": "LayoutModel",
      "state": {
       "_model_module": "@jupyter-widgets/base",
       "_model_module_version": "2.0.0",
       "_model_name": "LayoutModel",
       "_view_count": null,
       "_view_module": "@jupyter-widgets/base",
       "_view_module_version": "2.0.0",
       "_view_name": "LayoutView",
       "align_content": null,
       "align_items": null,
       "align_self": null,
       "border_bottom": null,
       "border_left": null,
       "border_right": null,
       "border_top": null,
       "bottom": null,
       "display": null,
       "flex": null,
       "flex_flow": null,
       "grid_area": null,
       "grid_auto_columns": null,
       "grid_auto_flow": null,
       "grid_auto_rows": null,
       "grid_column": null,
       "grid_gap": null,
       "grid_row": null,
       "grid_template_areas": null,
       "grid_template_columns": null,
       "grid_template_rows": null,
       "height": null,
       "justify_content": null,
       "justify_items": null,
       "left": null,
       "margin": null,
       "max_height": null,
       "max_width": null,
       "min_height": null,
       "min_width": null,
       "object_fit": null,
       "object_position": null,
       "order": null,
       "overflow": null,
       "padding": null,
       "right": null,
       "top": null,
       "visibility": null,
       "width": null
      }
     },
     "46eb5e06b3fe4fe5a0adab0fd3445f68": {
      "model_module": "@jupyter-widgets/base",
      "model_module_version": "2.0.0",
      "model_name": "LayoutModel",
      "state": {
       "_model_module": "@jupyter-widgets/base",
       "_model_module_version": "2.0.0",
       "_model_name": "LayoutModel",
       "_view_count": null,
       "_view_module": "@jupyter-widgets/base",
       "_view_module_version": "2.0.0",
       "_view_name": "LayoutView",
       "align_content": null,
       "align_items": null,
       "align_self": null,
       "border_bottom": null,
       "border_left": null,
       "border_right": null,
       "border_top": null,
       "bottom": null,
       "display": null,
       "flex": "2",
       "flex_flow": null,
       "grid_area": null,
       "grid_auto_columns": null,
       "grid_auto_flow": null,
       "grid_auto_rows": null,
       "grid_column": null,
       "grid_gap": null,
       "grid_row": null,
       "grid_template_areas": null,
       "grid_template_columns": null,
       "grid_template_rows": null,
       "height": null,
       "justify_content": null,
       "justify_items": null,
       "left": null,
       "margin": null,
       "max_height": null,
       "max_width": null,
       "min_height": null,
       "min_width": null,
       "object_fit": null,
       "object_position": null,
       "order": null,
       "overflow": null,
       "padding": null,
       "right": null,
       "top": null,
       "visibility": null,
       "width": null
      }
     },
     "49e7047a2baf44938b31667ed0433d56": {
      "model_module": "@jupyter-widgets/controls",
      "model_module_version": "2.0.0",
      "model_name": "ProgressStyleModel",
      "state": {
       "_model_module": "@jupyter-widgets/controls",
       "_model_module_version": "2.0.0",
       "_model_name": "ProgressStyleModel",
       "_view_count": null,
       "_view_module": "@jupyter-widgets/base",
       "_view_module_version": "2.0.0",
       "_view_name": "StyleView",
       "bar_color": null,
       "description_width": ""
      }
     },
     "4a4596fc3ace44be94f4087fe74c0c9f": {
      "model_module": "@jupyter-widgets/controls",
      "model_module_version": "2.0.0",
      "model_name": "FloatProgressModel",
      "state": {
       "_dom_classes": [],
       "_model_module": "@jupyter-widgets/controls",
       "_model_module_version": "2.0.0",
       "_model_name": "FloatProgressModel",
       "_view_count": null,
       "_view_module": "@jupyter-widgets/controls",
       "_view_module_version": "2.0.0",
       "_view_name": "ProgressView",
       "bar_style": "",
       "description": "",
       "description_allow_html": false,
       "layout": "IPY_MODEL_790e2a6845104f0cb0342884ae5a4c55",
       "max": 100.0,
       "min": 0.0,
       "orientation": "horizontal",
       "style": "IPY_MODEL_d68d28c2049a4d15ac589795d22079a3",
       "tabbable": null,
       "tooltip": null,
       "value": 100.0
      }
     },
     "4af2282fbb5742b39a15c0d71642617e": {
      "model_module": "@jupyter-widgets/controls",
      "model_module_version": "2.0.0",
      "model_name": "HTMLStyleModel",
      "state": {
       "_model_module": "@jupyter-widgets/controls",
       "_model_module_version": "2.0.0",
       "_model_name": "HTMLStyleModel",
       "_view_count": null,
       "_view_module": "@jupyter-widgets/base",
       "_view_module_version": "2.0.0",
       "_view_name": "StyleView",
       "background": null,
       "description_width": "",
       "font_size": null,
       "text_color": null
      }
     },
     "50370d1c455c4a8face58c91dc5a3846": {
      "model_module": "@jupyter-widgets/controls",
      "model_module_version": "2.0.0",
      "model_name": "HBoxModel",
      "state": {
       "_dom_classes": [],
       "_model_module": "@jupyter-widgets/controls",
       "_model_module_version": "2.0.0",
       "_model_name": "HBoxModel",
       "_view_count": null,
       "_view_module": "@jupyter-widgets/controls",
       "_view_module_version": "2.0.0",
       "_view_name": "HBoxView",
       "box_style": "",
       "children": [
        "IPY_MODEL_0efc85f6917c411c95fc0164b7eb9be8",
        "IPY_MODEL_a27bec6bf269411cb46c3969344d8a77",
        "IPY_MODEL_73054e133f9c41d89d29a2dc90a74f71"
       ],
       "layout": "IPY_MODEL_624f15615caa42dd92c0e290156e9723",
       "tabbable": null,
       "tooltip": null
      }
     },
     "624f15615caa42dd92c0e290156e9723": {
      "model_module": "@jupyter-widgets/base",
      "model_module_version": "2.0.0",
      "model_name": "LayoutModel",
      "state": {
       "_model_module": "@jupyter-widgets/base",
       "_model_module_version": "2.0.0",
       "_model_name": "LayoutModel",
       "_view_count": null,
       "_view_module": "@jupyter-widgets/base",
       "_view_module_version": "2.0.0",
       "_view_name": "LayoutView",
       "align_content": null,
       "align_items": null,
       "align_self": null,
       "border_bottom": null,
       "border_left": null,
       "border_right": null,
       "border_top": null,
       "bottom": null,
       "display": "inline-flex",
       "flex": null,
       "flex_flow": "row wrap",
       "grid_area": null,
       "grid_auto_columns": null,
       "grid_auto_flow": null,
       "grid_auto_rows": null,
       "grid_column": null,
       "grid_gap": null,
       "grid_row": null,
       "grid_template_areas": null,
       "grid_template_columns": null,
       "grid_template_rows": null,
       "height": null,
       "justify_content": null,
       "justify_items": null,
       "left": null,
       "margin": null,
       "max_height": null,
       "max_width": null,
       "min_height": null,
       "min_width": null,
       "object_fit": null,
       "object_position": null,
       "order": null,
       "overflow": null,
       "padding": null,
       "right": null,
       "top": null,
       "visibility": "hidden",
       "width": "100%"
      }
     },
     "6e0ab666aa1a4c5d91b702e9a29c10bc": {
      "model_module": "@jupyter-widgets/base",
      "model_module_version": "2.0.0",
      "model_name": "LayoutModel",
      "state": {
       "_model_module": "@jupyter-widgets/base",
       "_model_module_version": "2.0.0",
       "_model_name": "LayoutModel",
       "_view_count": null,
       "_view_module": "@jupyter-widgets/base",
       "_view_module_version": "2.0.0",
       "_view_name": "LayoutView",
       "align_content": null,
       "align_items": null,
       "align_self": null,
       "border_bottom": null,
       "border_left": null,
       "border_right": null,
       "border_top": null,
       "bottom": null,
       "display": null,
       "flex": null,
       "flex_flow": null,
       "grid_area": null,
       "grid_auto_columns": null,
       "grid_auto_flow": null,
       "grid_auto_rows": null,
       "grid_column": null,
       "grid_gap": null,
       "grid_row": null,
       "grid_template_areas": null,
       "grid_template_columns": null,
       "grid_template_rows": null,
       "height": null,
       "justify_content": null,
       "justify_items": null,
       "left": null,
       "margin": null,
       "max_height": null,
       "max_width": null,
       "min_height": null,
       "min_width": null,
       "object_fit": null,
       "object_position": null,
       "order": null,
       "overflow": null,
       "padding": null,
       "right": null,
       "top": null,
       "visibility": null,
       "width": null
      }
     },
     "73054e133f9c41d89d29a2dc90a74f71": {
      "model_module": "@jupyter-widgets/controls",
      "model_module_version": "2.0.0",
      "model_name": "HTMLModel",
      "state": {
       "_dom_classes": [],
       "_model_module": "@jupyter-widgets/controls",
       "_model_module_version": "2.0.0",
       "_model_name": "HTMLModel",
       "_view_count": null,
       "_view_module": "@jupyter-widgets/controls",
       "_view_module_version": "2.0.0",
       "_view_name": "HTMLView",
       "description": "",
       "description_allow_html": false,
       "layout": "IPY_MODEL_e2fcd44622b944d79a114af2f5044287",
       "placeholder": "​",
       "style": "IPY_MODEL_0691b112e35c4e0baf4ea1d17aa18c3a",
       "tabbable": null,
       "tooltip": null,
       "value": " 100/100 [00:00&lt;00:00, 154.95it/s]"
      }
     },
     "790e2a6845104f0cb0342884ae5a4c55": {
      "model_module": "@jupyter-widgets/base",
      "model_module_version": "2.0.0",
      "model_name": "LayoutModel",
      "state": {
       "_model_module": "@jupyter-widgets/base",
       "_model_module_version": "2.0.0",
       "_model_name": "LayoutModel",
       "_view_count": null,
       "_view_module": "@jupyter-widgets/base",
       "_view_module_version": "2.0.0",
       "_view_name": "LayoutView",
       "align_content": null,
       "align_items": null,
       "align_self": null,
       "border_bottom": null,
       "border_left": null,
       "border_right": null,
       "border_top": null,
       "bottom": null,
       "display": null,
       "flex": "2",
       "flex_flow": null,
       "grid_area": null,
       "grid_auto_columns": null,
       "grid_auto_flow": null,
       "grid_auto_rows": null,
       "grid_column": null,
       "grid_gap": null,
       "grid_row": null,
       "grid_template_areas": null,
       "grid_template_columns": null,
       "grid_template_rows": null,
       "height": null,
       "justify_content": null,
       "justify_items": null,
       "left": null,
       "margin": null,
       "max_height": null,
       "max_width": null,
       "min_height": null,
       "min_width": null,
       "object_fit": null,
       "object_position": null,
       "order": null,
       "overflow": null,
       "padding": null,
       "right": null,
       "top": null,
       "visibility": null,
       "width": null
      }
     },
     "79eabe971259445d8ee20faf447c0eaa": {
      "model_module": "@jupyter-widgets/base",
      "model_module_version": "2.0.0",
      "model_name": "LayoutModel",
      "state": {
       "_model_module": "@jupyter-widgets/base",
       "_model_module_version": "2.0.0",
       "_model_name": "LayoutModel",
       "_view_count": null,
       "_view_module": "@jupyter-widgets/base",
       "_view_module_version": "2.0.0",
       "_view_name": "LayoutView",
       "align_content": null,
       "align_items": null,
       "align_self": null,
       "border_bottom": null,
       "border_left": null,
       "border_right": null,
       "border_top": null,
       "bottom": null,
       "display": null,
       "flex": null,
       "flex_flow": null,
       "grid_area": null,
       "grid_auto_columns": null,
       "grid_auto_flow": null,
       "grid_auto_rows": null,
       "grid_column": null,
       "grid_gap": null,
       "grid_row": null,
       "grid_template_areas": null,
       "grid_template_columns": null,
       "grid_template_rows": null,
       "height": null,
       "justify_content": null,
       "justify_items": null,
       "left": null,
       "margin": null,
       "max_height": null,
       "max_width": null,
       "min_height": null,
       "min_width": null,
       "object_fit": null,
       "object_position": null,
       "order": null,
       "overflow": null,
       "padding": null,
       "right": null,
       "top": null,
       "visibility": null,
       "width": null
      }
     },
     "7d58bedab3a3430fa58fe3434fa5a7a9": {
      "model_module": "@jupyter-widgets/controls",
      "model_module_version": "2.0.0",
      "model_name": "HTMLStyleModel",
      "state": {
       "_model_module": "@jupyter-widgets/controls",
       "_model_module_version": "2.0.0",
       "_model_name": "HTMLStyleModel",
       "_view_count": null,
       "_view_module": "@jupyter-widgets/base",
       "_view_module_version": "2.0.0",
       "_view_name": "StyleView",
       "background": null,
       "description_width": "",
       "font_size": null,
       "text_color": null
      }
     },
     "8284cc904fa846b5be46119637c66eba": {
      "model_module": "@jupyter-widgets/controls",
      "model_module_version": "2.0.0",
      "model_name": "ProgressStyleModel",
      "state": {
       "_model_module": "@jupyter-widgets/controls",
       "_model_module_version": "2.0.0",
       "_model_name": "ProgressStyleModel",
       "_view_count": null,
       "_view_module": "@jupyter-widgets/base",
       "_view_module_version": "2.0.0",
       "_view_name": "StyleView",
       "bar_color": null,
       "description_width": ""
      }
     },
     "8296f3aa9653494b9ebd8fd06f5f7791": {
      "model_module": "@jupyter-widgets/controls",
      "model_module_version": "2.0.0",
      "model_name": "HTMLModel",
      "state": {
       "_dom_classes": [],
       "_model_module": "@jupyter-widgets/controls",
       "_model_module_version": "2.0.0",
       "_model_name": "HTMLModel",
       "_view_count": null,
       "_view_module": "@jupyter-widgets/controls",
       "_view_module_version": "2.0.0",
       "_view_name": "HTMLView",
       "description": "",
       "description_allow_html": false,
       "layout": "IPY_MODEL_3d82814194d8419eb6c2d9874ff50715",
       "placeholder": "​",
       "style": "IPY_MODEL_b1506fb567da4e72975ecbed20642b63",
       "tabbable": null,
       "tooltip": null,
       "value": " 100/100 [00:00&lt;00:00, 156.16it/s]"
      }
     },
     "8ccacbe298e84cc3bfd01910095511ec": {
      "model_module": "@jupyter-widgets/controls",
      "model_module_version": "2.0.0",
      "model_name": "HTMLModel",
      "state": {
       "_dom_classes": [],
       "_model_module": "@jupyter-widgets/controls",
       "_model_module_version": "2.0.0",
       "_model_name": "HTMLModel",
       "_view_count": null,
       "_view_module": "@jupyter-widgets/controls",
       "_view_module_version": "2.0.0",
       "_view_name": "HTMLView",
       "description": "",
       "description_allow_html": false,
       "layout": "IPY_MODEL_79eabe971259445d8ee20faf447c0eaa",
       "placeholder": "​",
       "style": "IPY_MODEL_4af2282fbb5742b39a15c0d71642617e",
       "tabbable": null,
       "tooltip": null,
       "value": " 2/2 [00:00&lt;00:00,  3.85it/s]"
      }
     },
     "9af8049e14234452baea29c95be34c5c": {
      "model_module": "@jupyter-widgets/controls",
      "model_module_version": "2.0.0",
      "model_name": "HBoxModel",
      "state": {
       "_dom_classes": [],
       "_model_module": "@jupyter-widgets/controls",
       "_model_module_version": "2.0.0",
       "_model_name": "HBoxModel",
       "_view_count": null,
       "_view_module": "@jupyter-widgets/controls",
       "_view_module_version": "2.0.0",
       "_view_name": "HBoxView",
       "box_style": "",
       "children": [
        "IPY_MODEL_1d51067a81cf4e29b120edf5797c7ff4",
        "IPY_MODEL_4a4596fc3ace44be94f4087fe74c0c9f",
        "IPY_MODEL_f0b5f386ac344275b9807939a94c2d21"
       ],
       "layout": "IPY_MODEL_1e0858f7488e4f9dbaa205fff7a08a1a",
       "tabbable": null,
       "tooltip": null
      }
     },
     "a06a143484254979b4019a73853ae224": {
      "model_module": "@jupyter-widgets/base",
      "model_module_version": "2.0.0",
      "model_name": "LayoutModel",
      "state": {
       "_model_module": "@jupyter-widgets/base",
       "_model_module_version": "2.0.0",
       "_model_name": "LayoutModel",
       "_view_count": null,
       "_view_module": "@jupyter-widgets/base",
       "_view_module_version": "2.0.0",
       "_view_name": "LayoutView",
       "align_content": null,
       "align_items": null,
       "align_self": null,
       "border_bottom": null,
       "border_left": null,
       "border_right": null,
       "border_top": null,
       "bottom": null,
       "display": "inline-flex",
       "flex": null,
       "flex_flow": "row wrap",
       "grid_area": null,
       "grid_auto_columns": null,
       "grid_auto_flow": null,
       "grid_auto_rows": null,
       "grid_column": null,
       "grid_gap": null,
       "grid_row": null,
       "grid_template_areas": null,
       "grid_template_columns": null,
       "grid_template_rows": null,
       "height": null,
       "justify_content": null,
       "justify_items": null,
       "left": null,
       "margin": null,
       "max_height": null,
       "max_width": null,
       "min_height": null,
       "min_width": null,
       "object_fit": null,
       "object_position": null,
       "order": null,
       "overflow": null,
       "padding": null,
       "right": null,
       "top": null,
       "visibility": null,
       "width": "100%"
      }
     },
     "a1602dc90f9d4be6b6dc0a71d539cb36": {
      "model_module": "@jupyter-widgets/controls",
      "model_module_version": "2.0.0",
      "model_name": "ProgressStyleModel",
      "state": {
       "_model_module": "@jupyter-widgets/controls",
       "_model_module_version": "2.0.0",
       "_model_name": "ProgressStyleModel",
       "_view_count": null,
       "_view_module": "@jupyter-widgets/base",
       "_view_module_version": "2.0.0",
       "_view_name": "StyleView",
       "bar_color": null,
       "description_width": ""
      }
     },
     "a27bec6bf269411cb46c3969344d8a77": {
      "model_module": "@jupyter-widgets/controls",
      "model_module_version": "2.0.0",
      "model_name": "FloatProgressModel",
      "state": {
       "_dom_classes": [],
       "_model_module": "@jupyter-widgets/controls",
       "_model_module_version": "2.0.0",
       "_model_name": "FloatProgressModel",
       "_view_count": null,
       "_view_module": "@jupyter-widgets/controls",
       "_view_module_version": "2.0.0",
       "_view_name": "ProgressView",
       "bar_style": "",
       "description": "",
       "description_allow_html": false,
       "layout": "IPY_MODEL_234c57d361ac453399a6a7cc88a1f52b",
       "max": 100.0,
       "min": 0.0,
       "orientation": "horizontal",
       "style": "IPY_MODEL_8284cc904fa846b5be46119637c66eba",
       "tabbable": null,
       "tooltip": null,
       "value": 100.0
      }
     },
     "a4d3062cdc9f4590bc61f5f262f71785": {
      "model_module": "@jupyter-widgets/controls",
      "model_module_version": "2.0.0",
      "model_name": "HTMLStyleModel",
      "state": {
       "_model_module": "@jupyter-widgets/controls",
       "_model_module_version": "2.0.0",
       "_model_name": "HTMLStyleModel",
       "_view_count": null,
       "_view_module": "@jupyter-widgets/base",
       "_view_module_version": "2.0.0",
       "_view_name": "StyleView",
       "background": null,
       "description_width": "",
       "font_size": null,
       "text_color": null
      }
     },
     "aab5d2c66ac94791af4cd849c43a713f": {
      "model_module": "@jupyter-widgets/controls",
      "model_module_version": "2.0.0",
      "model_name": "HTMLStyleModel",
      "state": {
       "_model_module": "@jupyter-widgets/controls",
       "_model_module_version": "2.0.0",
       "_model_name": "HTMLStyleModel",
       "_view_count": null,
       "_view_module": "@jupyter-widgets/base",
       "_view_module_version": "2.0.0",
       "_view_name": "StyleView",
       "background": null,
       "description_width": "",
       "font_size": null,
       "text_color": null
      }
     },
     "accdb40dc8ea4664b1c7da784f1b6992": {
      "model_module": "@jupyter-widgets/controls",
      "model_module_version": "2.0.0",
      "model_name": "FloatProgressModel",
      "state": {
       "_dom_classes": [],
       "_model_module": "@jupyter-widgets/controls",
       "_model_module_version": "2.0.0",
       "_model_name": "FloatProgressModel",
       "_view_count": null,
       "_view_module": "@jupyter-widgets/controls",
       "_view_module_version": "2.0.0",
       "_view_name": "ProgressView",
       "bar_style": "success",
       "description": "",
       "description_allow_html": false,
       "layout": "IPY_MODEL_d78eb3e102b3468f9fba6818b21008d9",
       "max": 600.0,
       "min": 0.0,
       "orientation": "horizontal",
       "style": "IPY_MODEL_49e7047a2baf44938b31667ed0433d56",
       "tabbable": null,
       "tooltip": null,
       "value": 600.0
      }
     },
     "b1506fb567da4e72975ecbed20642b63": {
      "model_module": "@jupyter-widgets/controls",
      "model_module_version": "2.0.0",
      "model_name": "HTMLStyleModel",
      "state": {
       "_model_module": "@jupyter-widgets/controls",
       "_model_module_version": "2.0.0",
       "_model_name": "HTMLStyleModel",
       "_view_count": null,
       "_view_module": "@jupyter-widgets/base",
       "_view_module_version": "2.0.0",
       "_view_name": "StyleView",
       "background": null,
       "description_width": "",
       "font_size": null,
       "text_color": null
      }
     },
     "b9ca21474ecc4e1fb8bcec1cdff73f06": {
      "model_module": "@jupyter-widgets/controls",
      "model_module_version": "2.0.0",
      "model_name": "HBoxModel",
      "state": {
       "_dom_classes": [],
       "_model_module": "@jupyter-widgets/controls",
       "_model_module_version": "2.0.0",
       "_model_name": "HBoxModel",
       "_view_count": null,
       "_view_module": "@jupyter-widgets/controls",
       "_view_module_version": "2.0.0",
       "_view_name": "HBoxView",
       "box_style": "",
       "children": [
        "IPY_MODEL_3b5022b8be0443d0bbfde74e46f474e8",
        "IPY_MODEL_d193597f9a344f17b9479ffe6a89a245",
        "IPY_MODEL_8296f3aa9653494b9ebd8fd06f5f7791"
       ],
       "layout": "IPY_MODEL_a06a143484254979b4019a73853ae224",
       "tabbable": null,
       "tooltip": null
      }
     },
     "c336eef2993b43d88c2aafad5719c573": {
      "model_module": "@jupyter-widgets/base",
      "model_module_version": "2.0.0",
      "model_name": "LayoutModel",
      "state": {
       "_model_module": "@jupyter-widgets/base",
       "_model_module_version": "2.0.0",
       "_model_name": "LayoutModel",
       "_view_count": null,
       "_view_module": "@jupyter-widgets/base",
       "_view_module_version": "2.0.0",
       "_view_name": "LayoutView",
       "align_content": null,
       "align_items": null,
       "align_self": null,
       "border_bottom": null,
       "border_left": null,
       "border_right": null,
       "border_top": null,
       "bottom": null,
       "display": null,
       "flex": null,
       "flex_flow": null,
       "grid_area": null,
       "grid_auto_columns": null,
       "grid_auto_flow": null,
       "grid_auto_rows": null,
       "grid_column": null,
       "grid_gap": null,
       "grid_row": null,
       "grid_template_areas": null,
       "grid_template_columns": null,
       "grid_template_rows": null,
       "height": null,
       "justify_content": null,
       "justify_items": null,
       "left": null,
       "margin": null,
       "max_height": null,
       "max_width": null,
       "min_height": null,
       "min_width": null,
       "object_fit": null,
       "object_position": null,
       "order": null,
       "overflow": null,
       "padding": null,
       "right": null,
       "top": null,
       "visibility": null,
       "width": null
      }
     },
     "cdfd4b8f53cd4cc3ac3c0c4b9e5230ad": {
      "model_module": "@jupyter-widgets/base",
      "model_module_version": "2.0.0",
      "model_name": "LayoutModel",
      "state": {
       "_model_module": "@jupyter-widgets/base",
       "_model_module_version": "2.0.0",
       "_model_name": "LayoutModel",
       "_view_count": null,
       "_view_module": "@jupyter-widgets/base",
       "_view_module_version": "2.0.0",
       "_view_name": "LayoutView",
       "align_content": null,
       "align_items": null,
       "align_self": null,
       "border_bottom": null,
       "border_left": null,
       "border_right": null,
       "border_top": null,
       "bottom": null,
       "display": "inline-flex",
       "flex": null,
       "flex_flow": "row wrap",
       "grid_area": null,
       "grid_auto_columns": null,
       "grid_auto_flow": null,
       "grid_auto_rows": null,
       "grid_column": null,
       "grid_gap": null,
       "grid_row": null,
       "grid_template_areas": null,
       "grid_template_columns": null,
       "grid_template_rows": null,
       "height": null,
       "justify_content": null,
       "justify_items": null,
       "left": null,
       "margin": null,
       "max_height": null,
       "max_width": null,
       "min_height": null,
       "min_width": null,
       "object_fit": null,
       "object_position": null,
       "order": null,
       "overflow": null,
       "padding": null,
       "right": null,
       "top": null,
       "visibility": null,
       "width": "100%"
      }
     },
     "cf65de18721c4d5aa71a479966f07623": {
      "model_module": "@jupyter-widgets/controls",
      "model_module_version": "2.0.0",
      "model_name": "HTMLModel",
      "state": {
       "_dom_classes": [],
       "_model_module": "@jupyter-widgets/controls",
       "_model_module_version": "2.0.0",
       "_model_name": "HTMLModel",
       "_view_count": null,
       "_view_module": "@jupyter-widgets/controls",
       "_view_module_version": "2.0.0",
       "_view_name": "HTMLView",
       "description": "",
       "description_allow_html": false,
       "layout": "IPY_MODEL_6e0ab666aa1a4c5d91b702e9a29c10bc",
       "placeholder": "​",
       "style": "IPY_MODEL_283822564d9046edbb1ebee7dfd4390b",
       "tabbable": null,
       "tooltip": null,
       "value": " 600/600 [00:05&lt;00:00, 108.01it/s, v_num=0]"
      }
     },
     "d193597f9a344f17b9479ffe6a89a245": {
      "model_module": "@jupyter-widgets/controls",
      "model_module_version": "2.0.0",
      "model_name": "FloatProgressModel",
      "state": {
       "_dom_classes": [],
       "_model_module": "@jupyter-widgets/controls",
       "_model_module_version": "2.0.0",
       "_model_name": "FloatProgressModel",
       "_view_count": null,
       "_view_module": "@jupyter-widgets/controls",
       "_view_module_version": "2.0.0",
       "_view_name": "ProgressView",
       "bar_style": "success",
       "description": "",
       "description_allow_html": false,
       "layout": "IPY_MODEL_3bd9cc183ed04257974dd8bfd88ed575",
       "max": 100.0,
       "min": 0.0,
       "orientation": "horizontal",
       "style": "IPY_MODEL_a1602dc90f9d4be6b6dc0a71d539cb36",
       "tabbable": null,
       "tooltip": null,
       "value": 100.0
      }
     },
     "d3167946c839488fbf8eb5c5749a631a": {
      "model_module": "@jupyter-widgets/controls",
      "model_module_version": "2.0.0",
      "model_name": "HTMLModel",
      "state": {
       "_dom_classes": [],
       "_model_module": "@jupyter-widgets/controls",
       "_model_module_version": "2.0.0",
       "_model_name": "HTMLModel",
       "_view_count": null,
       "_view_module": "@jupyter-widgets/controls",
       "_view_module_version": "2.0.0",
       "_view_name": "HTMLView",
       "description": "",
       "description_allow_html": false,
       "layout": "IPY_MODEL_1003531521024c45aded182279f139d0",
       "placeholder": "​",
       "style": "IPY_MODEL_7d58bedab3a3430fa58fe3434fa5a7a9",
       "tabbable": null,
       "tooltip": null,
       "value": "Epoch 1: 100%"
      }
     },
     "d49f5fb7ac0748d185bae5d42e08bdc6": {
      "model_module": "@jupyter-widgets/base",
      "model_module_version": "2.0.0",
      "model_name": "LayoutModel",
      "state": {
       "_model_module": "@jupyter-widgets/base",
       "_model_module_version": "2.0.0",
       "_model_name": "LayoutModel",
       "_view_count": null,
       "_view_module": "@jupyter-widgets/base",
       "_view_module_version": "2.0.0",
       "_view_name": "LayoutView",
       "align_content": null,
       "align_items": null,
       "align_self": null,
       "border_bottom": null,
       "border_left": null,
       "border_right": null,
       "border_top": null,
       "bottom": null,
       "display": null,
       "flex": null,
       "flex_flow": null,
       "grid_area": null,
       "grid_auto_columns": null,
       "grid_auto_flow": null,
       "grid_auto_rows": null,
       "grid_column": null,
       "grid_gap": null,
       "grid_row": null,
       "grid_template_areas": null,
       "grid_template_columns": null,
       "grid_template_rows": null,
       "height": null,
       "justify_content": null,
       "justify_items": null,
       "left": null,
       "margin": null,
       "max_height": null,
       "max_width": null,
       "min_height": null,
       "min_width": null,
       "object_fit": null,
       "object_position": null,
       "order": null,
       "overflow": null,
       "padding": null,
       "right": null,
       "top": null,
       "visibility": null,
       "width": null
      }
     },
     "d68d28c2049a4d15ac589795d22079a3": {
      "model_module": "@jupyter-widgets/controls",
      "model_module_version": "2.0.0",
      "model_name": "ProgressStyleModel",
      "state": {
       "_model_module": "@jupyter-widgets/controls",
       "_model_module_version": "2.0.0",
       "_model_name": "ProgressStyleModel",
       "_view_count": null,
       "_view_module": "@jupyter-widgets/base",
       "_view_module_version": "2.0.0",
       "_view_name": "StyleView",
       "bar_color": null,
       "description_width": ""
      }
     },
     "d78eb3e102b3468f9fba6818b21008d9": {
      "model_module": "@jupyter-widgets/base",
      "model_module_version": "2.0.0",
      "model_name": "LayoutModel",
      "state": {
       "_model_module": "@jupyter-widgets/base",
       "_model_module_version": "2.0.0",
       "_model_name": "LayoutModel",
       "_view_count": null,
       "_view_module": "@jupyter-widgets/base",
       "_view_module_version": "2.0.0",
       "_view_name": "LayoutView",
       "align_content": null,
       "align_items": null,
       "align_self": null,
       "border_bottom": null,
       "border_left": null,
       "border_right": null,
       "border_top": null,
       "bottom": null,
       "display": null,
       "flex": "2",
       "flex_flow": null,
       "grid_area": null,
       "grid_auto_columns": null,
       "grid_auto_flow": null,
       "grid_auto_rows": null,
       "grid_column": null,
       "grid_gap": null,
       "grid_row": null,
       "grid_template_areas": null,
       "grid_template_columns": null,
       "grid_template_rows": null,
       "height": null,
       "justify_content": null,
       "justify_items": null,
       "left": null,
       "margin": null,
       "max_height": null,
       "max_width": null,
       "min_height": null,
       "min_width": null,
       "object_fit": null,
       "object_position": null,
       "order": null,
       "overflow": null,
       "padding": null,
       "right": null,
       "top": null,
       "visibility": null,
       "width": null
      }
     },
     "d900128f7b44495baf881b5effc46e5a": {
      "model_module": "@jupyter-widgets/controls",
      "model_module_version": "2.0.0",
      "model_name": "HTMLStyleModel",
      "state": {
       "_model_module": "@jupyter-widgets/controls",
       "_model_module_version": "2.0.0",
       "_model_name": "HTMLStyleModel",
       "_view_count": null,
       "_view_module": "@jupyter-widgets/base",
       "_view_module_version": "2.0.0",
       "_view_name": "StyleView",
       "background": null,
       "description_width": "",
       "font_size": null,
       "text_color": null
      }
     },
     "dc277c94a4794a2ba04677fd62bfc4a0": {
      "model_module": "@jupyter-widgets/base",
      "model_module_version": "2.0.0",
      "model_name": "LayoutModel",
      "state": {
       "_model_module": "@jupyter-widgets/base",
       "_model_module_version": "2.0.0",
       "_model_name": "LayoutModel",
       "_view_count": null,
       "_view_module": "@jupyter-widgets/base",
       "_view_module_version": "2.0.0",
       "_view_name": "LayoutView",
       "align_content": null,
       "align_items": null,
       "align_self": null,
       "border_bottom": null,
       "border_left": null,
       "border_right": null,
       "border_top": null,
       "bottom": null,
       "display": null,
       "flex": null,
       "flex_flow": null,
       "grid_area": null,
       "grid_auto_columns": null,
       "grid_auto_flow": null,
       "grid_auto_rows": null,
       "grid_column": null,
       "grid_gap": null,
       "grid_row": null,
       "grid_template_areas": null,
       "grid_template_columns": null,
       "grid_template_rows": null,
       "height": null,
       "justify_content": null,
       "justify_items": null,
       "left": null,
       "margin": null,
       "max_height": null,
       "max_width": null,
       "min_height": null,
       "min_width": null,
       "object_fit": null,
       "object_position": null,
       "order": null,
       "overflow": null,
       "padding": null,
       "right": null,
       "top": null,
       "visibility": null,
       "width": null
      }
     },
     "e2fcd44622b944d79a114af2f5044287": {
      "model_module": "@jupyter-widgets/base",
      "model_module_version": "2.0.0",
      "model_name": "LayoutModel",
      "state": {
       "_model_module": "@jupyter-widgets/base",
       "_model_module_version": "2.0.0",
       "_model_name": "LayoutModel",
       "_view_count": null,
       "_view_module": "@jupyter-widgets/base",
       "_view_module_version": "2.0.0",
       "_view_name": "LayoutView",
       "align_content": null,
       "align_items": null,
       "align_self": null,
       "border_bottom": null,
       "border_left": null,
       "border_right": null,
       "border_top": null,
       "bottom": null,
       "display": null,
       "flex": null,
       "flex_flow": null,
       "grid_area": null,
       "grid_auto_columns": null,
       "grid_auto_flow": null,
       "grid_auto_rows": null,
       "grid_column": null,
       "grid_gap": null,
       "grid_row": null,
       "grid_template_areas": null,
       "grid_template_columns": null,
       "grid_template_rows": null,
       "height": null,
       "justify_content": null,
       "justify_items": null,
       "left": null,
       "margin": null,
       "max_height": null,
       "max_width": null,
       "min_height": null,
       "min_width": null,
       "object_fit": null,
       "object_position": null,
       "order": null,
       "overflow": null,
       "padding": null,
       "right": null,
       "top": null,
       "visibility": null,
       "width": null
      }
     },
     "ee9171ecc2a245e5a0e71c7246eca34c": {
      "model_module": "@jupyter-widgets/controls",
      "model_module_version": "2.0.0",
      "model_name": "HTMLModel",
      "state": {
       "_dom_classes": [],
       "_model_module": "@jupyter-widgets/controls",
       "_model_module_version": "2.0.0",
       "_model_name": "HTMLModel",
       "_view_count": null,
       "_view_module": "@jupyter-widgets/controls",
       "_view_module_version": "2.0.0",
       "_view_name": "HTMLView",
       "description": "",
       "description_allow_html": false,
       "layout": "IPY_MODEL_01d00db2f19246cb8a1e71c5133fd400",
       "placeholder": "​",
       "style": "IPY_MODEL_0f06e73f72014f33aa9cb4d858100ff9",
       "tabbable": null,
       "tooltip": null,
       "value": "Sanity Checking DataLoader 0: 100%"
      }
     },
     "f0b5f386ac344275b9807939a94c2d21": {
      "model_module": "@jupyter-widgets/controls",
      "model_module_version": "2.0.0",
      "model_name": "HTMLModel",
      "state": {
       "_dom_classes": [],
       "_model_module": "@jupyter-widgets/controls",
       "_model_module_version": "2.0.0",
       "_model_name": "HTMLModel",
       "_view_count": null,
       "_view_module": "@jupyter-widgets/controls",
       "_view_module_version": "2.0.0",
       "_view_name": "HTMLView",
       "description": "",
       "description_allow_html": false,
       "layout": "IPY_MODEL_c336eef2993b43d88c2aafad5719c573",
       "placeholder": "​",
       "style": "IPY_MODEL_aab5d2c66ac94791af4cd849c43a713f",
       "tabbable": null,
       "tooltip": null,
       "value": " 100/100 [00:00&lt;00:00, 154.69it/s]"
      }
     }
    },
    "version_major": 2,
    "version_minor": 0
   }
  }
 },
 "nbformat": 4,
 "nbformat_minor": 5
}
