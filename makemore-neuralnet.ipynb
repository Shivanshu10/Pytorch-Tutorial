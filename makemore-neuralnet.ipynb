{
 "cells": [
  {
   "cell_type": "code",
   "execution_count": 1,
   "id": "4232fd58",
   "metadata": {
    "_cell_guid": "b1076dfc-b9ad-4769-8c92-a6c4dae69d19",
    "_uuid": "8f2839f25d086af736a60e9eeb907d3b93b6e0e5",
    "execution": {
     "iopub.execute_input": "2024-12-28T15:22:56.684101Z",
     "iopub.status.busy": "2024-12-28T15:22:56.683711Z",
     "iopub.status.idle": "2024-12-28T15:22:56.691805Z",
     "shell.execute_reply": "2024-12-28T15:22:56.690793Z"
    },
    "papermill": {
     "duration": 0.018469,
     "end_time": "2024-12-28T15:22:56.693350",
     "exception": false,
     "start_time": "2024-12-28T15:22:56.674881",
     "status": "completed"
    },
    "tags": []
   },
   "outputs": [],
   "source": [
    "# https://www.youtube.com/playlist?list=PLAqhIrjkxbuWI23v9cThsA9GvCAUhRvKZ"
   ]
  },
  {
   "cell_type": "code",
   "execution_count": 2,
   "id": "c56204cb",
   "metadata": {
    "execution": {
     "iopub.execute_input": "2024-12-28T15:22:56.708181Z",
     "iopub.status.busy": "2024-12-28T15:22:56.707809Z",
     "iopub.status.idle": "2024-12-28T15:22:57.084704Z",
     "shell.execute_reply": "2024-12-28T15:22:57.083459Z"
    },
    "papermill": {
     "duration": 0.386764,
     "end_time": "2024-12-28T15:22:57.086796",
     "exception": false,
     "start_time": "2024-12-28T15:22:56.700032",
     "status": "completed"
    },
    "tags": []
   },
   "outputs": [
    {
     "name": "stdout",
     "output_type": "stream",
     "text": [
      "--2024-12-28 15:22:56--  https://raw.githubusercontent.com/karpathy/makemore/refs/heads/master/names.txt\r\n",
      "Resolving raw.githubusercontent.com (raw.githubusercontent.com)... 185.199.111.133, 185.199.110.133, 185.199.109.133, ...\r\n",
      "Connecting to raw.githubusercontent.com (raw.githubusercontent.com)|185.199.111.133|:443... connected.\r\n",
      "HTTP request sent, awaiting response... 200 OK\r\n",
      "Length: 228145 (223K) [text/plain]\r\n",
      "Saving to: ‘names.txt’\r\n",
      "\r\n",
      "names.txt           100%[===================>] 222.80K  --.-KB/s    in 0.01s   \r\n",
      "\r\n",
      "2024-12-28 15:22:56 (18.8 MB/s) - ‘names.txt’ saved [228145/228145]\r\n",
      "\r\n"
     ]
    }
   ],
   "source": [
    "!wget https://raw.githubusercontent.com/karpathy/makemore/refs/heads/master/names.txt"
   ]
  },
  {
   "cell_type": "code",
   "execution_count": 3,
   "id": "f1421fd7",
   "metadata": {
    "execution": {
     "iopub.execute_input": "2024-12-28T15:22:57.102189Z",
     "iopub.status.busy": "2024-12-28T15:22:57.101792Z",
     "iopub.status.idle": "2024-12-28T15:22:57.105864Z",
     "shell.execute_reply": "2024-12-28T15:22:57.104818Z"
    },
    "papermill": {
     "duration": 0.014089,
     "end_time": "2024-12-28T15:22:57.107710",
     "exception": false,
     "start_time": "2024-12-28T15:22:57.093621",
     "status": "completed"
    },
    "tags": []
   },
   "outputs": [],
   "source": [
    "# NeuralNet\n",
    "# recieve single char as input and return prob distrubition for next char"
   ]
  },
  {
   "cell_type": "code",
   "execution_count": 4,
   "id": "45a9c0e9",
   "metadata": {
    "execution": {
     "iopub.execute_input": "2024-12-28T15:22:57.122549Z",
     "iopub.status.busy": "2024-12-28T15:22:57.122147Z",
     "iopub.status.idle": "2024-12-28T15:22:57.131305Z",
     "shell.execute_reply": "2024-12-28T15:22:57.130161Z"
    },
    "papermill": {
     "duration": 0.018858,
     "end_time": "2024-12-28T15:22:57.133258",
     "exception": false,
     "start_time": "2024-12-28T15:22:57.114400",
     "status": "completed"
    },
    "tags": []
   },
   "outputs": [],
   "source": [
    "words = open(\"names.txt\", \"r\").read().splitlines()"
   ]
  },
  {
   "cell_type": "code",
   "execution_count": 5,
   "id": "f22a5e71",
   "metadata": {
    "execution": {
     "iopub.execute_input": "2024-12-28T15:22:57.147746Z",
     "iopub.status.busy": "2024-12-28T15:22:57.147387Z",
     "iopub.status.idle": "2024-12-28T15:22:57.155399Z",
     "shell.execute_reply": "2024-12-28T15:22:57.154254Z"
    },
    "papermill": {
     "duration": 0.017205,
     "end_time": "2024-12-28T15:22:57.157162",
     "exception": false,
     "start_time": "2024-12-28T15:22:57.139957",
     "status": "completed"
    },
    "tags": []
   },
   "outputs": [],
   "source": [
    "chars = sorted(list(set(''.join(words))))"
   ]
  },
  {
   "cell_type": "code",
   "execution_count": 6,
   "id": "7823a823",
   "metadata": {
    "execution": {
     "iopub.execute_input": "2024-12-28T15:22:57.171481Z",
     "iopub.status.busy": "2024-12-28T15:22:57.171084Z",
     "iopub.status.idle": "2024-12-28T15:22:57.175859Z",
     "shell.execute_reply": "2024-12-28T15:22:57.174566Z"
    },
    "papermill": {
     "duration": 0.013866,
     "end_time": "2024-12-28T15:22:57.177568",
     "exception": false,
     "start_time": "2024-12-28T15:22:57.163702",
     "status": "completed"
    },
    "tags": []
   },
   "outputs": [],
   "source": [
    "stoi = {s:(i+1) for i,s in enumerate(chars)}\n",
    "# use \".\" as special char instead of <S> or <E>\n",
    "stoi['.'] = 0"
   ]
  },
  {
   "cell_type": "code",
   "execution_count": 7,
   "id": "9d0e99ac",
   "metadata": {
    "execution": {
     "iopub.execute_input": "2024-12-28T15:22:57.191868Z",
     "iopub.status.busy": "2024-12-28T15:22:57.191467Z",
     "iopub.status.idle": "2024-12-28T15:23:02.321361Z",
     "shell.execute_reply": "2024-12-28T15:23:02.320202Z"
    },
    "papermill": {
     "duration": 5.139229,
     "end_time": "2024-12-28T15:23:02.323486",
     "exception": false,
     "start_time": "2024-12-28T15:22:57.184257",
     "status": "completed"
    },
    "tags": []
   },
   "outputs": [],
   "source": [
    "import torch"
   ]
  },
  {
   "cell_type": "code",
   "execution_count": 8,
   "id": "bcae6aba",
   "metadata": {
    "execution": {
     "iopub.execute_input": "2024-12-28T15:23:02.339247Z",
     "iopub.status.busy": "2024-12-28T15:23:02.338771Z",
     "iopub.status.idle": "2024-12-28T15:23:02.570246Z",
     "shell.execute_reply": "2024-12-28T15:23:02.569061Z"
    },
    "papermill": {
     "duration": 0.241271,
     "end_time": "2024-12-28T15:23:02.572446",
     "exception": false,
     "start_time": "2024-12-28T15:23:02.331175",
     "status": "completed"
    },
    "tags": []
   },
   "outputs": [],
   "source": [
    "# create training set\n",
    "xs, ys = [], []\n",
    "\n",
    "for w in words:\n",
    "  chs = ['.'] + list(w) + ['.']\n",
    "  for ch1, ch2 in zip(chs, chs[1:]):\n",
    "    ix1 = stoi[ch1]\n",
    "    ix2 = stoi[ch2]\n",
    "    xs.append(ix1)\n",
    "    ys.append(ix2)\n",
    "\n",
    "xs = torch.tensor(xs)\n",
    "ys = torch.tensor(ys)"
   ]
  },
  {
   "cell_type": "code",
   "execution_count": 9,
   "id": "becfd9e6",
   "metadata": {
    "execution": {
     "iopub.execute_input": "2024-12-28T15:23:02.586983Z",
     "iopub.status.busy": "2024-12-28T15:23:02.586639Z",
     "iopub.status.idle": "2024-12-28T15:23:02.655545Z",
     "shell.execute_reply": "2024-12-28T15:23:02.654471Z"
    },
    "papermill": {
     "duration": 0.078167,
     "end_time": "2024-12-28T15:23:02.657336",
     "exception": false,
     "start_time": "2024-12-28T15:23:02.579169",
     "status": "completed"
    },
    "tags": []
   },
   "outputs": [
    {
     "data": {
      "text/plain": [
       "tensor([ 0,  5, 13,  ..., 25, 26, 24])"
      ]
     },
     "execution_count": 9,
     "metadata": {},
     "output_type": "execute_result"
    }
   ],
   "source": [
    "xs"
   ]
  },
  {
   "cell_type": "code",
   "execution_count": 10,
   "id": "fc98ecc4",
   "metadata": {
    "execution": {
     "iopub.execute_input": "2024-12-28T15:23:02.672169Z",
     "iopub.status.busy": "2024-12-28T15:23:02.671783Z",
     "iopub.status.idle": "2024-12-28T15:23:02.678788Z",
     "shell.execute_reply": "2024-12-28T15:23:02.677390Z"
    },
    "papermill": {
     "duration": 0.016814,
     "end_time": "2024-12-28T15:23:02.680871",
     "exception": false,
     "start_time": "2024-12-28T15:23:02.664057",
     "status": "completed"
    },
    "tags": []
   },
   "outputs": [
    {
     "data": {
      "text/plain": [
       "tensor([ 5, 13, 13,  ..., 26, 24,  0])"
      ]
     },
     "execution_count": 10,
     "metadata": {},
     "output_type": "execute_result"
    }
   ],
   "source": [
    "ys"
   ]
  },
  {
   "cell_type": "code",
   "execution_count": 11,
   "id": "c609de42",
   "metadata": {
    "execution": {
     "iopub.execute_input": "2024-12-28T15:23:02.696209Z",
     "iopub.status.busy": "2024-12-28T15:23:02.695834Z",
     "iopub.status.idle": "2024-12-28T15:23:02.699995Z",
     "shell.execute_reply": "2024-12-28T15:23:02.698935Z"
    },
    "papermill": {
     "duration": 0.013315,
     "end_time": "2024-12-28T15:23:02.701698",
     "exception": false,
     "start_time": "2024-12-28T15:23:02.688383",
     "status": "completed"
    },
    "tags": []
   },
   "outputs": [],
   "source": [
    "# one hot encode chars"
   ]
  },
  {
   "cell_type": "code",
   "execution_count": 12,
   "id": "9de0f4f3",
   "metadata": {
    "execution": {
     "iopub.execute_input": "2024-12-28T15:23:02.716652Z",
     "iopub.status.busy": "2024-12-28T15:23:02.716241Z",
     "iopub.status.idle": "2024-12-28T15:23:02.828412Z",
     "shell.execute_reply": "2024-12-28T15:23:02.827061Z"
    },
    "papermill": {
     "duration": 0.122403,
     "end_time": "2024-12-28T15:23:02.830879",
     "exception": false,
     "start_time": "2024-12-28T15:23:02.708476",
     "status": "completed"
    },
    "tags": []
   },
   "outputs": [],
   "source": [
    "import torch.nn.functional as F\n",
    "# we converted one hot to float casue we want to always feed float to neural net not ints\n",
    "# one_hot always gives \n",
    "xenc = F.one_hot(xs, num_classes=27).float()"
   ]
  },
  {
   "cell_type": "code",
   "execution_count": 13,
   "id": "331d5804",
   "metadata": {
    "execution": {
     "iopub.execute_input": "2024-12-28T15:23:02.847282Z",
     "iopub.status.busy": "2024-12-28T15:23:02.846892Z",
     "iopub.status.idle": "2024-12-28T15:23:02.902396Z",
     "shell.execute_reply": "2024-12-28T15:23:02.900930Z"
    },
    "papermill": {
     "duration": 0.066767,
     "end_time": "2024-12-28T15:23:02.905052",
     "exception": false,
     "start_time": "2024-12-28T15:23:02.838285",
     "status": "completed"
    },
    "tags": []
   },
   "outputs": [
    {
     "data": {
      "text/plain": [
       "tensor([[1., 0., 0.,  ..., 0., 0., 0.],\n",
       "        [0., 0., 0.,  ..., 0., 0., 0.],\n",
       "        [0., 0., 0.,  ..., 0., 0., 0.],\n",
       "        ...,\n",
       "        [0., 0., 0.,  ..., 0., 1., 0.],\n",
       "        [0., 0., 0.,  ..., 0., 0., 1.],\n",
       "        [0., 0., 0.,  ..., 1., 0., 0.]])"
      ]
     },
     "execution_count": 13,
     "metadata": {},
     "output_type": "execute_result"
    }
   ],
   "source": [
    "xenc"
   ]
  },
  {
   "cell_type": "code",
   "execution_count": 14,
   "id": "54c4398d",
   "metadata": {
    "execution": {
     "iopub.execute_input": "2024-12-28T15:23:02.924329Z",
     "iopub.status.busy": "2024-12-28T15:23:02.923833Z",
     "iopub.status.idle": "2024-12-28T15:23:02.939876Z",
     "shell.execute_reply": "2024-12-28T15:23:02.938239Z"
    },
    "papermill": {
     "duration": 0.027537,
     "end_time": "2024-12-28T15:23:02.942268",
     "exception": false,
     "start_time": "2024-12-28T15:23:02.914731",
     "status": "completed"
    },
    "tags": []
   },
   "outputs": [
    {
     "data": {
      "text/plain": [
       "tensor([[-0.0640],\n",
       "        [-2.2173],\n",
       "        [-0.3049],\n",
       "        [ 1.6955],\n",
       "        [-0.9975],\n",
       "        [-1.0374],\n",
       "        [-1.0391],\n",
       "        [ 1.2023],\n",
       "        [-1.1747],\n",
       "        [ 0.0551],\n",
       "        [ 0.3540],\n",
       "        [ 0.4848],\n",
       "        [-0.6099],\n",
       "        [ 0.2918],\n",
       "        [-0.5877],\n",
       "        [ 1.1309],\n",
       "        [ 1.2196],\n",
       "        [ 0.8115],\n",
       "        [-1.2961],\n",
       "        [-0.9029],\n",
       "        [-0.2112],\n",
       "        [-0.0150],\n",
       "        [ 1.0249],\n",
       "        [ 0.7807],\n",
       "        [ 0.8420],\n",
       "        [ 2.4781],\n",
       "        [-0.9460]])"
      ]
     },
     "execution_count": 14,
     "metadata": {},
     "output_type": "execute_result"
    }
   ],
   "source": [
    "# weights of neuron\n",
    "W = torch.randn((27,1))\n",
    "W"
   ]
  },
  {
   "cell_type": "code",
   "execution_count": 15,
   "id": "c65fdddf",
   "metadata": {
    "execution": {
     "iopub.execute_input": "2024-12-28T15:23:02.961205Z",
     "iopub.status.busy": "2024-12-28T15:23:02.960808Z",
     "iopub.status.idle": "2024-12-28T15:23:02.985887Z",
     "shell.execute_reply": "2024-12-28T15:23:02.984868Z"
    },
    "papermill": {
     "duration": 0.036131,
     "end_time": "2024-12-28T15:23:02.988164",
     "exception": false,
     "start_time": "2024-12-28T15:23:02.952033",
     "status": "completed"
    },
    "tags": []
   },
   "outputs": [
    {
     "data": {
      "text/plain": [
       "tensor([[-0.0640],\n",
       "        [-1.0374],\n",
       "        [ 0.2918],\n",
       "        ...,\n",
       "        [ 2.4781],\n",
       "        [-0.9460],\n",
       "        [ 0.8420]])"
      ]
     },
     "execution_count": 15,
     "metadata": {},
     "output_type": "execute_result"
    }
   ],
   "source": [
    "# @ means matrix multiplication\n",
    "xenc @ W"
   ]
  },
  {
   "cell_type": "code",
   "execution_count": 16,
   "id": "b7a48a09",
   "metadata": {
    "execution": {
     "iopub.execute_input": "2024-12-28T15:23:03.004216Z",
     "iopub.status.busy": "2024-12-28T15:23:03.003813Z",
     "iopub.status.idle": "2024-12-28T15:23:03.018498Z",
     "shell.execute_reply": "2024-12-28T15:23:03.017326Z"
    },
    "papermill": {
     "duration": 0.024664,
     "end_time": "2024-12-28T15:23:03.020382",
     "exception": false,
     "start_time": "2024-12-28T15:23:02.995718",
     "status": "completed"
    },
    "tags": []
   },
   "outputs": [
    {
     "data": {
      "text/plain": [
       "tensor([[ 1.5674e+00, -2.3729e-01, -2.7385e-02, -1.1008e+00,  2.8588e-01,\n",
       "         -2.9643e-02, -1.5471e+00,  6.0489e-01,  7.9136e-02,  9.0462e-01,\n",
       "         -4.7125e-01,  7.8682e-01, -3.2843e-01, -4.3297e-01,  1.3729e+00,\n",
       "          2.9334e+00,  1.5618e+00, -1.6261e+00,  6.7716e-01, -8.4039e-01,\n",
       "          9.8488e-01, -1.4837e-01, -1.4795e+00,  4.4830e-01, -7.0730e-02,\n",
       "          2.4968e+00,  2.4448e+00],\n",
       "        [-6.7006e-01, -1.2199e+00,  3.0314e-01, -1.0725e+00,  7.2762e-01,\n",
       "          5.1114e-02,  1.3095e+00, -8.0220e-01, -8.5042e-01, -1.8068e+00,\n",
       "          1.2523e+00, -1.2256e+00,  1.2165e+00, -9.6478e-01, -2.3211e-01,\n",
       "         -3.4762e-01,  3.3244e-01, -1.3263e+00,  1.1224e+00,  5.9641e-01,\n",
       "          4.5846e-01,  5.4011e-02, -1.7400e+00,  1.1560e-01,  8.0319e-01,\n",
       "          5.4108e-01, -1.1646e+00],\n",
       "        [ 1.4756e-01, -1.0006e+00,  3.8012e-01,  4.7328e-01, -9.1027e-01,\n",
       "         -7.8305e-01,  1.3506e-01, -2.1161e-01, -1.0406e+00, -1.5367e+00,\n",
       "          9.3743e-01, -8.8303e-01,  1.7457e+00,  2.1346e+00, -8.5614e-01,\n",
       "          5.4082e-01,  6.1690e-01,  1.5160e+00, -1.0447e+00, -6.6414e-01,\n",
       "         -7.2390e-01,  1.7507e+00,  1.7530e-01,  9.9280e-01, -6.2787e-01,\n",
       "          7.7023e-02, -1.1641e+00],\n",
       "        [ 1.2473e+00, -2.7061e-01, -1.3635e+00,  1.3066e+00,  3.2307e-01,\n",
       "          1.0358e+00, -8.6249e-01, -1.2575e+00,  9.4180e-01, -1.3257e+00,\n",
       "          1.4670e-01,  1.6913e-01, -1.5397e+00, -7.2759e-01,  1.1491e+00,\n",
       "         -8.7462e-01, -2.9771e-01, -1.3707e+00,  1.1500e-01, -1.0188e+00,\n",
       "         -8.3777e-01, -2.1057e+00, -2.6044e-01, -1.7149e+00, -3.3787e-01,\n",
       "         -1.8263e+00, -8.3897e-01],\n",
       "        [-1.5723e+00,  4.5795e-01, -5.6533e-01,  5.4281e-01,  1.7549e-01,\n",
       "         -2.2901e+00, -7.0928e-01, -2.9283e-01, -2.1803e+00,  7.9311e-02,\n",
       "          9.0187e-01,  1.2028e+00, -5.6144e-01, -1.3753e-01, -1.3799e-01,\n",
       "         -2.0977e+00, -7.9238e-01,  6.0689e-01, -1.4777e+00, -5.1029e-01,\n",
       "          5.6421e-01,  9.6838e-01, -3.1114e-01, -3.0603e-01, -1.7495e+00,\n",
       "         -1.6335e+00,  3.8761e-01],\n",
       "        [ 4.7236e-01,  1.4830e+00,  3.1748e-01,  1.0588e+00,  2.3982e+00,\n",
       "          4.6827e-01, -6.5650e-01,  6.1662e-01, -6.2197e-01,  5.1007e-01,\n",
       "          1.3563e+00,  2.3445e-01, -4.5585e-01, -1.3132e-03, -5.1161e-01,\n",
       "          5.5570e-01,  4.7458e-01, -1.3867e+00,  1.6229e+00,  1.7197e-01,\n",
       "          9.8846e-01,  5.0657e-01,  1.0198e+00, -1.9062e+00, -4.2753e-01,\n",
       "         -2.1259e+00,  9.6041e-01],\n",
       "        [ 1.2482e+00,  2.5341e-01,  2.8188e+00, -3.3983e-01,  7.0311e-01,\n",
       "          4.0716e-01, -1.9018e-01, -6.9652e-01,  1.7039e+00,  7.4204e-01,\n",
       "          9.7370e-01,  3.0028e-01, -2.8971e-01, -3.1566e-01, -8.7898e-01,\n",
       "          1.0661e-01,  1.8598e+00,  5.5752e-02,  1.2815e+00, -6.3182e-01,\n",
       "         -1.2464e+00,  6.8305e-01, -3.9455e-01,  1.4388e-02,  5.7216e-01,\n",
       "          8.6726e-01,  6.3149e-01],\n",
       "        [-1.2230e+00, -2.1286e-01,  5.0950e-01,  3.2713e-01,  1.9661e+00,\n",
       "         -2.4091e-01, -7.9515e-01,  2.7198e-01, -1.1100e+00, -4.5285e-01,\n",
       "         -4.9578e-01,  1.2648e+00,  1.4625e+00,  1.1199e+00,  9.9539e-01,\n",
       "         -1.2353e+00,  7.3818e-01,  8.1415e-01, -7.3806e-01,  5.6714e-01,\n",
       "         -1.4601e+00, -2.4780e-01,  8.8282e-01, -8.1004e-02, -9.5299e-01,\n",
       "         -4.8838e-01, -7.3712e-01],\n",
       "        [ 7.0609e-01, -1.9295e-01,  1.2348e+00,  3.3308e-01,  1.3283e+00,\n",
       "         -1.0921e+00, -8.3952e-01,  1.9098e-01, -7.1750e-01, -3.8668e-01,\n",
       "         -1.2542e+00,  1.2068e+00, -1.7102e+00, -4.7701e-01, -1.0527e+00,\n",
       "         -1.4367e-01, -2.7737e-01,  1.1634e+00, -6.6910e-01,  6.4918e-01,\n",
       "          5.8243e-01,  1.9264e+00, -3.7846e-01,  7.9577e-03,  5.1068e-01,\n",
       "          7.5927e-01, -1.6086e+00],\n",
       "        [-1.6065e-01,  1.3784e+00, -2.7804e-01,  2.0710e-01,  1.0033e+00,\n",
       "         -5.9772e-01, -3.9771e-01, -1.2801e+00,  9.2445e-02,  1.0526e-01,\n",
       "         -3.9072e-01, -4.0091e-01,  5.6533e-01, -1.5065e+00,  1.2898e+00,\n",
       "         -1.5100e+00,  1.0930e+00,  1.0797e+00, -8.6681e-02,  1.3423e+00,\n",
       "          1.5184e-01,  2.4687e-01,  3.1895e-01, -9.8614e-01, -2.1382e-01,\n",
       "         -6.4308e-02, -8.5528e-01],\n",
       "        [ 1.6113e-01,  4.4925e-01,  8.1827e-01, -8.1628e-01, -3.9243e-01,\n",
       "         -7.4521e-01, -9.4649e-01, -1.5941e-01, -1.5047e+00,  8.4682e-01,\n",
       "         -4.9158e-02,  9.3866e-02, -6.4533e-01,  1.2108e+00, -7.8198e-01,\n",
       "          3.8449e-01, -8.5259e-01,  1.0464e+00, -1.8493e+00,  9.1092e-01,\n",
       "         -9.9360e-01,  6.0195e-01, -1.0890e-01,  5.2587e-01, -9.4046e-01,\n",
       "         -1.2773e-01, -2.5679e-01],\n",
       "        [-1.5437e+00,  3.7950e-01, -1.7705e+00, -1.2085e+00,  9.4773e-01,\n",
       "         -9.1355e-01,  7.1023e-01,  7.9512e-01,  5.7662e-01, -7.3778e-01,\n",
       "         -1.5264e+00,  7.1173e-01,  1.4056e+00, -4.0636e-01, -7.4648e-01,\n",
       "          4.9790e-01,  1.1298e-01, -4.1854e-01,  1.7905e-01,  2.3483e-01,\n",
       "          7.3510e-01, -6.1577e-01,  7.0467e-01,  1.1630e-01,  2.8365e-01,\n",
       "         -2.5043e+00, -5.1931e-01],\n",
       "        [-5.9134e-01, -1.1059e-01,  8.3416e-01, -1.0505e+00,  3.6345e-01,\n",
       "          1.8195e-01, -4.8045e-01,  5.3309e-01,  6.7869e-01, -3.5974e-01,\n",
       "         -1.3270e+00, -8.2526e-01,  6.3614e-01,  1.9110e-01,  7.5476e-01,\n",
       "          4.0538e-01,  2.2565e+00,  1.3655e+00, -5.6192e-01, -3.0423e-01,\n",
       "          2.9894e-01,  1.8784e+00,  5.5958e-01,  1.3388e+00,  4.1606e-01,\n",
       "          6.8491e-01, -1.4790e-01],\n",
       "        [ 1.9359e-01,  1.0532e+00,  6.3393e-01,  2.5786e-01,  9.6408e-01,\n",
       "         -2.4855e-01,  2.4756e-02, -3.0404e-02,  1.5622e+00, -4.4852e-01,\n",
       "         -1.2345e+00,  1.1220e+00, -6.7381e-01,  3.7882e-02, -5.5881e-01,\n",
       "         -8.2709e-01,  8.2253e-01, -7.5100e-01,  9.2778e-01, -1.4849e+00,\n",
       "         -2.1293e-01, -1.1860e+00, -6.6092e-01, -2.3348e-01,  1.5447e+00,\n",
       "          6.0061e-01, -7.0909e-01],\n",
       "        [ 1.9217e+00, -1.8182e-01,  1.5220e+00,  5.4644e-01,  4.0858e-01,\n",
       "         -1.9692e+00, -8.9185e-01,  3.2961e-01, -2.5128e-01,  5.5030e-01,\n",
       "         -7.5171e-01, -6.5783e-03, -6.3108e-01,  1.3431e+00,  3.8010e-02,\n",
       "         -7.1654e-01,  1.7206e+00, -5.2149e-01, -2.3248e-01,  1.0774e+00,\n",
       "         -7.6019e-01,  9.0109e-03, -7.9219e-01,  1.2307e+00, -5.2760e-01,\n",
       "         -1.3207e+00, -7.0654e-01],\n",
       "        [-7.7861e-01,  1.2910e+00, -1.5094e+00,  7.4593e-01,  4.8990e-01,\n",
       "         -1.0034e+00,  9.6407e-01,  2.0990e+00, -3.9870e-01, -7.6635e-01,\n",
       "         -2.1007e+00,  1.2331e+00,  7.7481e-01,  2.4311e-01, -2.1322e-01,\n",
       "         -6.9877e-01,  2.0889e-01, -6.2477e-01, -1.0825e-01, -2.1964e+00,\n",
       "          2.7083e-01,  6.1047e-01, -5.8162e-01, -1.7025e+00, -8.0672e-01,\n",
       "         -2.4174e-01,  1.5490e+00],\n",
       "        [-3.4593e-01,  5.4714e-01,  3.1755e-02,  8.1375e-01,  2.6200e-01,\n",
       "         -6.7101e-01,  2.0656e-02,  7.1300e-01, -4.3997e-02, -5.1944e-01,\n",
       "          1.1241e-01, -3.9770e-01, -2.7829e-01, -1.5364e-01, -2.5424e+00,\n",
       "          2.5033e-01,  1.1056e-01, -2.0366e+00, -9.2735e-01, -6.9350e-01,\n",
       "         -5.2788e-01, -8.7438e-01, -1.0102e+00, -1.0522e+00,  1.2348e+00,\n",
       "          2.5907e-02, -9.6676e-01],\n",
       "        [ 1.0904e+00,  5.3966e-01,  6.6741e-01, -2.2316e+00, -1.1603e+00,\n",
       "         -4.2560e-01,  5.9547e-01, -1.0887e+00,  2.4324e-01, -2.1021e+00,\n",
       "         -2.9289e-01, -7.0682e-01,  9.5190e-01, -1.1583e+00, -1.2844e+00,\n",
       "          1.0193e+00,  1.6851e+00,  8.3422e-01,  1.7113e+00,  4.4456e-01,\n",
       "         -7.1861e-01, -7.0343e-01, -7.1332e-01,  9.9760e-01, -6.1980e-01,\n",
       "          1.9522e+00,  1.4311e-01],\n",
       "        [ 1.8765e-01,  7.5974e-01, -2.6387e-01, -7.3048e-01,  6.1955e-01,\n",
       "          3.5577e-02, -7.6459e-02, -1.2306e+00,  1.3419e+00,  1.1878e+00,\n",
       "         -1.0672e+00, -2.1507e+00,  6.7082e-01,  1.1614e+00, -2.4155e-01,\n",
       "          9.5907e-01,  3.8262e-02,  3.9877e-02, -7.7180e-01,  2.9251e-01,\n",
       "         -6.0606e-01, -1.5136e+00, -2.7143e+00, -4.1164e-01, -1.2273e+00,\n",
       "         -4.1746e-01,  1.5021e+00],\n",
       "        [-6.2849e-01, -4.4247e-01,  5.6885e-01,  1.2803e+00, -5.5397e-01,\n",
       "          1.1179e+00, -6.0053e-01, -5.8619e-01, -2.8277e-01,  5.3390e-01,\n",
       "         -9.9388e-01, -1.6996e+00,  1.8362e+00,  4.2016e-01, -6.8729e-01,\n",
       "         -3.5060e-01,  7.5598e-01, -9.3632e-01, -8.4109e-02, -1.6361e+00,\n",
       "          1.0224e+00,  1.0733e+00, -5.7453e-01,  4.9668e-02,  7.2379e-01,\n",
       "          5.9746e-01,  2.6966e+00],\n",
       "        [ 2.7930e+00, -2.2745e+00, -2.3912e-01,  8.7498e-02,  1.4967e+00,\n",
       "         -5.7016e-01, -5.7248e-01,  1.9909e+00, -7.4416e-01,  7.2960e-01,\n",
       "          6.4083e-01,  1.6075e+00, -8.8810e-01,  2.7359e-01, -1.3257e-01,\n",
       "          1.2710e+00,  1.7234e+00,  1.1180e-01,  2.6952e-01,  1.1835e+00,\n",
       "          1.2575e+00,  1.3969e-01,  4.7259e-01,  7.9025e-01,  1.0811e+00,\n",
       "         -9.1965e-01, -4.0503e-01],\n",
       "        [ 4.5696e-01, -5.4184e-01, -2.3025e+00,  2.0127e+00, -4.6452e-01,\n",
       "         -5.8270e-01,  2.0863e+00, -4.7729e-02, -4.4920e-01,  9.5566e-01,\n",
       "         -1.4708e-01, -1.2532e+00, -1.1850e+00,  3.6583e-01, -1.4049e-01,\n",
       "          3.5252e-01, -5.2400e-01, -6.2844e-01, -9.3792e-01,  1.6772e+00,\n",
       "          3.8554e-03, -7.3685e-01, -9.3514e-01,  1.0465e-01, -4.6464e-01,\n",
       "          1.6676e+00,  1.3931e+00],\n",
       "        [ 6.5398e-01, -2.2449e-01,  1.2831e+00, -9.1787e-01, -3.3916e-01,\n",
       "         -1.8058e+00,  6.0518e-01, -5.6252e-01, -7.8933e-01,  1.2767e+00,\n",
       "         -1.0143e+00,  4.1611e-01, -7.5348e-01,  1.7128e+00, -8.7554e-01,\n",
       "          3.9714e-01,  8.4326e-01,  3.7988e-01, -1.1670e+00,  5.5228e-01,\n",
       "         -1.0279e+00, -3.9554e-01, -7.1410e-01, -8.7456e-02, -3.3361e-01,\n",
       "         -1.8798e-01, -1.2647e+00],\n",
       "        [ 2.0021e+00, -2.3470e-01, -1.3765e+00,  9.3426e-01,  1.0880e+00,\n",
       "          1.9179e-01,  3.0114e-01,  8.9896e-01, -8.4454e-01,  2.3267e-01,\n",
       "         -3.9205e-01, -2.5081e-01,  8.7124e-02,  1.3769e+00, -8.3358e-01,\n",
       "         -8.9400e-01,  1.1744e+00, -6.0779e-01, -1.1493e-01, -7.8077e-01,\n",
       "          1.9660e+00,  6.1175e-01,  3.6039e-01, -1.0274e+00,  1.1495e+00,\n",
       "          4.5111e-01,  6.4420e-01],\n",
       "        [ 2.1635e-01, -7.8731e-01, -3.3005e-01,  3.2877e-01, -1.6332e+00,\n",
       "          1.0807e+00,  3.3638e-01,  1.1536e-01,  3.2834e-01,  5.3447e-02,\n",
       "          1.4224e+00, -8.3957e-01, -2.4956e-01, -8.9778e-01, -8.6583e-01,\n",
       "         -1.0786e+00, -1.8384e-01,  7.1622e-01,  1.8175e-01,  1.1053e+00,\n",
       "          1.7003e+00, -1.6965e-01,  1.6293e-01,  1.3413e+00, -2.6301e-01,\n",
       "         -7.5521e-01,  8.1911e-01],\n",
       "        [ 7.4140e-01, -5.8787e-01, -4.6505e-01,  5.3112e-02,  2.2190e+00,\n",
       "         -3.5158e-01,  3.6381e-01,  2.5769e+00,  1.4544e+00, -6.1003e-01,\n",
       "         -5.9961e-01, -5.8392e-01, -1.8104e-02, -9.5177e-01, -9.6400e-01,\n",
       "         -2.8183e-01,  1.0597e+00, -7.2370e-01,  1.4755e-01, -3.2667e-01,\n",
       "          2.4958e+00,  1.1088e+00, -8.5476e-01,  1.8443e+00, -1.3881e-01,\n",
       "          1.3096e+00, -2.5802e-01],\n",
       "        [ 1.0669e+00,  2.1363e-01, -7.6603e-01, -1.6977e+00, -1.5023e-01,\n",
       "         -5.2150e-01, -6.3730e-01,  2.6214e-01,  7.6539e-03,  1.3067e+00,\n",
       "         -6.3482e-01, -1.1042e-04, -6.6158e-01,  1.4723e-01, -6.6036e-02,\n",
       "          5.2851e-01,  5.7950e-01,  2.1438e-01,  9.2200e-01,  5.2919e-01,\n",
       "          7.7070e-01,  4.2899e-01,  3.4330e-01,  2.0698e+00,  1.3405e+00,\n",
       "         -2.1746e-01,  8.6273e-01]], requires_grad=True)"
      ]
     },
     "execution_count": 16,
     "metadata": {},
     "output_type": "execute_result"
    }
   ],
   "source": [
    "# weights of 27 neuron\n",
    "g = torch.Generator().manual_seed(2147483647)\n",
    "W = torch.randn((27,27), requires_grad=True, generator=g)\n",
    "W"
   ]
  },
  {
   "cell_type": "code",
   "execution_count": 17,
   "id": "b1d3bc6c",
   "metadata": {
    "execution": {
     "iopub.execute_input": "2024-12-28T15:23:03.036391Z",
     "iopub.status.busy": "2024-12-28T15:23:03.036019Z",
     "iopub.status.idle": "2024-12-28T15:23:03.066165Z",
     "shell.execute_reply": "2024-12-28T15:23:03.065136Z"
    },
    "papermill": {
     "duration": 0.040051,
     "end_time": "2024-12-28T15:23:03.067987",
     "exception": false,
     "start_time": "2024-12-28T15:23:03.027936",
     "status": "completed"
    },
    "tags": []
   },
   "outputs": [
    {
     "data": {
      "text/plain": [
       "tensor([[ 1.5674, -0.2373, -0.0274,  ..., -0.0707,  2.4968,  2.4448],\n",
       "        [ 0.4724,  1.4830,  0.3175,  ..., -0.4275, -2.1259,  0.9604],\n",
       "        [ 0.1936,  1.0532,  0.6339,  ...,  1.5447,  0.6006, -0.7091],\n",
       "        ...,\n",
       "        [ 0.7414, -0.5879, -0.4651,  ..., -0.1388,  1.3096, -0.2580],\n",
       "        [ 1.0669,  0.2136, -0.7660,  ...,  1.3405, -0.2175,  0.8627],\n",
       "        [ 0.2163, -0.7873, -0.3301,  ..., -0.2630, -0.7552,  0.8191]],\n",
       "       grad_fn=<MmBackward0>)"
      ]
     },
     "execution_count": 17,
     "metadata": {},
     "output_type": "execute_result"
    }
   ],
   "source": [
    "xenc @ W"
   ]
  },
  {
   "cell_type": "code",
   "execution_count": 18,
   "id": "aa7f322f",
   "metadata": {
    "execution": {
     "iopub.execute_input": "2024-12-28T15:23:03.084516Z",
     "iopub.status.busy": "2024-12-28T15:23:03.084064Z",
     "iopub.status.idle": "2024-12-28T15:23:03.141667Z",
     "shell.execute_reply": "2024-12-28T15:23:03.140648Z"
    },
    "papermill": {
     "duration": 0.068046,
     "end_time": "2024-12-28T15:23:03.143665",
     "exception": false,
     "start_time": "2024-12-28T15:23:03.075619",
     "status": "completed"
    },
    "tags": []
   },
   "outputs": [
    {
     "data": {
      "text/plain": [
       "tensor([[ 4.7940,  0.7888,  0.9730,  ...,  0.9317, 12.1434, 11.5281],\n",
       "        [ 1.6038,  4.4060,  1.3737,  ...,  0.6521,  0.1193,  2.6128],\n",
       "        [ 1.2136,  2.8669,  1.8850,  ...,  4.6866,  1.8232,  0.4921],\n",
       "        ...,\n",
       "        [ 2.0989,  0.5555,  0.6281,  ...,  0.8704,  3.7049,  0.7726],\n",
       "        [ 2.9062,  1.2382,  0.4649,  ...,  3.8208,  0.8046,  2.3696],\n",
       "        [ 1.2415,  0.4551,  0.7189,  ...,  0.7687,  0.4699,  2.2685]],\n",
       "       grad_fn=<ExpBackward0>)"
      ]
     },
     "execution_count": 18,
     "metadata": {},
     "output_type": "execute_result"
    }
   ],
   "source": [
    "# assume neural network gives log counts, we exponentiate them to get actual count\n",
    "logits = (xenc @ W) # log counts\n",
    "counts = logits.exp()\n",
    "counts"
   ]
  },
  {
   "cell_type": "code",
   "execution_count": 19,
   "id": "323cd7c4",
   "metadata": {
    "execution": {
     "iopub.execute_input": "2024-12-28T15:23:03.162740Z",
     "iopub.status.busy": "2024-12-28T15:23:03.162369Z",
     "iopub.status.idle": "2024-12-28T15:23:03.190757Z",
     "shell.execute_reply": "2024-12-28T15:23:03.189758Z"
    },
    "papermill": {
     "duration": 0.040736,
     "end_time": "2024-12-28T15:23:03.192542",
     "exception": false,
     "start_time": "2024-12-28T15:23:03.151806",
     "status": "completed"
    },
    "tags": []
   },
   "outputs": [
    {
     "data": {
      "text/plain": [
       "tensor([[0.0607, 0.0100, 0.0123,  ..., 0.0118, 0.1537, 0.1459],\n",
       "        [0.0290, 0.0796, 0.0248,  ..., 0.0118, 0.0022, 0.0472],\n",
       "        [0.0312, 0.0737, 0.0484,  ..., 0.1204, 0.0469, 0.0126],\n",
       "        ...,\n",
       "        [0.0301, 0.0080, 0.0090,  ..., 0.0125, 0.0531, 0.0111],\n",
       "        [0.0634, 0.0270, 0.0101,  ..., 0.0833, 0.0175, 0.0517],\n",
       "        [0.0308, 0.0113, 0.0178,  ..., 0.0190, 0.0116, 0.0562]],\n",
       "       grad_fn=<DivBackward0>)"
      ]
     },
     "execution_count": 19,
     "metadata": {},
     "output_type": "execute_result"
    }
   ],
   "source": [
    "# prob is count normalized\n",
    "probs = counts / counts.sum(1, keepdims=True)\n",
    "probs"
   ]
  },
  {
   "cell_type": "code",
   "execution_count": 20,
   "id": "e3a5cfe4",
   "metadata": {
    "execution": {
     "iopub.execute_input": "2024-12-28T15:23:03.209635Z",
     "iopub.status.busy": "2024-12-28T15:23:03.209289Z",
     "iopub.status.idle": "2024-12-28T15:23:03.213287Z",
     "shell.execute_reply": "2024-12-28T15:23:03.212193Z"
    },
    "papermill": {
     "duration": 0.014711,
     "end_time": "2024-12-28T15:23:03.215027",
     "exception": false,
     "start_time": "2024-12-28T15:23:03.200316",
     "status": "completed"
    },
    "tags": []
   },
   "outputs": [],
   "source": [
    "# we can get prob directly from logits using softmax func\n",
    "# then no need of doing exp and normalization urself"
   ]
  },
  {
   "cell_type": "code",
   "execution_count": 21,
   "id": "578d3acd",
   "metadata": {
    "execution": {
     "iopub.execute_input": "2024-12-28T15:23:03.231812Z",
     "iopub.status.busy": "2024-12-28T15:23:03.231398Z",
     "iopub.status.idle": "2024-12-28T15:23:03.235468Z",
     "shell.execute_reply": "2024-12-28T15:23:03.234464Z"
    },
    "papermill": {
     "duration": 0.014413,
     "end_time": "2024-12-28T15:23:03.237226",
     "exception": false,
     "start_time": "2024-12-28T15:23:03.222813",
     "status": "completed"
    },
    "tags": []
   },
   "outputs": [],
   "source": [
    "# gradient descent"
   ]
  },
  {
   "cell_type": "code",
   "execution_count": 22,
   "id": "baab3a4f",
   "metadata": {
    "execution": {
     "iopub.execute_input": "2024-12-28T15:23:03.254148Z",
     "iopub.status.busy": "2024-12-28T15:23:03.253760Z",
     "iopub.status.idle": "2024-12-28T15:23:03.264932Z",
     "shell.execute_reply": "2024-12-28T15:23:03.263898Z"
    },
    "papermill": {
     "duration": 0.021858,
     "end_time": "2024-12-28T15:23:03.266756",
     "exception": false,
     "start_time": "2024-12-28T15:23:03.244898",
     "status": "completed"
    },
    "tags": []
   },
   "outputs": [
    {
     "data": {
      "text/plain": [
       "tensor([     0,      1,      2,  ..., 228143, 228144, 228145])"
      ]
     },
     "execution_count": 22,
     "metadata": {},
     "output_type": "execute_result"
    }
   ],
   "source": [
    "torch.arange(len(xs))"
   ]
  },
  {
   "cell_type": "code",
   "execution_count": 23,
   "id": "cfec00e1",
   "metadata": {
    "execution": {
     "iopub.execute_input": "2024-12-28T15:23:03.283749Z",
     "iopub.status.busy": "2024-12-28T15:23:03.283358Z",
     "iopub.status.idle": "2024-12-28T15:23:03.302444Z",
     "shell.execute_reply": "2024-12-28T15:23:03.301262Z"
    },
    "papermill": {
     "duration": 0.029894,
     "end_time": "2024-12-28T15:23:03.304466",
     "exception": false,
     "start_time": "2024-12-28T15:23:03.274572",
     "status": "completed"
    },
    "tags": []
   },
   "outputs": [],
   "source": [
    "# loss function\n",
    "# negative log likelihood\n",
    "loss = -probs[torch.arange(len(xs)), ys].log().mean()"
   ]
  },
  {
   "cell_type": "code",
   "execution_count": 24,
   "id": "bec82a78",
   "metadata": {
    "execution": {
     "iopub.execute_input": "2024-12-28T15:23:03.321382Z",
     "iopub.status.busy": "2024-12-28T15:23:03.320966Z",
     "iopub.status.idle": "2024-12-28T15:23:03.327673Z",
     "shell.execute_reply": "2024-12-28T15:23:03.326619Z"
    },
    "papermill": {
     "duration": 0.017371,
     "end_time": "2024-12-28T15:23:03.329716",
     "exception": false,
     "start_time": "2024-12-28T15:23:03.312345",
     "status": "completed"
    },
    "tags": []
   },
   "outputs": [
    {
     "data": {
      "text/plain": [
       "tensor(3.7590, grad_fn=<NegBackward0>)"
      ]
     },
     "execution_count": 24,
     "metadata": {},
     "output_type": "execute_result"
    }
   ],
   "source": [
    "loss"
   ]
  },
  {
   "cell_type": "code",
   "execution_count": 25,
   "id": "c1dd377c",
   "metadata": {
    "execution": {
     "iopub.execute_input": "2024-12-28T15:23:03.347720Z",
     "iopub.status.busy": "2024-12-28T15:23:03.347231Z",
     "iopub.status.idle": "2024-12-28T15:23:03.508295Z",
     "shell.execute_reply": "2024-12-28T15:23:03.506444Z"
    },
    "papermill": {
     "duration": 0.173134,
     "end_time": "2024-12-28T15:23:03.510856",
     "exception": false,
     "start_time": "2024-12-28T15:23:03.337722",
     "status": "completed"
    },
    "tags": []
   },
   "outputs": [],
   "source": [
    "# backward pass\n",
    "# set grad to zero/none\n",
    "W.grad = None\n",
    "\n",
    "loss.backward()"
   ]
  },
  {
   "cell_type": "code",
   "execution_count": 26,
   "id": "c74787dd",
   "metadata": {
    "execution": {
     "iopub.execute_input": "2024-12-28T15:23:03.529048Z",
     "iopub.status.busy": "2024-12-28T15:23:03.528610Z",
     "iopub.status.idle": "2024-12-28T15:23:03.541773Z",
     "shell.execute_reply": "2024-12-28T15:23:03.540636Z"
    },
    "papermill": {
     "duration": 0.024609,
     "end_time": "2024-12-28T15:23:03.543594",
     "exception": false,
     "start_time": "2024-12-28T15:23:03.518985",
     "status": "completed"
    },
    "tags": []
   },
   "outputs": [
    {
     "data": {
      "text/plain": [
       "tensor([[ 8.5187e-03, -1.7928e-02, -3.9954e-03, -6.1678e-03, -5.0425e-03,\n",
       "         -4.9855e-03, -1.4495e-03,  3.2138e-04, -1.9076e-03,  1.8004e-03,\n",
       "         -9.5068e-03, -9.0844e-03, -5.6108e-03, -9.9719e-03,  1.9904e-03,\n",
       "          3.1664e-02,  6.2140e-03, -5.3713e-05, -3.6864e-03, -8.2406e-03,\n",
       "         -9.7537e-04,  1.1901e-03, -1.2434e-03,  1.4365e-03,  1.0683e-03,\n",
       "          1.9233e-02,  1.6413e-02],\n",
       "        [-2.6880e-02, -1.1534e-03,  3.5157e-03, -5.7258e-04,  4.4327e-03,\n",
       "          1.5423e-03,  1.5517e-02,  1.2128e-03, -8.3641e-03, -6.5184e-03,\n",
       "          1.4442e-02, -1.2133e-03,  3.5937e-03, -5.5054e-03, -2.0389e-02,\n",
       "          2.7948e-03,  5.7026e-03,  8.9113e-04, -9.4968e-04,  2.9929e-03,\n",
       "          3.8649e-03,  2.9188e-03, -2.8925e-03,  4.1746e-03,  8.9087e-03,\n",
       "         -1.5171e-03, -5.5008e-04],\n",
       "        [-2.1135e-04, -1.3155e-03,  1.9726e-04,  3.9496e-04, -1.8479e-04,\n",
       "         -2.7573e-03,  2.8475e-04,  2.0133e-04, -9.1831e-05, -8.9764e-04,\n",
       "          6.3084e-04,  1.0287e-04,  9.7399e-04,  2.1031e-03,  8.8146e-05,\n",
       "         -3.2983e-05,  4.6102e-04,  1.1329e-03, -3.6031e-03,  9.2983e-05,\n",
       "          1.1185e-04,  1.2354e-03,  2.9644e-04,  6.7139e-04,  1.3278e-04,\n",
       "         -9.5108e-05,  7.7671e-05],\n",
       "        [ 1.5111e-03, -3.1479e-03,  1.4227e-04,  1.8704e-03,  7.6401e-04,\n",
       "         -8.4801e-04,  2.3480e-04,  1.4941e-04, -1.4838e-03, -1.0401e-03,\n",
       "          6.3100e-04, -7.2632e-04, -3.8915e-04,  2.6871e-04,  1.7551e-03,\n",
       "         -1.4336e-03,  4.0865e-04,  9.3042e-05,  2.9093e-04,  1.7890e-04,\n",
       "          8.7268e-05, -8.5679e-05,  4.2871e-04,  1.0012e-04,  3.8362e-04,\n",
       "         -3.6628e-04,  2.2286e-04],\n",
       "        [-2.0755e-03, -4.2931e-03,  5.0533e-04,  1.5306e-03,  4.1611e-04,\n",
       "         -5.5328e-03,  4.1946e-04,  5.5979e-04, -4.1583e-04, -1.9831e-03,\n",
       "          2.1712e-03,  2.9737e-03,  2.4871e-04,  6.5034e-04,  6.4560e-04,\n",
       "         -1.5467e-03,  4.0618e-04,  1.6416e-03, -1.6538e-03,  4.1144e-04,\n",
       "          1.5596e-03,  1.9594e-03,  5.8272e-04,  5.5979e-04,  1.5597e-04,\n",
       "         -1.2143e-03,  1.3175e-03],\n",
       "        [-1.4863e-02,  4.1526e-03,  1.6922e-03,  3.9939e-03,  1.6120e-02,\n",
       "         -2.9867e-03,  4.7977e-04,  2.4497e-03,  2.0242e-04, -8.9083e-04,\n",
       "          6.0395e-03,  1.2653e-03, -1.3211e-02, -1.7548e-03, -1.0755e-02,\n",
       "          1.6413e-03,  2.2368e-03,  3.4298e-04, -3.8240e-04, -1.8523e-03,\n",
       "          1.8054e-03,  2.3827e-03,  2.4568e-03,  2.1333e-05,  4.7653e-04,\n",
       "         -4.4969e-03,  3.4340e-03],\n",
       "        [-1.3229e-04, -9.7997e-04,  1.0502e-03,  4.4618e-05,  1.2661e-04,\n",
       "         -4.4495e-04, -1.4104e-04,  2.6849e-05,  3.4005e-04, -5.6967e-04,\n",
       "          1.6595e-04,  7.5861e-05, -4.0752e-05,  4.5710e-05,  8.4907e-06,\n",
       "         -1.9326e-04,  4.0254e-04,  6.6269e-05, -2.7392e-04,  7.0211e-06,\n",
       "         -6.0875e-05,  8.0260e-05,  4.2242e-05,  4.6051e-05,  1.1107e-04,\n",
       "          8.7827e-05,  1.0909e-04],\n",
       "        [-4.1385e-04, -1.2830e-03,  3.2349e-04,  2.8052e-04,  1.3613e-03,\n",
       "         -1.3050e-03,  8.6935e-05,  1.5589e-04, -1.5113e-03, -7.0421e-04,\n",
       "          1.1004e-04,  7.1642e-04,  7.3276e-04,  5.9351e-04,  4.2890e-04,\n",
       "         -3.0500e-04,  4.2313e-04,  4.5653e-04, -7.8433e-04,  2.2512e-04,\n",
       "         -8.8911e-05, -2.1471e-04,  4.8460e-04,  7.2550e-05,  7.7984e-05,\n",
       "         -1.1773e-05,  9.2391e-05],\n",
       "        [-8.9088e-03, -9.1642e-03,  2.7649e-03,  1.1277e-03,  2.9692e-03,\n",
       "         -2.6810e-03,  3.4304e-04,  9.7716e-04,  3.9308e-04, -2.6420e-03,\n",
       "          1.9294e-04,  2.5956e-03, -6.6360e-04, -7.3055e-06, -3.2060e-04,\n",
       "         -5.5245e-04,  6.1284e-04,  2.6027e-03, -4.7699e-04,  1.4231e-03,\n",
       "          1.1471e-03,  4.8638e-03,  3.8694e-04,  7.7720e-04,  1.3573e-03,\n",
       "          8.0678e-04,  7.5373e-05],\n",
       "        [-9.1458e-03, -2.4971e-03,  1.0864e-03,  3.1685e-04,  3.7201e-03,\n",
       "         -6.1060e-03,  9.4891e-04, -1.3002e-03,  1.8555e-03,  1.9418e-03,\n",
       "          1.0682e-03, -5.6335e-04, -2.2498e-03, -1.4124e-03, -1.7952e-03,\n",
       "         -2.1197e-03,  5.9469e-03,  5.8694e-03, -1.8220e-03,  2.1599e-03,\n",
       "          3.9621e-05,  2.1735e-03,  1.6704e-03,  7.3755e-04,  1.2824e-03,\n",
       "         -1.4722e-03, -3.3350e-04],\n",
       "        [ 1.7053e-04, -5.8138e-03,  9.2501e-04,  1.6374e-04,  2.5942e-04,\n",
       "         -1.7340e-03,  1.5914e-04,  3.4962e-04, -1.0618e-04,  4.3471e-04,\n",
       "          3.8161e-04,  4.4163e-04,  1.7561e-04,  1.3543e-03,  1.7883e-04,\n",
       "         -1.4972e-03,  1.7042e-04,  1.1676e-03,  1.6307e-05,  9.8894e-04,\n",
       "          1.4305e-04, -1.3680e-04,  3.4582e-04,  6.6747e-04,  1.6010e-04,\n",
       "          3.1704e-04,  3.1718e-04],\n",
       "        [-1.4471e-03, -6.6019e-03,  1.0602e-04,  1.9258e-04,  1.7306e-03,\n",
       "         -3.6525e-03,  1.3673e-03,  1.4932e-03, -1.4553e-04, -1.9086e-03,\n",
       "          1.3776e-04,  1.2860e-03,  2.1402e-03,  4.0962e-04,  2.0564e-04,\n",
       "         -3.9856e-04,  7.5485e-04,  4.4363e-04,  3.2865e-04,  4.3627e-04,\n",
       "          1.3317e-03,  1.4507e-04,  1.3553e-03,  6.0833e-04,  8.9533e-04,\n",
       "         -1.6061e-03,  3.9234e-04],\n",
       "        [-5.1051e-03, -1.0439e-02,  2.4944e-03,  3.0388e-04,  1.0953e-03,\n",
       "         -1.1385e-02,  6.3472e-04,  1.9883e-03,  2.2470e-03, -1.0045e-02,\n",
       "          2.8728e-04,  4.1272e-04, -3.6621e-03,  1.1681e-03,  2.4531e-03,\n",
       "         -1.2601e-03,  1.1223e-02,  4.6180e-03,  5.9505e-04,  4.6002e-04,\n",
       "          1.2565e-03,  6.3147e-03,  1.7531e-03,  4.4389e-03,  1.7921e-03,\n",
       "         -4.6156e-03,  9.7577e-04],\n",
       "        [-1.3537e-03, -9.2074e-03,  9.1941e-04,  7.4472e-04,  1.8568e-03,\n",
       "         -3.0019e-03,  7.6255e-04,  7.2578e-04,  3.5462e-03, -5.0275e-03,\n",
       "          1.8703e-04,  2.2933e-03,  3.5948e-04,  4.0698e-05,  3.4021e-04,\n",
       "         -1.6540e-03,  1.5365e-03,  3.5306e-04,  1.4669e-03,  1.6077e-05,\n",
       "          5.8716e-04, -3.8074e-04,  3.7319e-04,  5.8362e-04,  3.5064e-03,\n",
       "          1.0614e-04,  3.1996e-04],\n",
       "        [-1.7141e-02, -1.1523e-02,  8.3483e-03,  2.2266e-03, -3.3246e-04,\n",
       "         -5.7013e-03,  7.0182e-04,  1.3476e-03,  1.3093e-03, -4.3885e-03,\n",
       "          6.7001e-04,  1.5636e-03,  1.1877e-04,  6.9266e-03, -6.4536e-03,\n",
       "         -1.2803e-03,  1.0203e-02,  1.0775e-03,  1.2574e-03,  4.1557e-03,\n",
       "         -1.0862e-03,  1.4256e-03,  5.8755e-04,  6.2161e-03,  1.0533e-03,\n",
       "         -1.5497e-03,  2.6718e-04],\n",
       "        [-3.3606e-03,  2.4124e-03, -4.2731e-04,  1.2777e-03,  5.4308e-04,\n",
       "         -2.6952e-04,  2.0616e-03,  6.6844e-03, -1.8371e-04,  8.9301e-05,\n",
       "          3.3031e-05,  2.5950e-03, -8.8374e-04, -6.9024e-05, -9.8867e-03,\n",
       "         -8.4934e-05,  6.2242e-04,  4.3817e-04, -3.8853e-03, -2.1154e-03,\n",
       "          5.8798e-04,  3.4682e-04, -3.0021e-04, -3.4607e-04,  1.7900e-04,\n",
       "          2.1050e-04,  3.7311e-03],\n",
       "        [-2.0464e-05, -6.1276e-04,  1.7240e-04,  3.9161e-04,  2.2807e-04,\n",
       "         -7.7377e-04,  1.7478e-04,  3.5804e-04, -7.2622e-04, -1.6297e-04,\n",
       "          1.9200e-04,  1.1353e-04,  6.2740e-05,  1.4613e-04,  9.4249e-06,\n",
       "         -3.3180e-05,  2.5077e-05,  2.2899e-05, -5.9243e-04,  1.7590e-05,\n",
       "          2.9008e-05,  5.5673e-05,  6.3911e-05,  6.1282e-05,  6.0335e-04,\n",
       "          1.2751e-04,  6.6746e-05],\n",
       "        [-4.5888e-05, -1.2682e-05,  5.0336e-05,  2.7723e-06,  8.0934e-06,\n",
       "          1.2490e-05,  4.6842e-05,  8.6936e-06,  3.2935e-05, -5.3825e-05,\n",
       "          1.9268e-05,  1.2737e-05,  6.2518e-05, -6.5712e-07,  7.1484e-06,\n",
       "          6.2798e-05,  1.3927e-04,  5.9474e-05,  1.3859e-04,  3.1514e-05,\n",
       "          1.2587e-05, -8.9015e-04,  1.2654e-05,  5.6880e-05,  1.3895e-05,\n",
       "          1.8191e-04,  2.9798e-05],\n",
       "        [-4.1512e-03, -6.9876e-03,  1.0200e-03,  3.1846e-04,  2.0827e-03,\n",
       "         -5.8196e-03,  1.4076e-03,  1.2319e-04,  5.4466e-03, -8.1708e-03,\n",
       "          4.2769e-04, -2.1267e-04,  1.2448e-03,  4.2798e-03,  6.1318e-04,\n",
       "          2.6674e-04,  1.5616e-03,  1.5554e-03, -1.1409e-03,  1.2600e-03,\n",
       "         -5.9628e-05, -7.6073e-04, -2.4717e-04,  9.4289e-04,  4.4467e-04,\n",
       "         -2.3593e-03,  6.9143e-03],\n",
       "        [-4.7660e-03, -4.8331e-03,  1.0930e-03,  2.1510e-03,  3.4612e-04,\n",
       "         -1.8227e-03,  3.5926e-04,  3.6457e-04, -5.1267e-03, -1.8537e-03,\n",
       "          2.3957e-04, -2.3680e-04,  2.9855e-03,  6.2682e-04,  2.3224e-04,\n",
       "         -1.8549e-03,  1.2054e-03,  2.5867e-04,  3.7574e-04, -1.8900e-03,\n",
       "         -1.4881e-03,  1.1516e-03,  3.1636e-04,  5.9991e-04,  1.3836e-03,\n",
       "          2.7705e-04,  9.9057e-03],\n",
       "        [ 3.5285e-03, -4.4660e-03,  2.6780e-04,  3.0281e-04,  1.5443e-03,\n",
       "         -2.9429e-03,  1.8626e-04,  2.5226e-03, -2.6716e-03, -1.6147e-03,\n",
       "          6.4303e-04,  1.7253e-03, -4.4510e-04,  4.3697e-04,  2.0636e-04,\n",
       "         -1.6913e-03,  1.9372e-03,  3.8660e-04, -1.0902e-03,  9.7559e-04,\n",
       "         -4.2361e-04,  5.5654e-05,  4.8882e-04,  7.1371e-04,  1.0104e-03,\n",
       "         -1.3568e-03, -2.2966e-04],\n",
       "        [-2.2893e-04, -5.4854e-04, -4.2294e-04,  1.6832e-03, -4.1686e-04,\n",
       "         -5.8148e-04,  2.2144e-03,  6.5933e-05, -7.2204e-05,  2.1136e-04,\n",
       "          1.8486e-04, -3.2617e-04, -1.2321e-03, -2.6378e-04, -9.5752e-04,\n",
       "          3.6196e-04,  9.8771e-05,  1.0832e-04, -1.7030e-03, -5.5143e-04,\n",
       "         -7.3082e-05,  1.2337e-04, -5.0213e-05, -6.0248e-05,  3.0203e-05,\n",
       "          1.4546e-03,  9.5155e-04],\n",
       "        [ 2.5327e-04, -2.5485e-03,  1.1944e-03,  1.3269e-04,  2.3231e-04,\n",
       "         -2.4350e-03,  6.0856e-04,  1.8931e-04,  1.4651e-04, -2.8020e-03,\n",
       "          1.2050e-04,  4.9057e-04,  9.5038e-05,  1.8422e-03,  1.0336e-04,\n",
       "         -1.7637e-04,  7.7214e-04,  4.8580e-04, -1.0696e-04,  5.7720e-04,\n",
       "          1.1887e-04,  1.9303e-04,  1.3200e-04,  3.0443e-04,  2.3801e-04,\n",
       "         -2.5505e-04,  9.3804e-05],\n",
       "        [ 3.7275e-04, -1.1636e-03,  1.5948e-05,  2.0498e-04,  2.0399e-04,\n",
       "         -5.5553e-04,  1.0007e-04,  1.9349e-04, -6.6204e-05, -5.4708e-04,\n",
       "          5.4413e-05,  3.6369e-05,  3.0883e-05,  3.1037e-04, -2.1923e-04,\n",
       "         -1.2485e-04,  2.6061e-04,  4.3854e-05, -2.4640e-05, -5.0775e-05,\n",
       "          5.4008e-04,  3.8896e-05,  1.1547e-04,  2.0059e-05,  2.5421e-04,\n",
       "         -1.9353e-04,  1.4899e-04],\n",
       "        [-6.2487e-04, -4.1702e-04,  5.0026e-05,  8.7614e-05, -7.1344e-06,\n",
       "          6.5230e-05,  9.2801e-05,  8.4941e-05,  1.0072e-04, -3.6724e-04,\n",
       "          3.1388e-04,  3.2688e-05, -1.1197e-04,  2.6457e-05,  2.7458e-05,\n",
       "         -1.5397e-04,  6.2976e-05,  1.5490e-04,  9.0771e-05,  9.2702e-05,\n",
       "          1.0762e-04,  4.1960e-05,  8.9079e-05,  2.7628e-04, -1.0838e-04,\n",
       "         -9.5929e-05,  8.8411e-05],\n",
       "        [-7.5082e-03, -9.0520e-03,  2.6735e-04,  1.4350e-04,  4.4562e-03,\n",
       "         -8.8729e-04,  8.3092e-04,  7.9473e-03,  2.5330e-03, -5.0792e-04,\n",
       "          2.3633e-04, -3.4481e-05, -4.2360e-03, -4.1164e-04, -7.7695e-03,\n",
       "         -7.2458e-04,  1.7061e-03,  2.7150e-04, -5.6380e-04, -1.3147e-03,\n",
       "          6.9940e-03,  1.2430e-03, -2.0340e-04,  3.8657e-03,  4.1175e-04,\n",
       "          2.1742e-03,  1.3253e-04],\n",
       "        [-3.5437e-05, -3.4858e-03,  8.8974e-05,  3.3187e-05,  1.8839e-04,\n",
       "         -1.4989e-03,  1.2114e-04,  2.9340e-04,  4.2403e-05, -7.4908e-04,\n",
       "          1.1267e-04,  2.2033e-04, -4.2090e-04,  1.1205e-04,  1.9694e-04,\n",
       "         -9.3470e-05,  4.0024e-04,  2.8390e-04,  4.3582e-04,  3.7141e-04,\n",
       "          4.7766e-04,  3.1888e-05,  3.1419e-04,  1.8023e-03,  8.7103e-04,\n",
       "         -4.5999e-04,  3.4568e-04]])"
      ]
     },
     "execution_count": 26,
     "metadata": {},
     "output_type": "execute_result"
    }
   ],
   "source": [
    "W.grad"
   ]
  },
  {
   "cell_type": "code",
   "execution_count": 27,
   "id": "ecf9f714",
   "metadata": {
    "execution": {
     "iopub.execute_input": "2024-12-28T15:23:03.561559Z",
     "iopub.status.busy": "2024-12-28T15:23:03.560953Z",
     "iopub.status.idle": "2024-12-28T15:23:03.568765Z",
     "shell.execute_reply": "2024-12-28T15:23:03.567372Z"
    },
    "papermill": {
     "duration": 0.018754,
     "end_time": "2024-12-28T15:23:03.570654",
     "exception": false,
     "start_time": "2024-12-28T15:23:03.551900",
     "status": "completed"
    },
    "tags": []
   },
   "outputs": [],
   "source": [
    "# update weights\n",
    "W.data += -0.1 * W.grad"
   ]
  },
  {
   "cell_type": "code",
   "execution_count": 28,
   "id": "ae788b57",
   "metadata": {
    "execution": {
     "iopub.execute_input": "2024-12-28T15:23:03.594784Z",
     "iopub.status.busy": "2024-12-28T15:23:03.594383Z",
     "iopub.status.idle": "2024-12-28T15:23:12.403063Z",
     "shell.execute_reply": "2024-12-28T15:23:12.401701Z"
    },
    "papermill": {
     "duration": 8.821919,
     "end_time": "2024-12-28T15:23:12.405264",
     "exception": false,
     "start_time": "2024-12-28T15:23:03.583345",
     "status": "completed"
    },
    "tags": []
   },
   "outputs": [
    {
     "name": "stdout",
     "output_type": "stream",
     "text": [
      "3.758039712905884\n",
      "3.370584011077881\n",
      "3.1537325382232666\n",
      "3.02016544342041\n",
      "2.9275617599487305\n",
      "2.8602912425994873\n",
      "2.809643268585205\n",
      "2.770033836364746\n",
      "2.7380166053771973\n",
      "2.711449146270752\n",
      "2.688962697982788\n",
      "2.6696534156799316\n",
      "2.652899742126465\n",
      "2.6382505893707275\n",
      "2.625364303588867\n",
      "2.6139698028564453\n",
      "2.60384464263916\n",
      "2.5948050022125244\n",
      "2.5866966247558594\n",
      "2.579390048980713\n",
      "2.5727767944335938\n",
      "2.566765069961548\n",
      "2.5612776279449463\n",
      "2.5562491416931152\n",
      "2.5516247749328613\n",
      "2.5473577976226807\n",
      "2.543407678604126\n",
      "2.5397415161132812\n",
      "2.536329746246338\n",
      "2.5331482887268066\n",
      "2.530174970626831\n",
      "2.5273914337158203\n",
      "2.5247812271118164\n",
      "2.5223300457000732\n",
      "2.520024538040161\n",
      "2.5178537368774414\n",
      "2.5158066749572754\n",
      "2.5138742923736572\n",
      "2.5120487213134766\n",
      "2.5103206634521484\n",
      "2.508683919906616\n",
      "2.507131576538086\n",
      "2.5056586265563965\n",
      "2.504258394241333\n",
      "2.502926826477051\n",
      "2.5016584396362305\n",
      "2.5004498958587646\n",
      "2.4992966651916504\n",
      "2.4981954097747803\n",
      "2.497142791748047\n",
      "2.496135950088501\n",
      "2.4951717853546143\n",
      "2.4942476749420166\n",
      "2.493361711502075\n",
      "2.4925107955932617\n",
      "2.4916937351226807\n",
      "2.490908145904541\n",
      "2.490152359008789\n",
      "2.489424467086792\n",
      "2.4887237548828125\n",
      "2.4880483150482178\n",
      "2.487396001815796\n",
      "2.486767053604126\n",
      "2.486159086227417\n",
      "2.4855716228485107\n",
      "2.4850034713745117\n",
      "2.4844539165496826\n",
      "2.483922004699707\n",
      "2.4834070205688477\n",
      "2.482907295227051\n",
      "2.4824235439300537\n",
      "2.4819540977478027\n",
      "2.4814984798431396\n",
      "2.481055974960327\n",
      "2.480626344680786\n",
      "2.4802095890045166\n",
      "2.479804039001465\n",
      "2.4794094562530518\n",
      "2.4790260791778564\n",
      "2.4786529541015625\n",
      "2.4782896041870117\n",
      "2.477936267852783\n",
      "2.4775922298431396\n",
      "2.4772562980651855\n",
      "2.4769299030303955\n",
      "2.4766108989715576\n",
      "2.4763004779815674\n",
      "2.4759974479675293\n",
      "2.4757020473480225\n",
      "2.4754137992858887\n",
      "2.4751322269439697\n",
      "2.4748573303222656\n",
      "2.4745891094207764\n",
      "2.474327325820923\n",
      "2.4740712642669678\n",
      "2.473820924758911\n",
      "2.473576784133911\n",
      "2.4733378887176514\n",
      "2.473104476928711\n",
      "2.4728758335113525\n"
     ]
    }
   ],
   "source": [
    "# now do it in loop\n",
    "for k in range(100):\n",
    "    # forward pass\n",
    "    xenc = F.one_hot(xs, num_classes=27).float()\n",
    "    # cause xenc is one hot encoded\n",
    "    # logits will just select that row of W\n",
    "    logits = xenc @ W\n",
    "    counts = logits.exp()\n",
    "    probs = counts / counts.sum(1, keepdims=True)\n",
    "    loss = -probs[torch.arange(len(xenc)), ys].log().mean()\n",
    "    print(loss.item())\n",
    "\n",
    "    # backward pass\n",
    "    W.grad = None\n",
    "    loss.backward()\n",
    "\n",
    "    # update\n",
    "    W.data += -50 * W.grad"
   ]
  },
  {
   "cell_type": "code",
   "execution_count": 29,
   "id": "47186fc4",
   "metadata": {
    "execution": {
     "iopub.execute_input": "2024-12-28T15:23:12.426960Z",
     "iopub.status.busy": "2024-12-28T15:23:12.426561Z",
     "iopub.status.idle": "2024-12-28T15:23:12.430511Z",
     "shell.execute_reply": "2024-12-28T15:23:12.429585Z"
    },
    "papermill": {
     "duration": 0.016586,
     "end_time": "2024-12-28T15:23:12.432345",
     "exception": false,
     "start_time": "2024-12-28T15:23:12.415759",
     "status": "completed"
    },
    "tags": []
   },
   "outputs": [],
   "source": [
    "# we can have model smoothing in Neural net also\n",
    "# if we force our weights to be near 0 or same to each other\n",
    "# then our probibility will be more uniform\n",
    "# and this is called normalization"
   ]
  },
  {
   "cell_type": "code",
   "execution_count": 30,
   "id": "392792b6",
   "metadata": {
    "execution": {
     "iopub.execute_input": "2024-12-28T15:23:12.454329Z",
     "iopub.status.busy": "2024-12-28T15:23:12.453928Z",
     "iopub.status.idle": "2024-12-28T15:23:12.459329Z",
     "shell.execute_reply": "2024-12-28T15:23:12.458258Z"
    },
    "papermill": {
     "duration": 0.018263,
     "end_time": "2024-12-28T15:23:12.461042",
     "exception": false,
     "start_time": "2024-12-28T15:23:12.442779",
     "status": "completed"
    },
    "tags": []
   },
   "outputs": [
    {
     "name": "stdout",
     "output_type": "stream",
     "text": [
      "{1: 'a', 2: 'b', 3: 'c', 4: 'd', 5: 'e', 6: 'f', 7: 'g', 8: 'h', 9: 'i', 10: 'j', 11: 'k', 12: 'l', 13: 'm', 14: 'n', 15: 'o', 16: 'p', 17: 'q', 18: 'r', 19: 's', 20: 't', 21: 'u', 22: 'v', 23: 'w', 24: 'x', 25: 'y', 26: 'z', 0: '.'}\n"
     ]
    }
   ],
   "source": [
    "itos = {i:s for s,i in stoi.items()}\n",
    "print(itos)"
   ]
  },
  {
   "cell_type": "code",
   "execution_count": 31,
   "id": "42bea078",
   "metadata": {
    "execution": {
     "iopub.execute_input": "2024-12-28T15:23:12.482919Z",
     "iopub.status.busy": "2024-12-28T15:23:12.482563Z",
     "iopub.status.idle": "2024-12-28T15:23:12.517636Z",
     "shell.execute_reply": "2024-12-28T15:23:12.516238Z"
    },
    "papermill": {
     "duration": 0.048459,
     "end_time": "2024-12-28T15:23:12.519666",
     "exception": false,
     "start_time": "2024-12-28T15:23:12.471207",
     "status": "completed"
    },
    "tags": []
   },
   "outputs": [
    {
     "name": "stdout",
     "output_type": "stream",
     "text": [
      "junide.\n",
      "janasah.\n",
      "p.\n",
      "cfay.\n",
      "a.\n"
     ]
    }
   ],
   "source": [
    "# generate names\n",
    "g = torch.Generator().manual_seed(2147483647)\n",
    "\n",
    "# generate 5 names\n",
    "for i in range(5):\n",
    "    out = []\n",
    "    # start with start char\n",
    "    ix = 0\n",
    "    while True:\n",
    "        # run neural net on each char\n",
    "        xenc = F.one_hot(torch.tensor([ix]), num_classes=27).float()\n",
    "        logits = xenc @ W\n",
    "        counts = logits.exp()\n",
    "        p = counts / counts.sum(1, keepdims=True)\n",
    "\n",
    "        ix = torch.multinomial(p, num_samples=1, replacement=True, generator=g).item()\n",
    "        out.append(itos[ix])\n",
    "        if ix == 0:\n",
    "            break\n",
    "    print(''.join(out))"
   ]
  },
  {
   "cell_type": "code",
   "execution_count": null,
   "id": "14c77d2c",
   "metadata": {
    "papermill": {
     "duration": 0.01016,
     "end_time": "2024-12-28T15:23:12.540159",
     "exception": false,
     "start_time": "2024-12-28T15:23:12.529999",
     "status": "completed"
    },
    "tags": []
   },
   "outputs": [],
   "source": []
  }
 ],
 "metadata": {
  "kaggle": {
   "accelerator": "none",
   "dataSources": [],
   "dockerImageVersionId": 30822,
   "isGpuEnabled": false,
   "isInternetEnabled": true,
   "language": "python",
   "sourceType": "notebook"
  },
  "kernelspec": {
   "display_name": "Python 3",
   "language": "python",
   "name": "python3"
  },
  "language_info": {
   "codemirror_mode": {
    "name": "ipython",
    "version": 3
   },
   "file_extension": ".py",
   "mimetype": "text/x-python",
   "name": "python",
   "nbconvert_exporter": "python",
   "pygments_lexer": "ipython3",
   "version": "3.10.12"
  },
  "papermill": {
   "default_parameters": {},
   "duration": 20.624204,
   "end_time": "2024-12-28T15:23:14.845644",
   "environment_variables": {},
   "exception": null,
   "input_path": "__notebook__.ipynb",
   "output_path": "__notebook__.ipynb",
   "parameters": {},
   "start_time": "2024-12-28T15:22:54.221440",
   "version": "2.6.0"
  }
 },
 "nbformat": 4,
 "nbformat_minor": 5
}
